{
 "cells": [
  {
   "cell_type": "code",
   "execution_count": 1,
   "metadata": {},
   "outputs": [],
   "source": [
    "import os,sys,inspect\n",
    "current_dir = os.path.dirname(os.path.abspath(inspect.getfile(inspect.currentframe())))\n",
    "parent_dir = os.path.dirname(current_dir)\n",
    "sys.path.insert(1, parent_dir+r'\\Covariance and Adjacency Matrix')\n",
    "from DataManager import dataManager"
   ]
  },
  {
   "cell_type": "code",
   "execution_count": 2,
   "metadata": {},
   "outputs": [
    {
     "name": "stdout",
     "output_type": "stream",
     "text": [
      "name: X_test\n",
      "shape: (640, 31, 1518)\n",
      "-----------------------\n",
      "name: X_train\n",
      "shape: (640, 31, 1395)\n",
      "-----------------------\n",
      "name: clip_sizes_test\n",
      "shape: (2, 129)\n",
      "-----------------------\n",
      "name: clip_sizes_train\n",
      "shape: (2, 127)\n",
      "-----------------------\n",
      "name: conv_sizes\n",
      "shape: (1, 1)\n",
      "-----------------------\n",
      "name: n_pre_szr\n",
      "shape: (1, 1)\n",
      "-----------------------\n",
      "name: sel_win_nums_test\n",
      "shape: (1, 1518)\n",
      "-----------------------\n",
      "name: sel_win_nums_train\n",
      "shape: (1, 1395)\n",
      "-----------------------\n",
      "name: soz_ch_ids\n",
      "shape: (5, 1)\n",
      "-----------------------\n",
      "name: stride_sec\n",
      "shape: (1, 1)\n",
      "-----------------------\n",
      "name: window_size_sec\n",
      "shape: (1, 1)\n",
      "-----------------------\n",
      "name: y_test\n",
      "shape: (1, 1518)\n",
      "-----------------------\n",
      "name: y_train\n",
      "shape: (1, 1395)\n",
      "-----------------------\n"
     ]
    }
   ],
   "source": [
    "import h5py\n",
    "import numpy as np\n",
    "filepath = parent_dir+'\\datasets\\sample_patients\\pat_FR_620.mat'\n",
    "variables = {}\n",
    "f = h5py.File(filepath, 'r')\n",
    "for k, v in f.items():\n",
    "    variables[k] = np.array(v)\n",
    "for key in variables.keys():\n",
    "    print(\"name:\", key)\n",
    "    print(\"shape:\", variables[key].shape)\n",
    "    print(\"-----------------------\")\n",
    "#print sample EGG signal from one node"
   ]
  },
  {
   "cell_type": "code",
   "execution_count": null,
   "metadata": {},
   "outputs": [],
   "source": [
    "dm = dataManager(variables[\"X_train\"],variables[\"X_test\"],variables[\"y_train\"],variables[\"y_test\"],10**(-4))\n",
    "print(\"Indices below are removed as they are trivial data:\")\n",
    "print(dm.train_indices)\n",
    "print(dm.test_indices)"
   ]
  },
  {
   "cell_type": "code",
   "execution_count": null,
   "metadata": {},
   "outputs": [],
   "source": [
    "import torch\n",
    "import torch.autograd\n",
    "import torch.nn as nn\n",
    "import torch.nn.functional as F\n",
    "import numpy as np\n",
    "sys.path.insert(1, parent_dir+r'\\Unsupervised GCN')\n",
    "from GCN import *"
   ]
  }
 ],
 "metadata": {
  "kernelspec": {
   "display_name": "Python 3",
   "language": "python",
   "name": "python3"
  },
  "language_info": {
   "codemirror_mode": {
    "name": "ipython",
    "version": 3
   },
   "file_extension": ".py",
   "mimetype": "text/x-python",
   "name": "python",
   "nbconvert_exporter": "python",
   "pygments_lexer": "ipython3",
   "version": "3.8.5"
  }
 },
 "nbformat": 4,
 "nbformat_minor": 4
}
