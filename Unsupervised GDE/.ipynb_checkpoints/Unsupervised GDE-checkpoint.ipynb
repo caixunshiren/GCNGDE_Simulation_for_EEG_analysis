{
 "cells": [
  {
   "cell_type": "code",
   "execution_count": 1,
   "metadata": {},
   "outputs": [],
   "source": [
    "import os,sys,inspect\n",
    "current_dir = os.path.dirname(os.path.abspath(inspect.getfile(inspect.currentframe())))\n",
    "parent_dir = os.path.dirname(current_dir)\n",
    "sys.path.insert(1, parent_dir+'\\Covariance and Adjacency Matrix')\n",
    "from DataManager import dataManager"
   ]
  },
  {
   "cell_type": "code",
   "execution_count": 2,
   "metadata": {},
   "outputs": [
    {
     "name": "stdout",
     "output_type": "stream",
     "text": [
      "name: X_test\n",
      "shape: (640, 31, 1518)\n",
      "-----------------------\n",
      "name: X_train\n",
      "shape: (640, 31, 1395)\n",
      "-----------------------\n",
      "name: clip_sizes_test\n",
      "shape: (2, 129)\n",
      "-----------------------\n",
      "name: clip_sizes_train\n",
      "shape: (2, 127)\n",
      "-----------------------\n",
      "name: conv_sizes\n",
      "shape: (1, 1)\n",
      "-----------------------\n",
      "name: n_pre_szr\n",
      "shape: (1, 1)\n",
      "-----------------------\n",
      "name: sel_win_nums_test\n",
      "shape: (1, 1518)\n",
      "-----------------------\n",
      "name: sel_win_nums_train\n",
      "shape: (1, 1395)\n",
      "-----------------------\n",
      "name: soz_ch_ids\n",
      "shape: (5, 1)\n",
      "-----------------------\n",
      "name: stride_sec\n",
      "shape: (1, 1)\n",
      "-----------------------\n",
      "name: window_size_sec\n",
      "shape: (1, 1)\n",
      "-----------------------\n",
      "name: y_test\n",
      "shape: (1, 1518)\n",
      "-----------------------\n",
      "name: y_train\n",
      "shape: (1, 1395)\n",
      "-----------------------\n"
     ]
    },
    {
     "data": {
      "text/plain": [
       "[<matplotlib.lines.Line2D at 0x26ad9029580>]"
      ]
     },
     "execution_count": 2,
     "metadata": {},
     "output_type": "execute_result"
    },
    {
     "data": {
      "image/png": "[encoded data removed]",
      "text/plain": [
       "<Figure size 432x288 with 1 Axes>"
      ]
     },
     "metadata": {
      "needs_background": "light"
     },
     "output_type": "display_data"
    }
   ],
   "source": [
    "import h5py\n",
    "import numpy as np\n",
    "filepath = parent_dir+'\\datasets\\sample_patients\\pat_FR_620.mat'\n",
    "variables = {}\n",
    "f = h5py.File(filepath, 'r')\n",
    "for k, v in f.items():\n",
    "    variables[k] = np.array(v)\n",
    "for key in variables.keys():\n",
    "    print(\"name:\", key)\n",
    "    print(\"shape:\", variables[key].shape)\n",
    "    print(\"-----------------------\")\n",
    "#print sample EGG signal from one node\n",
    "import matplotlib.pyplot as plt\n",
    "\n",
    "plt.figure()\n",
    "ax = plt.axes()\n",
    "X_train = variables[\"X_train\"]\n",
    "X_test = variables[\"X_test\"]\n",
    "\n",
    "ax.plot(np.linspace(0, 10, 640), X_train[:,5,0])"
   ]
  },
  {
   "cell_type": "code",
   "execution_count": 3,
   "metadata": {},
   "outputs": [],
   "source": [
    "def shuffle_train_test(variables, train_ratio = 0.7, indices = None, print_summary = True):\n",
    "    data_all = np.concatenate((variables[\"X_train\"], variables[\"X_test\"]), axis = 2)\n",
    "    labels_all = np.concatenate((variables[\"y_train\"], variables[\"y_test\"]), axis = 1)\n",
    "    #if indices == None:\n",
    "    #    indices = np.random.permutation(data_all.shape[2])\n",
    "    split_ind = int(train_ratio * data_all.shape[2])\n",
    "    training_idx, test_idx = indices[:split_ind], indices[split_ind:]\n",
    "    #print(split_ind, training_idx.shape)\n",
    "    variables[\"X_train\"], variables[\"X_test\"] = data_all[:,:,training_idx], data_all[:,:,test_idx]\n",
    "    variables[\"y_train\"], variables[\"y_test\"] = labels_all[:,training_idx], labels_all[:,test_idx]\n",
    "    if print_summary:\n",
    "        print(\"X_train:\", variables[\"X_train\"].shape)\n",
    "        print(\"X_test:\", variables[\"X_test\"].shape)\n",
    "        print(\"y_train:\", variables[\"y_train\"].shape, \"Positive labes:\", np.sum(variables[\"y_train\"]))\n",
    "        print(\"y_test:\", variables[\"y_test\"].shape, \"Positive labes:\",np.sum(variables[\"y_test\"]))\n",
    "    return variables, indices"
   ]
  },
  {
   "cell_type": "code",
   "execution_count": 4,
   "metadata": {},
   "outputs": [
    {
     "name": "stdout",
     "output_type": "stream",
     "text": [
      "X_train: (640, 31, 1456)\n",
      "X_test: (640, 31, 1457)\n",
      "y_train: (1, 1456) Positive labes: 159.0\n",
      "y_test: (1, 1457) Positive labes: 162.0\n"
     ]
    }
   ],
   "source": [
    "indices = np.load(\"shuffle5050.npy\")\n",
    "variables, indices = shuffle_train_test(variables, indices = indices, train_ratio = 0.5, print_summary = True)"
   ]
  },
  {
   "cell_type": "code",
   "execution_count": 5,
   "metadata": {},
   "outputs": [
    {
     "name": "stdout",
     "output_type": "stream",
     "text": [
      "--------data manager successfully initialized--------\n"
     ]
    }
   ],
   "source": [
    "dm = dataManager(variables[\"X_train\"],variables[\"X_test\"],variables[\"y_train\"],variables[\"y_test\"],10**(-4))\n",
    "#dm.normalize()\n",
    "#dm.sanity_check(4.514*10**-1, -10**-3, parent_dir)"
   ]
  },
  {
   "cell_type": "markdown",
   "metadata": {},
   "source": [
    "## create normalized adjacency matrix \n"
   ]
  },
  {
   "cell_type": "code",
   "execution_count": 6,
   "metadata": {},
   "outputs": [],
   "source": [
    "import matplotlib.pyplot as plt\n",
    "from scipy.linalg import fractional_matrix_power\n",
    "def show_heat_map(m):\n",
    "    plt.imshow(m, cmap='hot', interpolation='nearest')\n",
    "    plt.colorbar()\n",
    "    plt.show()\n",
    "    \n",
    "    \n",
    "def create_DAD(adj):\n",
    "    np.fill_diagonal(adj, 1)\n",
    "    rowsum = np.sum(adj, axis=1)\n",
    "    d = np.diag_indices(adj.shape[0]) \n",
    "    D = np.zeros(adj.shape)\n",
    "    D[d] = rowsum\n",
    "    #print(rowsum)\n",
    "    D = fractional_matrix_power(D, -0.5)\n",
    "    #print(D)\n",
    "    return D@adj@D"
   ]
  },
  {
   "cell_type": "code",
   "execution_count": 7,
   "metadata": {},
   "outputs": [
    {
     "data": {
      "image/png": "[encoded data removed]",
      "text/plain": [
       "<Figure size 432x288 with 2 Axes>"
      ]
     },
     "metadata": {
      "needs_background": "light"
     },
     "output_type": "display_data"
    },
    {
     "data": {
      "image/png": "[encoded data removed]",
      "text/plain": [
       "<Figure size 432x288 with 2 Axes>"
      ]
     },
     "metadata": {
      "needs_background": "light"
     },
     "output_type": "display_data"
    },
    {
     "data": {
      "image/png": "[encoded data removed]",
      "text/plain": [
       "<Figure size 432x288 with 2 Axes>"
      ]
     },
     "metadata": {
      "needs_background": "light"
     },
     "output_type": "display_data"
    }
   ],
   "source": [
    "show_heat_map(dm.P_avg_train)\n",
    "#create DAD from dm\n",
    "n = 1*10**-3\n",
    "dm.re_threshold(n)\n",
    "show_heat_map(dm.A_train)\n",
    "show_heat_map(create_DAD(dm.A_train))\n",
    "Araw = dm.A_train"
   ]
  },
  {
   "cell_type": "markdown",
   "metadata": {},
   "source": [
    "## Modified GDE Class"
   ]
  },
  {
   "cell_type": "code",
   "execution_count": 8,
   "metadata": {},
   "outputs": [],
   "source": [
    "# solvers.\n",
    "\n",
    "\"\"\"\n",
    "General Runge-Kutta Solver.\n",
    "https://en.wikipedia.org/wiki/Runge–Kutta_methods\n",
    "\n",
    "b_tableau, nested tuple, contains weights of integration. \n",
    "f, function, is the function to iterate. Should only be a function of x, t. \n",
    "x0, torch.Tensor, is the intial condition.\n",
    "t0, torch.Tensor, is the start time of integration.\n",
    "t1, torch.Tensor, is the end time of integration.\n",
    "N, int, is the desired number of timesteps.\n",
    "\n",
    "returns x, torch.Tensor, estimated solution of dy/dx = f(x,t) at time t1. \n",
    "\"\"\"\n",
    "\n",
    "def explicit_RK(b_tableau, f, x0, t0, t1, N):        \n",
    "    h = (t1 - t0) / float(N) # calculate step size\n",
    "    x = x0 # initialize saved dynamics\n",
    "    mesh = (t0 + h * i for i in range(N)) # generator of time values\n",
    "    for time in mesh:\n",
    "        \n",
    "        k = [f(x, time + h*b_tableau[0][0])] # Covers the first row of the Butcher tableau. \n",
    "        for i, row in enumerate(b_tableau[1:-1]): # Covers the middle rows of the Butcher tableau.\n",
    "            k.append(f(x + sum(w * k[idx] * h for idx, w in enumerate(row[1:])), time + row[0] * h)) # calculate k's. \n",
    "        x = x + sum(w * k_i * h for k_i, w in zip(k, b_tableau[-1])) # calculate timestep \n",
    "    return x\n",
    "\n",
    "'''\n",
    "map everything out:\n",
    "'y' here is H(t) = H(t-1) + (DAD dot H(t-1) dot W)\n",
    "'''\n",
    "RK4 = ((  0,),\n",
    "       (1/2, 1/2,),\n",
    "       (1/2,   0,  1/2,),\n",
    "       (  1,   0,    0,   1,),\n",
    "       (1/6, 1/3, 1/3, 1/6,))\n",
    "\n",
    "EF = ((0,),\n",
    "      (1,))"
   ]
  },
  {
   "cell_type": "code",
   "execution_count": 39,
   "metadata": {},
   "outputs": [],
   "source": [
    "import torch\n",
    "import torchvision\n",
    "import torch.nn as nn\n",
    "import torch.nn.functional as F\n",
    "from torch.autograd.functional import vjp\n",
    "import time"
   ]
  },
  {
   "cell_type": "code",
   "execution_count": null,
   "metadata": {},
   "outputs": [],
   "source": []
  },
  {
   "cell_type": "code",
   "execution_count": 40,
   "metadata": {},
   "outputs": [],
   "source": [
    "# GCN Block for body layers\n",
    "class Block(nn.Module):\n",
    "    def __init__(self, A, features, activation, num_layers):\n",
    "        super(Block, self).__init__()\n",
    "        self.features = features\n",
    "        self.activation = activation\n",
    "        self.num_layers = num_layers\n",
    "        self.A = A\n",
    "\n",
    "    def forward(self, x, t, net_params):\n",
    "        weights = net_params.view(self.num_layers, self.features, self.features)\n",
    "        \n",
    "        x = x.view(-1, self.A.size(1), self.features)\n",
    "        for i in range(self.num_layers):\n",
    "            x = self.A.matmul(x).matmul(weights[i,:,:])\n",
    "            x = self.activation(x)\n",
    "\n",
    "        return x\n",
    "\n",
    "    def num_params(self):\n",
    "        return self.features * self.features * self.num_layers"
   ]
  },
  {
   "cell_type": "code",
   "execution_count": 41,
   "metadata": {},
   "outputs": [],
   "source": [
    "# Convenience tuple -> tensor function\n",
    "def flatten(*args):\n",
    "    return(torch.cat(tuple(torch.flatten(arg) for arg in args), dim=0).view(1,-1))\n",
    "\n",
    "# Convenience tensor -> tuple function\n",
    "def unflatten(x, n_e, sizes):\n",
    "    return (x[0, 0:n_e[0]].view(sizes[0]),\n",
    "            x[0, n_e[0]:n_e[0] + n_e[1]].view(sizes[1]),\n",
    "            x[0, (n_e[0] + n_e[1]):(n_e[0] + n_e[1] + n_e[2])].view(sizes[2]),\n",
    "            x[0, (n_e[0] + n_e[1] + n_e[2]):].view(sizes[3]),\n",
    "            )\n",
    "\n",
    "class Integrate(torch.autograd.Function):\n",
    "    def __deepcopy__(self, memo):\n",
    "        return Integrate(copy.deepcopy(memo))\n",
    "    \n",
    "    @staticmethod\n",
    "    def forward(ctx, Integrator, f, x0, t0, t1, N, net_params):\n",
    "        solution = Integrator(EF, lambda x, t: f(x, t, net_params), x0, t0, t1, N)\n",
    "\n",
    "        # Save for jacobian calculations in backward()\n",
    "        ctx.save_for_backward(x0,t0,t1,net_params)\n",
    "        ctx.solution = solution\n",
    "        ctx.Integrator = Integrator\n",
    "        ctx.N = N\n",
    "        ctx.f = f\n",
    "        \n",
    "        return solution\n",
    "    \n",
    "    @staticmethod\n",
    "    def backward(ctx, dL_dz1):\n",
    "        # Get all saved context\n",
    "        z0, t0, t1, net_params = ctx.saved_tensors\n",
    "        z1 = ctx.solution\n",
    "        N = ctx.N\n",
    "        f = ctx.f\n",
    "        \n",
    "        # Convenience sizes\n",
    "        batch_size = z0.size()[0]\n",
    "        img_len = int(z0.numel() / batch_size)\n",
    "\n",
    "        #print(dL_dz1.shape)\n",
    "        # Compute derivative w.r.t. to end time of integration\n",
    "        dL_dt1 = dL_dz1.reshape(batch_size,1,-1).bmm(f(z1, t1, net_params).reshape(batch_size,-1,1))  # Derivative of loss w.r.t t1\n",
    "        \n",
    "        #print(\"dL_dt1\", dL_dt1)\n",
    "        \n",
    "        # Initial Condition\n",
    "        num_elements = (z1.numel(), dL_dz1.numel(), batch_size * net_params.numel(), dL_dt1.numel())\n",
    "        sizes = (z1.size(), dL_dz1.size(), (batch_size, net_params.numel()), dL_dt1.size())\n",
    "        s0 = flatten(z1, dL_dz1, torch.zeros((batch_size, net_params.numel()), dtype=torch.float32, device=z1.device), -dL_dt1) # initial augmented state\n",
    "    \n",
    "        # augmented dynamics function\n",
    "        def aug_dynamics(s, t, theta):\n",
    "            s = unflatten(s, num_elements, sizes)\n",
    "            \n",
    "            with torch.enable_grad(): \n",
    "#                 gradients = [vjp(f, \n",
    "#                                  (s[0][i].unsqueeze(0), t, theta), \n",
    "#                                   v=-s[1][i].unsqueeze(0),\n",
    "#                                  )[1] for i in range(batch_size)]\n",
    "                gradients = vjp(f, \n",
    "                                 (s[0], t, theta), \n",
    "                                  v=-s[1],\n",
    "                                 )[1]\n",
    "                \n",
    "            return flatten(f(s[0],t,theta),\n",
    "                    torch.cat([gradients[0]], dim=0), \n",
    "                    torch.cat([gradients[2].unsqueeze(0) for i in range(batch_size)], dim=0), \n",
    "                    torch.cat([gradients[1].reshape(1,1) for i in range(batch_size)], dim=0),\n",
    "                   )#.unsqueeze(2)\n",
    "#             return flatten(f(s[0],t,theta),\n",
    "#                     torch.cat([gradient[0] for gradient in gradients], dim=0), \n",
    "#                     torch.cat([gradient[2].unsqueeze(0) for gradient in gradients], dim=0), \n",
    "#                     torch.cat([gradient[1].reshape(1,1) for gradient in gradients], dim=0),\n",
    "#                    )#.unsqueeze(2)\n",
    "\n",
    "        # Integrate backwards\n",
    "        with torch.enable_grad():\n",
    "            s = ctx.Integrator(EF, lambda x, t: aug_dynamics(x, t, net_params), s0, t1, t0, N)\n",
    "        \n",
    "        # Extract derivatives\n",
    "        _, dL_dz0, dL_dtheta, dL_dt0 = unflatten(s, num_elements, sizes)\n",
    "                \n",
    "        # must return something for every input to forward, None for non-tensors\n",
    "        return None, None, dL_dz0, dL_dt0, dL_dt1, None, dL_dtheta "
   ]
  },
  {
   "cell_type": "code",
   "execution_count": 42,
   "metadata": {},
   "outputs": [],
   "source": [
    "class SimularityMatrix(nn.Module):\n",
    "    def __init__(self, in_features):\n",
    "        super(SimularityMatrix, self).__init__()\n",
    "        self.in_features = in_features\n",
    "        \n",
    "        self.weight = nn.Parameter(torch.Tensor(in_features))\n",
    "        #self.weight = torch.squeeze(self.weight)\n",
    "        \n",
    "        self.reset_parameters()\n",
    "\n",
    "    def __repr__(self):\n",
    "        return self.__class__.__name__ + ' (' \\\n",
    "               + str(self.in_features) +')'\n",
    "    \n",
    "    def reset_parameters(self):\n",
    "        stdv = 1. / self.weight.size(0) ** 1/2\n",
    "        self.weight.data.uniform_(-stdv, stdv)\n",
    "    \n",
    "    #computes the simularity matrix:\n",
    "    # H, feature matrix --> N x D\n",
    "    # A, precomputed adj matrix --> NxN\n",
    "    # this method is pretty wack, need to find a vectorized way to do it.\n",
    "    def forward(self, H, H0):\n",
    "        #get hidden state (concate H0 and H)\n",
    "        Z = torch.cat((H0, H), 2)\n",
    "        M = Z.shape[0]\n",
    "        N = Z.shape[1]\n",
    "        D = Z.shape[2]\n",
    "        #centering normalize Z\n",
    "        Z = self.fcn(Z)\n",
    "        return self.get_sim_vectorized(Z)\n",
    "        \n",
    "    #simularity between node u and node v (shape Mx1xD)\n",
    "    #return the u,v index of the simularity matrix\n",
    "    def get_sim(self, u,v):\n",
    "        theta = torch.diag(self.weight)\n",
    "        #print(self.weight)\n",
    "        #print(u.shape, theta.shape, self.weight.shape, torch.transpose(v, 1, 2).shape)\n",
    "        return torch.squeeze(torch.matmul(torch.matmul(u, theta), torch.transpose(v, 1, 2)))\n",
    "        \n",
    "    def get_sim_vectorized(self, Z): # Z is M x N Sx 2D\n",
    "        theta = torch.diag(self.weight)\n",
    "        sim_matrix = torch.matmul(torch.matmul(Z, theta), torch.transpose(Z, 1, 2))\n",
    "        return sim_matrix\n",
    "        \n",
    "    #centering-normalizing (CN) operator\n",
    "    def fcn(self, Z):\n",
    "        norm_Z = (Z - torch.mean(Z, dim=2, keepdim=True))\n",
    "        return norm_Z/torch.std(Z, unbiased=True, dim=2, keepdim=True)\n",
    "        #(((1/(self.in_features-1)) * torch.sum(norm_Z**2, dim = 2, keepdim = True))**(1/2))"
   ]
  },
  {
   "cell_type": "code",
   "execution_count": 43,
   "metadata": {},
   "outputs": [],
   "source": [
    "class ODENet(nn.Module):\n",
    "    def __init__(self, solver, body_channels, hidden_layers, A, solver_params):\n",
    "        super(ODENet, self).__init__()\n",
    "        \n",
    "        # Graph Laplacian\n",
    "        self.A = A\n",
    "        \n",
    "        # Controls amount of parameters\n",
    "        self.body_channels = body_channels\n",
    "        self.f = Block(A, body_channels, F.relu, hidden_layers)\n",
    "        \n",
    "        # Head\n",
    "        #self.head = GCN(A, in_channels, body_channels)\n",
    "        \n",
    "        # Body\n",
    "        self.int_f = solver\n",
    "        self.Integrate = Integrate\n",
    "        self.solver_params = solver_params\n",
    "        self.N = solver_params[\"N\"]\n",
    "        self.h = (solver_params[\"t1\"] - solver_params[\"t0\"]) / solver_params[\"N\"]\n",
    "        self.t0 = torch.tensor(float(solver_params[\"t0\"]), requires_grad=True)\n",
    "        self.t1 = torch.tensor(float(solver_params[\"t1\"]), requires_grad=True)\n",
    "        \n",
    "        self.net_params = torch.nn.parameter.Parameter(torch.Tensor(self.f.num_params()).normal_(mean=0, std=0.1,generator=None), requires_grad=True)\n",
    "\n",
    "        # Tail\n",
    "        self.tail = SimularityMatrix(body_channels*2)\n",
    "    \n",
    "    def _apply(self, fn):\n",
    "        super(ODENet, self)._apply(fn)\n",
    "        self.t0 = fn(self.t0)\n",
    "        self.t1 = fn(self.t1)\n",
    "        return self\n",
    "    \n",
    "    def forward(self, h_0):\n",
    "        x = self.Integrate.apply(self.int_f, self.f, h_0, self.t0, self.t1, self.N, self.net_params) # Vanilla RK4\n",
    "        x = self.tail(x, h_0)\n",
    "        return x"
   ]
  },
  {
   "cell_type": "code",
   "execution_count": 44,
   "metadata": {},
   "outputs": [],
   "source": [
    "class sim_loss(torch.nn.Module):\n",
    "\n",
    "    def __init__(self):\n",
    "        super(sim_loss,self).__init__()\n",
    "\n",
    "    def forward(self, sim_matrix, A, epsilon = 1e-8):\n",
    "        A_tf = (A!=0)\n",
    "        M = sim_matrix.shape[0]\n",
    "        abs_N = torch.sum(A_tf, dim = 1, keepdim = True) # Nx1 matrix\n",
    "        \n",
    "        logexp_S = torch.log(torch.sum(torch.exp(sim_matrix), dim = 2, keepdim = True))\n",
    "        \n",
    "        \n",
    "        obj_vector = (torch.sum(A_tf*sim_matrix, dim = 2, keepdim = True) - abs_N * logexp_S)\n",
    "        return -(1/M)*torch.sum(obj_vector)"
   ]
  },
  {
   "cell_type": "code",
   "execution_count": 45,
   "metadata": {},
   "outputs": [],
   "source": [
    "#save & load checkpoint\n",
    "import shutil\n",
    "from torchsummary import summary\n",
    "from tqdm import tqdm\n",
    "def save_ckp(state, f_path):\n",
    "    torch.save(state, f_path)\n",
    "    print(\"model saved\")\n",
    "    \n",
    "def load_ckp(checkpoint_path):\n",
    "    checkpoint = torch.load(checkpoint_path)\n",
    "    return checkpoint\n",
    "\n",
    "# takes in numpy arrays\n",
    "def train_GDE(A, X_train, X_test, checkpoint, load = False, print_summary = True):\n",
    "    #preprocess inputs\n",
    "    A = torch.from_numpy(A).float()\n",
    "    X_train = torch.from_numpy(X_train).float()\n",
    "    X_test = torch.from_numpy(X_test).float()\n",
    "    device = torch.device('cuda') if torch.cuda.is_available() else torch.device('cpu')\n",
    "    parameters = checkpoint['parameters']\n",
    "    cumepoch = 0\n",
    "    A = A.to(device)\n",
    "    input_features = X_train.to(device)\n",
    "    valid_features = X_test.to(device)\n",
    "    \n",
    "    #(solver, body_channels, hidden_layers, A, solver_params)\n",
    "    #initialize model\n",
    "    model = ODENet(parameters['solver'], parameters['body'], parameters['hidden_layers'], A, parameters['solver_params']).to(device)\n",
    "    optimizer = torch.optim.Adam(model.parameters(), lr=parameters['learning_rate'], weight_decay=parameters['weight_decay'])\n",
    "    criterion = sim_loss()\n",
    "    \n",
    "    #load past checkpoint if any\n",
    "    if load:\n",
    "        model.load_state_dict(checkpoint['state_dict'])\n",
    "        optimizer.load_state_dict(checkpoint['optimizer'])\n",
    "        cumepoch = checkpoint['cumepoch']\n",
    "    \n",
    "    #print some model info\n",
    "    if print_summary:\n",
    "        print(model)\n",
    "        summary(model, [(31,640)])\n",
    "    \n",
    "    n_epochs = parameters['num_epochs']\n",
    "    batch_size = parameters['batch_size']\n",
    "\n",
    "    model.train()\n",
    "    for epoch in range(1, n_epochs+1):\n",
    "\n",
    "        permutation = torch.randperm(input_features.shape[0])\n",
    "\n",
    "        for i in tqdm(range(0,input_features.shape[0], batch_size)):\n",
    "            model.train()\n",
    "            optimizer.zero_grad()\n",
    "\n",
    "            indices = permutation[i:i+batch_size] if i+batch_size < input_features.shape[0] else permutation[i:] \n",
    "            batch_x= input_features[indices, :,:]\n",
    "            batch_v= valid_features[indices, :,:]\n",
    "\n",
    "            sim_matrix = model(batch_x).to(device)\n",
    "            train_loss = criterion(sim_matrix, A)\n",
    "            train_loss.backward()\n",
    "            optimizer.step()\n",
    "            \n",
    "            model.eval()\n",
    "            sim_matrix_valid = model(batch_v).to(device)\n",
    "            valid_loss = criterion(sim_matrix_valid, A)\n",
    "            \n",
    "            print(\"Epoch:\", epoch + cumepoch, \"  Batch:\", int((i/batch_size)+1),\"of size\",batch_size, \"  Train loss:\", float(train_loss), \"  Valid loss:\",float(valid_loss), end=\"\\r\")\n",
    "        print()\n",
    "    \n",
    "    checkpoint = {\n",
    "        'parameters': parameters,\n",
    "        'state_dict': model.state_dict(),\n",
    "        'optimizer': optimizer.state_dict(),\n",
    "        'cumepoch': n_epochs + cumepoch\n",
    "    }\n",
    "    \n",
    "    return model, checkpoint"
   ]
  },
  {
   "cell_type": "code",
   "execution_count": 46,
   "metadata": {},
   "outputs": [],
   "source": [
    "#create new model\n",
    "A = create_DAD(Araw)\n",
    "X_train = dm.X_train\n",
    "X_test = dm.X_test\n",
    "parameters = {\n",
    "    'body': dm.X_train.shape[2],\n",
    "    'solver': explicit_RK,\n",
    "    'solver_params': {\n",
    "    \"t0\": 0,\n",
    "    \"t1\": 0.25,\n",
    "    \"N\": 5\n",
    "     },\n",
    "    'hidden_layers': 2,\n",
    "    'M': dm.X_train.shape[0],\n",
    "    'batch_size': 128,\n",
    "    'num_epochs': 1,\n",
    "    'learning_rate': 1e-3,\n",
    "    'weight_decay': 5e-3\n",
    "}\n",
    "checkpoint = {'parameters': parameters}"
   ]
  },
  {
   "cell_type": "code",
   "execution_count": 47,
   "metadata": {},
   "outputs": [
    {
     "name": "stderr",
     "output_type": "stream",
     "text": [
      "\r",
      "  0%|          | 0/12 [00:00<?, ?it/s]"
     ]
    },
    {
     "name": "stdout",
     "output_type": "stream",
     "text": [
      "ODENet(\n",
      "  (f): Block()\n",
      "  (tail): SimularityMatrix (1280)\n",
      ")\n",
      "----------------------------------------------------------------\n",
      "        Layer (type)               Output Shape         Param #\n",
      "================================================================\n",
      "             Block-1              [-1, 31, 640]               0\n",
      "             Block-2              [-1, 31, 640]               0\n",
      "             Block-3              [-1, 31, 640]               0\n",
      "             Block-4              [-1, 31, 640]               0\n",
      "             Block-5              [-1, 31, 640]               0\n",
      "  SimularityMatrix-6               [-1, 31, 31]           1,280\n",
      "================================================================\n",
      "Total params: 1,280\n",
      "Trainable params: 1,280\n",
      "Non-trainable params: 0\n",
      "----------------------------------------------------------------\n",
      "Input size (MB): 0.08\n",
      "Forward/backward pass size (MB): 0.76\n",
      "Params size (MB): 0.00\n",
      "Estimated Total Size (MB): 0.84\n",
      "----------------------------------------------------------------\n"
     ]
    },
    {
     "name": "stderr",
     "output_type": "stream",
     "text": [
      "  0%|          | 0/12 [00:00<?, ?it/s]\n"
     ]
    },
    {
     "ename": "RuntimeError",
     "evalue": "CUDA out of memory. Tried to allocate 420.00 MiB (GPU 0; 8.00 GiB total capacity; 5.22 GiB already allocated; 156.87 MiB free; 5.51 GiB reserved in total by PyTorch)",
     "output_type": "error",
     "traceback": [
      "\u001b[1;31m---------------------------------------------------------------------------\u001b[0m",
      "\u001b[1;31mRuntimeError\u001b[0m                              Traceback (most recent call last)",
      "\u001b[1;32m<ipython-input-47-e6e3413e587c>\u001b[0m in \u001b[0;36m<module>\u001b[1;34m\u001b[0m\n\u001b[0;32m      1\u001b[0m \u001b[0mtorch\u001b[0m\u001b[1;33m.\u001b[0m\u001b[0mcuda\u001b[0m\u001b[1;33m.\u001b[0m\u001b[0mempty_cache\u001b[0m\u001b[1;33m(\u001b[0m\u001b[1;33m)\u001b[0m\u001b[1;33m\u001b[0m\u001b[1;33m\u001b[0m\u001b[0m\n\u001b[1;32m----> 2\u001b[1;33m \u001b[0mmodel\u001b[0m\u001b[1;33m,\u001b[0m \u001b[0mcheckpoint\u001b[0m \u001b[1;33m=\u001b[0m \u001b[0mtrain_GDE\u001b[0m\u001b[1;33m(\u001b[0m\u001b[0mA\u001b[0m\u001b[1;33m,\u001b[0m \u001b[0mX_train\u001b[0m\u001b[1;33m,\u001b[0m \u001b[0mX_test\u001b[0m\u001b[1;33m,\u001b[0m \u001b[0mcheckpoint\u001b[0m\u001b[1;33m,\u001b[0m \u001b[0mload\u001b[0m \u001b[1;33m=\u001b[0m \u001b[1;32mFalse\u001b[0m\u001b[1;33m,\u001b[0m \u001b[0mprint_summary\u001b[0m \u001b[1;33m=\u001b[0m \u001b[1;32mTrue\u001b[0m\u001b[1;33m)\u001b[0m\u001b[1;33m\u001b[0m\u001b[1;33m\u001b[0m\u001b[0m\n\u001b[0m",
      "\u001b[1;32m<ipython-input-45-ad6ef42c7b48>\u001b[0m in \u001b[0;36mtrain_GDE\u001b[1;34m(A, X_train, X_test, checkpoint, load, print_summary)\u001b[0m\n\u001b[0;32m     59\u001b[0m             \u001b[0msim_matrix\u001b[0m \u001b[1;33m=\u001b[0m \u001b[0mmodel\u001b[0m\u001b[1;33m(\u001b[0m\u001b[0mbatch_x\u001b[0m\u001b[1;33m)\u001b[0m\u001b[1;33m.\u001b[0m\u001b[0mto\u001b[0m\u001b[1;33m(\u001b[0m\u001b[0mdevice\u001b[0m\u001b[1;33m)\u001b[0m\u001b[1;33m\u001b[0m\u001b[1;33m\u001b[0m\u001b[0m\n\u001b[0;32m     60\u001b[0m             \u001b[0mtrain_loss\u001b[0m \u001b[1;33m=\u001b[0m \u001b[0mcriterion\u001b[0m\u001b[1;33m(\u001b[0m\u001b[0msim_matrix\u001b[0m\u001b[1;33m,\u001b[0m \u001b[0mA\u001b[0m\u001b[1;33m)\u001b[0m\u001b[1;33m\u001b[0m\u001b[1;33m\u001b[0m\u001b[0m\n\u001b[1;32m---> 61\u001b[1;33m             \u001b[0mtrain_loss\u001b[0m\u001b[1;33m.\u001b[0m\u001b[0mbackward\u001b[0m\u001b[1;33m(\u001b[0m\u001b[1;33m)\u001b[0m\u001b[1;33m\u001b[0m\u001b[1;33m\u001b[0m\u001b[0m\n\u001b[0m\u001b[0;32m     62\u001b[0m             \u001b[0moptimizer\u001b[0m\u001b[1;33m.\u001b[0m\u001b[0mstep\u001b[0m\u001b[1;33m(\u001b[0m\u001b[1;33m)\u001b[0m\u001b[1;33m\u001b[0m\u001b[1;33m\u001b[0m\u001b[0m\n\u001b[0;32m     63\u001b[0m \u001b[1;33m\u001b[0m\u001b[0m\n",
      "\u001b[1;32m~\\anaconda3\\lib\\site-packages\\torch\\tensor.py\u001b[0m in \u001b[0;36mbackward\u001b[1;34m(self, gradient, retain_graph, create_graph)\u001b[0m\n\u001b[0;32m    219\u001b[0m                 \u001b[0mretain_graph\u001b[0m\u001b[1;33m=\u001b[0m\u001b[0mretain_graph\u001b[0m\u001b[1;33m,\u001b[0m\u001b[1;33m\u001b[0m\u001b[1;33m\u001b[0m\u001b[0m\n\u001b[0;32m    220\u001b[0m                 create_graph=create_graph)\n\u001b[1;32m--> 221\u001b[1;33m         \u001b[0mtorch\u001b[0m\u001b[1;33m.\u001b[0m\u001b[0mautograd\u001b[0m\u001b[1;33m.\u001b[0m\u001b[0mbackward\u001b[0m\u001b[1;33m(\u001b[0m\u001b[0mself\u001b[0m\u001b[1;33m,\u001b[0m \u001b[0mgradient\u001b[0m\u001b[1;33m,\u001b[0m \u001b[0mretain_graph\u001b[0m\u001b[1;33m,\u001b[0m \u001b[0mcreate_graph\u001b[0m\u001b[1;33m)\u001b[0m\u001b[1;33m\u001b[0m\u001b[1;33m\u001b[0m\u001b[0m\n\u001b[0m\u001b[0;32m    222\u001b[0m \u001b[1;33m\u001b[0m\u001b[0m\n\u001b[0;32m    223\u001b[0m     \u001b[1;32mdef\u001b[0m \u001b[0mregister_hook\u001b[0m\u001b[1;33m(\u001b[0m\u001b[0mself\u001b[0m\u001b[1;33m,\u001b[0m \u001b[0mhook\u001b[0m\u001b[1;33m)\u001b[0m\u001b[1;33m:\u001b[0m\u001b[1;33m\u001b[0m\u001b[1;33m\u001b[0m\u001b[0m\n",
      "\u001b[1;32m~\\anaconda3\\lib\\site-packages\\torch\\autograd\\__init__.py\u001b[0m in \u001b[0;36mbackward\u001b[1;34m(tensors, grad_tensors, retain_graph, create_graph, grad_variables)\u001b[0m\n\u001b[0;32m    128\u001b[0m         \u001b[0mretain_graph\u001b[0m \u001b[1;33m=\u001b[0m \u001b[0mcreate_graph\u001b[0m\u001b[1;33m\u001b[0m\u001b[1;33m\u001b[0m\u001b[0m\n\u001b[0;32m    129\u001b[0m \u001b[1;33m\u001b[0m\u001b[0m\n\u001b[1;32m--> 130\u001b[1;33m     Variable._execution_engine.run_backward(\n\u001b[0m\u001b[0;32m    131\u001b[0m         \u001b[0mtensors\u001b[0m\u001b[1;33m,\u001b[0m \u001b[0mgrad_tensors_\u001b[0m\u001b[1;33m,\u001b[0m \u001b[0mretain_graph\u001b[0m\u001b[1;33m,\u001b[0m \u001b[0mcreate_graph\u001b[0m\u001b[1;33m,\u001b[0m\u001b[1;33m\u001b[0m\u001b[1;33m\u001b[0m\u001b[0m\n\u001b[0;32m    132\u001b[0m         allow_unreachable=True)  # allow_unreachable flag\n",
      "\u001b[1;32m~\\anaconda3\\lib\\site-packages\\torch\\autograd\\function.py\u001b[0m in \u001b[0;36mapply\u001b[1;34m(self, *args)\u001b[0m\n\u001b[0;32m     87\u001b[0m     \u001b[1;32mdef\u001b[0m \u001b[0mapply\u001b[0m\u001b[1;33m(\u001b[0m\u001b[0mself\u001b[0m\u001b[1;33m,\u001b[0m \u001b[1;33m*\u001b[0m\u001b[0margs\u001b[0m\u001b[1;33m)\u001b[0m\u001b[1;33m:\u001b[0m\u001b[1;33m\u001b[0m\u001b[1;33m\u001b[0m\u001b[0m\n\u001b[0;32m     88\u001b[0m         \u001b[1;31m# _forward_cls is defined by derived class\u001b[0m\u001b[1;33m\u001b[0m\u001b[1;33m\u001b[0m\u001b[1;33m\u001b[0m\u001b[0m\n\u001b[1;32m---> 89\u001b[1;33m         \u001b[1;32mreturn\u001b[0m \u001b[0mself\u001b[0m\u001b[1;33m.\u001b[0m\u001b[0m_forward_cls\u001b[0m\u001b[1;33m.\u001b[0m\u001b[0mbackward\u001b[0m\u001b[1;33m(\u001b[0m\u001b[0mself\u001b[0m\u001b[1;33m,\u001b[0m \u001b[1;33m*\u001b[0m\u001b[0margs\u001b[0m\u001b[1;33m)\u001b[0m  \u001b[1;31m# type: ignore\u001b[0m\u001b[1;33m\u001b[0m\u001b[1;33m\u001b[0m\u001b[0m\n\u001b[0m\u001b[0;32m     90\u001b[0m \u001b[1;33m\u001b[0m\u001b[0m\n\u001b[0;32m     91\u001b[0m \u001b[1;33m\u001b[0m\u001b[0m\n",
      "\u001b[1;32m<ipython-input-41-6fe6645c3a65>\u001b[0m in \u001b[0;36mbackward\u001b[1;34m(ctx, dL_dz1)\u001b[0m\n\u001b[0;32m     78\u001b[0m         \u001b[1;31m# Integrate backwards\u001b[0m\u001b[1;33m\u001b[0m\u001b[1;33m\u001b[0m\u001b[1;33m\u001b[0m\u001b[0m\n\u001b[0;32m     79\u001b[0m         \u001b[1;32mwith\u001b[0m \u001b[0mtorch\u001b[0m\u001b[1;33m.\u001b[0m\u001b[0menable_grad\u001b[0m\u001b[1;33m(\u001b[0m\u001b[1;33m)\u001b[0m\u001b[1;33m:\u001b[0m\u001b[1;33m\u001b[0m\u001b[1;33m\u001b[0m\u001b[0m\n\u001b[1;32m---> 80\u001b[1;33m             \u001b[0ms\u001b[0m \u001b[1;33m=\u001b[0m \u001b[0mctx\u001b[0m\u001b[1;33m.\u001b[0m\u001b[0mIntegrator\u001b[0m\u001b[1;33m(\u001b[0m\u001b[0mEF\u001b[0m\u001b[1;33m,\u001b[0m \u001b[1;32mlambda\u001b[0m \u001b[0mx\u001b[0m\u001b[1;33m,\u001b[0m \u001b[0mt\u001b[0m\u001b[1;33m:\u001b[0m \u001b[0maug_dynamics\u001b[0m\u001b[1;33m(\u001b[0m\u001b[0mx\u001b[0m\u001b[1;33m,\u001b[0m \u001b[0mt\u001b[0m\u001b[1;33m,\u001b[0m \u001b[0mnet_params\u001b[0m\u001b[1;33m)\u001b[0m\u001b[1;33m,\u001b[0m \u001b[0ms0\u001b[0m\u001b[1;33m,\u001b[0m \u001b[0mt1\u001b[0m\u001b[1;33m,\u001b[0m \u001b[0mt0\u001b[0m\u001b[1;33m,\u001b[0m \u001b[0mN\u001b[0m\u001b[1;33m)\u001b[0m\u001b[1;33m\u001b[0m\u001b[1;33m\u001b[0m\u001b[0m\n\u001b[0m\u001b[0;32m     81\u001b[0m \u001b[1;33m\u001b[0m\u001b[0m\n\u001b[0;32m     82\u001b[0m         \u001b[1;31m# Extract derivatives\u001b[0m\u001b[1;33m\u001b[0m\u001b[1;33m\u001b[0m\u001b[1;33m\u001b[0m\u001b[0m\n",
      "\u001b[1;32m<ipython-input-8-254598cc8a4d>\u001b[0m in \u001b[0;36mexplicit_RK\u001b[1;34m(b_tableau, f, x0, t0, t1, N)\u001b[0m\n\u001b[0;32m     24\u001b[0m         \u001b[1;32mfor\u001b[0m \u001b[0mi\u001b[0m\u001b[1;33m,\u001b[0m \u001b[0mrow\u001b[0m \u001b[1;32min\u001b[0m \u001b[0menumerate\u001b[0m\u001b[1;33m(\u001b[0m\u001b[0mb_tableau\u001b[0m\u001b[1;33m[\u001b[0m\u001b[1;36m1\u001b[0m\u001b[1;33m:\u001b[0m\u001b[1;33m-\u001b[0m\u001b[1;36m1\u001b[0m\u001b[1;33m]\u001b[0m\u001b[1;33m)\u001b[0m\u001b[1;33m:\u001b[0m \u001b[1;31m# Covers the middle rows of the Butcher tableau.\u001b[0m\u001b[1;33m\u001b[0m\u001b[1;33m\u001b[0m\u001b[0m\n\u001b[0;32m     25\u001b[0m             \u001b[0mk\u001b[0m\u001b[1;33m.\u001b[0m\u001b[0mappend\u001b[0m\u001b[1;33m(\u001b[0m\u001b[0mf\u001b[0m\u001b[1;33m(\u001b[0m\u001b[0mx\u001b[0m \u001b[1;33m+\u001b[0m \u001b[0msum\u001b[0m\u001b[1;33m(\u001b[0m\u001b[0mw\u001b[0m \u001b[1;33m*\u001b[0m \u001b[0mk\u001b[0m\u001b[1;33m[\u001b[0m\u001b[0midx\u001b[0m\u001b[1;33m]\u001b[0m \u001b[1;33m*\u001b[0m \u001b[0mh\u001b[0m \u001b[1;32mfor\u001b[0m \u001b[0midx\u001b[0m\u001b[1;33m,\u001b[0m \u001b[0mw\u001b[0m \u001b[1;32min\u001b[0m \u001b[0menumerate\u001b[0m\u001b[1;33m(\u001b[0m\u001b[0mrow\u001b[0m\u001b[1;33m[\u001b[0m\u001b[1;36m1\u001b[0m\u001b[1;33m:\u001b[0m\u001b[1;33m]\u001b[0m\u001b[1;33m)\u001b[0m\u001b[1;33m)\u001b[0m\u001b[1;33m,\u001b[0m \u001b[0mtime\u001b[0m \u001b[1;33m+\u001b[0m \u001b[0mrow\u001b[0m\u001b[1;33m[\u001b[0m\u001b[1;36m0\u001b[0m\u001b[1;33m]\u001b[0m \u001b[1;33m*\u001b[0m \u001b[0mh\u001b[0m\u001b[1;33m)\u001b[0m\u001b[1;33m)\u001b[0m \u001b[1;31m# calculate k's.\u001b[0m\u001b[1;33m\u001b[0m\u001b[1;33m\u001b[0m\u001b[0m\n\u001b[1;32m---> 26\u001b[1;33m         \u001b[0mx\u001b[0m \u001b[1;33m=\u001b[0m \u001b[0mx\u001b[0m \u001b[1;33m+\u001b[0m \u001b[0msum\u001b[0m\u001b[1;33m(\u001b[0m\u001b[0mw\u001b[0m \u001b[1;33m*\u001b[0m \u001b[0mk_i\u001b[0m \u001b[1;33m*\u001b[0m \u001b[0mh\u001b[0m \u001b[1;32mfor\u001b[0m \u001b[0mk_i\u001b[0m\u001b[1;33m,\u001b[0m \u001b[0mw\u001b[0m \u001b[1;32min\u001b[0m \u001b[0mzip\u001b[0m\u001b[1;33m(\u001b[0m\u001b[0mk\u001b[0m\u001b[1;33m,\u001b[0m \u001b[0mb_tableau\u001b[0m\u001b[1;33m[\u001b[0m\u001b[1;33m-\u001b[0m\u001b[1;36m1\u001b[0m\u001b[1;33m]\u001b[0m\u001b[1;33m)\u001b[0m\u001b[1;33m)\u001b[0m \u001b[1;31m# calculate timestep\u001b[0m\u001b[1;33m\u001b[0m\u001b[1;33m\u001b[0m\u001b[0m\n\u001b[0m\u001b[0;32m     27\u001b[0m     \u001b[1;32mreturn\u001b[0m \u001b[0mx\u001b[0m\u001b[1;33m\u001b[0m\u001b[1;33m\u001b[0m\u001b[0m\n\u001b[0;32m     28\u001b[0m \u001b[1;33m\u001b[0m\u001b[0m\n",
      "\u001b[1;31mRuntimeError\u001b[0m: CUDA out of memory. Tried to allocate 420.00 MiB (GPU 0; 8.00 GiB total capacity; 5.22 GiB already allocated; 156.87 MiB free; 5.51 GiB reserved in total by PyTorch)"
     ]
    }
   ],
   "source": [
    "torch.cuda.empty_cache()\n",
    "model, checkpoint = train_GDE(A, X_train, X_test, checkpoint, load = False, print_summary = True)"
   ]
  },
  {
   "cell_type": "code",
   "execution_count": 18,
   "metadata": {},
   "outputs": [
    {
     "name": "stdout",
     "output_type": "stream",
     "text": [
      "model saved\n"
     ]
    }
   ],
   "source": [
    "save_ckp(checkpoint, \"models/model1.pt\")"
   ]
  },
  {
   "cell_type": "markdown",
   "metadata": {},
   "source": [
    "### some visualization "
   ]
  },
  {
   "cell_type": "code",
   "execution_count": 18,
   "metadata": {},
   "outputs": [],
   "source": [
    "model.eval()\n",
    "test_pred = model(torch.from_numpy(X_train[:128, :,:]).float().to('cuda')).cpu().detach().numpy()"
   ]
  },
  {
   "cell_type": "code",
   "execution_count": 19,
   "metadata": {},
   "outputs": [
    {
     "name": "stdout",
     "output_type": "stream",
     "text": [
      "sample, 0   label, 0.0\n"
     ]
    },
    {
     "data": {
      "image/png": "[encoded data removed]",
      "text/plain": [
       "<Figure size 432x288 with 2 Axes>"
      ]
     },
     "metadata": {
      "needs_background": "light"
     },
     "output_type": "display_data"
    },
    {
     "name": "stdout",
     "output_type": "stream",
     "text": [
      "sample, 1   label, 0.0\n"
     ]
    },
    {
     "data": {
      "image/png": "[encoded data removed]",
      "text/plain": [
       "<Figure size 432x288 with 2 Axes>"
      ]
     },
     "metadata": {
      "needs_background": "light"
     },
     "output_type": "display_data"
    },
    {
     "name": "stdout",
     "output_type": "stream",
     "text": [
      "sample, 2   label, 0.0\n"
     ]
    },
    {
     "data": {
      "image/png": "[encoded data removed]",
      "text/plain": [
       "<Figure size 432x288 with 2 Axes>"
      ]
     },
     "metadata": {
      "needs_background": "light"
     },
     "output_type": "display_data"
    },
    {
     "name": "stdout",
     "output_type": "stream",
     "text": [
      "sample, 3   label, 0.0\n"
     ]
    },
    {
     "data": {
      "image/png": "[encoded data removed]",
      "text/plain": [
       "<Figure size 432x288 with 2 Axes>"
      ]
     },
     "metadata": {
      "needs_background": "light"
     },
     "output_type": "display_data"
    },
    {
     "name": "stdout",
     "output_type": "stream",
     "text": [
      "sample, 4   label, 1.0\n"
     ]
    },
    {
     "data": {
      "image/png": "[encoded data removed]",
      "text/plain": [
       "<Figure size 432x288 with 2 Axes>"
      ]
     },
     "metadata": {
      "needs_background": "light"
     },
     "output_type": "display_data"
    },
    {
     "name": "stdout",
     "output_type": "stream",
     "text": [
      "sample, 5   label, 0.0\n"
     ]
    },
    {
     "data": {
      "image/png": "[encoded data removed]",
      "text/plain": [
       "<Figure size 432x288 with 2 Axes>"
      ]
     },
     "metadata": {
      "needs_background": "light"
     },
     "output_type": "display_data"
    },
    {
     "name": "stdout",
     "output_type": "stream",
     "text": [
      "sample, 6   label, 0.0\n"
     ]
    },
    {
     "data": {
      "image/png": "[encoded data removed]",
      "text/plain": [
       "<Figure size 432x288 with 2 Axes>"
      ]
     },
     "metadata": {
      "needs_background": "light"
     },
     "output_type": "display_data"
    },
    {
     "name": "stdout",
     "output_type": "stream",
     "text": [
      "sample, 7   label, 0.0\n"
     ]
    },
    {
     "data": {
      "image/png": "[encoded data removed]",
      "text/plain": [
       "<Figure size 432x288 with 2 Axes>"
      ]
     },
     "metadata": {
      "needs_background": "light"
     },
     "output_type": "display_data"
    },
    {
     "name": "stdout",
     "output_type": "stream",
     "text": [
      "sample, 8   label, 0.0\n"
     ]
    },
    {
     "data": {
      "image/png": "[encoded data removed]",
      "text/plain": [
       "<Figure size 432x288 with 2 Axes>"
      ]
     },
     "metadata": {
      "needs_background": "light"
     },
     "output_type": "display_data"
    },
    {
     "name": "stdout",
     "output_type": "stream",
     "text": [
      "sample, 9   label, 1.0\n"
     ]
    },
    {
     "data": {
      "image/png": "[encoded data removed]",
      "text/plain": [
       "<Figure size 432x288 with 2 Axes>"
      ]
     },
     "metadata": {
      "needs_background": "light"
     },
     "output_type": "display_data"
    },
    {
     "name": "stdout",
     "output_type": "stream",
     "text": [
      "sample, 10   label, 0.0\n"
     ]
    },
    {
     "data": {
      "image/png": "[encoded data removed]",
      "text/plain": [
       "<Figure size 432x288 with 2 Axes>"
      ]
     },
     "metadata": {
      "needs_background": "light"
     },
     "output_type": "display_data"
    },
    {
     "name": "stdout",
     "output_type": "stream",
     "text": [
      "sample, 11   label, 0.0\n"
     ]
    },
    {
     "data": {
      "image/png": "[encoded data removed]",
      "text/plain": [
       "<Figure size 432x288 with 2 Axes>"
      ]
     },
     "metadata": {
      "needs_background": "light"
     },
     "output_type": "display_data"
    },
    {
     "name": "stdout",
     "output_type": "stream",
     "text": [
      "sample, 12   label, 0.0\n"
     ]
    },
    {
     "data": {
      "image/png": "[encoded data removed]",
      "text/plain": [
       "<Figure size 432x288 with 2 Axes>"
      ]
     },
     "metadata": {
      "needs_background": "light"
     },
     "output_type": "display_data"
    },
    {
     "name": "stdout",
     "output_type": "stream",
     "text": [
      "sample, 13   label, 0.0\n"
     ]
    },
    {
     "data": {
      "image/png": "[encoded data removed]",
      "text/plain": [
       "<Figure size 432x288 with 2 Axes>"
      ]
     },
     "metadata": {
      "needs_background": "light"
     },
     "output_type": "display_data"
    },
    {
     "name": "stdout",
     "output_type": "stream",
     "text": [
      "sample, 14   label, 0.0\n"
     ]
    },
    {
     "data": {
      "image/png": "[encoded data removed]",
      "text/plain": [
       "<Figure size 432x288 with 2 Axes>"
      ]
     },
     "metadata": {
      "needs_background": "light"
     },
     "output_type": "display_data"
    }
   ],
   "source": [
    "for i in range(15):\n",
    "    print(\"sample,\", i, \"  label,\", dm.Y_train[i,0])\n",
    "    show_heat_map(test_pred[i,:,:])\n"
   ]
  },
  {
   "cell_type": "markdown",
   "metadata": {},
   "source": [
    "## quickly try MLP "
   ]
  },
  {
   "cell_type": "code",
   "execution_count": 20,
   "metadata": {},
   "outputs": [],
   "source": [
    "sys.path.insert(1, parent_dir+r'\\Supervised MLP')\n",
    "from MLP import *"
   ]
  },
  {
   "cell_type": "code",
   "execution_count": 21,
   "metadata": {},
   "outputs": [
    {
     "data": {
      "text/plain": [
       "ODENet(\n",
       "  (f): Block()\n",
       "  (tail): SimularityMatrix (1280)\n",
       ")"
      ]
     },
     "execution_count": 21,
     "metadata": {},
     "output_type": "execute_result"
    }
   ],
   "source": [
    "model.eval()"
   ]
  },
  {
   "cell_type": "code",
   "execution_count": 22,
   "metadata": {},
   "outputs": [],
   "source": [
    "sim_train = model(torch.from_numpy(X_train).float().to('cuda')).cpu().detach().numpy()\n",
    "sim_test = model(torch.from_numpy(X_test).float().to('cuda')).cpu().detach().numpy()"
   ]
  },
  {
   "cell_type": "code",
   "execution_count": 23,
   "metadata": {},
   "outputs": [
    {
     "name": "stdout",
     "output_type": "stream",
     "text": [
      "(1434, 31, 31) (1440, 31, 31)\n"
     ]
    }
   ],
   "source": [
    "print(sim_train.shape, sim_test.shape)"
   ]
  },
  {
   "cell_type": "code",
   "execution_count": 24,
   "metadata": {},
   "outputs": [
    {
     "name": "stdout",
     "output_type": "stream",
     "text": [
      "average ictal\n"
     ]
    },
    {
     "data": {
      "image/png": "[encoded data removed]",
      "text/plain": [
       "<Figure size 432x288 with 2 Axes>"
      ]
     },
     "metadata": {
      "needs_background": "light"
     },
     "output_type": "display_data"
    },
    {
     "name": "stdout",
     "output_type": "stream",
     "text": [
      "average normal\n"
     ]
    },
    {
     "data": {
      "image/png": "[encoded data removed]",
      "text/plain": [
       "<Figure size 432x288 with 2 Axes>"
      ]
     },
     "metadata": {
      "needs_background": "light"
     },
     "output_type": "display_data"
    }
   ],
   "source": [
    "ictal_sum = np.zeros(sim_train[0][:,:].shape)\n",
    "normal_sum = np.zeros(sim_train[0][:,:].shape)\n",
    "tc = 0\n",
    "ni = 0\n",
    "nn = 0\n",
    "for i in range(sim_train.shape[0]):\n",
    "        if dm.Y_train[tc,0] == 1:\n",
    "            ictal_sum = ictal_sum + sim_train[i,:,:]\n",
    "            ni+=1\n",
    "        else:\n",
    "            normal_sum = normal_sum + sim_train[i,:,:]\n",
    "            nn+=1\n",
    "        tc+=1\n",
    "ictal_sum = ictal_sum / ni\n",
    "normal_sum = normal_sum / nn\n",
    "print(\"average ictal\")\n",
    "show_heat_map(ictal_sum)\n",
    "print(\"average normal\")\n",
    "show_heat_map(normal_sum)"
   ]
  },
  {
   "cell_type": "code",
   "execution_count": 25,
   "metadata": {},
   "outputs": [
    {
     "name": "stdout",
     "output_type": "stream",
     "text": [
      "{'n_layers': 2, 'layer_size_factor': [1, 1], 'dropout': [0.5, 0.3], 'batch_size': 128, 'num_epochs': 900, 'learning_rate': 0.0006, 'weight_decay': 0.005, 'betas': (0.9, 0.999), 'eps': 1e-08}\n"
     ]
    }
   ],
   "source": [
    "MLPparameters = {\n",
    "    'n_layers':2,\n",
    "    'layer_size_factor':[1, 1], \n",
    "    'dropout':[0.5, 0.3],\n",
    "    'batch_size': 128,\n",
    "    'num_epochs': 900,\n",
    "    'learning_rate': 6e-4,\n",
    "    'weight_decay': 5e-3,\n",
    "    'betas': (0.9, 0.999), \n",
    "    'eps': 1e-08\n",
    "}\n",
    "print(MLPparameters)"
   ]
  },
  {
   "cell_type": "code",
   "execution_count": 26,
   "metadata": {},
   "outputs": [
    {
     "name": "stdout",
     "output_type": "stream",
     "text": [
      "MLP(\n",
      "  (layers): ModuleList(\n",
      "    (0): Dropout(p=0.5, inplace=False)\n",
      "    (1): Linear(in_features=496, out_features=496, bias=True)\n",
      "    (2): ReLU()\n",
      "    (3): Dropout(p=0.3, inplace=False)\n",
      "    (4): Linear(in_features=496, out_features=1, bias=True)\n",
      "    (5): Sigmoid()\n",
      "  )\n",
      ")\n",
      "----------------------------------------------------------------\n",
      "        Layer (type)               Output Shape         Param #\n",
      "================================================================\n",
      "           Dropout-1                  [-1, 496]               0\n",
      "            Linear-2                  [-1, 496]         246,512\n",
      "              ReLU-3                  [-1, 496]               0\n",
      "           Dropout-4                  [-1, 496]               0\n",
      "            Linear-5                    [-1, 1]             497\n",
      "           Sigmoid-6                    [-1, 1]               0\n",
      "================================================================\n",
      "Total params: 247,009\n",
      "Trainable params: 247,009\n",
      "Non-trainable params: 0\n",
      "----------------------------------------------------------------\n",
      "Input size (MB): 0.00\n",
      "Forward/backward pass size (MB): 0.02\n",
      "Params size (MB): 0.94\n",
      "Estimated Total Size (MB): 0.96\n",
      "----------------------------------------------------------------\n",
      "Epoch: 1   Train loss: 0.3743   Train accuracy: 0.031   Val loss: 0.3152   Val accuracy: 0.388    weighted Val loss: 0.3152\n",
      "0.388 ----------saved-----------\n",
      "Epoch: 2   Train loss: 0.3108   Train accuracy: 0.086   Val loss: 0.2836   Val accuracy: 0.421    weighted Val loss: 0.3152\n",
      "0.421 ----------saved-----------\n",
      "Epoch: 3   Train loss: 0.2854   Train accuracy: 0.22   Val loss: 0.2812   Val accuracy: 0.424    weighted Val loss: 0.3151\n",
      "0.424 ----------saved-----------\n",
      "Epoch: 4   Train loss: 0.2783   Train accuracy: 0.208   Val loss: 0.2847   Val accuracy: 0.41    weighted Val loss: 0.3151\n",
      "Epoch: 5   Train loss: 0.2705   Train accuracy: 0.23   Val loss: 0.2704   Val accuracy: 0.462    weighted Val loss: 0.315\n",
      "0.462 ----------saved-----------\n",
      "Epoch: 6   Train loss: 0.2668   Train accuracy: 0.291   Val loss: 0.2668   Val accuracy: 0.483    weighted Val loss: 0.3149\n",
      "0.483 ----------saved-----------\n",
      "Epoch: 7   Train loss: 0.2402   Train accuracy: 0.36   Val loss: 0.2811   Val accuracy: 0.453    weighted Val loss: 0.3148\n",
      "Epoch: 8   Train loss: 0.2447   Train accuracy: 0.394   Val loss: 0.2719   Val accuracy: 0.437    weighted Val loss: 0.3147\n",
      "Epoch: 9   Train loss: 0.2495   Train accuracy: 0.281   Val loss: 0.2641   Val accuracy: 0.477    weighted Val loss: 0.3146\n",
      "Epoch: 10   Train loss: 0.2315   Train accuracy: 0.433   Val loss: 0.2711   Val accuracy: 0.481    weighted Val loss: 0.3145\n",
      "Epoch: 11   Train loss: 0.2487   Train accuracy: 0.308   Val loss: 0.264   Val accuracy: 0.498    weighted Val loss: 0.3144\n",
      "0.498 ----------saved-----------\n",
      "Epoch: 12   Train loss: 0.2182   Train accuracy: 0.379   Val loss: 0.2665   Val accuracy: 0.488    weighted Val loss: 0.3143\n",
      "Epoch: 13   Train loss: 0.2102   Train accuracy: 0.436   Val loss: 0.2619   Val accuracy: 0.503    weighted Val loss: 0.3142\n",
      "0.503 ----------saved-----------\n",
      "Epoch: 14   Train loss: 0.2091   Train accuracy: 0.454   Val loss: 0.2689   Val accuracy: 0.47    weighted Val loss: 0.3141\n",
      "Epoch: 15   Train loss: 0.2404   Train accuracy: 0.428   Val loss: 0.2662   Val accuracy: 0.487    weighted Val loss: 0.314\n",
      "Epoch: 16   Train loss: 0.2179   Train accuracy: 0.465   Val loss: 0.2605   Val accuracy: 0.507    weighted Val loss: 0.3139\n",
      "0.507 ----------saved-----------\n",
      "Epoch: 17   Train loss: 0.2073   Train accuracy: 0.477   Val loss: 0.2574   Val accuracy: 0.518    weighted Val loss: 0.3138\n",
      "0.518 ----------saved-----------\n",
      "Epoch: 18   Train loss: 0.2132   Train accuracy: 0.357   Val loss: 0.255   Val accuracy: 0.517    weighted Val loss: 0.3137\n",
      "Epoch: 19   Train loss: 0.206   Train accuracy: 0.51   Val loss: 0.2635   Val accuracy: 0.519    weighted Val loss: 0.3136\n",
      "0.519 ----------saved-----------\n",
      "Epoch: 20   Train loss: 0.2008   Train accuracy: 0.514   Val loss: 0.253   Val accuracy: 0.533    weighted Val loss: 0.3135\n",
      "0.533 ----------saved-----------\n",
      "Epoch: 21   Train loss: 0.1891   Train accuracy: 0.477   Val loss: 0.247   Val accuracy: 0.537    weighted Val loss: 0.3133\n",
      "0.537 ----------saved-----------\n",
      "Epoch: 22   Train loss: 0.178   Train accuracy: 0.56   Val loss: 0.2501   Val accuracy: 0.553    weighted Val loss: 0.3132\n",
      "0.553 ----------saved-----------\n",
      "Epoch: 23   Train loss: 0.185   Train accuracy: 0.473   Val loss: 0.2527   Val accuracy: 0.543    weighted Val loss: 0.3131\n",
      "Epoch: 24   Train loss: 0.1896   Train accuracy: 0.588   Val loss: 0.2505   Val accuracy: 0.529    weighted Val loss: 0.313\n",
      "Epoch: 25   Train loss: 0.2023   Train accuracy: 0.599   Val loss: 0.2514   Val accuracy: 0.529    weighted Val loss: 0.3128\n",
      "Epoch: 26   Train loss: 0.1768   Train accuracy: 0.618   Val loss: 0.2577   Val accuracy: 0.523    weighted Val loss: 0.3127\n",
      "Epoch: 27   Train loss: 0.1805   Train accuracy: 0.587   Val loss: 0.2517   Val accuracy: 0.526    weighted Val loss: 0.3126\n",
      "Epoch: 28   Train loss: 0.1817   Train accuracy: 0.536   Val loss: 0.2521   Val accuracy: 0.533    weighted Val loss: 0.3125\n",
      "Epoch: 29   Train loss: 0.1699   Train accuracy: 0.636   Val loss: 0.2561   Val accuracy: 0.524    weighted Val loss: 0.3124\n",
      "Epoch: 30   Train loss: 0.179   Train accuracy: 0.528   Val loss: 0.2501   Val accuracy: 0.523    weighted Val loss: 0.3123\n",
      "Epoch: 31   Train loss: 0.1723   Train accuracy: 0.564   Val loss: 0.2506   Val accuracy: 0.528    weighted Val loss: 0.3121\n",
      "Epoch: 32   Train loss: 0.1595   Train accuracy: 0.676   Val loss: 0.2447   Val accuracy: 0.543    weighted Val loss: 0.312\n",
      "Epoch: 33   Train loss: 0.1741   Train accuracy: 0.573   Val loss: 0.2635   Val accuracy: 0.523    weighted Val loss: 0.3119\n",
      "Epoch: 34   Train loss: 0.1587   Train accuracy: 0.611   Val loss: 0.2659   Val accuracy: 0.523    weighted Val loss: 0.3118\n",
      "Epoch: 35   Train loss: 0.1608   Train accuracy: 0.627   Val loss: 0.2469   Val accuracy: 0.52    weighted Val loss: 0.3117\n",
      "Epoch: 36   Train loss: 0.1613   Train accuracy: 0.552   Val loss: 0.2433   Val accuracy: 0.535    weighted Val loss: 0.3115\n",
      "Epoch: 37   Train loss: 0.1447   Train accuracy: 0.619   Val loss: 0.2707   Val accuracy: 0.524    weighted Val loss: 0.3115\n",
      "Epoch: 38   Train loss: 0.1556   Train accuracy: 0.693   Val loss: 0.2536   Val accuracy: 0.529    weighted Val loss: 0.3113\n",
      "Epoch: 39   Train loss: 0.1403   Train accuracy: 0.68   Val loss: 0.2527   Val accuracy: 0.522    weighted Val loss: 0.3112\n",
      "Epoch: 40   Train loss: 0.1431   Train accuracy: 0.695   Val loss: 0.2715   Val accuracy: 0.531    weighted Val loss: 0.3111\n",
      "Epoch: 41   Train loss: 0.1419   Train accuracy: 0.669   Val loss: 0.2552   Val accuracy: 0.533    weighted Val loss: 0.311\n",
      "Epoch: 42   Train loss: 0.13   Train accuracy: 0.743   Val loss: 0.2561   Val accuracy: 0.547    weighted Val loss: 0.3109\n",
      "Epoch: 43   Train loss: 0.1394   Train accuracy: 0.741   Val loss: 0.2705   Val accuracy: 0.537    weighted Val loss: 0.3108\n",
      "Epoch: 44   Train loss: 0.1491   Train accuracy: 0.682   Val loss: 0.2614   Val accuracy: 0.542    weighted Val loss: 0.3107\n",
      "Epoch: 45   Train loss: 0.1218   Train accuracy: 0.736   Val loss: 0.253   Val accuracy: 0.553    weighted Val loss: 0.3106\n",
      "0.553 ----------saved-----------\n",
      "Epoch: 46   Train loss: 0.1394   Train accuracy: 0.728   Val loss: 0.258   Val accuracy: 0.564    weighted Val loss: 0.3105\n",
      "0.564 ----------saved-----------\n",
      "Epoch: 47   Train loss: 0.1367   Train accuracy: 0.75   Val loss: 0.2687   Val accuracy: 0.523    weighted Val loss: 0.3104\n",
      "Epoch: 48   Train loss: 0.134   Train accuracy: 0.703   Val loss: 0.2598   Val accuracy: 0.551    weighted Val loss: 0.3103\n",
      "Epoch: 49   Train loss: 0.1294   Train accuracy: 0.702   Val loss: 0.2618   Val accuracy: 0.53    weighted Val loss: 0.3102\n",
      "Epoch: 50   Train loss: 0.1305   Train accuracy: 0.736   Val loss: 0.2532   Val accuracy: 0.527    weighted Val loss: 0.3101\n",
      "Epoch: 51   Train loss: 0.1302   Train accuracy: 0.725   Val loss: 0.2679   Val accuracy: 0.514    weighted Val loss: 0.31\n",
      "Epoch: 52   Train loss: 0.1299   Train accuracy: 0.732   Val loss: 0.2839   Val accuracy: 0.537    weighted Val loss: 0.31\n",
      "Epoch: 53   Train loss: 0.1241   Train accuracy: 0.698   Val loss: 0.2655   Val accuracy: 0.538    weighted Val loss: 0.3099\n",
      "Epoch: 54   Train loss: 0.1055   Train accuracy: 0.775   Val loss: 0.2531   Val accuracy: 0.552    weighted Val loss: 0.3098\n",
      "Epoch: 55   Train loss: 0.1239   Train accuracy: 0.749   Val loss: 0.2616   Val accuracy: 0.55    weighted Val loss: 0.3097\n",
      "Epoch: 56   Train loss: 0.1234   Train accuracy: 0.752   Val loss: 0.282   Val accuracy: 0.543    weighted Val loss: 0.3096\n"
     ]
    },
    {
     "name": "stdout",
     "output_type": "stream",
     "text": [
      "Epoch: 57   Train loss: 0.1025   Train accuracy: 0.781   Val loss: 0.2614   Val accuracy: 0.548    weighted Val loss: 0.3095\n",
      "Epoch: 58   Train loss: 0.1137   Train accuracy: 0.739   Val loss: 0.2546   Val accuracy: 0.561    weighted Val loss: 0.3094\n",
      "Epoch: 59   Train loss: 0.1025   Train accuracy: 0.768   Val loss: 0.2645   Val accuracy: 0.568    weighted Val loss: 0.3093\n",
      "0.568 ----------saved-----------\n",
      "Epoch: 60   Train loss: 0.1077   Train accuracy: 0.785   Val loss: 0.2712   Val accuracy: 0.536    weighted Val loss: 0.3093\n",
      "Epoch: 61   Train loss: 0.1227   Train accuracy: 0.745   Val loss: 0.2562   Val accuracy: 0.562    weighted Val loss: 0.3092\n",
      "Epoch: 62   Train loss: 0.1284   Train accuracy: 0.683   Val loss: 0.2609   Val accuracy: 0.573    weighted Val loss: 0.3091\n",
      "0.573 ----------saved-----------\n",
      "Epoch: 63   Train loss: 0.1017   Train accuracy: 0.802   Val loss: 0.2767   Val accuracy: 0.566    weighted Val loss: 0.309\n",
      "Epoch: 64   Train loss: 0.114   Train accuracy: 0.754   Val loss: 0.2579   Val accuracy: 0.562    weighted Val loss: 0.3089\n",
      "Epoch: 65   Train loss: 0.1124   Train accuracy: 0.761   Val loss: 0.2702   Val accuracy: 0.545    weighted Val loss: 0.3088\n",
      "Epoch: 66   Train loss: 0.0992   Train accuracy: 0.729   Val loss: 0.2943   Val accuracy: 0.574    weighted Val loss: 0.3088\n",
      "0.574 ----------saved-----------\n",
      "Epoch: 67   Train loss: 0.1013   Train accuracy: 0.812   Val loss: 0.2844   Val accuracy: 0.551    weighted Val loss: 0.3087\n",
      "Epoch: 68   Train loss: 0.0935   Train accuracy: 0.785   Val loss: 0.2625   Val accuracy: 0.536    weighted Val loss: 0.3086\n",
      "Epoch: 69   Train loss: 0.0896   Train accuracy: 0.845   Val loss: 0.2686   Val accuracy: 0.558    weighted Val loss: 0.3086\n",
      "Epoch: 70   Train loss: 0.101   Train accuracy: 0.809   Val loss: 0.2725   Val accuracy: 0.502    weighted Val loss: 0.3085\n",
      "Epoch: 71   Train loss: 0.1063   Train accuracy: 0.774   Val loss: 0.2545   Val accuracy: 0.532    weighted Val loss: 0.3084\n",
      "Epoch: 72   Train loss: 0.0966   Train accuracy: 0.813   Val loss: 0.2833   Val accuracy: 0.558    weighted Val loss: 0.3083\n",
      "Epoch: 73   Train loss: 0.1105   Train accuracy: 0.775   Val loss: 0.2862   Val accuracy: 0.567    weighted Val loss: 0.3083\n",
      "Epoch: 74   Train loss: 0.0905   Train accuracy: 0.835   Val loss: 0.276   Val accuracy: 0.547    weighted Val loss: 0.3082\n",
      "Epoch: 75   Train loss: 0.0887   Train accuracy: 0.863   Val loss: 0.2709   Val accuracy: 0.545    weighted Val loss: 0.3082\n",
      "Epoch: 76   Train loss: 0.082   Train accuracy: 0.775   Val loss: 0.268   Val accuracy: 0.514    weighted Val loss: 0.3081\n",
      "Epoch: 77   Train loss: 0.0859   Train accuracy: 0.775   Val loss: 0.287   Val accuracy: 0.548    weighted Val loss: 0.308\n"
     ]
    },
    {
     "name": "stderr",
     "output_type": "stream",
     "text": [
      "C:\\Users\\caixu\\anaconda3\\lib\\site-packages\\sklearn\\metrics\\_classification.py:1464: UndefinedMetricWarning: F-score is ill-defined and being set to 0.0 due to no true nor predicted samples. Use `zero_division` parameter to control this behavior.\n",
      "  _warn_prf(\n"
     ]
    },
    {
     "name": "stdout",
     "output_type": "stream",
     "text": [
      "Epoch: 78   Train loss: 0.0797   Train accuracy: 0.862   Val loss: 0.2786   Val accuracy: 0.535    weighted Val loss: 0.308\n",
      "Epoch: 79   Train loss: 0.0887   Train accuracy: 0.808   Val loss: 0.2791   Val accuracy: 0.541    weighted Val loss: 0.3079\n",
      "Epoch: 80   Train loss: 0.0782   Train accuracy: 0.798   Val loss: 0.3012   Val accuracy: 0.555    weighted Val loss: 0.3079\n",
      "Epoch: 81   Train loss: 0.0876   Train accuracy: 0.78   Val loss: 0.2653   Val accuracy: 0.529    weighted Val loss: 0.3078\n",
      "Epoch: 82   Train loss: 0.0889   Train accuracy: 0.824   Val loss: 0.2657   Val accuracy: 0.542    weighted Val loss: 0.3077\n",
      "Epoch: 83   Train loss: 0.0845   Train accuracy: 0.853   Val loss: 0.3012   Val accuracy: 0.543    weighted Val loss: 0.3077\n",
      "Epoch: 84   Train loss: 0.0697   Train accuracy: 0.899   Val loss: 0.2865   Val accuracy: 0.539    weighted Val loss: 0.3077\n",
      "Epoch: 85   Train loss: 0.0708   Train accuracy: 0.878   Val loss: 0.2651   Val accuracy: 0.552    weighted Val loss: 0.3076\n",
      "Epoch: 86   Train loss: 0.0864   Train accuracy: 0.837   Val loss: 0.276   Val accuracy: 0.57    weighted Val loss: 0.3075\n",
      "Epoch: 87   Train loss: 0.0836   Train accuracy: 0.863   Val loss: 0.2909   Val accuracy: 0.535    weighted Val loss: 0.3075\n",
      "Epoch: 88   Train loss: 0.0837   Train accuracy: 0.865   Val loss: 0.2798   Val accuracy: 0.527    weighted Val loss: 0.3074\n",
      "Epoch: 89   Train loss: 0.0704   Train accuracy: 0.883   Val loss: 0.2758   Val accuracy: 0.536    weighted Val loss: 0.3074\n",
      "Epoch: 90   Train loss: 0.0734   Train accuracy: 0.865   Val loss: 0.2975   Val accuracy: 0.545    weighted Val loss: 0.3074\n",
      "Epoch: 91   Train loss: 0.07   Train accuracy: 0.88   Val loss: 0.2683   Val accuracy: 0.527    weighted Val loss: 0.3073\n",
      "Epoch: 92   Train loss: 0.0808   Train accuracy: 0.833   Val loss: 0.284   Val accuracy: 0.534    weighted Val loss: 0.3072\n",
      "Epoch: 93   Train loss: 0.0812   Train accuracy: 0.853   Val loss: 0.2949   Val accuracy: 0.553    weighted Val loss: 0.3072\n",
      "Epoch: 94   Train loss: 0.0721   Train accuracy: 0.796   Val loss: 0.2623   Val accuracy: 0.526    weighted Val loss: 0.3071\n",
      "Epoch: 95   Train loss: 0.0799   Train accuracy: 0.794   Val loss: 0.2577   Val accuracy: 0.544    weighted Val loss: 0.307\n",
      "Epoch: 96   Train loss: 0.0696   Train accuracy: 0.893   Val loss: 0.2927   Val accuracy: 0.55    weighted Val loss: 0.307\n",
      "Epoch: 97   Train loss: 0.0706   Train accuracy: 0.864   Val loss: 0.2662   Val accuracy: 0.556    weighted Val loss: 0.3069\n",
      "Epoch: 98   Train loss: 0.0727   Train accuracy: 0.859   Val loss: 0.2789   Val accuracy: 0.526    weighted Val loss: 0.3069\n",
      "Epoch: 99   Train loss: 0.0744   Train accuracy: 0.834   Val loss: 0.2745   Val accuracy: 0.526    weighted Val loss: 0.3068\n",
      "Epoch: 100   Train loss: 0.0896   Train accuracy: 0.847   Val loss: 0.2847   Val accuracy: 0.555    weighted Val loss: 0.3067\n",
      "Epoch: 101   Train loss: 0.0802   Train accuracy: 0.827   Val loss: 0.3592   Val accuracy: 0.53    weighted Val loss: 0.3069\n"
     ]
    }
   ],
   "source": [
    "MLPmodel, _,_ = train_MLP(dm, sim_train, sim_test, MLPparameters, acc_fn=F1, autostop_decay = 0.998, print_summary = True)"
   ]
  },
  {
   "cell_type": "code",
   "execution_count": 29,
   "metadata": {},
   "outputs": [
    {
     "name": "stdout",
     "output_type": "stream",
     "text": [
      "threshold: 0.05  validation loss: 0.257 F1 accuracy 0.378 Precision accuracy 0.254 Recall accuracy 0.735 AUC accuracy: 0.738\n",
      "threshold: 0.1  validation loss: 0.257 F1 accuracy 0.472 Precision accuracy 0.37 Recall accuracy 0.652 AUC accuracy: 0.759\n",
      "threshold: 0.15  validation loss: 0.257 F1 accuracy 0.507 Precision accuracy 0.45 Recall accuracy 0.581 AUC accuracy: 0.748\n",
      "threshold: 0.2  validation loss: 0.257 F1 accuracy 0.534 Precision accuracy 0.539 Recall accuracy 0.529 AUC accuracy: 0.737\n",
      "threshold: 0.25  validation loss: 0.257 F1 accuracy 0.573 Precision accuracy 0.626 Recall accuracy 0.529 AUC accuracy: 0.745\n",
      "threshold: 0.3  validation loss: 0.257 F1 accuracy 0.579 Precision accuracy 0.669 Recall accuracy 0.51 AUC accuracy: 0.74\n",
      "threshold: 0.35  validation loss: 0.257 F1 accuracy 0.583 Precision accuracy 0.706 Recall accuracy 0.497 AUC accuracy: 0.736\n",
      "threshold: 0.4  validation loss: 0.257 F1 accuracy 0.546 Precision accuracy 0.723 Recall accuracy 0.439 AUC accuracy: 0.709\n",
      "threshold: 0.45  validation loss: 0.257 F1 accuracy 0.519 Precision accuracy 0.738 Recall accuracy 0.4 AUC accuracy: 0.691\n",
      "threshold: 0.5  validation loss: 0.257 F1 accuracy 0.5 Precision accuracy 0.753 Recall accuracy 0.374 AUC accuracy: 0.68\n",
      "threshold: 0.55  validation loss: 0.257 F1 accuracy 0.48 Precision accuracy 0.771 Recall accuracy 0.348 AUC accuracy: 0.668\n",
      "threshold: 0.6  validation loss: 0.257 F1 accuracy 0.45 Precision accuracy 0.778 Recall accuracy 0.316 AUC accuracy: 0.653\n",
      "threshold: 0.65  validation loss: 0.257 F1 accuracy 0.356 Precision accuracy 0.766 Recall accuracy 0.232 AUC accuracy: 0.612\n",
      "threshold: 0.7  validation loss: 0.257 F1 accuracy 0.35 Precision accuracy 0.778 Recall accuracy 0.226 AUC accuracy: 0.609\n",
      "threshold: 0.75  validation loss: 0.257 F1 accuracy 0.337 Precision accuracy 0.805 Recall accuracy 0.213 AUC accuracy: 0.603\n",
      "threshold: 0.8  validation loss: 0.257 F1 accuracy 0.28 Precision accuracy 0.839 Recall accuracy 0.168 AUC accuracy: 0.582\n",
      "threshold: 0.85  validation loss: 0.257 F1 accuracy 0.253 Precision accuracy 0.852 Recall accuracy 0.148 AUC accuracy: 0.573\n",
      "threshold: 0.9  validation loss: 0.257 F1 accuracy 0.206 Precision accuracy 0.9 Recall accuracy 0.116 AUC accuracy: 0.557\n",
      "threshold: 0.95  validation loss: 0.257 F1 accuracy 0.174 Precision accuracy 0.882 Recall accuracy 0.097 AUC accuracy: 0.548\n"
     ]
    }
   ],
   "source": [
    "for i in range(5,100, 5):\n",
    "    t = i/100;\n",
    "    eval_mlp(MLPmodel, sim_test, dm, threshold = t)"
   ]
  },
  {
   "cell_type": "markdown",
   "metadata": {},
   "source": [
    "### Archived code"
   ]
  },
  {
   "cell_type": "code",
   "execution_count": null,
   "metadata": {},
   "outputs": [],
   "source": [
    "#ODE Part and Adjoint Method\n",
    "\n",
    "# Convenience tuple -> tensor function\n",
    "def flatten(*args):\n",
    "    return(torch.cat(tuple(torch.flatten(arg) for arg in args), dim=0).view(1,-1))\n",
    "\n",
    "# Convenience tensor -> tuple function\n",
    "def unflatten(x, n_e, sizes):\n",
    "    return (x[0, 0:n_e[0]].view(sizes[0]),\n",
    "            x[0, n_e[0]:n_e[0] + n_e[1]].view(sizes[1]),\n",
    "            x[0, (n_e[0] + n_e[1]):(n_e[0] + n_e[1] + n_e[2])].view(sizes[2]),\n",
    "            x[0, (n_e[0] + n_e[1] + n_e[2]):].view(sizes[3]),\n",
    "            )\n",
    "\n",
    "class Integrate(torch.autograd.Function):\n",
    "    def __deepcopy__(self, memo):\n",
    "        return Integrate(copy.deepcopy(memo))\n",
    "    \n",
    "    @staticmethod\n",
    "    def forward(ctx, Integrator, f, x0, t0, t1, N, net_params, A):\n",
    "                \n",
    "        solution = Integrator(EF, lambda x, t: f(x, t, net_params, A), x0, t0, t1, N)\n",
    "            \n",
    "        # Save for jacobian calculations in backward()\n",
    "        ctx.save_for_backward(x0,t0,t1,net_params,A)\n",
    "        ctx.solution = solution\n",
    "        ctx.Integrator = Integrator\n",
    "        ctx.N = N\n",
    "        ctx.f = f\n",
    "        \n",
    "        return solution\n",
    "    \n",
    "    @staticmethod\n",
    "    def backward(ctx, dL_dz1):\n",
    "        # Get all saved context\n",
    "        z0, t0, t1, net_params,A = ctx.saved_tensors\n",
    "        z1 = ctx.solution\n",
    "        N = ctx.N\n",
    "        f = ctx.f\n",
    "        \n",
    "        print(\"dL_dz1\", dL_dz1.size())\n",
    "        print(\"net_params\", net_params.size())\n",
    "        \n",
    "        \n",
    "        s0 = [z1, dL_dz1 ,torch.zeros(net_params.size(), dtype=torch.float32)]\n",
    "        print(\"s0\", s0.size())\n",
    "        \n",
    "        def aug_dynamics(s, t, theta, A):\n",
    "            zt = s[0]\n",
    "            at = s[1]\n",
    "            \n",
    "            \n",
    "            with torch.enable_grad(): \n",
    "                gradients = [vjp(f, \n",
    "                                 (s[0][i].unsqueeze(0), t, theta), \n",
    "                                  v=-s[1][i].unsqueeze(0),\n",
    "                                 )[1] for i in range(batch_size)]\n",
    "                \n",
    "            return flatten(f(s[0],t,theta),\n",
    "                    torch.cat([gradient[0] for gradient in gradients], dim=0), \n",
    "                    torch.cat([gradient[2].unsqueeze(0) for gradient in gradients], dim=0), \n",
    "                    torch.cat([gradient[1].reshape(1,1) for gradient in gradients], dim=0),\n",
    "                   )#.unsqueeze(2)\n",
    "        \n",
    "        '''\n",
    "        # Convenience sizes\n",
    "        batch_size = z0.size()[0]\n",
    "        img_len = int(z0.numel() / batch_size)\n",
    "\n",
    "        # Compute derivative w.r.t. to end time of integration\n",
    "        dL_dt1 = dL_dz1.view(batch_size,1,-1).bmm(f(z1, t1, net_params).view(batch_size,-1,1))  # Derivative of loss w.r.t t1\n",
    "        \n",
    "        #print(\"dL_dt1\", dL_dt1)\n",
    "        \n",
    "        # Initial Condition\n",
    "        num_elements = (z1.numel(), dL_dz1.numel(), batch_size * net_params.numel(), dL_dt1.numel())\n",
    "        sizes = (z1.size(), dL_dz1.size(), (batch_size, net_params.numel()), dL_dt1.size())\n",
    "        s0 = flatten(z1, dL_dz1, torch.zeros((batch_size, net_params.numel()), dtype=torch.float32), -dL_dt1) # initial augmented state\n",
    "        \n",
    "        # augmented dynamics function\n",
    "        def aug_dynamics(s, t, theta):\n",
    "            s = unflatten(s, num_elements, sizes)\n",
    "            \n",
    "            with torch.enable_grad(): \n",
    "                gradients = [vjp(f, \n",
    "                                 (s[0][i].unsqueeze(0), t, theta), \n",
    "                                  v=-s[1][i].unsqueeze(0),\n",
    "                                 )[1] for i in range(batch_size)]\n",
    "                \n",
    "            return flatten(f(s[0],t,theta),\n",
    "                    torch.cat([gradient[0] for gradient in gradients], dim=0), \n",
    "                    torch.cat([gradient[2].unsqueeze(0) for gradient in gradients], dim=0), \n",
    "                    torch.cat([gradient[1].reshape(1,1) for gradient in gradients], dim=0),\n",
    "                   )#.unsqueeze(2)\n",
    "\n",
    "        # Integrate backwards\n",
    "        with torch.enable_grad():\n",
    "            s = ctx.Integrator(EF, lambda x, t: aug_dynamics(x, t, net_params), s0, t1, t0, N)\n",
    "        \n",
    "        # Extract derivatives\n",
    "        _, dL_dz0, dL_dtheta, dL_dt0 = unflatten(s, num_elements, sizes)\n",
    "        \n",
    "        # must return something for every input to forward, None for non-tensors\n",
    "        return None, None, dL_dz0, dL_dt0, dL_dt1, None, dL_dtheta \n",
    "        '''\n",
    "        return None, None, None, None, None, None, net_params, None"
   ]
  },
  {
   "cell_type": "code",
   "execution_count": null,
   "metadata": {},
   "outputs": [],
   "source": [
    "class GDE(nn.Module):\n",
    "    def __init__(self, in_features, out_features):\n",
    "        super(GDE, self).__init__()\n",
    "        self.in_features = in_features\n",
    "        self.out_features = out_features\n",
    "        \n",
    "    \n",
    "    # H, feature matrix\n",
    "    # A, precomputed adj matrix\n",
    "    def forward(self, H, t, weight, A): #x, t, net_params, A\n",
    "        n = torch.matmul(A, torch.matmul(H, weight))\n",
    "        return F.relu(n)\n",
    "\n",
    "class SimularityMatrix(nn.Module):\n",
    "    def __init__(self, in_features):\n",
    "        super(SimularityMatrix, self).__init__()\n",
    "        self.in_features = in_features\n",
    "        self.weight = nn.Parameter(torch.Tensor(in_features))\n",
    "        self.reset_parameters()\n",
    "\n",
    "    def __repr__(self):\n",
    "        return self.__class__.__name__ + ' (' \\\n",
    "               + str(self.in_features) +')'\n",
    "    \n",
    "    def reset_parameters(self):\n",
    "        stdv = 1. / self.weight.size(0) ** 1/2\n",
    "        self.weight.data.uniform_(-stdv, stdv)\n",
    "    \n",
    "    #computes the simularity matrix:\n",
    "    # H, feature matrix --> N x D\n",
    "    # A, precomputed adj matrix --> NxN\n",
    "    # this method is pretty wack, need to find a vectorized way to do it.\n",
    "    def forward(self, H, H0):\n",
    "        #get hidden state (concate H0 and H)\n",
    "        Z = torch.cat((H0, H), 2)\n",
    "        M = Z.shape[0]\n",
    "        N = Z.shape[1]\n",
    "        D = Z.shape[2]\n",
    "        #centering normalize Z\n",
    "        Z = self.fcn(Z)\n",
    "        return self.get_sim_vectorized(Z)\n",
    "        \n",
    "    #simularity between node u and node v (shape Mx1xD)\n",
    "    #return the u,v index of the simularity matrix\n",
    "    def get_sim(self, u,v):\n",
    "        theta = torch.diag(self.weight)\n",
    "        #print(self.weight)\n",
    "        #print(u.shape, theta.shape, self.weight.shape, torch.transpose(v, 1, 2).shape)\n",
    "        return torch.squeeze(torch.matmul(torch.matmul(u, theta), torch.transpose(v, 1, 2)))\n",
    "        \n",
    "    def get_sim_vectorized(self, Z): # Z is M x N Sx 2D\n",
    "        theta = torch.diag(self.weight)\n",
    "        sim_matrix = torch.matmul(torch.matmul(Z, theta), torch.transpose(Z, 1, 2))\n",
    "        return sim_matrix\n",
    "        \n",
    "    #centering-normalizing (CN) operator\n",
    "    def fcn(self, Z):\n",
    "        norm_Z = (Z - torch.mean(Z, dim=2, keepdim=True))\n",
    "        return norm_Z/torch.std(Z, unbiased=True, dim=2, keepdim=True)"
   ]
  },
  {
   "cell_type": "code",
   "execution_count": null,
   "metadata": {},
   "outputs": [],
   "source": [
    "# n-layer GCN Network\n",
    "'''\n",
    "solver_params = {\n",
    "    \"t0\": 0,\n",
    "    \"t1\": 1,\n",
    "    \"N\": 5,\n",
    "}\n",
    "'''\n",
    "class Net(nn.Module):\n",
    "    def __init__(self, body_features, solver, solver_params):\n",
    "        super(Net, self).__init__()\n",
    "        \n",
    "        self.f = GDE(body_features,body_features)\n",
    "        #body\n",
    "        self.int_f = solver\n",
    "        self.Integrate = Integrate\n",
    "        self.solver_params = solver_params\n",
    "        self.N = solver_params[\"N\"]\n",
    "        self.h = (solver_params[\"t1\"] - solver_params[\"t0\"]) / solver_params[\"N\"]\n",
    "        self.t0 = torch.tensor(float(solver_params[\"t0\"]), requires_grad=True)\n",
    "        self.t1 = torch.tensor(float(solver_params[\"t1\"]), requires_grad=True)\n",
    "        \n",
    "        self.net_params = torch.nn.parameter.Parameter(torch.Tensor(body_features, body_features).normal_(mean=0, std=0.1,generator=None), requires_grad=True)\n",
    "            \n",
    "        #tail\n",
    "        self.tail = SimularityMatrix(body_features*2) # size(H_0 + h_u)\n",
    "\n",
    "    def forward(self, h_0, A):\n",
    "        #body\n",
    "        x = self.Integrate.apply(self.int_f, self.f, h_0, self.t0, self.t1, self.N, self.net_params, A)\n",
    "        \n",
    "        #tail\n",
    "        sim_matrix = self.tail(x, h_0)\n",
    "        return sim_matrix"
   ]
  }
 ],
 "metadata": {
  "kernelspec": {
   "display_name": "Python 3",
   "language": "python",
   "name": "python3"
  },
  "language_info": {
   "codemirror_mode": {
    "name": "ipython",
    "version": 3
   },
   "file_extension": ".py",
   "mimetype": "text/x-python",
   "name": "python",
   "nbconvert_exporter": "python",
   "pygments_lexer": "ipython3",
   "version": "3.8.5"
  }
 },
 "nbformat": 4,
 "nbformat_minor": 4
}
