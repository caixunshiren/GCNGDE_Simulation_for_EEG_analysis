{
 "cells": [
  {
   "cell_type": "code",
   "execution_count": 97,
   "metadata": {},
   "outputs": [],
   "source": [
    "import os,sys,inspect\n",
    "current_dir = os.path.dirname(os.path.abspath(inspect.getfile(inspect.currentframe())))\n",
    "parent_dir = os.path.dirname(current_dir)\n",
    "sys.path.insert(1, parent_dir+'\\Covariance and Adjacency Matrix')\n",
    "from DataManager import dataManager"
   ]
  },
  {
   "cell_type": "code",
   "execution_count": 98,
   "metadata": {},
   "outputs": [
    {
     "name": "stdout",
     "output_type": "stream",
     "text": [
      "name: X_test\n",
      "shape: (640, 31, 1518)\n",
      "-----------------------\n",
      "name: X_train\n",
      "shape: (640, 31, 1395)\n",
      "-----------------------\n",
      "name: clip_sizes_test\n",
      "shape: (2, 129)\n",
      "-----------------------\n",
      "name: clip_sizes_train\n",
      "shape: (2, 127)\n",
      "-----------------------\n",
      "name: conv_sizes\n",
      "shape: (1, 1)\n",
      "-----------------------\n",
      "name: n_pre_szr\n",
      "shape: (1, 1)\n",
      "-----------------------\n",
      "name: sel_win_nums_test\n",
      "shape: (1, 1518)\n",
      "-----------------------\n",
      "name: sel_win_nums_train\n",
      "shape: (1, 1395)\n",
      "-----------------------\n",
      "name: soz_ch_ids\n",
      "shape: (5, 1)\n",
      "-----------------------\n",
      "name: stride_sec\n",
      "shape: (1, 1)\n",
      "-----------------------\n",
      "name: window_size_sec\n",
      "shape: (1, 1)\n",
      "-----------------------\n",
      "name: y_test\n",
      "shape: (1, 1518)\n",
      "-----------------------\n",
      "name: y_train\n",
      "shape: (1, 1395)\n",
      "-----------------------\n"
     ]
    },
    {
     "data": {
      "text/plain": [
       "[<matplotlib.lines.Line2D at 0x174c5315520>]"
      ]
     },
     "execution_count": 98,
     "metadata": {},
     "output_type": "execute_result"
    },
    {
     "data": {
      "image/png": "[encoded data removed]",
      "text/plain": [
       "<Figure size 432x288 with 1 Axes>"
      ]
     },
     "metadata": {
      "needs_background": "light"
     },
     "output_type": "display_data"
    }
   ],
   "source": [
    "import h5py\n",
    "import numpy as np\n",
    "filepath = parent_dir+'\\datasets\\sample_patients\\pat_FR_620.mat'\n",
    "variables = {}\n",
    "f = h5py.File(filepath, 'r')\n",
    "for k, v in f.items():\n",
    "    variables[k] = np.array(v)\n",
    "for key in variables.keys():\n",
    "    print(\"name:\", key)\n",
    "    print(\"shape:\", variables[key].shape)\n",
    "    print(\"-----------------------\")\n",
    "#print sample EGG signal from one node\n",
    "import matplotlib.pyplot as plt\n",
    "\n",
    "plt.figure()\n",
    "ax = plt.axes()\n",
    "X_train = variables[\"X_train\"]\n",
    "X_test = variables[\"X_test\"]\n",
    "\n",
    "ax.plot(np.linspace(0, 10, 640), X_train[:,5,0])"
   ]
  },
  {
   "cell_type": "code",
   "execution_count": 99,
   "metadata": {},
   "outputs": [],
   "source": [
    "def shuffle_train_test(variables, train_ratio = 0.7, indices = None, print_summary = True):\n",
    "    data_all = np.concatenate((variables[\"X_train\"], variables[\"X_test\"]), axis = 2)\n",
    "    labels_all = np.concatenate((variables[\"y_train\"], variables[\"y_test\"]), axis = 1)\n",
    "    #if indices == None:\n",
    "    #    indices = np.random.permutation(data_all.shape[2])\n",
    "    split_ind = int(train_ratio * data_all.shape[2])\n",
    "    training_idx, test_idx = indices[:split_ind], indices[split_ind:]\n",
    "    #print(split_ind, training_idx.shape)\n",
    "    variables[\"X_train\"], variables[\"X_test\"] = data_all[:,:,training_idx], data_all[:,:,test_idx]\n",
    "    variables[\"y_train\"], variables[\"y_test\"] = labels_all[:,training_idx], labels_all[:,test_idx]\n",
    "    if print_summary:\n",
    "        print(\"X_train:\", variables[\"X_train\"].shape)\n",
    "        print(\"X_test:\", variables[\"X_test\"].shape)\n",
    "        print(\"y_train:\", variables[\"y_train\"].shape, \"Positive labes:\", np.sum(variables[\"y_train\"]))\n",
    "        print(\"y_test:\", variables[\"y_test\"].shape, \"Positive labes:\",np.sum(variables[\"y_test\"]))\n",
    "    return variables, indices\n",
    "def remove_overlap(variables):\n",
    "    variables[\"X_train\"], variables[\"X_test\"] = variables[\"X_train\"][192:449,:,:], variables[\"X_test\"][192:449,:,:]\n",
    "    return variables"
   ]
  },
  {
   "cell_type": "code",
   "execution_count": 100,
   "metadata": {},
   "outputs": [
    {
     "name": "stdout",
     "output_type": "stream",
     "text": [
      "X_train: (640, 31, 1456)\n",
      "X_test: (640, 31, 1457)\n",
      "y_train: (1, 1456) Positive labes: 159.0\n",
      "y_test: (1, 1457) Positive labes: 162.0\n"
     ]
    }
   ],
   "source": [
    "indices = np.load(\"shuffle5050.npy\")\n",
    "variables, indices = shuffle_train_test(variables, indices = indices, train_ratio = 0.5, print_summary = True)"
   ]
  },
  {
   "cell_type": "code",
   "execution_count": 101,
   "metadata": {},
   "outputs": [],
   "source": [
    "variables = remove_overlap(variables)"
   ]
  },
  {
   "cell_type": "code",
   "execution_count": 102,
   "metadata": {},
   "outputs": [
    {
     "name": "stdout",
     "output_type": "stream",
     "text": [
      "--------data manager successfully initialized--------\n"
     ]
    }
   ],
   "source": [
    "dm = dataManager(variables[\"X_train\"],variables[\"X_test\"],variables[\"y_train\"],variables[\"y_test\"],10**(-4))\n",
    "#dm.normalize()\n",
    "#dm.sanity_check(4.514*10**-1, -10**-3, parent_dir)"
   ]
  },
  {
   "cell_type": "markdown",
   "metadata": {},
   "source": [
    "## create normalized adjacency matrix \n"
   ]
  },
  {
   "cell_type": "code",
   "execution_count": 103,
   "metadata": {},
   "outputs": [],
   "source": [
    "import matplotlib.pyplot as plt\n",
    "from scipy.linalg import fractional_matrix_power\n",
    "def show_heat_map(m):\n",
    "    plt.imshow(m, cmap='hot', interpolation='nearest')\n",
    "    plt.colorbar()\n",
    "    plt.show()\n",
    "    \n",
    "    \n",
    "def create_DAD(adj):\n",
    "    np.fill_diagonal(adj, 1)\n",
    "    rowsum = np.sum(adj, axis=1)\n",
    "    d = np.diag_indices(adj.shape[0]) \n",
    "    D = np.zeros(adj.shape)\n",
    "    D[d] = rowsum\n",
    "    #print(rowsum)\n",
    "    D = fractional_matrix_power(D, -0.5)\n",
    "    #print(D)\n",
    "    return D@adj@D"
   ]
  },
  {
   "cell_type": "code",
   "execution_count": 104,
   "metadata": {},
   "outputs": [
    {
     "data": {
      "image/png": "[encoded data removed]",
      "text/plain": [
       "<Figure size 432x288 with 2 Axes>"
      ]
     },
     "metadata": {
      "needs_background": "light"
     },
     "output_type": "display_data"
    },
    {
     "data": {
      "image/png": "[encoded data removed]",
      "text/plain": [
       "<Figure size 432x288 with 2 Axes>"
      ]
     },
     "metadata": {
      "needs_background": "light"
     },
     "output_type": "display_data"
    },
    {
     "data": {
      "image/png": "[encoded data removed]",
      "text/plain": [
       "<Figure size 432x288 with 2 Axes>"
      ]
     },
     "metadata": {
      "needs_background": "light"
     },
     "output_type": "display_data"
    }
   ],
   "source": [
    "show_heat_map(dm.P_avg_train)\n",
    "#create DAD from dm\n",
    "n = 1*10**-3\n",
    "dm.re_threshold(n)\n",
    "show_heat_map(dm.A_train)\n",
    "show_heat_map(create_DAD(dm.A_train))\n",
    "Araw = dm.A_train"
   ]
  },
  {
   "cell_type": "markdown",
   "metadata": {},
   "source": [
    "## Modified GDE Class"
   ]
  },
  {
   "cell_type": "code",
   "execution_count": 105,
   "metadata": {},
   "outputs": [],
   "source": [
    "# solvers.\n",
    "\n",
    "\"\"\"\n",
    "General Runge-Kutta Solver.\n",
    "https://en.wikipedia.org/wiki/Runge–Kutta_methods\n",
    "\n",
    "b_tableau, nested tuple, contains weights of integration. \n",
    "f, function, is the function to iterate. Should only be a function of x, t. \n",
    "x0, torch.Tensor, is the intial condition.\n",
    "t0, torch.Tensor, is the start time of integration.\n",
    "t1, torch.Tensor, is the end time of integration.\n",
    "N, int, is the desired number of timesteps.\n",
    "\n",
    "returns x, torch.Tensor, estimated solution of dy/dx = f(x,t) at time t1. \n",
    "\"\"\"\n",
    "\n",
    "def explicit_RK(b_tableau, f, x0, t0, t1, N):        \n",
    "    h = (t1 - t0) / float(N) # calculate step size\n",
    "    x = x0 # initialize saved dynamics\n",
    "    mesh = (t0 + h * i for i in range(N)) # generator of time values\n",
    "    for time in mesh:\n",
    "        \n",
    "        k = [f(x, time + h*b_tableau[0][0])] # Covers the first row of the Butcher tableau. \n",
    "        for i, row in enumerate(b_tableau[1:-1]): # Covers the middle rows of the Butcher tableau.\n",
    "            k.append(f(x + sum(w * k[idx] * h for idx, w in enumerate(row[1:])), time + row[0] * h)) # calculate k's. \n",
    "        x = x + sum(w * k_i * h for k_i, w in zip(k, b_tableau[-1])) # calculate timestep \n",
    "    return x\n",
    "\n",
    "'''\n",
    "map everything out:\n",
    "'y' here is H(t) = H(t-1) + (DAD dot H(t-1) dot W)\n",
    "'''\n",
    "RK4 = ((  0,),\n",
    "       (1/2, 1/2,),\n",
    "       (1/2,   0,  1/2,),\n",
    "       (  1,   0,    0,   1,),\n",
    "       (1/6, 1/3, 1/3, 1/6,))\n",
    "\n",
    "EF = ((0,),\n",
    "      (1,))"
   ]
  },
  {
   "cell_type": "code",
   "execution_count": 106,
   "metadata": {},
   "outputs": [],
   "source": [
    "import torch\n",
    "import torchvision\n",
    "import torch.nn as nn\n",
    "import torch.nn.functional as F\n",
    "from torch.autograd.functional import vjp\n",
    "import time"
   ]
  },
  {
   "cell_type": "code",
   "execution_count": null,
   "metadata": {},
   "outputs": [],
   "source": []
  },
  {
   "cell_type": "code",
   "execution_count": 107,
   "metadata": {},
   "outputs": [],
   "source": [
    "# GCN Block for body layers\n",
    "class Block(nn.Module):\n",
    "    def __init__(self, A, features, activation, num_layers):\n",
    "        super(Block, self).__init__()\n",
    "        self.features = features\n",
    "        self.activation = activation\n",
    "        self.num_layers = num_layers\n",
    "        self.A = A\n",
    "\n",
    "    def forward(self, x, t, net_params):\n",
    "        weights = net_params.view(self.num_layers, self.features, self.features)\n",
    "        \n",
    "        x = x.view(-1, self.A.size(1), self.features)\n",
    "        for i in range(self.num_layers):\n",
    "            x = self.A.matmul(x).matmul(weights[i,:,:])\n",
    "            x = self.activation(x)\n",
    "\n",
    "        return x\n",
    "\n",
    "    def num_params(self):\n",
    "        return self.features * self.features * self.num_layers"
   ]
  },
  {
   "cell_type": "code",
   "execution_count": 108,
   "metadata": {},
   "outputs": [],
   "source": [
    "# Convenience tuple -> tensor function\n",
    "def flatten(*args):\n",
    "    return(torch.cat(tuple(torch.flatten(arg) for arg in args), dim=0).view(1,-1))\n",
    "\n",
    "# Convenience tensor -> tuple function\n",
    "def unflatten(x, n_e, sizes):\n",
    "    return (x[0, 0:n_e[0]].view(sizes[0]),\n",
    "            x[0, n_e[0]:n_e[0] + n_e[1]].view(sizes[1]),\n",
    "            x[0, (n_e[0] + n_e[1]):(n_e[0] + n_e[1] + n_e[2])].view(sizes[2]),\n",
    "            x[0, (n_e[0] + n_e[1] + n_e[2]):].view(sizes[3]),\n",
    "            )\n",
    "\n",
    "class Integrate(torch.autograd.Function):\n",
    "    def __deepcopy__(self, memo):\n",
    "        return Integrate(copy.deepcopy(memo))\n",
    "    \n",
    "    @staticmethod\n",
    "    def forward(ctx, Integrator, f, x0, t0, t1, N, net_params):\n",
    "        solution = Integrator(EF, lambda x, t: f(x, t, net_params), x0, t0, t1, N)\n",
    "\n",
    "        # Save for jacobian calculations in backward()\n",
    "        ctx.save_for_backward(x0,t0,t1,net_params)\n",
    "        ctx.solution = solution\n",
    "        ctx.Integrator = Integrator\n",
    "        ctx.N = N\n",
    "        ctx.f = f\n",
    "        \n",
    "        return solution\n",
    "    \n",
    "    @staticmethod\n",
    "    def backward(ctx, dL_dz1):\n",
    "        # Get all saved context\n",
    "        z0, t0, t1, net_params = ctx.saved_tensors\n",
    "        z1 = ctx.solution\n",
    "        N = ctx.N\n",
    "        f = ctx.f\n",
    "        \n",
    "        # Convenience sizes\n",
    "        batch_size = z0.size()[0]\n",
    "        img_len = int(z0.numel() / batch_size)\n",
    "\n",
    "        #print(dL_dz1.shape)\n",
    "        # Compute derivative w.r.t. to end time of integration\n",
    "        dL_dt1 = dL_dz1.reshape(batch_size,1,-1).bmm(f(z1, t1, net_params).reshape(batch_size,-1,1))  # Derivative of loss w.r.t t1\n",
    "        \n",
    "        #print(\"dL_dt1\", dL_dt1)\n",
    "        \n",
    "        # Initial Condition\n",
    "        num_elements = (z1.numel(), dL_dz1.numel(), batch_size * net_params.numel(), dL_dt1.numel())\n",
    "        sizes = (z1.size(), dL_dz1.size(), (batch_size, net_params.numel()), dL_dt1.size())\n",
    "        s0 = flatten(z1, dL_dz1, torch.zeros((batch_size, net_params.numel()), dtype=torch.float32, device=z1.device), -dL_dt1) # initial augmented state\n",
    "    \n",
    "        # augmented dynamics function\n",
    "        def aug_dynamics(s, t, theta):\n",
    "            s = unflatten(s, num_elements, sizes)\n",
    "            \n",
    "            with torch.enable_grad(): \n",
    "#                 gradients = [vjp(f, \n",
    "#                                  (s[0][i].unsqueeze(0), t, theta), \n",
    "#                                   v=-s[1][i].unsqueeze(0),\n",
    "#                                  )[1] for i in range(batch_size)]\n",
    "                gradients = vjp(f, \n",
    "                                 (s[0], t, theta), \n",
    "                                  v=-s[1],\n",
    "                                 )[1]\n",
    "                \n",
    "            return flatten(f(s[0],t,theta),\n",
    "                    torch.cat([gradients[0]], dim=0), \n",
    "                    torch.cat([gradients[2].unsqueeze(0) for i in range(batch_size)], dim=0), \n",
    "                    torch.cat([gradients[1].reshape(1,1) for i in range(batch_size)], dim=0),\n",
    "                   )#.unsqueeze(2)\n",
    "#             return flatten(f(s[0],t,theta),\n",
    "#                     torch.cat([gradient[0] for gradient in gradients], dim=0), \n",
    "#                     torch.cat([gradient[2].unsqueeze(0) for gradient in gradients], dim=0), \n",
    "#                     torch.cat([gradient[1].reshape(1,1) for gradient in gradients], dim=0),\n",
    "#                    )#.unsqueeze(2)\n",
    "\n",
    "        # Integrate backwards\n",
    "        with torch.enable_grad():\n",
    "            s = ctx.Integrator(EF, lambda x, t: aug_dynamics(x, t, net_params), s0, t1, t0, N)\n",
    "        \n",
    "        # Extract derivatives\n",
    "        _, dL_dz0, dL_dtheta, dL_dt0 = unflatten(s, num_elements, sizes)\n",
    "                \n",
    "        # must return something for every input to forward, None for non-tensors\n",
    "        return None, None, dL_dz0, dL_dt0, dL_dt1, None, dL_dtheta "
   ]
  },
  {
   "cell_type": "code",
   "execution_count": 109,
   "metadata": {},
   "outputs": [],
   "source": [
    "class SimularityMatrix(nn.Module):\n",
    "    def __init__(self, in_features):\n",
    "        super(SimularityMatrix, self).__init__()\n",
    "        self.in_features = in_features\n",
    "        \n",
    "        self.weight = nn.Parameter(torch.Tensor(in_features))\n",
    "        #self.weight = torch.squeeze(self.weight)\n",
    "        \n",
    "        self.reset_parameters()\n",
    "\n",
    "    def __repr__(self):\n",
    "        return self.__class__.__name__ + ' (' \\\n",
    "               + str(self.in_features) +')'\n",
    "    \n",
    "    def reset_parameters(self):\n",
    "        stdv = 1. / self.weight.size(0) ** 1/2\n",
    "        self.weight.data.uniform_(-stdv, stdv)\n",
    "    \n",
    "    #computes the simularity matrix:\n",
    "    # H, feature matrix --> N x D\n",
    "    # A, precomputed adj matrix --> NxN\n",
    "    # this method is pretty wack, need to find a vectorized way to do it.\n",
    "    def forward(self, H, H0):\n",
    "        #get hidden state (concate H0 and H)\n",
    "        Z = torch.cat((H0, H), 2)\n",
    "        M = Z.shape[0]\n",
    "        N = Z.shape[1]\n",
    "        D = Z.shape[2]\n",
    "        #centering normalize Z\n",
    "        Z = self.fcn(Z)\n",
    "        return self.get_sim_vectorized(Z)\n",
    "        \n",
    "    #simularity between node u and node v (shape Mx1xD)\n",
    "    #return the u,v index of the simularity matrix\n",
    "    def get_sim(self, u,v):\n",
    "        theta = torch.diag(self.weight)\n",
    "        #print(self.weight)\n",
    "        #print(u.shape, theta.shape, self.weight.shape, torch.transpose(v, 1, 2).shape)\n",
    "        return torch.squeeze(torch.matmul(torch.matmul(u, theta), torch.transpose(v, 1, 2)))\n",
    "        \n",
    "    def get_sim_vectorized(self, Z): # Z is M x N Sx 2D\n",
    "        theta = torch.diag(self.weight)\n",
    "        sim_matrix = torch.matmul(torch.matmul(Z, theta), torch.transpose(Z, 1, 2))\n",
    "        return sim_matrix\n",
    "        \n",
    "    #centering-normalizing (CN) operator\n",
    "    def fcn(self, Z):\n",
    "        norm_Z = (Z - torch.mean(Z, dim=2, keepdim=True))\n",
    "        return norm_Z/torch.std(Z, unbiased=True, dim=2, keepdim=True)\n",
    "        #(((1/(self.in_features-1)) * torch.sum(norm_Z**2, dim = 2, keepdim = True))**(1/2))"
   ]
  },
  {
   "cell_type": "code",
   "execution_count": 110,
   "metadata": {},
   "outputs": [],
   "source": [
    "class ODENet(nn.Module):\n",
    "    def __init__(self, solver, body_channels, hidden_layers, A, solver_params):\n",
    "        super(ODENet, self).__init__()\n",
    "        \n",
    "        # Graph Laplacian\n",
    "        self.A = A\n",
    "        \n",
    "        # Controls amount of parameters\n",
    "        self.body_channels = body_channels\n",
    "        self.f = Block(A, body_channels, F.relu, hidden_layers)\n",
    "        \n",
    "        # Head\n",
    "        #self.head = GCN(A, in_channels, body_channels)\n",
    "        \n",
    "        # Body\n",
    "        self.int_f = solver\n",
    "        self.Integrate = Integrate\n",
    "        self.solver_params = solver_params\n",
    "        self.N = solver_params[\"N\"]\n",
    "        self.h = (solver_params[\"t1\"] - solver_params[\"t0\"]) / solver_params[\"N\"]\n",
    "        self.t0 = torch.tensor(float(solver_params[\"t0\"]), requires_grad=True)\n",
    "        self.t1 = torch.tensor(float(solver_params[\"t1\"]), requires_grad=True)\n",
    "        \n",
    "        self.net_params = torch.nn.parameter.Parameter(torch.Tensor(self.f.num_params()).normal_(mean=0, std=0.1,generator=None), requires_grad=True)\n",
    "\n",
    "        # Tail\n",
    "        self.tail = SimularityMatrix(body_channels*2)\n",
    "    \n",
    "    def _apply(self, fn):\n",
    "        super(ODENet, self)._apply(fn)\n",
    "        self.t0 = fn(self.t0)\n",
    "        self.t1 = fn(self.t1)\n",
    "        return self\n",
    "    \n",
    "    def forward(self, h_0):\n",
    "        x = self.Integrate.apply(self.int_f, self.f, h_0, self.t0, self.t1, self.N, self.net_params) # Vanilla RK4\n",
    "        x = self.tail(x, h_0)\n",
    "        return x"
   ]
  },
  {
   "cell_type": "code",
   "execution_count": 111,
   "metadata": {},
   "outputs": [],
   "source": [
    "class sim_loss(torch.nn.Module):\n",
    "\n",
    "    def __init__(self):\n",
    "        super(sim_loss,self).__init__()\n",
    "\n",
    "    def forward(self, sim_matrix, A, epsilon = 1e-8):\n",
    "        A_tf = (A!=0)\n",
    "        M = sim_matrix.shape[0]\n",
    "        abs_N = torch.sum(A_tf, dim = 1, keepdim = True) # Nx1 matrix\n",
    "        \n",
    "        logexp_S = torch.log(torch.sum(torch.exp(sim_matrix), dim = 2, keepdim = True))\n",
    "        \n",
    "        \n",
    "        obj_vector = (torch.sum(A_tf*sim_matrix, dim = 2, keepdim = True) - abs_N * logexp_S)\n",
    "        return -(1/M)*torch.sum(obj_vector)"
   ]
  },
  {
   "cell_type": "code",
   "execution_count": 112,
   "metadata": {},
   "outputs": [],
   "source": [
    "#save & load checkpoint\n",
    "import shutil\n",
    "from torchsummary import summary\n",
    "from tqdm import tqdm\n",
    "def save_ckp(state, f_path):\n",
    "    torch.save(state, f_path)\n",
    "    print(\"model saved\")\n",
    "    \n",
    "def load_ckp(checkpoint_path):\n",
    "    checkpoint = torch.load(checkpoint_path)\n",
    "    return checkpoint\n",
    "\n",
    "# takes in numpy arrays\n",
    "def train_GDE(A, X_train, X_test, checkpoint, load = False, print_summary = False):\n",
    "    #preprocess inputs\n",
    "    A = torch.from_numpy(A).float()\n",
    "    X_train = torch.from_numpy(X_train).float()\n",
    "    X_test = torch.from_numpy(X_test).float()\n",
    "    device = torch.device('cpu')#cuda') if torch.cuda.is_available() else torch.device('cpu')\n",
    "    parameters = checkpoint['parameters']\n",
    "    cumepoch = 0\n",
    "    A = A.to(device)\n",
    "    input_features = X_train.to(device)\n",
    "    valid_features = X_test.to(device)\n",
    "    \n",
    "    #(solver, body_channels, hidden_layers, A, solver_params)\n",
    "    #initialize model\n",
    "    model = ODENet(parameters['solver'], parameters['body'], parameters['hidden_layers'], A, parameters['solver_params']).to(device)\n",
    "    optimizer = torch.optim.Adam(model.parameters(), lr=parameters['learning_rate'], weight_decay=parameters['weight_decay'])\n",
    "    criterion = sim_loss()\n",
    "    \n",
    "    #load past checkpoint if any\n",
    "    if load:\n",
    "        model.load_state_dict(checkpoint['state_dict'])\n",
    "        optimizer.load_state_dict(checkpoint['optimizer'])\n",
    "        cumepoch = checkpoint['cumepoch']\n",
    "    \n",
    "    #print some model info\n",
    "    if print_summary:\n",
    "        print(model)\n",
    "        summary(model, [(31,640)])\n",
    "    \n",
    "    n_epochs = parameters['num_epochs']\n",
    "    batch_size = parameters['batch_size']\n",
    "\n",
    "    model.train()\n",
    "    for epoch in range(1, n_epochs+1):\n",
    "\n",
    "        permutation = torch.randperm(input_features.shape[0])\n",
    "\n",
    "        for i in tqdm(range(0,input_features.shape[0], batch_size)):\n",
    "            model.train()\n",
    "            optimizer.zero_grad()\n",
    "\n",
    "            indices = permutation[i:i+batch_size] if i+batch_size < input_features.shape[0] else permutation[i:] \n",
    "            batch_x= input_features[indices, :,:]\n",
    "            batch_v= valid_features[indices, :,:]\n",
    "\n",
    "            sim_matrix = model(batch_x).to(device)\n",
    "            train_loss = criterion(sim_matrix, A)\n",
    "            train_loss.backward()\n",
    "            optimizer.step()\n",
    "            \n",
    "            model.eval()\n",
    "            sim_matrix_valid = model(batch_v).to(device)\n",
    "            valid_loss = criterion(sim_matrix_valid, A)\n",
    "            \n",
    "            print(\"Epoch:\", epoch + cumepoch, \"  Batch:\", int((i/batch_size)+1),\"of size\",batch_size, \"  Train loss:\", float(train_loss), \"  Valid loss:\",float(valid_loss), end=\"\\r\")\n",
    "        print()\n",
    "    \n",
    "    checkpoint = {\n",
    "        'parameters': parameters,\n",
    "        'state_dict': model.state_dict(),\n",
    "        'optimizer': optimizer.state_dict(),\n",
    "        'cumepoch': n_epochs + cumepoch\n",
    "    }\n",
    "    \n",
    "    return model, checkpoint"
   ]
  },
  {
   "cell_type": "code",
   "execution_count": 113,
   "metadata": {},
   "outputs": [],
   "source": [
    "#create new model\n",
    "A = create_DAD(Araw)\n",
    "X_train = dm.X_train\n",
    "X_test = dm.X_test\n",
    "parameters = {\n",
    "    'body': dm.X_train.shape[2],\n",
    "    'solver': explicit_RK,\n",
    "    'solver_params': {\n",
    "    \"t0\": 0,\n",
    "    \"t1\": 0.25,\n",
    "    \"N\": 5\n",
    "     },\n",
    "    'hidden_layers': 1,\n",
    "    'M': dm.X_train.shape[0],\n",
    "    'batch_size': 128,\n",
    "    'num_epochs': 1,\n",
    "    'learning_rate': 1e-3,\n",
    "    'weight_decay': 5e-3\n",
    "}\n",
    "checkpoint = {'parameters': parameters}"
   ]
  },
  {
   "cell_type": "code",
   "execution_count": 114,
   "metadata": {},
   "outputs": [
    {
     "name": "stderr",
     "output_type": "stream",
     "text": [
      "  8%|▊         | 1/12 [00:00<00:06,  1.74it/s]"
     ]
    },
    {
     "name": "stdout",
     "output_type": "stream",
     "text": [
      "Epoch: 1   Batch: 1 of size 128   Train loss: 511.4494323730469   Valid loss: 507.2792053222656\r"
     ]
    },
    {
     "name": "stderr",
     "output_type": "stream",
     "text": [
      "\r",
      " 17%|█▋        | 2/12 [00:01<00:05,  1.76it/s]"
     ]
    },
    {
     "name": "stdout",
     "output_type": "stream",
     "text": [
      "Epoch: 1   Batch: 2 of size 128   Train loss: 506.985595703125   Valid loss: 507.45166015625\r"
     ]
    },
    {
     "name": "stderr",
     "output_type": "stream",
     "text": [
      "\r",
      " 25%|██▌       | 3/12 [00:01<00:05,  1.76it/s]"
     ]
    },
    {
     "name": "stdout",
     "output_type": "stream",
     "text": [
      "Epoch: 1   Batch: 3 of size 128   Train loss: 507.54632568359375   Valid loss: 508.32611083984375\r"
     ]
    },
    {
     "name": "stderr",
     "output_type": "stream",
     "text": [
      "\r",
      " 33%|███▎      | 4/12 [00:02<00:04,  1.75it/s]"
     ]
    },
    {
     "name": "stdout",
     "output_type": "stream",
     "text": [
      "Epoch: 1   Batch: 4 of size 128   Train loss: 507.9537353515625   Valid loss: 507.5515441894531\r"
     ]
    },
    {
     "name": "stderr",
     "output_type": "stream",
     "text": [
      "\r",
      " 42%|████▏     | 5/12 [00:02<00:03,  1.75it/s]"
     ]
    },
    {
     "name": "stdout",
     "output_type": "stream",
     "text": [
      "Epoch: 1   Batch: 5 of size 128   Train loss: 507.9998474121094   Valid loss: 507.3006591796875\r"
     ]
    },
    {
     "name": "stderr",
     "output_type": "stream",
     "text": [
      "\r",
      " 50%|█████     | 6/12 [00:03<00:03,  1.76it/s]"
     ]
    },
    {
     "name": "stdout",
     "output_type": "stream",
     "text": [
      "Epoch: 1   Batch: 6 of size 128   Train loss: 506.50213623046875   Valid loss: 505.7313537597656\r"
     ]
    },
    {
     "name": "stderr",
     "output_type": "stream",
     "text": [
      "\r",
      " 58%|█████▊    | 7/12 [00:03<00:02,  1.76it/s]"
     ]
    },
    {
     "name": "stdout",
     "output_type": "stream",
     "text": [
      "Epoch: 1   Batch: 7 of size 128   Train loss: 505.56988525390625   Valid loss: 505.6105651855469\r"
     ]
    },
    {
     "name": "stderr",
     "output_type": "stream",
     "text": [
      "\r",
      " 67%|██████▋   | 8/12 [00:04<00:02,  1.77it/s]"
     ]
    },
    {
     "name": "stdout",
     "output_type": "stream",
     "text": [
      "Epoch: 1   Batch: 8 of size 128   Train loss: 505.9971618652344   Valid loss: 505.7034912109375\r"
     ]
    },
    {
     "name": "stderr",
     "output_type": "stream",
     "text": [
      "\r",
      " 75%|███████▌  | 9/12 [00:05<00:01,  1.79it/s]"
     ]
    },
    {
     "name": "stdout",
     "output_type": "stream",
     "text": [
      "Epoch: 1   Batch: 9 of size 128   Train loss: 505.9114685058594   Valid loss: 505.757080078125\r"
     ]
    },
    {
     "name": "stderr",
     "output_type": "stream",
     "text": [
      "\r",
      " 83%|████████▎ | 10/12 [00:05<00:01,  1.77it/s]"
     ]
    },
    {
     "name": "stdout",
     "output_type": "stream",
     "text": [
      "Epoch: 1   Batch: 10 of size 128   Train loss: 505.665771484375   Valid loss: 505.50738525390625\r"
     ]
    },
    {
     "name": "stderr",
     "output_type": "stream",
     "text": [
      "100%|██████████| 12/12 [00:06<00:00,  1.89it/s]"
     ]
    },
    {
     "name": "stdout",
     "output_type": "stream",
     "text": [
      "Epoch: 1   Batch: 11 of size 128   Train loss: 505.2960205078125   Valid loss: 504.1641845703125\r",
      "Epoch: 1   Batch: 12 of size 128   Train loss: 504.23248291015625   Valid loss: 502.13433837890625\r\n"
     ]
    },
    {
     "name": "stderr",
     "output_type": "stream",
     "text": [
      "\n"
     ]
    }
   ],
   "source": [
    "torch.cuda.empty_cache()\n",
    "model, checkpoint = train_GDE(A, X_train, X_test, checkpoint, load = False, print_summary = False)"
   ]
  },
  {
   "cell_type": "code",
   "execution_count": 18,
   "metadata": {},
   "outputs": [
    {
     "name": "stdout",
     "output_type": "stream",
     "text": [
      "model saved\n"
     ]
    }
   ],
   "source": [
    "save_ckp(checkpoint, \"models/model1.pt\")"
   ]
  },
  {
   "cell_type": "markdown",
   "metadata": {},
   "source": [
    "### some visualization "
   ]
  },
  {
   "cell_type": "code",
   "execution_count": 115,
   "metadata": {},
   "outputs": [],
   "source": [
    "model.eval()\n",
    "#test_pred = model(torch.from_numpy(X_train[:128, :,:]).float().to('cuda')).cpu().detach().numpy()\n",
    "test_pred = model(torch.from_numpy(X_train[:128, :,:]).float()).cpu().detach().numpy()"
   ]
  },
  {
   "cell_type": "code",
   "execution_count": 116,
   "metadata": {},
   "outputs": [
    {
     "name": "stdout",
     "output_type": "stream",
     "text": [
      "sample, 0   label, 0.0\n"
     ]
    },
    {
     "data": {
      "image/png": "[encoded data removed]",
      "text/plain": [
       "<Figure size 432x288 with 2 Axes>"
      ]
     },
     "metadata": {
      "needs_background": "light"
     },
     "output_type": "display_data"
    },
    {
     "name": "stdout",
     "output_type": "stream",
     "text": [
      "sample, 1   label, 0.0\n"
     ]
    },
    {
     "data": {
      "image/png": "[encoded data removed]",
      "text/plain": [
       "<Figure size 432x288 with 2 Axes>"
      ]
     },
     "metadata": {
      "needs_background": "light"
     },
     "output_type": "display_data"
    },
    {
     "name": "stdout",
     "output_type": "stream",
     "text": [
      "sample, 2   label, 0.0\n"
     ]
    },
    {
     "data": {
      "image/png": "[encoded data removed]",
      "text/plain": [
       "<Figure size 432x288 with 2 Axes>"
      ]
     },
     "metadata": {
      "needs_background": "light"
     },
     "output_type": "display_data"
    },
    {
     "name": "stdout",
     "output_type": "stream",
     "text": [
      "sample, 3   label, 0.0\n"
     ]
    },
    {
     "data": {
      "image/png": "[encoded data removed]",
      "text/plain": [
       "<Figure size 432x288 with 2 Axes>"
      ]
     },
     "metadata": {
      "needs_background": "light"
     },
     "output_type": "display_data"
    },
    {
     "name": "stdout",
     "output_type": "stream",
     "text": [
      "sample, 4   label, 1.0\n"
     ]
    },
    {
     "data": {
      "image/png": "[encoded data removed]",
      "text/plain": [
       "<Figure size 432x288 with 2 Axes>"
      ]
     },
     "metadata": {
      "needs_background": "light"
     },
     "output_type": "display_data"
    },
    {
     "name": "stdout",
     "output_type": "stream",
     "text": [
      "sample, 5   label, 0.0\n"
     ]
    },
    {
     "data": {
      "image/png": "[encoded data removed]",
      "text/plain": [
       "<Figure size 432x288 with 2 Axes>"
      ]
     },
     "metadata": {
      "needs_background": "light"
     },
     "output_type": "display_data"
    },
    {
     "name": "stdout",
     "output_type": "stream",
     "text": [
      "sample, 6   label, 0.0\n"
     ]
    },
    {
     "data": {
      "image/png": "[encoded data removed]",
      "text/plain": [
       "<Figure size 432x288 with 2 Axes>"
      ]
     },
     "metadata": {
      "needs_background": "light"
     },
     "output_type": "display_data"
    },
    {
     "name": "stdout",
     "output_type": "stream",
     "text": [
      "sample, 7   label, 0.0\n"
     ]
    },
    {
     "data": {
      "image/png": "[encoded data removed]",
      "text/plain": [
       "<Figure size 432x288 with 2 Axes>"
      ]
     },
     "metadata": {
      "needs_background": "light"
     },
     "output_type": "display_data"
    },
    {
     "name": "stdout",
     "output_type": "stream",
     "text": [
      "sample, 8   label, 0.0\n"
     ]
    },
    {
     "data": {
      "image/png": "[encoded data removed]",
      "text/plain": [
       "<Figure size 432x288 with 2 Axes>"
      ]
     },
     "metadata": {
      "needs_background": "light"
     },
     "output_type": "display_data"
    },
    {
     "name": "stdout",
     "output_type": "stream",
     "text": [
      "sample, 9   label, 1.0\n"
     ]
    },
    {
     "data": {
      "image/png": "[encoded data removed]",
      "text/plain": [
       "<Figure size 432x288 with 2 Axes>"
      ]
     },
     "metadata": {
      "needs_background": "light"
     },
     "output_type": "display_data"
    },
    {
     "name": "stdout",
     "output_type": "stream",
     "text": [
      "sample, 10   label, 0.0\n"
     ]
    },
    {
     "data": {
      "image/png": "[encoded data removed]",
      "text/plain": [
       "<Figure size 432x288 with 2 Axes>"
      ]
     },
     "metadata": {
      "needs_background": "light"
     },
     "output_type": "display_data"
    },
    {
     "name": "stdout",
     "output_type": "stream",
     "text": [
      "sample, 11   label, 0.0\n"
     ]
    },
    {
     "data": {
      "image/png": "[encoded data removed]",
      "text/plain": [
       "<Figure size 432x288 with 2 Axes>"
      ]
     },
     "metadata": {
      "needs_background": "light"
     },
     "output_type": "display_data"
    },
    {
     "name": "stdout",
     "output_type": "stream",
     "text": [
      "sample, 12   label, 0.0\n"
     ]
    },
    {
     "data": {
      "image/png": "[encoded data removed]",
      "text/plain": [
       "<Figure size 432x288 with 2 Axes>"
      ]
     },
     "metadata": {
      "needs_background": "light"
     },
     "output_type": "display_data"
    },
    {
     "name": "stdout",
     "output_type": "stream",
     "text": [
      "sample, 13   label, 0.0\n"
     ]
    },
    {
     "data": {
      "image/png": "[encoded data removed]",
      "text/plain": [
       "<Figure size 432x288 with 2 Axes>"
      ]
     },
     "metadata": {
      "needs_background": "light"
     },
     "output_type": "display_data"
    },
    {
     "name": "stdout",
     "output_type": "stream",
     "text": [
      "sample, 14   label, 0.0\n"
     ]
    },
    {
     "data": {
      "image/png": "[encoded data removed]",
      "text/plain": [
       "<Figure size 432x288 with 2 Axes>"
      ]
     },
     "metadata": {
      "needs_background": "light"
     },
     "output_type": "display_data"
    }
   ],
   "source": [
    "for i in range(15):\n",
    "    print(\"sample,\", i, \"  label,\", dm.Y_train[i,0])\n",
    "    show_heat_map(test_pred[i,:,:])\n"
   ]
  },
  {
   "cell_type": "markdown",
   "metadata": {},
   "source": [
    "## quickly try MLP "
   ]
  },
  {
   "cell_type": "code",
   "execution_count": 117,
   "metadata": {},
   "outputs": [],
   "source": [
    "sys.path.insert(1, parent_dir+r'\\Supervised MLP')\n",
    "from MLP import *"
   ]
  },
  {
   "cell_type": "code",
   "execution_count": 118,
   "metadata": {},
   "outputs": [
    {
     "data": {
      "text/plain": [
       "ODENet(\n",
       "  (f): Block()\n",
       "  (tail): SimularityMatrix (514)\n",
       ")"
      ]
     },
     "execution_count": 118,
     "metadata": {},
     "output_type": "execute_result"
    }
   ],
   "source": [
    "model.eval()"
   ]
  },
  {
   "cell_type": "code",
   "execution_count": 119,
   "metadata": {},
   "outputs": [],
   "source": [
    "#sim_train = model(torch.from_numpy(X_train).float().to('cuda')).cpu().detach().numpy()\n",
    "#sim_test = model(torch.from_numpy(X_test).float().to('cuda')).cpu().detach().numpy()\n",
    "sim_train = model(torch.from_numpy(X_train).float()).cpu().detach().numpy()\n",
    "sim_test = model(torch.from_numpy(X_test).float()).cpu().detach().numpy()"
   ]
  },
  {
   "cell_type": "code",
   "execution_count": 120,
   "metadata": {},
   "outputs": [
    {
     "name": "stdout",
     "output_type": "stream",
     "text": [
      "(1433, 31, 31) (1440, 31, 31)\n"
     ]
    }
   ],
   "source": [
    "print(sim_train.shape, sim_test.shape)"
   ]
  },
  {
   "cell_type": "code",
   "execution_count": 121,
   "metadata": {},
   "outputs": [
    {
     "name": "stdout",
     "output_type": "stream",
     "text": [
      "average ictal\n"
     ]
    },
    {
     "data": {
      "image/png": "[encoded data removed]",
      "text/plain": [
       "<Figure size 432x288 with 2 Axes>"
      ]
     },
     "metadata": {
      "needs_background": "light"
     },
     "output_type": "display_data"
    },
    {
     "name": "stdout",
     "output_type": "stream",
     "text": [
      "average normal\n"
     ]
    },
    {
     "data": {
      "image/png": "[encoded data removed]",
      "text/plain": [
       "<Figure size 432x288 with 2 Axes>"
      ]
     },
     "metadata": {
      "needs_background": "light"
     },
     "output_type": "display_data"
    }
   ],
   "source": [
    "ictal_sum = np.zeros(sim_train[0][:,:].shape)\n",
    "normal_sum = np.zeros(sim_train[0][:,:].shape)\n",
    "tc = 0\n",
    "ni = 0\n",
    "nn = 0\n",
    "for i in range(sim_train.shape[0]):\n",
    "        if dm.Y_train[tc,0] == 1:\n",
    "            ictal_sum = ictal_sum + sim_train[i,:,:]\n",
    "            ni+=1\n",
    "        else:\n",
    "            normal_sum = normal_sum + sim_train[i,:,:]\n",
    "            nn+=1\n",
    "        tc+=1\n",
    "ictal_sum = ictal_sum / ni\n",
    "normal_sum = normal_sum / nn\n",
    "print(\"average ictal\")\n",
    "show_heat_map(ictal_sum)\n",
    "print(\"average normal\")\n",
    "show_heat_map(normal_sum)"
   ]
  },
  {
   "cell_type": "code",
   "execution_count": 122,
   "metadata": {},
   "outputs": [
    {
     "name": "stdout",
     "output_type": "stream",
     "text": [
      "{'n_layers': 2, 'layer_size_factor': [1, 1], 'dropout': [0.5, 0.3], 'batch_size': 128, 'num_epochs': 900, 'learning_rate': 0.0006, 'weight_decay': 0.005, 'betas': (0.9, 0.999), 'eps': 1e-08}\n"
     ]
    }
   ],
   "source": [
    "MLPparameters = {\n",
    "    'n_layers':2,\n",
    "    'layer_size_factor':[1, 1], \n",
    "    'dropout':[0.5, 0.3],\n",
    "    'batch_size': 128,\n",
    "    'num_epochs': 900,\n",
    "    'learning_rate': 6e-4,\n",
    "    'weight_decay': 5e-3,\n",
    "    'betas': (0.9, 0.999), \n",
    "    'eps': 1e-08\n",
    "}\n",
    "print(MLPparameters)"
   ]
  },
  {
   "cell_type": "code",
   "execution_count": 123,
   "metadata": {},
   "outputs": [
    {
     "name": "stdout",
     "output_type": "stream",
     "text": [
      "MLP(\n",
      "  (layers): ModuleList(\n",
      "    (0): Dropout(p=0.5, inplace=False)\n",
      "    (1): Linear(in_features=496, out_features=496, bias=True)\n",
      "    (2): ReLU()\n",
      "    (3): Dropout(p=0.3, inplace=False)\n",
      "    (4): Linear(in_features=496, out_features=1, bias=True)\n",
      "    (5): Sigmoid()\n",
      "  )\n",
      ")\n",
      "----------------------------------------------------------------\n",
      "        Layer (type)               Output Shape         Param #\n",
      "================================================================\n",
      "           Dropout-1                  [-1, 496]               0\n",
      "            Linear-2                  [-1, 496]         246,512\n",
      "              ReLU-3                  [-1, 496]               0\n",
      "           Dropout-4                  [-1, 496]               0\n",
      "            Linear-5                    [-1, 1]             497\n",
      "           Sigmoid-6                    [-1, 1]               0\n",
      "================================================================\n",
      "Total params: 247,009\n",
      "Trainable params: 247,009\n",
      "Non-trainable params: 0\n",
      "----------------------------------------------------------------\n",
      "Input size (MB): 0.00\n",
      "Forward/backward pass size (MB): 0.02\n",
      "Params size (MB): 0.94\n",
      "Estimated Total Size (MB): 0.96\n",
      "----------------------------------------------------------------\n",
      "Epoch: 1   Train loss: 0.5151   Train accuracy: 0.036   Val loss: 0.3563   Val accuracy: 0.289    weighted Val loss: 0.3563\n",
      "0.289 ----------saved-----------\n",
      "Epoch: 2   Train loss: 0.3234   Train accuracy: 0.0   Val loss: 0.3259   Val accuracy: 0.358    weighted Val loss: 0.3563\n",
      "0.358 ----------saved-----------\n",
      "Epoch: 3   Train loss: 0.3127   Train accuracy: 0.0   Val loss: 0.3102   Val accuracy: 0.404    weighted Val loss: 0.3562\n",
      "0.404 ----------saved-----------\n",
      "Epoch: 4   Train loss: 0.2919   Train accuracy: 0.0   Val loss: 0.2996   Val accuracy: 0.507    weighted Val loss: 0.356\n",
      "0.507 ----------saved-----------\n",
      "Epoch: 5   Train loss: 0.2955   Train accuracy: 0.0   Val loss: 0.2921   Val accuracy: 0.502    weighted Val loss: 0.3559\n",
      "Epoch: 6   Train loss: 0.2731   Train accuracy: 0.0   Val loss: 0.2865   Val accuracy: 0.509    weighted Val loss: 0.3558\n",
      "0.509 ----------saved-----------\n",
      "Epoch: 7   Train loss: 0.2838   Train accuracy: 0.0   Val loss: 0.2805   Val accuracy: 0.488    weighted Val loss: 0.3556\n",
      "Epoch: 8   Train loss: 0.2619   Train accuracy: 0.011   Val loss: 0.2739   Val accuracy: 0.511    weighted Val loss: 0.3555\n",
      "0.511 ----------saved-----------\n",
      "Epoch: 9   Train loss: 0.2625   Train accuracy: 0.009   Val loss: 0.2702   Val accuracy: 0.511    weighted Val loss: 0.3553\n",
      "0.511 ----------saved-----------\n",
      "Epoch: 10   Train loss: 0.2516   Train accuracy: 0.055   Val loss: 0.2657   Val accuracy: 0.508    weighted Val loss: 0.3551\n",
      "Epoch: 11   Train loss: 0.2497   Train accuracy: 0.074   Val loss: 0.2619   Val accuracy: 0.5    weighted Val loss: 0.3549\n",
      "Epoch: 12   Train loss: 0.2439   Train accuracy: 0.224   Val loss: 0.2582   Val accuracy: 0.509    weighted Val loss: 0.3547\n",
      "Epoch: 13   Train loss: 0.2395   Train accuracy: 0.173   Val loss: 0.2554   Val accuracy: 0.508    weighted Val loss: 0.3545\n",
      "Epoch: 14   Train loss: 0.2381   Train accuracy: 0.24   Val loss: 0.2535   Val accuracy: 0.509    weighted Val loss: 0.3543\n",
      "Epoch: 15   Train loss: 0.2311   Train accuracy: 0.298   Val loss: 0.2493   Val accuracy: 0.511    weighted Val loss: 0.3541\n",
      "Epoch: 16   Train loss: 0.2249   Train accuracy: 0.292   Val loss: 0.2466   Val accuracy: 0.525    weighted Val loss: 0.3539\n",
      "0.525 ----------saved-----------\n",
      "Epoch: 17   Train loss: 0.2242   Train accuracy: 0.29   Val loss: 0.2443   Val accuracy: 0.525    weighted Val loss: 0.3537\n",
      "Epoch: 18   Train loss: 0.2176   Train accuracy: 0.37   Val loss: 0.2448   Val accuracy: 0.521    weighted Val loss: 0.3535\n",
      "Epoch: 19   Train loss: 0.2215   Train accuracy: 0.417   Val loss: 0.2416   Val accuracy: 0.541    weighted Val loss: 0.3533\n",
      "0.541 ----------saved-----------\n",
      "Epoch: 20   Train loss: 0.2208   Train accuracy: 0.357   Val loss: 0.2442   Val accuracy: 0.525    weighted Val loss: 0.353\n",
      "Epoch: 21   Train loss: 0.2274   Train accuracy: 0.394   Val loss: 0.242   Val accuracy: 0.533    weighted Val loss: 0.3528\n",
      "Epoch: 22   Train loss: 0.2336   Train accuracy: 0.402   Val loss: 0.244   Val accuracy: 0.534    weighted Val loss: 0.3526\n",
      "Epoch: 23   Train loss: 0.226   Train accuracy: 0.389   Val loss: 0.2409   Val accuracy: 0.509    weighted Val loss: 0.3524\n",
      "Epoch: 24   Train loss: 0.2149   Train accuracy: 0.406   Val loss: 0.2443   Val accuracy: 0.526    weighted Val loss: 0.3522\n",
      "Epoch: 25   Train loss: 0.2051   Train accuracy: 0.417   Val loss: 0.2407   Val accuracy: 0.516    weighted Val loss: 0.3519\n",
      "Epoch: 26   Train loss: 0.2048   Train accuracy: 0.451   Val loss: 0.2445   Val accuracy: 0.528    weighted Val loss: 0.3517\n",
      "Epoch: 27   Train loss: 0.2139   Train accuracy: 0.42   Val loss: 0.2391   Val accuracy: 0.517    weighted Val loss: 0.3515\n",
      "Epoch: 28   Train loss: 0.2241   Train accuracy: 0.525   Val loss: 0.2437   Val accuracy: 0.523    weighted Val loss: 0.3513\n",
      "Epoch: 29   Train loss: 0.2097   Train accuracy: 0.486   Val loss: 0.2401   Val accuracy: 0.527    weighted Val loss: 0.3511\n",
      "Epoch: 30   Train loss: 0.2124   Train accuracy: 0.466   Val loss: 0.2397   Val accuracy: 0.514    weighted Val loss: 0.3508\n",
      "Epoch: 31   Train loss: 0.2276   Train accuracy: 0.473   Val loss: 0.2411   Val accuracy: 0.526    weighted Val loss: 0.3506\n",
      "Epoch: 32   Train loss: 0.2122   Train accuracy: 0.438   Val loss: 0.2396   Val accuracy: 0.525    weighted Val loss: 0.3504\n",
      "Epoch: 33   Train loss: 0.2172   Train accuracy: 0.526   Val loss: 0.2438   Val accuracy: 0.508    weighted Val loss: 0.3502\n",
      "Epoch: 34   Train loss: 0.213   Train accuracy: 0.418   Val loss: 0.2377   Val accuracy: 0.514    weighted Val loss: 0.35\n",
      "Epoch: 35   Train loss: 0.2013   Train accuracy: 0.466   Val loss: 0.2443   Val accuracy: 0.502    weighted Val loss: 0.3497\n",
      "Epoch: 36   Train loss: 0.2047   Train accuracy: 0.42   Val loss: 0.241   Val accuracy: 0.5    weighted Val loss: 0.3495\n"
     ]
    },
    {
     "name": "stderr",
     "output_type": "stream",
     "text": [
      "C:\\Users\\caixu\\anaconda3\\lib\\site-packages\\sklearn\\metrics\\_classification.py:1464: UndefinedMetricWarning: F-score is ill-defined and being set to 0.0 due to no true nor predicted samples. Use `zero_division` parameter to control this behavior.\n",
      "  _warn_prf(\n"
     ]
    },
    {
     "name": "stdout",
     "output_type": "stream",
     "text": [
      "Epoch: 37   Train loss: 0.2141   Train accuracy: 0.536   Val loss: 0.2399   Val accuracy: 0.515    weighted Val loss: 0.3493\n",
      "Epoch: 38   Train loss: 0.2077   Train accuracy: 0.513   Val loss: 0.241   Val accuracy: 0.525    weighted Val loss: 0.3491\n",
      "Epoch: 39   Train loss: 0.1984   Train accuracy: 0.488   Val loss: 0.2373   Val accuracy: 0.527    weighted Val loss: 0.3489\n",
      "Epoch: 40   Train loss: 0.2007   Train accuracy: 0.515   Val loss: 0.2453   Val accuracy: 0.532    weighted Val loss: 0.3487\n",
      "Epoch: 41   Train loss: 0.2041   Train accuracy: 0.43   Val loss: 0.2368   Val accuracy: 0.528    weighted Val loss: 0.3484\n",
      "Epoch: 42   Train loss: 0.1929   Train accuracy: 0.526   Val loss: 0.2408   Val accuracy: 0.535    weighted Val loss: 0.3482\n",
      "Epoch: 43   Train loss: 0.1921   Train accuracy: 0.552   Val loss: 0.2384   Val accuracy: 0.515    weighted Val loss: 0.348\n",
      "Epoch: 44   Train loss: 0.2256   Train accuracy: 0.435   Val loss: 0.2379   Val accuracy: 0.511    weighted Val loss: 0.3478\n",
      "Epoch: 45   Train loss: 0.1901   Train accuracy: 0.583   Val loss: 0.2398   Val accuracy: 0.515    weighted Val loss: 0.3476\n",
      "Epoch: 46   Train loss: 0.2267   Train accuracy: 0.416   Val loss: 0.2354   Val accuracy: 0.526    weighted Val loss: 0.3473\n",
      "Epoch: 47   Train loss: 0.223   Train accuracy: 0.538   Val loss: 0.2428   Val accuracy: 0.523    weighted Val loss: 0.3471\n",
      "Epoch: 48   Train loss: 0.2142   Train accuracy: 0.528   Val loss: 0.24   Val accuracy: 0.528    weighted Val loss: 0.3469\n",
      "Epoch: 49   Train loss: 0.2198   Train accuracy: 0.489   Val loss: 0.2357   Val accuracy: 0.527    weighted Val loss: 0.3467\n",
      "Epoch: 50   Train loss: 0.2027   Train accuracy: 0.499   Val loss: 0.2349   Val accuracy: 0.53    weighted Val loss: 0.3465\n",
      "Epoch: 51   Train loss: 0.1987   Train accuracy: 0.526   Val loss: 0.2363   Val accuracy: 0.548    weighted Val loss: 0.3462\n",
      "0.548 ----------saved-----------\n",
      "Epoch: 52   Train loss: 0.1959   Train accuracy: 0.523   Val loss: 0.2369   Val accuracy: 0.549    weighted Val loss: 0.346\n",
      "0.549 ----------saved-----------\n",
      "Epoch: 53   Train loss: 0.1928   Train accuracy: 0.55   Val loss: 0.2366   Val accuracy: 0.533    weighted Val loss: 0.3458\n",
      "Epoch: 54   Train loss: 0.1931   Train accuracy: 0.503   Val loss: 0.2375   Val accuracy: 0.549    weighted Val loss: 0.3456\n",
      "Epoch: 55   Train loss: 0.1983   Train accuracy: 0.522   Val loss: 0.2335   Val accuracy: 0.532    weighted Val loss: 0.3454\n",
      "Epoch: 56   Train loss: 0.1943   Train accuracy: 0.583   Val loss: 0.2384   Val accuracy: 0.525    weighted Val loss: 0.3452\n",
      "Epoch: 57   Train loss: 0.1887   Train accuracy: 0.526   Val loss: 0.2341   Val accuracy: 0.534    weighted Val loss: 0.3449\n",
      "Epoch: 58   Train loss: 0.1957   Train accuracy: 0.506   Val loss: 0.2394   Val accuracy: 0.541    weighted Val loss: 0.3447\n",
      "Epoch: 59   Train loss: 0.1892   Train accuracy: 0.484   Val loss: 0.2324   Val accuracy: 0.559    weighted Val loss: 0.3445\n",
      "0.559 ----------saved-----------\n",
      "Epoch: 60   Train loss: 0.1857   Train accuracy: 0.57   Val loss: 0.2304   Val accuracy: 0.547    weighted Val loss: 0.3443\n",
      "Epoch: 61   Train loss: 0.2022   Train accuracy: 0.517   Val loss: 0.2327   Val accuracy: 0.557    weighted Val loss: 0.344\n",
      "Epoch: 62   Train loss: 0.2046   Train accuracy: 0.545   Val loss: 0.227   Val accuracy: 0.557    weighted Val loss: 0.3438\n",
      "Epoch: 63   Train loss: 0.1844   Train accuracy: 0.617   Val loss: 0.2388   Val accuracy: 0.551    weighted Val loss: 0.3436\n",
      "Epoch: 64   Train loss: 0.1997   Train accuracy: 0.518   Val loss: 0.2262   Val accuracy: 0.555    weighted Val loss: 0.3434\n",
      "Epoch: 65   Train loss: 0.1892   Train accuracy: 0.593   Val loss: 0.2388   Val accuracy: 0.553    weighted Val loss: 0.3432\n",
      "Epoch: 66   Train loss: 0.1928   Train accuracy: 0.427   Val loss: 0.2258   Val accuracy: 0.553    weighted Val loss: 0.3429\n",
      "Epoch: 67   Train loss: 0.1888   Train accuracy: 0.541   Val loss: 0.2312   Val accuracy: 0.57    weighted Val loss: 0.3427\n",
      "0.57 ----------saved-----------\n",
      "Epoch: 68   Train loss: 0.2023   Train accuracy: 0.588   Val loss: 0.2279   Val accuracy: 0.569    weighted Val loss: 0.3425\n",
      "Epoch: 69   Train loss: 0.1884   Train accuracy: 0.584   Val loss: 0.2331   Val accuracy: 0.565    weighted Val loss: 0.3423\n",
      "Epoch: 70   Train loss: 0.1852   Train accuracy: 0.554   Val loss: 0.2287   Val accuracy: 0.567    weighted Val loss: 0.342\n",
      "Epoch: 71   Train loss: 0.1809   Train accuracy: 0.59   Val loss: 0.2332   Val accuracy: 0.563    weighted Val loss: 0.3418\n",
      "Epoch: 72   Train loss: 0.1829   Train accuracy: 0.584   Val loss: 0.2279   Val accuracy: 0.554    weighted Val loss: 0.3416\n",
      "Epoch: 73   Train loss: 0.2005   Train accuracy: 0.529   Val loss: 0.2275   Val accuracy: 0.565    weighted Val loss: 0.3414\n",
      "Epoch: 74   Train loss: 0.186   Train accuracy: 0.601   Val loss: 0.2282   Val accuracy: 0.568    weighted Val loss: 0.3411\n",
      "Epoch: 75   Train loss: 0.1851   Train accuracy: 0.512   Val loss: 0.2299   Val accuracy: 0.554    weighted Val loss: 0.3409\n",
      "Epoch: 76   Train loss: 0.1828   Train accuracy: 0.501   Val loss: 0.227   Val accuracy: 0.558    weighted Val loss: 0.3407\n",
      "Epoch: 77   Train loss: 0.1883   Train accuracy: 0.606   Val loss: 0.2333   Val accuracy: 0.553    weighted Val loss: 0.3405\n",
      "Epoch: 78   Train loss: 0.2258   Train accuracy: 0.524   Val loss: 0.2269   Val accuracy: 0.563    weighted Val loss: 0.3402\n",
      "Epoch: 79   Train loss: 0.1787   Train accuracy: 0.647   Val loss: 0.239   Val accuracy: 0.553    weighted Val loss: 0.34\n",
      "Epoch: 80   Train loss: 0.1836   Train accuracy: 0.542   Val loss: 0.2287   Val accuracy: 0.556    weighted Val loss: 0.3398\n",
      "Epoch: 81   Train loss: 0.1984   Train accuracy: 0.613   Val loss: 0.2406   Val accuracy: 0.534    weighted Val loss: 0.3396\n",
      "Epoch: 82   Train loss: 0.2057   Train accuracy: 0.568   Val loss: 0.2292   Val accuracy: 0.539    weighted Val loss: 0.3394\n",
      "Epoch: 83   Train loss: 0.1838   Train accuracy: 0.612   Val loss: 0.2373   Val accuracy: 0.541    weighted Val loss: 0.3392\n",
      "Epoch: 84   Train loss: 0.182   Train accuracy: 0.482   Val loss: 0.2319   Val accuracy: 0.542    weighted Val loss: 0.339\n",
      "Epoch: 85   Train loss: 0.1857   Train accuracy: 0.619   Val loss: 0.2321   Val accuracy: 0.54    weighted Val loss: 0.3388\n",
      "Epoch: 86   Train loss: 0.1881   Train accuracy: 0.525   Val loss: 0.2299   Val accuracy: 0.54    weighted Val loss: 0.3385\n",
      "Epoch: 87   Train loss: 0.1871   Train accuracy: 0.483   Val loss: 0.2321   Val accuracy: 0.549    weighted Val loss: 0.3383\n",
      "Epoch: 88   Train loss: 0.185   Train accuracy: 0.534   Val loss: 0.2291   Val accuracy: 0.562    weighted Val loss: 0.3381\n",
      "Epoch: 89   Train loss: 0.1904   Train accuracy: 0.543   Val loss: 0.2289   Val accuracy: 0.57    weighted Val loss: 0.3379\n",
      "Epoch: 90   Train loss: 0.1684   Train accuracy: 0.582   Val loss: 0.2297   Val accuracy: 0.574    weighted Val loss: 0.3377\n",
      "0.574 ----------saved-----------\n",
      "Epoch: 91   Train loss: 0.1783   Train accuracy: 0.55   Val loss: 0.2279   Val accuracy: 0.563    weighted Val loss: 0.3375\n",
      "Epoch: 92   Train loss: 0.1924   Train accuracy: 0.533   Val loss: 0.2329   Val accuracy: 0.556    weighted Val loss: 0.3372\n",
      "Epoch: 93   Train loss: 0.1806   Train accuracy: 0.532   Val loss: 0.2239   Val accuracy: 0.571    weighted Val loss: 0.337\n",
      "Epoch: 94   Train loss: 0.1772   Train accuracy: 0.552   Val loss: 0.2349   Val accuracy: 0.562    weighted Val loss: 0.3368\n",
      "Epoch: 95   Train loss: 0.1792   Train accuracy: 0.532   Val loss: 0.228   Val accuracy: 0.557    weighted Val loss: 0.3366\n",
      "Epoch: 96   Train loss: 0.1718   Train accuracy: 0.479   Val loss: 0.2282   Val accuracy: 0.564    weighted Val loss: 0.3364\n",
      "Epoch: 97   Train loss: 0.1685   Train accuracy: 0.608   Val loss: 0.2309   Val accuracy: 0.562    weighted Val loss: 0.3362\n",
      "Epoch: 98   Train loss: 0.1933   Train accuracy: 0.579   Val loss: 0.2244   Val accuracy: 0.568    weighted Val loss: 0.3359\n",
      "Epoch: 99   Train loss: 0.1707   Train accuracy: 0.663   Val loss: 0.2383   Val accuracy: 0.55    weighted Val loss: 0.3357\n",
      "Epoch: 100   Train loss: 0.1839   Train accuracy: 0.566   Val loss: 0.2241   Val accuracy: 0.561    weighted Val loss: 0.3355\n",
      "Epoch: 101   Train loss: 0.1921   Train accuracy: 0.562   Val loss: 0.2416   Val accuracy: 0.549    weighted Val loss: 0.3353\n",
      "Epoch: 102   Train loss: 0.1854   Train accuracy: 0.542   Val loss: 0.2283   Val accuracy: 0.551    weighted Val loss: 0.3351\n",
      "Epoch: 103   Train loss: 0.1842   Train accuracy: 0.464   Val loss: 0.2342   Val accuracy: 0.533    weighted Val loss: 0.3349\n",
      "Epoch: 104   Train loss: 0.2045   Train accuracy: 0.53   Val loss: 0.2323   Val accuracy: 0.549    weighted Val loss: 0.3347\n"
     ]
    },
    {
     "name": "stdout",
     "output_type": "stream",
     "text": [
      "Epoch: 105   Train loss: 0.1905   Train accuracy: 0.582   Val loss: 0.2336   Val accuracy: 0.549    weighted Val loss: 0.3345\n",
      "Epoch: 106   Train loss: 0.1988   Train accuracy: 0.549   Val loss: 0.2309   Val accuracy: 0.554    weighted Val loss: 0.3343\n",
      "Epoch: 107   Train loss: 0.1671   Train accuracy: 0.627   Val loss: 0.2327   Val accuracy: 0.54    weighted Val loss: 0.3341\n",
      "Epoch: 108   Train loss: 0.1709   Train accuracy: 0.625   Val loss: 0.2334   Val accuracy: 0.542    weighted Val loss: 0.3339\n",
      "Epoch: 109   Train loss: 0.1799   Train accuracy: 0.579   Val loss: 0.2325   Val accuracy: 0.539    weighted Val loss: 0.3337\n",
      "Epoch: 110   Train loss: 0.1749   Train accuracy: 0.539   Val loss: 0.2334   Val accuracy: 0.559    weighted Val loss: 0.3335\n",
      "Epoch: 111   Train loss: 0.1667   Train accuracy: 0.606   Val loss: 0.2268   Val accuracy: 0.551    weighted Val loss: 0.3333\n",
      "Epoch: 112   Train loss: 0.1736   Train accuracy: 0.596   Val loss: 0.2318   Val accuracy: 0.545    weighted Val loss: 0.3331\n",
      "Epoch: 113   Train loss: 0.1659   Train accuracy: 0.581   Val loss: 0.2308   Val accuracy: 0.562    weighted Val loss: 0.3329\n",
      "Epoch: 114   Train loss: 0.1718   Train accuracy: 0.597   Val loss: 0.2314   Val accuracy: 0.558    weighted Val loss: 0.3327\n",
      "Epoch: 115   Train loss: 0.1902   Train accuracy: 0.607   Val loss: 0.2303   Val accuracy: 0.555    weighted Val loss: 0.3325\n",
      "Epoch: 116   Train loss: 0.1664   Train accuracy: 0.656   Val loss: 0.2359   Val accuracy: 0.56    weighted Val loss: 0.3323\n",
      "Epoch: 117   Train loss: 0.1658   Train accuracy: 0.617   Val loss: 0.2265   Val accuracy: 0.565    weighted Val loss: 0.3321\n",
      "Epoch: 118   Train loss: 0.1758   Train accuracy: 0.571   Val loss: 0.2326   Val accuracy: 0.569    weighted Val loss: 0.3319\n",
      "Epoch: 119   Train loss: 0.1855   Train accuracy: 0.579   Val loss: 0.2277   Val accuracy: 0.562    weighted Val loss: 0.3317\n",
      "Epoch: 120   Train loss: 0.1673   Train accuracy: 0.586   Val loss: 0.228   Val accuracy: 0.567    weighted Val loss: 0.3315\n",
      "Epoch: 121   Train loss: 0.168   Train accuracy: 0.635   Val loss: 0.2297   Val accuracy: 0.559    weighted Val loss: 0.3312\n",
      "Epoch: 122   Train loss: 0.1757   Train accuracy: 0.539   Val loss: 0.2308   Val accuracy: 0.575    weighted Val loss: 0.331\n",
      "0.575 ----------saved-----------\n",
      "Epoch: 123   Train loss: 0.1671   Train accuracy: 0.626   Val loss: 0.2245   Val accuracy: 0.567    weighted Val loss: 0.3308\n",
      "Epoch: 124   Train loss: 0.1654   Train accuracy: 0.662   Val loss: 0.2372   Val accuracy: 0.554    weighted Val loss: 0.3306\n",
      "Epoch: 125   Train loss: 0.1805   Train accuracy: 0.485   Val loss: 0.2265   Val accuracy: 0.575    weighted Val loss: 0.3304\n",
      "Epoch: 126   Train loss: 0.1638   Train accuracy: 0.618   Val loss: 0.229   Val accuracy: 0.573    weighted Val loss: 0.3302\n",
      "Epoch: 127   Train loss: 0.1664   Train accuracy: 0.621   Val loss: 0.2279   Val accuracy: 0.571    weighted Val loss: 0.33\n",
      "Epoch: 128   Train loss: 0.1557   Train accuracy: 0.701   Val loss: 0.2354   Val accuracy: 0.575    weighted Val loss: 0.3298\n",
      "0.575 ----------saved-----------\n",
      "Epoch: 129   Train loss: 0.1626   Train accuracy: 0.547   Val loss: 0.2254   Val accuracy: 0.575    weighted Val loss: 0.3296\n",
      "0.575 ----------saved-----------\n",
      "Epoch: 130   Train loss: 0.1533   Train accuracy: 0.548   Val loss: 0.2309   Val accuracy: 0.564    weighted Val loss: 0.3294\n",
      "Epoch: 131   Train loss: 0.1638   Train accuracy: 0.543   Val loss: 0.2209   Val accuracy: 0.575    weighted Val loss: 0.3292\n",
      "Epoch: 132   Train loss: 0.1697   Train accuracy: 0.565   Val loss: 0.2272   Val accuracy: 0.564    weighted Val loss: 0.329\n",
      "Epoch: 133   Train loss: 0.1575   Train accuracy: 0.666   Val loss: 0.2316   Val accuracy: 0.566    weighted Val loss: 0.3288\n",
      "Epoch: 134   Train loss: 0.166   Train accuracy: 0.597   Val loss: 0.2209   Val accuracy: 0.581    weighted Val loss: 0.3286\n",
      "0.581 ----------saved-----------\n",
      "Epoch: 135   Train loss: 0.1556   Train accuracy: 0.632   Val loss: 0.2291   Val accuracy: 0.565    weighted Val loss: 0.3284\n",
      "Epoch: 136   Train loss: 0.1481   Train accuracy: 0.686   Val loss: 0.2265   Val accuracy: 0.57    weighted Val loss: 0.3282\n",
      "Epoch: 137   Train loss: 0.1663   Train accuracy: 0.597   Val loss: 0.2242   Val accuracy: 0.571    weighted Val loss: 0.328\n",
      "Epoch: 138   Train loss: 0.1848   Train accuracy: 0.572   Val loss: 0.2251   Val accuracy: 0.559    weighted Val loss: 0.3278\n",
      "Epoch: 139   Train loss: 0.1658   Train accuracy: 0.635   Val loss: 0.2356   Val accuracy: 0.551    weighted Val loss: 0.3276\n",
      "Epoch: 140   Train loss: 0.163   Train accuracy: 0.611   Val loss: 0.2253   Val accuracy: 0.571    weighted Val loss: 0.3274\n",
      "Epoch: 141   Train loss: 0.1813   Train accuracy: 0.652   Val loss: 0.2409   Val accuracy: 0.55    weighted Val loss: 0.3272\n",
      "Epoch: 142   Train loss: 0.1631   Train accuracy: 0.609   Val loss: 0.2279   Val accuracy: 0.575    weighted Val loss: 0.327\n",
      "Epoch: 143   Train loss: 0.1685   Train accuracy: 0.56   Val loss: 0.2315   Val accuracy: 0.577    weighted Val loss: 0.3268\n",
      "Epoch: 144   Train loss: 0.1606   Train accuracy: 0.603   Val loss: 0.2324   Val accuracy: 0.576    weighted Val loss: 0.3266\n",
      "Epoch: 145   Train loss: 0.1716   Train accuracy: 0.56   Val loss: 0.2309   Val accuracy: 0.567    weighted Val loss: 0.3265\n",
      "Epoch: 146   Train loss: 0.1508   Train accuracy: 0.645   Val loss: 0.2312   Val accuracy: 0.574    weighted Val loss: 0.3263\n",
      "Epoch: 147   Train loss: 0.1624   Train accuracy: 0.616   Val loss: 0.2229   Val accuracy: 0.588    weighted Val loss: 0.3261\n",
      "0.588 ----------saved-----------\n",
      "Epoch: 148   Train loss: 0.1641   Train accuracy: 0.62   Val loss: 0.2222   Val accuracy: 0.576    weighted Val loss: 0.3258\n",
      "Epoch: 149   Train loss: 0.1692   Train accuracy: 0.627   Val loss: 0.2277   Val accuracy: 0.569    weighted Val loss: 0.3257\n",
      "Epoch: 150   Train loss: 0.1559   Train accuracy: 0.634   Val loss: 0.2357   Val accuracy: 0.584    weighted Val loss: 0.3255\n",
      "Epoch: 151   Train loss: 0.1607   Train accuracy: 0.601   Val loss: 0.2257   Val accuracy: 0.578    weighted Val loss: 0.3253\n",
      "Epoch: 152   Train loss: 0.1586   Train accuracy: 0.654   Val loss: 0.2389   Val accuracy: 0.564    weighted Val loss: 0.3251\n",
      "Epoch: 153   Train loss: 0.151   Train accuracy: 0.651   Val loss: 0.2286   Val accuracy: 0.56    weighted Val loss: 0.3249\n",
      "Epoch: 154   Train loss: 0.1521   Train accuracy: 0.658   Val loss: 0.2219   Val accuracy: 0.574    weighted Val loss: 0.3247\n",
      "Epoch: 155   Train loss: 0.1556   Train accuracy: 0.657   Val loss: 0.2299   Val accuracy: 0.583    weighted Val loss: 0.3245\n",
      "Epoch: 156   Train loss: 0.1503   Train accuracy: 0.653   Val loss: 0.2225   Val accuracy: 0.582    weighted Val loss: 0.3243\n",
      "Epoch: 157   Train loss: 0.1469   Train accuracy: 0.62   Val loss: 0.2254   Val accuracy: 0.587    weighted Val loss: 0.3241\n",
      "Epoch: 158   Train loss: 0.1514   Train accuracy: 0.625   Val loss: 0.2239   Val accuracy: 0.583    weighted Val loss: 0.3239\n",
      "Epoch: 159   Train loss: 0.1699   Train accuracy: 0.573   Val loss: 0.2214   Val accuracy: 0.59    weighted Val loss: 0.3237\n",
      "0.59 ----------saved-----------\n",
      "Epoch: 160   Train loss: 0.1459   Train accuracy: 0.619   Val loss: 0.2356   Val accuracy: 0.589    weighted Val loss: 0.3235\n",
      "Epoch: 161   Train loss: 0.1858   Train accuracy: 0.585   Val loss: 0.2187   Val accuracy: 0.587    weighted Val loss: 0.3233\n",
      "Epoch: 162   Train loss: 0.1533   Train accuracy: 0.618   Val loss: 0.2197   Val accuracy: 0.583    weighted Val loss: 0.3231\n",
      "Epoch: 163   Train loss: 0.1528   Train accuracy: 0.629   Val loss: 0.229   Val accuracy: 0.582    weighted Val loss: 0.3229\n",
      "Epoch: 164   Train loss: 0.1596   Train accuracy: 0.566   Val loss: 0.2176   Val accuracy: 0.587    weighted Val loss: 0.3227\n",
      "Epoch: 165   Train loss: 0.1685   Train accuracy: 0.542   Val loss: 0.2234   Val accuracy: 0.583    weighted Val loss: 0.3225\n",
      "Epoch: 166   Train loss: 0.1594   Train accuracy: 0.658   Val loss: 0.2208   Val accuracy: 0.587    weighted Val loss: 0.3223\n",
      "Epoch: 167   Train loss: 0.1605   Train accuracy: 0.683   Val loss: 0.2273   Val accuracy: 0.577    weighted Val loss: 0.3221\n",
      "Epoch: 168   Train loss: 0.1614   Train accuracy: 0.677   Val loss: 0.2275   Val accuracy: 0.574    weighted Val loss: 0.3219\n",
      "Epoch: 169   Train loss: 0.1485   Train accuracy: 0.714   Val loss: 0.2295   Val accuracy: 0.581    weighted Val loss: 0.3217\n"
     ]
    },
    {
     "name": "stdout",
     "output_type": "stream",
     "text": [
      "Epoch: 170   Train loss: 0.1528   Train accuracy: 0.702   Val loss: 0.2234   Val accuracy: 0.585    weighted Val loss: 0.3215\n",
      "Epoch: 171   Train loss: 0.1769   Train accuracy: 0.617   Val loss: 0.222   Val accuracy: 0.585    weighted Val loss: 0.3214\n",
      "Epoch: 172   Train loss: 0.1617   Train accuracy: 0.675   Val loss: 0.2371   Val accuracy: 0.573    weighted Val loss: 0.3212\n",
      "Epoch: 173   Train loss: 0.1643   Train accuracy: 0.489   Val loss: 0.2269   Val accuracy: 0.58    weighted Val loss: 0.321\n",
      "Epoch: 174   Train loss: 0.151   Train accuracy: 0.577   Val loss: 0.2296   Val accuracy: 0.579    weighted Val loss: 0.3208\n",
      "Epoch: 175   Train loss: 0.1563   Train accuracy: 0.607   Val loss: 0.2264   Val accuracy: 0.578    weighted Val loss: 0.3206\n",
      "Epoch: 176   Train loss: 0.1578   Train accuracy: 0.593   Val loss: 0.2253   Val accuracy: 0.597    weighted Val loss: 0.3204\n",
      "0.597 ----------saved-----------\n",
      "Epoch: 177   Train loss: 0.149   Train accuracy: 0.608   Val loss: 0.2305   Val accuracy: 0.585    weighted Val loss: 0.3203\n",
      "Epoch: 178   Train loss: 0.1442   Train accuracy: 0.653   Val loss: 0.2242   Val accuracy: 0.576    weighted Val loss: 0.3201\n",
      "Epoch: 179   Train loss: 0.1392   Train accuracy: 0.626   Val loss: 0.2365   Val accuracy: 0.573    weighted Val loss: 0.3199\n",
      "Epoch: 180   Train loss: 0.1745   Train accuracy: 0.526   Val loss: 0.2216   Val accuracy: 0.586    weighted Val loss: 0.3197\n",
      "Epoch: 181   Train loss: 0.1614   Train accuracy: 0.711   Val loss: 0.2374   Val accuracy: 0.577    weighted Val loss: 0.3195\n",
      "Epoch: 182   Train loss: 0.1513   Train accuracy: 0.605   Val loss: 0.2242   Val accuracy: 0.585    weighted Val loss: 0.3193\n",
      "Epoch: 183   Train loss: 0.145   Train accuracy: 0.623   Val loss: 0.2279   Val accuracy: 0.581    weighted Val loss: 0.3192\n",
      "Epoch: 184   Train loss: 0.1437   Train accuracy: 0.67   Val loss: 0.2244   Val accuracy: 0.584    weighted Val loss: 0.319\n",
      "Epoch: 185   Train loss: 0.1671   Train accuracy: 0.585   Val loss: 0.2266   Val accuracy: 0.583    weighted Val loss: 0.3188\n",
      "Epoch: 186   Train loss: 0.1558   Train accuracy: 0.678   Val loss: 0.2286   Val accuracy: 0.586    weighted Val loss: 0.3186\n",
      "Epoch: 187   Train loss: 0.1449   Train accuracy: 0.696   Val loss: 0.2228   Val accuracy: 0.59    weighted Val loss: 0.3184\n",
      "Epoch: 188   Train loss: 0.1541   Train accuracy: 0.627   Val loss: 0.2227   Val accuracy: 0.576    weighted Val loss: 0.3182\n",
      "Epoch: 189   Train loss: 0.1538   Train accuracy: 0.686   Val loss: 0.2228   Val accuracy: 0.582    weighted Val loss: 0.318\n",
      "Epoch: 190   Train loss: 0.1457   Train accuracy: 0.647   Val loss: 0.2286   Val accuracy: 0.577    weighted Val loss: 0.3179\n",
      "Epoch: 191   Train loss: 0.1523   Train accuracy: 0.671   Val loss: 0.2247   Val accuracy: 0.573    weighted Val loss: 0.3177\n",
      "Epoch: 192   Train loss: 0.1476   Train accuracy: 0.661   Val loss: 0.224   Val accuracy: 0.579    weighted Val loss: 0.3175\n",
      "Epoch: 193   Train loss: 0.1526   Train accuracy: 0.64   Val loss: 0.226   Val accuracy: 0.581    weighted Val loss: 0.3173\n",
      "Epoch: 194   Train loss: 0.1502   Train accuracy: 0.622   Val loss: 0.2168   Val accuracy: 0.59    weighted Val loss: 0.3171\n",
      "Epoch: 195   Train loss: 0.1509   Train accuracy: 0.646   Val loss: 0.2234   Val accuracy: 0.589    weighted Val loss: 0.3169\n",
      "Epoch: 196   Train loss: 0.1428   Train accuracy: 0.647   Val loss: 0.2226   Val accuracy: 0.585    weighted Val loss: 0.3167\n",
      "Epoch: 197   Train loss: 0.1539   Train accuracy: 0.619   Val loss: 0.2206   Val accuracy: 0.585    weighted Val loss: 0.3165\n",
      "Epoch: 198   Train loss: 0.1364   Train accuracy: 0.747   Val loss: 0.2293   Val accuracy: 0.582    weighted Val loss: 0.3164\n",
      "Epoch: 199   Train loss: 0.1511   Train accuracy: 0.63   Val loss: 0.2213   Val accuracy: 0.582    weighted Val loss: 0.3162\n",
      "Epoch: 200   Train loss: 0.1351   Train accuracy: 0.772   Val loss: 0.2289   Val accuracy: 0.583    weighted Val loss: 0.316\n",
      "Epoch: 201   Train loss: 0.145   Train accuracy: 0.648   Val loss: 0.2161   Val accuracy: 0.581    weighted Val loss: 0.3158\n",
      "Epoch: 202   Train loss: 0.1632   Train accuracy: 0.654   Val loss: 0.2174   Val accuracy: 0.586    weighted Val loss: 0.3156\n",
      "Epoch: 203   Train loss: 0.1419   Train accuracy: 0.664   Val loss: 0.2231   Val accuracy: 0.573    weighted Val loss: 0.3154\n",
      "Epoch: 204   Train loss: 0.1368   Train accuracy: 0.643   Val loss: 0.2256   Val accuracy: 0.576    weighted Val loss: 0.3152\n",
      "Epoch: 205   Train loss: 0.1486   Train accuracy: 0.639   Val loss: 0.2189   Val accuracy: 0.577    weighted Val loss: 0.315\n",
      "Epoch: 206   Train loss: 0.1477   Train accuracy: 0.719   Val loss: 0.2244   Val accuracy: 0.578    weighted Val loss: 0.3149\n",
      "Epoch: 207   Train loss: 0.1431   Train accuracy: 0.611   Val loss: 0.2289   Val accuracy: 0.581    weighted Val loss: 0.3147\n",
      "Epoch: 208   Train loss: 0.1498   Train accuracy: 0.69   Val loss: 0.2241   Val accuracy: 0.583    weighted Val loss: 0.3145\n",
      "Epoch: 209   Train loss: 0.1432   Train accuracy: 0.633   Val loss: 0.2285   Val accuracy: 0.588    weighted Val loss: 0.3143\n",
      "Epoch: 210   Train loss: 0.147   Train accuracy: 0.689   Val loss: 0.2192   Val accuracy: 0.595    weighted Val loss: 0.3141\n",
      "Epoch: 211   Train loss: 0.1318   Train accuracy: 0.702   Val loss: 0.2355   Val accuracy: 0.588    weighted Val loss: 0.314\n",
      "Epoch: 212   Train loss: 0.138   Train accuracy: 0.686   Val loss: 0.2199   Val accuracy: 0.578    weighted Val loss: 0.3138\n",
      "Epoch: 213   Train loss: 0.1599   Train accuracy: 0.661   Val loss: 0.234   Val accuracy: 0.58    weighted Val loss: 0.3136\n",
      "Epoch: 214   Train loss: 0.1506   Train accuracy: 0.71   Val loss: 0.2271   Val accuracy: 0.567    weighted Val loss: 0.3135\n",
      "Epoch: 215   Train loss: 0.1365   Train accuracy: 0.726   Val loss: 0.2298   Val accuracy: 0.583    weighted Val loss: 0.3133\n",
      "Epoch: 216   Train loss: 0.1397   Train accuracy: 0.694   Val loss: 0.2311   Val accuracy: 0.58    weighted Val loss: 0.3131\n",
      "Epoch: 217   Train loss: 0.1388   Train accuracy: 0.665   Val loss: 0.2251   Val accuracy: 0.582    weighted Val loss: 0.3129\n",
      "Epoch: 218   Train loss: 0.1386   Train accuracy: 0.715   Val loss: 0.2357   Val accuracy: 0.584    weighted Val loss: 0.3128\n",
      "Epoch: 219   Train loss: 0.1394   Train accuracy: 0.665   Val loss: 0.2243   Val accuracy: 0.593    weighted Val loss: 0.3126\n",
      "Epoch: 220   Train loss: 0.1425   Train accuracy: 0.715   Val loss: 0.227   Val accuracy: 0.593    weighted Val loss: 0.3124\n",
      "Epoch: 221   Train loss: 0.1469   Train accuracy: 0.702   Val loss: 0.2253   Val accuracy: 0.591    weighted Val loss: 0.3123\n",
      "Epoch: 222   Train loss: 0.1552   Train accuracy: 0.677   Val loss: 0.2259   Val accuracy: 0.587    weighted Val loss: 0.3121\n",
      "Epoch: 223   Train loss: 0.137   Train accuracy: 0.7   Val loss: 0.2274   Val accuracy: 0.605    weighted Val loss: 0.3119\n",
      "0.605 ----------saved-----------\n",
      "Epoch: 224   Train loss: 0.1482   Train accuracy: 0.67   Val loss: 0.2204   Val accuracy: 0.598    weighted Val loss: 0.3117\n",
      "Epoch: 225   Train loss: 0.14   Train accuracy: 0.586   Val loss: 0.2226   Val accuracy: 0.597    weighted Val loss: 0.3116\n",
      "Epoch: 226   Train loss: 0.1403   Train accuracy: 0.733   Val loss: 0.2243   Val accuracy: 0.591    weighted Val loss: 0.3114\n",
      "Epoch: 227   Train loss: 0.1476   Train accuracy: 0.644   Val loss: 0.2201   Val accuracy: 0.58    weighted Val loss: 0.3112\n",
      "Epoch: 228   Train loss: 0.1447   Train accuracy: 0.668   Val loss: 0.2261   Val accuracy: 0.579    weighted Val loss: 0.311\n",
      "Epoch: 229   Train loss: 0.1368   Train accuracy: 0.632   Val loss: 0.2201   Val accuracy: 0.586    weighted Val loss: 0.3109\n",
      "Epoch: 230   Train loss: 0.1507   Train accuracy: 0.632   Val loss: 0.2275   Val accuracy: 0.581    weighted Val loss: 0.3107\n",
      "Epoch: 231   Train loss: 0.1552   Train accuracy: 0.645   Val loss: 0.2227   Val accuracy: 0.581    weighted Val loss: 0.3105\n",
      "Epoch: 232   Train loss: 0.1537   Train accuracy: 0.675   Val loss: 0.2315   Val accuracy: 0.583    weighted Val loss: 0.3104\n",
      "Epoch: 233   Train loss: 0.1449   Train accuracy: 0.658   Val loss: 0.2204   Val accuracy: 0.581    weighted Val loss: 0.3102\n",
      "Epoch: 234   Train loss: 0.1459   Train accuracy: 0.66   Val loss: 0.2246   Val accuracy: 0.591    weighted Val loss: 0.31\n"
     ]
    },
    {
     "name": "stdout",
     "output_type": "stream",
     "text": [
      "Epoch: 235   Train loss: 0.1336   Train accuracy: 0.718   Val loss: 0.2321   Val accuracy: 0.589    weighted Val loss: 0.3099\n",
      "Epoch: 236   Train loss: 0.1465   Train accuracy: 0.625   Val loss: 0.2315   Val accuracy: 0.581    weighted Val loss: 0.3097\n",
      "Epoch: 237   Train loss: 0.133   Train accuracy: 0.718   Val loss: 0.2336   Val accuracy: 0.571    weighted Val loss: 0.3095\n",
      "Epoch: 238   Train loss: 0.1375   Train accuracy: 0.675   Val loss: 0.2214   Val accuracy: 0.579    weighted Val loss: 0.3094\n",
      "Epoch: 239   Train loss: 0.1266   Train accuracy: 0.657   Val loss: 0.2331   Val accuracy: 0.579    weighted Val loss: 0.3092\n",
      "Epoch: 240   Train loss: 0.1323   Train accuracy: 0.602   Val loss: 0.2249   Val accuracy: 0.575    weighted Val loss: 0.309\n",
      "Epoch: 241   Train loss: 0.1556   Train accuracy: 0.666   Val loss: 0.2297   Val accuracy: 0.588    weighted Val loss: 0.3089\n",
      "Epoch: 242   Train loss: 0.1403   Train accuracy: 0.693   Val loss: 0.2229   Val accuracy: 0.591    weighted Val loss: 0.3087\n",
      "Epoch: 243   Train loss: 0.1341   Train accuracy: 0.691   Val loss: 0.2223   Val accuracy: 0.585    weighted Val loss: 0.3085\n",
      "Epoch: 244   Train loss: 0.1401   Train accuracy: 0.705   Val loss: 0.221   Val accuracy: 0.574    weighted Val loss: 0.3084\n",
      "Epoch: 245   Train loss: 0.135   Train accuracy: 0.718   Val loss: 0.2511   Val accuracy: 0.566    weighted Val loss: 0.3083\n",
      "Epoch: 246   Train loss: 0.1321   Train accuracy: 0.628   Val loss: 0.2198   Val accuracy: 0.582    weighted Val loss: 0.3081\n",
      "Epoch: 247   Train loss: 0.1618   Train accuracy: 0.607   Val loss: 0.2249   Val accuracy: 0.578    weighted Val loss: 0.3079\n",
      "Epoch: 248   Train loss: 0.1483   Train accuracy: 0.698   Val loss: 0.2365   Val accuracy: 0.57    weighted Val loss: 0.3078\n",
      "Epoch: 249   Train loss: 0.1527   Train accuracy: 0.652   Val loss: 0.2232   Val accuracy: 0.57    weighted Val loss: 0.3076\n",
      "Epoch: 250   Train loss: 0.1275   Train accuracy: 0.751   Val loss: 0.2462   Val accuracy: 0.565    weighted Val loss: 0.3075\n",
      "Epoch: 251   Train loss: 0.1467   Train accuracy: 0.639   Val loss: 0.2252   Val accuracy: 0.584    weighted Val loss: 0.3073\n",
      "Epoch: 252   Train loss: 0.1436   Train accuracy: 0.697   Val loss: 0.239   Val accuracy: 0.579    weighted Val loss: 0.3072\n",
      "Epoch: 253   Train loss: 0.145   Train accuracy: 0.631   Val loss: 0.2293   Val accuracy: 0.579    weighted Val loss: 0.307\n",
      "Epoch: 254   Train loss: 0.1302   Train accuracy: 0.617   Val loss: 0.2278   Val accuracy: 0.602    weighted Val loss: 0.3069\n",
      "Epoch: 255   Train loss: 0.144   Train accuracy: 0.659   Val loss: 0.2214   Val accuracy: 0.586    weighted Val loss: 0.3067\n",
      "Epoch: 256   Train loss: 0.1455   Train accuracy: 0.68   Val loss: 0.2335   Val accuracy: 0.581    weighted Val loss: 0.3065\n",
      "Epoch: 257   Train loss: 0.1598   Train accuracy: 0.635   Val loss: 0.2258   Val accuracy: 0.57    weighted Val loss: 0.3064\n",
      "Epoch: 258   Train loss: 0.1441   Train accuracy: 0.738   Val loss: 0.235   Val accuracy: 0.575    weighted Val loss: 0.3062\n",
      "Epoch: 259   Train loss: 0.1403   Train accuracy: 0.722   Val loss: 0.221   Val accuracy: 0.588    weighted Val loss: 0.3061\n",
      "Epoch: 260   Train loss: 0.1343   Train accuracy: 0.686   Val loss: 0.2312   Val accuracy: 0.58    weighted Val loss: 0.3059\n",
      "Epoch: 261   Train loss: 0.1271   Train accuracy: 0.722   Val loss: 0.2239   Val accuracy: 0.575    weighted Val loss: 0.3058\n",
      "Epoch: 262   Train loss: 0.1337   Train accuracy: 0.618   Val loss: 0.2387   Val accuracy: 0.585    weighted Val loss: 0.3056\n",
      "Epoch: 263   Train loss: 0.133   Train accuracy: 0.65   Val loss: 0.2237   Val accuracy: 0.586    weighted Val loss: 0.3055\n",
      "Epoch: 264   Train loss: 0.1411   Train accuracy: 0.636   Val loss: 0.2296   Val accuracy: 0.575    weighted Val loss: 0.3053\n",
      "Epoch: 265   Train loss: 0.1315   Train accuracy: 0.71   Val loss: 0.2274   Val accuracy: 0.576    weighted Val loss: 0.3051\n",
      "Epoch: 266   Train loss: 0.1497   Train accuracy: 0.606   Val loss: 0.2193   Val accuracy: 0.588    weighted Val loss: 0.305\n",
      "Epoch: 267   Train loss: 0.1316   Train accuracy: 0.779   Val loss: 0.2379   Val accuracy: 0.582    weighted Val loss: 0.3048\n",
      "Epoch: 268   Train loss: 0.1413   Train accuracy: 0.631   Val loss: 0.2217   Val accuracy: 0.586    weighted Val loss: 0.3047\n",
      "Epoch: 269   Train loss: 0.1542   Train accuracy: 0.654   Val loss: 0.2276   Val accuracy: 0.585    weighted Val loss: 0.3045\n",
      "Epoch: 270   Train loss: 0.1274   Train accuracy: 0.672   Val loss: 0.2293   Val accuracy: 0.582    weighted Val loss: 0.3044\n",
      "Epoch: 271   Train loss: 0.1354   Train accuracy: 0.72   Val loss: 0.2247   Val accuracy: 0.58    weighted Val loss: 0.3042\n",
      "Epoch: 272   Train loss: 0.1335   Train accuracy: 0.716   Val loss: 0.2354   Val accuracy: 0.58    weighted Val loss: 0.3041\n",
      "Epoch: 273   Train loss: 0.1378   Train accuracy: 0.711   Val loss: 0.2195   Val accuracy: 0.593    weighted Val loss: 0.3039\n",
      "Epoch: 274   Train loss: 0.1396   Train accuracy: 0.669   Val loss: 0.2338   Val accuracy: 0.593    weighted Val loss: 0.3038\n",
      "Epoch: 275   Train loss: 0.1333   Train accuracy: 0.695   Val loss: 0.218   Val accuracy: 0.592    weighted Val loss: 0.3036\n",
      "Epoch: 276   Train loss: 0.1291   Train accuracy: 0.748   Val loss: 0.2322   Val accuracy: 0.574    weighted Val loss: 0.3034\n",
      "Epoch: 277   Train loss: 0.1396   Train accuracy: 0.663   Val loss: 0.2212   Val accuracy: 0.575    weighted Val loss: 0.3033\n",
      "Epoch: 278   Train loss: 0.1473   Train accuracy: 0.692   Val loss: 0.2316   Val accuracy: 0.565    weighted Val loss: 0.3031\n",
      "Epoch: 279   Train loss: 0.1292   Train accuracy: 0.72   Val loss: 0.2211   Val accuracy: 0.568    weighted Val loss: 0.303\n",
      "Epoch: 280   Train loss: 0.1428   Train accuracy: 0.628   Val loss: 0.2319   Val accuracy: 0.571    weighted Val loss: 0.3028\n",
      "Epoch: 281   Train loss: 0.1488   Train accuracy: 0.661   Val loss: 0.2232   Val accuracy: 0.574    weighted Val loss: 0.3027\n",
      "Epoch: 282   Train loss: 0.1285   Train accuracy: 0.683   Val loss: 0.2296   Val accuracy: 0.563    weighted Val loss: 0.3025\n",
      "Epoch: 283   Train loss: 0.1486   Train accuracy: 0.671   Val loss: 0.2228   Val accuracy: 0.569    weighted Val loss: 0.3024\n",
      "Epoch: 284   Train loss: 0.1381   Train accuracy: 0.728   Val loss: 0.2319   Val accuracy: 0.575    weighted Val loss: 0.3022\n",
      "Epoch: 285   Train loss: 0.1501   Train accuracy: 0.617   Val loss: 0.225   Val accuracy: 0.588    weighted Val loss: 0.3021\n",
      "Epoch: 286   Train loss: 0.1303   Train accuracy: 0.77   Val loss: 0.2323   Val accuracy: 0.58    weighted Val loss: 0.3019\n",
      "Epoch: 287   Train loss: 0.1376   Train accuracy: 0.702   Val loss: 0.224   Val accuracy: 0.579    weighted Val loss: 0.3018\n",
      "Epoch: 288   Train loss: 0.1361   Train accuracy: 0.669   Val loss: 0.2323   Val accuracy: 0.583    weighted Val loss: 0.3016\n",
      "Epoch: 289   Train loss: 0.1394   Train accuracy: 0.603   Val loss: 0.2294   Val accuracy: 0.59    weighted Val loss: 0.3015\n",
      "Epoch: 290   Train loss: 0.1302   Train accuracy: 0.637   Val loss: 0.2225   Val accuracy: 0.594    weighted Val loss: 0.3013\n",
      "Epoch: 291   Train loss: 0.1468   Train accuracy: 0.621   Val loss: 0.2228   Val accuracy: 0.597    weighted Val loss: 0.3012\n",
      "Epoch: 292   Train loss: 0.1421   Train accuracy: 0.739   Val loss: 0.2335   Val accuracy: 0.582    weighted Val loss: 0.301\n",
      "Epoch: 293   Train loss: 0.1396   Train accuracy: 0.716   Val loss: 0.2219   Val accuracy: 0.575    weighted Val loss: 0.3009\n",
      "Epoch: 294   Train loss: 0.1351   Train accuracy: 0.684   Val loss: 0.2413   Val accuracy: 0.577    weighted Val loss: 0.3008\n",
      "Epoch: 295   Train loss: 0.1326   Train accuracy: 0.65   Val loss: 0.2194   Val accuracy: 0.591    weighted Val loss: 0.3006\n",
      "Epoch: 296   Train loss: 0.1315   Train accuracy: 0.714   Val loss: 0.2275   Val accuracy: 0.595    weighted Val loss: 0.3005\n",
      "Epoch: 297   Train loss: 0.1446   Train accuracy: 0.677   Val loss: 0.2258   Val accuracy: 0.593    weighted Val loss: 0.3003\n",
      "Epoch: 298   Train loss: 0.1374   Train accuracy: 0.676   Val loss: 0.2271   Val accuracy: 0.583    weighted Val loss: 0.3002\n",
      "Epoch: 299   Train loss: 0.1244   Train accuracy: 0.644   Val loss: 0.2304   Val accuracy: 0.581    weighted Val loss: 0.3\n",
      "Epoch: 300   Train loss: 0.1435   Train accuracy: 0.714   Val loss: 0.2248   Val accuracy: 0.583    weighted Val loss: 0.2999\n"
     ]
    },
    {
     "name": "stdout",
     "output_type": "stream",
     "text": [
      "Epoch: 301   Train loss: 0.1196   Train accuracy: 0.647   Val loss: 0.2233   Val accuracy: 0.585    weighted Val loss: 0.2997\n",
      "Epoch: 302   Train loss: 0.1399   Train accuracy: 0.708   Val loss: 0.2262   Val accuracy: 0.592    weighted Val loss: 0.2996\n",
      "Epoch: 303   Train loss: 0.1374   Train accuracy: 0.691   Val loss: 0.219   Val accuracy: 0.589    weighted Val loss: 0.2994\n",
      "Epoch: 304   Train loss: 0.1293   Train accuracy: 0.756   Val loss: 0.2216   Val accuracy: 0.586    weighted Val loss: 0.2993\n",
      "Epoch: 305   Train loss: 0.1509   Train accuracy: 0.687   Val loss: 0.2262   Val accuracy: 0.587    weighted Val loss: 0.2991\n",
      "Epoch: 306   Train loss: 0.1309   Train accuracy: 0.734   Val loss: 0.2207   Val accuracy: 0.587    weighted Val loss: 0.299\n",
      "Epoch: 307   Train loss: 0.1379   Train accuracy: 0.655   Val loss: 0.2205   Val accuracy: 0.586    weighted Val loss: 0.2988\n",
      "Epoch: 308   Train loss: 0.1427   Train accuracy: 0.696   Val loss: 0.235   Val accuracy: 0.579    weighted Val loss: 0.2987\n",
      "Epoch: 309   Train loss: 0.1426   Train accuracy: 0.635   Val loss: 0.2176   Val accuracy: 0.593    weighted Val loss: 0.2985\n",
      "Epoch: 310   Train loss: 0.1482   Train accuracy: 0.714   Val loss: 0.2354   Val accuracy: 0.592    weighted Val loss: 0.2984\n",
      "Epoch: 311   Train loss: 0.1476   Train accuracy: 0.635   Val loss: 0.2209   Val accuracy: 0.586    weighted Val loss: 0.2982\n",
      "Epoch: 312   Train loss: 0.1292   Train accuracy: 0.591   Val loss: 0.2302   Val accuracy: 0.579    weighted Val loss: 0.2981\n",
      "Epoch: 313   Train loss: 0.1244   Train accuracy: 0.711   Val loss: 0.2248   Val accuracy: 0.585    weighted Val loss: 0.2979\n",
      "Epoch: 314   Train loss: 0.1313   Train accuracy: 0.709   Val loss: 0.2298   Val accuracy: 0.587    weighted Val loss: 0.2978\n",
      "Epoch: 315   Train loss: 0.1296   Train accuracy: 0.751   Val loss: 0.224   Val accuracy: 0.584    weighted Val loss: 0.2977\n",
      "Epoch: 316   Train loss: 0.1284   Train accuracy: 0.759   Val loss: 0.2286   Val accuracy: 0.579    weighted Val loss: 0.2975\n",
      "Epoch: 317   Train loss: 0.1332   Train accuracy: 0.734   Val loss: 0.2219   Val accuracy: 0.591    weighted Val loss: 0.2974\n",
      "Epoch: 318   Train loss: 0.1241   Train accuracy: 0.679   Val loss: 0.2318   Val accuracy: 0.594    weighted Val loss: 0.2972\n",
      "Epoch: 319   Train loss: 0.1369   Train accuracy: 0.612   Val loss: 0.2165   Val accuracy: 0.598    weighted Val loss: 0.2971\n",
      "Epoch: 320   Train loss: 0.1372   Train accuracy: 0.743   Val loss: 0.2417   Val accuracy: 0.58    weighted Val loss: 0.297\n",
      "Epoch: 321   Train loss: 0.1349   Train accuracy: 0.595   Val loss: 0.2176   Val accuracy: 0.595    weighted Val loss: 0.2968\n",
      "Epoch: 322   Train loss: 0.1268   Train accuracy: 0.703   Val loss: 0.2242   Val accuracy: 0.594    weighted Val loss: 0.2967\n",
      "Epoch: 323   Train loss: 0.1221   Train accuracy: 0.755   Val loss: 0.2348   Val accuracy: 0.581    weighted Val loss: 0.2965\n",
      "Epoch: 324   Train loss: 0.1299   Train accuracy: 0.713   Val loss: 0.2187   Val accuracy: 0.586    weighted Val loss: 0.2964\n",
      "Epoch: 325   Train loss: 0.1259   Train accuracy: 0.733   Val loss: 0.2402   Val accuracy: 0.583    weighted Val loss: 0.2963\n",
      "Epoch: 326   Train loss: 0.1297   Train accuracy: 0.702   Val loss: 0.22   Val accuracy: 0.582    weighted Val loss: 0.2961\n",
      "Epoch: 327   Train loss: 0.1308   Train accuracy: 0.711   Val loss: 0.2265   Val accuracy: 0.585    weighted Val loss: 0.296\n",
      "Epoch: 328   Train loss: 0.1323   Train accuracy: 0.733   Val loss: 0.2231   Val accuracy: 0.589    weighted Val loss: 0.2958\n",
      "Epoch: 329   Train loss: 0.1343   Train accuracy: 0.731   Val loss: 0.228   Val accuracy: 0.583    weighted Val loss: 0.2957\n",
      "Epoch: 330   Train loss: 0.1179   Train accuracy: 0.643   Val loss: 0.2216   Val accuracy: 0.578    weighted Val loss: 0.2956\n",
      "Epoch: 331   Train loss: 0.134   Train accuracy: 0.639   Val loss: 0.2329   Val accuracy: 0.574    weighted Val loss: 0.2954\n",
      "Epoch: 332   Train loss: 0.1225   Train accuracy: 0.757   Val loss: 0.2231   Val accuracy: 0.576    weighted Val loss: 0.2953\n",
      "Epoch: 333   Train loss: 0.1324   Train accuracy: 0.727   Val loss: 0.2297   Val accuracy: 0.563    weighted Val loss: 0.2951\n",
      "Epoch: 334   Train loss: 0.1277   Train accuracy: 0.706   Val loss: 0.2255   Val accuracy: 0.576    weighted Val loss: 0.295\n",
      "Epoch: 335   Train loss: 0.1386   Train accuracy: 0.71   Val loss: 0.2275   Val accuracy: 0.568    weighted Val loss: 0.2949\n",
      "Epoch: 336   Train loss: 0.1292   Train accuracy: 0.745   Val loss: 0.2256   Val accuracy: 0.58    weighted Val loss: 0.2947\n",
      "Epoch: 337   Train loss: 0.1299   Train accuracy: 0.723   Val loss: 0.2246   Val accuracy: 0.569    weighted Val loss: 0.2946\n",
      "Epoch: 338   Train loss: 0.131   Train accuracy: 0.704   Val loss: 0.2206   Val accuracy: 0.575    weighted Val loss: 0.2944\n",
      "Epoch: 339   Train loss: 0.1308   Train accuracy: 0.719   Val loss: 0.233   Val accuracy: 0.567    weighted Val loss: 0.2943\n",
      "Epoch: 340   Train loss: 0.1272   Train accuracy: 0.66   Val loss: 0.2217   Val accuracy: 0.567    weighted Val loss: 0.2942\n",
      "Epoch: 341   Train loss: 0.1226   Train accuracy: 0.665   Val loss: 0.2374   Val accuracy: 0.569    weighted Val loss: 0.2941\n",
      "Epoch: 342   Train loss: 0.131   Train accuracy: 0.646   Val loss: 0.2235   Val accuracy: 0.574    weighted Val loss: 0.2939\n",
      "Epoch: 343   Train loss: 0.1268   Train accuracy: 0.741   Val loss: 0.2304   Val accuracy: 0.569    weighted Val loss: 0.2938\n",
      "Epoch: 344   Train loss: 0.1369   Train accuracy: 0.657   Val loss: 0.2262   Val accuracy: 0.57    weighted Val loss: 0.2937\n",
      "Epoch: 345   Train loss: 0.1367   Train accuracy: 0.725   Val loss: 0.2376   Val accuracy: 0.585    weighted Val loss: 0.2936\n",
      "Epoch: 346   Train loss: 0.1245   Train accuracy: 0.738   Val loss: 0.223   Val accuracy: 0.587    weighted Val loss: 0.2934\n",
      "Epoch: 347   Train loss: 0.146   Train accuracy: 0.635   Val loss: 0.231   Val accuracy: 0.567    weighted Val loss: 0.2933\n",
      "Epoch: 348   Train loss: 0.1304   Train accuracy: 0.738   Val loss: 0.2271   Val accuracy: 0.579    weighted Val loss: 0.2932\n",
      "Epoch: 349   Train loss: 0.1236   Train accuracy: 0.72   Val loss: 0.2197   Val accuracy: 0.576    weighted Val loss: 0.293\n",
      "Epoch: 350   Train loss: 0.1299   Train accuracy: 0.774   Val loss: 0.2449   Val accuracy: 0.571    weighted Val loss: 0.2929\n",
      "Epoch: 351   Train loss: 0.125   Train accuracy: 0.717   Val loss: 0.2199   Val accuracy: 0.57    weighted Val loss: 0.2928\n",
      "Epoch: 352   Train loss: 0.1308   Train accuracy: 0.716   Val loss: 0.2375   Val accuracy: 0.575    weighted Val loss: 0.2927\n",
      "Epoch: 353   Train loss: 0.1312   Train accuracy: 0.698   Val loss: 0.2223   Val accuracy: 0.578    weighted Val loss: 0.2925\n",
      "Epoch: 354   Train loss: 0.1328   Train accuracy: 0.669   Val loss: 0.2215   Val accuracy: 0.59    weighted Val loss: 0.2924\n",
      "Epoch: 355   Train loss: 0.1314   Train accuracy: 0.707   Val loss: 0.2304   Val accuracy: 0.585    weighted Val loss: 0.2922\n",
      "Epoch: 356   Train loss: 0.1374   Train accuracy: 0.713   Val loss: 0.2222   Val accuracy: 0.587    weighted Val loss: 0.2921\n",
      "Epoch: 357   Train loss: 0.1297   Train accuracy: 0.691   Val loss: 0.2218   Val accuracy: 0.583    weighted Val loss: 0.292\n",
      "Epoch: 358   Train loss: 0.1285   Train accuracy: 0.725   Val loss: 0.2313   Val accuracy: 0.585    weighted Val loss: 0.2918\n",
      "Epoch: 359   Train loss: 0.1267   Train accuracy: 0.683   Val loss: 0.2327   Val accuracy: 0.582    weighted Val loss: 0.2917\n",
      "Epoch: 360   Train loss: 0.1396   Train accuracy: 0.698   Val loss: 0.2192   Val accuracy: 0.587    weighted Val loss: 0.2916\n",
      "Epoch: 361   Train loss: 0.1334   Train accuracy: 0.729   Val loss: 0.2377   Val accuracy: 0.581    weighted Val loss: 0.2915\n",
      "Epoch: 362   Train loss: 0.126   Train accuracy: 0.77   Val loss: 0.2287   Val accuracy: 0.575    weighted Val loss: 0.2913\n",
      "Epoch: 363   Train loss: 0.1254   Train accuracy: 0.702   Val loss: 0.2248   Val accuracy: 0.573    weighted Val loss: 0.2912\n",
      "Epoch: 364   Train loss: 0.1382   Train accuracy: 0.687   Val loss: 0.226   Val accuracy: 0.576    weighted Val loss: 0.2911\n",
      "Epoch: 365   Train loss: 0.1313   Train accuracy: 0.711   Val loss: 0.2241   Val accuracy: 0.595    weighted Val loss: 0.291\n",
      "Epoch: 366   Train loss: 0.1257   Train accuracy: 0.72   Val loss: 0.2213   Val accuracy: 0.593    weighted Val loss: 0.2908\n",
      "Epoch: 367   Train loss: 0.1366   Train accuracy: 0.708   Val loss: 0.2238   Val accuracy: 0.58    weighted Val loss: 0.2907\n",
      "Epoch: 368   Train loss: 0.1293   Train accuracy: 0.721   Val loss: 0.2264   Val accuracy: 0.581    weighted Val loss: 0.2905\n"
     ]
    },
    {
     "name": "stdout",
     "output_type": "stream",
     "text": [
      "Epoch: 369   Train loss: 0.1299   Train accuracy: 0.703   Val loss: 0.2215   Val accuracy: 0.575    weighted Val loss: 0.2904\n",
      "Epoch: 370   Train loss: 0.1298   Train accuracy: 0.697   Val loss: 0.2305   Val accuracy: 0.585    weighted Val loss: 0.2903\n",
      "Epoch: 371   Train loss: 0.1307   Train accuracy: 0.709   Val loss: 0.2224   Val accuracy: 0.581    weighted Val loss: 0.2902\n",
      "Epoch: 372   Train loss: 0.135   Train accuracy: 0.69   Val loss: 0.2253   Val accuracy: 0.576    weighted Val loss: 0.29\n",
      "Epoch: 373   Train loss: 0.126   Train accuracy: 0.746   Val loss: 0.2281   Val accuracy: 0.57    weighted Val loss: 0.2899\n",
      "Epoch: 374   Train loss: 0.1356   Train accuracy: 0.661   Val loss: 0.2233   Val accuracy: 0.583    weighted Val loss: 0.2898\n",
      "Epoch: 375   Train loss: 0.1222   Train accuracy: 0.79   Val loss: 0.2317   Val accuracy: 0.574    weighted Val loss: 0.2897\n",
      "Epoch: 376   Train loss: 0.1374   Train accuracy: 0.68   Val loss: 0.2172   Val accuracy: 0.574    weighted Val loss: 0.2895\n",
      "Epoch: 377   Train loss: 0.1363   Train accuracy: 0.658   Val loss: 0.2264   Val accuracy: 0.576    weighted Val loss: 0.2894\n",
      "Epoch: 378   Train loss: 0.1357   Train accuracy: 0.68   Val loss: 0.2219   Val accuracy: 0.579    weighted Val loss: 0.2892\n",
      "Epoch: 379   Train loss: 0.1199   Train accuracy: 0.77   Val loss: 0.2313   Val accuracy: 0.579    weighted Val loss: 0.2891\n",
      "Epoch: 380   Train loss: 0.1263   Train accuracy: 0.643   Val loss: 0.2167   Val accuracy: 0.589    weighted Val loss: 0.289\n",
      "Epoch: 381   Train loss: 0.1441   Train accuracy: 0.68   Val loss: 0.2286   Val accuracy: 0.589    weighted Val loss: 0.2889\n",
      "Epoch: 382   Train loss: 0.1258   Train accuracy: 0.763   Val loss: 0.2216   Val accuracy: 0.583    weighted Val loss: 0.2887\n",
      "Epoch: 383   Train loss: 0.1295   Train accuracy: 0.725   Val loss: 0.2294   Val accuracy: 0.586    weighted Val loss: 0.2886\n",
      "Epoch: 384   Train loss: 0.1234   Train accuracy: 0.769   Val loss: 0.2423   Val accuracy: 0.583    weighted Val loss: 0.2885\n",
      "Epoch: 385   Train loss: 0.1284   Train accuracy: 0.725   Val loss: 0.2244   Val accuracy: 0.589    weighted Val loss: 0.2884\n",
      "Epoch: 386   Train loss: 0.1236   Train accuracy: 0.738   Val loss: 0.2304   Val accuracy: 0.585    weighted Val loss: 0.2883\n",
      "Epoch: 387   Train loss: 0.1421   Train accuracy: 0.644   Val loss: 0.2258   Val accuracy: 0.582    weighted Val loss: 0.2881\n",
      "Epoch: 388   Train loss: 0.115   Train accuracy: 0.718   Val loss: 0.2348   Val accuracy: 0.57    weighted Val loss: 0.288\n",
      "Epoch: 389   Train loss: 0.137   Train accuracy: 0.658   Val loss: 0.2275   Val accuracy: 0.571    weighted Val loss: 0.2879\n",
      "Epoch: 390   Train loss: 0.1291   Train accuracy: 0.739   Val loss: 0.2369   Val accuracy: 0.561    weighted Val loss: 0.2878\n",
      "Epoch: 391   Train loss: 0.1299   Train accuracy: 0.72   Val loss: 0.233   Val accuracy: 0.582    weighted Val loss: 0.2877\n",
      "Epoch: 392   Train loss: 0.1217   Train accuracy: 0.659   Val loss: 0.2294   Val accuracy: 0.574    weighted Val loss: 0.2876\n",
      "Epoch: 393   Train loss: 0.1324   Train accuracy: 0.659   Val loss: 0.2268   Val accuracy: 0.581    weighted Val loss: 0.2875\n",
      "Epoch: 394   Train loss: 0.1275   Train accuracy: 0.679   Val loss: 0.2206   Val accuracy: 0.582    weighted Val loss: 0.2873\n",
      "Epoch: 395   Train loss: 0.1156   Train accuracy: 0.785   Val loss: 0.2346   Val accuracy: 0.577    weighted Val loss: 0.2872\n",
      "Epoch: 396   Train loss: 0.13   Train accuracy: 0.713   Val loss: 0.218   Val accuracy: 0.591    weighted Val loss: 0.2871\n",
      "Epoch: 397   Train loss: 0.1305   Train accuracy: 0.748   Val loss: 0.2271   Val accuracy: 0.577    weighted Val loss: 0.287\n",
      "Epoch: 398   Train loss: 0.1363   Train accuracy: 0.716   Val loss: 0.2275   Val accuracy: 0.586    weighted Val loss: 0.2869\n",
      "Epoch: 399   Train loss: 0.1299   Train accuracy: 0.655   Val loss: 0.225   Val accuracy: 0.569    weighted Val loss: 0.2867\n",
      "Epoch: 400   Train loss: 0.1259   Train accuracy: 0.74   Val loss: 0.2291   Val accuracy: 0.568    weighted Val loss: 0.2866\n",
      "Epoch: 401   Train loss: 0.1368   Train accuracy: 0.674   Val loss: 0.2239   Val accuracy: 0.58    weighted Val loss: 0.2865\n",
      "Epoch: 402   Train loss: 0.1134   Train accuracy: 0.806   Val loss: 0.2393   Val accuracy: 0.569    weighted Val loss: 0.2864\n",
      "Epoch: 403   Train loss: 0.1322   Train accuracy: 0.734   Val loss: 0.2266   Val accuracy: 0.57    weighted Val loss: 0.2863\n",
      "Epoch: 404   Train loss: 0.1429   Train accuracy: 0.749   Val loss: 0.2393   Val accuracy: 0.561    weighted Val loss: 0.2862\n",
      "Epoch: 405   Train loss: 0.1311   Train accuracy: 0.721   Val loss: 0.2216   Val accuracy: 0.573    weighted Val loss: 0.2861\n",
      "Epoch: 406   Train loss: 0.132   Train accuracy: 0.746   Val loss: 0.2343   Val accuracy: 0.588    weighted Val loss: 0.286\n",
      "Epoch: 407   Train loss: 0.1224   Train accuracy: 0.706   Val loss: 0.2257   Val accuracy: 0.582    weighted Val loss: 0.2858\n",
      "Epoch: 408   Train loss: 0.1245   Train accuracy: 0.718   Val loss: 0.2277   Val accuracy: 0.583    weighted Val loss: 0.2857\n",
      "Epoch: 409   Train loss: 0.1212   Train accuracy: 0.646   Val loss: 0.2239   Val accuracy: 0.59    weighted Val loss: 0.2856\n",
      "Epoch: 410   Train loss: 0.1209   Train accuracy: 0.728   Val loss: 0.2273   Val accuracy: 0.589    weighted Val loss: 0.2855\n",
      "Epoch: 411   Train loss: 0.1318   Train accuracy: 0.704   Val loss: 0.2294   Val accuracy: 0.591    weighted Val loss: 0.2854\n",
      "Epoch: 412   Train loss: 0.143   Train accuracy: 0.665   Val loss: 0.2255   Val accuracy: 0.584    weighted Val loss: 0.2852\n",
      "Epoch: 413   Train loss: 0.134   Train accuracy: 0.718   Val loss: 0.2302   Val accuracy: 0.589    weighted Val loss: 0.2851\n",
      "Epoch: 414   Train loss: 0.1334   Train accuracy: 0.702   Val loss: 0.2205   Val accuracy: 0.59    weighted Val loss: 0.285\n",
      "Epoch: 415   Train loss: 0.1335   Train accuracy: 0.663   Val loss: 0.2322   Val accuracy: 0.599    weighted Val loss: 0.2849\n",
      "Epoch: 416   Train loss: 0.1344   Train accuracy: 0.678   Val loss: 0.2192   Val accuracy: 0.593    weighted Val loss: 0.2848\n",
      "Epoch: 417   Train loss: 0.1287   Train accuracy: 0.761   Val loss: 0.2344   Val accuracy: 0.594    weighted Val loss: 0.2847\n",
      "Epoch: 418   Train loss: 0.1302   Train accuracy: 0.744   Val loss: 0.2215   Val accuracy: 0.598    weighted Val loss: 0.2845\n",
      "Epoch: 419   Train loss: 0.1405   Train accuracy: 0.716   Val loss: 0.2198   Val accuracy: 0.609    weighted Val loss: 0.2844\n",
      "0.609 ----------saved-----------\n",
      "Epoch: 420   Train loss: 0.1297   Train accuracy: 0.687   Val loss: 0.228   Val accuracy: 0.591    weighted Val loss: 0.2843\n",
      "Epoch: 421   Train loss: 0.1237   Train accuracy: 0.68   Val loss: 0.2218   Val accuracy: 0.586    weighted Val loss: 0.2842\n",
      "Epoch: 422   Train loss: 0.1334   Train accuracy: 0.714   Val loss: 0.2218   Val accuracy: 0.589    weighted Val loss: 0.284\n",
      "Epoch: 423   Train loss: 0.1356   Train accuracy: 0.613   Val loss: 0.2195   Val accuracy: 0.593    weighted Val loss: 0.2839\n",
      "Epoch: 424   Train loss: 0.1194   Train accuracy: 0.773   Val loss: 0.2253   Val accuracy: 0.588    weighted Val loss: 0.2838\n",
      "Epoch: 425   Train loss: 0.132   Train accuracy: 0.701   Val loss: 0.2265   Val accuracy: 0.581    weighted Val loss: 0.2837\n",
      "Epoch: 426   Train loss: 0.1291   Train accuracy: 0.675   Val loss: 0.226   Val accuracy: 0.591    weighted Val loss: 0.2836\n",
      "Epoch: 427   Train loss: 0.1304   Train accuracy: 0.758   Val loss: 0.2303   Val accuracy: 0.594    weighted Val loss: 0.2835\n",
      "Epoch: 428   Train loss: 0.1398   Train accuracy: 0.688   Val loss: 0.2256   Val accuracy: 0.6    weighted Val loss: 0.2833\n",
      "Epoch: 429   Train loss: 0.1285   Train accuracy: 0.683   Val loss: 0.2294   Val accuracy: 0.592    weighted Val loss: 0.2832\n",
      "Epoch: 430   Train loss: 0.1267   Train accuracy: 0.683   Val loss: 0.2211   Val accuracy: 0.595    weighted Val loss: 0.2831\n",
      "Epoch: 431   Train loss: 0.1268   Train accuracy: 0.754   Val loss: 0.2304   Val accuracy: 0.594    weighted Val loss: 0.283\n",
      "Epoch: 432   Train loss: 0.1309   Train accuracy: 0.739   Val loss: 0.2221   Val accuracy: 0.595    weighted Val loss: 0.2829\n",
      "Epoch: 433   Train loss: 0.1222   Train accuracy: 0.705   Val loss: 0.2314   Val accuracy: 0.589    weighted Val loss: 0.2828\n",
      "Epoch: 434   Train loss: 0.1302   Train accuracy: 0.705   Val loss: 0.2244   Val accuracy: 0.588    weighted Val loss: 0.2827\n",
      "Epoch: 435   Train loss: 0.131   Train accuracy: 0.693   Val loss: 0.2264   Val accuracy: 0.573    weighted Val loss: 0.2826\n",
      "Epoch: 436   Train loss: 0.1237   Train accuracy: 0.713   Val loss: 0.2249   Val accuracy: 0.583    weighted Val loss: 0.2824\n"
     ]
    },
    {
     "name": "stdout",
     "output_type": "stream",
     "text": [
      "Epoch: 437   Train loss: 0.1245   Train accuracy: 0.752   Val loss: 0.2304   Val accuracy: 0.569    weighted Val loss: 0.2823\n",
      "Epoch: 438   Train loss: 0.1275   Train accuracy: 0.741   Val loss: 0.2226   Val accuracy: 0.583    weighted Val loss: 0.2822\n",
      "Epoch: 439   Train loss: 0.1269   Train accuracy: 0.735   Val loss: 0.2263   Val accuracy: 0.582    weighted Val loss: 0.2821\n",
      "Epoch: 440   Train loss: 0.1297   Train accuracy: 0.744   Val loss: 0.2235   Val accuracy: 0.589    weighted Val loss: 0.282\n",
      "Epoch: 441   Train loss: 0.1226   Train accuracy: 0.728   Val loss: 0.229   Val accuracy: 0.574    weighted Val loss: 0.2819\n",
      "Epoch: 442   Train loss: 0.1278   Train accuracy: 0.742   Val loss: 0.2237   Val accuracy: 0.581    weighted Val loss: 0.2818\n",
      "Epoch: 443   Train loss: 0.1161   Train accuracy: 0.787   Val loss: 0.2259   Val accuracy: 0.584    weighted Val loss: 0.2817\n",
      "Epoch: 444   Train loss: 0.1172   Train accuracy: 0.725   Val loss: 0.2248   Val accuracy: 0.603    weighted Val loss: 0.2815\n",
      "Epoch: 445   Train loss: 0.1153   Train accuracy: 0.787   Val loss: 0.232   Val accuracy: 0.596    weighted Val loss: 0.2814\n",
      "Epoch: 446   Train loss: 0.1248   Train accuracy: 0.699   Val loss: 0.2253   Val accuracy: 0.59    weighted Val loss: 0.2813\n",
      "Epoch: 447   Train loss: 0.1219   Train accuracy: 0.762   Val loss: 0.2336   Val accuracy: 0.591    weighted Val loss: 0.2812\n",
      "Epoch: 448   Train loss: 0.1194   Train accuracy: 0.683   Val loss: 0.223   Val accuracy: 0.588    weighted Val loss: 0.2811\n",
      "Epoch: 449   Train loss: 0.1275   Train accuracy: 0.785   Val loss: 0.2342   Val accuracy: 0.581    weighted Val loss: 0.281\n",
      "Epoch: 450   Train loss: 0.1286   Train accuracy: 0.666   Val loss: 0.2154   Val accuracy: 0.6    weighted Val loss: 0.2809\n",
      "Epoch: 451   Train loss: 0.14   Train accuracy: 0.646   Val loss: 0.2206   Val accuracy: 0.592    weighted Val loss: 0.2808\n",
      "Epoch: 452   Train loss: 0.125   Train accuracy: 0.825   Val loss: 0.2288   Val accuracy: 0.594    weighted Val loss: 0.2807\n",
      "Epoch: 453   Train loss: 0.1338   Train accuracy: 0.67   Val loss: 0.223   Val accuracy: 0.59    weighted Val loss: 0.2806\n",
      "Epoch: 454   Train loss: 0.1167   Train accuracy: 0.772   Val loss: 0.2324   Val accuracy: 0.605    weighted Val loss: 0.2805\n",
      "Epoch: 455   Train loss: 0.126   Train accuracy: 0.737   Val loss: 0.2263   Val accuracy: 0.598    weighted Val loss: 0.2803\n",
      "Epoch: 456   Train loss: 0.1211   Train accuracy: 0.708   Val loss: 0.228   Val accuracy: 0.597    weighted Val loss: 0.2802\n",
      "Epoch: 457   Train loss: 0.1565   Train accuracy: 0.68   Val loss: 0.2187   Val accuracy: 0.595    weighted Val loss: 0.2801\n",
      "Epoch: 458   Train loss: 0.142   Train accuracy: 0.743   Val loss: 0.2397   Val accuracy: 0.586    weighted Val loss: 0.28\n",
      "Epoch: 459   Train loss: 0.1302   Train accuracy: 0.749   Val loss: 0.2214   Val accuracy: 0.594    weighted Val loss: 0.2799\n",
      "Epoch: 460   Train loss: 0.1573   Train accuracy: 0.703   Val loss: 0.2282   Val accuracy: 0.595    weighted Val loss: 0.2798\n",
      "Epoch: 461   Train loss: 0.1282   Train accuracy: 0.789   Val loss: 0.2278   Val accuracy: 0.589    weighted Val loss: 0.2797\n",
      "Epoch: 462   Train loss: 0.134   Train accuracy: 0.714   Val loss: 0.2351   Val accuracy: 0.597    weighted Val loss: 0.2796\n",
      "Epoch: 463   Train loss: 0.1304   Train accuracy: 0.731   Val loss: 0.2284   Val accuracy: 0.596    weighted Val loss: 0.2795\n",
      "Epoch: 464   Train loss: 0.1247   Train accuracy: 0.677   Val loss: 0.2294   Val accuracy: 0.593    weighted Val loss: 0.2794\n",
      "Epoch: 465   Train loss: 0.1323   Train accuracy: 0.693   Val loss: 0.2305   Val accuracy: 0.587    weighted Val loss: 0.2793\n",
      "Epoch: 466   Train loss: 0.1277   Train accuracy: 0.756   Val loss: 0.2235   Val accuracy: 0.591    weighted Val loss: 0.2792\n",
      "Epoch: 467   Train loss: 0.1325   Train accuracy: 0.672   Val loss: 0.242   Val accuracy: 0.587    weighted Val loss: 0.2791\n",
      "Epoch: 468   Train loss: 0.1165   Train accuracy: 0.741   Val loss: 0.2272   Val accuracy: 0.589    weighted Val loss: 0.279\n",
      "Epoch: 469   Train loss: 0.1222   Train accuracy: 0.729   Val loss: 0.2262   Val accuracy: 0.592    weighted Val loss: 0.2789\n",
      "Epoch: 470   Train loss: 0.1277   Train accuracy: 0.699   Val loss: 0.2254   Val accuracy: 0.594    weighted Val loss: 0.2788\n",
      "Epoch: 471   Train loss: 0.1376   Train accuracy: 0.733   Val loss: 0.2228   Val accuracy: 0.595    weighted Val loss: 0.2787\n",
      "Epoch: 472   Train loss: 0.1288   Train accuracy: 0.762   Val loss: 0.2252   Val accuracy: 0.596    weighted Val loss: 0.2786\n",
      "Epoch: 473   Train loss: 0.1195   Train accuracy: 0.662   Val loss: 0.227   Val accuracy: 0.591    weighted Val loss: 0.2785\n",
      "Epoch: 474   Train loss: 0.1245   Train accuracy: 0.745   Val loss: 0.2256   Val accuracy: 0.577    weighted Val loss: 0.2784\n",
      "Epoch: 475   Train loss: 0.1225   Train accuracy: 0.755   Val loss: 0.2318   Val accuracy: 0.58    weighted Val loss: 0.2783\n",
      "Epoch: 476   Train loss: 0.1149   Train accuracy: 0.73   Val loss: 0.2301   Val accuracy: 0.581    weighted Val loss: 0.2782\n",
      "Epoch: 477   Train loss: 0.1166   Train accuracy: 0.769   Val loss: 0.2265   Val accuracy: 0.583    weighted Val loss: 0.2781\n",
      "Epoch: 478   Train loss: 0.123   Train accuracy: 0.699   Val loss: 0.2351   Val accuracy: 0.577    weighted Val loss: 0.278\n",
      "Epoch: 479   Train loss: 0.1224   Train accuracy: 0.7   Val loss: 0.2218   Val accuracy: 0.585    weighted Val loss: 0.2779\n",
      "Epoch: 480   Train loss: 0.1177   Train accuracy: 0.767   Val loss: 0.2266   Val accuracy: 0.583    weighted Val loss: 0.2778\n",
      "Epoch: 481   Train loss: 0.1264   Train accuracy: 0.712   Val loss: 0.2304   Val accuracy: 0.576    weighted Val loss: 0.2777\n",
      "Epoch: 482   Train loss: 0.122   Train accuracy: 0.666   Val loss: 0.2258   Val accuracy: 0.575    weighted Val loss: 0.2776\n",
      "Epoch: 483   Train loss: 0.1182   Train accuracy: 0.696   Val loss: 0.2316   Val accuracy: 0.571    weighted Val loss: 0.2775\n",
      "Epoch: 484   Train loss: 0.135   Train accuracy: 0.69   Val loss: 0.2216   Val accuracy: 0.579    weighted Val loss: 0.2774\n",
      "Epoch: 485   Train loss: 0.1245   Train accuracy: 0.74   Val loss: 0.2264   Val accuracy: 0.569    weighted Val loss: 0.2773\n",
      "Epoch: 486   Train loss: 0.1341   Train accuracy: 0.733   Val loss: 0.2226   Val accuracy: 0.573    weighted Val loss: 0.2772\n",
      "Epoch: 487   Train loss: 0.1283   Train accuracy: 0.76   Val loss: 0.228   Val accuracy: 0.569    weighted Val loss: 0.2771\n",
      "Epoch: 488   Train loss: 0.1154   Train accuracy: 0.725   Val loss: 0.2337   Val accuracy: 0.579    weighted Val loss: 0.277\n",
      "Epoch: 489   Train loss: 0.1382   Train accuracy: 0.623   Val loss: 0.2306   Val accuracy: 0.58    weighted Val loss: 0.2769\n",
      "Epoch: 490   Train loss: 0.1259   Train accuracy: 0.716   Val loss: 0.2323   Val accuracy: 0.586    weighted Val loss: 0.2768\n",
      "Epoch: 491   Train loss: 0.1301   Train accuracy: 0.663   Val loss: 0.2244   Val accuracy: 0.586    weighted Val loss: 0.2767\n",
      "Epoch: 492   Train loss: 0.1235   Train accuracy: 0.691   Val loss: 0.2327   Val accuracy: 0.579    weighted Val loss: 0.2766\n",
      "Epoch: 493   Train loss: 0.1197   Train accuracy: 0.763   Val loss: 0.227   Val accuracy: 0.58    weighted Val loss: 0.2765\n",
      "Epoch: 494   Train loss: 0.1366   Train accuracy: 0.699   Val loss: 0.226   Val accuracy: 0.583    weighted Val loss: 0.2764\n",
      "Epoch: 495   Train loss: 0.1248   Train accuracy: 0.712   Val loss: 0.2333   Val accuracy: 0.594    weighted Val loss: 0.2763\n",
      "Epoch: 496   Train loss: 0.1297   Train accuracy: 0.693   Val loss: 0.2204   Val accuracy: 0.596    weighted Val loss: 0.2762\n",
      "Epoch: 497   Train loss: 0.1313   Train accuracy: 0.729   Val loss: 0.2352   Val accuracy: 0.586    weighted Val loss: 0.2761\n",
      "Epoch: 498   Train loss: 0.1282   Train accuracy: 0.71   Val loss: 0.2206   Val accuracy: 0.596    weighted Val loss: 0.276\n",
      "Epoch: 499   Train loss: 0.1236   Train accuracy: 0.78   Val loss: 0.2288   Val accuracy: 0.593    weighted Val loss: 0.2759\n",
      "Epoch: 500   Train loss: 0.1279   Train accuracy: 0.664   Val loss: 0.2277   Val accuracy: 0.585    weighted Val loss: 0.2758\n",
      "Epoch: 501   Train loss: 0.1269   Train accuracy: 0.698   Val loss: 0.2238   Val accuracy: 0.584    weighted Val loss: 0.2757\n",
      "Epoch: 502   Train loss: 0.1218   Train accuracy: 0.741   Val loss: 0.2324   Val accuracy: 0.59    weighted Val loss: 0.2757\n",
      "Epoch: 503   Train loss: 0.1313   Train accuracy: 0.752   Val loss: 0.234   Val accuracy: 0.582    weighted Val loss: 0.2756\n",
      "Epoch: 504   Train loss: 0.1302   Train accuracy: 0.709   Val loss: 0.2223   Val accuracy: 0.588    weighted Val loss: 0.2755\n",
      "Epoch: 505   Train loss: 0.127   Train accuracy: 0.673   Val loss: 0.2414   Val accuracy: 0.59    weighted Val loss: 0.2754\n"
     ]
    },
    {
     "name": "stdout",
     "output_type": "stream",
     "text": [
      "Epoch: 506   Train loss: 0.1305   Train accuracy: 0.669   Val loss: 0.2244   Val accuracy: 0.597    weighted Val loss: 0.2753\n",
      "Epoch: 507   Train loss: 0.1207   Train accuracy: 0.765   Val loss: 0.2316   Val accuracy: 0.598    weighted Val loss: 0.2752\n",
      "Epoch: 508   Train loss: 0.1323   Train accuracy: 0.674   Val loss: 0.2229   Val accuracy: 0.593    weighted Val loss: 0.2751\n",
      "Epoch: 509   Train loss: 0.1216   Train accuracy: 0.777   Val loss: 0.228   Val accuracy: 0.584    weighted Val loss: 0.275\n",
      "Epoch: 510   Train loss: 0.13   Train accuracy: 0.606   Val loss: 0.2197   Val accuracy: 0.593    weighted Val loss: 0.2749\n",
      "Epoch: 511   Train loss: 0.1285   Train accuracy: 0.769   Val loss: 0.2408   Val accuracy: 0.589    weighted Val loss: 0.2748\n",
      "Epoch: 512   Train loss: 0.1167   Train accuracy: 0.748   Val loss: 0.2187   Val accuracy: 0.587    weighted Val loss: 0.2747\n",
      "Epoch: 513   Train loss: 0.1244   Train accuracy: 0.74   Val loss: 0.2328   Val accuracy: 0.585    weighted Val loss: 0.2746\n",
      "Epoch: 514   Train loss: 0.1394   Train accuracy: 0.695   Val loss: 0.2184   Val accuracy: 0.581    weighted Val loss: 0.2745\n",
      "Epoch: 515   Train loss: 0.1269   Train accuracy: 0.753   Val loss: 0.2382   Val accuracy: 0.571    weighted Val loss: 0.2744\n",
      "Epoch: 516   Train loss: 0.1288   Train accuracy: 0.662   Val loss: 0.2236   Val accuracy: 0.585    weighted Val loss: 0.2743\n",
      "Epoch: 517   Train loss: 0.1317   Train accuracy: 0.663   Val loss: 0.2344   Val accuracy: 0.585    weighted Val loss: 0.2743\n",
      "Epoch: 518   Train loss: 0.1234   Train accuracy: 0.736   Val loss: 0.233   Val accuracy: 0.584    weighted Val loss: 0.2742\n",
      "Epoch: 519   Train loss: 0.1331   Train accuracy: 0.662   Val loss: 0.2292   Val accuracy: 0.583    weighted Val loss: 0.2741\n",
      "Epoch: 520   Train loss: 0.1297   Train accuracy: 0.662   Val loss: 0.2369   Val accuracy: 0.583    weighted Val loss: 0.274\n",
      "Epoch: 521   Train loss: 0.1241   Train accuracy: 0.755   Val loss: 0.2353   Val accuracy: 0.588    weighted Val loss: 0.2739\n",
      "Epoch: 522   Train loss: 0.1283   Train accuracy: 0.694   Val loss: 0.2292   Val accuracy: 0.59    weighted Val loss: 0.2739\n",
      "Epoch: 523   Train loss: 0.1281   Train accuracy: 0.726   Val loss: 0.2294   Val accuracy: 0.596    weighted Val loss: 0.2738\n",
      "Epoch: 524   Train loss: 0.1146   Train accuracy: 0.815   Val loss: 0.2333   Val accuracy: 0.589    weighted Val loss: 0.2737\n",
      "Epoch: 525   Train loss: 0.1303   Train accuracy: 0.699   Val loss: 0.2248   Val accuracy: 0.579    weighted Val loss: 0.2736\n",
      "Epoch: 526   Train loss: 0.1289   Train accuracy: 0.741   Val loss: 0.2286   Val accuracy: 0.582    weighted Val loss: 0.2735\n",
      "Epoch: 527   Train loss: 0.1195   Train accuracy: 0.753   Val loss: 0.232   Val accuracy: 0.582    weighted Val loss: 0.2734\n",
      "Epoch: 528   Train loss: 0.1273   Train accuracy: 0.713   Val loss: 0.2273   Val accuracy: 0.593    weighted Val loss: 0.2733\n",
      "Epoch: 529   Train loss: 0.1329   Train accuracy: 0.722   Val loss: 0.2293   Val accuracy: 0.593    weighted Val loss: 0.2732\n",
      "Epoch: 530   Train loss: 0.1299   Train accuracy: 0.681   Val loss: 0.228   Val accuracy: 0.597    weighted Val loss: 0.2731\n",
      "Epoch: 531   Train loss: 0.1311   Train accuracy: 0.679   Val loss: 0.2318   Val accuracy: 0.593    weighted Val loss: 0.2731\n",
      "Epoch: 532   Train loss: 0.115   Train accuracy: 0.667   Val loss: 0.2267   Val accuracy: 0.591    weighted Val loss: 0.273\n",
      "Epoch: 533   Train loss: 0.1174   Train accuracy: 0.75   Val loss: 0.243   Val accuracy: 0.58    weighted Val loss: 0.2729\n",
      "Epoch: 534   Train loss: 0.1198   Train accuracy: 0.763   Val loss: 0.2258   Val accuracy: 0.585    weighted Val loss: 0.2728\n",
      "Epoch: 535   Train loss: 0.1216   Train accuracy: 0.679   Val loss: 0.2335   Val accuracy: 0.599    weighted Val loss: 0.2727\n",
      "Epoch: 536   Train loss: 0.1218   Train accuracy: 0.694   Val loss: 0.2355   Val accuracy: 0.607    weighted Val loss: 0.2727\n",
      "Epoch: 537   Train loss: 0.1322   Train accuracy: 0.625   Val loss: 0.2209   Val accuracy: 0.599    weighted Val loss: 0.2726\n",
      "Epoch: 538   Train loss: 0.1297   Train accuracy: 0.717   Val loss: 0.2482   Val accuracy: 0.595    weighted Val loss: 0.2725\n",
      "Epoch: 539   Train loss: 0.1313   Train accuracy: 0.713   Val loss: 0.2234   Val accuracy: 0.598    weighted Val loss: 0.2724\n",
      "Epoch: 540   Train loss: 0.1175   Train accuracy: 0.785   Val loss: 0.2254   Val accuracy: 0.584    weighted Val loss: 0.2723\n",
      "Epoch: 541   Train loss: 0.1274   Train accuracy: 0.694   Val loss: 0.2292   Val accuracy: 0.583    weighted Val loss: 0.2722\n",
      "Epoch: 542   Train loss: 0.1199   Train accuracy: 0.746   Val loss: 0.2367   Val accuracy: 0.585    weighted Val loss: 0.2722\n",
      "Epoch: 543   Train loss: 0.1306   Train accuracy: 0.72   Val loss: 0.223   Val accuracy: 0.591    weighted Val loss: 0.2721\n",
      "Epoch: 544   Train loss: 0.126   Train accuracy: 0.724   Val loss: 0.2226   Val accuracy: 0.599    weighted Val loss: 0.272\n",
      "Epoch: 545   Train loss: 0.1209   Train accuracy: 0.771   Val loss: 0.2299   Val accuracy: 0.595    weighted Val loss: 0.2719\n",
      "Epoch: 546   Train loss: 0.1276   Train accuracy: 0.729   Val loss: 0.2221   Val accuracy: 0.583    weighted Val loss: 0.2718\n",
      "Epoch: 547   Train loss: 0.1217   Train accuracy: 0.754   Val loss: 0.2283   Val accuracy: 0.588    weighted Val loss: 0.2717\n",
      "Epoch: 548   Train loss: 0.1269   Train accuracy: 0.642   Val loss: 0.2219   Val accuracy: 0.598    weighted Val loss: 0.2716\n",
      "Epoch: 549   Train loss: 0.1295   Train accuracy: 0.703   Val loss: 0.2227   Val accuracy: 0.597    weighted Val loss: 0.2715\n",
      "Epoch: 550   Train loss: 0.1216   Train accuracy: 0.725   Val loss: 0.2341   Val accuracy: 0.582    weighted Val loss: 0.2714\n",
      "Epoch: 551   Train loss: 0.1219   Train accuracy: 0.725   Val loss: 0.229   Val accuracy: 0.588    weighted Val loss: 0.2713\n",
      "Epoch: 552   Train loss: 0.1237   Train accuracy: 0.652   Val loss: 0.2284   Val accuracy: 0.578    weighted Val loss: 0.2712\n",
      "Epoch: 553   Train loss: 0.1203   Train accuracy: 0.719   Val loss: 0.2244   Val accuracy: 0.587    weighted Val loss: 0.2712\n",
      "Epoch: 554   Train loss: 0.1216   Train accuracy: 0.728   Val loss: 0.2398   Val accuracy: 0.584    weighted Val loss: 0.2711\n",
      "Epoch: 555   Train loss: 0.1233   Train accuracy: 0.758   Val loss: 0.2199   Val accuracy: 0.598    weighted Val loss: 0.271\n",
      "Epoch: 556   Train loss: 0.1128   Train accuracy: 0.706   Val loss: 0.2267   Val accuracy: 0.591    weighted Val loss: 0.2709\n",
      "Epoch: 557   Train loss: 0.1215   Train accuracy: 0.765   Val loss: 0.2306   Val accuracy: 0.586    weighted Val loss: 0.2708\n",
      "Epoch: 558   Train loss: 0.1229   Train accuracy: 0.748   Val loss: 0.228   Val accuracy: 0.582    weighted Val loss: 0.2707\n",
      "Epoch: 559   Train loss: 0.1231   Train accuracy: 0.598   Val loss: 0.226   Val accuracy: 0.579    weighted Val loss: 0.2706\n",
      "Epoch: 560   Train loss: 0.1275   Train accuracy: 0.657   Val loss: 0.2254   Val accuracy: 0.581    weighted Val loss: 0.2706\n",
      "Epoch: 561   Train loss: 0.1445   Train accuracy: 0.735   Val loss: 0.2241   Val accuracy: 0.588    weighted Val loss: 0.2705\n",
      "Epoch: 562   Train loss: 0.1203   Train accuracy: 0.751   Val loss: 0.2257   Val accuracy: 0.585    weighted Val loss: 0.2704\n",
      "Epoch: 563   Train loss: 0.1416   Train accuracy: 0.676   Val loss: 0.2216   Val accuracy: 0.588    weighted Val loss: 0.2703\n",
      "Epoch: 564   Train loss: 0.1309   Train accuracy: 0.729   Val loss: 0.2269   Val accuracy: 0.588    weighted Val loss: 0.2702\n",
      "Epoch: 565   Train loss: 0.137   Train accuracy: 0.623   Val loss: 0.2219   Val accuracy: 0.588    weighted Val loss: 0.2701\n",
      "Epoch: 566   Train loss: 0.1349   Train accuracy: 0.687   Val loss: 0.226   Val accuracy: 0.603    weighted Val loss: 0.27\n",
      "Epoch: 567   Train loss: 0.1293   Train accuracy: 0.708   Val loss: 0.2247   Val accuracy: 0.592    weighted Val loss: 0.2699\n",
      "Epoch: 568   Train loss: 0.122   Train accuracy: 0.695   Val loss: 0.2256   Val accuracy: 0.581    weighted Val loss: 0.2698\n",
      "Epoch: 569   Train loss: 0.1371   Train accuracy: 0.776   Val loss: 0.2249   Val accuracy: 0.589    weighted Val loss: 0.2697\n",
      "Epoch: 570   Train loss: 0.1257   Train accuracy: 0.672   Val loss: 0.231   Val accuracy: 0.576    weighted Val loss: 0.2697\n",
      "Epoch: 571   Train loss: 0.1284   Train accuracy: 0.727   Val loss: 0.2252   Val accuracy: 0.577    weighted Val loss: 0.2696\n",
      "Epoch: 572   Train loss: 0.134   Train accuracy: 0.752   Val loss: 0.2281   Val accuracy: 0.579    weighted Val loss: 0.2695\n"
     ]
    },
    {
     "name": "stdout",
     "output_type": "stream",
     "text": [
      "Epoch: 573   Train loss: 0.1427   Train accuracy: 0.68   Val loss: 0.2298   Val accuracy: 0.589    weighted Val loss: 0.2694\n",
      "Epoch: 574   Train loss: 0.1313   Train accuracy: 0.731   Val loss: 0.2244   Val accuracy: 0.594    weighted Val loss: 0.2693\n",
      "Epoch: 575   Train loss: 0.1259   Train accuracy: 0.738   Val loss: 0.2336   Val accuracy: 0.599    weighted Val loss: 0.2692\n",
      "Epoch: 576   Train loss: 0.137   Train accuracy: 0.733   Val loss: 0.2232   Val accuracy: 0.597    weighted Val loss: 0.2691\n",
      "Epoch: 577   Train loss: 0.123   Train accuracy: 0.703   Val loss: 0.2275   Val accuracy: 0.599    weighted Val loss: 0.2691\n",
      "Epoch: 578   Train loss: 0.1294   Train accuracy: 0.747   Val loss: 0.2225   Val accuracy: 0.598    weighted Val loss: 0.269\n",
      "Epoch: 579   Train loss: 0.1235   Train accuracy: 0.775   Val loss: 0.2311   Val accuracy: 0.598    weighted Val loss: 0.2689\n",
      "Epoch: 580   Train loss: 0.1191   Train accuracy: 0.737   Val loss: 0.2199   Val accuracy: 0.591    weighted Val loss: 0.2688\n",
      "Epoch: 581   Train loss: 0.129   Train accuracy: 0.713   Val loss: 0.2334   Val accuracy: 0.586    weighted Val loss: 0.2687\n",
      "Epoch: 582   Train loss: 0.1227   Train accuracy: 0.755   Val loss: 0.2274   Val accuracy: 0.585    weighted Val loss: 0.2686\n",
      "Epoch: 583   Train loss: 0.1227   Train accuracy: 0.73   Val loss: 0.2258   Val accuracy: 0.586    weighted Val loss: 0.2686\n",
      "Epoch: 584   Train loss: 0.1343   Train accuracy: 0.753   Val loss: 0.2296   Val accuracy: 0.585    weighted Val loss: 0.2685\n",
      "Epoch: 585   Train loss: 0.1162   Train accuracy: 0.757   Val loss: 0.2277   Val accuracy: 0.587    weighted Val loss: 0.2684\n",
      "Epoch: 586   Train loss: 0.1142   Train accuracy: 0.71   Val loss: 0.234   Val accuracy: 0.592    weighted Val loss: 0.2683\n",
      "Epoch: 587   Train loss: 0.1273   Train accuracy: 0.716   Val loss: 0.2176   Val accuracy: 0.598    weighted Val loss: 0.2682\n",
      "Epoch: 588   Train loss: 0.116   Train accuracy: 0.793   Val loss: 0.2365   Val accuracy: 0.598    weighted Val loss: 0.2682\n",
      "Epoch: 589   Train loss: 0.1188   Train accuracy: 0.731   Val loss: 0.2194   Val accuracy: 0.602    weighted Val loss: 0.2681\n",
      "Epoch: 590   Train loss: 0.1353   Train accuracy: 0.706   Val loss: 0.2295   Val accuracy: 0.586    weighted Val loss: 0.268\n",
      "Epoch: 591   Train loss: 0.1186   Train accuracy: 0.752   Val loss: 0.2287   Val accuracy: 0.594    weighted Val loss: 0.2679\n",
      "Epoch: 592   Train loss: 0.1254   Train accuracy: 0.726   Val loss: 0.2244   Val accuracy: 0.594    weighted Val loss: 0.2678\n",
      "Epoch: 593   Train loss: 0.1312   Train accuracy: 0.752   Val loss: 0.2288   Val accuracy: 0.598    weighted Val loss: 0.2677\n",
      "Epoch: 594   Train loss: 0.1196   Train accuracy: 0.698   Val loss: 0.2229   Val accuracy: 0.591    weighted Val loss: 0.2677\n",
      "Epoch: 595   Train loss: 0.1213   Train accuracy: 0.686   Val loss: 0.2256   Val accuracy: 0.587    weighted Val loss: 0.2676\n",
      "Epoch: 596   Train loss: 0.1209   Train accuracy: 0.736   Val loss: 0.2322   Val accuracy: 0.587    weighted Val loss: 0.2675\n",
      "Epoch: 597   Train loss: 0.1255   Train accuracy: 0.711   Val loss: 0.2175   Val accuracy: 0.577    weighted Val loss: 0.2674\n",
      "Epoch: 598   Train loss: 0.1289   Train accuracy: 0.733   Val loss: 0.2418   Val accuracy: 0.58    weighted Val loss: 0.2674\n",
      "Epoch: 599   Train loss: 0.1226   Train accuracy: 0.712   Val loss: 0.2228   Val accuracy: 0.577    weighted Val loss: 0.2673\n",
      "Epoch: 600   Train loss: 0.1238   Train accuracy: 0.736   Val loss: 0.22   Val accuracy: 0.574    weighted Val loss: 0.2672\n",
      "Epoch: 601   Train loss: 0.1222   Train accuracy: 0.752   Val loss: 0.2351   Val accuracy: 0.58    weighted Val loss: 0.2671\n",
      "Epoch: 602   Train loss: 0.1238   Train accuracy: 0.743   Val loss: 0.2193   Val accuracy: 0.589    weighted Val loss: 0.267\n",
      "Epoch: 603   Train loss: 0.1175   Train accuracy: 0.754   Val loss: 0.2266   Val accuracy: 0.588    weighted Val loss: 0.2669\n",
      "Epoch: 604   Train loss: 0.1251   Train accuracy: 0.732   Val loss: 0.2231   Val accuracy: 0.575    weighted Val loss: 0.2668\n",
      "Epoch: 605   Train loss: 0.1221   Train accuracy: 0.771   Val loss: 0.2413   Val accuracy: 0.588    weighted Val loss: 0.2668\n",
      "Epoch: 606   Train loss: 0.1297   Train accuracy: 0.705   Val loss: 0.2228   Val accuracy: 0.595    weighted Val loss: 0.2667\n",
      "Epoch: 607   Train loss: 0.1311   Train accuracy: 0.723   Val loss: 0.2228   Val accuracy: 0.6    weighted Val loss: 0.2666\n",
      "Epoch: 608   Train loss: 0.1149   Train accuracy: 0.78   Val loss: 0.229   Val accuracy: 0.597    weighted Val loss: 0.2665\n",
      "Epoch: 609   Train loss: 0.1203   Train accuracy: 0.726   Val loss: 0.2259   Val accuracy: 0.609    weighted Val loss: 0.2665\n",
      "0.609 ----------saved-----------\n",
      "Epoch: 610   Train loss: 0.1216   Train accuracy: 0.758   Val loss: 0.2252   Val accuracy: 0.601    weighted Val loss: 0.2664\n",
      "Epoch: 611   Train loss: 0.1146   Train accuracy: 0.701   Val loss: 0.226   Val accuracy: 0.59    weighted Val loss: 0.2663\n",
      "Epoch: 612   Train loss: 0.1333   Train accuracy: 0.735   Val loss: 0.2255   Val accuracy: 0.59    weighted Val loss: 0.2662\n",
      "Epoch: 613   Train loss: 0.1168   Train accuracy: 0.776   Val loss: 0.2241   Val accuracy: 0.612    weighted Val loss: 0.2661\n",
      "0.612 ----------saved-----------\n",
      "Epoch: 614   Train loss: 0.1393   Train accuracy: 0.728   Val loss: 0.2308   Val accuracy: 0.609    weighted Val loss: 0.2661\n",
      "Epoch: 615   Train loss: 0.12   Train accuracy: 0.752   Val loss: 0.2282   Val accuracy: 0.597    weighted Val loss: 0.266\n",
      "Epoch: 616   Train loss: 0.121   Train accuracy: 0.67   Val loss: 0.2264   Val accuracy: 0.598    weighted Val loss: 0.2659\n",
      "Epoch: 617   Train loss: 0.1164   Train accuracy: 0.759   Val loss: 0.2331   Val accuracy: 0.603    weighted Val loss: 0.2658\n",
      "Epoch: 618   Train loss: 0.127   Train accuracy: 0.682   Val loss: 0.2226   Val accuracy: 0.591    weighted Val loss: 0.2657\n",
      "Epoch: 619   Train loss: 0.1309   Train accuracy: 0.752   Val loss: 0.2292   Val accuracy: 0.584    weighted Val loss: 0.2657\n",
      "Epoch: 620   Train loss: 0.1291   Train accuracy: 0.729   Val loss: 0.2288   Val accuracy: 0.591    weighted Val loss: 0.2656\n",
      "Epoch: 621   Train loss: 0.1242   Train accuracy: 0.758   Val loss: 0.2243   Val accuracy: 0.604    weighted Val loss: 0.2655\n",
      "Epoch: 622   Train loss: 0.1116   Train accuracy: 0.759   Val loss: 0.2307   Val accuracy: 0.598    weighted Val loss: 0.2655\n",
      "Epoch: 623   Train loss: 0.1295   Train accuracy: 0.742   Val loss: 0.2249   Val accuracy: 0.599    weighted Val loss: 0.2654\n",
      "Epoch: 624   Train loss: 0.1173   Train accuracy: 0.749   Val loss: 0.2276   Val accuracy: 0.604    weighted Val loss: 0.2653\n",
      "Epoch: 625   Train loss: 0.134   Train accuracy: 0.747   Val loss: 0.2277   Val accuracy: 0.611    weighted Val loss: 0.2652\n",
      "Epoch: 626   Train loss: 0.1275   Train accuracy: 0.688   Val loss: 0.225   Val accuracy: 0.598    weighted Val loss: 0.2651\n",
      "Epoch: 627   Train loss: 0.1195   Train accuracy: 0.656   Val loss: 0.231   Val accuracy: 0.595    weighted Val loss: 0.2651\n",
      "Epoch: 628   Train loss: 0.1187   Train accuracy: 0.772   Val loss: 0.2245   Val accuracy: 0.598    weighted Val loss: 0.265\n",
      "Epoch: 629   Train loss: 0.1316   Train accuracy: 0.69   Val loss: 0.2239   Val accuracy: 0.598    weighted Val loss: 0.2649\n",
      "Epoch: 630   Train loss: 0.121   Train accuracy: 0.776   Val loss: 0.2351   Val accuracy: 0.594    weighted Val loss: 0.2648\n",
      "Epoch: 631   Train loss: 0.1256   Train accuracy: 0.733   Val loss: 0.232   Val accuracy: 0.592    weighted Val loss: 0.2648\n",
      "Epoch: 632   Train loss: 0.1294   Train accuracy: 0.704   Val loss: 0.2237   Val accuracy: 0.596    weighted Val loss: 0.2647\n",
      "Epoch: 633   Train loss: 0.1301   Train accuracy: 0.741   Val loss: 0.2326   Val accuracy: 0.587    weighted Val loss: 0.2646\n",
      "Epoch: 634   Train loss: 0.124   Train accuracy: 0.655   Val loss: 0.2209   Val accuracy: 0.587    weighted Val loss: 0.2645\n",
      "Epoch: 635   Train loss: 0.118   Train accuracy: 0.73   Val loss: 0.2398   Val accuracy: 0.586    weighted Val loss: 0.2645\n",
      "Epoch: 636   Train loss: 0.1217   Train accuracy: 0.741   Val loss: 0.2274   Val accuracy: 0.576    weighted Val loss: 0.2644\n",
      "Epoch: 637   Train loss: 0.1171   Train accuracy: 0.766   Val loss: 0.2258   Val accuracy: 0.583    weighted Val loss: 0.2643\n",
      "Epoch: 638   Train loss: 0.1198   Train accuracy: 0.793   Val loss: 0.2291   Val accuracy: 0.583    weighted Val loss: 0.2643\n",
      "Epoch: 639   Train loss: 0.1258   Train accuracy: 0.711   Val loss: 0.226   Val accuracy: 0.586    weighted Val loss: 0.2642\n"
     ]
    },
    {
     "name": "stdout",
     "output_type": "stream",
     "text": [
      "Epoch: 640   Train loss: 0.1265   Train accuracy: 0.681   Val loss: 0.2398   Val accuracy: 0.585    weighted Val loss: 0.2642\n",
      "Epoch: 641   Train loss: 0.1137   Train accuracy: 0.779   Val loss: 0.2222   Val accuracy: 0.584    weighted Val loss: 0.2641\n",
      "Epoch: 642   Train loss: 0.1204   Train accuracy: 0.767   Val loss: 0.2327   Val accuracy: 0.599    weighted Val loss: 0.264\n",
      "Epoch: 643   Train loss: 0.1363   Train accuracy: 0.699   Val loss: 0.2224   Val accuracy: 0.593    weighted Val loss: 0.2639\n",
      "Epoch: 644   Train loss: 0.1154   Train accuracy: 0.77   Val loss: 0.2293   Val accuracy: 0.589    weighted Val loss: 0.2639\n",
      "Epoch: 645   Train loss: 0.123   Train accuracy: 0.778   Val loss: 0.2264   Val accuracy: 0.587    weighted Val loss: 0.2638\n",
      "Epoch: 646   Train loss: 0.1099   Train accuracy: 0.823   Val loss: 0.2347   Val accuracy: 0.582    weighted Val loss: 0.2637\n",
      "Epoch: 647   Train loss: 0.1165   Train accuracy: 0.732   Val loss: 0.2223   Val accuracy: 0.592    weighted Val loss: 0.2636\n",
      "Epoch: 648   Train loss: 0.121   Train accuracy: 0.656   Val loss: 0.2337   Val accuracy: 0.586    weighted Val loss: 0.2636\n",
      "Epoch: 649   Train loss: 0.1172   Train accuracy: 0.743   Val loss: 0.2289   Val accuracy: 0.587    weighted Val loss: 0.2635\n",
      "Epoch: 650   Train loss: 0.1202   Train accuracy: 0.694   Val loss: 0.2325   Val accuracy: 0.591    weighted Val loss: 0.2634\n",
      "Epoch: 651   Train loss: 0.126   Train accuracy: 0.764   Val loss: 0.2258   Val accuracy: 0.579    weighted Val loss: 0.2634\n",
      "Epoch: 652   Train loss: 0.1231   Train accuracy: 0.689   Val loss: 0.234   Val accuracy: 0.579    weighted Val loss: 0.2633\n",
      "Epoch: 653   Train loss: 0.1234   Train accuracy: 0.674   Val loss: 0.2268   Val accuracy: 0.575    weighted Val loss: 0.2632\n",
      "Epoch: 654   Train loss: 0.1315   Train accuracy: 0.726   Val loss: 0.2245   Val accuracy: 0.591    weighted Val loss: 0.2632\n",
      "Epoch: 655   Train loss: 0.1385   Train accuracy: 0.734   Val loss: 0.2329   Val accuracy: 0.593    weighted Val loss: 0.2631\n",
      "Epoch: 656   Train loss: 0.1212   Train accuracy: 0.751   Val loss: 0.2204   Val accuracy: 0.593    weighted Val loss: 0.263\n",
      "Epoch: 657   Train loss: 0.1354   Train accuracy: 0.71   Val loss: 0.2315   Val accuracy: 0.592    weighted Val loss: 0.263\n",
      "Epoch: 658   Train loss: 0.123   Train accuracy: 0.682   Val loss: 0.2195   Val accuracy: 0.596    weighted Val loss: 0.2629\n",
      "Epoch: 659   Train loss: 0.1275   Train accuracy: 0.793   Val loss: 0.2305   Val accuracy: 0.586    weighted Val loss: 0.2628\n",
      "Epoch: 660   Train loss: 0.1256   Train accuracy: 0.784   Val loss: 0.2327   Val accuracy: 0.583    weighted Val loss: 0.2627\n",
      "Epoch: 661   Train loss: 0.126   Train accuracy: 0.719   Val loss: 0.2218   Val accuracy: 0.58    weighted Val loss: 0.2627\n",
      "Epoch: 662   Train loss: 0.1271   Train accuracy: 0.739   Val loss: 0.2304   Val accuracy: 0.588    weighted Val loss: 0.2626\n",
      "Epoch: 663   Train loss: 0.1316   Train accuracy: 0.655   Val loss: 0.223   Val accuracy: 0.583    weighted Val loss: 0.2625\n",
      "Epoch: 664   Train loss: 0.1215   Train accuracy: 0.813   Val loss: 0.2399   Val accuracy: 0.576    weighted Val loss: 0.2625\n",
      "Epoch: 665   Train loss: 0.1247   Train accuracy: 0.729   Val loss: 0.2262   Val accuracy: 0.578    weighted Val loss: 0.2624\n",
      "Epoch: 666   Train loss: 0.1265   Train accuracy: 0.738   Val loss: 0.2297   Val accuracy: 0.588    weighted Val loss: 0.2623\n",
      "Epoch: 667   Train loss: 0.1201   Train accuracy: 0.658   Val loss: 0.2222   Val accuracy: 0.589    weighted Val loss: 0.2622\n",
      "Epoch: 668   Train loss: 0.1255   Train accuracy: 0.678   Val loss: 0.2328   Val accuracy: 0.584    weighted Val loss: 0.2622\n",
      "Epoch: 669   Train loss: 0.117   Train accuracy: 0.719   Val loss: 0.2232   Val accuracy: 0.571    weighted Val loss: 0.2621\n",
      "Epoch: 670   Train loss: 0.1215   Train accuracy: 0.7   Val loss: 0.236   Val accuracy: 0.573    weighted Val loss: 0.2621\n",
      "Epoch: 671   Train loss: 0.1258   Train accuracy: 0.71   Val loss: 0.2187   Val accuracy: 0.592    weighted Val loss: 0.262\n",
      "Epoch: 672   Train loss: 0.1244   Train accuracy: 0.667   Val loss: 0.2267   Val accuracy: 0.587    weighted Val loss: 0.2619\n",
      "Epoch: 673   Train loss: 0.1231   Train accuracy: 0.783   Val loss: 0.2302   Val accuracy: 0.587    weighted Val loss: 0.2618\n",
      "Epoch: 674   Train loss: 0.1182   Train accuracy: 0.738   Val loss: 0.2356   Val accuracy: 0.583    weighted Val loss: 0.2618\n",
      "Epoch: 675   Train loss: 0.1394   Train accuracy: 0.61   Val loss: 0.2234   Val accuracy: 0.595    weighted Val loss: 0.2617\n",
      "Epoch: 676   Train loss: 0.1296   Train accuracy: 0.713   Val loss: 0.2332   Val accuracy: 0.581    weighted Val loss: 0.2617\n",
      "Epoch: 677   Train loss: 0.1253   Train accuracy: 0.649   Val loss: 0.2295   Val accuracy: 0.584    weighted Val loss: 0.2616\n",
      "Epoch: 678   Train loss: 0.1149   Train accuracy: 0.806   Val loss: 0.2387   Val accuracy: 0.587    weighted Val loss: 0.2615\n",
      "Epoch: 679   Train loss: 0.1223   Train accuracy: 0.663   Val loss: 0.2287   Val accuracy: 0.579    weighted Val loss: 0.2615\n",
      "Epoch: 680   Train loss: 0.134   Train accuracy: 0.722   Val loss: 0.23   Val accuracy: 0.579    weighted Val loss: 0.2614\n",
      "Epoch: 681   Train loss: 0.1403   Train accuracy: 0.702   Val loss: 0.2307   Val accuracy: 0.578    weighted Val loss: 0.2614\n",
      "Epoch: 682   Train loss: 0.1266   Train accuracy: 0.64   Val loss: 0.2287   Val accuracy: 0.564    weighted Val loss: 0.2613\n",
      "Epoch: 683   Train loss: 0.1304   Train accuracy: 0.781   Val loss: 0.2324   Val accuracy: 0.565    weighted Val loss: 0.2612\n",
      "Epoch: 684   Train loss: 0.1263   Train accuracy: 0.778   Val loss: 0.2272   Val accuracy: 0.58    weighted Val loss: 0.2612\n",
      "Epoch: 685   Train loss: 0.1274   Train accuracy: 0.742   Val loss: 0.224   Val accuracy: 0.585    weighted Val loss: 0.2611\n",
      "Epoch: 686   Train loss: 0.1291   Train accuracy: 0.803   Val loss: 0.2355   Val accuracy: 0.596    weighted Val loss: 0.261\n",
      "Epoch: 687   Train loss: 0.1194   Train accuracy: 0.753   Val loss: 0.2319   Val accuracy: 0.585    weighted Val loss: 0.261\n",
      "Epoch: 688   Train loss: 0.13   Train accuracy: 0.746   Val loss: 0.2267   Val accuracy: 0.597    weighted Val loss: 0.2609\n",
      "Epoch: 689   Train loss: 0.1171   Train accuracy: 0.796   Val loss: 0.2274   Val accuracy: 0.582    weighted Val loss: 0.2608\n",
      "Epoch: 690   Train loss: 0.1275   Train accuracy: 0.713   Val loss: 0.2315   Val accuracy: 0.582    weighted Val loss: 0.2608\n",
      "Epoch: 691   Train loss: 0.1256   Train accuracy: 0.775   Val loss: 0.228   Val accuracy: 0.588    weighted Val loss: 0.2607\n",
      "Epoch: 692   Train loss: 0.1238   Train accuracy: 0.693   Val loss: 0.2253   Val accuracy: 0.583    weighted Val loss: 0.2606\n",
      "Epoch: 693   Train loss: 0.1282   Train accuracy: 0.755   Val loss: 0.2253   Val accuracy: 0.589    weighted Val loss: 0.2606\n",
      "Epoch: 694   Train loss: 0.1302   Train accuracy: 0.708   Val loss: 0.2234   Val accuracy: 0.582    weighted Val loss: 0.2605\n",
      "Epoch: 695   Train loss: 0.1246   Train accuracy: 0.703   Val loss: 0.2309   Val accuracy: 0.578    weighted Val loss: 0.2604\n",
      "Epoch: 696   Train loss: 0.1385   Train accuracy: 0.669   Val loss: 0.2169   Val accuracy: 0.6    weighted Val loss: 0.2604\n",
      "Epoch: 697   Train loss: 0.1189   Train accuracy: 0.81   Val loss: 0.2277   Val accuracy: 0.587    weighted Val loss: 0.2603\n",
      "Epoch: 698   Train loss: 0.1337   Train accuracy: 0.748   Val loss: 0.2237   Val accuracy: 0.589    weighted Val loss: 0.2602\n",
      "Epoch: 699   Train loss: 0.1169   Train accuracy: 0.703   Val loss: 0.2208   Val accuracy: 0.588    weighted Val loss: 0.2601\n",
      "Epoch: 700   Train loss: 0.1189   Train accuracy: 0.778   Val loss: 0.2239   Val accuracy: 0.599    weighted Val loss: 0.2601\n",
      "Epoch: 701   Train loss: 0.1216   Train accuracy: 0.722   Val loss: 0.216   Val accuracy: 0.596    weighted Val loss: 0.26\n",
      "Epoch: 702   Train loss: 0.112   Train accuracy: 0.794   Val loss: 0.2298   Val accuracy: 0.595    weighted Val loss: 0.2599\n",
      "Epoch: 703   Train loss: 0.1164   Train accuracy: 0.767   Val loss: 0.2237   Val accuracy: 0.591    weighted Val loss: 0.2598\n",
      "Epoch: 704   Train loss: 0.1255   Train accuracy: 0.717   Val loss: 0.2194   Val accuracy: 0.595    weighted Val loss: 0.2598\n",
      "Epoch: 705   Train loss: 0.1229   Train accuracy: 0.75   Val loss: 0.2238   Val accuracy: 0.589    weighted Val loss: 0.2597\n"
     ]
    },
    {
     "name": "stdout",
     "output_type": "stream",
     "text": [
      "Epoch: 706   Train loss: 0.1202   Train accuracy: 0.674   Val loss: 0.2235   Val accuracy: 0.589    weighted Val loss: 0.2596\n",
      "Epoch: 707   Train loss: 0.1222   Train accuracy: 0.721   Val loss: 0.2187   Val accuracy: 0.593    weighted Val loss: 0.2595\n",
      "Epoch: 708   Train loss: 0.1232   Train accuracy: 0.769   Val loss: 0.2314   Val accuracy: 0.589    weighted Val loss: 0.2595\n",
      "Epoch: 709   Train loss: 0.1171   Train accuracy: 0.747   Val loss: 0.227   Val accuracy: 0.597    weighted Val loss: 0.2594\n",
      "Epoch: 710   Train loss: 0.1249   Train accuracy: 0.705   Val loss: 0.2284   Val accuracy: 0.585    weighted Val loss: 0.2594\n",
      "Epoch: 711   Train loss: 0.1285   Train accuracy: 0.757   Val loss: 0.2223   Val accuracy: 0.596    weighted Val loss: 0.2593\n",
      "Epoch: 712   Train loss: 0.1191   Train accuracy: 0.759   Val loss: 0.2253   Val accuracy: 0.594    weighted Val loss: 0.2592\n",
      "Epoch: 713   Train loss: 0.1298   Train accuracy: 0.739   Val loss: 0.2144   Val accuracy: 0.592    weighted Val loss: 0.2591\n",
      "Epoch: 714   Train loss: 0.1233   Train accuracy: 0.766   Val loss: 0.2262   Val accuracy: 0.588    weighted Val loss: 0.2591\n",
      "Epoch: 715   Train loss: 0.1288   Train accuracy: 0.745   Val loss: 0.2211   Val accuracy: 0.582    weighted Val loss: 0.259\n",
      "Epoch: 716   Train loss: 0.1251   Train accuracy: 0.703   Val loss: 0.2196   Val accuracy: 0.592    weighted Val loss: 0.2589\n",
      "Epoch: 717   Train loss: 0.1211   Train accuracy: 0.722   Val loss: 0.2306   Val accuracy: 0.592    weighted Val loss: 0.2588\n",
      "Epoch: 718   Train loss: 0.1154   Train accuracy: 0.58   Val loss: 0.2195   Val accuracy: 0.598    weighted Val loss: 0.2588\n",
      "Epoch: 719   Train loss: 0.1267   Train accuracy: 0.802   Val loss: 0.2297   Val accuracy: 0.588    weighted Val loss: 0.2587\n",
      "Epoch: 720   Train loss: 0.1332   Train accuracy: 0.7   Val loss: 0.2212   Val accuracy: 0.592    weighted Val loss: 0.2586\n",
      "Epoch: 721   Train loss: 0.1336   Train accuracy: 0.761   Val loss: 0.23   Val accuracy: 0.593    weighted Val loss: 0.2586\n",
      "Epoch: 722   Train loss: 0.127   Train accuracy: 0.725   Val loss: 0.2227   Val accuracy: 0.589    weighted Val loss: 0.2585\n",
      "Epoch: 723   Train loss: 0.1262   Train accuracy: 0.756   Val loss: 0.2305   Val accuracy: 0.595    weighted Val loss: 0.2584\n",
      "Epoch: 724   Train loss: 0.13   Train accuracy: 0.681   Val loss: 0.2213   Val accuracy: 0.598    weighted Val loss: 0.2584\n",
      "Epoch: 725   Train loss: 0.1235   Train accuracy: 0.729   Val loss: 0.2248   Val accuracy: 0.602    weighted Val loss: 0.2583\n",
      "Epoch: 726   Train loss: 0.1238   Train accuracy: 0.67   Val loss: 0.2296   Val accuracy: 0.593    weighted Val loss: 0.2583\n",
      "Epoch: 727   Train loss: 0.1331   Train accuracy: 0.697   Val loss: 0.2211   Val accuracy: 0.598    weighted Val loss: 0.2582\n",
      "Epoch: 728   Train loss: 0.1187   Train accuracy: 0.787   Val loss: 0.234   Val accuracy: 0.59    weighted Val loss: 0.2581\n",
      "Epoch: 729   Train loss: 0.1271   Train accuracy: 0.689   Val loss: 0.219   Val accuracy: 0.603    weighted Val loss: 0.258\n",
      "Epoch: 730   Train loss: 0.114   Train accuracy: 0.776   Val loss: 0.2331   Val accuracy: 0.6    weighted Val loss: 0.258\n",
      "Epoch: 731   Train loss: 0.1272   Train accuracy: 0.74   Val loss: 0.2233   Val accuracy: 0.6    weighted Val loss: 0.2579\n",
      "Epoch: 732   Train loss: 0.1346   Train accuracy: 0.689   Val loss: 0.224   Val accuracy: 0.593    weighted Val loss: 0.2579\n",
      "Epoch: 733   Train loss: 0.1329   Train accuracy: 0.749   Val loss: 0.2276   Val accuracy: 0.597    weighted Val loss: 0.2578\n",
      "Epoch: 734   Train loss: 0.1285   Train accuracy: 0.664   Val loss: 0.2192   Val accuracy: 0.586    weighted Val loss: 0.2577\n",
      "Epoch: 735   Train loss: 0.1293   Train accuracy: 0.766   Val loss: 0.2308   Val accuracy: 0.58    weighted Val loss: 0.2577\n",
      "Epoch: 736   Train loss: 0.1237   Train accuracy: 0.739   Val loss: 0.2195   Val accuracy: 0.584    weighted Val loss: 0.2576\n",
      "Epoch: 737   Train loss: 0.1296   Train accuracy: 0.773   Val loss: 0.2322   Val accuracy: 0.586    weighted Val loss: 0.2575\n",
      "Epoch: 738   Train loss: 0.1316   Train accuracy: 0.662   Val loss: 0.2207   Val accuracy: 0.586    weighted Val loss: 0.2575\n",
      "Epoch: 739   Train loss: 0.1207   Train accuracy: 0.782   Val loss: 0.2281   Val accuracy: 0.591    weighted Val loss: 0.2574\n",
      "Epoch: 740   Train loss: 0.1167   Train accuracy: 0.737   Val loss: 0.2193   Val accuracy: 0.59    weighted Val loss: 0.2573\n",
      "Epoch: 741   Train loss: 0.1279   Train accuracy: 0.807   Val loss: 0.2319   Val accuracy: 0.578    weighted Val loss: 0.2573\n",
      "Epoch: 742   Train loss: 0.1156   Train accuracy: 0.784   Val loss: 0.226   Val accuracy: 0.581    weighted Val loss: 0.2572\n",
      "Epoch: 743   Train loss: 0.109   Train accuracy: 0.792   Val loss: 0.2297   Val accuracy: 0.583    weighted Val loss: 0.2572\n",
      "Epoch: 744   Train loss: 0.1159   Train accuracy: 0.792   Val loss: 0.2325   Val accuracy: 0.579    weighted Val loss: 0.2571\n",
      "Epoch: 745   Train loss: 0.125   Train accuracy: 0.683   Val loss: 0.2226   Val accuracy: 0.589    weighted Val loss: 0.257\n",
      "Epoch: 746   Train loss: 0.1188   Train accuracy: 0.705   Val loss: 0.2277   Val accuracy: 0.601    weighted Val loss: 0.257\n",
      "Epoch: 747   Train loss: 0.1329   Train accuracy: 0.703   Val loss: 0.2147   Val accuracy: 0.604    weighted Val loss: 0.2569\n",
      "Epoch: 748   Train loss: 0.1337   Train accuracy: 0.702   Val loss: 0.2434   Val accuracy: 0.576    weighted Val loss: 0.2569\n",
      "Epoch: 749   Train loss: 0.131   Train accuracy: 0.727   Val loss: 0.2151   Val accuracy: 0.583    weighted Val loss: 0.2568\n",
      "Epoch: 750   Train loss: 0.1333   Train accuracy: 0.712   Val loss: 0.2411   Val accuracy: 0.576    weighted Val loss: 0.2568\n",
      "Epoch: 751   Train loss: 0.1224   Train accuracy: 0.701   Val loss: 0.2201   Val accuracy: 0.579    weighted Val loss: 0.2567\n",
      "Epoch: 752   Train loss: 0.1345   Train accuracy: 0.771   Val loss: 0.2309   Val accuracy: 0.597    weighted Val loss: 0.2566\n",
      "Epoch: 753   Train loss: 0.119   Train accuracy: 0.721   Val loss: 0.2208   Val accuracy: 0.592    weighted Val loss: 0.2566\n",
      "Epoch: 754   Train loss: 0.12   Train accuracy: 0.759   Val loss: 0.2278   Val accuracy: 0.584    weighted Val loss: 0.2565\n",
      "Epoch: 755   Train loss: 0.1185   Train accuracy: 0.772   Val loss: 0.2291   Val accuracy: 0.579    weighted Val loss: 0.2565\n",
      "Epoch: 756   Train loss: 0.1175   Train accuracy: 0.698   Val loss: 0.2279   Val accuracy: 0.571    weighted Val loss: 0.2564\n",
      "Epoch: 757   Train loss: 0.1296   Train accuracy: 0.725   Val loss: 0.2215   Val accuracy: 0.579    weighted Val loss: 0.2563\n",
      "Epoch: 758   Train loss: 0.1167   Train accuracy: 0.764   Val loss: 0.2328   Val accuracy: 0.583    weighted Val loss: 0.2563\n",
      "Epoch: 759   Train loss: 0.1312   Train accuracy: 0.696   Val loss: 0.2195   Val accuracy: 0.592    weighted Val loss: 0.2562\n",
      "Epoch: 760   Train loss: 0.1279   Train accuracy: 0.713   Val loss: 0.2345   Val accuracy: 0.583    weighted Val loss: 0.2562\n",
      "Epoch: 761   Train loss: 0.1204   Train accuracy: 0.726   Val loss: 0.2226   Val accuracy: 0.588    weighted Val loss: 0.2561\n",
      "Epoch: 762   Train loss: 0.1351   Train accuracy: 0.758   Val loss: 0.2289   Val accuracy: 0.583    weighted Val loss: 0.256\n",
      "Epoch: 763   Train loss: 0.1362   Train accuracy: 0.718   Val loss: 0.2201   Val accuracy: 0.591    weighted Val loss: 0.256\n",
      "Epoch: 764   Train loss: 0.1156   Train accuracy: 0.717   Val loss: 0.2417   Val accuracy: 0.589    weighted Val loss: 0.2559\n",
      "Epoch: 765   Train loss: 0.1242   Train accuracy: 0.692   Val loss: 0.2184   Val accuracy: 0.607    weighted Val loss: 0.2559\n",
      "Epoch: 766   Train loss: 0.1251   Train accuracy: 0.735   Val loss: 0.234   Val accuracy: 0.61    weighted Val loss: 0.2558\n",
      "Epoch: 767   Train loss: 0.1258   Train accuracy: 0.734   Val loss: 0.2213   Val accuracy: 0.609    weighted Val loss: 0.2558\n",
      "Epoch: 768   Train loss: 0.1233   Train accuracy: 0.746   Val loss: 0.2266   Val accuracy: 0.606    weighted Val loss: 0.2557\n",
      "Epoch: 769   Train loss: 0.124   Train accuracy: 0.744   Val loss: 0.2204   Val accuracy: 0.589    weighted Val loss: 0.2556\n",
      "Epoch: 770   Train loss: 0.1152   Train accuracy: 0.729   Val loss: 0.2325   Val accuracy: 0.582    weighted Val loss: 0.2556\n",
      "Epoch: 771   Train loss: 0.1109   Train accuracy: 0.783   Val loss: 0.2236   Val accuracy: 0.582    weighted Val loss: 0.2555\n"
     ]
    },
    {
     "name": "stdout",
     "output_type": "stream",
     "text": [
      "Epoch: 772   Train loss: 0.1211   Train accuracy: 0.801   Val loss: 0.2299   Val accuracy: 0.579    weighted Val loss: 0.2555\n",
      "Epoch: 773   Train loss: 0.1173   Train accuracy: 0.718   Val loss: 0.2197   Val accuracy: 0.592    weighted Val loss: 0.2554\n",
      "Epoch: 774   Train loss: 0.1221   Train accuracy: 0.737   Val loss: 0.2319   Val accuracy: 0.596    weighted Val loss: 0.2553\n",
      "Epoch: 775   Train loss: 0.1244   Train accuracy: 0.754   Val loss: 0.2209   Val accuracy: 0.587    weighted Val loss: 0.2553\n",
      "Epoch: 776   Train loss: 0.1172   Train accuracy: 0.768   Val loss: 0.2378   Val accuracy: 0.58    weighted Val loss: 0.2552\n",
      "Epoch: 777   Train loss: 0.1195   Train accuracy: 0.712   Val loss: 0.2246   Val accuracy: 0.586    weighted Val loss: 0.2552\n",
      "Epoch: 778   Train loss: 0.1241   Train accuracy: 0.73   Val loss: 0.2297   Val accuracy: 0.586    weighted Val loss: 0.2551\n",
      "Epoch: 779   Train loss: 0.1115   Train accuracy: 0.702   Val loss: 0.2323   Val accuracy: 0.579    weighted Val loss: 0.2551\n",
      "Epoch: 780   Train loss: 0.1162   Train accuracy: 0.755   Val loss: 0.2314   Val accuracy: 0.585    weighted Val loss: 0.255\n",
      "Epoch: 781   Train loss: 0.1168   Train accuracy: 0.783   Val loss: 0.2274   Val accuracy: 0.585    weighted Val loss: 0.255\n",
      "Epoch: 782   Train loss: 0.1228   Train accuracy: 0.619   Val loss: 0.2301   Val accuracy: 0.579    weighted Val loss: 0.2549\n",
      "Epoch: 783   Train loss: 0.1232   Train accuracy: 0.748   Val loss: 0.2239   Val accuracy: 0.586    weighted Val loss: 0.2549\n",
      "Epoch: 784   Train loss: 0.1247   Train accuracy: 0.754   Val loss: 0.2354   Val accuracy: 0.576    weighted Val loss: 0.2548\n",
      "Epoch: 785   Train loss: 0.1303   Train accuracy: 0.72   Val loss: 0.2223   Val accuracy: 0.584    weighted Val loss: 0.2548\n",
      "Epoch: 786   Train loss: 0.1254   Train accuracy: 0.793   Val loss: 0.2344   Val accuracy: 0.6    weighted Val loss: 0.2547\n",
      "Epoch: 787   Train loss: 0.1258   Train accuracy: 0.721   Val loss: 0.2174   Val accuracy: 0.592    weighted Val loss: 0.2546\n",
      "Epoch: 788   Train loss: 0.118   Train accuracy: 0.773   Val loss: 0.2331   Val accuracy: 0.57    weighted Val loss: 0.2546\n",
      "Epoch: 789   Train loss: 0.1223   Train accuracy: 0.784   Val loss: 0.2279   Val accuracy: 0.578    weighted Val loss: 0.2546\n",
      "Epoch: 790   Train loss: 0.1295   Train accuracy: 0.679   Val loss: 0.2209   Val accuracy: 0.585    weighted Val loss: 0.2545\n",
      "Epoch: 791   Train loss: 0.1171   Train accuracy: 0.784   Val loss: 0.2321   Val accuracy: 0.584    weighted Val loss: 0.2544\n",
      "Epoch: 792   Train loss: 0.1258   Train accuracy: 0.652   Val loss: 0.2213   Val accuracy: 0.588    weighted Val loss: 0.2544\n",
      "Epoch: 793   Train loss: 0.1092   Train accuracy: 0.799   Val loss: 0.2259   Val accuracy: 0.592    weighted Val loss: 0.2543\n",
      "Epoch: 794   Train loss: 0.1304   Train accuracy: 0.745   Val loss: 0.2284   Val accuracy: 0.593    weighted Val loss: 0.2543\n",
      "Epoch: 795   Train loss: 0.1155   Train accuracy: 0.792   Val loss: 0.2215   Val accuracy: 0.59    weighted Val loss: 0.2542\n",
      "Epoch: 796   Train loss: 0.1097   Train accuracy: 0.707   Val loss: 0.2353   Val accuracy: 0.583    weighted Val loss: 0.2542\n",
      "Epoch: 797   Train loss: 0.1274   Train accuracy: 0.739   Val loss: 0.217   Val accuracy: 0.599    weighted Val loss: 0.2541\n",
      "Epoch: 798   Train loss: 0.1283   Train accuracy: 0.734   Val loss: 0.2336   Val accuracy: 0.598    weighted Val loss: 0.254\n",
      "Epoch: 799   Train loss: 0.1179   Train accuracy: 0.755   Val loss: 0.2274   Val accuracy: 0.594    weighted Val loss: 0.254\n",
      "Epoch: 800   Train loss: 0.1127   Train accuracy: 0.752   Val loss: 0.2201   Val accuracy: 0.603    weighted Val loss: 0.2539\n",
      "Epoch: 801   Train loss: 0.1217   Train accuracy: 0.771   Val loss: 0.2316   Val accuracy: 0.605    weighted Val loss: 0.2539\n",
      "Epoch: 802   Train loss: 0.1279   Train accuracy: 0.736   Val loss: 0.2264   Val accuracy: 0.586    weighted Val loss: 0.2538\n",
      "Epoch: 803   Train loss: 0.1269   Train accuracy: 0.73   Val loss: 0.228   Val accuracy: 0.592    weighted Val loss: 0.2538\n",
      "Epoch: 804   Train loss: 0.1221   Train accuracy: 0.767   Val loss: 0.2196   Val accuracy: 0.581    weighted Val loss: 0.2537\n",
      "Epoch: 805   Train loss: 0.1379   Train accuracy: 0.754   Val loss: 0.2322   Val accuracy: 0.585    weighted Val loss: 0.2537\n",
      "Epoch: 806   Train loss: 0.1245   Train accuracy: 0.786   Val loss: 0.2258   Val accuracy: 0.578    weighted Val loss: 0.2536\n",
      "Epoch: 807   Train loss: 0.1125   Train accuracy: 0.768   Val loss: 0.2312   Val accuracy: 0.576    weighted Val loss: 0.2536\n",
      "Epoch: 808   Train loss: 0.1197   Train accuracy: 0.76   Val loss: 0.2314   Val accuracy: 0.571    weighted Val loss: 0.2535\n",
      "Epoch: 809   Train loss: 0.1161   Train accuracy: 0.779   Val loss: 0.2407   Val accuracy: 0.584    weighted Val loss: 0.2535\n",
      "Epoch: 810   Train loss: 0.1199   Train accuracy: 0.697   Val loss: 0.2248   Val accuracy: 0.581    weighted Val loss: 0.2534\n",
      "Epoch: 811   Train loss: 0.1179   Train accuracy: 0.784   Val loss: 0.2295   Val accuracy: 0.577    weighted Val loss: 0.2534\n",
      "Epoch: 812   Train loss: 0.1237   Train accuracy: 0.733   Val loss: 0.233   Val accuracy: 0.573    weighted Val loss: 0.2533\n",
      "Epoch: 813   Train loss: 0.1243   Train accuracy: 0.682   Val loss: 0.2257   Val accuracy: 0.583    weighted Val loss: 0.2533\n",
      "Epoch: 814   Train loss: 0.1164   Train accuracy: 0.776   Val loss: 0.2379   Val accuracy: 0.576    weighted Val loss: 0.2533\n",
      "Epoch: 815   Train loss: 0.1239   Train accuracy: 0.676   Val loss: 0.2296   Val accuracy: 0.586    weighted Val loss: 0.2532\n",
      "Epoch: 816   Train loss: 0.1184   Train accuracy: 0.775   Val loss: 0.2342   Val accuracy: 0.575    weighted Val loss: 0.2532\n",
      "Epoch: 817   Train loss: 0.1286   Train accuracy: 0.698   Val loss: 0.2323   Val accuracy: 0.571    weighted Val loss: 0.2531\n",
      "Epoch: 818   Train loss: 0.129   Train accuracy: 0.739   Val loss: 0.2332   Val accuracy: 0.582    weighted Val loss: 0.2531\n",
      "Epoch: 819   Train loss: 0.121   Train accuracy: 0.638   Val loss: 0.2211   Val accuracy: 0.578    weighted Val loss: 0.253\n",
      "Epoch: 820   Train loss: 0.1243   Train accuracy: 0.723   Val loss: 0.2365   Val accuracy: 0.578    weighted Val loss: 0.253\n",
      "Epoch: 821   Train loss: 0.1286   Train accuracy: 0.735   Val loss: 0.2208   Val accuracy: 0.59    weighted Val loss: 0.2529\n",
      "Epoch: 822   Train loss: 0.1408   Train accuracy: 0.737   Val loss: 0.2385   Val accuracy: 0.586    weighted Val loss: 0.2529\n",
      "Epoch: 823   Train loss: 0.1343   Train accuracy: 0.641   Val loss: 0.2259   Val accuracy: 0.578    weighted Val loss: 0.2528\n",
      "Epoch: 824   Train loss: 0.1095   Train accuracy: 0.796   Val loss: 0.2399   Val accuracy: 0.576    weighted Val loss: 0.2528\n",
      "Epoch: 825   Train loss: 0.1116   Train accuracy: 0.657   Val loss: 0.2241   Val accuracy: 0.584    weighted Val loss: 0.2528\n",
      "Epoch: 826   Train loss: 0.1183   Train accuracy: 0.756   Val loss: 0.2297   Val accuracy: 0.592    weighted Val loss: 0.2527\n",
      "Epoch: 827   Train loss: 0.1146   Train accuracy: 0.706   Val loss: 0.2327   Val accuracy: 0.582    weighted Val loss: 0.2527\n",
      "Epoch: 828   Train loss: 0.124   Train accuracy: 0.686   Val loss: 0.2325   Val accuracy: 0.584    weighted Val loss: 0.2526\n",
      "Epoch: 829   Train loss: 0.1187   Train accuracy: 0.788   Val loss: 0.2306   Val accuracy: 0.587    weighted Val loss: 0.2526\n",
      "Epoch: 830   Train loss: 0.1207   Train accuracy: 0.75   Val loss: 0.2246   Val accuracy: 0.592    weighted Val loss: 0.2525\n",
      "Epoch: 831   Train loss: 0.1157   Train accuracy: 0.786   Val loss: 0.2271   Val accuracy: 0.603    weighted Val loss: 0.2525\n",
      "Epoch: 832   Train loss: 0.1186   Train accuracy: 0.678   Val loss: 0.2277   Val accuracy: 0.603    weighted Val loss: 0.2524\n",
      "Epoch: 833   Train loss: 0.1296   Train accuracy: 0.714   Val loss: 0.2289   Val accuracy: 0.598    weighted Val loss: 0.2524\n",
      "Epoch: 834   Train loss: 0.1307   Train accuracy: 0.707   Val loss: 0.2253   Val accuracy: 0.591    weighted Val loss: 0.2523\n",
      "Epoch: 835   Train loss: 0.1263   Train accuracy: 0.757   Val loss: 0.2234   Val accuracy: 0.598    weighted Val loss: 0.2523\n",
      "Epoch: 836   Train loss: 0.1164   Train accuracy: 0.692   Val loss: 0.2318   Val accuracy: 0.596    weighted Val loss: 0.2522\n",
      "Epoch: 837   Train loss: 0.1163   Train accuracy: 0.729   Val loss: 0.2268   Val accuracy: 0.604    weighted Val loss: 0.2522\n",
      "Epoch: 838   Train loss: 0.1152   Train accuracy: 0.705   Val loss: 0.2289   Val accuracy: 0.609    weighted Val loss: 0.2521\n",
      "Epoch: 839   Train loss: 0.127   Train accuracy: 0.726   Val loss: 0.2249   Val accuracy: 0.611    weighted Val loss: 0.2521\n"
     ]
    },
    {
     "name": "stdout",
     "output_type": "stream",
     "text": [
      "Epoch: 840   Train loss: 0.1248   Train accuracy: 0.728   Val loss: 0.2265   Val accuracy: 0.597    weighted Val loss: 0.252\n",
      "Epoch: 841   Train loss: 0.128   Train accuracy: 0.729   Val loss: 0.2288   Val accuracy: 0.597    weighted Val loss: 0.252\n",
      "Epoch: 842   Train loss: 0.1207   Train accuracy: 0.73   Val loss: 0.2217   Val accuracy: 0.6    weighted Val loss: 0.2519\n",
      "Epoch: 843   Train loss: 0.1312   Train accuracy: 0.763   Val loss: 0.2225   Val accuracy: 0.604    weighted Val loss: 0.2519\n",
      "Epoch: 844   Train loss: 0.1439   Train accuracy: 0.697   Val loss: 0.2297   Val accuracy: 0.587    weighted Val loss: 0.2518\n",
      "Epoch: 845   Train loss: 0.128   Train accuracy: 0.725   Val loss: 0.2235   Val accuracy: 0.599    weighted Val loss: 0.2518\n",
      "Epoch: 846   Train loss: 0.1232   Train accuracy: 0.725   Val loss: 0.2264   Val accuracy: 0.599    weighted Val loss: 0.2517\n",
      "Epoch: 847   Train loss: 0.113   Train accuracy: 0.771   Val loss: 0.2259   Val accuracy: 0.596    weighted Val loss: 0.2517\n",
      "Epoch: 848   Train loss: 0.1287   Train accuracy: 0.737   Val loss: 0.2286   Val accuracy: 0.592    weighted Val loss: 0.2516\n",
      "Epoch: 849   Train loss: 0.1215   Train accuracy: 0.735   Val loss: 0.2266   Val accuracy: 0.603    weighted Val loss: 0.2516\n",
      "Epoch: 850   Train loss: 0.1157   Train accuracy: 0.75   Val loss: 0.2264   Val accuracy: 0.603    weighted Val loss: 0.2515\n",
      "Epoch: 851   Train loss: 0.1155   Train accuracy: 0.765   Val loss: 0.2322   Val accuracy: 0.599    weighted Val loss: 0.2515\n",
      "Epoch: 852   Train loss: 0.1219   Train accuracy: 0.706   Val loss: 0.2209   Val accuracy: 0.608    weighted Val loss: 0.2514\n",
      "Epoch: 853   Train loss: 0.1157   Train accuracy: 0.768   Val loss: 0.2443   Val accuracy: 0.592    weighted Val loss: 0.2514\n",
      "Epoch: 854   Train loss: 0.1237   Train accuracy: 0.722   Val loss: 0.2204   Val accuracy: 0.591    weighted Val loss: 0.2513\n",
      "Epoch: 855   Train loss: 0.1235   Train accuracy: 0.759   Val loss: 0.2331   Val accuracy: 0.589    weighted Val loss: 0.2513\n",
      "Epoch: 856   Train loss: 0.122   Train accuracy: 0.699   Val loss: 0.2225   Val accuracy: 0.596    weighted Val loss: 0.2513\n",
      "Epoch: 857   Train loss: 0.1203   Train accuracy: 0.752   Val loss: 0.2246   Val accuracy: 0.596    weighted Val loss: 0.2512\n",
      "Epoch: 858   Train loss: 0.1191   Train accuracy: 0.738   Val loss: 0.2296   Val accuracy: 0.588    weighted Val loss: 0.2512\n",
      "Epoch: 859   Train loss: 0.1211   Train accuracy: 0.776   Val loss: 0.2318   Val accuracy: 0.586    weighted Val loss: 0.2511\n",
      "Epoch: 860   Train loss: 0.1235   Train accuracy: 0.74   Val loss: 0.2332   Val accuracy: 0.587    weighted Val loss: 0.2511\n",
      "Epoch: 861   Train loss: 0.1236   Train accuracy: 0.739   Val loss: 0.2232   Val accuracy: 0.589    weighted Val loss: 0.251\n",
      "Epoch: 862   Train loss: 0.1279   Train accuracy: 0.742   Val loss: 0.2315   Val accuracy: 0.588    weighted Val loss: 0.251\n",
      "Epoch: 863   Train loss: 0.1179   Train accuracy: 0.676   Val loss: 0.2214   Val accuracy: 0.598    weighted Val loss: 0.2509\n",
      "Epoch: 864   Train loss: 0.1299   Train accuracy: 0.651   Val loss: 0.2281   Val accuracy: 0.588    weighted Val loss: 0.2509\n",
      "Epoch: 865   Train loss: 0.1167   Train accuracy: 0.751   Val loss: 0.2291   Val accuracy: 0.589    weighted Val loss: 0.2508\n",
      "Epoch: 866   Train loss: 0.1233   Train accuracy: 0.746   Val loss: 0.231   Val accuracy: 0.585    weighted Val loss: 0.2508\n",
      "Epoch: 867   Train loss: 0.1117   Train accuracy: 0.799   Val loss: 0.232   Val accuracy: 0.587    weighted Val loss: 0.2508\n",
      "Epoch: 868   Train loss: 0.12   Train accuracy: 0.67   Val loss: 0.2234   Val accuracy: 0.6    weighted Val loss: 0.2507\n",
      "Epoch: 869   Train loss: 0.1185   Train accuracy: 0.729   Val loss: 0.23   Val accuracy: 0.594    weighted Val loss: 0.2507\n",
      "Epoch: 870   Train loss: 0.1132   Train accuracy: 0.787   Val loss: 0.2292   Val accuracy: 0.593    weighted Val loss: 0.2506\n",
      "Epoch: 871   Train loss: 0.1218   Train accuracy: 0.693   Val loss: 0.2182   Val accuracy: 0.595    weighted Val loss: 0.2506\n",
      "Epoch: 872   Train loss: 0.1095   Train accuracy: 0.795   Val loss: 0.2456   Val accuracy: 0.588    weighted Val loss: 0.2505\n",
      "Epoch: 873   Train loss: 0.1237   Train accuracy: 0.671   Val loss: 0.2203   Val accuracy: 0.592    weighted Val loss: 0.2505\n",
      "Epoch: 874   Train loss: 0.117   Train accuracy: 0.789   Val loss: 0.234   Val accuracy: 0.585    weighted Val loss: 0.2505\n",
      "Epoch: 875   Train loss: 0.1224   Train accuracy: 0.674   Val loss: 0.2197   Val accuracy: 0.593    weighted Val loss: 0.2504\n",
      "Epoch: 876   Train loss: 0.1275   Train accuracy: 0.701   Val loss: 0.2266   Val accuracy: 0.592    weighted Val loss: 0.2503\n",
      "Epoch: 877   Train loss: 0.1183   Train accuracy: 0.752   Val loss: 0.2271   Val accuracy: 0.588    weighted Val loss: 0.2503\n",
      "Epoch: 878   Train loss: 0.1243   Train accuracy: 0.735   Val loss: 0.2241   Val accuracy: 0.591    weighted Val loss: 0.2502\n",
      "Epoch: 879   Train loss: 0.1201   Train accuracy: 0.706   Val loss: 0.2238   Val accuracy: 0.582    weighted Val loss: 0.2502\n",
      "Epoch: 880   Train loss: 0.1275   Train accuracy: 0.663   Val loss: 0.2268   Val accuracy: 0.592    weighted Val loss: 0.2501\n",
      "Epoch: 881   Train loss: 0.1218   Train accuracy: 0.71   Val loss: 0.2225   Val accuracy: 0.587    weighted Val loss: 0.2501\n",
      "Epoch: 882   Train loss: 0.1169   Train accuracy: 0.792   Val loss: 0.23   Val accuracy: 0.578    weighted Val loss: 0.25\n",
      "Epoch: 883   Train loss: 0.1224   Train accuracy: 0.708   Val loss: 0.2234   Val accuracy: 0.587    weighted Val loss: 0.25\n",
      "Epoch: 884   Train loss: 0.1217   Train accuracy: 0.779   Val loss: 0.227   Val accuracy: 0.582    weighted Val loss: 0.2499\n",
      "Epoch: 885   Train loss: 0.1181   Train accuracy: 0.692   Val loss: 0.2216   Val accuracy: 0.591    weighted Val loss: 0.2499\n",
      "Epoch: 886   Train loss: 0.1184   Train accuracy: 0.75   Val loss: 0.2232   Val accuracy: 0.59    weighted Val loss: 0.2498\n",
      "Epoch: 887   Train loss: 0.1145   Train accuracy: 0.766   Val loss: 0.2311   Val accuracy: 0.591    weighted Val loss: 0.2498\n",
      "Epoch: 888   Train loss: 0.1161   Train accuracy: 0.733   Val loss: 0.22   Val accuracy: 0.598    weighted Val loss: 0.2497\n",
      "Epoch: 889   Train loss: 0.1305   Train accuracy: 0.723   Val loss: 0.2288   Val accuracy: 0.606    weighted Val loss: 0.2497\n",
      "Epoch: 890   Train loss: 0.1167   Train accuracy: 0.718   Val loss: 0.2242   Val accuracy: 0.595    weighted Val loss: 0.2496\n",
      "Epoch: 891   Train loss: 0.1162   Train accuracy: 0.754   Val loss: 0.2248   Val accuracy: 0.599    weighted Val loss: 0.2496\n",
      "Epoch: 892   Train loss: 0.1248   Train accuracy: 0.755   Val loss: 0.2235   Val accuracy: 0.592    weighted Val loss: 0.2495\n",
      "Epoch: 893   Train loss: 0.1245   Train accuracy: 0.727   Val loss: 0.2352   Val accuracy: 0.596    weighted Val loss: 0.2495\n",
      "Epoch: 894   Train loss: 0.1119   Train accuracy: 0.729   Val loss: 0.2229   Val accuracy: 0.587    weighted Val loss: 0.2495\n",
      "Epoch: 895   Train loss: 0.1209   Train accuracy: 0.782   Val loss: 0.2275   Val accuracy: 0.59    weighted Val loss: 0.2494\n",
      "Epoch: 896   Train loss: 0.1251   Train accuracy: 0.758   Val loss: 0.2313   Val accuracy: 0.601    weighted Val loss: 0.2494\n",
      "Epoch: 897   Train loss: 0.1206   Train accuracy: 0.738   Val loss: 0.2283   Val accuracy: 0.596    weighted Val loss: 0.2493\n",
      "Epoch: 898   Train loss: 0.1222   Train accuracy: 0.769   Val loss: 0.2254   Val accuracy: 0.598    weighted Val loss: 0.2493\n",
      "Epoch: 899   Train loss: 0.1312   Train accuracy: 0.749   Val loss: 0.2221   Val accuracy: 0.598    weighted Val loss: 0.2492\n",
      "Epoch: 900   Train loss: 0.1219   Train accuracy: 0.741   Val loss: 0.232   Val accuracy: 0.599    weighted Val loss: 0.2492\n",
      "Epoch: 901   Train loss: 0.1227   Train accuracy: 0.696   Val loss: 0.2204   Val accuracy: 0.577    weighted Val loss: 0.2491\n",
      "Epoch: 902   Train loss: 0.1095   Train accuracy: 0.797   Val loss: 0.2416   Val accuracy: 0.573    weighted Val loss: 0.2491\n",
      "Epoch: 903   Train loss: 0.1394   Train accuracy: 0.734   Val loss: 0.2254   Val accuracy: 0.574    weighted Val loss: 0.2491\n",
      "Epoch: 904   Train loss: 0.1278   Train accuracy: 0.684   Val loss: 0.2362   Val accuracy: 0.574    weighted Val loss: 0.2491\n",
      "Epoch: 905   Train loss: 0.1231   Train accuracy: 0.692   Val loss: 0.2239   Val accuracy: 0.574    weighted Val loss: 0.249\n",
      "Epoch: 906   Train loss: 0.119   Train accuracy: 0.786   Val loss: 0.2353   Val accuracy: 0.568    weighted Val loss: 0.249\n",
      "Epoch: 907   Train loss: 0.1251   Train accuracy: 0.745   Val loss: 0.2251   Val accuracy: 0.574    weighted Val loss: 0.2489\n",
      "Epoch: 908   Train loss: 0.13   Train accuracy: 0.746   Val loss: 0.2247   Val accuracy: 0.58    weighted Val loss: 0.2489\n"
     ]
    },
    {
     "name": "stdout",
     "output_type": "stream",
     "text": [
      "Epoch: 909   Train loss: 0.1228   Train accuracy: 0.8   Val loss: 0.2315   Val accuracy: 0.591    weighted Val loss: 0.2489\n",
      "Epoch: 910   Train loss: 0.1243   Train accuracy: 0.685   Val loss: 0.2209   Val accuracy: 0.594    weighted Val loss: 0.2488\n",
      "Epoch: 911   Train loss: 0.1198   Train accuracy: 0.724   Val loss: 0.2325   Val accuracy: 0.581    weighted Val loss: 0.2488\n",
      "Epoch: 912   Train loss: 0.1231   Train accuracy: 0.722   Val loss: 0.222   Val accuracy: 0.596    weighted Val loss: 0.2487\n",
      "Epoch: 913   Train loss: 0.1221   Train accuracy: 0.776   Val loss: 0.2307   Val accuracy: 0.591    weighted Val loss: 0.2487\n",
      "Epoch: 914   Train loss: 0.142   Train accuracy: 0.722   Val loss: 0.2213   Val accuracy: 0.597    weighted Val loss: 0.2486\n",
      "Epoch: 915   Train loss: 0.1246   Train accuracy: 0.798   Val loss: 0.238   Val accuracy: 0.589    weighted Val loss: 0.2486\n",
      "Epoch: 916   Train loss: 0.1257   Train accuracy: 0.618   Val loss: 0.219   Val accuracy: 0.591    weighted Val loss: 0.2485\n",
      "Epoch: 917   Train loss: 0.1282   Train accuracy: 0.758   Val loss: 0.2307   Val accuracy: 0.607    weighted Val loss: 0.2485\n",
      "Epoch: 918   Train loss: 0.1119   Train accuracy: 0.701   Val loss: 0.2249   Val accuracy: 0.598    weighted Val loss: 0.2485\n",
      "Epoch: 919   Train loss: 0.1202   Train accuracy: 0.761   Val loss: 0.2298   Val accuracy: 0.597    weighted Val loss: 0.2484\n",
      "Epoch: 920   Train loss: 0.1218   Train accuracy: 0.711   Val loss: 0.2311   Val accuracy: 0.589    weighted Val loss: 0.2484\n",
      "Epoch: 921   Train loss: 0.1213   Train accuracy: 0.729   Val loss: 0.2331   Val accuracy: 0.578    weighted Val loss: 0.2484\n",
      "Epoch: 922   Train loss: 0.1138   Train accuracy: 0.78   Val loss: 0.2257   Val accuracy: 0.586    weighted Val loss: 0.2483\n",
      "Epoch: 923   Train loss: 0.1336   Train accuracy: 0.707   Val loss: 0.2298   Val accuracy: 0.584    weighted Val loss: 0.2483\n",
      "Epoch: 924   Train loss: 0.1214   Train accuracy: 0.733   Val loss: 0.223   Val accuracy: 0.584    weighted Val loss: 0.2482\n",
      "Epoch: 925   Train loss: 0.1216   Train accuracy: 0.732   Val loss: 0.228   Val accuracy: 0.585    weighted Val loss: 0.2482\n",
      "Epoch: 926   Train loss: 0.1298   Train accuracy: 0.717   Val loss: 0.224   Val accuracy: 0.589    weighted Val loss: 0.2481\n",
      "Epoch: 927   Train loss: 0.1176   Train accuracy: 0.787   Val loss: 0.2361   Val accuracy: 0.577    weighted Val loss: 0.2481\n",
      "Epoch: 928   Train loss: 0.124   Train accuracy: 0.73   Val loss: 0.2231   Val accuracy: 0.577    weighted Val loss: 0.2481\n",
      "Epoch: 929   Train loss: 0.1204   Train accuracy: 0.774   Val loss: 0.2358   Val accuracy: 0.585    weighted Val loss: 0.248\n",
      "Epoch: 930   Train loss: 0.1191   Train accuracy: 0.744   Val loss: 0.2247   Val accuracy: 0.575    weighted Val loss: 0.248\n",
      "Epoch: 931   Train loss: 0.1291   Train accuracy: 0.782   Val loss: 0.2279   Val accuracy: 0.585    weighted Val loss: 0.2479\n",
      "Epoch: 932   Train loss: 0.1266   Train accuracy: 0.648   Val loss: 0.2276   Val accuracy: 0.587    weighted Val loss: 0.2479\n",
      "Epoch: 933   Train loss: 0.1169   Train accuracy: 0.754   Val loss: 0.2301   Val accuracy: 0.578    weighted Val loss: 0.2479\n",
      "Epoch: 934   Train loss: 0.1197   Train accuracy: 0.73   Val loss: 0.2231   Val accuracy: 0.579    weighted Val loss: 0.2478\n",
      "Epoch: 935   Train loss: 0.1164   Train accuracy: 0.755   Val loss: 0.2279   Val accuracy: 0.585    weighted Val loss: 0.2478\n",
      "Epoch: 936   Train loss: 0.1182   Train accuracy: 0.74   Val loss: 0.2323   Val accuracy: 0.58    weighted Val loss: 0.2477\n",
      "Epoch: 937   Train loss: 0.1254   Train accuracy: 0.66   Val loss: 0.2298   Val accuracy: 0.586    weighted Val loss: 0.2477\n",
      "Epoch: 938   Train loss: 0.1224   Train accuracy: 0.758   Val loss: 0.2326   Val accuracy: 0.583    weighted Val loss: 0.2477\n",
      "Epoch: 939   Train loss: 0.1213   Train accuracy: 0.714   Val loss: 0.2274   Val accuracy: 0.583    weighted Val loss: 0.2476\n",
      "Epoch: 940   Train loss: 0.1167   Train accuracy: 0.781   Val loss: 0.2245   Val accuracy: 0.586    weighted Val loss: 0.2476\n",
      "Epoch: 941   Train loss: 0.1206   Train accuracy: 0.77   Val loss: 0.2244   Val accuracy: 0.586    weighted Val loss: 0.2475\n",
      "Epoch: 942   Train loss: 0.1382   Train accuracy: 0.677   Val loss: 0.2295   Val accuracy: 0.581    weighted Val loss: 0.2475\n",
      "Epoch: 943   Train loss: 0.1277   Train accuracy: 0.792   Val loss: 0.2331   Val accuracy: 0.571    weighted Val loss: 0.2475\n",
      "Epoch: 944   Train loss: 0.115   Train accuracy: 0.777   Val loss: 0.2298   Val accuracy: 0.574    weighted Val loss: 0.2474\n",
      "Epoch: 945   Train loss: 0.1198   Train accuracy: 0.753   Val loss: 0.2337   Val accuracy: 0.571    weighted Val loss: 0.2474\n",
      "Epoch: 946   Train loss: 0.1242   Train accuracy: 0.78   Val loss: 0.2346   Val accuracy: 0.581    weighted Val loss: 0.2474\n",
      "Epoch: 947   Train loss: 0.1132   Train accuracy: 0.779   Val loss: 0.2415   Val accuracy: 0.567    weighted Val loss: 0.2474\n",
      "Epoch: 948   Train loss: 0.1235   Train accuracy: 0.733   Val loss: 0.2266   Val accuracy: 0.578    weighted Val loss: 0.2473\n",
      "Epoch: 949   Train loss: 0.1164   Train accuracy: 0.772   Val loss: 0.2327   Val accuracy: 0.589    weighted Val loss: 0.2473\n",
      "Epoch: 950   Train loss: 0.1322   Train accuracy: 0.662   Val loss: 0.2228   Val accuracy: 0.583    weighted Val loss: 0.2473\n",
      "Epoch: 951   Train loss: 0.1238   Train accuracy: 0.767   Val loss: 0.2315   Val accuracy: 0.581    weighted Val loss: 0.2472\n",
      "Epoch: 952   Train loss: 0.1225   Train accuracy: 0.776   Val loss: 0.232   Val accuracy: 0.586    weighted Val loss: 0.2472\n",
      "Epoch: 953   Train loss: 0.1206   Train accuracy: 0.751   Val loss: 0.2263   Val accuracy: 0.585    weighted Val loss: 0.2472\n",
      "Epoch: 954   Train loss: 0.119   Train accuracy: 0.759   Val loss: 0.2286   Val accuracy: 0.582    weighted Val loss: 0.2471\n",
      "Epoch: 955   Train loss: 0.1312   Train accuracy: 0.715   Val loss: 0.2269   Val accuracy: 0.585    weighted Val loss: 0.2471\n",
      "Epoch: 956   Train loss: 0.1232   Train accuracy: 0.795   Val loss: 0.2345   Val accuracy: 0.588    weighted Val loss: 0.2471\n",
      "Epoch: 957   Train loss: 0.1221   Train accuracy: 0.685   Val loss: 0.2241   Val accuracy: 0.584    weighted Val loss: 0.247\n",
      "Epoch: 958   Train loss: 0.1241   Train accuracy: 0.782   Val loss: 0.2273   Val accuracy: 0.592    weighted Val loss: 0.247\n",
      "Epoch: 959   Train loss: 0.1127   Train accuracy: 0.688   Val loss: 0.2229   Val accuracy: 0.59    weighted Val loss: 0.2469\n",
      "Epoch: 960   Train loss: 0.1248   Train accuracy: 0.707   Val loss: 0.2307   Val accuracy: 0.593    weighted Val loss: 0.2469\n",
      "Epoch: 961   Train loss: 0.1211   Train accuracy: 0.793   Val loss: 0.2231   Val accuracy: 0.584    weighted Val loss: 0.2468\n",
      "Epoch: 962   Train loss: 0.1159   Train accuracy: 0.717   Val loss: 0.2239   Val accuracy: 0.576    weighted Val loss: 0.2468\n",
      "Epoch: 963   Train loss: 0.1144   Train accuracy: 0.731   Val loss: 0.2338   Val accuracy: 0.579    weighted Val loss: 0.2468\n",
      "Epoch: 964   Train loss: 0.1191   Train accuracy: 0.709   Val loss: 0.2217   Val accuracy: 0.59    weighted Val loss: 0.2467\n",
      "Epoch: 965   Train loss: 0.1217   Train accuracy: 0.78   Val loss: 0.2264   Val accuracy: 0.583    weighted Val loss: 0.2467\n",
      "Epoch: 966   Train loss: 0.1244   Train accuracy: 0.735   Val loss: 0.2252   Val accuracy: 0.585    weighted Val loss: 0.2466\n",
      "Epoch: 967   Train loss: 0.1199   Train accuracy: 0.635   Val loss: 0.2247   Val accuracy: 0.58    weighted Val loss: 0.2466\n",
      "Epoch: 968   Train loss: 0.1194   Train accuracy: 0.765   Val loss: 0.2327   Val accuracy: 0.59    weighted Val loss: 0.2466\n",
      "Epoch: 969   Train loss: 0.1233   Train accuracy: 0.718   Val loss: 0.2184   Val accuracy: 0.596    weighted Val loss: 0.2465\n",
      "Epoch: 970   Train loss: 0.1113   Train accuracy: 0.805   Val loss: 0.2372   Val accuracy: 0.565    weighted Val loss: 0.2465\n",
      "Epoch: 971   Train loss: 0.1254   Train accuracy: 0.652   Val loss: 0.2226   Val accuracy: 0.574    weighted Val loss: 0.2464\n",
      "Epoch: 972   Train loss: 0.1339   Train accuracy: 0.754   Val loss: 0.2281   Val accuracy: 0.583    weighted Val loss: 0.2464\n",
      "Epoch: 973   Train loss: 0.1241   Train accuracy: 0.73   Val loss: 0.2259   Val accuracy: 0.565    weighted Val loss: 0.2464\n",
      "Epoch: 974   Train loss: 0.1067   Train accuracy: 0.79   Val loss: 0.2341   Val accuracy: 0.574    weighted Val loss: 0.2463\n",
      "Epoch: 975   Train loss: 0.1266   Train accuracy: 0.725   Val loss: 0.23   Val accuracy: 0.567    weighted Val loss: 0.2463\n"
     ]
    },
    {
     "name": "stdout",
     "output_type": "stream",
     "text": [
      "Epoch: 976   Train loss: 0.12   Train accuracy: 0.732   Val loss: 0.2257   Val accuracy: 0.569    weighted Val loss: 0.2463\n",
      "Epoch: 977   Train loss: 0.1252   Train accuracy: 0.718   Val loss: 0.2278   Val accuracy: 0.569    weighted Val loss: 0.2462\n",
      "Epoch: 978   Train loss: 0.117   Train accuracy: 0.769   Val loss: 0.2288   Val accuracy: 0.578    weighted Val loss: 0.2462\n",
      "Epoch: 979   Train loss: 0.1225   Train accuracy: 0.727   Val loss: 0.2282   Val accuracy: 0.583    weighted Val loss: 0.2462\n",
      "Epoch: 980   Train loss: 0.1225   Train accuracy: 0.708   Val loss: 0.2267   Val accuracy: 0.586    weighted Val loss: 0.2461\n",
      "Epoch: 981   Train loss: 0.1143   Train accuracy: 0.719   Val loss: 0.2378   Val accuracy: 0.576    weighted Val loss: 0.2461\n",
      "Epoch: 982   Train loss: 0.1286   Train accuracy: 0.675   Val loss: 0.2292   Val accuracy: 0.588    weighted Val loss: 0.2461\n",
      "Epoch: 983   Train loss: 0.1221   Train accuracy: 0.761   Val loss: 0.2379   Val accuracy: 0.581    weighted Val loss: 0.2461\n",
      "Epoch: 984   Train loss: 0.1154   Train accuracy: 0.75   Val loss: 0.2295   Val accuracy: 0.577    weighted Val loss: 0.246\n",
      "Epoch: 985   Train loss: 0.1159   Train accuracy: 0.77   Val loss: 0.2349   Val accuracy: 0.585    weighted Val loss: 0.246\n",
      "Epoch: 986   Train loss: 0.1194   Train accuracy: 0.737   Val loss: 0.2291   Val accuracy: 0.586    weighted Val loss: 0.246\n",
      "Epoch: 987   Train loss: 0.1219   Train accuracy: 0.722   Val loss: 0.2365   Val accuracy: 0.586    weighted Val loss: 0.2459\n",
      "Epoch: 988   Train loss: 0.1237   Train accuracy: 0.711   Val loss: 0.2267   Val accuracy: 0.581    weighted Val loss: 0.2459\n",
      "Epoch: 989   Train loss: 0.1255   Train accuracy: 0.764   Val loss: 0.2343   Val accuracy: 0.579    weighted Val loss: 0.2459\n",
      "Epoch: 990   Train loss: 0.1312   Train accuracy: 0.691   Val loss: 0.2282   Val accuracy: 0.6    weighted Val loss: 0.2458\n",
      "Epoch: 991   Train loss: 0.1256   Train accuracy: 0.754   Val loss: 0.2326   Val accuracy: 0.574    weighted Val loss: 0.2458\n",
      "Epoch: 992   Train loss: 0.1264   Train accuracy: 0.7   Val loss: 0.2284   Val accuracy: 0.571    weighted Val loss: 0.2458\n",
      "Epoch: 993   Train loss: 0.1196   Train accuracy: 0.795   Val loss: 0.2401   Val accuracy: 0.577    weighted Val loss: 0.2458\n",
      "Epoch: 994   Train loss: 0.1213   Train accuracy: 0.713   Val loss: 0.2327   Val accuracy: 0.587    weighted Val loss: 0.2458\n",
      "Epoch: 995   Train loss: 0.1211   Train accuracy: 0.736   Val loss: 0.2339   Val accuracy: 0.59    weighted Val loss: 0.2457\n",
      "Epoch: 996   Train loss: 0.1167   Train accuracy: 0.688   Val loss: 0.239   Val accuracy: 0.593    weighted Val loss: 0.2457\n",
      "Epoch: 997   Train loss: 0.1309   Train accuracy: 0.729   Val loss: 0.2318   Val accuracy: 0.602    weighted Val loss: 0.2457\n",
      "Epoch: 998   Train loss: 0.1256   Train accuracy: 0.721   Val loss: 0.2274   Val accuracy: 0.597    weighted Val loss: 0.2456\n",
      "Epoch: 999   Train loss: 0.1268   Train accuracy: 0.735   Val loss: 0.2415   Val accuracy: 0.581    weighted Val loss: 0.2456\n",
      "Epoch: 1000   Train loss: 0.1315   Train accuracy: 0.685   Val loss: 0.2348   Val accuracy: 0.585    weighted Val loss: 0.2456\n",
      "Epoch: 1001   Train loss: 0.1182   Train accuracy: 0.747   Val loss: 0.2309   Val accuracy: 0.588    weighted Val loss: 0.2456\n",
      "Epoch: 1002   Train loss: 0.1194   Train accuracy: 0.739   Val loss: 0.2331   Val accuracy: 0.582    weighted Val loss: 0.2456\n",
      "Epoch: 1003   Train loss: 0.1211   Train accuracy: 0.774   Val loss: 0.235   Val accuracy: 0.567    weighted Val loss: 0.2455\n",
      "Epoch: 1004   Train loss: 0.1191   Train accuracy: 0.742   Val loss: 0.233   Val accuracy: 0.573    weighted Val loss: 0.2455\n",
      "Epoch: 1005   Train loss: 0.1233   Train accuracy: 0.742   Val loss: 0.2283   Val accuracy: 0.569    weighted Val loss: 0.2455\n",
      "Epoch: 1006   Train loss: 0.1183   Train accuracy: 0.728   Val loss: 0.228   Val accuracy: 0.576    weighted Val loss: 0.2454\n",
      "Epoch: 1007   Train loss: 0.1278   Train accuracy: 0.782   Val loss: 0.237   Val accuracy: 0.58    weighted Val loss: 0.2454\n",
      "Epoch: 1008   Train loss: 0.1193   Train accuracy: 0.669   Val loss: 0.2238   Val accuracy: 0.583    weighted Val loss: 0.2454\n",
      "Epoch: 1009   Train loss: 0.1197   Train accuracy: 0.764   Val loss: 0.2293   Val accuracy: 0.582    weighted Val loss: 0.2454\n",
      "Epoch: 1010   Train loss: 0.1189   Train accuracy: 0.77   Val loss: 0.2327   Val accuracy: 0.583    weighted Val loss: 0.2453\n",
      "Epoch: 1011   Train loss: 0.1252   Train accuracy: 0.731   Val loss: 0.2256   Val accuracy: 0.576    weighted Val loss: 0.2453\n",
      "Epoch: 1012   Train loss: 0.1212   Train accuracy: 0.76   Val loss: 0.2378   Val accuracy: 0.573    weighted Val loss: 0.2453\n",
      "Epoch: 1013   Train loss: 0.1253   Train accuracy: 0.692   Val loss: 0.2289   Val accuracy: 0.58    weighted Val loss: 0.2452\n",
      "Epoch: 1014   Train loss: 0.1299   Train accuracy: 0.736   Val loss: 0.2386   Val accuracy: 0.588    weighted Val loss: 0.2452\n",
      "Epoch: 1015   Train loss: 0.1446   Train accuracy: 0.704   Val loss: 0.2327   Val accuracy: 0.576    weighted Val loss: 0.2452\n",
      "Epoch: 1016   Train loss: 0.1228   Train accuracy: 0.806   Val loss: 0.2384   Val accuracy: 0.576    weighted Val loss: 0.2452\n",
      "Epoch: 1017   Train loss: 0.1195   Train accuracy: 0.694   Val loss: 0.2405   Val accuracy: 0.575    weighted Val loss: 0.2452\n",
      "Epoch: 1018   Train loss: 0.1173   Train accuracy: 0.719   Val loss: 0.2325   Val accuracy: 0.573    weighted Val loss: 0.2452\n",
      "Epoch: 1019   Train loss: 0.1183   Train accuracy: 0.777   Val loss: 0.2405   Val accuracy: 0.57    weighted Val loss: 0.2451\n",
      "Epoch: 1020   Train loss: 0.1246   Train accuracy: 0.729   Val loss: 0.2244   Val accuracy: 0.571    weighted Val loss: 0.2451\n",
      "Epoch: 1021   Train loss: 0.1284   Train accuracy: 0.732   Val loss: 0.2317   Val accuracy: 0.583    weighted Val loss: 0.2451\n",
      "Epoch: 1022   Train loss: 0.1176   Train accuracy: 0.731   Val loss: 0.227   Val accuracy: 0.583    weighted Val loss: 0.245\n",
      "Epoch: 1023   Train loss: 0.1286   Train accuracy: 0.752   Val loss: 0.2298   Val accuracy: 0.585    weighted Val loss: 0.245\n",
      "Epoch: 1024   Train loss: 0.1179   Train accuracy: 0.809   Val loss: 0.2255   Val accuracy: 0.588    weighted Val loss: 0.245\n",
      "Epoch: 1025   Train loss: 0.1212   Train accuracy: 0.715   Val loss: 0.2248   Val accuracy: 0.599    weighted Val loss: 0.2449\n",
      "Epoch: 1026   Train loss: 0.1259   Train accuracy: 0.7   Val loss: 0.2248   Val accuracy: 0.598    weighted Val loss: 0.2449\n",
      "Epoch: 1027   Train loss: 0.1277   Train accuracy: 0.737   Val loss: 0.2278   Val accuracy: 0.602    weighted Val loss: 0.2449\n",
      "Epoch: 1028   Train loss: 0.1129   Train accuracy: 0.678   Val loss: 0.2367   Val accuracy: 0.591    weighted Val loss: 0.2448\n",
      "Epoch: 1029   Train loss: 0.1192   Train accuracy: 0.757   Val loss: 0.2268   Val accuracy: 0.594    weighted Val loss: 0.2448\n",
      "Epoch: 1030   Train loss: 0.1158   Train accuracy: 0.746   Val loss: 0.2255   Val accuracy: 0.587    weighted Val loss: 0.2448\n",
      "Epoch: 1031   Train loss: 0.1235   Train accuracy: 0.772   Val loss: 0.2303   Val accuracy: 0.583    weighted Val loss: 0.2447\n",
      "Epoch: 1032   Train loss: 0.1179   Train accuracy: 0.707   Val loss: 0.2283   Val accuracy: 0.598    weighted Val loss: 0.2447\n",
      "Epoch: 1033   Train loss: 0.117   Train accuracy: 0.751   Val loss: 0.2214   Val accuracy: 0.588    weighted Val loss: 0.2447\n",
      "Epoch: 1034   Train loss: 0.117   Train accuracy: 0.726   Val loss: 0.2326   Val accuracy: 0.574    weighted Val loss: 0.2446\n",
      "Epoch: 1035   Train loss: 0.1197   Train accuracy: 0.761   Val loss: 0.228   Val accuracy: 0.579    weighted Val loss: 0.2446\n",
      "Epoch: 1036   Train loss: 0.1197   Train accuracy: 0.621   Val loss: 0.2201   Val accuracy: 0.587    weighted Val loss: 0.2446\n",
      "Epoch: 1037   Train loss: 0.1167   Train accuracy: 0.776   Val loss: 0.2312   Val accuracy: 0.585    weighted Val loss: 0.2445\n",
      "Epoch: 1038   Train loss: 0.1134   Train accuracy: 0.731   Val loss: 0.2252   Val accuracy: 0.582    weighted Val loss: 0.2445\n",
      "Epoch: 1039   Train loss: 0.1288   Train accuracy: 0.755   Val loss: 0.234   Val accuracy: 0.585    weighted Val loss: 0.2445\n",
      "Epoch: 1040   Train loss: 0.1169   Train accuracy: 0.704   Val loss: 0.2289   Val accuracy: 0.577    weighted Val loss: 0.2444\n"
     ]
    },
    {
     "name": "stdout",
     "output_type": "stream",
     "text": [
      "Epoch: 1041   Train loss: 0.12   Train accuracy: 0.647   Val loss: 0.2391   Val accuracy: 0.586    weighted Val loss: 0.2444\n",
      "Epoch: 1042   Train loss: 0.1239   Train accuracy: 0.69   Val loss: 0.23   Val accuracy: 0.59    weighted Val loss: 0.2444\n",
      "Epoch: 1043   Train loss: 0.1247   Train accuracy: 0.705   Val loss: 0.2283   Val accuracy: 0.588    weighted Val loss: 0.2444\n",
      "Epoch: 1044   Train loss: 0.1142   Train accuracy: 0.767   Val loss: 0.2307   Val accuracy: 0.587    weighted Val loss: 0.2443\n",
      "Epoch: 1045   Train loss: 0.1294   Train accuracy: 0.696   Val loss: 0.2204   Val accuracy: 0.594    weighted Val loss: 0.2443\n",
      "Epoch: 1046   Train loss: 0.1173   Train accuracy: 0.8   Val loss: 0.2281   Val accuracy: 0.608    weighted Val loss: 0.2443\n",
      "Epoch: 1047   Train loss: 0.1197   Train accuracy: 0.706   Val loss: 0.2256   Val accuracy: 0.589    weighted Val loss: 0.2442\n",
      "Epoch: 1048   Train loss: 0.1282   Train accuracy: 0.747   Val loss: 0.2321   Val accuracy: 0.579    weighted Val loss: 0.2442\n",
      "Epoch: 1049   Train loss: 0.1317   Train accuracy: 0.713   Val loss: 0.2376   Val accuracy: 0.578    weighted Val loss: 0.2442\n",
      "Epoch: 1050   Train loss: 0.1296   Train accuracy: 0.79   Val loss: 0.231   Val accuracy: 0.593    weighted Val loss: 0.2442\n",
      "Epoch: 1051   Train loss: 0.1239   Train accuracy: 0.656   Val loss: 0.2289   Val accuracy: 0.61    weighted Val loss: 0.2441\n",
      "Epoch: 1052   Train loss: 0.116   Train accuracy: 0.849   Val loss: 0.2314   Val accuracy: 0.596    weighted Val loss: 0.2441\n",
      "Epoch: 1053   Train loss: 0.1232   Train accuracy: 0.683   Val loss: 0.2306   Val accuracy: 0.59    weighted Val loss: 0.2441\n",
      "Epoch: 1054   Train loss: 0.124   Train accuracy: 0.766   Val loss: 0.2278   Val accuracy: 0.592    weighted Val loss: 0.244\n",
      "Epoch: 1055   Train loss: 0.1131   Train accuracy: 0.802   Val loss: 0.2294   Val accuracy: 0.573    weighted Val loss: 0.244\n",
      "Epoch: 1056   Train loss: 0.1181   Train accuracy: 0.743   Val loss: 0.2302   Val accuracy: 0.581    weighted Val loss: 0.244\n",
      "Epoch: 1057   Train loss: 0.1098   Train accuracy: 0.675   Val loss: 0.2348   Val accuracy: 0.584    weighted Val loss: 0.244\n",
      "Epoch: 1058   Train loss: 0.116   Train accuracy: 0.736   Val loss: 0.229   Val accuracy: 0.58    weighted Val loss: 0.2439\n",
      "Epoch: 1059   Train loss: 0.121   Train accuracy: 0.771   Val loss: 0.2282   Val accuracy: 0.585    weighted Val loss: 0.2439\n",
      "Epoch: 1060   Train loss: 0.1137   Train accuracy: 0.795   Val loss: 0.2332   Val accuracy: 0.584    weighted Val loss: 0.2439\n",
      "Epoch: 1061   Train loss: 0.1162   Train accuracy: 0.817   Val loss: 0.2254   Val accuracy: 0.586    weighted Val loss: 0.2438\n",
      "Epoch: 1062   Train loss: 0.1092   Train accuracy: 0.757   Val loss: 0.2232   Val accuracy: 0.591    weighted Val loss: 0.2438\n",
      "Epoch: 1063   Train loss: 0.1159   Train accuracy: 0.799   Val loss: 0.2346   Val accuracy: 0.576    weighted Val loss: 0.2438\n",
      "Epoch: 1064   Train loss: 0.1201   Train accuracy: 0.753   Val loss: 0.2241   Val accuracy: 0.582    weighted Val loss: 0.2437\n",
      "Epoch: 1065   Train loss: 0.1159   Train accuracy: 0.765   Val loss: 0.2363   Val accuracy: 0.586    weighted Val loss: 0.2437\n",
      "Epoch: 1066   Train loss: 0.1207   Train accuracy: 0.741   Val loss: 0.2275   Val accuracy: 0.578    weighted Val loss: 0.2437\n",
      "Epoch: 1067   Train loss: 0.1122   Train accuracy: 0.691   Val loss: 0.2277   Val accuracy: 0.591    weighted Val loss: 0.2437\n",
      "Epoch: 1068   Train loss: 0.1157   Train accuracy: 0.748   Val loss: 0.2302   Val accuracy: 0.591    weighted Val loss: 0.2436\n",
      "Epoch: 1069   Train loss: 0.1218   Train accuracy: 0.755   Val loss: 0.2251   Val accuracy: 0.595    weighted Val loss: 0.2436\n",
      "Epoch: 1070   Train loss: 0.1216   Train accuracy: 0.734   Val loss: 0.2277   Val accuracy: 0.597    weighted Val loss: 0.2436\n",
      "Epoch: 1071   Train loss: 0.1244   Train accuracy: 0.762   Val loss: 0.2269   Val accuracy: 0.59    weighted Val loss: 0.2435\n",
      "Epoch: 1072   Train loss: 0.1277   Train accuracy: 0.737   Val loss: 0.2228   Val accuracy: 0.592    weighted Val loss: 0.2435\n",
      "Epoch: 1073   Train loss: 0.1141   Train accuracy: 0.766   Val loss: 0.2267   Val accuracy: 0.59    weighted Val loss: 0.2435\n",
      "Epoch: 1074   Train loss: 0.1165   Train accuracy: 0.781   Val loss: 0.2282   Val accuracy: 0.59    weighted Val loss: 0.2434\n",
      "Epoch: 1075   Train loss: 0.1235   Train accuracy: 0.723   Val loss: 0.2208   Val accuracy: 0.592    weighted Val loss: 0.2434\n",
      "Epoch: 1076   Train loss: 0.1198   Train accuracy: 0.764   Val loss: 0.2288   Val accuracy: 0.589    weighted Val loss: 0.2434\n",
      "Epoch: 1077   Train loss: 0.1261   Train accuracy: 0.684   Val loss: 0.2162   Val accuracy: 0.589    weighted Val loss: 0.2433\n",
      "Epoch: 1078   Train loss: 0.1216   Train accuracy: 0.72   Val loss: 0.2224   Val accuracy: 0.587    weighted Val loss: 0.2433\n",
      "Epoch: 1079   Train loss: 0.1109   Train accuracy: 0.775   Val loss: 0.2327   Val accuracy: 0.581    weighted Val loss: 0.2432\n",
      "Epoch: 1080   Train loss: 0.1146   Train accuracy: 0.791   Val loss: 0.2283   Val accuracy: 0.594    weighted Val loss: 0.2432\n",
      "Epoch: 1081   Train loss: 0.1185   Train accuracy: 0.729   Val loss: 0.2305   Val accuracy: 0.604    weighted Val loss: 0.2432\n",
      "Epoch: 1082   Train loss: 0.1197   Train accuracy: 0.778   Val loss: 0.2265   Val accuracy: 0.603    weighted Val loss: 0.2432\n",
      "Epoch: 1083   Train loss: 0.1268   Train accuracy: 0.69   Val loss: 0.2259   Val accuracy: 0.602    weighted Val loss: 0.2431\n",
      "Epoch: 1084   Train loss: 0.1189   Train accuracy: 0.73   Val loss: 0.2276   Val accuracy: 0.594    weighted Val loss: 0.2431\n",
      "Epoch: 1085   Train loss: 0.1258   Train accuracy: 0.75   Val loss: 0.225   Val accuracy: 0.598    weighted Val loss: 0.243\n",
      "Epoch: 1086   Train loss: 0.1266   Train accuracy: 0.709   Val loss: 0.2237   Val accuracy: 0.601    weighted Val loss: 0.243\n",
      "Epoch: 1087   Train loss: 0.123   Train accuracy: 0.773   Val loss: 0.2202   Val accuracy: 0.592    weighted Val loss: 0.243\n",
      "Epoch: 1088   Train loss: 0.1258   Train accuracy: 0.772   Val loss: 0.2292   Val accuracy: 0.598    weighted Val loss: 0.2429\n",
      "Epoch: 1089   Train loss: 0.1211   Train accuracy: 0.653   Val loss: 0.2202   Val accuracy: 0.599    weighted Val loss: 0.2429\n",
      "Epoch: 1090   Train loss: 0.1235   Train accuracy: 0.728   Val loss: 0.2317   Val accuracy: 0.594    weighted Val loss: 0.2429\n",
      "Epoch: 1091   Train loss: 0.1245   Train accuracy: 0.705   Val loss: 0.2253   Val accuracy: 0.585    weighted Val loss: 0.2428\n",
      "Epoch: 1092   Train loss: 0.1128   Train accuracy: 0.778   Val loss: 0.2326   Val accuracy: 0.589    weighted Val loss: 0.2428\n",
      "Epoch: 1093   Train loss: 0.1149   Train accuracy: 0.726   Val loss: 0.2202   Val accuracy: 0.593    weighted Val loss: 0.2428\n",
      "Epoch: 1094   Train loss: 0.1187   Train accuracy: 0.69   Val loss: 0.2265   Val accuracy: 0.597    weighted Val loss: 0.2427\n",
      "Epoch: 1095   Train loss: 0.1146   Train accuracy: 0.703   Val loss: 0.2344   Val accuracy: 0.605    weighted Val loss: 0.2427\n",
      "Epoch: 1096   Train loss: 0.1223   Train accuracy: 0.738   Val loss: 0.2255   Val accuracy: 0.596    weighted Val loss: 0.2427\n",
      "Epoch: 1097   Train loss: 0.1189   Train accuracy: 0.773   Val loss: 0.2287   Val accuracy: 0.592    weighted Val loss: 0.2427\n",
      "Epoch: 1098   Train loss: 0.1158   Train accuracy: 0.78   Val loss: 0.2306   Val accuracy: 0.584    weighted Val loss: 0.2426\n",
      "Epoch: 1099   Train loss: 0.1106   Train accuracy: 0.771   Val loss: 0.2234   Val accuracy: 0.593    weighted Val loss: 0.2426\n",
      "Epoch: 1100   Train loss: 0.1172   Train accuracy: 0.745   Val loss: 0.2336   Val accuracy: 0.584    weighted Val loss: 0.2426\n",
      "Epoch: 1101   Train loss: 0.1293   Train accuracy: 0.685   Val loss: 0.222   Val accuracy: 0.575    weighted Val loss: 0.2425\n",
      "Epoch: 1102   Train loss: 0.126   Train accuracy: 0.745   Val loss: 0.2377   Val accuracy: 0.571    weighted Val loss: 0.2425\n",
      "Epoch: 1103   Train loss: 0.1242   Train accuracy: 0.733   Val loss: 0.2288   Val accuracy: 0.581    weighted Val loss: 0.2425\n",
      "Epoch: 1104   Train loss: 0.1274   Train accuracy: 0.762   Val loss: 0.2239   Val accuracy: 0.589    weighted Val loss: 0.2425\n",
      "Epoch: 1105   Train loss: 0.1133   Train accuracy: 0.781   Val loss: 0.2317   Val accuracy: 0.584    weighted Val loss: 0.2424\n"
     ]
    },
    {
     "name": "stdout",
     "output_type": "stream",
     "text": [
      "Epoch: 1106   Train loss: 0.1287   Train accuracy: 0.752   Val loss: 0.2312   Val accuracy: 0.58    weighted Val loss: 0.2424\n",
      "Epoch: 1107   Train loss: 0.1226   Train accuracy: 0.744   Val loss: 0.2297   Val accuracy: 0.592    weighted Val loss: 0.2424\n",
      "Epoch: 1108   Train loss: 0.1145   Train accuracy: 0.795   Val loss: 0.2268   Val accuracy: 0.581    weighted Val loss: 0.2424\n",
      "Epoch: 1109   Train loss: 0.1272   Train accuracy: 0.743   Val loss: 0.2273   Val accuracy: 0.582    weighted Val loss: 0.2423\n",
      "Epoch: 1110   Train loss: 0.1214   Train accuracy: 0.725   Val loss: 0.2322   Val accuracy: 0.576    weighted Val loss: 0.2423\n",
      "Epoch: 1111   Train loss: 0.1243   Train accuracy: 0.72   Val loss: 0.2233   Val accuracy: 0.578    weighted Val loss: 0.2423\n",
      "Epoch: 1112   Train loss: 0.123   Train accuracy: 0.753   Val loss: 0.2304   Val accuracy: 0.578    weighted Val loss: 0.2422\n",
      "Epoch: 1113   Train loss: 0.1111   Train accuracy: 0.756   Val loss: 0.2287   Val accuracy: 0.578    weighted Val loss: 0.2422\n",
      "Epoch: 1114   Train loss: 0.13   Train accuracy: 0.716   Val loss: 0.2227   Val accuracy: 0.586    weighted Val loss: 0.2422\n",
      "Epoch: 1115   Train loss: 0.1128   Train accuracy: 0.712   Val loss: 0.2301   Val accuracy: 0.585    weighted Val loss: 0.2422\n",
      "Epoch: 1116   Train loss: 0.116   Train accuracy: 0.793   Val loss: 0.2259   Val accuracy: 0.59    weighted Val loss: 0.2421\n",
      "Epoch: 1117   Train loss: 0.1101   Train accuracy: 0.77   Val loss: 0.2322   Val accuracy: 0.582    weighted Val loss: 0.2421\n",
      "Epoch: 1118   Train loss: 0.113   Train accuracy: 0.757   Val loss: 0.2276   Val accuracy: 0.584    weighted Val loss: 0.2421\n",
      "Epoch: 1119   Train loss: 0.1095   Train accuracy: 0.755   Val loss: 0.2268   Val accuracy: 0.592    weighted Val loss: 0.242\n",
      "Epoch: 1120   Train loss: 0.118   Train accuracy: 0.774   Val loss: 0.2325   Val accuracy: 0.582    weighted Val loss: 0.242\n",
      "Epoch: 1121   Train loss: 0.1146   Train accuracy: 0.706   Val loss: 0.2221   Val accuracy: 0.586    weighted Val loss: 0.242\n",
      "Epoch: 1122   Train loss: 0.1202   Train accuracy: 0.707   Val loss: 0.2379   Val accuracy: 0.573    weighted Val loss: 0.242\n",
      "Epoch: 1123   Train loss: 0.1175   Train accuracy: 0.761   Val loss: 0.2224   Val accuracy: 0.59    weighted Val loss: 0.2419\n",
      "Epoch: 1124   Train loss: 0.1354   Train accuracy: 0.708   Val loss: 0.2201   Val accuracy: 0.589    weighted Val loss: 0.2419\n",
      "Epoch: 1125   Train loss: 0.1152   Train accuracy: 0.823   Val loss: 0.2285   Val accuracy: 0.59    weighted Val loss: 0.2419\n",
      "Epoch: 1126   Train loss: 0.1196   Train accuracy: 0.683   Val loss: 0.2202   Val accuracy: 0.59    weighted Val loss: 0.2418\n",
      "Epoch: 1127   Train loss: 0.1185   Train accuracy: 0.711   Val loss: 0.2261   Val accuracy: 0.587    weighted Val loss: 0.2418\n",
      "Epoch: 1128   Train loss: 0.113   Train accuracy: 0.776   Val loss: 0.2259   Val accuracy: 0.59    weighted Val loss: 0.2418\n",
      "Epoch: 1129   Train loss: 0.1141   Train accuracy: 0.798   Val loss: 0.2301   Val accuracy: 0.578    weighted Val loss: 0.2417\n",
      "Epoch: 1130   Train loss: 0.1146   Train accuracy: 0.739   Val loss: 0.2304   Val accuracy: 0.576    weighted Val loss: 0.2417\n",
      "Epoch: 1131   Train loss: 0.13   Train accuracy: 0.698   Val loss: 0.2272   Val accuracy: 0.579    weighted Val loss: 0.2417\n",
      "Epoch: 1132   Train loss: 0.1215   Train accuracy: 0.755   Val loss: 0.2286   Val accuracy: 0.584    weighted Val loss: 0.2417\n",
      "Epoch: 1133   Train loss: 0.1481   Train accuracy: 0.719   Val loss: 0.221   Val accuracy: 0.605    weighted Val loss: 0.2416\n",
      "Epoch: 1134   Train loss: 0.1197   Train accuracy: 0.822   Val loss: 0.2305   Val accuracy: 0.603    weighted Val loss: 0.2416\n",
      "Epoch: 1135   Train loss: 0.1215   Train accuracy: 0.665   Val loss: 0.2273   Val accuracy: 0.603    weighted Val loss: 0.2416\n",
      "Epoch: 1136   Train loss: 0.1342   Train accuracy: 0.725   Val loss: 0.2288   Val accuracy: 0.599    weighted Val loss: 0.2415\n",
      "Epoch: 1137   Train loss: 0.1233   Train accuracy: 0.754   Val loss: 0.2249   Val accuracy: 0.597    weighted Val loss: 0.2415\n",
      "Epoch: 1138   Train loss: 0.1207   Train accuracy: 0.715   Val loss: 0.2255   Val accuracy: 0.607    weighted Val loss: 0.2415\n",
      "Epoch: 1139   Train loss: 0.1122   Train accuracy: 0.763   Val loss: 0.232   Val accuracy: 0.611    weighted Val loss: 0.2415\n",
      "Epoch: 1140   Train loss: 0.1191   Train accuracy: 0.743   Val loss: 0.2266   Val accuracy: 0.598    weighted Val loss: 0.2414\n",
      "Epoch: 1141   Train loss: 0.1256   Train accuracy: 0.768   Val loss: 0.2292   Val accuracy: 0.59    weighted Val loss: 0.2414\n",
      "Epoch: 1142   Train loss: 0.1235   Train accuracy: 0.719   Val loss: 0.2366   Val accuracy: 0.576    weighted Val loss: 0.2414\n",
      "Epoch: 1143   Train loss: 0.1121   Train accuracy: 0.683   Val loss: 0.2188   Val accuracy: 0.584    weighted Val loss: 0.2414\n",
      "Epoch: 1144   Train loss: 0.1281   Train accuracy: 0.67   Val loss: 0.224   Val accuracy: 0.582    weighted Val loss: 0.2413\n",
      "Epoch: 1145   Train loss: 0.1223   Train accuracy: 0.712   Val loss: 0.2298   Val accuracy: 0.597    weighted Val loss: 0.2413\n",
      "Epoch: 1146   Train loss: 0.1273   Train accuracy: 0.769   Val loss: 0.2283   Val accuracy: 0.574    weighted Val loss: 0.2413\n",
      "Epoch: 1147   Train loss: 0.1098   Train accuracy: 0.781   Val loss: 0.2284   Val accuracy: 0.58    weighted Val loss: 0.2412\n",
      "Epoch: 1148   Train loss: 0.1198   Train accuracy: 0.748   Val loss: 0.2241   Val accuracy: 0.591    weighted Val loss: 0.2412\n",
      "Epoch: 1149   Train loss: 0.12   Train accuracy: 0.687   Val loss: 0.2232   Val accuracy: 0.587    weighted Val loss: 0.2412\n",
      "Epoch: 1150   Train loss: 0.1207   Train accuracy: 0.753   Val loss: 0.2229   Val accuracy: 0.594    weighted Val loss: 0.2411\n",
      "Epoch: 1151   Train loss: 0.1168   Train accuracy: 0.781   Val loss: 0.2236   Val accuracy: 0.577    weighted Val loss: 0.2411\n",
      "Epoch: 1152   Train loss: 0.114   Train accuracy: 0.761   Val loss: 0.2333   Val accuracy: 0.578    weighted Val loss: 0.2411\n",
      "Epoch: 1153   Train loss: 0.1201   Train accuracy: 0.769   Val loss: 0.2338   Val accuracy: 0.58    weighted Val loss: 0.2411\n",
      "Epoch: 1154   Train loss: 0.1258   Train accuracy: 0.74   Val loss: 0.2319   Val accuracy: 0.587    weighted Val loss: 0.2411\n",
      "Epoch: 1155   Train loss: 0.1391   Train accuracy: 0.698   Val loss: 0.2245   Val accuracy: 0.584    weighted Val loss: 0.241\n",
      "Epoch: 1156   Train loss: 0.1152   Train accuracy: 0.755   Val loss: 0.2398   Val accuracy: 0.585    weighted Val loss: 0.241\n",
      "Epoch: 1157   Train loss: 0.1226   Train accuracy: 0.731   Val loss: 0.225   Val accuracy: 0.589    weighted Val loss: 0.241\n",
      "Epoch: 1158   Train loss: 0.1141   Train accuracy: 0.774   Val loss: 0.234   Val accuracy: 0.587    weighted Val loss: 0.241\n",
      "Epoch: 1159   Train loss: 0.1219   Train accuracy: 0.787   Val loss: 0.2319   Val accuracy: 0.593    weighted Val loss: 0.241\n",
      "Epoch: 1160   Train loss: 0.1107   Train accuracy: 0.723   Val loss: 0.2301   Val accuracy: 0.598    weighted Val loss: 0.2409\n",
      "Epoch: 1161   Train loss: 0.1338   Train accuracy: 0.727   Val loss: 0.2318   Val accuracy: 0.597    weighted Val loss: 0.2409\n",
      "Epoch: 1162   Train loss: 0.127   Train accuracy: 0.785   Val loss: 0.2278   Val accuracy: 0.587    weighted Val loss: 0.2409\n",
      "Epoch: 1163   Train loss: 0.1173   Train accuracy: 0.703   Val loss: 0.2274   Val accuracy: 0.588    weighted Val loss: 0.2409\n",
      "Epoch: 1164   Train loss: 0.1343   Train accuracy: 0.715   Val loss: 0.232   Val accuracy: 0.589    weighted Val loss: 0.2408\n",
      "Epoch: 1165   Train loss: 0.1279   Train accuracy: 0.741   Val loss: 0.2305   Val accuracy: 0.589    weighted Val loss: 0.2408\n",
      "Epoch: 1166   Train loss: 0.1196   Train accuracy: 0.741   Val loss: 0.2307   Val accuracy: 0.575    weighted Val loss: 0.2408\n",
      "Epoch: 1167   Train loss: 0.1262   Train accuracy: 0.732   Val loss: 0.2288   Val accuracy: 0.596    weighted Val loss: 0.2408\n",
      "Epoch: 1168   Train loss: 0.1263   Train accuracy: 0.737   Val loss: 0.2289   Val accuracy: 0.599    weighted Val loss: 0.2408\n",
      "Epoch: 1169   Train loss: 0.1233   Train accuracy: 0.723   Val loss: 0.2229   Val accuracy: 0.596    weighted Val loss: 0.2407\n",
      "Epoch: 1170   Train loss: 0.1437   Train accuracy: 0.661   Val loss: 0.2261   Val accuracy: 0.585    weighted Val loss: 0.2407\n",
      "Epoch: 1171   Train loss: 0.125   Train accuracy: 0.825   Val loss: 0.2398   Val accuracy: 0.571    weighted Val loss: 0.2407\n"
     ]
    },
    {
     "name": "stdout",
     "output_type": "stream",
     "text": [
      "Epoch: 1172   Train loss: 0.1297   Train accuracy: 0.665   Val loss: 0.2243   Val accuracy: 0.593    weighted Val loss: 0.2407\n",
      "Epoch: 1173   Train loss: 0.1212   Train accuracy: 0.813   Val loss: 0.2307   Val accuracy: 0.587    weighted Val loss: 0.2406\n",
      "Epoch: 1174   Train loss: 0.1265   Train accuracy: 0.621   Val loss: 0.2253   Val accuracy: 0.58    weighted Val loss: 0.2406\n",
      "Epoch: 1175   Train loss: 0.1296   Train accuracy: 0.677   Val loss: 0.2245   Val accuracy: 0.578    weighted Val loss: 0.2406\n",
      "Epoch: 1176   Train loss: 0.1202   Train accuracy: 0.73   Val loss: 0.2259   Val accuracy: 0.575    weighted Val loss: 0.2405\n",
      "Epoch: 1177   Train loss: 0.1241   Train accuracy: 0.731   Val loss: 0.2214   Val accuracy: 0.581    weighted Val loss: 0.2405\n",
      "Epoch: 1178   Train loss: 0.1174   Train accuracy: 0.77   Val loss: 0.2284   Val accuracy: 0.591    weighted Val loss: 0.2405\n",
      "Epoch: 1179   Train loss: 0.1258   Train accuracy: 0.739   Val loss: 0.2224   Val accuracy: 0.596    weighted Val loss: 0.2404\n",
      "Epoch: 1180   Train loss: 0.119   Train accuracy: 0.789   Val loss: 0.2265   Val accuracy: 0.598    weighted Val loss: 0.2404\n",
      "Epoch: 1181   Train loss: 0.123   Train accuracy: 0.751   Val loss: 0.2198   Val accuracy: 0.588    weighted Val loss: 0.2404\n",
      "Epoch: 1182   Train loss: 0.1172   Train accuracy: 0.836   Val loss: 0.2368   Val accuracy: 0.591    weighted Val loss: 0.2404\n",
      "Epoch: 1183   Train loss: 0.1171   Train accuracy: 0.738   Val loss: 0.2205   Val accuracy: 0.59    weighted Val loss: 0.2403\n",
      "Epoch: 1184   Train loss: 0.128   Train accuracy: 0.711   Val loss: 0.2334   Val accuracy: 0.585    weighted Val loss: 0.2403\n",
      "Epoch: 1185   Train loss: 0.122   Train accuracy: 0.755   Val loss: 0.2213   Val accuracy: 0.605    weighted Val loss: 0.2403\n",
      "Epoch: 1186   Train loss: 0.1113   Train accuracy: 0.787   Val loss: 0.2367   Val accuracy: 0.586    weighted Val loss: 0.2403\n",
      "Epoch: 1187   Train loss: 0.1172   Train accuracy: 0.716   Val loss: 0.2228   Val accuracy: 0.6    weighted Val loss: 0.2402\n",
      "Epoch: 1188   Train loss: 0.1145   Train accuracy: 0.714   Val loss: 0.2362   Val accuracy: 0.595    weighted Val loss: 0.2402\n",
      "Epoch: 1189   Train loss: 0.1256   Train accuracy: 0.722   Val loss: 0.2222   Val accuracy: 0.585    weighted Val loss: 0.2402\n",
      "Epoch: 1190   Train loss: 0.1088   Train accuracy: 0.78   Val loss: 0.2396   Val accuracy: 0.576    weighted Val loss: 0.2402\n",
      "Epoch: 1191   Train loss: 0.1296   Train accuracy: 0.733   Val loss: 0.2224   Val accuracy: 0.582    weighted Val loss: 0.2402\n",
      "Epoch: 1192   Train loss: 0.1151   Train accuracy: 0.78   Val loss: 0.2255   Val accuracy: 0.591    weighted Val loss: 0.2401\n",
      "Epoch: 1193   Train loss: 0.1113   Train accuracy: 0.673   Val loss: 0.2274   Val accuracy: 0.583    weighted Val loss: 0.2401\n",
      "Epoch: 1194   Train loss: 0.124   Train accuracy: 0.735   Val loss: 0.2256   Val accuracy: 0.59    weighted Val loss: 0.2401\n",
      "Epoch: 1195   Train loss: 0.124   Train accuracy: 0.738   Val loss: 0.2292   Val accuracy: 0.581    weighted Val loss: 0.24\n",
      "Epoch: 1196   Train loss: 0.1306   Train accuracy: 0.648   Val loss: 0.2209   Val accuracy: 0.586    weighted Val loss: 0.24\n",
      "Epoch: 1197   Train loss: 0.1197   Train accuracy: 0.761   Val loss: 0.2294   Val accuracy: 0.58    weighted Val loss: 0.24\n",
      "Epoch: 1198   Train loss: 0.1215   Train accuracy: 0.711   Val loss: 0.2231   Val accuracy: 0.583    weighted Val loss: 0.24\n",
      "Epoch: 1199   Train loss: 0.1315   Train accuracy: 0.758   Val loss: 0.2286   Val accuracy: 0.593    weighted Val loss: 0.2399\n",
      "Epoch: 1200   Train loss: 0.1193   Train accuracy: 0.767   Val loss: 0.2302   Val accuracy: 0.594    weighted Val loss: 0.2399\n",
      "Epoch: 1201   Train loss: 0.1413   Train accuracy: 0.683   Val loss: 0.2248   Val accuracy: 0.598    weighted Val loss: 0.2399\n",
      "Epoch: 1202   Train loss: 0.1271   Train accuracy: 0.776   Val loss: 0.229   Val accuracy: 0.586    weighted Val loss: 0.2399\n",
      "Epoch: 1203   Train loss: 0.1239   Train accuracy: 0.691   Val loss: 0.2322   Val accuracy: 0.58    weighted Val loss: 0.2398\n",
      "Epoch: 1204   Train loss: 0.1223   Train accuracy: 0.682   Val loss: 0.2365   Val accuracy: 0.574    weighted Val loss: 0.2398\n",
      "Epoch: 1205   Train loss: 0.129   Train accuracy: 0.716   Val loss: 0.2289   Val accuracy: 0.567    weighted Val loss: 0.2398\n",
      "Epoch: 1206   Train loss: 0.1148   Train accuracy: 0.722   Val loss: 0.2353   Val accuracy: 0.583    weighted Val loss: 0.2398\n",
      "Epoch: 1207   Train loss: 0.1257   Train accuracy: 0.632   Val loss: 0.2258   Val accuracy: 0.592    weighted Val loss: 0.2398\n",
      "Epoch: 1208   Train loss: 0.1215   Train accuracy: 0.751   Val loss: 0.2315   Val accuracy: 0.591    weighted Val loss: 0.2398\n",
      "Epoch: 1209   Train loss: 0.1311   Train accuracy: 0.732   Val loss: 0.2272   Val accuracy: 0.587    weighted Val loss: 0.2397\n",
      "Epoch: 1210   Train loss: 0.1108   Train accuracy: 0.775   Val loss: 0.2293   Val accuracy: 0.576    weighted Val loss: 0.2397\n",
      "Epoch: 1211   Train loss: 0.1181   Train accuracy: 0.725   Val loss: 0.2285   Val accuracy: 0.582    weighted Val loss: 0.2397\n",
      "Epoch: 1212   Train loss: 0.1083   Train accuracy: 0.758   Val loss: 0.2313   Val accuracy: 0.586    weighted Val loss: 0.2397\n",
      "Epoch: 1213   Train loss: 0.1106   Train accuracy: 0.795   Val loss: 0.2385   Val accuracy: 0.587    weighted Val loss: 0.2397\n",
      "Epoch: 1214   Train loss: 0.122   Train accuracy: 0.671   Val loss: 0.2194   Val accuracy: 0.59    weighted Val loss: 0.2396\n",
      "Epoch: 1215   Train loss: 0.1344   Train accuracy: 0.726   Val loss: 0.233   Val accuracy: 0.58    weighted Val loss: 0.2396\n",
      "Epoch: 1216   Train loss: 0.1117   Train accuracy: 0.772   Val loss: 0.2253   Val accuracy: 0.579    weighted Val loss: 0.2396\n",
      "Epoch: 1217   Train loss: 0.1191   Train accuracy: 0.753   Val loss: 0.2298   Val accuracy: 0.571    weighted Val loss: 0.2396\n",
      "Epoch: 1218   Train loss: 0.1178   Train accuracy: 0.786   Val loss: 0.2222   Val accuracy: 0.587    weighted Val loss: 0.2395\n",
      "Epoch: 1219   Train loss: 0.1238   Train accuracy: 0.726   Val loss: 0.2266   Val accuracy: 0.594    weighted Val loss: 0.2395\n",
      "Epoch: 1220   Train loss: 0.1176   Train accuracy: 0.77   Val loss: 0.235   Val accuracy: 0.585    weighted Val loss: 0.2395\n",
      "Epoch: 1221   Train loss: 0.1322   Train accuracy: 0.655   Val loss: 0.2256   Val accuracy: 0.585    weighted Val loss: 0.2395\n",
      "Epoch: 1222   Train loss: 0.1194   Train accuracy: 0.726   Val loss: 0.2277   Val accuracy: 0.584    weighted Val loss: 0.2395\n",
      "Epoch: 1223   Train loss: 0.1216   Train accuracy: 0.736   Val loss: 0.2251   Val accuracy: 0.587    weighted Val loss: 0.2394\n",
      "Epoch: 1224   Train loss: 0.1221   Train accuracy: 0.701   Val loss: 0.2271   Val accuracy: 0.591    weighted Val loss: 0.2394\n",
      "Epoch: 1225   Train loss: 0.1174   Train accuracy: 0.784   Val loss: 0.2288   Val accuracy: 0.593    weighted Val loss: 0.2394\n",
      "Epoch: 1226   Train loss: 0.122   Train accuracy: 0.741   Val loss: 0.2275   Val accuracy: 0.591    weighted Val loss: 0.2394\n",
      "Epoch: 1227   Train loss: 0.1188   Train accuracy: 0.787   Val loss: 0.2351   Val accuracy: 0.593    weighted Val loss: 0.2393\n",
      "Epoch: 1228   Train loss: 0.1326   Train accuracy: 0.69   Val loss: 0.2198   Val accuracy: 0.583    weighted Val loss: 0.2393\n",
      "Epoch: 1229   Train loss: 0.1245   Train accuracy: 0.72   Val loss: 0.2313   Val accuracy: 0.596    weighted Val loss: 0.2393\n",
      "Epoch: 1230   Train loss: 0.121   Train accuracy: 0.751   Val loss: 0.2294   Val accuracy: 0.579    weighted Val loss: 0.2393\n",
      "Epoch: 1231   Train loss: 0.1232   Train accuracy: 0.771   Val loss: 0.2301   Val accuracy: 0.581    weighted Val loss: 0.2393\n",
      "Epoch: 1232   Train loss: 0.12   Train accuracy: 0.746   Val loss: 0.2316   Val accuracy: 0.58    weighted Val loss: 0.2392\n",
      "Epoch: 1233   Train loss: 0.1241   Train accuracy: 0.667   Val loss: 0.2236   Val accuracy: 0.578    weighted Val loss: 0.2392\n",
      "Epoch: 1234   Train loss: 0.1222   Train accuracy: 0.752   Val loss: 0.2283   Val accuracy: 0.588    weighted Val loss: 0.2392\n",
      "Epoch: 1235   Train loss: 0.1225   Train accuracy: 0.725   Val loss: 0.2258   Val accuracy: 0.588    weighted Val loss: 0.2392\n",
      "Epoch: 1236   Train loss: 0.1275   Train accuracy: 0.743   Val loss: 0.2305   Val accuracy: 0.585    weighted Val loss: 0.2391\n",
      "Epoch: 1237   Train loss: 0.1184   Train accuracy: 0.706   Val loss: 0.2277   Val accuracy: 0.583    weighted Val loss: 0.2391\n",
      "Epoch: 1238   Train loss: 0.1252   Train accuracy: 0.758   Val loss: 0.2265   Val accuracy: 0.592    weighted Val loss: 0.2391\n"
     ]
    },
    {
     "name": "stdout",
     "output_type": "stream",
     "text": [
      "Epoch: 1239   Train loss: 0.1208   Train accuracy: 0.756   Val loss: 0.2215   Val accuracy: 0.601    weighted Val loss: 0.2391\n",
      "Epoch: 1240   Train loss: 0.1201   Train accuracy: 0.762   Val loss: 0.2351   Val accuracy: 0.603    weighted Val loss: 0.239\n",
      "Epoch: 1241   Train loss: 0.1338   Train accuracy: 0.7   Val loss: 0.2277   Val accuracy: 0.583    weighted Val loss: 0.239\n",
      "Epoch: 1242   Train loss: 0.1199   Train accuracy: 0.783   Val loss: 0.2305   Val accuracy: 0.598    weighted Val loss: 0.239\n",
      "Epoch: 1243   Train loss: 0.1341   Train accuracy: 0.708   Val loss: 0.2287   Val accuracy: 0.589    weighted Val loss: 0.239\n",
      "Epoch: 1244   Train loss: 0.1135   Train accuracy: 0.666   Val loss: 0.2301   Val accuracy: 0.589    weighted Val loss: 0.239\n",
      "Epoch: 1245   Train loss: 0.1169   Train accuracy: 0.748   Val loss: 0.2351   Val accuracy: 0.591    weighted Val loss: 0.239\n",
      "Epoch: 1246   Train loss: 0.1288   Train accuracy: 0.675   Val loss: 0.2236   Val accuracy: 0.594    weighted Val loss: 0.2389\n",
      "Epoch: 1247   Train loss: 0.1358   Train accuracy: 0.763   Val loss: 0.2241   Val accuracy: 0.594    weighted Val loss: 0.2389\n",
      "Epoch: 1248   Train loss: 0.1117   Train accuracy: 0.78   Val loss: 0.2227   Val accuracy: 0.594    weighted Val loss: 0.2389\n",
      "Epoch: 1249   Train loss: 0.1209   Train accuracy: 0.73   Val loss: 0.2254   Val accuracy: 0.593    weighted Val loss: 0.2388\n",
      "Epoch: 1250   Train loss: 0.1241   Train accuracy: 0.732   Val loss: 0.2226   Val accuracy: 0.59    weighted Val loss: 0.2388\n",
      "Epoch: 1251   Train loss: 0.1121   Train accuracy: 0.669   Val loss: 0.2291   Val accuracy: 0.588    weighted Val loss: 0.2388\n",
      "Epoch: 1252   Train loss: 0.1256   Train accuracy: 0.679   Val loss: 0.2182   Val accuracy: 0.593    weighted Val loss: 0.2387\n",
      "Epoch: 1253   Train loss: 0.1222   Train accuracy: 0.76   Val loss: 0.2307   Val accuracy: 0.589    weighted Val loss: 0.2387\n",
      "Epoch: 1254   Train loss: 0.1199   Train accuracy: 0.698   Val loss: 0.224   Val accuracy: 0.588    weighted Val loss: 0.2387\n",
      "Epoch: 1255   Train loss: 0.116   Train accuracy: 0.803   Val loss: 0.2288   Val accuracy: 0.589    weighted Val loss: 0.2387\n",
      "Epoch: 1256   Train loss: 0.1266   Train accuracy: 0.69   Val loss: 0.2234   Val accuracy: 0.591    weighted Val loss: 0.2387\n",
      "Epoch: 1257   Train loss: 0.127   Train accuracy: 0.772   Val loss: 0.232   Val accuracy: 0.596    weighted Val loss: 0.2386\n",
      "Epoch: 1258   Train loss: 0.1132   Train accuracy: 0.678   Val loss: 0.2317   Val accuracy: 0.592    weighted Val loss: 0.2386\n",
      "Epoch: 1259   Train loss: 0.1243   Train accuracy: 0.77   Val loss: 0.2205   Val accuracy: 0.584    weighted Val loss: 0.2386\n",
      "Epoch: 1260   Train loss: 0.1104   Train accuracy: 0.777   Val loss: 0.2329   Val accuracy: 0.596    weighted Val loss: 0.2386\n",
      "Epoch: 1261   Train loss: 0.1139   Train accuracy: 0.759   Val loss: 0.2249   Val accuracy: 0.607    weighted Val loss: 0.2385\n",
      "Epoch: 1262   Train loss: 0.1212   Train accuracy: 0.77   Val loss: 0.2305   Val accuracy: 0.591    weighted Val loss: 0.2385\n",
      "Epoch: 1263   Train loss: 0.12   Train accuracy: 0.736   Val loss: 0.2224   Val accuracy: 0.59    weighted Val loss: 0.2385\n",
      "Epoch: 1264   Train loss: 0.1197   Train accuracy: 0.778   Val loss: 0.2264   Val accuracy: 0.587    weighted Val loss: 0.2385\n",
      "Epoch: 1265   Train loss: 0.1239   Train accuracy: 0.708   Val loss: 0.2134   Val accuracy: 0.59    weighted Val loss: 0.2384\n",
      "Epoch: 1266   Train loss: 0.1164   Train accuracy: 0.78   Val loss: 0.2223   Val accuracy: 0.59    weighted Val loss: 0.2384\n",
      "Epoch: 1267   Train loss: 0.1189   Train accuracy: 0.685   Val loss: 0.2295   Val accuracy: 0.581    weighted Val loss: 0.2384\n",
      "Epoch: 1268   Train loss: 0.1247   Train accuracy: 0.713   Val loss: 0.2231   Val accuracy: 0.585    weighted Val loss: 0.2383\n",
      "Epoch: 1269   Train loss: 0.1367   Train accuracy: 0.691   Val loss: 0.2294   Val accuracy: 0.59    weighted Val loss: 0.2383\n",
      "Epoch: 1270   Train loss: 0.1234   Train accuracy: 0.671   Val loss: 0.2234   Val accuracy: 0.584    weighted Val loss: 0.2383\n",
      "Epoch: 1271   Train loss: 0.1231   Train accuracy: 0.659   Val loss: 0.2323   Val accuracy: 0.593    weighted Val loss: 0.2383\n",
      "Epoch: 1272   Train loss: 0.1318   Train accuracy: 0.689   Val loss: 0.2232   Val accuracy: 0.588    weighted Val loss: 0.2383\n",
      "Epoch: 1273   Train loss: 0.1239   Train accuracy: 0.807   Val loss: 0.2367   Val accuracy: 0.589    weighted Val loss: 0.2383\n",
      "Epoch: 1274   Train loss: 0.1259   Train accuracy: 0.638   Val loss: 0.2186   Val accuracy: 0.596    weighted Val loss: 0.2382\n",
      "Epoch: 1275   Train loss: 0.1253   Train accuracy: 0.782   Val loss: 0.2327   Val accuracy: 0.602    weighted Val loss: 0.2382\n",
      "Epoch: 1276   Train loss: 0.1216   Train accuracy: 0.655   Val loss: 0.224   Val accuracy: 0.598    weighted Val loss: 0.2382\n",
      "Epoch: 1277   Train loss: 0.1175   Train accuracy: 0.682   Val loss: 0.2212   Val accuracy: 0.592    weighted Val loss: 0.2381\n",
      "Epoch: 1278   Train loss: 0.1163   Train accuracy: 0.768   Val loss: 0.2269   Val accuracy: 0.593    weighted Val loss: 0.2381\n",
      "Epoch: 1279   Train loss: 0.1221   Train accuracy: 0.743   Val loss: 0.2233   Val accuracy: 0.591    weighted Val loss: 0.2381\n",
      "Epoch: 1280   Train loss: 0.1191   Train accuracy: 0.752   Val loss: 0.2216   Val accuracy: 0.59    weighted Val loss: 0.2381\n",
      "Epoch: 1281   Train loss: 0.1267   Train accuracy: 0.727   Val loss: 0.223   Val accuracy: 0.589    weighted Val loss: 0.238\n",
      "Epoch: 1282   Train loss: 0.1266   Train accuracy: 0.682   Val loss: 0.2225   Val accuracy: 0.589    weighted Val loss: 0.238\n",
      "Epoch: 1283   Train loss: 0.1255   Train accuracy: 0.761   Val loss: 0.2266   Val accuracy: 0.599    weighted Val loss: 0.238\n",
      "Epoch: 1284   Train loss: 0.1198   Train accuracy: 0.722   Val loss: 0.2304   Val accuracy: 0.602    weighted Val loss: 0.238\n",
      "Epoch: 1285   Train loss: 0.1157   Train accuracy: 0.791   Val loss: 0.2254   Val accuracy: 0.591    weighted Val loss: 0.2379\n",
      "Epoch: 1286   Train loss: 0.1109   Train accuracy: 0.801   Val loss: 0.2237   Val accuracy: 0.585    weighted Val loss: 0.2379\n",
      "Epoch: 1287   Train loss: 0.1272   Train accuracy: 0.711   Val loss: 0.2218   Val accuracy: 0.59    weighted Val loss: 0.2379\n",
      "Epoch: 1288   Train loss: 0.1198   Train accuracy: 0.776   Val loss: 0.2345   Val accuracy: 0.584    weighted Val loss: 0.2379\n",
      "Epoch: 1289   Train loss: 0.1317   Train accuracy: 0.689   Val loss: 0.2174   Val accuracy: 0.586    weighted Val loss: 0.2378\n",
      "Epoch: 1290   Train loss: 0.1196   Train accuracy: 0.801   Val loss: 0.2405   Val accuracy: 0.571    weighted Val loss: 0.2378\n"
     ]
    }
   ],
   "source": [
    "MLPmodel, _,_ = train_MLP(dm, sim_train, sim_test, MLPparameters, acc_fn=F1, autostop_decay = 0.998, print_summary = True)"
   ]
  },
  {
   "cell_type": "code",
   "execution_count": 124,
   "metadata": {},
   "outputs": [
    {
     "name": "stdout",
     "output_type": "stream",
     "text": [
      "threshold: 0.05  validation loss: 0.2241 F1 accuracy 0.427 Precision accuracy 0.292 Recall accuracy 0.794 AUC accuracy: 0.781\n",
      "threshold: 0.1  validation loss: 0.2241 F1 accuracy 0.532 Precision accuracy 0.456 Recall accuracy 0.639 AUC accuracy: 0.773\n",
      "threshold: 0.15  validation loss: 0.2241 F1 accuracy 0.556 Precision accuracy 0.571 Recall accuracy 0.542 AUC accuracy: 0.746\n",
      "threshold: 0.2  validation loss: 0.2241 F1 accuracy 0.579 Precision accuracy 0.694 Recall accuracy 0.497 AUC accuracy: 0.735\n",
      "threshold: 0.25  validation loss: 0.2241 F1 accuracy 0.592 Precision accuracy 0.779 Recall accuracy 0.477 AUC accuracy: 0.731\n",
      "threshold: 0.3  validation loss: 0.2241 F1 accuracy 0.612 Precision accuracy 0.851 Recall accuracy 0.477 AUC accuracy: 0.734\n",
      "threshold: 0.35  validation loss: 0.2241 F1 accuracy 0.595 Precision accuracy 0.896 Recall accuracy 0.445 AUC accuracy: 0.719\n",
      "threshold: 0.4  validation loss: 0.2241 F1 accuracy 0.564 Precision accuracy 0.889 Recall accuracy 0.413 AUC accuracy: 0.703\n",
      "threshold: 0.45  validation loss: 0.2241 F1 accuracy 0.561 Precision accuracy 0.939 Recall accuracy 0.4 AUC accuracy: 0.698\n",
      "threshold: 0.5  validation loss: 0.2241 F1 accuracy 0.516 Precision accuracy 0.948 Recall accuracy 0.355 AUC accuracy: 0.676\n",
      "threshold: 0.55  validation loss: 0.2241 F1 accuracy 0.478 Precision accuracy 0.98 Recall accuracy 0.316 AUC accuracy: 0.658\n",
      "threshold: 0.6  validation loss: 0.2241 F1 accuracy 0.448 Precision accuracy 0.978 Recall accuracy 0.29 AUC accuracy: 0.645\n",
      "threshold: 0.65  validation loss: 0.2241 F1 accuracy 0.418 Precision accuracy 1.0 Recall accuracy 0.265 AUC accuracy: 0.632\n",
      "threshold: 0.7  validation loss: 0.2241 F1 accuracy 0.368 Precision accuracy 1.0 Recall accuracy 0.226 AUC accuracy: 0.613\n",
      "threshold: 0.75  validation loss: 0.2241 F1 accuracy 0.315 Precision accuracy 1.0 Recall accuracy 0.187 AUC accuracy: 0.594\n",
      "threshold: 0.8  validation loss: 0.2241 F1 accuracy 0.278 Precision accuracy 1.0 Recall accuracy 0.161 AUC accuracy: 0.581\n",
      "threshold: 0.85  validation loss: 0.2241 F1 accuracy 0.218 Precision accuracy 1.0 Recall accuracy 0.123 AUC accuracy: 0.561\n",
      "threshold: 0.9  validation loss: 0.2241 F1 accuracy 0.144 Precision accuracy 1.0 Recall accuracy 0.077 AUC accuracy: 0.539\n",
      "threshold: 0.95  validation loss: 0.2241 F1 accuracy 0.05 Precision accuracy 1.0 Recall accuracy 0.026 AUC accuracy: 0.513\n"
     ]
    }
   ],
   "source": [
    "for i in range(5,100, 5):\n",
    "    t = i/100;\n",
    "    eval_mlp(MLPmodel, sim_test, dm, threshold = t)"
   ]
  },
  {
   "cell_type": "markdown",
   "metadata": {},
   "source": [
    "### Archived code"
   ]
  },
  {
   "cell_type": "code",
   "execution_count": null,
   "metadata": {},
   "outputs": [],
   "source": [
    "#ODE Part and Adjoint Method\n",
    "\n",
    "# Convenience tuple -> tensor function\n",
    "def flatten(*args):\n",
    "    return(torch.cat(tuple(torch.flatten(arg) for arg in args), dim=0).view(1,-1))\n",
    "\n",
    "# Convenience tensor -> tuple function\n",
    "def unflatten(x, n_e, sizes):\n",
    "    return (x[0, 0:n_e[0]].view(sizes[0]),\n",
    "            x[0, n_e[0]:n_e[0] + n_e[1]].view(sizes[1]),\n",
    "            x[0, (n_e[0] + n_e[1]):(n_e[0] + n_e[1] + n_e[2])].view(sizes[2]),\n",
    "            x[0, (n_e[0] + n_e[1] + n_e[2]):].view(sizes[3]),\n",
    "            )\n",
    "\n",
    "class Integrate(torch.autograd.Function):\n",
    "    def __deepcopy__(self, memo):\n",
    "        return Integrate(copy.deepcopy(memo))\n",
    "    \n",
    "    @staticmethod\n",
    "    def forward(ctx, Integrator, f, x0, t0, t1, N, net_params, A):\n",
    "                \n",
    "        solution = Integrator(EF, lambda x, t: f(x, t, net_params, A), x0, t0, t1, N)\n",
    "            \n",
    "        # Save for jacobian calculations in backward()\n",
    "        ctx.save_for_backward(x0,t0,t1,net_params,A)\n",
    "        ctx.solution = solution\n",
    "        ctx.Integrator = Integrator\n",
    "        ctx.N = N\n",
    "        ctx.f = f\n",
    "        \n",
    "        return solution\n",
    "    \n",
    "    @staticmethod\n",
    "    def backward(ctx, dL_dz1):\n",
    "        # Get all saved context\n",
    "        z0, t0, t1, net_params,A = ctx.saved_tensors\n",
    "        z1 = ctx.solution\n",
    "        N = ctx.N\n",
    "        f = ctx.f\n",
    "        \n",
    "        print(\"dL_dz1\", dL_dz1.size())\n",
    "        print(\"net_params\", net_params.size())\n",
    "        \n",
    "        \n",
    "        s0 = [z1, dL_dz1 ,torch.zeros(net_params.size(), dtype=torch.float32)]\n",
    "        print(\"s0\", s0.size())\n",
    "        \n",
    "        def aug_dynamics(s, t, theta, A):\n",
    "            zt = s[0]\n",
    "            at = s[1]\n",
    "            \n",
    "            \n",
    "            with torch.enable_grad(): \n",
    "                gradients = [vjp(f, \n",
    "                                 (s[0][i].unsqueeze(0), t, theta), \n",
    "                                  v=-s[1][i].unsqueeze(0),\n",
    "                                 )[1] for i in range(batch_size)]\n",
    "                \n",
    "            return flatten(f(s[0],t,theta),\n",
    "                    torch.cat([gradient[0] for gradient in gradients], dim=0), \n",
    "                    torch.cat([gradient[2].unsqueeze(0) for gradient in gradients], dim=0), \n",
    "                    torch.cat([gradient[1].reshape(1,1) for gradient in gradients], dim=0),\n",
    "                   )#.unsqueeze(2)\n",
    "        \n",
    "        '''\n",
    "        # Convenience sizes\n",
    "        batch_size = z0.size()[0]\n",
    "        img_len = int(z0.numel() / batch_size)\n",
    "\n",
    "        # Compute derivative w.r.t. to end time of integration\n",
    "        dL_dt1 = dL_dz1.view(batch_size,1,-1).bmm(f(z1, t1, net_params).view(batch_size,-1,1))  # Derivative of loss w.r.t t1\n",
    "        \n",
    "        #print(\"dL_dt1\", dL_dt1)\n",
    "        \n",
    "        # Initial Condition\n",
    "        num_elements = (z1.numel(), dL_dz1.numel(), batch_size * net_params.numel(), dL_dt1.numel())\n",
    "        sizes = (z1.size(), dL_dz1.size(), (batch_size, net_params.numel()), dL_dt1.size())\n",
    "        s0 = flatten(z1, dL_dz1, torch.zeros((batch_size, net_params.numel()), dtype=torch.float32), -dL_dt1) # initial augmented state\n",
    "        \n",
    "        # augmented dynamics function\n",
    "        def aug_dynamics(s, t, theta):\n",
    "            s = unflatten(s, num_elements, sizes)\n",
    "            \n",
    "            with torch.enable_grad(): \n",
    "                gradients = [vjp(f, \n",
    "                                 (s[0][i].unsqueeze(0), t, theta), \n",
    "                                  v=-s[1][i].unsqueeze(0),\n",
    "                                 )[1] for i in range(batch_size)]\n",
    "                \n",
    "            return flatten(f(s[0],t,theta),\n",
    "                    torch.cat([gradient[0] for gradient in gradients], dim=0), \n",
    "                    torch.cat([gradient[2].unsqueeze(0) for gradient in gradients], dim=0), \n",
    "                    torch.cat([gradient[1].reshape(1,1) for gradient in gradients], dim=0),\n",
    "                   )#.unsqueeze(2)\n",
    "\n",
    "        # Integrate backwards\n",
    "        with torch.enable_grad():\n",
    "            s = ctx.Integrator(EF, lambda x, t: aug_dynamics(x, t, net_params), s0, t1, t0, N)\n",
    "        \n",
    "        # Extract derivatives\n",
    "        _, dL_dz0, dL_dtheta, dL_dt0 = unflatten(s, num_elements, sizes)\n",
    "        \n",
    "        # must return something for every input to forward, None for non-tensors\n",
    "        return None, None, dL_dz0, dL_dt0, dL_dt1, None, dL_dtheta \n",
    "        '''\n",
    "        return None, None, None, None, None, None, net_params, None"
   ]
  },
  {
   "cell_type": "code",
   "execution_count": null,
   "metadata": {},
   "outputs": [],
   "source": [
    "class GDE(nn.Module):\n",
    "    def __init__(self, in_features, out_features):\n",
    "        super(GDE, self).__init__()\n",
    "        self.in_features = in_features\n",
    "        self.out_features = out_features\n",
    "        \n",
    "    \n",
    "    # H, feature matrix\n",
    "    # A, precomputed adj matrix\n",
    "    def forward(self, H, t, weight, A): #x, t, net_params, A\n",
    "        n = torch.matmul(A, torch.matmul(H, weight))\n",
    "        return F.relu(n)\n",
    "\n",
    "class SimularityMatrix(nn.Module):\n",
    "    def __init__(self, in_features):\n",
    "        super(SimularityMatrix, self).__init__()\n",
    "        self.in_features = in_features\n",
    "        self.weight = nn.Parameter(torch.Tensor(in_features))\n",
    "        self.reset_parameters()\n",
    "\n",
    "    def __repr__(self):\n",
    "        return self.__class__.__name__ + ' (' \\\n",
    "               + str(self.in_features) +')'\n",
    "    \n",
    "    def reset_parameters(self):\n",
    "        stdv = 1. / self.weight.size(0) ** 1/2\n",
    "        self.weight.data.uniform_(-stdv, stdv)\n",
    "    \n",
    "    #computes the simularity matrix:\n",
    "    # H, feature matrix --> N x D\n",
    "    # A, precomputed adj matrix --> NxN\n",
    "    # this method is pretty wack, need to find a vectorized way to do it.\n",
    "    def forward(self, H, H0):\n",
    "        #get hidden state (concate H0 and H)\n",
    "        Z = torch.cat((H0, H), 2)\n",
    "        M = Z.shape[0]\n",
    "        N = Z.shape[1]\n",
    "        D = Z.shape[2]\n",
    "        #centering normalize Z\n",
    "        Z = self.fcn(Z)\n",
    "        return self.get_sim_vectorized(Z)\n",
    "        \n",
    "    #simularity between node u and node v (shape Mx1xD)\n",
    "    #return the u,v index of the simularity matrix\n",
    "    def get_sim(self, u,v):\n",
    "        theta = torch.diag(self.weight)\n",
    "        #print(self.weight)\n",
    "        #print(u.shape, theta.shape, self.weight.shape, torch.transpose(v, 1, 2).shape)\n",
    "        return torch.squeeze(torch.matmul(torch.matmul(u, theta), torch.transpose(v, 1, 2)))\n",
    "        \n",
    "    def get_sim_vectorized(self, Z): # Z is M x N Sx 2D\n",
    "        theta = torch.diag(self.weight)\n",
    "        sim_matrix = torch.matmul(torch.matmul(Z, theta), torch.transpose(Z, 1, 2))\n",
    "        return sim_matrix\n",
    "        \n",
    "    #centering-normalizing (CN) operator\n",
    "    def fcn(self, Z):\n",
    "        norm_Z = (Z - torch.mean(Z, dim=2, keepdim=True))\n",
    "        return norm_Z/torch.std(Z, unbiased=True, dim=2, keepdim=True)"
   ]
  },
  {
   "cell_type": "code",
   "execution_count": null,
   "metadata": {},
   "outputs": [],
   "source": [
    "# n-layer GCN Network\n",
    "'''\n",
    "solver_params = {\n",
    "    \"t0\": 0,\n",
    "    \"t1\": 1,\n",
    "    \"N\": 5,\n",
    "}\n",
    "'''\n",
    "class Net(nn.Module):\n",
    "    def __init__(self, body_features, solver, solver_params):\n",
    "        super(Net, self).__init__()\n",
    "        \n",
    "        self.f = GDE(body_features,body_features)\n",
    "        #body\n",
    "        self.int_f = solver\n",
    "        self.Integrate = Integrate\n",
    "        self.solver_params = solver_params\n",
    "        self.N = solver_params[\"N\"]\n",
    "        self.h = (solver_params[\"t1\"] - solver_params[\"t0\"]) / solver_params[\"N\"]\n",
    "        self.t0 = torch.tensor(float(solver_params[\"t0\"]), requires_grad=True)\n",
    "        self.t1 = torch.tensor(float(solver_params[\"t1\"]), requires_grad=True)\n",
    "        \n",
    "        self.net_params = torch.nn.parameter.Parameter(torch.Tensor(body_features, body_features).normal_(mean=0, std=0.1,generator=None), requires_grad=True)\n",
    "            \n",
    "        #tail\n",
    "        self.tail = SimularityMatrix(body_features*2) # size(H_0 + h_u)\n",
    "\n",
    "    def forward(self, h_0, A):\n",
    "        #body\n",
    "        x = self.Integrate.apply(self.int_f, self.f, h_0, self.t0, self.t1, self.N, self.net_params, A)\n",
    "        \n",
    "        #tail\n",
    "        sim_matrix = self.tail(x, h_0)\n",
    "        return sim_matrix"
   ]
  }
 ],
 "metadata": {
  "kernelspec": {
   "display_name": "Python 3",
   "language": "python",
   "name": "python3"
  },
  "language_info": {
   "codemirror_mode": {
    "name": "ipython",
    "version": 3
   },
   "file_extension": ".py",
   "mimetype": "text/x-python",
   "name": "python",
   "nbconvert_exporter": "python",
   "pygments_lexer": "ipython3",
   "version": "3.8.5"
  }
 },
 "nbformat": 4,
 "nbformat_minor": 4
}
