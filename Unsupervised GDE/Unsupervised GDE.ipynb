{
 "cells": [
  {
   "cell_type": "code",
   "execution_count": 1,
   "metadata": {},
   "outputs": [],
   "source": [
    "import os,sys,inspect\n",
    "current_dir = os.path.dirname(os.path.abspath(inspect.getfile(inspect.currentframe())))\n",
    "parent_dir = os.path.dirname(current_dir)\n",
    "sys.path.insert(1, parent_dir+'\\Covariance and Adjacency Matrix')\n",
    "from DataManager import dataManager"
   ]
  },
  {
   "cell_type": "code",
   "execution_count": 2,
   "metadata": {},
   "outputs": [
    {
     "name": "stdout",
     "output_type": "stream",
     "text": [
      "name: X_test\n",
      "shape: (640, 31, 1518)\n",
      "-----------------------\n",
      "name: X_train\n",
      "shape: (640, 31, 1395)\n",
      "-----------------------\n",
      "name: clip_sizes_test\n",
      "shape: (2, 129)\n",
      "-----------------------\n",
      "name: clip_sizes_train\n",
      "shape: (2, 127)\n",
      "-----------------------\n",
      "name: conv_sizes\n",
      "shape: (1, 1)\n",
      "-----------------------\n",
      "name: n_pre_szr\n",
      "shape: (1, 1)\n",
      "-----------------------\n",
      "name: sel_win_nums_test\n",
      "shape: (1, 1518)\n",
      "-----------------------\n",
      "name: sel_win_nums_train\n",
      "shape: (1, 1395)\n",
      "-----------------------\n",
      "name: soz_ch_ids\n",
      "shape: (5, 1)\n",
      "-----------------------\n",
      "name: stride_sec\n",
      "shape: (1, 1)\n",
      "-----------------------\n",
      "name: window_size_sec\n",
      "shape: (1, 1)\n",
      "-----------------------\n",
      "name: y_test\n",
      "shape: (1, 1518)\n",
      "-----------------------\n",
      "name: y_train\n",
      "shape: (1, 1395)\n",
      "-----------------------\n"
     ]
    },
    {
     "data": {
      "text/plain": [
       "[<matplotlib.lines.Line2D at 0x25e9aaf9580>]"
      ]
     },
     "execution_count": 2,
     "metadata": {},
     "output_type": "execute_result"
    },
    {
     "data": {
      "image/png": "[encoded data removed]",
      "text/plain": [
       "<Figure size 432x288 with 1 Axes>"
      ]
     },
     "metadata": {
      "needs_background": "light"
     },
     "output_type": "display_data"
    }
   ],
   "source": [
    "import h5py\n",
    "import numpy as np\n",
    "filepath = parent_dir+'\\datasets\\sample_patients\\pat_FR_620.mat'\n",
    "variables = {}\n",
    "f = h5py.File(filepath, 'r')\n",
    "for k, v in f.items():\n",
    "    variables[k] = np.array(v)\n",
    "for key in variables.keys():\n",
    "    print(\"name:\", key)\n",
    "    print(\"shape:\", variables[key].shape)\n",
    "    print(\"-----------------------\")\n",
    "#print sample EGG signal from one node\n",
    "import matplotlib.pyplot as plt\n",
    "\n",
    "plt.figure()\n",
    "ax = plt.axes()\n",
    "X_train = variables[\"X_train\"]\n",
    "X_test = variables[\"X_test\"]\n",
    "\n",
    "ax.plot(np.linspace(0, 10, 640), X_train[:,5,0])"
   ]
  },
  {
   "cell_type": "code",
   "execution_count": 3,
   "metadata": {},
   "outputs": [],
   "source": [
    "def shuffle_train_test(variables, train_ratio = 0.7, indices = None, print_summary = True):\n",
    "    data_all = np.concatenate((variables[\"X_train\"], variables[\"X_test\"]), axis = 2)\n",
    "    labels_all = np.concatenate((variables[\"y_train\"], variables[\"y_test\"]), axis = 1)\n",
    "    #if indices == None:\n",
    "    #    indices = np.random.permutation(data_all.shape[2])\n",
    "    split_ind = int(train_ratio * data_all.shape[2])\n",
    "    training_idx, test_idx = indices[:split_ind], indices[split_ind:]\n",
    "    #print(split_ind, training_idx.shape)\n",
    "    variables[\"X_train\"], variables[\"X_test\"] = data_all[:,:,training_idx], data_all[:,:,test_idx]\n",
    "    variables[\"y_train\"], variables[\"y_test\"] = labels_all[:,training_idx], labels_all[:,test_idx]\n",
    "    if print_summary:\n",
    "        print(\"X_train:\", variables[\"X_train\"].shape)\n",
    "        print(\"X_test:\", variables[\"X_test\"].shape)\n",
    "        print(\"y_train:\", variables[\"y_train\"].shape, \"Positive labes:\", np.sum(variables[\"y_train\"]))\n",
    "        print(\"y_test:\", variables[\"y_test\"].shape, \"Positive labes:\",np.sum(variables[\"y_test\"]))\n",
    "    return variables, indices"
   ]
  },
  {
   "cell_type": "code",
   "execution_count": 4,
   "metadata": {},
   "outputs": [
    {
     "name": "stdout",
     "output_type": "stream",
     "text": [
      "X_train: (640, 31, 1456)\n",
      "X_test: (640, 31, 1457)\n",
      "y_train: (1, 1456) Positive labes: 159.0\n",
      "y_test: (1, 1457) Positive labes: 162.0\n"
     ]
    }
   ],
   "source": [
    "indices = np.load(\"shuffle5050.npy\")\n",
    "variables, indices = shuffle_train_test(variables, indices = indices, train_ratio = 0.5, print_summary = True)"
   ]
  },
  {
   "cell_type": "code",
   "execution_count": 5,
   "metadata": {},
   "outputs": [
    {
     "name": "stdout",
     "output_type": "stream",
     "text": [
      "--------data manager successfully initialized--------\n"
     ]
    }
   ],
   "source": [
    "dm = dataManager(variables[\"X_train\"],variables[\"X_test\"],variables[\"y_train\"],variables[\"y_test\"],10**(-4))\n",
    "#dm.normalize()\n",
    "#dm.sanity_check(4.514*10**-1, -10**-3, parent_dir)"
   ]
  },
  {
   "cell_type": "markdown",
   "metadata": {},
   "source": [
    "## create normalized adjacency matrix \n"
   ]
  },
  {
   "cell_type": "code",
   "execution_count": 6,
   "metadata": {},
   "outputs": [],
   "source": [
    "import matplotlib.pyplot as plt\n",
    "from scipy.linalg import fractional_matrix_power\n",
    "def show_heat_map(m):\n",
    "    plt.imshow(m, cmap='hot', interpolation='nearest')\n",
    "    plt.colorbar()\n",
    "    plt.show()\n",
    "    \n",
    "    \n",
    "def create_DAD(adj):\n",
    "    np.fill_diagonal(adj, 1)\n",
    "    rowsum = np.sum(adj, axis=1)\n",
    "    d = np.diag_indices(adj.shape[0]) \n",
    "    D = np.zeros(adj.shape)\n",
    "    D[d] = rowsum\n",
    "    #print(rowsum)\n",
    "    D = fractional_matrix_power(D, -0.5)\n",
    "    #print(D)\n",
    "    return D@adj@D"
   ]
  },
  {
   "cell_type": "code",
   "execution_count": 7,
   "metadata": {},
   "outputs": [
    {
     "data": {
      "image/png": "[encoded data removed]",
      "text/plain": [
       "<Figure size 432x288 with 2 Axes>"
      ]
     },
     "metadata": {
      "needs_background": "light"
     },
     "output_type": "display_data"
    },
    {
     "data": {
      "image/png": "[encoded data removed]",
      "text/plain": [
       "<Figure size 432x288 with 2 Axes>"
      ]
     },
     "metadata": {
      "needs_background": "light"
     },
     "output_type": "display_data"
    },
    {
     "data": {
      "image/png": "[encoded data removed]",
      "text/plain": [
       "<Figure size 432x288 with 2 Axes>"
      ]
     },
     "metadata": {
      "needs_background": "light"
     },
     "output_type": "display_data"
    }
   ],
   "source": [
    "show_heat_map(dm.P_avg_train)\n",
    "#create DAD from dm\n",
    "n = 1*10**-3\n",
    "dm.re_threshold(n)\n",
    "show_heat_map(dm.A_train)\n",
    "show_heat_map(create_DAD(dm.A_train))\n",
    "Araw = dm.A_train"
   ]
  },
  {
   "cell_type": "markdown",
   "metadata": {},
   "source": [
    "## Modified GDE Class"
   ]
  },
  {
   "cell_type": "code",
   "execution_count": 8,
   "metadata": {},
   "outputs": [],
   "source": [
    "# solvers.\n",
    "\n",
    "\"\"\"\n",
    "General Runge-Kutta Solver.\n",
    "https://en.wikipedia.org/wiki/Runge–Kutta_methods\n",
    "\n",
    "b_tableau, nested tuple, contains weights of integration. \n",
    "f, function, is the function to iterate. Should only be a function of x, t. \n",
    "x0, torch.Tensor, is the intial condition.\n",
    "t0, torch.Tensor, is the start time of integration.\n",
    "t1, torch.Tensor, is the end time of integration.\n",
    "N, int, is the desired number of timesteps.\n",
    "\n",
    "returns x, torch.Tensor, estimated solution of dy/dx = f(x,t) at time t1. \n",
    "\"\"\"\n",
    "\n",
    "def explicit_RK(b_tableau, f, x0, t0, t1, N):        \n",
    "    h = (t1 - t0) / float(N) # calculate step size\n",
    "    x = x0 # initialize saved dynamics\n",
    "    mesh = (t0 + h * i for i in range(N)) # generator of time values\n",
    "    for time in mesh:\n",
    "        \n",
    "        k = [f(x, time + h*b_tableau[0][0])] # Covers the first row of the Butcher tableau. \n",
    "        for i, row in enumerate(b_tableau[1:-1]): # Covers the middle rows of the Butcher tableau.\n",
    "            k.append(f(x + sum(w * k[idx] * h for idx, w in enumerate(row[1:])), time + row[0] * h)) # calculate k's. \n",
    "        x = x + sum(w * k_i * h for k_i, w in zip(k, b_tableau[-1])) # calculate timestep \n",
    "    return x\n",
    "\n",
    "'''\n",
    "map everything out:\n",
    "'y' here is H(t) = H(t-1) + (DAD dot H(t-1) dot W)\n",
    "'''\n",
    "RK4 = ((  0,),\n",
    "       (1/2, 1/2,),\n",
    "       (1/2,   0,  1/2,),\n",
    "       (  1,   0,    0,   1,),\n",
    "       (1/6, 1/3, 1/3, 1/6,))\n",
    "\n",
    "EF = ((0,),\n",
    "      (1,))"
   ]
  },
  {
   "cell_type": "code",
   "execution_count": 9,
   "metadata": {},
   "outputs": [],
   "source": [
    "import torch\n",
    "import torchvision\n",
    "import torch.nn as nn\n",
    "import torch.nn.functional as F\n",
    "from torch.autograd.functional import vjp\n",
    "import time"
   ]
  },
  {
   "cell_type": "code",
   "execution_count": null,
   "metadata": {},
   "outputs": [],
   "source": []
  },
  {
   "cell_type": "code",
   "execution_count": 10,
   "metadata": {},
   "outputs": [],
   "source": [
    "# GCN Block for body layers\n",
    "class Block(nn.Module):\n",
    "    def __init__(self, A, features, activation, num_layers):\n",
    "        super(Block, self).__init__()\n",
    "        self.features = features\n",
    "        self.activation = activation\n",
    "        self.num_layers = num_layers\n",
    "        self.A = A\n",
    "\n",
    "    def forward(self, x, t, net_params):\n",
    "        weights = net_params.view(self.num_layers, self.features, self.features)\n",
    "        \n",
    "        x = x.view(-1, self.A.size(1), self.features)\n",
    "        for i in range(self.num_layers):\n",
    "            x = self.A.matmul(x).matmul(weights[i,:,:])\n",
    "            x = self.activation(x)\n",
    "\n",
    "        return x\n",
    "\n",
    "    def num_params(self):\n",
    "        return self.features * self.features * self.num_layers"
   ]
  },
  {
   "cell_type": "code",
   "execution_count": 11,
   "metadata": {},
   "outputs": [],
   "source": [
    "# Convenience tuple -> tensor function\n",
    "def flatten(*args):\n",
    "    return(torch.cat(tuple(torch.flatten(arg) for arg in args), dim=0).view(1,-1))\n",
    "\n",
    "# Convenience tensor -> tuple function\n",
    "def unflatten(x, n_e, sizes):\n",
    "    return (x[0, 0:n_e[0]].view(sizes[0]),\n",
    "            x[0, n_e[0]:n_e[0] + n_e[1]].view(sizes[1]),\n",
    "            x[0, (n_e[0] + n_e[1]):(n_e[0] + n_e[1] + n_e[2])].view(sizes[2]),\n",
    "            x[0, (n_e[0] + n_e[1] + n_e[2]):].view(sizes[3]),\n",
    "            )\n",
    "\n",
    "class Integrate(torch.autograd.Function):\n",
    "    def __deepcopy__(self, memo):\n",
    "        return Integrate(copy.deepcopy(memo))\n",
    "    \n",
    "    @staticmethod\n",
    "    def forward(ctx, Integrator, f, x0, t0, t1, N, net_params):\n",
    "        solution = Integrator(EF, lambda x, t: f(x, t, net_params), x0, t0, t1, N)\n",
    "\n",
    "        # Save for jacobian calculations in backward()\n",
    "        ctx.save_for_backward(x0,t0,t1,net_params)\n",
    "        ctx.solution = solution\n",
    "        ctx.Integrator = Integrator\n",
    "        ctx.N = N\n",
    "        ctx.f = f\n",
    "        \n",
    "        return solution\n",
    "    \n",
    "    @staticmethod\n",
    "    def backward(ctx, dL_dz1):\n",
    "        # Get all saved context\n",
    "        z0, t0, t1, net_params = ctx.saved_tensors\n",
    "        z1 = ctx.solution\n",
    "        N = ctx.N\n",
    "        f = ctx.f\n",
    "        \n",
    "        # Convenience sizes\n",
    "        batch_size = z0.size()[0]\n",
    "        img_len = int(z0.numel() / batch_size)\n",
    "\n",
    "        #print(dL_dz1.shape)\n",
    "        # Compute derivative w.r.t. to end time of integration\n",
    "        dL_dt1 = dL_dz1.reshape(batch_size,1,-1).bmm(f(z1, t1, net_params).reshape(batch_size,-1,1))  # Derivative of loss w.r.t t1\n",
    "        \n",
    "        #print(\"dL_dt1\", dL_dt1)\n",
    "        \n",
    "        # Initial Condition\n",
    "        num_elements = (z1.numel(), dL_dz1.numel(), batch_size * net_params.numel(), dL_dt1.numel())\n",
    "        sizes = (z1.size(), dL_dz1.size(), (batch_size, net_params.numel()), dL_dt1.size())\n",
    "        s0 = flatten(z1, dL_dz1, torch.zeros((batch_size, net_params.numel()), dtype=torch.float32, device=z1.device), -dL_dt1) # initial augmented state\n",
    "    \n",
    "        # augmented dynamics function\n",
    "        def aug_dynamics(s, t, theta):\n",
    "            s = unflatten(s, num_elements, sizes)\n",
    "            \n",
    "            with torch.enable_grad(): \n",
    "#                 gradients = [vjp(f, \n",
    "#                                  (s[0][i].unsqueeze(0), t, theta), \n",
    "#                                   v=-s[1][i].unsqueeze(0),\n",
    "#                                  )[1] for i in range(batch_size)]\n",
    "                gradients = vjp(f, \n",
    "                                 (s[0], t, theta), \n",
    "                                  v=-s[1],\n",
    "                                 )[1]\n",
    "                \n",
    "            return flatten(f(s[0],t,theta),\n",
    "                    torch.cat([gradients[0]], dim=0), \n",
    "                    torch.cat([gradients[2].unsqueeze(0) for i in range(batch_size)], dim=0), \n",
    "                    torch.cat([gradients[1].reshape(1,1) for i in range(batch_size)], dim=0),\n",
    "                   )#.unsqueeze(2)\n",
    "#             return flatten(f(s[0],t,theta),\n",
    "#                     torch.cat([gradient[0] for gradient in gradients], dim=0), \n",
    "#                     torch.cat([gradient[2].unsqueeze(0) for gradient in gradients], dim=0), \n",
    "#                     torch.cat([gradient[1].reshape(1,1) for gradient in gradients], dim=0),\n",
    "#                    )#.unsqueeze(2)\n",
    "\n",
    "        # Integrate backwards\n",
    "        with torch.enable_grad():\n",
    "            s = ctx.Integrator(EF, lambda x, t: aug_dynamics(x, t, net_params), s0, t1, t0, N)\n",
    "        \n",
    "        # Extract derivatives\n",
    "        _, dL_dz0, dL_dtheta, dL_dt0 = unflatten(s, num_elements, sizes)\n",
    "                \n",
    "        # must return something for every input to forward, None for non-tensors\n",
    "        return None, None, dL_dz0, dL_dt0, dL_dt1, None, dL_dtheta "
   ]
  },
  {
   "cell_type": "code",
   "execution_count": 12,
   "metadata": {},
   "outputs": [],
   "source": [
    "class SimularityMatrix(nn.Module):\n",
    "    def __init__(self, in_features):\n",
    "        super(SimularityMatrix, self).__init__()\n",
    "        self.in_features = in_features\n",
    "        \n",
    "        self.weight = nn.Parameter(torch.Tensor(in_features))\n",
    "        #self.weight = torch.squeeze(self.weight)\n",
    "        \n",
    "        self.reset_parameters()\n",
    "\n",
    "    def __repr__(self):\n",
    "        return self.__class__.__name__ + ' (' \\\n",
    "               + str(self.in_features) +')'\n",
    "    \n",
    "    def reset_parameters(self):\n",
    "        stdv = 1. / self.weight.size(0) ** 1/2\n",
    "        self.weight.data.uniform_(-stdv, stdv)\n",
    "    \n",
    "    #computes the simularity matrix:\n",
    "    # H, feature matrix --> N x D\n",
    "    # A, precomputed adj matrix --> NxN\n",
    "    # this method is pretty wack, need to find a vectorized way to do it.\n",
    "    def forward(self, H, H0):\n",
    "        #get hidden state (concate H0 and H)\n",
    "        Z = torch.cat((H0, H), 2)\n",
    "        M = Z.shape[0]\n",
    "        N = Z.shape[1]\n",
    "        D = Z.shape[2]\n",
    "        #centering normalize Z\n",
    "        Z = self.fcn(Z)\n",
    "        return self.get_sim_vectorized(Z)\n",
    "        \n",
    "    #simularity between node u and node v (shape Mx1xD)\n",
    "    #return the u,v index of the simularity matrix\n",
    "    def get_sim(self, u,v):\n",
    "        theta = torch.diag(self.weight)\n",
    "        #print(self.weight)\n",
    "        #print(u.shape, theta.shape, self.weight.shape, torch.transpose(v, 1, 2).shape)\n",
    "        return torch.squeeze(torch.matmul(torch.matmul(u, theta), torch.transpose(v, 1, 2)))\n",
    "        \n",
    "    def get_sim_vectorized(self, Z): # Z is M x N Sx 2D\n",
    "        theta = torch.diag(self.weight)\n",
    "        sim_matrix = torch.matmul(torch.matmul(Z, theta), torch.transpose(Z, 1, 2))\n",
    "        return sim_matrix\n",
    "        \n",
    "    #centering-normalizing (CN) operator\n",
    "    def fcn(self, Z):\n",
    "        norm_Z = (Z - torch.mean(Z, dim=2, keepdim=True))\n",
    "        return norm_Z/torch.std(Z, unbiased=True, dim=2, keepdim=True)\n",
    "        #(((1/(self.in_features-1)) * torch.sum(norm_Z**2, dim = 2, keepdim = True))**(1/2))"
   ]
  },
  {
   "cell_type": "code",
   "execution_count": 13,
   "metadata": {},
   "outputs": [],
   "source": [
    "class ODENet(nn.Module):\n",
    "    def __init__(self, solver, body_channels, hidden_layers, A, solver_params):\n",
    "        super(ODENet, self).__init__()\n",
    "        \n",
    "        # Graph Laplacian\n",
    "        self.A = A\n",
    "        \n",
    "        # Controls amount of parameters\n",
    "        self.body_channels = body_channels\n",
    "        self.f = Block(A, body_channels, F.relu, hidden_layers)\n",
    "        \n",
    "        # Head\n",
    "        #self.head = GCN(A, in_channels, body_channels)\n",
    "        \n",
    "        # Body\n",
    "        self.int_f = solver\n",
    "        self.Integrate = Integrate\n",
    "        self.solver_params = solver_params\n",
    "        self.N = solver_params[\"N\"]\n",
    "        self.h = (solver_params[\"t1\"] - solver_params[\"t0\"]) / solver_params[\"N\"]\n",
    "        self.t0 = torch.tensor(float(solver_params[\"t0\"]), requires_grad=True)\n",
    "        self.t1 = torch.tensor(float(solver_params[\"t1\"]), requires_grad=True)\n",
    "        \n",
    "        self.net_params = torch.nn.parameter.Parameter(torch.Tensor(self.f.num_params()).normal_(mean=0, std=0.1,generator=None), requires_grad=True)\n",
    "\n",
    "        # Tail\n",
    "        self.tail = SimularityMatrix(body_channels*2)\n",
    "    \n",
    "    def _apply(self, fn):\n",
    "        super(ODENet, self)._apply(fn)\n",
    "        self.t0 = fn(self.t0)\n",
    "        self.t1 = fn(self.t1)\n",
    "        return self\n",
    "    \n",
    "    def forward(self, h_0):\n",
    "        x = self.Integrate.apply(self.int_f, self.f, h_0, self.t0, self.t1, self.N, self.net_params) # Vanilla RK4\n",
    "        x = self.tail(x, h_0)\n",
    "        return x"
   ]
  },
  {
   "cell_type": "code",
   "execution_count": 14,
   "metadata": {},
   "outputs": [],
   "source": [
    "class sim_loss(torch.nn.Module):\n",
    "\n",
    "    def __init__(self):\n",
    "        super(sim_loss,self).__init__()\n",
    "\n",
    "    def forward(self, sim_matrix, A, epsilon = 1e-8):\n",
    "        A_tf = (A!=0)\n",
    "        M = sim_matrix.shape[0]\n",
    "        abs_N = torch.sum(A_tf, dim = 1, keepdim = True) # Nx1 matrix\n",
    "        \n",
    "        logexp_S = torch.log(torch.sum(torch.exp(sim_matrix), dim = 2, keepdim = True))\n",
    "        \n",
    "        \n",
    "        obj_vector = (torch.sum(A_tf*sim_matrix, dim = 2, keepdim = True) - abs_N * logexp_S)\n",
    "        return -(1/M)*torch.sum(obj_vector)"
   ]
  },
  {
   "cell_type": "code",
   "execution_count": 15,
   "metadata": {},
   "outputs": [],
   "source": [
    "#save & load checkpoint\n",
    "import shutil\n",
    "from torchsummary import summary\n",
    "from tqdm import tqdm\n",
    "def save_ckp(state, f_path):\n",
    "    torch.save(state, f_path)\n",
    "    print(\"model saved\")\n",
    "    \n",
    "def load_ckp(checkpoint_path):\n",
    "    checkpoint = torch.load(checkpoint_path)\n",
    "    return checkpoint\n",
    "\n",
    "# takes in numpy arrays\n",
    "def train_GDE(A, X_train, X_test, checkpoint, load = False, print_summary = True):\n",
    "    #preprocess inputs\n",
    "    A = torch.from_numpy(A).float()\n",
    "    X_train = torch.from_numpy(X_train).float()\n",
    "    X_test = torch.from_numpy(X_test).float()\n",
    "    device = torch.device('cuda') if torch.cuda.is_available() else torch.device('cpu')\n",
    "    parameters = checkpoint['parameters']\n",
    "    cumepoch = 0\n",
    "    A = A.to(device)\n",
    "    input_features = X_train.to(device)\n",
    "    valid_features = X_test.to(device)\n",
    "    \n",
    "    #(solver, body_channels, hidden_layers, A, solver_params)\n",
    "    #initialize model\n",
    "    model = ODENet(parameters['solver'], parameters['body'], parameters['hidden_layers'], A, parameters['solver_params']).to(device)\n",
    "    optimizer = torch.optim.Adam(model.parameters(), lr=parameters['learning_rate'], weight_decay=parameters['weight_decay'])\n",
    "    criterion = sim_loss()\n",
    "    \n",
    "    #load past checkpoint if any\n",
    "    if load:\n",
    "        model.load_state_dict(checkpoint['state_dict'])\n",
    "        optimizer.load_state_dict(checkpoint['optimizer'])\n",
    "        cumepoch = checkpoint['cumepoch']\n",
    "    \n",
    "    #print some model info\n",
    "    if print_summary:\n",
    "        print(model)\n",
    "        summary(model, [(31,640)])\n",
    "    \n",
    "    n_epochs = parameters['num_epochs']\n",
    "    batch_size = parameters['batch_size']\n",
    "\n",
    "    model.train()\n",
    "    for epoch in range(1, n_epochs+1):\n",
    "\n",
    "        permutation = torch.randperm(input_features.shape[0])\n",
    "\n",
    "        for i in tqdm(range(0,input_features.shape[0], batch_size)):\n",
    "            model.train()\n",
    "            optimizer.zero_grad()\n",
    "\n",
    "            indices = permutation[i:i+batch_size] if i+batch_size < input_features.shape[0] else permutation[i:] \n",
    "            batch_x= input_features[indices, :,:]\n",
    "            batch_v= valid_features[indices, :,:]\n",
    "\n",
    "            sim_matrix = model(batch_x).to(device)\n",
    "            train_loss = criterion(sim_matrix, A)\n",
    "            train_loss.backward()\n",
    "            optimizer.step()\n",
    "            \n",
    "            model.eval()\n",
    "            sim_matrix_valid = model(batch_v).to(device)\n",
    "            valid_loss = criterion(sim_matrix_valid, A)\n",
    "            \n",
    "            print(\"Epoch:\", epoch + cumepoch, \"  Batch:\", int((i/batch_size)+1),\"of size\",batch_size, \"  Train loss:\", float(train_loss), \"  Valid loss:\",float(valid_loss), end=\"\\r\")\n",
    "        print()\n",
    "    \n",
    "    checkpoint = {\n",
    "        'parameters': parameters,\n",
    "        'state_dict': model.state_dict(),\n",
    "        'optimizer': optimizer.state_dict(),\n",
    "        'cumepoch': n_epochs + cumepoch\n",
    "    }\n",
    "    \n",
    "    return model, checkpoint"
   ]
  },
  {
   "cell_type": "code",
   "execution_count": 16,
   "metadata": {},
   "outputs": [],
   "source": [
    "#create new model\n",
    "A = create_DAD(Araw)\n",
    "X_train = dm.X_train\n",
    "X_test = dm.X_test\n",
    "parameters = {\n",
    "    'body': dm.X_train.shape[2],\n",
    "    'solver': explicit_RK,\n",
    "    'solver_params': {\n",
    "    \"t0\": 0,\n",
    "    \"t1\": 0.25,\n",
    "    \"N\": 5\n",
    "     },\n",
    "    'hidden_layers': 2,\n",
    "    'M': dm.X_train.shape[0],\n",
    "    'batch_size': 128,\n",
    "    'num_epochs': 1,\n",
    "    'learning_rate': 1e-3,\n",
    "    'weight_decay': 5e-3\n",
    "}\n",
    "checkpoint = {'parameters': parameters}"
   ]
  },
  {
   "cell_type": "code",
   "execution_count": 17,
   "metadata": {},
   "outputs": [
    {
     "name": "stdout",
     "output_type": "stream",
     "text": [
      "ODENet(\n",
      "  (f): Block()\n",
      "  (tail): SimularityMatrix (1280)\n",
      ")\n"
     ]
    },
    {
     "name": "stderr",
     "output_type": "stream",
     "text": [
      "\r",
      "  0%|          | 0/12 [00:00<?, ?it/s]"
     ]
    },
    {
     "name": "stdout",
     "output_type": "stream",
     "text": [
      "----------------------------------------------------------------\n",
      "        Layer (type)               Output Shape         Param #\n",
      "================================================================\n",
      "             Block-1              [-1, 31, 640]               0\n",
      "             Block-2              [-1, 31, 640]               0\n",
      "             Block-3              [-1, 31, 640]               0\n",
      "             Block-4              [-1, 31, 640]               0\n",
      "             Block-5              [-1, 31, 640]               0\n",
      "  SimularityMatrix-6               [-1, 31, 31]           1,280\n",
      "================================================================\n",
      "Total params: 1,280\n",
      "Trainable params: 1,280\n",
      "Non-trainable params: 0\n",
      "----------------------------------------------------------------\n",
      "Input size (MB): 0.08\n",
      "Forward/backward pass size (MB): 0.76\n",
      "Params size (MB): 0.00\n",
      "Estimated Total Size (MB): 0.84\n",
      "----------------------------------------------------------------\n"
     ]
    },
    {
     "name": "stderr",
     "output_type": "stream",
     "text": [
      " 17%|█▋        | 2/12 [00:00<00:01,  5.76it/s]"
     ]
    },
    {
     "name": "stdout",
     "output_type": "stream",
     "text": [
      "Epoch: 1   Batch: 1 of size 128   Train loss: 388.14154052734375   Valid loss: 371.6006774902344\r",
      "Epoch: 1   Batch: 2 of size 128   Train loss: 371.7193603515625   Valid loss: 372.68359375\r"
     ]
    },
    {
     "name": "stderr",
     "output_type": "stream",
     "text": [
      " 33%|███▎      | 4/12 [00:00<00:01,  7.02it/s]"
     ]
    },
    {
     "name": "stdout",
     "output_type": "stream",
     "text": [
      "Epoch: 1   Batch: 3 of size 128   Train loss: 371.82574462890625   Valid loss: 371.9334716796875\r",
      "Epoch: 1   Batch: 4 of size 128   Train loss: 372.20465087890625   Valid loss: 363.23309326171875\r"
     ]
    },
    {
     "name": "stderr",
     "output_type": "stream",
     "text": [
      " 50%|█████     | 6/12 [00:00<00:00,  6.63it/s]"
     ]
    },
    {
     "name": "stdout",
     "output_type": "stream",
     "text": [
      "Epoch: 1   Batch: 5 of size 128   Train loss: 366.76104736328125   Valid loss: 356.82049560546875\r",
      "Epoch: 1   Batch: 6 of size 128   Train loss: 355.0340576171875   Valid loss: 347.24786376953125\r"
     ]
    },
    {
     "name": "stderr",
     "output_type": "stream",
     "text": [
      " 67%|██████▋   | 8/12 [00:01<00:00,  6.11it/s]"
     ]
    },
    {
     "name": "stdout",
     "output_type": "stream",
     "text": [
      "Epoch: 1   Batch: 7 of size 128   Train loss: 347.4086608886719   Valid loss: 342.6255798339844\r",
      "Epoch: 1   Batch: 8 of size 128   Train loss: 341.920654296875   Valid loss: 339.6080322265625\r"
     ]
    },
    {
     "name": "stderr",
     "output_type": "stream",
     "text": [
      " 83%|████████▎ | 10/12 [00:01<00:00,  5.94it/s]"
     ]
    },
    {
     "name": "stdout",
     "output_type": "stream",
     "text": [
      "Epoch: 1   Batch: 9 of size 128   Train loss: 337.753662109375   Valid loss: 333.3507995605469\r",
      "Epoch: 1   Batch: 10 of size 128   Train loss: 332.3055114746094   Valid loss: 322.0284423828125\r"
     ]
    },
    {
     "name": "stderr",
     "output_type": "stream",
     "text": [
      "100%|██████████| 12/12 [00:01<00:00,  6.88it/s]"
     ]
    },
    {
     "name": "stdout",
     "output_type": "stream",
     "text": [
      "Epoch: 1   Batch: 11 of size 128   Train loss: 323.3357238769531   Valid loss: 312.18072509765625\r",
      "Epoch: 1   Batch: 12 of size 128   Train loss: 307.5357971191406   Valid loss: 313.9716796875\r\n"
     ]
    },
    {
     "name": "stderr",
     "output_type": "stream",
     "text": [
      "\n"
     ]
    }
   ],
   "source": [
    "torch.cuda.empty_cache()\n",
    "model, checkpoint = train_GDE(A, X_train, X_test, checkpoint, load = False, print_summary = True)"
   ]
  },
  {
   "cell_type": "code",
   "execution_count": 18,
   "metadata": {},
   "outputs": [
    {
     "name": "stdout",
     "output_type": "stream",
     "text": [
      "model saved\n"
     ]
    }
   ],
   "source": [
    "save_ckp(checkpoint, \"models/model1.pt\")"
   ]
  },
  {
   "cell_type": "markdown",
   "metadata": {},
   "source": [
    "### some visualization "
   ]
  },
  {
   "cell_type": "code",
   "execution_count": 18,
   "metadata": {},
   "outputs": [],
   "source": [
    "model.eval()\n",
    "test_pred = model(torch.from_numpy(X_train[:128, :,:]).float().to('cuda')).cpu().detach().numpy()"
   ]
  },
  {
   "cell_type": "code",
   "execution_count": 19,
   "metadata": {},
   "outputs": [
    {
     "name": "stdout",
     "output_type": "stream",
     "text": [
      "sample, 0   label, 0.0\n"
     ]
    },
    {
     "data": {
      "image/png": "[encoded data removed]",
      "text/plain": [
       "<Figure size 432x288 with 2 Axes>"
      ]
     },
     "metadata": {
      "needs_background": "light"
     },
     "output_type": "display_data"
    },
    {
     "name": "stdout",
     "output_type": "stream",
     "text": [
      "sample, 1   label, 0.0\n"
     ]
    },
    {
     "data": {
      "image/png": "[encoded data removed]",
      "text/plain": [
       "<Figure size 432x288 with 2 Axes>"
      ]
     },
     "metadata": {
      "needs_background": "light"
     },
     "output_type": "display_data"
    },
    {
     "name": "stdout",
     "output_type": "stream",
     "text": [
      "sample, 2   label, 0.0\n"
     ]
    },
    {
     "data": {
      "image/png": "[encoded data removed]",
      "text/plain": [
       "<Figure size 432x288 with 2 Axes>"
      ]
     },
     "metadata": {
      "needs_background": "light"
     },
     "output_type": "display_data"
    },
    {
     "name": "stdout",
     "output_type": "stream",
     "text": [
      "sample, 3   label, 0.0\n"
     ]
    },
    {
     "data": {
      "image/png": "[encoded data removed]",
      "text/plain": [
       "<Figure size 432x288 with 2 Axes>"
      ]
     },
     "metadata": {
      "needs_background": "light"
     },
     "output_type": "display_data"
    },
    {
     "name": "stdout",
     "output_type": "stream",
     "text": [
      "sample, 4   label, 1.0\n"
     ]
    },
    {
     "data": {
      "image/png": "[encoded data removed]",
      "text/plain": [
       "<Figure size 432x288 with 2 Axes>"
      ]
     },
     "metadata": {
      "needs_background": "light"
     },
     "output_type": "display_data"
    },
    {
     "name": "stdout",
     "output_type": "stream",
     "text": [
      "sample, 5   label, 0.0\n"
     ]
    },
    {
     "data": {
      "image/png": "[encoded data removed]",
      "text/plain": [
       "<Figure size 432x288 with 2 Axes>"
      ]
     },
     "metadata": {
      "needs_background": "light"
     },
     "output_type": "display_data"
    },
    {
     "name": "stdout",
     "output_type": "stream",
     "text": [
      "sample, 6   label, 0.0\n"
     ]
    },
    {
     "data": {
      "image/png": "[encoded data removed]",
      "text/plain": [
       "<Figure size 432x288 with 2 Axes>"
      ]
     },
     "metadata": {
      "needs_background": "light"
     },
     "output_type": "display_data"
    },
    {
     "name": "stdout",
     "output_type": "stream",
     "text": [
      "sample, 7   label, 0.0\n"
     ]
    },
    {
     "data": {
      "image/png": "[encoded data removed]",
      "text/plain": [
       "<Figure size 432x288 with 2 Axes>"
      ]
     },
     "metadata": {
      "needs_background": "light"
     },
     "output_type": "display_data"
    },
    {
     "name": "stdout",
     "output_type": "stream",
     "text": [
      "sample, 8   label, 0.0\n"
     ]
    },
    {
     "data": {
      "image/png": "[encoded data removed]",
      "text/plain": [
       "<Figure size 432x288 with 2 Axes>"
      ]
     },
     "metadata": {
      "needs_background": "light"
     },
     "output_type": "display_data"
    },
    {
     "name": "stdout",
     "output_type": "stream",
     "text": [
      "sample, 9   label, 1.0\n"
     ]
    },
    {
     "data": {
      "image/png": "[encoded data removed]",
      "text/plain": [
       "<Figure size 432x288 with 2 Axes>"
      ]
     },
     "metadata": {
      "needs_background": "light"
     },
     "output_type": "display_data"
    },
    {
     "name": "stdout",
     "output_type": "stream",
     "text": [
      "sample, 10   label, 0.0\n"
     ]
    },
    {
     "data": {
      "image/png": "[encoded data removed]",
      "text/plain": [
       "<Figure size 432x288 with 2 Axes>"
      ]
     },
     "metadata": {
      "needs_background": "light"
     },
     "output_type": "display_data"
    },
    {
     "name": "stdout",
     "output_type": "stream",
     "text": [
      "sample, 11   label, 0.0\n"
     ]
    },
    {
     "data": {
      "image/png": "[encoded data removed]",
      "text/plain": [
       "<Figure size 432x288 with 2 Axes>"
      ]
     },
     "metadata": {
      "needs_background": "light"
     },
     "output_type": "display_data"
    },
    {
     "name": "stdout",
     "output_type": "stream",
     "text": [
      "sample, 12   label, 0.0\n"
     ]
    },
    {
     "data": {
      "image/png": "[encoded data removed]",
      "text/plain": [
       "<Figure size 432x288 with 2 Axes>"
      ]
     },
     "metadata": {
      "needs_background": "light"
     },
     "output_type": "display_data"
    },
    {
     "name": "stdout",
     "output_type": "stream",
     "text": [
      "sample, 13   label, 0.0\n"
     ]
    },
    {
     "data": {
      "image/png": "[encoded data removed]",
      "text/plain": [
       "<Figure size 432x288 with 2 Axes>"
      ]
     },
     "metadata": {
      "needs_background": "light"
     },
     "output_type": "display_data"
    },
    {
     "name": "stdout",
     "output_type": "stream",
     "text": [
      "sample, 14   label, 0.0\n"
     ]
    },
    {
     "data": {
      "image/png": "[encoded data removed]",
      "text/plain": [
       "<Figure size 432x288 with 2 Axes>"
      ]
     },
     "metadata": {
      "needs_background": "light"
     },
     "output_type": "display_data"
    }
   ],
   "source": [
    "for i in range(15):\n",
    "    print(\"sample,\", i, \"  label,\", dm.Y_train[i,0])\n",
    "    show_heat_map(test_pred[i,:,:])\n"
   ]
  },
  {
   "cell_type": "markdown",
   "metadata": {},
   "source": [
    "## quickly try MLP "
   ]
  },
  {
   "cell_type": "code",
   "execution_count": 20,
   "metadata": {},
   "outputs": [],
   "source": [
    "sys.path.insert(1, parent_dir+r'\\Supervised MLP')\n",
    "from MLP import *"
   ]
  },
  {
   "cell_type": "code",
   "execution_count": 21,
   "metadata": {},
   "outputs": [
    {
     "data": {
      "text/plain": [
       "ODENet(\n",
       "  (f): Block()\n",
       "  (tail): SimularityMatrix (1280)\n",
       ")"
      ]
     },
     "execution_count": 21,
     "metadata": {},
     "output_type": "execute_result"
    }
   ],
   "source": [
    "model.eval()"
   ]
  },
  {
   "cell_type": "code",
   "execution_count": 22,
   "metadata": {},
   "outputs": [],
   "source": [
    "sim_train = model(torch.from_numpy(X_train).float().to('cuda')).cpu().detach().numpy()\n",
    "sim_test = model(torch.from_numpy(X_test).float().to('cuda')).cpu().detach().numpy()"
   ]
  },
  {
   "cell_type": "code",
   "execution_count": 23,
   "metadata": {},
   "outputs": [
    {
     "name": "stdout",
     "output_type": "stream",
     "text": [
      "(1434, 31, 31) (1440, 31, 31)\n"
     ]
    }
   ],
   "source": [
    "print(sim_train.shape, sim_test.shape)"
   ]
  },
  {
   "cell_type": "code",
   "execution_count": 24,
   "metadata": {},
   "outputs": [
    {
     "name": "stdout",
     "output_type": "stream",
     "text": [
      "average ictal\n"
     ]
    },
    {
     "data": {
      "image/png": "[encoded data removed]",
      "text/plain": [
       "<Figure size 432x288 with 2 Axes>"
      ]
     },
     "metadata": {
      "needs_background": "light"
     },
     "output_type": "display_data"
    },
    {
     "name": "stdout",
     "output_type": "stream",
     "text": [
      "average normal\n"
     ]
    },
    {
     "data": {
      "image/png": "[encoded data removed]",
      "text/plain": [
       "<Figure size 432x288 with 2 Axes>"
      ]
     },
     "metadata": {
      "needs_background": "light"
     },
     "output_type": "display_data"
    }
   ],
   "source": [
    "ictal_sum = np.zeros(sim_train[0][:,:].shape)\n",
    "normal_sum = np.zeros(sim_train[0][:,:].shape)\n",
    "tc = 0\n",
    "ni = 0\n",
    "nn = 0\n",
    "for i in range(sim_train.shape[0]):\n",
    "        if dm.Y_train[tc,0] == 1:\n",
    "            ictal_sum = ictal_sum + sim_train[i,:,:]\n",
    "            ni+=1\n",
    "        else:\n",
    "            normal_sum = normal_sum + sim_train[i,:,:]\n",
    "            nn+=1\n",
    "        tc+=1\n",
    "ictal_sum = ictal_sum / ni\n",
    "normal_sum = normal_sum / nn\n",
    "print(\"average ictal\")\n",
    "show_heat_map(ictal_sum)\n",
    "print(\"average normal\")\n",
    "show_heat_map(normal_sum)"
   ]
  },
  {
   "cell_type": "code",
   "execution_count": 25,
   "metadata": {},
   "outputs": [
    {
     "name": "stdout",
     "output_type": "stream",
     "text": [
      "{'n_layers': 2, 'layer_size_factor': [1, 1], 'dropout': [0.5, 0.3], 'batch_size': 128, 'num_epochs': 900, 'learning_rate': 0.0006, 'weight_decay': 0.005, 'betas': (0.9, 0.999), 'eps': 1e-08}\n"
     ]
    }
   ],
   "source": [
    "MLPparameters = {\n",
    "    'n_layers':2,\n",
    "    'layer_size_factor':[1, 1], \n",
    "    'dropout':[0.5, 0.3],\n",
    "    'batch_size': 128,\n",
    "    'num_epochs': 900,\n",
    "    'learning_rate': 6e-4,\n",
    "    'weight_decay': 5e-3,\n",
    "    'betas': (0.9, 0.999), \n",
    "    'eps': 1e-08\n",
    "}\n",
    "print(MLPparameters)"
   ]
  },
  {
   "cell_type": "code",
   "execution_count": 26,
   "metadata": {},
   "outputs": [
    {
     "name": "stdout",
     "output_type": "stream",
     "text": [
      "MLP(\n",
      "  (layers): ModuleList(\n",
      "    (0): Dropout(p=0.5, inplace=False)\n",
      "    (1): Linear(in_features=496, out_features=496, bias=True)\n",
      "    (2): ReLU()\n",
      "    (3): Dropout(p=0.3, inplace=False)\n",
      "    (4): Linear(in_features=496, out_features=1, bias=True)\n",
      "    (5): Sigmoid()\n",
      "  )\n",
      ")\n",
      "----------------------------------------------------------------\n",
      "        Layer (type)               Output Shape         Param #\n",
      "================================================================\n",
      "           Dropout-1                  [-1, 496]               0\n",
      "            Linear-2                  [-1, 496]         246,512\n",
      "              ReLU-3                  [-1, 496]               0\n",
      "           Dropout-4                  [-1, 496]               0\n",
      "            Linear-5                    [-1, 1]             497\n",
      "           Sigmoid-6                    [-1, 1]               0\n",
      "================================================================\n",
      "Total params: 247,009\n",
      "Trainable params: 247,009\n",
      "Non-trainable params: 0\n",
      "----------------------------------------------------------------\n",
      "Input size (MB): 0.00\n",
      "Forward/backward pass size (MB): 0.02\n",
      "Params size (MB): 0.94\n",
      "Estimated Total Size (MB): 0.96\n",
      "----------------------------------------------------------------\n",
      "Epoch: 1   Train loss: 0.4602   Train accuracy: 0.015   Val loss: 0.3501   Val accuracy: 0.278    weighted Val loss: 0.3501\n",
      "0.278 ----------saved-----------\n",
      "Epoch: 2   Train loss: 0.3499   Train accuracy: 0.0   Val loss: 0.3415   Val accuracy: 0.305    weighted Val loss: 0.3501\n",
      "0.305 ----------saved-----------\n",
      "Epoch: 3   Train loss: 0.3369   Train accuracy: 0.0   Val loss: 0.3242   Val accuracy: 0.375    weighted Val loss: 0.3501\n",
      "0.375 ----------saved-----------\n",
      "Epoch: 4   Train loss: 0.3021   Train accuracy: 0.0   Val loss: 0.3133   Val accuracy: 0.394    weighted Val loss: 0.35\n",
      "0.394 ----------saved-----------\n",
      "Epoch: 5   Train loss: 0.2954   Train accuracy: 0.011   Val loss: 0.3013   Val accuracy: 0.417    weighted Val loss: 0.3499\n",
      "0.417 ----------saved-----------\n",
      "Epoch: 6   Train loss: 0.2824   Train accuracy: 0.077   Val loss: 0.2917   Val accuracy: 0.411    weighted Val loss: 0.3498\n",
      "Epoch: 7   Train loss: 0.2862   Train accuracy: 0.135   Val loss: 0.2918   Val accuracy: 0.425    weighted Val loss: 0.3497\n",
      "0.425 ----------saved-----------\n",
      "Epoch: 8   Train loss: 0.2649   Train accuracy: 0.234   Val loss: 0.28   Val accuracy: 0.44    weighted Val loss: 0.3495\n",
      "0.44 ----------saved-----------\n",
      "Epoch: 9   Train loss: 0.2574   Train accuracy: 0.215   Val loss: 0.2698   Val accuracy: 0.45    weighted Val loss: 0.3494\n",
      "0.45 ----------saved-----------\n",
      "Epoch: 10   Train loss: 0.2581   Train accuracy: 0.209   Val loss: 0.2634   Val accuracy: 0.481    weighted Val loss: 0.3492\n",
      "0.481 ----------saved-----------\n",
      "Epoch: 11   Train loss: 0.2432   Train accuracy: 0.251   Val loss: 0.269   Val accuracy: 0.476    weighted Val loss: 0.349\n",
      "Epoch: 12   Train loss: 0.2442   Train accuracy: 0.286   Val loss: 0.2708   Val accuracy: 0.466    weighted Val loss: 0.3489\n",
      "Epoch: 13   Train loss: 0.262   Train accuracy: 0.37   Val loss: 0.2594   Val accuracy: 0.504    weighted Val loss: 0.3487\n",
      "0.504 ----------saved-----------\n",
      "Epoch: 14   Train loss: 0.2361   Train accuracy: 0.334   Val loss: 0.2681   Val accuracy: 0.48    weighted Val loss: 0.3485\n",
      "Epoch: 15   Train loss: 0.266   Train accuracy: 0.306   Val loss: 0.2628   Val accuracy: 0.503    weighted Val loss: 0.3484\n",
      "Epoch: 16   Train loss: 0.2524   Train accuracy: 0.369   Val loss: 0.2736   Val accuracy: 0.473    weighted Val loss: 0.3482\n",
      "Epoch: 17   Train loss: 0.2484   Train accuracy: 0.382   Val loss: 0.2641   Val accuracy: 0.468    weighted Val loss: 0.348\n",
      "Epoch: 18   Train loss: 0.229   Train accuracy: 0.431   Val loss: 0.2658   Val accuracy: 0.488    weighted Val loss: 0.3479\n",
      "Epoch: 19   Train loss: 0.2524   Train accuracy: 0.391   Val loss: 0.2507   Val accuracy: 0.5    weighted Val loss: 0.3477\n",
      "Epoch: 20   Train loss: 0.2123   Train accuracy: 0.418   Val loss: 0.2917   Val accuracy: 0.476    weighted Val loss: 0.3476\n",
      "Epoch: 21   Train loss: 0.2374   Train accuracy: 0.417   Val loss: 0.2527   Val accuracy: 0.536    weighted Val loss: 0.3474\n",
      "0.536 ----------saved-----------\n",
      "Epoch: 22   Train loss: 0.2224   Train accuracy: 0.37   Val loss: 0.2439   Val accuracy: 0.527    weighted Val loss: 0.3472\n",
      "Epoch: 23   Train loss: 0.2124   Train accuracy: 0.496   Val loss: 0.2452   Val accuracy: 0.521    weighted Val loss: 0.347\n",
      "Epoch: 24   Train loss: 0.2065   Train accuracy: 0.482   Val loss: 0.2419   Val accuracy: 0.538    weighted Val loss: 0.3468\n",
      "0.538 ----------saved-----------\n",
      "Epoch: 25   Train loss: 0.2103   Train accuracy: 0.429   Val loss: 0.2423   Val accuracy: 0.527    weighted Val loss: 0.3465\n",
      "Epoch: 26   Train loss: 0.2016   Train accuracy: 0.431   Val loss: 0.2567   Val accuracy: 0.514    weighted Val loss: 0.3464\n",
      "Epoch: 27   Train loss: 0.2037   Train accuracy: 0.471   Val loss: 0.2374   Val accuracy: 0.53    weighted Val loss: 0.3461\n"
     ]
    },
    {
     "name": "stderr",
     "output_type": "stream",
     "text": [
      "C:\\Users\\caixu\\anaconda3\\lib\\site-packages\\sklearn\\metrics\\_classification.py:1464: UndefinedMetricWarning: F-score is ill-defined and being set to 0.0 due to no true nor predicted samples. Use `zero_division` parameter to control this behavior.\n",
      "  _warn_prf(\n"
     ]
    },
    {
     "name": "stdout",
     "output_type": "stream",
     "text": [
      "Epoch: 28   Train loss: 0.2154   Train accuracy: 0.498   Val loss: 0.2457   Val accuracy: 0.511    weighted Val loss: 0.3459\n",
      "Epoch: 29   Train loss: 0.2033   Train accuracy: 0.5   Val loss: 0.2483   Val accuracy: 0.508    weighted Val loss: 0.3458\n",
      "Epoch: 30   Train loss: 0.2226   Train accuracy: 0.453   Val loss: 0.2602   Val accuracy: 0.521    weighted Val loss: 0.3456\n",
      "Epoch: 31   Train loss: 0.1928   Train accuracy: 0.625   Val loss: 0.2713   Val accuracy: 0.515    weighted Val loss: 0.3454\n",
      "Epoch: 32   Train loss: 0.2075   Train accuracy: 0.473   Val loss: 0.2614   Val accuracy: 0.505    weighted Val loss: 0.3453\n",
      "Epoch: 33   Train loss: 0.1975   Train accuracy: 0.534   Val loss: 0.241   Val accuracy: 0.514    weighted Val loss: 0.3451\n",
      "Epoch: 34   Train loss: 0.2238   Train accuracy: 0.51   Val loss: 0.2438   Val accuracy: 0.54    weighted Val loss: 0.3449\n",
      "0.54 ----------saved-----------\n",
      "Epoch: 35   Train loss: 0.1957   Train accuracy: 0.488   Val loss: 0.287   Val accuracy: 0.494    weighted Val loss: 0.3447\n",
      "Epoch: 36   Train loss: 0.1818   Train accuracy: 0.581   Val loss: 0.2606   Val accuracy: 0.517    weighted Val loss: 0.3446\n",
      "Epoch: 37   Train loss: 0.1971   Train accuracy: 0.556   Val loss: 0.2401   Val accuracy: 0.527    weighted Val loss: 0.3444\n",
      "Epoch: 38   Train loss: 0.1817   Train accuracy: 0.588   Val loss: 0.243   Val accuracy: 0.527    weighted Val loss: 0.3442\n",
      "Epoch: 39   Train loss: 0.1688   Train accuracy: 0.629   Val loss: 0.2535   Val accuracy: 0.535    weighted Val loss: 0.344\n",
      "Epoch: 40   Train loss: 0.1689   Train accuracy: 0.577   Val loss: 0.2415   Val accuracy: 0.545    weighted Val loss: 0.3438\n",
      "0.545 ----------saved-----------\n",
      "Epoch: 41   Train loss: 0.1892   Train accuracy: 0.568   Val loss: 0.2392   Val accuracy: 0.538    weighted Val loss: 0.3436\n",
      "Epoch: 42   Train loss: 0.1748   Train accuracy: 0.644   Val loss: 0.253   Val accuracy: 0.527    weighted Val loss: 0.3434\n",
      "Epoch: 43   Train loss: 0.178   Train accuracy: 0.609   Val loss: 0.253   Val accuracy: 0.537    weighted Val loss: 0.3432\n",
      "Epoch: 44   Train loss: 0.1928   Train accuracy: 0.621   Val loss: 0.236   Val accuracy: 0.538    weighted Val loss: 0.343\n",
      "Epoch: 45   Train loss: 0.1649   Train accuracy: 0.605   Val loss: 0.2473   Val accuracy: 0.536    weighted Val loss: 0.3428\n",
      "Epoch: 46   Train loss: 0.1563   Train accuracy: 0.66   Val loss: 0.2624   Val accuracy: 0.486    weighted Val loss: 0.3426\n",
      "Epoch: 47   Train loss: 0.1715   Train accuracy: 0.594   Val loss: 0.2348   Val accuracy: 0.537    weighted Val loss: 0.3424\n",
      "Epoch: 48   Train loss: 0.1644   Train accuracy: 0.629   Val loss: 0.2418   Val accuracy: 0.538    weighted Val loss: 0.3422\n",
      "Epoch: 49   Train loss: 0.1584   Train accuracy: 0.587   Val loss: 0.2386   Val accuracy: 0.538    weighted Val loss: 0.342\n",
      "Epoch: 50   Train loss: 0.1632   Train accuracy: 0.626   Val loss: 0.2432   Val accuracy: 0.532    weighted Val loss: 0.3418\n",
      "Epoch: 51   Train loss: 0.1523   Train accuracy: 0.696   Val loss: 0.2491   Val accuracy: 0.536    weighted Val loss: 0.3416\n",
      "Epoch: 52   Train loss: 0.149   Train accuracy: 0.664   Val loss: 0.2334   Val accuracy: 0.546    weighted Val loss: 0.3414\n",
      "0.546 ----------saved-----------\n",
      "Epoch: 53   Train loss: 0.1812   Train accuracy: 0.626   Val loss: 0.2806   Val accuracy: 0.525    weighted Val loss: 0.3413\n",
      "Epoch: 54   Train loss: 0.1672   Train accuracy: 0.629   Val loss: 0.253   Val accuracy: 0.551    weighted Val loss: 0.3411\n",
      "0.551 ----------saved-----------\n",
      "Epoch: 55   Train loss: 0.1791   Train accuracy: 0.653   Val loss: 0.27   Val accuracy: 0.515    weighted Val loss: 0.341\n",
      "Epoch: 56   Train loss: 0.1669   Train accuracy: 0.665   Val loss: 0.2338   Val accuracy: 0.538    weighted Val loss: 0.3408\n",
      "Epoch: 57   Train loss: 0.168   Train accuracy: 0.614   Val loss: 0.2413   Val accuracy: 0.545    weighted Val loss: 0.3406\n",
      "Epoch: 58   Train loss: 0.1493   Train accuracy: 0.724   Val loss: 0.2678   Val accuracy: 0.532    weighted Val loss: 0.3404\n",
      "Epoch: 59   Train loss: 0.156   Train accuracy: 0.618   Val loss: 0.2705   Val accuracy: 0.531    weighted Val loss: 0.3403\n",
      "Epoch: 60   Train loss: 0.1629   Train accuracy: 0.618   Val loss: 0.236   Val accuracy: 0.54    weighted Val loss: 0.3401\n",
      "Epoch: 61   Train loss: 0.1555   Train accuracy: 0.669   Val loss: 0.2245   Val accuracy: 0.563    weighted Val loss: 0.3398\n",
      "0.563 ----------saved-----------\n",
      "Epoch: 62   Train loss: 0.1706   Train accuracy: 0.594   Val loss: 0.2281   Val accuracy: 0.536    weighted Val loss: 0.3396\n",
      "Epoch: 63   Train loss: 0.1517   Train accuracy: 0.676   Val loss: 0.2742   Val accuracy: 0.512    weighted Val loss: 0.3395\n",
      "Epoch: 64   Train loss: 0.1521   Train accuracy: 0.579   Val loss: 0.2541   Val accuracy: 0.542    weighted Val loss: 0.3393\n",
      "Epoch: 65   Train loss: 0.1468   Train accuracy: 0.696   Val loss: 0.2232   Val accuracy: 0.563    weighted Val loss: 0.3391\n",
      "Epoch: 66   Train loss: 0.1498   Train accuracy: 0.672   Val loss: 0.2338   Val accuracy: 0.582    weighted Val loss: 0.3389\n",
      "0.582 ----------saved-----------\n",
      "Epoch: 67   Train loss: 0.1592   Train accuracy: 0.632   Val loss: 0.2453   Val accuracy: 0.532    weighted Val loss: 0.3387\n",
      "Epoch: 68   Train loss: 0.1589   Train accuracy: 0.636   Val loss: 0.2654   Val accuracy: 0.544    weighted Val loss: 0.3385\n",
      "Epoch: 69   Train loss: 0.1435   Train accuracy: 0.704   Val loss: 0.2493   Val accuracy: 0.55    weighted Val loss: 0.3384\n",
      "Epoch: 70   Train loss: 0.1419   Train accuracy: 0.71   Val loss: 0.2218   Val accuracy: 0.562    weighted Val loss: 0.3381\n",
      "Epoch: 71   Train loss: 0.1521   Train accuracy: 0.594   Val loss: 0.241   Val accuracy: 0.523    weighted Val loss: 0.3379\n",
      "Epoch: 72   Train loss: 0.1435   Train accuracy: 0.686   Val loss: 0.2485   Val accuracy: 0.525    weighted Val loss: 0.3377\n",
      "Epoch: 73   Train loss: 0.1366   Train accuracy: 0.679   Val loss: 0.2764   Val accuracy: 0.523    weighted Val loss: 0.3376\n",
      "Epoch: 74   Train loss: 0.1407   Train accuracy: 0.673   Val loss: 0.2731   Val accuracy: 0.517    weighted Val loss: 0.3375\n",
      "Epoch: 75   Train loss: 0.1244   Train accuracy: 0.765   Val loss: 0.2426   Val accuracy: 0.542    weighted Val loss: 0.3373\n",
      "Epoch: 76   Train loss: 0.132   Train accuracy: 0.74   Val loss: 0.2665   Val accuracy: 0.504    weighted Val loss: 0.3372\n",
      "Epoch: 77   Train loss: 0.1389   Train accuracy: 0.744   Val loss: 0.2796   Val accuracy: 0.551    weighted Val loss: 0.337\n",
      "Epoch: 78   Train loss: 0.1441   Train accuracy: 0.716   Val loss: 0.2984   Val accuracy: 0.48    weighted Val loss: 0.337\n",
      "Epoch: 79   Train loss: 0.1481   Train accuracy: 0.672   Val loss: 0.2329   Val accuracy: 0.574    weighted Val loss: 0.3368\n",
      "Epoch: 80   Train loss: 0.1357   Train accuracy: 0.643   Val loss: 0.2473   Val accuracy: 0.531    weighted Val loss: 0.3366\n",
      "Epoch: 81   Train loss: 0.1312   Train accuracy: 0.684   Val loss: 0.2319   Val accuracy: 0.532    weighted Val loss: 0.3364\n",
      "Epoch: 82   Train loss: 0.1477   Train accuracy: 0.698   Val loss: 0.2219   Val accuracy: 0.562    weighted Val loss: 0.3361\n",
      "Epoch: 83   Train loss: 0.1357   Train accuracy: 0.674   Val loss: 0.2651   Val accuracy: 0.531    weighted Val loss: 0.336\n",
      "Epoch: 84   Train loss: 0.1323   Train accuracy: 0.681   Val loss: 0.2534   Val accuracy: 0.541    weighted Val loss: 0.3358\n",
      "Epoch: 85   Train loss: 0.1274   Train accuracy: 0.727   Val loss: 0.2358   Val accuracy: 0.543    weighted Val loss: 0.3356\n",
      "Epoch: 86   Train loss: 0.1259   Train accuracy: 0.742   Val loss: 0.2735   Val accuracy: 0.519    weighted Val loss: 0.3355\n",
      "Epoch: 87   Train loss: 0.1359   Train accuracy: 0.737   Val loss: 0.2956   Val accuracy: 0.542    weighted Val loss: 0.3354\n",
      "Epoch: 88   Train loss: 0.1275   Train accuracy: 0.744   Val loss: 0.2416   Val accuracy: 0.539    weighted Val loss: 0.3352\n",
      "Epoch: 89   Train loss: 0.1446   Train accuracy: 0.686   Val loss: 0.2352   Val accuracy: 0.56    weighted Val loss: 0.335\n",
      "Epoch: 90   Train loss: 0.1435   Train accuracy: 0.691   Val loss: 0.2784   Val accuracy: 0.526    weighted Val loss: 0.3349\n",
      "Epoch: 91   Train loss: 0.1382   Train accuracy: 0.62   Val loss: 0.2797   Val accuracy: 0.519    weighted Val loss: 0.3348\n",
      "Epoch: 92   Train loss: 0.1433   Train accuracy: 0.647   Val loss: 0.2323   Val accuracy: 0.544    weighted Val loss: 0.3346\n",
      "Epoch: 93   Train loss: 0.1206   Train accuracy: 0.769   Val loss: 0.242   Val accuracy: 0.567    weighted Val loss: 0.3344\n",
      "Epoch: 94   Train loss: 0.1256   Train accuracy: 0.738   Val loss: 0.2664   Val accuracy: 0.534    weighted Val loss: 0.3343\n"
     ]
    },
    {
     "name": "stdout",
     "output_type": "stream",
     "text": [
      "Epoch: 95   Train loss: 0.1208   Train accuracy: 0.727   Val loss: 0.2427   Val accuracy: 0.569    weighted Val loss: 0.3341\n",
      "Epoch: 96   Train loss: 0.1332   Train accuracy: 0.74   Val loss: 0.2371   Val accuracy: 0.558    weighted Val loss: 0.3339\n",
      "Epoch: 97   Train loss: 0.1245   Train accuracy: 0.747   Val loss: 0.2551   Val accuracy: 0.54    weighted Val loss: 0.3338\n",
      "Epoch: 98   Train loss: 0.1359   Train accuracy: 0.718   Val loss: 0.2507   Val accuracy: 0.57    weighted Val loss: 0.3336\n",
      "Epoch: 99   Train loss: 0.1136   Train accuracy: 0.76   Val loss: 0.2497   Val accuracy: 0.563    weighted Val loss: 0.3334\n",
      "Epoch: 100   Train loss: 0.1175   Train accuracy: 0.705   Val loss: 0.292   Val accuracy: 0.545    weighted Val loss: 0.3333\n",
      "Epoch: 101   Train loss: 0.1212   Train accuracy: 0.769   Val loss: 0.2605   Val accuracy: 0.567    weighted Val loss: 0.3332\n",
      "Epoch: 102   Train loss: 0.1109   Train accuracy: 0.715   Val loss: 0.2429   Val accuracy: 0.535    weighted Val loss: 0.333\n",
      "Epoch: 103   Train loss: 0.1112   Train accuracy: 0.778   Val loss: 0.2524   Val accuracy: 0.546    weighted Val loss: 0.3329\n",
      "Epoch: 104   Train loss: 0.1208   Train accuracy: 0.698   Val loss: 0.2585   Val accuracy: 0.54    weighted Val loss: 0.3327\n",
      "Epoch: 105   Train loss: 0.1306   Train accuracy: 0.696   Val loss: 0.2536   Val accuracy: 0.55    weighted Val loss: 0.3325\n",
      "Epoch: 106   Train loss: 0.1297   Train accuracy: 0.725   Val loss: 0.2224   Val accuracy: 0.582    weighted Val loss: 0.3323\n",
      "0.582 ----------saved-----------\n",
      "Epoch: 107   Train loss: 0.1132   Train accuracy: 0.767   Val loss: 0.2597   Val accuracy: 0.529    weighted Val loss: 0.3322\n",
      "Epoch: 108   Train loss: 0.1113   Train accuracy: 0.774   Val loss: 0.2755   Val accuracy: 0.538    weighted Val loss: 0.3321\n",
      "Epoch: 109   Train loss: 0.1288   Train accuracy: 0.691   Val loss: 0.3133   Val accuracy: 0.504    weighted Val loss: 0.332\n",
      "Epoch: 110   Train loss: 0.1307   Train accuracy: 0.777   Val loss: 0.2989   Val accuracy: 0.528    weighted Val loss: 0.332\n",
      "Epoch: 111   Train loss: 0.127   Train accuracy: 0.755   Val loss: 0.2669   Val accuracy: 0.543    weighted Val loss: 0.3318\n",
      "Epoch: 112   Train loss: 0.1125   Train accuracy: 0.759   Val loss: 0.2545   Val accuracy: 0.547    weighted Val loss: 0.3317\n",
      "Epoch: 113   Train loss: 0.1196   Train accuracy: 0.802   Val loss: 0.2439   Val accuracy: 0.547    weighted Val loss: 0.3315\n",
      "Epoch: 114   Train loss: 0.0966   Train accuracy: 0.746   Val loss: 0.2786   Val accuracy: 0.537    weighted Val loss: 0.3314\n",
      "Epoch: 115   Train loss: 0.1047   Train accuracy: 0.81   Val loss: 0.2756   Val accuracy: 0.56    weighted Val loss: 0.3313\n",
      "Epoch: 116   Train loss: 0.1122   Train accuracy: 0.778   Val loss: 0.2808   Val accuracy: 0.55    weighted Val loss: 0.3312\n",
      "Epoch: 117   Train loss: 0.1119   Train accuracy: 0.741   Val loss: 0.2389   Val accuracy: 0.56    weighted Val loss: 0.331\n",
      "Epoch: 118   Train loss: 0.1213   Train accuracy: 0.749   Val loss: 0.2742   Val accuracy: 0.553    weighted Val loss: 0.3309\n",
      "Epoch: 119   Train loss: 0.1164   Train accuracy: 0.797   Val loss: 0.2549   Val accuracy: 0.559    weighted Val loss: 0.3307\n",
      "Epoch: 120   Train loss: 0.1098   Train accuracy: 0.767   Val loss: 0.254   Val accuracy: 0.537    weighted Val loss: 0.3306\n",
      "Epoch: 121   Train loss: 0.1019   Train accuracy: 0.807   Val loss: 0.2549   Val accuracy: 0.581    weighted Val loss: 0.3304\n",
      "Epoch: 122   Train loss: 0.1043   Train accuracy: 0.784   Val loss: 0.248   Val accuracy: 0.553    weighted Val loss: 0.3303\n",
      "Epoch: 123   Train loss: 0.1033   Train accuracy: 0.796   Val loss: 0.2432   Val accuracy: 0.55    weighted Val loss: 0.3301\n",
      "Epoch: 124   Train loss: 0.1101   Train accuracy: 0.794   Val loss: 0.2266   Val accuracy: 0.567    weighted Val loss: 0.3299\n",
      "Epoch: 125   Train loss: 0.0989   Train accuracy: 0.774   Val loss: 0.2577   Val accuracy: 0.564    weighted Val loss: 0.3297\n",
      "Epoch: 126   Train loss: 0.1207   Train accuracy: 0.78   Val loss: 0.2459   Val accuracy: 0.574    weighted Val loss: 0.3296\n",
      "Epoch: 127   Train loss: 0.1   Train accuracy: 0.726   Val loss: 0.2685   Val accuracy: 0.575    weighted Val loss: 0.3295\n",
      "Epoch: 128   Train loss: 0.1118   Train accuracy: 0.757   Val loss: 0.2596   Val accuracy: 0.562    weighted Val loss: 0.3293\n",
      "Epoch: 129   Train loss: 0.0925   Train accuracy: 0.747   Val loss: 0.2514   Val accuracy: 0.57    weighted Val loss: 0.3292\n",
      "Epoch: 130   Train loss: 0.1027   Train accuracy: 0.821   Val loss: 0.2419   Val accuracy: 0.569    weighted Val loss: 0.329\n",
      "Epoch: 131   Train loss: 0.1036   Train accuracy: 0.776   Val loss: 0.2619   Val accuracy: 0.548    weighted Val loss: 0.3288\n",
      "Epoch: 132   Train loss: 0.0989   Train accuracy: 0.834   Val loss: 0.2877   Val accuracy: 0.545    weighted Val loss: 0.3288\n",
      "Epoch: 133   Train loss: 0.0958   Train accuracy: 0.82   Val loss: 0.2292   Val accuracy: 0.575    weighted Val loss: 0.3286\n",
      "Epoch: 134   Train loss: 0.1066   Train accuracy: 0.701   Val loss: 0.2361   Val accuracy: 0.566    weighted Val loss: 0.3284\n",
      "Epoch: 135   Train loss: 0.1139   Train accuracy: 0.777   Val loss: 0.2419   Val accuracy: 0.571    weighted Val loss: 0.3282\n",
      "Epoch: 136   Train loss: 0.1099   Train accuracy: 0.819   Val loss: 0.228   Val accuracy: 0.566    weighted Val loss: 0.328\n",
      "Epoch: 137   Train loss: 0.1073   Train accuracy: 0.786   Val loss: 0.2717   Val accuracy: 0.551    weighted Val loss: 0.3279\n",
      "Epoch: 138   Train loss: 0.1121   Train accuracy: 0.712   Val loss: 0.2606   Val accuracy: 0.574    weighted Val loss: 0.3278\n",
      "Epoch: 139   Train loss: 0.1072   Train accuracy: 0.783   Val loss: 0.2441   Val accuracy: 0.577    weighted Val loss: 0.3276\n",
      "Epoch: 140   Train loss: 0.1113   Train accuracy: 0.803   Val loss: 0.2459   Val accuracy: 0.569    weighted Val loss: 0.3274\n",
      "Epoch: 141   Train loss: 0.1073   Train accuracy: 0.811   Val loss: 0.2262   Val accuracy: 0.577    weighted Val loss: 0.3272\n",
      "Epoch: 142   Train loss: 0.1033   Train accuracy: 0.73   Val loss: 0.2968   Val accuracy: 0.554    weighted Val loss: 0.3272\n",
      "Epoch: 143   Train loss: 0.0989   Train accuracy: 0.813   Val loss: 0.2583   Val accuracy: 0.557    weighted Val loss: 0.327\n",
      "Epoch: 144   Train loss: 0.1128   Train accuracy: 0.786   Val loss: 0.2489   Val accuracy: 0.558    weighted Val loss: 0.3269\n",
      "Epoch: 145   Train loss: 0.086   Train accuracy: 0.843   Val loss: 0.244   Val accuracy: 0.554    weighted Val loss: 0.3267\n",
      "Epoch: 146   Train loss: 0.0952   Train accuracy: 0.83   Val loss: 0.2319   Val accuracy: 0.579    weighted Val loss: 0.3265\n",
      "Epoch: 147   Train loss: 0.1041   Train accuracy: 0.799   Val loss: 0.2291   Val accuracy: 0.571    weighted Val loss: 0.3263\n",
      "Epoch: 148   Train loss: 0.1008   Train accuracy: 0.803   Val loss: 0.2393   Val accuracy: 0.586    weighted Val loss: 0.3261\n",
      "0.586 ----------saved-----------\n",
      "Epoch: 149   Train loss: 0.1119   Train accuracy: 0.753   Val loss: 0.2404   Val accuracy: 0.573    weighted Val loss: 0.326\n",
      "Epoch: 150   Train loss: 0.1026   Train accuracy: 0.772   Val loss: 0.3223   Val accuracy: 0.518    weighted Val loss: 0.326\n",
      "Epoch: 151   Train loss: 0.1016   Train accuracy: 0.793   Val loss: 0.2792   Val accuracy: 0.556    weighted Val loss: 0.3259\n",
      "Epoch: 152   Train loss: 0.1001   Train accuracy: 0.76   Val loss: 0.274   Val accuracy: 0.521    weighted Val loss: 0.3258\n",
      "Epoch: 153   Train loss: 0.0962   Train accuracy: 0.796   Val loss: 0.2387   Val accuracy: 0.575    weighted Val loss: 0.3256\n",
      "Epoch: 154   Train loss: 0.0924   Train accuracy: 0.823   Val loss: 0.2421   Val accuracy: 0.56    weighted Val loss: 0.3254\n",
      "Epoch: 155   Train loss: 0.0908   Train accuracy: 0.796   Val loss: 0.2383   Val accuracy: 0.554    weighted Val loss: 0.3253\n",
      "Epoch: 156   Train loss: 0.0922   Train accuracy: 0.815   Val loss: 0.2726   Val accuracy: 0.54    weighted Val loss: 0.3252\n",
      "Epoch: 157   Train loss: 0.1123   Train accuracy: 0.777   Val loss: 0.2685   Val accuracy: 0.532    weighted Val loss: 0.325\n",
      "Epoch: 158   Train loss: 0.0966   Train accuracy: 0.822   Val loss: 0.3145   Val accuracy: 0.519    weighted Val loss: 0.325\n",
      "Epoch: 159   Train loss: 0.1019   Train accuracy: 0.777   Val loss: 0.2921   Val accuracy: 0.543    weighted Val loss: 0.325\n"
     ]
    },
    {
     "name": "stdout",
     "output_type": "stream",
     "text": [
      "Epoch: 160   Train loss: 0.1014   Train accuracy: 0.79   Val loss: 0.2537   Val accuracy: 0.558    weighted Val loss: 0.3248\n",
      "Epoch: 161   Train loss: 0.1025   Train accuracy: 0.752   Val loss: 0.2957   Val accuracy: 0.547    weighted Val loss: 0.3248\n",
      "Epoch: 162   Train loss: 0.0954   Train accuracy: 0.81   Val loss: 0.2883   Val accuracy: 0.541    weighted Val loss: 0.3247\n",
      "Epoch: 163   Train loss: 0.0993   Train accuracy: 0.784   Val loss: 0.2605   Val accuracy: 0.555    weighted Val loss: 0.3245\n",
      "Epoch: 164   Train loss: 0.1016   Train accuracy: 0.799   Val loss: 0.2514   Val accuracy: 0.561    weighted Val loss: 0.3244\n",
      "Epoch: 165   Train loss: 0.1194   Train accuracy: 0.766   Val loss: 0.2748   Val accuracy: 0.545    weighted Val loss: 0.3243\n",
      "Epoch: 166   Train loss: 0.0896   Train accuracy: 0.838   Val loss: 0.2701   Val accuracy: 0.533    weighted Val loss: 0.3242\n",
      "Epoch: 167   Train loss: 0.1094   Train accuracy: 0.715   Val loss: 0.3145   Val accuracy: 0.523    weighted Val loss: 0.3242\n",
      "Epoch: 168   Train loss: 0.1016   Train accuracy: 0.799   Val loss: 0.2987   Val accuracy: 0.532    weighted Val loss: 0.3241\n",
      "Epoch: 169   Train loss: 0.0964   Train accuracy: 0.76   Val loss: 0.2783   Val accuracy: 0.528    weighted Val loss: 0.324\n",
      "Epoch: 170   Train loss: 0.0851   Train accuracy: 0.833   Val loss: 0.2692   Val accuracy: 0.551    weighted Val loss: 0.3239\n",
      "Epoch: 171   Train loss: 0.0858   Train accuracy: 0.834   Val loss: 0.23   Val accuracy: 0.566    weighted Val loss: 0.3237\n",
      "Epoch: 172   Train loss: 0.0964   Train accuracy: 0.821   Val loss: 0.251   Val accuracy: 0.551    weighted Val loss: 0.3236\n",
      "Epoch: 173   Train loss: 0.0822   Train accuracy: 0.868   Val loss: 0.2607   Val accuracy: 0.556    weighted Val loss: 0.3235\n",
      "Epoch: 174   Train loss: 0.1011   Train accuracy: 0.795   Val loss: 0.2992   Val accuracy: 0.542    weighted Val loss: 0.3234\n",
      "Epoch: 175   Train loss: 0.0912   Train accuracy: 0.829   Val loss: 0.2986   Val accuracy: 0.55    weighted Val loss: 0.3234\n",
      "Epoch: 176   Train loss: 0.0969   Train accuracy: 0.812   Val loss: 0.2342   Val accuracy: 0.564    weighted Val loss: 0.3232\n",
      "Epoch: 177   Train loss: 0.0889   Train accuracy: 0.8   Val loss: 0.2479   Val accuracy: 0.557    weighted Val loss: 0.323\n",
      "Epoch: 178   Train loss: 0.0958   Train accuracy: 0.794   Val loss: 0.2382   Val accuracy: 0.579    weighted Val loss: 0.3229\n",
      "Epoch: 179   Train loss: 0.0848   Train accuracy: 0.849   Val loss: 0.2442   Val accuracy: 0.566    weighted Val loss: 0.3227\n",
      "Epoch: 180   Train loss: 0.09   Train accuracy: 0.747   Val loss: 0.294   Val accuracy: 0.55    weighted Val loss: 0.3227\n",
      "Epoch: 181   Train loss: 0.0835   Train accuracy: 0.851   Val loss: 0.303   Val accuracy: 0.532    weighted Val loss: 0.3226\n",
      "Epoch: 182   Train loss: 0.0781   Train accuracy: 0.863   Val loss: 0.2586   Val accuracy: 0.566    weighted Val loss: 0.3225\n",
      "Epoch: 183   Train loss: 0.081   Train accuracy: 0.836   Val loss: 0.2689   Val accuracy: 0.552    weighted Val loss: 0.3224\n",
      "Epoch: 184   Train loss: 0.0769   Train accuracy: 0.863   Val loss: 0.2646   Val accuracy: 0.56    weighted Val loss: 0.3223\n",
      "Epoch: 185   Train loss: 0.0754   Train accuracy: 0.882   Val loss: 0.3066   Val accuracy: 0.539    weighted Val loss: 0.3222\n",
      "Epoch: 186   Train loss: 0.1001   Train accuracy: 0.804   Val loss: 0.2363   Val accuracy: 0.571    weighted Val loss: 0.3221\n",
      "Epoch: 187   Train loss: 0.0879   Train accuracy: 0.816   Val loss: 0.2476   Val accuracy: 0.541    weighted Val loss: 0.3219\n",
      "Epoch: 188   Train loss: 0.0932   Train accuracy: 0.804   Val loss: 0.2696   Val accuracy: 0.558    weighted Val loss: 0.3218\n",
      "Epoch: 189   Train loss: 0.0849   Train accuracy: 0.833   Val loss: 0.2435   Val accuracy: 0.569    weighted Val loss: 0.3217\n",
      "Epoch: 190   Train loss: 0.0897   Train accuracy: 0.821   Val loss: 0.2591   Val accuracy: 0.559    weighted Val loss: 0.3215\n",
      "Epoch: 191   Train loss: 0.0749   Train accuracy: 0.887   Val loss: 0.2531   Val accuracy: 0.542    weighted Val loss: 0.3214\n",
      "Epoch: 192   Train loss: 0.0764   Train accuracy: 0.87   Val loss: 0.2493   Val accuracy: 0.569    weighted Val loss: 0.3212\n",
      "Epoch: 193   Train loss: 0.0812   Train accuracy: 0.773   Val loss: 0.2827   Val accuracy: 0.525    weighted Val loss: 0.3212\n",
      "Epoch: 194   Train loss: 0.0984   Train accuracy: 0.82   Val loss: 0.2835   Val accuracy: 0.553    weighted Val loss: 0.3211\n",
      "Epoch: 195   Train loss: 0.0921   Train accuracy: 0.847   Val loss: 0.2946   Val accuracy: 0.552    weighted Val loss: 0.321\n",
      "Epoch: 196   Train loss: 0.0853   Train accuracy: 0.84   Val loss: 0.2573   Val accuracy: 0.562    weighted Val loss: 0.3209\n",
      "Epoch: 197   Train loss: 0.0766   Train accuracy: 0.867   Val loss: 0.2338   Val accuracy: 0.576    weighted Val loss: 0.3207\n",
      "Epoch: 198   Train loss: 0.0779   Train accuracy: 0.851   Val loss: 0.2533   Val accuracy: 0.578    weighted Val loss: 0.3206\n",
      "Epoch: 199   Train loss: 0.0836   Train accuracy: 0.78   Val loss: 0.2715   Val accuracy: 0.551    weighted Val loss: 0.3205\n",
      "Epoch: 200   Train loss: 0.0801   Train accuracy: 0.827   Val loss: 0.2462   Val accuracy: 0.583    weighted Val loss: 0.3204\n",
      "Epoch: 201   Train loss: 0.0903   Train accuracy: 0.748   Val loss: 0.2735   Val accuracy: 0.528    weighted Val loss: 0.3203\n",
      "Epoch: 202   Train loss: 0.0774   Train accuracy: 0.887   Val loss: 0.2613   Val accuracy: 0.567    weighted Val loss: 0.3201\n",
      "Epoch: 203   Train loss: 0.0773   Train accuracy: 0.867   Val loss: 0.26   Val accuracy: 0.567    weighted Val loss: 0.32\n",
      "Epoch: 204   Train loss: 0.0938   Train accuracy: 0.828   Val loss: 0.2565   Val accuracy: 0.576    weighted Val loss: 0.3199\n",
      "Epoch: 205   Train loss: 0.0887   Train accuracy: 0.846   Val loss: 0.2607   Val accuracy: 0.556    weighted Val loss: 0.3198\n",
      "Epoch: 206   Train loss: 0.0788   Train accuracy: 0.871   Val loss: 0.3202   Val accuracy: 0.519    weighted Val loss: 0.3198\n"
     ]
    }
   ],
   "source": [
    "MLPmodel, _,_ = train_MLP(dm, sim_train, sim_test, MLPparameters, acc_fn=F1, autostop_decay = 0.998, print_summary = True)"
   ]
  },
  {
   "cell_type": "code",
   "execution_count": 29,
   "metadata": {},
   "outputs": [
    {
     "name": "stdout",
     "output_type": "stream",
     "text": [
      "threshold: 0.05  validation loss: 0.257 F1 accuracy 0.378 Precision accuracy 0.254 Recall accuracy 0.735 AUC accuracy: 0.738\n",
      "threshold: 0.1  validation loss: 0.257 F1 accuracy 0.472 Precision accuracy 0.37 Recall accuracy 0.652 AUC accuracy: 0.759\n",
      "threshold: 0.15  validation loss: 0.257 F1 accuracy 0.507 Precision accuracy 0.45 Recall accuracy 0.581 AUC accuracy: 0.748\n",
      "threshold: 0.2  validation loss: 0.257 F1 accuracy 0.534 Precision accuracy 0.539 Recall accuracy 0.529 AUC accuracy: 0.737\n",
      "threshold: 0.25  validation loss: 0.257 F1 accuracy 0.573 Precision accuracy 0.626 Recall accuracy 0.529 AUC accuracy: 0.745\n",
      "threshold: 0.3  validation loss: 0.257 F1 accuracy 0.579 Precision accuracy 0.669 Recall accuracy 0.51 AUC accuracy: 0.74\n",
      "threshold: 0.35  validation loss: 0.257 F1 accuracy 0.583 Precision accuracy 0.706 Recall accuracy 0.497 AUC accuracy: 0.736\n",
      "threshold: 0.4  validation loss: 0.257 F1 accuracy 0.546 Precision accuracy 0.723 Recall accuracy 0.439 AUC accuracy: 0.709\n",
      "threshold: 0.45  validation loss: 0.257 F1 accuracy 0.519 Precision accuracy 0.738 Recall accuracy 0.4 AUC accuracy: 0.691\n",
      "threshold: 0.5  validation loss: 0.257 F1 accuracy 0.5 Precision accuracy 0.753 Recall accuracy 0.374 AUC accuracy: 0.68\n",
      "threshold: 0.55  validation loss: 0.257 F1 accuracy 0.48 Precision accuracy 0.771 Recall accuracy 0.348 AUC accuracy: 0.668\n",
      "threshold: 0.6  validation loss: 0.257 F1 accuracy 0.45 Precision accuracy 0.778 Recall accuracy 0.316 AUC accuracy: 0.653\n",
      "threshold: 0.65  validation loss: 0.257 F1 accuracy 0.356 Precision accuracy 0.766 Recall accuracy 0.232 AUC accuracy: 0.612\n",
      "threshold: 0.7  validation loss: 0.257 F1 accuracy 0.35 Precision accuracy 0.778 Recall accuracy 0.226 AUC accuracy: 0.609\n",
      "threshold: 0.75  validation loss: 0.257 F1 accuracy 0.337 Precision accuracy 0.805 Recall accuracy 0.213 AUC accuracy: 0.603\n",
      "threshold: 0.8  validation loss: 0.257 F1 accuracy 0.28 Precision accuracy 0.839 Recall accuracy 0.168 AUC accuracy: 0.582\n",
      "threshold: 0.85  validation loss: 0.257 F1 accuracy 0.253 Precision accuracy 0.852 Recall accuracy 0.148 AUC accuracy: 0.573\n",
      "threshold: 0.9  validation loss: 0.257 F1 accuracy 0.206 Precision accuracy 0.9 Recall accuracy 0.116 AUC accuracy: 0.557\n",
      "threshold: 0.95  validation loss: 0.257 F1 accuracy 0.174 Precision accuracy 0.882 Recall accuracy 0.097 AUC accuracy: 0.548\n"
     ]
    }
   ],
   "source": [
    "for i in range(5,100, 5):\n",
    "    t = i/100;\n",
    "    eval_mlp(MLPmodel, sim_test, dm, threshold = t)"
   ]
  },
  {
   "cell_type": "markdown",
   "metadata": {},
   "source": [
    "### Archived code"
   ]
  },
  {
   "cell_type": "code",
   "execution_count": null,
   "metadata": {},
   "outputs": [],
   "source": [
    "#ODE Part and Adjoint Method\n",
    "\n",
    "# Convenience tuple -> tensor function\n",
    "def flatten(*args):\n",
    "    return(torch.cat(tuple(torch.flatten(arg) for arg in args), dim=0).view(1,-1))\n",
    "\n",
    "# Convenience tensor -> tuple function\n",
    "def unflatten(x, n_e, sizes):\n",
    "    return (x[0, 0:n_e[0]].view(sizes[0]),\n",
    "            x[0, n_e[0]:n_e[0] + n_e[1]].view(sizes[1]),\n",
    "            x[0, (n_e[0] + n_e[1]):(n_e[0] + n_e[1] + n_e[2])].view(sizes[2]),\n",
    "            x[0, (n_e[0] + n_e[1] + n_e[2]):].view(sizes[3]),\n",
    "            )\n",
    "\n",
    "class Integrate(torch.autograd.Function):\n",
    "    def __deepcopy__(self, memo):\n",
    "        return Integrate(copy.deepcopy(memo))\n",
    "    \n",
    "    @staticmethod\n",
    "    def forward(ctx, Integrator, f, x0, t0, t1, N, net_params, A):\n",
    "                \n",
    "        solution = Integrator(EF, lambda x, t: f(x, t, net_params, A), x0, t0, t1, N)\n",
    "            \n",
    "        # Save for jacobian calculations in backward()\n",
    "        ctx.save_for_backward(x0,t0,t1,net_params,A)\n",
    "        ctx.solution = solution\n",
    "        ctx.Integrator = Integrator\n",
    "        ctx.N = N\n",
    "        ctx.f = f\n",
    "        \n",
    "        return solution\n",
    "    \n",
    "    @staticmethod\n",
    "    def backward(ctx, dL_dz1):\n",
    "        # Get all saved context\n",
    "        z0, t0, t1, net_params,A = ctx.saved_tensors\n",
    "        z1 = ctx.solution\n",
    "        N = ctx.N\n",
    "        f = ctx.f\n",
    "        \n",
    "        print(\"dL_dz1\", dL_dz1.size())\n",
    "        print(\"net_params\", net_params.size())\n",
    "        \n",
    "        \n",
    "        s0 = [z1, dL_dz1 ,torch.zeros(net_params.size(), dtype=torch.float32)]\n",
    "        print(\"s0\", s0.size())\n",
    "        \n",
    "        def aug_dynamics(s, t, theta, A):\n",
    "            zt = s[0]\n",
    "            at = s[1]\n",
    "            \n",
    "            \n",
    "            with torch.enable_grad(): \n",
    "                gradients = [vjp(f, \n",
    "                                 (s[0][i].unsqueeze(0), t, theta), \n",
    "                                  v=-s[1][i].unsqueeze(0),\n",
    "                                 )[1] for i in range(batch_size)]\n",
    "                \n",
    "            return flatten(f(s[0],t,theta),\n",
    "                    torch.cat([gradient[0] for gradient in gradients], dim=0), \n",
    "                    torch.cat([gradient[2].unsqueeze(0) for gradient in gradients], dim=0), \n",
    "                    torch.cat([gradient[1].reshape(1,1) for gradient in gradients], dim=0),\n",
    "                   )#.unsqueeze(2)\n",
    "        \n",
    "        '''\n",
    "        # Convenience sizes\n",
    "        batch_size = z0.size()[0]\n",
    "        img_len = int(z0.numel() / batch_size)\n",
    "\n",
    "        # Compute derivative w.r.t. to end time of integration\n",
    "        dL_dt1 = dL_dz1.view(batch_size,1,-1).bmm(f(z1, t1, net_params).view(batch_size,-1,1))  # Derivative of loss w.r.t t1\n",
    "        \n",
    "        #print(\"dL_dt1\", dL_dt1)\n",
    "        \n",
    "        # Initial Condition\n",
    "        num_elements = (z1.numel(), dL_dz1.numel(), batch_size * net_params.numel(), dL_dt1.numel())\n",
    "        sizes = (z1.size(), dL_dz1.size(), (batch_size, net_params.numel()), dL_dt1.size())\n",
    "        s0 = flatten(z1, dL_dz1, torch.zeros((batch_size, net_params.numel()), dtype=torch.float32), -dL_dt1) # initial augmented state\n",
    "        \n",
    "        # augmented dynamics function\n",
    "        def aug_dynamics(s, t, theta):\n",
    "            s = unflatten(s, num_elements, sizes)\n",
    "            \n",
    "            with torch.enable_grad(): \n",
    "                gradients = [vjp(f, \n",
    "                                 (s[0][i].unsqueeze(0), t, theta), \n",
    "                                  v=-s[1][i].unsqueeze(0),\n",
    "                                 )[1] for i in range(batch_size)]\n",
    "                \n",
    "            return flatten(f(s[0],t,theta),\n",
    "                    torch.cat([gradient[0] for gradient in gradients], dim=0), \n",
    "                    torch.cat([gradient[2].unsqueeze(0) for gradient in gradients], dim=0), \n",
    "                    torch.cat([gradient[1].reshape(1,1) for gradient in gradients], dim=0),\n",
    "                   )#.unsqueeze(2)\n",
    "\n",
    "        # Integrate backwards\n",
    "        with torch.enable_grad():\n",
    "            s = ctx.Integrator(EF, lambda x, t: aug_dynamics(x, t, net_params), s0, t1, t0, N)\n",
    "        \n",
    "        # Extract derivatives\n",
    "        _, dL_dz0, dL_dtheta, dL_dt0 = unflatten(s, num_elements, sizes)\n",
    "        \n",
    "        # must return something for every input to forward, None for non-tensors\n",
    "        return None, None, dL_dz0, dL_dt0, dL_dt1, None, dL_dtheta \n",
    "        '''\n",
    "        return None, None, None, None, None, None, net_params, None"
   ]
  },
  {
   "cell_type": "code",
   "execution_count": null,
   "metadata": {},
   "outputs": [],
   "source": [
    "class GDE(nn.Module):\n",
    "    def __init__(self, in_features, out_features):\n",
    "        super(GDE, self).__init__()\n",
    "        self.in_features = in_features\n",
    "        self.out_features = out_features\n",
    "        \n",
    "    \n",
    "    # H, feature matrix\n",
    "    # A, precomputed adj matrix\n",
    "    def forward(self, H, t, weight, A): #x, t, net_params, A\n",
    "        n = torch.matmul(A, torch.matmul(H, weight))\n",
    "        return F.relu(n)\n",
    "\n",
    "class SimularityMatrix(nn.Module):\n",
    "    def __init__(self, in_features):\n",
    "        super(SimularityMatrix, self).__init__()\n",
    "        self.in_features = in_features\n",
    "        self.weight = nn.Parameter(torch.Tensor(in_features))\n",
    "        self.reset_parameters()\n",
    "\n",
    "    def __repr__(self):\n",
    "        return self.__class__.__name__ + ' (' \\\n",
    "               + str(self.in_features) +')'\n",
    "    \n",
    "    def reset_parameters(self):\n",
    "        stdv = 1. / self.weight.size(0) ** 1/2\n",
    "        self.weight.data.uniform_(-stdv, stdv)\n",
    "    \n",
    "    #computes the simularity matrix:\n",
    "    # H, feature matrix --> N x D\n",
    "    # A, precomputed adj matrix --> NxN\n",
    "    # this method is pretty wack, need to find a vectorized way to do it.\n",
    "    def forward(self, H, H0):\n",
    "        #get hidden state (concate H0 and H)\n",
    "        Z = torch.cat((H0, H), 2)\n",
    "        M = Z.shape[0]\n",
    "        N = Z.shape[1]\n",
    "        D = Z.shape[2]\n",
    "        #centering normalize Z\n",
    "        Z = self.fcn(Z)\n",
    "        return self.get_sim_vectorized(Z)\n",
    "        \n",
    "    #simularity between node u and node v (shape Mx1xD)\n",
    "    #return the u,v index of the simularity matrix\n",
    "    def get_sim(self, u,v):\n",
    "        theta = torch.diag(self.weight)\n",
    "        #print(self.weight)\n",
    "        #print(u.shape, theta.shape, self.weight.shape, torch.transpose(v, 1, 2).shape)\n",
    "        return torch.squeeze(torch.matmul(torch.matmul(u, theta), torch.transpose(v, 1, 2)))\n",
    "        \n",
    "    def get_sim_vectorized(self, Z): # Z is M x N Sx 2D\n",
    "        theta = torch.diag(self.weight)\n",
    "        sim_matrix = torch.matmul(torch.matmul(Z, theta), torch.transpose(Z, 1, 2))\n",
    "        return sim_matrix\n",
    "        \n",
    "    #centering-normalizing (CN) operator\n",
    "    def fcn(self, Z):\n",
    "        norm_Z = (Z - torch.mean(Z, dim=2, keepdim=True))\n",
    "        return norm_Z/torch.std(Z, unbiased=True, dim=2, keepdim=True)"
   ]
  },
  {
   "cell_type": "code",
   "execution_count": null,
   "metadata": {},
   "outputs": [],
   "source": [
    "# n-layer GCN Network\n",
    "'''\n",
    "solver_params = {\n",
    "    \"t0\": 0,\n",
    "    \"t1\": 1,\n",
    "    \"N\": 5,\n",
    "}\n",
    "'''\n",
    "class Net(nn.Module):\n",
    "    def __init__(self, body_features, solver, solver_params):\n",
    "        super(Net, self).__init__()\n",
    "        \n",
    "        self.f = GDE(body_features,body_features)\n",
    "        #body\n",
    "        self.int_f = solver\n",
    "        self.Integrate = Integrate\n",
    "        self.solver_params = solver_params\n",
    "        self.N = solver_params[\"N\"]\n",
    "        self.h = (solver_params[\"t1\"] - solver_params[\"t0\"]) / solver_params[\"N\"]\n",
    "        self.t0 = torch.tensor(float(solver_params[\"t0\"]), requires_grad=True)\n",
    "        self.t1 = torch.tensor(float(solver_params[\"t1\"]), requires_grad=True)\n",
    "        \n",
    "        self.net_params = torch.nn.parameter.Parameter(torch.Tensor(body_features, body_features).normal_(mean=0, std=0.1,generator=None), requires_grad=True)\n",
    "            \n",
    "        #tail\n",
    "        self.tail = SimularityMatrix(body_features*2) # size(H_0 + h_u)\n",
    "\n",
    "    def forward(self, h_0, A):\n",
    "        #body\n",
    "        x = self.Integrate.apply(self.int_f, self.f, h_0, self.t0, self.t1, self.N, self.net_params, A)\n",
    "        \n",
    "        #tail\n",
    "        sim_matrix = self.tail(x, h_0)\n",
    "        return sim_matrix"
   ]
  }
 ],
 "metadata": {
  "kernelspec": {
   "display_name": "Python 3",
   "language": "python",
   "name": "python3"
  },
  "language_info": {
   "codemirror_mode": {
    "name": "ipython",
    "version": 3
   },
   "file_extension": ".py",
   "mimetype": "text/x-python",
   "name": "python",
   "nbconvert_exporter": "python",
   "pygments_lexer": "ipython3",
   "version": "3.8.5"
  }
 },
 "nbformat": 4,
 "nbformat_minor": 4
}
