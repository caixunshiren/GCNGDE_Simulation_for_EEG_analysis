{
 "cells": [
  {
   "cell_type": "markdown",
   "metadata": {},
   "source": [
    "# High Level Pipline for GCN and GNODE for Brain State Identification"
   ]
  },
  {
   "cell_type": "markdown",
   "metadata": {},
   "source": [
    "## Pipeline Overview"
   ]
  },
  {
   "cell_type": "markdown",
   "metadata": {},
   "source": [
    "### 1.1 Adjacency Matrix Generation ---> **2.1 Unsupervised GCN** ---> 3.1 Supervised MLP"
   ]
  },
  {
   "cell_type": "markdown",
   "metadata": {},
   "source": [
    "### 1.1 Adjacency Matrix Generation ---> **2.2 Unsupervised GNODE** ---> 3.1 Supervised MLP"
   ]
  },
  {
   "cell_type": "markdown",
   "metadata": {},
   "source": [
    "[Introduction and overview should be written here]"
   ]
  },
  {
   "cell_type": "markdown",
   "metadata": {},
   "source": [
    "#### High Level Classes imported:"
   ]
  },
  {
   "cell_type": "markdown",
   "metadata": {},
   "source": [
    "DataManager.py DataManagerUtil.py : [insert description here]"
   ]
  },
  {
   "cell_type": "markdown",
   "metadata": {},
   "source": [
    "GCN.py GCNutil.py : [insert description here]"
   ]
  },
  {
   "cell_type": "markdown",
   "metadata": {},
   "source": [
    "GDE.py GDEutil.py GDEsolvers.py : [insert description here]"
   ]
  },
  {
   "cell_type": "markdown",
   "metadata": {},
   "source": [
    "MLP.py : [insert description here]"
   ]
  },
  {
   "cell_type": "code",
   "execution_count": 32,
   "metadata": {},
   "outputs": [],
   "source": [
    "%reload_ext autoreload\n",
    "%autoreload 2\n",
    "#Custom Files\n",
    "from DataManager import dataManager\n",
    "from DataManagerUtil import *\n",
    "import GCN as GCN\n",
    "import GCNutil as GCNutil\n",
    "import GDE as GDE\n",
    "import GDEutil as GDEutil\n",
    "import GDEsolvers as GDEsolvers\n",
    "import MLP as MLP\n",
    "\n",
    "#Standard Libraries\n",
    "# Torch\n",
    "import torch\n",
    "import torch.autograd\n",
    "import torch.nn as nn\n",
    "import torch.nn.functional as F\n",
    "#Numpy\n",
    "import numpy as np"
   ]
  },
  {
   "cell_type": "markdown",
   "metadata": {},
   "source": [
    "#### Dataset:"
   ]
  },
  {
   "cell_type": "markdown",
   "metadata": {},
   "source": [
    "[A short description here]"
   ]
  },
  {
   "cell_type": "code",
   "execution_count": 148,
   "metadata": {
    "collapsed": true,
    "jupyter": {
     "outputs_hidden": true
    }
   },
   "outputs": [
    {
     "name": "stdout",
     "output_type": "stream",
     "text": [
      "name: X_test\n",
      "shape: (640, 35, 2649)\n",
      "-----------------------\n",
      "name: X_train\n",
      "shape: (640, 35, 2564)\n",
      "-----------------------\n",
      "name: clip_sizes_test\n",
      "shape: (2, 102)\n",
      "-----------------------\n",
      "name: clip_sizes_train\n",
      "shape: (2, 101)\n",
      "-----------------------\n",
      "name: conv_sizes\n",
      "shape: (1, 1)\n",
      "-----------------------\n",
      "name: n_pre_szr\n",
      "shape: (1, 1)\n",
      "-----------------------\n",
      "name: sel_win_nums_test\n",
      "shape: (1, 2649)\n",
      "-----------------------\n",
      "name: sel_win_nums_train\n",
      "shape: (1, 2564)\n",
      "-----------------------\n",
      "name: soz_ch_ids\n",
      "shape: (7, 1)\n",
      "-----------------------\n",
      "name: stride_sec\n",
      "shape: (1, 1)\n",
      "-----------------------\n",
      "name: window_size_sec\n",
      "shape: (1, 1)\n",
      "-----------------------\n",
      "name: y_test\n",
      "shape: (1, 2649)\n",
      "-----------------------\n",
      "name: y_train\n",
      "shape: (1, 2564)\n",
      "-----------------------\n",
      "print sample EGG signal from one node:\n"
     ]
    },
    {
     "data": {
      "image/png": "[encoded data removed]",
      "text/plain": [
       "<Figure size 432x288 with 1 Axes>"
      ]
     },
     "metadata": {
      "needs_background": "light"
     },
     "output_type": "display_data"
    }
   ],
   "source": [
    "#Loading everything from the dataset\n",
    "filepath = 'datasets\\pat_FR_273.mat' #264 253 620 273\n",
    "variables = load_patient_data(filepath, verbose = True)"
   ]
  },
  {
   "cell_type": "code",
   "execution_count": 32,
   "metadata": {
    "collapsed": true,
    "jupyter": {
     "outputs_hidden": true
    }
   },
   "outputs": [
    {
     "ename": "KeyboardInterrupt",
     "evalue": "",
     "output_type": "error",
     "traceback": [
      "\u001b[1;31m---------------------------------------------------------------------------\u001b[0m",
      "\u001b[1;31mKeyboardInterrupt\u001b[0m                         Traceback (most recent call last)",
      "\u001b[1;32m<ipython-input-32-ecfec4f0bfb7>\u001b[0m in \u001b[0;36m<module>\u001b[1;34m\u001b[0m\n\u001b[0;32m      1\u001b[0m \u001b[1;31m#OPTIONAL: Shuffle the dataset\u001b[0m\u001b[1;33m\u001b[0m\u001b[1;33m\u001b[0m\u001b[1;33m\u001b[0m\u001b[0m\n\u001b[1;32m----> 2\u001b[1;33m \u001b[0mvariables\u001b[0m\u001b[1;33m,\u001b[0m \u001b[0mindices\u001b[0m \u001b[1;33m=\u001b[0m \u001b[0mshuffle_train_test\u001b[0m\u001b[1;33m(\u001b[0m\u001b[0mvariables\u001b[0m\u001b[1;33m,\u001b[0m \u001b[0mtrain_ratio\u001b[0m \u001b[1;33m=\u001b[0m \u001b[1;36m0.5\u001b[0m\u001b[1;33m,\u001b[0m \u001b[0mprint_summary\u001b[0m \u001b[1;33m=\u001b[0m \u001b[1;32mTrue\u001b[0m\u001b[1;33m)\u001b[0m\u001b[1;33m\u001b[0m\u001b[1;33m\u001b[0m\u001b[0m\n\u001b[0m",
      "\u001b[1;32m~\\Documents\\GitHub\\GCNGDE_Simulation_for_EGG_analysis\\Full Model\\DataManagerUtil.py\u001b[0m in \u001b[0;36mshuffle_train_test\u001b[1;34m(variables, train_ratio, indices, print_summary)\u001b[0m\n\u001b[0;32m     31\u001b[0m     \u001b[0mtraining_idx\u001b[0m\u001b[1;33m,\u001b[0m \u001b[0mtest_idx\u001b[0m \u001b[1;33m=\u001b[0m \u001b[0mindices\u001b[0m\u001b[1;33m[\u001b[0m\u001b[1;33m:\u001b[0m\u001b[0msplit_ind\u001b[0m\u001b[1;33m]\u001b[0m\u001b[1;33m,\u001b[0m \u001b[0mindices\u001b[0m\u001b[1;33m[\u001b[0m\u001b[0msplit_ind\u001b[0m\u001b[1;33m:\u001b[0m\u001b[1;33m]\u001b[0m\u001b[1;33m\u001b[0m\u001b[1;33m\u001b[0m\u001b[0m\n\u001b[0;32m     32\u001b[0m     \u001b[1;31m#print(split_ind, training_idx.shape)\u001b[0m\u001b[1;33m\u001b[0m\u001b[1;33m\u001b[0m\u001b[1;33m\u001b[0m\u001b[0m\n\u001b[1;32m---> 33\u001b[1;33m     \u001b[0mvariables\u001b[0m\u001b[1;33m[\u001b[0m\u001b[1;34m\"X_train\"\u001b[0m\u001b[1;33m]\u001b[0m\u001b[1;33m,\u001b[0m \u001b[0mvariables\u001b[0m\u001b[1;33m[\u001b[0m\u001b[1;34m\"X_test\"\u001b[0m\u001b[1;33m]\u001b[0m \u001b[1;33m=\u001b[0m \u001b[0mdata_all\u001b[0m\u001b[1;33m[\u001b[0m\u001b[1;33m:\u001b[0m\u001b[1;33m,\u001b[0m\u001b[1;33m:\u001b[0m\u001b[1;33m,\u001b[0m\u001b[0mtraining_idx\u001b[0m\u001b[1;33m]\u001b[0m\u001b[1;33m,\u001b[0m \u001b[0mdata_all\u001b[0m\u001b[1;33m[\u001b[0m\u001b[1;33m:\u001b[0m\u001b[1;33m,\u001b[0m\u001b[1;33m:\u001b[0m\u001b[1;33m,\u001b[0m\u001b[0mtest_idx\u001b[0m\u001b[1;33m]\u001b[0m\u001b[1;33m\u001b[0m\u001b[1;33m\u001b[0m\u001b[0m\n\u001b[0m\u001b[0;32m     34\u001b[0m     \u001b[0mvariables\u001b[0m\u001b[1;33m[\u001b[0m\u001b[1;34m\"y_train\"\u001b[0m\u001b[1;33m]\u001b[0m\u001b[1;33m,\u001b[0m \u001b[0mvariables\u001b[0m\u001b[1;33m[\u001b[0m\u001b[1;34m\"y_test\"\u001b[0m\u001b[1;33m]\u001b[0m \u001b[1;33m=\u001b[0m \u001b[0mlabels_all\u001b[0m\u001b[1;33m[\u001b[0m\u001b[1;33m:\u001b[0m\u001b[1;33m,\u001b[0m\u001b[0mtraining_idx\u001b[0m\u001b[1;33m]\u001b[0m\u001b[1;33m,\u001b[0m \u001b[0mlabels_all\u001b[0m\u001b[1;33m[\u001b[0m\u001b[1;33m:\u001b[0m\u001b[1;33m,\u001b[0m\u001b[0mtest_idx\u001b[0m\u001b[1;33m]\u001b[0m\u001b[1;33m\u001b[0m\u001b[1;33m\u001b[0m\u001b[0m\n\u001b[0;32m     35\u001b[0m     \u001b[1;32mif\u001b[0m \u001b[0mprint_summary\u001b[0m\u001b[1;33m:\u001b[0m\u001b[1;33m\u001b[0m\u001b[1;33m\u001b[0m\u001b[0m\n",
      "\u001b[1;31mKeyboardInterrupt\u001b[0m: "
     ]
    }
   ],
   "source": [
    "#OPTIONAL: Shuffle the dataset\n",
    "variables, indices = shuffle_train_test(variables, train_ratio = 0.5, print_summary = True)"
   ]
  },
  {
   "cell_type": "code",
   "execution_count": 101,
   "metadata": {},
   "outputs": [],
   "source": [
    "#OPTIONAL: Remove Overlapping Parts\n",
    "variables = remove_overlap(variables)"
   ]
  },
  {
   "cell_type": "code",
   "execution_count": 5,
   "metadata": {},
   "outputs": [],
   "source": [
    "#save the shuffled indices\n",
    "np.save(\"datasets/indices_253.npy\",indices)"
   ]
  },
  {
   "cell_type": "markdown",
   "metadata": {},
   "source": [
    "$\\;\\;\\;\\;\\;\\;\\;\\;\\;\\;\\;\\;\\;\\;$"
   ]
  },
  {
   "cell_type": "markdown",
   "metadata": {},
   "source": [
    "## 1.1 Adjacency Matrix Generation"
   ]
  },
  {
   "cell_type": "markdown",
   "metadata": {},
   "source": [
    "[short description here]"
   ]
  },
  {
   "cell_type": "markdown",
   "metadata": {},
   "source": [
    "##### 1.1.1 Create the datamanager object that computes the covariance matrix for you."
   ]
  },
  {
   "cell_type": "code",
   "execution_count": 153,
   "metadata": {},
   "outputs": [
    {
     "name": "stdout",
     "output_type": "stream",
     "text": [
      "--------data manager successfully initialized--------\n"
     ]
    }
   ],
   "source": [
    "dm = dataManager(variables[\"X_train\"],variables[\"X_test\"],variables[\"y_train\"],variables[\"y_test\"],10**(-4))"
   ]
  },
  {
   "cell_type": "code",
   "execution_count": 155,
   "metadata": {},
   "outputs": [
    {
     "name": "stdout",
     "output_type": "stream",
     "text": [
      "X_train: shape of(2562, 35, 640)\n",
      "X_test: shape of(2649, 35, 640)\n",
      "Y_train: shape of(2562, 1)\n",
      "Y_test: shape of(2649, 1)\n",
      "A_train: shape of(35, 35)\n",
      "A_test: shape of(35, 35)\n",
      "P_avg_train: shape of(35, 35)\n",
      "P_avg_test: shape of(35, 35)\n",
      "--------data successfully filtered (dvariance)--------\n",
      "X_train: shape of(2562, 30, 640)\n",
      "X_test: shape of(2649, 30, 640)\n",
      "Y_train: shape of(2562, 1)\n",
      "Y_test: shape of(2649, 1)\n",
      "A_train: shape of(30, 30)\n",
      "A_test: shape of(30, 30)\n",
      "P_avg_train: shape of(30, 30)\n",
      "P_avg_test: shape of(30, 30)\n"
     ]
    }
   ],
   "source": [
    "#reduce redundant nodes\n",
    "#from DataManager import get_label_variance as glv\n",
    "#print(glv(dm.X_train, dm.Y_train))\n",
    "#print(np.argsort(glv(dm.X_train, dm.Y_train)))\n",
    "print(dm)\n",
    "dm.apply_dvariance_filter(30)\n",
    "print(dm)"
   ]
  },
  {
   "cell_type": "code",
   "execution_count": 103,
   "metadata": {
    "collapsed": true,
    "jupyter": {
     "outputs_hidden": true
    }
   },
   "outputs": [
    {
     "name": "stdout",
     "output_type": "stream",
     "text": [
      "X_train: shape of(2562, 35, 640)\n",
      "X_test: shape of(2649, 35, 640)\n",
      "Y_train: shape of(2562, 1)\n",
      "Y_test: shape of(2649, 1)\n",
      "A_train: shape of(35, 35)\n",
      "A_test: shape of(35, 35)\n",
      "P_avg_train: shape of(35, 35)\n",
      "P_avg_test: shape of(35, 35)\n",
      "X_train: shape of(25620, 35, 64)\n",
      "X_test: shape of(26490, 35, 64)\n",
      "Y_train: shape of(25620, 1)\n",
      "Y_test: shape of(26490, 1)\n",
      "A_train: shape of(35, 35)\n",
      "A_test: shape of(35, 35)\n",
      "P_avg_train: shape of(35, 35)\n",
      "P_avg_test: shape of(35, 35)\n"
     ]
    }
   ],
   "source": [
    "#from DataManager import extend_identity as extend_identity\n",
    "#print(extend_identity(2500,16), extend_identity(2500,16).shape)\n",
    "print(dm)\n",
    "dm.resize_clip(64)\n",
    "print(dm)"
   ]
  },
  {
   "cell_type": "markdown",
   "metadata": {},
   "source": [
    "##### 1.1.2 Visualize the mean covariance matrix across all training samples"
   ]
  },
  {
   "cell_type": "code",
   "execution_count": 156,
   "metadata": {},
   "outputs": [
    {
     "data": {
      "image/png": "[encoded data removed]",
      "text/plain": [
       "<Figure size 432x288 with 2 Axes>"
      ]
     },
     "metadata": {
      "needs_background": "light"
     },
     "output_type": "display_data"
    }
   ],
   "source": [
    "show_heat_map(dm.P_avg_train)"
   ]
  },
  {
   "cell_type": "markdown",
   "metadata": {},
   "source": [
    "##### 1.1.3 Create DAD from dm by setting the threshold n. repeating this untill a desireble \"n\" value is found."
   ]
  },
  {
   "cell_type": "code",
   "execution_count": 157,
   "metadata": {},
   "outputs": [
    {
     "data": {
      "image/png": "[encoded data removed]",
      "text/plain": [
       "<Figure size 432x288 with 2 Axes>"
      ]
     },
     "metadata": {
      "needs_background": "light"
     },
     "output_type": "display_data"
    },
    {
     "data": {
      "image/png": "[encoded data removed]",
      "text/plain": [
       "<Figure size 432x288 with 2 Axes>"
      ]
     },
     "metadata": {
      "needs_background": "light"
     },
     "output_type": "display_data"
    }
   ],
   "source": [
    "n = 2.5*10**-4\n",
    "dm.re_threshold(n)\n",
    "show_heat_map(dm.A_train)\n",
    "show_heat_map(create_DAD(dm.A_train))\n",
    "Araw = dm.A_train"
   ]
  },
  {
   "cell_type": "markdown",
   "metadata": {},
   "source": [
    "$\\;\\;\\;\\;\\;\\;\\;\\;\\;\\;\\;\\;\\;\\;$"
   ]
  },
  {
   "cell_type": "markdown",
   "metadata": {},
   "source": [
    "## 2.1 Unsupervised Graph Convolutional Neural Network (GCN)"
   ]
  },
  {
   "cell_type": "markdown",
   "metadata": {},
   "source": [
    "[short description here]"
   ]
  },
  {
   "cell_type": "markdown",
   "metadata": {},
   "source": [
    "##### 2.1.1 Declare Parameters for GCN"
   ]
  },
  {
   "cell_type": "code",
   "execution_count": 158,
   "metadata": {},
   "outputs": [
    {
     "name": "stdout",
     "output_type": "stream",
     "text": [
      "{'body': 640, 'M': 2562, 'batch_size': 512, 'n_layers': 2, 'num_epochs': 1, 'learning_rate': 0.001, 'weight_decay': 0.005}\n"
     ]
    }
   ],
   "source": [
    "#create new model\n",
    "A = create_DAD(Araw)\n",
    "X_train = dm.X_train\n",
    "X_test = dm.X_test\n",
    "GCNparameters = {\n",
    "    'body': dm.X_train.shape[2],\n",
    "    'M': dm.X_train.shape[0],\n",
    "    'batch_size': 512,\n",
    "    'n_layers': 2,\n",
    "    'num_epochs': 1,\n",
    "    'learning_rate': 1e-3,\n",
    "    'weight_decay': 5e-3\n",
    "}\n",
    "print(GCNparameters)\n",
    "GCNcheckpoint = {'parameters': GCNparameters}"
   ]
  },
  {
   "cell_type": "markdown",
   "metadata": {},
   "source": [
    "##### 2.1.2 Train GCN"
   ]
  },
  {
   "cell_type": "code",
   "execution_count": 159,
   "metadata": {},
   "outputs": [
    {
     "name": "stderr",
     "output_type": "stream",
     "text": [
      "  0%|          | 0/6 [00:00<?, ?it/s]"
     ]
    },
    {
     "name": "stdout",
     "output_type": "stream",
     "text": [
      "device set to cpu\n"
     ]
    },
    {
     "name": "stderr",
     "output_type": "stream",
     "text": [
      " 17%|█▋        | 1/6 [00:01<00:06,  1.38s/it]"
     ]
    },
    {
     "name": "stdout",
     "output_type": "stream",
     "text": [
      "Epoch: 1   Batch: 1 of size 512   Train loss: 387.6950988769531   Valid loss: 378.4613342285156\r"
     ]
    },
    {
     "name": "stderr",
     "output_type": "stream",
     "text": [
      " 33%|███▎      | 2/6 [00:02<00:05,  1.40s/it]"
     ]
    },
    {
     "name": "stdout",
     "output_type": "stream",
     "text": [
      "Epoch: 1   Batch: 2 of size 512   Train loss: 379.16180419921875   Valid loss: 383.1865539550781\r"
     ]
    },
    {
     "name": "stderr",
     "output_type": "stream",
     "text": [
      " 50%|█████     | 3/6 [00:04<00:04,  1.43s/it]"
     ]
    },
    {
     "name": "stdout",
     "output_type": "stream",
     "text": [
      "Epoch: 1   Batch: 3 of size 512   Train loss: 384.5007019042969   Valid loss: 380.94195556640625\r"
     ]
    },
    {
     "name": "stderr",
     "output_type": "stream",
     "text": [
      " 67%|██████▋   | 4/6 [00:05<00:02,  1.49s/it]"
     ]
    },
    {
     "name": "stdout",
     "output_type": "stream",
     "text": [
      "Epoch: 1   Batch: 4 of size 512   Train loss: 381.7542724609375   Valid loss: 377.6357727050781\r"
     ]
    },
    {
     "name": "stderr",
     "output_type": "stream",
     "text": [
      "100%|██████████| 6/6 [00:07<00:00,  1.29s/it]"
     ]
    },
    {
     "name": "stdout",
     "output_type": "stream",
     "text": [
      "Epoch: 1   Batch: 6 of size 512   Train loss: 379.44952392578125   Valid loss: 378.46014404296875\n"
     ]
    },
    {
     "name": "stderr",
     "output_type": "stream",
     "text": [
      "\n"
     ]
    }
   ],
   "source": [
    "#strongly recommand cpu because it's only one epoch training time and CUDA some times run out of memory if you retrain multiple times\n",
    "device_name = 'cpu'\n",
    "GCNmodel, GCNcheckpoint = GCNutil.train_GCN(A, X_train, X_test, GCNcheckpoint, device_name = device_name, load = False, print_summary = False)"
   ]
  },
  {
   "cell_type": "code",
   "execution_count": 11,
   "metadata": {},
   "outputs": [
    {
     "name": "stdout",
     "output_type": "stream",
     "text": [
      "model saved\n"
     ]
    }
   ],
   "source": [
    "#optional: saving the model\n",
    "GCNutil.save_ckp(GCNcheckpoint, \"models/GCN253_1.pt\")"
   ]
  },
  {
   "cell_type": "markdown",
   "metadata": {},
   "source": [
    "##### 2.1.3 Visualize some simularity matrices generated by GCN (a visual evaluation and sanity check)"
   ]
  },
  {
   "cell_type": "code",
   "execution_count": 160,
   "metadata": {},
   "outputs": [],
   "source": [
    "GCNmodel.eval()\n",
    "test_pred = GCNmodel(torch.from_numpy(X_train[:128, :,:]).float().to(device_name), torch.from_numpy(A).float().to(device_name)).cpu().detach().numpy()"
   ]
  },
  {
   "cell_type": "code",
   "execution_count": 161,
   "metadata": {
    "collapsed": true,
    "jupyter": {
     "outputs_hidden": true
    }
   },
   "outputs": [
    {
     "name": "stdout",
     "output_type": "stream",
     "text": [
      "sample 0   label, 0.0\n"
     ]
    },
    {
     "data": {
      "image/png": "[encoded data removed]",
      "text/plain": [
       "<Figure size 432x288 with 2 Axes>"
      ]
     },
     "metadata": {
      "needs_background": "light"
     },
     "output_type": "display_data"
    },
    {
     "name": "stdout",
     "output_type": "stream",
     "text": [
      "sample 1   label, 0.0\n"
     ]
    },
    {
     "data": {
      "image/png": "[encoded data removed]",
      "text/plain": [
       "<Figure size 432x288 with 2 Axes>"
      ]
     },
     "metadata": {
      "needs_background": "light"
     },
     "output_type": "display_data"
    },
    {
     "name": "stdout",
     "output_type": "stream",
     "text": [
      "sample 2   label, 0.0\n"
     ]
    },
    {
     "data": {
      "image/png": "[encoded data removed]",
      "text/plain": [
       "<Figure size 432x288 with 2 Axes>"
      ]
     },
     "metadata": {
      "needs_background": "light"
     },
     "output_type": "display_data"
    },
    {
     "name": "stdout",
     "output_type": "stream",
     "text": [
      "sample 3   label, 0.0\n"
     ]
    },
    {
     "data": {
      "image/png": "[encoded data removed]",
      "text/plain": [
       "<Figure size 432x288 with 2 Axes>"
      ]
     },
     "metadata": {
      "needs_background": "light"
     },
     "output_type": "display_data"
    },
    {
     "name": "stdout",
     "output_type": "stream",
     "text": [
      "sample 4   label, 0.0\n"
     ]
    },
    {
     "data": {
      "image/png": "[encoded data removed]",
      "text/plain": [
       "<Figure size 432x288 with 2 Axes>"
      ]
     },
     "metadata": {
      "needs_background": "light"
     },
     "output_type": "display_data"
    },
    {
     "name": "stdout",
     "output_type": "stream",
     "text": [
      "sample 5   label, 0.0\n"
     ]
    },
    {
     "data": {
      "image/png": "[encoded data removed]",
      "text/plain": [
       "<Figure size 432x288 with 2 Axes>"
      ]
     },
     "metadata": {
      "needs_background": "light"
     },
     "output_type": "display_data"
    },
    {
     "name": "stdout",
     "output_type": "stream",
     "text": [
      "sample 6   label, 0.0\n"
     ]
    },
    {
     "data": {
      "image/png": "[encoded data removed]",
      "text/plain": [
       "<Figure size 432x288 with 2 Axes>"
      ]
     },
     "metadata": {
      "needs_background": "light"
     },
     "output_type": "display_data"
    },
    {
     "name": "stdout",
     "output_type": "stream",
     "text": [
      "sample 7   label, 0.0\n"
     ]
    },
    {
     "data": {
      "image/png": "[encoded data removed]",
      "text/plain": [
       "<Figure size 432x288 with 2 Axes>"
      ]
     },
     "metadata": {
      "needs_background": "light"
     },
     "output_type": "display_data"
    },
    {
     "name": "stdout",
     "output_type": "stream",
     "text": [
      "sample 8   label, 0.0\n"
     ]
    },
    {
     "data": {
      "image/png": "[encoded data removed]",
      "text/plain": [
       "<Figure size 432x288 with 2 Axes>"
      ]
     },
     "metadata": {
      "needs_background": "light"
     },
     "output_type": "display_data"
    },
    {
     "name": "stdout",
     "output_type": "stream",
     "text": [
      "sample 9   label, 0.0\n"
     ]
    },
    {
     "data": {
      "image/png": "[encoded data removed]",
      "text/plain": [
       "<Figure size 432x288 with 2 Axes>"
      ]
     },
     "metadata": {
      "needs_background": "light"
     },
     "output_type": "display_data"
    }
   ],
   "source": [
    "for i in range(10):\n",
    "    print(\"sample\", i, \"  label,\", dm.Y_train[i,0])\n",
    "    show_heat_map(test_pred[i,:,:])"
   ]
  },
  {
   "cell_type": "markdown",
   "metadata": {},
   "source": [
    "$\\;\\;\\;\\;\\;\\;\\;\\;\\;\\;\\;\\;\\;\\;$"
   ]
  },
  {
   "cell_type": "markdown",
   "metadata": {},
   "source": [
    "## 2.1 Unsupervised Graph Neural Ordinary Differential Equations (GNODE)"
   ]
  },
  {
   "cell_type": "markdown",
   "metadata": {},
   "source": [
    "[short description here]"
   ]
  },
  {
   "cell_type": "markdown",
   "metadata": {},
   "source": [
    "##### 2.2.1 Declare Parameters for GNODE"
   ]
  },
  {
   "cell_type": "code",
   "execution_count": 162,
   "metadata": {},
   "outputs": [],
   "source": [
    "A = create_DAD(Araw)\n",
    "X_train = dm.X_train\n",
    "X_test = dm.X_test\n",
    "GDEparameters = {\n",
    "    'body': dm.X_train.shape[2],\n",
    "    'solver': GDEsolvers.explicit_RK,\n",
    "    'solver_params': {\n",
    "    \"t0\": 0,\n",
    "    \"t1\": 0.25,\n",
    "    \"N\": 5,\n",
    "    \"b_tableau\": GDEsolvers.EF\n",
    "     },\n",
    "    'hidden_layers': 1,\n",
    "    'M': dm.X_train.shape[0],\n",
    "    'batch_size': 128,\n",
    "    'num_epochs': 1,\n",
    "    'learning_rate': 1e-3,\n",
    "    'weight_decay': 5e-3\n",
    "}\n",
    "GDEcheckpoint = {'parameters': GDEparameters}"
   ]
  },
  {
   "cell_type": "markdown",
   "metadata": {},
   "source": [
    "##### 2.2.2 Train GNODE"
   ]
  },
  {
   "cell_type": "code",
   "execution_count": 163,
   "metadata": {},
   "outputs": [
    {
     "name": "stderr",
     "output_type": "stream",
     "text": [
      "  0%|          | 0/21 [00:00<?, ?it/s]"
     ]
    },
    {
     "name": "stdout",
     "output_type": "stream",
     "text": [
      "device set to cpu\n"
     ]
    },
    {
     "name": "stderr",
     "output_type": "stream",
     "text": [
      "  5%|▍         | 1/21 [00:02<00:49,  2.47s/it]"
     ]
    },
    {
     "name": "stdout",
     "output_type": "stream",
     "text": [
      "Epoch: 1   Batch: 1 of size 128   Train loss: 387.67047119140625   Valid loss: 376.8155517578125\r"
     ]
    },
    {
     "name": "stderr",
     "output_type": "stream",
     "text": [
      " 10%|▉         | 2/21 [00:05<00:47,  2.53s/it]"
     ]
    },
    {
     "name": "stdout",
     "output_type": "stream",
     "text": [
      "Epoch: 1   Batch: 2 of size 128   Train loss: 377.37384033203125   Valid loss: 381.487060546875\r"
     ]
    },
    {
     "name": "stderr",
     "output_type": "stream",
     "text": [
      " 14%|█▍        | 3/21 [00:07<00:45,  2.54s/it]"
     ]
    },
    {
     "name": "stdout",
     "output_type": "stream",
     "text": [
      "Epoch: 1   Batch: 3 of size 128   Train loss: 382.6495666503906   Valid loss: 380.57708740234375\r"
     ]
    },
    {
     "name": "stderr",
     "output_type": "stream",
     "text": [
      " 19%|█▉        | 4/21 [00:10<00:42,  2.52s/it]"
     ]
    },
    {
     "name": "stdout",
     "output_type": "stream",
     "text": [
      "Epoch: 1   Batch: 4 of size 128   Train loss: 382.0887145996094   Valid loss: 376.47137451171875\r"
     ]
    },
    {
     "name": "stderr",
     "output_type": "stream",
     "text": [
      " 24%|██▍       | 5/21 [00:12<00:41,  2.57s/it]"
     ]
    },
    {
     "name": "stdout",
     "output_type": "stream",
     "text": [
      "Epoch: 1   Batch: 5 of size 128   Train loss: 377.20648193359375   Valid loss: 375.0138244628906\r"
     ]
    },
    {
     "name": "stderr",
     "output_type": "stream",
     "text": [
      " 29%|██▊       | 6/21 [00:15<00:38,  2.54s/it]"
     ]
    },
    {
     "name": "stdout",
     "output_type": "stream",
     "text": [
      "Epoch: 1   Batch: 6 of size 128   Train loss: 376.45611572265625   Valid loss: 376.8854675292969\r"
     ]
    },
    {
     "name": "stderr",
     "output_type": "stream",
     "text": [
      " 33%|███▎      | 7/21 [00:17<00:35,  2.55s/it]"
     ]
    },
    {
     "name": "stdout",
     "output_type": "stream",
     "text": [
      "Epoch: 1   Batch: 7 of size 128   Train loss: 377.0892333984375   Valid loss: 377.24493408203125\r"
     ]
    },
    {
     "name": "stderr",
     "output_type": "stream",
     "text": [
      " 38%|███▊      | 8/21 [00:20<00:32,  2.52s/it]"
     ]
    },
    {
     "name": "stdout",
     "output_type": "stream",
     "text": [
      "Epoch: 1   Batch: 8 of size 128   Train loss: 377.3558349609375   Valid loss: 375.1022033691406\r"
     ]
    },
    {
     "name": "stderr",
     "output_type": "stream",
     "text": [
      " 43%|████▎     | 9/21 [00:23<00:30,  2.56s/it]"
     ]
    },
    {
     "name": "stdout",
     "output_type": "stream",
     "text": [
      "Epoch: 1   Batch: 9 of size 128   Train loss: 375.80877685546875   Valid loss: 372.66546630859375\r"
     ]
    },
    {
     "name": "stderr",
     "output_type": "stream",
     "text": [
      " 48%|████▊     | 10/21 [00:25<00:27,  2.52s/it]"
     ]
    },
    {
     "name": "stdout",
     "output_type": "stream",
     "text": [
      "Epoch: 1   Batch: 10 of size 128   Train loss: 373.0281677246094   Valid loss: 370.01519775390625\r"
     ]
    },
    {
     "name": "stderr",
     "output_type": "stream",
     "text": [
      " 52%|█████▏    | 11/21 [00:28<00:25,  2.54s/it]"
     ]
    },
    {
     "name": "stdout",
     "output_type": "stream",
     "text": [
      "Epoch: 1   Batch: 11 of size 128   Train loss: 370.8465576171875   Valid loss: 369.12335205078125\r"
     ]
    },
    {
     "name": "stderr",
     "output_type": "stream",
     "text": [
      " 57%|█████▋    | 12/21 [00:30<00:22,  2.51s/it]"
     ]
    },
    {
     "name": "stdout",
     "output_type": "stream",
     "text": [
      "Epoch: 1   Batch: 12 of size 128   Train loss: 369.873046875   Valid loss: 368.35028076171875\r"
     ]
    },
    {
     "name": "stderr",
     "output_type": "stream",
     "text": [
      " 62%|██████▏   | 13/21 [00:33<00:20,  2.53s/it]"
     ]
    },
    {
     "name": "stdout",
     "output_type": "stream",
     "text": [
      "Epoch: 1   Batch: 13 of size 128   Train loss: 369.4378356933594   Valid loss: 366.0274658203125\r"
     ]
    },
    {
     "name": "stderr",
     "output_type": "stream",
     "text": [
      " 67%|██████▋   | 14/21 [00:35<00:17,  2.51s/it]"
     ]
    },
    {
     "name": "stdout",
     "output_type": "stream",
     "text": [
      "Epoch: 1   Batch: 14 of size 128   Train loss: 368.3273010253906   Valid loss: 364.3710632324219\r"
     ]
    },
    {
     "name": "stderr",
     "output_type": "stream",
     "text": [
      " 71%|███████▏  | 15/21 [00:38<00:15,  2.54s/it]"
     ]
    },
    {
     "name": "stdout",
     "output_type": "stream",
     "text": [
      "Epoch: 1   Batch: 15 of size 128   Train loss: 365.5057373046875   Valid loss: 361.97552490234375\r"
     ]
    },
    {
     "name": "stderr",
     "output_type": "stream",
     "text": [
      " 76%|███████▌  | 16/21 [00:40<00:12,  2.51s/it]"
     ]
    },
    {
     "name": "stdout",
     "output_type": "stream",
     "text": [
      "Epoch: 1   Batch: 16 of size 128   Train loss: 361.5620422363281   Valid loss: 360.9928894042969\r"
     ]
    },
    {
     "name": "stderr",
     "output_type": "stream",
     "text": [
      " 81%|████████  | 17/21 [00:43<00:10,  2.52s/it]"
     ]
    },
    {
     "name": "stdout",
     "output_type": "stream",
     "text": [
      "Epoch: 1   Batch: 17 of size 128   Train loss: 360.1742858886719   Valid loss: 358.681640625\r"
     ]
    },
    {
     "name": "stderr",
     "output_type": "stream",
     "text": [
      " 86%|████████▌ | 18/21 [00:45<00:07,  2.51s/it]"
     ]
    },
    {
     "name": "stdout",
     "output_type": "stream",
     "text": [
      "Epoch: 1   Batch: 18 of size 128   Train loss: 357.3031005859375   Valid loss: 355.01641845703125\r"
     ]
    },
    {
     "name": "stderr",
     "output_type": "stream",
     "text": [
      " 90%|█████████ | 19/21 [00:48<00:05,  2.53s/it]"
     ]
    },
    {
     "name": "stdout",
     "output_type": "stream",
     "text": [
      "Epoch: 1   Batch: 19 of size 128   Train loss: 355.8348083496094   Valid loss: 354.2049865722656\r"
     ]
    },
    {
     "name": "stderr",
     "output_type": "stream",
     "text": [
      " 95%|█████████▌| 20/21 [00:50<00:02,  2.54s/it]"
     ]
    },
    {
     "name": "stdout",
     "output_type": "stream",
     "text": [
      "Epoch: 1   Batch: 20 of size 128   Train loss: 354.30364990234375   Valid loss: 352.01318359375\r"
     ]
    },
    {
     "name": "stderr",
     "output_type": "stream",
     "text": [
      "100%|██████████| 21/21 [00:50<00:00,  2.43s/it]"
     ]
    },
    {
     "name": "stdout",
     "output_type": "stream",
     "text": [
      "Epoch: 1   Batch: 21 of size 128   Train loss: 354.9957580566406   Valid loss: 349.61907958984375\n"
     ]
    },
    {
     "name": "stderr",
     "output_type": "stream",
     "text": [
      "\n"
     ]
    }
   ],
   "source": [
    "#strongly recommand cpu because it's only one epoch training time and CUDA some times run out of memory if you retrain multiple times\n",
    "device_name = 'cpu'\n",
    "GDEmodel, GDEcheckpoint = GDEutil.train_GDE(A, X_train, X_test, GDEcheckpoint, device_name = device_name, load = False, print_summary = False)"
   ]
  },
  {
   "cell_type": "code",
   "execution_count": 16,
   "metadata": {},
   "outputs": [
    {
     "name": "stdout",
     "output_type": "stream",
     "text": [
      "model saved\n"
     ]
    }
   ],
   "source": [
    "#optional: saving the model\n",
    "GDEutil.save_ckp(GDEcheckpoint, \"models/GDE253_1.pt\")"
   ]
  },
  {
   "cell_type": "markdown",
   "metadata": {},
   "source": [
    "##### 2.2.3 Visualize some simularity matrices generated by GNODE (a visual evaluation and sanity check)"
   ]
  },
  {
   "cell_type": "code",
   "execution_count": 164,
   "metadata": {},
   "outputs": [],
   "source": [
    "GDEmodel.eval()\n",
    "test_pred = GDEmodel(torch.from_numpy(X_train[:128, :,:]).float().to(device_name)).cpu().detach().numpy()"
   ]
  },
  {
   "cell_type": "code",
   "execution_count": 165,
   "metadata": {
    "collapsed": true,
    "jupyter": {
     "outputs_hidden": true
    }
   },
   "outputs": [
    {
     "name": "stdout",
     "output_type": "stream",
     "text": [
      "sample 0   label, 0.0\n"
     ]
    },
    {
     "data": {
      "image/png": "[encoded data removed]",
      "text/plain": [
       "<Figure size 432x288 with 2 Axes>"
      ]
     },
     "metadata": {
      "needs_background": "light"
     },
     "output_type": "display_data"
    },
    {
     "name": "stdout",
     "output_type": "stream",
     "text": [
      "sample 1   label, 0.0\n"
     ]
    },
    {
     "data": {
      "image/png": "[encoded data removed]",
      "text/plain": [
       "<Figure size 432x288 with 2 Axes>"
      ]
     },
     "metadata": {
      "needs_background": "light"
     },
     "output_type": "display_data"
    },
    {
     "name": "stdout",
     "output_type": "stream",
     "text": [
      "sample 2   label, 0.0\n"
     ]
    },
    {
     "data": {
      "image/png": "[encoded data removed]",
      "text/plain": [
       "<Figure size 432x288 with 2 Axes>"
      ]
     },
     "metadata": {
      "needs_background": "light"
     },
     "output_type": "display_data"
    },
    {
     "name": "stdout",
     "output_type": "stream",
     "text": [
      "sample 3   label, 0.0\n"
     ]
    },
    {
     "data": {
      "image/png": "[encoded data removed]",
      "text/plain": [
       "<Figure size 432x288 with 2 Axes>"
      ]
     },
     "metadata": {
      "needs_background": "light"
     },
     "output_type": "display_data"
    },
    {
     "name": "stdout",
     "output_type": "stream",
     "text": [
      "sample 4   label, 0.0\n"
     ]
    },
    {
     "data": {
      "image/png": "[encoded data removed]",
      "text/plain": [
       "<Figure size 432x288 with 2 Axes>"
      ]
     },
     "metadata": {
      "needs_background": "light"
     },
     "output_type": "display_data"
    },
    {
     "name": "stdout",
     "output_type": "stream",
     "text": [
      "sample 5   label, 0.0\n"
     ]
    },
    {
     "data": {
      "image/png": "[encoded data removed]",
      "text/plain": [
       "<Figure size 432x288 with 2 Axes>"
      ]
     },
     "metadata": {
      "needs_background": "light"
     },
     "output_type": "display_data"
    },
    {
     "name": "stdout",
     "output_type": "stream",
     "text": [
      "sample 6   label, 0.0\n"
     ]
    },
    {
     "data": {
      "image/png": "[encoded data removed]",
      "text/plain": [
       "<Figure size 432x288 with 2 Axes>"
      ]
     },
     "metadata": {
      "needs_background": "light"
     },
     "output_type": "display_data"
    },
    {
     "name": "stdout",
     "output_type": "stream",
     "text": [
      "sample 7   label, 0.0\n"
     ]
    },
    {
     "data": {
      "image/png": "[encoded data removed]",
      "text/plain": [
       "<Figure size 432x288 with 2 Axes>"
      ]
     },
     "metadata": {
      "needs_background": "light"
     },
     "output_type": "display_data"
    },
    {
     "name": "stdout",
     "output_type": "stream",
     "text": [
      "sample 8   label, 0.0\n"
     ]
    },
    {
     "data": {
      "image/png": "[encoded data removed]",
      "text/plain": [
       "<Figure size 432x288 with 2 Axes>"
      ]
     },
     "metadata": {
      "needs_background": "light"
     },
     "output_type": "display_data"
    },
    {
     "name": "stdout",
     "output_type": "stream",
     "text": [
      "sample 9   label, 0.0\n"
     ]
    },
    {
     "data": {
      "image/png": "[encoded data removed]",
      "text/plain": [
       "<Figure size 432x288 with 2 Axes>"
      ]
     },
     "metadata": {
      "needs_background": "light"
     },
     "output_type": "display_data"
    }
   ],
   "source": [
    "for i in range(10):\n",
    "    print(\"sample\", i, \"  label,\", dm.Y_train[i,0])\n",
    "    show_heat_map(test_pred[i,:,:])"
   ]
  },
  {
   "cell_type": "markdown",
   "metadata": {},
   "source": [
    "$\\;\\;\\;\\;\\;\\;\\;\\;\\;\\;\\;\\;\\;\\;$"
   ]
  },
  {
   "cell_type": "markdown",
   "metadata": {},
   "source": [
    "## 3.1 Supervised Multi-Layer Perceptron (MLP)"
   ]
  },
  {
   "cell_type": "markdown",
   "metadata": {},
   "source": [
    "[short description here]"
   ]
  },
  {
   "cell_type": "markdown",
   "metadata": {},
   "source": [
    "##### 3.1.1 Get simularity matrix from GCN and GNODE models"
   ]
  },
  {
   "cell_type": "code",
   "execution_count": 166,
   "metadata": {},
   "outputs": [],
   "source": [
    "sim_all = {}\n",
    "A = create_DAD(Araw)\n",
    "X_train = dm.X_train\n",
    "X_test = dm.X_test\n",
    "device_name = 'cpu'"
   ]
  },
  {
   "cell_type": "code",
   "execution_count": 167,
   "metadata": {},
   "outputs": [],
   "source": [
    "#Get simularity matrix from GCN\n",
    "GCNmodel.eval()\n",
    "sim_all[\"GCN_train\"] = GCNmodel(torch.from_numpy(X_train).float().to(device_name), torch.from_numpy(A).float().to(device_name)).cpu().detach().numpy()\n",
    "sim_all[\"GCN_test\"] = GCNmodel(torch.from_numpy(X_test).float().to(device_name), torch.from_numpy(A).float().to(device_name)).cpu().detach().numpy()"
   ]
  },
  {
   "cell_type": "code",
   "execution_count": 168,
   "metadata": {},
   "outputs": [],
   "source": [
    "#Get simularity matrix from GNODE\n",
    "GDEmodel.eval()\n",
    "sim_all[\"GDE_train\"] = GDEmodel(torch.from_numpy(X_train).float().to(device_name)).cpu().detach().numpy()\n",
    "sim_all[\"GDE_test\"] = GDEmodel(torch.from_numpy(X_test).float().to(device_name)).cpu().detach().numpy()"
   ]
  },
  {
   "cell_type": "markdown",
   "metadata": {},
   "source": [
    "##### 3.1.2 Visualize the averaged ictal and non-ictal states for the two models"
   ]
  },
  {
   "cell_type": "code",
   "execution_count": 169,
   "metadata": {},
   "outputs": [
    {
     "name": "stdout",
     "output_type": "stream",
     "text": [
      "Average Ictal and Non-Ictal Simularity Matrix for GCN\n",
      "Average ictal\n"
     ]
    },
    {
     "data": {
      "image/png": "[encoded data removed]",
      "text/plain": [
       "<Figure size 432x288 with 2 Axes>"
      ]
     },
     "metadata": {
      "needs_background": "light"
     },
     "output_type": "display_data"
    },
    {
     "name": "stdout",
     "output_type": "stream",
     "text": [
      "Average Non-Ictal\n"
     ]
    },
    {
     "data": {
      "image/png": "[encoded data removed]",
      "text/plain": [
       "<Figure size 432x288 with 2 Axes>"
      ]
     },
     "metadata": {
      "needs_background": "light"
     },
     "output_type": "display_data"
    }
   ],
   "source": [
    "print(\"Average Ictal and Non-Ictal Simularity Matrix for GCN\")\n",
    "visualize_avg_sim_matrix(dm, sim_all[\"GCN_train\"], sim_all[\"GCN_test\"])"
   ]
  },
  {
   "cell_type": "code",
   "execution_count": 170,
   "metadata": {},
   "outputs": [
    {
     "name": "stdout",
     "output_type": "stream",
     "text": [
      "Average Ictal and Non-Ictal Simularity Matrix for GDE\n",
      "Average ictal\n"
     ]
    },
    {
     "data": {
      "image/png": "[encoded data removed]",
      "text/plain": [
       "<Figure size 432x288 with 2 Axes>"
      ]
     },
     "metadata": {
      "needs_background": "light"
     },
     "output_type": "display_data"
    },
    {
     "name": "stdout",
     "output_type": "stream",
     "text": [
      "Average Non-Ictal\n"
     ]
    },
    {
     "data": {
      "image/png": "[encoded data removed]",
      "text/plain": [
       "<Figure size 432x288 with 2 Axes>"
      ]
     },
     "metadata": {
      "needs_background": "light"
     },
     "output_type": "display_data"
    }
   ],
   "source": [
    "print(\"Average Ictal and Non-Ictal Simularity Matrix for GDE\")\n",
    "visualize_avg_sim_matrix(dm, sim_all[\"GDE_train\"], sim_all[\"GDE_test\"])"
   ]
  },
  {
   "cell_type": "markdown",
   "metadata": {},
   "source": [
    "##### 3.1.3 MLP for GCN  "
   ]
  },
  {
   "cell_type": "markdown",
   "metadata": {},
   "source": [
    "###### Training"
   ]
  },
  {
   "cell_type": "code",
   "execution_count": 171,
   "metadata": {
    "collapsed": true,
    "jupyter": {
     "outputs_hidden": true
    }
   },
   "outputs": [
    {
     "name": "stdout",
     "output_type": "stream",
     "text": [
      "MLP(\n",
      "  (layers): ModuleList(\n",
      "    (0): Dropout(p=0.3, inplace=False)\n",
      "    (1): Linear(in_features=465, out_features=465, bias=True)\n",
      "    (2): ReLU()\n",
      "    (3): Dropout(p=0.3, inplace=False)\n",
      "    (4): Linear(in_features=465, out_features=1, bias=True)\n",
      "    (5): Sigmoid()\n",
      "  )\n",
      ")\n",
      "----------------------------------------------------------------\n",
      "        Layer (type)               Output Shape         Param #\n",
      "================================================================\n",
      "           Dropout-1                  [-1, 465]               0\n",
      "            Linear-2                  [-1, 465]         216,690\n",
      "              ReLU-3                  [-1, 465]               0\n",
      "           Dropout-4                  [-1, 465]               0\n",
      "            Linear-5                    [-1, 1]             466\n",
      "           Sigmoid-6                    [-1, 1]               0\n",
      "================================================================\n",
      "Total params: 217,156\n",
      "Trainable params: 217,156\n",
      "Non-trainable params: 0\n",
      "----------------------------------------------------------------\n",
      "Input size (MB): 0.00\n",
      "Forward/backward pass size (MB): 0.01\n",
      "Params size (MB): 0.83\n",
      "Estimated Total Size (MB): 0.85\n",
      "----------------------------------------------------------------\n",
      "Epoch: 1   Train loss: 0.3921   Train accuracy: 0.002   Val loss: 0.3332   Val accuracy: 0.367    weighted Val loss: 0.3332\n",
      "0.367 ----------saved-----------\n",
      "Epoch: 2   Train loss: 0.3175   Train accuracy: 0.0   Val loss: 0.3071   Val accuracy: 0.542    weighted Val loss: 0.3331\n",
      "0.542 ----------saved-----------\n"
     ]
    },
    {
     "name": "stderr",
     "output_type": "stream",
     "text": [
      "C:\\Users\\caixu\\anaconda3\\lib\\site-packages\\sklearn\\metrics\\_classification.py:1464: UndefinedMetricWarning: F-score is ill-defined and being set to 0.0 due to no true nor predicted samples. Use `zero_division` parameter to control this behavior.\n",
      "  _warn_prf(\n"
     ]
    },
    {
     "name": "stdout",
     "output_type": "stream",
     "text": [
      "Epoch: 3   Train loss: 0.2294   Train accuracy: 0.0   Val loss: 0.2927   Val accuracy: 0.557    weighted Val loss: 0.3329\n",
      "0.557 ----------saved-----------\n",
      "Epoch: 4   Train loss: 0.2031   Train accuracy: 0.0   Val loss: 0.2781   Val accuracy: 0.612    weighted Val loss: 0.3326\n",
      "0.612 ----------saved-----------\n",
      "Epoch: 5   Train loss: 0.1825   Train accuracy: 0.055   Val loss: 0.2657   Val accuracy: 0.629    weighted Val loss: 0.3323\n",
      "0.629 ----------saved-----------\n",
      "Epoch: 6   Train loss: 0.1636   Train accuracy: 0.351   Val loss: 0.2542   Val accuracy: 0.634    weighted Val loss: 0.3319\n",
      "0.634 ----------saved-----------\n",
      "Epoch: 7   Train loss: 0.1461   Train accuracy: 0.518   Val loss: 0.2484   Val accuracy: 0.639    weighted Val loss: 0.3315\n",
      "0.639 ----------saved-----------\n",
      "Epoch: 8   Train loss: 0.1347   Train accuracy: 0.66   Val loss: 0.2356   Val accuracy: 0.642    weighted Val loss: 0.331\n",
      "0.642 ----------saved-----------\n",
      "Epoch: 9   Train loss: 0.1245   Train accuracy: 0.664   Val loss: 0.2298   Val accuracy: 0.656    weighted Val loss: 0.3305\n",
      "0.656 ----------saved-----------\n",
      "Epoch: 10   Train loss: 0.1422   Train accuracy: 0.738   Val loss: 0.2266   Val accuracy: 0.657    weighted Val loss: 0.33\n",
      "0.657 ----------saved-----------\n",
      "Epoch: 11   Train loss: 0.1178   Train accuracy: 0.743   Val loss: 0.2281   Val accuracy: 0.649    weighted Val loss: 0.3295\n",
      "Epoch: 12   Train loss: 0.1094   Train accuracy: 0.721   Val loss: 0.2243   Val accuracy: 0.643    weighted Val loss: 0.329\n",
      "Epoch: 13   Train loss: 0.113   Train accuracy: 0.759   Val loss: 0.2253   Val accuracy: 0.639    weighted Val loss: 0.3284\n",
      "Epoch: 14   Train loss: 0.1024   Train accuracy: 0.747   Val loss: 0.2284   Val accuracy: 0.638    weighted Val loss: 0.3279\n",
      "Epoch: 15   Train loss: 0.0921   Train accuracy: 0.774   Val loss: 0.2214   Val accuracy: 0.647    weighted Val loss: 0.3274\n",
      "Epoch: 16   Train loss: 0.1354   Train accuracy: 0.817   Val loss: 0.238   Val accuracy: 0.658    weighted Val loss: 0.327\n",
      "0.658 ----------saved-----------\n",
      "Epoch: 17   Train loss: 0.1125   Train accuracy: 0.744   Val loss: 0.2174   Val accuracy: 0.639    weighted Val loss: 0.3264\n",
      "Epoch: 18   Train loss: 0.1033   Train accuracy: 0.766   Val loss: 0.2159   Val accuracy: 0.641    weighted Val loss: 0.3259\n",
      "Epoch: 19   Train loss: 0.1031   Train accuracy: 0.741   Val loss: 0.2188   Val accuracy: 0.638    weighted Val loss: 0.3253\n",
      "Epoch: 20   Train loss: 0.0917   Train accuracy: 0.772   Val loss: 0.2214   Val accuracy: 0.631    weighted Val loss: 0.3248\n",
      "Epoch: 21   Train loss: 0.0936   Train accuracy: 0.776   Val loss: 0.2193   Val accuracy: 0.637    weighted Val loss: 0.3243\n",
      "Epoch: 22   Train loss: 0.0937   Train accuracy: 0.778   Val loss: 0.2174   Val accuracy: 0.635    weighted Val loss: 0.3237\n",
      "Epoch: 23   Train loss: 0.0849   Train accuracy: 0.785   Val loss: 0.2178   Val accuracy: 0.637    weighted Val loss: 0.3232\n",
      "Epoch: 24   Train loss: 0.0895   Train accuracy: 0.763   Val loss: 0.2179   Val accuracy: 0.638    weighted Val loss: 0.3227\n",
      "Epoch: 25   Train loss: 0.0877   Train accuracy: 0.789   Val loss: 0.2155   Val accuracy: 0.644    weighted Val loss: 0.3221\n",
      "Epoch: 26   Train loss: 0.0847   Train accuracy: 0.775   Val loss: 0.2155   Val accuracy: 0.647    weighted Val loss: 0.3216\n",
      "Epoch: 27   Train loss: 0.0875   Train accuracy: 0.795   Val loss: 0.2184   Val accuracy: 0.648    weighted Val loss: 0.3211\n",
      "Epoch: 28   Train loss: 0.0865   Train accuracy: 0.777   Val loss: 0.218   Val accuracy: 0.644    weighted Val loss: 0.3206\n",
      "Epoch: 29   Train loss: 0.0871   Train accuracy: 0.783   Val loss: 0.2237   Val accuracy: 0.646    weighted Val loss: 0.3201\n",
      "Epoch: 30   Train loss: 0.0816   Train accuracy: 0.801   Val loss: 0.2139   Val accuracy: 0.651    weighted Val loss: 0.3196\n",
      "Epoch: 31   Train loss: 0.0874   Train accuracy: 0.807   Val loss: 0.2148   Val accuracy: 0.657    weighted Val loss: 0.319\n",
      "Epoch: 32   Train loss: 0.0872   Train accuracy: 0.779   Val loss: 0.2206   Val accuracy: 0.627    weighted Val loss: 0.3185\n",
      "Epoch: 33   Train loss: 0.0892   Train accuracy: 0.774   Val loss: 0.2177   Val accuracy: 0.64    weighted Val loss: 0.318\n",
      "Epoch: 34   Train loss: 0.0909   Train accuracy: 0.817   Val loss: 0.2117   Val accuracy: 0.667    weighted Val loss: 0.3175\n",
      "0.667 ----------saved-----------\n",
      "Epoch: 35   Train loss: 0.0774   Train accuracy: 0.792   Val loss: 0.212   Val accuracy: 0.669    weighted Val loss: 0.317\n",
      "0.669 ----------saved-----------\n",
      "Epoch: 36   Train loss: 0.0798   Train accuracy: 0.788   Val loss: 0.2345   Val accuracy: 0.662    weighted Val loss: 0.3166\n",
      "Epoch: 37   Train loss: 0.0892   Train accuracy: 0.793   Val loss: 0.2235   Val accuracy: 0.665    weighted Val loss: 0.3161\n",
      "Epoch: 38   Train loss: 0.0816   Train accuracy: 0.81   Val loss: 0.2096   Val accuracy: 0.664    weighted Val loss: 0.3156\n",
      "Epoch: 39   Train loss: 0.0816   Train accuracy: 0.803   Val loss: 0.2092   Val accuracy: 0.658    weighted Val loss: 0.315\n",
      "Epoch: 40   Train loss: 0.0895   Train accuracy: 0.846   Val loss: 0.227   Val accuracy: 0.659    weighted Val loss: 0.3146\n",
      "Epoch: 41   Train loss: 0.097   Train accuracy: 0.784   Val loss: 0.2193   Val accuracy: 0.654    weighted Val loss: 0.3141\n",
      "Epoch: 42   Train loss: 0.0995   Train accuracy: 0.718   Val loss: 0.2336   Val accuracy: 0.635    weighted Val loss: 0.3137\n",
      "Epoch: 43   Train loss: 0.1279   Train accuracy: 0.746   Val loss: 0.2323   Val accuracy: 0.654    weighted Val loss: 0.3133\n",
      "Epoch: 44   Train loss: 0.1114   Train accuracy: 0.772   Val loss: 0.2235   Val accuracy: 0.626    weighted Val loss: 0.3129\n",
      "Epoch: 45   Train loss: 0.0956   Train accuracy: 0.788   Val loss: 0.217   Val accuracy: 0.64    weighted Val loss: 0.3124\n",
      "Epoch: 46   Train loss: 0.0834   Train accuracy: 0.8   Val loss: 0.2132   Val accuracy: 0.649    weighted Val loss: 0.3119\n",
      "Epoch: 47   Train loss: 0.0799   Train accuracy: 0.775   Val loss: 0.213   Val accuracy: 0.647    weighted Val loss: 0.3114\n",
      "Epoch: 48   Train loss: 0.0812   Train accuracy: 0.788   Val loss: 0.2121   Val accuracy: 0.653    weighted Val loss: 0.3109\n",
      "Epoch: 49   Train loss: 0.0847   Train accuracy: 0.845   Val loss: 0.2132   Val accuracy: 0.655    weighted Val loss: 0.3104\n",
      "Epoch: 50   Train loss: 0.0849   Train accuracy: 0.779   Val loss: 0.2216   Val accuracy: 0.641    weighted Val loss: 0.31\n",
      "Epoch: 51   Train loss: 0.0914   Train accuracy: 0.776   Val loss: 0.2133   Val accuracy: 0.644    weighted Val loss: 0.3095\n",
      "Epoch: 52   Train loss: 0.0829   Train accuracy: 0.81   Val loss: 0.2197   Val accuracy: 0.665    weighted Val loss: 0.309\n",
      "Epoch: 53   Train loss: 0.0827   Train accuracy: 0.78   Val loss: 0.2098   Val accuracy: 0.664    weighted Val loss: 0.3085\n",
      "Epoch: 54   Train loss: 0.082   Train accuracy: 0.792   Val loss: 0.2139   Val accuracy: 0.664    weighted Val loss: 0.3081\n",
      "Epoch: 55   Train loss: 0.0801   Train accuracy: 0.818   Val loss: 0.2253   Val accuracy: 0.656    weighted Val loss: 0.3077\n",
      "Epoch: 56   Train loss: 0.0835   Train accuracy: 0.825   Val loss: 0.2134   Val accuracy: 0.654    weighted Val loss: 0.3072\n",
      "Epoch: 57   Train loss: 0.0836   Train accuracy: 0.868   Val loss: 0.2253   Val accuracy: 0.663    weighted Val loss: 0.3068\n",
      "Epoch: 58   Train loss: 0.0858   Train accuracy: 0.767   Val loss: 0.2109   Val accuracy: 0.672    weighted Val loss: 0.3063\n",
      "0.672 ----------saved-----------\n",
      "Epoch: 59   Train loss: 0.0849   Train accuracy: 0.845   Val loss: 0.2156   Val accuracy: 0.676    weighted Val loss: 0.3058\n",
      "0.676 ----------saved-----------\n",
      "Epoch: 60   Train loss: 0.0829   Train accuracy: 0.798   Val loss: 0.211   Val accuracy: 0.667    weighted Val loss: 0.3054\n",
      "Epoch: 61   Train loss: 0.0755   Train accuracy: 0.789   Val loss: 0.2086   Val accuracy: 0.668    weighted Val loss: 0.3049\n",
      "Epoch: 62   Train loss: 0.0809   Train accuracy: 0.844   Val loss: 0.2125   Val accuracy: 0.661    weighted Val loss: 0.3044\n",
      "Epoch: 63   Train loss: 0.0739   Train accuracy: 0.813   Val loss: 0.21   Val accuracy: 0.66    weighted Val loss: 0.3039\n",
      "Epoch: 64   Train loss: 0.0716   Train accuracy: 0.843   Val loss: 0.2094   Val accuracy: 0.659    weighted Val loss: 0.3035\n",
      "Epoch: 65   Train loss: 0.0787   Train accuracy: 0.817   Val loss: 0.2112   Val accuracy: 0.66    weighted Val loss: 0.303\n",
      "Epoch: 66   Train loss: 0.0817   Train accuracy: 0.771   Val loss: 0.2238   Val accuracy: 0.656    weighted Val loss: 0.3026\n",
      "Epoch: 67   Train loss: 0.0826   Train accuracy: 0.789   Val loss: 0.216   Val accuracy: 0.682    weighted Val loss: 0.3022\n",
      "0.682 ----------saved-----------\n",
      "Epoch: 68   Train loss: 0.08   Train accuracy: 0.785   Val loss: 0.2081   Val accuracy: 0.686    weighted Val loss: 0.3017\n",
      "0.686 ----------saved-----------\n",
      "Epoch: 69   Train loss: 0.079   Train accuracy: 0.805   Val loss: 0.208   Val accuracy: 0.683    weighted Val loss: 0.3012\n",
      "Epoch: 70   Train loss: 0.0925   Train accuracy: 0.761   Val loss: 0.2136   Val accuracy: 0.658    weighted Val loss: 0.3008\n",
      "Epoch: 71   Train loss: 0.0891   Train accuracy: 0.764   Val loss: 0.2229   Val accuracy: 0.645    weighted Val loss: 0.3004\n",
      "Epoch: 72   Train loss: 0.078   Train accuracy: 0.852   Val loss: 0.2193   Val accuracy: 0.657    weighted Val loss: 0.3\n",
      "Epoch: 73   Train loss: 0.0768   Train accuracy: 0.815   Val loss: 0.2105   Val accuracy: 0.67    weighted Val loss: 0.2996\n",
      "Epoch: 74   Train loss: 0.0771   Train accuracy: 0.814   Val loss: 0.2104   Val accuracy: 0.662    weighted Val loss: 0.2991\n",
      "Epoch: 75   Train loss: 0.0781   Train accuracy: 0.8   Val loss: 0.2164   Val accuracy: 0.66    weighted Val loss: 0.2987\n",
      "Epoch: 76   Train loss: 0.0737   Train accuracy: 0.818   Val loss: 0.2115   Val accuracy: 0.665    weighted Val loss: 0.2983\n",
      "Epoch: 77   Train loss: 0.0797   Train accuracy: 0.798   Val loss: 0.2117   Val accuracy: 0.657    weighted Val loss: 0.2978\n",
      "Epoch: 78   Train loss: 0.0756   Train accuracy: 0.803   Val loss: 0.2112   Val accuracy: 0.659    weighted Val loss: 0.2974\n",
      "Epoch: 79   Train loss: 0.0724   Train accuracy: 0.823   Val loss: 0.2106   Val accuracy: 0.659    weighted Val loss: 0.297\n",
      "Epoch: 80   Train loss: 0.08   Train accuracy: 0.84   Val loss: 0.2252   Val accuracy: 0.65    weighted Val loss: 0.2966\n",
      "Epoch: 81   Train loss: 0.0968   Train accuracy: 0.794   Val loss: 0.2141   Val accuracy: 0.642    weighted Val loss: 0.2962\n",
      "Epoch: 82   Train loss: 0.0832   Train accuracy: 0.775   Val loss: 0.2103   Val accuracy: 0.656    weighted Val loss: 0.2958\n",
      "Epoch: 83   Train loss: 0.082   Train accuracy: 0.798   Val loss: 0.2102   Val accuracy: 0.661    weighted Val loss: 0.2953\n",
      "Epoch: 84   Train loss: 0.0833   Train accuracy: 0.803   Val loss: 0.2063   Val accuracy: 0.665    weighted Val loss: 0.2949\n",
      "Epoch: 85   Train loss: 0.0755   Train accuracy: 0.866   Val loss: 0.205   Val accuracy: 0.676    weighted Val loss: 0.2944\n",
      "Epoch: 86   Train loss: 0.0707   Train accuracy: 0.826   Val loss: 0.2055   Val accuracy: 0.664    weighted Val loss: 0.294\n",
      "Epoch: 87   Train loss: 0.093   Train accuracy: 0.776   Val loss: 0.2177   Val accuracy: 0.665    weighted Val loss: 0.2936\n",
      "Epoch: 88   Train loss: 0.1005   Train accuracy: 0.676   Val loss: 0.2397   Val accuracy: 0.614    weighted Val loss: 0.2933\n",
      "Epoch: 89   Train loss: 0.1317   Train accuracy: 0.779   Val loss: 0.2318   Val accuracy: 0.64    weighted Val loss: 0.293\n",
      "Epoch: 90   Train loss: 0.1141   Train accuracy: 0.727   Val loss: 0.2396   Val accuracy: 0.645    weighted Val loss: 0.2928\n",
      "Epoch: 91   Train loss: 0.0929   Train accuracy: 0.77   Val loss: 0.2297   Val accuracy: 0.651    weighted Val loss: 0.2925\n",
      "Epoch: 92   Train loss: 0.0922   Train accuracy: 0.766   Val loss: 0.2247   Val accuracy: 0.668    weighted Val loss: 0.2921\n",
      "Epoch: 93   Train loss: 0.0866   Train accuracy: 0.788   Val loss: 0.22   Val accuracy: 0.676    weighted Val loss: 0.2918\n",
      "Epoch: 94   Train loss: 0.0836   Train accuracy: 0.829   Val loss: 0.2169   Val accuracy: 0.682    weighted Val loss: 0.2914\n",
      "Epoch: 95   Train loss: 0.0729   Train accuracy: 0.804   Val loss: 0.2152   Val accuracy: 0.68    weighted Val loss: 0.291\n",
      "Epoch: 96   Train loss: 0.1507   Train accuracy: 0.806   Val loss: 0.2353   Val accuracy: 0.675    weighted Val loss: 0.2907\n",
      "Epoch: 97   Train loss: 0.1131   Train accuracy: 0.737   Val loss: 0.2365   Val accuracy: 0.634    weighted Val loss: 0.2905\n",
      "Epoch: 98   Train loss: 0.0951   Train accuracy: 0.733   Val loss: 0.22   Val accuracy: 0.635    weighted Val loss: 0.2901\n",
      "Epoch: 99   Train loss: 0.0831   Train accuracy: 0.769   Val loss: 0.2208   Val accuracy: 0.638    weighted Val loss: 0.2898\n",
      "Epoch: 100   Train loss: 0.0845   Train accuracy: 0.784   Val loss: 0.215   Val accuracy: 0.649    weighted Val loss: 0.2894\n",
      "Epoch: 101   Train loss: 0.0767   Train accuracy: 0.803   Val loss: 0.2143   Val accuracy: 0.649    weighted Val loss: 0.289\n",
      "Epoch: 102   Train loss: 0.0841   Train accuracy: 0.789   Val loss: 0.213   Val accuracy: 0.652    weighted Val loss: 0.2886\n",
      "Epoch: 103   Train loss: 0.0757   Train accuracy: 0.812   Val loss: 0.2143   Val accuracy: 0.65    weighted Val loss: 0.2883\n",
      "Epoch: 104   Train loss: 0.0751   Train accuracy: 0.815   Val loss: 0.2125   Val accuracy: 0.654    weighted Val loss: 0.2879\n",
      "Epoch: 105   Train loss: 0.0839   Train accuracy: 0.796   Val loss: 0.213   Val accuracy: 0.651    weighted Val loss: 0.2875\n",
      "Epoch: 106   Train loss: 0.077   Train accuracy: 0.794   Val loss: 0.2121   Val accuracy: 0.657    weighted Val loss: 0.2871\n",
      "Epoch: 107   Train loss: 0.0729   Train accuracy: 0.818   Val loss: 0.2115   Val accuracy: 0.66    weighted Val loss: 0.2867\n",
      "Epoch: 108   Train loss: 0.0797   Train accuracy: 0.848   Val loss: 0.2079   Val accuracy: 0.661    weighted Val loss: 0.2864\n",
      "Epoch: 109   Train loss: 0.0791   Train accuracy: 0.813   Val loss: 0.2096   Val accuracy: 0.668    weighted Val loss: 0.286\n",
      "Epoch: 110   Train loss: 0.0804   Train accuracy: 0.784   Val loss: 0.2125   Val accuracy: 0.672    weighted Val loss: 0.2856\n",
      "Epoch: 111   Train loss: 0.0759   Train accuracy: 0.781   Val loss: 0.212   Val accuracy: 0.681    weighted Val loss: 0.2852\n",
      "Epoch: 112   Train loss: 0.077   Train accuracy: 0.851   Val loss: 0.2091   Val accuracy: 0.664    weighted Val loss: 0.2849\n",
      "Epoch: 113   Train loss: 0.0736   Train accuracy: 0.826   Val loss: 0.2198   Val accuracy: 0.667    weighted Val loss: 0.2845\n",
      "Epoch: 114   Train loss: 0.0776   Train accuracy: 0.843   Val loss: 0.2143   Val accuracy: 0.664    weighted Val loss: 0.2842\n",
      "Epoch: 115   Train loss: 0.0962   Train accuracy: 0.806   Val loss: 0.2182   Val accuracy: 0.66    weighted Val loss: 0.2838\n",
      "Epoch: 116   Train loss: 0.082   Train accuracy: 0.819   Val loss: 0.2232   Val accuracy: 0.61    weighted Val loss: 0.2835\n",
      "Epoch: 117   Train loss: 0.0774   Train accuracy: 0.816   Val loss: 0.2199   Val accuracy: 0.624    weighted Val loss: 0.2832\n",
      "Epoch: 118   Train loss: 0.0796   Train accuracy: 0.797   Val loss: 0.2173   Val accuracy: 0.642    weighted Val loss: 0.2829\n",
      "Epoch: 119   Train loss: 0.0738   Train accuracy: 0.784   Val loss: 0.2132   Val accuracy: 0.646    weighted Val loss: 0.2825\n",
      "Epoch: 120   Train loss: 0.0795   Train accuracy: 0.8   Val loss: 0.2104   Val accuracy: 0.65    weighted Val loss: 0.2822\n",
      "Epoch: 121   Train loss: 0.076   Train accuracy: 0.792   Val loss: 0.2125   Val accuracy: 0.668    weighted Val loss: 0.2818\n",
      "Epoch: 122   Train loss: 0.23   Train accuracy: 0.797   Val loss: 0.2338   Val accuracy: 0.662    weighted Val loss: 0.2816\n",
      "Epoch: 123   Train loss: 0.1106   Train accuracy: 0.738   Val loss: 0.2254   Val accuracy: 0.651    weighted Val loss: 0.2813\n",
      "Epoch: 124   Train loss: 0.089   Train accuracy: 0.758   Val loss: 0.214   Val accuracy: 0.645    weighted Val loss: 0.281\n",
      "Epoch: 125   Train loss: 0.08   Train accuracy: 0.787   Val loss: 0.2225   Val accuracy: 0.654    weighted Val loss: 0.2807\n",
      "Epoch: 126   Train loss: 0.0801   Train accuracy: 0.795   Val loss: 0.2124   Val accuracy: 0.657    weighted Val loss: 0.2803\n",
      "Epoch: 127   Train loss: 0.0764   Train accuracy: 0.778   Val loss: 0.2223   Val accuracy: 0.664    weighted Val loss: 0.2801\n",
      "Epoch: 128   Train loss: 0.0769   Train accuracy: 0.763   Val loss: 0.214   Val accuracy: 0.661    weighted Val loss: 0.2797\n",
      "Epoch: 129   Train loss: 0.0786   Train accuracy: 0.809   Val loss: 0.2117   Val accuracy: 0.659    weighted Val loss: 0.2794\n",
      "Epoch: 130   Train loss: 0.0726   Train accuracy: 0.779   Val loss: 0.2159   Val accuracy: 0.659    weighted Val loss: 0.2791\n",
      "Epoch: 131   Train loss: 0.0743   Train accuracy: 0.826   Val loss: 0.2099   Val accuracy: 0.67    weighted Val loss: 0.2787\n",
      "Epoch: 132   Train loss: 0.0774   Train accuracy: 0.799   Val loss: 0.2106   Val accuracy: 0.671    weighted Val loss: 0.2784\n",
      "Epoch: 133   Train loss: 0.0726   Train accuracy: 0.802   Val loss: 0.2119   Val accuracy: 0.667    weighted Val loss: 0.278\n",
      "Epoch: 134   Train loss: 0.0689   Train accuracy: 0.807   Val loss: 0.218   Val accuracy: 0.66    weighted Val loss: 0.2777\n",
      "Epoch: 135   Train loss: 0.0725   Train accuracy: 0.81   Val loss: 0.2105   Val accuracy: 0.661    weighted Val loss: 0.2774\n",
      "Epoch: 136   Train loss: 0.0734   Train accuracy: 0.8   Val loss: 0.2121   Val accuracy: 0.667    weighted Val loss: 0.2771\n",
      "Epoch: 137   Train loss: 0.07   Train accuracy: 0.834   Val loss: 0.2101   Val accuracy: 0.668    weighted Val loss: 0.2768\n",
      "Epoch: 138   Train loss: 0.079   Train accuracy: 0.862   Val loss: 0.2089   Val accuracy: 0.676    weighted Val loss: 0.2764\n",
      "Epoch: 139   Train loss: 0.1021   Train accuracy: 0.831   Val loss: 0.2134   Val accuracy: 0.663    weighted Val loss: 0.2761\n",
      "Epoch: 140   Train loss: 0.0889   Train accuracy: 0.802   Val loss: 0.2383   Val accuracy: 0.62    weighted Val loss: 0.2759\n",
      "Epoch: 141   Train loss: 0.0834   Train accuracy: 0.774   Val loss: 0.2228   Val accuracy: 0.643    weighted Val loss: 0.2756\n",
      "Epoch: 142   Train loss: 0.0815   Train accuracy: 0.832   Val loss: 0.2207   Val accuracy: 0.636    weighted Val loss: 0.2754\n",
      "Epoch: 143   Train loss: 0.076   Train accuracy: 0.797   Val loss: 0.2172   Val accuracy: 0.647    weighted Val loss: 0.2751\n",
      "Epoch: 144   Train loss: 0.0796   Train accuracy: 0.875   Val loss: 0.2133   Val accuracy: 0.652    weighted Val loss: 0.2748\n",
      "Epoch: 145   Train loss: 0.0725   Train accuracy: 0.806   Val loss: 0.212   Val accuracy: 0.656    weighted Val loss: 0.2745\n",
      "Epoch: 146   Train loss: 0.0752   Train accuracy: 0.817   Val loss: 0.2147   Val accuracy: 0.656    weighted Val loss: 0.2742\n",
      "Epoch: 147   Train loss: 0.0721   Train accuracy: 0.842   Val loss: 0.2123   Val accuracy: 0.657    weighted Val loss: 0.2738\n",
      "Epoch: 148   Train loss: 0.0699   Train accuracy: 0.821   Val loss: 0.2076   Val accuracy: 0.664    weighted Val loss: 0.2735\n",
      "Epoch: 149   Train loss: 0.0703   Train accuracy: 0.843   Val loss: 0.2106   Val accuracy: 0.667    weighted Val loss: 0.2732\n",
      "Epoch: 150   Train loss: 0.071   Train accuracy: 0.827   Val loss: 0.2053   Val accuracy: 0.689    weighted Val loss: 0.2729\n",
      "0.689 ----------saved-----------\n",
      "Epoch: 151   Train loss: 0.0686   Train accuracy: 0.802   Val loss: 0.2074   Val accuracy: 0.681    weighted Val loss: 0.2725\n",
      "Epoch: 152   Train loss: 0.0784   Train accuracy: 0.798   Val loss: 0.2072   Val accuracy: 0.671    weighted Val loss: 0.2722\n",
      "Epoch: 153   Train loss: 0.0821   Train accuracy: 0.806   Val loss: 0.2073   Val accuracy: 0.669    weighted Val loss: 0.2719\n",
      "Epoch: 154   Train loss: 0.0741   Train accuracy: 0.832   Val loss: 0.2311   Val accuracy: 0.656    weighted Val loss: 0.2717\n",
      "Epoch: 155   Train loss: 0.0746   Train accuracy: 0.814   Val loss: 0.2128   Val accuracy: 0.661    weighted Val loss: 0.2714\n",
      "Epoch: 156   Train loss: 0.0714   Train accuracy: 0.821   Val loss: 0.2107   Val accuracy: 0.648    weighted Val loss: 0.2711\n",
      "Epoch: 157   Train loss: 0.0887   Train accuracy: 0.84   Val loss: 0.2276   Val accuracy: 0.658    weighted Val loss: 0.2709\n",
      "Epoch: 158   Train loss: 0.0891   Train accuracy: 0.794   Val loss: 0.2218   Val accuracy: 0.631    weighted Val loss: 0.2706\n",
      "Epoch: 159   Train loss: 0.0824   Train accuracy: 0.785   Val loss: 0.2118   Val accuracy: 0.64    weighted Val loss: 0.2703\n",
      "Epoch: 160   Train loss: 0.0778   Train accuracy: 0.793   Val loss: 0.2213   Val accuracy: 0.637    weighted Val loss: 0.2701\n",
      "Epoch: 161   Train loss: 0.0755   Train accuracy: 0.83   Val loss: 0.2139   Val accuracy: 0.644    weighted Val loss: 0.2698\n",
      "Epoch: 162   Train loss: 0.081   Train accuracy: 0.784   Val loss: 0.2174   Val accuracy: 0.64    weighted Val loss: 0.2695\n",
      "Epoch: 163   Train loss: 0.0728   Train accuracy: 0.809   Val loss: 0.2151   Val accuracy: 0.648    weighted Val loss: 0.2693\n",
      "Epoch: 164   Train loss: 0.0724   Train accuracy: 0.808   Val loss: 0.2149   Val accuracy: 0.657    weighted Val loss: 0.269\n",
      "Epoch: 165   Train loss: 0.0727   Train accuracy: 0.81   Val loss: 0.2121   Val accuracy: 0.663    weighted Val loss: 0.2687\n",
      "Epoch: 166   Train loss: 0.0739   Train accuracy: 0.861   Val loss: 0.2158   Val accuracy: 0.66    weighted Val loss: 0.2684\n",
      "Epoch: 167   Train loss: 0.0753   Train accuracy: 0.846   Val loss: 0.2271   Val accuracy: 0.655    weighted Val loss: 0.2682\n",
      "Epoch: 168   Train loss: 0.0742   Train accuracy: 0.805   Val loss: 0.2098   Val accuracy: 0.665    weighted Val loss: 0.2679\n",
      "Epoch: 169   Train loss: 0.0854   Train accuracy: 0.853   Val loss: 0.2124   Val accuracy: 0.668    weighted Val loss: 0.2677\n",
      "Epoch: 170   Train loss: 0.0863   Train accuracy: 0.859   Val loss: 0.2122   Val accuracy: 0.65    weighted Val loss: 0.2674\n",
      "Epoch: 171   Train loss: 0.0819   Train accuracy: 0.786   Val loss: 0.2131   Val accuracy: 0.642    weighted Val loss: 0.2671\n",
      "Epoch: 172   Train loss: 0.0778   Train accuracy: 0.796   Val loss: 0.2185   Val accuracy: 0.645    weighted Val loss: 0.2669\n",
      "Epoch: 173   Train loss: 0.0941   Train accuracy: 0.838   Val loss: 0.2187   Val accuracy: 0.654    weighted Val loss: 0.2666\n",
      "Epoch: 174   Train loss: 0.078   Train accuracy: 0.863   Val loss: 0.2215   Val accuracy: 0.618    weighted Val loss: 0.2664\n",
      "Epoch: 175   Train loss: 0.0815   Train accuracy: 0.765   Val loss: 0.2168   Val accuracy: 0.637    weighted Val loss: 0.2662\n",
      "Epoch: 176   Train loss: 0.0874   Train accuracy: 0.814   Val loss: 0.2155   Val accuracy: 0.646    weighted Val loss: 0.2659\n",
      "Epoch: 177   Train loss: 0.1073   Train accuracy: 0.796   Val loss: 0.2364   Val accuracy: 0.632    weighted Val loss: 0.2658\n",
      "Epoch: 178   Train loss: 0.0897   Train accuracy: 0.78   Val loss: 0.2407   Val accuracy: 0.631    weighted Val loss: 0.2656\n",
      "Epoch: 179   Train loss: 0.0884   Train accuracy: 0.76   Val loss: 0.2214   Val accuracy: 0.637    weighted Val loss: 0.2654\n",
      "Epoch: 180   Train loss: 0.0744   Train accuracy: 0.787   Val loss: 0.2158   Val accuracy: 0.647    weighted Val loss: 0.2652\n",
      "Epoch: 181   Train loss: 0.0747   Train accuracy: 0.799   Val loss: 0.2129   Val accuracy: 0.652    weighted Val loss: 0.2649\n",
      "Epoch: 182   Train loss: 0.0731   Train accuracy: 0.807   Val loss: 0.2102   Val accuracy: 0.655    weighted Val loss: 0.2646\n",
      "Epoch: 183   Train loss: 0.0719   Train accuracy: 0.831   Val loss: 0.2093   Val accuracy: 0.662    weighted Val loss: 0.2644\n",
      "Epoch: 184   Train loss: 0.0734   Train accuracy: 0.802   Val loss: 0.2114   Val accuracy: 0.653    weighted Val loss: 0.2641\n",
      "Epoch: 185   Train loss: 0.0752   Train accuracy: 0.828   Val loss: 0.2097   Val accuracy: 0.659    weighted Val loss: 0.2638\n",
      "Epoch: 186   Train loss: 0.071   Train accuracy: 0.811   Val loss: 0.2145   Val accuracy: 0.649    weighted Val loss: 0.2636\n",
      "Epoch: 187   Train loss: 0.0665   Train accuracy: 0.833   Val loss: 0.2082   Val accuracy: 0.659    weighted Val loss: 0.2633\n",
      "Epoch: 188   Train loss: 0.1079   Train accuracy: 0.816   Val loss: 0.2225   Val accuracy: 0.657    weighted Val loss: 0.2631\n",
      "Epoch: 189   Train loss: 0.1024   Train accuracy: 0.827   Val loss: 0.228   Val accuracy: 0.641    weighted Val loss: 0.2629\n",
      "Epoch: 190   Train loss: 0.0844   Train accuracy: 0.761   Val loss: 0.2063   Val accuracy: 0.656    weighted Val loss: 0.2626\n",
      "Epoch: 191   Train loss: 0.0755   Train accuracy: 0.748   Val loss: 0.2053   Val accuracy: 0.663    weighted Val loss: 0.2623\n",
      "Epoch: 192   Train loss: 0.0791   Train accuracy: 0.798   Val loss: 0.2009   Val accuracy: 0.681    weighted Val loss: 0.262\n",
      "Epoch: 193   Train loss: 0.0719   Train accuracy: 0.825   Val loss: 0.2014   Val accuracy: 0.675    weighted Val loss: 0.2617\n",
      "Epoch: 194   Train loss: 0.0731   Train accuracy: 0.818   Val loss: 0.2059   Val accuracy: 0.668    weighted Val loss: 0.2615\n",
      "Epoch: 195   Train loss: 0.0722   Train accuracy: 0.823   Val loss: 0.2052   Val accuracy: 0.675    weighted Val loss: 0.2612\n",
      "Epoch: 196   Train loss: 0.0707   Train accuracy: 0.829   Val loss: 0.2041   Val accuracy: 0.68    weighted Val loss: 0.2609\n",
      "Epoch: 197   Train loss: 0.0735   Train accuracy: 0.809   Val loss: 0.2043   Val accuracy: 0.67    weighted Val loss: 0.2606\n",
      "Epoch: 198   Train loss: 0.0682   Train accuracy: 0.796   Val loss: 0.2188   Val accuracy: 0.659    weighted Val loss: 0.2604\n",
      "Epoch: 199   Train loss: 0.0719   Train accuracy: 0.858   Val loss: 0.2094   Val accuracy: 0.663    weighted Val loss: 0.2601\n",
      "Epoch: 200   Train loss: 0.1214   Train accuracy: 0.829   Val loss: 0.213   Val accuracy: 0.667    weighted Val loss: 0.2599\n",
      "Epoch: 201   Train loss: 0.0852   Train accuracy: 0.807   Val loss: 0.223   Val accuracy: 0.637    weighted Val loss: 0.2597\n",
      "Epoch: 202   Train loss: 0.0935   Train accuracy: 0.835   Val loss: 0.2313   Val accuracy: 0.644    weighted Val loss: 0.2596\n",
      "Epoch: 203   Train loss: 0.0844   Train accuracy: 0.836   Val loss: 0.2067   Val accuracy: 0.672    weighted Val loss: 0.2593\n",
      "Epoch: 204   Train loss: 0.0758   Train accuracy: 0.805   Val loss: 0.2046   Val accuracy: 0.681    weighted Val loss: 0.259\n",
      "Epoch: 205   Train loss: 0.0809   Train accuracy: 0.758   Val loss: 0.2111   Val accuracy: 0.69    weighted Val loss: 0.2588\n",
      "0.69 ----------saved-----------\n",
      "Epoch: 206   Train loss: 0.0749   Train accuracy: 0.806   Val loss: 0.2075   Val accuracy: 0.69    weighted Val loss: 0.2585\n",
      "Epoch: 207   Train loss: 0.0679   Train accuracy: 0.822   Val loss: 0.2063   Val accuracy: 0.686    weighted Val loss: 0.2583\n",
      "Epoch: 208   Train loss: 0.0699   Train accuracy: 0.792   Val loss: 0.2075   Val accuracy: 0.685    weighted Val loss: 0.258\n",
      "Epoch: 209   Train loss: 0.126   Train accuracy: 0.802   Val loss: 0.2118   Val accuracy: 0.68    weighted Val loss: 0.2578\n",
      "Epoch: 210   Train loss: 0.0995   Train accuracy: 0.767   Val loss: 0.2192   Val accuracy: 0.621    weighted Val loss: 0.2576\n",
      "Epoch: 211   Train loss: 0.0876   Train accuracy: 0.842   Val loss: 0.2194   Val accuracy: 0.644    weighted Val loss: 0.2574\n",
      "Epoch: 212   Train loss: 0.076   Train accuracy: 0.814   Val loss: 0.2149   Val accuracy: 0.648    weighted Val loss: 0.2572\n",
      "Epoch: 213   Train loss: 0.0776   Train accuracy: 0.815   Val loss: 0.215   Val accuracy: 0.65    weighted Val loss: 0.257\n",
      "Epoch: 214   Train loss: 0.0787   Train accuracy: 0.796   Val loss: 0.2147   Val accuracy: 0.657    weighted Val loss: 0.2568\n",
      "Epoch: 215   Train loss: 0.0787   Train accuracy: 0.799   Val loss: 0.2095   Val accuracy: 0.66    weighted Val loss: 0.2565\n",
      "Epoch: 216   Train loss: 0.0808   Train accuracy: 0.803   Val loss: 0.2105   Val accuracy: 0.658    weighted Val loss: 0.2563\n",
      "Epoch: 217   Train loss: 0.0745   Train accuracy: 0.817   Val loss: 0.2135   Val accuracy: 0.656    weighted Val loss: 0.2561\n",
      "Epoch: 218   Train loss: 0.066   Train accuracy: 0.814   Val loss: 0.2118   Val accuracy: 0.66    weighted Val loss: 0.2559\n",
      "Epoch: 219   Train loss: 0.1618   Train accuracy: 0.81   Val loss: 0.2263   Val accuracy: 0.658    weighted Val loss: 0.2557\n",
      "Epoch: 220   Train loss: 0.0958   Train accuracy: 0.818   Val loss: 0.2255   Val accuracy: 0.655    weighted Val loss: 0.2556\n",
      "Epoch: 221   Train loss: 0.1099   Train accuracy: 0.773   Val loss: 0.2136   Val accuracy: 0.67    weighted Val loss: 0.2554\n",
      "Epoch: 222   Train loss: 0.0907   Train accuracy: 0.739   Val loss: 0.2121   Val accuracy: 0.661    weighted Val loss: 0.2552\n",
      "Epoch: 223   Train loss: 0.0821   Train accuracy: 0.847   Val loss: 0.205   Val accuracy: 0.671    weighted Val loss: 0.2549\n",
      "Epoch: 224   Train loss: 0.076   Train accuracy: 0.793   Val loss: 0.2047   Val accuracy: 0.674    weighted Val loss: 0.2546\n",
      "Epoch: 225   Train loss: 0.0712   Train accuracy: 0.799   Val loss: 0.2094   Val accuracy: 0.668    weighted Val loss: 0.2544\n",
      "Epoch: 226   Train loss: 0.0705   Train accuracy: 0.818   Val loss: 0.2065   Val accuracy: 0.669    weighted Val loss: 0.2542\n",
      "Epoch: 227   Train loss: 0.0686   Train accuracy: 0.801   Val loss: 0.2072   Val accuracy: 0.665    weighted Val loss: 0.2539\n",
      "Epoch: 228   Train loss: 0.0687   Train accuracy: 0.811   Val loss: 0.2057   Val accuracy: 0.664    weighted Val loss: 0.2537\n",
      "Epoch: 229   Train loss: 0.0665   Train accuracy: 0.821   Val loss: 0.2062   Val accuracy: 0.666    weighted Val loss: 0.2535\n",
      "Epoch: 230   Train loss: 0.0721   Train accuracy: 0.802   Val loss: 0.2066   Val accuracy: 0.668    weighted Val loss: 0.2532\n",
      "Epoch: 231   Train loss: 0.065   Train accuracy: 0.872   Val loss: 0.2058   Val accuracy: 0.669    weighted Val loss: 0.253\n",
      "Epoch: 232   Train loss: 0.0693   Train accuracy: 0.8   Val loss: 0.2105   Val accuracy: 0.669    weighted Val loss: 0.2528\n",
      "Epoch: 233   Train loss: 0.0687   Train accuracy: 0.845   Val loss: 0.2107   Val accuracy: 0.664    weighted Val loss: 0.2526\n",
      "Epoch: 234   Train loss: 0.0715   Train accuracy: 0.814   Val loss: 0.2065   Val accuracy: 0.662    weighted Val loss: 0.2523\n",
      "Epoch: 235   Train loss: 0.0668   Train accuracy: 0.81   Val loss: 0.2054   Val accuracy: 0.668    weighted Val loss: 0.2521\n",
      "Epoch: 236   Train loss: 0.0793   Train accuracy: 0.863   Val loss: 0.2071   Val accuracy: 0.67    weighted Val loss: 0.2519\n",
      "Epoch: 237   Train loss: 0.0691   Train accuracy: 0.828   Val loss: 0.2113   Val accuracy: 0.655    weighted Val loss: 0.2517\n",
      "Epoch: 238   Train loss: 0.0801   Train accuracy: 0.786   Val loss: 0.2103   Val accuracy: 0.658    weighted Val loss: 0.2515\n",
      "Epoch: 239   Train loss: 0.0739   Train accuracy: 0.846   Val loss: 0.2098   Val accuracy: 0.669    weighted Val loss: 0.2513\n",
      "Epoch: 240   Train loss: 0.0715   Train accuracy: 0.816   Val loss: 0.2073   Val accuracy: 0.673    weighted Val loss: 0.251\n",
      "Epoch: 241   Train loss: 0.0689   Train accuracy: 0.808   Val loss: 0.2079   Val accuracy: 0.667    weighted Val loss: 0.2508\n",
      "Epoch: 242   Train loss: 0.0682   Train accuracy: 0.805   Val loss: 0.2064   Val accuracy: 0.662    weighted Val loss: 0.2506\n",
      "Epoch: 243   Train loss: 0.0743   Train accuracy: 0.873   Val loss: 0.2056   Val accuracy: 0.671    weighted Val loss: 0.2504\n",
      "Epoch: 244   Train loss: 0.0677   Train accuracy: 0.834   Val loss: 0.2111   Val accuracy: 0.674    weighted Val loss: 0.2502\n",
      "Epoch: 245   Train loss: 0.0703   Train accuracy: 0.819   Val loss: 0.2122   Val accuracy: 0.674    weighted Val loss: 0.25\n",
      "Epoch: 246   Train loss: 0.0664   Train accuracy: 0.847   Val loss: 0.2117   Val accuracy: 0.669    weighted Val loss: 0.2498\n",
      "Epoch: 247   Train loss: 0.0717   Train accuracy: 0.81   Val loss: 0.2114   Val accuracy: 0.667    weighted Val loss: 0.2496\n",
      "Epoch: 248   Train loss: 0.072   Train accuracy: 0.802   Val loss: 0.2185   Val accuracy: 0.659    weighted Val loss: 0.2495\n",
      "Epoch: 249   Train loss: 0.0656   Train accuracy: 0.816   Val loss: 0.209   Val accuracy: 0.669    weighted Val loss: 0.2493\n",
      "Epoch: 250   Train loss: 0.0648   Train accuracy: 0.886   Val loss: 0.211   Val accuracy: 0.668    weighted Val loss: 0.2491\n",
      "Epoch: 251   Train loss: 0.0718   Train accuracy: 0.867   Val loss: 0.2067   Val accuracy: 0.668    weighted Val loss: 0.2489\n",
      "Epoch: 252   Train loss: 0.0661   Train accuracy: 0.848   Val loss: 0.2046   Val accuracy: 0.684    weighted Val loss: 0.2486\n",
      "Epoch: 253   Train loss: 0.0718   Train accuracy: 0.861   Val loss: 0.2087   Val accuracy: 0.677    weighted Val loss: 0.2484\n",
      "Epoch: 254   Train loss: 0.0745   Train accuracy: 0.841   Val loss: 0.2121   Val accuracy: 0.676    weighted Val loss: 0.2482\n",
      "Epoch: 255   Train loss: 0.0747   Train accuracy: 0.838   Val loss: 0.205   Val accuracy: 0.669    weighted Val loss: 0.248\n",
      "Epoch: 256   Train loss: 0.068   Train accuracy: 0.804   Val loss: 0.2085   Val accuracy: 0.685    weighted Val loss: 0.2478\n",
      "Epoch: 257   Train loss: 0.0655   Train accuracy: 0.81   Val loss: 0.205   Val accuracy: 0.681    weighted Val loss: 0.2476\n",
      "Epoch: 258   Train loss: 0.0658   Train accuracy: 0.82   Val loss: 0.2065   Val accuracy: 0.676    weighted Val loss: 0.2474\n",
      "Epoch: 259   Train loss: 0.092   Train accuracy: 0.813   Val loss: 0.208   Val accuracy: 0.68    weighted Val loss: 0.2472\n",
      "Epoch: 260   Train loss: 0.0866   Train accuracy: 0.735   Val loss: 0.2346   Val accuracy: 0.671    weighted Val loss: 0.2472\n",
      "Epoch: 261   Train loss: 0.0775   Train accuracy: 0.788   Val loss: 0.209   Val accuracy: 0.669    weighted Val loss: 0.247\n",
      "Epoch: 262   Train loss: 0.0748   Train accuracy: 0.841   Val loss: 0.2074   Val accuracy: 0.68    weighted Val loss: 0.2468\n",
      "Epoch: 263   Train loss: 0.0754   Train accuracy: 0.785   Val loss: 0.2079   Val accuracy: 0.679    weighted Val loss: 0.2466\n",
      "Epoch: 264   Train loss: 0.0709   Train accuracy: 0.821   Val loss: 0.2062   Val accuracy: 0.681    weighted Val loss: 0.2464\n",
      "Epoch: 265   Train loss: 0.0706   Train accuracy: 0.847   Val loss: 0.2088   Val accuracy: 0.677    weighted Val loss: 0.2462\n",
      "Epoch: 266   Train loss: 0.0681   Train accuracy: 0.817   Val loss: 0.2059   Val accuracy: 0.685    weighted Val loss: 0.246\n",
      "Epoch: 267   Train loss: 0.069   Train accuracy: 0.8   Val loss: 0.206   Val accuracy: 0.678    weighted Val loss: 0.2458\n",
      "Epoch: 268   Train loss: 0.066   Train accuracy: 0.824   Val loss: 0.2035   Val accuracy: 0.679    weighted Val loss: 0.2456\n",
      "Epoch: 269   Train loss: 0.0711   Train accuracy: 0.823   Val loss: 0.205   Val accuracy: 0.677    weighted Val loss: 0.2454\n",
      "Epoch: 270   Train loss: 0.0672   Train accuracy: 0.82   Val loss: 0.2071   Val accuracy: 0.674    weighted Val loss: 0.2452\n",
      "Epoch: 271   Train loss: 0.0692   Train accuracy: 0.846   Val loss: 0.2068   Val accuracy: 0.667    weighted Val loss: 0.245\n",
      "Epoch: 272   Train loss: 0.0731   Train accuracy: 0.835   Val loss: 0.2133   Val accuracy: 0.664    weighted Val loss: 0.2448\n",
      "Epoch: 273   Train loss: 0.0689   Train accuracy: 0.812   Val loss: 0.2074   Val accuracy: 0.661    weighted Val loss: 0.2446\n",
      "Epoch: 274   Train loss: 0.0688   Train accuracy: 0.817   Val loss: 0.2115   Val accuracy: 0.662    weighted Val loss: 0.2445\n",
      "Epoch: 275   Train loss: 0.0713   Train accuracy: 0.816   Val loss: 0.2096   Val accuracy: 0.664    weighted Val loss: 0.2443\n",
      "Epoch: 276   Train loss: 0.0721   Train accuracy: 0.878   Val loss: 0.2055   Val accuracy: 0.679    weighted Val loss: 0.2441\n",
      "Epoch: 277   Train loss: 0.0769   Train accuracy: 0.834   Val loss: 0.2074   Val accuracy: 0.662    weighted Val loss: 0.2439\n",
      "Epoch: 278   Train loss: 0.0766   Train accuracy: 0.823   Val loss: 0.2307   Val accuracy: 0.643    weighted Val loss: 0.2439\n",
      "Epoch: 279   Train loss: 0.0715   Train accuracy: 0.875   Val loss: 0.2116   Val accuracy: 0.645    weighted Val loss: 0.2437\n",
      "Epoch: 280   Train loss: 0.0699   Train accuracy: 0.861   Val loss: 0.209   Val accuracy: 0.656    weighted Val loss: 0.2435\n",
      "Epoch: 281   Train loss: 0.0715   Train accuracy: 0.824   Val loss: 0.2069   Val accuracy: 0.661    weighted Val loss: 0.2433\n",
      "Epoch: 282   Train loss: 0.0677   Train accuracy: 0.815   Val loss: 0.2053   Val accuracy: 0.673    weighted Val loss: 0.2431\n",
      "Epoch: 283   Train loss: 0.0707   Train accuracy: 0.8   Val loss: 0.2098   Val accuracy: 0.679    weighted Val loss: 0.243\n",
      "Epoch: 284   Train loss: 0.0656   Train accuracy: 0.818   Val loss: 0.2098   Val accuracy: 0.673    weighted Val loss: 0.2428\n",
      "Epoch: 285   Train loss: 0.0676   Train accuracy: 0.836   Val loss: 0.2085   Val accuracy: 0.672    weighted Val loss: 0.2426\n",
      "Epoch: 286   Train loss: 0.0686   Train accuracy: 0.825   Val loss: 0.2069   Val accuracy: 0.668    weighted Val loss: 0.2425\n",
      "Epoch: 287   Train loss: 0.0708   Train accuracy: 0.811   Val loss: 0.208   Val accuracy: 0.663    weighted Val loss: 0.2423\n",
      "Epoch: 288   Train loss: 0.0728   Train accuracy: 0.804   Val loss: 0.2074   Val accuracy: 0.665    weighted Val loss: 0.2421\n",
      "Epoch: 289   Train loss: 0.07   Train accuracy: 0.832   Val loss: 0.2121   Val accuracy: 0.656    weighted Val loss: 0.242\n",
      "Epoch: 290   Train loss: 0.0731   Train accuracy: 0.808   Val loss: 0.2097   Val accuracy: 0.664    weighted Val loss: 0.2418\n",
      "Epoch: 291   Train loss: 0.0726   Train accuracy: 0.813   Val loss: 0.221   Val accuracy: 0.655    weighted Val loss: 0.2417\n",
      "Epoch: 292   Train loss: 0.0678   Train accuracy: 0.83   Val loss: 0.2131   Val accuracy: 0.649    weighted Val loss: 0.2416\n",
      "Epoch: 293   Train loss: 0.0695   Train accuracy: 0.821   Val loss: 0.2139   Val accuracy: 0.646    weighted Val loss: 0.2414\n",
      "Epoch: 294   Train loss: 0.0942   Train accuracy: 0.826   Val loss: 0.2096   Val accuracy: 0.653    weighted Val loss: 0.2413\n",
      "Epoch: 295   Train loss: 0.0729   Train accuracy: 0.775   Val loss: 0.2215   Val accuracy: 0.634    weighted Val loss: 0.2412\n",
      "Epoch: 296   Train loss: 0.0826   Train accuracy: 0.782   Val loss: 0.2135   Val accuracy: 0.642    weighted Val loss: 0.241\n",
      "Epoch: 297   Train loss: 0.0736   Train accuracy: 0.81   Val loss: 0.2288   Val accuracy: 0.627    weighted Val loss: 0.241\n",
      "Epoch: 298   Train loss: 0.0761   Train accuracy: 0.814   Val loss: 0.2146   Val accuracy: 0.639    weighted Val loss: 0.2408\n",
      "Epoch: 299   Train loss: 0.0708   Train accuracy: 0.8   Val loss: 0.2176   Val accuracy: 0.652    weighted Val loss: 0.2407\n",
      "Epoch: 300   Train loss: 0.069   Train accuracy: 0.821   Val loss: 0.2091   Val accuracy: 0.655    weighted Val loss: 0.2406\n",
      "Epoch: 301   Train loss: 0.0674   Train accuracy: 0.851   Val loss: 0.2074   Val accuracy: 0.66    weighted Val loss: 0.2404\n",
      "Epoch: 302   Train loss: 0.0687   Train accuracy: 0.816   Val loss: 0.2061   Val accuracy: 0.663    weighted Val loss: 0.2402\n",
      "Epoch: 303   Train loss: 0.071   Train accuracy: 0.81   Val loss: 0.2094   Val accuracy: 0.661    weighted Val loss: 0.2401\n",
      "Epoch: 304   Train loss: 0.071   Train accuracy: 0.8   Val loss: 0.2062   Val accuracy: 0.661    weighted Val loss: 0.2399\n",
      "Epoch: 305   Train loss: 0.068   Train accuracy: 0.868   Val loss: 0.2077   Val accuracy: 0.656    weighted Val loss: 0.2397\n",
      "Epoch: 306   Train loss: 0.0668   Train accuracy: 0.82   Val loss: 0.2077   Val accuracy: 0.664    weighted Val loss: 0.2396\n",
      "Epoch: 307   Train loss: 0.0687   Train accuracy: 0.832   Val loss: 0.2072   Val accuracy: 0.655    weighted Val loss: 0.2394\n",
      "Epoch: 308   Train loss: 0.0699   Train accuracy: 0.81   Val loss: 0.2081   Val accuracy: 0.65    weighted Val loss: 0.2393\n",
      "Epoch: 309   Train loss: 0.0623   Train accuracy: 0.85   Val loss: 0.2092   Val accuracy: 0.658    weighted Val loss: 0.2391\n",
      "Epoch: 310   Train loss: 0.0635   Train accuracy: 0.821   Val loss: 0.2106   Val accuracy: 0.653    weighted Val loss: 0.239\n",
      "Epoch: 311   Train loss: 0.0651   Train accuracy: 0.811   Val loss: 0.218   Val accuracy: 0.653    weighted Val loss: 0.2389\n",
      "Epoch: 312   Train loss: 0.068   Train accuracy: 0.815   Val loss: 0.2084   Val accuracy: 0.656    weighted Val loss: 0.2387\n",
      "Epoch: 313   Train loss: 0.0682   Train accuracy: 0.794   Val loss: 0.2122   Val accuracy: 0.656    weighted Val loss: 0.2386\n",
      "Epoch: 314   Train loss: 0.0624   Train accuracy: 0.835   Val loss: 0.2095   Val accuracy: 0.654    weighted Val loss: 0.2384\n",
      "Epoch: 315   Train loss: 0.0687   Train accuracy: 0.835   Val loss: 0.2091   Val accuracy: 0.663    weighted Val loss: 0.2383\n",
      "Epoch: 316   Train loss: 0.066   Train accuracy: 0.83   Val loss: 0.2076   Val accuracy: 0.667    weighted Val loss: 0.2381\n",
      "Epoch: 317   Train loss: 0.0646   Train accuracy: 0.867   Val loss: 0.2095   Val accuracy: 0.662    weighted Val loss: 0.238\n",
      "Epoch: 318   Train loss: 0.0646   Train accuracy: 0.835   Val loss: 0.2101   Val accuracy: 0.662    weighted Val loss: 0.2378\n",
      "Epoch: 319   Train loss: 0.0682   Train accuracy: 0.816   Val loss: 0.2088   Val accuracy: 0.663    weighted Val loss: 0.2377\n",
      "Epoch: 320   Train loss: 0.0705   Train accuracy: 0.8   Val loss: 0.2157   Val accuracy: 0.656    weighted Val loss: 0.2376\n",
      "Epoch: 321   Train loss: 0.0656   Train accuracy: 0.812   Val loss: 0.2091   Val accuracy: 0.655    weighted Val loss: 0.2374\n",
      "Epoch: 322   Train loss: 0.0637   Train accuracy: 0.829   Val loss: 0.2101   Val accuracy: 0.659    weighted Val loss: 0.2373\n",
      "Epoch: 323   Train loss: 0.0646   Train accuracy: 0.835   Val loss: 0.2084   Val accuracy: 0.664    weighted Val loss: 0.2372\n",
      "Epoch: 324   Train loss: 0.0653   Train accuracy: 0.846   Val loss: 0.2051   Val accuracy: 0.664    weighted Val loss: 0.237\n",
      "Epoch: 325   Train loss: 0.0622   Train accuracy: 0.843   Val loss: 0.2025   Val accuracy: 0.68    weighted Val loss: 0.2368\n",
      "Epoch: 326   Train loss: 0.0667   Train accuracy: 0.826   Val loss: 0.2027   Val accuracy: 0.673    weighted Val loss: 0.2367\n",
      "Epoch: 327   Train loss: 0.0691   Train accuracy: 0.813   Val loss: 0.204   Val accuracy: 0.676    weighted Val loss: 0.2365\n",
      "Epoch: 328   Train loss: 0.0712   Train accuracy: 0.803   Val loss: 0.2247   Val accuracy: 0.663    weighted Val loss: 0.2364\n",
      "Epoch: 329   Train loss: 0.0683   Train accuracy: 0.822   Val loss: 0.2109   Val accuracy: 0.674    weighted Val loss: 0.2363\n",
      "Epoch: 330   Train loss: 0.0693   Train accuracy: 0.87   Val loss: 0.21   Val accuracy: 0.675    weighted Val loss: 0.2362\n",
      "Epoch: 331   Train loss: 0.0661   Train accuracy: 0.838   Val loss: 0.2026   Val accuracy: 0.679    weighted Val loss: 0.236\n",
      "Epoch: 332   Train loss: 0.0663   Train accuracy: 0.864   Val loss: 0.2028   Val accuracy: 0.682    weighted Val loss: 0.2358\n",
      "Epoch: 333   Train loss: 0.0935   Train accuracy: 0.798   Val loss: 0.2182   Val accuracy: 0.679    weighted Val loss: 0.2358\n",
      "Epoch: 334   Train loss: 0.0896   Train accuracy: 0.773   Val loss: 0.2173   Val accuracy: 0.649    weighted Val loss: 0.2357\n",
      "Epoch: 335   Train loss: 0.0725   Train accuracy: 0.848   Val loss: 0.2144   Val accuracy: 0.658    weighted Val loss: 0.2356\n",
      "Epoch: 336   Train loss: 0.0735   Train accuracy: 0.807   Val loss: 0.2094   Val accuracy: 0.663    weighted Val loss: 0.2354\n",
      "Epoch: 337   Train loss: 0.0697   Train accuracy: 0.806   Val loss: 0.2094   Val accuracy: 0.669    weighted Val loss: 0.2353\n",
      "Epoch: 338   Train loss: 0.0645   Train accuracy: 0.832   Val loss: 0.2072   Val accuracy: 0.673    weighted Val loss: 0.2352\n",
      "Epoch: 339   Train loss: 0.0705   Train accuracy: 0.824   Val loss: 0.2084   Val accuracy: 0.669    weighted Val loss: 0.235\n",
      "Epoch: 340   Train loss: 0.0707   Train accuracy: 0.809   Val loss: 0.2064   Val accuracy: 0.67    weighted Val loss: 0.2349\n",
      "Epoch: 341   Train loss: 0.0669   Train accuracy: 0.816   Val loss: 0.2081   Val accuracy: 0.668    weighted Val loss: 0.2347\n",
      "Epoch: 342   Train loss: 0.0809   Train accuracy: 0.814   Val loss: 0.2067   Val accuracy: 0.669    weighted Val loss: 0.2346\n",
      "Epoch: 343   Train loss: 0.0832   Train accuracy: 0.734   Val loss: 0.2444   Val accuracy: 0.623    weighted Val loss: 0.2347\n"
     ]
    }
   ],
   "source": [
    "MLPparametersGCN = {\n",
    "    'n_layers':2,\n",
    "    'layer_size_factor':[1,1], \n",
    "    'dropout':[0.3, 0.3],\n",
    "    'batch_size': 128,\n",
    "    'num_epochs': 900,\n",
    "    'learning_rate': 6e-4,\n",
    "    'weight_decay': 5e-3,\n",
    "    'betas': (0.9, 0.999), \n",
    "    'eps': 1e-08\n",
    "}\n",
    "MLPmodelGCN, _,_, MLPcheckpointGCN = MLP.train_MLP(dm, sim_all[\"GCN_train\"], sim_all[\"GCN_test\"], MLPparametersGCN, acc_fn=MLP.F1, autostop_decay = 0.995, print_summary = True)"
   ]
  },
  {
   "cell_type": "code",
   "execution_count": 32,
   "metadata": {},
   "outputs": [
    {
     "name": "stdout",
     "output_type": "stream",
     "text": [
      "model saved\n"
     ]
    }
   ],
   "source": [
    "#optional: save the model\n",
    "MLP.save_ckp(MLPcheckpointGCN, \"models/MLPGCN253_2.pt\")"
   ]
  },
  {
   "cell_type": "markdown",
   "metadata": {},
   "source": [
    "###### Result"
   ]
  },
  {
   "cell_type": "code",
   "execution_count": 173,
   "metadata": {},
   "outputs": [
    {
     "name": "stdout",
     "output_type": "stream",
     "text": [
      "device set to cuda\n",
      "threshold: 0.05  validation loss: 0.2111 F1 accuracy 0.338 Precision accuracy 0.208 Recall accuracy 0.902 AUC accuracy: 0.892\n",
      "device set to cuda\n",
      "threshold: 0.1  validation loss: 0.2111 F1 accuracy 0.426 Precision accuracy 0.284 Recall accuracy 0.854 AUC accuracy: 0.892\n",
      "device set to cuda\n",
      "threshold: 0.15  validation loss: 0.2111 F1 accuracy 0.506 Precision accuracy 0.364 Recall accuracy 0.831 AUC accuracy: 0.892\n",
      "device set to cuda\n",
      "threshold: 0.2  validation loss: 0.2111 F1 accuracy 0.561 Precision accuracy 0.431 Recall accuracy 0.8 AUC accuracy: 0.892\n",
      "device set to cuda\n",
      "threshold: 0.25  validation loss: 0.2111 F1 accuracy 0.599 Precision accuracy 0.489 Recall accuracy 0.773 AUC accuracy: 0.892\n",
      "device set to cuda\n",
      "threshold: 0.3  validation loss: 0.2111 F1 accuracy 0.623 Precision accuracy 0.54 Recall accuracy 0.736 AUC accuracy: 0.892\n",
      "device set to cuda\n",
      "threshold: 0.35  validation loss: 0.2111 F1 accuracy 0.651 Precision accuracy 0.598 Recall accuracy 0.715 AUC accuracy: 0.892\n",
      "device set to cuda\n",
      "threshold: 0.4  validation loss: 0.2111 F1 accuracy 0.671 Precision accuracy 0.661 Recall accuracy 0.681 AUC accuracy: 0.892\n",
      "device set to cuda\n",
      "threshold: 0.45  validation loss: 0.2111 F1 accuracy 0.674 Precision accuracy 0.698 Recall accuracy 0.651 AUC accuracy: 0.892\n",
      "device set to cuda\n",
      "threshold: 0.5  validation loss: 0.2111 F1 accuracy 0.69 Precision accuracy 0.768 Recall accuracy 0.627 AUC accuracy: 0.892\n",
      "device set to cuda\n",
      "threshold: 0.55  validation loss: 0.2111 F1 accuracy 0.676 Precision accuracy 0.791 Recall accuracy 0.59 AUC accuracy: 0.892\n",
      "device set to cuda\n",
      "threshold: 0.6  validation loss: 0.2111 F1 accuracy 0.667 Precision accuracy 0.832 Recall accuracy 0.556 AUC accuracy: 0.892\n",
      "device set to cuda\n",
      "threshold: 0.65  validation loss: 0.2111 F1 accuracy 0.632 Precision accuracy 0.833 Recall accuracy 0.508 AUC accuracy: 0.892\n",
      "device set to cuda\n",
      "threshold: 0.7  validation loss: 0.2111 F1 accuracy 0.591 Precision accuracy 0.858 Recall accuracy 0.451 AUC accuracy: 0.892\n",
      "device set to cuda\n",
      "threshold: 0.75  validation loss: 0.2111 F1 accuracy 0.553 Precision accuracy 0.894 Recall accuracy 0.4 AUC accuracy: 0.892\n",
      "device set to cuda\n",
      "threshold: 0.8  validation loss: 0.2111 F1 accuracy 0.516 Precision accuracy 0.892 Recall accuracy 0.363 AUC accuracy: 0.892\n",
      "device set to cuda\n",
      "threshold: 0.85  validation loss: 0.2111 F1 accuracy 0.432 Precision accuracy 0.894 Recall accuracy 0.285 AUC accuracy: 0.892\n",
      "device set to cuda\n",
      "threshold: 0.9  validation loss: 0.2111 F1 accuracy 0.355 Precision accuracy 0.915 Recall accuracy 0.22 AUC accuracy: 0.892\n",
      "device set to cuda\n",
      "threshold: 0.95  validation loss: 0.2111 F1 accuracy 0.231 Precision accuracy 0.929 Recall accuracy 0.132 AUC accuracy: 0.892\n"
     ]
    }
   ],
   "source": [
    "for i in range(5,100, 5):\n",
    "    t = i/100;\n",
    "    MLP.eval_mlp(MLPmodelGCN, sim_all[\"GCN_test\"], dm, device_name = 'cuda', threshold = t)"
   ]
  },
  {
   "cell_type": "markdown",
   "metadata": {},
   "source": [
    "##### 3.1.2 MLP for GDE"
   ]
  },
  {
   "cell_type": "markdown",
   "metadata": {},
   "source": [
    "###### Training"
   ]
  },
  {
   "cell_type": "code",
   "execution_count": 174,
   "metadata": {
    "collapsed": true,
    "jupyter": {
     "outputs_hidden": true
    }
   },
   "outputs": [
    {
     "name": "stdout",
     "output_type": "stream",
     "text": [
      "MLP(\n",
      "  (layers): ModuleList(\n",
      "    (0): Dropout(p=0.3, inplace=False)\n",
      "    (1): Linear(in_features=465, out_features=7, bias=True)\n",
      "    (2): ReLU()\n",
      "    (3): Dropout(p=0.3, inplace=False)\n",
      "    (4): Linear(in_features=7, out_features=1, bias=True)\n",
      "    (5): Sigmoid()\n",
      "  )\n",
      ")\n",
      "----------------------------------------------------------------\n",
      "        Layer (type)               Output Shape         Param #\n",
      "================================================================\n",
      "           Dropout-1                  [-1, 465]               0\n",
      "            Linear-2                    [-1, 7]           3,262\n",
      "              ReLU-3                    [-1, 7]               0\n",
      "           Dropout-4                    [-1, 7]               0\n",
      "            Linear-5                    [-1, 1]               8\n",
      "           Sigmoid-6                    [-1, 1]               0\n",
      "================================================================\n",
      "Total params: 3,270\n",
      "Trainable params: 3,270\n",
      "Non-trainable params: 0\n",
      "----------------------------------------------------------------\n",
      "Input size (MB): 0.00\n",
      "Forward/backward pass size (MB): 0.00\n",
      "Params size (MB): 0.01\n",
      "Estimated Total Size (MB): 0.02\n",
      "----------------------------------------------------------------\n",
      "Epoch: 1   Train loss: 0.5241   Train accuracy: 0.07   Val loss: 0.392   Val accuracy: 0.351    weighted Val loss: 0.392\n",
      "0.351 ----------saved-----------\n",
      "Epoch: 2   Train loss: 0.3182   Train accuracy: 0.0   Val loss: 0.3299   Val accuracy: 0.39    weighted Val loss: 0.3917\n",
      "0.39 ----------saved-----------\n",
      "Epoch: 3   Train loss: 0.3206   Train accuracy: 0.0   Val loss: 0.3247   Val accuracy: 0.42    weighted Val loss: 0.3913\n",
      "0.42 ----------saved-----------\n",
      "Epoch: 4   Train loss: 0.2732   Train accuracy: 0.0   Val loss: 0.3222   Val accuracy: 0.428    weighted Val loss: 0.391\n",
      "0.428 ----------saved-----------\n",
      "Epoch: 5   Train loss: 0.2642   Train accuracy: 0.0   Val loss: 0.3207   Val accuracy: 0.435    weighted Val loss: 0.3906\n",
      "0.435 ----------saved-----------\n",
      "Epoch: 6   Train loss: 0.2601   Train accuracy: 0.007   Val loss: 0.3177   Val accuracy: 0.449    weighted Val loss: 0.3903\n",
      "0.449 ----------saved-----------\n",
      "Epoch: 7   Train loss: 0.2629   Train accuracy: 0.0   Val loss: 0.3143   Val accuracy: 0.456    weighted Val loss: 0.3899\n",
      "0.456 ----------saved-----------\n",
      "Epoch: 8   Train loss: 0.248   Train accuracy: 0.0   Val loss: 0.3107   Val accuracy: 0.473    weighted Val loss: 0.3895\n",
      "0.473 ----------saved-----------\n",
      "Epoch: 9   Train loss: 0.2405   Train accuracy: 0.0   Val loss: 0.3059   Val accuracy: 0.502    weighted Val loss: 0.3891\n",
      "0.502 ----------saved-----------\n",
      "Epoch: 10   Train loss: 0.2334   Train accuracy: 0.0   Val loss: 0.3023   Val accuracy: 0.512    weighted Val loss: 0.3886\n",
      "0.512 ----------saved-----------\n",
      "Epoch: 11   Train loss: 0.2324   Train accuracy: 0.012   Val loss: 0.2989   Val accuracy: 0.515    weighted Val loss: 0.3882\n",
      "0.515 ----------saved-----------\n",
      "Epoch: 12   Train loss: 0.2505   Train accuracy: 0.0   Val loss: 0.295   Val accuracy: 0.52    weighted Val loss: 0.3877\n",
      "0.52 ----------saved-----------\n",
      "Epoch: 13   Train loss: 0.221   Train accuracy: 0.006   Val loss: 0.2912   Val accuracy: 0.524    weighted Val loss: 0.3872\n",
      "0.524 ----------saved-----------\n",
      "Epoch: 14   Train loss: 0.223   Train accuracy: 0.009   Val loss: 0.2869   Val accuracy: 0.529    weighted Val loss: 0.3867\n",
      "0.529 ----------saved-----------\n",
      "Epoch: 15   Train loss: 0.213   Train accuracy: 0.0   Val loss: 0.2831   Val accuracy: 0.541    weighted Val loss: 0.3862\n",
      "0.541 ----------saved-----------\n",
      "Epoch: 16   Train loss: 0.2001   Train accuracy: 0.01   Val loss: 0.282   Val accuracy: 0.534    weighted Val loss: 0.3857\n",
      "Epoch: 17   Train loss: 0.1979   Train accuracy: 0.033   Val loss: 0.2791   Val accuracy: 0.533    weighted Val loss: 0.3852\n",
      "Epoch: 18   Train loss: 0.1978   Train accuracy: 0.069   Val loss: 0.2734   Val accuracy: 0.528    weighted Val loss: 0.3846\n",
      "Epoch: 19   Train loss: 0.1901   Train accuracy: 0.186   Val loss: 0.27   Val accuracy: 0.543    weighted Val loss: 0.384\n",
      "0.543 ----------saved-----------\n",
      "Epoch: 20   Train loss: 0.215   Train accuracy: 0.262   Val loss: 0.2693   Val accuracy: 0.537    weighted Val loss: 0.3835\n",
      "Epoch: 21   Train loss: 0.1822   Train accuracy: 0.416   Val loss: 0.2654   Val accuracy: 0.537    weighted Val loss: 0.3829\n",
      "Epoch: 22   Train loss: 0.1791   Train accuracy: 0.438   Val loss: 0.2628   Val accuracy: 0.554    weighted Val loss: 0.3823\n",
      "0.554 ----------saved-----------\n",
      "Epoch: 23   Train loss: 0.1721   Train accuracy: 0.429   Val loss: 0.2587   Val accuracy: 0.556    weighted Val loss: 0.3817\n",
      "0.556 ----------saved-----------\n",
      "Epoch: 24   Train loss: 0.1697   Train accuracy: 0.458   Val loss: 0.2574   Val accuracy: 0.564    weighted Val loss: 0.381\n",
      "0.564 ----------saved-----------\n",
      "Epoch: 25   Train loss: 0.2023   Train accuracy: 0.496   Val loss: 0.2535   Val accuracy: 0.564    weighted Val loss: 0.3804\n",
      "0.564 ----------saved-----------\n",
      "Epoch: 26   Train loss: 0.178   Train accuracy: 0.628   Val loss: 0.249   Val accuracy: 0.59    weighted Val loss: 0.3797\n",
      "0.59 ----------saved-----------\n",
      "Epoch: 27   Train loss: 0.1838   Train accuracy: 0.587   Val loss: 0.2506   Val accuracy: 0.582    weighted Val loss: 0.3791\n",
      "Epoch: 28   Train loss: 0.1545   Train accuracy: 0.604   Val loss: 0.2467   Val accuracy: 0.602    weighted Val loss: 0.3784\n",
      "0.602 ----------saved-----------\n",
      "Epoch: 29   Train loss: 0.1493   Train accuracy: 0.621   Val loss: 0.244   Val accuracy: 0.598    weighted Val loss: 0.3778\n",
      "Epoch: 30   Train loss: 0.1609   Train accuracy: 0.629   Val loss: 0.2413   Val accuracy: 0.605    weighted Val loss: 0.3771\n",
      "0.605 ----------saved-----------\n",
      "Epoch: 31   Train loss: 0.1546   Train accuracy: 0.618   Val loss: 0.2394   Val accuracy: 0.608    weighted Val loss: 0.3764\n",
      "0.608 ----------saved-----------\n",
      "Epoch: 32   Train loss: 0.143   Train accuracy: 0.678   Val loss: 0.2368   Val accuracy: 0.61    weighted Val loss: 0.3757\n",
      "0.61 ----------saved-----------\n",
      "Epoch: 33   Train loss: 0.1373   Train accuracy: 0.652   Val loss: 0.2339   Val accuracy: 0.618    weighted Val loss: 0.375\n",
      "0.618 ----------saved-----------\n",
      "Epoch: 34   Train loss: 0.1471   Train accuracy: 0.654   Val loss: 0.2318   Val accuracy: 0.623    weighted Val loss: 0.3743\n",
      "0.623 ----------saved-----------\n",
      "Epoch: 35   Train loss: 0.1453   Train accuracy: 0.683   Val loss: 0.2303   Val accuracy: 0.63    weighted Val loss: 0.3735\n",
      "0.63 ----------saved-----------\n",
      "Epoch: 36   Train loss: 0.1509   Train accuracy: 0.689   Val loss: 0.2298   Val accuracy: 0.635    weighted Val loss: 0.3728\n",
      "0.635 ----------saved-----------\n",
      "Epoch: 37   Train loss: 0.1265   Train accuracy: 0.718   Val loss: 0.2294   Val accuracy: 0.631    weighted Val loss: 0.3721\n",
      "Epoch: 38   Train loss: 0.1365   Train accuracy: 0.714   Val loss: 0.2267   Val accuracy: 0.641    weighted Val loss: 0.3714\n",
      "0.641 ----------saved-----------\n",
      "Epoch: 39   Train loss: 0.1293   Train accuracy: 0.685   Val loss: 0.225   Val accuracy: 0.643    weighted Val loss: 0.3706\n",
      "0.643 ----------saved-----------\n",
      "Epoch: 40   Train loss: 0.1543   Train accuracy: 0.718   Val loss: 0.2238   Val accuracy: 0.638    weighted Val loss: 0.3699\n",
      "Epoch: 41   Train loss: 0.1463   Train accuracy: 0.724   Val loss: 0.23   Val accuracy: 0.629    weighted Val loss: 0.3692\n",
      "Epoch: 42   Train loss: 0.1299   Train accuracy: 0.723   Val loss: 0.2266   Val accuracy: 0.63    weighted Val loss: 0.3685\n",
      "Epoch: 43   Train loss: 0.1234   Train accuracy: 0.68   Val loss: 0.227   Val accuracy: 0.633    weighted Val loss: 0.3678\n",
      "Epoch: 44   Train loss: 0.1228   Train accuracy: 0.697   Val loss: 0.2248   Val accuracy: 0.635    weighted Val loss: 0.3671\n",
      "Epoch: 45   Train loss: 0.1236   Train accuracy: 0.689   Val loss: 0.2226   Val accuracy: 0.638    weighted Val loss: 0.3664\n",
      "Epoch: 46   Train loss: 0.1175   Train accuracy: 0.733   Val loss: 0.2219   Val accuracy: 0.644    weighted Val loss: 0.3656\n",
      "0.644 ----------saved-----------\n",
      "Epoch: 47   Train loss: 0.1187   Train accuracy: 0.723   Val loss: 0.2214   Val accuracy: 0.639    weighted Val loss: 0.3649\n",
      "Epoch: 48   Train loss: 0.1124   Train accuracy: 0.743   Val loss: 0.2207   Val accuracy: 0.641    weighted Val loss: 0.3642\n",
      "Epoch: 49   Train loss: 0.1167   Train accuracy: 0.727   Val loss: 0.2189   Val accuracy: 0.648    weighted Val loss: 0.3635\n",
      "0.648 ----------saved-----------\n",
      "Epoch: 50   Train loss: 0.1162   Train accuracy: 0.748   Val loss: 0.2196   Val accuracy: 0.638    weighted Val loss: 0.3627\n",
      "Epoch: 51   Train loss: 0.1118   Train accuracy: 0.75   Val loss: 0.2167   Val accuracy: 0.651    weighted Val loss: 0.362\n",
      "0.651 ----------saved-----------\n",
      "Epoch: 52   Train loss: 0.1191   Train accuracy: 0.741   Val loss: 0.2157   Val accuracy: 0.656    weighted Val loss: 0.3613\n",
      "0.656 ----------saved-----------\n",
      "Epoch: 53   Train loss: 0.1119   Train accuracy: 0.743   Val loss: 0.2136   Val accuracy: 0.656    weighted Val loss: 0.3605\n",
      "0.656 ----------saved-----------\n",
      "Epoch: 54   Train loss: 0.1082   Train accuracy: 0.763   Val loss: 0.2136   Val accuracy: 0.652    weighted Val loss: 0.3598\n",
      "Epoch: 55   Train loss: 0.1119   Train accuracy: 0.743   Val loss: 0.2122   Val accuracy: 0.664    weighted Val loss: 0.3591\n",
      "0.664 ----------saved-----------\n",
      "Epoch: 56   Train loss: 0.1109   Train accuracy: 0.71   Val loss: 0.2115   Val accuracy: 0.656    weighted Val loss: 0.3583\n",
      "Epoch: 57   Train loss: 0.1172   Train accuracy: 0.798   Val loss: 0.2107   Val accuracy: 0.654    weighted Val loss: 0.3576\n",
      "Epoch: 58   Train loss: 0.1666   Train accuracy: 0.74   Val loss: 0.2107   Val accuracy: 0.655    weighted Val loss: 0.3569\n",
      "Epoch: 59   Train loss: 0.1174   Train accuracy: 0.77   Val loss: 0.2161   Val accuracy: 0.664    weighted Val loss: 0.3562\n",
      "Epoch: 60   Train loss: 0.125   Train accuracy: 0.799   Val loss: 0.2066   Val accuracy: 0.665    weighted Val loss: 0.3554\n",
      "0.665 ----------saved-----------\n",
      "Epoch: 61   Train loss: 0.1173   Train accuracy: 0.782   Val loss: 0.2085   Val accuracy: 0.653    weighted Val loss: 0.3547\n",
      "Epoch: 62   Train loss: 0.1145   Train accuracy: 0.789   Val loss: 0.2073   Val accuracy: 0.652    weighted Val loss: 0.3539\n",
      "Epoch: 63   Train loss: 0.113   Train accuracy: 0.732   Val loss: 0.2084   Val accuracy: 0.658    weighted Val loss: 0.3532\n",
      "Epoch: 64   Train loss: 0.123   Train accuracy: 0.77   Val loss: 0.2087   Val accuracy: 0.657    weighted Val loss: 0.3525\n",
      "Epoch: 65   Train loss: 0.1091   Train accuracy: 0.737   Val loss: 0.209   Val accuracy: 0.659    weighted Val loss: 0.3518\n",
      "Epoch: 66   Train loss: 0.1047   Train accuracy: 0.783   Val loss: 0.2075   Val accuracy: 0.656    weighted Val loss: 0.3511\n",
      "Epoch: 67   Train loss: 0.1082   Train accuracy: 0.713   Val loss: 0.2081   Val accuracy: 0.657    weighted Val loss: 0.3503\n",
      "Epoch: 68   Train loss: 0.1086   Train accuracy: 0.764   Val loss: 0.2082   Val accuracy: 0.659    weighted Val loss: 0.3496\n",
      "Epoch: 69   Train loss: 0.1022   Train accuracy: 0.769   Val loss: 0.2081   Val accuracy: 0.656    weighted Val loss: 0.3489\n",
      "Epoch: 70   Train loss: 0.1079   Train accuracy: 0.745   Val loss: 0.208   Val accuracy: 0.661    weighted Val loss: 0.3482\n",
      "Epoch: 71   Train loss: 0.1052   Train accuracy: 0.745   Val loss: 0.2067   Val accuracy: 0.662    weighted Val loss: 0.3475\n",
      "Epoch: 72   Train loss: 0.0965   Train accuracy: 0.772   Val loss: 0.2066   Val accuracy: 0.663    weighted Val loss: 0.3468\n",
      "Epoch: 73   Train loss: 0.1149   Train accuracy: 0.759   Val loss: 0.2074   Val accuracy: 0.659    weighted Val loss: 0.3461\n",
      "Epoch: 74   Train loss: 0.0959   Train accuracy: 0.801   Val loss: 0.2087   Val accuracy: 0.659    weighted Val loss: 0.3454\n",
      "Epoch: 75   Train loss: 0.0918   Train accuracy: 0.779   Val loss: 0.2081   Val accuracy: 0.657    weighted Val loss: 0.3447\n",
      "Epoch: 76   Train loss: 0.0968   Train accuracy: 0.853   Val loss: 0.209   Val accuracy: 0.654    weighted Val loss: 0.3441\n",
      "Epoch: 77   Train loss: 0.0982   Train accuracy: 0.788   Val loss: 0.2098   Val accuracy: 0.653    weighted Val loss: 0.3434\n",
      "Epoch: 78   Train loss: 0.1023   Train accuracy: 0.768   Val loss: 0.2084   Val accuracy: 0.652    weighted Val loss: 0.3427\n",
      "Epoch: 79   Train loss: 0.0997   Train accuracy: 0.775   Val loss: 0.2073   Val accuracy: 0.656    weighted Val loss: 0.342\n",
      "Epoch: 80   Train loss: 0.1052   Train accuracy: 0.766   Val loss: 0.2065   Val accuracy: 0.662    weighted Val loss: 0.3414\n",
      "Epoch: 81   Train loss: 0.1634   Train accuracy: 0.785   Val loss: 0.2068   Val accuracy: 0.658    weighted Val loss: 0.3407\n",
      "Epoch: 82   Train loss: 0.0965   Train accuracy: 0.8   Val loss: 0.2139   Val accuracy: 0.647    weighted Val loss: 0.34\n",
      "Epoch: 83   Train loss: 0.1286   Train accuracy: 0.783   Val loss: 0.2095   Val accuracy: 0.656    weighted Val loss: 0.3394\n",
      "Epoch: 84   Train loss: 0.111   Train accuracy: 0.825   Val loss: 0.2177   Val accuracy: 0.654    weighted Val loss: 0.3388\n",
      "Epoch: 85   Train loss: 0.1028   Train accuracy: 0.817   Val loss: 0.2131   Val accuracy: 0.654    weighted Val loss: 0.3382\n",
      "Epoch: 86   Train loss: 0.0974   Train accuracy: 0.848   Val loss: 0.2139   Val accuracy: 0.663    weighted Val loss: 0.3375\n",
      "Epoch: 87   Train loss: 0.0952   Train accuracy: 0.772   Val loss: 0.213   Val accuracy: 0.655    weighted Val loss: 0.3369\n",
      "Epoch: 88   Train loss: 0.0968   Train accuracy: 0.796   Val loss: 0.2116   Val accuracy: 0.662    weighted Val loss: 0.3363\n",
      "Epoch: 89   Train loss: 0.094   Train accuracy: 0.773   Val loss: 0.2102   Val accuracy: 0.655    weighted Val loss: 0.3357\n",
      "Epoch: 90   Train loss: 0.0971   Train accuracy: 0.779   Val loss: 0.21   Val accuracy: 0.656    weighted Val loss: 0.335\n",
      "Epoch: 91   Train loss: 0.0989   Train accuracy: 0.761   Val loss: 0.2091   Val accuracy: 0.663    weighted Val loss: 0.3344\n",
      "Epoch: 92   Train loss: 0.1004   Train accuracy: 0.774   Val loss: 0.2089   Val accuracy: 0.668    weighted Val loss: 0.3338\n",
      "0.668 ----------saved-----------\n",
      "Epoch: 93   Train loss: 0.0924   Train accuracy: 0.796   Val loss: 0.208   Val accuracy: 0.669    weighted Val loss: 0.3331\n",
      "0.669 ----------saved-----------\n",
      "Epoch: 94   Train loss: 0.0977   Train accuracy: 0.749   Val loss: 0.2073   Val accuracy: 0.667    weighted Val loss: 0.3325\n",
      "Epoch: 95   Train loss: 0.0975   Train accuracy: 0.78   Val loss: 0.2063   Val accuracy: 0.667    weighted Val loss: 0.3319\n",
      "Epoch: 96   Train loss: 0.1124   Train accuracy: 0.774   Val loss: 0.2075   Val accuracy: 0.664    weighted Val loss: 0.3313\n",
      "Epoch: 97   Train loss: 0.0953   Train accuracy: 0.783   Val loss: 0.2114   Val accuracy: 0.65    weighted Val loss: 0.3307\n",
      "Epoch: 98   Train loss: 0.1024   Train accuracy: 0.78   Val loss: 0.2105   Val accuracy: 0.648    weighted Val loss: 0.3301\n",
      "Epoch: 99   Train loss: 0.1122   Train accuracy: 0.779   Val loss: 0.2114   Val accuracy: 0.65    weighted Val loss: 0.3295\n",
      "Epoch: 100   Train loss: 0.0928   Train accuracy: 0.83   Val loss: 0.2099   Val accuracy: 0.653    weighted Val loss: 0.3289\n",
      "Epoch: 101   Train loss: 0.0941   Train accuracy: 0.765   Val loss: 0.2096   Val accuracy: 0.655    weighted Val loss: 0.3283\n",
      "Epoch: 102   Train loss: 0.1759   Train accuracy: 0.768   Val loss: 0.2092   Val accuracy: 0.655    weighted Val loss: 0.3277\n",
      "Epoch: 103   Train loss: 0.1011   Train accuracy: 0.843   Val loss: 0.2103   Val accuracy: 0.655    weighted Val loss: 0.3271\n",
      "Epoch: 104   Train loss: 0.095   Train accuracy: 0.803   Val loss: 0.2078   Val accuracy: 0.651    weighted Val loss: 0.3265\n",
      "Epoch: 105   Train loss: 0.0971   Train accuracy: 0.796   Val loss: 0.2085   Val accuracy: 0.654    weighted Val loss: 0.3259\n",
      "Epoch: 106   Train loss: 0.0804   Train accuracy: 0.79   Val loss: 0.21   Val accuracy: 0.647    weighted Val loss: 0.3253\n",
      "Epoch: 107   Train loss: 0.0867   Train accuracy: 0.831   Val loss: 0.2099   Val accuracy: 0.656    weighted Val loss: 0.3247\n",
      "Epoch: 108   Train loss: 0.0916   Train accuracy: 0.779   Val loss: 0.2102   Val accuracy: 0.656    weighted Val loss: 0.3242\n",
      "Epoch: 109   Train loss: 0.0928   Train accuracy: 0.787   Val loss: 0.2087   Val accuracy: 0.657    weighted Val loss: 0.3236\n",
      "Epoch: 110   Train loss: 0.0904   Train accuracy: 0.785   Val loss: 0.2087   Val accuracy: 0.654    weighted Val loss: 0.323\n",
      "Epoch: 111   Train loss: 0.0917   Train accuracy: 0.795   Val loss: 0.2099   Val accuracy: 0.656    weighted Val loss: 0.3225\n",
      "Epoch: 112   Train loss: 0.0929   Train accuracy: 0.782   Val loss: 0.2095   Val accuracy: 0.658    weighted Val loss: 0.3219\n",
      "Epoch: 113   Train loss: 0.109   Train accuracy: 0.818   Val loss: 0.2104   Val accuracy: 0.651    weighted Val loss: 0.3213\n",
      "Epoch: 114   Train loss: 0.0954   Train accuracy: 0.798   Val loss: 0.2141   Val accuracy: 0.643    weighted Val loss: 0.3208\n",
      "Epoch: 115   Train loss: 0.0929   Train accuracy: 0.759   Val loss: 0.2104   Val accuracy: 0.656    weighted Val loss: 0.3202\n",
      "Epoch: 116   Train loss: 0.0899   Train accuracy: 0.804   Val loss: 0.2094   Val accuracy: 0.648    weighted Val loss: 0.3197\n",
      "Epoch: 117   Train loss: 0.0786   Train accuracy: 0.809   Val loss: 0.2102   Val accuracy: 0.654    weighted Val loss: 0.3191\n",
      "Epoch: 118   Train loss: 0.0911   Train accuracy: 0.764   Val loss: 0.21   Val accuracy: 0.654    weighted Val loss: 0.3186\n",
      "Epoch: 119   Train loss: 0.1013   Train accuracy: 0.779   Val loss: 0.2091   Val accuracy: 0.657    weighted Val loss: 0.318\n",
      "Epoch: 120   Train loss: 0.0812   Train accuracy: 0.802   Val loss: 0.2096   Val accuracy: 0.656    weighted Val loss: 0.3175\n",
      "Epoch: 121   Train loss: 0.0847   Train accuracy: 0.79   Val loss: 0.2104   Val accuracy: 0.657    weighted Val loss: 0.317\n",
      "Epoch: 122   Train loss: 0.0974   Train accuracy: 0.778   Val loss: 0.2097   Val accuracy: 0.653    weighted Val loss: 0.3164\n",
      "Epoch: 123   Train loss: 0.0913   Train accuracy: 0.781   Val loss: 0.2109   Val accuracy: 0.658    weighted Val loss: 0.3159\n",
      "Epoch: 124   Train loss: 0.0905   Train accuracy: 0.823   Val loss: 0.2091   Val accuracy: 0.661    weighted Val loss: 0.3154\n",
      "Epoch: 125   Train loss: 0.0786   Train accuracy: 0.809   Val loss: 0.2092   Val accuracy: 0.654    weighted Val loss: 0.3148\n",
      "Epoch: 126   Train loss: 0.0894   Train accuracy: 0.806   Val loss: 0.2101   Val accuracy: 0.657    weighted Val loss: 0.3143\n",
      "Epoch: 127   Train loss: 0.0847   Train accuracy: 0.794   Val loss: 0.2094   Val accuracy: 0.662    weighted Val loss: 0.3138\n",
      "Epoch: 128   Train loss: 0.1184   Train accuracy: 0.782   Val loss: 0.21   Val accuracy: 0.66    weighted Val loss: 0.3133\n",
      "Epoch: 129   Train loss: 0.0871   Train accuracy: 0.846   Val loss: 0.2089   Val accuracy: 0.655    weighted Val loss: 0.3128\n",
      "Epoch: 130   Train loss: 0.0903   Train accuracy: 0.839   Val loss: 0.2081   Val accuracy: 0.657    weighted Val loss: 0.3122\n",
      "Epoch: 131   Train loss: 0.0892   Train accuracy: 0.773   Val loss: 0.2126   Val accuracy: 0.652    weighted Val loss: 0.3117\n",
      "Epoch: 132   Train loss: 0.0895   Train accuracy: 0.785   Val loss: 0.2107   Val accuracy: 0.656    weighted Val loss: 0.3112\n",
      "Epoch: 133   Train loss: 0.0808   Train accuracy: 0.811   Val loss: 0.2086   Val accuracy: 0.66    weighted Val loss: 0.3107\n",
      "Epoch: 134   Train loss: 0.0866   Train accuracy: 0.782   Val loss: 0.2071   Val accuracy: 0.666    weighted Val loss: 0.3102\n",
      "Epoch: 135   Train loss: 0.0903   Train accuracy: 0.792   Val loss: 0.2063   Val accuracy: 0.667    weighted Val loss: 0.3097\n",
      "Epoch: 136   Train loss: 0.0866   Train accuracy: 0.755   Val loss: 0.2074   Val accuracy: 0.66    weighted Val loss: 0.3092\n",
      "Epoch: 137   Train loss: 0.0873   Train accuracy: 0.804   Val loss: 0.2102   Val accuracy: 0.659    weighted Val loss: 0.3087\n",
      "Epoch: 138   Train loss: 0.0862   Train accuracy: 0.785   Val loss: 0.2072   Val accuracy: 0.665    weighted Val loss: 0.3082\n",
      "Epoch: 139   Train loss: 0.0828   Train accuracy: 0.785   Val loss: 0.2076   Val accuracy: 0.667    weighted Val loss: 0.3077\n",
      "Epoch: 140   Train loss: 0.0804   Train accuracy: 0.829   Val loss: 0.2095   Val accuracy: 0.662    weighted Val loss: 0.3072\n",
      "Epoch: 141   Train loss: 0.0877   Train accuracy: 0.795   Val loss: 0.2083   Val accuracy: 0.661    weighted Val loss: 0.3067\n",
      "Epoch: 142   Train loss: 0.0939   Train accuracy: 0.781   Val loss: 0.2091   Val accuracy: 0.661    weighted Val loss: 0.3062\n",
      "Epoch: 143   Train loss: 0.0789   Train accuracy: 0.801   Val loss: 0.2125   Val accuracy: 0.66    weighted Val loss: 0.3057\n",
      "Epoch: 144   Train loss: 0.0872   Train accuracy: 0.786   Val loss: 0.2128   Val accuracy: 0.645    weighted Val loss: 0.3053\n",
      "Epoch: 145   Train loss: 0.0873   Train accuracy: 0.805   Val loss: 0.2117   Val accuracy: 0.652    weighted Val loss: 0.3048\n",
      "Epoch: 146   Train loss: 0.0775   Train accuracy: 0.777   Val loss: 0.2118   Val accuracy: 0.658    weighted Val loss: 0.3043\n",
      "Epoch: 147   Train loss: 0.0821   Train accuracy: 0.799   Val loss: 0.2124   Val accuracy: 0.654    weighted Val loss: 0.3039\n",
      "Epoch: 148   Train loss: 0.0919   Train accuracy: 0.794   Val loss: 0.2102   Val accuracy: 0.648    weighted Val loss: 0.3034\n",
      "Epoch: 149   Train loss: 0.0842   Train accuracy: 0.787   Val loss: 0.2114   Val accuracy: 0.646    weighted Val loss: 0.3029\n",
      "Epoch: 150   Train loss: 0.0894   Train accuracy: 0.801   Val loss: 0.2115   Val accuracy: 0.647    weighted Val loss: 0.3025\n",
      "Epoch: 151   Train loss: 0.0751   Train accuracy: 0.825   Val loss: 0.2148   Val accuracy: 0.655    weighted Val loss: 0.302\n",
      "Epoch: 152   Train loss: 0.0744   Train accuracy: 0.809   Val loss: 0.2146   Val accuracy: 0.651    weighted Val loss: 0.3016\n",
      "Epoch: 153   Train loss: 0.0773   Train accuracy: 0.816   Val loss: 0.2133   Val accuracy: 0.655    weighted Val loss: 0.3012\n",
      "Epoch: 154   Train loss: 0.084   Train accuracy: 0.788   Val loss: 0.2142   Val accuracy: 0.659    weighted Val loss: 0.3007\n",
      "Epoch: 155   Train loss: 0.0833   Train accuracy: 0.785   Val loss: 0.2107   Val accuracy: 0.655    weighted Val loss: 0.3003\n",
      "Epoch: 156   Train loss: 0.0835   Train accuracy: 0.796   Val loss: 0.2114   Val accuracy: 0.656    weighted Val loss: 0.2998\n",
      "Epoch: 157   Train loss: 0.0859   Train accuracy: 0.789   Val loss: 0.2154   Val accuracy: 0.652    weighted Val loss: 0.2994\n",
      "Epoch: 158   Train loss: 0.0794   Train accuracy: 0.812   Val loss: 0.2101   Val accuracy: 0.661    weighted Val loss: 0.299\n",
      "Epoch: 159   Train loss: 0.0776   Train accuracy: 0.804   Val loss: 0.2106   Val accuracy: 0.655    weighted Val loss: 0.2985\n",
      "Epoch: 160   Train loss: 0.093   Train accuracy: 0.794   Val loss: 0.2104   Val accuracy: 0.658    weighted Val loss: 0.2981\n",
      "Epoch: 161   Train loss: 0.081   Train accuracy: 0.789   Val loss: 0.2117   Val accuracy: 0.655    weighted Val loss: 0.2976\n",
      "Epoch: 162   Train loss: 0.0822   Train accuracy: 0.782   Val loss: 0.2108   Val accuracy: 0.658    weighted Val loss: 0.2972\n",
      "Epoch: 163   Train loss: 0.0825   Train accuracy: 0.799   Val loss: 0.2089   Val accuracy: 0.666    weighted Val loss: 0.2968\n",
      "Epoch: 164   Train loss: 0.0835   Train accuracy: 0.791   Val loss: 0.2087   Val accuracy: 0.664    weighted Val loss: 0.2963\n",
      "Epoch: 165   Train loss: 0.0765   Train accuracy: 0.843   Val loss: 0.2077   Val accuracy: 0.663    weighted Val loss: 0.2959\n",
      "Epoch: 166   Train loss: 0.1014   Train accuracy: 0.788   Val loss: 0.2082   Val accuracy: 0.663    weighted Val loss: 0.2954\n",
      "Epoch: 167   Train loss: 0.078   Train accuracy: 0.808   Val loss: 0.2064   Val accuracy: 0.663    weighted Val loss: 0.295\n",
      "Epoch: 168   Train loss: 0.0742   Train accuracy: 0.799   Val loss: 0.207   Val accuracy: 0.664    weighted Val loss: 0.2946\n",
      "Epoch: 169   Train loss: 0.0854   Train accuracy: 0.782   Val loss: 0.2067   Val accuracy: 0.661    weighted Val loss: 0.2941\n",
      "Epoch: 170   Train loss: 0.0761   Train accuracy: 0.789   Val loss: 0.209   Val accuracy: 0.66    weighted Val loss: 0.2937\n",
      "Epoch: 171   Train loss: 0.0722   Train accuracy: 0.838   Val loss: 0.2111   Val accuracy: 0.667    weighted Val loss: 0.2933\n",
      "Epoch: 172   Train loss: 0.0836   Train accuracy: 0.883   Val loss: 0.214   Val accuracy: 0.657    weighted Val loss: 0.2929\n",
      "Epoch: 173   Train loss: 0.0792   Train accuracy: 0.793   Val loss: 0.2146   Val accuracy: 0.66    weighted Val loss: 0.2925\n",
      "Epoch: 174   Train loss: 0.0871   Train accuracy: 0.805   Val loss: 0.2122   Val accuracy: 0.66    weighted Val loss: 0.2921\n",
      "Epoch: 175   Train loss: 0.0989   Train accuracy: 0.831   Val loss: 0.2149   Val accuracy: 0.659    weighted Val loss: 0.2917\n",
      "Epoch: 176   Train loss: 0.0986   Train accuracy: 0.775   Val loss: 0.2104   Val accuracy: 0.649    weighted Val loss: 0.2913\n",
      "Epoch: 177   Train loss: 0.0722   Train accuracy: 0.822   Val loss: 0.2098   Val accuracy: 0.661    weighted Val loss: 0.2909\n",
      "Epoch: 178   Train loss: 0.0765   Train accuracy: 0.795   Val loss: 0.211   Val accuracy: 0.661    weighted Val loss: 0.2905\n",
      "Epoch: 179   Train loss: 0.0764   Train accuracy: 0.806   Val loss: 0.2109   Val accuracy: 0.66    weighted Val loss: 0.2901\n",
      "Epoch: 180   Train loss: 0.077   Train accuracy: 0.809   Val loss: 0.2102   Val accuracy: 0.661    weighted Val loss: 0.2897\n",
      "Epoch: 181   Train loss: 0.0814   Train accuracy: 0.784   Val loss: 0.209   Val accuracy: 0.667    weighted Val loss: 0.2893\n",
      "Epoch: 182   Train loss: 0.0728   Train accuracy: 0.81   Val loss: 0.2113   Val accuracy: 0.661    weighted Val loss: 0.2889\n",
      "Epoch: 183   Train loss: 0.0777   Train accuracy: 0.786   Val loss: 0.2097   Val accuracy: 0.667    weighted Val loss: 0.2885\n",
      "Epoch: 184   Train loss: 0.0738   Train accuracy: 0.823   Val loss: 0.2094   Val accuracy: 0.672    weighted Val loss: 0.2881\n",
      "0.672 ----------saved-----------\n",
      "Epoch: 185   Train loss: 0.0819   Train accuracy: 0.798   Val loss: 0.2082   Val accuracy: 0.674    weighted Val loss: 0.2877\n",
      "0.674 ----------saved-----------\n",
      "Epoch: 186   Train loss: 0.0772   Train accuracy: 0.858   Val loss: 0.2083   Val accuracy: 0.672    weighted Val loss: 0.2873\n",
      "Epoch: 187   Train loss: 0.079   Train accuracy: 0.806   Val loss: 0.2066   Val accuracy: 0.669    weighted Val loss: 0.2869\n",
      "Epoch: 188   Train loss: 0.0787   Train accuracy: 0.789   Val loss: 0.2058   Val accuracy: 0.674    weighted Val loss: 0.2865\n",
      "0.674 ----------saved-----------\n",
      "Epoch: 189   Train loss: 0.0762   Train accuracy: 0.808   Val loss: 0.2065   Val accuracy: 0.672    weighted Val loss: 0.2861\n",
      "Epoch: 190   Train loss: 0.0761   Train accuracy: 0.829   Val loss: 0.2061   Val accuracy: 0.672    weighted Val loss: 0.2857\n",
      "Epoch: 191   Train loss: 0.1152   Train accuracy: 0.793   Val loss: 0.2049   Val accuracy: 0.673    weighted Val loss: 0.2853\n",
      "Epoch: 192   Train loss: 0.0862   Train accuracy: 0.85   Val loss: 0.2069   Val accuracy: 0.668    weighted Val loss: 0.2849\n",
      "Epoch: 193   Train loss: 0.0811   Train accuracy: 0.8   Val loss: 0.2086   Val accuracy: 0.664    weighted Val loss: 0.2845\n",
      "Epoch: 194   Train loss: 0.0732   Train accuracy: 0.818   Val loss: 0.2103   Val accuracy: 0.67    weighted Val loss: 0.2842\n",
      "Epoch: 195   Train loss: 0.0737   Train accuracy: 0.826   Val loss: 0.2118   Val accuracy: 0.67    weighted Val loss: 0.2838\n",
      "Epoch: 196   Train loss: 0.0865   Train accuracy: 0.821   Val loss: 0.2099   Val accuracy: 0.675    weighted Val loss: 0.2834\n",
      "0.675 ----------saved-----------\n",
      "Epoch: 197   Train loss: 0.0798   Train accuracy: 0.774   Val loss: 0.2119   Val accuracy: 0.67    weighted Val loss: 0.2831\n",
      "Epoch: 198   Train loss: 0.1018   Train accuracy: 0.804   Val loss: 0.2107   Val accuracy: 0.668    weighted Val loss: 0.2827\n",
      "Epoch: 199   Train loss: 0.1469   Train accuracy: 0.81   Val loss: 0.2099   Val accuracy: 0.654    weighted Val loss: 0.2823\n",
      "Epoch: 200   Train loss: 0.0907   Train accuracy: 0.815   Val loss: 0.2284   Val accuracy: 0.631    weighted Val loss: 0.2821\n",
      "Epoch: 201   Train loss: 0.11   Train accuracy: 0.805   Val loss: 0.2178   Val accuracy: 0.643    weighted Val loss: 0.2818\n",
      "Epoch: 202   Train loss: 0.0854   Train accuracy: 0.797   Val loss: 0.2169   Val accuracy: 0.651    weighted Val loss: 0.2814\n",
      "Epoch: 203   Train loss: 0.0819   Train accuracy: 0.856   Val loss: 0.2165   Val accuracy: 0.654    weighted Val loss: 0.2811\n",
      "Epoch: 204   Train loss: 0.0834   Train accuracy: 0.806   Val loss: 0.2189   Val accuracy: 0.654    weighted Val loss: 0.2808\n",
      "Epoch: 205   Train loss: 0.0758   Train accuracy: 0.803   Val loss: 0.2162   Val accuracy: 0.658    weighted Val loss: 0.2805\n",
      "Epoch: 206   Train loss: 0.0753   Train accuracy: 0.838   Val loss: 0.2143   Val accuracy: 0.663    weighted Val loss: 0.2801\n",
      "Epoch: 207   Train loss: 0.0828   Train accuracy: 0.78   Val loss: 0.2132   Val accuracy: 0.663    weighted Val loss: 0.2798\n",
      "Epoch: 208   Train loss: 0.071   Train accuracy: 0.828   Val loss: 0.2127   Val accuracy: 0.663    weighted Val loss: 0.2795\n",
      "Epoch: 209   Train loss: 0.0709   Train accuracy: 0.828   Val loss: 0.2111   Val accuracy: 0.669    weighted Val loss: 0.2791\n",
      "Epoch: 210   Train loss: 0.0759   Train accuracy: 0.818   Val loss: 0.2121   Val accuracy: 0.667    weighted Val loss: 0.2788\n",
      "Epoch: 211   Train loss: 0.0848   Train accuracy: 0.776   Val loss: 0.2107   Val accuracy: 0.667    weighted Val loss: 0.2785\n",
      "Epoch: 212   Train loss: 0.0739   Train accuracy: 0.817   Val loss: 0.2114   Val accuracy: 0.66    weighted Val loss: 0.2781\n",
      "Epoch: 213   Train loss: 0.0776   Train accuracy: 0.831   Val loss: 0.2117   Val accuracy: 0.658    weighted Val loss: 0.2778\n",
      "Epoch: 214   Train loss: 0.0821   Train accuracy: 0.843   Val loss: 0.2094   Val accuracy: 0.661    weighted Val loss: 0.2774\n",
      "Epoch: 215   Train loss: 0.0753   Train accuracy: 0.814   Val loss: 0.2083   Val accuracy: 0.665    weighted Val loss: 0.2771\n",
      "Epoch: 216   Train loss: 0.0764   Train accuracy: 0.809   Val loss: 0.2087   Val accuracy: 0.661    weighted Val loss: 0.2768\n",
      "Epoch: 217   Train loss: 0.0775   Train accuracy: 0.799   Val loss: 0.2086   Val accuracy: 0.659    weighted Val loss: 0.2764\n",
      "Epoch: 218   Train loss: 0.0759   Train accuracy: 0.793   Val loss: 0.209   Val accuracy: 0.662    weighted Val loss: 0.2761\n",
      "Epoch: 219   Train loss: 0.0739   Train accuracy: 0.832   Val loss: 0.209   Val accuracy: 0.66    weighted Val loss: 0.2757\n",
      "Epoch: 220   Train loss: 0.0754   Train accuracy: 0.825   Val loss: 0.2087   Val accuracy: 0.66    weighted Val loss: 0.2754\n",
      "Epoch: 221   Train loss: 0.069   Train accuracy: 0.823   Val loss: 0.209   Val accuracy: 0.66    weighted Val loss: 0.2751\n",
      "Epoch: 222   Train loss: 0.078   Train accuracy: 0.805   Val loss: 0.2086   Val accuracy: 0.657    weighted Val loss: 0.2747\n",
      "Epoch: 223   Train loss: 0.0716   Train accuracy: 0.816   Val loss: 0.21   Val accuracy: 0.664    weighted Val loss: 0.2744\n",
      "Epoch: 224   Train loss: 0.0764   Train accuracy: 0.794   Val loss: 0.2077   Val accuracy: 0.662    weighted Val loss: 0.2741\n",
      "Epoch: 225   Train loss: 0.0716   Train accuracy: 0.833   Val loss: 0.2066   Val accuracy: 0.661    weighted Val loss: 0.2737\n",
      "Epoch: 226   Train loss: 0.081   Train accuracy: 0.78   Val loss: 0.2035   Val accuracy: 0.668    weighted Val loss: 0.2734\n",
      "Epoch: 227   Train loss: 0.0708   Train accuracy: 0.839   Val loss: 0.2039   Val accuracy: 0.669    weighted Val loss: 0.273\n",
      "Epoch: 228   Train loss: 0.1021   Train accuracy: 0.796   Val loss: 0.203   Val accuracy: 0.668    weighted Val loss: 0.2727\n",
      "Epoch: 229   Train loss: 0.0905   Train accuracy: 0.772   Val loss: 0.2039   Val accuracy: 0.668    weighted Val loss: 0.2724\n",
      "Epoch: 230   Train loss: 0.0814   Train accuracy: 0.805   Val loss: 0.2009   Val accuracy: 0.674    weighted Val loss: 0.272\n",
      "Epoch: 231   Train loss: 0.076   Train accuracy: 0.854   Val loss: 0.2035   Val accuracy: 0.672    weighted Val loss: 0.2717\n",
      "Epoch: 232   Train loss: 0.0786   Train accuracy: 0.803   Val loss: 0.2018   Val accuracy: 0.677    weighted Val loss: 0.2713\n",
      "0.677 ----------saved-----------\n",
      "Epoch: 233   Train loss: 0.0735   Train accuracy: 0.809   Val loss: 0.2028   Val accuracy: 0.672    weighted Val loss: 0.271\n",
      "Epoch: 234   Train loss: 0.0742   Train accuracy: 0.819   Val loss: 0.2028   Val accuracy: 0.675    weighted Val loss: 0.2706\n",
      "Epoch: 235   Train loss: 0.0921   Train accuracy: 0.82   Val loss: 0.2034   Val accuracy: 0.675    weighted Val loss: 0.2703\n",
      "Epoch: 236   Train loss: 0.0815   Train accuracy: 0.823   Val loss: 0.2097   Val accuracy: 0.671    weighted Val loss: 0.27\n",
      "Epoch: 237   Train loss: 0.1734   Train accuracy: 0.784   Val loss: 0.2076   Val accuracy: 0.664    weighted Val loss: 0.2697\n",
      "Epoch: 238   Train loss: 0.09   Train accuracy: 0.774   Val loss: 0.2157   Val accuracy: 0.651    weighted Val loss: 0.2694\n",
      "Epoch: 239   Train loss: 0.089   Train accuracy: 0.79   Val loss: 0.2109   Val accuracy: 0.657    weighted Val loss: 0.2691\n",
      "Epoch: 240   Train loss: 0.0939   Train accuracy: 0.846   Val loss: 0.2093   Val accuracy: 0.656    weighted Val loss: 0.2688\n",
      "Epoch: 241   Train loss: 0.0766   Train accuracy: 0.795   Val loss: 0.2089   Val accuracy: 0.657    weighted Val loss: 0.2685\n",
      "Epoch: 242   Train loss: 0.0747   Train accuracy: 0.823   Val loss: 0.21   Val accuracy: 0.665    weighted Val loss: 0.2682\n",
      "Epoch: 243   Train loss: 0.0814   Train accuracy: 0.807   Val loss: 0.2106   Val accuracy: 0.654    weighted Val loss: 0.2679\n",
      "Epoch: 244   Train loss: 0.083   Train accuracy: 0.786   Val loss: 0.2092   Val accuracy: 0.657    weighted Val loss: 0.2676\n",
      "Epoch: 245   Train loss: 0.1044   Train accuracy: 0.835   Val loss: 0.2072   Val accuracy: 0.659    weighted Val loss: 0.2673\n",
      "Epoch: 246   Train loss: 0.0796   Train accuracy: 0.811   Val loss: 0.2071   Val accuracy: 0.651    weighted Val loss: 0.267\n",
      "Epoch: 247   Train loss: 0.0734   Train accuracy: 0.818   Val loss: 0.2049   Val accuracy: 0.661    weighted Val loss: 0.2667\n",
      "Epoch: 248   Train loss: 0.0939   Train accuracy: 0.825   Val loss: 0.2061   Val accuracy: 0.657    weighted Val loss: 0.2664\n",
      "Epoch: 249   Train loss: 0.0726   Train accuracy: 0.814   Val loss: 0.2139   Val accuracy: 0.643    weighted Val loss: 0.2662\n",
      "Epoch: 250   Train loss: 0.0842   Train accuracy: 0.798   Val loss: 0.2093   Val accuracy: 0.654    weighted Val loss: 0.2659\n",
      "Epoch: 251   Train loss: 0.0731   Train accuracy: 0.814   Val loss: 0.2078   Val accuracy: 0.658    weighted Val loss: 0.2656\n",
      "Epoch: 252   Train loss: 0.0761   Train accuracy: 0.809   Val loss: 0.2097   Val accuracy: 0.66    weighted Val loss: 0.2653\n",
      "Epoch: 253   Train loss: 0.0759   Train accuracy: 0.875   Val loss: 0.21   Val accuracy: 0.65    weighted Val loss: 0.265\n",
      "Epoch: 254   Train loss: 0.0709   Train accuracy: 0.825   Val loss: 0.2096   Val accuracy: 0.657    weighted Val loss: 0.2647\n",
      "Epoch: 255   Train loss: 0.0769   Train accuracy: 0.786   Val loss: 0.2099   Val accuracy: 0.654    weighted Val loss: 0.2645\n",
      "Epoch: 256   Train loss: 0.067   Train accuracy: 0.819   Val loss: 0.2092   Val accuracy: 0.661    weighted Val loss: 0.2642\n",
      "Epoch: 257   Train loss: 0.0664   Train accuracy: 0.825   Val loss: 0.211   Val accuracy: 0.665    weighted Val loss: 0.2639\n",
      "Epoch: 258   Train loss: 0.0802   Train accuracy: 0.813   Val loss: 0.2158   Val accuracy: 0.662    weighted Val loss: 0.2637\n",
      "Epoch: 259   Train loss: 0.079   Train accuracy: 0.776   Val loss: 0.2175   Val accuracy: 0.649    weighted Val loss: 0.2635\n",
      "Epoch: 260   Train loss: 0.0777   Train accuracy: 0.801   Val loss: 0.2155   Val accuracy: 0.65    weighted Val loss: 0.2632\n",
      "Epoch: 261   Train loss: 0.0773   Train accuracy: 0.866   Val loss: 0.213   Val accuracy: 0.658    weighted Val loss: 0.263\n",
      "Epoch: 262   Train loss: 0.0711   Train accuracy: 0.844   Val loss: 0.2141   Val accuracy: 0.66    weighted Val loss: 0.2627\n",
      "Epoch: 263   Train loss: 0.0816   Train accuracy: 0.831   Val loss: 0.2224   Val accuracy: 0.65    weighted Val loss: 0.2625\n",
      "Epoch: 264   Train loss: 0.0719   Train accuracy: 0.813   Val loss: 0.2202   Val accuracy: 0.65    weighted Val loss: 0.2623\n",
      "Epoch: 265   Train loss: 0.0671   Train accuracy: 0.823   Val loss: 0.2169   Val accuracy: 0.655    weighted Val loss: 0.2621\n",
      "Epoch: 266   Train loss: 0.0828   Train accuracy: 0.867   Val loss: 0.216   Val accuracy: 0.652    weighted Val loss: 0.2619\n",
      "Epoch: 267   Train loss: 0.0775   Train accuracy: 0.819   Val loss: 0.2201   Val accuracy: 0.646    weighted Val loss: 0.2616\n",
      "Epoch: 268   Train loss: 0.082   Train accuracy: 0.868   Val loss: 0.2175   Val accuracy: 0.648    weighted Val loss: 0.2614\n",
      "Epoch: 269   Train loss: 0.0723   Train accuracy: 0.815   Val loss: 0.219   Val accuracy: 0.648    weighted Val loss: 0.2612\n",
      "Epoch: 270   Train loss: 0.0712   Train accuracy: 0.832   Val loss: 0.2162   Val accuracy: 0.651    weighted Val loss: 0.261\n",
      "Epoch: 271   Train loss: 0.0655   Train accuracy: 0.829   Val loss: 0.2161   Val accuracy: 0.652    weighted Val loss: 0.2608\n",
      "Epoch: 272   Train loss: 0.0717   Train accuracy: 0.809   Val loss: 0.2144   Val accuracy: 0.658    weighted Val loss: 0.2605\n",
      "Epoch: 273   Train loss: 0.0751   Train accuracy: 0.808   Val loss: 0.2115   Val accuracy: 0.652    weighted Val loss: 0.2603\n",
      "Epoch: 274   Train loss: 0.0691   Train accuracy: 0.818   Val loss: 0.2121   Val accuracy: 0.656    weighted Val loss: 0.26\n",
      "Epoch: 275   Train loss: 0.0804   Train accuracy: 0.796   Val loss: 0.21   Val accuracy: 0.659    weighted Val loss: 0.2598\n",
      "Epoch: 276   Train loss: 0.0773   Train accuracy: 0.813   Val loss: 0.2088   Val accuracy: 0.661    weighted Val loss: 0.2595\n",
      "Epoch: 277   Train loss: 0.0709   Train accuracy: 0.821   Val loss: 0.211   Val accuracy: 0.661    weighted Val loss: 0.2593\n",
      "Epoch: 278   Train loss: 0.1045   Train accuracy: 0.794   Val loss: 0.21   Val accuracy: 0.664    weighted Val loss: 0.2591\n",
      "Epoch: 279   Train loss: 0.0726   Train accuracy: 0.826   Val loss: 0.2073   Val accuracy: 0.669    weighted Val loss: 0.2588\n",
      "Epoch: 280   Train loss: 0.0909   Train accuracy: 0.806   Val loss: 0.2101   Val accuracy: 0.677    weighted Val loss: 0.2585\n",
      "0.677 ----------saved-----------\n",
      "Epoch: 281   Train loss: 0.0737   Train accuracy: 0.791   Val loss: 0.2166   Val accuracy: 0.67    weighted Val loss: 0.2583\n",
      "Epoch: 282   Train loss: 0.0703   Train accuracy: 0.829   Val loss: 0.2123   Val accuracy: 0.663    weighted Val loss: 0.2581\n",
      "Epoch: 283   Train loss: 0.0709   Train accuracy: 0.815   Val loss: 0.2132   Val accuracy: 0.665    weighted Val loss: 0.2579\n",
      "Epoch: 284   Train loss: 0.0802   Train accuracy: 0.805   Val loss: 0.2089   Val accuracy: 0.663    weighted Val loss: 0.2576\n",
      "Epoch: 285   Train loss: 0.0743   Train accuracy: 0.81   Val loss: 0.209   Val accuracy: 0.667    weighted Val loss: 0.2574\n",
      "Epoch: 286   Train loss: 0.0741   Train accuracy: 0.812   Val loss: 0.2092   Val accuracy: 0.664    weighted Val loss: 0.2572\n",
      "Epoch: 287   Train loss: 0.1223   Train accuracy: 0.845   Val loss: 0.21   Val accuracy: 0.662    weighted Val loss: 0.2569\n",
      "Epoch: 288   Train loss: 0.0782   Train accuracy: 0.806   Val loss: 0.2142   Val accuracy: 0.647    weighted Val loss: 0.2567\n",
      "Epoch: 289   Train loss: 0.0741   Train accuracy: 0.897   Val loss: 0.2136   Val accuracy: 0.651    weighted Val loss: 0.2565\n",
      "Epoch: 290   Train loss: 0.0767   Train accuracy: 0.835   Val loss: 0.2175   Val accuracy: 0.663    weighted Val loss: 0.2563\n",
      "Epoch: 291   Train loss: 0.0714   Train accuracy: 0.821   Val loss: 0.2171   Val accuracy: 0.663    weighted Val loss: 0.2561\n",
      "Epoch: 292   Train loss: 0.0723   Train accuracy: 0.83   Val loss: 0.2126   Val accuracy: 0.662    weighted Val loss: 0.2559\n",
      "Epoch: 293   Train loss: 0.0722   Train accuracy: 0.813   Val loss: 0.2121   Val accuracy: 0.661    weighted Val loss: 0.2557\n",
      "Epoch: 294   Train loss: 0.0708   Train accuracy: 0.83   Val loss: 0.2139   Val accuracy: 0.668    weighted Val loss: 0.2555\n",
      "Epoch: 295   Train loss: 0.0766   Train accuracy: 0.806   Val loss: 0.2121   Val accuracy: 0.668    weighted Val loss: 0.2552\n",
      "Epoch: 296   Train loss: 0.0753   Train accuracy: 0.785   Val loss: 0.2103   Val accuracy: 0.668    weighted Val loss: 0.255\n",
      "Epoch: 297   Train loss: 0.0716   Train accuracy: 0.796   Val loss: 0.2117   Val accuracy: 0.666    weighted Val loss: 0.2548\n",
      "Epoch: 298   Train loss: 0.069   Train accuracy: 0.807   Val loss: 0.2142   Val accuracy: 0.661    weighted Val loss: 0.2546\n",
      "Epoch: 299   Train loss: 0.0676   Train accuracy: 0.829   Val loss: 0.2137   Val accuracy: 0.66    weighted Val loss: 0.2544\n",
      "Epoch: 300   Train loss: 0.0685   Train accuracy: 0.834   Val loss: 0.2122   Val accuracy: 0.661    weighted Val loss: 0.2542\n",
      "Epoch: 301   Train loss: 0.0773   Train accuracy: 0.79   Val loss: 0.2113   Val accuracy: 0.67    weighted Val loss: 0.254\n",
      "Epoch: 302   Train loss: 0.0768   Train accuracy: 0.804   Val loss: 0.2076   Val accuracy: 0.672    weighted Val loss: 0.2537\n",
      "Epoch: 303   Train loss: 0.0744   Train accuracy: 0.85   Val loss: 0.2075   Val accuracy: 0.671    weighted Val loss: 0.2535\n",
      "Epoch: 304   Train loss: 0.08   Train accuracy: 0.799   Val loss: 0.2077   Val accuracy: 0.666    weighted Val loss: 0.2533\n",
      "Epoch: 305   Train loss: 0.0794   Train accuracy: 0.8   Val loss: 0.2055   Val accuracy: 0.673    weighted Val loss: 0.253\n",
      "Epoch: 306   Train loss: 0.0727   Train accuracy: 0.819   Val loss: 0.2056   Val accuracy: 0.669    weighted Val loss: 0.2528\n",
      "Epoch: 307   Train loss: 0.0708   Train accuracy: 0.817   Val loss: 0.2069   Val accuracy: 0.676    weighted Val loss: 0.2526\n",
      "Epoch: 308   Train loss: 0.0795   Train accuracy: 0.809   Val loss: 0.2062   Val accuracy: 0.671    weighted Val loss: 0.2523\n",
      "Epoch: 309   Train loss: 0.0677   Train accuracy: 0.8   Val loss: 0.2092   Val accuracy: 0.672    weighted Val loss: 0.2521\n",
      "Epoch: 310   Train loss: 0.0788   Train accuracy: 0.804   Val loss: 0.2083   Val accuracy: 0.67    weighted Val loss: 0.2519\n",
      "Epoch: 311   Train loss: 0.0857   Train accuracy: 0.825   Val loss: 0.2108   Val accuracy: 0.661    weighted Val loss: 0.2517\n",
      "Epoch: 312   Train loss: 0.0659   Train accuracy: 0.84   Val loss: 0.2175   Val accuracy: 0.651    weighted Val loss: 0.2515\n",
      "Epoch: 313   Train loss: 0.0749   Train accuracy: 0.798   Val loss: 0.2126   Val accuracy: 0.659    weighted Val loss: 0.2513\n",
      "Epoch: 314   Train loss: 0.0676   Train accuracy: 0.826   Val loss: 0.2101   Val accuracy: 0.658    weighted Val loss: 0.2511\n",
      "Epoch: 315   Train loss: 0.132   Train accuracy: 0.809   Val loss: 0.2108   Val accuracy: 0.653    weighted Val loss: 0.2509\n",
      "Epoch: 316   Train loss: 0.0856   Train accuracy: 0.82   Val loss: 0.2105   Val accuracy: 0.643    weighted Val loss: 0.2507\n",
      "Epoch: 317   Train loss: 0.0724   Train accuracy: 0.83   Val loss: 0.2067   Val accuracy: 0.663    weighted Val loss: 0.2505\n",
      "Epoch: 318   Train loss: 0.0685   Train accuracy: 0.804   Val loss: 0.2105   Val accuracy: 0.662    weighted Val loss: 0.2503\n",
      "Epoch: 319   Train loss: 0.0736   Train accuracy: 0.785   Val loss: 0.2099   Val accuracy: 0.664    weighted Val loss: 0.2501\n",
      "Epoch: 320   Train loss: 0.0783   Train accuracy: 0.806   Val loss: 0.2125   Val accuracy: 0.666    weighted Val loss: 0.2499\n",
      "Epoch: 321   Train loss: 0.0713   Train accuracy: 0.783   Val loss: 0.2124   Val accuracy: 0.667    weighted Val loss: 0.2497\n",
      "Epoch: 322   Train loss: 0.0707   Train accuracy: 0.883   Val loss: 0.2121   Val accuracy: 0.664    weighted Val loss: 0.2495\n",
      "Epoch: 323   Train loss: 0.0785   Train accuracy: 0.868   Val loss: 0.2106   Val accuracy: 0.672    weighted Val loss: 0.2493\n",
      "Epoch: 324   Train loss: 0.0746   Train accuracy: 0.816   Val loss: 0.2131   Val accuracy: 0.669    weighted Val loss: 0.2492\n",
      "Epoch: 325   Train loss: 0.0685   Train accuracy: 0.834   Val loss: 0.212   Val accuracy: 0.667    weighted Val loss: 0.249\n",
      "Epoch: 326   Train loss: 0.0753   Train accuracy: 0.778   Val loss: 0.211   Val accuracy: 0.666    weighted Val loss: 0.2488\n",
      "Epoch: 327   Train loss: 0.0745   Train accuracy: 0.813   Val loss: 0.2111   Val accuracy: 0.661    weighted Val loss: 0.2486\n",
      "Epoch: 328   Train loss: 0.0713   Train accuracy: 0.798   Val loss: 0.2113   Val accuracy: 0.661    weighted Val loss: 0.2484\n",
      "Epoch: 329   Train loss: 0.0725   Train accuracy: 0.847   Val loss: 0.2104   Val accuracy: 0.666    weighted Val loss: 0.2482\n",
      "Epoch: 330   Train loss: 0.0757   Train accuracy: 0.806   Val loss: 0.209   Val accuracy: 0.669    weighted Val loss: 0.248\n",
      "Epoch: 331   Train loss: 0.0716   Train accuracy: 0.81   Val loss: 0.2103   Val accuracy: 0.674    weighted Val loss: 0.2478\n",
      "Epoch: 332   Train loss: 0.0807   Train accuracy: 0.855   Val loss: 0.2089   Val accuracy: 0.67    weighted Val loss: 0.2476\n",
      "Epoch: 333   Train loss: 0.0825   Train accuracy: 0.791   Val loss: 0.2084   Val accuracy: 0.668    weighted Val loss: 0.2474\n",
      "Epoch: 334   Train loss: 0.0703   Train accuracy: 0.815   Val loss: 0.2117   Val accuracy: 0.667    weighted Val loss: 0.2473\n",
      "Epoch: 335   Train loss: 0.0704   Train accuracy: 0.804   Val loss: 0.2107   Val accuracy: 0.669    weighted Val loss: 0.2471\n",
      "Epoch: 336   Train loss: 0.0754   Train accuracy: 0.803   Val loss: 0.2093   Val accuracy: 0.67    weighted Val loss: 0.2469\n",
      "Epoch: 337   Train loss: 0.0675   Train accuracy: 0.829   Val loss: 0.2083   Val accuracy: 0.668    weighted Val loss: 0.2467\n",
      "Epoch: 338   Train loss: 0.0693   Train accuracy: 0.832   Val loss: 0.2077   Val accuracy: 0.672    weighted Val loss: 0.2465\n",
      "Epoch: 339   Train loss: 0.0732   Train accuracy: 0.788   Val loss: 0.2067   Val accuracy: 0.669    weighted Val loss: 0.2463\n",
      "Epoch: 340   Train loss: 0.0723   Train accuracy: 0.82   Val loss: 0.2079   Val accuracy: 0.674    weighted Val loss: 0.2461\n",
      "Epoch: 341   Train loss: 0.0678   Train accuracy: 0.812   Val loss: 0.2076   Val accuracy: 0.666    weighted Val loss: 0.2459\n",
      "Epoch: 342   Train loss: 0.0748   Train accuracy: 0.86   Val loss: 0.2069   Val accuracy: 0.662    weighted Val loss: 0.2457\n",
      "Epoch: 343   Train loss: 0.076   Train accuracy: 0.781   Val loss: 0.2067   Val accuracy: 0.664    weighted Val loss: 0.2455\n",
      "Epoch: 344   Train loss: 0.0747   Train accuracy: 0.798   Val loss: 0.2064   Val accuracy: 0.663    weighted Val loss: 0.2453\n",
      "Epoch: 345   Train loss: 0.0891   Train accuracy: 0.806   Val loss: 0.2072   Val accuracy: 0.673    weighted Val loss: 0.2451\n",
      "Epoch: 346   Train loss: 0.0823   Train accuracy: 0.781   Val loss: 0.2121   Val accuracy: 0.652    weighted Val loss: 0.245\n",
      "Epoch: 347   Train loss: 0.0859   Train accuracy: 0.781   Val loss: 0.2103   Val accuracy: 0.66    weighted Val loss: 0.2448\n",
      "Epoch: 348   Train loss: 0.191   Train accuracy: 0.83   Val loss: 0.2175   Val accuracy: 0.651    weighted Val loss: 0.2447\n",
      "Epoch: 349   Train loss: 0.131   Train accuracy: 0.792   Val loss: 0.2461   Val accuracy: 0.596    weighted Val loss: 0.2447\n"
     ]
    }
   ],
   "source": [
    "MLPparametersGDE = {\n",
    "    'n_layers':2,\n",
    "    'layer_size_factor':[1, 64], \n",
    "    'dropout':[0.3, 0.3],\n",
    "    'batch_size': 128,\n",
    "    'num_epochs': 900,\n",
    "    'learning_rate': 6e-4,\n",
    "    'weight_decay': 5e-3,\n",
    "    'betas': (0.9, 0.999), \n",
    "    'eps': 1e-08\n",
    "}\n",
    "MLPmodelGDE, _,_, MLPcheckpointGDE = MLP.train_MLP(dm, sim_all[\"GDE_train\"], sim_all[\"GDE_test\"], MLPparametersGDE, acc_fn=MLP.F1, autostop_decay = 0.995, print_summary = True)"
   ]
  },
  {
   "cell_type": "code",
   "execution_count": null,
   "metadata": {},
   "outputs": [],
   "source": [
    "#optional: save the model\n",
    "MLP.save_ckp(MLPcheckpointGDE, \"models/MLPGDE253_1.pt\")"
   ]
  },
  {
   "cell_type": "markdown",
   "metadata": {},
   "source": [
    "###### Result"
   ]
  },
  {
   "cell_type": "code",
   "execution_count": 175,
   "metadata": {},
   "outputs": [
    {
     "name": "stdout",
     "output_type": "stream",
     "text": [
      "device set to cuda\n",
      "threshold: 0.05  validation loss: 0.2101 F1 accuracy 0.467 Precision accuracy 0.321 Recall accuracy 0.854 AUC accuracy: 0.896\n",
      "device set to cuda\n",
      "threshold: 0.1  validation loss: 0.2101 F1 accuracy 0.566 Precision accuracy 0.44 Recall accuracy 0.793 AUC accuracy: 0.896\n",
      "device set to cuda\n",
      "threshold: 0.15  validation loss: 0.2101 F1 accuracy 0.606 Precision accuracy 0.509 Recall accuracy 0.749 AUC accuracy: 0.896\n",
      "device set to cuda\n",
      "threshold: 0.2  validation loss: 0.2101 F1 accuracy 0.633 Precision accuracy 0.567 Recall accuracy 0.715 AUC accuracy: 0.896\n",
      "device set to cuda\n",
      "threshold: 0.25  validation loss: 0.2101 F1 accuracy 0.663 Precision accuracy 0.643 Recall accuracy 0.685 AUC accuracy: 0.896\n",
      "device set to cuda\n",
      "threshold: 0.3  validation loss: 0.2101 F1 accuracy 0.677 Precision accuracy 0.694 Recall accuracy 0.661 AUC accuracy: 0.896\n",
      "device set to cuda\n",
      "threshold: 0.35  validation loss: 0.2101 F1 accuracy 0.669 Precision accuracy 0.726 Recall accuracy 0.62 AUC accuracy: 0.896\n",
      "device set to cuda\n",
      "threshold: 0.4  validation loss: 0.2101 F1 accuracy 0.658 Precision accuracy 0.76 Recall accuracy 0.58 AUC accuracy: 0.896\n",
      "device set to cuda\n",
      "threshold: 0.45  validation loss: 0.2101 F1 accuracy 0.649 Precision accuracy 0.794 Recall accuracy 0.549 AUC accuracy: 0.896\n",
      "device set to cuda\n",
      "threshold: 0.5  validation loss: 0.2101 F1 accuracy 0.638 Precision accuracy 0.827 Recall accuracy 0.519 AUC accuracy: 0.896\n",
      "device set to cuda\n",
      "threshold: 0.55  validation loss: 0.2101 F1 accuracy 0.606 Precision accuracy 0.848 Recall accuracy 0.471 AUC accuracy: 0.896\n",
      "device set to cuda\n",
      "threshold: 0.6  validation loss: 0.2101 F1 accuracy 0.581 Precision accuracy 0.866 Recall accuracy 0.437 AUC accuracy: 0.896\n",
      "device set to cuda\n",
      "threshold: 0.65  validation loss: 0.2101 F1 accuracy 0.542 Precision accuracy 0.872 Recall accuracy 0.393 AUC accuracy: 0.896\n",
      "device set to cuda\n",
      "threshold: 0.7  validation loss: 0.2101 F1 accuracy 0.508 Precision accuracy 0.89 Recall accuracy 0.356 AUC accuracy: 0.896\n",
      "device set to cuda\n",
      "threshold: 0.75  validation loss: 0.2101 F1 accuracy 0.471 Precision accuracy 0.904 Recall accuracy 0.319 AUC accuracy: 0.896\n",
      "device set to cuda\n",
      "threshold: 0.8  validation loss: 0.2101 F1 accuracy 0.414 Precision accuracy 0.908 Recall accuracy 0.268 AUC accuracy: 0.896\n",
      "device set to cuda\n",
      "threshold: 0.85  validation loss: 0.2101 F1 accuracy 0.354 Precision accuracy 0.955 Recall accuracy 0.217 AUC accuracy: 0.896\n",
      "device set to cuda\n",
      "threshold: 0.9  validation loss: 0.2101 F1 accuracy 0.242 Precision accuracy 0.932 Recall accuracy 0.139 AUC accuracy: 0.896\n",
      "device set to cuda\n",
      "threshold: 0.95  validation loss: 0.2101 F1 accuracy 0.071 Precision accuracy 0.846 Recall accuracy 0.037 AUC accuracy: 0.896\n"
     ]
    }
   ],
   "source": [
    "for i in range(5,100, 5):\n",
    "    t = i/100;\n",
    "    MLP.eval_mlp(MLPmodelGDE, sim_all[\"GDE_test\"], dm, device_name = 'cuda', threshold = t)"
   ]
  },
  {
   "cell_type": "markdown",
   "metadata": {},
   "source": [
    "Questions for Nafiseh:\n",
    "1. Shuffling the dataset greatly reduces overfitting and improves the accuracy. Can we shuffle the dataset? Is removing the overlapping signals a valid way to shuffle the dataset?\n",
    "2. Even without shuffling the dataset, removing overlapping signals still greatly improves the validation accuracy. Should we remove the overlapping signal?\n",
    "3. The built-in AUC metric in Scikit-learn yields a lot higher accuracy than the maximum F-score obatined. Is it normal? What is your AUC accuracy implementation?"
   ]
  },
  {
   "cell_type": "code",
   "execution_count": null,
   "metadata": {},
   "outputs": [],
   "source": []
  }
 ],
 "metadata": {
  "kernelspec": {
   "display_name": "Python 3",
   "language": "python",
   "name": "python3"
  },
  "language_info": {
   "codemirror_mode": {
    "name": "ipython",
    "version": 3
   },
   "file_extension": ".py",
   "mimetype": "text/x-python",
   "name": "python",
   "nbconvert_exporter": "python",
   "pygments_lexer": "ipython3",
   "version": "3.8.5"
  }
 },
 "nbformat": 4,
 "nbformat_minor": 4
}
