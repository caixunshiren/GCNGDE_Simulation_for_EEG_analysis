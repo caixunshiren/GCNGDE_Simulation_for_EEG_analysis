{
 "cells": [
  {
   "cell_type": "markdown",
   "metadata": {},
   "source": [
    "# High Level Pipline for GCN and GNODE for Brain State Identification"
   ]
  },
  {
   "cell_type": "markdown",
   "metadata": {},
   "source": [
    "## Pipeline Overview"
   ]
  },
  {
   "cell_type": "markdown",
   "metadata": {},
   "source": [
    "### 1.1 Adjacency Matrix Generation ---> **2.1 Unsupervised GCN** ---> 3.1 Supervised MLP"
   ]
  },
  {
   "cell_type": "markdown",
   "metadata": {},
   "source": [
    "### 1.1 Adjacency Matrix Generation ---> **2.2 Unsupervised GNODE** ---> 3.1 Supervised MLP"
   ]
  },
  {
   "cell_type": "markdown",
   "metadata": {},
   "source": [
    "[Introduction and overview should be written here]"
   ]
  },
  {
   "cell_type": "markdown",
   "metadata": {},
   "source": [
    "#### High Level Classes imported:"
   ]
  },
  {
   "cell_type": "markdown",
   "metadata": {},
   "source": [
    "DataManager.py DataManagerUtil.py : [insert description here]"
   ]
  },
  {
   "cell_type": "markdown",
   "metadata": {},
   "source": [
    "GCN.py GCNutil.py : [insert description here]"
   ]
  },
  {
   "cell_type": "markdown",
   "metadata": {},
   "source": [
    "GDE.py GDEutil.py GDEsolvers.py : [insert description here]"
   ]
  },
  {
   "cell_type": "markdown",
   "metadata": {},
   "source": [
    "MLP.py : [insert description here]"
   ]
  },
  {
   "cell_type": "code",
   "execution_count": 32,
   "metadata": {},
   "outputs": [],
   "source": [
    "%reload_ext autoreload\n",
    "%autoreload 2\n",
    "#Custom Files\n",
    "from DataManager import dataManager\n",
    "from DataManagerUtil import *\n",
    "import GCN as GCN\n",
    "import GCNutil as GCNutil\n",
    "import GDE as GDE\n",
    "import GDEutil as GDEutil\n",
    "import GDEsolvers as GDEsolvers\n",
    "import MLP as MLP\n",
    "\n",
    "#Standard Libraries\n",
    "# Torch\n",
    "import torch\n",
    "import torch.autograd\n",
    "import torch.nn as nn\n",
    "import torch.nn.functional as F\n",
    "#Numpy\n",
    "import numpy as np"
   ]
  },
  {
   "cell_type": "markdown",
   "metadata": {},
   "source": [
    "#### Dataset:"
   ]
  },
  {
   "cell_type": "markdown",
   "metadata": {},
   "source": [
    "[A short description here]"
   ]
  },
  {
   "cell_type": "code",
   "execution_count": 124,
   "metadata": {},
   "outputs": [
    {
     "name": "stdout",
     "output_type": "stream",
     "text": [
      "name: X_test\n",
      "shape: (640, 35, 2649)\n",
      "-----------------------\n",
      "name: X_train\n",
      "shape: (640, 35, 2564)\n",
      "-----------------------\n",
      "name: clip_sizes_test\n",
      "shape: (2, 102)\n",
      "-----------------------\n",
      "name: clip_sizes_train\n",
      "shape: (2, 101)\n",
      "-----------------------\n",
      "name: conv_sizes\n",
      "shape: (1, 1)\n",
      "-----------------------\n",
      "name: n_pre_szr\n",
      "shape: (1, 1)\n",
      "-----------------------\n",
      "name: sel_win_nums_test\n",
      "shape: (1, 2649)\n",
      "-----------------------\n",
      "name: sel_win_nums_train\n",
      "shape: (1, 2564)\n",
      "-----------------------\n",
      "name: soz_ch_ids\n",
      "shape: (7, 1)\n",
      "-----------------------\n",
      "name: stride_sec\n",
      "shape: (1, 1)\n",
      "-----------------------\n",
      "name: window_size_sec\n",
      "shape: (1, 1)\n",
      "-----------------------\n",
      "name: y_test\n",
      "shape: (1, 2649)\n",
      "-----------------------\n",
      "name: y_train\n",
      "shape: (1, 2564)\n",
      "-----------------------\n",
      "print sample EGG signal from one node:\n"
     ]
    },
    {
     "data": {
      "image/png": "[encoded data removed]",
      "text/plain": [
       "<Figure size 432x288 with 1 Axes>"
      ]
     },
     "metadata": {
      "needs_background": "light"
     },
     "output_type": "display_data"
    }
   ],
   "source": [
    "#Loading everything from the dataset\n",
    "filepath = 'datasets\\pat_FR_273.mat' #264 253 620 273\n",
    "variables = load_patient_data(filepath, verbose = True)"
   ]
  },
  {
   "cell_type": "code",
   "execution_count": 32,
   "metadata": {
    "collapsed": true,
    "jupyter": {
     "outputs_hidden": true
    }
   },
   "outputs": [
    {
     "ename": "KeyboardInterrupt",
     "evalue": "",
     "output_type": "error",
     "traceback": [
      "\u001b[1;31m---------------------------------------------------------------------------\u001b[0m",
      "\u001b[1;31mKeyboardInterrupt\u001b[0m                         Traceback (most recent call last)",
      "\u001b[1;32m<ipython-input-32-ecfec4f0bfb7>\u001b[0m in \u001b[0;36m<module>\u001b[1;34m\u001b[0m\n\u001b[0;32m      1\u001b[0m \u001b[1;31m#OPTIONAL: Shuffle the dataset\u001b[0m\u001b[1;33m\u001b[0m\u001b[1;33m\u001b[0m\u001b[1;33m\u001b[0m\u001b[0m\n\u001b[1;32m----> 2\u001b[1;33m \u001b[0mvariables\u001b[0m\u001b[1;33m,\u001b[0m \u001b[0mindices\u001b[0m \u001b[1;33m=\u001b[0m \u001b[0mshuffle_train_test\u001b[0m\u001b[1;33m(\u001b[0m\u001b[0mvariables\u001b[0m\u001b[1;33m,\u001b[0m \u001b[0mtrain_ratio\u001b[0m \u001b[1;33m=\u001b[0m \u001b[1;36m0.5\u001b[0m\u001b[1;33m,\u001b[0m \u001b[0mprint_summary\u001b[0m \u001b[1;33m=\u001b[0m \u001b[1;32mTrue\u001b[0m\u001b[1;33m)\u001b[0m\u001b[1;33m\u001b[0m\u001b[1;33m\u001b[0m\u001b[0m\n\u001b[0m",
      "\u001b[1;32m~\\Documents\\GitHub\\GCNGDE_Simulation_for_EGG_analysis\\Full Model\\DataManagerUtil.py\u001b[0m in \u001b[0;36mshuffle_train_test\u001b[1;34m(variables, train_ratio, indices, print_summary)\u001b[0m\n\u001b[0;32m     31\u001b[0m     \u001b[0mtraining_idx\u001b[0m\u001b[1;33m,\u001b[0m \u001b[0mtest_idx\u001b[0m \u001b[1;33m=\u001b[0m \u001b[0mindices\u001b[0m\u001b[1;33m[\u001b[0m\u001b[1;33m:\u001b[0m\u001b[0msplit_ind\u001b[0m\u001b[1;33m]\u001b[0m\u001b[1;33m,\u001b[0m \u001b[0mindices\u001b[0m\u001b[1;33m[\u001b[0m\u001b[0msplit_ind\u001b[0m\u001b[1;33m:\u001b[0m\u001b[1;33m]\u001b[0m\u001b[1;33m\u001b[0m\u001b[1;33m\u001b[0m\u001b[0m\n\u001b[0;32m     32\u001b[0m     \u001b[1;31m#print(split_ind, training_idx.shape)\u001b[0m\u001b[1;33m\u001b[0m\u001b[1;33m\u001b[0m\u001b[1;33m\u001b[0m\u001b[0m\n\u001b[1;32m---> 33\u001b[1;33m     \u001b[0mvariables\u001b[0m\u001b[1;33m[\u001b[0m\u001b[1;34m\"X_train\"\u001b[0m\u001b[1;33m]\u001b[0m\u001b[1;33m,\u001b[0m \u001b[0mvariables\u001b[0m\u001b[1;33m[\u001b[0m\u001b[1;34m\"X_test\"\u001b[0m\u001b[1;33m]\u001b[0m \u001b[1;33m=\u001b[0m \u001b[0mdata_all\u001b[0m\u001b[1;33m[\u001b[0m\u001b[1;33m:\u001b[0m\u001b[1;33m,\u001b[0m\u001b[1;33m:\u001b[0m\u001b[1;33m,\u001b[0m\u001b[0mtraining_idx\u001b[0m\u001b[1;33m]\u001b[0m\u001b[1;33m,\u001b[0m \u001b[0mdata_all\u001b[0m\u001b[1;33m[\u001b[0m\u001b[1;33m:\u001b[0m\u001b[1;33m,\u001b[0m\u001b[1;33m:\u001b[0m\u001b[1;33m,\u001b[0m\u001b[0mtest_idx\u001b[0m\u001b[1;33m]\u001b[0m\u001b[1;33m\u001b[0m\u001b[1;33m\u001b[0m\u001b[0m\n\u001b[0m\u001b[0;32m     34\u001b[0m     \u001b[0mvariables\u001b[0m\u001b[1;33m[\u001b[0m\u001b[1;34m\"y_train\"\u001b[0m\u001b[1;33m]\u001b[0m\u001b[1;33m,\u001b[0m \u001b[0mvariables\u001b[0m\u001b[1;33m[\u001b[0m\u001b[1;34m\"y_test\"\u001b[0m\u001b[1;33m]\u001b[0m \u001b[1;33m=\u001b[0m \u001b[0mlabels_all\u001b[0m\u001b[1;33m[\u001b[0m\u001b[1;33m:\u001b[0m\u001b[1;33m,\u001b[0m\u001b[0mtraining_idx\u001b[0m\u001b[1;33m]\u001b[0m\u001b[1;33m,\u001b[0m \u001b[0mlabels_all\u001b[0m\u001b[1;33m[\u001b[0m\u001b[1;33m:\u001b[0m\u001b[1;33m,\u001b[0m\u001b[0mtest_idx\u001b[0m\u001b[1;33m]\u001b[0m\u001b[1;33m\u001b[0m\u001b[1;33m\u001b[0m\u001b[0m\n\u001b[0;32m     35\u001b[0m     \u001b[1;32mif\u001b[0m \u001b[0mprint_summary\u001b[0m\u001b[1;33m:\u001b[0m\u001b[1;33m\u001b[0m\u001b[1;33m\u001b[0m\u001b[0m\n",
      "\u001b[1;31mKeyboardInterrupt\u001b[0m: "
     ]
    }
   ],
   "source": [
    "#OPTIONAL: Shuffle the dataset\n",
    "variables, indices = shuffle_train_test(variables, train_ratio = 0.5, print_summary = True)"
   ]
  },
  {
   "cell_type": "code",
   "execution_count": 101,
   "metadata": {},
   "outputs": [],
   "source": [
    "#OPTIONAL: Remove Overlapping Parts\n",
    "variables = remove_overlap(variables)"
   ]
  },
  {
   "cell_type": "code",
   "execution_count": 5,
   "metadata": {},
   "outputs": [],
   "source": [
    "#save the shuffled indices\n",
    "np.save(\"datasets/indices_253.npy\",indices)"
   ]
  },
  {
   "cell_type": "markdown",
   "metadata": {},
   "source": [
    "$\\;\\;\\;\\;\\;\\;\\;\\;\\;\\;\\;\\;\\;\\;$"
   ]
  },
  {
   "cell_type": "markdown",
   "metadata": {},
   "source": [
    "## 1.1 Adjacency Matrix Generation"
   ]
  },
  {
   "cell_type": "markdown",
   "metadata": {},
   "source": [
    "[short description here]"
   ]
  },
  {
   "cell_type": "markdown",
   "metadata": {},
   "source": [
    "##### 1.1.1 Create the datamanager object that computes the covariance matrix for you."
   ]
  },
  {
   "cell_type": "code",
   "execution_count": 125,
   "metadata": {},
   "outputs": [
    {
     "name": "stdout",
     "output_type": "stream",
     "text": [
      "--------data manager successfully initialized--------\n"
     ]
    }
   ],
   "source": [
    "dm = dataManager(variables[\"X_train\"],variables[\"X_test\"],variables[\"y_train\"],variables[\"y_test\"],10**(-4))"
   ]
  },
  {
   "cell_type": "code",
   "execution_count": 126,
   "metadata": {},
   "outputs": [
    {
     "name": "stdout",
     "output_type": "stream",
     "text": [
      "X_train: shape of(2562, 35, 640)\n",
      "X_test: shape of(2649, 35, 640)\n",
      "Y_train: shape of(2562, 1)\n",
      "Y_test: shape of(2649, 1)\n",
      "A_train: shape of(35, 35)\n",
      "A_test: shape of(35, 35)\n",
      "P_avg_train: shape of(35, 35)\n",
      "P_avg_test: shape of(35, 35)\n",
      "--------data successfully filtered--------\n",
      "X_train: shape of(2562, 30, 640)\n",
      "X_test: shape of(2649, 30, 640)\n",
      "Y_train: shape of(2562, 1)\n",
      "Y_test: shape of(2649, 1)\n",
      "A_train: shape of(30, 30)\n",
      "A_test: shape of(30, 30)\n",
      "P_avg_train: shape of(30, 30)\n",
      "P_avg_test: shape of(30, 30)\n"
     ]
    }
   ],
   "source": [
    "#reduce redundant nodes\n",
    "#from DataManager import get_label_variance as glv\n",
    "#print(glv(dm.X_train, dm.Y_train))\n",
    "#print(np.argsort(glv(dm.X_train, dm.Y_train)))\n",
    "print(dm)\n",
    "dm.apply_variance_filter(30)\n",
    "print(dm)"
   ]
  },
  {
   "cell_type": "code",
   "execution_count": 103,
   "metadata": {
    "collapsed": true,
    "jupyter": {
     "outputs_hidden": true
    }
   },
   "outputs": [
    {
     "name": "stdout",
     "output_type": "stream",
     "text": [
      "X_train: shape of(2562, 35, 640)\n",
      "X_test: shape of(2649, 35, 640)\n",
      "Y_train: shape of(2562, 1)\n",
      "Y_test: shape of(2649, 1)\n",
      "A_train: shape of(35, 35)\n",
      "A_test: shape of(35, 35)\n",
      "P_avg_train: shape of(35, 35)\n",
      "P_avg_test: shape of(35, 35)\n",
      "X_train: shape of(25620, 35, 64)\n",
      "X_test: shape of(26490, 35, 64)\n",
      "Y_train: shape of(25620, 1)\n",
      "Y_test: shape of(26490, 1)\n",
      "A_train: shape of(35, 35)\n",
      "A_test: shape of(35, 35)\n",
      "P_avg_train: shape of(35, 35)\n",
      "P_avg_test: shape of(35, 35)\n"
     ]
    }
   ],
   "source": [
    "#from DataManager import extend_identity as extend_identity\n",
    "#print(extend_identity(2500,16), extend_identity(2500,16).shape)\n",
    "print(dm)\n",
    "dm.resize_clip(64)\n",
    "print(dm)"
   ]
  },
  {
   "cell_type": "markdown",
   "metadata": {},
   "source": [
    "##### 1.1.2 Visualize the mean covariance matrix across all training samples"
   ]
  },
  {
   "cell_type": "code",
   "execution_count": 127,
   "metadata": {},
   "outputs": [
    {
     "data": {
      "image/png": "[encoded data removed]",
      "text/plain": [
       "<Figure size 432x288 with 2 Axes>"
      ]
     },
     "metadata": {
      "needs_background": "light"
     },
     "output_type": "display_data"
    }
   ],
   "source": [
    "show_heat_map(dm.P_avg_train)"
   ]
  },
  {
   "cell_type": "markdown",
   "metadata": {},
   "source": [
    "##### 1.1.3 Create DAD from dm by setting the threshold n. repeating this untill a desireble \"n\" value is found."
   ]
  },
  {
   "cell_type": "code",
   "execution_count": 128,
   "metadata": {},
   "outputs": [
    {
     "data": {
      "image/png": "[encoded data removed]",
      "text/plain": [
       "<Figure size 432x288 with 2 Axes>"
      ]
     },
     "metadata": {
      "needs_background": "light"
     },
     "output_type": "display_data"
    },
    {
     "data": {
      "image/png": "[encoded data removed]",
      "text/plain": [
       "<Figure size 432x288 with 2 Axes>"
      ]
     },
     "metadata": {
      "needs_background": "light"
     },
     "output_type": "display_data"
    }
   ],
   "source": [
    "n = 2.5*10**-4\n",
    "dm.re_threshold(n)\n",
    "show_heat_map(dm.A_train)\n",
    "show_heat_map(create_DAD(dm.A_train))\n",
    "Araw = dm.A_train"
   ]
  },
  {
   "cell_type": "markdown",
   "metadata": {},
   "source": [
    "$\\;\\;\\;\\;\\;\\;\\;\\;\\;\\;\\;\\;\\;\\;$"
   ]
  },
  {
   "cell_type": "markdown",
   "metadata": {},
   "source": [
    "## 2.1 Unsupervised Graph Convolutional Neural Network (GCN)"
   ]
  },
  {
   "cell_type": "markdown",
   "metadata": {},
   "source": [
    "[short description here]"
   ]
  },
  {
   "cell_type": "markdown",
   "metadata": {},
   "source": [
    "##### 2.1.1 Declare Parameters for GCN"
   ]
  },
  {
   "cell_type": "code",
   "execution_count": 131,
   "metadata": {},
   "outputs": [
    {
     "name": "stdout",
     "output_type": "stream",
     "text": [
      "{'body': 640, 'M': 2562, 'batch_size': 256, 'n_layers': 2, 'num_epochs': 1, 'learning_rate': 0.001, 'weight_decay': 0.005}\n"
     ]
    }
   ],
   "source": [
    "#create new model\n",
    "A = create_DAD(Araw)\n",
    "X_train = dm.X_train\n",
    "X_test = dm.X_test\n",
    "GCNparameters = {\n",
    "    'body': dm.X_train.shape[2],\n",
    "    'M': dm.X_train.shape[0],\n",
    "    'batch_size': 256,\n",
    "    'n_layers': 2,\n",
    "    'num_epochs': 1,\n",
    "    'learning_rate': 1e-3,\n",
    "    'weight_decay': 5e-3\n",
    "}\n",
    "print(GCNparameters)\n",
    "GCNcheckpoint = {'parameters': GCNparameters}"
   ]
  },
  {
   "cell_type": "markdown",
   "metadata": {},
   "source": [
    "##### 2.1.2 Train GCN"
   ]
  },
  {
   "cell_type": "code",
   "execution_count": 132,
   "metadata": {},
   "outputs": [
    {
     "name": "stderr",
     "output_type": "stream",
     "text": [
      "  0%|          | 0/11 [00:00<?, ?it/s]"
     ]
    },
    {
     "name": "stdout",
     "output_type": "stream",
     "text": [
      "device set to cpu\n"
     ]
    },
    {
     "name": "stderr",
     "output_type": "stream",
     "text": [
      "  9%|▉         | 1/11 [00:00<00:07,  1.40it/s]"
     ]
    },
    {
     "name": "stdout",
     "output_type": "stream",
     "text": [
      "Epoch: 1   Batch: 1 of size 256   Train loss: 387.2702331542969   Valid loss: 378.41668701171875\r"
     ]
    },
    {
     "name": "stderr",
     "output_type": "stream",
     "text": [
      " 18%|█▊        | 2/11 [00:01<00:06,  1.35it/s]"
     ]
    },
    {
     "name": "stdout",
     "output_type": "stream",
     "text": [
      "Epoch: 1   Batch: 2 of size 256   Train loss: 379.36614990234375   Valid loss: 382.6587219238281\r"
     ]
    },
    {
     "name": "stderr",
     "output_type": "stream",
     "text": [
      " 27%|██▋       | 3/11 [00:02<00:05,  1.37it/s]"
     ]
    },
    {
     "name": "stdout",
     "output_type": "stream",
     "text": [
      "Epoch: 1   Batch: 3 of size 256   Train loss: 384.4791564941406   Valid loss: 380.57354736328125\r"
     ]
    },
    {
     "name": "stderr",
     "output_type": "stream",
     "text": [
      " 36%|███▋      | 4/11 [00:03<00:05,  1.34it/s]"
     ]
    },
    {
     "name": "stdout",
     "output_type": "stream",
     "text": [
      "Epoch: 1   Batch: 4 of size 256   Train loss: 381.2008056640625   Valid loss: 377.6856689453125\r"
     ]
    },
    {
     "name": "stderr",
     "output_type": "stream",
     "text": [
      " 45%|████▌     | 5/11 [00:03<00:04,  1.31it/s]"
     ]
    },
    {
     "name": "stdout",
     "output_type": "stream",
     "text": [
      "Epoch: 1   Batch: 5 of size 256   Train loss: 378.7812805175781   Valid loss: 378.5231018066406\r"
     ]
    },
    {
     "name": "stderr",
     "output_type": "stream",
     "text": [
      " 55%|█████▍    | 6/11 [00:04<00:03,  1.29it/s]"
     ]
    },
    {
     "name": "stdout",
     "output_type": "stream",
     "text": [
      "Epoch: 1   Batch: 6 of size 256   Train loss: 378.958251953125   Valid loss: 379.1876525878906\r"
     ]
    },
    {
     "name": "stderr",
     "output_type": "stream",
     "text": [
      " 64%|██████▎   | 7/11 [00:05<00:03,  1.31it/s]"
     ]
    },
    {
     "name": "stdout",
     "output_type": "stream",
     "text": [
      "Epoch: 1   Batch: 7 of size 256   Train loss: 379.21942138671875   Valid loss: 376.1689147949219\r"
     ]
    },
    {
     "name": "stderr",
     "output_type": "stream",
     "text": [
      " 73%|███████▎  | 8/11 [00:06<00:02,  1.31it/s]"
     ]
    },
    {
     "name": "stdout",
     "output_type": "stream",
     "text": [
      "Epoch: 1   Batch: 8 of size 256   Train loss: 376.8662109375   Valid loss: 372.69647216796875\r"
     ]
    },
    {
     "name": "stderr",
     "output_type": "stream",
     "text": [
      " 82%|████████▏ | 9/11 [00:06<00:01,  1.30it/s]"
     ]
    },
    {
     "name": "stdout",
     "output_type": "stream",
     "text": [
      "Epoch: 1   Batch: 9 of size 256   Train loss: 373.1705322265625   Valid loss: 370.10186767578125\r"
     ]
    },
    {
     "name": "stderr",
     "output_type": "stream",
     "text": [
      "100%|██████████| 11/11 [00:07<00:00,  1.41it/s]"
     ]
    },
    {
     "name": "stdout",
     "output_type": "stream",
     "text": [
      "Epoch: 1   Batch: 11 of size 256   Train loss: 363.3706970214844   Valid loss: 369.21871948242195\n"
     ]
    },
    {
     "name": "stderr",
     "output_type": "stream",
     "text": [
      "\n"
     ]
    }
   ],
   "source": [
    "#strongly recommand cpu because it's only one epoch training time and CUDA some times run out of memory if you retrain multiple times\n",
    "device_name = 'cpu'\n",
    "GCNmodel, GCNcheckpoint = GCNutil.train_GCN(A, X_train, X_test, GCNcheckpoint, device_name = device_name, load = False, print_summary = False)"
   ]
  },
  {
   "cell_type": "code",
   "execution_count": 11,
   "metadata": {},
   "outputs": [
    {
     "name": "stdout",
     "output_type": "stream",
     "text": [
      "model saved\n"
     ]
    }
   ],
   "source": [
    "#optional: saving the model\n",
    "GCNutil.save_ckp(GCNcheckpoint, \"models/GCN253_1.pt\")"
   ]
  },
  {
   "cell_type": "markdown",
   "metadata": {},
   "source": [
    "##### 2.1.3 Visualize some simularity matrices generated by GCN (a visual evaluation and sanity check)"
   ]
  },
  {
   "cell_type": "code",
   "execution_count": 133,
   "metadata": {},
   "outputs": [],
   "source": [
    "GCNmodel.eval()\n",
    "test_pred = GCNmodel(torch.from_numpy(X_train[:128, :,:]).float().to(device_name), torch.from_numpy(A).float().to(device_name)).cpu().detach().numpy()"
   ]
  },
  {
   "cell_type": "code",
   "execution_count": 134,
   "metadata": {
    "collapsed": true,
    "jupyter": {
     "outputs_hidden": true
    }
   },
   "outputs": [
    {
     "name": "stdout",
     "output_type": "stream",
     "text": [
      "sample 0   label, 0.0\n"
     ]
    },
    {
     "data": {
      "image/png": "[encoded data removed]",
      "text/plain": [
       "<Figure size 432x288 with 2 Axes>"
      ]
     },
     "metadata": {
      "needs_background": "light"
     },
     "output_type": "display_data"
    },
    {
     "name": "stdout",
     "output_type": "stream",
     "text": [
      "sample 1   label, 0.0\n"
     ]
    },
    {
     "data": {
      "image/png": "[encoded data removed]",
      "text/plain": [
       "<Figure size 432x288 with 2 Axes>"
      ]
     },
     "metadata": {
      "needs_background": "light"
     },
     "output_type": "display_data"
    },
    {
     "name": "stdout",
     "output_type": "stream",
     "text": [
      "sample 2   label, 0.0\n"
     ]
    },
    {
     "data": {
      "image/png": "[encoded data removed]",
      "text/plain": [
       "<Figure size 432x288 with 2 Axes>"
      ]
     },
     "metadata": {
      "needs_background": "light"
     },
     "output_type": "display_data"
    },
    {
     "name": "stdout",
     "output_type": "stream",
     "text": [
      "sample 3   label, 0.0\n"
     ]
    },
    {
     "data": {
      "image/png": "[encoded data removed]",
      "text/plain": [
       "<Figure size 432x288 with 2 Axes>"
      ]
     },
     "metadata": {
      "needs_background": "light"
     },
     "output_type": "display_data"
    },
    {
     "name": "stdout",
     "output_type": "stream",
     "text": [
      "sample 4   label, 0.0\n"
     ]
    },
    {
     "data": {
      "image/png": "[encoded data removed]",
      "text/plain": [
       "<Figure size 432x288 with 2 Axes>"
      ]
     },
     "metadata": {
      "needs_background": "light"
     },
     "output_type": "display_data"
    },
    {
     "name": "stdout",
     "output_type": "stream",
     "text": [
      "sample 5   label, 0.0\n"
     ]
    },
    {
     "data": {
      "image/png": "[encoded data removed]",
      "text/plain": [
       "<Figure size 432x288 with 2 Axes>"
      ]
     },
     "metadata": {
      "needs_background": "light"
     },
     "output_type": "display_data"
    },
    {
     "name": "stdout",
     "output_type": "stream",
     "text": [
      "sample 6   label, 0.0\n"
     ]
    },
    {
     "data": {
      "image/png": "[encoded data removed]",
      "text/plain": [
       "<Figure size 432x288 with 2 Axes>"
      ]
     },
     "metadata": {
      "needs_background": "light"
     },
     "output_type": "display_data"
    },
    {
     "name": "stdout",
     "output_type": "stream",
     "text": [
      "sample 7   label, 0.0\n"
     ]
    },
    {
     "data": {
      "image/png": "[encoded data removed]",
      "text/plain": [
       "<Figure size 432x288 with 2 Axes>"
      ]
     },
     "metadata": {
      "needs_background": "light"
     },
     "output_type": "display_data"
    },
    {
     "name": "stdout",
     "output_type": "stream",
     "text": [
      "sample 8   label, 0.0\n"
     ]
    },
    {
     "data": {
      "image/png": "[encoded data removed]",
      "text/plain": [
       "<Figure size 432x288 with 2 Axes>"
      ]
     },
     "metadata": {
      "needs_background": "light"
     },
     "output_type": "display_data"
    },
    {
     "name": "stdout",
     "output_type": "stream",
     "text": [
      "sample 9   label, 0.0\n"
     ]
    },
    {
     "data": {
      "image/png": "[encoded data removed]",
      "text/plain": [
       "<Figure size 432x288 with 2 Axes>"
      ]
     },
     "metadata": {
      "needs_background": "light"
     },
     "output_type": "display_data"
    }
   ],
   "source": [
    "for i in range(10):\n",
    "    print(\"sample\", i, \"  label,\", dm.Y_train[i,0])\n",
    "    show_heat_map(test_pred[i,:,:])"
   ]
  },
  {
   "cell_type": "markdown",
   "metadata": {},
   "source": [
    "$\\;\\;\\;\\;\\;\\;\\;\\;\\;\\;\\;\\;\\;\\;$"
   ]
  },
  {
   "cell_type": "markdown",
   "metadata": {},
   "source": [
    "## 2.1 Unsupervised Graph Neural Ordinary Differential Equations (GNODE)"
   ]
  },
  {
   "cell_type": "markdown",
   "metadata": {},
   "source": [
    "[short description here]"
   ]
  },
  {
   "cell_type": "markdown",
   "metadata": {},
   "source": [
    "##### 2.2.1 Declare Parameters for GNODE"
   ]
  },
  {
   "cell_type": "code",
   "execution_count": 135,
   "metadata": {},
   "outputs": [],
   "source": [
    "A = create_DAD(Araw)\n",
    "X_train = dm.X_train\n",
    "X_test = dm.X_test\n",
    "GDEparameters = {\n",
    "    'body': dm.X_train.shape[2],\n",
    "    'solver': GDEsolvers.explicit_RK,\n",
    "    'solver_params': {\n",
    "    \"t0\": 0,\n",
    "    \"t1\": 0.25,\n",
    "    \"N\": 5,\n",
    "    \"b_tableau\": GDEsolvers.EF\n",
    "     },\n",
    "    'hidden_layers': 1,\n",
    "    'M': dm.X_train.shape[0],\n",
    "    'batch_size': 128,\n",
    "    'num_epochs': 1,\n",
    "    'learning_rate': 1e-3,\n",
    "    'weight_decay': 5e-3\n",
    "}\n",
    "GDEcheckpoint = {'parameters': GDEparameters}"
   ]
  },
  {
   "cell_type": "markdown",
   "metadata": {},
   "source": [
    "##### 2.2.2 Train GNODE"
   ]
  },
  {
   "cell_type": "code",
   "execution_count": 136,
   "metadata": {},
   "outputs": [
    {
     "name": "stderr",
     "output_type": "stream",
     "text": [
      "  0%|          | 0/21 [00:00<?, ?it/s]"
     ]
    },
    {
     "name": "stdout",
     "output_type": "stream",
     "text": [
      "device set to cpu\n"
     ]
    },
    {
     "name": "stderr",
     "output_type": "stream",
     "text": [
      "  5%|▍         | 1/21 [00:02<00:48,  2.45s/it]"
     ]
    },
    {
     "name": "stdout",
     "output_type": "stream",
     "text": [
      "Epoch: 1   Batch: 1 of size 128   Train loss: 387.726806640625   Valid loss: 376.7290954589844\r"
     ]
    },
    {
     "name": "stderr",
     "output_type": "stream",
     "text": [
      " 10%|▉         | 2/21 [00:05<00:48,  2.53s/it]"
     ]
    },
    {
     "name": "stdout",
     "output_type": "stream",
     "text": [
      "Epoch: 1   Batch: 2 of size 128   Train loss: 377.6922912597656   Valid loss: 381.5516662597656\r"
     ]
    },
    {
     "name": "stderr",
     "output_type": "stream",
     "text": [
      " 14%|█▍        | 3/21 [00:07<00:44,  2.50s/it]"
     ]
    },
    {
     "name": "stdout",
     "output_type": "stream",
     "text": [
      "Epoch: 1   Batch: 3 of size 128   Train loss: 382.9999694824219   Valid loss: 379.1853942871094\r"
     ]
    },
    {
     "name": "stderr",
     "output_type": "stream",
     "text": [
      " 19%|█▉        | 4/21 [00:10<00:42,  2.52s/it]"
     ]
    },
    {
     "name": "stdout",
     "output_type": "stream",
     "text": [
      "Epoch: 1   Batch: 4 of size 128   Train loss: 381.5865173339844   Valid loss: 376.17706298828125\r"
     ]
    },
    {
     "name": "stderr",
     "output_type": "stream",
     "text": [
      " 24%|██▍       | 5/21 [00:12<00:39,  2.46s/it]"
     ]
    },
    {
     "name": "stdout",
     "output_type": "stream",
     "text": [
      "Epoch: 1   Batch: 5 of size 128   Train loss: 376.89617919921875   Valid loss: 375.50537109375\r"
     ]
    },
    {
     "name": "stderr",
     "output_type": "stream",
     "text": [
      " 29%|██▊       | 6/21 [00:15<00:37,  2.51s/it]"
     ]
    },
    {
     "name": "stdout",
     "output_type": "stream",
     "text": [
      "Epoch: 1   Batch: 6 of size 128   Train loss: 376.04443359375   Valid loss: 376.26885986328125\r"
     ]
    },
    {
     "name": "stderr",
     "output_type": "stream",
     "text": [
      " 33%|███▎      | 7/21 [00:17<00:34,  2.45s/it]"
     ]
    },
    {
     "name": "stdout",
     "output_type": "stream",
     "text": [
      "Epoch: 1   Batch: 7 of size 128   Train loss: 377.04705810546875   Valid loss: 376.85546875\r"
     ]
    },
    {
     "name": "stderr",
     "output_type": "stream",
     "text": [
      " 38%|███▊      | 8/21 [00:19<00:31,  2.45s/it]"
     ]
    },
    {
     "name": "stdout",
     "output_type": "stream",
     "text": [
      "Epoch: 1   Batch: 8 of size 128   Train loss: 376.735595703125   Valid loss: 374.3354797363281\r"
     ]
    },
    {
     "name": "stderr",
     "output_type": "stream",
     "text": [
      " 43%|████▎     | 9/21 [00:22<00:29,  2.48s/it]"
     ]
    },
    {
     "name": "stdout",
     "output_type": "stream",
     "text": [
      "Epoch: 1   Batch: 9 of size 128   Train loss: 375.0380554199219   Valid loss: 371.84698486328125\r"
     ]
    },
    {
     "name": "stderr",
     "output_type": "stream",
     "text": [
      " 48%|████▊     | 10/21 [00:24<00:27,  2.50s/it]"
     ]
    },
    {
     "name": "stdout",
     "output_type": "stream",
     "text": [
      "Epoch: 1   Batch: 10 of size 128   Train loss: 372.27642822265625   Valid loss: 370.8761291503906\r"
     ]
    },
    {
     "name": "stderr",
     "output_type": "stream",
     "text": [
      " 52%|█████▏    | 11/21 [00:27<00:24,  2.47s/it]"
     ]
    },
    {
     "name": "stdout",
     "output_type": "stream",
     "text": [
      "Epoch: 1   Batch: 11 of size 128   Train loss: 370.27081298828125   Valid loss: 368.4522705078125\r"
     ]
    },
    {
     "name": "stderr",
     "output_type": "stream",
     "text": [
      " 57%|█████▋    | 12/21 [00:29<00:21,  2.44s/it]"
     ]
    },
    {
     "name": "stdout",
     "output_type": "stream",
     "text": [
      "Epoch: 1   Batch: 12 of size 128   Train loss: 370.211669921875   Valid loss: 367.4728088378906\r"
     ]
    },
    {
     "name": "stderr",
     "output_type": "stream",
     "text": [
      " 62%|██████▏   | 13/21 [00:32<00:19,  2.47s/it]"
     ]
    },
    {
     "name": "stdout",
     "output_type": "stream",
     "text": [
      "Epoch: 1   Batch: 13 of size 128   Train loss: 368.97052001953125   Valid loss: 366.61041259765625\r"
     ]
    },
    {
     "name": "stderr",
     "output_type": "stream",
     "text": [
      " 67%|██████▋   | 14/21 [00:34<00:17,  2.46s/it]"
     ]
    },
    {
     "name": "stdout",
     "output_type": "stream",
     "text": [
      "Epoch: 1   Batch: 14 of size 128   Train loss: 367.0662841796875   Valid loss: 363.960693359375\r"
     ]
    },
    {
     "name": "stderr",
     "output_type": "stream",
     "text": [
      " 71%|███████▏  | 15/21 [00:37<00:14,  2.49s/it]"
     ]
    },
    {
     "name": "stdout",
     "output_type": "stream",
     "text": [
      "Epoch: 1   Batch: 15 of size 128   Train loss: 364.1502990722656   Valid loss: 361.527099609375\r"
     ]
    },
    {
     "name": "stderr",
     "output_type": "stream",
     "text": [
      " 76%|███████▌  | 16/21 [00:39<00:12,  2.47s/it]"
     ]
    },
    {
     "name": "stdout",
     "output_type": "stream",
     "text": [
      "Epoch: 1   Batch: 16 of size 128   Train loss: 361.12176513671875   Valid loss: 360.48553466796875\r"
     ]
    },
    {
     "name": "stderr",
     "output_type": "stream",
     "text": [
      " 81%|████████  | 17/21 [00:42<00:09,  2.49s/it]"
     ]
    },
    {
     "name": "stdout",
     "output_type": "stream",
     "text": [
      "Epoch: 1   Batch: 17 of size 128   Train loss: 361.22039794921875   Valid loss: 358.8016357421875\r"
     ]
    },
    {
     "name": "stderr",
     "output_type": "stream",
     "text": [
      " 86%|████████▌ | 18/21 [00:44<00:07,  2.48s/it]"
     ]
    },
    {
     "name": "stdout",
     "output_type": "stream",
     "text": [
      "Epoch: 1   Batch: 18 of size 128   Train loss: 359.191650390625   Valid loss: 355.0618896484375\r"
     ]
    },
    {
     "name": "stderr",
     "output_type": "stream",
     "text": [
      " 90%|█████████ | 19/21 [00:47<00:04,  2.50s/it]"
     ]
    },
    {
     "name": "stdout",
     "output_type": "stream",
     "text": [
      "Epoch: 1   Batch: 19 of size 128   Train loss: 355.5791320800781   Valid loss: 353.11865234375\r"
     ]
    },
    {
     "name": "stderr",
     "output_type": "stream",
     "text": [
      " 95%|█████████▌| 20/21 [00:49<00:02,  2.48s/it]"
     ]
    },
    {
     "name": "stdout",
     "output_type": "stream",
     "text": [
      "Epoch: 1   Batch: 20 of size 128   Train loss: 353.02008056640625   Valid loss: 352.1599426269531\r"
     ]
    },
    {
     "name": "stderr",
     "output_type": "stream",
     "text": [
      "100%|██████████| 21/21 [00:49<00:00,  2.38s/it]"
     ]
    },
    {
     "name": "stdout",
     "output_type": "stream",
     "text": [
      "Epoch: 1   Batch: 21 of size 128   Train loss: 331.7110900878906   Valid loss: 347.720458984375\n"
     ]
    },
    {
     "name": "stderr",
     "output_type": "stream",
     "text": [
      "\n"
     ]
    }
   ],
   "source": [
    "#strongly recommand cpu because it's only one epoch training time and CUDA some times run out of memory if you retrain multiple times\n",
    "device_name = 'cpu'\n",
    "GDEmodel, GDEcheckpoint = GDEutil.train_GDE(A, X_train, X_test, GDEcheckpoint, device_name = device_name, load = False, print_summary = False)"
   ]
  },
  {
   "cell_type": "code",
   "execution_count": 16,
   "metadata": {},
   "outputs": [
    {
     "name": "stdout",
     "output_type": "stream",
     "text": [
      "model saved\n"
     ]
    }
   ],
   "source": [
    "#optional: saving the model\n",
    "GDEutil.save_ckp(GDEcheckpoint, \"models/GDE253_1.pt\")"
   ]
  },
  {
   "cell_type": "markdown",
   "metadata": {},
   "source": [
    "##### 2.2.3 Visualize some simularity matrices generated by GNODE (a visual evaluation and sanity check)"
   ]
  },
  {
   "cell_type": "code",
   "execution_count": 137,
   "metadata": {},
   "outputs": [],
   "source": [
    "GDEmodel.eval()\n",
    "test_pred = GDEmodel(torch.from_numpy(X_train[:128, :,:]).float().to(device_name)).cpu().detach().numpy()"
   ]
  },
  {
   "cell_type": "code",
   "execution_count": 138,
   "metadata": {
    "collapsed": true,
    "jupyter": {
     "outputs_hidden": true
    }
   },
   "outputs": [
    {
     "name": "stdout",
     "output_type": "stream",
     "text": [
      "sample 0   label, 0.0\n"
     ]
    },
    {
     "data": {
      "image/png": "[encoded data removed]",
      "text/plain": [
       "<Figure size 432x288 with 2 Axes>"
      ]
     },
     "metadata": {
      "needs_background": "light"
     },
     "output_type": "display_data"
    },
    {
     "name": "stdout",
     "output_type": "stream",
     "text": [
      "sample 1   label, 0.0\n"
     ]
    },
    {
     "data": {
      "image/png": "[encoded data removed]",
      "text/plain": [
       "<Figure size 432x288 with 2 Axes>"
      ]
     },
     "metadata": {
      "needs_background": "light"
     },
     "output_type": "display_data"
    },
    {
     "name": "stdout",
     "output_type": "stream",
     "text": [
      "sample 2   label, 0.0\n"
     ]
    },
    {
     "data": {
      "image/png": "[encoded data removed]",
      "text/plain": [
       "<Figure size 432x288 with 2 Axes>"
      ]
     },
     "metadata": {
      "needs_background": "light"
     },
     "output_type": "display_data"
    },
    {
     "name": "stdout",
     "output_type": "stream",
     "text": [
      "sample 3   label, 0.0\n"
     ]
    },
    {
     "data": {
      "image/png": "[encoded data removed]",
      "text/plain": [
       "<Figure size 432x288 with 2 Axes>"
      ]
     },
     "metadata": {
      "needs_background": "light"
     },
     "output_type": "display_data"
    },
    {
     "name": "stdout",
     "output_type": "stream",
     "text": [
      "sample 4   label, 0.0\n"
     ]
    },
    {
     "data": {
      "image/png": "[encoded data removed]",
      "text/plain": [
       "<Figure size 432x288 with 2 Axes>"
      ]
     },
     "metadata": {
      "needs_background": "light"
     },
     "output_type": "display_data"
    },
    {
     "name": "stdout",
     "output_type": "stream",
     "text": [
      "sample 5   label, 0.0\n"
     ]
    },
    {
     "data": {
      "image/png": "[encoded data removed]",
      "text/plain": [
       "<Figure size 432x288 with 2 Axes>"
      ]
     },
     "metadata": {
      "needs_background": "light"
     },
     "output_type": "display_data"
    },
    {
     "name": "stdout",
     "output_type": "stream",
     "text": [
      "sample 6   label, 0.0\n"
     ]
    },
    {
     "data": {
      "image/png": "[encoded data removed]",
      "text/plain": [
       "<Figure size 432x288 with 2 Axes>"
      ]
     },
     "metadata": {
      "needs_background": "light"
     },
     "output_type": "display_data"
    },
    {
     "name": "stdout",
     "output_type": "stream",
     "text": [
      "sample 7   label, 0.0\n"
     ]
    },
    {
     "data": {
      "image/png": "[encoded data removed]",
      "text/plain": [
       "<Figure size 432x288 with 2 Axes>"
      ]
     },
     "metadata": {
      "needs_background": "light"
     },
     "output_type": "display_data"
    },
    {
     "name": "stdout",
     "output_type": "stream",
     "text": [
      "sample 8   label, 0.0\n"
     ]
    },
    {
     "data": {
      "image/png": "[encoded data removed]",
      "text/plain": [
       "<Figure size 432x288 with 2 Axes>"
      ]
     },
     "metadata": {
      "needs_background": "light"
     },
     "output_type": "display_data"
    },
    {
     "name": "stdout",
     "output_type": "stream",
     "text": [
      "sample 9   label, 0.0\n"
     ]
    },
    {
     "data": {
      "image/png": "[encoded data removed]",
      "text/plain": [
       "<Figure size 432x288 with 2 Axes>"
      ]
     },
     "metadata": {
      "needs_background": "light"
     },
     "output_type": "display_data"
    }
   ],
   "source": [
    "for i in range(10):\n",
    "    print(\"sample\", i, \"  label,\", dm.Y_train[i,0])\n",
    "    show_heat_map(test_pred[i,:,:])"
   ]
  },
  {
   "cell_type": "markdown",
   "metadata": {},
   "source": [
    "$\\;\\;\\;\\;\\;\\;\\;\\;\\;\\;\\;\\;\\;\\;$"
   ]
  },
  {
   "cell_type": "markdown",
   "metadata": {},
   "source": [
    "## 3.1 Supervised Multi-Layer Perceptron (MLP)"
   ]
  },
  {
   "cell_type": "markdown",
   "metadata": {},
   "source": [
    "[short description here]"
   ]
  },
  {
   "cell_type": "markdown",
   "metadata": {},
   "source": [
    "##### 3.1.1 Get simularity matrix from GCN and GNODE models"
   ]
  },
  {
   "cell_type": "code",
   "execution_count": 139,
   "metadata": {},
   "outputs": [],
   "source": [
    "sim_all = {}\n",
    "A = create_DAD(Araw)\n",
    "X_train = dm.X_train\n",
    "X_test = dm.X_test\n",
    "device_name = 'cpu'"
   ]
  },
  {
   "cell_type": "code",
   "execution_count": 140,
   "metadata": {},
   "outputs": [],
   "source": [
    "#Get simularity matrix from GCN\n",
    "GCNmodel.eval()\n",
    "sim_all[\"GCN_train\"] = GCNmodel(torch.from_numpy(X_train).float().to(device_name), torch.from_numpy(A).float().to(device_name)).cpu().detach().numpy()\n",
    "sim_all[\"GCN_test\"] = GCNmodel(torch.from_numpy(X_test).float().to(device_name), torch.from_numpy(A).float().to(device_name)).cpu().detach().numpy()"
   ]
  },
  {
   "cell_type": "code",
   "execution_count": 141,
   "metadata": {},
   "outputs": [],
   "source": [
    "#Get simularity matrix from GNODE\n",
    "GDEmodel.eval()\n",
    "sim_all[\"GDE_train\"] = GDEmodel(torch.from_numpy(X_train).float().to(device_name)).cpu().detach().numpy()\n",
    "sim_all[\"GDE_test\"] = GDEmodel(torch.from_numpy(X_test).float().to(device_name)).cpu().detach().numpy()"
   ]
  },
  {
   "cell_type": "markdown",
   "metadata": {},
   "source": [
    "##### 3.1.2 Visualize the averaged ictal and non-ictal states for the two models"
   ]
  },
  {
   "cell_type": "code",
   "execution_count": 142,
   "metadata": {},
   "outputs": [
    {
     "name": "stdout",
     "output_type": "stream",
     "text": [
      "Average Ictal and Non-Ictal Simularity Matrix for GCN\n",
      "Average ictal\n"
     ]
    },
    {
     "data": {
      "image/png": "[encoded data removed]",
      "text/plain": [
       "<Figure size 432x288 with 2 Axes>"
      ]
     },
     "metadata": {
      "needs_background": "light"
     },
     "output_type": "display_data"
    },
    {
     "name": "stdout",
     "output_type": "stream",
     "text": [
      "Average Non-Ictal\n"
     ]
    },
    {
     "data": {
      "image/png": "[encoded data removed]",
      "text/plain": [
       "<Figure size 432x288 with 2 Axes>"
      ]
     },
     "metadata": {
      "needs_background": "light"
     },
     "output_type": "display_data"
    }
   ],
   "source": [
    "print(\"Average Ictal and Non-Ictal Simularity Matrix for GCN\")\n",
    "visualize_avg_sim_matrix(dm, sim_all[\"GCN_train\"], sim_all[\"GCN_test\"])"
   ]
  },
  {
   "cell_type": "code",
   "execution_count": 143,
   "metadata": {},
   "outputs": [
    {
     "name": "stdout",
     "output_type": "stream",
     "text": [
      "Average Ictal and Non-Ictal Simularity Matrix for GDE\n",
      "Average ictal\n"
     ]
    },
    {
     "data": {
      "image/png": "[encoded data removed]",
      "text/plain": [
       "<Figure size 432x288 with 2 Axes>"
      ]
     },
     "metadata": {
      "needs_background": "light"
     },
     "output_type": "display_data"
    },
    {
     "name": "stdout",
     "output_type": "stream",
     "text": [
      "Average Non-Ictal\n"
     ]
    },
    {
     "data": {
      "image/png": "[encoded data removed]",
      "text/plain": [
       "<Figure size 432x288 with 2 Axes>"
      ]
     },
     "metadata": {
      "needs_background": "light"
     },
     "output_type": "display_data"
    }
   ],
   "source": [
    "print(\"Average Ictal and Non-Ictal Simularity Matrix for GDE\")\n",
    "visualize_avg_sim_matrix(dm, sim_all[\"GDE_train\"], sim_all[\"GDE_test\"])"
   ]
  },
  {
   "cell_type": "markdown",
   "metadata": {},
   "source": [
    "##### 3.1.3 MLP for GCN  "
   ]
  },
  {
   "cell_type": "markdown",
   "metadata": {},
   "source": [
    "###### Training"
   ]
  },
  {
   "cell_type": "code",
   "execution_count": 144,
   "metadata": {
    "collapsed": true,
    "jupyter": {
     "outputs_hidden": true
    }
   },
   "outputs": [
    {
     "name": "stdout",
     "output_type": "stream",
     "text": [
      "MLP(\n",
      "  (layers): ModuleList(\n",
      "    (0): Dropout(p=0.3, inplace=False)\n",
      "    (1): Linear(in_features=465, out_features=465, bias=True)\n",
      "    (2): ReLU()\n",
      "    (3): Dropout(p=0.3, inplace=False)\n",
      "    (4): Linear(in_features=465, out_features=1, bias=True)\n",
      "    (5): Sigmoid()\n",
      "  )\n",
      ")\n",
      "----------------------------------------------------------------\n",
      "        Layer (type)               Output Shape         Param #\n",
      "================================================================\n",
      "           Dropout-1                  [-1, 465]               0\n",
      "            Linear-2                  [-1, 465]         216,690\n",
      "              ReLU-3                  [-1, 465]               0\n",
      "           Dropout-4                  [-1, 465]               0\n",
      "            Linear-5                    [-1, 1]             466\n",
      "           Sigmoid-6                    [-1, 1]               0\n",
      "================================================================\n",
      "Total params: 217,156\n",
      "Trainable params: 217,156\n",
      "Non-trainable params: 0\n",
      "----------------------------------------------------------------\n",
      "Input size (MB): 0.00\n",
      "Forward/backward pass size (MB): 0.01\n",
      "Params size (MB): 0.83\n",
      "Estimated Total Size (MB): 0.85\n",
      "----------------------------------------------------------------\n",
      "Epoch: 1   Train loss: 0.3477   Train accuracy: 0.008   Val loss: 0.3118   Val accuracy: 0.399    weighted Val loss: 0.3118\n",
      "0.399 ----------saved-----------\n",
      "Epoch: 2   Train loss: 0.2345   Train accuracy: 0.006   Val loss: 0.2976   Val accuracy: 0.44    weighted Val loss: 0.3117\n",
      "0.44 ----------saved-----------\n"
     ]
    },
    {
     "name": "stderr",
     "output_type": "stream",
     "text": [
      "C:\\Users\\caixu\\anaconda3\\lib\\site-packages\\sklearn\\metrics\\_classification.py:1464: UndefinedMetricWarning: F-score is ill-defined and being set to 0.0 due to no true nor predicted samples. Use `zero_division` parameter to control this behavior.\n",
      "  _warn_prf(\n"
     ]
    },
    {
     "name": "stdout",
     "output_type": "stream",
     "text": [
      "Epoch: 3   Train loss: 0.1933   Train accuracy: 0.187   Val loss: 0.2823   Val accuracy: 0.497    weighted Val loss: 0.3115\n",
      "0.497 ----------saved-----------\n",
      "Epoch: 4   Train loss: 0.1715   Train accuracy: 0.514   Val loss: 0.2792   Val accuracy: 0.488    weighted Val loss: 0.3114\n",
      "Epoch: 5   Train loss: 0.1562   Train accuracy: 0.63   Val loss: 0.2768   Val accuracy: 0.503    weighted Val loss: 0.3112\n",
      "0.503 ----------saved-----------\n",
      "Epoch: 6   Train loss: 0.1319   Train accuracy: 0.661   Val loss: 0.2666   Val accuracy: 0.543    weighted Val loss: 0.311\n",
      "0.543 ----------saved-----------\n",
      "Epoch: 7   Train loss: 0.1305   Train accuracy: 0.662   Val loss: 0.2634   Val accuracy: 0.544    weighted Val loss: 0.3107\n",
      "0.544 ----------saved-----------\n",
      "Epoch: 8   Train loss: 0.1226   Train accuracy: 0.684   Val loss: 0.268   Val accuracy: 0.543    weighted Val loss: 0.3105\n",
      "Epoch: 9   Train loss: 0.1138   Train accuracy: 0.73   Val loss: 0.2602   Val accuracy: 0.555    weighted Val loss: 0.3103\n",
      "0.555 ----------saved-----------\n",
      "Epoch: 10   Train loss: 0.1143   Train accuracy: 0.731   Val loss: 0.2552   Val accuracy: 0.568    weighted Val loss: 0.31\n",
      "0.568 ----------saved-----------\n",
      "Epoch: 11   Train loss: 0.11   Train accuracy: 0.731   Val loss: 0.2593   Val accuracy: 0.562    weighted Val loss: 0.3098\n",
      "Epoch: 12   Train loss: 0.1042   Train accuracy: 0.753   Val loss: 0.2675   Val accuracy: 0.55    weighted Val loss: 0.3095\n",
      "Epoch: 13   Train loss: 0.1207   Train accuracy: 0.771   Val loss: 0.258   Val accuracy: 0.586    weighted Val loss: 0.3093\n",
      "0.586 ----------saved-----------\n",
      "Epoch: 14   Train loss: 0.1041   Train accuracy: 0.769   Val loss: 0.2549   Val accuracy: 0.6    weighted Val loss: 0.309\n",
      "0.6 ----------saved-----------\n",
      "Epoch: 15   Train loss: 0.1011   Train accuracy: 0.777   Val loss: 0.2488   Val accuracy: 0.592    weighted Val loss: 0.3087\n",
      "Epoch: 16   Train loss: 0.0929   Train accuracy: 0.765   Val loss: 0.2565   Val accuracy: 0.6    weighted Val loss: 0.3084\n",
      "0.6 ----------saved-----------\n",
      "Epoch: 17   Train loss: 0.0919   Train accuracy: 0.756   Val loss: 0.2717   Val accuracy: 0.591    weighted Val loss: 0.3083\n",
      "Epoch: 18   Train loss: 0.0923   Train accuracy: 0.773   Val loss: 0.2526   Val accuracy: 0.576    weighted Val loss: 0.308\n",
      "Epoch: 19   Train loss: 0.0906   Train accuracy: 0.779   Val loss: 0.2581   Val accuracy: 0.587    weighted Val loss: 0.3077\n",
      "Epoch: 20   Train loss: 0.0865   Train accuracy: 0.784   Val loss: 0.262   Val accuracy: 0.584    weighted Val loss: 0.3075\n",
      "Epoch: 21   Train loss: 0.0891   Train accuracy: 0.76   Val loss: 0.247   Val accuracy: 0.598    weighted Val loss: 0.3072\n",
      "Epoch: 22   Train loss: 0.0883   Train accuracy: 0.793   Val loss: 0.2437   Val accuracy: 0.601    weighted Val loss: 0.3069\n",
      "0.601 ----------saved-----------\n",
      "Epoch: 23   Train loss: 0.1212   Train accuracy: 0.745   Val loss: 0.2521   Val accuracy: 0.585    weighted Val loss: 0.3066\n",
      "Epoch: 24   Train loss: 0.1004   Train accuracy: 0.714   Val loss: 0.2598   Val accuracy: 0.561    weighted Val loss: 0.3064\n",
      "Epoch: 25   Train loss: 0.0848   Train accuracy: 0.749   Val loss: 0.2591   Val accuracy: 0.554    weighted Val loss: 0.3061\n",
      "Epoch: 26   Train loss: 0.0918   Train accuracy: 0.823   Val loss: 0.2531   Val accuracy: 0.561    weighted Val loss: 0.3059\n",
      "Epoch: 27   Train loss: 0.0959   Train accuracy: 0.791   Val loss: 0.2536   Val accuracy: 0.57    weighted Val loss: 0.3056\n",
      "Epoch: 28   Train loss: 0.1145   Train accuracy: 0.727   Val loss: 0.275   Val accuracy: 0.556    weighted Val loss: 0.3055\n",
      "Epoch: 29   Train loss: 0.0869   Train accuracy: 0.774   Val loss: 0.2597   Val accuracy: 0.562    weighted Val loss: 0.3052\n",
      "Epoch: 30   Train loss: 0.0864   Train accuracy: 0.77   Val loss: 0.2521   Val accuracy: 0.577    weighted Val loss: 0.305\n",
      "Epoch: 31   Train loss: 0.0762   Train accuracy: 0.803   Val loss: 0.2672   Val accuracy: 0.554    weighted Val loss: 0.3048\n",
      "Epoch: 32   Train loss: 0.0724   Train accuracy: 0.807   Val loss: 0.2578   Val accuracy: 0.573    weighted Val loss: 0.3045\n",
      "Epoch: 33   Train loss: 0.0685   Train accuracy: 0.823   Val loss: 0.2614   Val accuracy: 0.565    weighted Val loss: 0.3043\n",
      "Epoch: 34   Train loss: 0.0726   Train accuracy: 0.815   Val loss: 0.2602   Val accuracy: 0.587    weighted Val loss: 0.3041\n",
      "Epoch: 35   Train loss: 0.0718   Train accuracy: 0.815   Val loss: 0.2524   Val accuracy: 0.573    weighted Val loss: 0.3039\n",
      "Epoch: 36   Train loss: 0.0673   Train accuracy: 0.813   Val loss: 0.2572   Val accuracy: 0.587    weighted Val loss: 0.3036\n",
      "Epoch: 37   Train loss: 0.0758   Train accuracy: 0.803   Val loss: 0.2641   Val accuracy: 0.565    weighted Val loss: 0.3034\n",
      "Epoch: 38   Train loss: 0.0757   Train accuracy: 0.813   Val loss: 0.2873   Val accuracy: 0.566    weighted Val loss: 0.3033\n",
      "Epoch: 39   Train loss: 0.0867   Train accuracy: 0.786   Val loss: 0.2644   Val accuracy: 0.585    weighted Val loss: 0.3031\n",
      "Epoch: 40   Train loss: 0.073   Train accuracy: 0.852   Val loss: 0.2629   Val accuracy: 0.577    weighted Val loss: 0.3029\n",
      "Epoch: 41   Train loss: 0.0763   Train accuracy: 0.786   Val loss: 0.2708   Val accuracy: 0.574    weighted Val loss: 0.3028\n",
      "Epoch: 42   Train loss: 0.0705   Train accuracy: 0.817   Val loss: 0.2546   Val accuracy: 0.593    weighted Val loss: 0.3025\n",
      "Epoch: 43   Train loss: 0.058   Train accuracy: 0.901   Val loss: 0.2653   Val accuracy: 0.591    weighted Val loss: 0.3024\n",
      "Epoch: 44   Train loss: 0.0627   Train accuracy: 0.848   Val loss: 0.2667   Val accuracy: 0.594    weighted Val loss: 0.3022\n",
      "Epoch: 45   Train loss: 0.0594   Train accuracy: 0.828   Val loss: 0.2935   Val accuracy: 0.578    weighted Val loss: 0.3021\n",
      "Epoch: 46   Train loss: 0.0695   Train accuracy: 0.824   Val loss: 0.2693   Val accuracy: 0.586    weighted Val loss: 0.302\n",
      "Epoch: 47   Train loss: 0.0674   Train accuracy: 0.831   Val loss: 0.2606   Val accuracy: 0.582    weighted Val loss: 0.3018\n",
      "Epoch: 48   Train loss: 0.0647   Train accuracy: 0.829   Val loss: 0.2739   Val accuracy: 0.582    weighted Val loss: 0.3016\n",
      "Epoch: 49   Train loss: 0.0621   Train accuracy: 0.823   Val loss: 0.2684   Val accuracy: 0.589    weighted Val loss: 0.3015\n",
      "Epoch: 50   Train loss: 0.0579   Train accuracy: 0.846   Val loss: 0.2606   Val accuracy: 0.592    weighted Val loss: 0.3013\n",
      "Epoch: 51   Train loss: 0.0723   Train accuracy: 0.904   Val loss: 0.2629   Val accuracy: 0.577    weighted Val loss: 0.3011\n",
      "Epoch: 52   Train loss: 0.0706   Train accuracy: 0.854   Val loss: 0.2823   Val accuracy: 0.596    weighted Val loss: 0.301\n",
      "Epoch: 53   Train loss: 0.0628   Train accuracy: 0.84   Val loss: 0.2681   Val accuracy: 0.581    weighted Val loss: 0.3008\n",
      "Epoch: 54   Train loss: 0.0679   Train accuracy: 0.822   Val loss: 0.2747   Val accuracy: 0.586    weighted Val loss: 0.3007\n",
      "Epoch: 55   Train loss: 0.0663   Train accuracy: 0.807   Val loss: 0.2574   Val accuracy: 0.605    weighted Val loss: 0.3005\n",
      "0.605 ----------saved-----------\n",
      "Epoch: 56   Train loss: 0.0656   Train accuracy: 0.814   Val loss: 0.2642   Val accuracy: 0.588    weighted Val loss: 0.3003\n",
      "Epoch: 57   Train loss: 0.059   Train accuracy: 0.855   Val loss: 0.2816   Val accuracy: 0.552    weighted Val loss: 0.3002\n",
      "Epoch: 58   Train loss: 0.0588   Train accuracy: 0.824   Val loss: 0.2591   Val accuracy: 0.603    weighted Val loss: 0.3\n",
      "Epoch: 59   Train loss: 0.0624   Train accuracy: 0.876   Val loss: 0.2651   Val accuracy: 0.587    weighted Val loss: 0.2998\n",
      "Epoch: 60   Train loss: 0.0625   Train accuracy: 0.845   Val loss: 0.2903   Val accuracy: 0.541    weighted Val loss: 0.2998\n",
      "Epoch: 61   Train loss: 0.0616   Train accuracy: 0.828   Val loss: 0.2608   Val accuracy: 0.596    weighted Val loss: 0.2996\n",
      "Epoch: 62   Train loss: 0.0566   Train accuracy: 0.811   Val loss: 0.2707   Val accuracy: 0.563    weighted Val loss: 0.2994\n",
      "Epoch: 63   Train loss: 0.0841   Train accuracy: 0.857   Val loss: 0.2653   Val accuracy: 0.592    weighted Val loss: 0.2992\n",
      "Epoch: 64   Train loss: 0.0876   Train accuracy: 0.831   Val loss: 0.2795   Val accuracy: 0.578    weighted Val loss: 0.2991\n",
      "Epoch: 65   Train loss: 0.0709   Train accuracy: 0.825   Val loss: 0.2679   Val accuracy: 0.574    weighted Val loss: 0.299\n",
      "Epoch: 66   Train loss: 0.0829   Train accuracy: 0.833   Val loss: 0.2776   Val accuracy: 0.539    weighted Val loss: 0.2989\n",
      "Epoch: 67   Train loss: 0.0841   Train accuracy: 0.816   Val loss: 0.2712   Val accuracy: 0.567    weighted Val loss: 0.2987\n",
      "Epoch: 68   Train loss: 0.1033   Train accuracy: 0.749   Val loss: 0.2798   Val accuracy: 0.526    weighted Val loss: 0.2987\n",
      "Epoch: 69   Train loss: 0.0781   Train accuracy: 0.793   Val loss: 0.2974   Val accuracy: 0.55    weighted Val loss: 0.2986\n",
      "Epoch: 70   Train loss: 0.0836   Train accuracy: 0.806   Val loss: 0.3228   Val accuracy: 0.559    weighted Val loss: 0.2988\n"
     ]
    }
   ],
   "source": [
    "MLPparametersGCN = {\n",
    "    'n_layers':2,\n",
    "    'layer_size_factor':[1,1], \n",
    "    'dropout':[0.3, 0.3],\n",
    "    'batch_size': 128,\n",
    "    'num_epochs': 900,\n",
    "    'learning_rate': 6e-4,\n",
    "    'weight_decay': 5e-3,\n",
    "    'betas': (0.9, 0.999), \n",
    "    'eps': 1e-08\n",
    "}\n",
    "MLPmodelGCN, _,_, MLPcheckpointGCN = MLP.train_MLP(dm, sim_all[\"GCN_train\"], sim_all[\"GCN_test\"], MLPparametersGCN, acc_fn=MLP.F1, autostop_decay = 0.995, print_summary = True)"
   ]
  },
  {
   "cell_type": "code",
   "execution_count": 32,
   "metadata": {},
   "outputs": [
    {
     "name": "stdout",
     "output_type": "stream",
     "text": [
      "model saved\n"
     ]
    }
   ],
   "source": [
    "#optional: save the model\n",
    "MLP.save_ckp(MLPcheckpointGCN, \"models/MLPGCN253_2.pt\")"
   ]
  },
  {
   "cell_type": "markdown",
   "metadata": {},
   "source": [
    "###### Result"
   ]
  },
  {
   "cell_type": "code",
   "execution_count": 99,
   "metadata": {
    "collapsed": true,
    "jupyter": {
     "outputs_hidden": true
    }
   },
   "outputs": [
    {
     "name": "stdout",
     "output_type": "stream",
     "text": [
      "device set to cuda\n",
      "threshold: 0.05  validation loss: 0.2429 F1 accuracy 0.285 Precision accuracy 0.168 Recall accuracy 0.936 AUC accuracy: 0.863\n",
      "device set to cuda\n",
      "threshold: 0.1  validation loss: 0.2429 F1 accuracy 0.362 Precision accuracy 0.229 Recall accuracy 0.864 AUC accuracy: 0.863\n",
      "device set to cuda\n",
      "threshold: 0.15  validation loss: 0.2429 F1 accuracy 0.422 Precision accuracy 0.287 Recall accuracy 0.797 AUC accuracy: 0.863\n",
      "device set to cuda\n",
      "threshold: 0.2  validation loss: 0.2429 F1 accuracy 0.472 Precision accuracy 0.347 Recall accuracy 0.736 AUC accuracy: 0.863\n",
      "device set to cuda\n",
      "threshold: 0.25  validation loss: 0.2429 F1 accuracy 0.506 Precision accuracy 0.401 Recall accuracy 0.685 AUC accuracy: 0.863\n",
      "device set to cuda\n",
      "threshold: 0.3  validation loss: 0.2429 F1 accuracy 0.541 Precision accuracy 0.463 Recall accuracy 0.653 AUC accuracy: 0.863\n",
      "device set to cuda\n",
      "threshold: 0.35  validation loss: 0.2429 F1 accuracy 0.557 Precision accuracy 0.519 Recall accuracy 0.6 AUC accuracy: 0.863\n",
      "device set to cuda\n",
      "threshold: 0.4  validation loss: 0.2429 F1 accuracy 0.581 Precision accuracy 0.586 Recall accuracy 0.576 AUC accuracy: 0.863\n",
      "device set to cuda\n",
      "threshold: 0.45  validation loss: 0.2429 F1 accuracy 0.593 Precision accuracy 0.649 Recall accuracy 0.546 AUC accuracy: 0.863\n",
      "device set to cuda\n",
      "threshold: 0.5  validation loss: 0.2429 F1 accuracy 0.603 Precision accuracy 0.727 Recall accuracy 0.515 AUC accuracy: 0.863\n",
      "device set to cuda\n",
      "threshold: 0.55  validation loss: 0.2429 F1 accuracy 0.577 Precision accuracy 0.763 Recall accuracy 0.464 AUC accuracy: 0.863\n",
      "device set to cuda\n",
      "threshold: 0.6  validation loss: 0.2429 F1 accuracy 0.549 Precision accuracy 0.792 Recall accuracy 0.42 AUC accuracy: 0.863\n",
      "device set to cuda\n",
      "threshold: 0.65  validation loss: 0.2429 F1 accuracy 0.517 Precision accuracy 0.825 Recall accuracy 0.376 AUC accuracy: 0.863\n",
      "device set to cuda\n",
      "threshold: 0.7  validation loss: 0.2429 F1 accuracy 0.473 Precision accuracy 0.88 Recall accuracy 0.324 AUC accuracy: 0.863\n",
      "device set to cuda\n",
      "threshold: 0.75  validation loss: 0.2429 F1 accuracy 0.42 Precision accuracy 0.91 Recall accuracy 0.273 AUC accuracy: 0.863\n",
      "device set to cuda\n",
      "threshold: 0.8  validation loss: 0.2429 F1 accuracy 0.346 Precision accuracy 0.913 Recall accuracy 0.214 AUC accuracy: 0.863\n",
      "device set to cuda\n",
      "threshold: 0.85  validation loss: 0.2429 F1 accuracy 0.271 Precision accuracy 0.959 Recall accuracy 0.158 AUC accuracy: 0.863\n",
      "device set to cuda\n",
      "threshold: 0.9  validation loss: 0.2429 F1 accuracy 0.187 Precision accuracy 0.984 Recall accuracy 0.103 AUC accuracy: 0.863\n",
      "device set to cuda\n",
      "threshold: 0.95  validation loss: 0.2429 F1 accuracy 0.078 Precision accuracy 1.0 Recall accuracy 0.041 AUC accuracy: 0.863\n"
     ]
    }
   ],
   "source": [
    "for i in range(5,100, 5):\n",
    "    t = i/100;\n",
    "    MLP.eval_mlp(MLPmodelGCN, sim_all[\"GCN_test\"], dm, device_name = 'cuda', threshold = t)"
   ]
  },
  {
   "cell_type": "markdown",
   "metadata": {},
   "source": [
    "##### 3.1.2 MLP for GDE"
   ]
  },
  {
   "cell_type": "markdown",
   "metadata": {},
   "source": [
    "###### Training"
   ]
  },
  {
   "cell_type": "code",
   "execution_count": 122,
   "metadata": {
    "collapsed": true,
    "jupyter": {
     "outputs_hidden": true
    }
   },
   "outputs": [
    {
     "name": "stdout",
     "output_type": "stream",
     "text": [
      "MLP(\n",
      "  (layers): ModuleList(\n",
      "    (0): Dropout(p=0.3, inplace=False)\n",
      "    (1): Linear(in_features=630, out_features=9, bias=True)\n",
      "    (2): ReLU()\n",
      "    (3): Dropout(p=0.3, inplace=False)\n",
      "    (4): Linear(in_features=9, out_features=1, bias=True)\n",
      "    (5): Sigmoid()\n",
      "  )\n",
      ")\n",
      "----------------------------------------------------------------\n",
      "        Layer (type)               Output Shape         Param #\n",
      "================================================================\n",
      "           Dropout-1                  [-1, 630]               0\n",
      "            Linear-2                    [-1, 9]           5,679\n",
      "              ReLU-3                    [-1, 9]               0\n",
      "           Dropout-4                    [-1, 9]               0\n",
      "            Linear-5                    [-1, 1]              10\n",
      "           Sigmoid-6                    [-1, 1]               0\n",
      "================================================================\n",
      "Total params: 5,689\n",
      "Trainable params: 5,689\n",
      "Non-trainable params: 0\n",
      "----------------------------------------------------------------\n",
      "Input size (MB): 0.00\n",
      "Forward/backward pass size (MB): 0.01\n",
      "Params size (MB): 0.02\n",
      "Estimated Total Size (MB): 0.03\n",
      "----------------------------------------------------------------\n",
      "Epoch: 1   Train loss: 0.4117   Train accuracy: 0.028   Val loss: 0.3509   Val accuracy: 0.201    weighted Val loss: 0.3509\n",
      "0.201 ----------saved-----------\n",
      "Epoch: 2   Train loss: 0.3404   Train accuracy: 0.002   Val loss: 0.3463   Val accuracy: 0.237    weighted Val loss: 0.3509\n",
      "0.237 ----------saved-----------\n",
      "Epoch: 3   Train loss: 0.3273   Train accuracy: 0.009   Val loss: 0.3435   Val accuracy: 0.251    weighted Val loss: 0.3509\n",
      "0.251 ----------saved-----------\n",
      "Epoch: 4   Train loss: 0.3204   Train accuracy: 0.01   Val loss: 0.3417   Val accuracy: 0.259    weighted Val loss: 0.3509\n",
      "0.259 ----------saved-----------\n",
      "Epoch: 5   Train loss: 0.3191   Train accuracy: 0.001   Val loss: 0.3421   Val accuracy: 0.256    weighted Val loss: 0.3509\n",
      "Epoch: 6   Train loss: 0.3124   Train accuracy: 0.0   Val loss: 0.341   Val accuracy: 0.268    weighted Val loss: 0.3509\n",
      "0.268 ----------saved-----------\n",
      "Epoch: 7   Train loss: 0.3115   Train accuracy: 0.0   Val loss: 0.3386   Val accuracy: 0.273    weighted Val loss: 0.3509\n",
      "0.273 ----------saved-----------\n",
      "Epoch: 8   Train loss: 0.3079   Train accuracy: 0.0   Val loss: 0.3371   Val accuracy: 0.275    weighted Val loss: 0.3509\n",
      "0.275 ----------saved-----------\n",
      "Epoch: 9   Train loss: 0.3036   Train accuracy: 0.0   Val loss: 0.3374   Val accuracy: 0.282    weighted Val loss: 0.3509\n",
      "0.282 ----------saved-----------\n",
      "Epoch: 10   Train loss: 0.2996   Train accuracy: 0.0   Val loss: 0.3366   Val accuracy: 0.285    weighted Val loss: 0.3508\n",
      "0.285 ----------saved-----------\n",
      "Epoch: 11   Train loss: 0.3002   Train accuracy: 0.004   Val loss: 0.333   Val accuracy: 0.286    weighted Val loss: 0.3508\n",
      "0.286 ----------saved-----------\n",
      "Epoch: 12   Train loss: 0.2973   Train accuracy: 0.005   Val loss: 0.3324   Val accuracy: 0.29    weighted Val loss: 0.3508\n",
      "0.29 ----------saved-----------\n",
      "Epoch: 13   Train loss: 0.2936   Train accuracy: 0.007   Val loss: 0.3319   Val accuracy: 0.296    weighted Val loss: 0.3508\n",
      "0.296 ----------saved-----------\n",
      "Epoch: 14   Train loss: 0.2911   Train accuracy: 0.014   Val loss: 0.3307   Val accuracy: 0.302    weighted Val loss: 0.3508\n",
      "0.302 ----------saved-----------\n",
      "Epoch: 15   Train loss: 0.2894   Train accuracy: 0.016   Val loss: 0.3272   Val accuracy: 0.307    weighted Val loss: 0.3507\n",
      "0.307 ----------saved-----------\n",
      "Epoch: 16   Train loss: 0.2867   Train accuracy: 0.026   Val loss: 0.3287   Val accuracy: 0.305    weighted Val loss: 0.3507\n",
      "Epoch: 17   Train loss: 0.2834   Train accuracy: 0.021   Val loss: 0.3261   Val accuracy: 0.309    weighted Val loss: 0.3507\n",
      "0.309 ----------saved-----------\n",
      "Epoch: 18   Train loss: 0.2808   Train accuracy: 0.031   Val loss: 0.328   Val accuracy: 0.314    weighted Val loss: 0.3507\n",
      "0.314 ----------saved-----------\n",
      "Epoch: 19   Train loss: 0.2828   Train accuracy: 0.031   Val loss: 0.3262   Val accuracy: 0.322    weighted Val loss: 0.3506\n",
      "0.322 ----------saved-----------\n",
      "Epoch: 20   Train loss: 0.281   Train accuracy: 0.041   Val loss: 0.324   Val accuracy: 0.327    weighted Val loss: 0.3506\n",
      "0.327 ----------saved-----------\n",
      "Epoch: 21   Train loss: 0.2788   Train accuracy: 0.032   Val loss: 0.3245   Val accuracy: 0.327    weighted Val loss: 0.3506\n",
      "Epoch: 22   Train loss: 0.2774   Train accuracy: 0.041   Val loss: 0.3219   Val accuracy: 0.326    weighted Val loss: 0.3506\n",
      "Epoch: 23   Train loss: 0.2771   Train accuracy: 0.044   Val loss: 0.3223   Val accuracy: 0.329    weighted Val loss: 0.3505\n",
      "0.329 ----------saved-----------\n",
      "Epoch: 24   Train loss: 0.275   Train accuracy: 0.039   Val loss: 0.3231   Val accuracy: 0.33    weighted Val loss: 0.3505\n",
      "0.33 ----------saved-----------\n",
      "Epoch: 25   Train loss: 0.2745   Train accuracy: 0.033   Val loss: 0.3219   Val accuracy: 0.333    weighted Val loss: 0.3505\n",
      "0.333 ----------saved-----------\n",
      "Epoch: 26   Train loss: 0.2779   Train accuracy: 0.045   Val loss: 0.3226   Val accuracy: 0.337    weighted Val loss: 0.3505\n",
      "0.337 ----------saved-----------\n",
      "Epoch: 27   Train loss: 0.274   Train accuracy: 0.037   Val loss: 0.3213   Val accuracy: 0.342    weighted Val loss: 0.3504\n",
      "0.342 ----------saved-----------\n",
      "Epoch: 28   Train loss: 0.2733   Train accuracy: 0.042   Val loss: 0.3217   Val accuracy: 0.344    weighted Val loss: 0.3504\n",
      "0.344 ----------saved-----------\n",
      "Epoch: 29   Train loss: 0.2742   Train accuracy: 0.052   Val loss: 0.3218   Val accuracy: 0.342    weighted Val loss: 0.3504\n",
      "Epoch: 30   Train loss: 0.2739   Train accuracy: 0.053   Val loss: 0.3227   Val accuracy: 0.344    weighted Val loss: 0.3503\n",
      "Epoch: 31   Train loss: 0.2721   Train accuracy: 0.051   Val loss: 0.3199   Val accuracy: 0.347    weighted Val loss: 0.3503\n",
      "0.347 ----------saved-----------\n",
      "Epoch: 32   Train loss: 0.2738   Train accuracy: 0.049   Val loss: 0.3212   Val accuracy: 0.352    weighted Val loss: 0.3503\n",
      "0.352 ----------saved-----------\n",
      "Epoch: 33   Train loss: 0.2749   Train accuracy: 0.043   Val loss: 0.3206   Val accuracy: 0.345    weighted Val loss: 0.3502\n",
      "Epoch: 34   Train loss: 0.2738   Train accuracy: 0.051   Val loss: 0.3217   Val accuracy: 0.338    weighted Val loss: 0.3502\n",
      "Epoch: 35   Train loss: 0.274   Train accuracy: 0.05   Val loss: 0.3208   Val accuracy: 0.343    weighted Val loss: 0.3502\n",
      "Epoch: 36   Train loss: 0.2709   Train accuracy: 0.052   Val loss: 0.3206   Val accuracy: 0.341    weighted Val loss: 0.3502\n",
      "Epoch: 37   Train loss: 0.2713   Train accuracy: 0.05   Val loss: 0.3206   Val accuracy: 0.344    weighted Val loss: 0.3501\n",
      "Epoch: 38   Train loss: 0.2702   Train accuracy: 0.053   Val loss: 0.3202   Val accuracy: 0.35    weighted Val loss: 0.3501\n",
      "Epoch: 39   Train loss: 0.2696   Train accuracy: 0.05   Val loss: 0.3221   Val accuracy: 0.344    weighted Val loss: 0.3501\n",
      "Epoch: 40   Train loss: 0.2719   Train accuracy: 0.054   Val loss: 0.3206   Val accuracy: 0.348    weighted Val loss: 0.35\n",
      "Epoch: 41   Train loss: 0.2711   Train accuracy: 0.054   Val loss: 0.3177   Val accuracy: 0.359    weighted Val loss: 0.35\n",
      "0.359 ----------saved-----------\n",
      "Epoch: 42   Train loss: 0.2722   Train accuracy: 0.05   Val loss: 0.3169   Val accuracy: 0.361    weighted Val loss: 0.35\n",
      "0.361 ----------saved-----------\n",
      "Epoch: 43   Train loss: 0.269   Train accuracy: 0.056   Val loss: 0.3163   Val accuracy: 0.367    weighted Val loss: 0.3499\n",
      "0.367 ----------saved-----------\n",
      "Epoch: 44   Train loss: 0.2663   Train accuracy: 0.072   Val loss: 0.3154   Val accuracy: 0.368    weighted Val loss: 0.3499\n",
      "0.368 ----------saved-----------\n",
      "Epoch: 45   Train loss: 0.2621   Train accuracy: 0.105   Val loss: 0.3139   Val accuracy: 0.377    weighted Val loss: 0.3499\n",
      "0.377 ----------saved-----------\n",
      "Epoch: 46   Train loss: 0.26   Train accuracy: 0.127   Val loss: 0.3127   Val accuracy: 0.373    weighted Val loss: 0.3498\n",
      "Epoch: 47   Train loss: 0.2615   Train accuracy: 0.136   Val loss: 0.3103   Val accuracy: 0.371    weighted Val loss: 0.3498\n",
      "Epoch: 48   Train loss: 0.2611   Train accuracy: 0.152   Val loss: 0.313   Val accuracy: 0.372    weighted Val loss: 0.3498\n",
      "Epoch: 49   Train loss: 0.2603   Train accuracy: 0.163   Val loss: 0.3108   Val accuracy: 0.374    weighted Val loss: 0.3497\n",
      "Epoch: 50   Train loss: 0.2595   Train accuracy: 0.168   Val loss: 0.3081   Val accuracy: 0.379    weighted Val loss: 0.3497\n",
      "0.379 ----------saved-----------\n",
      "Epoch: 51   Train loss: 0.2588   Train accuracy: 0.184   Val loss: 0.3096   Val accuracy: 0.381    weighted Val loss: 0.3496\n",
      "0.381 ----------saved-----------\n",
      "Epoch: 52   Train loss: 0.2562   Train accuracy: 0.182   Val loss: 0.3114   Val accuracy: 0.381    weighted Val loss: 0.3496\n",
      "Epoch: 53   Train loss: 0.2562   Train accuracy: 0.185   Val loss: 0.313   Val accuracy: 0.384    weighted Val loss: 0.3496\n",
      "0.384 ----------saved-----------\n",
      "Epoch: 54   Train loss: 0.2541   Train accuracy: 0.198   Val loss: 0.3077   Val accuracy: 0.383    weighted Val loss: 0.3495\n",
      "Epoch: 55   Train loss: 0.2571   Train accuracy: 0.184   Val loss: 0.3105   Val accuracy: 0.388    weighted Val loss: 0.3495\n",
      "0.388 ----------saved-----------\n",
      "Epoch: 56   Train loss: 0.2564   Train accuracy: 0.197   Val loss: 0.3088   Val accuracy: 0.388    weighted Val loss: 0.3494\n",
      "Epoch: 57   Train loss: 0.2563   Train accuracy: 0.201   Val loss: 0.3067   Val accuracy: 0.386    weighted Val loss: 0.3494\n",
      "Epoch: 58   Train loss: 0.2564   Train accuracy: 0.202   Val loss: 0.3109   Val accuracy: 0.385    weighted Val loss: 0.3494\n",
      "Epoch: 59   Train loss: 0.2543   Train accuracy: 0.222   Val loss: 0.3072   Val accuracy: 0.381    weighted Val loss: 0.3493\n",
      "Epoch: 60   Train loss: 0.257   Train accuracy: 0.189   Val loss: 0.3089   Val accuracy: 0.384    weighted Val loss: 0.3493\n",
      "Epoch: 61   Train loss: 0.2563   Train accuracy: 0.19   Val loss: 0.3075   Val accuracy: 0.384    weighted Val loss: 0.3492\n",
      "Epoch: 62   Train loss: 0.2536   Train accuracy: 0.228   Val loss: 0.3067   Val accuracy: 0.382    weighted Val loss: 0.3492\n",
      "Epoch: 63   Train loss: 0.2555   Train accuracy: 0.212   Val loss: 0.3074   Val accuracy: 0.39    weighted Val loss: 0.3492\n",
      "0.39 ----------saved-----------\n",
      "Epoch: 64   Train loss: 0.254   Train accuracy: 0.233   Val loss: 0.3063   Val accuracy: 0.386    weighted Val loss: 0.3491\n",
      "Epoch: 65   Train loss: 0.2545   Train accuracy: 0.208   Val loss: 0.3064   Val accuracy: 0.386    weighted Val loss: 0.3491\n",
      "Epoch: 66   Train loss: 0.2544   Train accuracy: 0.223   Val loss: 0.3093   Val accuracy: 0.387    weighted Val loss: 0.349\n",
      "Epoch: 67   Train loss: 0.2557   Train accuracy: 0.226   Val loss: 0.3087   Val accuracy: 0.385    weighted Val loss: 0.349\n",
      "Epoch: 68   Train loss: 0.256   Train accuracy: 0.215   Val loss: 0.3053   Val accuracy: 0.389    weighted Val loss: 0.3489\n",
      "Epoch: 69   Train loss: 0.256   Train accuracy: 0.217   Val loss: 0.307   Val accuracy: 0.394    weighted Val loss: 0.3489\n",
      "0.394 ----------saved-----------\n",
      "Epoch: 70   Train loss: 0.2541   Train accuracy: 0.206   Val loss: 0.3093   Val accuracy: 0.392    weighted Val loss: 0.3489\n",
      "Epoch: 71   Train loss: 0.2524   Train accuracy: 0.231   Val loss: 0.3043   Val accuracy: 0.398    weighted Val loss: 0.3488\n",
      "0.398 ----------saved-----------\n",
      "Epoch: 72   Train loss: 0.2538   Train accuracy: 0.218   Val loss: 0.3069   Val accuracy: 0.391    weighted Val loss: 0.3488\n",
      "Epoch: 73   Train loss: 0.252   Train accuracy: 0.242   Val loss: 0.3045   Val accuracy: 0.393    weighted Val loss: 0.3487\n",
      "Epoch: 74   Train loss: 0.2547   Train accuracy: 0.23   Val loss: 0.3059   Val accuracy: 0.393    weighted Val loss: 0.3487\n",
      "Epoch: 75   Train loss: 0.253   Train accuracy: 0.226   Val loss: 0.3052   Val accuracy: 0.393    weighted Val loss: 0.3486\n",
      "Epoch: 76   Train loss: 0.253   Train accuracy: 0.229   Val loss: 0.3096   Val accuracy: 0.396    weighted Val loss: 0.3486\n",
      "Epoch: 77   Train loss: 0.2537   Train accuracy: 0.235   Val loss: 0.309   Val accuracy: 0.393    weighted Val loss: 0.3486\n",
      "Epoch: 78   Train loss: 0.2548   Train accuracy: 0.214   Val loss: 0.3066   Val accuracy: 0.391    weighted Val loss: 0.3485\n",
      "Epoch: 79   Train loss: 0.2521   Train accuracy: 0.232   Val loss: 0.3069   Val accuracy: 0.396    weighted Val loss: 0.3485\n",
      "Epoch: 80   Train loss: 0.2554   Train accuracy: 0.218   Val loss: 0.3048   Val accuracy: 0.39    weighted Val loss: 0.3484\n",
      "Epoch: 81   Train loss: 0.2526   Train accuracy: 0.22   Val loss: 0.3123   Val accuracy: 0.391    weighted Val loss: 0.3484\n",
      "Epoch: 82   Train loss: 0.2532   Train accuracy: 0.226   Val loss: 0.3021   Val accuracy: 0.397    weighted Val loss: 0.3484\n",
      "Epoch: 83   Train loss: 0.255   Train accuracy: 0.226   Val loss: 0.306   Val accuracy: 0.387    weighted Val loss: 0.3483\n",
      "Epoch: 84   Train loss: 0.2558   Train accuracy: 0.231   Val loss: 0.3071   Val accuracy: 0.387    weighted Val loss: 0.3483\n",
      "Epoch: 85   Train loss: 0.2559   Train accuracy: 0.209   Val loss: 0.3054   Val accuracy: 0.39    weighted Val loss: 0.3482\n",
      "Epoch: 86   Train loss: 0.2519   Train accuracy: 0.246   Val loss: 0.3064   Val accuracy: 0.382    weighted Val loss: 0.3482\n",
      "Epoch: 87   Train loss: 0.2535   Train accuracy: 0.229   Val loss: 0.3047   Val accuracy: 0.392    weighted Val loss: 0.3481\n",
      "Epoch: 88   Train loss: 0.2516   Train accuracy: 0.227   Val loss: 0.3063   Val accuracy: 0.393    weighted Val loss: 0.3481\n",
      "Epoch: 89   Train loss: 0.253   Train accuracy: 0.227   Val loss: 0.3044   Val accuracy: 0.392    weighted Val loss: 0.3481\n",
      "Epoch: 90   Train loss: 0.255   Train accuracy: 0.224   Val loss: 0.3079   Val accuracy: 0.395    weighted Val loss: 0.348\n",
      "Epoch: 91   Train loss: 0.2516   Train accuracy: 0.239   Val loss: 0.3095   Val accuracy: 0.391    weighted Val loss: 0.348\n",
      "Epoch: 92   Train loss: 0.2549   Train accuracy: 0.222   Val loss: 0.3052   Val accuracy: 0.388    weighted Val loss: 0.3479\n",
      "Epoch: 93   Train loss: 0.2528   Train accuracy: 0.234   Val loss: 0.3077   Val accuracy: 0.383    weighted Val loss: 0.3479\n",
      "Epoch: 94   Train loss: 0.253   Train accuracy: 0.237   Val loss: 0.3065   Val accuracy: 0.391    weighted Val loss: 0.3479\n",
      "Epoch: 95   Train loss: 0.2537   Train accuracy: 0.218   Val loss: 0.3049   Val accuracy: 0.392    weighted Val loss: 0.3478\n",
      "Epoch: 96   Train loss: 0.2509   Train accuracy: 0.242   Val loss: 0.3082   Val accuracy: 0.393    weighted Val loss: 0.3478\n",
      "Epoch: 97   Train loss: 0.2538   Train accuracy: 0.218   Val loss: 0.3034   Val accuracy: 0.4    weighted Val loss: 0.3477\n",
      "0.4 ----------saved-----------\n",
      "Epoch: 98   Train loss: 0.2531   Train accuracy: 0.242   Val loss: 0.3034   Val accuracy: 0.399    weighted Val loss: 0.3477\n",
      "Epoch: 99   Train loss: 0.2545   Train accuracy: 0.213   Val loss: 0.3059   Val accuracy: 0.395    weighted Val loss: 0.3476\n",
      "Epoch: 100   Train loss: 0.2525   Train accuracy: 0.233   Val loss: 0.3078   Val accuracy: 0.39    weighted Val loss: 0.3476\n",
      "Epoch: 101   Train loss: 0.2524   Train accuracy: 0.241   Val loss: 0.3085   Val accuracy: 0.391    weighted Val loss: 0.3476\n",
      "Epoch: 102   Train loss: 0.2543   Train accuracy: 0.217   Val loss: 0.3045   Val accuracy: 0.391    weighted Val loss: 0.3475\n",
      "Epoch: 103   Train loss: 0.255   Train accuracy: 0.217   Val loss: 0.3058   Val accuracy: 0.394    weighted Val loss: 0.3475\n",
      "Epoch: 104   Train loss: 0.2532   Train accuracy: 0.233   Val loss: 0.3067   Val accuracy: 0.388    weighted Val loss: 0.3474\n",
      "Epoch: 105   Train loss: 0.2537   Train accuracy: 0.224   Val loss: 0.3065   Val accuracy: 0.386    weighted Val loss: 0.3474\n",
      "Epoch: 106   Train loss: 0.2505   Train accuracy: 0.255   Val loss: 0.3038   Val accuracy: 0.39    weighted Val loss: 0.3474\n",
      "Epoch: 107   Train loss: 0.2512   Train accuracy: 0.223   Val loss: 0.3069   Val accuracy: 0.392    weighted Val loss: 0.3473\n",
      "Epoch: 108   Train loss: 0.2522   Train accuracy: 0.238   Val loss: 0.305   Val accuracy: 0.388    weighted Val loss: 0.3473\n",
      "Epoch: 109   Train loss: 0.2533   Train accuracy: 0.245   Val loss: 0.3052   Val accuracy: 0.39    weighted Val loss: 0.3472\n",
      "Epoch: 110   Train loss: 0.2537   Train accuracy: 0.242   Val loss: 0.308   Val accuracy: 0.39    weighted Val loss: 0.3472\n",
      "Epoch: 111   Train loss: 0.2522   Train accuracy: 0.236   Val loss: 0.3048   Val accuracy: 0.388    weighted Val loss: 0.3471\n",
      "Epoch: 112   Train loss: 0.2544   Train accuracy: 0.212   Val loss: 0.3044   Val accuracy: 0.392    weighted Val loss: 0.3471\n",
      "Epoch: 113   Train loss: 0.2553   Train accuracy: 0.226   Val loss: 0.3065   Val accuracy: 0.384    weighted Val loss: 0.3471\n",
      "Epoch: 114   Train loss: 0.2532   Train accuracy: 0.229   Val loss: 0.3085   Val accuracy: 0.388    weighted Val loss: 0.347\n",
      "Epoch: 115   Train loss: 0.253   Train accuracy: 0.241   Val loss: 0.3094   Val accuracy: 0.388    weighted Val loss: 0.347\n",
      "Epoch: 116   Train loss: 0.252   Train accuracy: 0.241   Val loss: 0.3058   Val accuracy: 0.394    weighted Val loss: 0.3469\n",
      "Epoch: 117   Train loss: 0.2546   Train accuracy: 0.236   Val loss: 0.3057   Val accuracy: 0.393    weighted Val loss: 0.3469\n",
      "Epoch: 118   Train loss: 0.2517   Train accuracy: 0.233   Val loss: 0.3069   Val accuracy: 0.392    weighted Val loss: 0.3469\n",
      "Epoch: 119   Train loss: 0.252   Train accuracy: 0.244   Val loss: 0.3056   Val accuracy: 0.386    weighted Val loss: 0.3468\n",
      "Epoch: 120   Train loss: 0.2532   Train accuracy: 0.237   Val loss: 0.305   Val accuracy: 0.391    weighted Val loss: 0.3468\n",
      "Epoch: 121   Train loss: 0.2513   Train accuracy: 0.235   Val loss: 0.307   Val accuracy: 0.394    weighted Val loss: 0.3467\n",
      "Epoch: 122   Train loss: 0.2504   Train accuracy: 0.245   Val loss: 0.3047   Val accuracy: 0.396    weighted Val loss: 0.3467\n",
      "Epoch: 123   Train loss: 0.2529   Train accuracy: 0.24   Val loss: 0.3044   Val accuracy: 0.397    weighted Val loss: 0.3467\n",
      "Epoch: 124   Train loss: 0.2528   Train accuracy: 0.252   Val loss: 0.3063   Val accuracy: 0.394    weighted Val loss: 0.3466\n",
      "Epoch: 125   Train loss: 0.2536   Train accuracy: 0.234   Val loss: 0.3068   Val accuracy: 0.392    weighted Val loss: 0.3466\n",
      "Epoch: 126   Train loss: 0.2536   Train accuracy: 0.231   Val loss: 0.3048   Val accuracy: 0.395    weighted Val loss: 0.3465\n",
      "Epoch: 127   Train loss: 0.2511   Train accuracy: 0.243   Val loss: 0.309   Val accuracy: 0.391    weighted Val loss: 0.3465\n",
      "Epoch: 128   Train loss: 0.2533   Train accuracy: 0.226   Val loss: 0.3047   Val accuracy: 0.393    weighted Val loss: 0.3465\n",
      "Epoch: 129   Train loss: 0.2538   Train accuracy: 0.238   Val loss: 0.3037   Val accuracy: 0.397    weighted Val loss: 0.3464\n",
      "Epoch: 130   Train loss: 0.2535   Train accuracy: 0.233   Val loss: 0.3067   Val accuracy: 0.395    weighted Val loss: 0.3464\n",
      "Epoch: 131   Train loss: 0.2519   Train accuracy: 0.225   Val loss: 0.3055   Val accuracy: 0.398    weighted Val loss: 0.3463\n",
      "Epoch: 132   Train loss: 0.2499   Train accuracy: 0.251   Val loss: 0.306   Val accuracy: 0.397    weighted Val loss: 0.3463\n",
      "Epoch: 133   Train loss: 0.2531   Train accuracy: 0.241   Val loss: 0.3095   Val accuracy: 0.395    weighted Val loss: 0.3463\n",
      "Epoch: 134   Train loss: 0.2529   Train accuracy: 0.242   Val loss: 0.3051   Val accuracy: 0.392    weighted Val loss: 0.3462\n",
      "Epoch: 135   Train loss: 0.2517   Train accuracy: 0.23   Val loss: 0.3048   Val accuracy: 0.401    weighted Val loss: 0.3462\n",
      "0.401 ----------saved-----------\n",
      "Epoch: 136   Train loss: 0.2542   Train accuracy: 0.224   Val loss: 0.3039   Val accuracy: 0.396    weighted Val loss: 0.3461\n",
      "Epoch: 137   Train loss: 0.2526   Train accuracy: 0.241   Val loss: 0.305   Val accuracy: 0.394    weighted Val loss: 0.3461\n",
      "Epoch: 138   Train loss: 0.2547   Train accuracy: 0.225   Val loss: 0.305   Val accuracy: 0.392    weighted Val loss: 0.3461\n",
      "Epoch: 139   Train loss: 0.2535   Train accuracy: 0.219   Val loss: 0.3048   Val accuracy: 0.388    weighted Val loss: 0.346\n",
      "Epoch: 140   Train loss: 0.2515   Train accuracy: 0.238   Val loss: 0.3056   Val accuracy: 0.393    weighted Val loss: 0.346\n",
      "Epoch: 141   Train loss: 0.2551   Train accuracy: 0.227   Val loss: 0.3039   Val accuracy: 0.395    weighted Val loss: 0.3459\n",
      "Epoch: 142   Train loss: 0.2535   Train accuracy: 0.229   Val loss: 0.3044   Val accuracy: 0.398    weighted Val loss: 0.3459\n",
      "Epoch: 143   Train loss: 0.252   Train accuracy: 0.238   Val loss: 0.3036   Val accuracy: 0.4    weighted Val loss: 0.3458\n",
      "Epoch: 144   Train loss: 0.2547   Train accuracy: 0.239   Val loss: 0.3054   Val accuracy: 0.393    weighted Val loss: 0.3458\n",
      "Epoch: 145   Train loss: 0.2533   Train accuracy: 0.232   Val loss: 0.3049   Val accuracy: 0.395    weighted Val loss: 0.3458\n",
      "Epoch: 146   Train loss: 0.2529   Train accuracy: 0.243   Val loss: 0.3044   Val accuracy: 0.387    weighted Val loss: 0.3457\n",
      "Epoch: 147   Train loss: 0.252   Train accuracy: 0.253   Val loss: 0.3048   Val accuracy: 0.387    weighted Val loss: 0.3457\n",
      "Epoch: 148   Train loss: 0.2529   Train accuracy: 0.235   Val loss: 0.3062   Val accuracy: 0.39    weighted Val loss: 0.3456\n",
      "Epoch: 149   Train loss: 0.2539   Train accuracy: 0.227   Val loss: 0.3067   Val accuracy: 0.4    weighted Val loss: 0.3456\n",
      "Epoch: 150   Train loss: 0.2535   Train accuracy: 0.227   Val loss: 0.3039   Val accuracy: 0.395    weighted Val loss: 0.3456\n",
      "Epoch: 151   Train loss: 0.254   Train accuracy: 0.226   Val loss: 0.3073   Val accuracy: 0.395    weighted Val loss: 0.3455\n",
      "Epoch: 152   Train loss: 0.2514   Train accuracy: 0.239   Val loss: 0.3059   Val accuracy: 0.394    weighted Val loss: 0.3455\n",
      "Epoch: 153   Train loss: 0.2549   Train accuracy: 0.221   Val loss: 0.3034   Val accuracy: 0.394    weighted Val loss: 0.3454\n",
      "Epoch: 154   Train loss: 0.2516   Train accuracy: 0.244   Val loss: 0.3059   Val accuracy: 0.4    weighted Val loss: 0.3454\n",
      "Epoch: 155   Train loss: 0.2538   Train accuracy: 0.235   Val loss: 0.3075   Val accuracy: 0.395    weighted Val loss: 0.3454\n",
      "Epoch: 156   Train loss: 0.2523   Train accuracy: 0.236   Val loss: 0.3045   Val accuracy: 0.389    weighted Val loss: 0.3453\n",
      "Epoch: 157   Train loss: 0.2535   Train accuracy: 0.226   Val loss: 0.3051   Val accuracy: 0.398    weighted Val loss: 0.3453\n",
      "Epoch: 158   Train loss: 0.2523   Train accuracy: 0.227   Val loss: 0.3049   Val accuracy: 0.394    weighted Val loss: 0.3452\n",
      "Epoch: 159   Train loss: 0.2513   Train accuracy: 0.249   Val loss: 0.3045   Val accuracy: 0.393    weighted Val loss: 0.3452\n",
      "Epoch: 160   Train loss: 0.2544   Train accuracy: 0.229   Val loss: 0.3043   Val accuracy: 0.389    weighted Val loss: 0.3452\n",
      "Epoch: 161   Train loss: 0.2521   Train accuracy: 0.235   Val loss: 0.3079   Val accuracy: 0.393    weighted Val loss: 0.3451\n",
      "Epoch: 162   Train loss: 0.2514   Train accuracy: 0.239   Val loss: 0.3054   Val accuracy: 0.384    weighted Val loss: 0.3451\n",
      "Epoch: 163   Train loss: 0.2496   Train accuracy: 0.243   Val loss: 0.3047   Val accuracy: 0.387    weighted Val loss: 0.345\n",
      "Epoch: 164   Train loss: 0.2522   Train accuracy: 0.232   Val loss: 0.3024   Val accuracy: 0.391    weighted Val loss: 0.345\n",
      "Epoch: 165   Train loss: 0.2526   Train accuracy: 0.234   Val loss: 0.3044   Val accuracy: 0.393    weighted Val loss: 0.345\n",
      "Epoch: 166   Train loss: 0.2547   Train accuracy: 0.243   Val loss: 0.3043   Val accuracy: 0.392    weighted Val loss: 0.3449\n",
      "Epoch: 167   Train loss: 0.2521   Train accuracy: 0.241   Val loss: 0.3024   Val accuracy: 0.402    weighted Val loss: 0.3449\n",
      "0.402 ----------saved-----------\n",
      "Epoch: 168   Train loss: 0.2514   Train accuracy: 0.246   Val loss: 0.3038   Val accuracy: 0.389    weighted Val loss: 0.3448\n",
      "Epoch: 169   Train loss: 0.2513   Train accuracy: 0.238   Val loss: 0.307   Val accuracy: 0.392    weighted Val loss: 0.3448\n",
      "Epoch: 170   Train loss: 0.2531   Train accuracy: 0.223   Val loss: 0.3065   Val accuracy: 0.391    weighted Val loss: 0.3448\n",
      "Epoch: 171   Train loss: 0.2534   Train accuracy: 0.222   Val loss: 0.3069   Val accuracy: 0.391    weighted Val loss: 0.3447\n",
      "Epoch: 172   Train loss: 0.2573   Train accuracy: 0.221   Val loss: 0.3054   Val accuracy: 0.39    weighted Val loss: 0.3447\n",
      "Epoch: 173   Train loss: 0.2539   Train accuracy: 0.241   Val loss: 0.3036   Val accuracy: 0.394    weighted Val loss: 0.3446\n",
      "Epoch: 174   Train loss: 0.2542   Train accuracy: 0.233   Val loss: 0.3048   Val accuracy: 0.394    weighted Val loss: 0.3446\n",
      "Epoch: 175   Train loss: 0.252   Train accuracy: 0.233   Val loss: 0.3078   Val accuracy: 0.392    weighted Val loss: 0.3446\n",
      "Epoch: 176   Train loss: 0.2508   Train accuracy: 0.246   Val loss: 0.3078   Val accuracy: 0.391    weighted Val loss: 0.3445\n",
      "Epoch: 177   Train loss: 0.2532   Train accuracy: 0.235   Val loss: 0.307   Val accuracy: 0.387    weighted Val loss: 0.3445\n",
      "Epoch: 178   Train loss: 0.2517   Train accuracy: 0.23   Val loss: 0.3051   Val accuracy: 0.391    weighted Val loss: 0.3444\n",
      "Epoch: 179   Train loss: 0.2533   Train accuracy: 0.229   Val loss: 0.3028   Val accuracy: 0.391    weighted Val loss: 0.3444\n",
      "Epoch: 180   Train loss: 0.2532   Train accuracy: 0.246   Val loss: 0.3042   Val accuracy: 0.392    weighted Val loss: 0.3444\n",
      "Epoch: 181   Train loss: 0.2508   Train accuracy: 0.243   Val loss: 0.3079   Val accuracy: 0.392    weighted Val loss: 0.3443\n",
      "Epoch: 182   Train loss: 0.2529   Train accuracy: 0.232   Val loss: 0.3054   Val accuracy: 0.394    weighted Val loss: 0.3443\n",
      "Epoch: 183   Train loss: 0.2529   Train accuracy: 0.24   Val loss: 0.3037   Val accuracy: 0.392    weighted Val loss: 0.3443\n",
      "Epoch: 184   Train loss: 0.2528   Train accuracy: 0.233   Val loss: 0.3085   Val accuracy: 0.386    weighted Val loss: 0.3442\n",
      "Epoch: 185   Train loss: 0.2525   Train accuracy: 0.238   Val loss: 0.3075   Val accuracy: 0.39    weighted Val loss: 0.3442\n",
      "Epoch: 186   Train loss: 0.2518   Train accuracy: 0.224   Val loss: 0.3088   Val accuracy: 0.386    weighted Val loss: 0.3441\n",
      "Epoch: 187   Train loss: 0.2528   Train accuracy: 0.225   Val loss: 0.3035   Val accuracy: 0.401    weighted Val loss: 0.3441\n",
      "Epoch: 188   Train loss: 0.2532   Train accuracy: 0.223   Val loss: 0.3069   Val accuracy: 0.389    weighted Val loss: 0.3441\n",
      "Epoch: 189   Train loss: 0.2526   Train accuracy: 0.234   Val loss: 0.3034   Val accuracy: 0.4    weighted Val loss: 0.344\n",
      "Epoch: 190   Train loss: 0.253   Train accuracy: 0.246   Val loss: 0.3049   Val accuracy: 0.391    weighted Val loss: 0.344\n",
      "Epoch: 191   Train loss: 0.2547   Train accuracy: 0.226   Val loss: 0.3064   Val accuracy: 0.391    weighted Val loss: 0.3439\n",
      "Epoch: 192   Train loss: 0.2514   Train accuracy: 0.231   Val loss: 0.3072   Val accuracy: 0.393    weighted Val loss: 0.3439\n",
      "Epoch: 193   Train loss: 0.2528   Train accuracy: 0.239   Val loss: 0.3039   Val accuracy: 0.391    weighted Val loss: 0.3439\n",
      "Epoch: 194   Train loss: 0.2523   Train accuracy: 0.239   Val loss: 0.3061   Val accuracy: 0.398    weighted Val loss: 0.3438\n",
      "Epoch: 195   Train loss: 0.2527   Train accuracy: 0.232   Val loss: 0.31   Val accuracy: 0.391    weighted Val loss: 0.3438\n",
      "Epoch: 196   Train loss: 0.2543   Train accuracy: 0.24   Val loss: 0.3033   Val accuracy: 0.398    weighted Val loss: 0.3438\n",
      "Epoch: 197   Train loss: 0.2521   Train accuracy: 0.246   Val loss: 0.3054   Val accuracy: 0.39    weighted Val loss: 0.3437\n",
      "Epoch: 198   Train loss: 0.251   Train accuracy: 0.242   Val loss: 0.3033   Val accuracy: 0.4    weighted Val loss: 0.3437\n",
      "Epoch: 199   Train loss: 0.2494   Train accuracy: 0.241   Val loss: 0.3054   Val accuracy: 0.388    weighted Val loss: 0.3436\n",
      "Epoch: 200   Train loss: 0.2512   Train accuracy: 0.237   Val loss: 0.3079   Val accuracy: 0.392    weighted Val loss: 0.3436\n",
      "Epoch: 201   Train loss: 0.2518   Train accuracy: 0.247   Val loss: 0.3051   Val accuracy: 0.393    weighted Val loss: 0.3436\n",
      "Epoch: 202   Train loss: 0.2531   Train accuracy: 0.228   Val loss: 0.3046   Val accuracy: 0.393    weighted Val loss: 0.3435\n",
      "Epoch: 203   Train loss: 0.2498   Train accuracy: 0.253   Val loss: 0.3057   Val accuracy: 0.395    weighted Val loss: 0.3435\n",
      "Epoch: 204   Train loss: 0.25   Train accuracy: 0.26   Val loss: 0.3048   Val accuracy: 0.39    weighted Val loss: 0.3435\n",
      "Epoch: 205   Train loss: 0.2523   Train accuracy: 0.238   Val loss: 0.3046   Val accuracy: 0.394    weighted Val loss: 0.3434\n",
      "Epoch: 206   Train loss: 0.2524   Train accuracy: 0.23   Val loss: 0.3042   Val accuracy: 0.394    weighted Val loss: 0.3434\n",
      "Epoch: 207   Train loss: 0.2522   Train accuracy: 0.222   Val loss: 0.3048   Val accuracy: 0.396    weighted Val loss: 0.3433\n",
      "Epoch: 208   Train loss: 0.2503   Train accuracy: 0.259   Val loss: 0.3045   Val accuracy: 0.396    weighted Val loss: 0.3433\n",
      "Epoch: 209   Train loss: 0.2522   Train accuracy: 0.249   Val loss: 0.3031   Val accuracy: 0.394    weighted Val loss: 0.3433\n",
      "Epoch: 210   Train loss: 0.254   Train accuracy: 0.237   Val loss: 0.306   Val accuracy: 0.389    weighted Val loss: 0.3432\n",
      "Epoch: 211   Train loss: 0.2517   Train accuracy: 0.247   Val loss: 0.3061   Val accuracy: 0.391    weighted Val loss: 0.3432\n",
      "Epoch: 212   Train loss: 0.2511   Train accuracy: 0.237   Val loss: 0.3042   Val accuracy: 0.388    weighted Val loss: 0.3431\n",
      "Epoch: 213   Train loss: 0.2533   Train accuracy: 0.243   Val loss: 0.3058   Val accuracy: 0.394    weighted Val loss: 0.3431\n",
      "Epoch: 214   Train loss: 0.2531   Train accuracy: 0.229   Val loss: 0.304   Val accuracy: 0.394    weighted Val loss: 0.3431\n",
      "Epoch: 215   Train loss: 0.2519   Train accuracy: 0.229   Val loss: 0.3055   Val accuracy: 0.392    weighted Val loss: 0.343\n",
      "Epoch: 216   Train loss: 0.2515   Train accuracy: 0.237   Val loss: 0.3039   Val accuracy: 0.393    weighted Val loss: 0.343\n",
      "Epoch: 217   Train loss: 0.2532   Train accuracy: 0.236   Val loss: 0.3072   Val accuracy: 0.397    weighted Val loss: 0.343\n",
      "Epoch: 218   Train loss: 0.2521   Train accuracy: 0.25   Val loss: 0.3048   Val accuracy: 0.392    weighted Val loss: 0.3429\n",
      "Epoch: 219   Train loss: 0.2532   Train accuracy: 0.241   Val loss: 0.3061   Val accuracy: 0.394    weighted Val loss: 0.3429\n",
      "Epoch: 220   Train loss: 0.2522   Train accuracy: 0.247   Val loss: 0.3064   Val accuracy: 0.396    weighted Val loss: 0.3428\n",
      "Epoch: 221   Train loss: 0.253   Train accuracy: 0.251   Val loss: 0.3057   Val accuracy: 0.394    weighted Val loss: 0.3428\n",
      "Epoch: 222   Train loss: 0.2534   Train accuracy: 0.227   Val loss: 0.3052   Val accuracy: 0.392    weighted Val loss: 0.3428\n",
      "Epoch: 223   Train loss: 0.2517   Train accuracy: 0.225   Val loss: 0.3032   Val accuracy: 0.394    weighted Val loss: 0.3427\n",
      "Epoch: 224   Train loss: 0.2531   Train accuracy: 0.248   Val loss: 0.3026   Val accuracy: 0.395    weighted Val loss: 0.3427\n",
      "Epoch: 225   Train loss: 0.2541   Train accuracy: 0.223   Val loss: 0.3046   Val accuracy: 0.393    weighted Val loss: 0.3427\n",
      "Epoch: 226   Train loss: 0.2532   Train accuracy: 0.237   Val loss: 0.3073   Val accuracy: 0.396    weighted Val loss: 0.3426\n",
      "Epoch: 227   Train loss: 0.2511   Train accuracy: 0.242   Val loss: 0.3049   Val accuracy: 0.392    weighted Val loss: 0.3426\n",
      "Epoch: 228   Train loss: 0.2537   Train accuracy: 0.244   Val loss: 0.3046   Val accuracy: 0.398    weighted Val loss: 0.3425\n",
      "Epoch: 229   Train loss: 0.2505   Train accuracy: 0.269   Val loss: 0.3088   Val accuracy: 0.4    weighted Val loss: 0.3425\n",
      "Epoch: 230   Train loss: 0.2548   Train accuracy: 0.232   Val loss: 0.3048   Val accuracy: 0.394    weighted Val loss: 0.3425\n",
      "Epoch: 231   Train loss: 0.2544   Train accuracy: 0.23   Val loss: 0.3071   Val accuracy: 0.396    weighted Val loss: 0.3424\n",
      "Epoch: 232   Train loss: 0.2501   Train accuracy: 0.241   Val loss: 0.3034   Val accuracy: 0.398    weighted Val loss: 0.3424\n",
      "Epoch: 233   Train loss: 0.2519   Train accuracy: 0.25   Val loss: 0.3057   Val accuracy: 0.392    weighted Val loss: 0.3424\n",
      "Epoch: 234   Train loss: 0.2512   Train accuracy: 0.226   Val loss: 0.307   Val accuracy: 0.388    weighted Val loss: 0.3423\n",
      "Epoch: 235   Train loss: 0.2529   Train accuracy: 0.229   Val loss: 0.3056   Val accuracy: 0.389    weighted Val loss: 0.3423\n",
      "Epoch: 236   Train loss: 0.2534   Train accuracy: 0.238   Val loss: 0.311   Val accuracy: 0.388    weighted Val loss: 0.3423\n",
      "Epoch: 237   Train loss: 0.2501   Train accuracy: 0.239   Val loss: 0.3061   Val accuracy: 0.392    weighted Val loss: 0.3422\n",
      "Epoch: 238   Train loss: 0.253   Train accuracy: 0.233   Val loss: 0.3061   Val accuracy: 0.399    weighted Val loss: 0.3422\n",
      "Epoch: 239   Train loss: 0.251   Train accuracy: 0.245   Val loss: 0.3042   Val accuracy: 0.395    weighted Val loss: 0.3421\n",
      "Epoch: 240   Train loss: 0.2554   Train accuracy: 0.235   Val loss: 0.3027   Val accuracy: 0.405    weighted Val loss: 0.3421\n",
      "0.405 ----------saved-----------\n",
      "Epoch: 241   Train loss: 0.2511   Train accuracy: 0.243   Val loss: 0.3064   Val accuracy: 0.39    weighted Val loss: 0.3421\n",
      "Epoch: 242   Train loss: 0.254   Train accuracy: 0.251   Val loss: 0.308   Val accuracy: 0.393    weighted Val loss: 0.342\n",
      "Epoch: 243   Train loss: 0.2534   Train accuracy: 0.213   Val loss: 0.3036   Val accuracy: 0.395    weighted Val loss: 0.342\n",
      "Epoch: 244   Train loss: 0.2541   Train accuracy: 0.241   Val loss: 0.3039   Val accuracy: 0.393    weighted Val loss: 0.342\n",
      "Epoch: 245   Train loss: 0.2534   Train accuracy: 0.231   Val loss: 0.3081   Val accuracy: 0.398    weighted Val loss: 0.3419\n",
      "Epoch: 246   Train loss: 0.2535   Train accuracy: 0.228   Val loss: 0.3029   Val accuracy: 0.404    weighted Val loss: 0.3419\n",
      "Epoch: 247   Train loss: 0.255   Train accuracy: 0.22   Val loss: 0.3059   Val accuracy: 0.395    weighted Val loss: 0.3418\n",
      "Epoch: 248   Train loss: 0.2533   Train accuracy: 0.251   Val loss: 0.3038   Val accuracy: 0.393    weighted Val loss: 0.3418\n",
      "Epoch: 249   Train loss: 0.2523   Train accuracy: 0.225   Val loss: 0.3071   Val accuracy: 0.391    weighted Val loss: 0.3418\n",
      "Epoch: 250   Train loss: 0.2542   Train accuracy: 0.248   Val loss: 0.3053   Val accuracy: 0.394    weighted Val loss: 0.3417\n",
      "Epoch: 251   Train loss: 0.2535   Train accuracy: 0.224   Val loss: 0.3024   Val accuracy: 0.395    weighted Val loss: 0.3417\n",
      "Epoch: 252   Train loss: 0.2538   Train accuracy: 0.24   Val loss: 0.3069   Val accuracy: 0.39    weighted Val loss: 0.3417\n",
      "Epoch: 253   Train loss: 0.2497   Train accuracy: 0.237   Val loss: 0.3055   Val accuracy: 0.391    weighted Val loss: 0.3416\n",
      "Epoch: 254   Train loss: 0.2525   Train accuracy: 0.235   Val loss: 0.302   Val accuracy: 0.397    weighted Val loss: 0.3416\n",
      "Epoch: 255   Train loss: 0.2544   Train accuracy: 0.231   Val loss: 0.3043   Val accuracy: 0.391    weighted Val loss: 0.3416\n",
      "Epoch: 256   Train loss: 0.2532   Train accuracy: 0.245   Val loss: 0.3049   Val accuracy: 0.392    weighted Val loss: 0.3415\n",
      "Epoch: 257   Train loss: 0.2535   Train accuracy: 0.228   Val loss: 0.3057   Val accuracy: 0.389    weighted Val loss: 0.3415\n",
      "Epoch: 258   Train loss: 0.2515   Train accuracy: 0.239   Val loss: 0.305   Val accuracy: 0.393    weighted Val loss: 0.3414\n",
      "Epoch: 259   Train loss: 0.2528   Train accuracy: 0.237   Val loss: 0.3067   Val accuracy: 0.396    weighted Val loss: 0.3414\n",
      "Epoch: 260   Train loss: 0.2515   Train accuracy: 0.247   Val loss: 0.3069   Val accuracy: 0.392    weighted Val loss: 0.3414\n",
      "Epoch: 261   Train loss: 0.2515   Train accuracy: 0.226   Val loss: 0.31   Val accuracy: 0.391    weighted Val loss: 0.3413\n",
      "Epoch: 262   Train loss: 0.2523   Train accuracy: 0.222   Val loss: 0.3051   Val accuracy: 0.389    weighted Val loss: 0.3413\n",
      "Epoch: 263   Train loss: 0.2533   Train accuracy: 0.237   Val loss: 0.3053   Val accuracy: 0.394    weighted Val loss: 0.3413\n",
      "Epoch: 264   Train loss: 0.2534   Train accuracy: 0.224   Val loss: 0.3044   Val accuracy: 0.394    weighted Val loss: 0.3412\n",
      "Epoch: 265   Train loss: 0.252   Train accuracy: 0.243   Val loss: 0.3033   Val accuracy: 0.404    weighted Val loss: 0.3412\n",
      "Epoch: 266   Train loss: 0.2502   Train accuracy: 0.247   Val loss: 0.3092   Val accuracy: 0.386    weighted Val loss: 0.3412\n",
      "Epoch: 267   Train loss: 0.2524   Train accuracy: 0.239   Val loss: 0.3093   Val accuracy: 0.384    weighted Val loss: 0.3411\n",
      "Epoch: 268   Train loss: 0.2521   Train accuracy: 0.234   Val loss: 0.3058   Val accuracy: 0.388    weighted Val loss: 0.3411\n",
      "Epoch: 269   Train loss: 0.251   Train accuracy: 0.243   Val loss: 0.3053   Val accuracy: 0.388    weighted Val loss: 0.3411\n",
      "Epoch: 270   Train loss: 0.252   Train accuracy: 0.23   Val loss: 0.3054   Val accuracy: 0.385    weighted Val loss: 0.341\n",
      "Epoch: 271   Train loss: 0.254   Train accuracy: 0.229   Val loss: 0.304   Val accuracy: 0.387    weighted Val loss: 0.341\n",
      "Epoch: 272   Train loss: 0.2517   Train accuracy: 0.233   Val loss: 0.3063   Val accuracy: 0.385    weighted Val loss: 0.341\n",
      "Epoch: 273   Train loss: 0.2524   Train accuracy: 0.24   Val loss: 0.3079   Val accuracy: 0.387    weighted Val loss: 0.3409\n",
      "Epoch: 274   Train loss: 0.2521   Train accuracy: 0.229   Val loss: 0.3085   Val accuracy: 0.389    weighted Val loss: 0.3409\n",
      "Epoch: 275   Train loss: 0.2546   Train accuracy: 0.246   Val loss: 0.3058   Val accuracy: 0.389    weighted Val loss: 0.3409\n",
      "Epoch: 276   Train loss: 0.2527   Train accuracy: 0.241   Val loss: 0.3027   Val accuracy: 0.402    weighted Val loss: 0.3408\n",
      "Epoch: 277   Train loss: 0.256   Train accuracy: 0.225   Val loss: 0.3051   Val accuracy: 0.393    weighted Val loss: 0.3408\n",
      "Epoch: 278   Train loss: 0.2534   Train accuracy: 0.24   Val loss: 0.3079   Val accuracy: 0.398    weighted Val loss: 0.3407\n",
      "Epoch: 279   Train loss: 0.251   Train accuracy: 0.25   Val loss: 0.3082   Val accuracy: 0.392    weighted Val loss: 0.3407\n",
      "Epoch: 280   Train loss: 0.2534   Train accuracy: 0.218   Val loss: 0.3109   Val accuracy: 0.391    weighted Val loss: 0.3407\n",
      "Epoch: 281   Train loss: 0.2514   Train accuracy: 0.236   Val loss: 0.3059   Val accuracy: 0.391    weighted Val loss: 0.3406\n",
      "Epoch: 282   Train loss: 0.2518   Train accuracy: 0.245   Val loss: 0.3072   Val accuracy: 0.391    weighted Val loss: 0.3406\n",
      "Epoch: 283   Train loss: 0.2513   Train accuracy: 0.226   Val loss: 0.3038   Val accuracy: 0.389    weighted Val loss: 0.3406\n",
      "Epoch: 284   Train loss: 0.2521   Train accuracy: 0.25   Val loss: 0.3047   Val accuracy: 0.387    weighted Val loss: 0.3405\n",
      "Epoch: 285   Train loss: 0.2541   Train accuracy: 0.228   Val loss: 0.3046   Val accuracy: 0.388    weighted Val loss: 0.3405\n",
      "Epoch: 286   Train loss: 0.2547   Train accuracy: 0.217   Val loss: 0.3048   Val accuracy: 0.387    weighted Val loss: 0.3405\n",
      "Epoch: 287   Train loss: 0.2527   Train accuracy: 0.232   Val loss: 0.3091   Val accuracy: 0.388    weighted Val loss: 0.3404\n",
      "Epoch: 288   Train loss: 0.2513   Train accuracy: 0.237   Val loss: 0.3046   Val accuracy: 0.395    weighted Val loss: 0.3404\n",
      "Epoch: 289   Train loss: 0.2537   Train accuracy: 0.223   Val loss: 0.3044   Val accuracy: 0.386    weighted Val loss: 0.3404\n",
      "Epoch: 290   Train loss: 0.2523   Train accuracy: 0.258   Val loss: 0.3043   Val accuracy: 0.388    weighted Val loss: 0.3403\n",
      "Epoch: 291   Train loss: 0.2506   Train accuracy: 0.235   Val loss: 0.3058   Val accuracy: 0.391    weighted Val loss: 0.3403\n",
      "Epoch: 292   Train loss: 0.2507   Train accuracy: 0.239   Val loss: 0.3094   Val accuracy: 0.396    weighted Val loss: 0.3403\n",
      "Epoch: 293   Train loss: 0.2529   Train accuracy: 0.225   Val loss: 0.3053   Val accuracy: 0.388    weighted Val loss: 0.3402\n",
      "Epoch: 294   Train loss: 0.2517   Train accuracy: 0.239   Val loss: 0.3099   Val accuracy: 0.392    weighted Val loss: 0.3402\n",
      "Epoch: 295   Train loss: 0.2508   Train accuracy: 0.243   Val loss: 0.3086   Val accuracy: 0.39    weighted Val loss: 0.3402\n",
      "Epoch: 296   Train loss: 0.2504   Train accuracy: 0.251   Val loss: 0.305   Val accuracy: 0.392    weighted Val loss: 0.3401\n",
      "Epoch: 297   Train loss: 0.2519   Train accuracy: 0.24   Val loss: 0.3051   Val accuracy: 0.387    weighted Val loss: 0.3401\n",
      "Epoch: 298   Train loss: 0.2517   Train accuracy: 0.261   Val loss: 0.3046   Val accuracy: 0.392    weighted Val loss: 0.3401\n",
      "Epoch: 299   Train loss: 0.2526   Train accuracy: 0.257   Val loss: 0.3057   Val accuracy: 0.396    weighted Val loss: 0.34\n",
      "Epoch: 300   Train loss: 0.2547   Train accuracy: 0.232   Val loss: 0.3067   Val accuracy: 0.394    weighted Val loss: 0.34\n",
      "Epoch: 301   Train loss: 0.2503   Train accuracy: 0.251   Val loss: 0.307   Val accuracy: 0.392    weighted Val loss: 0.34\n",
      "Epoch: 302   Train loss: 0.2525   Train accuracy: 0.241   Val loss: 0.3077   Val accuracy: 0.399    weighted Val loss: 0.3399\n",
      "Epoch: 303   Train loss: 0.2526   Train accuracy: 0.231   Val loss: 0.3059   Val accuracy: 0.394    weighted Val loss: 0.3399\n",
      "Epoch: 304   Train loss: 0.2524   Train accuracy: 0.227   Val loss: 0.3036   Val accuracy: 0.401    weighted Val loss: 0.3399\n",
      "Epoch: 305   Train loss: 0.2528   Train accuracy: 0.226   Val loss: 0.306   Val accuracy: 0.393    weighted Val loss: 0.3398\n",
      "Epoch: 306   Train loss: 0.2522   Train accuracy: 0.239   Val loss: 0.3102   Val accuracy: 0.395    weighted Val loss: 0.3398\n",
      "Epoch: 307   Train loss: 0.2523   Train accuracy: 0.23   Val loss: 0.3048   Val accuracy: 0.392    weighted Val loss: 0.3398\n",
      "Epoch: 308   Train loss: 0.2534   Train accuracy: 0.214   Val loss: 0.304   Val accuracy: 0.394    weighted Val loss: 0.3397\n",
      "Epoch: 309   Train loss: 0.2515   Train accuracy: 0.251   Val loss: 0.3087   Val accuracy: 0.389    weighted Val loss: 0.3397\n",
      "Epoch: 310   Train loss: 0.2532   Train accuracy: 0.242   Val loss: 0.3055   Val accuracy: 0.388    weighted Val loss: 0.3397\n",
      "Epoch: 311   Train loss: 0.2516   Train accuracy: 0.234   Val loss: 0.3037   Val accuracy: 0.396    weighted Val loss: 0.3396\n",
      "Epoch: 312   Train loss: 0.2546   Train accuracy: 0.224   Val loss: 0.3066   Val accuracy: 0.391    weighted Val loss: 0.3396\n",
      "Epoch: 313   Train loss: 0.2524   Train accuracy: 0.236   Val loss: 0.3065   Val accuracy: 0.397    weighted Val loss: 0.3396\n",
      "Epoch: 314   Train loss: 0.2529   Train accuracy: 0.235   Val loss: 0.309   Val accuracy: 0.395    weighted Val loss: 0.3395\n",
      "Epoch: 315   Train loss: 0.2538   Train accuracy: 0.227   Val loss: 0.3086   Val accuracy: 0.393    weighted Val loss: 0.3395\n",
      "Epoch: 316   Train loss: 0.2523   Train accuracy: 0.228   Val loss: 0.3067   Val accuracy: 0.389    weighted Val loss: 0.3395\n",
      "Epoch: 317   Train loss: 0.2551   Train accuracy: 0.24   Val loss: 0.3068   Val accuracy: 0.391    weighted Val loss: 0.3394\n",
      "Epoch: 318   Train loss: 0.2521   Train accuracy: 0.244   Val loss: 0.3055   Val accuracy: 0.392    weighted Val loss: 0.3394\n",
      "Epoch: 319   Train loss: 0.2528   Train accuracy: 0.218   Val loss: 0.3053   Val accuracy: 0.392    weighted Val loss: 0.3394\n",
      "Epoch: 320   Train loss: 0.2506   Train accuracy: 0.234   Val loss: 0.3032   Val accuracy: 0.393    weighted Val loss: 0.3393\n",
      "Epoch: 321   Train loss: 0.2524   Train accuracy: 0.236   Val loss: 0.3043   Val accuracy: 0.388    weighted Val loss: 0.3393\n",
      "Epoch: 322   Train loss: 0.2532   Train accuracy: 0.243   Val loss: 0.3053   Val accuracy: 0.388    weighted Val loss: 0.3393\n",
      "Epoch: 323   Train loss: 0.2514   Train accuracy: 0.239   Val loss: 0.3041   Val accuracy: 0.391    weighted Val loss: 0.3392\n",
      "Epoch: 324   Train loss: 0.2535   Train accuracy: 0.229   Val loss: 0.3064   Val accuracy: 0.391    weighted Val loss: 0.3392\n",
      "Epoch: 325   Train loss: 0.2523   Train accuracy: 0.232   Val loss: 0.3067   Val accuracy: 0.395    weighted Val loss: 0.3392\n",
      "Epoch: 326   Train loss: 0.2528   Train accuracy: 0.244   Val loss: 0.3039   Val accuracy: 0.394    weighted Val loss: 0.3391\n",
      "Epoch: 327   Train loss: 0.2551   Train accuracy: 0.226   Val loss: 0.3041   Val accuracy: 0.391    weighted Val loss: 0.3391\n",
      "Epoch: 328   Train loss: 0.2518   Train accuracy: 0.24   Val loss: 0.3042   Val accuracy: 0.394    weighted Val loss: 0.3391\n",
      "Epoch: 329   Train loss: 0.2532   Train accuracy: 0.235   Val loss: 0.3062   Val accuracy: 0.401    weighted Val loss: 0.339\n",
      "Epoch: 330   Train loss: 0.2521   Train accuracy: 0.227   Val loss: 0.3031   Val accuracy: 0.391    weighted Val loss: 0.339\n",
      "Epoch: 331   Train loss: 0.2517   Train accuracy: 0.25   Val loss: 0.3043   Val accuracy: 0.395    weighted Val loss: 0.3389\n",
      "Epoch: 332   Train loss: 0.2498   Train accuracy: 0.245   Val loss: 0.3064   Val accuracy: 0.4    weighted Val loss: 0.3389\n",
      "Epoch: 333   Train loss: 0.2507   Train accuracy: 0.257   Val loss: 0.3026   Val accuracy: 0.398    weighted Val loss: 0.3389\n",
      "Epoch: 334   Train loss: 0.2499   Train accuracy: 0.245   Val loss: 0.3051   Val accuracy: 0.395    weighted Val loss: 0.3388\n",
      "Epoch: 335   Train loss: 0.2548   Train accuracy: 0.24   Val loss: 0.3058   Val accuracy: 0.396    weighted Val loss: 0.3388\n",
      "Epoch: 336   Train loss: 0.2512   Train accuracy: 0.252   Val loss: 0.3051   Val accuracy: 0.397    weighted Val loss: 0.3388\n",
      "Epoch: 337   Train loss: 0.2534   Train accuracy: 0.244   Val loss: 0.3041   Val accuracy: 0.389    weighted Val loss: 0.3387\n",
      "Epoch: 338   Train loss: 0.2516   Train accuracy: 0.248   Val loss: 0.3058   Val accuracy: 0.392    weighted Val loss: 0.3387\n",
      "Epoch: 339   Train loss: 0.2508   Train accuracy: 0.25   Val loss: 0.3092   Val accuracy: 0.395    weighted Val loss: 0.3387\n",
      "Epoch: 340   Train loss: 0.2531   Train accuracy: 0.238   Val loss: 0.3067   Val accuracy: 0.392    weighted Val loss: 0.3387\n",
      "Epoch: 341   Train loss: 0.2519   Train accuracy: 0.234   Val loss: 0.3045   Val accuracy: 0.388    weighted Val loss: 0.3386\n",
      "Epoch: 342   Train loss: 0.2523   Train accuracy: 0.233   Val loss: 0.3037   Val accuracy: 0.397    weighted Val loss: 0.3386\n",
      "Epoch: 343   Train loss: 0.2533   Train accuracy: 0.239   Val loss: 0.3024   Val accuracy: 0.407    weighted Val loss: 0.3385\n",
      "0.407 ----------saved-----------\n",
      "Epoch: 344   Train loss: 0.2525   Train accuracy: 0.243   Val loss: 0.3028   Val accuracy: 0.4    weighted Val loss: 0.3385\n",
      "Epoch: 345   Train loss: 0.2525   Train accuracy: 0.249   Val loss: 0.3059   Val accuracy: 0.397    weighted Val loss: 0.3385\n",
      "Epoch: 346   Train loss: 0.2517   Train accuracy: 0.249   Val loss: 0.3068   Val accuracy: 0.397    weighted Val loss: 0.3384\n",
      "Epoch: 347   Train loss: 0.2534   Train accuracy: 0.224   Val loss: 0.3038   Val accuracy: 0.393    weighted Val loss: 0.3384\n",
      "Epoch: 348   Train loss: 0.2526   Train accuracy: 0.238   Val loss: 0.3062   Val accuracy: 0.393    weighted Val loss: 0.3384\n",
      "Epoch: 349   Train loss: 0.2549   Train accuracy: 0.224   Val loss: 0.3071   Val accuracy: 0.399    weighted Val loss: 0.3383\n",
      "Epoch: 350   Train loss: 0.2504   Train accuracy: 0.253   Val loss: 0.3064   Val accuracy: 0.395    weighted Val loss: 0.3383\n",
      "Epoch: 351   Train loss: 0.2512   Train accuracy: 0.235   Val loss: 0.3025   Val accuracy: 0.4    weighted Val loss: 0.3383\n",
      "Epoch: 352   Train loss: 0.2542   Train accuracy: 0.227   Val loss: 0.3019   Val accuracy: 0.402    weighted Val loss: 0.3382\n",
      "Epoch: 353   Train loss: 0.2548   Train accuracy: 0.24   Val loss: 0.3046   Val accuracy: 0.4    weighted Val loss: 0.3382\n",
      "Epoch: 354   Train loss: 0.2533   Train accuracy: 0.242   Val loss: 0.3051   Val accuracy: 0.396    weighted Val loss: 0.3382\n",
      "Epoch: 355   Train loss: 0.2538   Train accuracy: 0.234   Val loss: 0.307   Val accuracy: 0.391    weighted Val loss: 0.3381\n",
      "Epoch: 356   Train loss: 0.2511   Train accuracy: 0.24   Val loss: 0.3046   Val accuracy: 0.395    weighted Val loss: 0.3381\n",
      "Epoch: 357   Train loss: 0.2532   Train accuracy: 0.236   Val loss: 0.308   Val accuracy: 0.389    weighted Val loss: 0.3381\n",
      "Epoch: 358   Train loss: 0.2521   Train accuracy: 0.251   Val loss: 0.3078   Val accuracy: 0.39    weighted Val loss: 0.3381\n",
      "Epoch: 359   Train loss: 0.2531   Train accuracy: 0.224   Val loss: 0.3042   Val accuracy: 0.391    weighted Val loss: 0.338\n",
      "Epoch: 360   Train loss: 0.2527   Train accuracy: 0.243   Val loss: 0.3102   Val accuracy: 0.391    weighted Val loss: 0.338\n",
      "Epoch: 361   Train loss: 0.2519   Train accuracy: 0.221   Val loss: 0.3072   Val accuracy: 0.392    weighted Val loss: 0.338\n",
      "Epoch: 362   Train loss: 0.2518   Train accuracy: 0.236   Val loss: 0.304   Val accuracy: 0.395    weighted Val loss: 0.3379\n",
      "Epoch: 363   Train loss: 0.252   Train accuracy: 0.233   Val loss: 0.3084   Val accuracy: 0.388    weighted Val loss: 0.3379\n",
      "Epoch: 364   Train loss: 0.2512   Train accuracy: 0.236   Val loss: 0.3062   Val accuracy: 0.387    weighted Val loss: 0.3379\n",
      "Epoch: 365   Train loss: 0.2518   Train accuracy: 0.24   Val loss: 0.3083   Val accuracy: 0.397    weighted Val loss: 0.3378\n",
      "Epoch: 366   Train loss: 0.2515   Train accuracy: 0.234   Val loss: 0.3066   Val accuracy: 0.392    weighted Val loss: 0.3378\n",
      "Epoch: 367   Train loss: 0.2529   Train accuracy: 0.233   Val loss: 0.3031   Val accuracy: 0.396    weighted Val loss: 0.3378\n",
      "Epoch: 368   Train loss: 0.2528   Train accuracy: 0.221   Val loss: 0.3025   Val accuracy: 0.4    weighted Val loss: 0.3377\n",
      "Epoch: 369   Train loss: 0.254   Train accuracy: 0.238   Val loss: 0.3066   Val accuracy: 0.394    weighted Val loss: 0.3377\n",
      "Epoch: 370   Train loss: 0.2521   Train accuracy: 0.239   Val loss: 0.3044   Val accuracy: 0.397    weighted Val loss: 0.3377\n",
      "Epoch: 371   Train loss: 0.2554   Train accuracy: 0.234   Val loss: 0.3038   Val accuracy: 0.394    weighted Val loss: 0.3376\n",
      "Epoch: 372   Train loss: 0.253   Train accuracy: 0.236   Val loss: 0.3075   Val accuracy: 0.391    weighted Val loss: 0.3376\n",
      "Epoch: 373   Train loss: 0.2533   Train accuracy: 0.228   Val loss: 0.3071   Val accuracy: 0.392    weighted Val loss: 0.3376\n",
      "Epoch: 374   Train loss: 0.2527   Train accuracy: 0.214   Val loss: 0.3045   Val accuracy: 0.387    weighted Val loss: 0.3375\n",
      "Epoch: 375   Train loss: 0.2502   Train accuracy: 0.254   Val loss: 0.3079   Val accuracy: 0.393    weighted Val loss: 0.3375\n",
      "Epoch: 376   Train loss: 0.2538   Train accuracy: 0.24   Val loss: 0.3033   Val accuracy: 0.393    weighted Val loss: 0.3375\n",
      "Epoch: 377   Train loss: 0.2522   Train accuracy: 0.238   Val loss: 0.3058   Val accuracy: 0.388    weighted Val loss: 0.3374\n",
      "Epoch: 378   Train loss: 0.2519   Train accuracy: 0.254   Val loss: 0.3033   Val accuracy: 0.395    weighted Val loss: 0.3374\n",
      "Epoch: 379   Train loss: 0.2526   Train accuracy: 0.227   Val loss: 0.3048   Val accuracy: 0.391    weighted Val loss: 0.3374\n",
      "Epoch: 380   Train loss: 0.2544   Train accuracy: 0.222   Val loss: 0.304   Val accuracy: 0.389    weighted Val loss: 0.3373\n",
      "Epoch: 381   Train loss: 0.2525   Train accuracy: 0.236   Val loss: 0.3073   Val accuracy: 0.392    weighted Val loss: 0.3373\n",
      "Epoch: 382   Train loss: 0.2515   Train accuracy: 0.254   Val loss: 0.3061   Val accuracy: 0.39    weighted Val loss: 0.3373\n",
      "Epoch: 383   Train loss: 0.2538   Train accuracy: 0.239   Val loss: 0.3062   Val accuracy: 0.387    weighted Val loss: 0.3373\n",
      "Epoch: 384   Train loss: 0.2536   Train accuracy: 0.236   Val loss: 0.3027   Val accuracy: 0.395    weighted Val loss: 0.3372\n",
      "Epoch: 385   Train loss: 0.251   Train accuracy: 0.248   Val loss: 0.3075   Val accuracy: 0.392    weighted Val loss: 0.3372\n",
      "Epoch: 386   Train loss: 0.2515   Train accuracy: 0.233   Val loss: 0.3031   Val accuracy: 0.392    weighted Val loss: 0.3372\n",
      "Epoch: 387   Train loss: 0.2549   Train accuracy: 0.237   Val loss: 0.3048   Val accuracy: 0.391    weighted Val loss: 0.3371\n",
      "Epoch: 388   Train loss: 0.2539   Train accuracy: 0.222   Val loss: 0.3068   Val accuracy: 0.393    weighted Val loss: 0.3371\n",
      "Epoch: 389   Train loss: 0.2515   Train accuracy: 0.245   Val loss: 0.3079   Val accuracy: 0.39    weighted Val loss: 0.3371\n",
      "Epoch: 390   Train loss: 0.2528   Train accuracy: 0.246   Val loss: 0.3089   Val accuracy: 0.392    weighted Val loss: 0.337\n",
      "Epoch: 391   Train loss: 0.253   Train accuracy: 0.235   Val loss: 0.3033   Val accuracy: 0.395    weighted Val loss: 0.337\n",
      "Epoch: 392   Train loss: 0.2535   Train accuracy: 0.23   Val loss: 0.304   Val accuracy: 0.391    weighted Val loss: 0.337\n",
      "Epoch: 393   Train loss: 0.2522   Train accuracy: 0.231   Val loss: 0.3066   Val accuracy: 0.398    weighted Val loss: 0.3369\n",
      "Epoch: 394   Train loss: 0.2519   Train accuracy: 0.235   Val loss: 0.3057   Val accuracy: 0.394    weighted Val loss: 0.3369\n",
      "Epoch: 395   Train loss: 0.2519   Train accuracy: 0.24   Val loss: 0.3055   Val accuracy: 0.394    weighted Val loss: 0.3369\n",
      "Epoch: 396   Train loss: 0.2496   Train accuracy: 0.249   Val loss: 0.3056   Val accuracy: 0.399    weighted Val loss: 0.3368\n",
      "Epoch: 397   Train loss: 0.2542   Train accuracy: 0.253   Val loss: 0.304   Val accuracy: 0.391    weighted Val loss: 0.3368\n",
      "Epoch: 398   Train loss: 0.2498   Train accuracy: 0.26   Val loss: 0.3079   Val accuracy: 0.389    weighted Val loss: 0.3368\n",
      "Epoch: 399   Train loss: 0.2506   Train accuracy: 0.248   Val loss: 0.3039   Val accuracy: 0.39    weighted Val loss: 0.3367\n",
      "Epoch: 400   Train loss: 0.2526   Train accuracy: 0.242   Val loss: 0.3039   Val accuracy: 0.391    weighted Val loss: 0.3367\n",
      "Epoch: 401   Train loss: 0.251   Train accuracy: 0.235   Val loss: 0.303   Val accuracy: 0.393    weighted Val loss: 0.3367\n",
      "Epoch: 402   Train loss: 0.2546   Train accuracy: 0.245   Val loss: 0.3023   Val accuracy: 0.396    weighted Val loss: 0.3366\n",
      "Epoch: 403   Train loss: 0.2535   Train accuracy: 0.24   Val loss: 0.3049   Val accuracy: 0.386    weighted Val loss: 0.3366\n",
      "Epoch: 404   Train loss: 0.2516   Train accuracy: 0.238   Val loss: 0.3095   Val accuracy: 0.389    weighted Val loss: 0.3366\n",
      "Epoch: 405   Train loss: 0.256   Train accuracy: 0.222   Val loss: 0.3052   Val accuracy: 0.389    weighted Val loss: 0.3366\n",
      "Epoch: 406   Train loss: 0.2533   Train accuracy: 0.248   Val loss: 0.3053   Val accuracy: 0.387    weighted Val loss: 0.3365\n",
      "Epoch: 407   Train loss: 0.2529   Train accuracy: 0.249   Val loss: 0.3116   Val accuracy: 0.392    weighted Val loss: 0.3365\n",
      "Epoch: 408   Train loss: 0.2536   Train accuracy: 0.205   Val loss: 0.3068   Val accuracy: 0.397    weighted Val loss: 0.3365\n",
      "Epoch: 409   Train loss: 0.2516   Train accuracy: 0.233   Val loss: 0.3047   Val accuracy: 0.392    weighted Val loss: 0.3364\n",
      "Epoch: 410   Train loss: 0.2536   Train accuracy: 0.24   Val loss: 0.3032   Val accuracy: 0.395    weighted Val loss: 0.3364\n",
      "Epoch: 411   Train loss: 0.2543   Train accuracy: 0.214   Val loss: 0.3064   Val accuracy: 0.396    weighted Val loss: 0.3364\n",
      "Epoch: 412   Train loss: 0.2541   Train accuracy: 0.231   Val loss: 0.3053   Val accuracy: 0.394    weighted Val loss: 0.3363\n",
      "Epoch: 413   Train loss: 0.2514   Train accuracy: 0.25   Val loss: 0.3064   Val accuracy: 0.393    weighted Val loss: 0.3363\n",
      "Epoch: 414   Train loss: 0.2521   Train accuracy: 0.224   Val loss: 0.3037   Val accuracy: 0.392    weighted Val loss: 0.3363\n",
      "Epoch: 415   Train loss: 0.2503   Train accuracy: 0.251   Val loss: 0.3043   Val accuracy: 0.391    weighted Val loss: 0.3363\n",
      "Epoch: 416   Train loss: 0.2527   Train accuracy: 0.237   Val loss: 0.3059   Val accuracy: 0.388    weighted Val loss: 0.3362\n",
      "Epoch: 417   Train loss: 0.2522   Train accuracy: 0.24   Val loss: 0.304   Val accuracy: 0.389    weighted Val loss: 0.3362\n",
      "Epoch: 418   Train loss: 0.2539   Train accuracy: 0.225   Val loss: 0.3064   Val accuracy: 0.392    weighted Val loss: 0.3362\n",
      "Epoch: 419   Train loss: 0.2528   Train accuracy: 0.236   Val loss: 0.3052   Val accuracy: 0.384    weighted Val loss: 0.3361\n",
      "Epoch: 420   Train loss: 0.2532   Train accuracy: 0.232   Val loss: 0.3056   Val accuracy: 0.389    weighted Val loss: 0.3361\n",
      "Epoch: 421   Train loss: 0.252   Train accuracy: 0.239   Val loss: 0.3049   Val accuracy: 0.387    weighted Val loss: 0.3361\n",
      "Epoch: 422   Train loss: 0.2519   Train accuracy: 0.233   Val loss: 0.3059   Val accuracy: 0.389    weighted Val loss: 0.336\n",
      "Epoch: 423   Train loss: 0.2508   Train accuracy: 0.233   Val loss: 0.3058   Val accuracy: 0.391    weighted Val loss: 0.336\n",
      "Epoch: 424   Train loss: 0.254   Train accuracy: 0.227   Val loss: 0.3048   Val accuracy: 0.392    weighted Val loss: 0.336\n",
      "Epoch: 425   Train loss: 0.2537   Train accuracy: 0.235   Val loss: 0.3092   Val accuracy: 0.39    weighted Val loss: 0.3359\n",
      "Epoch: 426   Train loss: 0.2556   Train accuracy: 0.229   Val loss: 0.3047   Val accuracy: 0.39    weighted Val loss: 0.3359\n",
      "Epoch: 427   Train loss: 0.2532   Train accuracy: 0.236   Val loss: 0.3037   Val accuracy: 0.393    weighted Val loss: 0.3359\n",
      "Epoch: 428   Train loss: 0.2508   Train accuracy: 0.248   Val loss: 0.3067   Val accuracy: 0.395    weighted Val loss: 0.3359\n",
      "Epoch: 429   Train loss: 0.2529   Train accuracy: 0.229   Val loss: 0.3049   Val accuracy: 0.396    weighted Val loss: 0.3358\n",
      "Epoch: 430   Train loss: 0.2533   Train accuracy: 0.228   Val loss: 0.3058   Val accuracy: 0.396    weighted Val loss: 0.3358\n",
      "Epoch: 431   Train loss: 0.2538   Train accuracy: 0.245   Val loss: 0.3082   Val accuracy: 0.392    weighted Val loss: 0.3358\n",
      "Epoch: 432   Train loss: 0.2536   Train accuracy: 0.244   Val loss: 0.3061   Val accuracy: 0.395    weighted Val loss: 0.3357\n",
      "Epoch: 433   Train loss: 0.251   Train accuracy: 0.252   Val loss: 0.3076   Val accuracy: 0.392    weighted Val loss: 0.3357\n",
      "Epoch: 434   Train loss: 0.253   Train accuracy: 0.242   Val loss: 0.308   Val accuracy: 0.391    weighted Val loss: 0.3357\n",
      "Epoch: 435   Train loss: 0.2519   Train accuracy: 0.255   Val loss: 0.3058   Val accuracy: 0.39    weighted Val loss: 0.3357\n",
      "Epoch: 436   Train loss: 0.2497   Train accuracy: 0.245   Val loss: 0.3062   Val accuracy: 0.388    weighted Val loss: 0.3356\n",
      "Epoch: 437   Train loss: 0.2501   Train accuracy: 0.26   Val loss: 0.3055   Val accuracy: 0.391    weighted Val loss: 0.3356\n",
      "Epoch: 438   Train loss: 0.2516   Train accuracy: 0.224   Val loss: 0.3073   Val accuracy: 0.39    weighted Val loss: 0.3356\n",
      "Epoch: 439   Train loss: 0.2532   Train accuracy: 0.213   Val loss: 0.3054   Val accuracy: 0.39    weighted Val loss: 0.3355\n",
      "Epoch: 440   Train loss: 0.2545   Train accuracy: 0.228   Val loss: 0.3044   Val accuracy: 0.389    weighted Val loss: 0.3355\n",
      "Epoch: 441   Train loss: 0.2536   Train accuracy: 0.228   Val loss: 0.3052   Val accuracy: 0.399    weighted Val loss: 0.3355\n",
      "Epoch: 442   Train loss: 0.2539   Train accuracy: 0.219   Val loss: 0.3034   Val accuracy: 0.396    weighted Val loss: 0.3354\n",
      "Epoch: 443   Train loss: 0.2544   Train accuracy: 0.235   Val loss: 0.3058   Val accuracy: 0.392    weighted Val loss: 0.3354\n",
      "Epoch: 444   Train loss: 0.2517   Train accuracy: 0.236   Val loss: 0.3054   Val accuracy: 0.393    weighted Val loss: 0.3354\n",
      "Epoch: 445   Train loss: 0.2539   Train accuracy: 0.222   Val loss: 0.3047   Val accuracy: 0.387    weighted Val loss: 0.3353\n",
      "Epoch: 446   Train loss: 0.2538   Train accuracy: 0.229   Val loss: 0.3062   Val accuracy: 0.39    weighted Val loss: 0.3353\n",
      "Epoch: 447   Train loss: 0.2526   Train accuracy: 0.234   Val loss: 0.3051   Val accuracy: 0.392    weighted Val loss: 0.3353\n",
      "Epoch: 448   Train loss: 0.2515   Train accuracy: 0.234   Val loss: 0.3031   Val accuracy: 0.396    weighted Val loss: 0.3353\n",
      "Epoch: 449   Train loss: 0.2532   Train accuracy: 0.241   Val loss: 0.3082   Val accuracy: 0.385    weighted Val loss: 0.3352\n",
      "Epoch: 450   Train loss: 0.2516   Train accuracy: 0.238   Val loss: 0.3067   Val accuracy: 0.392    weighted Val loss: 0.3352\n",
      "Epoch: 451   Train loss: 0.251   Train accuracy: 0.248   Val loss: 0.3047   Val accuracy: 0.394    weighted Val loss: 0.3352\n",
      "Epoch: 452   Train loss: 0.2551   Train accuracy: 0.227   Val loss: 0.3049   Val accuracy: 0.388    weighted Val loss: 0.3351\n",
      "Epoch: 453   Train loss: 0.2532   Train accuracy: 0.231   Val loss: 0.3083   Val accuracy: 0.393    weighted Val loss: 0.3351\n",
      "Epoch: 454   Train loss: 0.2528   Train accuracy: 0.234   Val loss: 0.3116   Val accuracy: 0.388    weighted Val loss: 0.3351\n",
      "Epoch: 455   Train loss: 0.2534   Train accuracy: 0.228   Val loss: 0.3055   Val accuracy: 0.393    weighted Val loss: 0.3351\n",
      "Epoch: 456   Train loss: 0.2527   Train accuracy: 0.223   Val loss: 0.3033   Val accuracy: 0.394    weighted Val loss: 0.335\n",
      "Epoch: 457   Train loss: 0.2501   Train accuracy: 0.246   Val loss: 0.3068   Val accuracy: 0.391    weighted Val loss: 0.335\n",
      "Epoch: 458   Train loss: 0.2523   Train accuracy: 0.226   Val loss: 0.3046   Val accuracy: 0.391    weighted Val loss: 0.335\n",
      "Epoch: 459   Train loss: 0.2552   Train accuracy: 0.221   Val loss: 0.3056   Val accuracy: 0.392    weighted Val loss: 0.3349\n",
      "Epoch: 460   Train loss: 0.2549   Train accuracy: 0.213   Val loss: 0.3055   Val accuracy: 0.389    weighted Val loss: 0.3349\n",
      "Epoch: 461   Train loss: 0.2529   Train accuracy: 0.228   Val loss: 0.3069   Val accuracy: 0.392    weighted Val loss: 0.3349\n",
      "Epoch: 462   Train loss: 0.2547   Train accuracy: 0.233   Val loss: 0.3059   Val accuracy: 0.392    weighted Val loss: 0.3349\n",
      "Epoch: 463   Train loss: 0.2525   Train accuracy: 0.242   Val loss: 0.3079   Val accuracy: 0.394    weighted Val loss: 0.3348\n",
      "Epoch: 464   Train loss: 0.2543   Train accuracy: 0.216   Val loss: 0.3064   Val accuracy: 0.388    weighted Val loss: 0.3348\n",
      "Epoch: 465   Train loss: 0.2528   Train accuracy: 0.231   Val loss: 0.3048   Val accuracy: 0.388    weighted Val loss: 0.3348\n",
      "Epoch: 466   Train loss: 0.2518   Train accuracy: 0.233   Val loss: 0.3036   Val accuracy: 0.396    weighted Val loss: 0.3347\n",
      "Epoch: 467   Train loss: 0.2527   Train accuracy: 0.247   Val loss: 0.3045   Val accuracy: 0.391    weighted Val loss: 0.3347\n",
      "Epoch: 468   Train loss: 0.2538   Train accuracy: 0.232   Val loss: 0.3082   Val accuracy: 0.388    weighted Val loss: 0.3347\n",
      "Epoch: 469   Train loss: 0.2533   Train accuracy: 0.219   Val loss: 0.3045   Val accuracy: 0.391    weighted Val loss: 0.3347\n",
      "Epoch: 470   Train loss: 0.2513   Train accuracy: 0.243   Val loss: 0.3059   Val accuracy: 0.389    weighted Val loss: 0.3346\n",
      "Epoch: 471   Train loss: 0.2533   Train accuracy: 0.241   Val loss: 0.3037   Val accuracy: 0.393    weighted Val loss: 0.3346\n",
      "Epoch: 472   Train loss: 0.2504   Train accuracy: 0.242   Val loss: 0.3058   Val accuracy: 0.389    weighted Val loss: 0.3346\n",
      "Epoch: 473   Train loss: 0.253   Train accuracy: 0.252   Val loss: 0.3068   Val accuracy: 0.392    weighted Val loss: 0.3345\n",
      "Epoch: 474   Train loss: 0.2518   Train accuracy: 0.235   Val loss: 0.3044   Val accuracy: 0.389    weighted Val loss: 0.3345\n",
      "Epoch: 475   Train loss: 0.2536   Train accuracy: 0.216   Val loss: 0.3074   Val accuracy: 0.392    weighted Val loss: 0.3345\n",
      "Epoch: 476   Train loss: 0.2523   Train accuracy: 0.243   Val loss: 0.312   Val accuracy: 0.382    weighted Val loss: 0.3345\n",
      "Epoch: 477   Train loss: 0.2532   Train accuracy: 0.242   Val loss: 0.3041   Val accuracy: 0.388    weighted Val loss: 0.3344\n",
      "Epoch: 478   Train loss: 0.2542   Train accuracy: 0.227   Val loss: 0.306   Val accuracy: 0.394    weighted Val loss: 0.3344\n",
      "Epoch: 479   Train loss: 0.2517   Train accuracy: 0.242   Val loss: 0.3048   Val accuracy: 0.393    weighted Val loss: 0.3344\n",
      "Epoch: 480   Train loss: 0.253   Train accuracy: 0.229   Val loss: 0.304   Val accuracy: 0.398    weighted Val loss: 0.3343\n",
      "Epoch: 481   Train loss: 0.2516   Train accuracy: 0.249   Val loss: 0.3072   Val accuracy: 0.394    weighted Val loss: 0.3343\n",
      "Epoch: 482   Train loss: 0.2542   Train accuracy: 0.232   Val loss: 0.3071   Val accuracy: 0.388    weighted Val loss: 0.3343\n",
      "Epoch: 483   Train loss: 0.252   Train accuracy: 0.224   Val loss: 0.3068   Val accuracy: 0.397    weighted Val loss: 0.3343\n",
      "Epoch: 484   Train loss: 0.2526   Train accuracy: 0.228   Val loss: 0.305   Val accuracy: 0.393    weighted Val loss: 0.3342\n",
      "Epoch: 485   Train loss: 0.2514   Train accuracy: 0.24   Val loss: 0.3039   Val accuracy: 0.395    weighted Val loss: 0.3342\n",
      "Epoch: 486   Train loss: 0.2538   Train accuracy: 0.225   Val loss: 0.306   Val accuracy: 0.396    weighted Val loss: 0.3342\n",
      "Epoch: 487   Train loss: 0.2522   Train accuracy: 0.236   Val loss: 0.3093   Val accuracy: 0.396    weighted Val loss: 0.3341\n",
      "Epoch: 488   Train loss: 0.2533   Train accuracy: 0.214   Val loss: 0.308   Val accuracy: 0.396    weighted Val loss: 0.3341\n",
      "Epoch: 489   Train loss: 0.2527   Train accuracy: 0.237   Val loss: 0.3042   Val accuracy: 0.393    weighted Val loss: 0.3341\n",
      "Epoch: 490   Train loss: 0.251   Train accuracy: 0.239   Val loss: 0.3062   Val accuracy: 0.393    weighted Val loss: 0.3341\n",
      "Epoch: 491   Train loss: 0.2535   Train accuracy: 0.219   Val loss: 0.3062   Val accuracy: 0.388    weighted Val loss: 0.334\n",
      "Epoch: 492   Train loss: 0.2521   Train accuracy: 0.242   Val loss: 0.3061   Val accuracy: 0.391    weighted Val loss: 0.334\n",
      "Epoch: 493   Train loss: 0.2519   Train accuracy: 0.23   Val loss: 0.3061   Val accuracy: 0.394    weighted Val loss: 0.334\n",
      "Epoch: 494   Train loss: 0.2535   Train accuracy: 0.231   Val loss: 0.3036   Val accuracy: 0.39    weighted Val loss: 0.3339\n",
      "Epoch: 495   Train loss: 0.2561   Train accuracy: 0.235   Val loss: 0.3042   Val accuracy: 0.388    weighted Val loss: 0.3339\n",
      "Epoch: 496   Train loss: 0.2533   Train accuracy: 0.234   Val loss: 0.3073   Val accuracy: 0.398    weighted Val loss: 0.3339\n",
      "Epoch: 497   Train loss: 0.2518   Train accuracy: 0.245   Val loss: 0.3065   Val accuracy: 0.395    weighted Val loss: 0.3339\n",
      "Epoch: 498   Train loss: 0.2514   Train accuracy: 0.238   Val loss: 0.3025   Val accuracy: 0.4    weighted Val loss: 0.3338\n",
      "Epoch: 499   Train loss: 0.2506   Train accuracy: 0.263   Val loss: 0.3026   Val accuracy: 0.398    weighted Val loss: 0.3338\n",
      "Epoch: 500   Train loss: 0.2515   Train accuracy: 0.241   Val loss: 0.3044   Val accuracy: 0.392    weighted Val loss: 0.3338\n",
      "Epoch: 501   Train loss: 0.2519   Train accuracy: 0.242   Val loss: 0.3049   Val accuracy: 0.391    weighted Val loss: 0.3337\n",
      "Epoch: 502   Train loss: 0.2537   Train accuracy: 0.227   Val loss: 0.3071   Val accuracy: 0.396    weighted Val loss: 0.3337\n",
      "Epoch: 503   Train loss: 0.2546   Train accuracy: 0.215   Val loss: 0.3069   Val accuracy: 0.401    weighted Val loss: 0.3337\n",
      "Epoch: 504   Train loss: 0.2507   Train accuracy: 0.247   Val loss: 0.304   Val accuracy: 0.39    weighted Val loss: 0.3337\n",
      "Epoch: 505   Train loss: 0.2531   Train accuracy: 0.244   Val loss: 0.3062   Val accuracy: 0.388    weighted Val loss: 0.3336\n",
      "Epoch: 506   Train loss: 0.2529   Train accuracy: 0.238   Val loss: 0.3037   Val accuracy: 0.391    weighted Val loss: 0.3336\n",
      "Epoch: 507   Train loss: 0.2535   Train accuracy: 0.243   Val loss: 0.3055   Val accuracy: 0.386    weighted Val loss: 0.3336\n",
      "Epoch: 508   Train loss: 0.2524   Train accuracy: 0.236   Val loss: 0.3075   Val accuracy: 0.387    weighted Val loss: 0.3335\n",
      "Epoch: 509   Train loss: 0.2537   Train accuracy: 0.229   Val loss: 0.3057   Val accuracy: 0.391    weighted Val loss: 0.3335\n",
      "Epoch: 510   Train loss: 0.2519   Train accuracy: 0.236   Val loss: 0.3048   Val accuracy: 0.39    weighted Val loss: 0.3335\n",
      "Epoch: 511   Train loss: 0.2518   Train accuracy: 0.25   Val loss: 0.3046   Val accuracy: 0.39    weighted Val loss: 0.3335\n",
      "Epoch: 512   Train loss: 0.2532   Train accuracy: 0.24   Val loss: 0.309   Val accuracy: 0.388    weighted Val loss: 0.3334\n",
      "Epoch: 513   Train loss: 0.2516   Train accuracy: 0.251   Val loss: 0.3056   Val accuracy: 0.393    weighted Val loss: 0.3334\n",
      "Epoch: 514   Train loss: 0.2514   Train accuracy: 0.243   Val loss: 0.3112   Val accuracy: 0.386    weighted Val loss: 0.3334\n",
      "Epoch: 515   Train loss: 0.2537   Train accuracy: 0.22   Val loss: 0.3048   Val accuracy: 0.392    weighted Val loss: 0.3334\n",
      "Epoch: 516   Train loss: 0.2525   Train accuracy: 0.251   Val loss: 0.3063   Val accuracy: 0.398    weighted Val loss: 0.3333\n",
      "Epoch: 517   Train loss: 0.2511   Train accuracy: 0.234   Val loss: 0.3027   Val accuracy: 0.394    weighted Val loss: 0.3333\n",
      "Epoch: 518   Train loss: 0.2517   Train accuracy: 0.242   Val loss: 0.3047   Val accuracy: 0.389    weighted Val loss: 0.3333\n",
      "Epoch: 519   Train loss: 0.2537   Train accuracy: 0.235   Val loss: 0.3058   Val accuracy: 0.39    weighted Val loss: 0.3332\n",
      "Epoch: 520   Train loss: 0.2526   Train accuracy: 0.236   Val loss: 0.306   Val accuracy: 0.39    weighted Val loss: 0.3332\n",
      "Epoch: 521   Train loss: 0.2527   Train accuracy: 0.225   Val loss: 0.3043   Val accuracy: 0.389    weighted Val loss: 0.3332\n",
      "Epoch: 522   Train loss: 0.2519   Train accuracy: 0.254   Val loss: 0.3071   Val accuracy: 0.39    weighted Val loss: 0.3332\n",
      "Epoch: 523   Train loss: 0.2527   Train accuracy: 0.232   Val loss: 0.305   Val accuracy: 0.398    weighted Val loss: 0.3331\n",
      "Epoch: 524   Train loss: 0.253   Train accuracy: 0.245   Val loss: 0.3059   Val accuracy: 0.395    weighted Val loss: 0.3331\n",
      "Epoch: 525   Train loss: 0.2523   Train accuracy: 0.238   Val loss: 0.3048   Val accuracy: 0.398    weighted Val loss: 0.3331\n",
      "Epoch: 526   Train loss: 0.2526   Train accuracy: 0.245   Val loss: 0.3063   Val accuracy: 0.395    weighted Val loss: 0.3331\n",
      "Epoch: 527   Train loss: 0.25   Train accuracy: 0.243   Val loss: 0.3047   Val accuracy: 0.39    weighted Val loss: 0.333\n",
      "Epoch: 528   Train loss: 0.2532   Train accuracy: 0.244   Val loss: 0.3037   Val accuracy: 0.394    weighted Val loss: 0.333\n",
      "Epoch: 529   Train loss: 0.2513   Train accuracy: 0.257   Val loss: 0.3049   Val accuracy: 0.389    weighted Val loss: 0.333\n",
      "Epoch: 530   Train loss: 0.2536   Train accuracy: 0.243   Val loss: 0.3088   Val accuracy: 0.389    weighted Val loss: 0.3329\n",
      "Epoch: 531   Train loss: 0.2509   Train accuracy: 0.248   Val loss: 0.3064   Val accuracy: 0.392    weighted Val loss: 0.3329\n",
      "Epoch: 532   Train loss: 0.2503   Train accuracy: 0.247   Val loss: 0.3083   Val accuracy: 0.391    weighted Val loss: 0.3329\n",
      "Epoch: 533   Train loss: 0.2507   Train accuracy: 0.237   Val loss: 0.3046   Val accuracy: 0.397    weighted Val loss: 0.3329\n",
      "Epoch: 534   Train loss: 0.252   Train accuracy: 0.241   Val loss: 0.305   Val accuracy: 0.392    weighted Val loss: 0.3328\n",
      "Epoch: 535   Train loss: 0.2516   Train accuracy: 0.221   Val loss: 0.3074   Val accuracy: 0.39    weighted Val loss: 0.3328\n",
      "Epoch: 536   Train loss: 0.2537   Train accuracy: 0.232   Val loss: 0.3058   Val accuracy: 0.392    weighted Val loss: 0.3328\n",
      "Epoch: 537   Train loss: 0.2484   Train accuracy: 0.259   Val loss: 0.3059   Val accuracy: 0.39    weighted Val loss: 0.3328\n",
      "Epoch: 538   Train loss: 0.2511   Train accuracy: 0.249   Val loss: 0.3052   Val accuracy: 0.383    weighted Val loss: 0.3327\n",
      "Epoch: 539   Train loss: 0.2516   Train accuracy: 0.243   Val loss: 0.3044   Val accuracy: 0.394    weighted Val loss: 0.3327\n",
      "Epoch: 540   Train loss: 0.2492   Train accuracy: 0.268   Val loss: 0.305   Val accuracy: 0.392    weighted Val loss: 0.3327\n",
      "Epoch: 541   Train loss: 0.2554   Train accuracy: 0.216   Val loss: 0.3056   Val accuracy: 0.389    weighted Val loss: 0.3326\n",
      "Epoch: 542   Train loss: 0.2546   Train accuracy: 0.205   Val loss: 0.307   Val accuracy: 0.393    weighted Val loss: 0.3326\n",
      "Epoch: 543   Train loss: 0.2557   Train accuracy: 0.234   Val loss: 0.3079   Val accuracy: 0.391    weighted Val loss: 0.3326\n",
      "Epoch: 544   Train loss: 0.2485   Train accuracy: 0.261   Val loss: 0.3075   Val accuracy: 0.393    weighted Val loss: 0.3326\n",
      "Epoch: 545   Train loss: 0.2549   Train accuracy: 0.225   Val loss: 0.3049   Val accuracy: 0.394    weighted Val loss: 0.3325\n",
      "Epoch: 546   Train loss: 0.2514   Train accuracy: 0.219   Val loss: 0.3032   Val accuracy: 0.4    weighted Val loss: 0.3325\n",
      "Epoch: 547   Train loss: 0.2548   Train accuracy: 0.233   Val loss: 0.3045   Val accuracy: 0.392    weighted Val loss: 0.3325\n",
      "Epoch: 548   Train loss: 0.253   Train accuracy: 0.232   Val loss: 0.3094   Val accuracy: 0.394    weighted Val loss: 0.3325\n",
      "Epoch: 549   Train loss: 0.2528   Train accuracy: 0.232   Val loss: 0.3053   Val accuracy: 0.387    weighted Val loss: 0.3324\n",
      "Epoch: 550   Train loss: 0.2516   Train accuracy: 0.239   Val loss: 0.305   Val accuracy: 0.391    weighted Val loss: 0.3324\n",
      "Epoch: 551   Train loss: 0.2535   Train accuracy: 0.234   Val loss: 0.3067   Val accuracy: 0.397    weighted Val loss: 0.3324\n",
      "Epoch: 552   Train loss: 0.2527   Train accuracy: 0.227   Val loss: 0.3049   Val accuracy: 0.395    weighted Val loss: 0.3324\n",
      "Epoch: 553   Train loss: 0.2513   Train accuracy: 0.233   Val loss: 0.307   Val accuracy: 0.399    weighted Val loss: 0.3323\n",
      "Epoch: 554   Train loss: 0.2508   Train accuracy: 0.255   Val loss: 0.3029   Val accuracy: 0.4    weighted Val loss: 0.3323\n",
      "Epoch: 555   Train loss: 0.2517   Train accuracy: 0.248   Val loss: 0.3053   Val accuracy: 0.392    weighted Val loss: 0.3323\n",
      "Epoch: 556   Train loss: 0.25   Train accuracy: 0.255   Val loss: 0.3053   Val accuracy: 0.393    weighted Val loss: 0.3322\n",
      "Epoch: 557   Train loss: 0.2549   Train accuracy: 0.239   Val loss: 0.3083   Val accuracy: 0.396    weighted Val loss: 0.3322\n",
      "Epoch: 558   Train loss: 0.2516   Train accuracy: 0.252   Val loss: 0.3078   Val accuracy: 0.396    weighted Val loss: 0.3322\n",
      "Epoch: 559   Train loss: 0.2529   Train accuracy: 0.241   Val loss: 0.3044   Val accuracy: 0.394    weighted Val loss: 0.3322\n",
      "Epoch: 560   Train loss: 0.2544   Train accuracy: 0.231   Val loss: 0.308   Val accuracy: 0.397    weighted Val loss: 0.3321\n",
      "Epoch: 561   Train loss: 0.2508   Train accuracy: 0.237   Val loss: 0.3071   Val accuracy: 0.393    weighted Val loss: 0.3321\n",
      "Epoch: 562   Train loss: 0.2543   Train accuracy: 0.222   Val loss: 0.3103   Val accuracy: 0.386    weighted Val loss: 0.3321\n",
      "Epoch: 563   Train loss: 0.2514   Train accuracy: 0.222   Val loss: 0.3075   Val accuracy: 0.388    weighted Val loss: 0.3321\n",
      "Epoch: 564   Train loss: 0.2526   Train accuracy: 0.224   Val loss: 0.3035   Val accuracy: 0.39    weighted Val loss: 0.332\n",
      "Epoch: 565   Train loss: 0.2502   Train accuracy: 0.245   Val loss: 0.3055   Val accuracy: 0.392    weighted Val loss: 0.332\n",
      "Epoch: 566   Train loss: 0.2515   Train accuracy: 0.239   Val loss: 0.3069   Val accuracy: 0.397    weighted Val loss: 0.332\n",
      "Epoch: 567   Train loss: 0.2513   Train accuracy: 0.229   Val loss: 0.3076   Val accuracy: 0.395    weighted Val loss: 0.332\n",
      "Epoch: 568   Train loss: 0.2527   Train accuracy: 0.237   Val loss: 0.3062   Val accuracy: 0.392    weighted Val loss: 0.3319\n",
      "Epoch: 569   Train loss: 0.2536   Train accuracy: 0.223   Val loss: 0.3048   Val accuracy: 0.392    weighted Val loss: 0.3319\n",
      "Epoch: 570   Train loss: 0.2533   Train accuracy: 0.237   Val loss: 0.305   Val accuracy: 0.396    weighted Val loss: 0.3319\n",
      "Epoch: 571   Train loss: 0.2532   Train accuracy: 0.231   Val loss: 0.3099   Val accuracy: 0.386    weighted Val loss: 0.3319\n",
      "Epoch: 572   Train loss: 0.2513   Train accuracy: 0.24   Val loss: 0.309   Val accuracy: 0.393    weighted Val loss: 0.3318\n",
      "Epoch: 573   Train loss: 0.2546   Train accuracy: 0.228   Val loss: 0.306   Val accuracy: 0.399    weighted Val loss: 0.3318\n",
      "Epoch: 574   Train loss: 0.2537   Train accuracy: 0.224   Val loss: 0.305   Val accuracy: 0.391    weighted Val loss: 0.3318\n",
      "Epoch: 575   Train loss: 0.2541   Train accuracy: 0.214   Val loss: 0.3047   Val accuracy: 0.388    weighted Val loss: 0.3318\n",
      "Epoch: 576   Train loss: 0.2523   Train accuracy: 0.235   Val loss: 0.3081   Val accuracy: 0.388    weighted Val loss: 0.3317\n",
      "Epoch: 577   Train loss: 0.2539   Train accuracy: 0.243   Val loss: 0.3073   Val accuracy: 0.391    weighted Val loss: 0.3317\n",
      "Epoch: 578   Train loss: 0.2516   Train accuracy: 0.241   Val loss: 0.3052   Val accuracy: 0.385    weighted Val loss: 0.3317\n",
      "Epoch: 579   Train loss: 0.2519   Train accuracy: 0.255   Val loss: 0.3035   Val accuracy: 0.397    weighted Val loss: 0.3317\n",
      "Epoch: 580   Train loss: 0.251   Train accuracy: 0.246   Val loss: 0.3064   Val accuracy: 0.391    weighted Val loss: 0.3316\n",
      "Epoch: 581   Train loss: 0.253   Train accuracy: 0.23   Val loss: 0.3057   Val accuracy: 0.392    weighted Val loss: 0.3316\n",
      "Epoch: 582   Train loss: 0.253   Train accuracy: 0.246   Val loss: 0.3059   Val accuracy: 0.385    weighted Val loss: 0.3316\n",
      "Epoch: 583   Train loss: 0.2534   Train accuracy: 0.236   Val loss: 0.3038   Val accuracy: 0.39    weighted Val loss: 0.3316\n",
      "Epoch: 584   Train loss: 0.2505   Train accuracy: 0.248   Val loss: 0.3036   Val accuracy: 0.387    weighted Val loss: 0.3315\n",
      "Epoch: 585   Train loss: 0.252   Train accuracy: 0.228   Val loss: 0.308   Val accuracy: 0.391    weighted Val loss: 0.3315\n",
      "Epoch: 586   Train loss: 0.2524   Train accuracy: 0.237   Val loss: 0.3092   Val accuracy: 0.391    weighted Val loss: 0.3315\n",
      "Epoch: 587   Train loss: 0.2521   Train accuracy: 0.246   Val loss: 0.3037   Val accuracy: 0.393    weighted Val loss: 0.3315\n",
      "Epoch: 588   Train loss: 0.2532   Train accuracy: 0.236   Val loss: 0.3054   Val accuracy: 0.393    weighted Val loss: 0.3314\n",
      "Epoch: 589   Train loss: 0.2532   Train accuracy: 0.23   Val loss: 0.305   Val accuracy: 0.392    weighted Val loss: 0.3314\n",
      "Epoch: 590   Train loss: 0.2513   Train accuracy: 0.24   Val loss: 0.3042   Val accuracy: 0.393    weighted Val loss: 0.3314\n",
      "Epoch: 591   Train loss: 0.2522   Train accuracy: 0.218   Val loss: 0.303   Val accuracy: 0.397    weighted Val loss: 0.3313\n",
      "Epoch: 592   Train loss: 0.2506   Train accuracy: 0.241   Val loss: 0.302   Val accuracy: 0.399    weighted Val loss: 0.3313\n",
      "Epoch: 593   Train loss: 0.2511   Train accuracy: 0.235   Val loss: 0.3094   Val accuracy: 0.397    weighted Val loss: 0.3313\n",
      "Epoch: 594   Train loss: 0.2516   Train accuracy: 0.257   Val loss: 0.3101   Val accuracy: 0.398    weighted Val loss: 0.3313\n",
      "Epoch: 595   Train loss: 0.2542   Train accuracy: 0.234   Val loss: 0.3036   Val accuracy: 0.397    weighted Val loss: 0.3312\n",
      "Epoch: 596   Train loss: 0.2509   Train accuracy: 0.256   Val loss: 0.3054   Val accuracy: 0.399    weighted Val loss: 0.3312\n",
      "Epoch: 597   Train loss: 0.256   Train accuracy: 0.243   Val loss: 0.3051   Val accuracy: 0.395    weighted Val loss: 0.3312\n",
      "Epoch: 598   Train loss: 0.2558   Train accuracy: 0.223   Val loss: 0.3083   Val accuracy: 0.395    weighted Val loss: 0.3312\n",
      "Epoch: 599   Train loss: 0.2507   Train accuracy: 0.25   Val loss: 0.3044   Val accuracy: 0.388    weighted Val loss: 0.3311\n",
      "Epoch: 600   Train loss: 0.2503   Train accuracy: 0.241   Val loss: 0.3033   Val accuracy: 0.393    weighted Val loss: 0.3311\n",
      "Epoch: 601   Train loss: 0.2514   Train accuracy: 0.222   Val loss: 0.3069   Val accuracy: 0.39    weighted Val loss: 0.3311\n",
      "Epoch: 602   Train loss: 0.2533   Train accuracy: 0.228   Val loss: 0.3054   Val accuracy: 0.391    weighted Val loss: 0.3311\n",
      "Epoch: 603   Train loss: 0.2521   Train accuracy: 0.232   Val loss: 0.3039   Val accuracy: 0.396    weighted Val loss: 0.331\n",
      "Epoch: 604   Train loss: 0.2539   Train accuracy: 0.223   Val loss: 0.3053   Val accuracy: 0.393    weighted Val loss: 0.331\n",
      "Epoch: 605   Train loss: 0.2534   Train accuracy: 0.235   Val loss: 0.3032   Val accuracy: 0.394    weighted Val loss: 0.331\n",
      "Epoch: 606   Train loss: 0.2502   Train accuracy: 0.242   Val loss: 0.3072   Val accuracy: 0.396    weighted Val loss: 0.331\n",
      "Epoch: 607   Train loss: 0.2541   Train accuracy: 0.231   Val loss: 0.3049   Val accuracy: 0.391    weighted Val loss: 0.3309\n",
      "Epoch: 608   Train loss: 0.2528   Train accuracy: 0.238   Val loss: 0.3093   Val accuracy: 0.393    weighted Val loss: 0.3309\n",
      "Epoch: 609   Train loss: 0.2537   Train accuracy: 0.211   Val loss: 0.3047   Val accuracy: 0.389    weighted Val loss: 0.3309\n",
      "Epoch: 610   Train loss: 0.2532   Train accuracy: 0.236   Val loss: 0.3047   Val accuracy: 0.392    weighted Val loss: 0.3309\n",
      "Epoch: 611   Train loss: 0.2518   Train accuracy: 0.234   Val loss: 0.3069   Val accuracy: 0.4    weighted Val loss: 0.3308\n",
      "Epoch: 612   Train loss: 0.2527   Train accuracy: 0.242   Val loss: 0.3049   Val accuracy: 0.389    weighted Val loss: 0.3308\n",
      "Epoch: 613   Train loss: 0.254   Train accuracy: 0.25   Val loss: 0.3026   Val accuracy: 0.402    weighted Val loss: 0.3308\n",
      "Epoch: 614   Train loss: 0.2497   Train accuracy: 0.251   Val loss: 0.305   Val accuracy: 0.396    weighted Val loss: 0.3308\n",
      "Epoch: 615   Train loss: 0.2505   Train accuracy: 0.229   Val loss: 0.306   Val accuracy: 0.397    weighted Val loss: 0.3307\n",
      "Epoch: 616   Train loss: 0.2552   Train accuracy: 0.223   Val loss: 0.3036   Val accuracy: 0.391    weighted Val loss: 0.3307\n",
      "Epoch: 617   Train loss: 0.2528   Train accuracy: 0.234   Val loss: 0.3049   Val accuracy: 0.392    weighted Val loss: 0.3307\n",
      "Epoch: 618   Train loss: 0.2505   Train accuracy: 0.235   Val loss: 0.3023   Val accuracy: 0.397    weighted Val loss: 0.3307\n",
      "Epoch: 619   Train loss: 0.2533   Train accuracy: 0.234   Val loss: 0.3053   Val accuracy: 0.394    weighted Val loss: 0.3306\n",
      "Epoch: 620   Train loss: 0.2504   Train accuracy: 0.238   Val loss: 0.3059   Val accuracy: 0.397    weighted Val loss: 0.3306\n",
      "Epoch: 621   Train loss: 0.2513   Train accuracy: 0.244   Val loss: 0.3049   Val accuracy: 0.399    weighted Val loss: 0.3306\n",
      "Epoch: 622   Train loss: 0.2533   Train accuracy: 0.235   Val loss: 0.3064   Val accuracy: 0.398    weighted Val loss: 0.3306\n",
      "Epoch: 623   Train loss: 0.2519   Train accuracy: 0.226   Val loss: 0.3055   Val accuracy: 0.399    weighted Val loss: 0.3305\n",
      "Epoch: 624   Train loss: 0.2538   Train accuracy: 0.245   Val loss: 0.3026   Val accuracy: 0.399    weighted Val loss: 0.3305\n",
      "Epoch: 625   Train loss: 0.2533   Train accuracy: 0.232   Val loss: 0.3025   Val accuracy: 0.402    weighted Val loss: 0.3305\n",
      "Epoch: 626   Train loss: 0.2527   Train accuracy: 0.234   Val loss: 0.3064   Val accuracy: 0.395    weighted Val loss: 0.3304\n",
      "Epoch: 627   Train loss: 0.2523   Train accuracy: 0.21   Val loss: 0.3054   Val accuracy: 0.395    weighted Val loss: 0.3304\n",
      "Epoch: 628   Train loss: 0.2519   Train accuracy: 0.226   Val loss: 0.3049   Val accuracy: 0.396    weighted Val loss: 0.3304\n",
      "Epoch: 629   Train loss: 0.2545   Train accuracy: 0.257   Val loss: 0.3048   Val accuracy: 0.391    weighted Val loss: 0.3304\n",
      "Epoch: 630   Train loss: 0.2502   Train accuracy: 0.266   Val loss: 0.3031   Val accuracy: 0.401    weighted Val loss: 0.3303\n",
      "Epoch: 631   Train loss: 0.2526   Train accuracy: 0.223   Val loss: 0.3036   Val accuracy: 0.396    weighted Val loss: 0.3303\n",
      "Epoch: 632   Train loss: 0.251   Train accuracy: 0.236   Val loss: 0.3041   Val accuracy: 0.392    weighted Val loss: 0.3303\n",
      "Epoch: 633   Train loss: 0.2501   Train accuracy: 0.249   Val loss: 0.3033   Val accuracy: 0.394    weighted Val loss: 0.3303\n",
      "Epoch: 634   Train loss: 0.2519   Train accuracy: 0.238   Val loss: 0.306   Val accuracy: 0.398    weighted Val loss: 0.3302\n",
      "Epoch: 635   Train loss: 0.2502   Train accuracy: 0.251   Val loss: 0.3031   Val accuracy: 0.395    weighted Val loss: 0.3302\n",
      "Epoch: 636   Train loss: 0.2511   Train accuracy: 0.237   Val loss: 0.307   Val accuracy: 0.395    weighted Val loss: 0.3302\n",
      "Epoch: 637   Train loss: 0.2519   Train accuracy: 0.24   Val loss: 0.3035   Val accuracy: 0.393    weighted Val loss: 0.3302\n",
      "Epoch: 638   Train loss: 0.2532   Train accuracy: 0.244   Val loss: 0.3054   Val accuracy: 0.394    weighted Val loss: 0.3301\n",
      "Epoch: 639   Train loss: 0.2516   Train accuracy: 0.23   Val loss: 0.3058   Val accuracy: 0.393    weighted Val loss: 0.3301\n",
      "Epoch: 640   Train loss: 0.2549   Train accuracy: 0.228   Val loss: 0.3089   Val accuracy: 0.395    weighted Val loss: 0.3301\n",
      "Epoch: 641   Train loss: 0.2539   Train accuracy: 0.242   Val loss: 0.3062   Val accuracy: 0.402    weighted Val loss: 0.3301\n",
      "Epoch: 642   Train loss: 0.253   Train accuracy: 0.228   Val loss: 0.3056   Val accuracy: 0.396    weighted Val loss: 0.33\n",
      "Epoch: 643   Train loss: 0.254   Train accuracy: 0.24   Val loss: 0.3049   Val accuracy: 0.39    weighted Val loss: 0.33\n",
      "Epoch: 644   Train loss: 0.2526   Train accuracy: 0.242   Val loss: 0.3052   Val accuracy: 0.398    weighted Val loss: 0.33\n",
      "Epoch: 645   Train loss: 0.2505   Train accuracy: 0.248   Val loss: 0.3035   Val accuracy: 0.395    weighted Val loss: 0.33\n",
      "Epoch: 646   Train loss: 0.2559   Train accuracy: 0.221   Val loss: 0.3071   Val accuracy: 0.393    weighted Val loss: 0.3299\n",
      "Epoch: 647   Train loss: 0.2544   Train accuracy: 0.227   Val loss: 0.3084   Val accuracy: 0.394    weighted Val loss: 0.3299\n",
      "Epoch: 648   Train loss: 0.2535   Train accuracy: 0.233   Val loss: 0.3055   Val accuracy: 0.394    weighted Val loss: 0.3299\n",
      "Epoch: 649   Train loss: 0.2566   Train accuracy: 0.231   Val loss: 0.3047   Val accuracy: 0.389    weighted Val loss: 0.3299\n",
      "Epoch: 650   Train loss: 0.2543   Train accuracy: 0.228   Val loss: 0.3028   Val accuracy: 0.397    weighted Val loss: 0.3298\n",
      "Epoch: 651   Train loss: 0.251   Train accuracy: 0.233   Val loss: 0.3053   Val accuracy: 0.386    weighted Val loss: 0.3298\n",
      "Epoch: 652   Train loss: 0.2526   Train accuracy: 0.236   Val loss: 0.3082   Val accuracy: 0.386    weighted Val loss: 0.3298\n",
      "Epoch: 653   Train loss: 0.2535   Train accuracy: 0.236   Val loss: 0.3048   Val accuracy: 0.392    weighted Val loss: 0.3298\n",
      "Epoch: 654   Train loss: 0.2535   Train accuracy: 0.232   Val loss: 0.3049   Val accuracy: 0.392    weighted Val loss: 0.3297\n",
      "Epoch: 655   Train loss: 0.2529   Train accuracy: 0.233   Val loss: 0.3034   Val accuracy: 0.392    weighted Val loss: 0.3297\n",
      "Epoch: 656   Train loss: 0.2539   Train accuracy: 0.224   Val loss: 0.3062   Val accuracy: 0.391    weighted Val loss: 0.3297\n",
      "Epoch: 657   Train loss: 0.25   Train accuracy: 0.244   Val loss: 0.3055   Val accuracy: 0.392    weighted Val loss: 0.3297\n",
      "Epoch: 658   Train loss: 0.2519   Train accuracy: 0.237   Val loss: 0.3063   Val accuracy: 0.396    weighted Val loss: 0.3297\n",
      "Epoch: 659   Train loss: 0.2531   Train accuracy: 0.228   Val loss: 0.307   Val accuracy: 0.391    weighted Val loss: 0.3296\n",
      "Epoch: 660   Train loss: 0.2541   Train accuracy: 0.223   Val loss: 0.3038   Val accuracy: 0.397    weighted Val loss: 0.3296\n",
      "Epoch: 661   Train loss: 0.2505   Train accuracy: 0.24   Val loss: 0.3042   Val accuracy: 0.393    weighted Val loss: 0.3296\n",
      "Epoch: 662   Train loss: 0.2499   Train accuracy: 0.237   Val loss: 0.3051   Val accuracy: 0.387    weighted Val loss: 0.3296\n",
      "Epoch: 663   Train loss: 0.2511   Train accuracy: 0.251   Val loss: 0.3083   Val accuracy: 0.394    weighted Val loss: 0.3295\n",
      "Epoch: 664   Train loss: 0.2549   Train accuracy: 0.214   Val loss: 0.306   Val accuracy: 0.384    weighted Val loss: 0.3295\n",
      "Epoch: 665   Train loss: 0.2533   Train accuracy: 0.219   Val loss: 0.3063   Val accuracy: 0.391    weighted Val loss: 0.3295\n",
      "Epoch: 666   Train loss: 0.2534   Train accuracy: 0.238   Val loss: 0.3048   Val accuracy: 0.39    weighted Val loss: 0.3295\n",
      "Epoch: 667   Train loss: 0.2528   Train accuracy: 0.238   Val loss: 0.3082   Val accuracy: 0.39    weighted Val loss: 0.3294\n",
      "Epoch: 668   Train loss: 0.2529   Train accuracy: 0.232   Val loss: 0.3098   Val accuracy: 0.386    weighted Val loss: 0.3294\n",
      "Epoch: 669   Train loss: 0.2522   Train accuracy: 0.226   Val loss: 0.3067   Val accuracy: 0.388    weighted Val loss: 0.3294\n",
      "Epoch: 670   Train loss: 0.2519   Train accuracy: 0.234   Val loss: 0.3091   Val accuracy: 0.395    weighted Val loss: 0.3294\n",
      "Epoch: 671   Train loss: 0.2531   Train accuracy: 0.245   Val loss: 0.3054   Val accuracy: 0.386    weighted Val loss: 0.3294\n",
      "Epoch: 672   Train loss: 0.255   Train accuracy: 0.225   Val loss: 0.3046   Val accuracy: 0.395    weighted Val loss: 0.3293\n",
      "Epoch: 673   Train loss: 0.2533   Train accuracy: 0.241   Val loss: 0.3056   Val accuracy: 0.398    weighted Val loss: 0.3293\n",
      "Epoch: 674   Train loss: 0.2534   Train accuracy: 0.222   Val loss: 0.3031   Val accuracy: 0.395    weighted Val loss: 0.3293\n",
      "Epoch: 675   Train loss: 0.2519   Train accuracy: 0.241   Val loss: 0.3076   Val accuracy: 0.392    weighted Val loss: 0.3293\n",
      "Epoch: 676   Train loss: 0.2517   Train accuracy: 0.232   Val loss: 0.3038   Val accuracy: 0.389    weighted Val loss: 0.3292\n",
      "Epoch: 677   Train loss: 0.253   Train accuracy: 0.232   Val loss: 0.3085   Val accuracy: 0.381    weighted Val loss: 0.3292\n",
      "Epoch: 678   Train loss: 0.2514   Train accuracy: 0.257   Val loss: 0.3059   Val accuracy: 0.388    weighted Val loss: 0.3292\n",
      "Epoch: 679   Train loss: 0.2534   Train accuracy: 0.24   Val loss: 0.305   Val accuracy: 0.388    weighted Val loss: 0.3292\n",
      "Epoch: 680   Train loss: 0.2553   Train accuracy: 0.227   Val loss: 0.3046   Val accuracy: 0.392    weighted Val loss: 0.3291\n",
      "Epoch: 681   Train loss: 0.2528   Train accuracy: 0.234   Val loss: 0.3039   Val accuracy: 0.393    weighted Val loss: 0.3291\n",
      "Epoch: 682   Train loss: 0.2503   Train accuracy: 0.261   Val loss: 0.3078   Val accuracy: 0.393    weighted Val loss: 0.3291\n",
      "Epoch: 683   Train loss: 0.2537   Train accuracy: 0.243   Val loss: 0.302   Val accuracy: 0.395    weighted Val loss: 0.3291\n",
      "Epoch: 684   Train loss: 0.2542   Train accuracy: 0.253   Val loss: 0.3058   Val accuracy: 0.393    weighted Val loss: 0.329\n",
      "Epoch: 685   Train loss: 0.2537   Train accuracy: 0.239   Val loss: 0.3043   Val accuracy: 0.395    weighted Val loss: 0.329\n",
      "Epoch: 686   Train loss: 0.2523   Train accuracy: 0.239   Val loss: 0.3047   Val accuracy: 0.392    weighted Val loss: 0.329\n",
      "Epoch: 687   Train loss: 0.2513   Train accuracy: 0.248   Val loss: 0.305   Val accuracy: 0.39    weighted Val loss: 0.329\n",
      "Epoch: 688   Train loss: 0.2503   Train accuracy: 0.26   Val loss: 0.3076   Val accuracy: 0.387    weighted Val loss: 0.3289\n",
      "Epoch: 689   Train loss: 0.2534   Train accuracy: 0.232   Val loss: 0.3062   Val accuracy: 0.391    weighted Val loss: 0.3289\n",
      "Epoch: 690   Train loss: 0.2524   Train accuracy: 0.229   Val loss: 0.3053   Val accuracy: 0.392    weighted Val loss: 0.3289\n",
      "Epoch: 691   Train loss: 0.2525   Train accuracy: 0.24   Val loss: 0.3096   Val accuracy: 0.397    weighted Val loss: 0.3289\n",
      "Epoch: 692   Train loss: 0.2535   Train accuracy: 0.228   Val loss: 0.3082   Val accuracy: 0.397    weighted Val loss: 0.3289\n",
      "Epoch: 693   Train loss: 0.2524   Train accuracy: 0.232   Val loss: 0.3043   Val accuracy: 0.392    weighted Val loss: 0.3288\n",
      "Epoch: 694   Train loss: 0.251   Train accuracy: 0.247   Val loss: 0.3092   Val accuracy: 0.396    weighted Val loss: 0.3288\n",
      "Epoch: 695   Train loss: 0.2543   Train accuracy: 0.234   Val loss: 0.3055   Val accuracy: 0.398    weighted Val loss: 0.3288\n",
      "Epoch: 696   Train loss: 0.252   Train accuracy: 0.246   Val loss: 0.3059   Val accuracy: 0.392    weighted Val loss: 0.3288\n",
      "Epoch: 697   Train loss: 0.2531   Train accuracy: 0.243   Val loss: 0.3054   Val accuracy: 0.39    weighted Val loss: 0.3287\n",
      "Epoch: 698   Train loss: 0.255   Train accuracy: 0.233   Val loss: 0.305   Val accuracy: 0.392    weighted Val loss: 0.3287\n",
      "Epoch: 699   Train loss: 0.2539   Train accuracy: 0.233   Val loss: 0.3049   Val accuracy: 0.392    weighted Val loss: 0.3287\n",
      "Epoch: 700   Train loss: 0.2526   Train accuracy: 0.239   Val loss: 0.3046   Val accuracy: 0.391    weighted Val loss: 0.3287\n",
      "Epoch: 701   Train loss: 0.2533   Train accuracy: 0.219   Val loss: 0.3073   Val accuracy: 0.392    weighted Val loss: 0.3287\n",
      "Epoch: 702   Train loss: 0.2516   Train accuracy: 0.244   Val loss: 0.3054   Val accuracy: 0.39    weighted Val loss: 0.3286\n",
      "Epoch: 703   Train loss: 0.2504   Train accuracy: 0.241   Val loss: 0.3064   Val accuracy: 0.39    weighted Val loss: 0.3286\n",
      "Epoch: 704   Train loss: 0.2505   Train accuracy: 0.234   Val loss: 0.3053   Val accuracy: 0.396    weighted Val loss: 0.3286\n",
      "Epoch: 705   Train loss: 0.2529   Train accuracy: 0.226   Val loss: 0.3026   Val accuracy: 0.395    weighted Val loss: 0.3286\n",
      "Epoch: 706   Train loss: 0.2506   Train accuracy: 0.242   Val loss: 0.3032   Val accuracy: 0.395    weighted Val loss: 0.3285\n",
      "Epoch: 707   Train loss: 0.2552   Train accuracy: 0.223   Val loss: 0.3066   Val accuracy: 0.393    weighted Val loss: 0.3285\n",
      "Epoch: 708   Train loss: 0.2548   Train accuracy: 0.229   Val loss: 0.3055   Val accuracy: 0.395    weighted Val loss: 0.3285\n",
      "Epoch: 709   Train loss: 0.2529   Train accuracy: 0.236   Val loss: 0.3074   Val accuracy: 0.394    weighted Val loss: 0.3285\n",
      "Epoch: 710   Train loss: 0.2508   Train accuracy: 0.226   Val loss: 0.3043   Val accuracy: 0.392    weighted Val loss: 0.3284\n",
      "Epoch: 711   Train loss: 0.2521   Train accuracy: 0.242   Val loss: 0.3058   Val accuracy: 0.392    weighted Val loss: 0.3284\n",
      "Epoch: 712   Train loss: 0.2538   Train accuracy: 0.23   Val loss: 0.3052   Val accuracy: 0.391    weighted Val loss: 0.3284\n",
      "Epoch: 713   Train loss: 0.2527   Train accuracy: 0.223   Val loss: 0.3087   Val accuracy: 0.388    weighted Val loss: 0.3284\n",
      "Epoch: 714   Train loss: 0.2515   Train accuracy: 0.246   Val loss: 0.3049   Val accuracy: 0.391    weighted Val loss: 0.3284\n",
      "Epoch: 715   Train loss: 0.2554   Train accuracy: 0.235   Val loss: 0.3068   Val accuracy: 0.391    weighted Val loss: 0.3283\n",
      "Epoch: 716   Train loss: 0.2529   Train accuracy: 0.228   Val loss: 0.305   Val accuracy: 0.391    weighted Val loss: 0.3283\n",
      "Epoch: 717   Train loss: 0.2487   Train accuracy: 0.237   Val loss: 0.308   Val accuracy: 0.392    weighted Val loss: 0.3283\n",
      "Epoch: 718   Train loss: 0.2541   Train accuracy: 0.233   Val loss: 0.3047   Val accuracy: 0.394    weighted Val loss: 0.3283\n",
      "Epoch: 719   Train loss: 0.2517   Train accuracy: 0.255   Val loss: 0.3066   Val accuracy: 0.395    weighted Val loss: 0.3282\n",
      "Epoch: 720   Train loss: 0.2518   Train accuracy: 0.242   Val loss: 0.3108   Val accuracy: 0.391    weighted Val loss: 0.3282\n",
      "Epoch: 721   Train loss: 0.2504   Train accuracy: 0.243   Val loss: 0.3051   Val accuracy: 0.394    weighted Val loss: 0.3282\n",
      "Epoch: 722   Train loss: 0.252   Train accuracy: 0.241   Val loss: 0.3036   Val accuracy: 0.392    weighted Val loss: 0.3282\n",
      "Epoch: 723   Train loss: 0.2509   Train accuracy: 0.244   Val loss: 0.3058   Val accuracy: 0.394    weighted Val loss: 0.3282\n",
      "Epoch: 724   Train loss: 0.2533   Train accuracy: 0.244   Val loss: 0.3065   Val accuracy: 0.399    weighted Val loss: 0.3281\n",
      "Epoch: 725   Train loss: 0.2522   Train accuracy: 0.239   Val loss: 0.3056   Val accuracy: 0.392    weighted Val loss: 0.3281\n",
      "Epoch: 726   Train loss: 0.2531   Train accuracy: 0.246   Val loss: 0.303   Val accuracy: 0.399    weighted Val loss: 0.3281\n",
      "Epoch: 727   Train loss: 0.2504   Train accuracy: 0.247   Val loss: 0.3033   Val accuracy: 0.394    weighted Val loss: 0.3281\n",
      "Epoch: 728   Train loss: 0.2532   Train accuracy: 0.234   Val loss: 0.3054   Val accuracy: 0.39    weighted Val loss: 0.328\n",
      "Epoch: 729   Train loss: 0.251   Train accuracy: 0.24   Val loss: 0.3074   Val accuracy: 0.389    weighted Val loss: 0.328\n",
      "Epoch: 730   Train loss: 0.2537   Train accuracy: 0.235   Val loss: 0.3052   Val accuracy: 0.395    weighted Val loss: 0.328\n",
      "Epoch: 731   Train loss: 0.2506   Train accuracy: 0.262   Val loss: 0.3053   Val accuracy: 0.396    weighted Val loss: 0.328\n",
      "Epoch: 732   Train loss: 0.2545   Train accuracy: 0.239   Val loss: 0.3039   Val accuracy: 0.388    weighted Val loss: 0.3279\n",
      "Epoch: 733   Train loss: 0.253   Train accuracy: 0.233   Val loss: 0.305   Val accuracy: 0.391    weighted Val loss: 0.3279\n",
      "Epoch: 734   Train loss: 0.2555   Train accuracy: 0.207   Val loss: 0.3028   Val accuracy: 0.399    weighted Val loss: 0.3279\n",
      "Epoch: 735   Train loss: 0.2556   Train accuracy: 0.219   Val loss: 0.3031   Val accuracy: 0.389    weighted Val loss: 0.3279\n",
      "Epoch: 736   Train loss: 0.2522   Train accuracy: 0.242   Val loss: 0.3028   Val accuracy: 0.399    weighted Val loss: 0.3279\n",
      "Epoch: 737   Train loss: 0.2526   Train accuracy: 0.232   Val loss: 0.3051   Val accuracy: 0.393    weighted Val loss: 0.3278\n",
      "Epoch: 738   Train loss: 0.2555   Train accuracy: 0.222   Val loss: 0.3043   Val accuracy: 0.392    weighted Val loss: 0.3278\n",
      "Epoch: 739   Train loss: 0.2532   Train accuracy: 0.243   Val loss: 0.3077   Val accuracy: 0.395    weighted Val loss: 0.3278\n",
      "Epoch: 740   Train loss: 0.2529   Train accuracy: 0.233   Val loss: 0.3036   Val accuracy: 0.389    weighted Val loss: 0.3278\n",
      "Epoch: 741   Train loss: 0.2535   Train accuracy: 0.237   Val loss: 0.3044   Val accuracy: 0.393    weighted Val loss: 0.3277\n",
      "Epoch: 742   Train loss: 0.2514   Train accuracy: 0.224   Val loss: 0.3068   Val accuracy: 0.398    weighted Val loss: 0.3277\n",
      "Epoch: 743   Train loss: 0.2517   Train accuracy: 0.236   Val loss: 0.3057   Val accuracy: 0.392    weighted Val loss: 0.3277\n",
      "Epoch: 744   Train loss: 0.2533   Train accuracy: 0.236   Val loss: 0.3071   Val accuracy: 0.393    weighted Val loss: 0.3277\n",
      "Epoch: 745   Train loss: 0.2504   Train accuracy: 0.231   Val loss: 0.3071   Val accuracy: 0.392    weighted Val loss: 0.3277\n",
      "Epoch: 746   Train loss: 0.2508   Train accuracy: 0.25   Val loss: 0.3031   Val accuracy: 0.396    weighted Val loss: 0.3276\n",
      "Epoch: 747   Train loss: 0.2538   Train accuracy: 0.239   Val loss: 0.3054   Val accuracy: 0.395    weighted Val loss: 0.3276\n",
      "Epoch: 748   Train loss: 0.2544   Train accuracy: 0.238   Val loss: 0.3066   Val accuracy: 0.392    weighted Val loss: 0.3276\n",
      "Epoch: 749   Train loss: 0.2521   Train accuracy: 0.239   Val loss: 0.3034   Val accuracy: 0.39    weighted Val loss: 0.3276\n",
      "Epoch: 750   Train loss: 0.2495   Train accuracy: 0.239   Val loss: 0.3029   Val accuracy: 0.392    weighted Val loss: 0.3275\n",
      "Epoch: 751   Train loss: 0.2533   Train accuracy: 0.233   Val loss: 0.3062   Val accuracy: 0.387    weighted Val loss: 0.3275\n",
      "Epoch: 752   Train loss: 0.2545   Train accuracy: 0.228   Val loss: 0.3043   Val accuracy: 0.393    weighted Val loss: 0.3275\n",
      "Epoch: 753   Train loss: 0.2529   Train accuracy: 0.238   Val loss: 0.3073   Val accuracy: 0.396    weighted Val loss: 0.3275\n",
      "Epoch: 754   Train loss: 0.252   Train accuracy: 0.246   Val loss: 0.3042   Val accuracy: 0.392    weighted Val loss: 0.3274\n",
      "Epoch: 755   Train loss: 0.2507   Train accuracy: 0.25   Val loss: 0.3076   Val accuracy: 0.398    weighted Val loss: 0.3274\n",
      "Epoch: 756   Train loss: 0.2536   Train accuracy: 0.236   Val loss: 0.3072   Val accuracy: 0.394    weighted Val loss: 0.3274\n",
      "Epoch: 757   Train loss: 0.2513   Train accuracy: 0.237   Val loss: 0.302   Val accuracy: 0.403    weighted Val loss: 0.3274\n",
      "Epoch: 758   Train loss: 0.2509   Train accuracy: 0.249   Val loss: 0.3044   Val accuracy: 0.391    weighted Val loss: 0.3274\n",
      "Epoch: 759   Train loss: 0.2542   Train accuracy: 0.23   Val loss: 0.3037   Val accuracy: 0.393    weighted Val loss: 0.3273\n",
      "Epoch: 760   Train loss: 0.2537   Train accuracy: 0.219   Val loss: 0.3029   Val accuracy: 0.391    weighted Val loss: 0.3273\n",
      "Epoch: 761   Train loss: 0.2534   Train accuracy: 0.253   Val loss: 0.307   Val accuracy: 0.38    weighted Val loss: 0.3273\n",
      "Epoch: 762   Train loss: 0.2514   Train accuracy: 0.228   Val loss: 0.304   Val accuracy: 0.388    weighted Val loss: 0.3273\n",
      "Epoch: 763   Train loss: 0.2516   Train accuracy: 0.25   Val loss: 0.306   Val accuracy: 0.391    weighted Val loss: 0.3272\n",
      "Epoch: 764   Train loss: 0.2532   Train accuracy: 0.229   Val loss: 0.3046   Val accuracy: 0.388    weighted Val loss: 0.3272\n",
      "Epoch: 765   Train loss: 0.2508   Train accuracy: 0.252   Val loss: 0.3058   Val accuracy: 0.391    weighted Val loss: 0.3272\n",
      "Epoch: 766   Train loss: 0.2513   Train accuracy: 0.246   Val loss: 0.3065   Val accuracy: 0.393    weighted Val loss: 0.3272\n",
      "Epoch: 767   Train loss: 0.2554   Train accuracy: 0.242   Val loss: 0.3039   Val accuracy: 0.397    weighted Val loss: 0.3272\n",
      "Epoch: 768   Train loss: 0.2516   Train accuracy: 0.227   Val loss: 0.3064   Val accuracy: 0.393    weighted Val loss: 0.3271\n",
      "Epoch: 769   Train loss: 0.2508   Train accuracy: 0.244   Val loss: 0.3039   Val accuracy: 0.394    weighted Val loss: 0.3271\n",
      "Epoch: 770   Train loss: 0.2531   Train accuracy: 0.245   Val loss: 0.3036   Val accuracy: 0.397    weighted Val loss: 0.3271\n",
      "Epoch: 771   Train loss: 0.2491   Train accuracy: 0.252   Val loss: 0.303   Val accuracy: 0.389    weighted Val loss: 0.3271\n",
      "Epoch: 772   Train loss: 0.2521   Train accuracy: 0.248   Val loss: 0.3026   Val accuracy: 0.392    weighted Val loss: 0.327\n",
      "Epoch: 773   Train loss: 0.2514   Train accuracy: 0.253   Val loss: 0.3056   Val accuracy: 0.394    weighted Val loss: 0.327\n",
      "Epoch: 774   Train loss: 0.2548   Train accuracy: 0.213   Val loss: 0.3039   Val accuracy: 0.391    weighted Val loss: 0.327\n",
      "Epoch: 775   Train loss: 0.2528   Train accuracy: 0.235   Val loss: 0.3027   Val accuracy: 0.394    weighted Val loss: 0.327\n",
      "Epoch: 776   Train loss: 0.2503   Train accuracy: 0.248   Val loss: 0.3045   Val accuracy: 0.393    weighted Val loss: 0.327\n",
      "Epoch: 777   Train loss: 0.2551   Train accuracy: 0.222   Val loss: 0.3042   Val accuracy: 0.392    weighted Val loss: 0.3269\n",
      "Epoch: 778   Train loss: 0.2538   Train accuracy: 0.238   Val loss: 0.3072   Val accuracy: 0.388    weighted Val loss: 0.3269\n",
      "Epoch: 779   Train loss: 0.253   Train accuracy: 0.241   Val loss: 0.3048   Val accuracy: 0.393    weighted Val loss: 0.3269\n",
      "Epoch: 780   Train loss: 0.2521   Train accuracy: 0.234   Val loss: 0.3073   Val accuracy: 0.391    weighted Val loss: 0.3269\n",
      "Epoch: 781   Train loss: 0.2511   Train accuracy: 0.25   Val loss: 0.3035   Val accuracy: 0.393    weighted Val loss: 0.3268\n",
      "Epoch: 782   Train loss: 0.2537   Train accuracy: 0.223   Val loss: 0.3057   Val accuracy: 0.396    weighted Val loss: 0.3268\n",
      "Epoch: 783   Train loss: 0.2519   Train accuracy: 0.23   Val loss: 0.306   Val accuracy: 0.396    weighted Val loss: 0.3268\n",
      "Epoch: 784   Train loss: 0.2531   Train accuracy: 0.233   Val loss: 0.3073   Val accuracy: 0.388    weighted Val loss: 0.3268\n",
      "Epoch: 785   Train loss: 0.2518   Train accuracy: 0.239   Val loss: 0.3058   Val accuracy: 0.391    weighted Val loss: 0.3268\n",
      "Epoch: 786   Train loss: 0.2513   Train accuracy: 0.246   Val loss: 0.3069   Val accuracy: 0.389    weighted Val loss: 0.3267\n",
      "Epoch: 787   Train loss: 0.251   Train accuracy: 0.256   Val loss: 0.3047   Val accuracy: 0.391    weighted Val loss: 0.3267\n",
      "Epoch: 788   Train loss: 0.2521   Train accuracy: 0.242   Val loss: 0.3036   Val accuracy: 0.393    weighted Val loss: 0.3267\n",
      "Epoch: 789   Train loss: 0.2521   Train accuracy: 0.241   Val loss: 0.3032   Val accuracy: 0.391    weighted Val loss: 0.3267\n",
      "Epoch: 790   Train loss: 0.2524   Train accuracy: 0.262   Val loss: 0.3027   Val accuracy: 0.401    weighted Val loss: 0.3266\n",
      "Epoch: 791   Train loss: 0.2529   Train accuracy: 0.246   Val loss: 0.3067   Val accuracy: 0.396    weighted Val loss: 0.3266\n",
      "Epoch: 792   Train loss: 0.2554   Train accuracy: 0.218   Val loss: 0.3067   Val accuracy: 0.396    weighted Val loss: 0.3266\n",
      "Epoch: 793   Train loss: 0.2518   Train accuracy: 0.243   Val loss: 0.3036   Val accuracy: 0.395    weighted Val loss: 0.3266\n",
      "Epoch: 794   Train loss: 0.2532   Train accuracy: 0.228   Val loss: 0.3081   Val accuracy: 0.396    weighted Val loss: 0.3266\n",
      "Epoch: 795   Train loss: 0.252   Train accuracy: 0.234   Val loss: 0.3068   Val accuracy: 0.397    weighted Val loss: 0.3265\n",
      "Epoch: 796   Train loss: 0.255   Train accuracy: 0.231   Val loss: 0.3048   Val accuracy: 0.387    weighted Val loss: 0.3265\n",
      "Epoch: 797   Train loss: 0.2536   Train accuracy: 0.229   Val loss: 0.3052   Val accuracy: 0.39    weighted Val loss: 0.3265\n",
      "Epoch: 798   Train loss: 0.2543   Train accuracy: 0.232   Val loss: 0.3069   Val accuracy: 0.394    weighted Val loss: 0.3265\n",
      "Epoch: 799   Train loss: 0.2522   Train accuracy: 0.22   Val loss: 0.3034   Val accuracy: 0.394    weighted Val loss: 0.3265\n",
      "Epoch: 800   Train loss: 0.2528   Train accuracy: 0.228   Val loss: 0.3047   Val accuracy: 0.393    weighted Val loss: 0.3264\n",
      "Epoch: 801   Train loss: 0.2524   Train accuracy: 0.244   Val loss: 0.3089   Val accuracy: 0.396    weighted Val loss: 0.3264\n",
      "Epoch: 802   Train loss: 0.2496   Train accuracy: 0.264   Val loss: 0.3066   Val accuracy: 0.4    weighted Val loss: 0.3264\n",
      "Epoch: 803   Train loss: 0.2505   Train accuracy: 0.248   Val loss: 0.3056   Val accuracy: 0.398    weighted Val loss: 0.3264\n",
      "Epoch: 804   Train loss: 0.2516   Train accuracy: 0.245   Val loss: 0.3056   Val accuracy: 0.396    weighted Val loss: 0.3264\n",
      "Epoch: 805   Train loss: 0.2547   Train accuracy: 0.23   Val loss: 0.3044   Val accuracy: 0.389    weighted Val loss: 0.3263\n",
      "Epoch: 806   Train loss: 0.2526   Train accuracy: 0.231   Val loss: 0.3029   Val accuracy: 0.391    weighted Val loss: 0.3263\n",
      "Epoch: 807   Train loss: 0.2504   Train accuracy: 0.253   Val loss: 0.306   Val accuracy: 0.396    weighted Val loss: 0.3263\n",
      "Epoch: 808   Train loss: 0.2531   Train accuracy: 0.219   Val loss: 0.3051   Val accuracy: 0.391    weighted Val loss: 0.3263\n",
      "Epoch: 809   Train loss: 0.2528   Train accuracy: 0.245   Val loss: 0.3027   Val accuracy: 0.396    weighted Val loss: 0.3263\n",
      "Epoch: 810   Train loss: 0.2565   Train accuracy: 0.213   Val loss: 0.3041   Val accuracy: 0.389    weighted Val loss: 0.3262\n",
      "Epoch: 811   Train loss: 0.2538   Train accuracy: 0.22   Val loss: 0.3044   Val accuracy: 0.39    weighted Val loss: 0.3262\n",
      "Epoch: 812   Train loss: 0.2539   Train accuracy: 0.229   Val loss: 0.3058   Val accuracy: 0.392    weighted Val loss: 0.3262\n",
      "Epoch: 813   Train loss: 0.2514   Train accuracy: 0.243   Val loss: 0.3048   Val accuracy: 0.392    weighted Val loss: 0.3262\n",
      "Epoch: 814   Train loss: 0.2507   Train accuracy: 0.245   Val loss: 0.3042   Val accuracy: 0.391    weighted Val loss: 0.3261\n",
      "Epoch: 815   Train loss: 0.254   Train accuracy: 0.247   Val loss: 0.306   Val accuracy: 0.384    weighted Val loss: 0.3261\n",
      "Epoch: 816   Train loss: 0.255   Train accuracy: 0.221   Val loss: 0.3062   Val accuracy: 0.391    weighted Val loss: 0.3261\n",
      "Epoch: 817   Train loss: 0.254   Train accuracy: 0.232   Val loss: 0.3071   Val accuracy: 0.392    weighted Val loss: 0.3261\n",
      "Epoch: 818   Train loss: 0.2542   Train accuracy: 0.231   Val loss: 0.3043   Val accuracy: 0.392    weighted Val loss: 0.3261\n",
      "Epoch: 819   Train loss: 0.2518   Train accuracy: 0.243   Val loss: 0.305   Val accuracy: 0.393    weighted Val loss: 0.326\n",
      "Epoch: 820   Train loss: 0.2532   Train accuracy: 0.236   Val loss: 0.3058   Val accuracy: 0.399    weighted Val loss: 0.326\n",
      "Epoch: 821   Train loss: 0.2512   Train accuracy: 0.235   Val loss: 0.3078   Val accuracy: 0.389    weighted Val loss: 0.326\n",
      "Epoch: 822   Train loss: 0.2516   Train accuracy: 0.249   Val loss: 0.3074   Val accuracy: 0.386    weighted Val loss: 0.326\n",
      "Epoch: 823   Train loss: 0.2503   Train accuracy: 0.236   Val loss: 0.3053   Val accuracy: 0.39    weighted Val loss: 0.326\n",
      "Epoch: 824   Train loss: 0.2525   Train accuracy: 0.252   Val loss: 0.3062   Val accuracy: 0.386    weighted Val loss: 0.3259\n",
      "Epoch: 825   Train loss: 0.2526   Train accuracy: 0.219   Val loss: 0.3048   Val accuracy: 0.384    weighted Val loss: 0.3259\n",
      "Epoch: 826   Train loss: 0.2556   Train accuracy: 0.23   Val loss: 0.3067   Val accuracy: 0.391    weighted Val loss: 0.3259\n",
      "Epoch: 827   Train loss: 0.2557   Train accuracy: 0.224   Val loss: 0.307   Val accuracy: 0.393    weighted Val loss: 0.3259\n",
      "Epoch: 828   Train loss: 0.2524   Train accuracy: 0.228   Val loss: 0.3049   Val accuracy: 0.393    weighted Val loss: 0.3259\n",
      "Epoch: 829   Train loss: 0.2531   Train accuracy: 0.228   Val loss: 0.3103   Val accuracy: 0.387    weighted Val loss: 0.3258\n",
      "Epoch: 830   Train loss: 0.2541   Train accuracy: 0.236   Val loss: 0.3061   Val accuracy: 0.392    weighted Val loss: 0.3258\n",
      "Epoch: 831   Train loss: 0.2529   Train accuracy: 0.223   Val loss: 0.3072   Val accuracy: 0.396    weighted Val loss: 0.3258\n",
      "Epoch: 832   Train loss: 0.2534   Train accuracy: 0.233   Val loss: 0.3035   Val accuracy: 0.396    weighted Val loss: 0.3258\n",
      "Epoch: 833   Train loss: 0.2542   Train accuracy: 0.23   Val loss: 0.3036   Val accuracy: 0.391    weighted Val loss: 0.3258\n",
      "Epoch: 834   Train loss: 0.2517   Train accuracy: 0.237   Val loss: 0.3056   Val accuracy: 0.394    weighted Val loss: 0.3257\n",
      "Epoch: 835   Train loss: 0.2501   Train accuracy: 0.243   Val loss: 0.3048   Val accuracy: 0.39    weighted Val loss: 0.3257\n",
      "Epoch: 836   Train loss: 0.2536   Train accuracy: 0.24   Val loss: 0.3084   Val accuracy: 0.396    weighted Val loss: 0.3257\n",
      "Epoch: 837   Train loss: 0.2523   Train accuracy: 0.242   Val loss: 0.3052   Val accuracy: 0.39    weighted Val loss: 0.3257\n",
      "Epoch: 838   Train loss: 0.2533   Train accuracy: 0.232   Val loss: 0.306   Val accuracy: 0.388    weighted Val loss: 0.3257\n",
      "Epoch: 839   Train loss: 0.256   Train accuracy: 0.236   Val loss: 0.3039   Val accuracy: 0.391    weighted Val loss: 0.3256\n",
      "Epoch: 840   Train loss: 0.2534   Train accuracy: 0.233   Val loss: 0.3069   Val accuracy: 0.39    weighted Val loss: 0.3256\n",
      "Epoch: 841   Train loss: 0.2537   Train accuracy: 0.238   Val loss: 0.305   Val accuracy: 0.39    weighted Val loss: 0.3256\n",
      "Epoch: 842   Train loss: 0.2558   Train accuracy: 0.229   Val loss: 0.3039   Val accuracy: 0.401    weighted Val loss: 0.3256\n",
      "Epoch: 843   Train loss: 0.254   Train accuracy: 0.23   Val loss: 0.3066   Val accuracy: 0.387    weighted Val loss: 0.3256\n",
      "Epoch: 844   Train loss: 0.2548   Train accuracy: 0.211   Val loss: 0.3058   Val accuracy: 0.389    weighted Val loss: 0.3255\n",
      "Epoch: 845   Train loss: 0.2528   Train accuracy: 0.258   Val loss: 0.3101   Val accuracy: 0.387    weighted Val loss: 0.3255\n",
      "Epoch: 846   Train loss: 0.2536   Train accuracy: 0.235   Val loss: 0.3117   Val accuracy: 0.38    weighted Val loss: 0.3255\n",
      "Epoch: 847   Train loss: 0.2517   Train accuracy: 0.234   Val loss: 0.309   Val accuracy: 0.391    weighted Val loss: 0.3255\n",
      "Epoch: 848   Train loss: 0.2551   Train accuracy: 0.24   Val loss: 0.304   Val accuracy: 0.391    weighted Val loss: 0.3255\n",
      "Epoch: 849   Train loss: 0.2546   Train accuracy: 0.22   Val loss: 0.3065   Val accuracy: 0.393    weighted Val loss: 0.3255\n",
      "Epoch: 850   Train loss: 0.253   Train accuracy: 0.236   Val loss: 0.3064   Val accuracy: 0.396    weighted Val loss: 0.3254\n",
      "Epoch: 851   Train loss: 0.2563   Train accuracy: 0.215   Val loss: 0.3071   Val accuracy: 0.392    weighted Val loss: 0.3254\n",
      "Epoch: 852   Train loss: 0.2527   Train accuracy: 0.262   Val loss: 0.305   Val accuracy: 0.393    weighted Val loss: 0.3254\n",
      "Epoch: 853   Train loss: 0.2518   Train accuracy: 0.228   Val loss: 0.3053   Val accuracy: 0.39    weighted Val loss: 0.3254\n",
      "Epoch: 854   Train loss: 0.2527   Train accuracy: 0.232   Val loss: 0.305   Val accuracy: 0.398    weighted Val loss: 0.3254\n",
      "Epoch: 855   Train loss: 0.2523   Train accuracy: 0.233   Val loss: 0.3088   Val accuracy: 0.396    weighted Val loss: 0.3253\n",
      "Epoch: 856   Train loss: 0.2506   Train accuracy: 0.232   Val loss: 0.3063   Val accuracy: 0.395    weighted Val loss: 0.3253\n",
      "Epoch: 857   Train loss: 0.2533   Train accuracy: 0.246   Val loss: 0.3058   Val accuracy: 0.391    weighted Val loss: 0.3253\n",
      "Epoch: 858   Train loss: 0.2522   Train accuracy: 0.236   Val loss: 0.3051   Val accuracy: 0.39    weighted Val loss: 0.3253\n",
      "Epoch: 859   Train loss: 0.253   Train accuracy: 0.235   Val loss: 0.3041   Val accuracy: 0.393    weighted Val loss: 0.3253\n",
      "Epoch: 860   Train loss: 0.2529   Train accuracy: 0.227   Val loss: 0.305   Val accuracy: 0.39    weighted Val loss: 0.3252\n",
      "Epoch: 861   Train loss: 0.2505   Train accuracy: 0.249   Val loss: 0.3048   Val accuracy: 0.392    weighted Val loss: 0.3252\n",
      "Epoch: 862   Train loss: 0.2526   Train accuracy: 0.238   Val loss: 0.3053   Val accuracy: 0.394    weighted Val loss: 0.3252\n",
      "Epoch: 863   Train loss: 0.2513   Train accuracy: 0.223   Val loss: 0.3052   Val accuracy: 0.398    weighted Val loss: 0.3252\n",
      "Epoch: 864   Train loss: 0.2498   Train accuracy: 0.254   Val loss: 0.3068   Val accuracy: 0.398    weighted Val loss: 0.3252\n",
      "Epoch: 865   Train loss: 0.2499   Train accuracy: 0.257   Val loss: 0.303   Val accuracy: 0.401    weighted Val loss: 0.3251\n",
      "Epoch: 866   Train loss: 0.2544   Train accuracy: 0.236   Val loss: 0.3105   Val accuracy: 0.395    weighted Val loss: 0.3251\n",
      "Epoch: 867   Train loss: 0.2546   Train accuracy: 0.218   Val loss: 0.303   Val accuracy: 0.4    weighted Val loss: 0.3251\n",
      "Epoch: 868   Train loss: 0.2554   Train accuracy: 0.241   Val loss: 0.3048   Val accuracy: 0.393    weighted Val loss: 0.3251\n",
      "Epoch: 869   Train loss: 0.2541   Train accuracy: 0.241   Val loss: 0.3094   Val accuracy: 0.39    weighted Val loss: 0.3251\n",
      "Epoch: 870   Train loss: 0.2534   Train accuracy: 0.224   Val loss: 0.3048   Val accuracy: 0.395    weighted Val loss: 0.325\n",
      "Epoch: 871   Train loss: 0.2522   Train accuracy: 0.244   Val loss: 0.3044   Val accuracy: 0.393    weighted Val loss: 0.325\n",
      "Epoch: 872   Train loss: 0.2529   Train accuracy: 0.244   Val loss: 0.3032   Val accuracy: 0.4    weighted Val loss: 0.325\n",
      "Epoch: 873   Train loss: 0.2492   Train accuracy: 0.251   Val loss: 0.3037   Val accuracy: 0.392    weighted Val loss: 0.325\n",
      "Epoch: 874   Train loss: 0.2522   Train accuracy: 0.244   Val loss: 0.3078   Val accuracy: 0.4    weighted Val loss: 0.325\n",
      "Epoch: 875   Train loss: 0.2513   Train accuracy: 0.243   Val loss: 0.3075   Val accuracy: 0.392    weighted Val loss: 0.325\n",
      "Epoch: 876   Train loss: 0.2513   Train accuracy: 0.246   Val loss: 0.3053   Val accuracy: 0.389    weighted Val loss: 0.3249\n",
      "Epoch: 877   Train loss: 0.2504   Train accuracy: 0.233   Val loss: 0.3046   Val accuracy: 0.39    weighted Val loss: 0.3249\n",
      "Epoch: 878   Train loss: 0.2501   Train accuracy: 0.263   Val loss: 0.3069   Val accuracy: 0.392    weighted Val loss: 0.3249\n",
      "Epoch: 879   Train loss: 0.2533   Train accuracy: 0.234   Val loss: 0.3042   Val accuracy: 0.394    weighted Val loss: 0.3249\n",
      "Epoch: 880   Train loss: 0.2551   Train accuracy: 0.234   Val loss: 0.3072   Val accuracy: 0.393    weighted Val loss: 0.3249\n",
      "Epoch: 881   Train loss: 0.2504   Train accuracy: 0.244   Val loss: 0.3063   Val accuracy: 0.393    weighted Val loss: 0.3248\n",
      "Epoch: 882   Train loss: 0.2516   Train accuracy: 0.232   Val loss: 0.3103   Val accuracy: 0.397    weighted Val loss: 0.3248\n",
      "Epoch: 883   Train loss: 0.2523   Train accuracy: 0.238   Val loss: 0.306   Val accuracy: 0.397    weighted Val loss: 0.3248\n",
      "Epoch: 884   Train loss: 0.2519   Train accuracy: 0.226   Val loss: 0.307   Val accuracy: 0.391    weighted Val loss: 0.3248\n",
      "Epoch: 885   Train loss: 0.2501   Train accuracy: 0.269   Val loss: 0.3034   Val accuracy: 0.393    weighted Val loss: 0.3248\n",
      "Epoch: 886   Train loss: 0.2541   Train accuracy: 0.236   Val loss: 0.3043   Val accuracy: 0.39    weighted Val loss: 0.3247\n",
      "Epoch: 887   Train loss: 0.2537   Train accuracy: 0.25   Val loss: 0.3035   Val accuracy: 0.395    weighted Val loss: 0.3247\n",
      "Epoch: 888   Train loss: 0.255   Train accuracy: 0.237   Val loss: 0.3056   Val accuracy: 0.386    weighted Val loss: 0.3247\n",
      "Epoch: 889   Train loss: 0.2494   Train accuracy: 0.251   Val loss: 0.3027   Val accuracy: 0.395    weighted Val loss: 0.3247\n",
      "Epoch: 890   Train loss: 0.2544   Train accuracy: 0.218   Val loss: 0.3062   Val accuracy: 0.395    weighted Val loss: 0.3247\n",
      "Epoch: 891   Train loss: 0.254   Train accuracy: 0.247   Val loss: 0.3056   Val accuracy: 0.389    weighted Val loss: 0.3246\n",
      "Epoch: 892   Train loss: 0.2523   Train accuracy: 0.244   Val loss: 0.3097   Val accuracy: 0.395    weighted Val loss: 0.3246\n",
      "Epoch: 893   Train loss: 0.2541   Train accuracy: 0.23   Val loss: 0.3038   Val accuracy: 0.395    weighted Val loss: 0.3246\n",
      "Epoch: 894   Train loss: 0.2506   Train accuracy: 0.239   Val loss: 0.3073   Val accuracy: 0.394    weighted Val loss: 0.3246\n",
      "Epoch: 895   Train loss: 0.2547   Train accuracy: 0.233   Val loss: 0.305   Val accuracy: 0.388    weighted Val loss: 0.3246\n",
      "Epoch: 896   Train loss: 0.255   Train accuracy: 0.225   Val loss: 0.3044   Val accuracy: 0.388    weighted Val loss: 0.3246\n",
      "Epoch: 897   Train loss: 0.2528   Train accuracy: 0.226   Val loss: 0.3048   Val accuracy: 0.392    weighted Val loss: 0.3245\n",
      "Epoch: 898   Train loss: 0.253   Train accuracy: 0.23   Val loss: 0.3056   Val accuracy: 0.387    weighted Val loss: 0.3245\n",
      "Epoch: 899   Train loss: 0.2528   Train accuracy: 0.238   Val loss: 0.306   Val accuracy: 0.385    weighted Val loss: 0.3245\n",
      "Epoch: 900   Train loss: 0.2515   Train accuracy: 0.236   Val loss: 0.3051   Val accuracy: 0.384    weighted Val loss: 0.3245\n",
      "Epoch: 901   Train loss: 0.2532   Train accuracy: 0.227   Val loss: 0.3084   Val accuracy: 0.391    weighted Val loss: 0.3245\n",
      "Epoch: 902   Train loss: 0.2534   Train accuracy: 0.216   Val loss: 0.3039   Val accuracy: 0.394    weighted Val loss: 0.3244\n",
      "Epoch: 903   Train loss: 0.2515   Train accuracy: 0.235   Val loss: 0.3041   Val accuracy: 0.393    weighted Val loss: 0.3244\n",
      "Epoch: 904   Train loss: 0.2543   Train accuracy: 0.224   Val loss: 0.3041   Val accuracy: 0.392    weighted Val loss: 0.3244\n",
      "Epoch: 905   Train loss: 0.2525   Train accuracy: 0.237   Val loss: 0.3045   Val accuracy: 0.39    weighted Val loss: 0.3244\n",
      "Epoch: 906   Train loss: 0.2508   Train accuracy: 0.246   Val loss: 0.3084   Val accuracy: 0.392    weighted Val loss: 0.3244\n",
      "Epoch: 907   Train loss: 0.2525   Train accuracy: 0.224   Val loss: 0.3045   Val accuracy: 0.387    weighted Val loss: 0.3243\n",
      "Epoch: 908   Train loss: 0.2539   Train accuracy: 0.244   Val loss: 0.3024   Val accuracy: 0.399    weighted Val loss: 0.3243\n",
      "Epoch: 909   Train loss: 0.2522   Train accuracy: 0.239   Val loss: 0.307   Val accuracy: 0.386    weighted Val loss: 0.3243\n",
      "Epoch: 910   Train loss: 0.2513   Train accuracy: 0.235   Val loss: 0.3049   Val accuracy: 0.39    weighted Val loss: 0.3243\n",
      "Epoch: 911   Train loss: 0.2544   Train accuracy: 0.233   Val loss: 0.3054   Val accuracy: 0.385    weighted Val loss: 0.3243\n",
      "Epoch: 912   Train loss: 0.2537   Train accuracy: 0.251   Val loss: 0.3035   Val accuracy: 0.395    weighted Val loss: 0.3242\n",
      "Epoch: 913   Train loss: 0.2503   Train accuracy: 0.252   Val loss: 0.3036   Val accuracy: 0.394    weighted Val loss: 0.3242\n",
      "Epoch: 914   Train loss: 0.2521   Train accuracy: 0.236   Val loss: 0.3088   Val accuracy: 0.396    weighted Val loss: 0.3242\n",
      "Epoch: 915   Train loss: 0.2524   Train accuracy: 0.222   Val loss: 0.3032   Val accuracy: 0.398    weighted Val loss: 0.3242\n",
      "Epoch: 916   Train loss: 0.2514   Train accuracy: 0.244   Val loss: 0.304   Val accuracy: 0.395    weighted Val loss: 0.3242\n",
      "Epoch: 917   Train loss: 0.2543   Train accuracy: 0.235   Val loss: 0.3033   Val accuracy: 0.398    weighted Val loss: 0.3241\n",
      "Epoch: 918   Train loss: 0.2533   Train accuracy: 0.228   Val loss: 0.3024   Val accuracy: 0.4    weighted Val loss: 0.3241\n",
      "Epoch: 919   Train loss: 0.2539   Train accuracy: 0.224   Val loss: 0.3048   Val accuracy: 0.392    weighted Val loss: 0.3241\n",
      "Epoch: 920   Train loss: 0.2498   Train accuracy: 0.251   Val loss: 0.304   Val accuracy: 0.387    weighted Val loss: 0.3241\n",
      "Epoch: 921   Train loss: 0.2534   Train accuracy: 0.247   Val loss: 0.3086   Val accuracy: 0.39    weighted Val loss: 0.3241\n",
      "Epoch: 922   Train loss: 0.252   Train accuracy: 0.243   Val loss: 0.3084   Val accuracy: 0.385    weighted Val loss: 0.3241\n",
      "Epoch: 923   Train loss: 0.2521   Train accuracy: 0.239   Val loss: 0.3051   Val accuracy: 0.383    weighted Val loss: 0.324\n",
      "Epoch: 924   Train loss: 0.2538   Train accuracy: 0.225   Val loss: 0.3044   Val accuracy: 0.389    weighted Val loss: 0.324\n",
      "Epoch: 925   Train loss: 0.2514   Train accuracy: 0.25   Val loss: 0.3028   Val accuracy: 0.395    weighted Val loss: 0.324\n",
      "Epoch: 926   Train loss: 0.2539   Train accuracy: 0.244   Val loss: 0.3057   Val accuracy: 0.392    weighted Val loss: 0.324\n",
      "Epoch: 927   Train loss: 0.2514   Train accuracy: 0.25   Val loss: 0.3067   Val accuracy: 0.388    weighted Val loss: 0.324\n",
      "Epoch: 928   Train loss: 0.2517   Train accuracy: 0.24   Val loss: 0.3089   Val accuracy: 0.386    weighted Val loss: 0.3239\n",
      "Epoch: 929   Train loss: 0.2513   Train accuracy: 0.245   Val loss: 0.3038   Val accuracy: 0.392    weighted Val loss: 0.3239\n",
      "Epoch: 930   Train loss: 0.2526   Train accuracy: 0.226   Val loss: 0.3064   Val accuracy: 0.393    weighted Val loss: 0.3239\n",
      "Epoch: 931   Train loss: 0.2529   Train accuracy: 0.237   Val loss: 0.3038   Val accuracy: 0.395    weighted Val loss: 0.3239\n",
      "Epoch: 932   Train loss: 0.2529   Train accuracy: 0.232   Val loss: 0.3035   Val accuracy: 0.394    weighted Val loss: 0.3239\n",
      "Epoch: 933   Train loss: 0.2519   Train accuracy: 0.245   Val loss: 0.305   Val accuracy: 0.398    weighted Val loss: 0.3238\n",
      "Epoch: 934   Train loss: 0.2542   Train accuracy: 0.235   Val loss: 0.3045   Val accuracy: 0.392    weighted Val loss: 0.3238\n",
      "Epoch: 935   Train loss: 0.2529   Train accuracy: 0.235   Val loss: 0.3061   Val accuracy: 0.39    weighted Val loss: 0.3238\n",
      "Epoch: 936   Train loss: 0.2524   Train accuracy: 0.247   Val loss: 0.3031   Val accuracy: 0.397    weighted Val loss: 0.3238\n",
      "Epoch: 937   Train loss: 0.2507   Train accuracy: 0.256   Val loss: 0.3038   Val accuracy: 0.394    weighted Val loss: 0.3238\n",
      "Epoch: 938   Train loss: 0.2519   Train accuracy: 0.244   Val loss: 0.305   Val accuracy: 0.392    weighted Val loss: 0.3237\n",
      "Epoch: 939   Train loss: 0.2522   Train accuracy: 0.225   Val loss: 0.3038   Val accuracy: 0.396    weighted Val loss: 0.3237\n",
      "Epoch: 940   Train loss: 0.2519   Train accuracy: 0.24   Val loss: 0.3058   Val accuracy: 0.394    weighted Val loss: 0.3237\n",
      "Epoch: 941   Train loss: 0.2507   Train accuracy: 0.248   Val loss: 0.305   Val accuracy: 0.391    weighted Val loss: 0.3237\n",
      "Epoch: 942   Train loss: 0.2533   Train accuracy: 0.239   Val loss: 0.3035   Val accuracy: 0.396    weighted Val loss: 0.3237\n",
      "Epoch: 943   Train loss: 0.2537   Train accuracy: 0.234   Val loss: 0.3095   Val accuracy: 0.395    weighted Val loss: 0.3237\n",
      "Epoch: 944   Train loss: 0.2524   Train accuracy: 0.233   Val loss: 0.3046   Val accuracy: 0.394    weighted Val loss: 0.3236\n",
      "Epoch: 945   Train loss: 0.2531   Train accuracy: 0.227   Val loss: 0.3044   Val accuracy: 0.393    weighted Val loss: 0.3236\n",
      "Epoch: 946   Train loss: 0.253   Train accuracy: 0.234   Val loss: 0.3048   Val accuracy: 0.391    weighted Val loss: 0.3236\n",
      "Epoch: 947   Train loss: 0.2524   Train accuracy: 0.249   Val loss: 0.3102   Val accuracy: 0.386    weighted Val loss: 0.3236\n",
      "Epoch: 948   Train loss: 0.2505   Train accuracy: 0.242   Val loss: 0.3021   Val accuracy: 0.393    weighted Val loss: 0.3236\n",
      "Epoch: 949   Train loss: 0.2529   Train accuracy: 0.247   Val loss: 0.3033   Val accuracy: 0.397    weighted Val loss: 0.3235\n",
      "Epoch: 950   Train loss: 0.2542   Train accuracy: 0.225   Val loss: 0.31   Val accuracy: 0.391    weighted Val loss: 0.3235\n",
      "Epoch: 951   Train loss: 0.253   Train accuracy: 0.237   Val loss: 0.3029   Val accuracy: 0.399    weighted Val loss: 0.3235\n",
      "Epoch: 952   Train loss: 0.2535   Train accuracy: 0.23   Val loss: 0.3064   Val accuracy: 0.394    weighted Val loss: 0.3235\n",
      "Epoch: 953   Train loss: 0.2506   Train accuracy: 0.226   Val loss: 0.3076   Val accuracy: 0.388    weighted Val loss: 0.3235\n",
      "Epoch: 954   Train loss: 0.253   Train accuracy: 0.23   Val loss: 0.307   Val accuracy: 0.391    weighted Val loss: 0.3235\n",
      "Epoch: 955   Train loss: 0.2516   Train accuracy: 0.244   Val loss: 0.3056   Val accuracy: 0.395    weighted Val loss: 0.3234\n",
      "Epoch: 956   Train loss: 0.2522   Train accuracy: 0.246   Val loss: 0.3088   Val accuracy: 0.389    weighted Val loss: 0.3234\n"
     ]
    },
    {
     "ename": "KeyboardInterrupt",
     "evalue": "",
     "output_type": "error",
     "traceback": [
      "\u001b[1;31m---------------------------------------------------------------------------\u001b[0m",
      "\u001b[1;31mKeyboardInterrupt\u001b[0m                         Traceback (most recent call last)",
      "\u001b[1;32m<ipython-input-122-e9c7ee2c5220>\u001b[0m in \u001b[0;36m<module>\u001b[1;34m\u001b[0m\n\u001b[0;32m     10\u001b[0m     \u001b[1;34m'eps'\u001b[0m\u001b[1;33m:\u001b[0m \u001b[1;36m1e-08\u001b[0m\u001b[1;33m\u001b[0m\u001b[1;33m\u001b[0m\u001b[0m\n\u001b[0;32m     11\u001b[0m }\n\u001b[1;32m---> 12\u001b[1;33m \u001b[0mMLPmodelGDE\u001b[0m\u001b[1;33m,\u001b[0m \u001b[0m_\u001b[0m\u001b[1;33m,\u001b[0m\u001b[0m_\u001b[0m\u001b[1;33m,\u001b[0m \u001b[0mMLPcheckpointGDE\u001b[0m \u001b[1;33m=\u001b[0m \u001b[0mMLP\u001b[0m\u001b[1;33m.\u001b[0m\u001b[0mtrain_MLP\u001b[0m\u001b[1;33m(\u001b[0m\u001b[0mdm\u001b[0m\u001b[1;33m,\u001b[0m \u001b[0msim_all\u001b[0m\u001b[1;33m[\u001b[0m\u001b[1;34m\"GDE_train\"\u001b[0m\u001b[1;33m]\u001b[0m\u001b[1;33m,\u001b[0m \u001b[0msim_all\u001b[0m\u001b[1;33m[\u001b[0m\u001b[1;34m\"GDE_test\"\u001b[0m\u001b[1;33m]\u001b[0m\u001b[1;33m,\u001b[0m \u001b[0mMLPparametersGDE\u001b[0m\u001b[1;33m,\u001b[0m \u001b[0macc_fn\u001b[0m\u001b[1;33m=\u001b[0m\u001b[0mMLP\u001b[0m\u001b[1;33m.\u001b[0m\u001b[0mF1\u001b[0m\u001b[1;33m,\u001b[0m \u001b[0mautostop_decay\u001b[0m \u001b[1;33m=\u001b[0m \u001b[1;36m0.999\u001b[0m\u001b[1;33m,\u001b[0m \u001b[0mprint_summary\u001b[0m \u001b[1;33m=\u001b[0m \u001b[1;32mTrue\u001b[0m\u001b[1;33m)\u001b[0m\u001b[1;33m\u001b[0m\u001b[1;33m\u001b[0m\u001b[0m\n\u001b[0m",
      "\u001b[1;32m~\\Documents\\GitHub\\GCNGDE_Simulation_for_EGG_analysis\\Full Model\\MLP.py\u001b[0m in \u001b[0;36mtrain_MLP\u001b[1;34m(dm, sim_train, sim_test, parameters, acc_fn, autostop_decay, print_summary, verbose)\u001b[0m\n\u001b[0;32m    285\u001b[0m             \u001b[0mval_pred\u001b[0m \u001b[1;33m=\u001b[0m \u001b[0mMLPmodel\u001b[0m\u001b[1;33m(\u001b[0m\u001b[0mX_test\u001b[0m\u001b[1;33m)\u001b[0m\u001b[1;33m\u001b[0m\u001b[1;33m\u001b[0m\u001b[0m\n\u001b[0;32m    286\u001b[0m             \u001b[0mval_loss\u001b[0m \u001b[1;33m=\u001b[0m \u001b[0mcriterion\u001b[0m\u001b[1;33m(\u001b[0m\u001b[0mval_pred\u001b[0m\u001b[1;33m,\u001b[0m \u001b[0mY_test\u001b[0m\u001b[1;33m)\u001b[0m\u001b[1;33m\u001b[0m\u001b[1;33m\u001b[0m\u001b[0m\n\u001b[1;32m--> 287\u001b[1;33m             \u001b[0mtva\u001b[0m \u001b[1;33m=\u001b[0m \u001b[0macc_fn\u001b[0m\u001b[1;33m(\u001b[0m\u001b[0mval_pred\u001b[0m\u001b[1;33m,\u001b[0m \u001b[0mY_test\u001b[0m\u001b[1;33m,\u001b[0m \u001b[0mthreshold\u001b[0m\u001b[1;33m=\u001b[0m\u001b[0mt\u001b[0m\u001b[1;33m)\u001b[0m\u001b[1;33m\u001b[0m\u001b[1;33m\u001b[0m\u001b[0m\n\u001b[0m\u001b[0;32m    288\u001b[0m             \u001b[1;32mif\u001b[0m \u001b[0mtva\u001b[0m \u001b[1;33m>\u001b[0m \u001b[0mval_acc\u001b[0m\u001b[1;33m:\u001b[0m\u001b[1;33m\u001b[0m\u001b[1;33m\u001b[0m\u001b[0m\n\u001b[0;32m    289\u001b[0m                 \u001b[0mval_acc\u001b[0m \u001b[1;33m=\u001b[0m \u001b[0mtva\u001b[0m\u001b[1;33m\u001b[0m\u001b[1;33m\u001b[0m\u001b[0m\n",
      "\u001b[1;32m~\\Documents\\GitHub\\GCNGDE_Simulation_for_EGG_analysis\\Full Model\\MLP.py\u001b[0m in \u001b[0;36mF1\u001b[1;34m(y_pred, y_true, threshold)\u001b[0m\n\u001b[0;32m    197\u001b[0m \u001b[1;32mdef\u001b[0m \u001b[0mF1\u001b[0m\u001b[1;33m(\u001b[0m\u001b[0my_pred\u001b[0m\u001b[1;33m,\u001b[0m \u001b[0my_true\u001b[0m\u001b[1;33m,\u001b[0m \u001b[0mthreshold\u001b[0m\u001b[1;33m=\u001b[0m\u001b[1;36m0.5\u001b[0m\u001b[1;33m)\u001b[0m\u001b[1;33m:\u001b[0m\u001b[1;33m\u001b[0m\u001b[1;33m\u001b[0m\u001b[0m\n\u001b[0;32m    198\u001b[0m     \u001b[0my_pred\u001b[0m \u001b[1;33m=\u001b[0m \u001b[0my_pred\u001b[0m \u001b[1;33m>\u001b[0m \u001b[0mthreshold\u001b[0m\u001b[1;33m\u001b[0m\u001b[1;33m\u001b[0m\u001b[0m\n\u001b[1;32m--> 199\u001b[1;33m     \u001b[0mf1\u001b[0m \u001b[1;33m=\u001b[0m \u001b[0mF1_score\u001b[0m\u001b[1;33m(\u001b[0m\u001b[0my_true\u001b[0m\u001b[1;33m.\u001b[0m\u001b[0mcpu\u001b[0m\u001b[1;33m(\u001b[0m\u001b[1;33m)\u001b[0m\u001b[1;33m.\u001b[0m\u001b[0mdetach\u001b[0m\u001b[1;33m(\u001b[0m\u001b[1;33m)\u001b[0m\u001b[1;33m.\u001b[0m\u001b[0mnumpy\u001b[0m\u001b[1;33m(\u001b[0m\u001b[1;33m)\u001b[0m\u001b[1;33m,\u001b[0m \u001b[0my_pred\u001b[0m\u001b[1;33m.\u001b[0m\u001b[0mcpu\u001b[0m\u001b[1;33m(\u001b[0m\u001b[1;33m)\u001b[0m\u001b[1;33m.\u001b[0m\u001b[0mdetach\u001b[0m\u001b[1;33m(\u001b[0m\u001b[1;33m)\u001b[0m\u001b[1;33m.\u001b[0m\u001b[0mnumpy\u001b[0m\u001b[1;33m(\u001b[0m\u001b[1;33m)\u001b[0m\u001b[1;33m)\u001b[0m\u001b[1;33m\u001b[0m\u001b[1;33m\u001b[0m\u001b[0m\n\u001b[0m\u001b[0;32m    200\u001b[0m \u001b[1;33m\u001b[0m\u001b[0m\n\u001b[0;32m    201\u001b[0m     \u001b[1;32mreturn\u001b[0m \u001b[0mf1\u001b[0m\u001b[1;33m\u001b[0m\u001b[1;33m\u001b[0m\u001b[0m\n",
      "\u001b[1;32m~\\anaconda3\\lib\\site-packages\\sklearn\\utils\\validation.py\u001b[0m in \u001b[0;36minner_f\u001b[1;34m(*args, **kwargs)\u001b[0m\n\u001b[0;32m     70\u001b[0m                           FutureWarning)\n\u001b[0;32m     71\u001b[0m         \u001b[0mkwargs\u001b[0m\u001b[1;33m.\u001b[0m\u001b[0mupdate\u001b[0m\u001b[1;33m(\u001b[0m\u001b[1;33m{\u001b[0m\u001b[0mk\u001b[0m\u001b[1;33m:\u001b[0m \u001b[0marg\u001b[0m \u001b[1;32mfor\u001b[0m \u001b[0mk\u001b[0m\u001b[1;33m,\u001b[0m \u001b[0marg\u001b[0m \u001b[1;32min\u001b[0m \u001b[0mzip\u001b[0m\u001b[1;33m(\u001b[0m\u001b[0msig\u001b[0m\u001b[1;33m.\u001b[0m\u001b[0mparameters\u001b[0m\u001b[1;33m,\u001b[0m \u001b[0margs\u001b[0m\u001b[1;33m)\u001b[0m\u001b[1;33m}\u001b[0m\u001b[1;33m)\u001b[0m\u001b[1;33m\u001b[0m\u001b[1;33m\u001b[0m\u001b[0m\n\u001b[1;32m---> 72\u001b[1;33m         \u001b[1;32mreturn\u001b[0m \u001b[0mf\u001b[0m\u001b[1;33m(\u001b[0m\u001b[1;33m**\u001b[0m\u001b[0mkwargs\u001b[0m\u001b[1;33m)\u001b[0m\u001b[1;33m\u001b[0m\u001b[1;33m\u001b[0m\u001b[0m\n\u001b[0m\u001b[0;32m     73\u001b[0m     \u001b[1;32mreturn\u001b[0m \u001b[0minner_f\u001b[0m\u001b[1;33m\u001b[0m\u001b[1;33m\u001b[0m\u001b[0m\n\u001b[0;32m     74\u001b[0m \u001b[1;33m\u001b[0m\u001b[0m\n",
      "\u001b[1;32m~\\anaconda3\\lib\\site-packages\\sklearn\\metrics\\_classification.py\u001b[0m in \u001b[0;36mf1_score\u001b[1;34m(y_true, y_pred, labels, pos_label, average, sample_weight, zero_division)\u001b[0m\n\u001b[0;32m   1042\u001b[0m     \u001b[0mmodified\u001b[0m \u001b[1;32mwith\u001b[0m\u001b[0;31m \u001b[0m\u001b[0;31m`\u001b[0m\u001b[0;31m`\u001b[0m\u001b[0mzero_division\u001b[0m\u001b[0;31m`\u001b[0m\u001b[0;31m`\u001b[0m\u001b[1;33m.\u001b[0m\u001b[1;33m\u001b[0m\u001b[1;33m\u001b[0m\u001b[0m\n\u001b[0;32m   1043\u001b[0m     \"\"\"\n\u001b[1;32m-> 1044\u001b[1;33m     return fbeta_score(y_true, y_pred, beta=1, labels=labels,\n\u001b[0m\u001b[0;32m   1045\u001b[0m                        \u001b[0mpos_label\u001b[0m\u001b[1;33m=\u001b[0m\u001b[0mpos_label\u001b[0m\u001b[1;33m,\u001b[0m \u001b[0maverage\u001b[0m\u001b[1;33m=\u001b[0m\u001b[0maverage\u001b[0m\u001b[1;33m,\u001b[0m\u001b[1;33m\u001b[0m\u001b[1;33m\u001b[0m\u001b[0m\n\u001b[0;32m   1046\u001b[0m                        \u001b[0msample_weight\u001b[0m\u001b[1;33m=\u001b[0m\u001b[0msample_weight\u001b[0m\u001b[1;33m,\u001b[0m\u001b[1;33m\u001b[0m\u001b[1;33m\u001b[0m\u001b[0m\n",
      "\u001b[1;32m~\\anaconda3\\lib\\site-packages\\sklearn\\utils\\validation.py\u001b[0m in \u001b[0;36minner_f\u001b[1;34m(*args, **kwargs)\u001b[0m\n\u001b[0;32m     70\u001b[0m                           FutureWarning)\n\u001b[0;32m     71\u001b[0m         \u001b[0mkwargs\u001b[0m\u001b[1;33m.\u001b[0m\u001b[0mupdate\u001b[0m\u001b[1;33m(\u001b[0m\u001b[1;33m{\u001b[0m\u001b[0mk\u001b[0m\u001b[1;33m:\u001b[0m \u001b[0marg\u001b[0m \u001b[1;32mfor\u001b[0m \u001b[0mk\u001b[0m\u001b[1;33m,\u001b[0m \u001b[0marg\u001b[0m \u001b[1;32min\u001b[0m \u001b[0mzip\u001b[0m\u001b[1;33m(\u001b[0m\u001b[0msig\u001b[0m\u001b[1;33m.\u001b[0m\u001b[0mparameters\u001b[0m\u001b[1;33m,\u001b[0m \u001b[0margs\u001b[0m\u001b[1;33m)\u001b[0m\u001b[1;33m}\u001b[0m\u001b[1;33m)\u001b[0m\u001b[1;33m\u001b[0m\u001b[1;33m\u001b[0m\u001b[0m\n\u001b[1;32m---> 72\u001b[1;33m         \u001b[1;32mreturn\u001b[0m \u001b[0mf\u001b[0m\u001b[1;33m(\u001b[0m\u001b[1;33m**\u001b[0m\u001b[0mkwargs\u001b[0m\u001b[1;33m)\u001b[0m\u001b[1;33m\u001b[0m\u001b[1;33m\u001b[0m\u001b[0m\n\u001b[0m\u001b[0;32m     73\u001b[0m     \u001b[1;32mreturn\u001b[0m \u001b[0minner_f\u001b[0m\u001b[1;33m\u001b[0m\u001b[1;33m\u001b[0m\u001b[0m\n\u001b[0;32m     74\u001b[0m \u001b[1;33m\u001b[0m\u001b[0m\n",
      "\u001b[1;32m~\\anaconda3\\lib\\site-packages\\sklearn\\metrics\\_classification.py\u001b[0m in \u001b[0;36mfbeta_score\u001b[1;34m(y_true, y_pred, beta, labels, pos_label, average, sample_weight, zero_division)\u001b[0m\n\u001b[0;32m   1166\u001b[0m     \"\"\"\n\u001b[0;32m   1167\u001b[0m \u001b[1;33m\u001b[0m\u001b[0m\n\u001b[1;32m-> 1168\u001b[1;33m     _, _, f, _ = precision_recall_fscore_support(y_true, y_pred,\n\u001b[0m\u001b[0;32m   1169\u001b[0m                                                  \u001b[0mbeta\u001b[0m\u001b[1;33m=\u001b[0m\u001b[0mbeta\u001b[0m\u001b[1;33m,\u001b[0m\u001b[1;33m\u001b[0m\u001b[1;33m\u001b[0m\u001b[0m\n\u001b[0;32m   1170\u001b[0m                                                  \u001b[0mlabels\u001b[0m\u001b[1;33m=\u001b[0m\u001b[0mlabels\u001b[0m\u001b[1;33m,\u001b[0m\u001b[1;33m\u001b[0m\u001b[1;33m\u001b[0m\u001b[0m\n",
      "\u001b[1;32m~\\anaconda3\\lib\\site-packages\\sklearn\\utils\\validation.py\u001b[0m in \u001b[0;36minner_f\u001b[1;34m(*args, **kwargs)\u001b[0m\n\u001b[0;32m     70\u001b[0m                           FutureWarning)\n\u001b[0;32m     71\u001b[0m         \u001b[0mkwargs\u001b[0m\u001b[1;33m.\u001b[0m\u001b[0mupdate\u001b[0m\u001b[1;33m(\u001b[0m\u001b[1;33m{\u001b[0m\u001b[0mk\u001b[0m\u001b[1;33m:\u001b[0m \u001b[0marg\u001b[0m \u001b[1;32mfor\u001b[0m \u001b[0mk\u001b[0m\u001b[1;33m,\u001b[0m \u001b[0marg\u001b[0m \u001b[1;32min\u001b[0m \u001b[0mzip\u001b[0m\u001b[1;33m(\u001b[0m\u001b[0msig\u001b[0m\u001b[1;33m.\u001b[0m\u001b[0mparameters\u001b[0m\u001b[1;33m,\u001b[0m \u001b[0margs\u001b[0m\u001b[1;33m)\u001b[0m\u001b[1;33m}\u001b[0m\u001b[1;33m)\u001b[0m\u001b[1;33m\u001b[0m\u001b[1;33m\u001b[0m\u001b[0m\n\u001b[1;32m---> 72\u001b[1;33m         \u001b[1;32mreturn\u001b[0m \u001b[0mf\u001b[0m\u001b[1;33m(\u001b[0m\u001b[1;33m**\u001b[0m\u001b[0mkwargs\u001b[0m\u001b[1;33m)\u001b[0m\u001b[1;33m\u001b[0m\u001b[1;33m\u001b[0m\u001b[0m\n\u001b[0m\u001b[0;32m     73\u001b[0m     \u001b[1;32mreturn\u001b[0m \u001b[0minner_f\u001b[0m\u001b[1;33m\u001b[0m\u001b[1;33m\u001b[0m\u001b[0m\n\u001b[0;32m     74\u001b[0m \u001b[1;33m\u001b[0m\u001b[0m\n",
      "\u001b[1;32m~\\anaconda3\\lib\\site-packages\\sklearn\\metrics\\_classification.py\u001b[0m in \u001b[0;36mprecision_recall_fscore_support\u001b[1;34m(y_true, y_pred, beta, labels, pos_label, average, warn_for, sample_weight, zero_division)\u001b[0m\n\u001b[0;32m   1436\u001b[0m     \u001b[1;31m# Calculate tp_sum, pred_sum, true_sum ###\u001b[0m\u001b[1;33m\u001b[0m\u001b[1;33m\u001b[0m\u001b[1;33m\u001b[0m\u001b[0m\n\u001b[0;32m   1437\u001b[0m     \u001b[0msamplewise\u001b[0m \u001b[1;33m=\u001b[0m \u001b[0maverage\u001b[0m \u001b[1;33m==\u001b[0m \u001b[1;34m'samples'\u001b[0m\u001b[1;33m\u001b[0m\u001b[1;33m\u001b[0m\u001b[0m\n\u001b[1;32m-> 1438\u001b[1;33m     MCM = multilabel_confusion_matrix(y_true, y_pred,\n\u001b[0m\u001b[0;32m   1439\u001b[0m                                       \u001b[0msample_weight\u001b[0m\u001b[1;33m=\u001b[0m\u001b[0msample_weight\u001b[0m\u001b[1;33m,\u001b[0m\u001b[1;33m\u001b[0m\u001b[1;33m\u001b[0m\u001b[0m\n\u001b[0;32m   1440\u001b[0m                                       labels=labels, samplewise=samplewise)\n",
      "\u001b[1;32m~\\anaconda3\\lib\\site-packages\\sklearn\\utils\\validation.py\u001b[0m in \u001b[0;36minner_f\u001b[1;34m(*args, **kwargs)\u001b[0m\n\u001b[0;32m     70\u001b[0m                           FutureWarning)\n\u001b[0;32m     71\u001b[0m         \u001b[0mkwargs\u001b[0m\u001b[1;33m.\u001b[0m\u001b[0mupdate\u001b[0m\u001b[1;33m(\u001b[0m\u001b[1;33m{\u001b[0m\u001b[0mk\u001b[0m\u001b[1;33m:\u001b[0m \u001b[0marg\u001b[0m \u001b[1;32mfor\u001b[0m \u001b[0mk\u001b[0m\u001b[1;33m,\u001b[0m \u001b[0marg\u001b[0m \u001b[1;32min\u001b[0m \u001b[0mzip\u001b[0m\u001b[1;33m(\u001b[0m\u001b[0msig\u001b[0m\u001b[1;33m.\u001b[0m\u001b[0mparameters\u001b[0m\u001b[1;33m,\u001b[0m \u001b[0margs\u001b[0m\u001b[1;33m)\u001b[0m\u001b[1;33m}\u001b[0m\u001b[1;33m)\u001b[0m\u001b[1;33m\u001b[0m\u001b[1;33m\u001b[0m\u001b[0m\n\u001b[1;32m---> 72\u001b[1;33m         \u001b[1;32mreturn\u001b[0m \u001b[0mf\u001b[0m\u001b[1;33m(\u001b[0m\u001b[1;33m**\u001b[0m\u001b[0mkwargs\u001b[0m\u001b[1;33m)\u001b[0m\u001b[1;33m\u001b[0m\u001b[1;33m\u001b[0m\u001b[0m\n\u001b[0m\u001b[0;32m     73\u001b[0m     \u001b[1;32mreturn\u001b[0m \u001b[0minner_f\u001b[0m\u001b[1;33m\u001b[0m\u001b[1;33m\u001b[0m\u001b[0m\n\u001b[0;32m     74\u001b[0m \u001b[1;33m\u001b[0m\u001b[0m\n",
      "\u001b[1;32m~\\anaconda3\\lib\\site-packages\\sklearn\\metrics\\_classification.py\u001b[0m in \u001b[0;36mmultilabel_confusion_matrix\u001b[1;34m(y_true, y_pred, sample_weight, labels, samplewise)\u001b[0m\n\u001b[0;32m    436\u001b[0m \u001b[1;33m\u001b[0m\u001b[0m\n\u001b[0;32m    437\u001b[0m     \"\"\"\n\u001b[1;32m--> 438\u001b[1;33m     \u001b[0my_type\u001b[0m\u001b[1;33m,\u001b[0m \u001b[0my_true\u001b[0m\u001b[1;33m,\u001b[0m \u001b[0my_pred\u001b[0m \u001b[1;33m=\u001b[0m \u001b[0m_check_targets\u001b[0m\u001b[1;33m(\u001b[0m\u001b[0my_true\u001b[0m\u001b[1;33m,\u001b[0m \u001b[0my_pred\u001b[0m\u001b[1;33m)\u001b[0m\u001b[1;33m\u001b[0m\u001b[1;33m\u001b[0m\u001b[0m\n\u001b[0m\u001b[0;32m    439\u001b[0m     \u001b[1;32mif\u001b[0m \u001b[0msample_weight\u001b[0m \u001b[1;32mis\u001b[0m \u001b[1;32mnot\u001b[0m \u001b[1;32mNone\u001b[0m\u001b[1;33m:\u001b[0m\u001b[1;33m\u001b[0m\u001b[1;33m\u001b[0m\u001b[0m\n\u001b[0;32m    440\u001b[0m         \u001b[0msample_weight\u001b[0m \u001b[1;33m=\u001b[0m \u001b[0mcolumn_or_1d\u001b[0m\u001b[1;33m(\u001b[0m\u001b[0msample_weight\u001b[0m\u001b[1;33m)\u001b[0m\u001b[1;33m\u001b[0m\u001b[1;33m\u001b[0m\u001b[0m\n",
      "\u001b[1;32m~\\anaconda3\\lib\\site-packages\\sklearn\\metrics\\_classification.py\u001b[0m in \u001b[0;36m_check_targets\u001b[1;34m(y_true, y_pred)\u001b[0m\n\u001b[0;32m    102\u001b[0m         \u001b[0my_pred\u001b[0m \u001b[1;33m=\u001b[0m \u001b[0mcolumn_or_1d\u001b[0m\u001b[1;33m(\u001b[0m\u001b[0my_pred\u001b[0m\u001b[1;33m)\u001b[0m\u001b[1;33m\u001b[0m\u001b[1;33m\u001b[0m\u001b[0m\n\u001b[0;32m    103\u001b[0m         \u001b[1;32mif\u001b[0m \u001b[0my_type\u001b[0m \u001b[1;33m==\u001b[0m \u001b[1;34m\"binary\"\u001b[0m\u001b[1;33m:\u001b[0m\u001b[1;33m\u001b[0m\u001b[1;33m\u001b[0m\u001b[0m\n\u001b[1;32m--> 104\u001b[1;33m             \u001b[0munique_values\u001b[0m \u001b[1;33m=\u001b[0m \u001b[0mnp\u001b[0m\u001b[1;33m.\u001b[0m\u001b[0munion1d\u001b[0m\u001b[1;33m(\u001b[0m\u001b[0my_true\u001b[0m\u001b[1;33m,\u001b[0m \u001b[0my_pred\u001b[0m\u001b[1;33m)\u001b[0m\u001b[1;33m\u001b[0m\u001b[1;33m\u001b[0m\u001b[0m\n\u001b[0m\u001b[0;32m    105\u001b[0m             \u001b[1;32mif\u001b[0m \u001b[0mlen\u001b[0m\u001b[1;33m(\u001b[0m\u001b[0munique_values\u001b[0m\u001b[1;33m)\u001b[0m \u001b[1;33m>\u001b[0m \u001b[1;36m2\u001b[0m\u001b[1;33m:\u001b[0m\u001b[1;33m\u001b[0m\u001b[1;33m\u001b[0m\u001b[0m\n\u001b[0;32m    106\u001b[0m                 \u001b[0my_type\u001b[0m \u001b[1;33m=\u001b[0m \u001b[1;34m\"multiclass\"\u001b[0m\u001b[1;33m\u001b[0m\u001b[1;33m\u001b[0m\u001b[0m\n",
      "\u001b[1;32m<__array_function__ internals>\u001b[0m in \u001b[0;36munion1d\u001b[1;34m(*args, **kwargs)\u001b[0m\n",
      "\u001b[1;32m~\\anaconda3\\lib\\site-packages\\numpy\\lib\\arraysetops.py\u001b[0m in \u001b[0;36munion1d\u001b[1;34m(ar1, ar2)\u001b[0m\n\u001b[0;32m    747\u001b[0m     \u001b[0marray\u001b[0m\u001b[1;33m(\u001b[0m\u001b[1;33m[\u001b[0m\u001b[1;36m1\u001b[0m\u001b[1;33m,\u001b[0m \u001b[1;36m2\u001b[0m\u001b[1;33m,\u001b[0m \u001b[1;36m3\u001b[0m\u001b[1;33m,\u001b[0m \u001b[1;36m4\u001b[0m\u001b[1;33m,\u001b[0m \u001b[1;36m6\u001b[0m\u001b[1;33m]\u001b[0m\u001b[1;33m)\u001b[0m\u001b[1;33m\u001b[0m\u001b[1;33m\u001b[0m\u001b[0m\n\u001b[0;32m    748\u001b[0m     \"\"\"\n\u001b[1;32m--> 749\u001b[1;33m     \u001b[1;32mreturn\u001b[0m \u001b[0munique\u001b[0m\u001b[1;33m(\u001b[0m\u001b[0mnp\u001b[0m\u001b[1;33m.\u001b[0m\u001b[0mconcatenate\u001b[0m\u001b[1;33m(\u001b[0m\u001b[1;33m(\u001b[0m\u001b[0mar1\u001b[0m\u001b[1;33m,\u001b[0m \u001b[0mar2\u001b[0m\u001b[1;33m)\u001b[0m\u001b[1;33m,\u001b[0m \u001b[0maxis\u001b[0m\u001b[1;33m=\u001b[0m\u001b[1;32mNone\u001b[0m\u001b[1;33m)\u001b[0m\u001b[1;33m)\u001b[0m\u001b[1;33m\u001b[0m\u001b[1;33m\u001b[0m\u001b[0m\n\u001b[0m\u001b[0;32m    750\u001b[0m \u001b[1;33m\u001b[0m\u001b[0m\n\u001b[0;32m    751\u001b[0m \u001b[1;33m\u001b[0m\u001b[0m\n",
      "\u001b[1;32m<__array_function__ internals>\u001b[0m in \u001b[0;36munique\u001b[1;34m(*args, **kwargs)\u001b[0m\n",
      "\u001b[1;32m~\\anaconda3\\lib\\site-packages\\numpy\\lib\\arraysetops.py\u001b[0m in \u001b[0;36munique\u001b[1;34m(ar, return_index, return_inverse, return_counts, axis)\u001b[0m\n\u001b[0;32m    259\u001b[0m     \u001b[0mar\u001b[0m \u001b[1;33m=\u001b[0m \u001b[0mnp\u001b[0m\u001b[1;33m.\u001b[0m\u001b[0masanyarray\u001b[0m\u001b[1;33m(\u001b[0m\u001b[0mar\u001b[0m\u001b[1;33m)\u001b[0m\u001b[1;33m\u001b[0m\u001b[1;33m\u001b[0m\u001b[0m\n\u001b[0;32m    260\u001b[0m     \u001b[1;32mif\u001b[0m \u001b[0maxis\u001b[0m \u001b[1;32mis\u001b[0m \u001b[1;32mNone\u001b[0m\u001b[1;33m:\u001b[0m\u001b[1;33m\u001b[0m\u001b[1;33m\u001b[0m\u001b[0m\n\u001b[1;32m--> 261\u001b[1;33m         \u001b[0mret\u001b[0m \u001b[1;33m=\u001b[0m \u001b[0m_unique1d\u001b[0m\u001b[1;33m(\u001b[0m\u001b[0mar\u001b[0m\u001b[1;33m,\u001b[0m \u001b[0mreturn_index\u001b[0m\u001b[1;33m,\u001b[0m \u001b[0mreturn_inverse\u001b[0m\u001b[1;33m,\u001b[0m \u001b[0mreturn_counts\u001b[0m\u001b[1;33m)\u001b[0m\u001b[1;33m\u001b[0m\u001b[1;33m\u001b[0m\u001b[0m\n\u001b[0m\u001b[0;32m    262\u001b[0m         \u001b[1;32mreturn\u001b[0m \u001b[0m_unpack_tuple\u001b[0m\u001b[1;33m(\u001b[0m\u001b[0mret\u001b[0m\u001b[1;33m)\u001b[0m\u001b[1;33m\u001b[0m\u001b[1;33m\u001b[0m\u001b[0m\n\u001b[0;32m    263\u001b[0m \u001b[1;33m\u001b[0m\u001b[0m\n",
      "\u001b[1;32m~\\anaconda3\\lib\\site-packages\\numpy\\lib\\arraysetops.py\u001b[0m in \u001b[0;36m_unique1d\u001b[1;34m(ar, return_index, return_inverse, return_counts)\u001b[0m\n\u001b[0;32m    320\u001b[0m         \u001b[0maux\u001b[0m \u001b[1;33m=\u001b[0m \u001b[0mar\u001b[0m\u001b[1;33m[\u001b[0m\u001b[0mperm\u001b[0m\u001b[1;33m]\u001b[0m\u001b[1;33m\u001b[0m\u001b[1;33m\u001b[0m\u001b[0m\n\u001b[0;32m    321\u001b[0m     \u001b[1;32melse\u001b[0m\u001b[1;33m:\u001b[0m\u001b[1;33m\u001b[0m\u001b[1;33m\u001b[0m\u001b[0m\n\u001b[1;32m--> 322\u001b[1;33m         \u001b[0mar\u001b[0m\u001b[1;33m.\u001b[0m\u001b[0msort\u001b[0m\u001b[1;33m(\u001b[0m\u001b[1;33m)\u001b[0m\u001b[1;33m\u001b[0m\u001b[1;33m\u001b[0m\u001b[0m\n\u001b[0m\u001b[0;32m    323\u001b[0m         \u001b[0maux\u001b[0m \u001b[1;33m=\u001b[0m \u001b[0mar\u001b[0m\u001b[1;33m\u001b[0m\u001b[1;33m\u001b[0m\u001b[0m\n\u001b[0;32m    324\u001b[0m     \u001b[0mmask\u001b[0m \u001b[1;33m=\u001b[0m \u001b[0mnp\u001b[0m\u001b[1;33m.\u001b[0m\u001b[0mempty\u001b[0m\u001b[1;33m(\u001b[0m\u001b[0maux\u001b[0m\u001b[1;33m.\u001b[0m\u001b[0mshape\u001b[0m\u001b[1;33m,\u001b[0m \u001b[0mdtype\u001b[0m\u001b[1;33m=\u001b[0m\u001b[0mnp\u001b[0m\u001b[1;33m.\u001b[0m\u001b[0mbool_\u001b[0m\u001b[1;33m)\u001b[0m\u001b[1;33m\u001b[0m\u001b[1;33m\u001b[0m\u001b[0m\n",
      "\u001b[1;31mKeyboardInterrupt\u001b[0m: "
     ]
    }
   ],
   "source": [
    "MLPparametersGDE = {\n",
    "    'n_layers':2,\n",
    "    'layer_size_factor':[1, 64], \n",
    "    'dropout':[0.3, 0.3],\n",
    "    'batch_size': 128,\n",
    "    'num_epochs': 900,\n",
    "    'learning_rate': 6e-4,\n",
    "    'weight_decay': 5e-3,\n",
    "    'betas': (0.9, 0.999), \n",
    "    'eps': 1e-08\n",
    "}\n",
    "MLPmodelGDE, _,_, MLPcheckpointGDE = MLP.train_MLP(dm, sim_all[\"GDE_train\"], sim_all[\"GDE_test\"], MLPparametersGDE, acc_fn=MLP.F1, autostop_decay = 0.995, print_summary = True)"
   ]
  },
  {
   "cell_type": "code",
   "execution_count": 28,
   "metadata": {},
   "outputs": [
    {
     "name": "stdout",
     "output_type": "stream",
     "text": [
      "model saved\n"
     ]
    }
   ],
   "source": [
    "#optional: save the model\n",
    "MLP.save_ckp(MLPcheckpointGDE, \"models/MLPGDE253_1.pt\")"
   ]
  },
  {
   "cell_type": "markdown",
   "metadata": {},
   "source": [
    "###### Result"
   ]
  },
  {
   "cell_type": "code",
   "execution_count": 123,
   "metadata": {},
   "outputs": [
    {
     "name": "stdout",
     "output_type": "stream",
     "text": [
      "device set to cuda\n",
      "threshold: 0.05  validation loss: 0.3027 F1 accuracy 0.218 Precision accuracy 0.123 Recall accuracy 0.938 AUC accuracy: 0.731\n",
      "device set to cuda\n",
      "threshold: 0.1  validation loss: 0.3027 F1 accuracy 0.299 Precision accuracy 0.191 Recall accuracy 0.684 AUC accuracy: 0.731\n",
      "device set to cuda\n",
      "threshold: 0.15  validation loss: 0.3027 F1 accuracy 0.377 Precision accuracy 0.307 Recall accuracy 0.488 AUC accuracy: 0.731\n",
      "device set to cuda\n",
      "threshold: 0.2  validation loss: 0.3027 F1 accuracy 0.403 Precision accuracy 0.459 Recall accuracy 0.359 AUC accuracy: 0.731\n",
      "device set to cuda\n",
      "threshold: 0.25  validation loss: 0.3027 F1 accuracy 0.374 Precision accuracy 0.618 Recall accuracy 0.268 AUC accuracy: 0.731\n",
      "device set to cuda\n",
      "threshold: 0.3  validation loss: 0.3027 F1 accuracy 0.326 Precision accuracy 0.757 Recall accuracy 0.207 AUC accuracy: 0.731\n",
      "device set to cuda\n",
      "threshold: 0.35  validation loss: 0.3027 F1 accuracy 0.268 Precision accuracy 0.867 Recall accuracy 0.159 AUC accuracy: 0.731\n",
      "device set to cuda\n",
      "threshold: 0.4  validation loss: 0.3027 F1 accuracy 0.202 Precision accuracy 0.938 Recall accuracy 0.113 AUC accuracy: 0.731\n",
      "device set to cuda\n",
      "threshold: 0.45  validation loss: 0.3027 F1 accuracy 0.154 Precision accuracy 0.972 Recall accuracy 0.084 AUC accuracy: 0.731\n",
      "device set to cuda\n",
      "threshold: 0.5  validation loss: 0.3027 F1 accuracy 0.122 Precision accuracy 0.99 Recall accuracy 0.065 AUC accuracy: 0.731\n",
      "device set to cuda\n",
      "threshold: 0.55  validation loss: 0.3027 F1 accuracy 0.088 Precision accuracy 1.0 Recall accuracy 0.046 AUC accuracy: 0.731\n",
      "device set to cuda\n",
      "threshold: 0.6  validation loss: 0.3027 F1 accuracy 0.06 Precision accuracy 1.0 Recall accuracy 0.031 AUC accuracy: 0.731\n",
      "device set to cuda\n",
      "threshold: 0.65  validation loss: 0.3027 F1 accuracy 0.031 Precision accuracy 1.0 Recall accuracy 0.016 AUC accuracy: 0.731\n",
      "device set to cuda\n",
      "threshold: 0.7  validation loss: 0.3027 F1 accuracy 0.015 Precision accuracy 1.0 Recall accuracy 0.007 AUC accuracy: 0.731\n",
      "device set to cuda\n",
      "threshold: 0.75  validation loss: 0.3027 F1 accuracy 0.005 Precision accuracy 1.0 Recall accuracy 0.003 AUC accuracy: 0.731\n",
      "device set to cuda\n",
      "threshold: 0.8  validation loss: 0.3027 F1 accuracy 0.001 Precision accuracy 1.0 Recall accuracy 0.0 AUC accuracy: 0.731\n",
      "device set to cuda\n",
      "threshold: 0.85  validation loss: 0.3027 F1 accuracy 0.0 Precision accuracy 0.0 Recall accuracy 0.0 AUC accuracy: 0.731\n",
      "device set to cuda\n",
      "threshold: 0.9  validation loss: 0.3027 F1 accuracy 0.0 Precision accuracy 0.0 Recall accuracy 0.0 AUC accuracy: 0.731\n",
      "device set to cuda\n",
      "threshold: 0.95  validation loss: 0.3027 F1 accuracy 0.0 Precision accuracy 0.0 Recall accuracy 0.0 AUC accuracy: 0.731\n"
     ]
    },
    {
     "name": "stderr",
     "output_type": "stream",
     "text": [
      "C:\\Users\\caixu\\anaconda3\\lib\\site-packages\\sklearn\\metrics\\_classification.py:1221: UndefinedMetricWarning: Precision is ill-defined and being set to 0.0 due to no predicted samples. Use `zero_division` parameter to control this behavior.\n",
      "  _warn_prf(average, modifier, msg_start, len(result))\n"
     ]
    }
   ],
   "source": [
    "for i in range(5,100, 5):\n",
    "    t = i/100;\n",
    "    MLP.eval_mlp(MLPmodelGDE, sim_all[\"GDE_test\"], dm, device_name = 'cuda', threshold = t)"
   ]
  },
  {
   "cell_type": "markdown",
   "metadata": {},
   "source": [
    "Questions for Nafiseh:\n",
    "1. Shuffling the dataset greatly reduces overfitting and improves the accuracy. Can we shuffle the dataset? Is removing the overlapping signals a valid way to shuffle the dataset?\n",
    "2. Even without shuffling the dataset, removing overlapping signals still greatly improves the validation accuracy. Should we remove the overlapping signal?\n",
    "3. The built-in AUC metric in Scikit-learn yields a lot higher accuracy than the maximum F-score obatined. Is it normal? What is your AUC accuracy implementation?"
   ]
  },
  {
   "cell_type": "code",
   "execution_count": null,
   "metadata": {},
   "outputs": [],
   "source": []
  }
 ],
 "metadata": {
  "kernelspec": {
   "display_name": "Python 3",
   "language": "python",
   "name": "python3"
  },
  "language_info": {
   "codemirror_mode": {
    "name": "ipython",
    "version": 3
   },
   "file_extension": ".py",
   "mimetype": "text/x-python",
   "name": "python",
   "nbconvert_exporter": "python",
   "pygments_lexer": "ipython3",
   "version": "3.8.5"
  }
 },
 "nbformat": 4,
 "nbformat_minor": 4
}
