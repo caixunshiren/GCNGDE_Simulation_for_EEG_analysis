{
 "cells": [
  {
   "cell_type": "markdown",
   "metadata": {},
   "source": [
    "# High Level Pipline for GCN and GNODE for Brain State Identification"
   ]
  },
  {
   "cell_type": "markdown",
   "metadata": {},
   "source": [
    "## Pipeline Overview"
   ]
  },
  {
   "cell_type": "markdown",
   "metadata": {},
   "source": [
    "### 1.1 Adjacency Matrix Generation ---> **2.1 Unsupervised GCN** ---> 3.1 Supervised MLP"
   ]
  },
  {
   "cell_type": "markdown",
   "metadata": {},
   "source": [
    "### 1.1 Adjacency Matrix Generation ---> **2.2 Unsupervised GNODE** ---> 3.1 Supervised MLP"
   ]
  },
  {
   "cell_type": "markdown",
   "metadata": {},
   "source": [
    "[Introduction and overview should be written here]"
   ]
  },
  {
   "cell_type": "markdown",
   "metadata": {},
   "source": [
    "#### High Level Classes imported:"
   ]
  },
  {
   "cell_type": "markdown",
   "metadata": {},
   "source": [
    "DataManager.py DataManagerUtil.py : [insert description here]"
   ]
  },
  {
   "cell_type": "markdown",
   "metadata": {},
   "source": [
    "GCN.py GCNutil.py : [insert description here]"
   ]
  },
  {
   "cell_type": "markdown",
   "metadata": {},
   "source": [
    "GDE.py GDEutil.py GDEsolvers.py : [insert description here]"
   ]
  },
  {
   "cell_type": "markdown",
   "metadata": {},
   "source": [
    "MLP.py : [insert description here]"
   ]
  },
  {
   "cell_type": "code",
   "execution_count": 1,
   "metadata": {},
   "outputs": [],
   "source": [
    "%reload_ext autoreload\n",
    "%autoreload 2\n",
    "#Custom Files\n",
    "from DataManager import dataManager\n",
    "from DataManagerUtil import *\n",
    "import GCN as GCN\n",
    "import GCNutil as GCNutil\n",
    "import GDE as GDE\n",
    "import GDEutil as GDEutil\n",
    "import GDEsolvers as GDEsolvers\n",
    "import MLP as MLP\n",
    "\n",
    "#Standard Libraries\n",
    "# Torch\n",
    "import torch\n",
    "import torch.autograd\n",
    "import torch.nn as nn\n",
    "import torch.nn.functional as F\n",
    "#Numpy\n",
    "import numpy as np"
   ]
  },
  {
   "cell_type": "markdown",
   "metadata": {},
   "source": [
    "#### Dataset:"
   ]
  },
  {
   "cell_type": "markdown",
   "metadata": {},
   "source": [
    "[A short description here]"
   ]
  },
  {
   "cell_type": "code",
   "execution_count": 2,
   "metadata": {},
   "outputs": [
    {
     "name": "stdout",
     "output_type": "stream",
     "text": [
      "name: X_test\n",
      "shape: (640, 31, 1518)\n",
      "-----------------------\n",
      "name: X_train\n",
      "shape: (640, 31, 1395)\n",
      "-----------------------\n",
      "name: clip_sizes_test\n",
      "shape: (2, 129)\n",
      "-----------------------\n",
      "name: clip_sizes_train\n",
      "shape: (2, 127)\n",
      "-----------------------\n",
      "name: conv_sizes\n",
      "shape: (1, 1)\n",
      "-----------------------\n",
      "name: n_pre_szr\n",
      "shape: (1, 1)\n",
      "-----------------------\n",
      "name: sel_win_nums_test\n",
      "shape: (1, 1518)\n",
      "-----------------------\n",
      "name: sel_win_nums_train\n",
      "shape: (1, 1395)\n",
      "-----------------------\n",
      "name: soz_ch_ids\n",
      "shape: (5, 1)\n",
      "-----------------------\n",
      "name: stride_sec\n",
      "shape: (1, 1)\n",
      "-----------------------\n",
      "name: window_size_sec\n",
      "shape: (1, 1)\n",
      "-----------------------\n",
      "name: y_test\n",
      "shape: (1, 1518)\n",
      "-----------------------\n",
      "name: y_train\n",
      "shape: (1, 1395)\n",
      "-----------------------\n",
      "print sample EGG signal from one node:\n"
     ]
    },
    {
     "data": {
      "image/png": "[encoded data removed]",
      "text/plain": [
       "<Figure size 432x288 with 1 Axes>"
      ]
     },
     "metadata": {
      "needs_background": "light"
     },
     "output_type": "display_data"
    }
   ],
   "source": [
    "#Loading everything from the dataset\n",
    "filepath = 'datasets\\pat_FR_620.mat' #264 253 620\n",
    "variables = load_patient_data(filepath, verbose = True)"
   ]
  },
  {
   "cell_type": "code",
   "execution_count": 3,
   "metadata": {},
   "outputs": [
    {
     "name": "stdout",
     "output_type": "stream",
     "text": [
      "X_train: (640, 31, 1456)\n",
      "X_test: (640, 31, 1457)\n",
      "y_train: (1, 1456) Positive labes: 173.0\n",
      "y_test: (1, 1457) Positive labes: 148.0\n"
     ]
    }
   ],
   "source": [
    "#OPTIONAL: Shuffle the dataset\n",
    "variables, indices = shuffle_train_test(variables, train_ratio = 0.5, print_summary = True)"
   ]
  },
  {
   "cell_type": "code",
   "execution_count": 4,
   "metadata": {},
   "outputs": [],
   "source": [
    "#OPTIONAL: Remove Overlapping Parts\n",
    "variables = remove_overlap(variables)"
   ]
  },
  {
   "cell_type": "code",
   "execution_count": 8,
   "metadata": {},
   "outputs": [],
   "source": [
    "#save the shuffled indices\n",
    "np.save(\"datasets/indices_620.npy\",indices)"
   ]
  },
  {
   "cell_type": "markdown",
   "metadata": {},
   "source": [
    "$\\;\\;\\;\\;\\;\\;\\;\\;\\;\\;\\;\\;\\;\\;$"
   ]
  },
  {
   "cell_type": "markdown",
   "metadata": {},
   "source": [
    "## 1.1 Adjacency Matrix Generation"
   ]
  },
  {
   "cell_type": "markdown",
   "metadata": {},
   "source": [
    "[short description here]"
   ]
  },
  {
   "cell_type": "markdown",
   "metadata": {},
   "source": [
    "##### 1.1.1 Create the datamanager object that computes the covariance matrix for you."
   ]
  },
  {
   "cell_type": "code",
   "execution_count": 9,
   "metadata": {},
   "outputs": [
    {
     "name": "stdout",
     "output_type": "stream",
     "text": [
      "--------data manager successfully initialized--------\n"
     ]
    }
   ],
   "source": [
    "dm = dataManager(variables[\"X_train\"],variables[\"X_test\"],variables[\"y_train\"],variables[\"y_test\"],10**(-4))"
   ]
  },
  {
   "cell_type": "markdown",
   "metadata": {},
   "source": [
    "##### 1.1.2 Visualize the mean covariance matrix across all training samples"
   ]
  },
  {
   "cell_type": "code",
   "execution_count": 10,
   "metadata": {},
   "outputs": [
    {
     "data": {
      "image/png": "[encoded data removed]",
      "text/plain": [
       "<Figure size 432x288 with 2 Axes>"
      ]
     },
     "metadata": {
      "needs_background": "light"
     },
     "output_type": "display_data"
    }
   ],
   "source": [
    "show_heat_map(dm.P_avg_train)"
   ]
  },
  {
   "cell_type": "markdown",
   "metadata": {},
   "source": [
    "##### 1.1.3 Create DAD from dm by setting the threshold n. repeating this untill a desireble \"n\" value is found."
   ]
  },
  {
   "cell_type": "code",
   "execution_count": 11,
   "metadata": {},
   "outputs": [
    {
     "data": {
      "image/png": "[encoded data removed]",
      "text/plain": [
       "<Figure size 432x288 with 2 Axes>"
      ]
     },
     "metadata": {
      "needs_background": "light"
     },
     "output_type": "display_data"
    },
    {
     "data": {
      "image/png": "[encoded data removed]",
      "text/plain": [
       "<Figure size 432x288 with 2 Axes>"
      ]
     },
     "metadata": {
      "needs_background": "light"
     },
     "output_type": "display_data"
    }
   ],
   "source": [
    "n = 1*10**-3\n",
    "dm.re_threshold(n)\n",
    "show_heat_map(dm.A_train)\n",
    "show_heat_map(create_DAD(dm.A_train))\n",
    "Araw = dm.A_train"
   ]
  },
  {
   "cell_type": "markdown",
   "metadata": {},
   "source": [
    "$\\;\\;\\;\\;\\;\\;\\;\\;\\;\\;\\;\\;\\;\\;$"
   ]
  },
  {
   "cell_type": "markdown",
   "metadata": {},
   "source": [
    "## 2.1 Unsupervised Graph Convolutional Neural Network (GCN)"
   ]
  },
  {
   "cell_type": "markdown",
   "metadata": {},
   "source": [
    "[short description here]"
   ]
  },
  {
   "cell_type": "markdown",
   "metadata": {},
   "source": [
    "##### 2.1.1 Declare Parameters for GCN"
   ]
  },
  {
   "cell_type": "code",
   "execution_count": 12,
   "metadata": {},
   "outputs": [
    {
     "name": "stdout",
     "output_type": "stream",
     "text": [
      "{'body': 257, 'M': 1434, 'batch_size': 128, 'n_layers': 2, 'num_epochs': 1, 'learning_rate': 0.001, 'weight_decay': 0.005}\n"
     ]
    }
   ],
   "source": [
    "#create new model\n",
    "A = create_DAD(Araw)\n",
    "X_train = dm.X_train\n",
    "X_test = dm.X_test\n",
    "GCNparameters = {\n",
    "    'body': dm.X_train.shape[2],\n",
    "    'M': dm.X_train.shape[0],\n",
    "    'batch_size': 128,\n",
    "    'n_layers': 2,\n",
    "    'num_epochs': 1,\n",
    "    'learning_rate': 1e-3,\n",
    "    'weight_decay': 5e-3\n",
    "}\n",
    "print(GCNparameters)\n",
    "GCNcheckpoint = {'parameters': GCNparameters}"
   ]
  },
  {
   "cell_type": "markdown",
   "metadata": {},
   "source": [
    "##### 2.1.2 Train GCN"
   ]
  },
  {
   "cell_type": "code",
   "execution_count": 13,
   "metadata": {},
   "outputs": [
    {
     "name": "stderr",
     "output_type": "stream",
     "text": [
      "  0%|          | 0/12 [00:00<?, ?it/s]"
     ]
    },
    {
     "name": "stdout",
     "output_type": "stream",
     "text": [
      "device set to cpu\n",
      "Epoch:"
     ]
    },
    {
     "name": "stderr",
     "output_type": "stream",
     "text": [
      " 17%|█▋        | 2/12 [00:00<00:01,  5.73it/s]"
     ]
    },
    {
     "name": "stdout",
     "output_type": "stream",
     "text": [
      "Epoch: 1   Batch: 2 of size 128   Train loss: 494.3995666503906   Valid loss: 494.484619140625\r"
     ]
    },
    {
     "name": "stderr",
     "output_type": "stream",
     "text": [
      " 33%|███▎      | 4/12 [00:00<00:01,  6.96it/s]"
     ]
    },
    {
     "name": "stdout",
     "output_type": "stream",
     "text": [
      "Epoch: 1   Batch: 4 of size 128   Train loss: 494.39312744140625   Valid loss: 493.8042297363281\r"
     ]
    },
    {
     "name": "stderr",
     "output_type": "stream",
     "text": [
      " 50%|█████     | 6/12 [00:00<00:00,  7.78it/s]"
     ]
    },
    {
     "name": "stdout",
     "output_type": "stream",
     "text": [
      "Epoch: 1   Batch: 6 of size 128   Train loss: 493.4139099121094   Valid loss: 493.60220336914065\r"
     ]
    },
    {
     "name": "stderr",
     "output_type": "stream",
     "text": [
      " 67%|██████▋   | 8/12 [00:01<00:00,  8.01it/s]"
     ]
    },
    {
     "name": "stdout",
     "output_type": "stream",
     "text": [
      "Epoch: 1   Batch: 8 of size 128   Train loss: 493.9952087402344   Valid loss: 493.91168212890625\r"
     ]
    },
    {
     "name": "stderr",
     "output_type": "stream",
     "text": [
      " 83%|████████▎ | 10/12 [00:01<00:00,  8.03it/s]"
     ]
    },
    {
     "name": "stdout",
     "output_type": "stream",
     "text": [
      "Epoch: 1   Batch: 10 of size 128   Train loss: 494.1480712890625   Valid loss: 493.1988525390625\r"
     ]
    },
    {
     "name": "stderr",
     "output_type": "stream",
     "text": [
      "100%|██████████| 12/12 [00:01<00:00,  8.53it/s]"
     ]
    },
    {
     "name": "stdout",
     "output_type": "stream",
     "text": [
      "Epoch: 1   Batch: 12 of size 128   Train loss: 492.8623352050781   Valid loss: 493.11187744140625\n"
     ]
    },
    {
     "name": "stderr",
     "output_type": "stream",
     "text": [
      "\n"
     ]
    }
   ],
   "source": [
    "#strongly recommand cpu because it's only one epoch training time and CUDA some times run out of memory if you retrain multiple times\n",
    "device_name = 'cpu'\n",
    "GCNmodel, GCNcheckpoint = GCNutil.train_GCN(A, X_train, X_test, GCNcheckpoint, device_name = device_name, load = False, print_summary = False)"
   ]
  },
  {
   "cell_type": "code",
   "execution_count": 14,
   "metadata": {},
   "outputs": [
    {
     "name": "stdout",
     "output_type": "stream",
     "text": [
      "model saved\n"
     ]
    }
   ],
   "source": [
    "#optional: saving the model\n",
    "GCNutil.save_ckp(GCNcheckpoint, \"models/GCN620_1.pt\")"
   ]
  },
  {
   "cell_type": "markdown",
   "metadata": {},
   "source": [
    "##### 2.1.3 Visualize some simularity matrices generated by GCN (a visual evaluation and sanity check)"
   ]
  },
  {
   "cell_type": "code",
   "execution_count": 15,
   "metadata": {},
   "outputs": [],
   "source": [
    "GCNmodel.eval()\n",
    "test_pred = GCNmodel(torch.from_numpy(X_train[:128, :,:]).float().to(device_name), torch.from_numpy(A).float().to(device_name)).cpu().detach().numpy()"
   ]
  },
  {
   "cell_type": "code",
   "execution_count": 16,
   "metadata": {
    "collapsed": true,
    "jupyter": {
     "outputs_hidden": true
    }
   },
   "outputs": [
    {
     "name": "stdout",
     "output_type": "stream",
     "text": [
      "sample 0   label, 0.0\n"
     ]
    },
    {
     "data": {
      "image/png": "[encoded data removed]",
      "text/plain": [
       "<Figure size 432x288 with 2 Axes>"
      ]
     },
     "metadata": {
      "needs_background": "light"
     },
     "output_type": "display_data"
    },
    {
     "name": "stdout",
     "output_type": "stream",
     "text": [
      "sample 1   label, 0.0\n"
     ]
    },
    {
     "data": {
      "image/png": "[encoded data removed]",
      "text/plain": [
       "<Figure size 432x288 with 2 Axes>"
      ]
     },
     "metadata": {
      "needs_background": "light"
     },
     "output_type": "display_data"
    },
    {
     "name": "stdout",
     "output_type": "stream",
     "text": [
      "sample 2   label, 0.0\n"
     ]
    },
    {
     "data": {
      "image/png": "[encoded data removed]",
      "text/plain": [
       "<Figure size 432x288 with 2 Axes>"
      ]
     },
     "metadata": {
      "needs_background": "light"
     },
     "output_type": "display_data"
    },
    {
     "name": "stdout",
     "output_type": "stream",
     "text": [
      "sample 3   label, 0.0\n"
     ]
    },
    {
     "data": {
      "image/png": "[encoded data removed]",
      "text/plain": [
       "<Figure size 432x288 with 2 Axes>"
      ]
     },
     "metadata": {
      "needs_background": "light"
     },
     "output_type": "display_data"
    },
    {
     "name": "stdout",
     "output_type": "stream",
     "text": [
      "sample 4   label, 0.0\n"
     ]
    },
    {
     "data": {
      "image/png": "[encoded data removed]",
      "text/plain": [
       "<Figure size 432x288 with 2 Axes>"
      ]
     },
     "metadata": {
      "needs_background": "light"
     },
     "output_type": "display_data"
    },
    {
     "name": "stdout",
     "output_type": "stream",
     "text": [
      "sample 5   label, 0.0\n"
     ]
    },
    {
     "data": {
      "image/png": "[encoded data removed]",
      "text/plain": [
       "<Figure size 432x288 with 2 Axes>"
      ]
     },
     "metadata": {
      "needs_background": "light"
     },
     "output_type": "display_data"
    },
    {
     "name": "stdout",
     "output_type": "stream",
     "text": [
      "sample 6   label, 0.0\n"
     ]
    },
    {
     "data": {
      "image/png": "[encoded data removed]",
      "text/plain": [
       "<Figure size 432x288 with 2 Axes>"
      ]
     },
     "metadata": {
      "needs_background": "light"
     },
     "output_type": "display_data"
    },
    {
     "name": "stdout",
     "output_type": "stream",
     "text": [
      "sample 7   label, 0.0\n"
     ]
    },
    {
     "data": {
      "image/png": "[encoded data removed]",
      "text/plain": [
       "<Figure size 432x288 with 2 Axes>"
      ]
     },
     "metadata": {
      "needs_background": "light"
     },
     "output_type": "display_data"
    },
    {
     "name": "stdout",
     "output_type": "stream",
     "text": [
      "sample 8   label, 0.0\n"
     ]
    },
    {
     "data": {
      "image/png": "[encoded data removed]",
      "text/plain": [
       "<Figure size 432x288 with 2 Axes>"
      ]
     },
     "metadata": {
      "needs_background": "light"
     },
     "output_type": "display_data"
    },
    {
     "name": "stdout",
     "output_type": "stream",
     "text": [
      "sample 9   label, 1.0\n"
     ]
    },
    {
     "data": {
      "image/png": "[encoded data removed]",
      "text/plain": [
       "<Figure size 432x288 with 2 Axes>"
      ]
     },
     "metadata": {
      "needs_background": "light"
     },
     "output_type": "display_data"
    }
   ],
   "source": [
    "for i in range(10):\n",
    "    print(\"sample\", i, \"  label,\", dm.Y_train[i,0])\n",
    "    show_heat_map(test_pred[i,:,:])"
   ]
  },
  {
   "cell_type": "markdown",
   "metadata": {},
   "source": [
    "$\\;\\;\\;\\;\\;\\;\\;\\;\\;\\;\\;\\;\\;\\;$"
   ]
  },
  {
   "cell_type": "markdown",
   "metadata": {},
   "source": [
    "## 2.1 Unsupervised Graph Neural Ordinary Differential Equations (GNODE)"
   ]
  },
  {
   "cell_type": "markdown",
   "metadata": {},
   "source": [
    "[short description here]"
   ]
  },
  {
   "cell_type": "markdown",
   "metadata": {},
   "source": [
    "##### 2.2.1 Declare Parameters for GNODE"
   ]
  },
  {
   "cell_type": "code",
   "execution_count": 17,
   "metadata": {},
   "outputs": [],
   "source": [
    "A = create_DAD(Araw)\n",
    "X_train = dm.X_train\n",
    "X_test = dm.X_test\n",
    "GDEparameters = {\n",
    "    'body': dm.X_train.shape[2],\n",
    "    'solver': GDEsolvers.explicit_RK,\n",
    "    'solver_params': {\n",
    "    \"t0\": 0,\n",
    "    \"t1\": 0.25,\n",
    "    \"N\": 5,\n",
    "    \"b_tableau\": GDEsolvers.EF\n",
    "     },\n",
    "    'hidden_layers': 1,\n",
    "    'M': dm.X_train.shape[0],\n",
    "    'batch_size': 128,\n",
    "    'num_epochs': 1,\n",
    "    'learning_rate': 1e-3,\n",
    "    'weight_decay': 5e-3\n",
    "}\n",
    "GDEcheckpoint = {'parameters': GDEparameters}"
   ]
  },
  {
   "cell_type": "markdown",
   "metadata": {},
   "source": [
    "##### 2.2.2 Train GNODE"
   ]
  },
  {
   "cell_type": "code",
   "execution_count": 18,
   "metadata": {
    "collapsed": true,
    "jupyter": {
     "outputs_hidden": true
    }
   },
   "outputs": [
    {
     "name": "stderr",
     "output_type": "stream",
     "text": [
      "  0%|          | 0/12 [00:00<?, ?it/s]"
     ]
    },
    {
     "name": "stdout",
     "output_type": "stream",
     "text": [
      "device set to cpu\n"
     ]
    },
    {
     "name": "stderr",
     "output_type": "stream",
     "text": [
      "  8%|▊         | 1/12 [00:00<00:05,  1.97it/s]"
     ]
    },
    {
     "name": "stdout",
     "output_type": "stream",
     "text": [
      "Epoch: 1   Batch: 1 of size 128   Train loss: 497.8541259765625   Valid loss: 492.99713134765625\r"
     ]
    },
    {
     "name": "stderr",
     "output_type": "stream",
     "text": [
      " 17%|█▋        | 2/12 [00:01<00:05,  1.93it/s]"
     ]
    },
    {
     "name": "stdout",
     "output_type": "stream",
     "text": [
      "Epoch: 1   Batch: 2 of size 128   Train loss: 493.2345275878906   Valid loss: 493.0710144042969\r"
     ]
    },
    {
     "name": "stderr",
     "output_type": "stream",
     "text": [
      " 25%|██▌       | 3/12 [00:01<00:04,  1.90it/s]"
     ]
    },
    {
     "name": "stdout",
     "output_type": "stream",
     "text": [
      "Epoch: 1   Batch: 3 of size 128   Train loss: 493.96746826171875   Valid loss: 494.09521484375\r"
     ]
    },
    {
     "name": "stderr",
     "output_type": "stream",
     "text": [
      " 33%|███▎      | 4/12 [00:02<00:04,  1.87it/s]"
     ]
    },
    {
     "name": "stdout",
     "output_type": "stream",
     "text": [
      "Epoch: 1   Batch: 4 of size 128   Train loss: 494.0594482421875   Valid loss: 494.39715576171875\r"
     ]
    },
    {
     "name": "stderr",
     "output_type": "stream",
     "text": [
      " 42%|████▏     | 5/12 [00:02<00:03,  1.85it/s]"
     ]
    },
    {
     "name": "stdout",
     "output_type": "stream",
     "text": [
      "Epoch: 1   Batch: 5 of size 128   Train loss: 492.9137878417969   Valid loss: 492.1629638671875\r"
     ]
    },
    {
     "name": "stderr",
     "output_type": "stream",
     "text": [
      " 50%|█████     | 6/12 [00:03<00:03,  1.81it/s]"
     ]
    },
    {
     "name": "stdout",
     "output_type": "stream",
     "text": [
      "Epoch: 1   Batch: 6 of size 128   Train loss: 493.67388916015625   Valid loss: 491.3314514160156\r"
     ]
    },
    {
     "name": "stderr",
     "output_type": "stream",
     "text": [
      " 58%|█████▊    | 7/12 [00:03<00:02,  1.84it/s]"
     ]
    },
    {
     "name": "stdout",
     "output_type": "stream",
     "text": [
      "Epoch: 1   Batch: 7 of size 128   Train loss: 491.94830322265625   Valid loss: 491.29351806640625\r"
     ]
    },
    {
     "name": "stderr",
     "output_type": "stream",
     "text": [
      " 67%|██████▋   | 8/12 [00:04<00:02,  1.83it/s]"
     ]
    },
    {
     "name": "stdout",
     "output_type": "stream",
     "text": [
      "Epoch: 1   Batch: 8 of size 128   Train loss: 491.3291931152344   Valid loss: 491.25390625\r"
     ]
    },
    {
     "name": "stderr",
     "output_type": "stream",
     "text": [
      " 75%|███████▌  | 9/12 [00:04<00:01,  1.84it/s]"
     ]
    },
    {
     "name": "stdout",
     "output_type": "stream",
     "text": [
      "Epoch: 1   Batch: 9 of size 128   Train loss: 491.7289733886719   Valid loss: 492.05169677734375\r"
     ]
    },
    {
     "name": "stderr",
     "output_type": "stream",
     "text": [
      " 83%|████████▎ | 10/12 [00:05<00:01,  1.85it/s]"
     ]
    },
    {
     "name": "stdout",
     "output_type": "stream",
     "text": [
      "Epoch: 1   Batch: 10 of size 128   Train loss: 491.8907165527344   Valid loss: 491.3292541503906\r"
     ]
    },
    {
     "name": "stderr",
     "output_type": "stream",
     "text": [
      "100%|██████████| 12/12 [00:06<00:00,  1.97it/s]"
     ]
    },
    {
     "name": "stdout",
     "output_type": "stream",
     "text": [
      "Epoch: 1   Batch: 12 of size 128   Train loss: 491.0382080078125   Valid loss: 490.088562011718755\n"
     ]
    },
    {
     "name": "stderr",
     "output_type": "stream",
     "text": [
      "\n"
     ]
    }
   ],
   "source": [
    "#strongly recommand cpu because it's only one epoch training time and CUDA some times run out of memory if you retrain multiple times\n",
    "device_name = 'cpu'\n",
    "GDEmodel, GDEcheckpoint = GDEutil.train_GDE(A, X_train, X_test, GDEcheckpoint, device_name = device_name, load = False, print_summary = False)"
   ]
  },
  {
   "cell_type": "code",
   "execution_count": 19,
   "metadata": {},
   "outputs": [
    {
     "name": "stdout",
     "output_type": "stream",
     "text": [
      "model saved\n"
     ]
    }
   ],
   "source": [
    "#optional: saving the model\n",
    "GDEutil.save_ckp(GDEcheckpoint, \"models/GDE620_1.pt\")"
   ]
  },
  {
   "cell_type": "markdown",
   "metadata": {},
   "source": [
    "##### 2.2.3 Visualize some simularity matrices generated by GNODE (a visual evaluation and sanity check)"
   ]
  },
  {
   "cell_type": "code",
   "execution_count": 20,
   "metadata": {},
   "outputs": [],
   "source": [
    "GDEmodel.eval()\n",
    "test_pred = GDEmodel(torch.from_numpy(X_train[:128, :,:]).float().to(device_name)).cpu().detach().numpy()"
   ]
  },
  {
   "cell_type": "code",
   "execution_count": 22,
   "metadata": {
    "collapsed": true,
    "jupyter": {
     "outputs_hidden": true
    }
   },
   "outputs": [
    {
     "name": "stdout",
     "output_type": "stream",
     "text": [
      "sample 0   label, 0.0\n"
     ]
    },
    {
     "data": {
      "image/png": "[encoded data removed]",
      "text/plain": [
       "<Figure size 432x288 with 2 Axes>"
      ]
     },
     "metadata": {
      "needs_background": "light"
     },
     "output_type": "display_data"
    },
    {
     "name": "stdout",
     "output_type": "stream",
     "text": [
      "sample 1   label, 0.0\n"
     ]
    },
    {
     "data": {
      "image/png": "[encoded data removed]",
      "text/plain": [
       "<Figure size 432x288 with 2 Axes>"
      ]
     },
     "metadata": {
      "needs_background": "light"
     },
     "output_type": "display_data"
    },
    {
     "name": "stdout",
     "output_type": "stream",
     "text": [
      "sample 2   label, 0.0\n"
     ]
    },
    {
     "data": {
      "image/png": "[encoded data removed]",
      "text/plain": [
       "<Figure size 432x288 with 2 Axes>"
      ]
     },
     "metadata": {
      "needs_background": "light"
     },
     "output_type": "display_data"
    },
    {
     "name": "stdout",
     "output_type": "stream",
     "text": [
      "sample 3   label, 0.0\n"
     ]
    },
    {
     "data": {
      "image/png": "[encoded data removed]",
      "text/plain": [
       "<Figure size 432x288 with 2 Axes>"
      ]
     },
     "metadata": {
      "needs_background": "light"
     },
     "output_type": "display_data"
    },
    {
     "name": "stdout",
     "output_type": "stream",
     "text": [
      "sample 4   label, 0.0\n"
     ]
    },
    {
     "data": {
      "image/png": "[encoded data removed]",
      "text/plain": [
       "<Figure size 432x288 with 2 Axes>"
      ]
     },
     "metadata": {
      "needs_background": "light"
     },
     "output_type": "display_data"
    },
    {
     "name": "stdout",
     "output_type": "stream",
     "text": [
      "sample 5   label, 0.0\n"
     ]
    },
    {
     "data": {
      "image/png": "[encoded data removed]",
      "text/plain": [
       "<Figure size 432x288 with 2 Axes>"
      ]
     },
     "metadata": {
      "needs_background": "light"
     },
     "output_type": "display_data"
    },
    {
     "name": "stdout",
     "output_type": "stream",
     "text": [
      "sample 6   label, 0.0\n"
     ]
    },
    {
     "data": {
      "image/png": "[encoded data removed]",
      "text/plain": [
       "<Figure size 432x288 with 2 Axes>"
      ]
     },
     "metadata": {
      "needs_background": "light"
     },
     "output_type": "display_data"
    },
    {
     "name": "stdout",
     "output_type": "stream",
     "text": [
      "sample 7   label, 0.0\n"
     ]
    },
    {
     "data": {
      "image/png": "[encoded data removed]",
      "text/plain": [
       "<Figure size 432x288 with 2 Axes>"
      ]
     },
     "metadata": {
      "needs_background": "light"
     },
     "output_type": "display_data"
    },
    {
     "name": "stdout",
     "output_type": "stream",
     "text": [
      "sample 8   label, 0.0\n"
     ]
    },
    {
     "data": {
      "image/png": "[encoded data removed]",
      "text/plain": [
       "<Figure size 432x288 with 2 Axes>"
      ]
     },
     "metadata": {
      "needs_background": "light"
     },
     "output_type": "display_data"
    },
    {
     "name": "stdout",
     "output_type": "stream",
     "text": [
      "sample 9   label, 1.0\n"
     ]
    },
    {
     "data": {
      "image/png": "[encoded data removed]",
      "text/plain": [
       "<Figure size 432x288 with 2 Axes>"
      ]
     },
     "metadata": {
      "needs_background": "light"
     },
     "output_type": "display_data"
    }
   ],
   "source": [
    "for i in range(10):\n",
    "    print(\"sample\", i, \"  label,\", dm.Y_train[i,0])\n",
    "    show_heat_map(test_pred[i,:,:])"
   ]
  },
  {
   "cell_type": "markdown",
   "metadata": {},
   "source": [
    "$\\;\\;\\;\\;\\;\\;\\;\\;\\;\\;\\;\\;\\;\\;$"
   ]
  },
  {
   "cell_type": "markdown",
   "metadata": {},
   "source": [
    "## 3.1 Supervised Multi-Layer Perceptron (MLP)"
   ]
  },
  {
   "cell_type": "markdown",
   "metadata": {},
   "source": [
    "[short description here]"
   ]
  },
  {
   "cell_type": "markdown",
   "metadata": {},
   "source": [
    "##### 3.1.1 Get simularity matrix from GCN and GNODE models"
   ]
  },
  {
   "cell_type": "code",
   "execution_count": 23,
   "metadata": {},
   "outputs": [],
   "source": [
    "sim_all = {}\n",
    "A = create_DAD(Araw)\n",
    "X_train = dm.X_train\n",
    "X_test = dm.X_test\n",
    "device_name = 'cpu'"
   ]
  },
  {
   "cell_type": "code",
   "execution_count": 24,
   "metadata": {},
   "outputs": [],
   "source": [
    "#Get simularity matrix from GCN\n",
    "GCNmodel.eval()\n",
    "sim_all[\"GCN_train\"] = GCNmodel(torch.from_numpy(X_train).float().to(device_name), torch.from_numpy(A).float().to(device_name)).cpu().detach().numpy()\n",
    "sim_all[\"GCN_test\"] = GCNmodel(torch.from_numpy(X_test).float().to(device_name), torch.from_numpy(A).float().to(device_name)).cpu().detach().numpy()"
   ]
  },
  {
   "cell_type": "code",
   "execution_count": 25,
   "metadata": {},
   "outputs": [],
   "source": [
    "#Get simularity matrix from GNODE\n",
    "GDEmodel.eval()\n",
    "sim_all[\"GDE_train\"] = GDEmodel(torch.from_numpy(X_train).float().to(device_name)).cpu().detach().numpy()\n",
    "sim_all[\"GDE_test\"] = GDEmodel(torch.from_numpy(X_test).float().to(device_name)).cpu().detach().numpy()"
   ]
  },
  {
   "cell_type": "markdown",
   "metadata": {},
   "source": [
    "##### 3.1.2 Visualize the averaged ictal and non-ictal states for the two models"
   ]
  },
  {
   "cell_type": "code",
   "execution_count": 26,
   "metadata": {},
   "outputs": [
    {
     "name": "stdout",
     "output_type": "stream",
     "text": [
      "Average Ictal and Non-Ictal Simularity Matrix for GCN\n",
      "Average ictal\n"
     ]
    },
    {
     "data": {
      "image/png": "[encoded data removed]",
      "text/plain": [
       "<Figure size 432x288 with 2 Axes>"
      ]
     },
     "metadata": {
      "needs_background": "light"
     },
     "output_type": "display_data"
    },
    {
     "name": "stdout",
     "output_type": "stream",
     "text": [
      "Average Non-Ictal\n"
     ]
    },
    {
     "data": {
      "image/png": "[encoded data removed]",
      "text/plain": [
       "<Figure size 432x288 with 2 Axes>"
      ]
     },
     "metadata": {
      "needs_background": "light"
     },
     "output_type": "display_data"
    }
   ],
   "source": [
    "print(\"Average Ictal and Non-Ictal Simularity Matrix for GCN\")\n",
    "visualize_avg_sim_matrix(dm, sim_all[\"GCN_train\"], sim_all[\"GCN_test\"])"
   ]
  },
  {
   "cell_type": "code",
   "execution_count": 27,
   "metadata": {},
   "outputs": [
    {
     "name": "stdout",
     "output_type": "stream",
     "text": [
      "Average Ictal and Non-Ictal Simularity Matrix for GDE\n",
      "Average ictal\n"
     ]
    },
    {
     "data": {
      "image/png": "[encoded data removed]",
      "text/plain": [
       "<Figure size 432x288 with 2 Axes>"
      ]
     },
     "metadata": {
      "needs_background": "light"
     },
     "output_type": "display_data"
    },
    {
     "name": "stdout",
     "output_type": "stream",
     "text": [
      "Average Non-Ictal\n"
     ]
    },
    {
     "data": {
      "image/png": "[encoded data removed]",
      "text/plain": [
       "<Figure size 432x288 with 2 Axes>"
      ]
     },
     "metadata": {
      "needs_background": "light"
     },
     "output_type": "display_data"
    }
   ],
   "source": [
    "print(\"Average Ictal and Non-Ictal Simularity Matrix for GDE\")\n",
    "visualize_avg_sim_matrix(dm, sim_all[\"GDE_train\"], sim_all[\"GDE_test\"])"
   ]
  },
  {
   "cell_type": "markdown",
   "metadata": {},
   "source": [
    "##### 3.1.3 MLP for GCN  "
   ]
  },
  {
   "cell_type": "markdown",
   "metadata": {},
   "source": [
    "###### Training"
   ]
  },
  {
   "cell_type": "code",
   "execution_count": 50,
   "metadata": {
    "collapsed": true,
    "jupyter": {
     "outputs_hidden": true
    }
   },
   "outputs": [
    {
     "name": "stdout",
     "output_type": "stream",
     "text": [
      "MLP(\n",
      "  (layers): ModuleList(\n",
      "    (0): Linear(in_features=496, out_features=496, bias=True)\n",
      "    (1): ReLU()\n",
      "    (2): Linear(in_features=496, out_features=1, bias=True)\n",
      "    (3): Sigmoid()\n",
      "  )\n",
      ")\n",
      "----------------------------------------------------------------\n",
      "        Layer (type)               Output Shape         Param #\n",
      "================================================================\n",
      "            Linear-1                  [-1, 496]         246,512\n",
      "              ReLU-2                  [-1, 496]               0\n",
      "            Linear-3                    [-1, 1]             497\n",
      "           Sigmoid-4                    [-1, 1]               0\n",
      "================================================================\n",
      "Total params: 247,009\n",
      "Trainable params: 247,009\n",
      "Non-trainable params: 0\n",
      "----------------------------------------------------------------\n",
      "Input size (MB): 0.00\n",
      "Forward/backward pass size (MB): 0.01\n",
      "Params size (MB): 0.94\n",
      "Estimated Total Size (MB): 0.95\n",
      "----------------------------------------------------------------\n",
      "Epoch: 1   Train loss: 0.4791   Train accuracy: 0.015   Val loss: 0.3043   Val accuracy: 0.291    weighted Val loss: 0.3043\n",
      "0.291 ----------saved-----------\n",
      "Epoch: 2   Train loss: 0.3324   Train accuracy: 0.0   Val loss: 0.2862   Val accuracy: 0.408    weighted Val loss: 0.3042\n",
      "0.408 ----------saved-----------\n",
      "Epoch: 3   Train loss: 0.2955   Train accuracy: 0.0   Val loss: 0.2714   Val accuracy: 0.5    weighted Val loss: 0.3041\n",
      "0.5 ----------saved-----------\n",
      "Epoch: 4   Train loss: 0.2749   Train accuracy: 0.0   Val loss: 0.2552   Val accuracy: 0.535    weighted Val loss: 0.3038\n",
      "0.535 ----------saved-----------\n",
      "Epoch: 5   Train loss: 0.2748   Train accuracy: 0.05   Val loss: 0.2426   Val accuracy: 0.573    weighted Val loss: 0.3035\n",
      "0.573 ----------saved-----------\n",
      "Epoch: 6   Train loss: 0.2372   Train accuracy: 0.214   Val loss: 0.2336   Val accuracy: 0.583    weighted Val loss: 0.3032\n",
      "0.583 ----------saved-----------\n",
      "Epoch: 7   Train loss: 0.2283   Train accuracy: 0.331   Val loss: 0.2227   Val accuracy: 0.588    weighted Val loss: 0.3028\n",
      "0.588 ----------saved-----------\n",
      "Epoch: 8   Train loss: 0.2141   Train accuracy: 0.429   Val loss: 0.2172   Val accuracy: 0.595    weighted Val loss: 0.3023\n",
      "0.595 ----------saved-----------\n",
      "Epoch: 9   Train loss: 0.203   Train accuracy: 0.458   Val loss: 0.2136   Val accuracy: 0.589    weighted Val loss: 0.3019\n",
      "Epoch: 10   Train loss: 0.1795   Train accuracy: 0.534   Val loss: 0.2087   Val accuracy: 0.595    weighted Val loss: 0.3014\n",
      "0.595 ----------saved-----------\n",
      "Epoch: 11   Train loss: 0.1771   Train accuracy: 0.563   Val loss: 0.2113   Val accuracy: 0.593    weighted Val loss: 0.301\n",
      "Epoch: 12   Train loss: 0.1681   Train accuracy: 0.627   Val loss: 0.2043   Val accuracy: 0.59    weighted Val loss: 0.3005\n",
      "Epoch: 13   Train loss: 0.1612   Train accuracy: 0.579   Val loss: 0.205   Val accuracy: 0.6    weighted Val loss: 0.3\n",
      "0.6 ----------saved-----------\n",
      "Epoch: 14   Train loss: 0.1592   Train accuracy: 0.652   Val loss: 0.206   Val accuracy: 0.583    weighted Val loss: 0.2995\n",
      "Epoch: 15   Train loss: 0.1519   Train accuracy: 0.75   Val loss: 0.201   Val accuracy: 0.59    weighted Val loss: 0.299\n",
      "Epoch: 16   Train loss: 0.1547   Train accuracy: 0.688   Val loss: 0.1996   Val accuracy: 0.596    weighted Val loss: 0.2985\n",
      "Epoch: 17   Train loss: 0.1429   Train accuracy: 0.726   Val loss: 0.202   Val accuracy: 0.588    weighted Val loss: 0.2981\n",
      "Epoch: 18   Train loss: 0.1344   Train accuracy: 0.676   Val loss: 0.2016   Val accuracy: 0.604    weighted Val loss: 0.2976\n",
      "0.604 ----------saved-----------\n",
      "Epoch: 19   Train loss: 0.1261   Train accuracy: 0.721   Val loss: 0.2042   Val accuracy: 0.602    weighted Val loss: 0.2971\n",
      "Epoch: 20   Train loss: 0.1301   Train accuracy: 0.747   Val loss: 0.2025   Val accuracy: 0.6    weighted Val loss: 0.2966\n",
      "Epoch: 21   Train loss: 0.13   Train accuracy: 0.778   Val loss: 0.1991   Val accuracy: 0.617    weighted Val loss: 0.2962\n",
      "0.617 ----------saved-----------\n",
      "Epoch: 22   Train loss: 0.1204   Train accuracy: 0.761   Val loss: 0.202   Val accuracy: 0.615    weighted Val loss: 0.2957\n",
      "Epoch: 23   Train loss: 0.1277   Train accuracy: 0.754   Val loss: 0.2039   Val accuracy: 0.617    weighted Val loss: 0.2952\n",
      "Epoch: 24   Train loss: 0.1226   Train accuracy: 0.788   Val loss: 0.1997   Val accuracy: 0.611    weighted Val loss: 0.2947\n",
      "Epoch: 25   Train loss: 0.1107   Train accuracy: 0.802   Val loss: 0.2025   Val accuracy: 0.61    weighted Val loss: 0.2943\n",
      "Epoch: 26   Train loss: 0.1178   Train accuracy: 0.75   Val loss: 0.205   Val accuracy: 0.613    weighted Val loss: 0.2938\n",
      "Epoch: 27   Train loss: 0.1153   Train accuracy: 0.766   Val loss: 0.2088   Val accuracy: 0.613    weighted Val loss: 0.2934\n",
      "Epoch: 28   Train loss: 0.1077   Train accuracy: 0.813   Val loss: 0.2052   Val accuracy: 0.598    weighted Val loss: 0.293\n",
      "Epoch: 29   Train loss: 0.1032   Train accuracy: 0.848   Val loss: 0.2029   Val accuracy: 0.609    weighted Val loss: 0.2925\n",
      "Epoch: 30   Train loss: 0.1009   Train accuracy: 0.741   Val loss: 0.2041   Val accuracy: 0.591    weighted Val loss: 0.2921\n",
      "Epoch: 31   Train loss: 0.0986   Train accuracy: 0.787   Val loss: 0.213   Val accuracy: 0.597    weighted Val loss: 0.2917\n",
      "Epoch: 32   Train loss: 0.1026   Train accuracy: 0.822   Val loss: 0.2126   Val accuracy: 0.608    weighted Val loss: 0.2913\n",
      "Epoch: 33   Train loss: 0.0982   Train accuracy: 0.812   Val loss: 0.2057   Val accuracy: 0.609    weighted Val loss: 0.2909\n",
      "Epoch: 34   Train loss: 0.0933   Train accuracy: 0.855   Val loss: 0.2053   Val accuracy: 0.615    weighted Val loss: 0.2904\n",
      "Epoch: 35   Train loss: 0.0946   Train accuracy: 0.855   Val loss: 0.2062   Val accuracy: 0.607    weighted Val loss: 0.29\n",
      "Epoch: 36   Train loss: 0.0986   Train accuracy: 0.837   Val loss: 0.2063   Val accuracy: 0.617    weighted Val loss: 0.2896\n",
      "Epoch: 37   Train loss: 0.0925   Train accuracy: 0.89   Val loss: 0.2086   Val accuracy: 0.624    weighted Val loss: 0.2892\n",
      "0.624 ----------saved-----------\n",
      "Epoch: 38   Train loss: 0.0995   Train accuracy: 0.731   Val loss: 0.2092   Val accuracy: 0.614    weighted Val loss: 0.2888\n",
      "Epoch: 39   Train loss: 0.1035   Train accuracy: 0.821   Val loss: 0.21   Val accuracy: 0.623    weighted Val loss: 0.2884\n",
      "Epoch: 40   Train loss: 0.0865   Train accuracy: 0.857   Val loss: 0.2098   Val accuracy: 0.612    weighted Val loss: 0.288\n",
      "Epoch: 41   Train loss: 0.086   Train accuracy: 0.871   Val loss: 0.2127   Val accuracy: 0.604    weighted Val loss: 0.2876\n",
      "Epoch: 42   Train loss: 0.0869   Train accuracy: 0.86   Val loss: 0.2141   Val accuracy: 0.607    weighted Val loss: 0.2873\n",
      "Epoch: 43   Train loss: 0.0828   Train accuracy: 0.866   Val loss: 0.2179   Val accuracy: 0.606    weighted Val loss: 0.2869\n",
      "Epoch: 44   Train loss: 0.0832   Train accuracy: 0.857   Val loss: 0.2199   Val accuracy: 0.611    weighted Val loss: 0.2866\n",
      "Epoch: 45   Train loss: 0.088   Train accuracy: 0.818   Val loss: 0.2243   Val accuracy: 0.599    weighted Val loss: 0.2863\n",
      "Epoch: 46   Train loss: 0.0976   Train accuracy: 0.842   Val loss: 0.2317   Val accuracy: 0.586    weighted Val loss: 0.286\n",
      "Epoch: 47   Train loss: 0.105   Train accuracy: 0.832   Val loss: 0.2267   Val accuracy: 0.592    weighted Val loss: 0.2857\n",
      "Epoch: 48   Train loss: 0.0987   Train accuracy: 0.855   Val loss: 0.2202   Val accuracy: 0.59    weighted Val loss: 0.2854\n",
      "Epoch: 49   Train loss: 0.0825   Train accuracy: 0.895   Val loss: 0.2183   Val accuracy: 0.586    weighted Val loss: 0.285\n",
      "Epoch: 50   Train loss: 0.0791   Train accuracy: 0.894   Val loss: 0.2164   Val accuracy: 0.599    weighted Val loss: 0.2847\n",
      "Epoch: 51   Train loss: 0.0808   Train accuracy: 0.872   Val loss: 0.2188   Val accuracy: 0.615    weighted Val loss: 0.2844\n",
      "Epoch: 52   Train loss: 0.0753   Train accuracy: 0.793   Val loss: 0.2205   Val accuracy: 0.592    weighted Val loss: 0.284\n",
      "Epoch: 53   Train loss: 0.0756   Train accuracy: 0.879   Val loss: 0.2213   Val accuracy: 0.604    weighted Val loss: 0.2837\n",
      "Epoch: 54   Train loss: 0.0789   Train accuracy: 0.888   Val loss: 0.2208   Val accuracy: 0.605    weighted Val loss: 0.2834\n",
      "Epoch: 55   Train loss: 0.0823   Train accuracy: 0.891   Val loss: 0.2291   Val accuracy: 0.593    weighted Val loss: 0.2831\n",
      "Epoch: 56   Train loss: 0.0906   Train accuracy: 0.843   Val loss: 0.2202   Val accuracy: 0.589    weighted Val loss: 0.2828\n",
      "Epoch: 57   Train loss: 0.0729   Train accuracy: 0.938   Val loss: 0.2211   Val accuracy: 0.593    weighted Val loss: 0.2825\n",
      "Epoch: 58   Train loss: 0.0768   Train accuracy: 0.875   Val loss: 0.2205   Val accuracy: 0.602    weighted Val loss: 0.2822\n",
      "Epoch: 59   Train loss: 0.0771   Train accuracy: 0.889   Val loss: 0.2217   Val accuracy: 0.617    weighted Val loss: 0.2819\n",
      "Epoch: 60   Train loss: 0.0734   Train accuracy: 0.909   Val loss: 0.2242   Val accuracy: 0.605    weighted Val loss: 0.2816\n",
      "Epoch: 61   Train loss: 0.0731   Train accuracy: 0.838   Val loss: 0.2253   Val accuracy: 0.59    weighted Val loss: 0.2813\n",
      "Epoch: 62   Train loss: 0.0733   Train accuracy: 0.882   Val loss: 0.2314   Val accuracy: 0.605    weighted Val loss: 0.2811\n",
      "Epoch: 63   Train loss: 0.0725   Train accuracy: 0.92   Val loss: 0.224   Val accuracy: 0.614    weighted Val loss: 0.2808\n",
      "Epoch: 64   Train loss: 0.0698   Train accuracy: 0.905   Val loss: 0.2227   Val accuracy: 0.617    weighted Val loss: 0.2805\n",
      "Epoch: 65   Train loss: 0.0686   Train accuracy: 0.912   Val loss: 0.2218   Val accuracy: 0.601    weighted Val loss: 0.2802\n",
      "Epoch: 66   Train loss: 0.0748   Train accuracy: 0.91   Val loss: 0.2213   Val accuracy: 0.607    weighted Val loss: 0.2799\n",
      "Epoch: 67   Train loss: 0.0713   Train accuracy: 0.882   Val loss: 0.2252   Val accuracy: 0.6    weighted Val loss: 0.2796\n",
      "Epoch: 68   Train loss: 0.0751   Train accuracy: 0.892   Val loss: 0.2234   Val accuracy: 0.602    weighted Val loss: 0.2794\n",
      "Epoch: 69   Train loss: 0.0773   Train accuracy: 0.877   Val loss: 0.2251   Val accuracy: 0.589    weighted Val loss: 0.2791\n",
      "Epoch: 70   Train loss: 0.0724   Train accuracy: 0.912   Val loss: 0.2259   Val accuracy: 0.6    weighted Val loss: 0.2788\n",
      "Epoch: 71   Train loss: 0.072   Train accuracy: 0.922   Val loss: 0.2234   Val accuracy: 0.613    weighted Val loss: 0.2785\n",
      "Epoch: 72   Train loss: 0.0661   Train accuracy: 0.905   Val loss: 0.2221   Val accuracy: 0.601    weighted Val loss: 0.2783\n",
      "Epoch: 73   Train loss: 0.0653   Train accuracy: 0.92   Val loss: 0.2242   Val accuracy: 0.586    weighted Val loss: 0.278\n",
      "Epoch: 74   Train loss: 0.0642   Train accuracy: 0.935   Val loss: 0.2263   Val accuracy: 0.605    weighted Val loss: 0.2777\n",
      "Epoch: 75   Train loss: 0.063   Train accuracy: 0.925   Val loss: 0.2256   Val accuracy: 0.603    weighted Val loss: 0.2775\n",
      "Epoch: 76   Train loss: 0.0608   Train accuracy: 0.935   Val loss: 0.2255   Val accuracy: 0.612    weighted Val loss: 0.2772\n",
      "Epoch: 77   Train loss: 0.0648   Train accuracy: 0.913   Val loss: 0.2348   Val accuracy: 0.604    weighted Val loss: 0.277\n",
      "Epoch: 78   Train loss: 0.0633   Train accuracy: 0.928   Val loss: 0.2291   Val accuracy: 0.614    weighted Val loss: 0.2768\n",
      "Epoch: 79   Train loss: 0.0665   Train accuracy: 0.898   Val loss: 0.2295   Val accuracy: 0.611    weighted Val loss: 0.2765\n",
      "Epoch: 80   Train loss: 0.0599   Train accuracy: 0.944   Val loss: 0.2316   Val accuracy: 0.601    weighted Val loss: 0.2763\n",
      "Epoch: 81   Train loss: 0.0681   Train accuracy: 0.925   Val loss: 0.2305   Val accuracy: 0.601    weighted Val loss: 0.2761\n",
      "Epoch: 82   Train loss: 0.0654   Train accuracy: 0.86   Val loss: 0.2303   Val accuracy: 0.608    weighted Val loss: 0.2758\n",
      "Epoch: 83   Train loss: 0.0649   Train accuracy: 0.945   Val loss: 0.2304   Val accuracy: 0.593    weighted Val loss: 0.2756\n",
      "Epoch: 84   Train loss: 0.0603   Train accuracy: 0.946   Val loss: 0.2313   Val accuracy: 0.596    weighted Val loss: 0.2754\n",
      "Epoch: 85   Train loss: 0.0629   Train accuracy: 0.889   Val loss: 0.2357   Val accuracy: 0.589    weighted Val loss: 0.2752\n",
      "Epoch: 86   Train loss: 0.0635   Train accuracy: 0.918   Val loss: 0.2294   Val accuracy: 0.599    weighted Val loss: 0.275\n",
      "Epoch: 87   Train loss: 0.0672   Train accuracy: 0.911   Val loss: 0.2389   Val accuracy: 0.591    weighted Val loss: 0.2748\n",
      "Epoch: 88   Train loss: 0.0746   Train accuracy: 0.908   Val loss: 0.2645   Val accuracy: 0.589    weighted Val loss: 0.2747\n",
      "Epoch: 89   Train loss: 0.0818   Train accuracy: 0.845   Val loss: 0.248   Val accuracy: 0.593    weighted Val loss: 0.2746\n",
      "Epoch: 90   Train loss: 0.0612   Train accuracy: 0.928   Val loss: 0.2394   Val accuracy: 0.618    weighted Val loss: 0.2744\n",
      "Epoch: 91   Train loss: 0.0597   Train accuracy: 0.939   Val loss: 0.2378   Val accuracy: 0.592    weighted Val loss: 0.2742\n",
      "Epoch: 92   Train loss: 0.0593   Train accuracy: 0.914   Val loss: 0.2404   Val accuracy: 0.603    weighted Val loss: 0.2741\n",
      "Epoch: 93   Train loss: 0.0566   Train accuracy: 0.952   Val loss: 0.2354   Val accuracy: 0.597    weighted Val loss: 0.2739\n",
      "Epoch: 94   Train loss: 0.0573   Train accuracy: 0.857   Val loss: 0.2326   Val accuracy: 0.606    weighted Val loss: 0.2737\n",
      "Epoch: 95   Train loss: 0.0599   Train accuracy: 0.909   Val loss: 0.2321   Val accuracy: 0.597    weighted Val loss: 0.2735\n",
      "Epoch: 96   Train loss: 0.0602   Train accuracy: 0.94   Val loss: 0.2334   Val accuracy: 0.606    weighted Val loss: 0.2733\n",
      "Epoch: 97   Train loss: 0.057   Train accuracy: 0.921   Val loss: 0.2348   Val accuracy: 0.589    weighted Val loss: 0.2731\n",
      "Epoch: 98   Train loss: 0.0587   Train accuracy: 0.94   Val loss: 0.2342   Val accuracy: 0.599    weighted Val loss: 0.2729\n",
      "Epoch: 99   Train loss: 0.061   Train accuracy: 0.929   Val loss: 0.2331   Val accuracy: 0.605    weighted Val loss: 0.2727\n",
      "Epoch: 100   Train loss: 0.0565   Train accuracy: 0.948   Val loss: 0.2344   Val accuracy: 0.602    weighted Val loss: 0.2725\n",
      "Epoch: 101   Train loss: 0.0621   Train accuracy: 0.926   Val loss: 0.2302   Val accuracy: 0.615    weighted Val loss: 0.2723\n",
      "Epoch: 102   Train loss: 0.059   Train accuracy: 0.941   Val loss: 0.2318   Val accuracy: 0.589    weighted Val loss: 0.2721\n",
      "Epoch: 103   Train loss: 0.057   Train accuracy: 0.954   Val loss: 0.2317   Val accuracy: 0.597    weighted Val loss: 0.2719\n",
      "Epoch: 104   Train loss: 0.0566   Train accuracy: 0.96   Val loss: 0.2339   Val accuracy: 0.599    weighted Val loss: 0.2717\n",
      "Epoch: 105   Train loss: 0.0573   Train accuracy: 0.94   Val loss: 0.2387   Val accuracy: 0.608    weighted Val loss: 0.2715\n",
      "Epoch: 106   Train loss: 0.0582   Train accuracy: 0.931   Val loss: 0.2323   Val accuracy: 0.609    weighted Val loss: 0.2713\n",
      "Epoch: 107   Train loss: 0.0598   Train accuracy: 0.956   Val loss: 0.233   Val accuracy: 0.606    weighted Val loss: 0.2711\n",
      "Epoch: 108   Train loss: 0.0536   Train accuracy: 0.955   Val loss: 0.2342   Val accuracy: 0.599    weighted Val loss: 0.2709\n",
      "Epoch: 109   Train loss: 0.0568   Train accuracy: 0.941   Val loss: 0.2326   Val accuracy: 0.602    weighted Val loss: 0.2708\n",
      "Epoch: 110   Train loss: 0.0598   Train accuracy: 0.948   Val loss: 0.2363   Val accuracy: 0.586    weighted Val loss: 0.2706\n",
      "Epoch: 111   Train loss: 0.0527   Train accuracy: 0.956   Val loss: 0.234   Val accuracy: 0.596    weighted Val loss: 0.2704\n",
      "Epoch: 112   Train loss: 0.0594   Train accuracy: 0.934   Val loss: 0.2342   Val accuracy: 0.594    weighted Val loss: 0.2702\n",
      "Epoch: 113   Train loss: 0.0669   Train accuracy: 0.91   Val loss: 0.2396   Val accuracy: 0.597    weighted Val loss: 0.2701\n",
      "Epoch: 114   Train loss: 0.0627   Train accuracy: 0.897   Val loss: 0.258   Val accuracy: 0.584    weighted Val loss: 0.27\n",
      "Epoch: 115   Train loss: 0.0603   Train accuracy: 0.907   Val loss: 0.2438   Val accuracy: 0.599    weighted Val loss: 0.2699\n",
      "Epoch: 116   Train loss: 0.0605   Train accuracy: 0.919   Val loss: 0.2406   Val accuracy: 0.597    weighted Val loss: 0.2697\n",
      "Epoch: 117   Train loss: 0.051   Train accuracy: 0.923   Val loss: 0.2373   Val accuracy: 0.601    weighted Val loss: 0.2696\n",
      "Epoch: 118   Train loss: 0.0545   Train accuracy: 0.943   Val loss: 0.2329   Val accuracy: 0.601    weighted Val loss: 0.2694\n",
      "Epoch: 119   Train loss: 0.0578   Train accuracy: 0.944   Val loss: 0.2396   Val accuracy: 0.587    weighted Val loss: 0.2692\n",
      "Epoch: 120   Train loss: 0.0557   Train accuracy: 0.956   Val loss: 0.2365   Val accuracy: 0.583    weighted Val loss: 0.2691\n",
      "Epoch: 121   Train loss: 0.0534   Train accuracy: 0.96   Val loss: 0.2351   Val accuracy: 0.599    weighted Val loss: 0.2689\n",
      "Epoch: 122   Train loss: 0.0553   Train accuracy: 0.93   Val loss: 0.2403   Val accuracy: 0.601    weighted Val loss: 0.2688\n",
      "Epoch: 123   Train loss: 0.0554   Train accuracy: 0.953   Val loss: 0.2321   Val accuracy: 0.599    weighted Val loss: 0.2686\n",
      "Epoch: 124   Train loss: 0.0541   Train accuracy: 0.871   Val loss: 0.2347   Val accuracy: 0.595    weighted Val loss: 0.2684\n",
      "Epoch: 125   Train loss: 0.0583   Train accuracy: 0.92   Val loss: 0.2325   Val accuracy: 0.597    weighted Val loss: 0.2682\n",
      "Epoch: 126   Train loss: 0.0559   Train accuracy: 0.918   Val loss: 0.2371   Val accuracy: 0.584    weighted Val loss: 0.2681\n",
      "Epoch: 127   Train loss: 0.0541   Train accuracy: 0.947   Val loss: 0.2365   Val accuracy: 0.595    weighted Val loss: 0.2679\n",
      "Epoch: 128   Train loss: 0.0572   Train accuracy: 0.924   Val loss: 0.2338   Val accuracy: 0.606    weighted Val loss: 0.2677\n",
      "Epoch: 129   Train loss: 0.0601   Train accuracy: 0.934   Val loss: 0.2334   Val accuracy: 0.599    weighted Val loss: 0.2676\n",
      "Epoch: 130   Train loss: 0.0554   Train accuracy: 0.846   Val loss: 0.2319   Val accuracy: 0.622    weighted Val loss: 0.2674\n",
      "Epoch: 131   Train loss: 0.0565   Train accuracy: 0.94   Val loss: 0.2333   Val accuracy: 0.599    weighted Val loss: 0.2672\n",
      "Epoch: 132   Train loss: 0.0614   Train accuracy: 0.858   Val loss: 0.2329   Val accuracy: 0.604    weighted Val loss: 0.267\n",
      "Epoch: 133   Train loss: 0.058   Train accuracy: 0.895   Val loss: 0.2356   Val accuracy: 0.609    weighted Val loss: 0.2669\n",
      "Epoch: 134   Train loss: 0.0512   Train accuracy: 0.948   Val loss: 0.2313   Val accuracy: 0.616    weighted Val loss: 0.2667\n",
      "Epoch: 135   Train loss: 0.0504   Train accuracy: 0.963   Val loss: 0.2288   Val accuracy: 0.605    weighted Val loss: 0.2665\n",
      "Epoch: 136   Train loss: 0.0507   Train accuracy: 0.963   Val loss: 0.2326   Val accuracy: 0.604    weighted Val loss: 0.2664\n",
      "Epoch: 137   Train loss: 0.0514   Train accuracy: 0.954   Val loss: 0.2323   Val accuracy: 0.601    weighted Val loss: 0.2662\n",
      "Epoch: 138   Train loss: 0.0541   Train accuracy: 0.938   Val loss: 0.2303   Val accuracy: 0.612    weighted Val loss: 0.266\n",
      "Epoch: 139   Train loss: 0.0542   Train accuracy: 0.932   Val loss: 0.2376   Val accuracy: 0.609    weighted Val loss: 0.2659\n",
      "Epoch: 140   Train loss: 0.051   Train accuracy: 0.949   Val loss: 0.2348   Val accuracy: 0.605    weighted Val loss: 0.2657\n",
      "Epoch: 141   Train loss: 0.05   Train accuracy: 0.964   Val loss: 0.2328   Val accuracy: 0.587    weighted Val loss: 0.2655\n",
      "Epoch: 142   Train loss: 0.0515   Train accuracy: 0.962   Val loss: 0.2339   Val accuracy: 0.59    weighted Val loss: 0.2654\n",
      "Epoch: 143   Train loss: 0.0541   Train accuracy: 0.923   Val loss: 0.2326   Val accuracy: 0.604    weighted Val loss: 0.2652\n",
      "Epoch: 144   Train loss: 0.0521   Train accuracy: 0.96   Val loss: 0.2347   Val accuracy: 0.594    weighted Val loss: 0.2651\n",
      "Epoch: 145   Train loss: 0.0529   Train accuracy: 0.967   Val loss: 0.234   Val accuracy: 0.604    weighted Val loss: 0.2649\n",
      "Epoch: 146   Train loss: 0.0497   Train accuracy: 0.974   Val loss: 0.2322   Val accuracy: 0.604    weighted Val loss: 0.2647\n",
      "Epoch: 147   Train loss: 0.0523   Train accuracy: 0.952   Val loss: 0.2335   Val accuracy: 0.597    weighted Val loss: 0.2646\n",
      "Epoch: 148   Train loss: 0.0509   Train accuracy: 0.959   Val loss: 0.2336   Val accuracy: 0.603    weighted Val loss: 0.2644\n",
      "Epoch: 149   Train loss: 0.0548   Train accuracy: 0.952   Val loss: 0.2335   Val accuracy: 0.608    weighted Val loss: 0.2643\n",
      "Epoch: 150   Train loss: 0.0494   Train accuracy: 0.967   Val loss: 0.2313   Val accuracy: 0.603    weighted Val loss: 0.2641\n",
      "Epoch: 151   Train loss: 0.0507   Train accuracy: 0.932   Val loss: 0.2296   Val accuracy: 0.616    weighted Val loss: 0.2639\n",
      "Epoch: 152   Train loss: 0.0498   Train accuracy: 0.955   Val loss: 0.2304   Val accuracy: 0.606    weighted Val loss: 0.2638\n",
      "Epoch: 153   Train loss: 0.0493   Train accuracy: 0.976   Val loss: 0.2293   Val accuracy: 0.607    weighted Val loss: 0.2636\n",
      "Epoch: 154   Train loss: 0.0507   Train accuracy: 0.973   Val loss: 0.2289   Val accuracy: 0.606    weighted Val loss: 0.2634\n",
      "Epoch: 155   Train loss: 0.0489   Train accuracy: 0.877   Val loss: 0.2321   Val accuracy: 0.587    weighted Val loss: 0.2633\n",
      "Epoch: 156   Train loss: 0.0512   Train accuracy: 0.954   Val loss: 0.2333   Val accuracy: 0.605    weighted Val loss: 0.2631\n",
      "Epoch: 157   Train loss: 0.0493   Train accuracy: 0.875   Val loss: 0.2319   Val accuracy: 0.601    weighted Val loss: 0.263\n",
      "Epoch: 158   Train loss: 0.0528   Train accuracy: 0.96   Val loss: 0.2295   Val accuracy: 0.605    weighted Val loss: 0.2628\n",
      "Epoch: 159   Train loss: 0.0521   Train accuracy: 0.967   Val loss: 0.2306   Val accuracy: 0.609    weighted Val loss: 0.2626\n",
      "Epoch: 160   Train loss: 0.0506   Train accuracy: 0.944   Val loss: 0.2407   Val accuracy: 0.608    weighted Val loss: 0.2625\n",
      "Epoch: 161   Train loss: 0.0597   Train accuracy: 0.942   Val loss: 0.2349   Val accuracy: 0.609    weighted Val loss: 0.2624\n",
      "Epoch: 162   Train loss: 0.0622   Train accuracy: 0.857   Val loss: 0.2403   Val accuracy: 0.585    weighted Val loss: 0.2623\n",
      "Epoch: 163   Train loss: 0.0558   Train accuracy: 0.849   Val loss: 0.2391   Val accuracy: 0.591    weighted Val loss: 0.2622\n",
      "Epoch: 164   Train loss: 0.0515   Train accuracy: 0.952   Val loss: 0.2393   Val accuracy: 0.592    weighted Val loss: 0.2621\n",
      "Epoch: 165   Train loss: 0.0492   Train accuracy: 0.956   Val loss: 0.2445   Val accuracy: 0.586    weighted Val loss: 0.262\n",
      "Epoch: 166   Train loss: 0.0549   Train accuracy: 0.944   Val loss: 0.232   Val accuracy: 0.604    weighted Val loss: 0.2618\n",
      "Epoch: 167   Train loss: 0.0531   Train accuracy: 0.917   Val loss: 0.2359   Val accuracy: 0.611    weighted Val loss: 0.2617\n",
      "Epoch: 168   Train loss: 0.0497   Train accuracy: 0.951   Val loss: 0.2323   Val accuracy: 0.593    weighted Val loss: 0.2615\n",
      "Epoch: 169   Train loss: 0.0513   Train accuracy: 0.954   Val loss: 0.2369   Val accuracy: 0.616    weighted Val loss: 0.2614\n",
      "Epoch: 170   Train loss: 0.0512   Train accuracy: 0.953   Val loss: 0.2274   Val accuracy: 0.619    weighted Val loss: 0.2612\n",
      "Epoch: 171   Train loss: 0.0524   Train accuracy: 0.967   Val loss: 0.2287   Val accuracy: 0.614    weighted Val loss: 0.2611\n",
      "Epoch: 172   Train loss: 0.05   Train accuracy: 0.959   Val loss: 0.2295   Val accuracy: 0.614    weighted Val loss: 0.2609\n",
      "Epoch: 173   Train loss: 0.0506   Train accuracy: 0.978   Val loss: 0.2271   Val accuracy: 0.608    weighted Val loss: 0.2608\n",
      "Epoch: 174   Train loss: 0.05   Train accuracy: 0.96   Val loss: 0.2303   Val accuracy: 0.599    weighted Val loss: 0.2606\n",
      "Epoch: 175   Train loss: 0.0485   Train accuracy: 0.958   Val loss: 0.2309   Val accuracy: 0.608    weighted Val loss: 0.2605\n",
      "Epoch: 176   Train loss: 0.05   Train accuracy: 0.95   Val loss: 0.227   Val accuracy: 0.606    weighted Val loss: 0.2603\n",
      "Epoch: 177   Train loss: 0.0498   Train accuracy: 0.971   Val loss: 0.2276   Val accuracy: 0.604    weighted Val loss: 0.2601\n",
      "Epoch: 178   Train loss: 0.0474   Train accuracy: 0.957   Val loss: 0.2278   Val accuracy: 0.609    weighted Val loss: 0.26\n",
      "Epoch: 179   Train loss: 0.0476   Train accuracy: 0.961   Val loss: 0.2307   Val accuracy: 0.607    weighted Val loss: 0.2598\n",
      "Epoch: 180   Train loss: 0.0505   Train accuracy: 0.967   Val loss: 0.228   Val accuracy: 0.62    weighted Val loss: 0.2597\n",
      "Epoch: 181   Train loss: 0.0496   Train accuracy: 0.951   Val loss: 0.2328   Val accuracy: 0.608    weighted Val loss: 0.2595\n",
      "Epoch: 182   Train loss: 0.0486   Train accuracy: 0.881   Val loss: 0.2315   Val accuracy: 0.6    weighted Val loss: 0.2594\n",
      "Epoch: 183   Train loss: 0.0498   Train accuracy: 0.97   Val loss: 0.2288   Val accuracy: 0.609    weighted Val loss: 0.2592\n",
      "Epoch: 184   Train loss: 0.0467   Train accuracy: 0.96   Val loss: 0.2281   Val accuracy: 0.602    weighted Val loss: 0.2591\n",
      "Epoch: 185   Train loss: 0.0536   Train accuracy: 0.959   Val loss: 0.2298   Val accuracy: 0.61    weighted Val loss: 0.2589\n",
      "Epoch: 186   Train loss: 0.0558   Train accuracy: 0.906   Val loss: 0.2291   Val accuracy: 0.606    weighted Val loss: 0.2588\n",
      "Epoch: 187   Train loss: 0.0551   Train accuracy: 0.956   Val loss: 0.2358   Val accuracy: 0.596    weighted Val loss: 0.2587\n",
      "Epoch: 188   Train loss: 0.0529   Train accuracy: 0.939   Val loss: 0.2334   Val accuracy: 0.59    weighted Val loss: 0.2585\n",
      "Epoch: 189   Train loss: 0.0592   Train accuracy: 0.943   Val loss: 0.2403   Val accuracy: 0.589    weighted Val loss: 0.2584\n",
      "Epoch: 190   Train loss: 0.0576   Train accuracy: 0.935   Val loss: 0.2314   Val accuracy: 0.607    weighted Val loss: 0.2583\n",
      "Epoch: 191   Train loss: 0.0585   Train accuracy: 0.943   Val loss: 0.2321   Val accuracy: 0.609    weighted Val loss: 0.2582\n",
      "Epoch: 192   Train loss: 0.0538   Train accuracy: 0.927   Val loss: 0.2301   Val accuracy: 0.61    weighted Val loss: 0.258\n",
      "Epoch: 193   Train loss: 0.0484   Train accuracy: 0.967   Val loss: 0.2331   Val accuracy: 0.608    weighted Val loss: 0.2579\n",
      "Epoch: 194   Train loss: 0.0462   Train accuracy: 0.881   Val loss: 0.2307   Val accuracy: 0.609    weighted Val loss: 0.2578\n",
      "Epoch: 195   Train loss: 0.049   Train accuracy: 0.953   Val loss: 0.2318   Val accuracy: 0.606    weighted Val loss: 0.2576\n",
      "Epoch: 196   Train loss: 0.047   Train accuracy: 0.969   Val loss: 0.23   Val accuracy: 0.6    weighted Val loss: 0.2575\n",
      "Epoch: 197   Train loss: 0.0481   Train accuracy: 0.972   Val loss: 0.2306   Val accuracy: 0.604    weighted Val loss: 0.2574\n",
      "Epoch: 198   Train loss: 0.0535   Train accuracy: 0.954   Val loss: 0.2306   Val accuracy: 0.597    weighted Val loss: 0.2572\n",
      "Epoch: 199   Train loss: 0.0503   Train accuracy: 0.918   Val loss: 0.2386   Val accuracy: 0.601    weighted Val loss: 0.2571\n",
      "Epoch: 200   Train loss: 0.0465   Train accuracy: 0.959   Val loss: 0.2314   Val accuracy: 0.605    weighted Val loss: 0.257\n",
      "Epoch: 201   Train loss: 0.0481   Train accuracy: 0.972   Val loss: 0.2301   Val accuracy: 0.607    weighted Val loss: 0.2569\n",
      "Epoch: 202   Train loss: 0.0503   Train accuracy: 0.926   Val loss: 0.2284   Val accuracy: 0.602    weighted Val loss: 0.2567\n",
      "Epoch: 203   Train loss: 0.0498   Train accuracy: 0.966   Val loss: 0.2308   Val accuracy: 0.596    weighted Val loss: 0.2566\n",
      "Epoch: 204   Train loss: 0.0499   Train accuracy: 0.97   Val loss: 0.2292   Val accuracy: 0.604    weighted Val loss: 0.2565\n",
      "Epoch: 205   Train loss: 0.0531   Train accuracy: 0.936   Val loss: 0.2294   Val accuracy: 0.602    weighted Val loss: 0.2563\n",
      "Epoch: 206   Train loss: 0.0515   Train accuracy: 0.971   Val loss: 0.2296   Val accuracy: 0.594    weighted Val loss: 0.2562\n",
      "Epoch: 207   Train loss: 0.0479   Train accuracy: 0.971   Val loss: 0.2314   Val accuracy: 0.601    weighted Val loss: 0.2561\n",
      "Epoch: 208   Train loss: 0.0465   Train accuracy: 0.967   Val loss: 0.2278   Val accuracy: 0.619    weighted Val loss: 0.2559\n",
      "Epoch: 209   Train loss: 0.0464   Train accuracy: 0.972   Val loss: 0.225   Val accuracy: 0.62    weighted Val loss: 0.2558\n",
      "Epoch: 210   Train loss: 0.0479   Train accuracy: 0.976   Val loss: 0.2284   Val accuracy: 0.61    weighted Val loss: 0.2556\n",
      "Epoch: 211   Train loss: 0.0469   Train accuracy: 0.962   Val loss: 0.2267   Val accuracy: 0.61    weighted Val loss: 0.2555\n",
      "Epoch: 212   Train loss: 0.0474   Train accuracy: 0.961   Val loss: 0.2243   Val accuracy: 0.604    weighted Val loss: 0.2553\n",
      "Epoch: 213   Train loss: 0.0479   Train accuracy: 0.963   Val loss: 0.2244   Val accuracy: 0.606    weighted Val loss: 0.2552\n",
      "Epoch: 214   Train loss: 0.0541   Train accuracy: 0.959   Val loss: 0.2247   Val accuracy: 0.603    weighted Val loss: 0.255\n",
      "Epoch: 215   Train loss: 0.0475   Train accuracy: 0.975   Val loss: 0.2272   Val accuracy: 0.613    weighted Val loss: 0.2549\n",
      "Epoch: 216   Train loss: 0.0488   Train accuracy: 0.969   Val loss: 0.227   Val accuracy: 0.608    weighted Val loss: 0.2548\n",
      "Epoch: 217   Train loss: 0.0501   Train accuracy: 0.947   Val loss: 0.2244   Val accuracy: 0.611    weighted Val loss: 0.2546\n",
      "Epoch: 218   Train loss: 0.052   Train accuracy: 0.953   Val loss: 0.2264   Val accuracy: 0.606    weighted Val loss: 0.2545\n",
      "Epoch: 219   Train loss: 0.0481   Train accuracy: 0.942   Val loss: 0.2309   Val accuracy: 0.612    weighted Val loss: 0.2544\n",
      "Epoch: 220   Train loss: 0.0498   Train accuracy: 0.954   Val loss: 0.2249   Val accuracy: 0.624    weighted Val loss: 0.2542\n",
      "Epoch: 221   Train loss: 0.0467   Train accuracy: 0.961   Val loss: 0.234   Val accuracy: 0.609    weighted Val loss: 0.2541\n",
      "Epoch: 222   Train loss: 0.0548   Train accuracy: 0.928   Val loss: 0.2251   Val accuracy: 0.613    weighted Val loss: 0.254\n",
      "Epoch: 223   Train loss: 0.0461   Train accuracy: 0.882   Val loss: 0.2308   Val accuracy: 0.619    weighted Val loss: 0.2538\n",
      "Epoch: 224   Train loss: 0.0511   Train accuracy: 0.953   Val loss: 0.2238   Val accuracy: 0.616    weighted Val loss: 0.2537\n",
      "Epoch: 225   Train loss: 0.0562   Train accuracy: 0.92   Val loss: 0.2388   Val accuracy: 0.617    weighted Val loss: 0.2536\n",
      "Epoch: 226   Train loss: 0.0526   Train accuracy: 0.949   Val loss: 0.2312   Val accuracy: 0.604    weighted Val loss: 0.2535\n",
      "Epoch: 227   Train loss: 0.0497   Train accuracy: 0.964   Val loss: 0.2284   Val accuracy: 0.608    weighted Val loss: 0.2534\n",
      "Epoch: 228   Train loss: 0.0498   Train accuracy: 0.959   Val loss: 0.2223   Val accuracy: 0.613    weighted Val loss: 0.2532\n",
      "Epoch: 229   Train loss: 0.05   Train accuracy: 0.938   Val loss: 0.2232   Val accuracy: 0.612    weighted Val loss: 0.2531\n",
      "Epoch: 230   Train loss: 0.0493   Train accuracy: 0.972   Val loss: 0.2261   Val accuracy: 0.611    weighted Val loss: 0.2529\n",
      "Epoch: 231   Train loss: 0.0523   Train accuracy: 0.953   Val loss: 0.224   Val accuracy: 0.608    weighted Val loss: 0.2528\n",
      "Epoch: 232   Train loss: 0.0524   Train accuracy: 0.963   Val loss: 0.2248   Val accuracy: 0.603    weighted Val loss: 0.2527\n",
      "Epoch: 233   Train loss: 0.0526   Train accuracy: 0.961   Val loss: 0.2199   Val accuracy: 0.613    weighted Val loss: 0.2525\n",
      "Epoch: 234   Train loss: 0.0484   Train accuracy: 0.976   Val loss: 0.2202   Val accuracy: 0.613    weighted Val loss: 0.2523\n",
      "Epoch: 235   Train loss: 0.0522   Train accuracy: 0.969   Val loss: 0.2293   Val accuracy: 0.605    weighted Val loss: 0.2522\n",
      "Epoch: 236   Train loss: 0.0498   Train accuracy: 0.969   Val loss: 0.2266   Val accuracy: 0.602    weighted Val loss: 0.2521\n",
      "Epoch: 237   Train loss: 0.0481   Train accuracy: 0.951   Val loss: 0.2224   Val accuracy: 0.599    weighted Val loss: 0.2519\n",
      "Epoch: 238   Train loss: 0.0468   Train accuracy: 0.877   Val loss: 0.2208   Val accuracy: 0.615    weighted Val loss: 0.2518\n",
      "Epoch: 239   Train loss: 0.0461   Train accuracy: 0.955   Val loss: 0.226   Val accuracy: 0.616    weighted Val loss: 0.2517\n",
      "Epoch: 240   Train loss: 0.0485   Train accuracy: 0.959   Val loss: 0.2251   Val accuracy: 0.619    weighted Val loss: 0.2515\n",
      "Epoch: 241   Train loss: 0.0516   Train accuracy: 0.952   Val loss: 0.2213   Val accuracy: 0.616    weighted Val loss: 0.2514\n",
      "Epoch: 242   Train loss: 0.0475   Train accuracy: 0.974   Val loss: 0.222   Val accuracy: 0.62    weighted Val loss: 0.2512\n",
      "Epoch: 243   Train loss: 0.0464   Train accuracy: 0.979   Val loss: 0.2261   Val accuracy: 0.615    weighted Val loss: 0.2511\n",
      "Epoch: 244   Train loss: 0.0454   Train accuracy: 0.979   Val loss: 0.2243   Val accuracy: 0.61    weighted Val loss: 0.251\n",
      "Epoch: 245   Train loss: 0.0486   Train accuracy: 0.959   Val loss: 0.2266   Val accuracy: 0.616    weighted Val loss: 0.2508\n",
      "Epoch: 246   Train loss: 0.0476   Train accuracy: 0.974   Val loss: 0.2201   Val accuracy: 0.629    weighted Val loss: 0.2507\n",
      "0.629 ----------saved-----------\n",
      "Epoch: 247   Train loss: 0.0465   Train accuracy: 0.976   Val loss: 0.2241   Val accuracy: 0.617    weighted Val loss: 0.2506\n",
      "Epoch: 248   Train loss: 0.047   Train accuracy: 0.972   Val loss: 0.2246   Val accuracy: 0.622    weighted Val loss: 0.2504\n",
      "Epoch: 249   Train loss: 0.048   Train accuracy: 0.967   Val loss: 0.2222   Val accuracy: 0.612    weighted Val loss: 0.2503\n",
      "Epoch: 250   Train loss: 0.0527   Train accuracy: 0.963   Val loss: 0.2276   Val accuracy: 0.614    weighted Val loss: 0.2502\n",
      "Epoch: 251   Train loss: 0.0515   Train accuracy: 0.946   Val loss: 0.2242   Val accuracy: 0.604    weighted Val loss: 0.25\n",
      "Epoch: 252   Train loss: 0.0525   Train accuracy: 0.949   Val loss: 0.2216   Val accuracy: 0.599    weighted Val loss: 0.2499\n",
      "Epoch: 253   Train loss: 0.0461   Train accuracy: 0.974   Val loss: 0.223   Val accuracy: 0.608    weighted Val loss: 0.2498\n",
      "Epoch: 254   Train loss: 0.0477   Train accuracy: 0.959   Val loss: 0.2178   Val accuracy: 0.627    weighted Val loss: 0.2496\n",
      "Epoch: 255   Train loss: 0.0463   Train accuracy: 0.967   Val loss: 0.2207   Val accuracy: 0.611    weighted Val loss: 0.2495\n",
      "Epoch: 256   Train loss: 0.045   Train accuracy: 0.974   Val loss: 0.2239   Val accuracy: 0.608    weighted Val loss: 0.2493\n",
      "Epoch: 257   Train loss: 0.0463   Train accuracy: 0.967   Val loss: 0.2212   Val accuracy: 0.613    weighted Val loss: 0.2492\n",
      "Epoch: 258   Train loss: 0.0484   Train accuracy: 0.967   Val loss: 0.2218   Val accuracy: 0.625    weighted Val loss: 0.2491\n",
      "Epoch: 259   Train loss: 0.0517   Train accuracy: 0.953   Val loss: 0.2238   Val accuracy: 0.615    weighted Val loss: 0.2489\n",
      "Epoch: 260   Train loss: 0.0486   Train accuracy: 0.965   Val loss: 0.2205   Val accuracy: 0.596    weighted Val loss: 0.2488\n",
      "Epoch: 261   Train loss: 0.0487   Train accuracy: 0.944   Val loss: 0.2222   Val accuracy: 0.597    weighted Val loss: 0.2487\n",
      "Epoch: 262   Train loss: 0.0496   Train accuracy: 0.941   Val loss: 0.2221   Val accuracy: 0.603    weighted Val loss: 0.2485\n",
      "Epoch: 263   Train loss: 0.0492   Train accuracy: 0.965   Val loss: 0.2205   Val accuracy: 0.612    weighted Val loss: 0.2484\n",
      "Epoch: 264   Train loss: 0.0474   Train accuracy: 0.975   Val loss: 0.2218   Val accuracy: 0.611    weighted Val loss: 0.2482\n",
      "Epoch: 265   Train loss: 0.0467   Train accuracy: 0.975   Val loss: 0.2198   Val accuracy: 0.599    weighted Val loss: 0.2481\n",
      "Epoch: 266   Train loss: 0.0472   Train accuracy: 0.894   Val loss: 0.2209   Val accuracy: 0.596    weighted Val loss: 0.248\n",
      "Epoch: 267   Train loss: 0.0503   Train accuracy: 0.941   Val loss: 0.2257   Val accuracy: 0.604    weighted Val loss: 0.2479\n",
      "Epoch: 268   Train loss: 0.0469   Train accuracy: 0.972   Val loss: 0.2236   Val accuracy: 0.604    weighted Val loss: 0.2477\n",
      "Epoch: 269   Train loss: 0.0484   Train accuracy: 0.977   Val loss: 0.2316   Val accuracy: 0.605    weighted Val loss: 0.2477\n",
      "Epoch: 270   Train loss: 0.0513   Train accuracy: 0.945   Val loss: 0.2269   Val accuracy: 0.622    weighted Val loss: 0.2476\n",
      "Epoch: 271   Train loss: 0.0502   Train accuracy: 0.947   Val loss: 0.225   Val accuracy: 0.616    weighted Val loss: 0.2474\n",
      "Epoch: 272   Train loss: 0.0486   Train accuracy: 0.971   Val loss: 0.2285   Val accuracy: 0.62    weighted Val loss: 0.2473\n",
      "Epoch: 273   Train loss: 0.0475   Train accuracy: 0.967   Val loss: 0.2218   Val accuracy: 0.618    weighted Val loss: 0.2472\n",
      "Epoch: 274   Train loss: 0.0456   Train accuracy: 0.958   Val loss: 0.2239   Val accuracy: 0.622    weighted Val loss: 0.2471\n",
      "Epoch: 275   Train loss: 0.0484   Train accuracy: 0.96   Val loss: 0.2242   Val accuracy: 0.609    weighted Val loss: 0.247\n",
      "Epoch: 276   Train loss: 0.0468   Train accuracy: 0.979   Val loss: 0.2242   Val accuracy: 0.61    weighted Val loss: 0.2469\n",
      "Epoch: 277   Train loss: 0.0481   Train accuracy: 0.926   Val loss: 0.2194   Val accuracy: 0.617    weighted Val loss: 0.2467\n",
      "Epoch: 278   Train loss: 0.046   Train accuracy: 0.957   Val loss: 0.2199   Val accuracy: 0.617    weighted Val loss: 0.2466\n",
      "Epoch: 279   Train loss: 0.048   Train accuracy: 0.971   Val loss: 0.2198   Val accuracy: 0.623    weighted Val loss: 0.2465\n",
      "Epoch: 280   Train loss: 0.049   Train accuracy: 0.954   Val loss: 0.2248   Val accuracy: 0.606    weighted Val loss: 0.2464\n",
      "Epoch: 281   Train loss: 0.0454   Train accuracy: 0.977   Val loss: 0.223   Val accuracy: 0.603    weighted Val loss: 0.2462\n",
      "Epoch: 282   Train loss: 0.0475   Train accuracy: 0.968   Val loss: 0.2233   Val accuracy: 0.613    weighted Val loss: 0.2461\n",
      "Epoch: 283   Train loss: 0.0471   Train accuracy: 0.972   Val loss: 0.2249   Val accuracy: 0.62    weighted Val loss: 0.246\n",
      "Epoch: 284   Train loss: 0.0516   Train accuracy: 0.96   Val loss: 0.232   Val accuracy: 0.619    weighted Val loss: 0.246\n",
      "Epoch: 285   Train loss: 0.0508   Train accuracy: 0.878   Val loss: 0.2203   Val accuracy: 0.606    weighted Val loss: 0.2458\n",
      "Epoch: 286   Train loss: 0.053   Train accuracy: 0.962   Val loss: 0.221   Val accuracy: 0.61    weighted Val loss: 0.2457\n",
      "Epoch: 287   Train loss: 0.0469   Train accuracy: 0.985   Val loss: 0.2207   Val accuracy: 0.617    weighted Val loss: 0.2456\n",
      "Epoch: 288   Train loss: 0.0448   Train accuracy: 0.884   Val loss: 0.2205   Val accuracy: 0.615    weighted Val loss: 0.2454\n",
      "Epoch: 289   Train loss: 0.0466   Train accuracy: 0.979   Val loss: 0.2205   Val accuracy: 0.619    weighted Val loss: 0.2453\n",
      "Epoch: 290   Train loss: 0.0475   Train accuracy: 0.978   Val loss: 0.2248   Val accuracy: 0.623    weighted Val loss: 0.2452\n",
      "Epoch: 291   Train loss: 0.046   Train accuracy: 0.962   Val loss: 0.2251   Val accuracy: 0.602    weighted Val loss: 0.2451\n",
      "Epoch: 292   Train loss: 0.0482   Train accuracy: 0.966   Val loss: 0.22   Val accuracy: 0.616    weighted Val loss: 0.245\n",
      "Epoch: 293   Train loss: 0.0446   Train accuracy: 0.97   Val loss: 0.2167   Val accuracy: 0.613    weighted Val loss: 0.2449\n",
      "Epoch: 294   Train loss: 0.046   Train accuracy: 0.969   Val loss: 0.2179   Val accuracy: 0.616    weighted Val loss: 0.2447\n",
      "Epoch: 295   Train loss: 0.0459   Train accuracy: 0.971   Val loss: 0.218   Val accuracy: 0.623    weighted Val loss: 0.2446\n",
      "Epoch: 296   Train loss: 0.0499   Train accuracy: 0.96   Val loss: 0.2172   Val accuracy: 0.62    weighted Val loss: 0.2444\n",
      "Epoch: 297   Train loss: 0.0461   Train accuracy: 0.976   Val loss: 0.2225   Val accuracy: 0.611    weighted Val loss: 0.2443\n",
      "Epoch: 298   Train loss: 0.0484   Train accuracy: 0.967   Val loss: 0.2214   Val accuracy: 0.609    weighted Val loss: 0.2442\n",
      "Epoch: 299   Train loss: 0.0513   Train accuracy: 0.926   Val loss: 0.2273   Val accuracy: 0.605    weighted Val loss: 0.2441\n",
      "Epoch: 300   Train loss: 0.0473   Train accuracy: 0.891   Val loss: 0.2193   Val accuracy: 0.608    weighted Val loss: 0.244\n",
      "Epoch: 301   Train loss: 0.0452   Train accuracy: 0.986   Val loss: 0.2202   Val accuracy: 0.604    weighted Val loss: 0.2439\n",
      "Epoch: 302   Train loss: 0.0474   Train accuracy: 0.978   Val loss: 0.2209   Val accuracy: 0.611    weighted Val loss: 0.2438\n",
      "Epoch: 303   Train loss: 0.0481   Train accuracy: 0.978   Val loss: 0.2202   Val accuracy: 0.601    weighted Val loss: 0.2437\n",
      "Epoch: 304   Train loss: 0.0466   Train accuracy: 0.965   Val loss: 0.2262   Val accuracy: 0.603    weighted Val loss: 0.2436\n",
      "Epoch: 305   Train loss: 0.0504   Train accuracy: 0.951   Val loss: 0.2207   Val accuracy: 0.605    weighted Val loss: 0.2435\n",
      "Epoch: 306   Train loss: 0.0512   Train accuracy: 0.981   Val loss: 0.2185   Val accuracy: 0.607    weighted Val loss: 0.2433\n",
      "Epoch: 307   Train loss: 0.0445   Train accuracy: 0.978   Val loss: 0.2145   Val accuracy: 0.611    weighted Val loss: 0.2432\n",
      "Epoch: 308   Train loss: 0.0517   Train accuracy: 0.944   Val loss: 0.2133   Val accuracy: 0.622    weighted Val loss: 0.243\n",
      "Epoch: 309   Train loss: 0.0491   Train accuracy: 0.972   Val loss: 0.222   Val accuracy: 0.601    weighted Val loss: 0.2429\n",
      "Epoch: 310   Train loss: 0.0466   Train accuracy: 0.975   Val loss: 0.2221   Val accuracy: 0.603    weighted Val loss: 0.2428\n",
      "Epoch: 311   Train loss: 0.0459   Train accuracy: 0.972   Val loss: 0.2226   Val accuracy: 0.619    weighted Val loss: 0.2427\n",
      "Epoch: 312   Train loss: 0.0441   Train accuracy: 0.986   Val loss: 0.2263   Val accuracy: 0.604    weighted Val loss: 0.2426\n",
      "Epoch: 313   Train loss: 0.0463   Train accuracy: 0.963   Val loss: 0.2166   Val accuracy: 0.619    weighted Val loss: 0.2425\n",
      "Epoch: 314   Train loss: 0.0493   Train accuracy: 0.956   Val loss: 0.2201   Val accuracy: 0.62    weighted Val loss: 0.2424\n",
      "Epoch: 315   Train loss: 0.0473   Train accuracy: 0.953   Val loss: 0.218   Val accuracy: 0.605    weighted Val loss: 0.2423\n",
      "Epoch: 316   Train loss: 0.0487   Train accuracy: 0.973   Val loss: 0.2182   Val accuracy: 0.609    weighted Val loss: 0.2422\n",
      "Epoch: 317   Train loss: 0.0476   Train accuracy: 0.978   Val loss: 0.218   Val accuracy: 0.615    weighted Val loss: 0.242\n",
      "Epoch: 318   Train loss: 0.0471   Train accuracy: 0.975   Val loss: 0.2204   Val accuracy: 0.613    weighted Val loss: 0.2419\n",
      "Epoch: 319   Train loss: 0.0478   Train accuracy: 0.974   Val loss: 0.2187   Val accuracy: 0.621    weighted Val loss: 0.2418\n",
      "Epoch: 320   Train loss: 0.044   Train accuracy: 0.973   Val loss: 0.221   Val accuracy: 0.611    weighted Val loss: 0.2417\n",
      "Epoch: 321   Train loss: 0.0434   Train accuracy: 0.97   Val loss: 0.2186   Val accuracy: 0.613    weighted Val loss: 0.2416\n",
      "Epoch: 322   Train loss: 0.0434   Train accuracy: 0.972   Val loss: 0.2189   Val accuracy: 0.625    weighted Val loss: 0.2415\n",
      "Epoch: 323   Train loss: 0.0465   Train accuracy: 0.979   Val loss: 0.2172   Val accuracy: 0.62    weighted Val loss: 0.2414\n",
      "Epoch: 324   Train loss: 0.0437   Train accuracy: 0.977   Val loss: 0.2184   Val accuracy: 0.617    weighted Val loss: 0.2412\n",
      "Epoch: 325   Train loss: 0.0504   Train accuracy: 0.959   Val loss: 0.2183   Val accuracy: 0.615    weighted Val loss: 0.2411\n",
      "Epoch: 326   Train loss: 0.0449   Train accuracy: 0.984   Val loss: 0.2186   Val accuracy: 0.61    weighted Val loss: 0.241\n",
      "Epoch: 327   Train loss: 0.0499   Train accuracy: 0.981   Val loss: 0.2178   Val accuracy: 0.61    weighted Val loss: 0.2409\n",
      "Epoch: 328   Train loss: 0.0482   Train accuracy: 0.965   Val loss: 0.2165   Val accuracy: 0.619    weighted Val loss: 0.2408\n",
      "Epoch: 329   Train loss: 0.0497   Train accuracy: 0.936   Val loss: 0.2183   Val accuracy: 0.629    weighted Val loss: 0.2407\n",
      "0.629 ----------saved-----------\n",
      "Epoch: 330   Train loss: 0.0484   Train accuracy: 0.952   Val loss: 0.2205   Val accuracy: 0.622    weighted Val loss: 0.2406\n",
      "Epoch: 331   Train loss: 0.0503   Train accuracy: 0.955   Val loss: 0.224   Val accuracy: 0.606    weighted Val loss: 0.2405\n",
      "Epoch: 332   Train loss: 0.0469   Train accuracy: 0.962   Val loss: 0.2192   Val accuracy: 0.595    weighted Val loss: 0.2404\n",
      "Epoch: 333   Train loss: 0.0447   Train accuracy: 0.972   Val loss: 0.2224   Val accuracy: 0.605    weighted Val loss: 0.2403\n",
      "Epoch: 334   Train loss: 0.0463   Train accuracy: 0.973   Val loss: 0.2195   Val accuracy: 0.603    weighted Val loss: 0.2402\n",
      "Epoch: 335   Train loss: 0.0533   Train accuracy: 0.943   Val loss: 0.2208   Val accuracy: 0.612    weighted Val loss: 0.2401\n",
      "Epoch: 336   Train loss: 0.045   Train accuracy: 0.977   Val loss: 0.2157   Val accuracy: 0.611    weighted Val loss: 0.24\n",
      "Epoch: 337   Train loss: 0.045   Train accuracy: 0.963   Val loss: 0.2161   Val accuracy: 0.624    weighted Val loss: 0.2398\n",
      "Epoch: 338   Train loss: 0.0445   Train accuracy: 0.978   Val loss: 0.2162   Val accuracy: 0.613    weighted Val loss: 0.2397\n",
      "Epoch: 339   Train loss: 0.0465   Train accuracy: 0.969   Val loss: 0.2159   Val accuracy: 0.623    weighted Val loss: 0.2396\n",
      "Epoch: 340   Train loss: 0.0443   Train accuracy: 0.978   Val loss: 0.2156   Val accuracy: 0.622    weighted Val loss: 0.2395\n",
      "Epoch: 341   Train loss: 0.046   Train accuracy: 0.983   Val loss: 0.2138   Val accuracy: 0.633    weighted Val loss: 0.2394\n",
      "0.633 ----------saved-----------\n",
      "Epoch: 342   Train loss: 0.0491   Train accuracy: 0.957   Val loss: 0.215   Val accuracy: 0.623    weighted Val loss: 0.2392\n",
      "Epoch: 343   Train loss: 0.0466   Train accuracy: 0.964   Val loss: 0.2178   Val accuracy: 0.609    weighted Val loss: 0.2391\n",
      "Epoch: 344   Train loss: 0.0468   Train accuracy: 0.964   Val loss: 0.218   Val accuracy: 0.6    weighted Val loss: 0.239\n",
      "Epoch: 345   Train loss: 0.0458   Train accuracy: 0.964   Val loss: 0.2181   Val accuracy: 0.605    weighted Val loss: 0.2389\n",
      "Epoch: 346   Train loss: 0.0482   Train accuracy: 0.972   Val loss: 0.2163   Val accuracy: 0.612    weighted Val loss: 0.2388\n",
      "Epoch: 347   Train loss: 0.0487   Train accuracy: 0.958   Val loss: 0.2203   Val accuracy: 0.615    weighted Val loss: 0.2387\n",
      "Epoch: 348   Train loss: 0.048   Train accuracy: 0.963   Val loss: 0.2167   Val accuracy: 0.611    weighted Val loss: 0.2386\n",
      "Epoch: 349   Train loss: 0.0434   Train accuracy: 0.983   Val loss: 0.2163   Val accuracy: 0.618    weighted Val loss: 0.2385\n",
      "Epoch: 350   Train loss: 0.0432   Train accuracy: 0.975   Val loss: 0.2162   Val accuracy: 0.621    weighted Val loss: 0.2384\n",
      "Epoch: 351   Train loss: 0.0438   Train accuracy: 0.98   Val loss: 0.2159   Val accuracy: 0.631    weighted Val loss: 0.2383\n",
      "Epoch: 352   Train loss: 0.0448   Train accuracy: 0.983   Val loss: 0.217   Val accuracy: 0.616    weighted Val loss: 0.2382\n",
      "Epoch: 353   Train loss: 0.0436   Train accuracy: 0.979   Val loss: 0.2163   Val accuracy: 0.613    weighted Val loss: 0.2381\n",
      "Epoch: 354   Train loss: 0.0454   Train accuracy: 0.974   Val loss: 0.2166   Val accuracy: 0.622    weighted Val loss: 0.2379\n",
      "Epoch: 355   Train loss: 0.0477   Train accuracy: 0.974   Val loss: 0.2171   Val accuracy: 0.61    weighted Val loss: 0.2378\n",
      "Epoch: 356   Train loss: 0.0496   Train accuracy: 0.938   Val loss: 0.2233   Val accuracy: 0.605    weighted Val loss: 0.2378\n",
      "Epoch: 357   Train loss: 0.0429   Train accuracy: 0.89   Val loss: 0.2169   Val accuracy: 0.605    weighted Val loss: 0.2377\n",
      "Epoch: 358   Train loss: 0.046   Train accuracy: 0.892   Val loss: 0.2176   Val accuracy: 0.609    weighted Val loss: 0.2376\n",
      "Epoch: 359   Train loss: 0.0426   Train accuracy: 0.896   Val loss: 0.2165   Val accuracy: 0.612    weighted Val loss: 0.2375\n",
      "Epoch: 360   Train loss: 0.0449   Train accuracy: 0.973   Val loss: 0.2177   Val accuracy: 0.618    weighted Val loss: 0.2374\n",
      "Epoch: 361   Train loss: 0.0449   Train accuracy: 0.972   Val loss: 0.2176   Val accuracy: 0.611    weighted Val loss: 0.2373\n",
      "Epoch: 362   Train loss: 0.0456   Train accuracy: 0.968   Val loss: 0.2151   Val accuracy: 0.603    weighted Val loss: 0.2372\n",
      "Epoch: 363   Train loss: 0.0515   Train accuracy: 0.946   Val loss: 0.2141   Val accuracy: 0.612    weighted Val loss: 0.237\n",
      "Epoch: 364   Train loss: 0.0456   Train accuracy: 0.978   Val loss: 0.2183   Val accuracy: 0.612    weighted Val loss: 0.2369\n",
      "Epoch: 365   Train loss: 0.0491   Train accuracy: 0.957   Val loss: 0.2168   Val accuracy: 0.614    weighted Val loss: 0.2368\n",
      "Epoch: 366   Train loss: 0.0493   Train accuracy: 0.944   Val loss: 0.2183   Val accuracy: 0.611    weighted Val loss: 0.2368\n",
      "Epoch: 367   Train loss: 0.0482   Train accuracy: 0.965   Val loss: 0.217   Val accuracy: 0.616    weighted Val loss: 0.2367\n",
      "Epoch: 368   Train loss: 0.0483   Train accuracy: 0.954   Val loss: 0.2263   Val accuracy: 0.61    weighted Val loss: 0.2366\n",
      "Epoch: 369   Train loss: 0.0511   Train accuracy: 0.946   Val loss: 0.2189   Val accuracy: 0.621    weighted Val loss: 0.2365\n",
      "Epoch: 370   Train loss: 0.0444   Train accuracy: 0.984   Val loss: 0.2156   Val accuracy: 0.617    weighted Val loss: 0.2364\n",
      "Epoch: 371   Train loss: 0.0442   Train accuracy: 0.97   Val loss: 0.2178   Val accuracy: 0.617    weighted Val loss: 0.2363\n",
      "Epoch: 372   Train loss: 0.0433   Train accuracy: 0.965   Val loss: 0.2193   Val accuracy: 0.618    weighted Val loss: 0.2362\n",
      "Epoch: 373   Train loss: 0.0437   Train accuracy: 0.982   Val loss: 0.2174   Val accuracy: 0.61    weighted Val loss: 0.2361\n",
      "Epoch: 374   Train loss: 0.047   Train accuracy: 0.974   Val loss: 0.2203   Val accuracy: 0.621    weighted Val loss: 0.2361\n",
      "Epoch: 375   Train loss: 0.0469   Train accuracy: 0.882   Val loss: 0.2151   Val accuracy: 0.628    weighted Val loss: 0.236\n",
      "Epoch: 376   Train loss: 0.046   Train accuracy: 0.965   Val loss: 0.232   Val accuracy: 0.615    weighted Val loss: 0.2359\n",
      "Epoch: 377   Train loss: 0.05   Train accuracy: 0.96   Val loss: 0.2179   Val accuracy: 0.623    weighted Val loss: 0.2358\n",
      "Epoch: 378   Train loss: 0.0442   Train accuracy: 0.9   Val loss: 0.2144   Val accuracy: 0.613    weighted Val loss: 0.2357\n",
      "Epoch: 379   Train loss: 0.0451   Train accuracy: 0.979   Val loss: 0.2146   Val accuracy: 0.61    weighted Val loss: 0.2356\n",
      "Epoch: 380   Train loss: 0.0447   Train accuracy: 0.977   Val loss: 0.2138   Val accuracy: 0.611    weighted Val loss: 0.2355\n",
      "Epoch: 381   Train loss: 0.0465   Train accuracy: 0.986   Val loss: 0.2136   Val accuracy: 0.614    weighted Val loss: 0.2354\n",
      "Epoch: 382   Train loss: 0.0458   Train accuracy: 0.974   Val loss: 0.2151   Val accuracy: 0.612    weighted Val loss: 0.2353\n",
      "Epoch: 383   Train loss: 0.045   Train accuracy: 0.981   Val loss: 0.2139   Val accuracy: 0.615    weighted Val loss: 0.2352\n",
      "Epoch: 384   Train loss: 0.047   Train accuracy: 0.975   Val loss: 0.2138   Val accuracy: 0.617    weighted Val loss: 0.2351\n",
      "Epoch: 385   Train loss: 0.0491   Train accuracy: 0.963   Val loss: 0.2135   Val accuracy: 0.622    weighted Val loss: 0.235\n",
      "Epoch: 386   Train loss: 0.0486   Train accuracy: 0.939   Val loss: 0.226   Val accuracy: 0.616    weighted Val loss: 0.2349\n",
      "Epoch: 387   Train loss: 0.0463   Train accuracy: 0.955   Val loss: 0.215   Val accuracy: 0.613    weighted Val loss: 0.2348\n",
      "Epoch: 388   Train loss: 0.0451   Train accuracy: 0.972   Val loss: 0.2138   Val accuracy: 0.615    weighted Val loss: 0.2347\n",
      "Epoch: 389   Train loss: 0.0467   Train accuracy: 0.958   Val loss: 0.2167   Val accuracy: 0.625    weighted Val loss: 0.2346\n",
      "Epoch: 390   Train loss: 0.0465   Train accuracy: 0.972   Val loss: 0.2147   Val accuracy: 0.609    weighted Val loss: 0.2345\n",
      "Epoch: 391   Train loss: 0.0502   Train accuracy: 0.955   Val loss: 0.2174   Val accuracy: 0.613    weighted Val loss: 0.2345\n",
      "Epoch: 392   Train loss: 0.0471   Train accuracy: 0.975   Val loss: 0.2121   Val accuracy: 0.615    weighted Val loss: 0.2343\n",
      "Epoch: 393   Train loss: 0.0471   Train accuracy: 0.977   Val loss: 0.2167   Val accuracy: 0.607    weighted Val loss: 0.2343\n",
      "Epoch: 394   Train loss: 0.0471   Train accuracy: 0.959   Val loss: 0.2144   Val accuracy: 0.608    weighted Val loss: 0.2342\n",
      "Epoch: 395   Train loss: 0.0472   Train accuracy: 0.964   Val loss: 0.2132   Val accuracy: 0.613    weighted Val loss: 0.2341\n",
      "Epoch: 396   Train loss: 0.0502   Train accuracy: 0.961   Val loss: 0.2156   Val accuracy: 0.615    weighted Val loss: 0.234\n",
      "Epoch: 397   Train loss: 0.0475   Train accuracy: 0.983   Val loss: 0.2171   Val accuracy: 0.608    weighted Val loss: 0.2339\n",
      "Epoch: 398   Train loss: 0.045   Train accuracy: 0.972   Val loss: 0.2169   Val accuracy: 0.602    weighted Val loss: 0.2338\n",
      "Epoch: 399   Train loss: 0.0438   Train accuracy: 0.984   Val loss: 0.2173   Val accuracy: 0.602    weighted Val loss: 0.2337\n",
      "Epoch: 400   Train loss: 0.0437   Train accuracy: 0.984   Val loss: 0.2159   Val accuracy: 0.618    weighted Val loss: 0.2336\n",
      "Epoch: 401   Train loss: 0.0465   Train accuracy: 0.969   Val loss: 0.2156   Val accuracy: 0.609    weighted Val loss: 0.2335\n",
      "Epoch: 402   Train loss: 0.0445   Train accuracy: 0.978   Val loss: 0.216   Val accuracy: 0.619    weighted Val loss: 0.2334\n",
      "Epoch: 403   Train loss: 0.0459   Train accuracy: 0.973   Val loss: 0.2171   Val accuracy: 0.609    weighted Val loss: 0.2334\n",
      "Epoch: 404   Train loss: 0.0458   Train accuracy: 0.975   Val loss: 0.2149   Val accuracy: 0.603    weighted Val loss: 0.2333\n",
      "Epoch: 405   Train loss: 0.0463   Train accuracy: 0.98   Val loss: 0.2138   Val accuracy: 0.61    weighted Val loss: 0.2332\n",
      "Epoch: 406   Train loss: 0.0481   Train accuracy: 0.952   Val loss: 0.2123   Val accuracy: 0.618    weighted Val loss: 0.2331\n",
      "Epoch: 407   Train loss: 0.042   Train accuracy: 0.897   Val loss: 0.2126   Val accuracy: 0.614    weighted Val loss: 0.233\n",
      "Epoch: 408   Train loss: 0.0447   Train accuracy: 0.887   Val loss: 0.2114   Val accuracy: 0.612    weighted Val loss: 0.2329\n",
      "Epoch: 409   Train loss: 0.0458   Train accuracy: 0.97   Val loss: 0.2126   Val accuracy: 0.611    weighted Val loss: 0.2328\n",
      "Epoch: 410   Train loss: 0.0462   Train accuracy: 0.982   Val loss: 0.2156   Val accuracy: 0.614    weighted Val loss: 0.2327\n",
      "Epoch: 411   Train loss: 0.0448   Train accuracy: 0.985   Val loss: 0.2185   Val accuracy: 0.606    weighted Val loss: 0.2326\n",
      "Epoch: 412   Train loss: 0.0477   Train accuracy: 0.972   Val loss: 0.2154   Val accuracy: 0.615    weighted Val loss: 0.2325\n",
      "Epoch: 413   Train loss: 0.0499   Train accuracy: 0.978   Val loss: 0.2149   Val accuracy: 0.616    weighted Val loss: 0.2324\n",
      "Epoch: 414   Train loss: 0.046   Train accuracy: 0.98   Val loss: 0.2143   Val accuracy: 0.613    weighted Val loss: 0.2323\n",
      "Epoch: 415   Train loss: 0.0438   Train accuracy: 0.971   Val loss: 0.218   Val accuracy: 0.62    weighted Val loss: 0.2323\n",
      "Epoch: 416   Train loss: 0.0475   Train accuracy: 0.971   Val loss: 0.2161   Val accuracy: 0.616    weighted Val loss: 0.2322\n",
      "Epoch: 417   Train loss: 0.0476   Train accuracy: 0.885   Val loss: 0.2189   Val accuracy: 0.607    weighted Val loss: 0.2321\n",
      "Epoch: 418   Train loss: 0.0476   Train accuracy: 0.977   Val loss: 0.2116   Val accuracy: 0.623    weighted Val loss: 0.232\n",
      "Epoch: 419   Train loss: 0.0437   Train accuracy: 0.978   Val loss: 0.2138   Val accuracy: 0.613    weighted Val loss: 0.2319\n",
      "Epoch: 420   Train loss: 0.0437   Train accuracy: 0.979   Val loss: 0.2145   Val accuracy: 0.613    weighted Val loss: 0.2318\n",
      "Epoch: 421   Train loss: 0.0455   Train accuracy: 0.965   Val loss: 0.2147   Val accuracy: 0.627    weighted Val loss: 0.2318\n",
      "Epoch: 422   Train loss: 0.0467   Train accuracy: 0.963   Val loss: 0.2241   Val accuracy: 0.626    weighted Val loss: 0.2317\n",
      "Epoch: 423   Train loss: 0.045   Train accuracy: 0.962   Val loss: 0.2158   Val accuracy: 0.609    weighted Val loss: 0.2316\n",
      "Epoch: 424   Train loss: 0.0444   Train accuracy: 0.956   Val loss: 0.2142   Val accuracy: 0.614    weighted Val loss: 0.2315\n",
      "Epoch: 425   Train loss: 0.0417   Train accuracy: 0.982   Val loss: 0.2201   Val accuracy: 0.618    weighted Val loss: 0.2315\n",
      "Epoch: 426   Train loss: 0.0447   Train accuracy: 0.963   Val loss: 0.2147   Val accuracy: 0.61    weighted Val loss: 0.2314\n",
      "Epoch: 427   Train loss: 0.0434   Train accuracy: 0.981   Val loss: 0.2126   Val accuracy: 0.614    weighted Val loss: 0.2313\n",
      "Epoch: 428   Train loss: 0.0459   Train accuracy: 0.977   Val loss: 0.2149   Val accuracy: 0.61    weighted Val loss: 0.2312\n",
      "Epoch: 429   Train loss: 0.0461   Train accuracy: 0.952   Val loss: 0.2109   Val accuracy: 0.62    weighted Val loss: 0.2311\n",
      "Epoch: 430   Train loss: 0.0441   Train accuracy: 0.979   Val loss: 0.2125   Val accuracy: 0.624    weighted Val loss: 0.231\n",
      "Epoch: 431   Train loss: 0.0457   Train accuracy: 0.963   Val loss: 0.2111   Val accuracy: 0.63    weighted Val loss: 0.2309\n",
      "Epoch: 432   Train loss: 0.0475   Train accuracy: 0.98   Val loss: 0.2122   Val accuracy: 0.622    weighted Val loss: 0.2308\n",
      "Epoch: 433   Train loss: 0.0453   Train accuracy: 0.97   Val loss: 0.2172   Val accuracy: 0.62    weighted Val loss: 0.2308\n",
      "Epoch: 434   Train loss: 0.0442   Train accuracy: 0.978   Val loss: 0.217   Val accuracy: 0.61    weighted Val loss: 0.2307\n",
      "Epoch: 435   Train loss: 0.0473   Train accuracy: 0.973   Val loss: 0.2172   Val accuracy: 0.607    weighted Val loss: 0.2306\n",
      "Epoch: 436   Train loss: 0.0433   Train accuracy: 0.992   Val loss: 0.2154   Val accuracy: 0.61    weighted Val loss: 0.2306\n",
      "Epoch: 437   Train loss: 0.0444   Train accuracy: 0.982   Val loss: 0.2139   Val accuracy: 0.614    weighted Val loss: 0.2305\n",
      "Epoch: 438   Train loss: 0.0448   Train accuracy: 0.986   Val loss: 0.2121   Val accuracy: 0.626    weighted Val loss: 0.2304\n",
      "Epoch: 439   Train loss: 0.0475   Train accuracy: 0.971   Val loss: 0.2132   Val accuracy: 0.617    weighted Val loss: 0.2303\n",
      "Epoch: 440   Train loss: 0.0494   Train accuracy: 0.968   Val loss: 0.218   Val accuracy: 0.61    weighted Val loss: 0.2302\n",
      "Epoch: 441   Train loss: 0.0464   Train accuracy: 0.947   Val loss: 0.2149   Val accuracy: 0.6    weighted Val loss: 0.2302\n",
      "Epoch: 442   Train loss: 0.0445   Train accuracy: 0.978   Val loss: 0.2192   Val accuracy: 0.607    weighted Val loss: 0.2301\n",
      "Epoch: 443   Train loss: 0.0445   Train accuracy: 0.978   Val loss: 0.2155   Val accuracy: 0.621    weighted Val loss: 0.23\n",
      "Epoch: 444   Train loss: 0.0423   Train accuracy: 0.971   Val loss: 0.212   Val accuracy: 0.617    weighted Val loss: 0.2299\n",
      "Epoch: 445   Train loss: 0.0441   Train accuracy: 0.986   Val loss: 0.2115   Val accuracy: 0.629    weighted Val loss: 0.2299\n",
      "Epoch: 446   Train loss: 0.0482   Train accuracy: 0.976   Val loss: 0.213   Val accuracy: 0.616    weighted Val loss: 0.2298\n",
      "Epoch: 447   Train loss: 0.048   Train accuracy: 0.943   Val loss: 0.2149   Val accuracy: 0.615    weighted Val loss: 0.2297\n",
      "Epoch: 448   Train loss: 0.0497   Train accuracy: 0.968   Val loss: 0.2148   Val accuracy: 0.616    weighted Val loss: 0.2296\n",
      "Epoch: 449   Train loss: 0.0453   Train accuracy: 0.969   Val loss: 0.2241   Val accuracy: 0.627    weighted Val loss: 0.2296\n",
      "Epoch: 450   Train loss: 0.0461   Train accuracy: 0.969   Val loss: 0.2111   Val accuracy: 0.613    weighted Val loss: 0.2295\n",
      "Epoch: 451   Train loss: 0.0428   Train accuracy: 0.981   Val loss: 0.2128   Val accuracy: 0.604    weighted Val loss: 0.2294\n",
      "Epoch: 452   Train loss: 0.0446   Train accuracy: 0.957   Val loss: 0.2146   Val accuracy: 0.605    weighted Val loss: 0.2293\n",
      "Epoch: 453   Train loss: 0.0447   Train accuracy: 0.978   Val loss: 0.2142   Val accuracy: 0.611    weighted Val loss: 0.2293\n",
      "Epoch: 454   Train loss: 0.046   Train accuracy: 0.972   Val loss: 0.2109   Val accuracy: 0.614    weighted Val loss: 0.2292\n",
      "Epoch: 455   Train loss: 0.0448   Train accuracy: 0.971   Val loss: 0.2105   Val accuracy: 0.614    weighted Val loss: 0.2291\n",
      "Epoch: 456   Train loss: 0.0442   Train accuracy: 0.975   Val loss: 0.2105   Val accuracy: 0.61    weighted Val loss: 0.229\n",
      "Epoch: 457   Train loss: 0.0452   Train accuracy: 0.979   Val loss: 0.2092   Val accuracy: 0.614    weighted Val loss: 0.2289\n",
      "Epoch: 458   Train loss: 0.046   Train accuracy: 0.972   Val loss: 0.2106   Val accuracy: 0.617    weighted Val loss: 0.2288\n",
      "Epoch: 459   Train loss: 0.0449   Train accuracy: 0.979   Val loss: 0.2102   Val accuracy: 0.618    weighted Val loss: 0.2287\n",
      "Epoch: 460   Train loss: 0.0424   Train accuracy: 0.981   Val loss: 0.2101   Val accuracy: 0.62    weighted Val loss: 0.2286\n",
      "Epoch: 461   Train loss: 0.0436   Train accuracy: 0.983   Val loss: 0.2115   Val accuracy: 0.623    weighted Val loss: 0.2285\n",
      "Epoch: 462   Train loss: 0.0466   Train accuracy: 0.956   Val loss: 0.2107   Val accuracy: 0.623    weighted Val loss: 0.2284\n",
      "Epoch: 463   Train loss: 0.0465   Train accuracy: 0.978   Val loss: 0.2113   Val accuracy: 0.621    weighted Val loss: 0.2284\n",
      "Epoch: 464   Train loss: 0.0449   Train accuracy: 0.969   Val loss: 0.2132   Val accuracy: 0.62    weighted Val loss: 0.2283\n",
      "Epoch: 465   Train loss: 0.0445   Train accuracy: 0.973   Val loss: 0.2124   Val accuracy: 0.619    weighted Val loss: 0.2282\n",
      "Epoch: 466   Train loss: 0.0455   Train accuracy: 0.976   Val loss: 0.2118   Val accuracy: 0.618    weighted Val loss: 0.2281\n",
      "Epoch: 467   Train loss: 0.0424   Train accuracy: 0.979   Val loss: 0.2145   Val accuracy: 0.621    weighted Val loss: 0.228\n",
      "Epoch: 468   Train loss: 0.0446   Train accuracy: 0.974   Val loss: 0.2129   Val accuracy: 0.609    weighted Val loss: 0.228\n",
      "Epoch: 469   Train loss: 0.0443   Train accuracy: 0.975   Val loss: 0.2104   Val accuracy: 0.618    weighted Val loss: 0.2279\n",
      "Epoch: 470   Train loss: 0.0455   Train accuracy: 0.978   Val loss: 0.2155   Val accuracy: 0.619    weighted Val loss: 0.2278\n",
      "Epoch: 471   Train loss: 0.0483   Train accuracy: 0.961   Val loss: 0.2128   Val accuracy: 0.616    weighted Val loss: 0.2277\n",
      "Epoch: 472   Train loss: 0.0445   Train accuracy: 0.97   Val loss: 0.2113   Val accuracy: 0.626    weighted Val loss: 0.2277\n",
      "Epoch: 473   Train loss: 0.0424   Train accuracy: 0.98   Val loss: 0.2192   Val accuracy: 0.606    weighted Val loss: 0.2276\n",
      "Epoch: 474   Train loss: 0.0456   Train accuracy: 0.971   Val loss: 0.2127   Val accuracy: 0.613    weighted Val loss: 0.2275\n",
      "Epoch: 475   Train loss: 0.0468   Train accuracy: 0.975   Val loss: 0.2132   Val accuracy: 0.612    weighted Val loss: 0.2275\n",
      "Epoch: 476   Train loss: 0.0462   Train accuracy: 0.96   Val loss: 0.2187   Val accuracy: 0.626    weighted Val loss: 0.2274\n",
      "Epoch: 477   Train loss: 0.0441   Train accuracy: 0.974   Val loss: 0.2114   Val accuracy: 0.615    weighted Val loss: 0.2274\n",
      "Epoch: 478   Train loss: 0.0457   Train accuracy: 0.975   Val loss: 0.2144   Val accuracy: 0.612    weighted Val loss: 0.2273\n",
      "Epoch: 479   Train loss: 0.0485   Train accuracy: 0.974   Val loss: 0.2128   Val accuracy: 0.614    weighted Val loss: 0.2272\n",
      "Epoch: 480   Train loss: 0.0502   Train accuracy: 0.952   Val loss: 0.2136   Val accuracy: 0.611    weighted Val loss: 0.2271\n",
      "Epoch: 481   Train loss: 0.0478   Train accuracy: 0.974   Val loss: 0.2156   Val accuracy: 0.614    weighted Val loss: 0.2271\n",
      "Epoch: 482   Train loss: 0.0462   Train accuracy: 0.967   Val loss: 0.2113   Val accuracy: 0.613    weighted Val loss: 0.227\n",
      "Epoch: 483   Train loss: 0.0455   Train accuracy: 0.977   Val loss: 0.2125   Val accuracy: 0.616    weighted Val loss: 0.2269\n",
      "Epoch: 484   Train loss: 0.0435   Train accuracy: 0.986   Val loss: 0.2166   Val accuracy: 0.612    weighted Val loss: 0.2269\n",
      "Epoch: 485   Train loss: 0.0436   Train accuracy: 0.977   Val loss: 0.216   Val accuracy: 0.608    weighted Val loss: 0.2268\n",
      "Epoch: 486   Train loss: 0.044   Train accuracy: 0.966   Val loss: 0.2126   Val accuracy: 0.619    weighted Val loss: 0.2268\n",
      "Epoch: 487   Train loss: 0.0456   Train accuracy: 0.967   Val loss: 0.2135   Val accuracy: 0.623    weighted Val loss: 0.2267\n",
      "Epoch: 488   Train loss: 0.0441   Train accuracy: 0.975   Val loss: 0.2073   Val accuracy: 0.616    weighted Val loss: 0.2266\n",
      "Epoch: 489   Train loss: 0.0436   Train accuracy: 0.98   Val loss: 0.2092   Val accuracy: 0.623    weighted Val loss: 0.2265\n",
      "Epoch: 490   Train loss: 0.0431   Train accuracy: 0.982   Val loss: 0.2094   Val accuracy: 0.628    weighted Val loss: 0.2264\n",
      "Epoch: 491   Train loss: 0.0459   Train accuracy: 0.969   Val loss: 0.2112   Val accuracy: 0.621    weighted Val loss: 0.2263\n",
      "Epoch: 492   Train loss: 0.0455   Train accuracy: 0.977   Val loss: 0.2089   Val accuracy: 0.614    weighted Val loss: 0.2263\n",
      "Epoch: 493   Train loss: 0.0467   Train accuracy: 0.974   Val loss: 0.2128   Val accuracy: 0.623    weighted Val loss: 0.2262\n",
      "Epoch: 494   Train loss: 0.0461   Train accuracy: 0.887   Val loss: 0.2116   Val accuracy: 0.621    weighted Val loss: 0.2261\n",
      "Epoch: 495   Train loss: 0.0446   Train accuracy: 0.975   Val loss: 0.2144   Val accuracy: 0.613    weighted Val loss: 0.2261\n",
      "Epoch: 496   Train loss: 0.0443   Train accuracy: 0.984   Val loss: 0.2117   Val accuracy: 0.612    weighted Val loss: 0.226\n",
      "Epoch: 497   Train loss: 0.0481   Train accuracy: 0.954   Val loss: 0.2118   Val accuracy: 0.61    weighted Val loss: 0.2259\n",
      "Epoch: 498   Train loss: 0.0443   Train accuracy: 0.984   Val loss: 0.2103   Val accuracy: 0.614    weighted Val loss: 0.2258\n",
      "Epoch: 499   Train loss: 0.0478   Train accuracy: 0.97   Val loss: 0.2086   Val accuracy: 0.617    weighted Val loss: 0.2258\n",
      "Epoch: 500   Train loss: 0.0445   Train accuracy: 0.985   Val loss: 0.2086   Val accuracy: 0.612    weighted Val loss: 0.2257\n",
      "Epoch: 501   Train loss: 0.0438   Train accuracy: 0.974   Val loss: 0.2103   Val accuracy: 0.611    weighted Val loss: 0.2256\n",
      "Epoch: 502   Train loss: 0.0437   Train accuracy: 0.981   Val loss: 0.214   Val accuracy: 0.613    weighted Val loss: 0.2255\n",
      "Epoch: 503   Train loss: 0.0457   Train accuracy: 0.974   Val loss: 0.2095   Val accuracy: 0.622    weighted Val loss: 0.2255\n",
      "Epoch: 504   Train loss: 0.0437   Train accuracy: 0.987   Val loss: 0.2113   Val accuracy: 0.611    weighted Val loss: 0.2254\n",
      "Epoch: 505   Train loss: 0.0436   Train accuracy: 0.987   Val loss: 0.2098   Val accuracy: 0.622    weighted Val loss: 0.2253\n",
      "Epoch: 506   Train loss: 0.0443   Train accuracy: 0.98   Val loss: 0.2117   Val accuracy: 0.628    weighted Val loss: 0.2252\n",
      "Epoch: 507   Train loss: 0.044   Train accuracy: 0.979   Val loss: 0.2125   Val accuracy: 0.616    weighted Val loss: 0.2252\n",
      "Epoch: 508   Train loss: 0.0427   Train accuracy: 0.981   Val loss: 0.2155   Val accuracy: 0.607    weighted Val loss: 0.2251\n",
      "Epoch: 509   Train loss: 0.0525   Train accuracy: 0.971   Val loss: 0.2117   Val accuracy: 0.625    weighted Val loss: 0.2251\n",
      "Epoch: 510   Train loss: 0.0461   Train accuracy: 0.971   Val loss: 0.2121   Val accuracy: 0.62    weighted Val loss: 0.225\n",
      "Epoch: 511   Train loss: 0.045   Train accuracy: 0.98   Val loss: 0.2114   Val accuracy: 0.619    weighted Val loss: 0.2249\n",
      "Epoch: 512   Train loss: 0.0474   Train accuracy: 0.939   Val loss: 0.2132   Val accuracy: 0.608    weighted Val loss: 0.2249\n",
      "Epoch: 513   Train loss: 0.05   Train accuracy: 0.967   Val loss: 0.2207   Val accuracy: 0.615    weighted Val loss: 0.2248\n",
      "Epoch: 514   Train loss: 0.0512   Train accuracy: 0.965   Val loss: 0.2175   Val accuracy: 0.614    weighted Val loss: 0.2248\n",
      "Epoch: 515   Train loss: 0.0432   Train accuracy: 0.978   Val loss: 0.2143   Val accuracy: 0.611    weighted Val loss: 0.2248\n",
      "Epoch: 516   Train loss: 0.046   Train accuracy: 0.95   Val loss: 0.2121   Val accuracy: 0.628    weighted Val loss: 0.2247\n",
      "Epoch: 517   Train loss: 0.043   Train accuracy: 0.963   Val loss: 0.2168   Val accuracy: 0.618    weighted Val loss: 0.2247\n",
      "Epoch: 518   Train loss: 0.0436   Train accuracy: 0.972   Val loss: 0.2114   Val accuracy: 0.612    weighted Val loss: 0.2246\n",
      "Epoch: 519   Train loss: 0.0441   Train accuracy: 0.978   Val loss: 0.2124   Val accuracy: 0.617    weighted Val loss: 0.2245\n",
      "Epoch: 520   Train loss: 0.0436   Train accuracy: 0.968   Val loss: 0.211   Val accuracy: 0.611    weighted Val loss: 0.2245\n",
      "Epoch: 521   Train loss: 0.043   Train accuracy: 0.976   Val loss: 0.2094   Val accuracy: 0.613    weighted Val loss: 0.2244\n",
      "Epoch: 522   Train loss: 0.0461   Train accuracy: 0.986   Val loss: 0.2107   Val accuracy: 0.623    weighted Val loss: 0.2243\n",
      "Epoch: 523   Train loss: 0.0434   Train accuracy: 0.99   Val loss: 0.2104   Val accuracy: 0.615    weighted Val loss: 0.2242\n",
      "Epoch: 524   Train loss: 0.0445   Train accuracy: 0.978   Val loss: 0.2092   Val accuracy: 0.616    weighted Val loss: 0.2242\n",
      "Epoch: 525   Train loss: 0.0469   Train accuracy: 0.976   Val loss: 0.2104   Val accuracy: 0.621    weighted Val loss: 0.2241\n",
      "Epoch: 526   Train loss: 0.0428   Train accuracy: 0.966   Val loss: 0.2143   Val accuracy: 0.617    weighted Val loss: 0.2241\n",
      "Epoch: 527   Train loss: 0.0447   Train accuracy: 0.975   Val loss: 0.2127   Val accuracy: 0.621    weighted Val loss: 0.224\n",
      "Epoch: 528   Train loss: 0.0444   Train accuracy: 0.974   Val loss: 0.2094   Val accuracy: 0.623    weighted Val loss: 0.2239\n",
      "Epoch: 529   Train loss: 0.0456   Train accuracy: 0.966   Val loss: 0.2099   Val accuracy: 0.628    weighted Val loss: 0.2239\n",
      "Epoch: 530   Train loss: 0.0421   Train accuracy: 0.985   Val loss: 0.2134   Val accuracy: 0.622    weighted Val loss: 0.2238\n",
      "Epoch: 531   Train loss: 0.0469   Train accuracy: 0.96   Val loss: 0.2108   Val accuracy: 0.615    weighted Val loss: 0.2237\n",
      "Epoch: 532   Train loss: 0.0458   Train accuracy: 0.973   Val loss: 0.2123   Val accuracy: 0.632    weighted Val loss: 0.2237\n",
      "Epoch: 533   Train loss: 0.0481   Train accuracy: 0.977   Val loss: 0.2095   Val accuracy: 0.624    weighted Val loss: 0.2236\n",
      "Epoch: 534   Train loss: 0.0443   Train accuracy: 0.982   Val loss: 0.2091   Val accuracy: 0.632    weighted Val loss: 0.2235\n",
      "Epoch: 535   Train loss: 0.0429   Train accuracy: 0.987   Val loss: 0.2089   Val accuracy: 0.632    weighted Val loss: 0.2235\n",
      "Epoch: 536   Train loss: 0.0447   Train accuracy: 0.975   Val loss: 0.2097   Val accuracy: 0.632    weighted Val loss: 0.2234\n",
      "Epoch: 537   Train loss: 0.0452   Train accuracy: 0.971   Val loss: 0.213   Val accuracy: 0.613    weighted Val loss: 0.2233\n",
      "Epoch: 538   Train loss: 0.0459   Train accuracy: 0.983   Val loss: 0.2114   Val accuracy: 0.624    weighted Val loss: 0.2233\n",
      "Epoch: 539   Train loss: 0.0436   Train accuracy: 0.987   Val loss: 0.2142   Val accuracy: 0.621    weighted Val loss: 0.2232\n",
      "Epoch: 540   Train loss: 0.0452   Train accuracy: 0.972   Val loss: 0.2111   Val accuracy: 0.62    weighted Val loss: 0.2232\n",
      "Epoch: 541   Train loss: 0.0434   Train accuracy: 0.976   Val loss: 0.2091   Val accuracy: 0.616    weighted Val loss: 0.2231\n",
      "Epoch: 542   Train loss: 0.044   Train accuracy: 0.963   Val loss: 0.2119   Val accuracy: 0.617    weighted Val loss: 0.223\n",
      "Epoch: 543   Train loss: 0.0453   Train accuracy: 0.887   Val loss: 0.2088   Val accuracy: 0.609    weighted Val loss: 0.223\n",
      "Epoch: 544   Train loss: 0.0426   Train accuracy: 0.987   Val loss: 0.2093   Val accuracy: 0.617    weighted Val loss: 0.2229\n",
      "Epoch: 545   Train loss: 0.0432   Train accuracy: 0.986   Val loss: 0.2097   Val accuracy: 0.623    weighted Val loss: 0.2228\n",
      "Epoch: 546   Train loss: 0.043   Train accuracy: 0.979   Val loss: 0.2097   Val accuracy: 0.605    weighted Val loss: 0.2228\n",
      "Epoch: 547   Train loss: 0.0434   Train accuracy: 0.981   Val loss: 0.2115   Val accuracy: 0.605    weighted Val loss: 0.2227\n",
      "Epoch: 548   Train loss: 0.0449   Train accuracy: 0.982   Val loss: 0.215   Val accuracy: 0.615    weighted Val loss: 0.2227\n",
      "Epoch: 549   Train loss: 0.0441   Train accuracy: 0.963   Val loss: 0.2104   Val accuracy: 0.617    weighted Val loss: 0.2226\n",
      "Epoch: 550   Train loss: 0.0443   Train accuracy: 0.972   Val loss: 0.2103   Val accuracy: 0.629    weighted Val loss: 0.2226\n",
      "Epoch: 551   Train loss: 0.0439   Train accuracy: 0.978   Val loss: 0.2096   Val accuracy: 0.614    weighted Val loss: 0.2225\n",
      "Epoch: 552   Train loss: 0.0439   Train accuracy: 0.984   Val loss: 0.2073   Val accuracy: 0.611    weighted Val loss: 0.2224\n",
      "Epoch: 553   Train loss: 0.0419   Train accuracy: 0.975   Val loss: 0.2086   Val accuracy: 0.61    weighted Val loss: 0.2223\n",
      "Epoch: 554   Train loss: 0.0419   Train accuracy: 0.896   Val loss: 0.2084   Val accuracy: 0.622    weighted Val loss: 0.2223\n",
      "Epoch: 555   Train loss: 0.0423   Train accuracy: 0.988   Val loss: 0.211   Val accuracy: 0.617    weighted Val loss: 0.2222\n",
      "Epoch: 556   Train loss: 0.0462   Train accuracy: 0.979   Val loss: 0.2101   Val accuracy: 0.617    weighted Val loss: 0.2222\n",
      "Epoch: 557   Train loss: 0.0482   Train accuracy: 0.966   Val loss: 0.2119   Val accuracy: 0.618    weighted Val loss: 0.2221\n",
      "Epoch: 558   Train loss: 0.0447   Train accuracy: 0.976   Val loss: 0.2122   Val accuracy: 0.616    weighted Val loss: 0.2221\n",
      "Epoch: 559   Train loss: 0.0471   Train accuracy: 0.977   Val loss: 0.2117   Val accuracy: 0.62    weighted Val loss: 0.222\n",
      "Epoch: 560   Train loss: 0.0443   Train accuracy: 0.981   Val loss: 0.2117   Val accuracy: 0.606    weighted Val loss: 0.222\n",
      "Epoch: 561   Train loss: 0.044   Train accuracy: 0.98   Val loss: 0.2094   Val accuracy: 0.617    weighted Val loss: 0.2219\n",
      "Epoch: 562   Train loss: 0.0454   Train accuracy: 0.978   Val loss: 0.2093   Val accuracy: 0.621    weighted Val loss: 0.2218\n",
      "Epoch: 563   Train loss: 0.0435   Train accuracy: 0.975   Val loss: 0.21   Val accuracy: 0.627    weighted Val loss: 0.2218\n",
      "Epoch: 564   Train loss: 0.0432   Train accuracy: 0.985   Val loss: 0.2113   Val accuracy: 0.626    weighted Val loss: 0.2217\n",
      "Epoch: 565   Train loss: 0.0467   Train accuracy: 0.967   Val loss: 0.2113   Val accuracy: 0.624    weighted Val loss: 0.2217\n",
      "Epoch: 566   Train loss: 0.0433   Train accuracy: 0.98   Val loss: 0.211   Val accuracy: 0.619    weighted Val loss: 0.2216\n",
      "Epoch: 567   Train loss: 0.0452   Train accuracy: 0.966   Val loss: 0.2104   Val accuracy: 0.614    weighted Val loss: 0.2216\n",
      "Epoch: 568   Train loss: 0.042   Train accuracy: 0.981   Val loss: 0.2108   Val accuracy: 0.601    weighted Val loss: 0.2215\n",
      "Epoch: 569   Train loss: 0.0436   Train accuracy: 0.977   Val loss: 0.2095   Val accuracy: 0.603    weighted Val loss: 0.2214\n",
      "Epoch: 570   Train loss: 0.0448   Train accuracy: 0.971   Val loss: 0.2088   Val accuracy: 0.612    weighted Val loss: 0.2214\n",
      "Epoch: 571   Train loss: 0.048   Train accuracy: 0.959   Val loss: 0.211   Val accuracy: 0.617    weighted Val loss: 0.2213\n",
      "Epoch: 572   Train loss: 0.0451   Train accuracy: 0.953   Val loss: 0.2056   Val accuracy: 0.624    weighted Val loss: 0.2213\n",
      "Epoch: 573   Train loss: 0.0437   Train accuracy: 0.978   Val loss: 0.2072   Val accuracy: 0.622    weighted Val loss: 0.2212\n",
      "Epoch: 574   Train loss: 0.0463   Train accuracy: 0.98   Val loss: 0.208   Val accuracy: 0.629    weighted Val loss: 0.2211\n",
      "Epoch: 575   Train loss: 0.0436   Train accuracy: 0.985   Val loss: 0.2121   Val accuracy: 0.619    weighted Val loss: 0.2211\n",
      "Epoch: 576   Train loss: 0.0448   Train accuracy: 0.987   Val loss: 0.2133   Val accuracy: 0.608    weighted Val loss: 0.221\n",
      "Epoch: 577   Train loss: 0.0442   Train accuracy: 0.975   Val loss: 0.2142   Val accuracy: 0.609    weighted Val loss: 0.221\n",
      "Epoch: 578   Train loss: 0.0438   Train accuracy: 0.972   Val loss: 0.2188   Val accuracy: 0.614    weighted Val loss: 0.221\n",
      "Epoch: 579   Train loss: 0.0449   Train accuracy: 0.974   Val loss: 0.2113   Val accuracy: 0.621    weighted Val loss: 0.2209\n",
      "Epoch: 580   Train loss: 0.0408   Train accuracy: 0.984   Val loss: 0.2089   Val accuracy: 0.626    weighted Val loss: 0.2209\n",
      "Epoch: 581   Train loss: 0.0417   Train accuracy: 0.978   Val loss: 0.2082   Val accuracy: 0.623    weighted Val loss: 0.2208\n",
      "Epoch: 582   Train loss: 0.0429   Train accuracy: 0.986   Val loss: 0.2092   Val accuracy: 0.619    weighted Val loss: 0.2208\n",
      "Epoch: 583   Train loss: 0.0421   Train accuracy: 0.971   Val loss: 0.2095   Val accuracy: 0.621    weighted Val loss: 0.2207\n",
      "Epoch: 584   Train loss: 0.0455   Train accuracy: 0.979   Val loss: 0.2104   Val accuracy: 0.615    weighted Val loss: 0.2206\n",
      "Epoch: 585   Train loss: 0.0458   Train accuracy: 0.975   Val loss: 0.2102   Val accuracy: 0.608    weighted Val loss: 0.2206\n",
      "Epoch: 586   Train loss: 0.0454   Train accuracy: 0.979   Val loss: 0.2104   Val accuracy: 0.614    weighted Val loss: 0.2205\n",
      "Epoch: 587   Train loss: 0.0455   Train accuracy: 0.985   Val loss: 0.2101   Val accuracy: 0.619    weighted Val loss: 0.2205\n",
      "Epoch: 588   Train loss: 0.0426   Train accuracy: 0.989   Val loss: 0.2118   Val accuracy: 0.61    weighted Val loss: 0.2204\n",
      "Epoch: 589   Train loss: 0.0439   Train accuracy: 0.978   Val loss: 0.21   Val accuracy: 0.618    weighted Val loss: 0.2204\n",
      "Epoch: 590   Train loss: 0.0434   Train accuracy: 0.984   Val loss: 0.2095   Val accuracy: 0.62    weighted Val loss: 0.2203\n",
      "Epoch: 591   Train loss: 0.0446   Train accuracy: 0.942   Val loss: 0.2104   Val accuracy: 0.616    weighted Val loss: 0.2203\n",
      "Epoch: 592   Train loss: 0.042   Train accuracy: 0.985   Val loss: 0.2101   Val accuracy: 0.614    weighted Val loss: 0.2202\n",
      "Epoch: 593   Train loss: 0.0442   Train accuracy: 0.975   Val loss: 0.214   Val accuracy: 0.62    weighted Val loss: 0.2202\n",
      "Epoch: 594   Train loss: 0.0453   Train accuracy: 0.975   Val loss: 0.2098   Val accuracy: 0.622    weighted Val loss: 0.2202\n",
      "Epoch: 595   Train loss: 0.0417   Train accuracy: 0.989   Val loss: 0.2094   Val accuracy: 0.622    weighted Val loss: 0.2201\n",
      "Epoch: 596   Train loss: 0.0458   Train accuracy: 0.976   Val loss: 0.2093   Val accuracy: 0.621    weighted Val loss: 0.2201\n",
      "Epoch: 597   Train loss: 0.0429   Train accuracy: 0.98   Val loss: 0.2071   Val accuracy: 0.625    weighted Val loss: 0.22\n",
      "Epoch: 598   Train loss: 0.0437   Train accuracy: 0.979   Val loss: 0.2118   Val accuracy: 0.623    weighted Val loss: 0.2199\n",
      "Epoch: 599   Train loss: 0.0463   Train accuracy: 0.9   Val loss: 0.2101   Val accuracy: 0.622    weighted Val loss: 0.2199\n",
      "Epoch: 600   Train loss: 0.0416   Train accuracy: 0.989   Val loss: 0.2101   Val accuracy: 0.612    weighted Val loss: 0.2198\n",
      "Epoch: 601   Train loss: 0.0436   Train accuracy: 0.982   Val loss: 0.2097   Val accuracy: 0.615    weighted Val loss: 0.2198\n",
      "Epoch: 602   Train loss: 0.0446   Train accuracy: 0.982   Val loss: 0.2105   Val accuracy: 0.613    weighted Val loss: 0.2197\n",
      "Epoch: 603   Train loss: 0.0458   Train accuracy: 0.971   Val loss: 0.2137   Val accuracy: 0.618    weighted Val loss: 0.2197\n",
      "Epoch: 604   Train loss: 0.0431   Train accuracy: 0.974   Val loss: 0.2105   Val accuracy: 0.615    weighted Val loss: 0.2197\n",
      "Epoch: 605   Train loss: 0.0428   Train accuracy: 0.986   Val loss: 0.2105   Val accuracy: 0.611    weighted Val loss: 0.2196\n",
      "Epoch: 606   Train loss: 0.0425   Train accuracy: 0.981   Val loss: 0.2121   Val accuracy: 0.608    weighted Val loss: 0.2196\n",
      "Epoch: 607   Train loss: 0.0443   Train accuracy: 0.973   Val loss: 0.2121   Val accuracy: 0.619    weighted Val loss: 0.2196\n",
      "Epoch: 608   Train loss: 0.0428   Train accuracy: 0.969   Val loss: 0.2124   Val accuracy: 0.612    weighted Val loss: 0.2195\n",
      "Epoch: 609   Train loss: 0.0468   Train accuracy: 0.979   Val loss: 0.2099   Val accuracy: 0.604    weighted Val loss: 0.2195\n",
      "Epoch: 610   Train loss: 0.0449   Train accuracy: 0.984   Val loss: 0.2087   Val accuracy: 0.609    weighted Val loss: 0.2194\n",
      "Epoch: 611   Train loss: 0.0486   Train accuracy: 0.956   Val loss: 0.2128   Val accuracy: 0.609    weighted Val loss: 0.2194\n",
      "Epoch: 612   Train loss: 0.045   Train accuracy: 0.989   Val loss: 0.214   Val accuracy: 0.604    weighted Val loss: 0.2194\n",
      "Epoch: 613   Train loss: 0.0443   Train accuracy: 0.971   Val loss: 0.2098   Val accuracy: 0.621    weighted Val loss: 0.2193\n",
      "Epoch: 614   Train loss: 0.0442   Train accuracy: 0.974   Val loss: 0.2122   Val accuracy: 0.61    weighted Val loss: 0.2193\n",
      "Epoch: 615   Train loss: 0.0421   Train accuracy: 0.974   Val loss: 0.2095   Val accuracy: 0.618    weighted Val loss: 0.2192\n",
      "Epoch: 616   Train loss: 0.041   Train accuracy: 0.98   Val loss: 0.2087   Val accuracy: 0.611    weighted Val loss: 0.2192\n",
      "Epoch: 617   Train loss: 0.0415   Train accuracy: 0.982   Val loss: 0.2092   Val accuracy: 0.621    weighted Val loss: 0.2191\n",
      "Epoch: 618   Train loss: 0.043   Train accuracy: 0.969   Val loss: 0.2079   Val accuracy: 0.625    weighted Val loss: 0.2191\n",
      "Epoch: 619   Train loss: 0.0423   Train accuracy: 0.983   Val loss: 0.2086   Val accuracy: 0.625    weighted Val loss: 0.219\n",
      "Epoch: 620   Train loss: 0.0401   Train accuracy: 0.989   Val loss: 0.2174   Val accuracy: 0.611    weighted Val loss: 0.219\n",
      "Epoch: 621   Train loss: 0.0494   Train accuracy: 0.955   Val loss: 0.2097   Val accuracy: 0.62    weighted Val loss: 0.219\n",
      "Epoch: 622   Train loss: 0.0444   Train accuracy: 0.986   Val loss: 0.2084   Val accuracy: 0.612    weighted Val loss: 0.2189\n",
      "Epoch: 623   Train loss: 0.0422   Train accuracy: 0.898   Val loss: 0.2091   Val accuracy: 0.61    weighted Val loss: 0.2189\n",
      "Epoch: 624   Train loss: 0.0424   Train accuracy: 0.984   Val loss: 0.2093   Val accuracy: 0.612    weighted Val loss: 0.2188\n",
      "Epoch: 625   Train loss: 0.0434   Train accuracy: 0.98   Val loss: 0.2187   Val accuracy: 0.62    weighted Val loss: 0.2188\n",
      "Epoch: 626   Train loss: 0.043   Train accuracy: 0.986   Val loss: 0.209   Val accuracy: 0.614    weighted Val loss: 0.2188\n",
      "Epoch: 627   Train loss: 0.0439   Train accuracy: 0.985   Val loss: 0.2087   Val accuracy: 0.616    weighted Val loss: 0.2187\n",
      "Epoch: 628   Train loss: 0.0443   Train accuracy: 0.975   Val loss: 0.2074   Val accuracy: 0.623    weighted Val loss: 0.2187\n",
      "Epoch: 629   Train loss: 0.0434   Train accuracy: 0.98   Val loss: 0.2064   Val accuracy: 0.626    weighted Val loss: 0.2186\n",
      "Epoch: 630   Train loss: 0.043   Train accuracy: 0.973   Val loss: 0.2071   Val accuracy: 0.626    weighted Val loss: 0.2185\n",
      "Epoch: 631   Train loss: 0.0425   Train accuracy: 0.977   Val loss: 0.2116   Val accuracy: 0.616    weighted Val loss: 0.2185\n",
      "Epoch: 632   Train loss: 0.0476   Train accuracy: 0.963   Val loss: 0.2148   Val accuracy: 0.632    weighted Val loss: 0.2185\n",
      "Epoch: 633   Train loss: 0.045   Train accuracy: 0.989   Val loss: 0.206   Val accuracy: 0.623    weighted Val loss: 0.2184\n",
      "Epoch: 634   Train loss: 0.0428   Train accuracy: 0.978   Val loss: 0.2059   Val accuracy: 0.612    weighted Val loss: 0.2184\n",
      "Epoch: 635   Train loss: 0.0488   Train accuracy: 0.962   Val loss: 0.2095   Val accuracy: 0.616    weighted Val loss: 0.2183\n",
      "Epoch: 636   Train loss: 0.042   Train accuracy: 0.981   Val loss: 0.2134   Val accuracy: 0.605    weighted Val loss: 0.2183\n",
      "Epoch: 637   Train loss: 0.0437   Train accuracy: 0.985   Val loss: 0.2118   Val accuracy: 0.619    weighted Val loss: 0.2183\n",
      "Epoch: 638   Train loss: 0.0456   Train accuracy: 0.965   Val loss: 0.2077   Val accuracy: 0.622    weighted Val loss: 0.2182\n",
      "Epoch: 639   Train loss: 0.0452   Train accuracy: 0.986   Val loss: 0.2095   Val accuracy: 0.626    weighted Val loss: 0.2182\n",
      "Epoch: 640   Train loss: 0.0412   Train accuracy: 0.898   Val loss: 0.2095   Val accuracy: 0.625    weighted Val loss: 0.2181\n",
      "Epoch: 641   Train loss: 0.0431   Train accuracy: 0.986   Val loss: 0.2114   Val accuracy: 0.623    weighted Val loss: 0.2181\n",
      "Epoch: 642   Train loss: 0.0431   Train accuracy: 0.987   Val loss: 0.2127   Val accuracy: 0.612    weighted Val loss: 0.2181\n",
      "Epoch: 643   Train loss: 0.0429   Train accuracy: 0.978   Val loss: 0.2099   Val accuracy: 0.62    weighted Val loss: 0.218\n",
      "Epoch: 644   Train loss: 0.043   Train accuracy: 0.978   Val loss: 0.2066   Val accuracy: 0.625    weighted Val loss: 0.218\n",
      "Epoch: 645   Train loss: 0.0428   Train accuracy: 0.977   Val loss: 0.2083   Val accuracy: 0.623    weighted Val loss: 0.2179\n",
      "Epoch: 646   Train loss: 0.0433   Train accuracy: 0.98   Val loss: 0.2086   Val accuracy: 0.622    weighted Val loss: 0.2179\n",
      "Epoch: 647   Train loss: 0.0442   Train accuracy: 0.983   Val loss: 0.205   Val accuracy: 0.631    weighted Val loss: 0.2178\n",
      "Epoch: 648   Train loss: 0.0416   Train accuracy: 0.983   Val loss: 0.2079   Val accuracy: 0.618    weighted Val loss: 0.2177\n",
      "Epoch: 649   Train loss: 0.0455   Train accuracy: 0.977   Val loss: 0.2085   Val accuracy: 0.618    weighted Val loss: 0.2177\n",
      "Epoch: 650   Train loss: 0.0466   Train accuracy: 0.979   Val loss: 0.2097   Val accuracy: 0.621    weighted Val loss: 0.2177\n",
      "Epoch: 651   Train loss: 0.0513   Train accuracy: 0.967   Val loss: 0.2082   Val accuracy: 0.611    weighted Val loss: 0.2176\n",
      "Epoch: 652   Train loss: 0.0455   Train accuracy: 0.953   Val loss: 0.211   Val accuracy: 0.621    weighted Val loss: 0.2176\n",
      "Epoch: 653   Train loss: 0.0416   Train accuracy: 0.901   Val loss: 0.2113   Val accuracy: 0.623    weighted Val loss: 0.2175\n",
      "Epoch: 654   Train loss: 0.043   Train accuracy: 0.983   Val loss: 0.216   Val accuracy: 0.625    weighted Val loss: 0.2175\n",
      "Epoch: 655   Train loss: 0.0437   Train accuracy: 0.982   Val loss: 0.2079   Val accuracy: 0.619    weighted Val loss: 0.2175\n",
      "Epoch: 656   Train loss: 0.0453   Train accuracy: 0.975   Val loss: 0.2097   Val accuracy: 0.622    weighted Val loss: 0.2175\n",
      "Epoch: 657   Train loss: 0.0436   Train accuracy: 0.984   Val loss: 0.2075   Val accuracy: 0.624    weighted Val loss: 0.2174\n",
      "Epoch: 658   Train loss: 0.0446   Train accuracy: 0.975   Val loss: 0.2093   Val accuracy: 0.62    weighted Val loss: 0.2174\n",
      "Epoch: 659   Train loss: 0.0443   Train accuracy: 0.979   Val loss: 0.2103   Val accuracy: 0.613    weighted Val loss: 0.2173\n",
      "Epoch: 660   Train loss: 0.0487   Train accuracy: 0.973   Val loss: 0.2083   Val accuracy: 0.619    weighted Val loss: 0.2173\n",
      "Epoch: 661   Train loss: 0.0472   Train accuracy: 0.939   Val loss: 0.2121   Val accuracy: 0.616    weighted Val loss: 0.2173\n",
      "Epoch: 662   Train loss: 0.0455   Train accuracy: 0.982   Val loss: 0.2077   Val accuracy: 0.62    weighted Val loss: 0.2172\n",
      "Epoch: 663   Train loss: 0.0409   Train accuracy: 0.986   Val loss: 0.2102   Val accuracy: 0.61    weighted Val loss: 0.2172\n",
      "Epoch: 664   Train loss: 0.0432   Train accuracy: 0.982   Val loss: 0.2093   Val accuracy: 0.61    weighted Val loss: 0.2171\n",
      "Epoch: 665   Train loss: 0.0415   Train accuracy: 0.98   Val loss: 0.2115   Val accuracy: 0.606    weighted Val loss: 0.2171\n",
      "Epoch: 666   Train loss: 0.0448   Train accuracy: 0.985   Val loss: 0.2109   Val accuracy: 0.621    weighted Val loss: 0.2171\n",
      "Epoch: 667   Train loss: 0.0448   Train accuracy: 0.966   Val loss: 0.2088   Val accuracy: 0.613    weighted Val loss: 0.217\n",
      "Epoch: 668   Train loss: 0.0435   Train accuracy: 0.983   Val loss: 0.2086   Val accuracy: 0.606    weighted Val loss: 0.217\n",
      "Epoch: 669   Train loss: 0.0437   Train accuracy: 0.98   Val loss: 0.2082   Val accuracy: 0.612    weighted Val loss: 0.2169\n",
      "Epoch: 670   Train loss: 0.0431   Train accuracy: 0.977   Val loss: 0.2074   Val accuracy: 0.621    weighted Val loss: 0.2169\n",
      "Epoch: 671   Train loss: 0.0442   Train accuracy: 0.974   Val loss: 0.2173   Val accuracy: 0.643    weighted Val loss: 0.2169\n",
      "0.643 ----------saved-----------\n"
     ]
    }
   ],
   "source": [
    "MLPparametersGCN = {\n",
    "    'n_layers':2,\n",
    "    'layer_size_factor':[1, 1], \n",
    "    'dropout':[-1, -1],\n",
    "    'batch_size': 128,\n",
    "    'num_epochs': 900,\n",
    "    'learning_rate': 6e-4,\n",
    "    'weight_decay': 5e-3,\n",
    "    'betas': (0.9, 0.999), \n",
    "    'eps': 1e-08\n",
    "}\n",
    "MLPmodelGCN, _,_, MLPcheckpointGCN = MLP.train_MLP(dm, sim_all[\"GCN_train\"], sim_all[\"GCN_test\"], MLPparametersGCN, acc_fn=MLP.F1, autostop_decay = 0.995, print_summary = True)"
   ]
  },
  {
   "cell_type": "code",
   "execution_count": 51,
   "metadata": {},
   "outputs": [
    {
     "name": "stdout",
     "output_type": "stream",
     "text": [
      "model saved\n"
     ]
    }
   ],
   "source": [
    "#optional: save the model\n",
    "MLP.save_ckp(MLPcheckpointGCN, \"models/MLPGCN620_1.pt\")"
   ]
  },
  {
   "cell_type": "markdown",
   "metadata": {},
   "source": [
    "###### Result"
   ]
  },
  {
   "cell_type": "code",
   "execution_count": 52,
   "metadata": {},
   "outputs": [
    {
     "name": "stdout",
     "output_type": "stream",
     "text": [
      "device set to cuda\n",
      "threshold: 0.05  validation loss: 0.2173 F1 accuracy 0.396 Precision accuracy 0.256 Recall accuracy 0.873 AUC accuracy: 0.9\n",
      "device set to cuda\n",
      "threshold: 0.1  validation loss: 0.2173 F1 accuracy 0.459 Precision accuracy 0.321 Recall accuracy 0.803 AUC accuracy: 0.9\n",
      "device set to cuda\n",
      "threshold: 0.15  validation loss: 0.2173 F1 accuracy 0.502 Precision accuracy 0.373 Recall accuracy 0.768 AUC accuracy: 0.9\n",
      "device set to cuda\n",
      "threshold: 0.2  validation loss: 0.2173 F1 accuracy 0.538 Precision accuracy 0.421 Recall accuracy 0.746 AUC accuracy: 0.9\n",
      "device set to cuda\n",
      "threshold: 0.25  validation loss: 0.2173 F1 accuracy 0.576 Precision accuracy 0.481 Recall accuracy 0.718 AUC accuracy: 0.9\n",
      "device set to cuda\n",
      "threshold: 0.3  validation loss: 0.2173 F1 accuracy 0.573 Precision accuracy 0.505 Recall accuracy 0.662 AUC accuracy: 0.9\n",
      "device set to cuda\n",
      "threshold: 0.35  validation loss: 0.2173 F1 accuracy 0.599 Precision accuracy 0.547 Recall accuracy 0.662 AUC accuracy: 0.9\n",
      "device set to cuda\n",
      "threshold: 0.4  validation loss: 0.2173 F1 accuracy 0.62 Precision accuracy 0.589 Recall accuracy 0.655 AUC accuracy: 0.9\n",
      "device set to cuda\n",
      "threshold: 0.45  validation loss: 0.2173 F1 accuracy 0.628 Precision accuracy 0.609 Recall accuracy 0.648 AUC accuracy: 0.9\n",
      "device set to cuda\n",
      "threshold: 0.5  validation loss: 0.2173 F1 accuracy 0.643 Precision accuracy 0.659 Recall accuracy 0.627 AUC accuracy: 0.9\n",
      "device set to cuda\n",
      "threshold: 0.55  validation loss: 0.2173 F1 accuracy 0.598 Precision accuracy 0.648 Recall accuracy 0.556 AUC accuracy: 0.9\n",
      "device set to cuda\n",
      "threshold: 0.6  validation loss: 0.2173 F1 accuracy 0.58 Precision accuracy 0.655 Recall accuracy 0.521 AUC accuracy: 0.9\n",
      "device set to cuda\n",
      "threshold: 0.65  validation loss: 0.2173 F1 accuracy 0.567 Precision accuracy 0.667 Recall accuracy 0.493 AUC accuracy: 0.9\n",
      "device set to cuda\n",
      "threshold: 0.7  validation loss: 0.2173 F1 accuracy 0.55 Precision accuracy 0.673 Recall accuracy 0.465 AUC accuracy: 0.9\n",
      "device set to cuda\n",
      "threshold: 0.75  validation loss: 0.2173 F1 accuracy 0.544 Precision accuracy 0.721 Recall accuracy 0.437 AUC accuracy: 0.9\n",
      "device set to cuda\n",
      "threshold: 0.8  validation loss: 0.2173 F1 accuracy 0.532 Precision accuracy 0.738 Recall accuracy 0.415 AUC accuracy: 0.9\n",
      "device set to cuda\n",
      "threshold: 0.85  validation loss: 0.2173 F1 accuracy 0.512 Precision accuracy 0.783 Recall accuracy 0.38 AUC accuracy: 0.9\n",
      "device set to cuda\n",
      "threshold: 0.9  validation loss: 0.2173 F1 accuracy 0.475 Precision accuracy 0.839 Recall accuracy 0.331 AUC accuracy: 0.9\n",
      "device set to cuda\n",
      "threshold: 0.95  validation loss: 0.2173 F1 accuracy 0.444 Precision accuracy 0.894 Recall accuracy 0.296 AUC accuracy: 0.9\n"
     ]
    }
   ],
   "source": [
    "for i in range(5,100, 5):\n",
    "    t = i/100;\n",
    "    MLP.eval_mlp(MLPmodelGCN, sim_all[\"GCN_test\"], dm, device_name = 'cuda', threshold = t)"
   ]
  },
  {
   "cell_type": "markdown",
   "metadata": {},
   "source": [
    "##### 3.1.2 MLP for GDE"
   ]
  },
  {
   "cell_type": "markdown",
   "metadata": {},
   "source": [
    "###### Training"
   ]
  },
  {
   "cell_type": "code",
   "execution_count": 31,
   "metadata": {
    "collapsed": true,
    "jupyter": {
     "outputs_hidden": true
    }
   },
   "outputs": [
    {
     "name": "stdout",
     "output_type": "stream",
     "text": [
      "MLP(\n",
      "  (layers): ModuleList(\n",
      "    (0): Dropout(p=0.5, inplace=False)\n",
      "    (1): Linear(in_features=496, out_features=496, bias=True)\n",
      "    (2): ReLU()\n",
      "    (3): Dropout(p=0.3, inplace=False)\n",
      "    (4): Linear(in_features=496, out_features=1, bias=True)\n",
      "    (5): Sigmoid()\n",
      "  )\n",
      ")\n",
      "----------------------------------------------------------------\n",
      "        Layer (type)               Output Shape         Param #\n",
      "================================================================\n",
      "           Dropout-1                  [-1, 496]               0\n",
      "            Linear-2                  [-1, 496]         246,512\n",
      "              ReLU-3                  [-1, 496]               0\n",
      "           Dropout-4                  [-1, 496]               0\n",
      "            Linear-5                    [-1, 1]             497\n",
      "           Sigmoid-6                    [-1, 1]               0\n",
      "================================================================\n",
      "Total params: 247,009\n",
      "Trainable params: 247,009\n",
      "Non-trainable params: 0\n",
      "----------------------------------------------------------------\n",
      "Input size (MB): 0.00\n",
      "Forward/backward pass size (MB): 0.02\n",
      "Params size (MB): 0.94\n",
      "Estimated Total Size (MB): 0.96\n",
      "----------------------------------------------------------------\n",
      "Epoch: 1   Train loss: 0.5101   Train accuracy: 0.029   Val loss: 0.3319   Val accuracy: 0.298    weighted Val loss: 0.3319\n",
      "0.298 ----------saved-----------\n",
      "Epoch: 2   Train loss: 0.3285   Train accuracy: 0.0   Val loss: 0.3003   Val accuracy: 0.374    weighted Val loss: 0.3317\n",
      "0.374 ----------saved-----------\n",
      "Epoch: 3   Train loss: 0.3292   Train accuracy: 0.0   Val loss: 0.288   Val accuracy: 0.388    weighted Val loss: 0.3315\n",
      "0.388 ----------saved-----------\n",
      "Epoch: 4   Train loss: 0.3064   Train accuracy: 0.0   Val loss: 0.283   Val accuracy: 0.432    weighted Val loss: 0.3312\n",
      "0.432 ----------saved-----------\n",
      "Epoch: 5   Train loss: 0.3083   Train accuracy: 0.0   Val loss: 0.2738   Val accuracy: 0.484    weighted Val loss: 0.331\n",
      "0.484 ----------saved-----------\n",
      "Epoch: 6   Train loss: 0.3024   Train accuracy: 0.0   Val loss: 0.2669   Val accuracy: 0.481    weighted Val loss: 0.3306\n",
      "Epoch: 7   Train loss: 0.2829   Train accuracy: 0.0   Val loss: 0.2609   Val accuracy: 0.531    weighted Val loss: 0.3303\n",
      "0.531 ----------saved-----------\n",
      "Epoch: 8   Train loss: 0.2796   Train accuracy: 0.01   Val loss: 0.2543   Val accuracy: 0.52    weighted Val loss: 0.3299\n",
      "Epoch: 9   Train loss: 0.2766   Train accuracy: 0.009   Val loss: 0.2508   Val accuracy: 0.537    weighted Val loss: 0.3295\n",
      "0.537 ----------saved-----------\n",
      "Epoch: 10   Train loss: 0.2603   Train accuracy: 0.111   Val loss: 0.2473   Val accuracy: 0.534    weighted Val loss: 0.3291\n",
      "Epoch: 11   Train loss: 0.2565   Train accuracy: 0.115   Val loss: 0.243   Val accuracy: 0.54    weighted Val loss: 0.3287\n",
      "0.54 ----------saved-----------\n",
      "Epoch: 12   Train loss: 0.258   Train accuracy: 0.198   Val loss: 0.2396   Val accuracy: 0.537    weighted Val loss: 0.3282\n",
      "Epoch: 13   Train loss: 0.2532   Train accuracy: 0.289   Val loss: 0.238   Val accuracy: 0.544    weighted Val loss: 0.3278\n",
      "0.544 ----------saved-----------\n",
      "Epoch: 14   Train loss: 0.2425   Train accuracy: 0.331   Val loss: 0.2351   Val accuracy: 0.528    weighted Val loss: 0.3273\n",
      "Epoch: 15   Train loss: 0.2437   Train accuracy: 0.344   Val loss: 0.2323   Val accuracy: 0.539    weighted Val loss: 0.3268\n",
      "Epoch: 16   Train loss: 0.2388   Train accuracy: 0.413   Val loss: 0.2294   Val accuracy: 0.534    weighted Val loss: 0.3263\n",
      "Epoch: 17   Train loss: 0.2262   Train accuracy: 0.41   Val loss: 0.2265   Val accuracy: 0.553    weighted Val loss: 0.3258\n",
      "0.553 ----------saved-----------\n",
      "Epoch: 18   Train loss: 0.2115   Train accuracy: 0.455   Val loss: 0.2244   Val accuracy: 0.565    weighted Val loss: 0.3253\n",
      "0.565 ----------saved-----------\n",
      "Epoch: 19   Train loss: 0.2198   Train accuracy: 0.493   Val loss: 0.2233   Val accuracy: 0.556    weighted Val loss: 0.3248\n",
      "Epoch: 20   Train loss: 0.2141   Train accuracy: 0.568   Val loss: 0.2209   Val accuracy: 0.552    weighted Val loss: 0.3243\n",
      "Epoch: 21   Train loss: 0.2181   Train accuracy: 0.494   Val loss: 0.2231   Val accuracy: 0.554    weighted Val loss: 0.3238\n",
      "Epoch: 22   Train loss: 0.2341   Train accuracy: 0.506   Val loss: 0.2221   Val accuracy: 0.545    weighted Val loss: 0.3233\n",
      "Epoch: 23   Train loss: 0.2236   Train accuracy: 0.488   Val loss: 0.2249   Val accuracy: 0.533    weighted Val loss: 0.3228\n",
      "Epoch: 24   Train loss: 0.2103   Train accuracy: 0.5   Val loss: 0.2271   Val accuracy: 0.542    weighted Val loss: 0.3223\n",
      "Epoch: 25   Train loss: 0.23   Train accuracy: 0.489   Val loss: 0.2234   Val accuracy: 0.53    weighted Val loss: 0.3218\n",
      "Epoch: 26   Train loss: 0.2063   Train accuracy: 0.472   Val loss: 0.2267   Val accuracy: 0.539    weighted Val loss: 0.3214\n",
      "Epoch: 27   Train loss: 0.2227   Train accuracy: 0.414   Val loss: 0.2273   Val accuracy: 0.536    weighted Val loss: 0.3209\n",
      "Epoch: 28   Train loss: 0.2192   Train accuracy: 0.536   Val loss: 0.2271   Val accuracy: 0.538    weighted Val loss: 0.3204\n",
      "Epoch: 29   Train loss: 0.2098   Train accuracy: 0.519   Val loss: 0.2242   Val accuracy: 0.561    weighted Val loss: 0.3199\n",
      "Epoch: 30   Train loss: 0.2227   Train accuracy: 0.47   Val loss: 0.2255   Val accuracy: 0.548    weighted Val loss: 0.3195\n",
      "Epoch: 31   Train loss: 0.2131   Train accuracy: 0.569   Val loss: 0.2277   Val accuracy: 0.539    weighted Val loss: 0.319\n",
      "Epoch: 32   Train loss: 0.2113   Train accuracy: 0.461   Val loss: 0.226   Val accuracy: 0.547    weighted Val loss: 0.3185\n",
      "Epoch: 33   Train loss: 0.2346   Train accuracy: 0.567   Val loss: 0.2253   Val accuracy: 0.528    weighted Val loss: 0.3181\n",
      "Epoch: 34   Train loss: 0.2144   Train accuracy: 0.526   Val loss: 0.2261   Val accuracy: 0.552    weighted Val loss: 0.3176\n",
      "Epoch: 35   Train loss: 0.2227   Train accuracy: 0.438   Val loss: 0.224   Val accuracy: 0.536    weighted Val loss: 0.3171\n",
      "Epoch: 36   Train loss: 0.219   Train accuracy: 0.482   Val loss: 0.2231   Val accuracy: 0.532    weighted Val loss: 0.3167\n",
      "Epoch: 37   Train loss: 0.211   Train accuracy: 0.566   Val loss: 0.2221   Val accuracy: 0.533    weighted Val loss: 0.3162\n",
      "Epoch: 38   Train loss: 0.2131   Train accuracy: 0.508   Val loss: 0.22   Val accuracy: 0.543    weighted Val loss: 0.3157\n",
      "Epoch: 39   Train loss: 0.2098   Train accuracy: 0.527   Val loss: 0.2197   Val accuracy: 0.541    weighted Val loss: 0.3152\n",
      "Epoch: 40   Train loss: 0.2155   Train accuracy: 0.533   Val loss: 0.2193   Val accuracy: 0.534    weighted Val loss: 0.3148\n",
      "Epoch: 41   Train loss: 0.2208   Train accuracy: 0.51   Val loss: 0.2205   Val accuracy: 0.541    weighted Val loss: 0.3143\n",
      "Epoch: 42   Train loss: 0.2105   Train accuracy: 0.528   Val loss: 0.221   Val accuracy: 0.537    weighted Val loss: 0.3138\n",
      "Epoch: 43   Train loss: 0.213   Train accuracy: 0.465   Val loss: 0.219   Val accuracy: 0.552    weighted Val loss: 0.3133\n",
      "Epoch: 44   Train loss: 0.2133   Train accuracy: 0.541   Val loss: 0.2205   Val accuracy: 0.54    weighted Val loss: 0.3129\n",
      "Epoch: 45   Train loss: 0.2176   Train accuracy: 0.55   Val loss: 0.2191   Val accuracy: 0.538    weighted Val loss: 0.3124\n",
      "Epoch: 46   Train loss: 0.1999   Train accuracy: 0.485   Val loss: 0.218   Val accuracy: 0.548    weighted Val loss: 0.3119\n",
      "Epoch: 47   Train loss: 0.2121   Train accuracy: 0.552   Val loss: 0.2204   Val accuracy: 0.551    weighted Val loss: 0.3115\n",
      "Epoch: 48   Train loss: 0.2208   Train accuracy: 0.528   Val loss: 0.2214   Val accuracy: 0.535    weighted Val loss: 0.311\n",
      "Epoch: 49   Train loss: 0.2189   Train accuracy: 0.525   Val loss: 0.2247   Val accuracy: 0.522    weighted Val loss: 0.3106\n",
      "Epoch: 50   Train loss: 0.213   Train accuracy: 0.543   Val loss: 0.2197   Val accuracy: 0.529    weighted Val loss: 0.3101\n",
      "Epoch: 51   Train loss: 0.218   Train accuracy: 0.539   Val loss: 0.22   Val accuracy: 0.53    weighted Val loss: 0.3097\n",
      "Epoch: 52   Train loss: 0.2083   Train accuracy: 0.561   Val loss: 0.2226   Val accuracy: 0.52    weighted Val loss: 0.3093\n",
      "Epoch: 53   Train loss: 0.2151   Train accuracy: 0.521   Val loss: 0.2198   Val accuracy: 0.523    weighted Val loss: 0.3088\n",
      "Epoch: 54   Train loss: 0.215   Train accuracy: 0.505   Val loss: 0.2215   Val accuracy: 0.54    weighted Val loss: 0.3084\n",
      "Epoch: 55   Train loss: 0.1951   Train accuracy: 0.615   Val loss: 0.2197   Val accuracy: 0.53    weighted Val loss: 0.3079\n",
      "Epoch: 56   Train loss: 0.1958   Train accuracy: 0.522   Val loss: 0.2206   Val accuracy: 0.528    weighted Val loss: 0.3075\n",
      "Epoch: 57   Train loss: 0.1915   Train accuracy: 0.595   Val loss: 0.2214   Val accuracy: 0.529    weighted Val loss: 0.3071\n",
      "Epoch: 58   Train loss: 0.2107   Train accuracy: 0.528   Val loss: 0.221   Val accuracy: 0.524    weighted Val loss: 0.3066\n",
      "Epoch: 59   Train loss: 0.2198   Train accuracy: 0.519   Val loss: 0.2211   Val accuracy: 0.539    weighted Val loss: 0.3062\n",
      "Epoch: 60   Train loss: 0.2095   Train accuracy: 0.522   Val loss: 0.2225   Val accuracy: 0.522    weighted Val loss: 0.3058\n",
      "Epoch: 61   Train loss: 0.2036   Train accuracy: 0.574   Val loss: 0.2205   Val accuracy: 0.533    weighted Val loss: 0.3054\n",
      "Epoch: 62   Train loss: 0.2059   Train accuracy: 0.563   Val loss: 0.2226   Val accuracy: 0.521    weighted Val loss: 0.3049\n",
      "Epoch: 63   Train loss: 0.2002   Train accuracy: 0.508   Val loss: 0.2216   Val accuracy: 0.529    weighted Val loss: 0.3045\n",
      "Epoch: 64   Train loss: 0.2069   Train accuracy: 0.508   Val loss: 0.2233   Val accuracy: 0.53    weighted Val loss: 0.3041\n",
      "Epoch: 65   Train loss: 0.2123   Train accuracy: 0.59   Val loss: 0.2189   Val accuracy: 0.536    weighted Val loss: 0.3037\n",
      "Epoch: 66   Train loss: 0.2128   Train accuracy: 0.522   Val loss: 0.2199   Val accuracy: 0.529    weighted Val loss: 0.3033\n",
      "Epoch: 67   Train loss: 0.1992   Train accuracy: 0.582   Val loss: 0.2179   Val accuracy: 0.547    weighted Val loss: 0.3029\n",
      "Epoch: 68   Train loss: 0.2004   Train accuracy: 0.582   Val loss: 0.2202   Val accuracy: 0.545    weighted Val loss: 0.3024\n",
      "Epoch: 69   Train loss: 0.2097   Train accuracy: 0.581   Val loss: 0.2152   Val accuracy: 0.556    weighted Val loss: 0.302\n",
      "Epoch: 70   Train loss: 0.2089   Train accuracy: 0.554   Val loss: 0.2155   Val accuracy: 0.564    weighted Val loss: 0.3016\n",
      "Epoch: 71   Train loss: 0.2316   Train accuracy: 0.511   Val loss: 0.2234   Val accuracy: 0.53    weighted Val loss: 0.3012\n",
      "Epoch: 72   Train loss: 0.2075   Train accuracy: 0.512   Val loss: 0.2177   Val accuracy: 0.526    weighted Val loss: 0.3008\n",
      "Epoch: 73   Train loss: 0.2189   Train accuracy: 0.612   Val loss: 0.224   Val accuracy: 0.538    weighted Val loss: 0.3004\n",
      "Epoch: 74   Train loss: 0.2168   Train accuracy: 0.544   Val loss: 0.2192   Val accuracy: 0.545    weighted Val loss: 0.3\n",
      "Epoch: 75   Train loss: 0.2243   Train accuracy: 0.493   Val loss: 0.2196   Val accuracy: 0.543    weighted Val loss: 0.2996\n",
      "Epoch: 76   Train loss: 0.1985   Train accuracy: 0.579   Val loss: 0.2153   Val accuracy: 0.549    weighted Val loss: 0.2992\n",
      "Epoch: 77   Train loss: 0.1939   Train accuracy: 0.588   Val loss: 0.2144   Val accuracy: 0.544    weighted Val loss: 0.2987\n",
      "Epoch: 78   Train loss: 0.203   Train accuracy: 0.491   Val loss: 0.2119   Val accuracy: 0.543    weighted Val loss: 0.2983\n",
      "Epoch: 79   Train loss: 0.1874   Train accuracy: 0.628   Val loss: 0.217   Val accuracy: 0.525    weighted Val loss: 0.2979\n",
      "Epoch: 80   Train loss: 0.1971   Train accuracy: 0.523   Val loss: 0.2121   Val accuracy: 0.541    weighted Val loss: 0.2975\n",
      "Epoch: 81   Train loss: 0.1942   Train accuracy: 0.529   Val loss: 0.2154   Val accuracy: 0.548    weighted Val loss: 0.297\n",
      "Epoch: 82   Train loss: 0.1972   Train accuracy: 0.589   Val loss: 0.2125   Val accuracy: 0.549    weighted Val loss: 0.2966\n",
      "Epoch: 83   Train loss: 0.2136   Train accuracy: 0.587   Val loss: 0.2146   Val accuracy: 0.563    weighted Val loss: 0.2962\n",
      "Epoch: 84   Train loss: 0.1908   Train accuracy: 0.607   Val loss: 0.2135   Val accuracy: 0.566    weighted Val loss: 0.2958\n",
      "0.566 ----------saved-----------\n",
      "Epoch: 85   Train loss: 0.1945   Train accuracy: 0.627   Val loss: 0.2119   Val accuracy: 0.563    weighted Val loss: 0.2954\n",
      "Epoch: 86   Train loss: 0.1978   Train accuracy: 0.597   Val loss: 0.2134   Val accuracy: 0.561    weighted Val loss: 0.295\n",
      "Epoch: 87   Train loss: 0.1943   Train accuracy: 0.592   Val loss: 0.217   Val accuracy: 0.565    weighted Val loss: 0.2946\n",
      "Epoch: 88   Train loss: 0.2016   Train accuracy: 0.532   Val loss: 0.2126   Val accuracy: 0.557    weighted Val loss: 0.2942\n",
      "Epoch: 89   Train loss: 0.1964   Train accuracy: 0.586   Val loss: 0.218   Val accuracy: 0.566    weighted Val loss: 0.2938\n",
      "Epoch: 90   Train loss: 0.1814   Train accuracy: 0.543   Val loss: 0.2158   Val accuracy: 0.554    weighted Val loss: 0.2934\n",
      "Epoch: 91   Train loss: 0.2204   Train accuracy: 0.557   Val loss: 0.2149   Val accuracy: 0.554    weighted Val loss: 0.293\n",
      "Epoch: 92   Train loss: 0.2003   Train accuracy: 0.606   Val loss: 0.219   Val accuracy: 0.545    weighted Val loss: 0.2926\n",
      "Epoch: 93   Train loss: 0.2015   Train accuracy: 0.545   Val loss: 0.2118   Val accuracy: 0.554    weighted Val loss: 0.2922\n",
      "Epoch: 94   Train loss: 0.2018   Train accuracy: 0.585   Val loss: 0.2115   Val accuracy: 0.56    weighted Val loss: 0.2918\n",
      "Epoch: 95   Train loss: 0.1847   Train accuracy: 0.636   Val loss: 0.214   Val accuracy: 0.556    weighted Val loss: 0.2914\n",
      "Epoch: 96   Train loss: 0.1915   Train accuracy: 0.596   Val loss: 0.209   Val accuracy: 0.568    weighted Val loss: 0.291\n",
      "0.568 ----------saved-----------\n",
      "Epoch: 97   Train loss: 0.1847   Train accuracy: 0.633   Val loss: 0.2143   Val accuracy: 0.57    weighted Val loss: 0.2906\n",
      "0.57 ----------saved-----------\n",
      "Epoch: 98   Train loss: 0.1946   Train accuracy: 0.516   Val loss: 0.2121   Val accuracy: 0.556    weighted Val loss: 0.2903\n",
      "Epoch: 99   Train loss: 0.1862   Train accuracy: 0.568   Val loss: 0.2173   Val accuracy: 0.561    weighted Val loss: 0.2899\n",
      "Epoch: 100   Train loss: 0.1798   Train accuracy: 0.602   Val loss: 0.2106   Val accuracy: 0.573    weighted Val loss: 0.2895\n",
      "0.573 ----------saved-----------\n",
      "Epoch: 101   Train loss: 0.2018   Train accuracy: 0.59   Val loss: 0.2136   Val accuracy: 0.56    weighted Val loss: 0.2891\n",
      "Epoch: 102   Train loss: 0.1874   Train accuracy: 0.593   Val loss: 0.2125   Val accuracy: 0.558    weighted Val loss: 0.2887\n",
      "Epoch: 103   Train loss: 0.2007   Train accuracy: 0.568   Val loss: 0.2124   Val accuracy: 0.553    weighted Val loss: 0.2883\n",
      "Epoch: 104   Train loss: 0.1872   Train accuracy: 0.646   Val loss: 0.2129   Val accuracy: 0.551    weighted Val loss: 0.288\n",
      "Epoch: 105   Train loss: 0.1957   Train accuracy: 0.588   Val loss: 0.2128   Val accuracy: 0.551    weighted Val loss: 0.2876\n",
      "Epoch: 106   Train loss: 0.1919   Train accuracy: 0.597   Val loss: 0.2124   Val accuracy: 0.549    weighted Val loss: 0.2872\n",
      "Epoch: 107   Train loss: 0.1802   Train accuracy: 0.558   Val loss: 0.2117   Val accuracy: 0.55    weighted Val loss: 0.2868\n",
      "Epoch: 108   Train loss: 0.1836   Train accuracy: 0.563   Val loss: 0.2164   Val accuracy: 0.552    weighted Val loss: 0.2865\n",
      "Epoch: 109   Train loss: 0.1908   Train accuracy: 0.61   Val loss: 0.215   Val accuracy: 0.562    weighted Val loss: 0.2861\n",
      "Epoch: 110   Train loss: 0.2016   Train accuracy: 0.573   Val loss: 0.209   Val accuracy: 0.59    weighted Val loss: 0.2857\n",
      "0.59 ----------saved-----------\n",
      "Epoch: 111   Train loss: 0.1807   Train accuracy: 0.593   Val loss: 0.2127   Val accuracy: 0.585    weighted Val loss: 0.2854\n",
      "Epoch: 112   Train loss: 0.1772   Train accuracy: 0.608   Val loss: 0.2045   Val accuracy: 0.576    weighted Val loss: 0.285\n",
      "Epoch: 113   Train loss: 0.1837   Train accuracy: 0.559   Val loss: 0.2075   Val accuracy: 0.574    weighted Val loss: 0.2846\n",
      "Epoch: 114   Train loss: 0.1759   Train accuracy: 0.632   Val loss: 0.2063   Val accuracy: 0.573    weighted Val loss: 0.2842\n",
      "Epoch: 115   Train loss: 0.1799   Train accuracy: 0.616   Val loss: 0.2085   Val accuracy: 0.569    weighted Val loss: 0.2838\n",
      "Epoch: 116   Train loss: 0.1853   Train accuracy: 0.592   Val loss: 0.2054   Val accuracy: 0.585    weighted Val loss: 0.2834\n",
      "Epoch: 117   Train loss: 0.1799   Train accuracy: 0.611   Val loss: 0.2131   Val accuracy: 0.583    weighted Val loss: 0.2831\n",
      "Epoch: 118   Train loss: 0.1783   Train accuracy: 0.636   Val loss: 0.2026   Val accuracy: 0.586    weighted Val loss: 0.2827\n",
      "Epoch: 119   Train loss: 0.1766   Train accuracy: 0.663   Val loss: 0.2031   Val accuracy: 0.598    weighted Val loss: 0.2823\n",
      "0.598 ----------saved-----------\n",
      "Epoch: 120   Train loss: 0.1924   Train accuracy: 0.577   Val loss: 0.2053   Val accuracy: 0.582    weighted Val loss: 0.2819\n",
      "Epoch: 121   Train loss: 0.1805   Train accuracy: 0.622   Val loss: 0.206   Val accuracy: 0.579    weighted Val loss: 0.2815\n",
      "Epoch: 122   Train loss: 0.1785   Train accuracy: 0.638   Val loss: 0.2085   Val accuracy: 0.588    weighted Val loss: 0.2811\n",
      "Epoch: 123   Train loss: 0.1625   Train accuracy: 0.597   Val loss: 0.2114   Val accuracy: 0.581    weighted Val loss: 0.2808\n",
      "Epoch: 124   Train loss: 0.1726   Train accuracy: 0.635   Val loss: 0.208   Val accuracy: 0.591    weighted Val loss: 0.2804\n",
      "Epoch: 125   Train loss: 0.1752   Train accuracy: 0.603   Val loss: 0.2065   Val accuracy: 0.585    weighted Val loss: 0.2801\n",
      "Epoch: 126   Train loss: 0.1637   Train accuracy: 0.685   Val loss: 0.2084   Val accuracy: 0.575    weighted Val loss: 0.2797\n",
      "Epoch: 127   Train loss: 0.1787   Train accuracy: 0.649   Val loss: 0.2159   Val accuracy: 0.562    weighted Val loss: 0.2794\n",
      "Epoch: 128   Train loss: 0.1916   Train accuracy: 0.577   Val loss: 0.2087   Val accuracy: 0.586    weighted Val loss: 0.279\n",
      "Epoch: 129   Train loss: 0.1783   Train accuracy: 0.65   Val loss: 0.2136   Val accuracy: 0.567    weighted Val loss: 0.2787\n",
      "Epoch: 130   Train loss: 0.1817   Train accuracy: 0.609   Val loss: 0.2103   Val accuracy: 0.584    weighted Val loss: 0.2784\n",
      "Epoch: 131   Train loss: 0.1795   Train accuracy: 0.621   Val loss: 0.2135   Val accuracy: 0.557    weighted Val loss: 0.278\n",
      "Epoch: 132   Train loss: 0.1967   Train accuracy: 0.568   Val loss: 0.2221   Val accuracy: 0.551    weighted Val loss: 0.2778\n",
      "Epoch: 133   Train loss: 0.1693   Train accuracy: 0.642   Val loss: 0.2141   Val accuracy: 0.556    weighted Val loss: 0.2774\n",
      "Epoch: 134   Train loss: 0.1783   Train accuracy: 0.638   Val loss: 0.2155   Val accuracy: 0.559    weighted Val loss: 0.2771\n",
      "Epoch: 135   Train loss: 0.165   Train accuracy: 0.672   Val loss: 0.2225   Val accuracy: 0.568    weighted Val loss: 0.2769\n",
      "Epoch: 136   Train loss: 0.1729   Train accuracy: 0.553   Val loss: 0.2097   Val accuracy: 0.567    weighted Val loss: 0.2765\n",
      "Epoch: 137   Train loss: 0.1725   Train accuracy: 0.613   Val loss: 0.2117   Val accuracy: 0.568    weighted Val loss: 0.2762\n",
      "Epoch: 138   Train loss: 0.1748   Train accuracy: 0.625   Val loss: 0.2101   Val accuracy: 0.573    weighted Val loss: 0.2759\n",
      "Epoch: 139   Train loss: 0.1588   Train accuracy: 0.615   Val loss: 0.2126   Val accuracy: 0.581    weighted Val loss: 0.2756\n",
      "Epoch: 140   Train loss: 0.1754   Train accuracy: 0.589   Val loss: 0.2083   Val accuracy: 0.574    weighted Val loss: 0.2752\n",
      "Epoch: 141   Train loss: 0.168   Train accuracy: 0.628   Val loss: 0.2171   Val accuracy: 0.573    weighted Val loss: 0.2749\n",
      "Epoch: 142   Train loss: 0.1977   Train accuracy: 0.616   Val loss: 0.2108   Val accuracy: 0.574    weighted Val loss: 0.2746\n",
      "Epoch: 143   Train loss: 0.1713   Train accuracy: 0.658   Val loss: 0.2193   Val accuracy: 0.548    weighted Val loss: 0.2743\n",
      "Epoch: 144   Train loss: 0.1762   Train accuracy: 0.622   Val loss: 0.2097   Val accuracy: 0.565    weighted Val loss: 0.274\n",
      "Epoch: 145   Train loss: 0.1689   Train accuracy: 0.63   Val loss: 0.2087   Val accuracy: 0.579    weighted Val loss: 0.2737\n",
      "Epoch: 146   Train loss: 0.1587   Train accuracy: 0.676   Val loss: 0.2076   Val accuracy: 0.571    weighted Val loss: 0.2733\n",
      "Epoch: 147   Train loss: 0.1899   Train accuracy: 0.58   Val loss: 0.2044   Val accuracy: 0.575    weighted Val loss: 0.273\n",
      "Epoch: 148   Train loss: 0.1733   Train accuracy: 0.646   Val loss: 0.2076   Val accuracy: 0.569    weighted Val loss: 0.2727\n",
      "Epoch: 149   Train loss: 0.175   Train accuracy: 0.557   Val loss: 0.2092   Val accuracy: 0.553    weighted Val loss: 0.2724\n",
      "Epoch: 150   Train loss: 0.1694   Train accuracy: 0.653   Val loss: 0.2162   Val accuracy: 0.541    weighted Val loss: 0.2721\n",
      "Epoch: 151   Train loss: 0.1712   Train accuracy: 0.569   Val loss: 0.2043   Val accuracy: 0.572    weighted Val loss: 0.2717\n",
      "Epoch: 152   Train loss: 0.1686   Train accuracy: 0.646   Val loss: 0.213   Val accuracy: 0.569    weighted Val loss: 0.2714\n",
      "Epoch: 153   Train loss: 0.1589   Train accuracy: 0.673   Val loss: 0.2068   Val accuracy: 0.567    weighted Val loss: 0.2711\n",
      "Epoch: 154   Train loss: 0.1637   Train accuracy: 0.662   Val loss: 0.207   Val accuracy: 0.567    weighted Val loss: 0.2708\n",
      "Epoch: 155   Train loss: 0.1745   Train accuracy: 0.554   Val loss: 0.2095   Val accuracy: 0.554    weighted Val loss: 0.2705\n",
      "Epoch: 156   Train loss: 0.164   Train accuracy: 0.683   Val loss: 0.213   Val accuracy: 0.545    weighted Val loss: 0.2702\n",
      "Epoch: 157   Train loss: 0.1705   Train accuracy: 0.675   Val loss: 0.2079   Val accuracy: 0.546    weighted Val loss: 0.2699\n",
      "Epoch: 158   Train loss: 0.1741   Train accuracy: 0.643   Val loss: 0.2113   Val accuracy: 0.549    weighted Val loss: 0.2696\n",
      "Epoch: 159   Train loss: 0.1609   Train accuracy: 0.531   Val loss: 0.2033   Val accuracy: 0.583    weighted Val loss: 0.2693\n",
      "Epoch: 160   Train loss: 0.1575   Train accuracy: 0.679   Val loss: 0.2065   Val accuracy: 0.588    weighted Val loss: 0.269\n",
      "Epoch: 161   Train loss: 0.1681   Train accuracy: 0.613   Val loss: 0.2049   Val accuracy: 0.588    weighted Val loss: 0.2686\n",
      "Epoch: 162   Train loss: 0.1584   Train accuracy: 0.555   Val loss: 0.2047   Val accuracy: 0.585    weighted Val loss: 0.2683\n",
      "Epoch: 163   Train loss: 0.1693   Train accuracy: 0.645   Val loss: 0.2146   Val accuracy: 0.558    weighted Val loss: 0.268\n",
      "Epoch: 164   Train loss: 0.1651   Train accuracy: 0.63   Val loss: 0.2065   Val accuracy: 0.566    weighted Val loss: 0.2677\n",
      "Epoch: 165   Train loss: 0.1658   Train accuracy: 0.67   Val loss: 0.2081   Val accuracy: 0.563    weighted Val loss: 0.2674\n",
      "Epoch: 166   Train loss: 0.1698   Train accuracy: 0.647   Val loss: 0.2157   Val accuracy: 0.563    weighted Val loss: 0.2672\n",
      "Epoch: 167   Train loss: 0.1533   Train accuracy: 0.648   Val loss: 0.2074   Val accuracy: 0.555    weighted Val loss: 0.2669\n",
      "Epoch: 168   Train loss: 0.1607   Train accuracy: 0.599   Val loss: 0.2078   Val accuracy: 0.569    weighted Val loss: 0.2666\n",
      "Epoch: 169   Train loss: 0.1657   Train accuracy: 0.661   Val loss: 0.214   Val accuracy: 0.564    weighted Val loss: 0.2663\n",
      "Epoch: 170   Train loss: 0.1698   Train accuracy: 0.68   Val loss: 0.2024   Val accuracy: 0.58    weighted Val loss: 0.266\n",
      "Epoch: 171   Train loss: 0.1648   Train accuracy: 0.672   Val loss: 0.2107   Val accuracy: 0.583    weighted Val loss: 0.2657\n",
      "Epoch: 172   Train loss: 0.1827   Train accuracy: 0.631   Val loss: 0.2029   Val accuracy: 0.575    weighted Val loss: 0.2654\n",
      "Epoch: 173   Train loss: 0.1696   Train accuracy: 0.64   Val loss: 0.2097   Val accuracy: 0.56    weighted Val loss: 0.2651\n",
      "Epoch: 174   Train loss: 0.1793   Train accuracy: 0.616   Val loss: 0.2151   Val accuracy: 0.573    weighted Val loss: 0.2649\n",
      "Epoch: 175   Train loss: 0.1647   Train accuracy: 0.639   Val loss: 0.2094   Val accuracy: 0.587    weighted Val loss: 0.2646\n",
      "Epoch: 176   Train loss: 0.1576   Train accuracy: 0.651   Val loss: 0.211   Val accuracy: 0.582    weighted Val loss: 0.2643\n",
      "Epoch: 177   Train loss: 0.1712   Train accuracy: 0.68   Val loss: 0.2163   Val accuracy: 0.577    weighted Val loss: 0.2641\n",
      "Epoch: 178   Train loss: 0.16   Train accuracy: 0.68   Val loss: 0.209   Val accuracy: 0.591    weighted Val loss: 0.2638\n",
      "Epoch: 179   Train loss: 0.1665   Train accuracy: 0.644   Val loss: 0.2082   Val accuracy: 0.591    weighted Val loss: 0.2635\n",
      "Epoch: 180   Train loss: 0.1671   Train accuracy: 0.695   Val loss: 0.2231   Val accuracy: 0.564    weighted Val loss: 0.2633\n",
      "Epoch: 181   Train loss: 0.1639   Train accuracy: 0.585   Val loss: 0.2104   Val accuracy: 0.597    weighted Val loss: 0.2631\n",
      "Epoch: 182   Train loss: 0.1632   Train accuracy: 0.568   Val loss: 0.2061   Val accuracy: 0.613    weighted Val loss: 0.2628\n",
      "0.613 ----------saved-----------\n",
      "Epoch: 183   Train loss: 0.1749   Train accuracy: 0.649   Val loss: 0.2061   Val accuracy: 0.601    weighted Val loss: 0.2625\n",
      "Epoch: 184   Train loss: 0.167   Train accuracy: 0.633   Val loss: 0.2071   Val accuracy: 0.588    weighted Val loss: 0.2622\n",
      "Epoch: 185   Train loss: 0.1701   Train accuracy: 0.648   Val loss: 0.2047   Val accuracy: 0.589    weighted Val loss: 0.2619\n",
      "Epoch: 186   Train loss: 0.159   Train accuracy: 0.71   Val loss: 0.2054   Val accuracy: 0.585    weighted Val loss: 0.2617\n",
      "Epoch: 187   Train loss: 0.1578   Train accuracy: 0.599   Val loss: 0.2061   Val accuracy: 0.57    weighted Val loss: 0.2614\n",
      "Epoch: 188   Train loss: 0.1418   Train accuracy: 0.654   Val loss: 0.2099   Val accuracy: 0.579    weighted Val loss: 0.2611\n",
      "Epoch: 189   Train loss: 0.1574   Train accuracy: 0.647   Val loss: 0.2053   Val accuracy: 0.59    weighted Val loss: 0.2609\n",
      "Epoch: 190   Train loss: 0.1714   Train accuracy: 0.647   Val loss: 0.2053   Val accuracy: 0.579    weighted Val loss: 0.2606\n",
      "Epoch: 191   Train loss: 0.1551   Train accuracy: 0.699   Val loss: 0.2071   Val accuracy: 0.583    weighted Val loss: 0.2603\n",
      "Epoch: 192   Train loss: 0.1664   Train accuracy: 0.657   Val loss: 0.2024   Val accuracy: 0.571    weighted Val loss: 0.26\n",
      "Epoch: 193   Train loss: 0.1513   Train accuracy: 0.719   Val loss: 0.2106   Val accuracy: 0.568    weighted Val loss: 0.2598\n",
      "Epoch: 194   Train loss: 0.1619   Train accuracy: 0.679   Val loss: 0.2068   Val accuracy: 0.58    weighted Val loss: 0.2595\n",
      "Epoch: 195   Train loss: 0.1541   Train accuracy: 0.69   Val loss: 0.206   Val accuracy: 0.569    weighted Val loss: 0.2592\n",
      "Epoch: 196   Train loss: 0.1696   Train accuracy: 0.655   Val loss: 0.2041   Val accuracy: 0.582    weighted Val loss: 0.259\n",
      "Epoch: 197   Train loss: 0.1524   Train accuracy: 0.702   Val loss: 0.2115   Val accuracy: 0.575    weighted Val loss: 0.2587\n",
      "Epoch: 198   Train loss: 0.1567   Train accuracy: 0.636   Val loss: 0.2062   Val accuracy: 0.578    weighted Val loss: 0.2585\n",
      "Epoch: 199   Train loss: 0.1431   Train accuracy: 0.688   Val loss: 0.2082   Val accuracy: 0.564    weighted Val loss: 0.2582\n",
      "Epoch: 200   Train loss: 0.155   Train accuracy: 0.629   Val loss: 0.2057   Val accuracy: 0.568    weighted Val loss: 0.2579\n",
      "Epoch: 201   Train loss: 0.1659   Train accuracy: 0.668   Val loss: 0.2014   Val accuracy: 0.586    weighted Val loss: 0.2577\n",
      "Epoch: 202   Train loss: 0.1757   Train accuracy: 0.649   Val loss: 0.2083   Val accuracy: 0.591    weighted Val loss: 0.2574\n",
      "Epoch: 203   Train loss: 0.1605   Train accuracy: 0.708   Val loss: 0.2074   Val accuracy: 0.571    weighted Val loss: 0.2572\n",
      "Epoch: 204   Train loss: 0.1663   Train accuracy: 0.635   Val loss: 0.2062   Val accuracy: 0.569    weighted Val loss: 0.2569\n",
      "Epoch: 205   Train loss: 0.1644   Train accuracy: 0.661   Val loss: 0.2068   Val accuracy: 0.571    weighted Val loss: 0.2567\n",
      "Epoch: 206   Train loss: 0.1622   Train accuracy: 0.686   Val loss: 0.2129   Val accuracy: 0.571    weighted Val loss: 0.2564\n",
      "Epoch: 207   Train loss: 0.1477   Train accuracy: 0.696   Val loss: 0.2029   Val accuracy: 0.581    weighted Val loss: 0.2562\n",
      "Epoch: 208   Train loss: 0.1547   Train accuracy: 0.634   Val loss: 0.2108   Val accuracy: 0.577    weighted Val loss: 0.2559\n",
      "Epoch: 209   Train loss: 0.1608   Train accuracy: 0.69   Val loss: 0.206   Val accuracy: 0.588    weighted Val loss: 0.2557\n",
      "Epoch: 210   Train loss: 0.1541   Train accuracy: 0.674   Val loss: 0.2124   Val accuracy: 0.587    weighted Val loss: 0.2555\n",
      "Epoch: 211   Train loss: 0.1619   Train accuracy: 0.601   Val loss: 0.2069   Val accuracy: 0.57    weighted Val loss: 0.2552\n",
      "Epoch: 212   Train loss: 0.1576   Train accuracy: 0.709   Val loss: 0.2077   Val accuracy: 0.585    weighted Val loss: 0.255\n",
      "Epoch: 213   Train loss: 0.1584   Train accuracy: 0.709   Val loss: 0.205   Val accuracy: 0.587    weighted Val loss: 0.2548\n",
      "Epoch: 214   Train loss: 0.1531   Train accuracy: 0.694   Val loss: 0.2017   Val accuracy: 0.585    weighted Val loss: 0.2545\n",
      "Epoch: 215   Train loss: 0.1576   Train accuracy: 0.651   Val loss: 0.2029   Val accuracy: 0.588    weighted Val loss: 0.2542\n",
      "Epoch: 216   Train loss: 0.1413   Train accuracy: 0.737   Val loss: 0.2046   Val accuracy: 0.576    weighted Val loss: 0.254\n",
      "Epoch: 217   Train loss: 0.1662   Train accuracy: 0.698   Val loss: 0.2133   Val accuracy: 0.581    weighted Val loss: 0.2538\n",
      "Epoch: 218   Train loss: 0.1646   Train accuracy: 0.653   Val loss: 0.2058   Val accuracy: 0.591    weighted Val loss: 0.2535\n",
      "Epoch: 219   Train loss: 0.1531   Train accuracy: 0.738   Val loss: 0.2062   Val accuracy: 0.59    weighted Val loss: 0.2533\n",
      "Epoch: 220   Train loss: 0.162   Train accuracy: 0.597   Val loss: 0.2016   Val accuracy: 0.591    weighted Val loss: 0.253\n",
      "Epoch: 221   Train loss: 0.1484   Train accuracy: 0.65   Val loss: 0.2117   Val accuracy: 0.573    weighted Val loss: 0.2528\n",
      "Epoch: 222   Train loss: 0.1517   Train accuracy: 0.671   Val loss: 0.205   Val accuracy: 0.584    weighted Val loss: 0.2526\n",
      "Epoch: 223   Train loss: 0.1577   Train accuracy: 0.644   Val loss: 0.202   Val accuracy: 0.59    weighted Val loss: 0.2523\n",
      "Epoch: 224   Train loss: 0.1354   Train accuracy: 0.748   Val loss: 0.205   Val accuracy: 0.59    weighted Val loss: 0.2521\n",
      "Epoch: 225   Train loss: 0.1426   Train accuracy: 0.671   Val loss: 0.2052   Val accuracy: 0.582    weighted Val loss: 0.2519\n",
      "Epoch: 226   Train loss: 0.1536   Train accuracy: 0.644   Val loss: 0.2056   Val accuracy: 0.585    weighted Val loss: 0.2516\n",
      "Epoch: 227   Train loss: 0.1559   Train accuracy: 0.705   Val loss: 0.2075   Val accuracy: 0.586    weighted Val loss: 0.2514\n",
      "Epoch: 228   Train loss: 0.1524   Train accuracy: 0.747   Val loss: 0.2088   Val accuracy: 0.579    weighted Val loss: 0.2512\n",
      "Epoch: 229   Train loss: 0.138   Train accuracy: 0.637   Val loss: 0.2052   Val accuracy: 0.591    weighted Val loss: 0.251\n",
      "Epoch: 230   Train loss: 0.1491   Train accuracy: 0.653   Val loss: 0.2041   Val accuracy: 0.584    weighted Val loss: 0.2507\n",
      "Epoch: 231   Train loss: 0.1552   Train accuracy: 0.671   Val loss: 0.2029   Val accuracy: 0.585    weighted Val loss: 0.2505\n",
      "Epoch: 232   Train loss: 0.1418   Train accuracy: 0.741   Val loss: 0.216   Val accuracy: 0.596    weighted Val loss: 0.2503\n",
      "Epoch: 233   Train loss: 0.1496   Train accuracy: 0.716   Val loss: 0.2016   Val accuracy: 0.587    weighted Val loss: 0.2501\n",
      "Epoch: 234   Train loss: 0.1389   Train accuracy: 0.689   Val loss: 0.2046   Val accuracy: 0.584    weighted Val loss: 0.2499\n",
      "Epoch: 235   Train loss: 0.1535   Train accuracy: 0.692   Val loss: 0.2021   Val accuracy: 0.597    weighted Val loss: 0.2496\n",
      "Epoch: 236   Train loss: 0.148   Train accuracy: 0.704   Val loss: 0.2043   Val accuracy: 0.583    weighted Val loss: 0.2494\n",
      "Epoch: 237   Train loss: 0.1561   Train accuracy: 0.686   Val loss: 0.2072   Val accuracy: 0.576    weighted Val loss: 0.2492\n",
      "Epoch: 238   Train loss: 0.1454   Train accuracy: 0.702   Val loss: 0.2131   Val accuracy: 0.56    weighted Val loss: 0.249\n",
      "Epoch: 239   Train loss: 0.1395   Train accuracy: 0.722   Val loss: 0.2068   Val accuracy: 0.581    weighted Val loss: 0.2488\n",
      "Epoch: 240   Train loss: 0.1533   Train accuracy: 0.682   Val loss: 0.2094   Val accuracy: 0.58    weighted Val loss: 0.2486\n",
      "Epoch: 241   Train loss: 0.1488   Train accuracy: 0.701   Val loss: 0.2078   Val accuracy: 0.566    weighted Val loss: 0.2484\n",
      "Epoch: 242   Train loss: 0.1539   Train accuracy: 0.659   Val loss: 0.2034   Val accuracy: 0.563    weighted Val loss: 0.2482\n",
      "Epoch: 243   Train loss: 0.1467   Train accuracy: 0.716   Val loss: 0.2058   Val accuracy: 0.573    weighted Val loss: 0.248\n",
      "Epoch: 244   Train loss: 0.1616   Train accuracy: 0.68   Val loss: 0.2038   Val accuracy: 0.581    weighted Val loss: 0.2477\n",
      "Epoch: 245   Train loss: 0.1535   Train accuracy: 0.72   Val loss: 0.2123   Val accuracy: 0.577    weighted Val loss: 0.2476\n",
      "Epoch: 246   Train loss: 0.1448   Train accuracy: 0.711   Val loss: 0.2047   Val accuracy: 0.595    weighted Val loss: 0.2473\n",
      "Epoch: 247   Train loss: 0.1606   Train accuracy: 0.661   Val loss: 0.2048   Val accuracy: 0.592    weighted Val loss: 0.2471\n",
      "Epoch: 248   Train loss: 0.1443   Train accuracy: 0.686   Val loss: 0.2032   Val accuracy: 0.607    weighted Val loss: 0.2469\n",
      "Epoch: 249   Train loss: 0.1484   Train accuracy: 0.676   Val loss: 0.2046   Val accuracy: 0.585    weighted Val loss: 0.2467\n",
      "Epoch: 250   Train loss: 0.1405   Train accuracy: 0.741   Val loss: 0.2111   Val accuracy: 0.598    weighted Val loss: 0.2465\n",
      "Epoch: 251   Train loss: 0.145   Train accuracy: 0.704   Val loss: 0.2084   Val accuracy: 0.594    weighted Val loss: 0.2463\n",
      "Epoch: 252   Train loss: 0.1679   Train accuracy: 0.622   Val loss: 0.2148   Val accuracy: 0.573    weighted Val loss: 0.2462\n",
      "Epoch: 253   Train loss: 0.155   Train accuracy: 0.652   Val loss: 0.2122   Val accuracy: 0.574    weighted Val loss: 0.246\n",
      "Epoch: 254   Train loss: 0.1599   Train accuracy: 0.685   Val loss: 0.2071   Val accuracy: 0.581    weighted Val loss: 0.2458\n",
      "Epoch: 255   Train loss: 0.1524   Train accuracy: 0.636   Val loss: 0.2136   Val accuracy: 0.58    weighted Val loss: 0.2456\n",
      "Epoch: 256   Train loss: 0.1751   Train accuracy: 0.641   Val loss: 0.2132   Val accuracy: 0.575    weighted Val loss: 0.2455\n",
      "Epoch: 257   Train loss: 0.1543   Train accuracy: 0.652   Val loss: 0.2048   Val accuracy: 0.576    weighted Val loss: 0.2453\n",
      "Epoch: 258   Train loss: 0.1423   Train accuracy: 0.769   Val loss: 0.208   Val accuracy: 0.575    weighted Val loss: 0.2451\n",
      "Epoch: 259   Train loss: 0.1397   Train accuracy: 0.695   Val loss: 0.2064   Val accuracy: 0.595    weighted Val loss: 0.2449\n",
      "Epoch: 260   Train loss: 0.158   Train accuracy: 0.707   Val loss: 0.2085   Val accuracy: 0.591    weighted Val loss: 0.2447\n",
      "Epoch: 261   Train loss: 0.1527   Train accuracy: 0.667   Val loss: 0.2011   Val accuracy: 0.588    weighted Val loss: 0.2445\n",
      "Epoch: 262   Train loss: 0.1391   Train accuracy: 0.642   Val loss: 0.2148   Val accuracy: 0.562    weighted Val loss: 0.2444\n",
      "Epoch: 263   Train loss: 0.1589   Train accuracy: 0.629   Val loss: 0.2046   Val accuracy: 0.565    weighted Val loss: 0.2442\n",
      "Epoch: 264   Train loss: 0.1462   Train accuracy: 0.671   Val loss: 0.2135   Val accuracy: 0.562    weighted Val loss: 0.244\n",
      "Epoch: 265   Train loss: 0.1529   Train accuracy: 0.672   Val loss: 0.2023   Val accuracy: 0.597    weighted Val loss: 0.2438\n",
      "Epoch: 266   Train loss: 0.1449   Train accuracy: 0.725   Val loss: 0.2112   Val accuracy: 0.58    weighted Val loss: 0.2436\n",
      "Epoch: 267   Train loss: 0.1434   Train accuracy: 0.668   Val loss: 0.2033   Val accuracy: 0.591    weighted Val loss: 0.2434\n",
      "Epoch: 268   Train loss: 0.1483   Train accuracy: 0.634   Val loss: 0.215   Val accuracy: 0.58    weighted Val loss: 0.2433\n",
      "Epoch: 269   Train loss: 0.1437   Train accuracy: 0.708   Val loss: 0.2055   Val accuracy: 0.598    weighted Val loss: 0.2431\n",
      "Epoch: 270   Train loss: 0.1419   Train accuracy: 0.754   Val loss: 0.2026   Val accuracy: 0.598    weighted Val loss: 0.2429\n",
      "Epoch: 271   Train loss: 0.1376   Train accuracy: 0.743   Val loss: 0.2065   Val accuracy: 0.601    weighted Val loss: 0.2427\n",
      "Epoch: 272   Train loss: 0.1463   Train accuracy: 0.68   Val loss: 0.2014   Val accuracy: 0.594    weighted Val loss: 0.2425\n",
      "Epoch: 273   Train loss: 0.1414   Train accuracy: 0.68   Val loss: 0.2049   Val accuracy: 0.597    weighted Val loss: 0.2423\n",
      "Epoch: 274   Train loss: 0.1415   Train accuracy: 0.729   Val loss: 0.2076   Val accuracy: 0.592    weighted Val loss: 0.2421\n",
      "Epoch: 275   Train loss: 0.139   Train accuracy: 0.723   Val loss: 0.2041   Val accuracy: 0.589    weighted Val loss: 0.242\n",
      "Epoch: 276   Train loss: 0.1438   Train accuracy: 0.71   Val loss: 0.2037   Val accuracy: 0.579    weighted Val loss: 0.2418\n",
      "Epoch: 277   Train loss: 0.1383   Train accuracy: 0.722   Val loss: 0.2098   Val accuracy: 0.586    weighted Val loss: 0.2416\n",
      "Epoch: 278   Train loss: 0.1445   Train accuracy: 0.604   Val loss: 0.1993   Val accuracy: 0.598    weighted Val loss: 0.2414\n",
      "Epoch: 279   Train loss: 0.1493   Train accuracy: 0.719   Val loss: 0.215   Val accuracy: 0.586    weighted Val loss: 0.2413\n",
      "Epoch: 280   Train loss: 0.1489   Train accuracy: 0.636   Val loss: 0.2008   Val accuracy: 0.592    weighted Val loss: 0.2411\n",
      "Epoch: 281   Train loss: 0.1366   Train accuracy: 0.75   Val loss: 0.2051   Val accuracy: 0.589    weighted Val loss: 0.2409\n",
      "Epoch: 282   Train loss: 0.1498   Train accuracy: 0.679   Val loss: 0.2061   Val accuracy: 0.586    weighted Val loss: 0.2407\n",
      "Epoch: 283   Train loss: 0.1473   Train accuracy: 0.657   Val loss: 0.2021   Val accuracy: 0.592    weighted Val loss: 0.2405\n",
      "Epoch: 284   Train loss: 0.1505   Train accuracy: 0.695   Val loss: 0.214   Val accuracy: 0.592    weighted Val loss: 0.2404\n",
      "Epoch: 285   Train loss: 0.149   Train accuracy: 0.685   Val loss: 0.2022   Val accuracy: 0.597    weighted Val loss: 0.2402\n",
      "Epoch: 286   Train loss: 0.1421   Train accuracy: 0.749   Val loss: 0.2108   Val accuracy: 0.597    weighted Val loss: 0.24\n",
      "Epoch: 287   Train loss: 0.1448   Train accuracy: 0.707   Val loss: 0.2009   Val accuracy: 0.588    weighted Val loss: 0.2398\n",
      "Epoch: 288   Train loss: 0.1515   Train accuracy: 0.712   Val loss: 0.2062   Val accuracy: 0.587    weighted Val loss: 0.2397\n",
      "Epoch: 289   Train loss: 0.1436   Train accuracy: 0.746   Val loss: 0.2052   Val accuracy: 0.593    weighted Val loss: 0.2395\n",
      "Epoch: 290   Train loss: 0.1423   Train accuracy: 0.671   Val loss: 0.2006   Val accuracy: 0.595    weighted Val loss: 0.2393\n",
      "Epoch: 291   Train loss: 0.1524   Train accuracy: 0.677   Val loss: 0.2088   Val accuracy: 0.597    weighted Val loss: 0.2392\n",
      "Epoch: 292   Train loss: 0.1452   Train accuracy: 0.727   Val loss: 0.2066   Val accuracy: 0.587    weighted Val loss: 0.239\n",
      "Epoch: 293   Train loss: 0.1503   Train accuracy: 0.684   Val loss: 0.2046   Val accuracy: 0.602    weighted Val loss: 0.2388\n",
      "Epoch: 294   Train loss: 0.1393   Train accuracy: 0.709   Val loss: 0.2017   Val accuracy: 0.595    weighted Val loss: 0.2386\n",
      "Epoch: 295   Train loss: 0.1345   Train accuracy: 0.742   Val loss: 0.2006   Val accuracy: 0.598    weighted Val loss: 0.2384\n",
      "Epoch: 296   Train loss: 0.1387   Train accuracy: 0.712   Val loss: 0.201   Val accuracy: 0.598    weighted Val loss: 0.2383\n",
      "Epoch: 297   Train loss: 0.1462   Train accuracy: 0.707   Val loss: 0.2037   Val accuracy: 0.602    weighted Val loss: 0.2381\n",
      "Epoch: 298   Train loss: 0.1467   Train accuracy: 0.7   Val loss: 0.2016   Val accuracy: 0.616    weighted Val loss: 0.2379\n",
      "0.616 ----------saved-----------\n",
      "Epoch: 299   Train loss: 0.1412   Train accuracy: 0.721   Val loss: 0.2034   Val accuracy: 0.612    weighted Val loss: 0.2377\n",
      "Epoch: 300   Train loss: 0.1388   Train accuracy: 0.641   Val loss: 0.2029   Val accuracy: 0.603    weighted Val loss: 0.2376\n",
      "Epoch: 301   Train loss: 0.1446   Train accuracy: 0.683   Val loss: 0.2029   Val accuracy: 0.608    weighted Val loss: 0.2374\n",
      "Epoch: 302   Train loss: 0.1464   Train accuracy: 0.719   Val loss: 0.2011   Val accuracy: 0.611    weighted Val loss: 0.2372\n",
      "Epoch: 303   Train loss: 0.1433   Train accuracy: 0.731   Val loss: 0.2031   Val accuracy: 0.611    weighted Val loss: 0.237\n",
      "Epoch: 304   Train loss: 0.1386   Train accuracy: 0.649   Val loss: 0.2018   Val accuracy: 0.613    weighted Val loss: 0.2369\n",
      "Epoch: 305   Train loss: 0.1385   Train accuracy: 0.676   Val loss: 0.214   Val accuracy: 0.595    weighted Val loss: 0.2367\n",
      "Epoch: 306   Train loss: 0.1405   Train accuracy: 0.629   Val loss: 0.2035   Val accuracy: 0.604    weighted Val loss: 0.2366\n",
      "Epoch: 307   Train loss: 0.154   Train accuracy: 0.688   Val loss: 0.2058   Val accuracy: 0.587    weighted Val loss: 0.2364\n",
      "Epoch: 308   Train loss: 0.1479   Train accuracy: 0.71   Val loss: 0.2074   Val accuracy: 0.591    weighted Val loss: 0.2363\n",
      "Epoch: 309   Train loss: 0.1446   Train accuracy: 0.754   Val loss: 0.2089   Val accuracy: 0.585    weighted Val loss: 0.2361\n",
      "Epoch: 310   Train loss: 0.1381   Train accuracy: 0.754   Val loss: 0.2035   Val accuracy: 0.586    weighted Val loss: 0.236\n",
      "Epoch: 311   Train loss: 0.1482   Train accuracy: 0.694   Val loss: 0.2122   Val accuracy: 0.581    weighted Val loss: 0.2359\n",
      "Epoch: 312   Train loss: 0.1373   Train accuracy: 0.732   Val loss: 0.2063   Val accuracy: 0.574    weighted Val loss: 0.2357\n",
      "Epoch: 313   Train loss: 0.1392   Train accuracy: 0.73   Val loss: 0.2045   Val accuracy: 0.581    weighted Val loss: 0.2356\n",
      "Epoch: 314   Train loss: 0.1501   Train accuracy: 0.731   Val loss: 0.2043   Val accuracy: 0.581    weighted Val loss: 0.2354\n",
      "Epoch: 315   Train loss: 0.1411   Train accuracy: 0.733   Val loss: 0.2247   Val accuracy: 0.575    weighted Val loss: 0.2353\n",
      "Epoch: 316   Train loss: 0.1425   Train accuracy: 0.647   Val loss: 0.2003   Val accuracy: 0.613    weighted Val loss: 0.2352\n",
      "Epoch: 317   Train loss: 0.1355   Train accuracy: 0.763   Val loss: 0.2164   Val accuracy: 0.58    weighted Val loss: 0.2351\n",
      "Epoch: 318   Train loss: 0.1432   Train accuracy: 0.702   Val loss: 0.2019   Val accuracy: 0.582    weighted Val loss: 0.2349\n",
      "Epoch: 319   Train loss: 0.1464   Train accuracy: 0.695   Val loss: 0.2105   Val accuracy: 0.584    weighted Val loss: 0.2348\n",
      "Epoch: 320   Train loss: 0.1519   Train accuracy: 0.644   Val loss: 0.2017   Val accuracy: 0.585    weighted Val loss: 0.2346\n",
      "Epoch: 321   Train loss: 0.1419   Train accuracy: 0.701   Val loss: 0.2065   Val accuracy: 0.593    weighted Val loss: 0.2345\n",
      "Epoch: 322   Train loss: 0.144   Train accuracy: 0.663   Val loss: 0.2027   Val accuracy: 0.603    weighted Val loss: 0.2343\n",
      "Epoch: 323   Train loss: 0.1442   Train accuracy: 0.63   Val loss: 0.2021   Val accuracy: 0.587    weighted Val loss: 0.2342\n",
      "Epoch: 324   Train loss: 0.1487   Train accuracy: 0.708   Val loss: 0.2066   Val accuracy: 0.586    weighted Val loss: 0.234\n",
      "Epoch: 325   Train loss: 0.1516   Train accuracy: 0.722   Val loss: 0.201   Val accuracy: 0.587    weighted Val loss: 0.2339\n",
      "Epoch: 326   Train loss: 0.1349   Train accuracy: 0.707   Val loss: 0.1975   Val accuracy: 0.598    weighted Val loss: 0.2337\n",
      "Epoch: 327   Train loss: 0.1508   Train accuracy: 0.706   Val loss: 0.2044   Val accuracy: 0.61    weighted Val loss: 0.2335\n",
      "Epoch: 328   Train loss: 0.1394   Train accuracy: 0.714   Val loss: 0.1974   Val accuracy: 0.607    weighted Val loss: 0.2333\n",
      "Epoch: 329   Train loss: 0.1466   Train accuracy: 0.713   Val loss: 0.2022   Val accuracy: 0.594    weighted Val loss: 0.2332\n",
      "Epoch: 330   Train loss: 0.1389   Train accuracy: 0.635   Val loss: 0.2066   Val accuracy: 0.583    weighted Val loss: 0.2331\n",
      "Epoch: 331   Train loss: 0.1367   Train accuracy: 0.703   Val loss: 0.2062   Val accuracy: 0.597    weighted Val loss: 0.2329\n",
      "Epoch: 332   Train loss: 0.1311   Train accuracy: 0.765   Val loss: 0.204   Val accuracy: 0.61    weighted Val loss: 0.2328\n",
      "Epoch: 333   Train loss: 0.1334   Train accuracy: 0.757   Val loss: 0.2074   Val accuracy: 0.589    weighted Val loss: 0.2327\n",
      "Epoch: 334   Train loss: 0.1464   Train accuracy: 0.711   Val loss: 0.2107   Val accuracy: 0.594    weighted Val loss: 0.2325\n",
      "Epoch: 335   Train loss: 0.138   Train accuracy: 0.71   Val loss: 0.2082   Val accuracy: 0.569    weighted Val loss: 0.2324\n",
      "Epoch: 336   Train loss: 0.1396   Train accuracy: 0.718   Val loss: 0.2091   Val accuracy: 0.556    weighted Val loss: 0.2323\n",
      "Epoch: 337   Train loss: 0.1368   Train accuracy: 0.708   Val loss: 0.2045   Val accuracy: 0.569    weighted Val loss: 0.2322\n",
      "Epoch: 338   Train loss: 0.144   Train accuracy: 0.677   Val loss: 0.2065   Val accuracy: 0.575    weighted Val loss: 0.232\n",
      "Epoch: 339   Train loss: 0.1368   Train accuracy: 0.766   Val loss: 0.2049   Val accuracy: 0.59    weighted Val loss: 0.2319\n",
      "Epoch: 340   Train loss: 0.1363   Train accuracy: 0.76   Val loss: 0.2028   Val accuracy: 0.596    weighted Val loss: 0.2318\n",
      "Epoch: 341   Train loss: 0.1331   Train accuracy: 0.767   Val loss: 0.2035   Val accuracy: 0.59    weighted Val loss: 0.2316\n",
      "Epoch: 342   Train loss: 0.1375   Train accuracy: 0.752   Val loss: 0.1983   Val accuracy: 0.599    weighted Val loss: 0.2314\n",
      "Epoch: 343   Train loss: 0.151   Train accuracy: 0.69   Val loss: 0.213   Val accuracy: 0.593    weighted Val loss: 0.2314\n",
      "Epoch: 344   Train loss: 0.1388   Train accuracy: 0.735   Val loss: 0.2012   Val accuracy: 0.6    weighted Val loss: 0.2312\n",
      "Epoch: 345   Train loss: 0.1407   Train accuracy: 0.697   Val loss: 0.2019   Val accuracy: 0.609    weighted Val loss: 0.2311\n",
      "Epoch: 346   Train loss: 0.1651   Train accuracy: 0.663   Val loss: 0.2152   Val accuracy: 0.594    weighted Val loss: 0.231\n",
      "Epoch: 347   Train loss: 0.1425   Train accuracy: 0.692   Val loss: 0.2021   Val accuracy: 0.591    weighted Val loss: 0.2308\n",
      "Epoch: 348   Train loss: 0.1313   Train accuracy: 0.653   Val loss: 0.2125   Val accuracy: 0.583    weighted Val loss: 0.2307\n",
      "Epoch: 349   Train loss: 0.1433   Train accuracy: 0.697   Val loss: 0.1981   Val accuracy: 0.595    weighted Val loss: 0.2306\n",
      "Epoch: 350   Train loss: 0.134   Train accuracy: 0.74   Val loss: 0.2036   Val accuracy: 0.596    weighted Val loss: 0.2304\n",
      "Epoch: 351   Train loss: 0.1423   Train accuracy: 0.723   Val loss: 0.2068   Val accuracy: 0.595    weighted Val loss: 0.2303\n",
      "Epoch: 352   Train loss: 0.1441   Train accuracy: 0.72   Val loss: 0.1989   Val accuracy: 0.59    weighted Val loss: 0.2302\n",
      "Epoch: 353   Train loss: 0.1601   Train accuracy: 0.724   Val loss: 0.2079   Val accuracy: 0.588    weighted Val loss: 0.2301\n",
      "Epoch: 354   Train loss: 0.1388   Train accuracy: 0.765   Val loss: 0.2062   Val accuracy: 0.593    weighted Val loss: 0.2299\n",
      "Epoch: 355   Train loss: 0.145   Train accuracy: 0.682   Val loss: 0.2051   Val accuracy: 0.581    weighted Val loss: 0.2298\n",
      "Epoch: 356   Train loss: 0.1487   Train accuracy: 0.688   Val loss: 0.2053   Val accuracy: 0.577    weighted Val loss: 0.2297\n",
      "Epoch: 357   Train loss: 0.1445   Train accuracy: 0.751   Val loss: 0.2213   Val accuracy: 0.585    weighted Val loss: 0.2297\n",
      "Epoch: 358   Train loss: 0.1511   Train accuracy: 0.661   Val loss: 0.1999   Val accuracy: 0.591    weighted Val loss: 0.2295\n",
      "Epoch: 359   Train loss: 0.139   Train accuracy: 0.765   Val loss: 0.2168   Val accuracy: 0.573    weighted Val loss: 0.2294\n",
      "Epoch: 360   Train loss: 0.1441   Train accuracy: 0.683   Val loss: 0.2083   Val accuracy: 0.584    weighted Val loss: 0.2293\n",
      "Epoch: 361   Train loss: 0.1416   Train accuracy: 0.62   Val loss: 0.2081   Val accuracy: 0.585    weighted Val loss: 0.2292\n",
      "Epoch: 362   Train loss: 0.1355   Train accuracy: 0.711   Val loss: 0.2044   Val accuracy: 0.59    weighted Val loss: 0.2291\n",
      "Epoch: 363   Train loss: 0.1464   Train accuracy: 0.679   Val loss: 0.2043   Val accuracy: 0.588    weighted Val loss: 0.229\n",
      "Epoch: 364   Train loss: 0.1358   Train accuracy: 0.706   Val loss: 0.2101   Val accuracy: 0.587    weighted Val loss: 0.2289\n",
      "Epoch: 365   Train loss: 0.1424   Train accuracy: 0.67   Val loss: 0.203   Val accuracy: 0.592    weighted Val loss: 0.2288\n",
      "Epoch: 366   Train loss: 0.1403   Train accuracy: 0.758   Val loss: 0.215   Val accuracy: 0.581    weighted Val loss: 0.2287\n",
      "Epoch: 367   Train loss: 0.1514   Train accuracy: 0.617   Val loss: 0.2033   Val accuracy: 0.595    weighted Val loss: 0.2286\n",
      "Epoch: 368   Train loss: 0.1504   Train accuracy: 0.699   Val loss: 0.2041   Val accuracy: 0.592    weighted Val loss: 0.2284\n",
      "Epoch: 369   Train loss: 0.1423   Train accuracy: 0.694   Val loss: 0.2074   Val accuracy: 0.591    weighted Val loss: 0.2283\n",
      "Epoch: 370   Train loss: 0.1409   Train accuracy: 0.713   Val loss: 0.2122   Val accuracy: 0.579    weighted Val loss: 0.2283\n",
      "Epoch: 371   Train loss: 0.1398   Train accuracy: 0.758   Val loss: 0.2028   Val accuracy: 0.598    weighted Val loss: 0.2281\n",
      "Epoch: 372   Train loss: 0.1375   Train accuracy: 0.722   Val loss: 0.2095   Val accuracy: 0.591    weighted Val loss: 0.228\n",
      "Epoch: 373   Train loss: 0.1375   Train accuracy: 0.766   Val loss: 0.2074   Val accuracy: 0.582    weighted Val loss: 0.2279\n",
      "Epoch: 374   Train loss: 0.1336   Train accuracy: 0.742   Val loss: 0.2093   Val accuracy: 0.599    weighted Val loss: 0.2278\n",
      "Epoch: 375   Train loss: 0.1338   Train accuracy: 0.748   Val loss: 0.2152   Val accuracy: 0.591    weighted Val loss: 0.2278\n",
      "Epoch: 376   Train loss: 0.1483   Train accuracy: 0.617   Val loss: 0.2041   Val accuracy: 0.605    weighted Val loss: 0.2277\n",
      "Epoch: 377   Train loss: 0.1386   Train accuracy: 0.645   Val loss: 0.2141   Val accuracy: 0.571    weighted Val loss: 0.2276\n",
      "Epoch: 378   Train loss: 0.1447   Train accuracy: 0.633   Val loss: 0.2055   Val accuracy: 0.59    weighted Val loss: 0.2275\n",
      "Epoch: 379   Train loss: 0.1453   Train accuracy: 0.701   Val loss: 0.2101   Val accuracy: 0.567    weighted Val loss: 0.2274\n",
      "Epoch: 380   Train loss: 0.1334   Train accuracy: 0.73   Val loss: 0.2037   Val accuracy: 0.586    weighted Val loss: 0.2273\n",
      "Epoch: 381   Train loss: 0.1352   Train accuracy: 0.69   Val loss: 0.2115   Val accuracy: 0.603    weighted Val loss: 0.2272\n",
      "Epoch: 382   Train loss: 0.1474   Train accuracy: 0.678   Val loss: 0.2001   Val accuracy: 0.607    weighted Val loss: 0.2271\n",
      "Epoch: 383   Train loss: 0.1296   Train accuracy: 0.754   Val loss: 0.2126   Val accuracy: 0.59    weighted Val loss: 0.227\n",
      "Epoch: 384   Train loss: 0.1355   Train accuracy: 0.703   Val loss: 0.2023   Val accuracy: 0.585    weighted Val loss: 0.2269\n",
      "Epoch: 385   Train loss: 0.1511   Train accuracy: 0.698   Val loss: 0.208   Val accuracy: 0.591    weighted Val loss: 0.2268\n",
      "Epoch: 386   Train loss: 0.1487   Train accuracy: 0.769   Val loss: 0.2061   Val accuracy: 0.585    weighted Val loss: 0.2267\n",
      "Epoch: 387   Train loss: 0.139   Train accuracy: 0.674   Val loss: 0.2086   Val accuracy: 0.565    weighted Val loss: 0.2266\n",
      "Epoch: 388   Train loss: 0.1403   Train accuracy: 0.759   Val loss: 0.2092   Val accuracy: 0.57    weighted Val loss: 0.2265\n",
      "Epoch: 389   Train loss: 0.1338   Train accuracy: 0.681   Val loss: 0.2   Val accuracy: 0.586    weighted Val loss: 0.2264\n",
      "Epoch: 390   Train loss: 0.1442   Train accuracy: 0.741   Val loss: 0.2069   Val accuracy: 0.585    weighted Val loss: 0.2263\n",
      "Epoch: 391   Train loss: 0.1423   Train accuracy: 0.718   Val loss: 0.2004   Val accuracy: 0.589    weighted Val loss: 0.2261\n",
      "Epoch: 392   Train loss: 0.1345   Train accuracy: 0.739   Val loss: 0.2069   Val accuracy: 0.599    weighted Val loss: 0.226\n",
      "Epoch: 393   Train loss: 0.1312   Train accuracy: 0.644   Val loss: 0.2053   Val accuracy: 0.585    weighted Val loss: 0.2259\n",
      "Epoch: 394   Train loss: 0.1344   Train accuracy: 0.73   Val loss: 0.2049   Val accuracy: 0.583    weighted Val loss: 0.2258\n",
      "Epoch: 395   Train loss: 0.1274   Train accuracy: 0.742   Val loss: 0.2053   Val accuracy: 0.584    weighted Val loss: 0.2257\n",
      "Epoch: 396   Train loss: 0.1457   Train accuracy: 0.726   Val loss: 0.2047   Val accuracy: 0.588    weighted Val loss: 0.2256\n",
      "Epoch: 397   Train loss: 0.1349   Train accuracy: 0.737   Val loss: 0.205   Val accuracy: 0.589    weighted Val loss: 0.2255\n",
      "Epoch: 398   Train loss: 0.1339   Train accuracy: 0.689   Val loss: 0.2018   Val accuracy: 0.597    weighted Val loss: 0.2254\n",
      "Epoch: 399   Train loss: 0.1387   Train accuracy: 0.764   Val loss: 0.204   Val accuracy: 0.594    weighted Val loss: 0.2253\n",
      "Epoch: 400   Train loss: 0.1407   Train accuracy: 0.631   Val loss: 0.2049   Val accuracy: 0.591    weighted Val loss: 0.2252\n",
      "Epoch: 401   Train loss: 0.1362   Train accuracy: 0.713   Val loss: 0.2017   Val accuracy: 0.597    weighted Val loss: 0.2251\n",
      "Epoch: 402   Train loss: 0.1243   Train accuracy: 0.755   Val loss: 0.2069   Val accuracy: 0.604    weighted Val loss: 0.225\n",
      "Epoch: 403   Train loss: 0.14   Train accuracy: 0.656   Val loss: 0.1979   Val accuracy: 0.603    weighted Val loss: 0.2248\n",
      "Epoch: 404   Train loss: 0.1415   Train accuracy: 0.725   Val loss: 0.2012   Val accuracy: 0.584    weighted Val loss: 0.2247\n",
      "Epoch: 405   Train loss: 0.1474   Train accuracy: 0.71   Val loss: 0.2042   Val accuracy: 0.586    weighted Val loss: 0.2246\n",
      "Epoch: 406   Train loss: 0.1401   Train accuracy: 0.776   Val loss: 0.2012   Val accuracy: 0.598    weighted Val loss: 0.2245\n",
      "Epoch: 407   Train loss: 0.144   Train accuracy: 0.706   Val loss: 0.2009   Val accuracy: 0.585    weighted Val loss: 0.2244\n",
      "Epoch: 408   Train loss: 0.1306   Train accuracy: 0.776   Val loss: 0.2071   Val accuracy: 0.59    weighted Val loss: 0.2243\n",
      "Epoch: 409   Train loss: 0.1415   Train accuracy: 0.695   Val loss: 0.2008   Val accuracy: 0.593    weighted Val loss: 0.2242\n",
      "Epoch: 410   Train loss: 0.1396   Train accuracy: 0.714   Val loss: 0.2055   Val accuracy: 0.597    weighted Val loss: 0.2241\n",
      "Epoch: 411   Train loss: 0.1427   Train accuracy: 0.775   Val loss: 0.2041   Val accuracy: 0.584    weighted Val loss: 0.224\n",
      "Epoch: 412   Train loss: 0.1399   Train accuracy: 0.682   Val loss: 0.2007   Val accuracy: 0.586    weighted Val loss: 0.2239\n",
      "Epoch: 413   Train loss: 0.1372   Train accuracy: 0.749   Val loss: 0.2125   Val accuracy: 0.573    weighted Val loss: 0.2238\n",
      "Epoch: 414   Train loss: 0.1338   Train accuracy: 0.653   Val loss: 0.2035   Val accuracy: 0.579    weighted Val loss: 0.2237\n",
      "Epoch: 415   Train loss: 0.145   Train accuracy: 0.727   Val loss: 0.2059   Val accuracy: 0.588    weighted Val loss: 0.2236\n",
      "Epoch: 416   Train loss: 0.1352   Train accuracy: 0.705   Val loss: 0.2109   Val accuracy: 0.586    weighted Val loss: 0.2236\n",
      "Epoch: 417   Train loss: 0.1553   Train accuracy: 0.694   Val loss: 0.1998   Val accuracy: 0.595    weighted Val loss: 0.2234\n",
      "Epoch: 418   Train loss: 0.1445   Train accuracy: 0.769   Val loss: 0.2127   Val accuracy: 0.589    weighted Val loss: 0.2234\n",
      "Epoch: 419   Train loss: 0.1429   Train accuracy: 0.695   Val loss: 0.1996   Val accuracy: 0.597    weighted Val loss: 0.2233\n",
      "Epoch: 420   Train loss: 0.1389   Train accuracy: 0.757   Val loss: 0.2214   Val accuracy: 0.588    weighted Val loss: 0.2233\n",
      "Epoch: 421   Train loss: 0.1409   Train accuracy: 0.734   Val loss: 0.2032   Val accuracy: 0.593    weighted Val loss: 0.2232\n",
      "Epoch: 422   Train loss: 0.1482   Train accuracy: 0.65   Val loss: 0.2048   Val accuracy: 0.608    weighted Val loss: 0.2231\n",
      "Epoch: 423   Train loss: 0.1415   Train accuracy: 0.698   Val loss: 0.2054   Val accuracy: 0.593    weighted Val loss: 0.223\n",
      "Epoch: 424   Train loss: 0.1274   Train accuracy: 0.727   Val loss: 0.2031   Val accuracy: 0.595    weighted Val loss: 0.2229\n",
      "Epoch: 425   Train loss: 0.131   Train accuracy: 0.754   Val loss: 0.2005   Val accuracy: 0.581    weighted Val loss: 0.2228\n",
      "Epoch: 426   Train loss: 0.1407   Train accuracy: 0.748   Val loss: 0.2112   Val accuracy: 0.583    weighted Val loss: 0.2227\n",
      "Epoch: 427   Train loss: 0.1302   Train accuracy: 0.732   Val loss: 0.2025   Val accuracy: 0.595    weighted Val loss: 0.2226\n",
      "Epoch: 428   Train loss: 0.1328   Train accuracy: 0.702   Val loss: 0.2046   Val accuracy: 0.602    weighted Val loss: 0.2225\n",
      "Epoch: 429   Train loss: 0.1398   Train accuracy: 0.749   Val loss: 0.2028   Val accuracy: 0.598    weighted Val loss: 0.2224\n",
      "Epoch: 430   Train loss: 0.1317   Train accuracy: 0.772   Val loss: 0.2022   Val accuracy: 0.589    weighted Val loss: 0.2223\n",
      "Epoch: 431   Train loss: 0.1284   Train accuracy: 0.722   Val loss: 0.2072   Val accuracy: 0.59    weighted Val loss: 0.2222\n",
      "Epoch: 432   Train loss: 0.1261   Train accuracy: 0.674   Val loss: 0.2017   Val accuracy: 0.587    weighted Val loss: 0.2221\n",
      "Epoch: 433   Train loss: 0.1382   Train accuracy: 0.682   Val loss: 0.2025   Val accuracy: 0.599    weighted Val loss: 0.222\n",
      "Epoch: 434   Train loss: 0.1329   Train accuracy: 0.751   Val loss: 0.2017   Val accuracy: 0.61    weighted Val loss: 0.2219\n",
      "Epoch: 435   Train loss: 0.1287   Train accuracy: 0.729   Val loss: 0.2038   Val accuracy: 0.602    weighted Val loss: 0.2218\n",
      "Epoch: 436   Train loss: 0.1364   Train accuracy: 0.763   Val loss: 0.2076   Val accuracy: 0.591    weighted Val loss: 0.2218\n",
      "Epoch: 437   Train loss: 0.1473   Train accuracy: 0.727   Val loss: 0.2036   Val accuracy: 0.591    weighted Val loss: 0.2217\n",
      "Epoch: 438   Train loss: 0.1313   Train accuracy: 0.777   Val loss: 0.2089   Val accuracy: 0.584    weighted Val loss: 0.2216\n",
      "Epoch: 439   Train loss: 0.1324   Train accuracy: 0.735   Val loss: 0.2034   Val accuracy: 0.602    weighted Val loss: 0.2215\n",
      "Epoch: 440   Train loss: 0.1391   Train accuracy: 0.751   Val loss: 0.2071   Val accuracy: 0.593    weighted Val loss: 0.2215\n",
      "Epoch: 441   Train loss: 0.1358   Train accuracy: 0.754   Val loss: 0.1988   Val accuracy: 0.597    weighted Val loss: 0.2213\n",
      "Epoch: 442   Train loss: 0.1403   Train accuracy: 0.715   Val loss: 0.2   Val accuracy: 0.611    weighted Val loss: 0.2212\n",
      "Epoch: 443   Train loss: 0.1385   Train accuracy: 0.664   Val loss: 0.2066   Val accuracy: 0.606    weighted Val loss: 0.2212\n",
      "Epoch: 444   Train loss: 0.1335   Train accuracy: 0.673   Val loss: 0.2023   Val accuracy: 0.614    weighted Val loss: 0.2211\n",
      "Epoch: 445   Train loss: 0.1303   Train accuracy: 0.762   Val loss: 0.2048   Val accuracy: 0.605    weighted Val loss: 0.221\n",
      "Epoch: 446   Train loss: 0.1458   Train accuracy: 0.69   Val loss: 0.2056   Val accuracy: 0.614    weighted Val loss: 0.2209\n",
      "Epoch: 447   Train loss: 0.1304   Train accuracy: 0.693   Val loss: 0.2073   Val accuracy: 0.613    weighted Val loss: 0.2208\n",
      "Epoch: 448   Train loss: 0.138   Train accuracy: 0.611   Val loss: 0.2033   Val accuracy: 0.593    weighted Val loss: 0.2208\n",
      "Epoch: 449   Train loss: 0.1359   Train accuracy: 0.74   Val loss: 0.2021   Val accuracy: 0.595    weighted Val loss: 0.2207\n",
      "Epoch: 450   Train loss: 0.1272   Train accuracy: 0.722   Val loss: 0.2012   Val accuracy: 0.605    weighted Val loss: 0.2206\n",
      "Epoch: 451   Train loss: 0.1362   Train accuracy: 0.666   Val loss: 0.2023   Val accuracy: 0.606    weighted Val loss: 0.2205\n",
      "Epoch: 452   Train loss: 0.1287   Train accuracy: 0.759   Val loss: 0.198   Val accuracy: 0.606    weighted Val loss: 0.2204\n",
      "Epoch: 453   Train loss: 0.1249   Train accuracy: 0.743   Val loss: 0.2014   Val accuracy: 0.606    weighted Val loss: 0.2203\n",
      "Epoch: 454   Train loss: 0.1298   Train accuracy: 0.741   Val loss: 0.2   Val accuracy: 0.604    weighted Val loss: 0.2202\n",
      "Epoch: 455   Train loss: 0.1453   Train accuracy: 0.684   Val loss: 0.2031   Val accuracy: 0.602    weighted Val loss: 0.2201\n",
      "Epoch: 456   Train loss: 0.1253   Train accuracy: 0.778   Val loss: 0.2049   Val accuracy: 0.613    weighted Val loss: 0.22\n",
      "Epoch: 457   Train loss: 0.1378   Train accuracy: 0.75   Val loss: 0.2023   Val accuracy: 0.603    weighted Val loss: 0.2199\n",
      "Epoch: 458   Train loss: 0.1386   Train accuracy: 0.758   Val loss: 0.2092   Val accuracy: 0.612    weighted Val loss: 0.2199\n",
      "Epoch: 459   Train loss: 0.1323   Train accuracy: 0.659   Val loss: 0.2003   Val accuracy: 0.623    weighted Val loss: 0.2198\n",
      "0.623 ----------saved-----------\n",
      "Epoch: 460   Train loss: 0.1371   Train accuracy: 0.724   Val loss: 0.2001   Val accuracy: 0.62    weighted Val loss: 0.2197\n",
      "Epoch: 461   Train loss: 0.1471   Train accuracy: 0.705   Val loss: 0.2099   Val accuracy: 0.6    weighted Val loss: 0.2196\n",
      "Epoch: 462   Train loss: 0.1323   Train accuracy: 0.748   Val loss: 0.2013   Val accuracy: 0.607    weighted Val loss: 0.2195\n",
      "Epoch: 463   Train loss: 0.1426   Train accuracy: 0.694   Val loss: 0.2014   Val accuracy: 0.639    weighted Val loss: 0.2194\n",
      "0.639 ----------saved-----------\n",
      "Epoch: 464   Train loss: 0.1211   Train accuracy: 0.759   Val loss: 0.2055   Val accuracy: 0.624    weighted Val loss: 0.2194\n",
      "Epoch: 465   Train loss: 0.1373   Train accuracy: 0.738   Val loss: 0.1998   Val accuracy: 0.615    weighted Val loss: 0.2193\n",
      "Epoch: 466   Train loss: 0.1353   Train accuracy: 0.742   Val loss: 0.2035   Val accuracy: 0.598    weighted Val loss: 0.2192\n",
      "Epoch: 467   Train loss: 0.1233   Train accuracy: 0.699   Val loss: 0.2034   Val accuracy: 0.608    weighted Val loss: 0.2191\n",
      "Epoch: 468   Train loss: 0.1301   Train accuracy: 0.759   Val loss: 0.2041   Val accuracy: 0.605    weighted Val loss: 0.219\n",
      "Epoch: 469   Train loss: 0.1355   Train accuracy: 0.689   Val loss: 0.2065   Val accuracy: 0.598    weighted Val loss: 0.219\n",
      "Epoch: 470   Train loss: 0.1305   Train accuracy: 0.752   Val loss: 0.2053   Val accuracy: 0.607    weighted Val loss: 0.2189\n",
      "Epoch: 471   Train loss: 0.1435   Train accuracy: 0.713   Val loss: 0.2072   Val accuracy: 0.594    weighted Val loss: 0.2188\n",
      "Epoch: 472   Train loss: 0.1514   Train accuracy: 0.754   Val loss: 0.2053   Val accuracy: 0.594    weighted Val loss: 0.2188\n",
      "Epoch: 473   Train loss: 0.1327   Train accuracy: 0.754   Val loss: 0.2064   Val accuracy: 0.59    weighted Val loss: 0.2187\n",
      "Epoch: 474   Train loss: 0.1408   Train accuracy: 0.697   Val loss: 0.2026   Val accuracy: 0.594    weighted Val loss: 0.2186\n",
      "Epoch: 475   Train loss: 0.1292   Train accuracy: 0.747   Val loss: 0.2019   Val accuracy: 0.592    weighted Val loss: 0.2186\n",
      "Epoch: 476   Train loss: 0.1303   Train accuracy: 0.789   Val loss: 0.2055   Val accuracy: 0.594    weighted Val loss: 0.2185\n",
      "Epoch: 477   Train loss: 0.1274   Train accuracy: 0.748   Val loss: 0.2001   Val accuracy: 0.601    weighted Val loss: 0.2184\n",
      "Epoch: 478   Train loss: 0.1306   Train accuracy: 0.762   Val loss: 0.201   Val accuracy: 0.606    weighted Val loss: 0.2183\n",
      "Epoch: 479   Train loss: 0.1364   Train accuracy: 0.759   Val loss: 0.2032   Val accuracy: 0.618    weighted Val loss: 0.2182\n",
      "Epoch: 480   Train loss: 0.1296   Train accuracy: 0.758   Val loss: 0.2016   Val accuracy: 0.587    weighted Val loss: 0.2181\n",
      "Epoch: 481   Train loss: 0.1348   Train accuracy: 0.656   Val loss: 0.1967   Val accuracy: 0.59    weighted Val loss: 0.218\n",
      "Epoch: 482   Train loss: 0.1342   Train accuracy: 0.769   Val loss: 0.2141   Val accuracy: 0.588    weighted Val loss: 0.218\n",
      "Epoch: 483   Train loss: 0.1305   Train accuracy: 0.732   Val loss: 0.1992   Val accuracy: 0.599    weighted Val loss: 0.2179\n",
      "Epoch: 484   Train loss: 0.1347   Train accuracy: 0.771   Val loss: 0.2069   Val accuracy: 0.591    weighted Val loss: 0.2179\n",
      "Epoch: 485   Train loss: 0.134   Train accuracy: 0.742   Val loss: 0.199   Val accuracy: 0.602    weighted Val loss: 0.2178\n",
      "Epoch: 486   Train loss: 0.1326   Train accuracy: 0.766   Val loss: 0.2065   Val accuracy: 0.596    weighted Val loss: 0.2177\n",
      "Epoch: 487   Train loss: 0.133   Train accuracy: 0.741   Val loss: 0.2019   Val accuracy: 0.598    weighted Val loss: 0.2176\n",
      "Epoch: 488   Train loss: 0.1398   Train accuracy: 0.72   Val loss: 0.2016   Val accuracy: 0.616    weighted Val loss: 0.2176\n",
      "Epoch: 489   Train loss: 0.1455   Train accuracy: 0.691   Val loss: 0.1997   Val accuracy: 0.604    weighted Val loss: 0.2175\n",
      "Epoch: 490   Train loss: 0.1317   Train accuracy: 0.79   Val loss: 0.2076   Val accuracy: 0.608    weighted Val loss: 0.2174\n",
      "Epoch: 491   Train loss: 0.1425   Train accuracy: 0.668   Val loss: 0.1998   Val accuracy: 0.601    weighted Val loss: 0.2173\n",
      "Epoch: 492   Train loss: 0.1462   Train accuracy: 0.719   Val loss: 0.2017   Val accuracy: 0.592    weighted Val loss: 0.2173\n",
      "Epoch: 493   Train loss: 0.1264   Train accuracy: 0.739   Val loss: 0.2029   Val accuracy: 0.591    weighted Val loss: 0.2172\n",
      "Epoch: 494   Train loss: 0.1218   Train accuracy: 0.771   Val loss: 0.2064   Val accuracy: 0.59    weighted Val loss: 0.2171\n",
      "Epoch: 495   Train loss: 0.1313   Train accuracy: 0.668   Val loss: 0.2011   Val accuracy: 0.597    weighted Val loss: 0.2171\n",
      "Epoch: 496   Train loss: 0.1347   Train accuracy: 0.749   Val loss: 0.2006   Val accuracy: 0.612    weighted Val loss: 0.217\n",
      "Epoch: 497   Train loss: 0.1432   Train accuracy: 0.725   Val loss: 0.2012   Val accuracy: 0.611    weighted Val loss: 0.2169\n",
      "Epoch: 498   Train loss: 0.1361   Train accuracy: 0.727   Val loss: 0.2014   Val accuracy: 0.606    weighted Val loss: 0.2168\n",
      "Epoch: 499   Train loss: 0.1289   Train accuracy: 0.67   Val loss: 0.2006   Val accuracy: 0.606    weighted Val loss: 0.2167\n",
      "Epoch: 500   Train loss: 0.1375   Train accuracy: 0.757   Val loss: 0.2086   Val accuracy: 0.606    weighted Val loss: 0.2167\n",
      "Epoch: 501   Train loss: 0.1212   Train accuracy: 0.762   Val loss: 0.2017   Val accuracy: 0.602    weighted Val loss: 0.2166\n",
      "Epoch: 502   Train loss: 0.1311   Train accuracy: 0.756   Val loss: 0.2031   Val accuracy: 0.614    weighted Val loss: 0.2165\n",
      "Epoch: 503   Train loss: 0.1313   Train accuracy: 0.789   Val loss: 0.2111   Val accuracy: 0.598    weighted Val loss: 0.2165\n",
      "Epoch: 504   Train loss: 0.1273   Train accuracy: 0.703   Val loss: 0.2004   Val accuracy: 0.598    weighted Val loss: 0.2164\n",
      "Epoch: 505   Train loss: 0.1344   Train accuracy: 0.738   Val loss: 0.2065   Val accuracy: 0.601    weighted Val loss: 0.2164\n",
      "Epoch: 506   Train loss: 0.1266   Train accuracy: 0.764   Val loss: 0.2038   Val accuracy: 0.607    weighted Val loss: 0.2163\n",
      "Epoch: 507   Train loss: 0.1188   Train accuracy: 0.777   Val loss: 0.2044   Val accuracy: 0.603    weighted Val loss: 0.2163\n",
      "Epoch: 508   Train loss: 0.1262   Train accuracy: 0.687   Val loss: 0.2009   Val accuracy: 0.604    weighted Val loss: 0.2162\n",
      "Epoch: 509   Train loss: 0.1358   Train accuracy: 0.763   Val loss: 0.2082   Val accuracy: 0.596    weighted Val loss: 0.2162\n",
      "Epoch: 510   Train loss: 0.1348   Train accuracy: 0.713   Val loss: 0.2017   Val accuracy: 0.612    weighted Val loss: 0.2161\n",
      "Epoch: 511   Train loss: 0.1352   Train accuracy: 0.682   Val loss: 0.2072   Val accuracy: 0.593    weighted Val loss: 0.216\n",
      "Epoch: 512   Train loss: 0.1362   Train accuracy: 0.693   Val loss: 0.1983   Val accuracy: 0.614    weighted Val loss: 0.2159\n",
      "Epoch: 513   Train loss: 0.1334   Train accuracy: 0.769   Val loss: 0.2197   Val accuracy: 0.599    weighted Val loss: 0.216\n"
     ]
    }
   ],
   "source": [
    "MLPparametersGDE = {\n",
    "    'n_layers':2,\n",
    "    'layer_size_factor':[1, 1], \n",
    "    'dropout':[0.5, 0.3],\n",
    "    'batch_size': 128,\n",
    "    'num_epochs': 900,\n",
    "    'learning_rate': 6e-4,\n",
    "    'weight_decay': 5e-3,\n",
    "    'betas': (0.9, 0.999), \n",
    "    'eps': 1e-08\n",
    "}\n",
    "MLPmodelGDE, _,_, MLPcheckpointGDE = MLP.train_MLP(dm, sim_all[\"GDE_train\"], sim_all[\"GDE_test\"], MLPparametersGDE, acc_fn=MLP.F1, autostop_decay = 0.995, print_summary = True)"
   ]
  },
  {
   "cell_type": "code",
   "execution_count": 32,
   "metadata": {},
   "outputs": [
    {
     "name": "stdout",
     "output_type": "stream",
     "text": [
      "model saved\n"
     ]
    }
   ],
   "source": [
    "#optional: save the model\n",
    "MLP.save_ckp(MLPcheckpointGDE, \"models/MLPGDE620_1.pt\")"
   ]
  },
  {
   "cell_type": "markdown",
   "metadata": {},
   "source": [
    "###### Result"
   ]
  },
  {
   "cell_type": "code",
   "execution_count": 33,
   "metadata": {},
   "outputs": [
    {
     "name": "stdout",
     "output_type": "stream",
     "text": [
      "threshold: 0.05  validation loss: 0.2014 F1 accuracy 0.394 Precision accuracy 0.259 Recall accuracy 0.824 AUC accuracy: 0.882\n",
      "threshold: 0.1  validation loss: 0.2014 F1 accuracy 0.528 Precision accuracy 0.428 Recall accuracy 0.69 AUC accuracy: 0.882\n",
      "threshold: 0.15  validation loss: 0.2014 F1 accuracy 0.585 Precision accuracy 0.585 Recall accuracy 0.585 AUC accuracy: 0.882\n",
      "threshold: 0.2  validation loss: 0.2014 F1 accuracy 0.618 Precision accuracy 0.684 Recall accuracy 0.563 AUC accuracy: 0.882\n",
      "threshold: 0.25  validation loss: 0.2014 F1 accuracy 0.639 Precision accuracy 0.792 Recall accuracy 0.535 AUC accuracy: 0.882\n",
      "threshold: 0.3  validation loss: 0.2014 F1 accuracy 0.602 Precision accuracy 0.81 Recall accuracy 0.479 AUC accuracy: 0.882\n",
      "threshold: 0.35  validation loss: 0.2014 F1 accuracy 0.566 Precision accuracy 0.857 Recall accuracy 0.423 AUC accuracy: 0.882\n",
      "threshold: 0.4  validation loss: 0.2014 F1 accuracy 0.553 Precision accuracy 0.891 Recall accuracy 0.401 AUC accuracy: 0.882\n",
      "threshold: 0.45  validation loss: 0.2014 F1 accuracy 0.503 Precision accuracy 0.925 Recall accuracy 0.345 AUC accuracy: 0.882\n",
      "threshold: 0.5  validation loss: 0.2014 F1 accuracy 0.49 Precision accuracy 0.94 Recall accuracy 0.331 AUC accuracy: 0.882\n",
      "threshold: 0.55  validation loss: 0.2014 F1 accuracy 0.457 Precision accuracy 0.935 Recall accuracy 0.303 AUC accuracy: 0.882\n",
      "threshold: 0.6  validation loss: 0.2014 F1 accuracy 0.418 Precision accuracy 0.95 Recall accuracy 0.268 AUC accuracy: 0.882\n",
      "threshold: 0.65  validation loss: 0.2014 F1 accuracy 0.411 Precision accuracy 0.974 Recall accuracy 0.261 AUC accuracy: 0.882\n",
      "threshold: 0.7  validation loss: 0.2014 F1 accuracy 0.395 Precision accuracy 1.0 Recall accuracy 0.246 AUC accuracy: 0.882\n",
      "threshold: 0.75  validation loss: 0.2014 F1 accuracy 0.358 Precision accuracy 1.0 Recall accuracy 0.218 AUC accuracy: 0.882\n",
      "threshold: 0.8  validation loss: 0.2014 F1 accuracy 0.299 Precision accuracy 1.0 Recall accuracy 0.176 AUC accuracy: 0.882\n",
      "threshold: 0.85  validation loss: 0.2014 F1 accuracy 0.258 Precision accuracy 1.0 Recall accuracy 0.148 AUC accuracy: 0.882\n",
      "threshold: 0.9  validation loss: 0.2014 F1 accuracy 0.191 Precision accuracy 1.0 Recall accuracy 0.106 AUC accuracy: 0.882\n",
      "threshold: 0.95  validation loss: 0.2014 F1 accuracy 0.119 Precision accuracy 1.0 Recall accuracy 0.063 AUC accuracy: 0.882\n"
     ]
    }
   ],
   "source": [
    "for i in range(5,100, 5):\n",
    "    t = i/100;\n",
    "    MLP.eval_mlp(MLPmodelGDE, sim_all[\"GDE_test\"], dm, device_name = 'cuda', threshold = t)"
   ]
  },
  {
   "cell_type": "code",
   "execution_count": null,
   "metadata": {},
   "outputs": [],
   "source": []
  },
  {
   "cell_type": "code",
   "execution_count": null,
   "metadata": {},
   "outputs": [],
   "source": []
  }
 ],
 "metadata": {
  "kernelspec": {
   "display_name": "Python 3",
   "language": "python",
   "name": "python3"
  },
  "language_info": {
   "codemirror_mode": {
    "name": "ipython",
    "version": 3
   },
   "file_extension": ".py",
   "mimetype": "text/x-python",
   "name": "python",
   "nbconvert_exporter": "python",
   "pygments_lexer": "ipython3",
   "version": "3.8.5"
  }
 },
 "nbformat": 4,
 "nbformat_minor": 4
}
