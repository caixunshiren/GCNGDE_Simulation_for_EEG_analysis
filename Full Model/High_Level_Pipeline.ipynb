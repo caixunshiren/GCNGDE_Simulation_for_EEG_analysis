{
 "cells": [
  {
   "cell_type": "markdown",
   "metadata": {},
   "source": [
    "# High Level Pipline for GCN and GNODE for Brain State Identification"
   ]
  },
  {
   "cell_type": "markdown",
   "metadata": {},
   "source": [
    "## Pipeline Overview"
   ]
  },
  {
   "cell_type": "markdown",
   "metadata": {},
   "source": [
    "### 1.1 Adjacency Matrix Generation ---> **2.1 Unsupervised GCN** ---> 3.1 Supervised MLP"
   ]
  },
  {
   "cell_type": "markdown",
   "metadata": {},
   "source": [
    "### 1.1 Adjacency Matrix Generation ---> **2.2 Unsupervised GNODE** ---> 3.1 Supervised MLP"
   ]
  },
  {
   "cell_type": "markdown",
   "metadata": {},
   "source": [
    "[Introduction and overview should be written here]"
   ]
  },
  {
   "cell_type": "markdown",
   "metadata": {},
   "source": [
    "#### High Level Classes imported:"
   ]
  },
  {
   "cell_type": "markdown",
   "metadata": {},
   "source": [
    "DataManager.py DataManagerUtil.py : [insert description here]"
   ]
  },
  {
   "cell_type": "markdown",
   "metadata": {},
   "source": [
    "GCN.py GCNutil.py : [insert description here]"
   ]
  },
  {
   "cell_type": "markdown",
   "metadata": {},
   "source": [
    "GDE.py GDEutil.py GDEsolvers.py : [insert description here]"
   ]
  },
  {
   "cell_type": "markdown",
   "metadata": {},
   "source": [
    "MLP.py : [insert description here]"
   ]
  },
  {
   "cell_type": "code",
   "execution_count": 1,
   "metadata": {},
   "outputs": [],
   "source": [
    "%reload_ext autoreload\n",
    "%autoreload 2\n",
    "#Custom Files\n",
    "from DataManager import dataManager\n",
    "from DataManagerUtil import *\n",
    "import GCN as GCN\n",
    "import GCNutil as GCNutil\n",
    "import GDE as GDE\n",
    "import GDEutil as GDEutil\n",
    "import GDEsolvers as GDEsolvers\n",
    "import MLP as MLP\n",
    "\n",
    "#Standard Libraries\n",
    "# Torch\n",
    "import torch\n",
    "import torch.autograd\n",
    "import torch.nn as nn\n",
    "import torch.nn.functional as F\n",
    "#Numpy\n",
    "import numpy as np"
   ]
  },
  {
   "cell_type": "markdown",
   "metadata": {},
   "source": [
    "#### Dataset:"
   ]
  },
  {
   "cell_type": "markdown",
   "metadata": {},
   "source": [
    "[A short description here]"
   ]
  },
  {
   "cell_type": "code",
   "execution_count": 2,
   "metadata": {},
   "outputs": [
    {
     "name": "stdout",
     "output_type": "stream",
     "text": [
      "name: X_test\n",
      "shape: (640, 35, 2649)\n",
      "-----------------------\n",
      "name: X_train\n",
      "shape: (640, 35, 2564)\n",
      "-----------------------\n",
      "name: clip_sizes_test\n",
      "shape: (2, 102)\n",
      "-----------------------\n",
      "name: clip_sizes_train\n",
      "shape: (2, 101)\n",
      "-----------------------\n",
      "name: conv_sizes\n",
      "shape: (1, 1)\n",
      "-----------------------\n",
      "name: n_pre_szr\n",
      "shape: (1, 1)\n",
      "-----------------------\n",
      "name: sel_win_nums_test\n",
      "shape: (1, 2649)\n",
      "-----------------------\n",
      "name: sel_win_nums_train\n",
      "shape: (1, 2564)\n",
      "-----------------------\n",
      "name: soz_ch_ids\n",
      "shape: (7, 1)\n",
      "-----------------------\n",
      "name: stride_sec\n",
      "shape: (1, 1)\n",
      "-----------------------\n",
      "name: window_size_sec\n",
      "shape: (1, 1)\n",
      "-----------------------\n",
      "name: y_test\n",
      "shape: (1, 2649)\n",
      "-----------------------\n",
      "name: y_train\n",
      "shape: (1, 2564)\n",
      "-----------------------\n",
      "print sample EGG signal from one node:\n"
     ]
    },
    {
     "data": {
      "image/png": "[encoded data removed]",
      "text/plain": [
       "<Figure size 432x288 with 1 Axes>"
      ]
     },
     "metadata": {
      "needs_background": "light"
     },
     "output_type": "display_data"
    }
   ],
   "source": [
    "#Loading everything from the dataset\n",
    "filepath = 'datasets\\pat_FR_273.mat' #264 253 620 273\n",
    "variables = load_patient_data(filepath, verbose = True)"
   ]
  },
  {
   "cell_type": "code",
   "execution_count": 32,
   "metadata": {
    "collapsed": true,
    "jupyter": {
     "outputs_hidden": true
    }
   },
   "outputs": [
    {
     "ename": "KeyboardInterrupt",
     "evalue": "",
     "output_type": "error",
     "traceback": [
      "\u001b[1;31m---------------------------------------------------------------------------\u001b[0m",
      "\u001b[1;31mKeyboardInterrupt\u001b[0m                         Traceback (most recent call last)",
      "\u001b[1;32m<ipython-input-32-ecfec4f0bfb7>\u001b[0m in \u001b[0;36m<module>\u001b[1;34m\u001b[0m\n\u001b[0;32m      1\u001b[0m \u001b[1;31m#OPTIONAL: Shuffle the dataset\u001b[0m\u001b[1;33m\u001b[0m\u001b[1;33m\u001b[0m\u001b[1;33m\u001b[0m\u001b[0m\n\u001b[1;32m----> 2\u001b[1;33m \u001b[0mvariables\u001b[0m\u001b[1;33m,\u001b[0m \u001b[0mindices\u001b[0m \u001b[1;33m=\u001b[0m \u001b[0mshuffle_train_test\u001b[0m\u001b[1;33m(\u001b[0m\u001b[0mvariables\u001b[0m\u001b[1;33m,\u001b[0m \u001b[0mtrain_ratio\u001b[0m \u001b[1;33m=\u001b[0m \u001b[1;36m0.5\u001b[0m\u001b[1;33m,\u001b[0m \u001b[0mprint_summary\u001b[0m \u001b[1;33m=\u001b[0m \u001b[1;32mTrue\u001b[0m\u001b[1;33m)\u001b[0m\u001b[1;33m\u001b[0m\u001b[1;33m\u001b[0m\u001b[0m\n\u001b[0m",
      "\u001b[1;32m~\\Documents\\GitHub\\GCNGDE_Simulation_for_EGG_analysis\\Full Model\\DataManagerUtil.py\u001b[0m in \u001b[0;36mshuffle_train_test\u001b[1;34m(variables, train_ratio, indices, print_summary)\u001b[0m\n\u001b[0;32m     31\u001b[0m     \u001b[0mtraining_idx\u001b[0m\u001b[1;33m,\u001b[0m \u001b[0mtest_idx\u001b[0m \u001b[1;33m=\u001b[0m \u001b[0mindices\u001b[0m\u001b[1;33m[\u001b[0m\u001b[1;33m:\u001b[0m\u001b[0msplit_ind\u001b[0m\u001b[1;33m]\u001b[0m\u001b[1;33m,\u001b[0m \u001b[0mindices\u001b[0m\u001b[1;33m[\u001b[0m\u001b[0msplit_ind\u001b[0m\u001b[1;33m:\u001b[0m\u001b[1;33m]\u001b[0m\u001b[1;33m\u001b[0m\u001b[1;33m\u001b[0m\u001b[0m\n\u001b[0;32m     32\u001b[0m     \u001b[1;31m#print(split_ind, training_idx.shape)\u001b[0m\u001b[1;33m\u001b[0m\u001b[1;33m\u001b[0m\u001b[1;33m\u001b[0m\u001b[0m\n\u001b[1;32m---> 33\u001b[1;33m     \u001b[0mvariables\u001b[0m\u001b[1;33m[\u001b[0m\u001b[1;34m\"X_train\"\u001b[0m\u001b[1;33m]\u001b[0m\u001b[1;33m,\u001b[0m \u001b[0mvariables\u001b[0m\u001b[1;33m[\u001b[0m\u001b[1;34m\"X_test\"\u001b[0m\u001b[1;33m]\u001b[0m \u001b[1;33m=\u001b[0m \u001b[0mdata_all\u001b[0m\u001b[1;33m[\u001b[0m\u001b[1;33m:\u001b[0m\u001b[1;33m,\u001b[0m\u001b[1;33m:\u001b[0m\u001b[1;33m,\u001b[0m\u001b[0mtraining_idx\u001b[0m\u001b[1;33m]\u001b[0m\u001b[1;33m,\u001b[0m \u001b[0mdata_all\u001b[0m\u001b[1;33m[\u001b[0m\u001b[1;33m:\u001b[0m\u001b[1;33m,\u001b[0m\u001b[1;33m:\u001b[0m\u001b[1;33m,\u001b[0m\u001b[0mtest_idx\u001b[0m\u001b[1;33m]\u001b[0m\u001b[1;33m\u001b[0m\u001b[1;33m\u001b[0m\u001b[0m\n\u001b[0m\u001b[0;32m     34\u001b[0m     \u001b[0mvariables\u001b[0m\u001b[1;33m[\u001b[0m\u001b[1;34m\"y_train\"\u001b[0m\u001b[1;33m]\u001b[0m\u001b[1;33m,\u001b[0m \u001b[0mvariables\u001b[0m\u001b[1;33m[\u001b[0m\u001b[1;34m\"y_test\"\u001b[0m\u001b[1;33m]\u001b[0m \u001b[1;33m=\u001b[0m \u001b[0mlabels_all\u001b[0m\u001b[1;33m[\u001b[0m\u001b[1;33m:\u001b[0m\u001b[1;33m,\u001b[0m\u001b[0mtraining_idx\u001b[0m\u001b[1;33m]\u001b[0m\u001b[1;33m,\u001b[0m \u001b[0mlabels_all\u001b[0m\u001b[1;33m[\u001b[0m\u001b[1;33m:\u001b[0m\u001b[1;33m,\u001b[0m\u001b[0mtest_idx\u001b[0m\u001b[1;33m]\u001b[0m\u001b[1;33m\u001b[0m\u001b[1;33m\u001b[0m\u001b[0m\n\u001b[0;32m     35\u001b[0m     \u001b[1;32mif\u001b[0m \u001b[0mprint_summary\u001b[0m\u001b[1;33m:\u001b[0m\u001b[1;33m\u001b[0m\u001b[1;33m\u001b[0m\u001b[0m\n",
      "\u001b[1;31mKeyboardInterrupt\u001b[0m: "
     ]
    }
   ],
   "source": [
    "#OPTIONAL: Shuffle the dataset\n",
    "variables, indices = shuffle_train_test(variables, train_ratio = 0.5, print_summary = True)"
   ]
  },
  {
   "cell_type": "code",
   "execution_count": 101,
   "metadata": {},
   "outputs": [],
   "source": [
    "#OPTIONAL: Remove Overlapping Parts\n",
    "variables = remove_overlap(variables)"
   ]
  },
  {
   "cell_type": "code",
   "execution_count": 5,
   "metadata": {},
   "outputs": [],
   "source": [
    "#save the shuffled indices\n",
    "np.save(\"datasets/indices_253.npy\",indices)"
   ]
  },
  {
   "cell_type": "markdown",
   "metadata": {},
   "source": [
    "$\\;\\;\\;\\;\\;\\;\\;\\;\\;\\;\\;\\;\\;\\;$"
   ]
  },
  {
   "cell_type": "markdown",
   "metadata": {},
   "source": [
    "## 1.1 Adjacency Matrix Generation"
   ]
  },
  {
   "cell_type": "markdown",
   "metadata": {},
   "source": [
    "[short description here]"
   ]
  },
  {
   "cell_type": "markdown",
   "metadata": {},
   "source": [
    "##### 1.1.1 Create the datamanager object that computes the covariance matrix for you."
   ]
  },
  {
   "cell_type": "code",
   "execution_count": 3,
   "metadata": {},
   "outputs": [
    {
     "name": "stdout",
     "output_type": "stream",
     "text": [
      "--------data manager successfully initialized--------\n"
     ]
    }
   ],
   "source": [
    "dm = dataManager(variables[\"X_train\"],variables[\"X_test\"],variables[\"y_train\"],variables[\"y_test\"],10**(-4))"
   ]
  },
  {
   "cell_type": "code",
   "execution_count": 4,
   "metadata": {},
   "outputs": [
    {
     "name": "stdout",
     "output_type": "stream",
     "text": [
      "X_train: shape of(2562, 35, 640)\n",
      "X_test: shape of(2649, 35, 640)\n",
      "Y_train: shape of(2562, 1)\n",
      "Y_test: shape of(2649, 1)\n",
      "A_train: shape of(35, 35)\n",
      "A_test: shape of(35, 35)\n",
      "P_avg_train: shape of(35, 35)\n",
      "P_avg_test: shape of(35, 35)\n",
      "X_train: shape of(2562, 35, 640)\n",
      "X_test: shape of(2649, 35, 640)\n",
      "Y_train: shape of(2562, 1)\n",
      "Y_test: shape of(2649, 1)\n",
      "A_train: shape of(35, 35)\n",
      "A_test: shape of(35, 35)\n",
      "P_avg_train: shape of(35, 35)\n",
      "P_avg_test: shape of(35, 35)\n"
     ]
    }
   ],
   "source": [
    "#reduce redundant nodes\n",
    "#from DataManager import get_label_variance as glv\n",
    "#print(glv(dm.X_train, dm.Y_train))\n",
    "#print(np.argsort(glv(dm.X_train, dm.Y_train)))\n",
    "print(dm)\n",
    "#dm.apply_dvariance_filter(30)\n",
    "print(dm)"
   ]
  },
  {
   "cell_type": "code",
   "execution_count": 5,
   "metadata": {},
   "outputs": [
    {
     "name": "stdout",
     "output_type": "stream",
     "text": [
      "X_train: shape of(2562, 35, 640)\n",
      "X_test: shape of(2649, 35, 640)\n",
      "Y_train: shape of(2562, 1)\n",
      "Y_test: shape of(2649, 1)\n",
      "A_train: shape of(35, 35)\n",
      "A_test: shape of(35, 35)\n",
      "P_avg_train: shape of(35, 35)\n",
      "P_avg_test: shape of(35, 35)\n",
      "X_train: shape of(2562, 35, 640)\n",
      "X_test: shape of(2649, 35, 640)\n",
      "Y_train: shape of(2562, 1)\n",
      "Y_test: shape of(2649, 1)\n",
      "A_train: shape of(35, 35)\n",
      "A_test: shape of(35, 35)\n",
      "P_avg_train: shape of(35, 35)\n",
      "P_avg_test: shape of(35, 35)\n"
     ]
    }
   ],
   "source": [
    "#from DataManager import extend_identity as extend_identity\n",
    "#print(extend_identity(2500,16), extend_identity(2500,16).shape)\n",
    "print(dm)\n",
    "#dm.resize_clip(64)\n",
    "print(dm)"
   ]
  },
  {
   "cell_type": "markdown",
   "metadata": {},
   "source": [
    "##### 1.1.2 Visualize the mean covariance matrix across all training samples"
   ]
  },
  {
   "cell_type": "code",
   "execution_count": 23,
   "metadata": {},
   "outputs": [
    {
     "data": {
      "image/png": "[encoded data removed]",
      "text/plain": [
       "<Figure size 432x288 with 2 Axes>"
      ]
     },
     "metadata": {
      "needs_background": "light"
     },
     "output_type": "display_data"
    },
    {
     "data": {
      "image/png": "[encoded data removed]",
      "text/plain": [
       "<Figure size 432x288 with 2 Axes>"
      ]
     },
     "metadata": {
      "needs_background": "light"
     },
     "output_type": "display_data"
    },
    {
     "data": {
      "image/png": "[encoded data removed]",
      "text/plain": [
       "<Figure size 432x288 with 2 Axes>"
      ]
     },
     "metadata": {
      "needs_background": "light"
     },
     "output_type": "display_data"
    }
   ],
   "source": [
    "show_heat_map(dm.P_avg_train)"
   ]
  },
  {
   "cell_type": "markdown",
   "metadata": {},
   "source": [
    "##### 1.1.3 Create DAD from dm by setting the threshold n. repeating this untill a desireble \"n\" value is found."
   ]
  },
  {
   "cell_type": "code",
   "execution_count": 24,
   "metadata": {},
   "outputs": [
    {
     "data": {
      "image/png": "[encoded data removed]",
      "text/plain": [
       "<Figure size 432x288 with 2 Axes>"
      ]
     },
     "metadata": {
      "needs_background": "light"
     },
     "output_type": "display_data"
    },
    {
     "data": {
      "image/png": "[encoded data removed]",
      "text/plain": [
       "<Figure size 432x288 with 2 Axes>"
      ]
     },
     "metadata": {
      "needs_background": "light"
     },
     "output_type": "display_data"
    }
   ],
   "source": [
    "n = 2.5*10**-4\n",
    "dm.re_threshold(n)\n",
    "show_heat_map(dm.A_train)\n",
    "show_heat_map(create_DAD(dm.A_train))\n",
    "Araw = dm.A_train"
   ]
  },
  {
   "cell_type": "markdown",
   "metadata": {},
   "source": [
    "$\\;\\;\\;\\;\\;\\;\\;\\;\\;\\;\\;\\;\\;\\;$"
   ]
  },
  {
   "cell_type": "markdown",
   "metadata": {},
   "source": [
    "## 2.1 Unsupervised Graph Convolutional Neural Network (GCN)"
   ]
  },
  {
   "cell_type": "markdown",
   "metadata": {},
   "source": [
    "[short description here]"
   ]
  },
  {
   "cell_type": "markdown",
   "metadata": {},
   "source": [
    "##### 2.1.1 Declare Parameters for GCN"
   ]
  },
  {
   "cell_type": "code",
   "execution_count": 25,
   "metadata": {},
   "outputs": [
    {
     "name": "stdout",
     "output_type": "stream",
     "text": [
      "{'body': 640, 'M': 2562, 'batch_size': 512, 'n_layers': 2, 'num_epochs': 1, 'learning_rate': 0.001, 'weight_decay': 0.005}\n"
     ]
    }
   ],
   "source": [
    "#create new model\n",
    "A = create_DAD(Araw)\n",
    "X_train = dm.X_train\n",
    "X_test = dm.X_test\n",
    "GCNparameters = {\n",
    "    'body': dm.X_train.shape[2],\n",
    "    'M': dm.X_train.shape[0],\n",
    "    'batch_size': 512,\n",
    "    'n_layers': 2,\n",
    "    'num_epochs': 1,\n",
    "    'learning_rate': 1e-3,\n",
    "    'weight_decay': 5e-3\n",
    "}\n",
    "print(GCNparameters)\n",
    "GCNcheckpoint = {'parameters': GCNparameters}"
   ]
  },
  {
   "cell_type": "markdown",
   "metadata": {},
   "source": [
    "##### 2.1.2 Train GCN"
   ]
  },
  {
   "cell_type": "code",
   "execution_count": 26,
   "metadata": {},
   "outputs": [
    {
     "name": "stderr",
     "output_type": "stream",
     "text": [
      "  0%|          | 0/6 [00:00<?, ?it/s]"
     ]
    },
    {
     "name": "stdout",
     "output_type": "stream",
     "text": [
      "device set to cpu\n"
     ]
    },
    {
     "name": "stderr",
     "output_type": "stream",
     "text": [
      " 17%|█▋        | 1/6 [00:01<00:06,  1.35s/it]"
     ]
    },
    {
     "name": "stdout",
     "output_type": "stream",
     "text": [
      "Epoch: 1   Batch: 1 of size 512   Train loss: 267.2057189941406   Valid loss: 231.0864715576172\r"
     ]
    },
    {
     "name": "stderr",
     "output_type": "stream",
     "text": [
      " 33%|███▎      | 2/6 [00:02<00:05,  1.35s/it]"
     ]
    },
    {
     "name": "stdout",
     "output_type": "stream",
     "text": [
      "Epoch: 1   Batch: 2 of size 512   Train loss: 231.37368774414062   Valid loss: 211.62596130371094\r"
     ]
    },
    {
     "name": "stderr",
     "output_type": "stream",
     "text": [
      " 50%|█████     | 3/6 [00:04<00:04,  1.36s/it]"
     ]
    },
    {
     "name": "stdout",
     "output_type": "stream",
     "text": [
      "Epoch: 1   Batch: 3 of size 512   Train loss: 211.830810546875   Valid loss: 209.05104064941406\r"
     ]
    },
    {
     "name": "stderr",
     "output_type": "stream",
     "text": [
      " 67%|██████▋   | 4/6 [00:05<00:02,  1.37s/it]"
     ]
    },
    {
     "name": "stdout",
     "output_type": "stream",
     "text": [
      "Epoch: 1   Batch: 4 of size 512   Train loss: 210.46209716796875   Valid loss: 217.535888671875\r"
     ]
    },
    {
     "name": "stderr",
     "output_type": "stream",
     "text": [
      "100%|██████████| 6/6 [00:07<00:00,  1.17s/it]"
     ]
    },
    {
     "name": "stdout",
     "output_type": "stream",
     "text": [
      "Epoch: 1   Batch: 6 of size 512   Train loss: 235.08509826660156   Valid loss: 218.96585083007812\n"
     ]
    },
    {
     "name": "stderr",
     "output_type": "stream",
     "text": [
      "\n"
     ]
    }
   ],
   "source": [
    "#strongly recommand cpu because it's only one epoch training time and CUDA some times run out of memory if you retrain multiple times\n",
    "device_name = 'cpu'\n",
    "GCNmodel, GCNcheckpoint = GCNutil.train_GCN(A, X_train, X_test, GCNcheckpoint, device_name = device_name, load = False, print_summary = False)"
   ]
  },
  {
   "cell_type": "code",
   "execution_count": 11,
   "metadata": {},
   "outputs": [
    {
     "name": "stdout",
     "output_type": "stream",
     "text": [
      "model saved\n"
     ]
    }
   ],
   "source": [
    "#optional: saving the model\n",
    "GCNutil.save_ckp(GCNcheckpoint, \"models/GCN253_1.pt\")"
   ]
  },
  {
   "cell_type": "markdown",
   "metadata": {},
   "source": [
    "##### 2.1.3 Visualize some simularity matrices generated by GCN (a visual evaluation and sanity check)"
   ]
  },
  {
   "cell_type": "code",
   "execution_count": 10,
   "metadata": {},
   "outputs": [],
   "source": [
    "GCNmodel.eval()\n",
    "test_pred = GCNmodel(torch.from_numpy(X_train[:128, :,:]).float().to(device_name), torch.from_numpy(A).float().to(device_name)).cpu().detach().numpy()"
   ]
  },
  {
   "cell_type": "code",
   "execution_count": 11,
   "metadata": {
    "collapsed": true,
    "jupyter": {
     "outputs_hidden": true
    }
   },
   "outputs": [
    {
     "name": "stdout",
     "output_type": "stream",
     "text": [
      "sample 0   label, 0.0\n"
     ]
    },
    {
     "data": {
      "image/png": "[encoded data removed]",
      "text/plain": [
       "<Figure size 432x288 with 2 Axes>"
      ]
     },
     "metadata": {
      "needs_background": "light"
     },
     "output_type": "display_data"
    },
    {
     "name": "stdout",
     "output_type": "stream",
     "text": [
      "sample 1   label, 0.0\n"
     ]
    },
    {
     "data": {
      "image/png": "[encoded data removed]",
      "text/plain": [
       "<Figure size 432x288 with 2 Axes>"
      ]
     },
     "metadata": {
      "needs_background": "light"
     },
     "output_type": "display_data"
    },
    {
     "name": "stdout",
     "output_type": "stream",
     "text": [
      "sample 2   label, 0.0\n"
     ]
    },
    {
     "data": {
      "image/png": "[encoded data removed]",
      "text/plain": [
       "<Figure size 432x288 with 2 Axes>"
      ]
     },
     "metadata": {
      "needs_background": "light"
     },
     "output_type": "display_data"
    },
    {
     "name": "stdout",
     "output_type": "stream",
     "text": [
      "sample 3   label, 0.0\n"
     ]
    },
    {
     "data": {
      "image/png": "[encoded data removed]",
      "text/plain": [
       "<Figure size 432x288 with 2 Axes>"
      ]
     },
     "metadata": {
      "needs_background": "light"
     },
     "output_type": "display_data"
    },
    {
     "name": "stdout",
     "output_type": "stream",
     "text": [
      "sample 4   label, 0.0\n"
     ]
    },
    {
     "data": {
      "image/png": "[encoded data removed]",
      "text/plain": [
       "<Figure size 432x288 with 2 Axes>"
      ]
     },
     "metadata": {
      "needs_background": "light"
     },
     "output_type": "display_data"
    },
    {
     "name": "stdout",
     "output_type": "stream",
     "text": [
      "sample 5   label, 0.0\n"
     ]
    },
    {
     "data": {
      "image/png": "[encoded data removed]",
      "text/plain": [
       "<Figure size 432x288 with 2 Axes>"
      ]
     },
     "metadata": {
      "needs_background": "light"
     },
     "output_type": "display_data"
    },
    {
     "name": "stdout",
     "output_type": "stream",
     "text": [
      "sample 6   label, 0.0\n"
     ]
    },
    {
     "data": {
      "image/png": "[encoded data removed]",
      "text/plain": [
       "<Figure size 432x288 with 2 Axes>"
      ]
     },
     "metadata": {
      "needs_background": "light"
     },
     "output_type": "display_data"
    },
    {
     "name": "stdout",
     "output_type": "stream",
     "text": [
      "sample 7   label, 0.0\n"
     ]
    },
    {
     "data": {
      "image/png": "[encoded data removed]",
      "text/plain": [
       "<Figure size 432x288 with 2 Axes>"
      ]
     },
     "metadata": {
      "needs_background": "light"
     },
     "output_type": "display_data"
    },
    {
     "name": "stdout",
     "output_type": "stream",
     "text": [
      "sample 8   label, 0.0\n"
     ]
    },
    {
     "data": {
      "image/png": "[encoded data removed]",
      "text/plain": [
       "<Figure size 432x288 with 2 Axes>"
      ]
     },
     "metadata": {
      "needs_background": "light"
     },
     "output_type": "display_data"
    },
    {
     "name": "stdout",
     "output_type": "stream",
     "text": [
      "sample 9   label, 0.0\n"
     ]
    },
    {
     "data": {
      "image/png": "[encoded data removed]",
      "text/plain": [
       "<Figure size 432x288 with 2 Axes>"
      ]
     },
     "metadata": {
      "needs_background": "light"
     },
     "output_type": "display_data"
    }
   ],
   "source": [
    "for i in range(10):\n",
    "    print(\"sample\", i, \"  label,\", dm.Y_train[i,0])\n",
    "    show_heat_map(test_pred[i,:,:])"
   ]
  },
  {
   "cell_type": "markdown",
   "metadata": {},
   "source": [
    "$\\;\\;\\;\\;\\;\\;\\;\\;\\;\\;\\;\\;\\;\\;$"
   ]
  },
  {
   "cell_type": "markdown",
   "metadata": {},
   "source": [
    "## 2.1 Unsupervised Graph Neural Ordinary Differential Equations (GNODE)"
   ]
  },
  {
   "cell_type": "markdown",
   "metadata": {},
   "source": [
    "[short description here]"
   ]
  },
  {
   "cell_type": "markdown",
   "metadata": {},
   "source": [
    "##### 2.2.1 Declare Parameters for GNODE"
   ]
  },
  {
   "cell_type": "code",
   "execution_count": 27,
   "metadata": {},
   "outputs": [],
   "source": [
    "A = create_DAD(Araw)\n",
    "X_train = dm.X_train\n",
    "X_test = dm.X_test\n",
    "GDEparameters = {\n",
    "    'body': dm.X_train.shape[2],\n",
    "    'solver': GDEsolvers.explicit_RK,\n",
    "    'solver_params': {\n",
    "    \"t0\": 0,\n",
    "    \"t1\": 0.25,\n",
    "    \"N\": 5,\n",
    "    \"b_tableau\": GDEsolvers.EF\n",
    "     },\n",
    "    'hidden_layers': 1,\n",
    "    'M': dm.X_train.shape[0],\n",
    "    'batch_size': 128,\n",
    "    'num_epochs': 1,\n",
    "    'learning_rate': 1e-3,\n",
    "    'weight_decay': 5e-3\n",
    "}\n",
    "GDEcheckpoint = {'parameters': GDEparameters}"
   ]
  },
  {
   "cell_type": "markdown",
   "metadata": {},
   "source": [
    "##### 2.2.2 Train GNODE"
   ]
  },
  {
   "cell_type": "code",
   "execution_count": 28,
   "metadata": {},
   "outputs": [
    {
     "name": "stderr",
     "output_type": "stream",
     "text": [
      "  0%|          | 0/21 [00:00<?, ?it/s]"
     ]
    },
    {
     "name": "stdout",
     "output_type": "stream",
     "text": [
      "device set to cpu\n"
     ]
    },
    {
     "name": "stderr",
     "output_type": "stream",
     "text": [
      "  5%|▍         | 1/21 [00:02<00:45,  2.26s/it]"
     ]
    },
    {
     "name": "stdout",
     "output_type": "stream",
     "text": [
      "Epoch: 1   Batch: 1 of size 128   Train loss: 267.0042724609375   Valid loss: 229.9137725830078\r"
     ]
    },
    {
     "name": "stderr",
     "output_type": "stream",
     "text": [
      " 10%|▉         | 2/21 [00:04<00:42,  2.23s/it]"
     ]
    },
    {
     "name": "stdout",
     "output_type": "stream",
     "text": [
      "Epoch: 1   Batch: 2 of size 128   Train loss: 230.07139587402344   Valid loss: 207.83358764648438\r"
     ]
    },
    {
     "name": "stderr",
     "output_type": "stream",
     "text": [
      " 14%|█▍        | 3/21 [00:06<00:40,  2.23s/it]"
     ]
    },
    {
     "name": "stdout",
     "output_type": "stream",
     "text": [
      "Epoch: 1   Batch: 3 of size 128   Train loss: 209.8340606689453   Valid loss: 205.80764770507812\r"
     ]
    },
    {
     "name": "stderr",
     "output_type": "stream",
     "text": [
      " 19%|█▉        | 4/21 [00:08<00:37,  2.21s/it]"
     ]
    },
    {
     "name": "stdout",
     "output_type": "stream",
     "text": [
      "Epoch: 1   Batch: 4 of size 128   Train loss: 207.4098358154297   Valid loss: 213.42337036132812\r"
     ]
    },
    {
     "name": "stderr",
     "output_type": "stream",
     "text": [
      " 24%|██▍       | 5/21 [00:11<00:35,  2.22s/it]"
     ]
    },
    {
     "name": "stdout",
     "output_type": "stream",
     "text": [
      "Epoch: 1   Batch: 5 of size 128   Train loss: 212.697265625   Valid loss: 218.82241821289062\r"
     ]
    },
    {
     "name": "stderr",
     "output_type": "stream",
     "text": [
      " 29%|██▊       | 6/21 [00:13<00:33,  2.22s/it]"
     ]
    },
    {
     "name": "stdout",
     "output_type": "stream",
     "text": [
      "Epoch: 1   Batch: 6 of size 128   Train loss: 219.98187255859375   Valid loss: 218.32476806640625\r"
     ]
    },
    {
     "name": "stderr",
     "output_type": "stream",
     "text": [
      " 33%|███▎      | 7/21 [00:15<00:31,  2.22s/it]"
     ]
    },
    {
     "name": "stdout",
     "output_type": "stream",
     "text": [
      "Epoch: 1   Batch: 7 of size 128   Train loss: 219.36212158203125   Valid loss: 212.64295959472656\r"
     ]
    },
    {
     "name": "stderr",
     "output_type": "stream",
     "text": [
      " 38%|███▊      | 8/21 [00:17<00:29,  2.24s/it]"
     ]
    },
    {
     "name": "stdout",
     "output_type": "stream",
     "text": [
      "Epoch: 1   Batch: 8 of size 128   Train loss: 215.2789306640625   Valid loss: 208.4610595703125\r"
     ]
    },
    {
     "name": "stderr",
     "output_type": "stream",
     "text": [
      " 43%|████▎     | 9/21 [00:19<00:26,  2.21s/it]"
     ]
    },
    {
     "name": "stdout",
     "output_type": "stream",
     "text": [
      "Epoch: 1   Batch: 9 of size 128   Train loss: 208.9716033935547   Valid loss: 202.56661987304688\r"
     ]
    },
    {
     "name": "stderr",
     "output_type": "stream",
     "text": [
      " 48%|████▊     | 10/21 [00:22<00:24,  2.19s/it]"
     ]
    },
    {
     "name": "stdout",
     "output_type": "stream",
     "text": [
      "Epoch: 1   Batch: 10 of size 128   Train loss: 202.7450714111328   Valid loss: 199.8242645263672\r"
     ]
    },
    {
     "name": "stderr",
     "output_type": "stream",
     "text": [
      " 52%|█████▏    | 11/21 [00:24<00:21,  2.17s/it]"
     ]
    },
    {
     "name": "stdout",
     "output_type": "stream",
     "text": [
      "Epoch: 1   Batch: 11 of size 128   Train loss: 199.30926513671875   Valid loss: 197.2603759765625\r"
     ]
    },
    {
     "name": "stderr",
     "output_type": "stream",
     "text": [
      " 57%|█████▋    | 12/21 [00:26<00:19,  2.18s/it]"
     ]
    },
    {
     "name": "stdout",
     "output_type": "stream",
     "text": [
      "Epoch: 1   Batch: 12 of size 128   Train loss: 200.36351013183594   Valid loss: 200.7028045654297\r"
     ]
    },
    {
     "name": "stderr",
     "output_type": "stream",
     "text": [
      " 62%|██████▏   | 13/21 [00:28<00:17,  2.16s/it]"
     ]
    },
    {
     "name": "stdout",
     "output_type": "stream",
     "text": [
      "Epoch: 1   Batch: 13 of size 128   Train loss: 200.51846313476562   Valid loss: 200.8001708984375\r"
     ]
    },
    {
     "name": "stderr",
     "output_type": "stream",
     "text": [
      " 67%|██████▋   | 14/21 [00:30<00:15,  2.16s/it]"
     ]
    },
    {
     "name": "stdout",
     "output_type": "stream",
     "text": [
      "Epoch: 1   Batch: 14 of size 128   Train loss: 202.6720428466797   Valid loss: 199.5413818359375\r"
     ]
    },
    {
     "name": "stderr",
     "output_type": "stream",
     "text": [
      " 71%|███████▏  | 15/21 [00:32<00:12,  2.16s/it]"
     ]
    },
    {
     "name": "stdout",
     "output_type": "stream",
     "text": [
      "Epoch: 1   Batch: 15 of size 128   Train loss: 201.3800506591797   Valid loss: 198.78619384765625\r"
     ]
    },
    {
     "name": "stderr",
     "output_type": "stream",
     "text": [
      " 76%|███████▌  | 16/21 [00:35<00:10,  2.18s/it]"
     ]
    },
    {
     "name": "stdout",
     "output_type": "stream",
     "text": [
      "Epoch: 1   Batch: 16 of size 128   Train loss: 198.7908935546875   Valid loss: 194.46426391601562\r"
     ]
    },
    {
     "name": "stderr",
     "output_type": "stream",
     "text": [
      " 81%|████████  | 17/21 [00:37<00:08,  2.17s/it]"
     ]
    },
    {
     "name": "stdout",
     "output_type": "stream",
     "text": [
      "Epoch: 1   Batch: 17 of size 128   Train loss: 196.5333709716797   Valid loss: 191.17413330078125\r"
     ]
    },
    {
     "name": "stderr",
     "output_type": "stream",
     "text": [
      " 86%|████████▌ | 18/21 [00:39<00:06,  2.16s/it]"
     ]
    },
    {
     "name": "stdout",
     "output_type": "stream",
     "text": [
      "Epoch: 1   Batch: 18 of size 128   Train loss: 191.33447265625   Valid loss: 187.69744873046875\r"
     ]
    },
    {
     "name": "stderr",
     "output_type": "stream",
     "text": [
      " 90%|█████████ | 19/21 [00:41<00:04,  2.14s/it]"
     ]
    },
    {
     "name": "stdout",
     "output_type": "stream",
     "text": [
      "Epoch: 1   Batch: 19 of size 128   Train loss: 189.17369079589844   Valid loss: 186.31005859375\r"
     ]
    },
    {
     "name": "stderr",
     "output_type": "stream",
     "text": [
      "100%|██████████| 21/21 [00:43<00:00,  2.08s/it]"
     ]
    },
    {
     "name": "stdout",
     "output_type": "stream",
     "text": [
      "Epoch: 1   Batch: 21 of size 128   Train loss: 183.19869995117188   Valid loss: 185.51708984375188\n"
     ]
    },
    {
     "name": "stderr",
     "output_type": "stream",
     "text": [
      "\n"
     ]
    }
   ],
   "source": [
    "#strongly recommand cpu because it's only one epoch training time and CUDA some times run out of memory if you retrain multiple times\n",
    "device_name = 'cpu'\n",
    "GDEmodel, GDEcheckpoint = GDEutil.train_GDE(A, X_train, X_test, GDEcheckpoint, device_name = device_name, load = False, print_summary = False)"
   ]
  },
  {
   "cell_type": "code",
   "execution_count": 16,
   "metadata": {},
   "outputs": [
    {
     "name": "stdout",
     "output_type": "stream",
     "text": [
      "model saved\n"
     ]
    }
   ],
   "source": [
    "#optional: saving the model\n",
    "GDEutil.save_ckp(GDEcheckpoint, \"models/GDE253_1.pt\")"
   ]
  },
  {
   "cell_type": "markdown",
   "metadata": {},
   "source": [
    "##### 2.2.3 Visualize some simularity matrices generated by GNODE (a visual evaluation and sanity check)"
   ]
  },
  {
   "cell_type": "code",
   "execution_count": 14,
   "metadata": {},
   "outputs": [],
   "source": [
    "GDEmodel.eval()\n",
    "test_pred = GDEmodel(torch.from_numpy(X_train[:128, :,:]).float().to(device_name)).cpu().detach().numpy()"
   ]
  },
  {
   "cell_type": "code",
   "execution_count": 15,
   "metadata": {
    "collapsed": true,
    "jupyter": {
     "outputs_hidden": true
    }
   },
   "outputs": [
    {
     "name": "stdout",
     "output_type": "stream",
     "text": [
      "sample 0   label, 0.0\n"
     ]
    },
    {
     "data": {
      "image/png": "[encoded data removed]",
      "text/plain": [
       "<Figure size 432x288 with 2 Axes>"
      ]
     },
     "metadata": {
      "needs_background": "light"
     },
     "output_type": "display_data"
    },
    {
     "name": "stdout",
     "output_type": "stream",
     "text": [
      "sample 1   label, 0.0\n"
     ]
    },
    {
     "data": {
      "image/png": "[encoded data removed]",
      "text/plain": [
       "<Figure size 432x288 with 2 Axes>"
      ]
     },
     "metadata": {
      "needs_background": "light"
     },
     "output_type": "display_data"
    },
    {
     "name": "stdout",
     "output_type": "stream",
     "text": [
      "sample 2   label, 0.0\n"
     ]
    },
    {
     "data": {
      "image/png": "[encoded data removed]",
      "text/plain": [
       "<Figure size 432x288 with 2 Axes>"
      ]
     },
     "metadata": {
      "needs_background": "light"
     },
     "output_type": "display_data"
    },
    {
     "name": "stdout",
     "output_type": "stream",
     "text": [
      "sample 3   label, 0.0\n"
     ]
    },
    {
     "data": {
      "image/png": "[encoded data removed]",
      "text/plain": [
       "<Figure size 432x288 with 2 Axes>"
      ]
     },
     "metadata": {
      "needs_background": "light"
     },
     "output_type": "display_data"
    },
    {
     "name": "stdout",
     "output_type": "stream",
     "text": [
      "sample 4   label, 0.0\n"
     ]
    },
    {
     "data": {
      "image/png": "[encoded data removed]",
      "text/plain": [
       "<Figure size 432x288 with 2 Axes>"
      ]
     },
     "metadata": {
      "needs_background": "light"
     },
     "output_type": "display_data"
    },
    {
     "name": "stdout",
     "output_type": "stream",
     "text": [
      "sample 5   label, 0.0\n"
     ]
    },
    {
     "data": {
      "image/png": "[encoded data removed]",
      "text/plain": [
       "<Figure size 432x288 with 2 Axes>"
      ]
     },
     "metadata": {
      "needs_background": "light"
     },
     "output_type": "display_data"
    },
    {
     "name": "stdout",
     "output_type": "stream",
     "text": [
      "sample 6   label, 0.0\n"
     ]
    },
    {
     "data": {
      "image/png": "[encoded data removed]",
      "text/plain": [
       "<Figure size 432x288 with 2 Axes>"
      ]
     },
     "metadata": {
      "needs_background": "light"
     },
     "output_type": "display_data"
    },
    {
     "name": "stdout",
     "output_type": "stream",
     "text": [
      "sample 7   label, 0.0\n"
     ]
    },
    {
     "data": {
      "image/png": "[encoded data removed]",
      "text/plain": [
       "<Figure size 432x288 with 2 Axes>"
      ]
     },
     "metadata": {
      "needs_background": "light"
     },
     "output_type": "display_data"
    },
    {
     "name": "stdout",
     "output_type": "stream",
     "text": [
      "sample 8   label, 0.0\n"
     ]
    },
    {
     "data": {
      "image/png": "[encoded data removed]",
      "text/plain": [
       "<Figure size 432x288 with 2 Axes>"
      ]
     },
     "metadata": {
      "needs_background": "light"
     },
     "output_type": "display_data"
    },
    {
     "name": "stdout",
     "output_type": "stream",
     "text": [
      "sample 9   label, 0.0\n"
     ]
    },
    {
     "data": {
      "image/png": "[encoded data removed]",
      "text/plain": [
       "<Figure size 432x288 with 2 Axes>"
      ]
     },
     "metadata": {
      "needs_background": "light"
     },
     "output_type": "display_data"
    }
   ],
   "source": [
    "for i in range(10):\n",
    "    print(\"sample\", i, \"  label,\", dm.Y_train[i,0])\n",
    "    show_heat_map(test_pred[i,:,:])"
   ]
  },
  {
   "cell_type": "markdown",
   "metadata": {},
   "source": [
    "$\\;\\;\\;\\;\\;\\;\\;\\;\\;\\;\\;\\;\\;\\;$"
   ]
  },
  {
   "cell_type": "markdown",
   "metadata": {},
   "source": [
    "## 3.1 Supervised Multi-Layer Perceptron (MLP)"
   ]
  },
  {
   "cell_type": "markdown",
   "metadata": {},
   "source": [
    "[short description here]"
   ]
  },
  {
   "cell_type": "markdown",
   "metadata": {},
   "source": [
    "##### 3.1.1 Get simularity matrix from GCN and GNODE models"
   ]
  },
  {
   "cell_type": "code",
   "execution_count": 29,
   "metadata": {},
   "outputs": [],
   "source": [
    "sim_all = {}\n",
    "A = create_DAD(Araw)\n",
    "X_train = dm.X_train\n",
    "X_test = dm.X_test\n",
    "device_name = 'cpu'"
   ]
  },
  {
   "cell_type": "code",
   "execution_count": 30,
   "metadata": {},
   "outputs": [],
   "source": [
    "#Get simularity matrix from GCN\n",
    "GCNmodel.eval()\n",
    "sim_all[\"GCN_train\"] = GCNmodel(torch.from_numpy(X_train).float().to(device_name), torch.from_numpy(A).float().to(device_name)).cpu().detach().numpy()\n",
    "sim_all[\"GCN_test\"] = GCNmodel(torch.from_numpy(X_test).float().to(device_name), torch.from_numpy(A).float().to(device_name)).cpu().detach().numpy()"
   ]
  },
  {
   "cell_type": "code",
   "execution_count": 31,
   "metadata": {},
   "outputs": [],
   "source": [
    "#Get simularity matrix from GNODE\n",
    "GDEmodel.eval()\n",
    "sim_all[\"GDE_train\"] = GDEmodel(torch.from_numpy(X_train).float().to(device_name)).cpu().detach().numpy()\n",
    "sim_all[\"GDE_test\"] = GDEmodel(torch.from_numpy(X_test).float().to(device_name)).cpu().detach().numpy()"
   ]
  },
  {
   "cell_type": "markdown",
   "metadata": {},
   "source": [
    "##### 3.1.2 Visualize the averaged ictal and non-ictal states for the two models"
   ]
  },
  {
   "cell_type": "code",
   "execution_count": 32,
   "metadata": {},
   "outputs": [
    {
     "name": "stdout",
     "output_type": "stream",
     "text": [
      "Average Ictal and Non-Ictal Simularity Matrix for GCN\n",
      "Average ictal\n"
     ]
    },
    {
     "data": {
      "image/png": "[encoded data removed]",
      "text/plain": [
       "<Figure size 432x288 with 2 Axes>"
      ]
     },
     "metadata": {
      "needs_background": "light"
     },
     "output_type": "display_data"
    },
    {
     "name": "stdout",
     "output_type": "stream",
     "text": [
      "Average Non-Ictal\n"
     ]
    },
    {
     "data": {
      "image/png": "[encoded data removed]",
      "text/plain": [
       "<Figure size 432x288 with 2 Axes>"
      ]
     },
     "metadata": {
      "needs_background": "light"
     },
     "output_type": "display_data"
    }
   ],
   "source": [
    "print(\"Average Ictal and Non-Ictal Simularity Matrix for GCN\")\n",
    "visualize_avg_sim_matrix(dm, sim_all[\"GCN_train\"], sim_all[\"GCN_test\"])"
   ]
  },
  {
   "cell_type": "code",
   "execution_count": 33,
   "metadata": {},
   "outputs": [
    {
     "name": "stdout",
     "output_type": "stream",
     "text": [
      "Average Ictal and Non-Ictal Simularity Matrix for GDE\n",
      "Average ictal\n"
     ]
    },
    {
     "data": {
      "image/png": "[encoded data removed]",
      "text/plain": [
       "<Figure size 432x288 with 2 Axes>"
      ]
     },
     "metadata": {
      "needs_background": "light"
     },
     "output_type": "display_data"
    },
    {
     "name": "stdout",
     "output_type": "stream",
     "text": [
      "Average Non-Ictal\n"
     ]
    },
    {
     "data": {
      "image/png": "[encoded data removed]",
      "text/plain": [
       "<Figure size 432x288 with 2 Axes>"
      ]
     },
     "metadata": {
      "needs_background": "light"
     },
     "output_type": "display_data"
    }
   ],
   "source": [
    "print(\"Average Ictal and Non-Ictal Simularity Matrix for GDE\")\n",
    "visualize_avg_sim_matrix(dm, sim_all[\"GDE_train\"], sim_all[\"GDE_test\"])"
   ]
  },
  {
   "cell_type": "markdown",
   "metadata": {},
   "source": [
    "##### 3.1.3 MLP for GCN  "
   ]
  },
  {
   "cell_type": "markdown",
   "metadata": {},
   "source": [
    "###### Training"
   ]
  },
  {
   "cell_type": "code",
   "execution_count": 34,
   "metadata": {},
   "outputs": [
    {
     "name": "stdout",
     "output_type": "stream",
     "text": [
      "MLP(\n",
      "  (layers): ModuleList(\n",
      "    (0): Dropout(p=0.3, inplace=False)\n",
      "    (1): Linear(in_features=630, out_features=630, bias=True)\n",
      "    (2): ReLU()\n",
      "    (3): Dropout(p=0.3, inplace=False)\n",
      "    (4): Linear(in_features=630, out_features=1, bias=True)\n",
      "    (5): Sigmoid()\n",
      "  )\n",
      ")\n",
      "----------------------------------------------------------------\n",
      "        Layer (type)               Output Shape         Param #\n",
      "================================================================\n",
      "           Dropout-1                  [-1, 630]               0\n",
      "            Linear-2                  [-1, 630]         397,530\n",
      "              ReLU-3                  [-1, 630]               0\n",
      "           Dropout-4                  [-1, 630]               0\n",
      "            Linear-5                    [-1, 1]             631\n",
      "           Sigmoid-6                    [-1, 1]               0\n",
      "================================================================\n",
      "Total params: 398,161\n",
      "Trainable params: 398,161\n",
      "Non-trainable params: 0\n",
      "----------------------------------------------------------------\n",
      "Input size (MB): 0.00\n",
      "Forward/backward pass size (MB): 0.02\n",
      "Params size (MB): 1.52\n",
      "Estimated Total Size (MB): 1.54\n",
      "----------------------------------------------------------------\n",
      "Epoch: 1   Train loss: 0.301   Train accuracy: 0.14   Val loss: 0.2901   Val accuracy: 0.597    weighted Val loss: 0.2901\n",
      "0.597 ----------saved-----------\n",
      "Epoch: 2   Train loss: 0.1286   Train accuracy: 0.694   Val loss: 0.2156   Val accuracy: 0.655    weighted Val loss: 0.2897\n",
      "0.655 ----------saved-----------\n",
      "Epoch: 3   Train loss: 0.0807   Train accuracy: 0.82   Val loss: 0.2048   Val accuracy: 0.668    weighted Val loss: 0.2893\n",
      "0.668 ----------saved-----------\n",
      "Epoch: 4   Train loss: 0.0645   Train accuracy: 0.838   Val loss: 0.1915   Val accuracy: 0.66    weighted Val loss: 0.2888\n",
      "Epoch: 5   Train loss: 0.0526   Train accuracy: 0.859   Val loss: 0.191   Val accuracy: 0.669    weighted Val loss: 0.2883\n",
      "0.669 ----------saved-----------\n",
      "Epoch: 6   Train loss: 0.0442   Train accuracy: 0.875   Val loss: 0.1862   Val accuracy: 0.675    weighted Val loss: 0.2878\n",
      "0.675 ----------saved-----------\n",
      "Epoch: 7   Train loss: 0.0417   Train accuracy: 0.882   Val loss: 0.1946   Val accuracy: 0.676    weighted Val loss: 0.2873\n",
      "0.676 ----------saved-----------\n",
      "Epoch: 8   Train loss: 0.0383   Train accuracy: 0.893   Val loss: 0.1972   Val accuracy: 0.687    weighted Val loss: 0.2869\n",
      "0.687 ----------saved-----------\n",
      "Epoch: 9   Train loss: 0.0404   Train accuracy: 0.938   Val loss: 0.2046   Val accuracy: 0.674    weighted Val loss: 0.2865\n",
      "Epoch: 10   Train loss: 0.0505   Train accuracy: 0.875   Val loss: 0.2283   Val accuracy: 0.659    weighted Val loss: 0.2862\n",
      "Epoch: 11   Train loss: 0.069   Train accuracy: 0.816   Val loss: 0.2692   Val accuracy: 0.658    weighted Val loss: 0.2861\n",
      "Epoch: 12   Train loss: 0.0628   Train accuracy: 0.853   Val loss: 0.2147   Val accuracy: 0.702    weighted Val loss: 0.2857\n",
      "0.702 ----------saved-----------\n",
      "Epoch: 13   Train loss: 0.0464   Train accuracy: 0.841   Val loss: 0.2196   Val accuracy: 0.698    weighted Val loss: 0.2854\n",
      "Epoch: 14   Train loss: 0.0418   Train accuracy: 0.869   Val loss: 0.2143   Val accuracy: 0.675    weighted Val loss: 0.285\n",
      "Epoch: 15   Train loss: 0.0355   Train accuracy: 0.893   Val loss: 0.1908   Val accuracy: 0.686    weighted Val loss: 0.2846\n",
      "Epoch: 16   Train loss: 0.0285   Train accuracy: 0.901   Val loss: 0.1975   Val accuracy: 0.682    weighted Val loss: 0.2841\n",
      "Epoch: 17   Train loss: 0.0301   Train accuracy: 0.889   Val loss: 0.1911   Val accuracy: 0.695    weighted Val loss: 0.2837\n",
      "Epoch: 18   Train loss: 0.0664   Train accuracy: 0.906   Val loss: 0.2389   Val accuracy: 0.703    weighted Val loss: 0.2834\n",
      "0.703 ----------saved-----------\n",
      "Epoch: 19   Train loss: 0.071   Train accuracy: 0.858   Val loss: 0.2288   Val accuracy: 0.678    weighted Val loss: 0.2832\n",
      "Epoch: 20   Train loss: 0.053   Train accuracy: 0.855   Val loss: 0.2148   Val accuracy: 0.683    weighted Val loss: 0.2828\n",
      "Epoch: 21   Train loss: 0.04   Train accuracy: 0.866   Val loss: 0.2056   Val accuracy: 0.707    weighted Val loss: 0.2824\n",
      "0.707 ----------saved-----------\n",
      "Epoch: 22   Train loss: 0.034   Train accuracy: 0.889   Val loss: 0.1958   Val accuracy: 0.683    weighted Val loss: 0.282\n",
      "Epoch: 23   Train loss: 0.0372   Train accuracy: 0.944   Val loss: 0.1954   Val accuracy: 0.696    weighted Val loss: 0.2816\n",
      "Epoch: 24   Train loss: 0.0403   Train accuracy: 0.858   Val loss: 0.2139   Val accuracy: 0.699    weighted Val loss: 0.2812\n",
      "Epoch: 25   Train loss: 0.0393   Train accuracy: 0.859   Val loss: 0.2199   Val accuracy: 0.695    weighted Val loss: 0.2809\n",
      "Epoch: 26   Train loss: 0.0315   Train accuracy: 0.883   Val loss: 0.2253   Val accuracy: 0.712    weighted Val loss: 0.2807\n",
      "0.712 ----------saved-----------\n",
      "Epoch: 27   Train loss: 0.0286   Train accuracy: 0.897   Val loss: 0.2009   Val accuracy: 0.713    weighted Val loss: 0.2803\n",
      "0.713 ----------saved-----------\n",
      "Epoch: 28   Train loss: 0.0229   Train accuracy: 0.906   Val loss: 0.1956   Val accuracy: 0.718    weighted Val loss: 0.2798\n",
      "0.718 ----------saved-----------\n",
      "Epoch: 29   Train loss: 0.0247   Train accuracy: 0.909   Val loss: 0.1941   Val accuracy: 0.716    weighted Val loss: 0.2794\n",
      "Epoch: 30   Train loss: 0.0239   Train accuracy: 0.905   Val loss: 0.1892   Val accuracy: 0.705    weighted Val loss: 0.279\n",
      "Epoch: 31   Train loss: 0.0289   Train accuracy: 0.904   Val loss: 0.1989   Val accuracy: 0.698    weighted Val loss: 0.2786\n",
      "Epoch: 32   Train loss: 0.0241   Train accuracy: 0.908   Val loss: 0.1927   Val accuracy: 0.702    weighted Val loss: 0.2781\n",
      "Epoch: 33   Train loss: 0.0203   Train accuracy: 0.913   Val loss: 0.1913   Val accuracy: 0.707    weighted Val loss: 0.2777\n",
      "Epoch: 34   Train loss: 0.0232   Train accuracy: 0.903   Val loss: 0.1901   Val accuracy: 0.71    weighted Val loss: 0.2773\n",
      "Epoch: 35   Train loss: 0.0219   Train accuracy: 0.909   Val loss: 0.1888   Val accuracy: 0.718    weighted Val loss: 0.2768\n",
      "0.718 ----------saved-----------\n",
      "Epoch: 36   Train loss: 0.0183   Train accuracy: 0.924   Val loss: 0.1977   Val accuracy: 0.696    weighted Val loss: 0.2764\n",
      "Epoch: 37   Train loss: 0.0204   Train accuracy: 0.927   Val loss: 0.1947   Val accuracy: 0.705    weighted Val loss: 0.276\n",
      "Epoch: 38   Train loss: 0.0215   Train accuracy: 0.906   Val loss: 0.2215   Val accuracy: 0.697    weighted Val loss: 0.2757\n",
      "Epoch: 39   Train loss: 0.0238   Train accuracy: 0.906   Val loss: 0.2413   Val accuracy: 0.689    weighted Val loss: 0.2756\n",
      "Epoch: 40   Train loss: 0.0214   Train accuracy: 0.917   Val loss: 0.2068   Val accuracy: 0.703    weighted Val loss: 0.2752\n",
      "Epoch: 41   Train loss: 0.0228   Train accuracy: 0.915   Val loss: 0.1922   Val accuracy: 0.701    weighted Val loss: 0.2748\n",
      "Epoch: 42   Train loss: 0.0199   Train accuracy: 0.922   Val loss: 0.1989   Val accuracy: 0.705    weighted Val loss: 0.2744\n",
      "Epoch: 43   Train loss: 0.0213   Train accuracy: 0.918   Val loss: 0.1949   Val accuracy: 0.703    weighted Val loss: 0.274\n",
      "Epoch: 44   Train loss: 0.0178   Train accuracy: 0.971   Val loss: 0.1899   Val accuracy: 0.698    weighted Val loss: 0.2736\n",
      "Epoch: 45   Train loss: 0.0201   Train accuracy: 0.919   Val loss: 0.2037   Val accuracy: 0.677    weighted Val loss: 0.2733\n",
      "Epoch: 46   Train loss: 0.018   Train accuracy: 0.928   Val loss: 0.2007   Val accuracy: 0.694    weighted Val loss: 0.2729\n",
      "Epoch: 47   Train loss: 0.0195   Train accuracy: 0.923   Val loss: 0.1941   Val accuracy: 0.705    weighted Val loss: 0.2725\n",
      "Epoch: 48   Train loss: 0.018   Train accuracy: 0.924   Val loss: 0.217   Val accuracy: 0.706    weighted Val loss: 0.2722\n",
      "Epoch: 49   Train loss: 0.0232   Train accuracy: 0.909   Val loss: 0.2419   Val accuracy: 0.686    weighted Val loss: 0.2721\n",
      "Epoch: 50   Train loss: 0.018   Train accuracy: 0.93   Val loss: 0.2096   Val accuracy: 0.706    weighted Val loss: 0.2718\n",
      "Epoch: 51   Train loss: 0.0169   Train accuracy: 0.978   Val loss: 0.1905   Val accuracy: 0.701    weighted Val loss: 0.2713\n",
      "Epoch: 52   Train loss: 0.0214   Train accuracy: 0.913   Val loss: 0.1997   Val accuracy: 0.693    weighted Val loss: 0.271\n",
      "Epoch: 53   Train loss: 0.019   Train accuracy: 0.934   Val loss: 0.2062   Val accuracy: 0.694    weighted Val loss: 0.2707\n",
      "Epoch: 54   Train loss: 0.0163   Train accuracy: 0.978   Val loss: 0.2111   Val accuracy: 0.694    weighted Val loss: 0.2704\n",
      "Epoch: 55   Train loss: 0.0195   Train accuracy: 0.924   Val loss: 0.2277   Val accuracy: 0.693    weighted Val loss: 0.2702\n",
      "Epoch: 56   Train loss: 0.0167   Train accuracy: 0.913   Val loss: 0.2188   Val accuracy: 0.683    weighted Val loss: 0.2699\n",
      "Epoch: 57   Train loss: 0.0172   Train accuracy: 0.933   Val loss: 0.2233   Val accuracy: 0.683    weighted Val loss: 0.2697\n",
      "Epoch: 58   Train loss: 0.0167   Train accuracy: 0.926   Val loss: 0.205   Val accuracy: 0.7    weighted Val loss: 0.2693\n",
      "Epoch: 59   Train loss: 0.0155   Train accuracy: 0.93   Val loss: 0.1977   Val accuracy: 0.703    weighted Val loss: 0.269\n",
      "Epoch: 60   Train loss: 0.0181   Train accuracy: 0.926   Val loss: 0.2216   Val accuracy: 0.698    weighted Val loss: 0.2687\n",
      "Epoch: 61   Train loss: 0.015   Train accuracy: 0.932   Val loss: 0.2218   Val accuracy: 0.703    weighted Val loss: 0.2685\n",
      "Epoch: 62   Train loss: 0.0186   Train accuracy: 0.922   Val loss: 0.1881   Val accuracy: 0.7    weighted Val loss: 0.2681\n",
      "Epoch: 63   Train loss: 0.0159   Train accuracy: 0.925   Val loss: 0.1914   Val accuracy: 0.71    weighted Val loss: 0.2677\n",
      "Epoch: 64   Train loss: 0.0138   Train accuracy: 0.937   Val loss: 0.2232   Val accuracy: 0.704    weighted Val loss: 0.2675\n",
      "Epoch: 65   Train loss: 0.0167   Train accuracy: 0.925   Val loss: 0.2022   Val accuracy: 0.72    weighted Val loss: 0.2672\n",
      "0.72 ----------saved-----------\n",
      "Epoch: 66   Train loss: 0.0257   Train accuracy: 0.917   Val loss: 0.2393   Val accuracy: 0.699    weighted Val loss: 0.267\n",
      "Epoch: 67   Train loss: 0.0376   Train accuracy: 0.874   Val loss: 0.2389   Val accuracy: 0.662    weighted Val loss: 0.2669\n",
      "Epoch: 68   Train loss: 0.0276   Train accuracy: 0.891   Val loss: 0.2406   Val accuracy: 0.669    weighted Val loss: 0.2668\n",
      "Epoch: 69   Train loss: 0.0208   Train accuracy: 0.91   Val loss: 0.2066   Val accuracy: 0.688    weighted Val loss: 0.2665\n",
      "Epoch: 70   Train loss: 0.0161   Train accuracy: 0.927   Val loss: 0.1981   Val accuracy: 0.7    weighted Val loss: 0.2661\n",
      "Epoch: 71   Train loss: 0.0179   Train accuracy: 0.929   Val loss: 0.2249   Val accuracy: 0.694    weighted Val loss: 0.2659\n",
      "Epoch: 72   Train loss: 0.0128   Train accuracy: 0.931   Val loss: 0.2186   Val accuracy: 0.693    weighted Val loss: 0.2657\n",
      "Epoch: 73   Train loss: 0.0155   Train accuracy: 0.93   Val loss: 0.2053   Val accuracy: 0.705    weighted Val loss: 0.2654\n",
      "Epoch: 74   Train loss: 0.0151   Train accuracy: 0.967   Val loss: 0.2036   Val accuracy: 0.694    weighted Val loss: 0.2651\n",
      "Epoch: 75   Train loss: 0.014   Train accuracy: 0.979   Val loss: 0.2053   Val accuracy: 0.715    weighted Val loss: 0.2648\n",
      "Epoch: 76   Train loss: 0.0165   Train accuracy: 0.915   Val loss: 0.2399   Val accuracy: 0.709    weighted Val loss: 0.2646\n",
      "Epoch: 77   Train loss: 0.0146   Train accuracy: 0.982   Val loss: 0.2233   Val accuracy: 0.703    weighted Val loss: 0.2644\n",
      "Epoch: 78   Train loss: 0.017   Train accuracy: 0.93   Val loss: 0.2136   Val accuracy: 0.699    weighted Val loss: 0.2642\n",
      "Epoch: 79   Train loss: 0.0119   Train accuracy: 0.941   Val loss: 0.2277   Val accuracy: 0.688    weighted Val loss: 0.264\n",
      "Epoch: 80   Train loss: 0.0184   Train accuracy: 0.978   Val loss: 0.2094   Val accuracy: 0.712    weighted Val loss: 0.2637\n",
      "Epoch: 81   Train loss: 0.0213   Train accuracy: 0.911   Val loss: 0.2238   Val accuracy: 0.682    weighted Val loss: 0.2635\n",
      "Epoch: 82   Train loss: 0.0577   Train accuracy: 0.909   Val loss: 0.2082   Val accuracy: 0.705    weighted Val loss: 0.2633\n",
      "Epoch: 83   Train loss: 0.0774   Train accuracy: 0.757   Val loss: 0.2092   Val accuracy: 0.683    weighted Val loss: 0.263\n",
      "Epoch: 84   Train loss: 0.0285   Train accuracy: 0.939   Val loss: 0.2102   Val accuracy: 0.7    weighted Val loss: 0.2627\n",
      "Epoch: 85   Train loss: 0.0205   Train accuracy: 0.915   Val loss: 0.2072   Val accuracy: 0.714    weighted Val loss: 0.2624\n",
      "Epoch: 86   Train loss: 0.0133   Train accuracy: 0.933   Val loss: 0.2187   Val accuracy: 0.724    weighted Val loss: 0.2622\n",
      "0.724 ----------saved-----------\n",
      "Epoch: 87   Train loss: 0.0165   Train accuracy: 0.916   Val loss: 0.2147   Val accuracy: 0.718    weighted Val loss: 0.262\n",
      "Epoch: 88   Train loss: 0.0133   Train accuracy: 0.93   Val loss: 0.2162   Val accuracy: 0.717    weighted Val loss: 0.2618\n",
      "Epoch: 89   Train loss: 0.0194   Train accuracy: 0.91   Val loss: 0.2155   Val accuracy: 0.718    weighted Val loss: 0.2615\n",
      "Epoch: 90   Train loss: 0.0141   Train accuracy: 0.934   Val loss: 0.2009   Val accuracy: 0.713    weighted Val loss: 0.2612\n",
      "Epoch: 91   Train loss: 0.0135   Train accuracy: 0.93   Val loss: 0.2184   Val accuracy: 0.703    weighted Val loss: 0.261\n",
      "Epoch: 92   Train loss: 0.0139   Train accuracy: 0.934   Val loss: 0.2113   Val accuracy: 0.709    weighted Val loss: 0.2608\n",
      "Epoch: 93   Train loss: 0.0197   Train accuracy: 0.99   Val loss: 0.206   Val accuracy: 0.72    weighted Val loss: 0.2605\n",
      "Epoch: 94   Train loss: 0.0422   Train accuracy: 0.891   Val loss: 0.2137   Val accuracy: 0.693    weighted Val loss: 0.2603\n",
      "Epoch: 95   Train loss: 0.0385   Train accuracy: 0.903   Val loss: 0.291   Val accuracy: 0.705    weighted Val loss: 0.2604\n"
     ]
    }
   ],
   "source": [
    "MLPparametersGCN = {\n",
    "    'n_layers':2,\n",
    "    'layer_size_factor':[1,1], \n",
    "    'dropout':[0.3, 0.3],\n",
    "    'batch_size': 128,\n",
    "    'num_epochs': 900,\n",
    "    'learning_rate': 6e-4,\n",
    "    'weight_decay': 5e-3,\n",
    "    'betas': (0.9, 0.999), \n",
    "    'eps': 1e-08\n",
    "}\n",
    "MLPmodelGCN, _,_, MLPcheckpointGCN = MLP.train_MLP(dm, sim_all[\"GCN_train\"], sim_all[\"GCN_test\"], MLPparametersGCN, acc_fn=MLP.F1, autostop_decay = 0.995, print_summary = True)"
   ]
  },
  {
   "cell_type": "code",
   "execution_count": 18,
   "metadata": {},
   "outputs": [
    {
     "name": "stdout",
     "output_type": "stream",
     "text": [
      "model saved\n"
     ]
    }
   ],
   "source": [
    "#optional: save the model\n",
    "MLP.save_ckp(MLPcheckpointGCN, \"models/MLPGCN253_2.pt\")"
   ]
  },
  {
   "cell_type": "markdown",
   "metadata": {},
   "source": [
    "###### Result"
   ]
  },
  {
   "cell_type": "code",
   "execution_count": 35,
   "metadata": {},
   "outputs": [
    {
     "name": "stdout",
     "output_type": "stream",
     "text": [
      "device set to cuda\n",
      "threshold: 0.05  validation loss: 0.2187 F1 accuracy 0.676 Precision accuracy 0.636 Recall accuracy 0.722 AUC accuracy: 0.915\n",
      "device set to cuda\n",
      "threshold: 0.1  validation loss: 0.2187 F1 accuracy 0.714 Precision accuracy 0.745 Recall accuracy 0.685 AUC accuracy: 0.915\n",
      "device set to cuda\n",
      "threshold: 0.15  validation loss: 0.2187 F1 accuracy 0.724 Precision accuracy 0.799 Recall accuracy 0.661 AUC accuracy: 0.915\n",
      "device set to cuda\n",
      "threshold: 0.2  validation loss: 0.2187 F1 accuracy 0.713 Precision accuracy 0.819 Recall accuracy 0.631 AUC accuracy: 0.915\n",
      "device set to cuda\n",
      "threshold: 0.25  validation loss: 0.2187 F1 accuracy 0.71 Precision accuracy 0.849 Recall accuracy 0.61 AUC accuracy: 0.915\n",
      "device set to cuda\n",
      "threshold: 0.3  validation loss: 0.2187 F1 accuracy 0.704 Precision accuracy 0.874 Recall accuracy 0.59 AUC accuracy: 0.915\n",
      "device set to cuda\n",
      "threshold: 0.35  validation loss: 0.2187 F1 accuracy 0.685 Precision accuracy 0.882 Recall accuracy 0.559 AUC accuracy: 0.915\n",
      "device set to cuda\n",
      "threshold: 0.4  validation loss: 0.2187 F1 accuracy 0.674 Precision accuracy 0.898 Recall accuracy 0.539 AUC accuracy: 0.915\n",
      "device set to cuda\n",
      "threshold: 0.45  validation loss: 0.2187 F1 accuracy 0.66 Precision accuracy 0.895 Recall accuracy 0.522 AUC accuracy: 0.915\n",
      "device set to cuda\n",
      "threshold: 0.5  validation loss: 0.2187 F1 accuracy 0.652 Precision accuracy 0.92 Recall accuracy 0.505 AUC accuracy: 0.915\n",
      "device set to cuda\n",
      "threshold: 0.55  validation loss: 0.2187 F1 accuracy 0.652 Precision accuracy 0.931 Recall accuracy 0.502 AUC accuracy: 0.915\n",
      "device set to cuda\n",
      "threshold: 0.6  validation loss: 0.2187 F1 accuracy 0.65 Precision accuracy 0.936 Recall accuracy 0.498 AUC accuracy: 0.915\n",
      "device set to cuda\n",
      "threshold: 0.65  validation loss: 0.2187 F1 accuracy 0.64 Precision accuracy 0.941 Recall accuracy 0.485 AUC accuracy: 0.915\n",
      "device set to cuda\n",
      "threshold: 0.7  validation loss: 0.2187 F1 accuracy 0.632 Precision accuracy 0.972 Recall accuracy 0.468 AUC accuracy: 0.915\n",
      "device set to cuda\n",
      "threshold: 0.75  validation loss: 0.2187 F1 accuracy 0.625 Precision accuracy 0.985 Recall accuracy 0.458 AUC accuracy: 0.915\n",
      "device set to cuda\n",
      "threshold: 0.8  validation loss: 0.2187 F1 accuracy 0.597 Precision accuracy 0.992 Recall accuracy 0.427 AUC accuracy: 0.915\n",
      "device set to cuda\n",
      "threshold: 0.85  validation loss: 0.2187 F1 accuracy 0.567 Precision accuracy 0.992 Recall accuracy 0.397 AUC accuracy: 0.915\n",
      "device set to cuda\n",
      "threshold: 0.9  validation loss: 0.2187 F1 accuracy 0.52 Precision accuracy 0.99 Recall accuracy 0.353 AUC accuracy: 0.915\n",
      "device set to cuda\n",
      "threshold: 0.95  validation loss: 0.2187 F1 accuracy 0.43 Precision accuracy 0.988 Recall accuracy 0.275 AUC accuracy: 0.915\n"
     ]
    }
   ],
   "source": [
    "for i in range(5,100, 5):\n",
    "    t = i/100;\n",
    "    MLP.eval_mlp(MLPmodelGCN, sim_all[\"GCN_test\"], dm, device_name = 'cuda', threshold = t)"
   ]
  },
  {
   "cell_type": "markdown",
   "metadata": {},
   "source": [
    "##### 3.1.2 MLP for GDE"
   ]
  },
  {
   "cell_type": "markdown",
   "metadata": {},
   "source": [
    "###### Training"
   ]
  },
  {
   "cell_type": "code",
   "execution_count": 36,
   "metadata": {},
   "outputs": [
    {
     "name": "stdout",
     "output_type": "stream",
     "text": [
      "MLP(\n",
      "  (layers): ModuleList(\n",
      "    (0): Dropout(p=0.3, inplace=False)\n",
      "    (1): Linear(in_features=630, out_features=9, bias=True)\n",
      "    (2): ReLU()\n",
      "    (3): Dropout(p=0.3, inplace=False)\n",
      "    (4): Linear(in_features=9, out_features=1, bias=True)\n",
      "    (5): Sigmoid()\n",
      "  )\n",
      ")\n",
      "----------------------------------------------------------------\n",
      "        Layer (type)               Output Shape         Param #\n",
      "================================================================\n",
      "           Dropout-1                  [-1, 630]               0\n",
      "            Linear-2                    [-1, 9]           5,679\n",
      "              ReLU-3                    [-1, 9]               0\n",
      "           Dropout-4                    [-1, 9]               0\n",
      "            Linear-5                    [-1, 1]              10\n",
      "           Sigmoid-6                    [-1, 1]               0\n",
      "================================================================\n",
      "Total params: 5,689\n",
      "Trainable params: 5,689\n",
      "Non-trainable params: 0\n",
      "----------------------------------------------------------------\n",
      "Input size (MB): 0.00\n",
      "Forward/backward pass size (MB): 0.01\n",
      "Params size (MB): 0.02\n",
      "Estimated Total Size (MB): 0.03\n",
      "----------------------------------------------------------------\n",
      "Epoch: 1   Train loss: 0.4509   Train accuracy: 0.051   Val loss: 0.3154   Val accuracy: 0.423    weighted Val loss: 0.3154\n",
      "0.423 ----------saved-----------\n",
      "Epoch: 2   Train loss: 0.2769   Train accuracy: 0.0   Val loss: 0.305   Val accuracy: 0.523    weighted Val loss: 0.3153\n",
      "0.523 ----------saved-----------\n",
      "Epoch: 3   Train loss: 0.256   Train accuracy: 0.005   Val loss: 0.2875   Val accuracy: 0.584    weighted Val loss: 0.3152\n",
      "0.584 ----------saved-----------\n",
      "Epoch: 4   Train loss: 0.2259   Train accuracy: 0.038   Val loss: 0.2743   Val accuracy: 0.652    weighted Val loss: 0.315\n",
      "0.652 ----------saved-----------\n",
      "Epoch: 5   Train loss: 0.2301   Train accuracy: 0.073   Val loss: 0.2622   Val accuracy: 0.653    weighted Val loss: 0.3147\n",
      "0.653 ----------saved-----------\n",
      "Epoch: 6   Train loss: 0.1865   Train accuracy: 0.255   Val loss: 0.2551   Val accuracy: 0.656    weighted Val loss: 0.3144\n",
      "0.656 ----------saved-----------\n",
      "Epoch: 7   Train loss: 0.1853   Train accuracy: 0.384   Val loss: 0.2485   Val accuracy: 0.654    weighted Val loss: 0.3141\n",
      "Epoch: 8   Train loss: 0.1588   Train accuracy: 0.598   Val loss: 0.2398   Val accuracy: 0.647    weighted Val loss: 0.3137\n",
      "Epoch: 9   Train loss: 0.1469   Train accuracy: 0.63   Val loss: 0.2303   Val accuracy: 0.657    weighted Val loss: 0.3133\n",
      "0.657 ----------saved-----------\n",
      "Epoch: 10   Train loss: 0.135   Train accuracy: 0.685   Val loss: 0.2238   Val accuracy: 0.658    weighted Val loss: 0.3129\n",
      "0.658 ----------saved-----------\n",
      "Epoch: 11   Train loss: 0.1287   Train accuracy: 0.722   Val loss: 0.2164   Val accuracy: 0.671    weighted Val loss: 0.3124\n",
      "0.671 ----------saved-----------\n",
      "Epoch: 12   Train loss: 0.115   Train accuracy: 0.755   Val loss: 0.2099   Val accuracy: 0.672    weighted Val loss: 0.3119\n",
      "0.672 ----------saved-----------\n",
      "Epoch: 13   Train loss: 0.113   Train accuracy: 0.779   Val loss: 0.2037   Val accuracy: 0.674    weighted Val loss: 0.3113\n",
      "0.674 ----------saved-----------\n",
      "Epoch: 14   Train loss: 0.1062   Train accuracy: 0.753   Val loss: 0.1997   Val accuracy: 0.676    weighted Val loss: 0.3108\n",
      "0.676 ----------saved-----------\n",
      "Epoch: 15   Train loss: 0.1053   Train accuracy: 0.776   Val loss: 0.1966   Val accuracy: 0.683    weighted Val loss: 0.3102\n",
      "0.683 ----------saved-----------\n",
      "Epoch: 16   Train loss: 0.1127   Train accuracy: 0.796   Val loss: 0.1934   Val accuracy: 0.689    weighted Val loss: 0.3096\n",
      "0.689 ----------saved-----------\n",
      "Epoch: 17   Train loss: 0.0958   Train accuracy: 0.819   Val loss: 0.1866   Val accuracy: 0.698    weighted Val loss: 0.309\n",
      "0.698 ----------saved-----------\n",
      "Epoch: 18   Train loss: 0.0937   Train accuracy: 0.79   Val loss: 0.1827   Val accuracy: 0.701    weighted Val loss: 0.3084\n",
      "0.701 ----------saved-----------\n",
      "Epoch: 19   Train loss: 0.0876   Train accuracy: 0.799   Val loss: 0.182   Val accuracy: 0.702    weighted Val loss: 0.3077\n",
      "0.702 ----------saved-----------\n",
      "Epoch: 20   Train loss: 0.0792   Train accuracy: 0.824   Val loss: 0.1804   Val accuracy: 0.703    weighted Val loss: 0.3071\n",
      "0.703 ----------saved-----------\n",
      "Epoch: 21   Train loss: 0.0802   Train accuracy: 0.806   Val loss: 0.1797   Val accuracy: 0.704    weighted Val loss: 0.3065\n",
      "0.704 ----------saved-----------\n",
      "Epoch: 22   Train loss: 0.0827   Train accuracy: 0.817   Val loss: 0.1767   Val accuracy: 0.706    weighted Val loss: 0.3058\n",
      "0.706 ----------saved-----------\n",
      "Epoch: 23   Train loss: 0.0753   Train accuracy: 0.823   Val loss: 0.1796   Val accuracy: 0.703    weighted Val loss: 0.3052\n",
      "Epoch: 24   Train loss: 0.0743   Train accuracy: 0.81   Val loss: 0.1763   Val accuracy: 0.708    weighted Val loss: 0.3045\n",
      "0.708 ----------saved-----------\n",
      "Epoch: 25   Train loss: 0.0724   Train accuracy: 0.846   Val loss: 0.1782   Val accuracy: 0.705    weighted Val loss: 0.3039\n",
      "Epoch: 26   Train loss: 0.102   Train accuracy: 0.859   Val loss: 0.1771   Val accuracy: 0.71    weighted Val loss: 0.3033\n",
      "0.71 ----------saved-----------\n",
      "Epoch: 27   Train loss: 0.0752   Train accuracy: 0.868   Val loss: 0.1796   Val accuracy: 0.716    weighted Val loss: 0.3027\n",
      "0.716 ----------saved-----------\n",
      "Epoch: 28   Train loss: 0.0758   Train accuracy: 0.815   Val loss: 0.1764   Val accuracy: 0.718    weighted Val loss: 0.302\n",
      "0.718 ----------saved-----------\n",
      "Epoch: 29   Train loss: 0.0642   Train accuracy: 0.838   Val loss: 0.1803   Val accuracy: 0.716    weighted Val loss: 0.3014\n",
      "Epoch: 30   Train loss: 0.0624   Train accuracy: 0.852   Val loss: 0.1758   Val accuracy: 0.721    weighted Val loss: 0.3008\n",
      "0.721 ----------saved-----------\n",
      "Epoch: 31   Train loss: 0.0644   Train accuracy: 0.846   Val loss: 0.1744   Val accuracy: 0.719    weighted Val loss: 0.3002\n",
      "Epoch: 32   Train loss: 0.0651   Train accuracy: 0.894   Val loss: 0.1768   Val accuracy: 0.721    weighted Val loss: 0.2995\n",
      "Epoch: 33   Train loss: 0.0683   Train accuracy: 0.818   Val loss: 0.1794   Val accuracy: 0.717    weighted Val loss: 0.2989\n",
      "Epoch: 34   Train loss: 0.0627   Train accuracy: 0.831   Val loss: 0.1739   Val accuracy: 0.717    weighted Val loss: 0.2983\n",
      "Epoch: 35   Train loss: 0.0834   Train accuracy: 0.844   Val loss: 0.1789   Val accuracy: 0.718    weighted Val loss: 0.2977\n",
      "Epoch: 36   Train loss: 0.1216   Train accuracy: 0.859   Val loss: 0.1896   Val accuracy: 0.71    weighted Val loss: 0.2972\n",
      "Epoch: 37   Train loss: 0.0878   Train accuracy: 0.84   Val loss: 0.2041   Val accuracy: 0.696    weighted Val loss: 0.2967\n",
      "Epoch: 38   Train loss: 0.0665   Train accuracy: 0.802   Val loss: 0.1863   Val accuracy: 0.699    weighted Val loss: 0.2962\n",
      "Epoch: 39   Train loss: 0.0602   Train accuracy: 0.831   Val loss: 0.1858   Val accuracy: 0.701    weighted Val loss: 0.2956\n",
      "Epoch: 40   Train loss: 0.0607   Train accuracy: 0.908   Val loss: 0.1859   Val accuracy: 0.701    weighted Val loss: 0.2951\n",
      "Epoch: 41   Train loss: 0.0588   Train accuracy: 0.852   Val loss: 0.1874   Val accuracy: 0.7    weighted Val loss: 0.2945\n",
      "Epoch: 42   Train loss: 0.0581   Train accuracy: 0.849   Val loss: 0.1817   Val accuracy: 0.708    weighted Val loss: 0.294\n",
      "Epoch: 43   Train loss: 0.0515   Train accuracy: 0.841   Val loss: 0.1834   Val accuracy: 0.706    weighted Val loss: 0.2934\n",
      "Epoch: 44   Train loss: 0.0774   Train accuracy: 0.838   Val loss: 0.1832   Val accuracy: 0.707    weighted Val loss: 0.2929\n",
      "Epoch: 45   Train loss: 0.0671   Train accuracy: 0.863   Val loss: 0.1813   Val accuracy: 0.707    weighted Val loss: 0.2923\n",
      "Epoch: 46   Train loss: 0.0593   Train accuracy: 0.857   Val loss: 0.2041   Val accuracy: 0.695    weighted Val loss: 0.2919\n",
      "Epoch: 47   Train loss: 0.0525   Train accuracy: 0.871   Val loss: 0.1886   Val accuracy: 0.7    weighted Val loss: 0.2913\n",
      "Epoch: 48   Train loss: 0.0567   Train accuracy: 0.832   Val loss: 0.1884   Val accuracy: 0.703    weighted Val loss: 0.2908\n",
      "Epoch: 49   Train loss: 0.055   Train accuracy: 0.845   Val loss: 0.1876   Val accuracy: 0.71    weighted Val loss: 0.2903\n",
      "Epoch: 50   Train loss: 0.0548   Train accuracy: 0.849   Val loss: 0.1835   Val accuracy: 0.716    weighted Val loss: 0.2898\n",
      "Epoch: 51   Train loss: 0.0528   Train accuracy: 0.852   Val loss: 0.184   Val accuracy: 0.716    weighted Val loss: 0.2892\n",
      "Epoch: 52   Train loss: 0.0509   Train accuracy: 0.896   Val loss: 0.1863   Val accuracy: 0.711    weighted Val loss: 0.2887\n",
      "Epoch: 53   Train loss: 0.048   Train accuracy: 0.852   Val loss: 0.1849   Val accuracy: 0.714    weighted Val loss: 0.2882\n",
      "Epoch: 54   Train loss: 0.065   Train accuracy: 0.896   Val loss: 0.1857   Val accuracy: 0.717    weighted Val loss: 0.2877\n",
      "Epoch: 55   Train loss: 0.0514   Train accuracy: 0.857   Val loss: 0.1884   Val accuracy: 0.711    weighted Val loss: 0.2872\n",
      "Epoch: 56   Train loss: 0.0482   Train accuracy: 0.85   Val loss: 0.1826   Val accuracy: 0.726    weighted Val loss: 0.2867\n",
      "0.726 ----------saved-----------\n",
      "Epoch: 57   Train loss: 0.0466   Train accuracy: 0.875   Val loss: 0.1821   Val accuracy: 0.726    weighted Val loss: 0.2862\n",
      "Epoch: 58   Train loss: 0.0435   Train accuracy: 0.875   Val loss: 0.1808   Val accuracy: 0.724    weighted Val loss: 0.2856\n",
      "Epoch: 59   Train loss: 0.0458   Train accuracy: 0.89   Val loss: 0.1825   Val accuracy: 0.721    weighted Val loss: 0.2851\n",
      "Epoch: 60   Train loss: 0.0567   Train accuracy: 0.857   Val loss: 0.1807   Val accuracy: 0.724    weighted Val loss: 0.2846\n",
      "Epoch: 61   Train loss: 0.0443   Train accuracy: 0.918   Val loss: 0.1811   Val accuracy: 0.72    weighted Val loss: 0.2841\n",
      "Epoch: 62   Train loss: 0.0484   Train accuracy: 0.905   Val loss: 0.1865   Val accuracy: 0.72    weighted Val loss: 0.2836\n",
      "Epoch: 63   Train loss: 0.0583   Train accuracy: 0.898   Val loss: 0.1858   Val accuracy: 0.716    weighted Val loss: 0.2831\n",
      "Epoch: 64   Train loss: 0.0444   Train accuracy: 0.869   Val loss: 0.183   Val accuracy: 0.721    weighted Val loss: 0.2826\n",
      "Epoch: 65   Train loss: 0.0398   Train accuracy: 0.883   Val loss: 0.1809   Val accuracy: 0.725    weighted Val loss: 0.2821\n",
      "Epoch: 66   Train loss: 0.044   Train accuracy: 0.87   Val loss: 0.1838   Val accuracy: 0.727    weighted Val loss: 0.2816\n",
      "0.727 ----------saved-----------\n",
      "Epoch: 67   Train loss: 0.062   Train accuracy: 0.85   Val loss: 0.1804   Val accuracy: 0.727    weighted Val loss: 0.2811\n",
      "0.727 ----------saved-----------\n",
      "Epoch: 68   Train loss: 0.0423   Train accuracy: 0.88   Val loss: 0.1797   Val accuracy: 0.726    weighted Val loss: 0.2806\n",
      "Epoch: 69   Train loss: 0.0415   Train accuracy: 0.88   Val loss: 0.1801   Val accuracy: 0.725    weighted Val loss: 0.2801\n",
      "Epoch: 70   Train loss: 0.044   Train accuracy: 0.878   Val loss: 0.1837   Val accuracy: 0.727    weighted Val loss: 0.2796\n",
      "0.727 ----------saved-----------\n",
      "Epoch: 71   Train loss: 0.0432   Train accuracy: 0.856   Val loss: 0.1864   Val accuracy: 0.721    weighted Val loss: 0.2791\n",
      "Epoch: 72   Train loss: 0.0411   Train accuracy: 0.881   Val loss: 0.1851   Val accuracy: 0.719    weighted Val loss: 0.2787\n",
      "Epoch: 73   Train loss: 0.0386   Train accuracy: 0.882   Val loss: 0.1857   Val accuracy: 0.72    weighted Val loss: 0.2782\n",
      "Epoch: 74   Train loss: 0.038   Train accuracy: 0.871   Val loss: 0.1812   Val accuracy: 0.726    weighted Val loss: 0.2777\n",
      "Epoch: 75   Train loss: 0.0445   Train accuracy: 0.863   Val loss: 0.1801   Val accuracy: 0.731    weighted Val loss: 0.2772\n",
      "0.731 ----------saved-----------\n",
      "Epoch: 76   Train loss: 0.0425   Train accuracy: 0.869   Val loss: 0.1848   Val accuracy: 0.722    weighted Val loss: 0.2768\n",
      "Epoch: 77   Train loss: 0.0402   Train accuracy: 0.883   Val loss: 0.1871   Val accuracy: 0.723    weighted Val loss: 0.2763\n",
      "Epoch: 78   Train loss: 0.0584   Train accuracy: 0.872   Val loss: 0.1922   Val accuracy: 0.721    weighted Val loss: 0.2759\n",
      "Epoch: 79   Train loss: 0.0572   Train accuracy: 0.855   Val loss: 0.1978   Val accuracy: 0.701    weighted Val loss: 0.2755\n",
      "Epoch: 80   Train loss: 0.0392   Train accuracy: 0.932   Val loss: 0.1903   Val accuracy: 0.715    weighted Val loss: 0.2751\n",
      "Epoch: 81   Train loss: 0.0322   Train accuracy: 0.903   Val loss: 0.1965   Val accuracy: 0.707    weighted Val loss: 0.2747\n",
      "Epoch: 82   Train loss: 0.0623   Train accuracy: 0.87   Val loss: 0.1901   Val accuracy: 0.713    weighted Val loss: 0.2743\n",
      "Epoch: 83   Train loss: 0.0454   Train accuracy: 0.849   Val loss: 0.178   Val accuracy: 0.738    weighted Val loss: 0.2738\n",
      "0.738 ----------saved-----------\n",
      "Epoch: 84   Train loss: 0.0438   Train accuracy: 0.907   Val loss: 0.1839   Val accuracy: 0.734    weighted Val loss: 0.2733\n",
      "Epoch: 85   Train loss: 0.0438   Train accuracy: 0.874   Val loss: 0.187   Val accuracy: 0.737    weighted Val loss: 0.2729\n",
      "Epoch: 86   Train loss: 0.0377   Train accuracy: 0.88   Val loss: 0.1826   Val accuracy: 0.736    weighted Val loss: 0.2725\n",
      "Epoch: 87   Train loss: 0.0376   Train accuracy: 0.885   Val loss: 0.1841   Val accuracy: 0.733    weighted Val loss: 0.272\n",
      "Epoch: 88   Train loss: 0.0389   Train accuracy: 0.921   Val loss: 0.1849   Val accuracy: 0.731    weighted Val loss: 0.2716\n",
      "Epoch: 89   Train loss: 0.0461   Train accuracy: 0.908   Val loss: 0.182   Val accuracy: 0.733    weighted Val loss: 0.2711\n",
      "Epoch: 90   Train loss: 0.0424   Train accuracy: 0.889   Val loss: 0.1934   Val accuracy: 0.731    weighted Val loss: 0.2707\n",
      "Epoch: 91   Train loss: 0.0394   Train accuracy: 0.885   Val loss: 0.1799   Val accuracy: 0.736    weighted Val loss: 0.2703\n",
      "Epoch: 92   Train loss: 0.0347   Train accuracy: 0.885   Val loss: 0.1816   Val accuracy: 0.736    weighted Val loss: 0.2698\n",
      "Epoch: 93   Train loss: 0.041   Train accuracy: 0.851   Val loss: 0.1787   Val accuracy: 0.74    weighted Val loss: 0.2694\n",
      "0.74 ----------saved-----------\n",
      "Epoch: 94   Train loss: 0.0365   Train accuracy: 0.884   Val loss: 0.178   Val accuracy: 0.747    weighted Val loss: 0.2689\n",
      "0.747 ----------saved-----------\n",
      "Epoch: 95   Train loss: 0.0344   Train accuracy: 0.901   Val loss: 0.1833   Val accuracy: 0.74    weighted Val loss: 0.2685\n",
      "Epoch: 96   Train loss: 0.045   Train accuracy: 0.863   Val loss: 0.1806   Val accuracy: 0.744    weighted Val loss: 0.2681\n",
      "Epoch: 97   Train loss: 0.0321   Train accuracy: 0.885   Val loss: 0.1872   Val accuracy: 0.74    weighted Val loss: 0.2677\n",
      "Epoch: 98   Train loss: 0.0334   Train accuracy: 0.876   Val loss: 0.1874   Val accuracy: 0.738    weighted Val loss: 0.2673\n",
      "Epoch: 99   Train loss: 0.0376   Train accuracy: 0.868   Val loss: 0.1858   Val accuracy: 0.744    weighted Val loss: 0.2668\n",
      "Epoch: 100   Train loss: 0.0377   Train accuracy: 0.87   Val loss: 0.1866   Val accuracy: 0.733    weighted Val loss: 0.2664\n",
      "Epoch: 101   Train loss: 0.0335   Train accuracy: 0.886   Val loss: 0.1894   Val accuracy: 0.732    weighted Val loss: 0.2661\n",
      "Epoch: 102   Train loss: 0.0333   Train accuracy: 0.9   Val loss: 0.184   Val accuracy: 0.742    weighted Val loss: 0.2657\n",
      "Epoch: 103   Train loss: 0.0314   Train accuracy: 0.88   Val loss: 0.1926   Val accuracy: 0.733    weighted Val loss: 0.2653\n",
      "Epoch: 104   Train loss: 0.0353   Train accuracy: 0.878   Val loss: 0.1884   Val accuracy: 0.732    weighted Val loss: 0.2649\n",
      "Epoch: 105   Train loss: 0.0358   Train accuracy: 0.886   Val loss: 0.1873   Val accuracy: 0.735    weighted Val loss: 0.2645\n",
      "Epoch: 106   Train loss: 0.0368   Train accuracy: 0.884   Val loss: 0.1863   Val accuracy: 0.742    weighted Val loss: 0.2641\n",
      "Epoch: 107   Train loss: 0.0331   Train accuracy: 0.881   Val loss: 0.1874   Val accuracy: 0.74    weighted Val loss: 0.2637\n",
      "Epoch: 108   Train loss: 0.0337   Train accuracy: 0.885   Val loss: 0.1848   Val accuracy: 0.742    weighted Val loss: 0.2633\n",
      "Epoch: 109   Train loss: 0.0335   Train accuracy: 0.894   Val loss: 0.1847   Val accuracy: 0.745    weighted Val loss: 0.2629\n",
      "Epoch: 110   Train loss: 0.0351   Train accuracy: 0.881   Val loss: 0.1849   Val accuracy: 0.737    weighted Val loss: 0.2626\n",
      "Epoch: 111   Train loss: 0.0333   Train accuracy: 0.888   Val loss: 0.1872   Val accuracy: 0.736    weighted Val loss: 0.2622\n",
      "Epoch: 112   Train loss: 0.0349   Train accuracy: 0.887   Val loss: 0.1891   Val accuracy: 0.738    weighted Val loss: 0.2618\n",
      "Epoch: 113   Train loss: 0.0301   Train accuracy: 0.887   Val loss: 0.1889   Val accuracy: 0.743    weighted Val loss: 0.2615\n",
      "Epoch: 114   Train loss: 0.0362   Train accuracy: 0.929   Val loss: 0.189   Val accuracy: 0.739    weighted Val loss: 0.2611\n",
      "Epoch: 115   Train loss: 0.0359   Train accuracy: 0.882   Val loss: 0.1939   Val accuracy: 0.735    weighted Val loss: 0.2608\n",
      "Epoch: 116   Train loss: 0.0797   Train accuracy: 0.88   Val loss: 0.1904   Val accuracy: 0.738    weighted Val loss: 0.2604\n",
      "Epoch: 117   Train loss: 0.0508   Train accuracy: 0.87   Val loss: 0.178   Val accuracy: 0.74    weighted Val loss: 0.26\n",
      "Epoch: 118   Train loss: 0.0387   Train accuracy: 0.918   Val loss: 0.1881   Val accuracy: 0.733    weighted Val loss: 0.2596\n",
      "Epoch: 119   Train loss: 0.0416   Train accuracy: 0.864   Val loss: 0.1904   Val accuracy: 0.73    weighted Val loss: 0.2593\n",
      "Epoch: 120   Train loss: 0.0409   Train accuracy: 0.879   Val loss: 0.1862   Val accuracy: 0.735    weighted Val loss: 0.2589\n",
      "Epoch: 121   Train loss: 0.0331   Train accuracy: 0.894   Val loss: 0.1854   Val accuracy: 0.734    weighted Val loss: 0.2586\n",
      "Epoch: 122   Train loss: 0.0481   Train accuracy: 0.885   Val loss: 0.1899   Val accuracy: 0.724    weighted Val loss: 0.2582\n",
      "Epoch: 123   Train loss: 0.0469   Train accuracy: 0.928   Val loss: 0.1905   Val accuracy: 0.723    weighted Val loss: 0.2579\n",
      "Epoch: 124   Train loss: 0.0412   Train accuracy: 0.912   Val loss: 0.1909   Val accuracy: 0.723    weighted Val loss: 0.2575\n",
      "Epoch: 125   Train loss: 0.0332   Train accuracy: 0.882   Val loss: 0.1918   Val accuracy: 0.726    weighted Val loss: 0.2572\n",
      "Epoch: 126   Train loss: 0.0354   Train accuracy: 0.889   Val loss: 0.1909   Val accuracy: 0.728    weighted Val loss: 0.2569\n",
      "Epoch: 127   Train loss: 0.0387   Train accuracy: 0.921   Val loss: 0.2057   Val accuracy: 0.718    weighted Val loss: 0.2566\n",
      "Epoch: 128   Train loss: 0.0333   Train accuracy: 0.891   Val loss: 0.1907   Val accuracy: 0.728    weighted Val loss: 0.2563\n",
      "Epoch: 129   Train loss: 0.0369   Train accuracy: 0.915   Val loss: 0.1899   Val accuracy: 0.728    weighted Val loss: 0.256\n",
      "Epoch: 130   Train loss: 0.0369   Train accuracy: 0.932   Val loss: 0.1926   Val accuracy: 0.724    weighted Val loss: 0.2556\n",
      "Epoch: 131   Train loss: 0.0388   Train accuracy: 0.891   Val loss: 0.1879   Val accuracy: 0.728    weighted Val loss: 0.2553\n",
      "Epoch: 132   Train loss: 0.0314   Train accuracy: 0.88   Val loss: 0.1859   Val accuracy: 0.726    weighted Val loss: 0.255\n",
      "Epoch: 133   Train loss: 0.0357   Train accuracy: 0.88   Val loss: 0.1954   Val accuracy: 0.722    weighted Val loss: 0.2547\n",
      "Epoch: 134   Train loss: 0.0367   Train accuracy: 0.884   Val loss: 0.1907   Val accuracy: 0.723    weighted Val loss: 0.2543\n",
      "Epoch: 135   Train loss: 0.0283   Train accuracy: 0.899   Val loss: 0.1964   Val accuracy: 0.722    weighted Val loss: 0.254\n",
      "Epoch: 136   Train loss: 0.033   Train accuracy: 0.881   Val loss: 0.1946   Val accuracy: 0.724    weighted Val loss: 0.2538\n",
      "Epoch: 137   Train loss: 0.0511   Train accuracy: 0.933   Val loss: 0.1899   Val accuracy: 0.729    weighted Val loss: 0.2534\n",
      "Epoch: 138   Train loss: 0.0324   Train accuracy: 0.903   Val loss: 0.1894   Val accuracy: 0.726    weighted Val loss: 0.2531\n",
      "Epoch: 139   Train loss: 0.0328   Train accuracy: 0.94   Val loss: 0.1874   Val accuracy: 0.729    weighted Val loss: 0.2528\n",
      "Epoch: 140   Train loss: 0.0366   Train accuracy: 0.888   Val loss: 0.1937   Val accuracy: 0.726    weighted Val loss: 0.2525\n",
      "Epoch: 141   Train loss: 0.0328   Train accuracy: 0.904   Val loss: 0.1894   Val accuracy: 0.732    weighted Val loss: 0.2522\n",
      "Epoch: 142   Train loss: 0.0301   Train accuracy: 0.893   Val loss: 0.1905   Val accuracy: 0.73    weighted Val loss: 0.2519\n",
      "Epoch: 143   Train loss: 0.0368   Train accuracy: 0.887   Val loss: 0.1937   Val accuracy: 0.725    weighted Val loss: 0.2516\n",
      "Epoch: 144   Train loss: 0.0356   Train accuracy: 0.897   Val loss: 0.1905   Val accuracy: 0.729    weighted Val loss: 0.2513\n",
      "Epoch: 145   Train loss: 0.0357   Train accuracy: 0.889   Val loss: 0.1939   Val accuracy: 0.726    weighted Val loss: 0.251\n",
      "Epoch: 146   Train loss: 0.0287   Train accuracy: 0.908   Val loss: 0.1942   Val accuracy: 0.724    weighted Val loss: 0.2507\n",
      "Epoch: 147   Train loss: 0.0306   Train accuracy: 0.897   Val loss: 0.1908   Val accuracy: 0.73    weighted Val loss: 0.2504\n",
      "Epoch: 148   Train loss: 0.0319   Train accuracy: 0.939   Val loss: 0.1943   Val accuracy: 0.727    weighted Val loss: 0.2501\n",
      "Epoch: 149   Train loss: 0.031   Train accuracy: 0.889   Val loss: 0.196   Val accuracy: 0.726    weighted Val loss: 0.2498\n",
      "Epoch: 150   Train loss: 0.0285   Train accuracy: 0.899   Val loss: 0.1936   Val accuracy: 0.724    weighted Val loss: 0.2496\n",
      "Epoch: 151   Train loss: 0.0346   Train accuracy: 0.89   Val loss: 0.1965   Val accuracy: 0.724    weighted Val loss: 0.2493\n",
      "Epoch: 152   Train loss: 0.0313   Train accuracy: 0.942   Val loss: 0.1926   Val accuracy: 0.724    weighted Val loss: 0.249\n",
      "Epoch: 153   Train loss: 0.036   Train accuracy: 0.891   Val loss: 0.1924   Val accuracy: 0.724    weighted Val loss: 0.2487\n",
      "Epoch: 154   Train loss: 0.0345   Train accuracy: 0.87   Val loss: 0.192   Val accuracy: 0.722    weighted Val loss: 0.2484\n",
      "Epoch: 155   Train loss: 0.0329   Train accuracy: 0.888   Val loss: 0.1973   Val accuracy: 0.72    weighted Val loss: 0.2482\n",
      "Epoch: 156   Train loss: 0.0319   Train accuracy: 0.888   Val loss: 0.1958   Val accuracy: 0.719    weighted Val loss: 0.2479\n",
      "Epoch: 157   Train loss: 0.0306   Train accuracy: 0.888   Val loss: 0.1985   Val accuracy: 0.719    weighted Val loss: 0.2477\n",
      "Epoch: 158   Train loss: 0.0326   Train accuracy: 0.872   Val loss: 0.1956   Val accuracy: 0.721    weighted Val loss: 0.2474\n",
      "Epoch: 159   Train loss: 0.0341   Train accuracy: 0.883   Val loss: 0.1962   Val accuracy: 0.72    weighted Val loss: 0.2472\n",
      "Epoch: 160   Train loss: 0.0341   Train accuracy: 0.895   Val loss: 0.196   Val accuracy: 0.725    weighted Val loss: 0.2469\n",
      "Epoch: 161   Train loss: 0.0305   Train accuracy: 0.899   Val loss: 0.1929   Val accuracy: 0.729    weighted Val loss: 0.2466\n",
      "Epoch: 162   Train loss: 0.0306   Train accuracy: 0.901   Val loss: 0.2007   Val accuracy: 0.721    weighted Val loss: 0.2464\n",
      "Epoch: 163   Train loss: 0.033   Train accuracy: 0.881   Val loss: 0.1992   Val accuracy: 0.726    weighted Val loss: 0.2462\n",
      "Epoch: 164   Train loss: 0.029   Train accuracy: 0.898   Val loss: 0.1958   Val accuracy: 0.727    weighted Val loss: 0.2459\n",
      "Epoch: 165   Train loss: 0.0321   Train accuracy: 0.893   Val loss: 0.1907   Val accuracy: 0.729    weighted Val loss: 0.2456\n",
      "Epoch: 166   Train loss: 0.0355   Train accuracy: 0.889   Val loss: 0.196   Val accuracy: 0.729    weighted Val loss: 0.2454\n",
      "Epoch: 167   Train loss: 0.0334   Train accuracy: 0.945   Val loss: 0.192   Val accuracy: 0.729    weighted Val loss: 0.2451\n",
      "Epoch: 168   Train loss: 0.0344   Train accuracy: 0.889   Val loss: 0.1943   Val accuracy: 0.725    weighted Val loss: 0.2449\n",
      "Epoch: 169   Train loss: 0.0316   Train accuracy: 0.883   Val loss: 0.1938   Val accuracy: 0.724    weighted Val loss: 0.2446\n",
      "Epoch: 170   Train loss: 0.0347   Train accuracy: 0.886   Val loss: 0.1904   Val accuracy: 0.732    weighted Val loss: 0.2444\n",
      "Epoch: 171   Train loss: 0.0273   Train accuracy: 0.949   Val loss: 0.1992   Val accuracy: 0.725    weighted Val loss: 0.2441\n",
      "Epoch: 172   Train loss: 0.0291   Train accuracy: 0.893   Val loss: 0.1999   Val accuracy: 0.726    weighted Val loss: 0.2439\n",
      "Epoch: 173   Train loss: 0.0286   Train accuracy: 0.909   Val loss: 0.1966   Val accuracy: 0.727    weighted Val loss: 0.2437\n",
      "Epoch: 174   Train loss: 0.0346   Train accuracy: 0.877   Val loss: 0.1979   Val accuracy: 0.72    weighted Val loss: 0.2434\n",
      "Epoch: 175   Train loss: 0.0356   Train accuracy: 0.888   Val loss: 0.1906   Val accuracy: 0.725    weighted Val loss: 0.2432\n",
      "Epoch: 176   Train loss: 0.0305   Train accuracy: 0.888   Val loss: 0.1973   Val accuracy: 0.718    weighted Val loss: 0.2429\n",
      "Epoch: 177   Train loss: 0.0302   Train accuracy: 0.898   Val loss: 0.1985   Val accuracy: 0.725    weighted Val loss: 0.2427\n",
      "Epoch: 178   Train loss: 0.031   Train accuracy: 0.886   Val loss: 0.2001   Val accuracy: 0.718    weighted Val loss: 0.2425\n",
      "Epoch: 179   Train loss: 0.0318   Train accuracy: 0.906   Val loss: 0.1934   Val accuracy: 0.727    weighted Val loss: 0.2423\n",
      "Epoch: 180   Train loss: 0.028   Train accuracy: 0.889   Val loss: 0.1995   Val accuracy: 0.716    weighted Val loss: 0.2421\n",
      "Epoch: 181   Train loss: 0.0305   Train accuracy: 0.899   Val loss: 0.1926   Val accuracy: 0.73    weighted Val loss: 0.2418\n",
      "Epoch: 182   Train loss: 0.0335   Train accuracy: 0.884   Val loss: 0.1893   Val accuracy: 0.728    weighted Val loss: 0.2415\n",
      "Epoch: 183   Train loss: 0.028   Train accuracy: 0.919   Val loss: 0.1912   Val accuracy: 0.731    weighted Val loss: 0.2413\n",
      "Epoch: 184   Train loss: 0.0278   Train accuracy: 0.93   Val loss: 0.2015   Val accuracy: 0.721    weighted Val loss: 0.2411\n",
      "Epoch: 185   Train loss: 0.0345   Train accuracy: 0.876   Val loss: 0.193   Val accuracy: 0.735    weighted Val loss: 0.2408\n",
      "Epoch: 186   Train loss: 0.0324   Train accuracy: 0.894   Val loss: 0.1906   Val accuracy: 0.735    weighted Val loss: 0.2406\n",
      "Epoch: 187   Train loss: 0.0347   Train accuracy: 0.894   Val loss: 0.1989   Val accuracy: 0.725    weighted Val loss: 0.2404\n",
      "Epoch: 188   Train loss: 0.0317   Train accuracy: 0.9   Val loss: 0.1867   Val accuracy: 0.734    weighted Val loss: 0.2401\n",
      "Epoch: 189   Train loss: 0.0292   Train accuracy: 0.909   Val loss: 0.1917   Val accuracy: 0.731    weighted Val loss: 0.2399\n",
      "Epoch: 190   Train loss: 0.0321   Train accuracy: 0.893   Val loss: 0.1943   Val accuracy: 0.728    weighted Val loss: 0.2397\n",
      "Epoch: 191   Train loss: 0.0295   Train accuracy: 0.902   Val loss: 0.1922   Val accuracy: 0.725    weighted Val loss: 0.2394\n",
      "Epoch: 192   Train loss: 0.0324   Train accuracy: 0.896   Val loss: 0.2032   Val accuracy: 0.716    weighted Val loss: 0.2392\n",
      "Epoch: 193   Train loss: 0.0338   Train accuracy: 0.88   Val loss: 0.2029   Val accuracy: 0.712    weighted Val loss: 0.2391\n",
      "Epoch: 194   Train loss: 0.0348   Train accuracy: 0.882   Val loss: 0.2   Val accuracy: 0.72    weighted Val loss: 0.2389\n",
      "Epoch: 195   Train loss: 0.0295   Train accuracy: 0.89   Val loss: 0.2099   Val accuracy: 0.706    weighted Val loss: 0.2387\n",
      "Epoch: 196   Train loss: 0.0295   Train accuracy: 0.895   Val loss: 0.2005   Val accuracy: 0.714    weighted Val loss: 0.2385\n",
      "Epoch: 197   Train loss: 0.0327   Train accuracy: 0.889   Val loss: 0.2024   Val accuracy: 0.713    weighted Val loss: 0.2383\n",
      "Epoch: 198   Train loss: 0.08   Train accuracy: 0.895   Val loss: 0.2143   Val accuracy: 0.707    weighted Val loss: 0.2382\n",
      "Epoch: 199   Train loss: 0.0633   Train accuracy: 0.832   Val loss: 0.2028   Val accuracy: 0.726    weighted Val loss: 0.238\n",
      "Epoch: 200   Train loss: 0.0473   Train accuracy: 0.851   Val loss: 0.204   Val accuracy: 0.704    weighted Val loss: 0.2379\n",
      "Epoch: 201   Train loss: 0.0394   Train accuracy: 0.874   Val loss: 0.1928   Val accuracy: 0.721    weighted Val loss: 0.2376\n",
      "Epoch: 202   Train loss: 0.0358   Train accuracy: 0.884   Val loss: 0.193   Val accuracy: 0.716    weighted Val loss: 0.2374\n",
      "Epoch: 203   Train loss: 0.034   Train accuracy: 0.89   Val loss: 0.1915   Val accuracy: 0.723    weighted Val loss: 0.2372\n",
      "Epoch: 204   Train loss: 0.0417   Train accuracy: 0.87   Val loss: 0.1938   Val accuracy: 0.719    weighted Val loss: 0.237\n",
      "Epoch: 205   Train loss: 0.0317   Train accuracy: 0.877   Val loss: 0.1898   Val accuracy: 0.73    weighted Val loss: 0.2367\n",
      "Epoch: 206   Train loss: 0.0306   Train accuracy: 0.891   Val loss: 0.1968   Val accuracy: 0.721    weighted Val loss: 0.2365\n",
      "Epoch: 207   Train loss: 0.0335   Train accuracy: 0.885   Val loss: 0.2007   Val accuracy: 0.716    weighted Val loss: 0.2364\n",
      "Epoch: 208   Train loss: 0.0746   Train accuracy: 0.877   Val loss: 0.1996   Val accuracy: 0.714    weighted Val loss: 0.2362\n",
      "Epoch: 209   Train loss: 0.0673   Train accuracy: 0.815   Val loss: 0.1669   Val accuracy: 0.743    weighted Val loss: 0.2358\n",
      "Epoch: 210   Train loss: 0.0563   Train accuracy: 0.911   Val loss: 0.1903   Val accuracy: 0.723    weighted Val loss: 0.2356\n",
      "Epoch: 211   Train loss: 0.0399   Train accuracy: 0.889   Val loss: 0.1935   Val accuracy: 0.737    weighted Val loss: 0.2354\n",
      "Epoch: 212   Train loss: 0.0343   Train accuracy: 0.89   Val loss: 0.1982   Val accuracy: 0.73    weighted Val loss: 0.2352\n",
      "Epoch: 213   Train loss: 0.0364   Train accuracy: 0.882   Val loss: 0.1959   Val accuracy: 0.726    weighted Val loss: 0.235\n",
      "Epoch: 214   Train loss: 0.0411   Train accuracy: 0.862   Val loss: 0.1962   Val accuracy: 0.716    weighted Val loss: 0.2348\n",
      "Epoch: 215   Train loss: 0.0373   Train accuracy: 0.883   Val loss: 0.1918   Val accuracy: 0.725    weighted Val loss: 0.2346\n",
      "Epoch: 216   Train loss: 0.0364   Train accuracy: 0.93   Val loss: 0.1919   Val accuracy: 0.726    weighted Val loss: 0.2344\n",
      "Epoch: 217   Train loss: 0.0348   Train accuracy: 0.886   Val loss: 0.1934   Val accuracy: 0.717    weighted Val loss: 0.2342\n",
      "Epoch: 218   Train loss: 0.0306   Train accuracy: 0.89   Val loss: 0.1931   Val accuracy: 0.721    weighted Val loss: 0.234\n",
      "Epoch: 219   Train loss: 0.0333   Train accuracy: 0.877   Val loss: 0.1953   Val accuracy: 0.72    weighted Val loss: 0.2338\n",
      "Epoch: 220   Train loss: 0.0306   Train accuracy: 0.897   Val loss: 0.1885   Val accuracy: 0.728    weighted Val loss: 0.2336\n",
      "Epoch: 221   Train loss: 0.0331   Train accuracy: 0.944   Val loss: 0.189   Val accuracy: 0.729    weighted Val loss: 0.2333\n",
      "Epoch: 222   Train loss: 0.0344   Train accuracy: 0.884   Val loss: 0.1902   Val accuracy: 0.723    weighted Val loss: 0.2331\n",
      "Epoch: 223   Train loss: 0.034   Train accuracy: 0.901   Val loss: 0.1869   Val accuracy: 0.731    weighted Val loss: 0.2329\n",
      "Epoch: 224   Train loss: 0.0302   Train accuracy: 0.903   Val loss: 0.1904   Val accuracy: 0.727    weighted Val loss: 0.2327\n",
      "Epoch: 225   Train loss: 0.0309   Train accuracy: 0.902   Val loss: 0.1999   Val accuracy: 0.715    weighted Val loss: 0.2325\n",
      "Epoch: 226   Train loss: 0.0337   Train accuracy: 0.883   Val loss: 0.1937   Val accuracy: 0.73    weighted Val loss: 0.2323\n",
      "Epoch: 227   Train loss: 0.0363   Train accuracy: 0.893   Val loss: 0.1919   Val accuracy: 0.729    weighted Val loss: 0.2321\n",
      "Epoch: 228   Train loss: 0.03   Train accuracy: 0.899   Val loss: 0.1901   Val accuracy: 0.728    weighted Val loss: 0.2319\n",
      "Epoch: 229   Train loss: 0.0408   Train accuracy: 0.903   Val loss: 0.1956   Val accuracy: 0.723    weighted Val loss: 0.2317\n",
      "Epoch: 230   Train loss: 0.0278   Train accuracy: 0.949   Val loss: 0.1945   Val accuracy: 0.724    weighted Val loss: 0.2315\n",
      "Epoch: 231   Train loss: 0.0305   Train accuracy: 0.882   Val loss: 0.1984   Val accuracy: 0.721    weighted Val loss: 0.2314\n",
      "Epoch: 232   Train loss: 0.0277   Train accuracy: 0.943   Val loss: 0.2003   Val accuracy: 0.725    weighted Val loss: 0.2312\n",
      "Epoch: 233   Train loss: 0.0324   Train accuracy: 0.882   Val loss: 0.1992   Val accuracy: 0.724    weighted Val loss: 0.2311\n",
      "Epoch: 234   Train loss: 0.0299   Train accuracy: 0.898   Val loss: 0.1941   Val accuracy: 0.731    weighted Val loss: 0.2309\n",
      "Epoch: 235   Train loss: 0.0317   Train accuracy: 0.898   Val loss: 0.1993   Val accuracy: 0.723    weighted Val loss: 0.2307\n",
      "Epoch: 236   Train loss: 0.0256   Train accuracy: 0.908   Val loss: 0.1971   Val accuracy: 0.729    weighted Val loss: 0.2305\n",
      "Epoch: 237   Train loss: 0.0287   Train accuracy: 0.887   Val loss: 0.2023   Val accuracy: 0.723    weighted Val loss: 0.2304\n",
      "Epoch: 238   Train loss: 0.0258   Train accuracy: 0.902   Val loss: 0.1985   Val accuracy: 0.729    weighted Val loss: 0.2302\n",
      "Epoch: 239   Train loss: 0.0293   Train accuracy: 0.889   Val loss: 0.1906   Val accuracy: 0.735    weighted Val loss: 0.23\n",
      "Epoch: 240   Train loss: 0.0281   Train accuracy: 0.948   Val loss: 0.1926   Val accuracy: 0.731    weighted Val loss: 0.2299\n",
      "Epoch: 241   Train loss: 0.0272   Train accuracy: 0.889   Val loss: 0.1936   Val accuracy: 0.736    weighted Val loss: 0.2297\n",
      "Epoch: 242   Train loss: 0.0288   Train accuracy: 0.957   Val loss: 0.1908   Val accuracy: 0.741    weighted Val loss: 0.2295\n",
      "Epoch: 243   Train loss: 0.0366   Train accuracy: 0.885   Val loss: 0.2091   Val accuracy: 0.725    weighted Val loss: 0.2294\n",
      "Epoch: 244   Train loss: 0.0288   Train accuracy: 0.934   Val loss: 0.2073   Val accuracy: 0.729    weighted Val loss: 0.2293\n",
      "Epoch: 245   Train loss: 0.0338   Train accuracy: 0.892   Val loss: 0.1969   Val accuracy: 0.734    weighted Val loss: 0.2291\n",
      "Epoch: 246   Train loss: 0.029   Train accuracy: 0.893   Val loss: 0.189   Val accuracy: 0.741    weighted Val loss: 0.2289\n",
      "Epoch: 247   Train loss: 0.0263   Train accuracy: 0.913   Val loss: 0.1889   Val accuracy: 0.74    weighted Val loss: 0.2287\n",
      "Epoch: 248   Train loss: 0.0272   Train accuracy: 0.904   Val loss: 0.1922   Val accuracy: 0.743    weighted Val loss: 0.2285\n",
      "Epoch: 249   Train loss: 0.0285   Train accuracy: 0.906   Val loss: 0.1926   Val accuracy: 0.744    weighted Val loss: 0.2283\n",
      "Epoch: 250   Train loss: 0.0279   Train accuracy: 0.908   Val loss: 0.1966   Val accuracy: 0.735    weighted Val loss: 0.2282\n",
      "Epoch: 251   Train loss: 0.0342   Train accuracy: 0.892   Val loss: 0.1939   Val accuracy: 0.73    weighted Val loss: 0.228\n",
      "Epoch: 252   Train loss: 0.0281   Train accuracy: 0.886   Val loss: 0.1956   Val accuracy: 0.725    weighted Val loss: 0.2279\n",
      "Epoch: 253   Train loss: 0.0283   Train accuracy: 0.898   Val loss: 0.1981   Val accuracy: 0.728    weighted Val loss: 0.2277\n",
      "Epoch: 254   Train loss: 0.029   Train accuracy: 0.905   Val loss: 0.1962   Val accuracy: 0.728    weighted Val loss: 0.2275\n",
      "Epoch: 255   Train loss: 0.0339   Train accuracy: 0.885   Val loss: 0.1935   Val accuracy: 0.731    weighted Val loss: 0.2274\n",
      "Epoch: 256   Train loss: 0.0237   Train accuracy: 0.908   Val loss: 0.1963   Val accuracy: 0.734    weighted Val loss: 0.2272\n",
      "Epoch: 257   Train loss: 0.0247   Train accuracy: 0.912   Val loss: 0.1985   Val accuracy: 0.739    weighted Val loss: 0.2271\n",
      "Epoch: 258   Train loss: 0.0331   Train accuracy: 0.877   Val loss: 0.1864   Val accuracy: 0.743    weighted Val loss: 0.2269\n",
      "Epoch: 259   Train loss: 0.0292   Train accuracy: 0.944   Val loss: 0.185   Val accuracy: 0.75    weighted Val loss: 0.2267\n",
      "0.75 ----------saved-----------\n",
      "Epoch: 260   Train loss: 0.025   Train accuracy: 0.961   Val loss: 0.1928   Val accuracy: 0.735    weighted Val loss: 0.2265\n",
      "Epoch: 261   Train loss: 0.0293   Train accuracy: 0.901   Val loss: 0.1924   Val accuracy: 0.739    weighted Val loss: 0.2263\n",
      "Epoch: 262   Train loss: 0.0284   Train accuracy: 0.948   Val loss: 0.1928   Val accuracy: 0.739    weighted Val loss: 0.2262\n",
      "Epoch: 263   Train loss: 0.0316   Train accuracy: 0.937   Val loss: 0.1927   Val accuracy: 0.739    weighted Val loss: 0.226\n",
      "Epoch: 264   Train loss: 0.0316   Train accuracy: 0.883   Val loss: 0.1899   Val accuracy: 0.737    weighted Val loss: 0.2258\n",
      "Epoch: 265   Train loss: 0.0277   Train accuracy: 0.905   Val loss: 0.1934   Val accuracy: 0.735    weighted Val loss: 0.2256\n",
      "Epoch: 266   Train loss: 0.0368   Train accuracy: 0.88   Val loss: 0.1936   Val accuracy: 0.736    weighted Val loss: 0.2255\n",
      "Epoch: 267   Train loss: 0.0278   Train accuracy: 0.902   Val loss: 0.202   Val accuracy: 0.733    weighted Val loss: 0.2254\n",
      "Epoch: 268   Train loss: 0.0318   Train accuracy: 0.889   Val loss: 0.2   Val accuracy: 0.729    weighted Val loss: 0.2252\n",
      "Epoch: 269   Train loss: 0.0335   Train accuracy: 0.947   Val loss: 0.1892   Val accuracy: 0.744    weighted Val loss: 0.2251\n",
      "Epoch: 270   Train loss: 0.0339   Train accuracy: 0.889   Val loss: 0.1896   Val accuracy: 0.731    weighted Val loss: 0.2249\n",
      "Epoch: 271   Train loss: 0.0319   Train accuracy: 0.894   Val loss: 0.1964   Val accuracy: 0.725    weighted Val loss: 0.2247\n",
      "Epoch: 272   Train loss: 0.0319   Train accuracy: 0.893   Val loss: 0.2119   Val accuracy: 0.707    weighted Val loss: 0.2247\n",
      "Epoch: 273   Train loss: 0.0345   Train accuracy: 0.881   Val loss: 0.2029   Val accuracy: 0.724    weighted Val loss: 0.2246\n",
      "Epoch: 274   Train loss: 0.0347   Train accuracy: 0.948   Val loss: 0.2008   Val accuracy: 0.719    weighted Val loss: 0.2245\n",
      "Epoch: 275   Train loss: 0.0323   Train accuracy: 0.893   Val loss: 0.2061   Val accuracy: 0.71    weighted Val loss: 0.2244\n",
      "Epoch: 276   Train loss: 0.0312   Train accuracy: 0.886   Val loss: 0.2036   Val accuracy: 0.722    weighted Val loss: 0.2243\n",
      "Epoch: 277   Train loss: 0.0527   Train accuracy: 0.89   Val loss: 0.215   Val accuracy: 0.716    weighted Val loss: 0.2242\n",
      "Epoch: 278   Train loss: 0.0533   Train accuracy: 0.881   Val loss: 0.2077   Val accuracy: 0.718    weighted Val loss: 0.2241\n",
      "Epoch: 279   Train loss: 0.0315   Train accuracy: 0.898   Val loss: 0.2044   Val accuracy: 0.718    weighted Val loss: 0.224\n",
      "Epoch: 280   Train loss: 0.0327   Train accuracy: 0.885   Val loss: 0.2087   Val accuracy: 0.711    weighted Val loss: 0.224\n",
      "Epoch: 281   Train loss: 0.0361   Train accuracy: 0.92   Val loss: 0.2144   Val accuracy: 0.711    weighted Val loss: 0.2239\n",
      "Epoch: 282   Train loss: 0.0468   Train accuracy: 0.941   Val loss: 0.213   Val accuracy: 0.71    weighted Val loss: 0.2239\n",
      "Epoch: 283   Train loss: 0.0266   Train accuracy: 0.903   Val loss: 0.2069   Val accuracy: 0.722    weighted Val loss: 0.2238\n",
      "Epoch: 284   Train loss: 0.0322   Train accuracy: 0.922   Val loss: 0.2097   Val accuracy: 0.724    weighted Val loss: 0.2237\n",
      "Epoch: 285   Train loss: 0.0299   Train accuracy: 0.896   Val loss: 0.2101   Val accuracy: 0.727    weighted Val loss: 0.2236\n",
      "Epoch: 286   Train loss: 0.0306   Train accuracy: 0.892   Val loss: 0.2061   Val accuracy: 0.734    weighted Val loss: 0.2235\n",
      "Epoch: 287   Train loss: 0.0307   Train accuracy: 0.939   Val loss: 0.2059   Val accuracy: 0.727    weighted Val loss: 0.2235\n",
      "Epoch: 288   Train loss: 0.0323   Train accuracy: 0.885   Val loss: 0.2093   Val accuracy: 0.723    weighted Val loss: 0.2234\n",
      "Epoch: 289   Train loss: 0.034   Train accuracy: 0.888   Val loss: 0.2038   Val accuracy: 0.718    weighted Val loss: 0.2233\n",
      "Epoch: 290   Train loss: 0.0315   Train accuracy: 0.945   Val loss: 0.2019   Val accuracy: 0.726    weighted Val loss: 0.2232\n",
      "Epoch: 291   Train loss: 0.0308   Train accuracy: 0.896   Val loss: 0.2036   Val accuracy: 0.73    weighted Val loss: 0.2231\n",
      "Epoch: 292   Train loss: 0.0312   Train accuracy: 0.938   Val loss: 0.1998   Val accuracy: 0.747    weighted Val loss: 0.223\n",
      "Epoch: 293   Train loss: 0.0274   Train accuracy: 0.906   Val loss: 0.2016   Val accuracy: 0.733    weighted Val loss: 0.2229\n",
      "Epoch: 294   Train loss: 0.0293   Train accuracy: 0.944   Val loss: 0.204   Val accuracy: 0.733    weighted Val loss: 0.2228\n",
      "Epoch: 295   Train loss: 0.0291   Train accuracy: 0.89   Val loss: 0.2068   Val accuracy: 0.729    weighted Val loss: 0.2227\n",
      "Epoch: 296   Train loss: 0.0259   Train accuracy: 0.895   Val loss: 0.2045   Val accuracy: 0.736    weighted Val loss: 0.2226\n",
      "Epoch: 297   Train loss: 0.0393   Train accuracy: 0.889   Val loss: 0.2065   Val accuracy: 0.733    weighted Val loss: 0.2225\n",
      "Epoch: 298   Train loss: 0.0297   Train accuracy: 0.88   Val loss: 0.2018   Val accuracy: 0.746    weighted Val loss: 0.2224\n",
      "Epoch: 299   Train loss: 0.0388   Train accuracy: 0.933   Val loss: 0.2044   Val accuracy: 0.736    weighted Val loss: 0.2223\n",
      "Epoch: 300   Train loss: 0.0316   Train accuracy: 0.89   Val loss: 0.1993   Val accuracy: 0.739    weighted Val loss: 0.2222\n",
      "Epoch: 301   Train loss: 0.0313   Train accuracy: 0.897   Val loss: 0.2039   Val accuracy: 0.731    weighted Val loss: 0.2221\n",
      "Epoch: 302   Train loss: 0.0278   Train accuracy: 0.899   Val loss: 0.2182   Val accuracy: 0.718    weighted Val loss: 0.2221\n",
      "Epoch: 303   Train loss: 0.0382   Train accuracy: 0.887   Val loss: 0.2059   Val accuracy: 0.729    weighted Val loss: 0.222\n",
      "Epoch: 304   Train loss: 0.0294   Train accuracy: 0.891   Val loss: 0.2062   Val accuracy: 0.727    weighted Val loss: 0.2219\n",
      "Epoch: 305   Train loss: 0.03   Train accuracy: 0.877   Val loss: 0.2108   Val accuracy: 0.718    weighted Val loss: 0.2219\n",
      "Epoch: 306   Train loss: 0.03   Train accuracy: 0.886   Val loss: 0.2016   Val accuracy: 0.731    weighted Val loss: 0.2218\n",
      "Epoch: 307   Train loss: 0.0319   Train accuracy: 0.88   Val loss: 0.2044   Val accuracy: 0.725    weighted Val loss: 0.2217\n",
      "Epoch: 308   Train loss: 0.0275   Train accuracy: 0.941   Val loss: 0.2058   Val accuracy: 0.723    weighted Val loss: 0.2216\n",
      "Epoch: 309   Train loss: 0.0303   Train accuracy: 0.948   Val loss: 0.2085   Val accuracy: 0.723    weighted Val loss: 0.2215\n",
      "Epoch: 310   Train loss: 0.0301   Train accuracy: 0.881   Val loss: 0.1989   Val accuracy: 0.744    weighted Val loss: 0.2214\n",
      "Epoch: 311   Train loss: 0.03   Train accuracy: 0.952   Val loss: 0.1961   Val accuracy: 0.74    weighted Val loss: 0.2213\n",
      "Epoch: 312   Train loss: 0.0265   Train accuracy: 0.91   Val loss: 0.1974   Val accuracy: 0.745    weighted Val loss: 0.2212\n",
      "Epoch: 313   Train loss: 0.031   Train accuracy: 0.893   Val loss: 0.1951   Val accuracy: 0.742    weighted Val loss: 0.2211\n",
      "Epoch: 314   Train loss: 0.0299   Train accuracy: 0.898   Val loss: 0.1972   Val accuracy: 0.745    weighted Val loss: 0.2209\n",
      "Epoch: 315   Train loss: 0.0358   Train accuracy: 0.896   Val loss: 0.1993   Val accuracy: 0.741    weighted Val loss: 0.2208\n",
      "Epoch: 316   Train loss: 0.0263   Train accuracy: 0.894   Val loss: 0.1976   Val accuracy: 0.745    weighted Val loss: 0.2207\n",
      "Epoch: 317   Train loss: 0.0316   Train accuracy: 0.895   Val loss: 0.2191   Val accuracy: 0.731    weighted Val loss: 0.2207\n",
      "Epoch: 318   Train loss: 0.0308   Train accuracy: 0.883   Val loss: 0.1994   Val accuracy: 0.742    weighted Val loss: 0.2206\n",
      "Epoch: 319   Train loss: 0.0335   Train accuracy: 0.877   Val loss: 0.2015   Val accuracy: 0.731    weighted Val loss: 0.2205\n",
      "Epoch: 320   Train loss: 0.0301   Train accuracy: 0.901   Val loss: 0.1971   Val accuracy: 0.736    weighted Val loss: 0.2204\n",
      "Epoch: 321   Train loss: 0.0265   Train accuracy: 0.9   Val loss: 0.2064   Val accuracy: 0.729    weighted Val loss: 0.2203\n",
      "Epoch: 322   Train loss: 0.0303   Train accuracy: 0.894   Val loss: 0.1997   Val accuracy: 0.738    weighted Val loss: 0.2202\n",
      "Epoch: 323   Train loss: 0.028   Train accuracy: 0.898   Val loss: 0.1999   Val accuracy: 0.737    weighted Val loss: 0.2201\n",
      "Epoch: 324   Train loss: 0.0297   Train accuracy: 0.896   Val loss: 0.2007   Val accuracy: 0.737    weighted Val loss: 0.22\n",
      "Epoch: 325   Train loss: 0.0297   Train accuracy: 0.887   Val loss: 0.1983   Val accuracy: 0.735    weighted Val loss: 0.2199\n",
      "Epoch: 326   Train loss: 0.0261   Train accuracy: 0.894   Val loss: 0.1996   Val accuracy: 0.731    weighted Val loss: 0.2198\n",
      "Epoch: 327   Train loss: 0.0262   Train accuracy: 0.911   Val loss: 0.1998   Val accuracy: 0.728    weighted Val loss: 0.2197\n",
      "Epoch: 328   Train loss: 0.0302   Train accuracy: 0.889   Val loss: 0.2054   Val accuracy: 0.729    weighted Val loss: 0.2196\n",
      "Epoch: 329   Train loss: 0.03   Train accuracy: 0.895   Val loss: 0.1981   Val accuracy: 0.733    weighted Val loss: 0.2195\n",
      "Epoch: 330   Train loss: 0.0302   Train accuracy: 0.896   Val loss: 0.1996   Val accuracy: 0.727    weighted Val loss: 0.2194\n",
      "Epoch: 331   Train loss: 0.0294   Train accuracy: 0.903   Val loss: 0.197   Val accuracy: 0.736    weighted Val loss: 0.2193\n",
      "Epoch: 332   Train loss: 0.0271   Train accuracy: 0.907   Val loss: 0.2003   Val accuracy: 0.739    weighted Val loss: 0.2192\n",
      "Epoch: 333   Train loss: 0.0293   Train accuracy: 0.907   Val loss: 0.194   Val accuracy: 0.745    weighted Val loss: 0.2191\n",
      "Epoch: 334   Train loss: 0.0266   Train accuracy: 0.905   Val loss: 0.1973   Val accuracy: 0.743    weighted Val loss: 0.219\n",
      "Epoch: 335   Train loss: 0.0362   Train accuracy: 0.88   Val loss: 0.1995   Val accuracy: 0.74    weighted Val loss: 0.2189\n",
      "Epoch: 336   Train loss: 0.0244   Train accuracy: 0.916   Val loss: 0.1984   Val accuracy: 0.74    weighted Val loss: 0.2188\n",
      "Epoch: 337   Train loss: 0.0371   Train accuracy: 0.876   Val loss: 0.2074   Val accuracy: 0.733    weighted Val loss: 0.2187\n",
      "Epoch: 338   Train loss: 0.0293   Train accuracy: 0.902   Val loss: 0.1982   Val accuracy: 0.736    weighted Val loss: 0.2186\n",
      "Epoch: 339   Train loss: 0.03   Train accuracy: 0.896   Val loss: 0.1926   Val accuracy: 0.741    weighted Val loss: 0.2185\n",
      "Epoch: 340   Train loss: 0.0253   Train accuracy: 0.911   Val loss: 0.1987   Val accuracy: 0.743    weighted Val loss: 0.2184\n",
      "Epoch: 341   Train loss: 0.0276   Train accuracy: 0.907   Val loss: 0.1983   Val accuracy: 0.74    weighted Val loss: 0.2183\n",
      "Epoch: 342   Train loss: 0.0267   Train accuracy: 0.908   Val loss: 0.1983   Val accuracy: 0.746    weighted Val loss: 0.2182\n",
      "Epoch: 343   Train loss: 0.0239   Train accuracy: 0.905   Val loss: 0.2004   Val accuracy: 0.737    weighted Val loss: 0.2181\n",
      "Epoch: 344   Train loss: 0.0298   Train accuracy: 0.945   Val loss: 0.1993   Val accuracy: 0.735    weighted Val loss: 0.218\n",
      "Epoch: 345   Train loss: 0.0468   Train accuracy: 0.936   Val loss: 0.2038   Val accuracy: 0.725    weighted Val loss: 0.2179\n",
      "Epoch: 346   Train loss: 0.0543   Train accuracy: 0.858   Val loss: 0.1949   Val accuracy: 0.726    weighted Val loss: 0.2178\n",
      "Epoch: 347   Train loss: 0.0377   Train accuracy: 0.876   Val loss: 0.2035   Val accuracy: 0.72    weighted Val loss: 0.2177\n",
      "Epoch: 348   Train loss: 0.0302   Train accuracy: 0.894   Val loss: 0.2062   Val accuracy: 0.728    weighted Val loss: 0.2177\n",
      "Epoch: 349   Train loss: 0.0357   Train accuracy: 0.863   Val loss: 0.2022   Val accuracy: 0.729    weighted Val loss: 0.2176\n",
      "Epoch: 350   Train loss: 0.0322   Train accuracy: 0.887   Val loss: 0.203   Val accuracy: 0.729    weighted Val loss: 0.2175\n",
      "Epoch: 351   Train loss: 0.0283   Train accuracy: 0.898   Val loss: 0.2052   Val accuracy: 0.726    weighted Val loss: 0.2175\n",
      "Epoch: 352   Train loss: 0.0318   Train accuracy: 0.891   Val loss: 0.2038   Val accuracy: 0.718    weighted Val loss: 0.2174\n",
      "Epoch: 353   Train loss: 0.0296   Train accuracy: 0.895   Val loss: 0.2038   Val accuracy: 0.725    weighted Val loss: 0.2173\n",
      "Epoch: 354   Train loss: 0.0304   Train accuracy: 0.898   Val loss: 0.2101   Val accuracy: 0.724    weighted Val loss: 0.2173\n",
      "Epoch: 355   Train loss: 0.0302   Train accuracy: 0.89   Val loss: 0.2012   Val accuracy: 0.724    weighted Val loss: 0.2172\n",
      "Epoch: 356   Train loss: 0.0292   Train accuracy: 0.896   Val loss: 0.2071   Val accuracy: 0.716    weighted Val loss: 0.2172\n",
      "Epoch: 357   Train loss: 0.0249   Train accuracy: 0.959   Val loss: 0.2053   Val accuracy: 0.727    weighted Val loss: 0.2171\n",
      "Epoch: 358   Train loss: 0.0386   Train accuracy: 0.925   Val loss: 0.2095   Val accuracy: 0.721    weighted Val loss: 0.2171\n",
      "Epoch: 359   Train loss: 0.0348   Train accuracy: 0.883   Val loss: 0.2119   Val accuracy: 0.72    weighted Val loss: 0.2171\n",
      "Epoch: 360   Train loss: 0.0334   Train accuracy: 0.878   Val loss: 0.203   Val accuracy: 0.721    weighted Val loss: 0.217\n",
      "Epoch: 361   Train loss: 0.0289   Train accuracy: 0.893   Val loss: 0.1989   Val accuracy: 0.726    weighted Val loss: 0.2169\n",
      "Epoch: 362   Train loss: 0.0257   Train accuracy: 0.912   Val loss: 0.2073   Val accuracy: 0.717    weighted Val loss: 0.2168\n",
      "Epoch: 363   Train loss: 0.0284   Train accuracy: 0.89   Val loss: 0.2072   Val accuracy: 0.719    weighted Val loss: 0.2168\n",
      "Epoch: 364   Train loss: 0.0245   Train accuracy: 0.902   Val loss: 0.205   Val accuracy: 0.732    weighted Val loss: 0.2167\n",
      "Epoch: 365   Train loss: 0.0265   Train accuracy: 0.902   Val loss: 0.2041   Val accuracy: 0.73    weighted Val loss: 0.2167\n",
      "Epoch: 366   Train loss: 0.0321   Train accuracy: 0.944   Val loss: 0.2028   Val accuracy: 0.729    weighted Val loss: 0.2166\n",
      "Epoch: 367   Train loss: 0.0278   Train accuracy: 0.907   Val loss: 0.2077   Val accuracy: 0.714    weighted Val loss: 0.2166\n",
      "Epoch: 368   Train loss: 0.0285   Train accuracy: 0.887   Val loss: 0.2081   Val accuracy: 0.718    weighted Val loss: 0.2165\n",
      "Epoch: 369   Train loss: 0.0314   Train accuracy: 0.939   Val loss: 0.2037   Val accuracy: 0.717    weighted Val loss: 0.2165\n",
      "Epoch: 370   Train loss: 0.0292   Train accuracy: 0.904   Val loss: 0.2063   Val accuracy: 0.723    weighted Val loss: 0.2164\n",
      "Epoch: 371   Train loss: 0.0269   Train accuracy: 0.899   Val loss: 0.2052   Val accuracy: 0.726    weighted Val loss: 0.2163\n",
      "Epoch: 372   Train loss: 0.0295   Train accuracy: 0.9   Val loss: 0.208   Val accuracy: 0.722    weighted Val loss: 0.2163\n",
      "Epoch: 373   Train loss: 0.0256   Train accuracy: 0.954   Val loss: 0.2002   Val accuracy: 0.732    weighted Val loss: 0.2162\n",
      "Epoch: 374   Train loss: 0.0297   Train accuracy: 0.909   Val loss: 0.1996   Val accuracy: 0.742    weighted Val loss: 0.2161\n",
      "Epoch: 375   Train loss: 0.0636   Train accuracy: 0.895   Val loss: 0.2063   Val accuracy: 0.725    weighted Val loss: 0.2161\n",
      "Epoch: 376   Train loss: 0.0617   Train accuracy: 0.828   Val loss: 0.1913   Val accuracy: 0.726    weighted Val loss: 0.216\n",
      "Epoch: 377   Train loss: 0.0434   Train accuracy: 0.864   Val loss: 0.2064   Val accuracy: 0.737    weighted Val loss: 0.2159\n",
      "Epoch: 378   Train loss: 0.0397   Train accuracy: 0.926   Val loss: 0.1961   Val accuracy: 0.741    weighted Val loss: 0.2158\n",
      "Epoch: 379   Train loss: 0.0409   Train accuracy: 0.876   Val loss: 0.207   Val accuracy: 0.735    weighted Val loss: 0.2158\n",
      "Epoch: 380   Train loss: 0.0344   Train accuracy: 0.893   Val loss: 0.197   Val accuracy: 0.74    weighted Val loss: 0.2157\n",
      "Epoch: 381   Train loss: 0.0342   Train accuracy: 0.945   Val loss: 0.1912   Val accuracy: 0.743    weighted Val loss: 0.2156\n",
      "Epoch: 382   Train loss: 0.0324   Train accuracy: 0.885   Val loss: 0.1932   Val accuracy: 0.736    weighted Val loss: 0.2154\n",
      "Epoch: 383   Train loss: 0.0339   Train accuracy: 0.874   Val loss: 0.1967   Val accuracy: 0.737    weighted Val loss: 0.2154\n",
      "Epoch: 384   Train loss: 0.0304   Train accuracy: 0.889   Val loss: 0.1953   Val accuracy: 0.74    weighted Val loss: 0.2153\n",
      "Epoch: 385   Train loss: 0.0335   Train accuracy: 0.945   Val loss: 0.1956   Val accuracy: 0.738    weighted Val loss: 0.2152\n",
      "Epoch: 386   Train loss: 0.039   Train accuracy: 0.902   Val loss: 0.196   Val accuracy: 0.739    weighted Val loss: 0.2151\n",
      "Epoch: 387   Train loss: 0.0327   Train accuracy: 0.874   Val loss: 0.2123   Val accuracy: 0.706    weighted Val loss: 0.215\n",
      "Epoch: 388   Train loss: 0.0535   Train accuracy: 0.892   Val loss: 0.2004   Val accuracy: 0.734    weighted Val loss: 0.215\n",
      "Epoch: 389   Train loss: 0.0295   Train accuracy: 0.896   Val loss: 0.183   Val accuracy: 0.75    weighted Val loss: 0.2148\n",
      "Epoch: 390   Train loss: 0.0349   Train accuracy: 0.93   Val loss: 0.1873   Val accuracy: 0.746    weighted Val loss: 0.2147\n",
      "Epoch: 391   Train loss: 0.0286   Train accuracy: 0.945   Val loss: 0.1957   Val accuracy: 0.734    weighted Val loss: 0.2146\n",
      "Epoch: 392   Train loss: 0.0354   Train accuracy: 0.947   Val loss: 0.1916   Val accuracy: 0.742    weighted Val loss: 0.2145\n",
      "Epoch: 393   Train loss: 0.0285   Train accuracy: 0.941   Val loss: 0.2004   Val accuracy: 0.739    weighted Val loss: 0.2144\n",
      "Epoch: 394   Train loss: 0.0347   Train accuracy: 0.886   Val loss: 0.2002   Val accuracy: 0.739    weighted Val loss: 0.2143\n",
      "Epoch: 395   Train loss: 0.0274   Train accuracy: 0.896   Val loss: 0.2017   Val accuracy: 0.731    weighted Val loss: 0.2143\n",
      "Epoch: 396   Train loss: 0.0327   Train accuracy: 0.904   Val loss: 0.1966   Val accuracy: 0.737    weighted Val loss: 0.2142\n",
      "Epoch: 397   Train loss: 0.0353   Train accuracy: 0.885   Val loss: 0.1956   Val accuracy: 0.743    weighted Val loss: 0.2141\n",
      "Epoch: 398   Train loss: 0.0344   Train accuracy: 0.893   Val loss: 0.1922   Val accuracy: 0.736    weighted Val loss: 0.214\n",
      "Epoch: 399   Train loss: 0.0278   Train accuracy: 0.892   Val loss: 0.1951   Val accuracy: 0.74    weighted Val loss: 0.2139\n",
      "Epoch: 400   Train loss: 0.0287   Train accuracy: 0.895   Val loss: 0.1996   Val accuracy: 0.739    weighted Val loss: 0.2138\n",
      "Epoch: 401   Train loss: 0.0352   Train accuracy: 0.888   Val loss: 0.1932   Val accuracy: 0.739    weighted Val loss: 0.2137\n",
      "Epoch: 402   Train loss: 0.0275   Train accuracy: 0.888   Val loss: 0.1979   Val accuracy: 0.725    weighted Val loss: 0.2136\n",
      "Epoch: 403   Train loss: 0.0297   Train accuracy: 0.947   Val loss: 0.1943   Val accuracy: 0.741    weighted Val loss: 0.2135\n",
      "Epoch: 404   Train loss: 0.03   Train accuracy: 0.898   Val loss: 0.1994   Val accuracy: 0.737    weighted Val loss: 0.2135\n",
      "Epoch: 405   Train loss: 0.0329   Train accuracy: 0.879   Val loss: 0.1998   Val accuracy: 0.735    weighted Val loss: 0.2134\n",
      "Epoch: 406   Train loss: 0.0315   Train accuracy: 0.901   Val loss: 0.1967   Val accuracy: 0.747    weighted Val loss: 0.2133\n",
      "Epoch: 407   Train loss: 0.0319   Train accuracy: 0.871   Val loss: 0.1986   Val accuracy: 0.743    weighted Val loss: 0.2132\n",
      "Epoch: 408   Train loss: 0.0289   Train accuracy: 0.943   Val loss: 0.1965   Val accuracy: 0.74    weighted Val loss: 0.2131\n",
      "Epoch: 409   Train loss: 0.0247   Train accuracy: 0.909   Val loss: 0.1957   Val accuracy: 0.746    weighted Val loss: 0.2131\n",
      "Epoch: 410   Train loss: 0.0279   Train accuracy: 0.908   Val loss: 0.2013   Val accuracy: 0.736    weighted Val loss: 0.213\n",
      "Epoch: 411   Train loss: 0.0319   Train accuracy: 0.885   Val loss: 0.1986   Val accuracy: 0.736    weighted Val loss: 0.2129\n",
      "Epoch: 412   Train loss: 0.0316   Train accuracy: 0.884   Val loss: 0.1944   Val accuracy: 0.748    weighted Val loss: 0.2128\n",
      "Epoch: 413   Train loss: 0.0268   Train accuracy: 0.905   Val loss: 0.2045   Val accuracy: 0.725    weighted Val loss: 0.2128\n",
      "Epoch: 414   Train loss: 0.0294   Train accuracy: 0.89   Val loss: 0.2042   Val accuracy: 0.731    weighted Val loss: 0.2128\n",
      "Epoch: 415   Train loss: 0.0344   Train accuracy: 0.874   Val loss: 0.2006   Val accuracy: 0.742    weighted Val loss: 0.2127\n",
      "Epoch: 416   Train loss: 0.0276   Train accuracy: 0.906   Val loss: 0.1958   Val accuracy: 0.745    weighted Val loss: 0.2126\n",
      "Epoch: 417   Train loss: 0.0316   Train accuracy: 0.899   Val loss: 0.196   Val accuracy: 0.749    weighted Val loss: 0.2125\n",
      "Epoch: 418   Train loss: 0.0259   Train accuracy: 0.916   Val loss: 0.1987   Val accuracy: 0.743    weighted Val loss: 0.2125\n",
      "Epoch: 419   Train loss: 0.0279   Train accuracy: 0.91   Val loss: 0.1989   Val accuracy: 0.742    weighted Val loss: 0.2124\n",
      "Epoch: 420   Train loss: 0.0271   Train accuracy: 0.91   Val loss: 0.2063   Val accuracy: 0.731    weighted Val loss: 0.2124\n",
      "Epoch: 421   Train loss: 0.0249   Train accuracy: 0.908   Val loss: 0.1965   Val accuracy: 0.75    weighted Val loss: 0.2123\n",
      "Epoch: 422   Train loss: 0.0304   Train accuracy: 0.901   Val loss: 0.2035   Val accuracy: 0.741    weighted Val loss: 0.2122\n",
      "Epoch: 423   Train loss: 0.0239   Train accuracy: 0.9   Val loss: 0.199   Val accuracy: 0.757    weighted Val loss: 0.2122\n",
      "0.757 ----------saved-----------\n",
      "Epoch: 424   Train loss: 0.0302   Train accuracy: 0.887   Val loss: 0.2028   Val accuracy: 0.736    weighted Val loss: 0.2121\n",
      "Epoch: 425   Train loss: 0.0285   Train accuracy: 0.902   Val loss: 0.1968   Val accuracy: 0.734    weighted Val loss: 0.212\n",
      "Epoch: 426   Train loss: 0.0314   Train accuracy: 0.94   Val loss: 0.2026   Val accuracy: 0.728    weighted Val loss: 0.212\n",
      "Epoch: 427   Train loss: 0.085   Train accuracy: 0.916   Val loss: 0.1977   Val accuracy: 0.736    weighted Val loss: 0.2119\n",
      "Epoch: 428   Train loss: 0.0659   Train accuracy: 0.779   Val loss: 0.1768   Val accuracy: 0.762    weighted Val loss: 0.2117\n",
      "0.762 ----------saved-----------\n",
      "Epoch: 429   Train loss: 0.0488   Train accuracy: 0.863   Val loss: 0.1844   Val accuracy: 0.743    weighted Val loss: 0.2116\n",
      "Epoch: 430   Train loss: 0.0402   Train accuracy: 0.875   Val loss: 0.1916   Val accuracy: 0.724    weighted Val loss: 0.2115\n",
      "Epoch: 431   Train loss: 0.0335   Train accuracy: 0.891   Val loss: 0.1897   Val accuracy: 0.733    weighted Val loss: 0.2114\n",
      "Epoch: 432   Train loss: 0.0318   Train accuracy: 0.92   Val loss: 0.1907   Val accuracy: 0.739    weighted Val loss: 0.2113\n",
      "Epoch: 433   Train loss: 0.0344   Train accuracy: 0.878   Val loss: 0.1918   Val accuracy: 0.734    weighted Val loss: 0.2112\n",
      "Epoch: 434   Train loss: 0.0318   Train accuracy: 0.891   Val loss: 0.1949   Val accuracy: 0.729    weighted Val loss: 0.2111\n",
      "Epoch: 435   Train loss: 0.0327   Train accuracy: 0.854   Val loss: 0.1906   Val accuracy: 0.737    weighted Val loss: 0.211\n",
      "Epoch: 436   Train loss: 0.0289   Train accuracy: 0.888   Val loss: 0.1889   Val accuracy: 0.736    weighted Val loss: 0.2109\n",
      "Epoch: 437   Train loss: 0.0317   Train accuracy: 0.895   Val loss: 0.1938   Val accuracy: 0.731    weighted Val loss: 0.2108\n",
      "Epoch: 438   Train loss: 0.0269   Train accuracy: 0.89   Val loss: 0.1969   Val accuracy: 0.73    weighted Val loss: 0.2108\n",
      "Epoch: 439   Train loss: 0.0318   Train accuracy: 0.879   Val loss: 0.1955   Val accuracy: 0.735    weighted Val loss: 0.2107\n",
      "Epoch: 440   Train loss: 0.031   Train accuracy: 0.892   Val loss: 0.1932   Val accuracy: 0.74    weighted Val loss: 0.2106\n",
      "Epoch: 441   Train loss: 0.0336   Train accuracy: 0.892   Val loss: 0.1978   Val accuracy: 0.731    weighted Val loss: 0.2105\n",
      "Epoch: 442   Train loss: 0.0353   Train accuracy: 0.897   Val loss: 0.1935   Val accuracy: 0.743    weighted Val loss: 0.2104\n",
      "Epoch: 443   Train loss: 0.043   Train accuracy: 0.861   Val loss: 0.1928   Val accuracy: 0.733    weighted Val loss: 0.2104\n",
      "Epoch: 444   Train loss: 0.0333   Train accuracy: 0.873   Val loss: 0.1912   Val accuracy: 0.746    weighted Val loss: 0.2103\n",
      "Epoch: 445   Train loss: 0.0339   Train accuracy: 0.89   Val loss: 0.1943   Val accuracy: 0.744    weighted Val loss: 0.2102\n",
      "Epoch: 446   Train loss: 0.0281   Train accuracy: 0.956   Val loss: 0.1931   Val accuracy: 0.742    weighted Val loss: 0.2101\n",
      "Epoch: 447   Train loss: 0.0259   Train accuracy: 0.922   Val loss: 0.1946   Val accuracy: 0.741    weighted Val loss: 0.21\n",
      "Epoch: 448   Train loss: 0.0308   Train accuracy: 0.887   Val loss: 0.1941   Val accuracy: 0.736    weighted Val loss: 0.2099\n",
      "Epoch: 449   Train loss: 0.0298   Train accuracy: 0.895   Val loss: 0.202   Val accuracy: 0.735    weighted Val loss: 0.2099\n",
      "Epoch: 450   Train loss: 0.0346   Train accuracy: 0.874   Val loss: 0.1945   Val accuracy: 0.741    weighted Val loss: 0.2098\n",
      "Epoch: 451   Train loss: 0.028   Train accuracy: 0.929   Val loss: 0.1963   Val accuracy: 0.741    weighted Val loss: 0.2097\n",
      "Epoch: 452   Train loss: 0.0352   Train accuracy: 0.863   Val loss: 0.1933   Val accuracy: 0.739    weighted Val loss: 0.2097\n",
      "Epoch: 453   Train loss: 0.0325   Train accuracy: 0.934   Val loss: 0.1926   Val accuracy: 0.744    weighted Val loss: 0.2096\n",
      "Epoch: 454   Train loss: 0.0273   Train accuracy: 0.905   Val loss: 0.1957   Val accuracy: 0.742    weighted Val loss: 0.2095\n",
      "Epoch: 455   Train loss: 0.0287   Train accuracy: 0.905   Val loss: 0.1907   Val accuracy: 0.748    weighted Val loss: 0.2094\n",
      "Epoch: 456   Train loss: 0.0236   Train accuracy: 0.914   Val loss: 0.2008   Val accuracy: 0.733    weighted Val loss: 0.2094\n",
      "Epoch: 457   Train loss: 0.0275   Train accuracy: 0.908   Val loss: 0.2041   Val accuracy: 0.736    weighted Val loss: 0.2093\n",
      "Epoch: 458   Train loss: 0.0312   Train accuracy: 0.95   Val loss: 0.1951   Val accuracy: 0.744    weighted Val loss: 0.2093\n",
      "Epoch: 459   Train loss: 0.0398   Train accuracy: 0.878   Val loss: 0.1873   Val accuracy: 0.75    weighted Val loss: 0.2092\n",
      "Epoch: 460   Train loss: 0.0373   Train accuracy: 0.883   Val loss: 0.1906   Val accuracy: 0.749    weighted Val loss: 0.2091\n",
      "Epoch: 461   Train loss: 0.0275   Train accuracy: 0.951   Val loss: 0.1954   Val accuracy: 0.751    weighted Val loss: 0.209\n",
      "Epoch: 462   Train loss: 0.0258   Train accuracy: 0.913   Val loss: 0.196   Val accuracy: 0.746    weighted Val loss: 0.2089\n",
      "Epoch: 463   Train loss: 0.0301   Train accuracy: 0.938   Val loss: 0.1958   Val accuracy: 0.743    weighted Val loss: 0.2089\n",
      "Epoch: 464   Train loss: 0.0317   Train accuracy: 0.9   Val loss: 0.1968   Val accuracy: 0.74    weighted Val loss: 0.2088\n",
      "Epoch: 465   Train loss: 0.0302   Train accuracy: 0.898   Val loss: 0.1968   Val accuracy: 0.744    weighted Val loss: 0.2088\n",
      "Epoch: 466   Train loss: 0.028   Train accuracy: 0.899   Val loss: 0.2067   Val accuracy: 0.729    weighted Val loss: 0.2087\n",
      "Epoch: 467   Train loss: 0.0318   Train accuracy: 0.894   Val loss: 0.204   Val accuracy: 0.734    weighted Val loss: 0.2087\n",
      "Epoch: 468   Train loss: 0.0283   Train accuracy: 0.894   Val loss: 0.1999   Val accuracy: 0.736    weighted Val loss: 0.2087\n",
      "Epoch: 469   Train loss: 0.0276   Train accuracy: 0.907   Val loss: 0.1951   Val accuracy: 0.736    weighted Val loss: 0.2086\n",
      "Epoch: 470   Train loss: 0.0247   Train accuracy: 0.909   Val loss: 0.1976   Val accuracy: 0.733    weighted Val loss: 0.2086\n",
      "Epoch: 471   Train loss: 0.0282   Train accuracy: 0.898   Val loss: 0.1967   Val accuracy: 0.735    weighted Val loss: 0.2085\n",
      "Epoch: 472   Train loss: 0.0343   Train accuracy: 0.889   Val loss: 0.1901   Val accuracy: 0.748    weighted Val loss: 0.2084\n",
      "Epoch: 473   Train loss: 0.0272   Train accuracy: 0.897   Val loss: 0.191   Val accuracy: 0.749    weighted Val loss: 0.2083\n",
      "Epoch: 474   Train loss: 0.0306   Train accuracy: 0.906   Val loss: 0.1999   Val accuracy: 0.737    weighted Val loss: 0.2083\n",
      "Epoch: 475   Train loss: 0.0354   Train accuracy: 0.882   Val loss: 0.1926   Val accuracy: 0.746    weighted Val loss: 0.2082\n",
      "Epoch: 476   Train loss: 0.0294   Train accuracy: 0.94   Val loss: 0.199   Val accuracy: 0.734    weighted Val loss: 0.2081\n",
      "Epoch: 477   Train loss: 0.0328   Train accuracy: 0.874   Val loss: 0.2005   Val accuracy: 0.73    weighted Val loss: 0.2081\n",
      "Epoch: 478   Train loss: 0.0314   Train accuracy: 0.895   Val loss: 0.1961   Val accuracy: 0.739    weighted Val loss: 0.2081\n",
      "Epoch: 479   Train loss: 0.0283   Train accuracy: 0.938   Val loss: 0.204   Val accuracy: 0.734    weighted Val loss: 0.208\n",
      "Epoch: 480   Train loss: 0.0247   Train accuracy: 0.901   Val loss: 0.2047   Val accuracy: 0.741    weighted Val loss: 0.208\n",
      "Epoch: 481   Train loss: 0.025   Train accuracy: 0.899   Val loss: 0.2022   Val accuracy: 0.734    weighted Val loss: 0.208\n",
      "Epoch: 482   Train loss: 0.0281   Train accuracy: 0.903   Val loss: 0.1988   Val accuracy: 0.742    weighted Val loss: 0.2079\n",
      "Epoch: 483   Train loss: 0.0313   Train accuracy: 0.936   Val loss: 0.1993   Val accuracy: 0.737    weighted Val loss: 0.2079\n",
      "Epoch: 484   Train loss: 0.03   Train accuracy: 0.91   Val loss: 0.1981   Val accuracy: 0.737    weighted Val loss: 0.2078\n",
      "Epoch: 485   Train loss: 0.0361   Train accuracy: 0.909   Val loss: 0.2005   Val accuracy: 0.733    weighted Val loss: 0.2078\n",
      "Epoch: 486   Train loss: 0.0878   Train accuracy: 0.881   Val loss: 0.1969   Val accuracy: 0.735    weighted Val loss: 0.2078\n",
      "Epoch: 487   Train loss: 0.05   Train accuracy: 0.832   Val loss: 0.1929   Val accuracy: 0.718    weighted Val loss: 0.2077\n",
      "Epoch: 488   Train loss: 0.0333   Train accuracy: 0.898   Val loss: 0.1951   Val accuracy: 0.729    weighted Val loss: 0.2076\n",
      "Epoch: 489   Train loss: 0.0359   Train accuracy: 0.881   Val loss: 0.1999   Val accuracy: 0.737    weighted Val loss: 0.2076\n",
      "Epoch: 490   Train loss: 0.0298   Train accuracy: 0.894   Val loss: 0.1936   Val accuracy: 0.743    weighted Val loss: 0.2075\n",
      "Epoch: 491   Train loss: 0.0345   Train accuracy: 0.936   Val loss: 0.1945   Val accuracy: 0.737    weighted Val loss: 0.2074\n",
      "Epoch: 492   Train loss: 0.0344   Train accuracy: 0.89   Val loss: 0.1933   Val accuracy: 0.742    weighted Val loss: 0.2074\n",
      "Epoch: 493   Train loss: 0.0296   Train accuracy: 0.892   Val loss: 0.1967   Val accuracy: 0.737    weighted Val loss: 0.2073\n",
      "Epoch: 494   Train loss: 0.0269   Train accuracy: 0.916   Val loss: 0.1971   Val accuracy: 0.739    weighted Val loss: 0.2073\n",
      "Epoch: 495   Train loss: 0.0366   Train accuracy: 0.926   Val loss: 0.1972   Val accuracy: 0.738    weighted Val loss: 0.2072\n",
      "Epoch: 496   Train loss: 0.0328   Train accuracy: 0.894   Val loss: 0.1997   Val accuracy: 0.733    weighted Val loss: 0.2072\n",
      "Epoch: 497   Train loss: 0.0388   Train accuracy: 0.873   Val loss: 0.2022   Val accuracy: 0.728    weighted Val loss: 0.2072\n",
      "Epoch: 498   Train loss: 0.028   Train accuracy: 0.9   Val loss: 0.201   Val accuracy: 0.731    weighted Val loss: 0.2071\n",
      "Epoch: 499   Train loss: 0.0303   Train accuracy: 0.904   Val loss: 0.1979   Val accuracy: 0.736    weighted Val loss: 0.2071\n",
      "Epoch: 500   Train loss: 0.0269   Train accuracy: 0.905   Val loss: 0.1963   Val accuracy: 0.738    weighted Val loss: 0.207\n",
      "Epoch: 501   Train loss: 0.0295   Train accuracy: 0.898   Val loss: 0.1981   Val accuracy: 0.737    weighted Val loss: 0.207\n",
      "Epoch: 502   Train loss: 0.0287   Train accuracy: 0.893   Val loss: 0.1993   Val accuracy: 0.74    weighted Val loss: 0.2069\n",
      "Epoch: 503   Train loss: 0.0294   Train accuracy: 0.894   Val loss: 0.1977   Val accuracy: 0.736    weighted Val loss: 0.2069\n",
      "Epoch: 504   Train loss: 0.0275   Train accuracy: 0.946   Val loss: 0.1966   Val accuracy: 0.741    weighted Val loss: 0.2068\n",
      "Epoch: 505   Train loss: 0.0281   Train accuracy: 0.884   Val loss: 0.1944   Val accuracy: 0.742    weighted Val loss: 0.2068\n",
      "Epoch: 506   Train loss: 0.0266   Train accuracy: 0.912   Val loss: 0.1952   Val accuracy: 0.74    weighted Val loss: 0.2067\n",
      "Epoch: 507   Train loss: 0.0281   Train accuracy: 0.898   Val loss: 0.1935   Val accuracy: 0.741    weighted Val loss: 0.2067\n",
      "Epoch: 508   Train loss: 0.0307   Train accuracy: 0.9   Val loss: 0.1936   Val accuracy: 0.745    weighted Val loss: 0.2066\n",
      "Epoch: 509   Train loss: 0.0259   Train accuracy: 0.903   Val loss: 0.1974   Val accuracy: 0.748    weighted Val loss: 0.2065\n",
      "Epoch: 510   Train loss: 0.0336   Train accuracy: 0.879   Val loss: 0.1888   Val accuracy: 0.747    weighted Val loss: 0.2065\n",
      "Epoch: 511   Train loss: 0.0248   Train accuracy: 0.916   Val loss: 0.1915   Val accuracy: 0.747    weighted Val loss: 0.2064\n",
      "Epoch: 512   Train loss: 0.0312   Train accuracy: 0.875   Val loss: 0.1926   Val accuracy: 0.743    weighted Val loss: 0.2063\n",
      "Epoch: 513   Train loss: 0.0288   Train accuracy: 0.883   Val loss: 0.1925   Val accuracy: 0.748    weighted Val loss: 0.2062\n",
      "Epoch: 514   Train loss: 0.0322   Train accuracy: 0.906   Val loss: 0.1912   Val accuracy: 0.747    weighted Val loss: 0.2062\n",
      "Epoch: 515   Train loss: 0.029   Train accuracy: 0.888   Val loss: 0.1984   Val accuracy: 0.734    weighted Val loss: 0.2061\n",
      "Epoch: 516   Train loss: 0.0262   Train accuracy: 0.903   Val loss: 0.1954   Val accuracy: 0.747    weighted Val loss: 0.2061\n",
      "Epoch: 517   Train loss: 0.028   Train accuracy: 0.901   Val loss: 0.1915   Val accuracy: 0.751    weighted Val loss: 0.206\n",
      "Epoch: 518   Train loss: 0.034   Train accuracy: 0.895   Val loss: 0.1988   Val accuracy: 0.74    weighted Val loss: 0.206\n",
      "Epoch: 519   Train loss: 0.0272   Train accuracy: 0.895   Val loss: 0.1927   Val accuracy: 0.741    weighted Val loss: 0.2059\n",
      "Epoch: 520   Train loss: 0.0325   Train accuracy: 0.883   Val loss: 0.1906   Val accuracy: 0.75    weighted Val loss: 0.2058\n",
      "Epoch: 521   Train loss: 0.026   Train accuracy: 0.89   Val loss: 0.1915   Val accuracy: 0.749    weighted Val loss: 0.2058\n",
      "Epoch: 522   Train loss: 0.0327   Train accuracy: 0.876   Val loss: 0.1905   Val accuracy: 0.754    weighted Val loss: 0.2057\n",
      "Epoch: 523   Train loss: 0.0243   Train accuracy: 0.904   Val loss: 0.1914   Val accuracy: 0.746    weighted Val loss: 0.2056\n",
      "Epoch: 524   Train loss: 0.0279   Train accuracy: 0.892   Val loss: 0.1962   Val accuracy: 0.741    weighted Val loss: 0.2056\n",
      "Epoch: 525   Train loss: 0.031   Train accuracy: 0.895   Val loss: 0.1936   Val accuracy: 0.741    weighted Val loss: 0.2055\n",
      "Epoch: 526   Train loss: 0.0875   Train accuracy: 0.9   Val loss: 0.2023   Val accuracy: 0.732    weighted Val loss: 0.2055\n",
      "Epoch: 527   Train loss: 0.0678   Train accuracy: 0.808   Val loss: 0.1859   Val accuracy: 0.713    weighted Val loss: 0.2054\n",
      "Epoch: 528   Train loss: 0.0624   Train accuracy: 0.861   Val loss: 0.1897   Val accuracy: 0.743    weighted Val loss: 0.2053\n",
      "Epoch: 529   Train loss: 0.047   Train accuracy: 0.85   Val loss: 0.1885   Val accuracy: 0.747    weighted Val loss: 0.2052\n",
      "Epoch: 530   Train loss: 0.0334   Train accuracy: 0.887   Val loss: 0.1934   Val accuracy: 0.745    weighted Val loss: 0.2052\n",
      "Epoch: 531   Train loss: 0.0368   Train accuracy: 0.916   Val loss: 0.2004   Val accuracy: 0.743    weighted Val loss: 0.2051\n",
      "Epoch: 532   Train loss: 0.0294   Train accuracy: 0.904   Val loss: 0.1977   Val accuracy: 0.746    weighted Val loss: 0.2051\n",
      "Epoch: 533   Train loss: 0.0306   Train accuracy: 0.891   Val loss: 0.2004   Val accuracy: 0.742    weighted Val loss: 0.2051\n",
      "Epoch: 534   Train loss: 0.0321   Train accuracy: 0.883   Val loss: 0.2031   Val accuracy: 0.74    weighted Val loss: 0.2051\n",
      "Epoch: 535   Train loss: 0.0275   Train accuracy: 0.888   Val loss: 0.2034   Val accuracy: 0.739    weighted Val loss: 0.2051\n",
      "Epoch: 536   Train loss: 0.0263   Train accuracy: 0.897   Val loss: 0.2025   Val accuracy: 0.74    weighted Val loss: 0.205\n",
      "Epoch: 537   Train loss: 0.0378   Train accuracy: 0.881   Val loss: 0.1979   Val accuracy: 0.742    weighted Val loss: 0.205\n",
      "Epoch: 538   Train loss: 0.0283   Train accuracy: 0.874   Val loss: 0.1967   Val accuracy: 0.745    weighted Val loss: 0.205\n",
      "Epoch: 539   Train loss: 0.0393   Train accuracy: 0.871   Val loss: 0.1995   Val accuracy: 0.753    weighted Val loss: 0.2049\n",
      "Epoch: 540   Train loss: 0.0291   Train accuracy: 0.884   Val loss: 0.1971   Val accuracy: 0.742    weighted Val loss: 0.2049\n",
      "Epoch: 541   Train loss: 0.0331   Train accuracy: 0.876   Val loss: 0.1977   Val accuracy: 0.738    weighted Val loss: 0.2049\n",
      "Epoch: 542   Train loss: 0.028   Train accuracy: 0.871   Val loss: 0.1984   Val accuracy: 0.722    weighted Val loss: 0.2048\n",
      "Epoch: 543   Train loss: 0.0312   Train accuracy: 0.881   Val loss: 0.2059   Val accuracy: 0.723    weighted Val loss: 0.2048\n"
     ]
    }
   ],
   "source": [
    "MLPparametersGDE = {\n",
    "    'n_layers':2,\n",
    "    'layer_size_factor':[1, 64], \n",
    "    'dropout':[0.3, 0.3],\n",
    "    'batch_size': 128,\n",
    "    'num_epochs': 900,\n",
    "    'learning_rate': 6e-4,\n",
    "    'weight_decay': 5e-3,\n",
    "    'betas': (0.9, 0.999), \n",
    "    'eps': 1e-08\n",
    "}\n",
    "MLPmodelGDE, _,_, MLPcheckpointGDE = MLP.train_MLP(dm, sim_all[\"GDE_train\"], sim_all[\"GDE_test\"], MLPparametersGDE, acc_fn=MLP.F1, autostop_decay = 0.995, print_summary = True)"
   ]
  },
  {
   "cell_type": "code",
   "execution_count": null,
   "metadata": {},
   "outputs": [],
   "source": [
    "#optional: save the model\n",
    "MLP.save_ckp(MLPcheckpointGDE, \"models/MLPGDE253_1.pt\")"
   ]
  },
  {
   "cell_type": "markdown",
   "metadata": {},
   "source": [
    "###### Result"
   ]
  },
  {
   "cell_type": "code",
   "execution_count": 37,
   "metadata": {},
   "outputs": [
    {
     "name": "stdout",
     "output_type": "stream",
     "text": [
      "device set to cuda\n",
      "threshold: 0.05  validation loss: 0.1768 F1 accuracy 0.537 Precision accuracy 0.39 Recall accuracy 0.864 AUC accuracy: 0.923\n",
      "device set to cuda\n",
      "threshold: 0.1  validation loss: 0.1768 F1 accuracy 0.632 Precision accuracy 0.507 Recall accuracy 0.837 AUC accuracy: 0.923\n",
      "device set to cuda\n",
      "threshold: 0.15  validation loss: 0.1768 F1 accuracy 0.694 Precision accuracy 0.609 Recall accuracy 0.807 AUC accuracy: 0.923\n",
      "device set to cuda\n",
      "threshold: 0.2  validation loss: 0.1768 F1 accuracy 0.724 Precision accuracy 0.678 Recall accuracy 0.776 AUC accuracy: 0.923\n",
      "device set to cuda\n",
      "threshold: 0.25  validation loss: 0.1768 F1 accuracy 0.745 Precision accuracy 0.734 Recall accuracy 0.756 AUC accuracy: 0.923\n",
      "device set to cuda\n",
      "threshold: 0.3  validation loss: 0.1768 F1 accuracy 0.754 Precision accuracy 0.777 Recall accuracy 0.732 AUC accuracy: 0.923\n",
      "device set to cuda\n",
      "threshold: 0.35  validation loss: 0.1768 F1 accuracy 0.762 Precision accuracy 0.82 Recall accuracy 0.712 AUC accuracy: 0.923\n",
      "device set to cuda\n",
      "threshold: 0.4  validation loss: 0.1768 F1 accuracy 0.749 Precision accuracy 0.853 Recall accuracy 0.668 AUC accuracy: 0.923\n",
      "device set to cuda\n",
      "threshold: 0.45  validation loss: 0.1768 F1 accuracy 0.745 Precision accuracy 0.884 Recall accuracy 0.644 AUC accuracy: 0.923\n",
      "device set to cuda\n",
      "threshold: 0.5  validation loss: 0.1768 F1 accuracy 0.722 Precision accuracy 0.891 Recall accuracy 0.607 AUC accuracy: 0.923\n",
      "device set to cuda\n",
      "threshold: 0.55  validation loss: 0.1768 F1 accuracy 0.718 Precision accuracy 0.916 Recall accuracy 0.59 AUC accuracy: 0.923\n",
      "device set to cuda\n",
      "threshold: 0.6  validation loss: 0.1768 F1 accuracy 0.71 Precision accuracy 0.944 Recall accuracy 0.569 AUC accuracy: 0.923\n",
      "device set to cuda\n",
      "threshold: 0.65  validation loss: 0.1768 F1 accuracy 0.681 Precision accuracy 0.946 Recall accuracy 0.532 AUC accuracy: 0.923\n",
      "device set to cuda\n",
      "threshold: 0.7  validation loss: 0.1768 F1 accuracy 0.661 Precision accuracy 0.955 Recall accuracy 0.505 AUC accuracy: 0.923\n",
      "device set to cuda\n",
      "threshold: 0.75  validation loss: 0.1768 F1 accuracy 0.641 Precision accuracy 0.959 Recall accuracy 0.481 AUC accuracy: 0.923\n",
      "device set to cuda\n",
      "threshold: 0.8  validation loss: 0.1768 F1 accuracy 0.638 Precision accuracy 0.972 Recall accuracy 0.475 AUC accuracy: 0.923\n",
      "device set to cuda\n",
      "threshold: 0.85  validation loss: 0.1768 F1 accuracy 0.614 Precision accuracy 0.978 Recall accuracy 0.447 AUC accuracy: 0.923\n",
      "device set to cuda\n",
      "threshold: 0.9  validation loss: 0.1768 F1 accuracy 0.576 Precision accuracy 0.984 Recall accuracy 0.407 AUC accuracy: 0.923\n",
      "device set to cuda\n",
      "threshold: 0.95  validation loss: 0.1768 F1 accuracy 0.472 Precision accuracy 1.0 Recall accuracy 0.308 AUC accuracy: 0.923\n"
     ]
    }
   ],
   "source": [
    "for i in range(5,100, 5):\n",
    "    t = i/100;\n",
    "    MLP.eval_mlp(MLPmodelGDE, sim_all[\"GDE_test\"], dm, device_name = 'cuda', threshold = t)"
   ]
  },
  {
   "cell_type": "markdown",
   "metadata": {},
   "source": [
    "Questions for Nafiseh:\n",
    "1. Shuffling the dataset greatly reduces overfitting and improves the accuracy. Can we shuffle the dataset? Is removing the overlapping signals a valid way to shuffle the dataset?\n",
    "2. Even without shuffling the dataset, removing overlapping signals still greatly improves the validation accuracy. Should we remove the overlapping signal?\n",
    "3. The built-in AUC metric in Scikit-learn yields a lot higher accuracy than the maximum F-score obatined. Is it normal? What is your AUC accuracy implementation?"
   ]
  },
  {
   "cell_type": "code",
   "execution_count": null,
   "metadata": {},
   "outputs": [],
   "source": []
  }
 ],
 "metadata": {
  "kernelspec": {
   "display_name": "Python 3",
   "language": "python",
   "name": "python3"
  },
  "language_info": {
   "codemirror_mode": {
    "name": "ipython",
    "version": 3
   },
   "file_extension": ".py",
   "mimetype": "text/x-python",
   "name": "python",
   "nbconvert_exporter": "python",
   "pygments_lexer": "ipython3",
   "version": "3.8.5"
  }
 },
 "nbformat": 4,
 "nbformat_minor": 4
}
