{
 "cells": [
  {
   "cell_type": "markdown",
   "metadata": {},
   "source": [
    "# High Level Pipline for GCN and GNODE for Brain State Identification"
   ]
  },
  {
   "cell_type": "markdown",
   "metadata": {},
   "source": [
    "## Pipeline Overview"
   ]
  },
  {
   "cell_type": "markdown",
   "metadata": {},
   "source": [
    "### 1.1 Adjacency Matrix Generation ---> **2.1 Unsupervised GCN** ---> 3.1 Supervised MLP"
   ]
  },
  {
   "cell_type": "markdown",
   "metadata": {},
   "source": [
    "### 1.1 Adjacency Matrix Generation ---> **2.2 Unsupervised GNODE** ---> 3.1 Supervised MLP"
   ]
  },
  {
   "cell_type": "markdown",
   "metadata": {},
   "source": [
    "[Introduction and overview should be written here]"
   ]
  },
  {
   "cell_type": "markdown",
   "metadata": {},
   "source": [
    "#### High Level Classes imported:"
   ]
  },
  {
   "cell_type": "markdown",
   "metadata": {},
   "source": [
    "DataManager.py DataManagerUtil.py : [insert description here]"
   ]
  },
  {
   "cell_type": "markdown",
   "metadata": {},
   "source": [
    "GCN.py GCNutil.py : [insert description here]"
   ]
  },
  {
   "cell_type": "markdown",
   "metadata": {},
   "source": [
    "GDE.py GDEutil.py GDEsolvers.py : [insert description here]"
   ]
  },
  {
   "cell_type": "markdown",
   "metadata": {},
   "source": [
    "MLP.py : [insert description here]"
   ]
  },
  {
   "cell_type": "code",
   "execution_count": 1,
   "metadata": {},
   "outputs": [],
   "source": [
    "%reload_ext autoreload\n",
    "%autoreload 2\n",
    "#Custom Files\n",
    "from DataManager import dataManager\n",
    "from DataManagerUtil import *\n",
    "import GCN as GCN\n",
    "import GCNutil as GCNutil\n",
    "import GDE as GDE\n",
    "import GDEutil as GDEutil\n",
    "import GDEsolvers as GDEsolvers\n",
    "import MLP as MLP\n",
    "\n",
    "#Standard Libraries\n",
    "# Torch\n",
    "import torch\n",
    "import torch.autograd\n",
    "import torch.nn as nn\n",
    "import torch.nn.functional as F\n",
    "#Numpy\n",
    "import numpy as np"
   ]
  },
  {
   "cell_type": "markdown",
   "metadata": {},
   "source": [
    "#### Dataset:"
   ]
  },
  {
   "cell_type": "markdown",
   "metadata": {},
   "source": [
    "[A short description here]"
   ]
  },
  {
   "cell_type": "code",
   "execution_count": 2,
   "metadata": {
    "collapsed": true,
    "jupyter": {
     "outputs_hidden": true
    }
   },
   "outputs": [
    {
     "name": "stdout",
     "output_type": "stream",
     "text": [
      "name: X_test\n",
      "shape: (640, 31, 1518)\n",
      "-----------------------\n",
      "name: X_train\n",
      "shape: (640, 31, 1395)\n",
      "-----------------------\n",
      "name: clip_sizes_test\n",
      "shape: (2, 129)\n",
      "-----------------------\n",
      "name: clip_sizes_train\n",
      "shape: (2, 127)\n",
      "-----------------------\n",
      "name: conv_sizes\n",
      "shape: (1, 1)\n",
      "-----------------------\n",
      "name: n_pre_szr\n",
      "shape: (1, 1)\n",
      "-----------------------\n",
      "name: sel_win_nums_test\n",
      "shape: (1, 1518)\n",
      "-----------------------\n",
      "name: sel_win_nums_train\n",
      "shape: (1, 1395)\n",
      "-----------------------\n",
      "name: soz_ch_ids\n",
      "shape: (5, 1)\n",
      "-----------------------\n",
      "name: stride_sec\n",
      "shape: (1, 1)\n",
      "-----------------------\n",
      "name: window_size_sec\n",
      "shape: (1, 1)\n",
      "-----------------------\n",
      "name: y_test\n",
      "shape: (1, 1518)\n",
      "-----------------------\n",
      "name: y_train\n",
      "shape: (1, 1395)\n",
      "-----------------------\n",
      "print sample EGG signal from one node:\n"
     ]
    },
    {
     "data": {
      "image/png": "[encoded data removed]",
      "text/plain": [
       "<Figure size 432x288 with 1 Axes>"
      ]
     },
     "metadata": {
      "needs_background": "light"
     },
     "output_type": "display_data"
    }
   ],
   "source": [
    "#Loading everything from the dataset\n",
    "filepath = 'datasets\\pat_FR_620.mat' #264 253 620 273\n",
    "variables = load_patient_data(filepath, verbose = True)"
   ]
  },
  {
   "cell_type": "code",
   "execution_count": 32,
   "metadata": {
    "collapsed": true,
    "jupyter": {
     "outputs_hidden": true
    }
   },
   "outputs": [
    {
     "ename": "KeyboardInterrupt",
     "evalue": "",
     "output_type": "error",
     "traceback": [
      "\u001b[1;31m---------------------------------------------------------------------------\u001b[0m",
      "\u001b[1;31mKeyboardInterrupt\u001b[0m                         Traceback (most recent call last)",
      "\u001b[1;32m<ipython-input-32-ecfec4f0bfb7>\u001b[0m in \u001b[0;36m<module>\u001b[1;34m\u001b[0m\n\u001b[0;32m      1\u001b[0m \u001b[1;31m#OPTIONAL: Shuffle the dataset\u001b[0m\u001b[1;33m\u001b[0m\u001b[1;33m\u001b[0m\u001b[1;33m\u001b[0m\u001b[0m\n\u001b[1;32m----> 2\u001b[1;33m \u001b[0mvariables\u001b[0m\u001b[1;33m,\u001b[0m \u001b[0mindices\u001b[0m \u001b[1;33m=\u001b[0m \u001b[0mshuffle_train_test\u001b[0m\u001b[1;33m(\u001b[0m\u001b[0mvariables\u001b[0m\u001b[1;33m,\u001b[0m \u001b[0mtrain_ratio\u001b[0m \u001b[1;33m=\u001b[0m \u001b[1;36m0.5\u001b[0m\u001b[1;33m,\u001b[0m \u001b[0mprint_summary\u001b[0m \u001b[1;33m=\u001b[0m \u001b[1;32mTrue\u001b[0m\u001b[1;33m)\u001b[0m\u001b[1;33m\u001b[0m\u001b[1;33m\u001b[0m\u001b[0m\n\u001b[0m",
      "\u001b[1;32m~\\Documents\\GitHub\\GCNGDE_Simulation_for_EGG_analysis\\Full Model\\DataManagerUtil.py\u001b[0m in \u001b[0;36mshuffle_train_test\u001b[1;34m(variables, train_ratio, indices, print_summary)\u001b[0m\n\u001b[0;32m     31\u001b[0m     \u001b[0mtraining_idx\u001b[0m\u001b[1;33m,\u001b[0m \u001b[0mtest_idx\u001b[0m \u001b[1;33m=\u001b[0m \u001b[0mindices\u001b[0m\u001b[1;33m[\u001b[0m\u001b[1;33m:\u001b[0m\u001b[0msplit_ind\u001b[0m\u001b[1;33m]\u001b[0m\u001b[1;33m,\u001b[0m \u001b[0mindices\u001b[0m\u001b[1;33m[\u001b[0m\u001b[0msplit_ind\u001b[0m\u001b[1;33m:\u001b[0m\u001b[1;33m]\u001b[0m\u001b[1;33m\u001b[0m\u001b[1;33m\u001b[0m\u001b[0m\n\u001b[0;32m     32\u001b[0m     \u001b[1;31m#print(split_ind, training_idx.shape)\u001b[0m\u001b[1;33m\u001b[0m\u001b[1;33m\u001b[0m\u001b[1;33m\u001b[0m\u001b[0m\n\u001b[1;32m---> 33\u001b[1;33m     \u001b[0mvariables\u001b[0m\u001b[1;33m[\u001b[0m\u001b[1;34m\"X_train\"\u001b[0m\u001b[1;33m]\u001b[0m\u001b[1;33m,\u001b[0m \u001b[0mvariables\u001b[0m\u001b[1;33m[\u001b[0m\u001b[1;34m\"X_test\"\u001b[0m\u001b[1;33m]\u001b[0m \u001b[1;33m=\u001b[0m \u001b[0mdata_all\u001b[0m\u001b[1;33m[\u001b[0m\u001b[1;33m:\u001b[0m\u001b[1;33m,\u001b[0m\u001b[1;33m:\u001b[0m\u001b[1;33m,\u001b[0m\u001b[0mtraining_idx\u001b[0m\u001b[1;33m]\u001b[0m\u001b[1;33m,\u001b[0m \u001b[0mdata_all\u001b[0m\u001b[1;33m[\u001b[0m\u001b[1;33m:\u001b[0m\u001b[1;33m,\u001b[0m\u001b[1;33m:\u001b[0m\u001b[1;33m,\u001b[0m\u001b[0mtest_idx\u001b[0m\u001b[1;33m]\u001b[0m\u001b[1;33m\u001b[0m\u001b[1;33m\u001b[0m\u001b[0m\n\u001b[0m\u001b[0;32m     34\u001b[0m     \u001b[0mvariables\u001b[0m\u001b[1;33m[\u001b[0m\u001b[1;34m\"y_train\"\u001b[0m\u001b[1;33m]\u001b[0m\u001b[1;33m,\u001b[0m \u001b[0mvariables\u001b[0m\u001b[1;33m[\u001b[0m\u001b[1;34m\"y_test\"\u001b[0m\u001b[1;33m]\u001b[0m \u001b[1;33m=\u001b[0m \u001b[0mlabels_all\u001b[0m\u001b[1;33m[\u001b[0m\u001b[1;33m:\u001b[0m\u001b[1;33m,\u001b[0m\u001b[0mtraining_idx\u001b[0m\u001b[1;33m]\u001b[0m\u001b[1;33m,\u001b[0m \u001b[0mlabels_all\u001b[0m\u001b[1;33m[\u001b[0m\u001b[1;33m:\u001b[0m\u001b[1;33m,\u001b[0m\u001b[0mtest_idx\u001b[0m\u001b[1;33m]\u001b[0m\u001b[1;33m\u001b[0m\u001b[1;33m\u001b[0m\u001b[0m\n\u001b[0;32m     35\u001b[0m     \u001b[1;32mif\u001b[0m \u001b[0mprint_summary\u001b[0m\u001b[1;33m:\u001b[0m\u001b[1;33m\u001b[0m\u001b[1;33m\u001b[0m\u001b[0m\n",
      "\u001b[1;31mKeyboardInterrupt\u001b[0m: "
     ]
    }
   ],
   "source": [
    "#OPTIONAL: Shuffle the dataset\n",
    "variables, indices = shuffle_train_test(variables, train_ratio = 0.5, print_summary = True)"
   ]
  },
  {
   "cell_type": "code",
   "execution_count": 101,
   "metadata": {},
   "outputs": [],
   "source": [
    "#OPTIONAL: Remove Overlapping Parts\n",
    "variables = remove_overlap(variables)"
   ]
  },
  {
   "cell_type": "code",
   "execution_count": 5,
   "metadata": {},
   "outputs": [],
   "source": [
    "#save the shuffled indices\n",
    "np.save(\"datasets/indices_253.npy\",indices)"
   ]
  },
  {
   "cell_type": "markdown",
   "metadata": {},
   "source": [
    "$\\;\\;\\;\\;\\;\\;\\;\\;\\;\\;\\;\\;\\;\\;$"
   ]
  },
  {
   "cell_type": "markdown",
   "metadata": {},
   "source": [
    "## 1.1 Adjacency Matrix Generation"
   ]
  },
  {
   "cell_type": "markdown",
   "metadata": {},
   "source": [
    "[short description here]"
   ]
  },
  {
   "cell_type": "markdown",
   "metadata": {},
   "source": [
    "##### 1.1.1 Create the datamanager object that computes the covariance matrix for you."
   ]
  },
  {
   "cell_type": "code",
   "execution_count": 3,
   "metadata": {},
   "outputs": [
    {
     "name": "stdout",
     "output_type": "stream",
     "text": [
      "--------data manager successfully initialized--------\n"
     ]
    }
   ],
   "source": [
    "dm = dataManager(variables[\"X_train\"],variables[\"X_test\"],variables[\"y_train\"],variables[\"y_test\"],10**(-4))"
   ]
  },
  {
   "cell_type": "code",
   "execution_count": 4,
   "metadata": {},
   "outputs": [
    {
     "name": "stdout",
     "output_type": "stream",
     "text": [
      "X_train: shape of(1387, 31, 640)\n",
      "X_test: shape of(1487, 31, 640)\n",
      "Y_train: shape of(1387, 1)\n",
      "Y_test: shape of(1487, 1)\n",
      "A_train: shape of(31, 31)\n",
      "A_test: shape of(31, 31)\n",
      "P_avg_train: shape of(31, 31)\n",
      "P_avg_test: shape of(31, 31)\n",
      "--------data successfully filtered--------\n",
      "X_train: shape of(1387, 16, 640)\n",
      "X_test: shape of(1487, 16, 640)\n",
      "Y_train: shape of(1387, 1)\n",
      "Y_test: shape of(1487, 1)\n",
      "A_train: shape of(16, 16)\n",
      "A_test: shape of(16, 16)\n",
      "P_avg_train: shape of(16, 16)\n",
      "P_avg_test: shape of(16, 16)\n"
     ]
    }
   ],
   "source": [
    "#reduce redundant nodes\n",
    "#from DataManager import get_label_variance as glv\n",
    "#print(glv(dm.X_train, dm.Y_train))\n",
    "#print(np.argsort(glv(dm.X_train, dm.Y_train)))\n",
    "print(dm)\n",
    "dm.apply_variance_filter(16)\n",
    "print(dm)"
   ]
  },
  {
   "cell_type": "markdown",
   "metadata": {},
   "source": [
    "##### 1.1.2 Visualize the mean covariance matrix across all training samples"
   ]
  },
  {
   "cell_type": "code",
   "execution_count": 5,
   "metadata": {},
   "outputs": [
    {
     "data": {
      "image/png": "[encoded data removed]",
      "text/plain": [
       "<Figure size 432x288 with 2 Axes>"
      ]
     },
     "metadata": {
      "needs_background": "light"
     },
     "output_type": "display_data"
    }
   ],
   "source": [
    "show_heat_map(dm.P_avg_train)"
   ]
  },
  {
   "cell_type": "markdown",
   "metadata": {},
   "source": [
    "##### 1.1.3 Create DAD from dm by setting the threshold n. repeating this untill a desireble \"n\" value is found."
   ]
  },
  {
   "cell_type": "code",
   "execution_count": 7,
   "metadata": {},
   "outputs": [
    {
     "data": {
      "image/png": "[encoded data removed]",
      "text/plain": [
       "<Figure size 432x288 with 2 Axes>"
      ]
     },
     "metadata": {
      "needs_background": "light"
     },
     "output_type": "display_data"
    },
    {
     "data": {
      "image/png": "[encoded data removed]",
      "text/plain": [
       "<Figure size 432x288 with 2 Axes>"
      ]
     },
     "metadata": {
      "needs_background": "light"
     },
     "output_type": "display_data"
    }
   ],
   "source": [
    "n = 1.5*10**-4\n",
    "dm.re_threshold(n)\n",
    "show_heat_map(dm.A_train)\n",
    "show_heat_map(create_DAD(dm.A_train))\n",
    "Araw = dm.A_train"
   ]
  },
  {
   "cell_type": "markdown",
   "metadata": {},
   "source": [
    "$\\;\\;\\;\\;\\;\\;\\;\\;\\;\\;\\;\\;\\;\\;$"
   ]
  },
  {
   "cell_type": "markdown",
   "metadata": {},
   "source": [
    "## 2.1 Unsupervised Graph Convolutional Neural Network (GCN)"
   ]
  },
  {
   "cell_type": "markdown",
   "metadata": {},
   "source": [
    "[short description here]"
   ]
  },
  {
   "cell_type": "markdown",
   "metadata": {},
   "source": [
    "##### 2.1.1 Declare Parameters for GCN"
   ]
  },
  {
   "cell_type": "code",
   "execution_count": 8,
   "metadata": {},
   "outputs": [
    {
     "name": "stdout",
     "output_type": "stream",
     "text": [
      "{'body': 640, 'M': 1387, 'batch_size': 128, 'n_layers': 2, 'num_epochs': 1, 'learning_rate': 0.001, 'weight_decay': 0.005}\n"
     ]
    }
   ],
   "source": [
    "#create new model\n",
    "A = create_DAD(Araw)\n",
    "X_train = dm.X_train\n",
    "X_test = dm.X_test\n",
    "GCNparameters = {\n",
    "    'body': dm.X_train.shape[2],\n",
    "    'M': dm.X_train.shape[0],\n",
    "    'batch_size': 128,\n",
    "    'n_layers': 2,\n",
    "    'num_epochs': 1,\n",
    "    'learning_rate': 1e-3,\n",
    "    'weight_decay': 5e-3\n",
    "}\n",
    "print(GCNparameters)\n",
    "GCNcheckpoint = {'parameters': GCNparameters}"
   ]
  },
  {
   "cell_type": "markdown",
   "metadata": {},
   "source": [
    "##### 2.1.2 Train GCN"
   ]
  },
  {
   "cell_type": "code",
   "execution_count": 9,
   "metadata": {},
   "outputs": [
    {
     "name": "stderr",
     "output_type": "stream",
     "text": [
      "  0%|          | 0/11 [00:00<?, ?it/s]"
     ]
    },
    {
     "name": "stdout",
     "output_type": "stream",
     "text": [
      "device set to cpu\n"
     ]
    },
    {
     "name": "stderr",
     "output_type": "stream",
     "text": [
      "  9%|▉         | 1/11 [00:00<00:02,  4.25it/s]"
     ]
    },
    {
     "name": "stdout",
     "output_type": "stream",
     "text": [
      "Epoch: 1   Batch: 1 of size 128   Train loss: 88.79105377197266   Valid loss: 77.2434310913086"
     ]
    },
    {
     "name": "stderr",
     "output_type": "stream",
     "text": [
      " 18%|█▊        | 2/11 [00:00<00:02,  4.48it/s]"
     ]
    },
    {
     "name": "stdout",
     "output_type": "stream",
     "text": [
      "Epoch:atch: 2 of size 128   Train loss: 77.59101867675781   Valid loss: 75.16030883789062"
     ]
    },
    {
     "name": "stderr",
     "output_type": "stream",
     "text": [
      " 27%|██▋       | 3/11 [00:00<00:01,  4.64it/s]"
     ]
    },
    {
     "name": "stdout",
     "output_type": "stream",
     "text": [
      "Epoch:atch: 3 of size 128   Train loss: 75.74354553222656   Valid loss: 78.5747299194336"
     ]
    },
    {
     "name": "stderr",
     "output_type": "stream",
     "text": [
      " 36%|███▋      | 4/11 [00:00<00:01,  4.76it/s]"
     ]
    },
    {
     "name": "stdout",
     "output_type": "stream",
     "text": [
      " 1   Batch: 4 of size 128   Train loss: 78.52133178710938   Valid loss: 78.94229125976562\r"
     ]
    },
    {
     "name": "stderr",
     "output_type": "stream",
     "text": [
      " 45%|████▌     | 5/11 [00:01<00:01,  4.75it/s]"
     ]
    },
    {
     "name": "stdout",
     "output_type": "stream",
     "text": [
      "Epoch: 1   Batch: 5 of size 128   Train loss: 78.88394165039062   Valid loss: 76.57518005371094\r"
     ]
    },
    {
     "name": "stderr",
     "output_type": "stream",
     "text": [
      " 55%|█████▍    | 6/11 [00:01<00:01,  4.73it/s]"
     ]
    },
    {
     "name": "stdout",
     "output_type": "stream",
     "text": [
      "Epoch: 1   Batch: 6 of size 128   Train loss: 78.36442565917969   Valid loss: 74.51997375488281"
     ]
    },
    {
     "name": "stderr",
     "output_type": "stream",
     "text": [
      " 64%|██████▎   | 7/11 [00:01<00:00,  4.73it/s]"
     ]
    },
    {
     "name": "stdout",
     "output_type": "stream",
     "text": [
      " 1   Batch: 7 of size 128   Train loss: 74.26251220703125   Valid loss: 73.01905822753906\r"
     ]
    },
    {
     "name": "stderr",
     "output_type": "stream",
     "text": [
      " 73%|███████▎  | 8/11 [00:01<00:00,  4.64it/s]"
     ]
    },
    {
     "name": "stdout",
     "output_type": "stream",
     "text": [
      "Epoch: 1   Batch: 8 of size 128   Train loss: 73.6329574584961   Valid loss: 73.31766510009766\r"
     ]
    },
    {
     "name": "stderr",
     "output_type": "stream",
     "text": [
      " 82%|████████▏ | 9/11 [00:01<00:00,  4.57it/s]"
     ]
    },
    {
     "name": "stdout",
     "output_type": "stream",
     "text": [
      "Epoch: 1   Batch: 9 of size 128   Train loss: 73.82286071777344   Valid loss: 73.73143768310547\r"
     ]
    },
    {
     "name": "stderr",
     "output_type": "stream",
     "text": [
      " 91%|█████████ | 10/11 [00:02<00:00,  4.53it/s]"
     ]
    },
    {
     "name": "stdout",
     "output_type": "stream",
     "text": [
      "Epoch: 1   Batch: 10 of size 128   Train loss: 74.18991088867188   Valid loss: 74.04753875732422"
     ]
    },
    {
     "name": "stderr",
     "output_type": "stream",
     "text": [
      "100%|██████████| 11/11 [00:02<00:00,  4.72it/s]"
     ]
    },
    {
     "name": "stdout",
     "output_type": "stream",
     "text": [
      " 1   Batch: 11 of size 128   Train loss: 75.2095718383789   Valid loss: 74.6499252319336\n"
     ]
    },
    {
     "name": "stderr",
     "output_type": "stream",
     "text": [
      "\n"
     ]
    }
   ],
   "source": [
    "#strongly recommand cpu because it's only one epoch training time and CUDA some times run out of memory if you retrain multiple times\n",
    "device_name = 'cpu'\n",
    "GCNmodel, GCNcheckpoint = GCNutil.train_GCN(A, X_train, X_test, GCNcheckpoint, device_name = device_name, load = False, print_summary = False)"
   ]
  },
  {
   "cell_type": "code",
   "execution_count": 11,
   "metadata": {},
   "outputs": [
    {
     "name": "stdout",
     "output_type": "stream",
     "text": [
      "model saved\n"
     ]
    }
   ],
   "source": [
    "#optional: saving the model\n",
    "GCNutil.save_ckp(GCNcheckpoint, \"models/GCN253_1.pt\")"
   ]
  },
  {
   "cell_type": "markdown",
   "metadata": {},
   "source": [
    "##### 2.1.3 Visualize some simularity matrices generated by GCN (a visual evaluation and sanity check)"
   ]
  },
  {
   "cell_type": "code",
   "execution_count": 10,
   "metadata": {},
   "outputs": [],
   "source": [
    "GCNmodel.eval()\n",
    "test_pred = GCNmodel(torch.from_numpy(X_train[:128, :,:]).float().to(device_name), torch.from_numpy(A).float().to(device_name)).cpu().detach().numpy()"
   ]
  },
  {
   "cell_type": "code",
   "execution_count": 11,
   "metadata": {
    "collapsed": true,
    "jupyter": {
     "outputs_hidden": true
    }
   },
   "outputs": [
    {
     "name": "stdout",
     "output_type": "stream",
     "text": [
      "sample 0   label, 0.0\n"
     ]
    },
    {
     "data": {
      "image/png": "[encoded data removed]",
      "text/plain": [
       "<Figure size 432x288 with 2 Axes>"
      ]
     },
     "metadata": {
      "needs_background": "light"
     },
     "output_type": "display_data"
    },
    {
     "name": "stdout",
     "output_type": "stream",
     "text": [
      "sample 1   label, 0.0\n"
     ]
    },
    {
     "data": {
      "image/png": "[encoded data removed]",
      "text/plain": [
       "<Figure size 432x288 with 2 Axes>"
      ]
     },
     "metadata": {
      "needs_background": "light"
     },
     "output_type": "display_data"
    },
    {
     "name": "stdout",
     "output_type": "stream",
     "text": [
      "sample 2   label, 0.0\n"
     ]
    },
    {
     "data": {
      "image/png": "[encoded data removed]",
      "text/plain": [
       "<Figure size 432x288 with 2 Axes>"
      ]
     },
     "metadata": {
      "needs_background": "light"
     },
     "output_type": "display_data"
    },
    {
     "name": "stdout",
     "output_type": "stream",
     "text": [
      "sample 3   label, 0.0\n"
     ]
    },
    {
     "data": {
      "image/png": "[encoded data removed]",
      "text/plain": [
       "<Figure size 432x288 with 2 Axes>"
      ]
     },
     "metadata": {
      "needs_background": "light"
     },
     "output_type": "display_data"
    },
    {
     "name": "stdout",
     "output_type": "stream",
     "text": [
      "sample 4   label, 0.0\n"
     ]
    },
    {
     "data": {
      "image/png": "[encoded data removed]",
      "text/plain": [
       "<Figure size 432x288 with 2 Axes>"
      ]
     },
     "metadata": {
      "needs_background": "light"
     },
     "output_type": "display_data"
    },
    {
     "name": "stdout",
     "output_type": "stream",
     "text": [
      "sample 5   label, 0.0\n"
     ]
    },
    {
     "data": {
      "image/png": "[encoded data removed]",
      "text/plain": [
       "<Figure size 432x288 with 2 Axes>"
      ]
     },
     "metadata": {
      "needs_background": "light"
     },
     "output_type": "display_data"
    },
    {
     "name": "stdout",
     "output_type": "stream",
     "text": [
      "sample 6   label, 0.0\n"
     ]
    },
    {
     "data": {
      "image/png": "[encoded data removed]",
      "text/plain": [
       "<Figure size 432x288 with 2 Axes>"
      ]
     },
     "metadata": {
      "needs_background": "light"
     },
     "output_type": "display_data"
    },
    {
     "name": "stdout",
     "output_type": "stream",
     "text": [
      "sample 7   label, 0.0\n"
     ]
    },
    {
     "data": {
      "image/png": "[encoded data removed]",
      "text/plain": [
       "<Figure size 432x288 with 2 Axes>"
      ]
     },
     "metadata": {
      "needs_background": "light"
     },
     "output_type": "display_data"
    },
    {
     "name": "stdout",
     "output_type": "stream",
     "text": [
      "sample 8   label, 0.0\n"
     ]
    },
    {
     "data": {
      "image/png": "[encoded data removed]",
      "text/plain": [
       "<Figure size 432x288 with 2 Axes>"
      ]
     },
     "metadata": {
      "needs_background": "light"
     },
     "output_type": "display_data"
    },
    {
     "name": "stdout",
     "output_type": "stream",
     "text": [
      "sample 9   label, 1.0\n"
     ]
    },
    {
     "data": {
      "image/png": "[encoded data removed]",
      "text/plain": [
       "<Figure size 432x288 with 2 Axes>"
      ]
     },
     "metadata": {
      "needs_background": "light"
     },
     "output_type": "display_data"
    }
   ],
   "source": [
    "for i in range(10):\n",
    "    print(\"sample\", i, \"  label,\", dm.Y_train[i,0])\n",
    "    show_heat_map(test_pred[i,:,:])"
   ]
  },
  {
   "cell_type": "markdown",
   "metadata": {},
   "source": [
    "$\\;\\;\\;\\;\\;\\;\\;\\;\\;\\;\\;\\;\\;\\;$"
   ]
  },
  {
   "cell_type": "markdown",
   "metadata": {},
   "source": [
    "## 2.1 Unsupervised Graph Neural Ordinary Differential Equations (GNODE)"
   ]
  },
  {
   "cell_type": "markdown",
   "metadata": {},
   "source": [
    "[short description here]"
   ]
  },
  {
   "cell_type": "markdown",
   "metadata": {},
   "source": [
    "##### 2.2.1 Declare Parameters for GNODE"
   ]
  },
  {
   "cell_type": "code",
   "execution_count": 12,
   "metadata": {},
   "outputs": [],
   "source": [
    "A = create_DAD(Araw)\n",
    "X_train = dm.X_train\n",
    "X_test = dm.X_test\n",
    "GDEparameters = {\n",
    "    'body': dm.X_train.shape[2],\n",
    "    'solver': GDEsolvers.explicit_RK,\n",
    "    'solver_params': {\n",
    "    \"t0\": 0,\n",
    "    \"t1\": 0.25,\n",
    "    \"N\": 5,\n",
    "    \"b_tableau\": GDEsolvers.EF\n",
    "     },\n",
    "    'hidden_layers': 1,\n",
    "    'M': dm.X_train.shape[0],\n",
    "    'batch_size': 128,\n",
    "    'num_epochs': 1,\n",
    "    'learning_rate': 1e-3,\n",
    "    'weight_decay': 5e-3\n",
    "}\n",
    "GDEcheckpoint = {'parameters': GDEparameters}"
   ]
  },
  {
   "cell_type": "markdown",
   "metadata": {},
   "source": [
    "##### 2.2.2 Train GNODE"
   ]
  },
  {
   "cell_type": "code",
   "execution_count": 13,
   "metadata": {},
   "outputs": [
    {
     "name": "stderr",
     "output_type": "stream",
     "text": [
      "  0%|          | 0/11 [00:00<?, ?it/s]"
     ]
    },
    {
     "name": "stdout",
     "output_type": "stream",
     "text": [
      "device set to cpu\n"
     ]
    },
    {
     "name": "stderr",
     "output_type": "stream",
     "text": [
      "  9%|▉         | 1/11 [00:01<00:19,  1.97s/it]"
     ]
    },
    {
     "name": "stdout",
     "output_type": "stream",
     "text": [
      "Epoch: 1   Batch: 1 of size 128   Train loss: 88.61419677734375   Valid loss: 77.15864562988281\r"
     ]
    },
    {
     "name": "stderr",
     "output_type": "stream",
     "text": [
      " 18%|█▊        | 2/11 [00:03<00:17,  1.99s/it]"
     ]
    },
    {
     "name": "stdout",
     "output_type": "stream",
     "text": [
      "Epoch: 1   Batch: 2 of size 128   Train loss: 76.72115325927734   Valid loss: 73.55350494384766\r"
     ]
    },
    {
     "name": "stderr",
     "output_type": "stream",
     "text": [
      " 27%|██▋       | 3/11 [00:05<00:15,  1.98s/it]"
     ]
    },
    {
     "name": "stdout",
     "output_type": "stream",
     "text": [
      "Epoch: 1   Batch: 3 of size 128   Train loss: 73.58123016357422   Valid loss: 77.36788177490234\r"
     ]
    },
    {
     "name": "stderr",
     "output_type": "stream",
     "text": [
      " 36%|███▋      | 4/11 [00:07<00:13,  1.98s/it]"
     ]
    },
    {
     "name": "stdout",
     "output_type": "stream",
     "text": [
      "Epoch: 1   Batch: 4 of size 128   Train loss: 76.79876708984375   Valid loss: 79.0831527709961\r"
     ]
    },
    {
     "name": "stderr",
     "output_type": "stream",
     "text": [
      " 45%|████▌     | 5/11 [00:09<00:11,  1.97s/it]"
     ]
    },
    {
     "name": "stdout",
     "output_type": "stream",
     "text": [
      "Epoch: 1   Batch: 5 of size 128   Train loss: 77.56969451904297   Valid loss: 77.27823638916016\r"
     ]
    },
    {
     "name": "stderr",
     "output_type": "stream",
     "text": [
      " 55%|█████▍    | 6/11 [00:11<00:09,  1.96s/it]"
     ]
    },
    {
     "name": "stdout",
     "output_type": "stream",
     "text": [
      "Epoch: 1   Batch: 6 of size 128   Train loss: 75.65144348144531   Valid loss: 74.2625732421875\r"
     ]
    },
    {
     "name": "stderr",
     "output_type": "stream",
     "text": [
      " 64%|██████▎   | 7/11 [00:13<00:07,  1.97s/it]"
     ]
    },
    {
     "name": "stdout",
     "output_type": "stream",
     "text": [
      "Epoch: 1   Batch: 7 of size 128   Train loss: 73.50527954101562   Valid loss: 71.86009979248047\r"
     ]
    },
    {
     "name": "stderr",
     "output_type": "stream",
     "text": [
      " 73%|███████▎  | 8/11 [00:15<00:05,  1.96s/it]"
     ]
    },
    {
     "name": "stdout",
     "output_type": "stream",
     "text": [
      "Epoch: 1   Batch: 8 of size 128   Train loss: 71.33169555664062   Valid loss: 71.7220458984375\r"
     ]
    },
    {
     "name": "stderr",
     "output_type": "stream",
     "text": [
      " 82%|████████▏ | 9/11 [00:17<00:03,  1.95s/it]"
     ]
    },
    {
     "name": "stdout",
     "output_type": "stream",
     "text": [
      "Epoch: 1   Batch: 9 of size 128   Train loss: 70.72222900390625   Valid loss: 72.22239685058594\r"
     ]
    },
    {
     "name": "stderr",
     "output_type": "stream",
     "text": [
      " 91%|█████████ | 10/11 [00:19<00:01,  1.94s/it]"
     ]
    },
    {
     "name": "stdout",
     "output_type": "stream",
     "text": [
      "Epoch: 1   Batch: 10 of size 128   Train loss: 71.09471893310547   Valid loss: 72.11272430419922\r"
     ]
    },
    {
     "name": "stderr",
     "output_type": "stream",
     "text": [
      "100%|██████████| 11/11 [00:21<00:00,  1.93s/it]"
     ]
    },
    {
     "name": "stdout",
     "output_type": "stream",
     "text": [
      "Epoch: 1   Batch: 11 of size 128   Train loss: 71.71451568603516   Valid loss: 72.482421875\n"
     ]
    },
    {
     "name": "stderr",
     "output_type": "stream",
     "text": [
      "\n"
     ]
    }
   ],
   "source": [
    "#strongly recommand cpu because it's only one epoch training time and CUDA some times run out of memory if you retrain multiple times\n",
    "device_name = 'cpu'\n",
    "GDEmodel, GDEcheckpoint = GDEutil.train_GDE(A, X_train, X_test, GDEcheckpoint, device_name = device_name, load = False, print_summary = False)"
   ]
  },
  {
   "cell_type": "code",
   "execution_count": 16,
   "metadata": {},
   "outputs": [
    {
     "name": "stdout",
     "output_type": "stream",
     "text": [
      "model saved\n"
     ]
    }
   ],
   "source": [
    "#optional: saving the model\n",
    "GDEutil.save_ckp(GDEcheckpoint, \"models/GDE253_1.pt\")"
   ]
  },
  {
   "cell_type": "markdown",
   "metadata": {},
   "source": [
    "##### 2.2.3 Visualize some simularity matrices generated by GNODE (a visual evaluation and sanity check)"
   ]
  },
  {
   "cell_type": "code",
   "execution_count": 14,
   "metadata": {},
   "outputs": [],
   "source": [
    "GDEmodel.eval()\n",
    "test_pred = GDEmodel(torch.from_numpy(X_train[:128, :,:]).float().to(device_name)).cpu().detach().numpy()"
   ]
  },
  {
   "cell_type": "code",
   "execution_count": 15,
   "metadata": {
    "collapsed": true,
    "jupyter": {
     "outputs_hidden": true
    }
   },
   "outputs": [
    {
     "name": "stdout",
     "output_type": "stream",
     "text": [
      "sample 0   label, 0.0\n"
     ]
    },
    {
     "data": {
      "image/png": "[encoded data removed]",
      "text/plain": [
       "<Figure size 432x288 with 2 Axes>"
      ]
     },
     "metadata": {
      "needs_background": "light"
     },
     "output_type": "display_data"
    },
    {
     "name": "stdout",
     "output_type": "stream",
     "text": [
      "sample 1   label, 0.0\n"
     ]
    },
    {
     "data": {
      "image/png": "[encoded data removed]",
      "text/plain": [
       "<Figure size 432x288 with 2 Axes>"
      ]
     },
     "metadata": {
      "needs_background": "light"
     },
     "output_type": "display_data"
    },
    {
     "name": "stdout",
     "output_type": "stream",
     "text": [
      "sample 2   label, 0.0\n"
     ]
    },
    {
     "data": {
      "image/png": "[encoded data removed]",
      "text/plain": [
       "<Figure size 432x288 with 2 Axes>"
      ]
     },
     "metadata": {
      "needs_background": "light"
     },
     "output_type": "display_data"
    },
    {
     "name": "stdout",
     "output_type": "stream",
     "text": [
      "sample 3   label, 0.0\n"
     ]
    },
    {
     "data": {
      "image/png": "[encoded data removed]",
      "text/plain": [
       "<Figure size 432x288 with 2 Axes>"
      ]
     },
     "metadata": {
      "needs_background": "light"
     },
     "output_type": "display_data"
    },
    {
     "name": "stdout",
     "output_type": "stream",
     "text": [
      "sample 4   label, 0.0\n"
     ]
    },
    {
     "data": {
      "image/png": "[encoded data removed]",
      "text/plain": [
       "<Figure size 432x288 with 2 Axes>"
      ]
     },
     "metadata": {
      "needs_background": "light"
     },
     "output_type": "display_data"
    },
    {
     "name": "stdout",
     "output_type": "stream",
     "text": [
      "sample 5   label, 0.0\n"
     ]
    },
    {
     "data": {
      "image/png": "[encoded data removed]",
      "text/plain": [
       "<Figure size 432x288 with 2 Axes>"
      ]
     },
     "metadata": {
      "needs_background": "light"
     },
     "output_type": "display_data"
    },
    {
     "name": "stdout",
     "output_type": "stream",
     "text": [
      "sample 6   label, 0.0\n"
     ]
    },
    {
     "data": {
      "image/png": "[encoded data removed]",
      "text/plain": [
       "<Figure size 432x288 with 2 Axes>"
      ]
     },
     "metadata": {
      "needs_background": "light"
     },
     "output_type": "display_data"
    },
    {
     "name": "stdout",
     "output_type": "stream",
     "text": [
      "sample 7   label, 0.0\n"
     ]
    },
    {
     "data": {
      "image/png": "[encoded data removed]",
      "text/plain": [
       "<Figure size 432x288 with 2 Axes>"
      ]
     },
     "metadata": {
      "needs_background": "light"
     },
     "output_type": "display_data"
    },
    {
     "name": "stdout",
     "output_type": "stream",
     "text": [
      "sample 8   label, 0.0\n"
     ]
    },
    {
     "data": {
      "image/png": "[encoded data removed]",
      "text/plain": [
       "<Figure size 432x288 with 2 Axes>"
      ]
     },
     "metadata": {
      "needs_background": "light"
     },
     "output_type": "display_data"
    },
    {
     "name": "stdout",
     "output_type": "stream",
     "text": [
      "sample 9   label, 1.0\n"
     ]
    },
    {
     "data": {
      "image/png": "[encoded data removed]",
      "text/plain": [
       "<Figure size 432x288 with 2 Axes>"
      ]
     },
     "metadata": {
      "needs_background": "light"
     },
     "output_type": "display_data"
    }
   ],
   "source": [
    "for i in range(10):\n",
    "    print(\"sample\", i, \"  label,\", dm.Y_train[i,0])\n",
    "    show_heat_map(test_pred[i,:,:])"
   ]
  },
  {
   "cell_type": "markdown",
   "metadata": {},
   "source": [
    "$\\;\\;\\;\\;\\;\\;\\;\\;\\;\\;\\;\\;\\;\\;$"
   ]
  },
  {
   "cell_type": "markdown",
   "metadata": {},
   "source": [
    "## 3.1 Supervised Multi-Layer Perceptron (MLP)"
   ]
  },
  {
   "cell_type": "markdown",
   "metadata": {},
   "source": [
    "[short description here]"
   ]
  },
  {
   "cell_type": "markdown",
   "metadata": {},
   "source": [
    "##### 3.1.1 Get simularity matrix from GCN and GNODE models"
   ]
  },
  {
   "cell_type": "code",
   "execution_count": 16,
   "metadata": {},
   "outputs": [],
   "source": [
    "sim_all = {}\n",
    "A = create_DAD(Araw)\n",
    "X_train = dm.X_train\n",
    "X_test = dm.X_test\n",
    "device_name = 'cpu'"
   ]
  },
  {
   "cell_type": "code",
   "execution_count": 17,
   "metadata": {},
   "outputs": [],
   "source": [
    "#Get simularity matrix from GCN\n",
    "GCNmodel.eval()\n",
    "sim_all[\"GCN_train\"] = GCNmodel(torch.from_numpy(X_train).float().to(device_name), torch.from_numpy(A).float().to(device_name)).cpu().detach().numpy()\n",
    "sim_all[\"GCN_test\"] = GCNmodel(torch.from_numpy(X_test).float().to(device_name), torch.from_numpy(A).float().to(device_name)).cpu().detach().numpy()"
   ]
  },
  {
   "cell_type": "code",
   "execution_count": 18,
   "metadata": {},
   "outputs": [],
   "source": [
    "#Get simularity matrix from GNODE\n",
    "GDEmodel.eval()\n",
    "sim_all[\"GDE_train\"] = GDEmodel(torch.from_numpy(X_train).float().to(device_name)).cpu().detach().numpy()\n",
    "sim_all[\"GDE_test\"] = GDEmodel(torch.from_numpy(X_test).float().to(device_name)).cpu().detach().numpy()"
   ]
  },
  {
   "cell_type": "markdown",
   "metadata": {},
   "source": [
    "##### 3.1.2 Visualize the averaged ictal and non-ictal states for the two models"
   ]
  },
  {
   "cell_type": "code",
   "execution_count": 19,
   "metadata": {},
   "outputs": [
    {
     "name": "stdout",
     "output_type": "stream",
     "text": [
      "Average Ictal and Non-Ictal Simularity Matrix for GCN\n",
      "Average ictal\n"
     ]
    },
    {
     "data": {
      "image/png": "[encoded data removed]",
      "text/plain": [
       "<Figure size 432x288 with 2 Axes>"
      ]
     },
     "metadata": {
      "needs_background": "light"
     },
     "output_type": "display_data"
    },
    {
     "name": "stdout",
     "output_type": "stream",
     "text": [
      "Average Non-Ictal\n"
     ]
    },
    {
     "data": {
      "image/png": "[encoded data removed]",
      "text/plain": [
       "<Figure size 432x288 with 2 Axes>"
      ]
     },
     "metadata": {
      "needs_background": "light"
     },
     "output_type": "display_data"
    }
   ],
   "source": [
    "print(\"Average Ictal and Non-Ictal Simularity Matrix for GCN\")\n",
    "visualize_avg_sim_matrix(dm, sim_all[\"GCN_train\"], sim_all[\"GCN_test\"])"
   ]
  },
  {
   "cell_type": "code",
   "execution_count": 20,
   "metadata": {},
   "outputs": [
    {
     "name": "stdout",
     "output_type": "stream",
     "text": [
      "Average Ictal and Non-Ictal Simularity Matrix for GDE\n",
      "Average ictal\n"
     ]
    },
    {
     "data": {
      "image/png": "[encoded data removed]",
      "text/plain": [
       "<Figure size 432x288 with 2 Axes>"
      ]
     },
     "metadata": {
      "needs_background": "light"
     },
     "output_type": "display_data"
    },
    {
     "name": "stdout",
     "output_type": "stream",
     "text": [
      "Average Non-Ictal\n"
     ]
    },
    {
     "data": {
      "image/png": "[encoded data removed]",
      "text/plain": [
       "<Figure size 432x288 with 2 Axes>"
      ]
     },
     "metadata": {
      "needs_background": "light"
     },
     "output_type": "display_data"
    }
   ],
   "source": [
    "print(\"Average Ictal and Non-Ictal Simularity Matrix for GDE\")\n",
    "visualize_avg_sim_matrix(dm, sim_all[\"GDE_train\"], sim_all[\"GDE_test\"])"
   ]
  },
  {
   "cell_type": "markdown",
   "metadata": {},
   "source": [
    "##### 3.1.3 MLP for GCN  "
   ]
  },
  {
   "cell_type": "markdown",
   "metadata": {},
   "source": [
    "###### Training"
   ]
  },
  {
   "cell_type": "code",
   "execution_count": 21,
   "metadata": {},
   "outputs": [
    {
     "name": "stdout",
     "output_type": "stream",
     "text": [
      "MLP(\n",
      "  (layers): ModuleList(\n",
      "    (0): Dropout(p=0.3, inplace=False)\n",
      "    (1): Linear(in_features=136, out_features=136, bias=True)\n",
      "    (2): ReLU()\n",
      "    (3): Dropout(p=0.3, inplace=False)\n",
      "    (4): Linear(in_features=136, out_features=1, bias=True)\n",
      "    (5): Sigmoid()\n",
      "  )\n",
      ")\n",
      "----------------------------------------------------------------\n",
      "        Layer (type)               Output Shape         Param #\n",
      "================================================================\n",
      "           Dropout-1                  [-1, 136]               0\n",
      "            Linear-2                  [-1, 136]          18,632\n",
      "              ReLU-3                  [-1, 136]               0\n",
      "           Dropout-4                  [-1, 136]               0\n",
      "            Linear-5                    [-1, 1]             137\n",
      "           Sigmoid-6                    [-1, 1]               0\n",
      "================================================================\n",
      "Total params: 18,769\n",
      "Trainable params: 18,769\n",
      "Non-trainable params: 0\n",
      "----------------------------------------------------------------\n",
      "Input size (MB): 0.00\n",
      "Forward/backward pass size (MB): 0.00\n",
      "Params size (MB): 0.07\n",
      "Estimated Total Size (MB): 0.08\n",
      "----------------------------------------------------------------\n",
      "Epoch: 1   Train loss: 0.6412   Train accuracy: 0.104   Val loss: 0.4968   Val accuracy: 0.247    weighted Val loss: 0.4968\n",
      "0.247 ----------saved-----------\n",
      "Epoch: 2   Train loss: 0.3593   Train accuracy: 0.018   Val loss: 0.4126   Val accuracy: 0.249    weighted Val loss: 0.4964\n",
      "0.249 ----------saved-----------\n",
      "Epoch: 3   Train loss: 0.2852   Train accuracy: 0.013   Val loss: 0.4111   Val accuracy: 0.251    weighted Val loss: 0.496\n",
      "0.251 ----------saved-----------\n",
      "Epoch: 4   Train loss: 0.2773   Train accuracy: 0.0   Val loss: 0.413   Val accuracy: 0.257    weighted Val loss: 0.4956\n",
      "0.257 ----------saved-----------\n",
      "Epoch: 5   Train loss: 0.2622   Train accuracy: 0.017   Val loss: 0.4031   Val accuracy: 0.26    weighted Val loss: 0.4951\n",
      "0.26 ----------saved-----------\n",
      "Epoch: 6   Train loss: 0.2533   Train accuracy: 0.056   Val loss: 0.3907   Val accuracy: 0.258    weighted Val loss: 0.4946\n",
      "Epoch: 7   Train loss: 0.25   Train accuracy: 0.033   Val loss: 0.3834   Val accuracy: 0.268    weighted Val loss: 0.494\n",
      "0.268 ----------saved-----------\n",
      "Epoch: 8   Train loss: 0.2443   Train accuracy: 0.095   Val loss: 0.3808   Val accuracy: 0.296    weighted Val loss: 0.4935\n",
      "0.296 ----------saved-----------\n",
      "Epoch: 9   Train loss: 0.2378   Train accuracy: 0.076   Val loss: 0.3807   Val accuracy: 0.301    weighted Val loss: 0.4929\n",
      "0.301 ----------saved-----------\n",
      "Epoch: 10   Train loss: 0.2352   Train accuracy: 0.044   Val loss: 0.3783   Val accuracy: 0.309    weighted Val loss: 0.4923\n",
      "0.309 ----------saved-----------\n",
      "Epoch: 11   Train loss: 0.2395   Train accuracy: 0.114   Val loss: 0.3786   Val accuracy: 0.313    weighted Val loss: 0.4918\n",
      "0.313 ----------saved-----------\n",
      "Epoch: 12   Train loss: 0.2317   Train accuracy: 0.126   Val loss: 0.3761   Val accuracy: 0.318    weighted Val loss: 0.4912\n",
      "0.318 ----------saved-----------\n",
      "Epoch: 13   Train loss: 0.2301   Train accuracy: 0.128   Val loss: 0.3768   Val accuracy: 0.312    weighted Val loss: 0.4906\n",
      "Epoch: 14   Train loss: 0.2356   Train accuracy: 0.207   Val loss: 0.3793   Val accuracy: 0.306    weighted Val loss: 0.49\n",
      "Epoch: 15   Train loss: 0.2268   Train accuracy: 0.186   Val loss: 0.3753   Val accuracy: 0.315    weighted Val loss: 0.4895\n",
      "Epoch: 16   Train loss: 0.2197   Train accuracy: 0.212   Val loss: 0.3769   Val accuracy: 0.309    weighted Val loss: 0.4889\n",
      "Epoch: 17   Train loss: 0.218   Train accuracy: 0.185   Val loss: 0.3764   Val accuracy: 0.312    weighted Val loss: 0.4883\n",
      "Epoch: 18   Train loss: 0.2251   Train accuracy: 0.18   Val loss: 0.3779   Val accuracy: 0.311    weighted Val loss: 0.4878\n",
      "Epoch: 19   Train loss: 0.2197   Train accuracy: 0.194   Val loss: 0.3785   Val accuracy: 0.321    weighted Val loss: 0.4872\n",
      "0.321 ----------saved-----------\n",
      "Epoch: 20   Train loss: 0.214   Train accuracy: 0.226   Val loss: 0.3799   Val accuracy: 0.325    weighted Val loss: 0.4867\n",
      "0.325 ----------saved-----------\n",
      "Epoch: 21   Train loss: 0.2092   Train accuracy: 0.199   Val loss: 0.3763   Val accuracy: 0.323    weighted Val loss: 0.4862\n",
      "Epoch: 22   Train loss: 0.2125   Train accuracy: 0.247   Val loss: 0.3768   Val accuracy: 0.325    weighted Val loss: 0.4856\n",
      "Epoch: 23   Train loss: 0.2126   Train accuracy: 0.276   Val loss: 0.3785   Val accuracy: 0.33    weighted Val loss: 0.4851\n",
      "0.33 ----------saved-----------\n",
      "Epoch: 24   Train loss: 0.2055   Train accuracy: 0.215   Val loss: 0.3828   Val accuracy: 0.334    weighted Val loss: 0.4846\n",
      "0.334 ----------saved-----------\n",
      "Epoch: 25   Train loss: 0.2119   Train accuracy: 0.244   Val loss: 0.3754   Val accuracy: 0.329    weighted Val loss: 0.484\n",
      "Epoch: 26   Train loss: 0.2056   Train accuracy: 0.266   Val loss: 0.3763   Val accuracy: 0.326    weighted Val loss: 0.4835\n",
      "Epoch: 27   Train loss: 0.2121   Train accuracy: 0.271   Val loss: 0.3815   Val accuracy: 0.342    weighted Val loss: 0.483\n",
      "0.342 ----------saved-----------\n",
      "Epoch: 28   Train loss: 0.2068   Train accuracy: 0.253   Val loss: 0.3789   Val accuracy: 0.337    weighted Val loss: 0.4825\n",
      "Epoch: 29   Train loss: 0.2021   Train accuracy: 0.243   Val loss: 0.3798   Val accuracy: 0.332    weighted Val loss: 0.4819\n",
      "Epoch: 30   Train loss: 0.1986   Train accuracy: 0.298   Val loss: 0.3817   Val accuracy: 0.334    weighted Val loss: 0.4814\n",
      "Epoch: 31   Train loss: 0.2019   Train accuracy: 0.267   Val loss: 0.3811   Val accuracy: 0.336    weighted Val loss: 0.4809\n",
      "Epoch: 32   Train loss: 0.2024   Train accuracy: 0.294   Val loss: 0.3787   Val accuracy: 0.34    weighted Val loss: 0.4804\n",
      "Epoch: 33   Train loss: 0.2078   Train accuracy: 0.273   Val loss: 0.3785   Val accuracy: 0.344    weighted Val loss: 0.4799\n",
      "0.344 ----------saved-----------\n",
      "Epoch: 34   Train loss: 0.1933   Train accuracy: 0.31   Val loss: 0.3827   Val accuracy: 0.345    weighted Val loss: 0.4794\n",
      "0.345 ----------saved-----------\n",
      "Epoch: 35   Train loss: 0.2088   Train accuracy: 0.327   Val loss: 0.3846   Val accuracy: 0.347    weighted Val loss: 0.479\n",
      "0.347 ----------saved-----------\n",
      "Epoch: 36   Train loss: 0.191   Train accuracy: 0.356   Val loss: 0.3787   Val accuracy: 0.337    weighted Val loss: 0.4785\n",
      "Epoch: 37   Train loss: 0.2026   Train accuracy: 0.348   Val loss: 0.3861   Val accuracy: 0.351    weighted Val loss: 0.478\n",
      "0.351 ----------saved-----------\n",
      "Epoch: 38   Train loss: 0.1969   Train accuracy: 0.33   Val loss: 0.3794   Val accuracy: 0.354    weighted Val loss: 0.4775\n",
      "0.354 ----------saved-----------\n",
      "Epoch: 39   Train loss: 0.1881   Train accuracy: 0.331   Val loss: 0.38   Val accuracy: 0.36    weighted Val loss: 0.477\n",
      "0.36 ----------saved-----------\n",
      "Epoch: 40   Train loss: 0.1937   Train accuracy: 0.393   Val loss: 0.3781   Val accuracy: 0.365    weighted Val loss: 0.4765\n",
      "0.365 ----------saved-----------\n",
      "Epoch: 41   Train loss: 0.1936   Train accuracy: 0.343   Val loss: 0.3878   Val accuracy: 0.348    weighted Val loss: 0.4761\n",
      "Epoch: 42   Train loss: 0.2024   Train accuracy: 0.255   Val loss: 0.3794   Val accuracy: 0.36    weighted Val loss: 0.4756\n",
      "Epoch: 43   Train loss: 0.2012   Train accuracy: 0.365   Val loss: 0.375   Val accuracy: 0.37    weighted Val loss: 0.4751\n",
      "0.37 ----------saved-----------\n",
      "Epoch: 44   Train loss: 0.1935   Train accuracy: 0.342   Val loss: 0.3752   Val accuracy: 0.364    weighted Val loss: 0.4746\n",
      "Epoch: 45   Train loss: 0.1885   Train accuracy: 0.388   Val loss: 0.3804   Val accuracy: 0.372    weighted Val loss: 0.4741\n",
      "0.372 ----------saved-----------\n",
      "Epoch: 46   Train loss: 0.1968   Train accuracy: 0.388   Val loss: 0.3786   Val accuracy: 0.366    weighted Val loss: 0.4736\n",
      "Epoch: 47   Train loss: 0.1908   Train accuracy: 0.262   Val loss: 0.3816   Val accuracy: 0.362    weighted Val loss: 0.4732\n",
      "Epoch: 48   Train loss: 0.1915   Train accuracy: 0.378   Val loss: 0.3783   Val accuracy: 0.362    weighted Val loss: 0.4727\n",
      "Epoch: 49   Train loss: 0.198   Train accuracy: 0.434   Val loss: 0.3739   Val accuracy: 0.345    weighted Val loss: 0.4722\n",
      "Epoch: 50   Train loss: 0.1908   Train accuracy: 0.307   Val loss: 0.3778   Val accuracy: 0.356    weighted Val loss: 0.4717\n",
      "Epoch: 51   Train loss: 0.1937   Train accuracy: 0.29   Val loss: 0.3796   Val accuracy: 0.358    weighted Val loss: 0.4713\n",
      "Epoch: 52   Train loss: 0.1818   Train accuracy: 0.41   Val loss: 0.3779   Val accuracy: 0.346    weighted Val loss: 0.4708\n",
      "Epoch: 53   Train loss: 0.1875   Train accuracy: 0.453   Val loss: 0.3814   Val accuracy: 0.36    weighted Val loss: 0.4704\n",
      "Epoch: 54   Train loss: 0.1897   Train accuracy: 0.376   Val loss: 0.3852   Val accuracy: 0.36    weighted Val loss: 0.4699\n",
      "Epoch: 55   Train loss: 0.1895   Train accuracy: 0.455   Val loss: 0.374   Val accuracy: 0.35    weighted Val loss: 0.4695\n",
      "Epoch: 56   Train loss: 0.1823   Train accuracy: 0.469   Val loss: 0.3794   Val accuracy: 0.355    weighted Val loss: 0.469\n",
      "Epoch: 57   Train loss: 0.1818   Train accuracy: 0.357   Val loss: 0.3813   Val accuracy: 0.357    weighted Val loss: 0.4686\n",
      "Epoch: 58   Train loss: 0.1846   Train accuracy: 0.331   Val loss: 0.3768   Val accuracy: 0.349    weighted Val loss: 0.4681\n",
      "Epoch: 59   Train loss: 0.1911   Train accuracy: 0.42   Val loss: 0.3813   Val accuracy: 0.348    weighted Val loss: 0.4677\n",
      "Epoch: 60   Train loss: 0.1826   Train accuracy: 0.409   Val loss: 0.3809   Val accuracy: 0.355    weighted Val loss: 0.4672\n",
      "Epoch: 61   Train loss: 0.1754   Train accuracy: 0.478   Val loss: 0.3828   Val accuracy: 0.356    weighted Val loss: 0.4668\n",
      "Epoch: 62   Train loss: 0.1748   Train accuracy: 0.465   Val loss: 0.3849   Val accuracy: 0.354    weighted Val loss: 0.4664\n",
      "Epoch: 63   Train loss: 0.1872   Train accuracy: 0.434   Val loss: 0.3827   Val accuracy: 0.352    weighted Val loss: 0.466\n",
      "Epoch: 64   Train loss: 0.1742   Train accuracy: 0.466   Val loss: 0.3862   Val accuracy: 0.342    weighted Val loss: 0.4656\n",
      "Epoch: 65   Train loss: 0.1861   Train accuracy: 0.357   Val loss: 0.3836   Val accuracy: 0.343    weighted Val loss: 0.4652\n",
      "Epoch: 66   Train loss: 0.1801   Train accuracy: 0.392   Val loss: 0.3809   Val accuracy: 0.347    weighted Val loss: 0.4648\n",
      "Epoch: 67   Train loss: 0.1744   Train accuracy: 0.488   Val loss: 0.3871   Val accuracy: 0.336    weighted Val loss: 0.4644\n",
      "Epoch: 68   Train loss: 0.1787   Train accuracy: 0.463   Val loss: 0.3838   Val accuracy: 0.345    weighted Val loss: 0.464\n",
      "Epoch: 69   Train loss: 0.1675   Train accuracy: 0.507   Val loss: 0.3863   Val accuracy: 0.343    weighted Val loss: 0.4636\n",
      "Epoch: 70   Train loss: 0.1704   Train accuracy: 0.483   Val loss: 0.3848   Val accuracy: 0.338    weighted Val loss: 0.4632\n",
      "Epoch: 71   Train loss: 0.1747   Train accuracy: 0.424   Val loss: 0.3819   Val accuracy: 0.351    weighted Val loss: 0.4628\n",
      "Epoch: 72   Train loss: 0.1725   Train accuracy: 0.52   Val loss: 0.3834   Val accuracy: 0.346    weighted Val loss: 0.4624\n",
      "Epoch: 73   Train loss: 0.1697   Train accuracy: 0.416   Val loss: 0.3957   Val accuracy: 0.342    weighted Val loss: 0.4621\n",
      "Epoch: 74   Train loss: 0.1804   Train accuracy: 0.471   Val loss: 0.3782   Val accuracy: 0.357    weighted Val loss: 0.4616\n",
      "Epoch: 75   Train loss: 0.1751   Train accuracy: 0.566   Val loss: 0.3899   Val accuracy: 0.347    weighted Val loss: 0.4613\n",
      "Epoch: 76   Train loss: 0.1755   Train accuracy: 0.435   Val loss: 0.3828   Val accuracy: 0.354    weighted Val loss: 0.4609\n",
      "Epoch: 77   Train loss: 0.1697   Train accuracy: 0.527   Val loss: 0.3868   Val accuracy: 0.356    weighted Val loss: 0.4605\n",
      "Epoch: 78   Train loss: 0.1752   Train accuracy: 0.45   Val loss: 0.3807   Val accuracy: 0.352    weighted Val loss: 0.4601\n",
      "Epoch: 79   Train loss: 0.1734   Train accuracy: 0.456   Val loss: 0.3883   Val accuracy: 0.354    weighted Val loss: 0.4598\n",
      "Epoch: 80   Train loss: 0.1693   Train accuracy: 0.498   Val loss: 0.3832   Val accuracy: 0.349    weighted Val loss: 0.4594\n",
      "Epoch: 81   Train loss: 0.1652   Train accuracy: 0.455   Val loss: 0.383   Val accuracy: 0.355    weighted Val loss: 0.459\n",
      "Epoch: 82   Train loss: 0.1675   Train accuracy: 0.447   Val loss: 0.3892   Val accuracy: 0.351    weighted Val loss: 0.4586\n",
      "Epoch: 83   Train loss: 0.1644   Train accuracy: 0.488   Val loss: 0.3861   Val accuracy: 0.346    weighted Val loss: 0.4583\n",
      "Epoch: 84   Train loss: 0.1733   Train accuracy: 0.48   Val loss: 0.3943   Val accuracy: 0.345    weighted Val loss: 0.458\n",
      "Epoch: 85   Train loss: 0.1695   Train accuracy: 0.494   Val loss: 0.3852   Val accuracy: 0.342    weighted Val loss: 0.4576\n",
      "Epoch: 86   Train loss: 0.1669   Train accuracy: 0.555   Val loss: 0.3849   Val accuracy: 0.352    weighted Val loss: 0.4572\n",
      "Epoch: 87   Train loss: 0.1641   Train accuracy: 0.481   Val loss: 0.3937   Val accuracy: 0.348    weighted Val loss: 0.4569\n",
      "Epoch: 88   Train loss: 0.1628   Train accuracy: 0.54   Val loss: 0.3825   Val accuracy: 0.355    weighted Val loss: 0.4565\n",
      "Epoch: 89   Train loss: 0.159   Train accuracy: 0.6   Val loss: 0.3828   Val accuracy: 0.358    weighted Val loss: 0.4562\n",
      "Epoch: 90   Train loss: 0.1576   Train accuracy: 0.445   Val loss: 0.3859   Val accuracy: 0.369    weighted Val loss: 0.4558\n",
      "Epoch: 91   Train loss: 0.1661   Train accuracy: 0.511   Val loss: 0.384   Val accuracy: 0.371    weighted Val loss: 0.4555\n",
      "Epoch: 92   Train loss: 0.1509   Train accuracy: 0.649   Val loss: 0.3775   Val accuracy: 0.358    weighted Val loss: 0.4551\n",
      "Epoch: 93   Train loss: 0.1571   Train accuracy: 0.537   Val loss: 0.3839   Val accuracy: 0.358    weighted Val loss: 0.4547\n",
      "Epoch: 94   Train loss: 0.1573   Train accuracy: 0.468   Val loss: 0.3867   Val accuracy: 0.361    weighted Val loss: 0.4544\n",
      "Epoch: 95   Train loss: 0.1556   Train accuracy: 0.567   Val loss: 0.3861   Val accuracy: 0.364    weighted Val loss: 0.454\n",
      "Epoch: 96   Train loss: 0.1614   Train accuracy: 0.515   Val loss: 0.3887   Val accuracy: 0.354    weighted Val loss: 0.4537\n",
      "Epoch: 97   Train loss: 0.162   Train accuracy: 0.522   Val loss: 0.3893   Val accuracy: 0.337    weighted Val loss: 0.4534\n",
      "Epoch: 98   Train loss: 0.1558   Train accuracy: 0.574   Val loss: 0.3878   Val accuracy: 0.35    weighted Val loss: 0.4531\n",
      "Epoch: 99   Train loss: 0.1504   Train accuracy: 0.583   Val loss: 0.3843   Val accuracy: 0.356    weighted Val loss: 0.4527\n",
      "Epoch: 100   Train loss: 0.1452   Train accuracy: 0.584   Val loss: 0.3829   Val accuracy: 0.355    weighted Val loss: 0.4524\n",
      "Epoch: 101   Train loss: 0.1537   Train accuracy: 0.502   Val loss: 0.3917   Val accuracy: 0.348    weighted Val loss: 0.4521\n",
      "Epoch: 102   Train loss: 0.1618   Train accuracy: 0.521   Val loss: 0.3895   Val accuracy: 0.347    weighted Val loss: 0.4517\n",
      "Epoch: 103   Train loss: 0.1522   Train accuracy: 0.553   Val loss: 0.3828   Val accuracy: 0.356    weighted Val loss: 0.4514\n",
      "Epoch: 104   Train loss: 0.1529   Train accuracy: 0.529   Val loss: 0.3991   Val accuracy: 0.345    weighted Val loss: 0.4511\n",
      "Epoch: 105   Train loss: 0.1531   Train accuracy: 0.512   Val loss: 0.3892   Val accuracy: 0.35    weighted Val loss: 0.4508\n",
      "Epoch: 106   Train loss: 0.15   Train accuracy: 0.52   Val loss: 0.3898   Val accuracy: 0.346    weighted Val loss: 0.4505\n",
      "Epoch: 107   Train loss: 0.1458   Train accuracy: 0.583   Val loss: 0.3917   Val accuracy: 0.349    weighted Val loss: 0.4502\n",
      "Epoch: 108   Train loss: 0.1438   Train accuracy: 0.589   Val loss: 0.3951   Val accuracy: 0.349    weighted Val loss: 0.45\n",
      "Epoch: 109   Train loss: 0.1478   Train accuracy: 0.476   Val loss: 0.3951   Val accuracy: 0.349    weighted Val loss: 0.4497\n",
      "Epoch: 110   Train loss: 0.1469   Train accuracy: 0.632   Val loss: 0.3937   Val accuracy: 0.347    weighted Val loss: 0.4494\n",
      "Epoch: 111   Train loss: 0.1448   Train accuracy: 0.531   Val loss: 0.3939   Val accuracy: 0.353    weighted Val loss: 0.4491\n",
      "Epoch: 112   Train loss: 0.15   Train accuracy: 0.546   Val loss: 0.3928   Val accuracy: 0.348    weighted Val loss: 0.4488\n",
      "Epoch: 113   Train loss: 0.1472   Train accuracy: 0.534   Val loss: 0.3927   Val accuracy: 0.352    weighted Val loss: 0.4486\n",
      "Epoch: 114   Train loss: 0.1522   Train accuracy: 0.513   Val loss: 0.3964   Val accuracy: 0.352    weighted Val loss: 0.4483\n",
      "Epoch: 115   Train loss: 0.1485   Train accuracy: 0.598   Val loss: 0.3877   Val accuracy: 0.351    weighted Val loss: 0.448\n",
      "Epoch: 116   Train loss: 0.1508   Train accuracy: 0.6   Val loss: 0.3936   Val accuracy: 0.345    weighted Val loss: 0.4477\n",
      "Epoch: 117   Train loss: 0.1478   Train accuracy: 0.524   Val loss: 0.3913   Val accuracy: 0.354    weighted Val loss: 0.4474\n",
      "Epoch: 118   Train loss: 0.1533   Train accuracy: 0.635   Val loss: 0.3906   Val accuracy: 0.349    weighted Val loss: 0.4472\n",
      "Epoch: 119   Train loss: 0.144   Train accuracy: 0.616   Val loss: 0.3901   Val accuracy: 0.352    weighted Val loss: 0.4469\n",
      "Epoch: 120   Train loss: 0.1379   Train accuracy: 0.553   Val loss: 0.3953   Val accuracy: 0.346    weighted Val loss: 0.4466\n",
      "Epoch: 121   Train loss: 0.1462   Train accuracy: 0.56   Val loss: 0.3906   Val accuracy: 0.351    weighted Val loss: 0.4463\n",
      "Epoch: 122   Train loss: 0.1368   Train accuracy: 0.603   Val loss: 0.3951   Val accuracy: 0.347    weighted Val loss: 0.4461\n",
      "Epoch: 123   Train loss: 0.1406   Train accuracy: 0.61   Val loss: 0.3981   Val accuracy: 0.343    weighted Val loss: 0.4458\n",
      "Epoch: 124   Train loss: 0.1413   Train accuracy: 0.504   Val loss: 0.3915   Val accuracy: 0.355    weighted Val loss: 0.4456\n",
      "Epoch: 125   Train loss: 0.1325   Train accuracy: 0.653   Val loss: 0.3865   Val accuracy: 0.354    weighted Val loss: 0.4453\n",
      "Epoch: 126   Train loss: 0.1456   Train accuracy: 0.623   Val loss: 0.3936   Val accuracy: 0.343    weighted Val loss: 0.445\n",
      "Epoch: 127   Train loss: 0.1432   Train accuracy: 0.56   Val loss: 0.3894   Val accuracy: 0.346    weighted Val loss: 0.4447\n",
      "Epoch: 128   Train loss: 0.1395   Train accuracy: 0.598   Val loss: 0.3957   Val accuracy: 0.345    weighted Val loss: 0.4445\n",
      "Epoch: 129   Train loss: 0.1428   Train accuracy: 0.591   Val loss: 0.395   Val accuracy: 0.344    weighted Val loss: 0.4442\n",
      "Epoch: 130   Train loss: 0.1505   Train accuracy: 0.603   Val loss: 0.3922   Val accuracy: 0.352    weighted Val loss: 0.444\n",
      "Epoch: 131   Train loss: 0.1396   Train accuracy: 0.552   Val loss: 0.4007   Val accuracy: 0.36    weighted Val loss: 0.4438\n",
      "Epoch: 132   Train loss: 0.137   Train accuracy: 0.572   Val loss: 0.396   Val accuracy: 0.35    weighted Val loss: 0.4435\n",
      "Epoch: 133   Train loss: 0.1376   Train accuracy: 0.599   Val loss: 0.3957   Val accuracy: 0.349    weighted Val loss: 0.4433\n",
      "Epoch: 134   Train loss: 0.1426   Train accuracy: 0.592   Val loss: 0.4023   Val accuracy: 0.341    weighted Val loss: 0.4431\n",
      "Epoch: 135   Train loss: 0.1271   Train accuracy: 0.559   Val loss: 0.3953   Val accuracy: 0.347    weighted Val loss: 0.4428\n",
      "Epoch: 136   Train loss: 0.1424   Train accuracy: 0.597   Val loss: 0.4083   Val accuracy: 0.335    weighted Val loss: 0.4427\n",
      "Epoch: 137   Train loss: 0.1361   Train accuracy: 0.586   Val loss: 0.4008   Val accuracy: 0.344    weighted Val loss: 0.4425\n",
      "Epoch: 138   Train loss: 0.1352   Train accuracy: 0.63   Val loss: 0.3979   Val accuracy: 0.333    weighted Val loss: 0.4422\n",
      "Epoch: 139   Train loss: 0.1381   Train accuracy: 0.581   Val loss: 0.397   Val accuracy: 0.334    weighted Val loss: 0.442\n",
      "Epoch: 140   Train loss: 0.144   Train accuracy: 0.587   Val loss: 0.4036   Val accuracy: 0.322    weighted Val loss: 0.4418\n",
      "Epoch: 141   Train loss: 0.1329   Train accuracy: 0.615   Val loss: 0.4072   Val accuracy: 0.332    weighted Val loss: 0.4417\n",
      "Epoch: 142   Train loss: 0.1457   Train accuracy: 0.581   Val loss: 0.3974   Val accuracy: 0.349    weighted Val loss: 0.4414\n",
      "Epoch: 143   Train loss: 0.1341   Train accuracy: 0.644   Val loss: 0.4051   Val accuracy: 0.323    weighted Val loss: 0.4412\n",
      "Epoch: 144   Train loss: 0.1271   Train accuracy: 0.615   Val loss: 0.3974   Val accuracy: 0.329    weighted Val loss: 0.441\n",
      "Epoch: 145   Train loss: 0.1406   Train accuracy: 0.557   Val loss: 0.4023   Val accuracy: 0.325    weighted Val loss: 0.4408\n",
      "Epoch: 146   Train loss: 0.1323   Train accuracy: 0.631   Val loss: 0.4059   Val accuracy: 0.33    weighted Val loss: 0.4407\n",
      "Epoch: 147   Train loss: 0.131   Train accuracy: 0.675   Val loss: 0.4044   Val accuracy: 0.33    weighted Val loss: 0.4405\n",
      "Epoch: 148   Train loss: 0.1311   Train accuracy: 0.651   Val loss: 0.4003   Val accuracy: 0.343    weighted Val loss: 0.4403\n",
      "Epoch: 149   Train loss: 0.1265   Train accuracy: 0.63   Val loss: 0.4065   Val accuracy: 0.339    weighted Val loss: 0.4401\n",
      "Epoch: 150   Train loss: 0.1299   Train accuracy: 0.608   Val loss: 0.4037   Val accuracy: 0.335    weighted Val loss: 0.4399\n",
      "Epoch: 151   Train loss: 0.1268   Train accuracy: 0.693   Val loss: 0.4066   Val accuracy: 0.337    weighted Val loss: 0.4398\n",
      "Epoch: 152   Train loss: 0.1381   Train accuracy: 0.593   Val loss: 0.4134   Val accuracy: 0.326    weighted Val loss: 0.4396\n",
      "Epoch: 153   Train loss: 0.1346   Train accuracy: 0.649   Val loss: 0.406   Val accuracy: 0.319    weighted Val loss: 0.4395\n",
      "Epoch: 154   Train loss: 0.1197   Train accuracy: 0.664   Val loss: 0.4236   Val accuracy: 0.319    weighted Val loss: 0.4394\n",
      "Epoch: 155   Train loss: 0.1369   Train accuracy: 0.601   Val loss: 0.3999   Val accuracy: 0.346    weighted Val loss: 0.4392\n",
      "Epoch: 156   Train loss: 0.1245   Train accuracy: 0.66   Val loss: 0.409   Val accuracy: 0.351    weighted Val loss: 0.439\n",
      "Epoch: 157   Train loss: 0.1277   Train accuracy: 0.654   Val loss: 0.4027   Val accuracy: 0.341    weighted Val loss: 0.4389\n",
      "Epoch: 158   Train loss: 0.1237   Train accuracy: 0.623   Val loss: 0.3997   Val accuracy: 0.342    weighted Val loss: 0.4387\n",
      "Epoch: 159   Train loss: 0.1274   Train accuracy: 0.629   Val loss: 0.4025   Val accuracy: 0.351    weighted Val loss: 0.4385\n",
      "Epoch: 160   Train loss: 0.1336   Train accuracy: 0.64   Val loss: 0.4001   Val accuracy: 0.356    weighted Val loss: 0.4383\n",
      "Epoch: 161   Train loss: 0.1311   Train accuracy: 0.601   Val loss: 0.4054   Val accuracy: 0.346    weighted Val loss: 0.4381\n",
      "Epoch: 162   Train loss: 0.1325   Train accuracy: 0.655   Val loss: 0.3948   Val accuracy: 0.354    weighted Val loss: 0.4379\n",
      "Epoch: 163   Train loss: 0.1332   Train accuracy: 0.662   Val loss: 0.4059   Val accuracy: 0.35    weighted Val loss: 0.4377\n",
      "Epoch: 164   Train loss: 0.125   Train accuracy: 0.646   Val loss: 0.3985   Val accuracy: 0.341    weighted Val loss: 0.4375\n",
      "Epoch: 165   Train loss: 0.1273   Train accuracy: 0.606   Val loss: 0.3997   Val accuracy: 0.346    weighted Val loss: 0.4374\n",
      "Epoch: 166   Train loss: 0.1275   Train accuracy: 0.669   Val loss: 0.4103   Val accuracy: 0.345    weighted Val loss: 0.4372\n",
      "Epoch: 167   Train loss: 0.1239   Train accuracy: 0.615   Val loss: 0.4088   Val accuracy: 0.334    weighted Val loss: 0.4371\n",
      "Epoch: 168   Train loss: 0.1191   Train accuracy: 0.641   Val loss: 0.4177   Val accuracy: 0.331    weighted Val loss: 0.437\n",
      "Epoch: 169   Train loss: 0.1303   Train accuracy: 0.649   Val loss: 0.4086   Val accuracy: 0.351    weighted Val loss: 0.4368\n",
      "Epoch: 170   Train loss: 0.1273   Train accuracy: 0.615   Val loss: 0.4106   Val accuracy: 0.329    weighted Val loss: 0.4367\n",
      "Epoch: 171   Train loss: 0.1216   Train accuracy: 0.624   Val loss: 0.406   Val accuracy: 0.332    weighted Val loss: 0.4366\n",
      "Epoch: 172   Train loss: 0.1255   Train accuracy: 0.618   Val loss: 0.4164   Val accuracy: 0.333    weighted Val loss: 0.4365\n",
      "Epoch: 173   Train loss: 0.1186   Train accuracy: 0.61   Val loss: 0.4077   Val accuracy: 0.335    weighted Val loss: 0.4363\n",
      "Epoch: 174   Train loss: 0.1235   Train accuracy: 0.671   Val loss: 0.4084   Val accuracy: 0.335    weighted Val loss: 0.4362\n",
      "Epoch: 175   Train loss: 0.1198   Train accuracy: 0.672   Val loss: 0.4071   Val accuracy: 0.339    weighted Val loss: 0.436\n",
      "Epoch: 176   Train loss: 0.1234   Train accuracy: 0.661   Val loss: 0.3995   Val accuracy: 0.338    weighted Val loss: 0.4358\n",
      "Epoch: 177   Train loss: 0.1311   Train accuracy: 0.651   Val loss: 0.4078   Val accuracy: 0.34    weighted Val loss: 0.4357\n",
      "Epoch: 178   Train loss: 0.1233   Train accuracy: 0.629   Val loss: 0.4036   Val accuracy: 0.335    weighted Val loss: 0.4355\n",
      "Epoch: 179   Train loss: 0.1336   Train accuracy: 0.667   Val loss: 0.3971   Val accuracy: 0.343    weighted Val loss: 0.4354\n",
      "Epoch: 180   Train loss: 0.1238   Train accuracy: 0.621   Val loss: 0.4016   Val accuracy: 0.335    weighted Val loss: 0.4352\n",
      "Epoch: 181   Train loss: 0.1207   Train accuracy: 0.669   Val loss: 0.4083   Val accuracy: 0.343    weighted Val loss: 0.435\n",
      "Epoch: 182   Train loss: 0.1228   Train accuracy: 0.68   Val loss: 0.4112   Val accuracy: 0.338    weighted Val loss: 0.4349\n",
      "Epoch: 183   Train loss: 0.1186   Train accuracy: 0.671   Val loss: 0.4077   Val accuracy: 0.333    weighted Val loss: 0.4348\n",
      "Epoch: 184   Train loss: 0.1202   Train accuracy: 0.615   Val loss: 0.4081   Val accuracy: 0.345    weighted Val loss: 0.4347\n",
      "Epoch: 185   Train loss: 0.1214   Train accuracy: 0.68   Val loss: 0.4001   Val accuracy: 0.341    weighted Val loss: 0.4345\n",
      "Epoch: 186   Train loss: 0.1161   Train accuracy: 0.669   Val loss: 0.4083   Val accuracy: 0.335    weighted Val loss: 0.4344\n",
      "Epoch: 187   Train loss: 0.1219   Train accuracy: 0.639   Val loss: 0.4032   Val accuracy: 0.347    weighted Val loss: 0.4342\n",
      "Epoch: 188   Train loss: 0.1264   Train accuracy: 0.595   Val loss: 0.4059   Val accuracy: 0.333    weighted Val loss: 0.4341\n",
      "Epoch: 189   Train loss: 0.1193   Train accuracy: 0.678   Val loss: 0.4071   Val accuracy: 0.338    weighted Val loss: 0.4339\n",
      "Epoch: 190   Train loss: 0.1163   Train accuracy: 0.692   Val loss: 0.4093   Val accuracy: 0.331    weighted Val loss: 0.4338\n",
      "Epoch: 191   Train loss: 0.1101   Train accuracy: 0.703   Val loss: 0.4184   Val accuracy: 0.333    weighted Val loss: 0.4337\n",
      "Epoch: 192   Train loss: 0.1249   Train accuracy: 0.638   Val loss: 0.4026   Val accuracy: 0.332    weighted Val loss: 0.4336\n",
      "Epoch: 193   Train loss: 0.1169   Train accuracy: 0.645   Val loss: 0.4134   Val accuracy: 0.332    weighted Val loss: 0.4335\n",
      "Epoch: 194   Train loss: 0.1169   Train accuracy: 0.684   Val loss: 0.4091   Val accuracy: 0.326    weighted Val loss: 0.4333\n",
      "Epoch: 195   Train loss: 0.1153   Train accuracy: 0.63   Val loss: 0.4156   Val accuracy: 0.329    weighted Val loss: 0.4333\n",
      "Epoch: 196   Train loss: 0.1149   Train accuracy: 0.616   Val loss: 0.4082   Val accuracy: 0.325    weighted Val loss: 0.4331\n",
      "Epoch: 197   Train loss: 0.1183   Train accuracy: 0.658   Val loss: 0.415   Val accuracy: 0.331    weighted Val loss: 0.433\n",
      "Epoch: 198   Train loss: 0.126   Train accuracy: 0.609   Val loss: 0.4105   Val accuracy: 0.331    weighted Val loss: 0.4329\n",
      "Epoch: 199   Train loss: 0.1212   Train accuracy: 0.692   Val loss: 0.4114   Val accuracy: 0.329    weighted Val loss: 0.4328\n",
      "Epoch: 200   Train loss: 0.1114   Train accuracy: 0.673   Val loss: 0.4251   Val accuracy: 0.327    weighted Val loss: 0.4328\n",
      "Epoch: 201   Train loss: 0.1141   Train accuracy: 0.67   Val loss: 0.4085   Val accuracy: 0.338    weighted Val loss: 0.4327\n",
      "Epoch: 202   Train loss: 0.1138   Train accuracy: 0.665   Val loss: 0.405   Val accuracy: 0.334    weighted Val loss: 0.4325\n",
      "Epoch: 203   Train loss: 0.1143   Train accuracy: 0.679   Val loss: 0.4123   Val accuracy: 0.33    weighted Val loss: 0.4324\n",
      "Epoch: 204   Train loss: 0.1234   Train accuracy: 0.641   Val loss: 0.4084   Val accuracy: 0.324    weighted Val loss: 0.4323\n",
      "Epoch: 205   Train loss: 0.1211   Train accuracy: 0.69   Val loss: 0.4154   Val accuracy: 0.322    weighted Val loss: 0.4322\n",
      "Epoch: 206   Train loss: 0.1198   Train accuracy: 0.601   Val loss: 0.4131   Val accuracy: 0.325    weighted Val loss: 0.4321\n",
      "Epoch: 207   Train loss: 0.1162   Train accuracy: 0.702   Val loss: 0.415   Val accuracy: 0.323    weighted Val loss: 0.432\n",
      "Epoch: 208   Train loss: 0.1141   Train accuracy: 0.721   Val loss: 0.4075   Val accuracy: 0.313    weighted Val loss: 0.4319\n",
      "Epoch: 209   Train loss: 0.1174   Train accuracy: 0.634   Val loss: 0.4261   Val accuracy: 0.313    weighted Val loss: 0.4319\n",
      "Epoch: 210   Train loss: 0.1153   Train accuracy: 0.641   Val loss: 0.4202   Val accuracy: 0.31    weighted Val loss: 0.4318\n",
      "Epoch: 211   Train loss: 0.105   Train accuracy: 0.713   Val loss: 0.4279   Val accuracy: 0.325    weighted Val loss: 0.4318\n",
      "Epoch: 212   Train loss: 0.118   Train accuracy: 0.662   Val loss: 0.4197   Val accuracy: 0.329    weighted Val loss: 0.4317\n",
      "Epoch: 213   Train loss: 0.1093   Train accuracy: 0.698   Val loss: 0.4184   Val accuracy: 0.328    weighted Val loss: 0.4317\n",
      "Epoch: 214   Train loss: 0.1212   Train accuracy: 0.62   Val loss: 0.4085   Val accuracy: 0.326    weighted Val loss: 0.4316\n",
      "Epoch: 215   Train loss: 0.108   Train accuracy: 0.756   Val loss: 0.4132   Val accuracy: 0.327    weighted Val loss: 0.4315\n",
      "Epoch: 216   Train loss: 0.1127   Train accuracy: 0.656   Val loss: 0.4265   Val accuracy: 0.321    weighted Val loss: 0.4314\n",
      "Epoch: 217   Train loss: 0.1146   Train accuracy: 0.717   Val loss: 0.4121   Val accuracy: 0.319    weighted Val loss: 0.4313\n",
      "Epoch: 218   Train loss: 0.1225   Train accuracy: 0.687   Val loss: 0.4174   Val accuracy: 0.322    weighted Val loss: 0.4313\n",
      "Epoch: 219   Train loss: 0.1154   Train accuracy: 0.65   Val loss: 0.414   Val accuracy: 0.32    weighted Val loss: 0.4312\n",
      "Epoch: 220   Train loss: 0.1127   Train accuracy: 0.61   Val loss: 0.4106   Val accuracy: 0.32    weighted Val loss: 0.4311\n",
      "Epoch: 221   Train loss: 0.1102   Train accuracy: 0.642   Val loss: 0.4087   Val accuracy: 0.322    weighted Val loss: 0.431\n",
      "Epoch: 222   Train loss: 0.1085   Train accuracy: 0.673   Val loss: 0.4174   Val accuracy: 0.319    weighted Val loss: 0.4309\n",
      "Epoch: 223   Train loss: 0.1112   Train accuracy: 0.673   Val loss: 0.4211   Val accuracy: 0.33    weighted Val loss: 0.4309\n",
      "Epoch: 224   Train loss: 0.106   Train accuracy: 0.675   Val loss: 0.4184   Val accuracy: 0.324    weighted Val loss: 0.4308\n",
      "Epoch: 225   Train loss: 0.1138   Train accuracy: 0.68   Val loss: 0.4195   Val accuracy: 0.328    weighted Val loss: 0.4307\n",
      "Epoch: 226   Train loss: 0.1142   Train accuracy: 0.632   Val loss: 0.4148   Val accuracy: 0.323    weighted Val loss: 0.4307\n",
      "Epoch: 227   Train loss: 0.1059   Train accuracy: 0.645   Val loss: 0.4266   Val accuracy: 0.311    weighted Val loss: 0.4306\n",
      "Epoch: 228   Train loss: 0.1138   Train accuracy: 0.71   Val loss: 0.4141   Val accuracy: 0.317    weighted Val loss: 0.4306\n",
      "Epoch: 229   Train loss: 0.1133   Train accuracy: 0.638   Val loss: 0.4314   Val accuracy: 0.313    weighted Val loss: 0.4306\n"
     ]
    }
   ],
   "source": [
    "MLPparametersGCN = {\n",
    "    'n_layers':2,\n",
    "    'layer_size_factor':[1,1], \n",
    "    'dropout':[0.3, 0.3],\n",
    "    'batch_size': 128,\n",
    "    'num_epochs': 900,\n",
    "    'learning_rate': 6e-4,\n",
    "    'weight_decay': 5e-3,\n",
    "    'betas': (0.9, 0.999), \n",
    "    'eps': 1e-08\n",
    "}\n",
    "MLPmodelGCN, _,_, MLPcheckpointGCN = MLP.train_MLP(dm, sim_all[\"GCN_train\"], sim_all[\"GCN_test\"], MLPparametersGCN, acc_fn=MLP.F1, autostop_decay = 0.995, print_summary = True)"
   ]
  },
  {
   "cell_type": "code",
   "execution_count": 32,
   "metadata": {},
   "outputs": [
    {
     "name": "stdout",
     "output_type": "stream",
     "text": [
      "model saved\n"
     ]
    }
   ],
   "source": [
    "#optional: save the model\n",
    "MLP.save_ckp(MLPcheckpointGCN, \"models/MLPGCN253_2.pt\")"
   ]
  },
  {
   "cell_type": "markdown",
   "metadata": {},
   "source": [
    "###### Result"
   ]
  },
  {
   "cell_type": "code",
   "execution_count": 22,
   "metadata": {},
   "outputs": [
    {
     "name": "stdout",
     "output_type": "stream",
     "text": [
      "device set to cuda\n",
      "threshold: 0.05  validation loss: 0.3804 F1 accuracy 0.286 Precision accuracy 0.176 Recall accuracy 0.763 AUC accuracy: 0.691\n",
      "device set to cuda\n",
      "threshold: 0.1  validation loss: 0.3804 F1 accuracy 0.372 Precision accuracy 0.272 Recall accuracy 0.588 AUC accuracy: 0.691\n",
      "device set to cuda\n",
      "threshold: 0.15  validation loss: 0.3804 F1 accuracy 0.326 Precision accuracy 0.297 Recall accuracy 0.361 AUC accuracy: 0.691\n",
      "device set to cuda\n",
      "threshold: 0.2  validation loss: 0.3804 F1 accuracy 0.304 Precision accuracy 0.362 Recall accuracy 0.263 AUC accuracy: 0.691\n",
      "device set to cuda\n",
      "threshold: 0.25  validation loss: 0.3804 F1 accuracy 0.238 Precision accuracy 0.37 Recall accuracy 0.175 AUC accuracy: 0.691\n",
      "device set to cuda\n",
      "threshold: 0.3  validation loss: 0.3804 F1 accuracy 0.177 Precision accuracy 0.4 Recall accuracy 0.113 AUC accuracy: 0.691\n",
      "device set to cuda\n",
      "threshold: 0.35  validation loss: 0.3804 F1 accuracy 0.147 Precision accuracy 0.447 Recall accuracy 0.088 AUC accuracy: 0.691\n",
      "device set to cuda\n",
      "threshold: 0.4  validation loss: 0.3804 F1 accuracy 0.119 Precision accuracy 0.52 Recall accuracy 0.067 AUC accuracy: 0.691\n",
      "device set to cuda\n",
      "threshold: 0.45  validation loss: 0.3804 F1 accuracy 0.094 Precision accuracy 0.556 Recall accuracy 0.052 AUC accuracy: 0.691\n",
      "device set to cuda\n",
      "threshold: 0.5  validation loss: 0.3804 F1 accuracy 0.077 Precision accuracy 0.615 Recall accuracy 0.041 AUC accuracy: 0.691\n",
      "device set to cuda\n",
      "threshold: 0.55  validation loss: 0.3804 F1 accuracy 0.059 Precision accuracy 0.545 Recall accuracy 0.031 AUC accuracy: 0.691\n",
      "device set to cuda\n",
      "threshold: 0.6  validation loss: 0.3804 F1 accuracy 0.059 Precision accuracy 0.667 Recall accuracy 0.031 AUC accuracy: 0.691\n",
      "device set to cuda\n",
      "threshold: 0.65  validation loss: 0.3804 F1 accuracy 0.04 Precision accuracy 0.667 Recall accuracy 0.021 AUC accuracy: 0.691\n",
      "device set to cuda\n",
      "threshold: 0.7  validation loss: 0.3804 F1 accuracy 0.04 Precision accuracy 0.667 Recall accuracy 0.021 AUC accuracy: 0.691\n",
      "device set to cuda\n",
      "threshold: 0.75  validation loss: 0.3804 F1 accuracy 0.02 Precision accuracy 1.0 Recall accuracy 0.01 AUC accuracy: 0.691\n",
      "device set to cuda\n",
      "threshold: 0.8  validation loss: 0.3804 F1 accuracy 0.02 Precision accuracy 1.0 Recall accuracy 0.01 AUC accuracy: 0.691\n",
      "device set to cuda\n",
      "threshold: 0.85  validation loss: 0.3804 F1 accuracy 0.01 Precision accuracy 1.0 Recall accuracy 0.005 AUC accuracy: 0.691\n",
      "device set to cuda\n",
      "threshold: 0.9  validation loss: 0.3804 F1 accuracy 0.0 Precision accuracy 0.0 Recall accuracy 0.0 AUC accuracy: 0.691\n",
      "device set to cuda\n",
      "threshold: 0.95  validation loss: 0.3804 F1 accuracy 0.0 Precision accuracy 0.0 Recall accuracy 0.0 AUC accuracy: 0.691\n"
     ]
    },
    {
     "name": "stderr",
     "output_type": "stream",
     "text": [
      "C:\\Users\\caixu\\anaconda3\\lib\\site-packages\\sklearn\\metrics\\_classification.py:1221: UndefinedMetricWarning: Precision is ill-defined and being set to 0.0 due to no predicted samples. Use `zero_division` parameter to control this behavior.\n",
      "  _warn_prf(average, modifier, msg_start, len(result))\n"
     ]
    }
   ],
   "source": [
    "for i in range(5,100, 5):\n",
    "    t = i/100;\n",
    "    MLP.eval_mlp(MLPmodelGCN, sim_all[\"GCN_test\"], dm, device_name = 'cuda', threshold = t)"
   ]
  },
  {
   "cell_type": "markdown",
   "metadata": {},
   "source": [
    "##### 3.1.2 MLP for GDE"
   ]
  },
  {
   "cell_type": "markdown",
   "metadata": {},
   "source": [
    "###### Training"
   ]
  },
  {
   "cell_type": "code",
   "execution_count": 23,
   "metadata": {},
   "outputs": [
    {
     "name": "stdout",
     "output_type": "stream",
     "text": [
      "MLP(\n",
      "  (layers): ModuleList(\n",
      "    (0): Dropout(p=0.3, inplace=False)\n",
      "    (1): Linear(in_features=136, out_features=136, bias=True)\n",
      "    (2): ReLU()\n",
      "    (3): Dropout(p=0.3, inplace=False)\n",
      "    (4): Linear(in_features=136, out_features=1, bias=True)\n",
      "    (5): Sigmoid()\n",
      "  )\n",
      ")\n",
      "----------------------------------------------------------------\n",
      "        Layer (type)               Output Shape         Param #\n",
      "================================================================\n",
      "           Dropout-1                  [-1, 136]               0\n",
      "            Linear-2                  [-1, 136]          18,632\n",
      "              ReLU-3                  [-1, 136]               0\n",
      "           Dropout-4                  [-1, 136]               0\n",
      "            Linear-5                    [-1, 1]             137\n",
      "           Sigmoid-6                    [-1, 1]               0\n",
      "================================================================\n",
      "Total params: 18,769\n",
      "Trainable params: 18,769\n",
      "Non-trainable params: 0\n",
      "----------------------------------------------------------------\n",
      "Input size (MB): 0.00\n",
      "Forward/backward pass size (MB): 0.00\n",
      "Params size (MB): 0.07\n",
      "Estimated Total Size (MB): 0.08\n",
      "----------------------------------------------------------------\n",
      "Epoch: 1   Train loss: 0.6127   Train accuracy: 0.094   Val loss: 0.4957   Val accuracy: 0.356    weighted Val loss: 0.4957\n",
      "0.356 ----------saved-----------\n",
      "Epoch: 2   Train loss: 0.3918   Train accuracy: 0.0   Val loss: 0.3899   Val accuracy: 0.326    weighted Val loss: 0.4952\n",
      "Epoch: 3   Train loss: 0.298   Train accuracy: 0.0   Val loss: 0.3728   Val accuracy: 0.341    weighted Val loss: 0.4946\n",
      "Epoch: 4   Train loss: 0.2795   Train accuracy: 0.0   Val loss: 0.3857   Val accuracy: 0.391    weighted Val loss: 0.494\n",
      "0.391 ----------saved-----------\n",
      "Epoch: 5   Train loss: 0.2669   Train accuracy: 0.0   Val loss: 0.386   Val accuracy: 0.371    weighted Val loss: 0.4935\n",
      "Epoch: 6   Train loss: 0.27   Train accuracy: 0.0   Val loss: 0.3793   Val accuracy: 0.382    weighted Val loss: 0.4929\n",
      "Epoch: 7   Train loss: 0.2613   Train accuracy: 0.0   Val loss: 0.3741   Val accuracy: 0.405    weighted Val loss: 0.4923\n",
      "0.405 ----------saved-----------\n",
      "Epoch: 8   Train loss: 0.2574   Train accuracy: 0.0   Val loss: 0.3709   Val accuracy: 0.395    weighted Val loss: 0.4917\n",
      "Epoch: 9   Train loss: 0.2584   Train accuracy: 0.0   Val loss: 0.3701   Val accuracy: 0.406    weighted Val loss: 0.4911\n",
      "0.406 ----------saved-----------\n",
      "Epoch: 10   Train loss: 0.2489   Train accuracy: 0.0   Val loss: 0.3674   Val accuracy: 0.396    weighted Val loss: 0.4905\n",
      "Epoch: 11   Train loss: 0.2473   Train accuracy: 0.0   Val loss: 0.3669   Val accuracy: 0.417    weighted Val loss: 0.4899\n",
      "0.417 ----------saved-----------\n",
      "Epoch: 12   Train loss: 0.2491   Train accuracy: 0.0   Val loss: 0.3649   Val accuracy: 0.42    weighted Val loss: 0.4893\n",
      "0.42 ----------saved-----------\n",
      "Epoch: 13   Train loss: 0.241   Train accuracy: 0.0   Val loss: 0.361   Val accuracy: 0.423    weighted Val loss: 0.4886\n",
      "0.423 ----------saved-----------\n",
      "Epoch: 14   Train loss: 0.2411   Train accuracy: 0.0   Val loss: 0.3583   Val accuracy: 0.417    weighted Val loss: 0.488\n",
      "Epoch: 15   Train loss: 0.2378   Train accuracy: 0.0   Val loss: 0.3567   Val accuracy: 0.412    weighted Val loss: 0.4873\n",
      "Epoch: 16   Train loss: 0.2318   Train accuracy: 0.0   Val loss: 0.3545   Val accuracy: 0.402    weighted Val loss: 0.4866\n",
      "Epoch: 17   Train loss: 0.227   Train accuracy: 0.011   Val loss: 0.3553   Val accuracy: 0.415    weighted Val loss: 0.486\n",
      "Epoch: 18   Train loss: 0.2214   Train accuracy: 0.012   Val loss: 0.3521   Val accuracy: 0.415    weighted Val loss: 0.4853\n",
      "Epoch: 19   Train loss: 0.222   Train accuracy: 0.038   Val loss: 0.3489   Val accuracy: 0.439    weighted Val loss: 0.4846\n",
      "0.439 ----------saved-----------\n",
      "Epoch: 20   Train loss: 0.2201   Train accuracy: 0.046   Val loss: 0.3466   Val accuracy: 0.444    weighted Val loss: 0.4839\n",
      "0.444 ----------saved-----------\n",
      "Epoch: 21   Train loss: 0.2206   Train accuracy: 0.031   Val loss: 0.3483   Val accuracy: 0.449    weighted Val loss: 0.4833\n",
      "0.449 ----------saved-----------\n",
      "Epoch: 22   Train loss: 0.2116   Train accuracy: 0.06   Val loss: 0.343   Val accuracy: 0.453    weighted Val loss: 0.4826\n",
      "0.453 ----------saved-----------\n",
      "Epoch: 23   Train loss: 0.2151   Train accuracy: 0.097   Val loss: 0.3445   Val accuracy: 0.459    weighted Val loss: 0.4819\n",
      "0.459 ----------saved-----------\n",
      "Epoch: 24   Train loss: 0.2145   Train accuracy: 0.068   Val loss: 0.3383   Val accuracy: 0.438    weighted Val loss: 0.4812\n",
      "Epoch: 25   Train loss: 0.2053   Train accuracy: 0.187   Val loss: 0.3461   Val accuracy: 0.46    weighted Val loss: 0.4805\n",
      "0.46 ----------saved-----------\n",
      "Epoch: 26   Train loss: 0.2091   Train accuracy: 0.18   Val loss: 0.3387   Val accuracy: 0.432    weighted Val loss: 0.4798\n",
      "Epoch: 27   Train loss: 0.2096   Train accuracy: 0.289   Val loss: 0.3437   Val accuracy: 0.458    weighted Val loss: 0.4791\n",
      "Epoch: 28   Train loss: 0.1991   Train accuracy: 0.193   Val loss: 0.3433   Val accuracy: 0.459    weighted Val loss: 0.4784\n",
      "Epoch: 29   Train loss: 0.1958   Train accuracy: 0.232   Val loss: 0.3434   Val accuracy: 0.458    weighted Val loss: 0.4777\n",
      "Epoch: 30   Train loss: 0.2023   Train accuracy: 0.242   Val loss: 0.3362   Val accuracy: 0.449    weighted Val loss: 0.477\n",
      "Epoch: 31   Train loss: 0.1962   Train accuracy: 0.256   Val loss: 0.3403   Val accuracy: 0.433    weighted Val loss: 0.4763\n",
      "Epoch: 32   Train loss: 0.1943   Train accuracy: 0.292   Val loss: 0.3388   Val accuracy: 0.426    weighted Val loss: 0.4757\n",
      "Epoch: 33   Train loss: 0.1985   Train accuracy: 0.327   Val loss: 0.342   Val accuracy: 0.429    weighted Val loss: 0.475\n",
      "Epoch: 34   Train loss: 0.1941   Train accuracy: 0.235   Val loss: 0.3396   Val accuracy: 0.426    weighted Val loss: 0.4743\n",
      "Epoch: 35   Train loss: 0.1956   Train accuracy: 0.324   Val loss: 0.3394   Val accuracy: 0.448    weighted Val loss: 0.4736\n",
      "Epoch: 36   Train loss: 0.1877   Train accuracy: 0.349   Val loss: 0.3432   Val accuracy: 0.443    weighted Val loss: 0.473\n",
      "Epoch: 37   Train loss: 0.1955   Train accuracy: 0.271   Val loss: 0.3401   Val accuracy: 0.443    weighted Val loss: 0.4723\n",
      "Epoch: 38   Train loss: 0.1918   Train accuracy: 0.345   Val loss: 0.3376   Val accuracy: 0.445    weighted Val loss: 0.4717\n",
      "Epoch: 39   Train loss: 0.1868   Train accuracy: 0.382   Val loss: 0.3443   Val accuracy: 0.436    weighted Val loss: 0.471\n",
      "Epoch: 40   Train loss: 0.1761   Train accuracy: 0.399   Val loss: 0.3429   Val accuracy: 0.44    weighted Val loss: 0.4704\n",
      "Epoch: 41   Train loss: 0.1907   Train accuracy: 0.406   Val loss: 0.3414   Val accuracy: 0.438    weighted Val loss: 0.4697\n",
      "Epoch: 42   Train loss: 0.1888   Train accuracy: 0.281   Val loss: 0.3444   Val accuracy: 0.444    weighted Val loss: 0.4691\n",
      "Epoch: 43   Train loss: 0.187   Train accuracy: 0.386   Val loss: 0.3387   Val accuracy: 0.439    weighted Val loss: 0.4684\n",
      "Epoch: 44   Train loss: 0.181   Train accuracy: 0.317   Val loss: 0.3464   Val accuracy: 0.434    weighted Val loss: 0.4678\n",
      "Epoch: 45   Train loss: 0.1793   Train accuracy: 0.363   Val loss: 0.3453   Val accuracy: 0.43    weighted Val loss: 0.4672\n",
      "Epoch: 46   Train loss: 0.1837   Train accuracy: 0.372   Val loss: 0.3462   Val accuracy: 0.431    weighted Val loss: 0.4666\n",
      "Epoch: 47   Train loss: 0.1773   Train accuracy: 0.368   Val loss: 0.3425   Val accuracy: 0.439    weighted Val loss: 0.466\n",
      "Epoch: 48   Train loss: 0.1839   Train accuracy: 0.386   Val loss: 0.3435   Val accuracy: 0.429    weighted Val loss: 0.4654\n",
      "Epoch: 49   Train loss: 0.1801   Train accuracy: 0.413   Val loss: 0.3419   Val accuracy: 0.438    weighted Val loss: 0.4648\n",
      "Epoch: 50   Train loss: 0.1811   Train accuracy: 0.398   Val loss: 0.3466   Val accuracy: 0.441    weighted Val loss: 0.4642\n",
      "Epoch: 51   Train loss: 0.1811   Train accuracy: 0.417   Val loss: 0.3422   Val accuracy: 0.438    weighted Val loss: 0.4636\n",
      "Epoch: 52   Train loss: 0.1773   Train accuracy: 0.449   Val loss: 0.3463   Val accuracy: 0.427    weighted Val loss: 0.463\n",
      "Epoch: 53   Train loss: 0.1771   Train accuracy: 0.356   Val loss: 0.3453   Val accuracy: 0.432    weighted Val loss: 0.4624\n",
      "Epoch: 54   Train loss: 0.1788   Train accuracy: 0.37   Val loss: 0.3432   Val accuracy: 0.432    weighted Val loss: 0.4618\n",
      "Epoch: 55   Train loss: 0.1812   Train accuracy: 0.379   Val loss: 0.3447   Val accuracy: 0.421    weighted Val loss: 0.4612\n",
      "Epoch: 56   Train loss: 0.1782   Train accuracy: 0.406   Val loss: 0.3443   Val accuracy: 0.44    weighted Val loss: 0.4606\n",
      "Epoch: 57   Train loss: 0.1715   Train accuracy: 0.447   Val loss: 0.345   Val accuracy: 0.427    weighted Val loss: 0.4601\n",
      "Epoch: 58   Train loss: 0.1748   Train accuracy: 0.417   Val loss: 0.3487   Val accuracy: 0.419    weighted Val loss: 0.4595\n",
      "Epoch: 59   Train loss: 0.1724   Train accuracy: 0.48   Val loss: 0.3479   Val accuracy: 0.421    weighted Val loss: 0.4589\n",
      "Epoch: 60   Train loss: 0.1742   Train accuracy: 0.431   Val loss: 0.3512   Val accuracy: 0.438    weighted Val loss: 0.4584\n",
      "Epoch: 61   Train loss: 0.1614   Train accuracy: 0.508   Val loss: 0.3528   Val accuracy: 0.44    weighted Val loss: 0.4579\n",
      "Epoch: 62   Train loss: 0.1759   Train accuracy: 0.396   Val loss: 0.354   Val accuracy: 0.427    weighted Val loss: 0.4574\n",
      "Epoch: 63   Train loss: 0.1776   Train accuracy: 0.387   Val loss: 0.3468   Val accuracy: 0.43    weighted Val loss: 0.4568\n",
      "Epoch: 64   Train loss: 0.1763   Train accuracy: 0.354   Val loss: 0.3492   Val accuracy: 0.424    weighted Val loss: 0.4563\n",
      "Epoch: 65   Train loss: 0.1746   Train accuracy: 0.46   Val loss: 0.3525   Val accuracy: 0.441    weighted Val loss: 0.4557\n",
      "Epoch: 66   Train loss: 0.171   Train accuracy: 0.447   Val loss: 0.3464   Val accuracy: 0.441    weighted Val loss: 0.4552\n",
      "Epoch: 67   Train loss: 0.1677   Train accuracy: 0.443   Val loss: 0.3498   Val accuracy: 0.44    weighted Val loss: 0.4547\n",
      "Epoch: 68   Train loss: 0.158   Train accuracy: 0.508   Val loss: 0.35   Val accuracy: 0.443    weighted Val loss: 0.4541\n",
      "Epoch: 69   Train loss: 0.1686   Train accuracy: 0.438   Val loss: 0.3473   Val accuracy: 0.446    weighted Val loss: 0.4536\n",
      "Epoch: 70   Train loss: 0.1647   Train accuracy: 0.465   Val loss: 0.3525   Val accuracy: 0.44    weighted Val loss: 0.4531\n",
      "Epoch: 71   Train loss: 0.1719   Train accuracy: 0.418   Val loss: 0.3485   Val accuracy: 0.447    weighted Val loss: 0.4526\n",
      "Epoch: 72   Train loss: 0.1745   Train accuracy: 0.424   Val loss: 0.3498   Val accuracy: 0.446    weighted Val loss: 0.4521\n",
      "Epoch: 73   Train loss: 0.1602   Train accuracy: 0.488   Val loss: 0.3488   Val accuracy: 0.439    weighted Val loss: 0.4516\n",
      "Epoch: 74   Train loss: 0.1708   Train accuracy: 0.438   Val loss: 0.3462   Val accuracy: 0.44    weighted Val loss: 0.451\n",
      "Epoch: 75   Train loss: 0.1648   Train accuracy: 0.534   Val loss: 0.3538   Val accuracy: 0.443    weighted Val loss: 0.4505\n",
      "Epoch: 76   Train loss: 0.1705   Train accuracy: 0.429   Val loss: 0.3463   Val accuracy: 0.434    weighted Val loss: 0.45\n",
      "Epoch: 77   Train loss: 0.1505   Train accuracy: 0.518   Val loss: 0.3468   Val accuracy: 0.443    weighted Val loss: 0.4495\n",
      "Epoch: 78   Train loss: 0.1557   Train accuracy: 0.516   Val loss: 0.3518   Val accuracy: 0.441    weighted Val loss: 0.449\n",
      "Epoch: 79   Train loss: 0.1628   Train accuracy: 0.49   Val loss: 0.3574   Val accuracy: 0.44    weighted Val loss: 0.4486\n",
      "Epoch: 80   Train loss: 0.1596   Train accuracy: 0.453   Val loss: 0.349   Val accuracy: 0.42    weighted Val loss: 0.4481\n",
      "Epoch: 81   Train loss: 0.1607   Train accuracy: 0.506   Val loss: 0.3453   Val accuracy: 0.422    weighted Val loss: 0.4475\n",
      "Epoch: 82   Train loss: 0.1665   Train accuracy: 0.43   Val loss: 0.3576   Val accuracy: 0.429    weighted Val loss: 0.4471\n",
      "Epoch: 83   Train loss: 0.1585   Train accuracy: 0.494   Val loss: 0.3502   Val accuracy: 0.417    weighted Val loss: 0.4466\n",
      "Epoch: 84   Train loss: 0.1589   Train accuracy: 0.496   Val loss: 0.3611   Val accuracy: 0.426    weighted Val loss: 0.4462\n",
      "Epoch: 85   Train loss: 0.1678   Train accuracy: 0.473   Val loss: 0.3597   Val accuracy: 0.424    weighted Val loss: 0.4457\n",
      "Epoch: 86   Train loss: 0.1573   Train accuracy: 0.504   Val loss: 0.3562   Val accuracy: 0.425    weighted Val loss: 0.4453\n",
      "Epoch: 87   Train loss: 0.1528   Train accuracy: 0.497   Val loss: 0.3611   Val accuracy: 0.444    weighted Val loss: 0.4449\n",
      "Epoch: 88   Train loss: 0.1586   Train accuracy: 0.508   Val loss: 0.35   Val accuracy: 0.426    weighted Val loss: 0.4444\n",
      "Epoch: 89   Train loss: 0.1495   Train accuracy: 0.503   Val loss: 0.3599   Val accuracy: 0.436    weighted Val loss: 0.444\n",
      "Epoch: 90   Train loss: 0.1679   Train accuracy: 0.434   Val loss: 0.3483   Val accuracy: 0.427    weighted Val loss: 0.4435\n",
      "Epoch: 91   Train loss: 0.1569   Train accuracy: 0.539   Val loss: 0.3498   Val accuracy: 0.426    weighted Val loss: 0.443\n",
      "Epoch: 92   Train loss: 0.1539   Train accuracy: 0.507   Val loss: 0.3563   Val accuracy: 0.433    weighted Val loss: 0.4426\n",
      "Epoch: 93   Train loss: 0.1525   Train accuracy: 0.61   Val loss: 0.3515   Val accuracy: 0.445    weighted Val loss: 0.4421\n",
      "Epoch: 94   Train loss: 0.1506   Train accuracy: 0.555   Val loss: 0.3543   Val accuracy: 0.438    weighted Val loss: 0.4417\n",
      "Epoch: 95   Train loss: 0.1483   Train accuracy: 0.57   Val loss: 0.3522   Val accuracy: 0.44    weighted Val loss: 0.4413\n",
      "Epoch: 96   Train loss: 0.1459   Train accuracy: 0.534   Val loss: 0.367   Val accuracy: 0.427    weighted Val loss: 0.4409\n",
      "Epoch: 97   Train loss: 0.162   Train accuracy: 0.555   Val loss: 0.3509   Val accuracy: 0.442    weighted Val loss: 0.4404\n",
      "Epoch: 98   Train loss: 0.1536   Train accuracy: 0.447   Val loss: 0.3578   Val accuracy: 0.436    weighted Val loss: 0.44\n",
      "Epoch: 99   Train loss: 0.1508   Train accuracy: 0.571   Val loss: 0.3537   Val accuracy: 0.435    weighted Val loss: 0.4396\n",
      "Epoch: 100   Train loss: 0.1446   Train accuracy: 0.557   Val loss: 0.357   Val accuracy: 0.449    weighted Val loss: 0.4392\n",
      "Epoch: 101   Train loss: 0.1421   Train accuracy: 0.529   Val loss: 0.3506   Val accuracy: 0.436    weighted Val loss: 0.4387\n",
      "Epoch: 102   Train loss: 0.1491   Train accuracy: 0.529   Val loss: 0.3564   Val accuracy: 0.444    weighted Val loss: 0.4383\n",
      "Epoch: 103   Train loss: 0.143   Train accuracy: 0.501   Val loss: 0.3558   Val accuracy: 0.436    weighted Val loss: 0.4379\n",
      "Epoch: 104   Train loss: 0.1557   Train accuracy: 0.527   Val loss: 0.3508   Val accuracy: 0.438    weighted Val loss: 0.4375\n",
      "Epoch: 105   Train loss: 0.1507   Train accuracy: 0.46   Val loss: 0.348   Val accuracy: 0.446    weighted Val loss: 0.437\n",
      "Epoch: 106   Train loss: 0.1533   Train accuracy: 0.531   Val loss: 0.3558   Val accuracy: 0.436    weighted Val loss: 0.4366\n",
      "Epoch: 107   Train loss: 0.1487   Train accuracy: 0.556   Val loss: 0.3567   Val accuracy: 0.443    weighted Val loss: 0.4362\n",
      "Epoch: 108   Train loss: 0.1559   Train accuracy: 0.572   Val loss: 0.3537   Val accuracy: 0.451    weighted Val loss: 0.4358\n",
      "Epoch: 109   Train loss: 0.1403   Train accuracy: 0.539   Val loss: 0.3589   Val accuracy: 0.433    weighted Val loss: 0.4354\n",
      "Epoch: 110   Train loss: 0.162   Train accuracy: 0.504   Val loss: 0.3503   Val accuracy: 0.43    weighted Val loss: 0.435\n",
      "Epoch: 111   Train loss: 0.1543   Train accuracy: 0.521   Val loss: 0.3483   Val accuracy: 0.437    weighted Val loss: 0.4346\n",
      "Epoch: 112   Train loss: 0.1451   Train accuracy: 0.599   Val loss: 0.3554   Val accuracy: 0.436    weighted Val loss: 0.4342\n",
      "Epoch: 113   Train loss: 0.1505   Train accuracy: 0.549   Val loss: 0.351   Val accuracy: 0.43    weighted Val loss: 0.4338\n",
      "Epoch: 114   Train loss: 0.1466   Train accuracy: 0.537   Val loss: 0.3579   Val accuracy: 0.446    weighted Val loss: 0.4334\n",
      "Epoch: 115   Train loss: 0.1499   Train accuracy: 0.586   Val loss: 0.3549   Val accuracy: 0.447    weighted Val loss: 0.433\n",
      "Epoch: 116   Train loss: 0.1489   Train accuracy: 0.506   Val loss: 0.3647   Val accuracy: 0.444    weighted Val loss: 0.4326\n",
      "Epoch: 117   Train loss: 0.1496   Train accuracy: 0.489   Val loss: 0.3469   Val accuracy: 0.425    weighted Val loss: 0.4322\n",
      "Epoch: 118   Train loss: 0.1431   Train accuracy: 0.534   Val loss: 0.3655   Val accuracy: 0.417    weighted Val loss: 0.4319\n",
      "Epoch: 119   Train loss: 0.1462   Train accuracy: 0.542   Val loss: 0.3561   Val accuracy: 0.43    weighted Val loss: 0.4315\n",
      "Epoch: 120   Train loss: 0.1516   Train accuracy: 0.517   Val loss: 0.3525   Val accuracy: 0.411    weighted Val loss: 0.4311\n",
      "Epoch: 121   Train loss: 0.1473   Train accuracy: 0.546   Val loss: 0.3589   Val accuracy: 0.423    weighted Val loss: 0.4307\n",
      "Epoch: 122   Train loss: 0.1508   Train accuracy: 0.552   Val loss: 0.3527   Val accuracy: 0.416    weighted Val loss: 0.4304\n",
      "Epoch: 123   Train loss: 0.133   Train accuracy: 0.62   Val loss: 0.3674   Val accuracy: 0.425    weighted Val loss: 0.43\n",
      "Epoch: 124   Train loss: 0.1454   Train accuracy: 0.458   Val loss: 0.3542   Val accuracy: 0.432    weighted Val loss: 0.4297\n",
      "Epoch: 125   Train loss: 0.1541   Train accuracy: 0.547   Val loss: 0.3593   Val accuracy: 0.424    weighted Val loss: 0.4293\n",
      "Epoch: 126   Train loss: 0.1496   Train accuracy: 0.554   Val loss: 0.3577   Val accuracy: 0.429    weighted Val loss: 0.429\n",
      "Epoch: 127   Train loss: 0.1378   Train accuracy: 0.573   Val loss: 0.3554   Val accuracy: 0.423    weighted Val loss: 0.4286\n",
      "Epoch: 128   Train loss: 0.1497   Train accuracy: 0.57   Val loss: 0.366   Val accuracy: 0.434    weighted Val loss: 0.4283\n",
      "Epoch: 129   Train loss: 0.1448   Train accuracy: 0.574   Val loss: 0.3654   Val accuracy: 0.431    weighted Val loss: 0.428\n",
      "Epoch: 130   Train loss: 0.1441   Train accuracy: 0.57   Val loss: 0.35   Val accuracy: 0.437    weighted Val loss: 0.4276\n",
      "Epoch: 131   Train loss: 0.1437   Train accuracy: 0.555   Val loss: 0.3576   Val accuracy: 0.44    weighted Val loss: 0.4272\n",
      "Epoch: 132   Train loss: 0.152   Train accuracy: 0.516   Val loss: 0.3551   Val accuracy: 0.442    weighted Val loss: 0.4269\n",
      "Epoch: 133   Train loss: 0.1364   Train accuracy: 0.615   Val loss: 0.3557   Val accuracy: 0.45    weighted Val loss: 0.4265\n",
      "Epoch: 134   Train loss: 0.1445   Train accuracy: 0.587   Val loss: 0.3675   Val accuracy: 0.426    weighted Val loss: 0.4262\n",
      "Epoch: 135   Train loss: 0.1478   Train accuracy: 0.488   Val loss: 0.3509   Val accuracy: 0.427    weighted Val loss: 0.4258\n",
      "Epoch: 136   Train loss: 0.1505   Train accuracy: 0.504   Val loss: 0.364   Val accuracy: 0.426    weighted Val loss: 0.4255\n",
      "Epoch: 137   Train loss: 0.1522   Train accuracy: 0.543   Val loss: 0.3579   Val accuracy: 0.433    weighted Val loss: 0.4252\n",
      "Epoch: 138   Train loss: 0.1476   Train accuracy: 0.536   Val loss: 0.3626   Val accuracy: 0.435    weighted Val loss: 0.4249\n",
      "Epoch: 139   Train loss: 0.1415   Train accuracy: 0.555   Val loss: 0.3514   Val accuracy: 0.42    weighted Val loss: 0.4245\n",
      "Epoch: 140   Train loss: 0.1449   Train accuracy: 0.556   Val loss: 0.3716   Val accuracy: 0.427    weighted Val loss: 0.4242\n",
      "Epoch: 141   Train loss: 0.1495   Train accuracy: 0.511   Val loss: 0.3556   Val accuracy: 0.418    weighted Val loss: 0.4239\n",
      "Epoch: 142   Train loss: 0.1472   Train accuracy: 0.522   Val loss: 0.3703   Val accuracy: 0.415    weighted Val loss: 0.4236\n",
      "Epoch: 143   Train loss: 0.1438   Train accuracy: 0.524   Val loss: 0.362   Val accuracy: 0.43    weighted Val loss: 0.4233\n",
      "Epoch: 144   Train loss: 0.1509   Train accuracy: 0.589   Val loss: 0.359   Val accuracy: 0.429    weighted Val loss: 0.423\n",
      "Epoch: 145   Train loss: 0.1523   Train accuracy: 0.483   Val loss: 0.3709   Val accuracy: 0.432    weighted Val loss: 0.4227\n",
      "Epoch: 146   Train loss: 0.1395   Train accuracy: 0.531   Val loss: 0.3524   Val accuracy: 0.438    weighted Val loss: 0.4224\n",
      "Epoch: 147   Train loss: 0.139   Train accuracy: 0.572   Val loss: 0.3618   Val accuracy: 0.428    weighted Val loss: 0.4221\n",
      "Epoch: 148   Train loss: 0.1411   Train accuracy: 0.558   Val loss: 0.3564   Val accuracy: 0.43    weighted Val loss: 0.4218\n",
      "Epoch: 149   Train loss: 0.1448   Train accuracy: 0.576   Val loss: 0.356   Val accuracy: 0.431    weighted Val loss: 0.4214\n",
      "Epoch: 150   Train loss: 0.1392   Train accuracy: 0.571   Val loss: 0.3624   Val accuracy: 0.435    weighted Val loss: 0.4211\n",
      "Epoch: 151   Train loss: 0.1383   Train accuracy: 0.589   Val loss: 0.3496   Val accuracy: 0.429    weighted Val loss: 0.4208\n",
      "Epoch: 152   Train loss: 0.1431   Train accuracy: 0.568   Val loss: 0.3771   Val accuracy: 0.42    weighted Val loss: 0.4206\n",
      "Epoch: 153   Train loss: 0.1345   Train accuracy: 0.551   Val loss: 0.3573   Val accuracy: 0.417    weighted Val loss: 0.4202\n",
      "Epoch: 154   Train loss: 0.1334   Train accuracy: 0.564   Val loss: 0.3627   Val accuracy: 0.411    weighted Val loss: 0.4199\n",
      "Epoch: 155   Train loss: 0.1389   Train accuracy: 0.634   Val loss: 0.3642   Val accuracy: 0.432    weighted Val loss: 0.4197\n",
      "Epoch: 156   Train loss: 0.1294   Train accuracy: 0.633   Val loss: 0.371   Val accuracy: 0.426    weighted Val loss: 0.4194\n",
      "Epoch: 157   Train loss: 0.1284   Train accuracy: 0.577   Val loss: 0.3555   Val accuracy: 0.419    weighted Val loss: 0.4191\n",
      "Epoch: 158   Train loss: 0.1441   Train accuracy: 0.609   Val loss: 0.3638   Val accuracy: 0.425    weighted Val loss: 0.4188\n",
      "Epoch: 159   Train loss: 0.133   Train accuracy: 0.65   Val loss: 0.3734   Val accuracy: 0.414    weighted Val loss: 0.4186\n",
      "Epoch: 160   Train loss: 0.1348   Train accuracy: 0.574   Val loss: 0.3762   Val accuracy: 0.421    weighted Val loss: 0.4184\n",
      "Epoch: 161   Train loss: 0.1377   Train accuracy: 0.509   Val loss: 0.359   Val accuracy: 0.422    weighted Val loss: 0.4181\n",
      "Epoch: 162   Train loss: 0.1354   Train accuracy: 0.615   Val loss: 0.3679   Val accuracy: 0.422    weighted Val loss: 0.4178\n",
      "Epoch: 163   Train loss: 0.1316   Train accuracy: 0.54   Val loss: 0.3679   Val accuracy: 0.42    weighted Val loss: 0.4176\n",
      "Epoch: 164   Train loss: 0.1356   Train accuracy: 0.561   Val loss: 0.3554   Val accuracy: 0.426    weighted Val loss: 0.4173\n",
      "Epoch: 165   Train loss: 0.1394   Train accuracy: 0.525   Val loss: 0.3672   Val accuracy: 0.415    weighted Val loss: 0.417\n",
      "Epoch: 166   Train loss: 0.1402   Train accuracy: 0.529   Val loss: 0.3626   Val accuracy: 0.415    weighted Val loss: 0.4168\n",
      "Epoch: 167   Train loss: 0.1397   Train accuracy: 0.622   Val loss: 0.3663   Val accuracy: 0.426    weighted Val loss: 0.4165\n",
      "Epoch: 168   Train loss: 0.1299   Train accuracy: 0.627   Val loss: 0.3709   Val accuracy: 0.417    weighted Val loss: 0.4163\n",
      "Epoch: 169   Train loss: 0.1387   Train accuracy: 0.518   Val loss: 0.3589   Val accuracy: 0.424    weighted Val loss: 0.416\n",
      "Epoch: 170   Train loss: 0.1304   Train accuracy: 0.689   Val loss: 0.3658   Val accuracy: 0.425    weighted Val loss: 0.4157\n",
      "Epoch: 171   Train loss: 0.1383   Train accuracy: 0.537   Val loss: 0.3713   Val accuracy: 0.443    weighted Val loss: 0.4155\n",
      "Epoch: 172   Train loss: 0.1335   Train accuracy: 0.641   Val loss: 0.3661   Val accuracy: 0.434    weighted Val loss: 0.4153\n",
      "Epoch: 173   Train loss: 0.1392   Train accuracy: 0.603   Val loss: 0.364   Val accuracy: 0.436    weighted Val loss: 0.415\n",
      "Epoch: 174   Train loss: 0.1312   Train accuracy: 0.574   Val loss: 0.3698   Val accuracy: 0.444    weighted Val loss: 0.4148\n",
      "Epoch: 175   Train loss: 0.1345   Train accuracy: 0.569   Val loss: 0.3578   Val accuracy: 0.446    weighted Val loss: 0.4145\n",
      "Epoch: 176   Train loss: 0.1341   Train accuracy: 0.619   Val loss: 0.3592   Val accuracy: 0.441    weighted Val loss: 0.4142\n",
      "Epoch: 177   Train loss: 0.1374   Train accuracy: 0.576   Val loss: 0.3674   Val accuracy: 0.429    weighted Val loss: 0.414\n",
      "Epoch: 178   Train loss: 0.1272   Train accuracy: 0.613   Val loss: 0.3717   Val accuracy: 0.432    weighted Val loss: 0.4138\n",
      "Epoch: 179   Train loss: 0.1402   Train accuracy: 0.541   Val loss: 0.3598   Val accuracy: 0.422    weighted Val loss: 0.4135\n",
      "Epoch: 180   Train loss: 0.1359   Train accuracy: 0.649   Val loss: 0.3706   Val accuracy: 0.425    weighted Val loss: 0.4133\n",
      "Epoch: 181   Train loss: 0.14   Train accuracy: 0.52   Val loss: 0.3643   Val accuracy: 0.44    weighted Val loss: 0.4131\n",
      "Epoch: 182   Train loss: 0.1245   Train accuracy: 0.677   Val loss: 0.3678   Val accuracy: 0.433    weighted Val loss: 0.4128\n",
      "Epoch: 183   Train loss: 0.1288   Train accuracy: 0.59   Val loss: 0.3643   Val accuracy: 0.426    weighted Val loss: 0.4126\n",
      "Epoch: 184   Train loss: 0.1317   Train accuracy: 0.593   Val loss: 0.3604   Val accuracy: 0.432    weighted Val loss: 0.4123\n",
      "Epoch: 185   Train loss: 0.1265   Train accuracy: 0.613   Val loss: 0.3647   Val accuracy: 0.423    weighted Val loss: 0.4121\n",
      "Epoch: 186   Train loss: 0.1238   Train accuracy: 0.602   Val loss: 0.3628   Val accuracy: 0.421    weighted Val loss: 0.4118\n",
      "Epoch: 187   Train loss: 0.1296   Train accuracy: 0.643   Val loss: 0.361   Val accuracy: 0.415    weighted Val loss: 0.4116\n",
      "Epoch: 188   Train loss: 0.1318   Train accuracy: 0.628   Val loss: 0.368   Val accuracy: 0.42    weighted Val loss: 0.4114\n",
      "Epoch: 189   Train loss: 0.1337   Train accuracy: 0.545   Val loss: 0.3583   Val accuracy: 0.428    weighted Val loss: 0.4111\n",
      "Epoch: 190   Train loss: 0.1342   Train accuracy: 0.624   Val loss: 0.3552   Val accuracy: 0.424    weighted Val loss: 0.4108\n",
      "Epoch: 191   Train loss: 0.1328   Train accuracy: 0.594   Val loss: 0.3576   Val accuracy: 0.43    weighted Val loss: 0.4106\n",
      "Epoch: 192   Train loss: 0.1383   Train accuracy: 0.653   Val loss: 0.3577   Val accuracy: 0.428    weighted Val loss: 0.4103\n",
      "Epoch: 193   Train loss: 0.1283   Train accuracy: 0.594   Val loss: 0.3616   Val accuracy: 0.434    weighted Val loss: 0.41\n",
      "Epoch: 194   Train loss: 0.1252   Train accuracy: 0.607   Val loss: 0.3562   Val accuracy: 0.434    weighted Val loss: 0.4098\n",
      "Epoch: 195   Train loss: 0.1307   Train accuracy: 0.637   Val loss: 0.3582   Val accuracy: 0.432    weighted Val loss: 0.4095\n",
      "Epoch: 196   Train loss: 0.1358   Train accuracy: 0.598   Val loss: 0.3599   Val accuracy: 0.428    weighted Val loss: 0.4093\n",
      "Epoch: 197   Train loss: 0.1297   Train accuracy: 0.626   Val loss: 0.3567   Val accuracy: 0.417    weighted Val loss: 0.409\n",
      "Epoch: 198   Train loss: 0.1309   Train accuracy: 0.592   Val loss: 0.3655   Val accuracy: 0.428    weighted Val loss: 0.4088\n",
      "Epoch: 199   Train loss: 0.1274   Train accuracy: 0.554   Val loss: 0.3667   Val accuracy: 0.417    weighted Val loss: 0.4086\n",
      "Epoch: 200   Train loss: 0.127   Train accuracy: 0.643   Val loss: 0.3704   Val accuracy: 0.412    weighted Val loss: 0.4084\n",
      "Epoch: 201   Train loss: 0.1267   Train accuracy: 0.616   Val loss: 0.3734   Val accuracy: 0.416    weighted Val loss: 0.4082\n",
      "Epoch: 202   Train loss: 0.1246   Train accuracy: 0.647   Val loss: 0.3602   Val accuracy: 0.424    weighted Val loss: 0.408\n",
      "Epoch: 203   Train loss: 0.1328   Train accuracy: 0.626   Val loss: 0.3631   Val accuracy: 0.427    weighted Val loss: 0.4078\n",
      "Epoch: 204   Train loss: 0.1227   Train accuracy: 0.655   Val loss: 0.3727   Val accuracy: 0.421    weighted Val loss: 0.4076\n",
      "Epoch: 205   Train loss: 0.1164   Train accuracy: 0.648   Val loss: 0.3681   Val accuracy: 0.416    weighted Val loss: 0.4074\n",
      "Epoch: 206   Train loss: 0.1279   Train accuracy: 0.589   Val loss: 0.3701   Val accuracy: 0.416    weighted Val loss: 0.4072\n",
      "Epoch: 207   Train loss: 0.1218   Train accuracy: 0.677   Val loss: 0.3669   Val accuracy: 0.419    weighted Val loss: 0.407\n",
      "Epoch: 208   Train loss: 0.1311   Train accuracy: 0.622   Val loss: 0.3589   Val accuracy: 0.431    weighted Val loss: 0.4068\n",
      "Epoch: 209   Train loss: 0.1291   Train accuracy: 0.652   Val loss: 0.361   Val accuracy: 0.421    weighted Val loss: 0.4065\n",
      "Epoch: 210   Train loss: 0.1283   Train accuracy: 0.658   Val loss: 0.3706   Val accuracy: 0.417    weighted Val loss: 0.4063\n",
      "Epoch: 211   Train loss: 0.1358   Train accuracy: 0.638   Val loss: 0.3632   Val accuracy: 0.428    weighted Val loss: 0.4061\n",
      "Epoch: 212   Train loss: 0.1137   Train accuracy: 0.624   Val loss: 0.3713   Val accuracy: 0.431    weighted Val loss: 0.406\n",
      "Epoch: 213   Train loss: 0.1312   Train accuracy: 0.635   Val loss: 0.3646   Val accuracy: 0.423    weighted Val loss: 0.4057\n",
      "Epoch: 214   Train loss: 0.1238   Train accuracy: 0.652   Val loss: 0.369   Val accuracy: 0.42    weighted Val loss: 0.4056\n",
      "Epoch: 215   Train loss: 0.1239   Train accuracy: 0.671   Val loss: 0.36   Val accuracy: 0.425    weighted Val loss: 0.4053\n",
      "Epoch: 216   Train loss: 0.13   Train accuracy: 0.573   Val loss: 0.3598   Val accuracy: 0.44    weighted Val loss: 0.4051\n",
      "Epoch: 217   Train loss: 0.1146   Train accuracy: 0.661   Val loss: 0.359   Val accuracy: 0.431    weighted Val loss: 0.4049\n",
      "Epoch: 218   Train loss: 0.1244   Train accuracy: 0.644   Val loss: 0.371   Val accuracy: 0.421    weighted Val loss: 0.4047\n",
      "Epoch: 219   Train loss: 0.1284   Train accuracy: 0.523   Val loss: 0.3577   Val accuracy: 0.431    weighted Val loss: 0.4045\n",
      "Epoch: 220   Train loss: 0.124   Train accuracy: 0.604   Val loss: 0.373   Val accuracy: 0.426    weighted Val loss: 0.4043\n",
      "Epoch: 221   Train loss: 0.124   Train accuracy: 0.655   Val loss: 0.3621   Val accuracy: 0.408    weighted Val loss: 0.4041\n",
      "Epoch: 222   Train loss: 0.1254   Train accuracy: 0.575   Val loss: 0.37   Val accuracy: 0.423    weighted Val loss: 0.4039\n",
      "Epoch: 223   Train loss: 0.127   Train accuracy: 0.657   Val loss: 0.3673   Val accuracy: 0.414    weighted Val loss: 0.4038\n",
      "Epoch: 224   Train loss: 0.117   Train accuracy: 0.669   Val loss: 0.3788   Val accuracy: 0.42    weighted Val loss: 0.4036\n",
      "Epoch: 225   Train loss: 0.1314   Train accuracy: 0.589   Val loss: 0.3683   Val accuracy: 0.411    weighted Val loss: 0.4034\n",
      "Epoch: 226   Train loss: 0.1274   Train accuracy: 0.642   Val loss: 0.3741   Val accuracy: 0.423    weighted Val loss: 0.4033\n",
      "Epoch: 227   Train loss: 0.1287   Train accuracy: 0.561   Val loss: 0.3592   Val accuracy: 0.42    weighted Val loss: 0.4031\n",
      "Epoch: 228   Train loss: 0.1312   Train accuracy: 0.568   Val loss: 0.3619   Val accuracy: 0.426    weighted Val loss: 0.4029\n",
      "Epoch: 229   Train loss: 0.1251   Train accuracy: 0.656   Val loss: 0.3612   Val accuracy: 0.424    weighted Val loss: 0.4027\n",
      "Epoch: 230   Train loss: 0.1295   Train accuracy: 0.596   Val loss: 0.3697   Val accuracy: 0.428    weighted Val loss: 0.4025\n",
      "Epoch: 231   Train loss: 0.1128   Train accuracy: 0.674   Val loss: 0.3627   Val accuracy: 0.424    weighted Val loss: 0.4023\n",
      "Epoch: 232   Train loss: 0.1227   Train accuracy: 0.594   Val loss: 0.3684   Val accuracy: 0.427    weighted Val loss: 0.4021\n",
      "Epoch: 233   Train loss: 0.1198   Train accuracy: 0.718   Val loss: 0.3637   Val accuracy: 0.423    weighted Val loss: 0.4019\n",
      "Epoch: 234   Train loss: 0.1276   Train accuracy: 0.534   Val loss: 0.3701   Val accuracy: 0.426    weighted Val loss: 0.4018\n",
      "Epoch: 235   Train loss: 0.1155   Train accuracy: 0.682   Val loss: 0.3632   Val accuracy: 0.435    weighted Val loss: 0.4016\n",
      "Epoch: 236   Train loss: 0.1143   Train accuracy: 0.619   Val loss: 0.3646   Val accuracy: 0.429    weighted Val loss: 0.4014\n",
      "Epoch: 237   Train loss: 0.118   Train accuracy: 0.654   Val loss: 0.3751   Val accuracy: 0.416    weighted Val loss: 0.4013\n",
      "Epoch: 238   Train loss: 0.1171   Train accuracy: 0.615   Val loss: 0.388   Val accuracy: 0.418    weighted Val loss: 0.4012\n",
      "Epoch: 239   Train loss: 0.1169   Train accuracy: 0.681   Val loss: 0.3715   Val accuracy: 0.402    weighted Val loss: 0.4011\n",
      "Epoch: 240   Train loss: 0.1214   Train accuracy: 0.624   Val loss: 0.3681   Val accuracy: 0.41    weighted Val loss: 0.4009\n",
      "Epoch: 241   Train loss: 0.1184   Train accuracy: 0.697   Val loss: 0.3713   Val accuracy: 0.4    weighted Val loss: 0.4007\n",
      "Epoch: 242   Train loss: 0.1281   Train accuracy: 0.643   Val loss: 0.3886   Val accuracy: 0.413    weighted Val loss: 0.4007\n",
      "Epoch: 243   Train loss: 0.1201   Train accuracy: 0.64   Val loss: 0.3753   Val accuracy: 0.408    weighted Val loss: 0.4006\n",
      "Epoch: 244   Train loss: 0.1204   Train accuracy: 0.62   Val loss: 0.3761   Val accuracy: 0.403    weighted Val loss: 0.4004\n",
      "Epoch: 245   Train loss: 0.1236   Train accuracy: 0.639   Val loss: 0.3738   Val accuracy: 0.405    weighted Val loss: 0.4003\n",
      "Epoch: 246   Train loss: 0.1129   Train accuracy: 0.652   Val loss: 0.3729   Val accuracy: 0.396    weighted Val loss: 0.4002\n",
      "Epoch: 247   Train loss: 0.1231   Train accuracy: 0.69   Val loss: 0.3698   Val accuracy: 0.407    weighted Val loss: 0.4\n",
      "Epoch: 248   Train loss: 0.1198   Train accuracy: 0.703   Val loss: 0.3658   Val accuracy: 0.414    weighted Val loss: 0.3998\n",
      "Epoch: 249   Train loss: 0.125   Train accuracy: 0.612   Val loss: 0.3699   Val accuracy: 0.41    weighted Val loss: 0.3997\n",
      "Epoch: 250   Train loss: 0.126   Train accuracy: 0.609   Val loss: 0.36   Val accuracy: 0.42    weighted Val loss: 0.3995\n",
      "Epoch: 251   Train loss: 0.1299   Train accuracy: 0.677   Val loss: 0.3671   Val accuracy: 0.417    weighted Val loss: 0.3993\n",
      "Epoch: 252   Train loss: 0.1134   Train accuracy: 0.617   Val loss: 0.3733   Val accuracy: 0.414    weighted Val loss: 0.3992\n",
      "Epoch: 253   Train loss: 0.1242   Train accuracy: 0.597   Val loss: 0.366   Val accuracy: 0.424    weighted Val loss: 0.399\n",
      "Epoch: 254   Train loss: 0.1269   Train accuracy: 0.609   Val loss: 0.3996   Val accuracy: 0.407    weighted Val loss: 0.399\n"
     ]
    }
   ],
   "source": [
    "MLPparametersGDE = {\n",
    "    'n_layers':2,\n",
    "    'layer_size_factor':[1, 1], \n",
    "    'dropout':[0.3, 0.3],\n",
    "    'batch_size': 128,\n",
    "    'num_epochs': 900,\n",
    "    'learning_rate': 6e-4,\n",
    "    'weight_decay': 5e-3,\n",
    "    'betas': (0.9, 0.999), \n",
    "    'eps': 1e-08\n",
    "}\n",
    "MLPmodelGDE, _,_, MLPcheckpointGDE = MLP.train_MLP(dm, sim_all[\"GDE_train\"], sim_all[\"GDE_test\"], MLPparametersGDE, acc_fn=MLP.F1, autostop_decay = 0.995, print_summary = True)"
   ]
  },
  {
   "cell_type": "code",
   "execution_count": 28,
   "metadata": {},
   "outputs": [
    {
     "name": "stdout",
     "output_type": "stream",
     "text": [
      "model saved\n"
     ]
    }
   ],
   "source": [
    "#optional: save the model\n",
    "MLP.save_ckp(MLPcheckpointGDE, \"models/MLPGDE253_1.pt\")"
   ]
  },
  {
   "cell_type": "markdown",
   "metadata": {},
   "source": [
    "###### Result"
   ]
  },
  {
   "cell_type": "code",
   "execution_count": 24,
   "metadata": {},
   "outputs": [
    {
     "name": "stdout",
     "output_type": "stream",
     "text": [
      "device set to cuda\n",
      "threshold: 0.05  validation loss: 0.3461 F1 accuracy 0.298 Precision accuracy 0.181 Recall accuracy 0.851 AUC accuracy: 0.77\n",
      "device set to cuda\n",
      "threshold: 0.1  validation loss: 0.3461 F1 accuracy 0.389 Precision accuracy 0.28 Recall accuracy 0.639 AUC accuracy: 0.77\n",
      "device set to cuda\n",
      "threshold: 0.15  validation loss: 0.3461 F1 accuracy 0.46 Precision accuracy 0.447 Recall accuracy 0.474 AUC accuracy: 0.77\n",
      "device set to cuda\n",
      "threshold: 0.2  validation loss: 0.3461 F1 accuracy 0.328 Precision accuracy 0.505 Recall accuracy 0.242 AUC accuracy: 0.77\n",
      "device set to cuda\n",
      "threshold: 0.25  validation loss: 0.3461 F1 accuracy 0.189 Precision accuracy 0.469 Recall accuracy 0.119 AUC accuracy: 0.77\n",
      "device set to cuda\n",
      "threshold: 0.3  validation loss: 0.3461 F1 accuracy 0.133 Precision accuracy 0.484 Recall accuracy 0.077 AUC accuracy: 0.77\n",
      "device set to cuda\n",
      "threshold: 0.35  validation loss: 0.3461 F1 accuracy 0.094 Precision accuracy 0.526 Recall accuracy 0.052 AUC accuracy: 0.77\n",
      "device set to cuda\n",
      "threshold: 0.4  validation loss: 0.3461 F1 accuracy 0.059 Precision accuracy 0.545 Recall accuracy 0.031 AUC accuracy: 0.77\n",
      "device set to cuda\n",
      "threshold: 0.45  validation loss: 0.3461 F1 accuracy 0.059 Precision accuracy 0.667 Recall accuracy 0.031 AUC accuracy: 0.77\n",
      "device set to cuda\n",
      "threshold: 0.5  validation loss: 0.3461 F1 accuracy 0.03 Precision accuracy 0.75 Recall accuracy 0.015 AUC accuracy: 0.77\n",
      "device set to cuda\n",
      "threshold: 0.55  validation loss: 0.3461 F1 accuracy 0.0 Precision accuracy 0.0 Recall accuracy 0.0 AUC accuracy: 0.77\n",
      "device set to cuda\n",
      "threshold: 0.6  validation loss: 0.3461 F1 accuracy 0.0 Precision accuracy 0.0 Recall accuracy 0.0 AUC accuracy: 0.77\n",
      "device set to cuda\n",
      "threshold: 0.65  validation loss: 0.3461 F1 accuracy 0.0 Precision accuracy 0.0 Recall accuracy 0.0 AUC accuracy: 0.77\n",
      "device set to cuda\n",
      "threshold: 0.7  validation loss: 0.3461 F1 accuracy 0.0 Precision accuracy 0.0 Recall accuracy 0.0 AUC accuracy: 0.77\n",
      "device set to cuda\n",
      "threshold: 0.75  validation loss: 0.3461 F1 accuracy 0.0 Precision accuracy 0.0 Recall accuracy 0.0 AUC accuracy: 0.77\n",
      "device set to cuda\n",
      "threshold: 0.8  validation loss: 0.3461 F1 accuracy 0.0 Precision accuracy 0.0 Recall accuracy 0.0 AUC accuracy: 0.77\n",
      "device set to cuda\n",
      "threshold: 0.85  validation loss: 0.3461 F1 accuracy 0.0 Precision accuracy 0.0 Recall accuracy 0.0 AUC accuracy: 0.77\n",
      "device set to cuda\n",
      "threshold: 0.9  validation loss: 0.3461 F1 accuracy 0.0 Precision accuracy 0.0 Recall accuracy 0.0 AUC accuracy: 0.77\n",
      "device set to cuda\n",
      "threshold: 0.95  validation loss: 0.3461 F1 accuracy 0.0 Precision accuracy 0.0 Recall accuracy 0.0 AUC accuracy: 0.77\n"
     ]
    },
    {
     "name": "stderr",
     "output_type": "stream",
     "text": [
      "C:\\Users\\caixu\\anaconda3\\lib\\site-packages\\sklearn\\metrics\\_classification.py:1221: UndefinedMetricWarning: Precision is ill-defined and being set to 0.0 due to no predicted samples. Use `zero_division` parameter to control this behavior.\n",
      "  _warn_prf(average, modifier, msg_start, len(result))\n"
     ]
    }
   ],
   "source": [
    "for i in range(5,100, 5):\n",
    "    t = i/100;\n",
    "    MLP.eval_mlp(MLPmodelGDE, sim_all[\"GDE_test\"], dm, device_name = 'cuda', threshold = t)"
   ]
  },
  {
   "cell_type": "markdown",
   "metadata": {},
   "source": [
    "Questions for Nafiseh:\n",
    "1. Shuffling the dataset greatly reduces overfitting and improves the accuracy. Can we shuffle the dataset? Is removing the overlapping signals a valid way to shuffle the dataset?\n",
    "2. Even without shuffling the dataset, removing overlapping signals still greatly improves the validation accuracy. Should we remove the overlapping signal?\n",
    "3. The built-in AUC metric in Scikit-learn yields a lot higher accuracy than the maximum F-score obatined. Is it normal? What is your AUC accuracy implementation?"
   ]
  },
  {
   "cell_type": "code",
   "execution_count": null,
   "metadata": {},
   "outputs": [],
   "source": []
  }
 ],
 "metadata": {
  "kernelspec": {
   "display_name": "Python 3",
   "language": "python",
   "name": "python3"
  },
  "language_info": {
   "codemirror_mode": {
    "name": "ipython",
    "version": 3
   },
   "file_extension": ".py",
   "mimetype": "text/x-python",
   "name": "python",
   "nbconvert_exporter": "python",
   "pygments_lexer": "ipython3",
   "version": "3.8.5"
  }
 },
 "nbformat": 4,
 "nbformat_minor": 4
}
