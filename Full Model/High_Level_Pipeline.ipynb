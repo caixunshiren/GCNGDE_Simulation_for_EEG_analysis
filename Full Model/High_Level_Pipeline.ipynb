{
 "cells": [
  {
   "cell_type": "markdown",
   "metadata": {},
   "source": [
    "# High Level Pipline for GCN and GNODE for Brain State Identification"
   ]
  },
  {
   "cell_type": "markdown",
   "metadata": {},
   "source": [
    "## Pipeline Overview"
   ]
  },
  {
   "cell_type": "markdown",
   "metadata": {},
   "source": [
    "### 1.1 Adjacency Matrix Generation ---> **2.1 Unsupervised GCN** ---> 3.1 Supervised MLP"
   ]
  },
  {
   "cell_type": "markdown",
   "metadata": {},
   "source": [
    "### 1.1 Adjacency Matrix Generation ---> **2.2 Unsupervised GNODE** ---> 3.1 Supervised MLP"
   ]
  },
  {
   "cell_type": "markdown",
   "metadata": {},
   "source": [
    "[Introduction and overview should be written here]"
   ]
  },
  {
   "cell_type": "markdown",
   "metadata": {},
   "source": [
    "#### High Level Classes imported:"
   ]
  },
  {
   "cell_type": "markdown",
   "metadata": {},
   "source": [
    "DataManager.py DataManagerUtil.py : [insert description here]"
   ]
  },
  {
   "cell_type": "markdown",
   "metadata": {},
   "source": [
    "GCN.py GCNutil.py : [insert description here]"
   ]
  },
  {
   "cell_type": "markdown",
   "metadata": {},
   "source": [
    "GDE.py GDEutil.py GDEsolvers.py : [insert description here]"
   ]
  },
  {
   "cell_type": "markdown",
   "metadata": {},
   "source": [
    "MLP.py : [insert description here]"
   ]
  },
  {
   "cell_type": "code",
   "execution_count": 40,
   "metadata": {},
   "outputs": [],
   "source": [
    "%reload_ext autoreload\n",
    "%autoreload 2\n",
    "#Custom Files\n",
    "from DataManager import dataManager\n",
    "from DataManagerUtil import *\n",
    "import GCN as GCN\n",
    "import GCNutil as GCNutil\n",
    "import GDE as GDE\n",
    "import GDEutil as GDEutil\n",
    "import GDEsolvers as GDEsolvers\n",
    "import MLP as MLP\n",
    "\n",
    "#Standard Libraries\n",
    "# Torch\n",
    "import torch\n",
    "import torch.autograd\n",
    "import torch.nn as nn\n",
    "import torch.nn.functional as F\n",
    "#Numpy\n",
    "import numpy as np"
   ]
  },
  {
   "cell_type": "markdown",
   "metadata": {},
   "source": [
    "#### Dataset:"
   ]
  },
  {
   "cell_type": "markdown",
   "metadata": {},
   "source": [
    "[A short description here]"
   ]
  },
  {
   "cell_type": "code",
   "execution_count": 41,
   "metadata": {},
   "outputs": [
    {
     "name": "stdout",
     "output_type": "stream",
     "text": [
      "name: X_test\n",
      "shape: (640, 23, 2625)\n",
      "-----------------------\n",
      "name: X_train\n",
      "shape: (640, 23, 2473)\n",
      "-----------------------\n",
      "name: clip_sizes_test\n",
      "shape: (2, 135)\n",
      "-----------------------\n",
      "name: clip_sizes_train\n",
      "shape: (2, 133)\n",
      "-----------------------\n",
      "name: conv_sizes\n",
      "shape: (1, 1)\n",
      "-----------------------\n",
      "name: n_pre_szr\n",
      "shape: (1, 1)\n",
      "-----------------------\n",
      "name: sel_win_nums_test\n",
      "shape: (1, 2625)\n",
      "-----------------------\n",
      "name: sel_win_nums_train\n",
      "shape: (1, 2473)\n",
      "-----------------------\n",
      "name: soz_ch_ids\n",
      "shape: (5, 1)\n",
      "-----------------------\n",
      "name: stride_sec\n",
      "shape: (1, 1)\n",
      "-----------------------\n",
      "name: window_size_sec\n",
      "shape: (1, 1)\n",
      "-----------------------\n",
      "name: y_test\n",
      "shape: (1, 2625)\n",
      "-----------------------\n",
      "name: y_train\n",
      "shape: (1, 2473)\n",
      "-----------------------\n",
      "print sample EGG signal from one node:\n"
     ]
    },
    {
     "data": {
      "image/png": "[encoded data removed]",
      "text/plain": [
       "<Figure size 432x288 with 1 Axes>"
      ]
     },
     "metadata": {
      "needs_background": "light"
     },
     "output_type": "display_data"
    }
   ],
   "source": [
    "#Loading everything from the dataset\n",
    "filepath = 'datasets\\pat_FR_253.mat' #264 253 620\n",
    "variables = load_patient_data(filepath, verbose = True)"
   ]
  },
  {
   "cell_type": "code",
   "execution_count": 8,
   "metadata": {},
   "outputs": [
    {
     "name": "stdout",
     "output_type": "stream",
     "text": [
      "X_train: (640, 23, 2549)\n",
      "X_test: (640, 23, 2549)\n",
      "y_train: (1, 2549) Positive labes: 262.0\n",
      "y_test: (1, 2549) Positive labes: 259.0\n"
     ]
    }
   ],
   "source": [
    "#OPTIONAL: Shuffle the dataset\n",
    "variables, indices = shuffle_train_test(variables, train_ratio = 0.5, print_summary = True)"
   ]
  },
  {
   "cell_type": "code",
   "execution_count": 42,
   "metadata": {},
   "outputs": [],
   "source": [
    "#OPTIONAL: Remove Overlapping Parts\n",
    "variables = remove_overlap(variables)"
   ]
  },
  {
   "cell_type": "code",
   "execution_count": 10,
   "metadata": {},
   "outputs": [],
   "source": [
    "#save the shuffled indices\n",
    "np.save(\"datasets/indices_253.npy\",indices)"
   ]
  },
  {
   "cell_type": "markdown",
   "metadata": {},
   "source": [
    "$\\;\\;\\;\\;\\;\\;\\;\\;\\;\\;\\;\\;\\;\\;$"
   ]
  },
  {
   "cell_type": "markdown",
   "metadata": {},
   "source": [
    "## 1.1 Adjacency Matrix Generation"
   ]
  },
  {
   "cell_type": "markdown",
   "metadata": {},
   "source": [
    "[short description here]"
   ]
  },
  {
   "cell_type": "markdown",
   "metadata": {},
   "source": [
    "##### 1.1.1 Create the datamanager object that computes the covariance matrix for you."
   ]
  },
  {
   "cell_type": "code",
   "execution_count": 43,
   "metadata": {},
   "outputs": [
    {
     "name": "stdout",
     "output_type": "stream",
     "text": [
      "--------data manager successfully initialized--------\n"
     ]
    }
   ],
   "source": [
    "dm = dataManager(variables[\"X_train\"],variables[\"X_test\"],variables[\"y_train\"],variables[\"y_test\"],10**(-4))"
   ]
  },
  {
   "cell_type": "markdown",
   "metadata": {},
   "source": [
    "##### 1.1.2 Visualize the mean covariance matrix across all training samples"
   ]
  },
  {
   "cell_type": "code",
   "execution_count": 44,
   "metadata": {},
   "outputs": [
    {
     "data": {
      "image/png": "[encoded data removed]",
      "text/plain": [
       "<Figure size 432x288 with 2 Axes>"
      ]
     },
     "metadata": {
      "needs_background": "light"
     },
     "output_type": "display_data"
    }
   ],
   "source": [
    "show_heat_map(dm.P_avg_train)"
   ]
  },
  {
   "cell_type": "markdown",
   "metadata": {},
   "source": [
    "##### 1.1.3 Create DAD from dm by setting the threshold n. repeating this untill a desireble \"n\" value is found."
   ]
  },
  {
   "cell_type": "code",
   "execution_count": 45,
   "metadata": {},
   "outputs": [
    {
     "data": {
      "image/png": "[encoded data removed]",
      "text/plain": [
       "<Figure size 432x288 with 2 Axes>"
      ]
     },
     "metadata": {
      "needs_background": "light"
     },
     "output_type": "display_data"
    },
    {
     "data": {
      "image/png": "[encoded data removed]",
      "text/plain": [
       "<Figure size 432x288 with 2 Axes>"
      ]
     },
     "metadata": {
      "needs_background": "light"
     },
     "output_type": "display_data"
    }
   ],
   "source": [
    "n = 3.5*10**-3\n",
    "dm.re_threshold(n)\n",
    "show_heat_map(dm.A_train)\n",
    "show_heat_map(create_DAD(dm.A_train))\n",
    "Araw = dm.A_train"
   ]
  },
  {
   "cell_type": "markdown",
   "metadata": {},
   "source": [
    "$\\;\\;\\;\\;\\;\\;\\;\\;\\;\\;\\;\\;\\;\\;$"
   ]
  },
  {
   "cell_type": "markdown",
   "metadata": {},
   "source": [
    "## 2.1 Unsupervised Graph Convolutional Neural Network (GCN)"
   ]
  },
  {
   "cell_type": "markdown",
   "metadata": {},
   "source": [
    "[short description here]"
   ]
  },
  {
   "cell_type": "markdown",
   "metadata": {},
   "source": [
    "##### 2.1.1 Declare Parameters for GCN"
   ]
  },
  {
   "cell_type": "code",
   "execution_count": 67,
   "metadata": {},
   "outputs": [
    {
     "name": "stdout",
     "output_type": "stream",
     "text": [
      "{'body': 257, 'M': 2472, 'batch_size': 128, 'n_layers': 2, 'num_epochs': 2, 'learning_rate': 0.001, 'weight_decay': 0.005}\n"
     ]
    }
   ],
   "source": [
    "#create new model\n",
    "A = create_DAD(Araw)\n",
    "X_train = dm.X_train\n",
    "X_test = dm.X_test\n",
    "GCNparameters = {\n",
    "    'body': dm.X_train.shape[2],\n",
    "    'M': dm.X_train.shape[0],\n",
    "    'batch_size': 128,\n",
    "    'n_layers': 2,\n",
    "    'num_epochs': 1,\n",
    "    'learning_rate': 1e-3,\n",
    "    'weight_decay': 5e-3\n",
    "}\n",
    "print(GCNparameters)\n",
    "GCNcheckpoint = {'parameters': GCNparameters}"
   ]
  },
  {
   "cell_type": "markdown",
   "metadata": {},
   "source": [
    "##### 2.1.2 Train GCN"
   ]
  },
  {
   "cell_type": "code",
   "execution_count": 68,
   "metadata": {},
   "outputs": [
    {
     "name": "stderr",
     "output_type": "stream",
     "text": [
      "  5%|▌         | 1/20 [00:00<00:02,  9.20it/s]"
     ]
    },
    {
     "name": "stdout",
     "output_type": "stream",
     "text": [
      "device set to cpu\n",
      "Epoch: 1   Batch: 1 of size 128   Train loss: 153.6214599609375   Valid loss: 147.69888305664062\r"
     ]
    },
    {
     "name": "stderr",
     "output_type": "stream",
     "text": [
      " 15%|█▌        | 3/20 [00:00<00:01,  9.23it/s]"
     ]
    },
    {
     "name": "stdout",
     "output_type": "stream",
     "text": [
      "Epoch: 1   Batch: 3 of size 128   Train loss: 144.64410400390625   Valid loss: 142.58950805664062\r"
     ]
    },
    {
     "name": "stderr",
     "output_type": "stream",
     "text": [
      " 25%|██▌       | 5/20 [00:00<00:01,  9.23it/s]"
     ]
    },
    {
     "name": "stdout",
     "output_type": "stream",
     "text": [
      "Epoch: 1   Batch: 5 of size 128   Train loss: 143.58743286132812   Valid loss: 143.09301757812506\r"
     ]
    },
    {
     "name": "stderr",
     "output_type": "stream",
     "text": [
      " 35%|███▌      | 7/20 [00:00<00:01,  9.19it/s]"
     ]
    },
    {
     "name": "stdout",
     "output_type": "stream",
     "text": [
      "Epoch: 1   Batch: 7 of size 128   Train loss: 142.1082763671875   Valid loss: 142.880187988281258\r"
     ]
    },
    {
     "name": "stderr",
     "output_type": "stream",
     "text": [
      " 45%|████▌     | 9/20 [00:00<00:01,  9.05it/s]"
     ]
    },
    {
     "name": "stdout",
     "output_type": "stream",
     "text": [
      "Epoch: 1   Batch: 9 of size 128   Train loss: 142.64755249023438   Valid loss: 141.94921875507812\r"
     ]
    },
    {
     "name": "stderr",
     "output_type": "stream",
     "text": [
      " 55%|█████▌    | 11/20 [00:01<00:01,  8.91it/s]"
     ]
    },
    {
     "name": "stdout",
     "output_type": "stream",
     "text": [
      "Epoch: 1   Batch: 11 of size 128   Train loss: 141.52822875976562   Valid loss: 141.2187957763672\r"
     ]
    },
    {
     "name": "stderr",
     "output_type": "stream",
     "text": [
      " 65%|██████▌   | 13/20 [00:01<00:00,  9.01it/s]"
     ]
    },
    {
     "name": "stdout",
     "output_type": "stream",
     "text": [
      "Epoch: 1   Batch: 13 of size 128   Train loss: 139.0848388671875   Valid loss: 139.256607055664068\r"
     ]
    },
    {
     "name": "stderr",
     "output_type": "stream",
     "text": [
      " 75%|███████▌  | 15/20 [00:01<00:00,  9.18it/s]"
     ]
    },
    {
     "name": "stdout",
     "output_type": "stream",
     "text": [
      "Epoch: 1   Batch: 15 of size 128   Train loss: 136.9500274658203   Valid loss: 137.96255493164062"
     ]
    },
    {
     "name": "stderr",
     "output_type": "stream",
     "text": [
      " 85%|████████▌ | 17/20 [00:01<00:00,  9.29it/s]"
     ]
    },
    {
     "name": "stdout",
     "output_type": "stream",
     "text": [
      "Epoch: 1   Batch: 17 of size 128   Train loss: 135.6201934814453   Valid loss: 136.34835815429688\r"
     ]
    },
    {
     "name": "stderr",
     "output_type": "stream",
     "text": [
      "100%|██████████| 20/20 [00:02<00:00,  9.40it/s]\n",
      "  0%|          | 0/20 [00:00<?, ?it/s]"
     ]
    },
    {
     "name": "stdout",
     "output_type": "stream",
     "text": [
      "Epoch: 1   Batch: 20 of size 128   Train loss: 134.18504333496094   Valid loss: 134.96041870117188\n"
     ]
    },
    {
     "name": "stderr",
     "output_type": "stream",
     "text": [
      " 10%|█         | 2/20 [00:00<00:02,  8.73it/s]"
     ]
    },
    {
     "name": "stdout",
     "output_type": "stream",
     "text": [
      "Epoch: 2   Batch: 2 of size 128   Train loss: 134.45083618164062   Valid loss: 135.97554016113288\r"
     ]
    },
    {
     "name": "stderr",
     "output_type": "stream",
     "text": [
      " 20%|██        | 4/20 [00:00<00:01,  8.70it/s]"
     ]
    },
    {
     "name": "stdout",
     "output_type": "stream",
     "text": [
      "Epoch: 2   Batch: 4 of size 128   Train loss: 135.5375518798828   Valid loss: 134.62034606933594\r"
     ]
    },
    {
     "name": "stderr",
     "output_type": "stream",
     "text": [
      " 30%|███       | 6/20 [00:00<00:01,  9.08it/s]"
     ]
    },
    {
     "name": "stdout",
     "output_type": "stream",
     "text": [
      "Epoch: 2   Batch: 6 of size 128   Train loss: 132.09568786621094   Valid loss: 134.50418090820312\r"
     ]
    },
    {
     "name": "stderr",
     "output_type": "stream",
     "text": [
      " 40%|████      | 8/20 [00:00<00:01,  9.31it/s]"
     ]
    },
    {
     "name": "stdout",
     "output_type": "stream",
     "text": [
      "Epoch: 2   Batch: 8 of size 128   Train loss: 132.90647888183594   Valid loss: 132.45977783203125\r"
     ]
    },
    {
     "name": "stderr",
     "output_type": "stream",
     "text": [
      " 50%|█████     | 10/20 [00:01<00:01,  9.23it/s]"
     ]
    },
    {
     "name": "stdout",
     "output_type": "stream",
     "text": [
      "Epoch: 2   Batch: 10 of size 128   Train loss: 132.064208984375   Valid loss: 132.909301757812588\r"
     ]
    },
    {
     "name": "stderr",
     "output_type": "stream",
     "text": [
      " 60%|██████    | 12/20 [00:01<00:00,  9.29it/s]"
     ]
    },
    {
     "name": "stdout",
     "output_type": "stream",
     "text": [
      "Epoch: 2   Batch: 12 of size 128   Train loss: 132.047119140625   Valid loss: 132.4961700439453938\r"
     ]
    },
    {
     "name": "stderr",
     "output_type": "stream",
     "text": [
      " 70%|███████   | 14/20 [00:01<00:00,  9.18it/s]"
     ]
    },
    {
     "name": "stdout",
     "output_type": "stream",
     "text": [
      "Epoch: 2   Batch: 14 of size 128   Train loss: 130.64495849609375   Valid loss: 132.20565795898438\r"
     ]
    },
    {
     "name": "stderr",
     "output_type": "stream",
     "text": [
      " 80%|████████  | 16/20 [00:01<00:00,  9.35it/s]"
     ]
    },
    {
     "name": "stdout",
     "output_type": "stream",
     "text": [
      "Epoch: 2   Batch: 16 of size 128   Train loss: 129.89524841308594   Valid loss: 132.12164306640625\r"
     ]
    },
    {
     "name": "stderr",
     "output_type": "stream",
     "text": [
      " 90%|█████████ | 18/20 [00:01<00:00,  9.31it/s]"
     ]
    },
    {
     "name": "stdout",
     "output_type": "stream",
     "text": [
      "Epoch: 2   Batch: 18 of size 128   Train loss: 131.08323669433594   Valid loss: 130.78018188476562\r"
     ]
    },
    {
     "name": "stderr",
     "output_type": "stream",
     "text": [
      "100%|██████████| 20/20 [00:02<00:00,  9.40it/s]"
     ]
    },
    {
     "name": "stdout",
     "output_type": "stream",
     "text": [
      "Epoch: 2   Batch: 20 of size 128   Train loss: 131.10191345214844   Valid loss: 131.60882568359375\n"
     ]
    },
    {
     "name": "stderr",
     "output_type": "stream",
     "text": [
      "\n"
     ]
    }
   ],
   "source": [
    "#strongly recommand cpu because it's only one epoch training time and CUDA some times run out of memory if you retrain multiple times\n",
    "device_name = 'cpu'\n",
    "GCNmodel, GCNcheckpoint = GCNutil.train_GCN(A, X_train, X_test, GCNcheckpoint, device_name = device_name, load = False, print_summary = False)"
   ]
  },
  {
   "cell_type": "code",
   "execution_count": 21,
   "metadata": {},
   "outputs": [
    {
     "name": "stdout",
     "output_type": "stream",
     "text": [
      "model saved\n"
     ]
    }
   ],
   "source": [
    "#optional: saving the model\n",
    "GCNutil.save_ckp(GCNcheckpoint, \"models/GCN253_1.pt\")"
   ]
  },
  {
   "cell_type": "markdown",
   "metadata": {},
   "source": [
    "##### 2.1.3 Visualize some simularity matrices generated by GCN (a visual evaluation and sanity check)"
   ]
  },
  {
   "cell_type": "code",
   "execution_count": 69,
   "metadata": {},
   "outputs": [],
   "source": [
    "GCNmodel.eval()\n",
    "test_pred = GCNmodel(torch.from_numpy(X_train[:128, :,:]).float().to(device_name), torch.from_numpy(A).float().to(device_name)).cpu().detach().numpy()"
   ]
  },
  {
   "cell_type": "code",
   "execution_count": 70,
   "metadata": {
    "collapsed": true,
    "jupyter": {
     "outputs_hidden": true
    }
   },
   "outputs": [
    {
     "name": "stdout",
     "output_type": "stream",
     "text": [
      "sample 0   label, 0.0\n"
     ]
    },
    {
     "data": {
      "image/png": "[encoded data removed]",
      "text/plain": [
       "<Figure size 432x288 with 2 Axes>"
      ]
     },
     "metadata": {
      "needs_background": "light"
     },
     "output_type": "display_data"
    },
    {
     "name": "stdout",
     "output_type": "stream",
     "text": [
      "sample 1   label, 0.0\n"
     ]
    },
    {
     "data": {
      "image/png": "[encoded data removed]",
      "text/plain": [
       "<Figure size 432x288 with 2 Axes>"
      ]
     },
     "metadata": {
      "needs_background": "light"
     },
     "output_type": "display_data"
    },
    {
     "name": "stdout",
     "output_type": "stream",
     "text": [
      "sample 2   label, 0.0\n"
     ]
    },
    {
     "data": {
      "image/png": "[encoded data removed]",
      "text/plain": [
       "<Figure size 432x288 with 2 Axes>"
      ]
     },
     "metadata": {
      "needs_background": "light"
     },
     "output_type": "display_data"
    },
    {
     "name": "stdout",
     "output_type": "stream",
     "text": [
      "sample 3   label, 0.0\n"
     ]
    },
    {
     "data": {
      "image/png": "[encoded data removed]",
      "text/plain": [
       "<Figure size 432x288 with 2 Axes>"
      ]
     },
     "metadata": {
      "needs_background": "light"
     },
     "output_type": "display_data"
    },
    {
     "name": "stdout",
     "output_type": "stream",
     "text": [
      "sample 4   label, 1.0\n"
     ]
    },
    {
     "data": {
      "image/png": "[encoded data removed]",
      "text/plain": [
       "<Figure size 432x288 with 2 Axes>"
      ]
     },
     "metadata": {
      "needs_background": "light"
     },
     "output_type": "display_data"
    },
    {
     "name": "stdout",
     "output_type": "stream",
     "text": [
      "sample 5   label, 1.0\n"
     ]
    },
    {
     "data": {
      "image/png": "[encoded data removed]",
      "text/plain": [
       "<Figure size 432x288 with 2 Axes>"
      ]
     },
     "metadata": {
      "needs_background": "light"
     },
     "output_type": "display_data"
    },
    {
     "name": "stdout",
     "output_type": "stream",
     "text": [
      "sample 6   label, 1.0\n"
     ]
    },
    {
     "data": {
      "image/png": "[encoded data removed]",
      "text/plain": [
       "<Figure size 432x288 with 2 Axes>"
      ]
     },
     "metadata": {
      "needs_background": "light"
     },
     "output_type": "display_data"
    },
    {
     "name": "stdout",
     "output_type": "stream",
     "text": [
      "sample 7   label, 1.0\n"
     ]
    },
    {
     "data": {
      "image/png": "[encoded data removed]",
      "text/plain": [
       "<Figure size 432x288 with 2 Axes>"
      ]
     },
     "metadata": {
      "needs_background": "light"
     },
     "output_type": "display_data"
    },
    {
     "name": "stdout",
     "output_type": "stream",
     "text": [
      "sample 8   label, 1.0\n"
     ]
    },
    {
     "data": {
      "image/png": "[encoded data removed]",
      "text/plain": [
       "<Figure size 432x288 with 2 Axes>"
      ]
     },
     "metadata": {
      "needs_background": "light"
     },
     "output_type": "display_data"
    },
    {
     "name": "stdout",
     "output_type": "stream",
     "text": [
      "sample 9   label, 1.0\n"
     ]
    },
    {
     "data": {
      "image/png": "[encoded data removed]",
      "text/plain": [
       "<Figure size 432x288 with 2 Axes>"
      ]
     },
     "metadata": {
      "needs_background": "light"
     },
     "output_type": "display_data"
    }
   ],
   "source": [
    "for i in range(10):\n",
    "    print(\"sample\", i, \"  label,\", dm.Y_train[i,0])\n",
    "    show_heat_map(test_pred[i,:,:])"
   ]
  },
  {
   "cell_type": "markdown",
   "metadata": {},
   "source": [
    "$\\;\\;\\;\\;\\;\\;\\;\\;\\;\\;\\;\\;\\;\\;$"
   ]
  },
  {
   "cell_type": "markdown",
   "metadata": {},
   "source": [
    "## 2.1 Unsupervised Graph Neural Ordinary Differential Equations (GNODE)"
   ]
  },
  {
   "cell_type": "markdown",
   "metadata": {},
   "source": [
    "[short description here]"
   ]
  },
  {
   "cell_type": "markdown",
   "metadata": {},
   "source": [
    "##### 2.2.1 Declare Parameters for GNODE"
   ]
  },
  {
   "cell_type": "code",
   "execution_count": 50,
   "metadata": {},
   "outputs": [],
   "source": [
    "A = create_DAD(Araw)\n",
    "X_train = dm.X_train\n",
    "X_test = dm.X_test\n",
    "GDEparameters = {\n",
    "    'body': dm.X_train.shape[2],\n",
    "    'solver': GDEsolvers.explicit_RK,\n",
    "    'solver_params': {\n",
    "    \"t0\": 0,\n",
    "    \"t1\": 0.25,\n",
    "    \"N\": 5,\n",
    "    \"b_tableau\": GDEsolvers.EF\n",
    "     },\n",
    "    'hidden_layers': 1,\n",
    "    'M': dm.X_train.shape[0],\n",
    "    'batch_size': 128,\n",
    "    'num_epochs': 1,\n",
    "    'learning_rate': 1e-3,\n",
    "    'weight_decay': 5e-3\n",
    "}\n",
    "GDEcheckpoint = {'parameters': GDEparameters}"
   ]
  },
  {
   "cell_type": "markdown",
   "metadata": {},
   "source": [
    "##### 2.2.2 Train GNODE"
   ]
  },
  {
   "cell_type": "code",
   "execution_count": 51,
   "metadata": {
    "collapsed": true,
    "jupyter": {
     "outputs_hidden": true
    }
   },
   "outputs": [
    {
     "name": "stderr",
     "output_type": "stream",
     "text": [
      "  0%|          | 0/20 [00:00<?, ?it/s]"
     ]
    },
    {
     "name": "stdout",
     "output_type": "stream",
     "text": [
      "device set to cpu\n"
     ]
    },
    {
     "name": "stderr",
     "output_type": "stream",
     "text": [
      "  5%|▌         | 1/20 [00:00<00:11,  1.67it/s]"
     ]
    },
    {
     "name": "stdout",
     "output_type": "stream",
     "text": [
      "Epoch: 1   Batch: 1 of size 128   Train loss: 154.15492248535156   Valid loss: 147.38082885742188\r"
     ]
    },
    {
     "name": "stderr",
     "output_type": "stream",
     "text": [
      " 10%|█         | 2/20 [00:01<00:10,  1.65it/s]"
     ]
    },
    {
     "name": "stdout",
     "output_type": "stream",
     "text": [
      "Epoch: 1   Batch: 2 of size 128   Train loss: 147.294189453125   Valid loss: 142.97598266601562\r"
     ]
    },
    {
     "name": "stderr",
     "output_type": "stream",
     "text": [
      " 15%|█▌        | 3/20 [00:01<00:10,  1.63it/s]"
     ]
    },
    {
     "name": "stdout",
     "output_type": "stream",
     "text": [
      "Epoch: 1   Batch: 3 of size 128   Train loss: 142.42266845703125   Valid loss: 140.51870727539062\r"
     ]
    },
    {
     "name": "stderr",
     "output_type": "stream",
     "text": [
      " 20%|██        | 4/20 [00:02<00:09,  1.62it/s]"
     ]
    },
    {
     "name": "stdout",
     "output_type": "stream",
     "text": [
      "Epoch: 1   Batch: 4 of size 128   Train loss: 139.32083129882812   Valid loss: 138.47592163085938\r"
     ]
    },
    {
     "name": "stderr",
     "output_type": "stream",
     "text": [
      " 25%|██▌       | 5/20 [00:03<00:09,  1.62it/s]"
     ]
    },
    {
     "name": "stdout",
     "output_type": "stream",
     "text": [
      "Epoch: 1   Batch: 5 of size 128   Train loss: 137.91551208496094   Valid loss: 140.33447265625\r"
     ]
    },
    {
     "name": "stderr",
     "output_type": "stream",
     "text": [
      " 30%|███       | 6/20 [00:03<00:08,  1.61it/s]"
     ]
    },
    {
     "name": "stdout",
     "output_type": "stream",
     "text": [
      "Epoch: 1   Batch: 6 of size 128   Train loss: 137.4159393310547   Valid loss: 140.5284423828125\r"
     ]
    },
    {
     "name": "stderr",
     "output_type": "stream",
     "text": [
      " 35%|███▌      | 7/20 [00:04<00:08,  1.61it/s]"
     ]
    },
    {
     "name": "stdout",
     "output_type": "stream",
     "text": [
      "Epoch: 1   Batch: 7 of size 128   Train loss: 137.9463653564453   Valid loss: 140.52618408203125\r"
     ]
    },
    {
     "name": "stderr",
     "output_type": "stream",
     "text": [
      " 40%|████      | 8/20 [00:04<00:07,  1.61it/s]"
     ]
    },
    {
     "name": "stdout",
     "output_type": "stream",
     "text": [
      "Epoch: 1   Batch: 8 of size 128   Train loss: 138.30001831054688   Valid loss: 142.1758575439453\r"
     ]
    },
    {
     "name": "stderr",
     "output_type": "stream",
     "text": [
      " 45%|████▌     | 9/20 [00:05<00:06,  1.63it/s]"
     ]
    },
    {
     "name": "stdout",
     "output_type": "stream",
     "text": [
      "Epoch: 1   Batch: 9 of size 128   Train loss: 140.31942749023438   Valid loss: 140.89984130859375\r"
     ]
    },
    {
     "name": "stderr",
     "output_type": "stream",
     "text": [
      " 50%|█████     | 10/20 [00:06<00:06,  1.63it/s]"
     ]
    },
    {
     "name": "stdout",
     "output_type": "stream",
     "text": [
      "Epoch: 1   Batch: 10 of size 128   Train loss: 139.0389862060547   Valid loss: 139.02816772460938\r"
     ]
    },
    {
     "name": "stderr",
     "output_type": "stream",
     "text": [
      " 55%|█████▌    | 11/20 [00:06<00:05,  1.66it/s]"
     ]
    },
    {
     "name": "stdout",
     "output_type": "stream",
     "text": [
      "Epoch: 1   Batch: 11 of size 128   Train loss: 138.0097198486328   Valid loss: 136.9364471435547\r"
     ]
    },
    {
     "name": "stderr",
     "output_type": "stream",
     "text": [
      " 60%|██████    | 12/20 [00:07<00:04,  1.67it/s]"
     ]
    },
    {
     "name": "stdout",
     "output_type": "stream",
     "text": [
      "Epoch: 1   Batch: 12 of size 128   Train loss: 135.69583129882812   Valid loss: 136.6893768310547\r"
     ]
    },
    {
     "name": "stderr",
     "output_type": "stream",
     "text": [
      " 65%|██████▌   | 13/20 [00:07<00:04,  1.68it/s]"
     ]
    },
    {
     "name": "stdout",
     "output_type": "stream",
     "text": [
      "Epoch: 1   Batch: 13 of size 128   Train loss: 135.4464111328125   Valid loss: 134.55120849609375\r"
     ]
    },
    {
     "name": "stderr",
     "output_type": "stream",
     "text": [
      " 70%|███████   | 14/20 [00:08<00:03,  1.69it/s]"
     ]
    },
    {
     "name": "stdout",
     "output_type": "stream",
     "text": [
      "Epoch: 1   Batch: 14 of size 128   Train loss: 133.838134765625   Valid loss: 135.51388549804688\r"
     ]
    },
    {
     "name": "stderr",
     "output_type": "stream",
     "text": [
      " 75%|███████▌  | 15/20 [00:09<00:02,  1.69it/s]"
     ]
    },
    {
     "name": "stdout",
     "output_type": "stream",
     "text": [
      "Epoch: 1   Batch: 15 of size 128   Train loss: 133.8035430908203   Valid loss: 132.82135009765625\r"
     ]
    },
    {
     "name": "stderr",
     "output_type": "stream",
     "text": [
      " 80%|████████  | 16/20 [00:09<00:02,  1.71it/s]"
     ]
    },
    {
     "name": "stdout",
     "output_type": "stream",
     "text": [
      "Epoch: 1   Batch: 16 of size 128   Train loss: 132.78468322753906   Valid loss: 133.57177734375\r"
     ]
    },
    {
     "name": "stderr",
     "output_type": "stream",
     "text": [
      " 85%|████████▌ | 17/20 [00:10<00:01,  1.72it/s]"
     ]
    },
    {
     "name": "stdout",
     "output_type": "stream",
     "text": [
      "Epoch: 1   Batch: 17 of size 128   Train loss: 132.1314697265625   Valid loss: 133.1181182861328\r"
     ]
    },
    {
     "name": "stderr",
     "output_type": "stream",
     "text": [
      " 90%|█████████ | 18/20 [00:10<00:01,  1.74it/s]"
     ]
    },
    {
     "name": "stdout",
     "output_type": "stream",
     "text": [
      "Epoch: 1   Batch: 18 of size 128   Train loss: 131.57679748535156   Valid loss: 131.8098907470703\r"
     ]
    },
    {
     "name": "stderr",
     "output_type": "stream",
     "text": [
      "100%|██████████| 20/20 [00:11<00:00,  2.19it/s]"
     ]
    },
    {
     "name": "stdout",
     "output_type": "stream",
     "text": [
      "Epoch: 1   Batch: 20 of size 128   Train loss: 130.86912536621094   Valid loss: 131.88269042968756\r"
     ]
    },
    {
     "name": "stderr",
     "output_type": "stream",
     "text": [
      "100%|██████████| 20/20 [00:11<00:00,  1.73it/s]"
     ]
    },
    {
     "name": "stdout",
     "output_type": "stream",
     "text": [
      "\n"
     ]
    },
    {
     "name": "stderr",
     "output_type": "stream",
     "text": [
      "\n"
     ]
    }
   ],
   "source": [
    "#strongly recommand cpu because it's only one epoch training time and CUDA some times run out of memory if you retrain multiple times\n",
    "device_name = 'cpu'\n",
    "GDEmodel, GDEcheckpoint = GDEutil.train_GDE(A, X_train, X_test, GDEcheckpoint, device_name = device_name, load = False, print_summary = False)"
   ]
  },
  {
   "cell_type": "code",
   "execution_count": 26,
   "metadata": {},
   "outputs": [
    {
     "name": "stdout",
     "output_type": "stream",
     "text": [
      "model saved\n"
     ]
    }
   ],
   "source": [
    "#optional: saving the model\n",
    "GDEutil.save_ckp(GDEcheckpoint, \"models/GDE253_1.pt\")"
   ]
  },
  {
   "cell_type": "markdown",
   "metadata": {},
   "source": [
    "##### 2.2.3 Visualize some simularity matrices generated by GNODE (a visual evaluation and sanity check)"
   ]
  },
  {
   "cell_type": "code",
   "execution_count": 52,
   "metadata": {},
   "outputs": [],
   "source": [
    "GDEmodel.eval()\n",
    "test_pred = GDEmodel(torch.from_numpy(X_train[:128, :,:]).float().to(device_name)).cpu().detach().numpy()"
   ]
  },
  {
   "cell_type": "code",
   "execution_count": 53,
   "metadata": {
    "collapsed": true,
    "jupyter": {
     "outputs_hidden": true
    }
   },
   "outputs": [
    {
     "name": "stdout",
     "output_type": "stream",
     "text": [
      "sample 0   label, 0.0\n"
     ]
    },
    {
     "data": {
      "image/png": "[encoded data removed]",
      "text/plain": [
       "<Figure size 432x288 with 2 Axes>"
      ]
     },
     "metadata": {
      "needs_background": "light"
     },
     "output_type": "display_data"
    },
    {
     "name": "stdout",
     "output_type": "stream",
     "text": [
      "sample 1   label, 0.0\n"
     ]
    },
    {
     "data": {
      "image/png": "[encoded data removed]",
      "text/plain": [
       "<Figure size 432x288 with 2 Axes>"
      ]
     },
     "metadata": {
      "needs_background": "light"
     },
     "output_type": "display_data"
    },
    {
     "name": "stdout",
     "output_type": "stream",
     "text": [
      "sample 2   label, 0.0\n"
     ]
    },
    {
     "data": {
      "image/png": "[encoded data removed]",
      "text/plain": [
       "<Figure size 432x288 with 2 Axes>"
      ]
     },
     "metadata": {
      "needs_background": "light"
     },
     "output_type": "display_data"
    },
    {
     "name": "stdout",
     "output_type": "stream",
     "text": [
      "sample 3   label, 0.0\n"
     ]
    },
    {
     "data": {
      "image/png": "[encoded data removed]",
      "text/plain": [
       "<Figure size 432x288 with 2 Axes>"
      ]
     },
     "metadata": {
      "needs_background": "light"
     },
     "output_type": "display_data"
    },
    {
     "name": "stdout",
     "output_type": "stream",
     "text": [
      "sample 4   label, 1.0\n"
     ]
    },
    {
     "data": {
      "image/png": "[encoded data removed]",
      "text/plain": [
       "<Figure size 432x288 with 2 Axes>"
      ]
     },
     "metadata": {
      "needs_background": "light"
     },
     "output_type": "display_data"
    },
    {
     "name": "stdout",
     "output_type": "stream",
     "text": [
      "sample 5   label, 1.0\n"
     ]
    },
    {
     "data": {
      "image/png": "[encoded data removed]",
      "text/plain": [
       "<Figure size 432x288 with 2 Axes>"
      ]
     },
     "metadata": {
      "needs_background": "light"
     },
     "output_type": "display_data"
    },
    {
     "name": "stdout",
     "output_type": "stream",
     "text": [
      "sample 6   label, 1.0\n"
     ]
    },
    {
     "data": {
      "image/png": "[encoded data removed]",
      "text/plain": [
       "<Figure size 432x288 with 2 Axes>"
      ]
     },
     "metadata": {
      "needs_background": "light"
     },
     "output_type": "display_data"
    },
    {
     "name": "stdout",
     "output_type": "stream",
     "text": [
      "sample 7   label, 1.0\n"
     ]
    },
    {
     "data": {
      "image/png": "[encoded data removed]",
      "text/plain": [
       "<Figure size 432x288 with 2 Axes>"
      ]
     },
     "metadata": {
      "needs_background": "light"
     },
     "output_type": "display_data"
    },
    {
     "name": "stdout",
     "output_type": "stream",
     "text": [
      "sample 8   label, 1.0\n"
     ]
    },
    {
     "data": {
      "image/png": "[encoded data removed]",
      "text/plain": [
       "<Figure size 432x288 with 2 Axes>"
      ]
     },
     "metadata": {
      "needs_background": "light"
     },
     "output_type": "display_data"
    },
    {
     "name": "stdout",
     "output_type": "stream",
     "text": [
      "sample 9   label, 1.0\n"
     ]
    },
    {
     "data": {
      "image/png": "[encoded data removed]",
      "text/plain": [
       "<Figure size 432x288 with 2 Axes>"
      ]
     },
     "metadata": {
      "needs_background": "light"
     },
     "output_type": "display_data"
    }
   ],
   "source": [
    "for i in range(10):\n",
    "    print(\"sample\", i, \"  label,\", dm.Y_train[i,0])\n",
    "    show_heat_map(test_pred[i,:,:])"
   ]
  },
  {
   "cell_type": "markdown",
   "metadata": {},
   "source": [
    "$\\;\\;\\;\\;\\;\\;\\;\\;\\;\\;\\;\\;\\;\\;$"
   ]
  },
  {
   "cell_type": "markdown",
   "metadata": {},
   "source": [
    "## 3.1 Supervised Multi-Layer Perceptron (MLP)"
   ]
  },
  {
   "cell_type": "markdown",
   "metadata": {},
   "source": [
    "[short description here]"
   ]
  },
  {
   "cell_type": "markdown",
   "metadata": {},
   "source": [
    "##### 3.1.1 Get simularity matrix from GCN and GNODE models"
   ]
  },
  {
   "cell_type": "code",
   "execution_count": 71,
   "metadata": {},
   "outputs": [],
   "source": [
    "sim_all = {}\n",
    "A = create_DAD(Araw)\n",
    "X_train = dm.X_train\n",
    "X_test = dm.X_test\n",
    "device_name = 'cpu'"
   ]
  },
  {
   "cell_type": "code",
   "execution_count": 72,
   "metadata": {},
   "outputs": [],
   "source": [
    "#Get simularity matrix from GCN\n",
    "GCNmodel.eval()\n",
    "sim_all[\"GCN_train\"] = GCNmodel(torch.from_numpy(X_train).float().to(device_name), torch.from_numpy(A).float().to(device_name)).cpu().detach().numpy()\n",
    "sim_all[\"GCN_test\"] = GCNmodel(torch.from_numpy(X_test).float().to(device_name), torch.from_numpy(A).float().to(device_name)).cpu().detach().numpy()"
   ]
  },
  {
   "cell_type": "code",
   "execution_count": 73,
   "metadata": {},
   "outputs": [],
   "source": [
    "#Get simularity matrix from GNODE\n",
    "GDEmodel.eval()\n",
    "sim_all[\"GDE_train\"] = GDEmodel(torch.from_numpy(X_train).float().to(device_name)).cpu().detach().numpy()\n",
    "sim_all[\"GDE_test\"] = GDEmodel(torch.from_numpy(X_test).float().to(device_name)).cpu().detach().numpy()"
   ]
  },
  {
   "cell_type": "markdown",
   "metadata": {},
   "source": [
    "##### 3.1.2 Visualize the averaged ictal and non-ictal states for the two models"
   ]
  },
  {
   "cell_type": "code",
   "execution_count": 74,
   "metadata": {},
   "outputs": [
    {
     "name": "stdout",
     "output_type": "stream",
     "text": [
      "Average Ictal and Non-Ictal Simularity Matrix for GCN\n",
      "Average ictal\n"
     ]
    },
    {
     "data": {
      "image/png": "[encoded data removed]",
      "text/plain": [
       "<Figure size 432x288 with 2 Axes>"
      ]
     },
     "metadata": {
      "needs_background": "light"
     },
     "output_type": "display_data"
    },
    {
     "name": "stdout",
     "output_type": "stream",
     "text": [
      "Average Non-Ictal\n"
     ]
    },
    {
     "data": {
      "image/png": "[encoded data removed]",
      "text/plain": [
       "<Figure size 432x288 with 2 Axes>"
      ]
     },
     "metadata": {
      "needs_background": "light"
     },
     "output_type": "display_data"
    }
   ],
   "source": [
    "print(\"Average Ictal and Non-Ictal Simularity Matrix for GCN\")\n",
    "visualize_avg_sim_matrix(dm, sim_all[\"GCN_train\"], sim_all[\"GCN_test\"])"
   ]
  },
  {
   "cell_type": "code",
   "execution_count": 75,
   "metadata": {},
   "outputs": [
    {
     "name": "stdout",
     "output_type": "stream",
     "text": [
      "Average Ictal and Non-Ictal Simularity Matrix for GDE\n",
      "Average ictal\n"
     ]
    },
    {
     "data": {
      "image/png": "[encoded data removed]",
      "text/plain": [
       "<Figure size 432x288 with 2 Axes>"
      ]
     },
     "metadata": {
      "needs_background": "light"
     },
     "output_type": "display_data"
    },
    {
     "name": "stdout",
     "output_type": "stream",
     "text": [
      "Average Non-Ictal\n"
     ]
    },
    {
     "data": {
      "image/png": "[encoded data removed]",
      "text/plain": [
       "<Figure size 432x288 with 2 Axes>"
      ]
     },
     "metadata": {
      "needs_background": "light"
     },
     "output_type": "display_data"
    }
   ],
   "source": [
    "print(\"Average Ictal and Non-Ictal Simularity Matrix for GDE\")\n",
    "visualize_avg_sim_matrix(dm, sim_all[\"GDE_train\"], sim_all[\"GDE_test\"])"
   ]
  },
  {
   "cell_type": "markdown",
   "metadata": {},
   "source": [
    "##### 3.1.3 MLP for GCN  "
   ]
  },
  {
   "cell_type": "markdown",
   "metadata": {},
   "source": [
    "###### Training"
   ]
  },
  {
   "cell_type": "code",
   "execution_count": 76,
   "metadata": {
    "collapsed": true,
    "jupyter": {
     "outputs_hidden": true
    }
   },
   "outputs": [
    {
     "name": "stdout",
     "output_type": "stream",
     "text": [
      "MLP(\n",
      "  (layers): ModuleList(\n",
      "    (0): Linear(in_features=276, out_features=276, bias=True)\n",
      "    (1): ReLU()\n",
      "    (2): Linear(in_features=276, out_features=1, bias=True)\n",
      "    (3): Sigmoid()\n",
      "  )\n",
      ")\n",
      "----------------------------------------------------------------\n",
      "        Layer (type)               Output Shape         Param #\n",
      "================================================================\n",
      "            Linear-1                  [-1, 276]          76,452\n",
      "              ReLU-2                  [-1, 276]               0\n",
      "            Linear-3                    [-1, 1]             277\n",
      "           Sigmoid-4                    [-1, 1]               0\n",
      "================================================================\n",
      "Total params: 76,729\n",
      "Trainable params: 76,729\n",
      "Non-trainable params: 0\n",
      "----------------------------------------------------------------\n",
      "Input size (MB): 0.00\n",
      "Forward/backward pass size (MB): 0.00\n",
      "Params size (MB): 0.29\n",
      "Estimated Total Size (MB): 0.30\n",
      "----------------------------------------------------------------\n",
      "Epoch: 1   Train loss: 0.33   Train accuracy: 0.0   Val loss: 0.3364   Val accuracy: 0.317    weighted Val loss: 0.3364\n",
      "0.317 ----------saved-----------\n",
      "Epoch: 2   Train loss: 0.1942   Train accuracy: 0.283   Val loss: 0.3511   Val accuracy: 0.318    weighted Val loss: 0.3364\n",
      "0.318 ----------saved-----------\n",
      "Epoch: 3   Train loss: 0.1492   Train accuracy: 0.438   Val loss: 0.3766   Val accuracy: 0.328    weighted Val loss: 0.3366\n",
      "0.328 ----------saved-----------\n",
      "Epoch: 4   Train loss: 0.1233   Train accuracy: 0.67   Val loss: 0.3531   Val accuracy: 0.378    weighted Val loss: 0.3367\n",
      "0.378 ----------saved-----------\n",
      "Epoch: 5   Train loss: 0.1112   Train accuracy: 0.725   Val loss: 0.3474   Val accuracy: 0.388    weighted Val loss: 0.3368\n",
      "0.388 ----------saved-----------\n",
      "Epoch: 6   Train loss: 0.0925   Train accuracy: 0.799   Val loss: 0.3698   Val accuracy: 0.391    weighted Val loss: 0.3369\n",
      "0.391 ----------saved-----------\n",
      "Epoch: 7   Train loss: 0.0799   Train accuracy: 0.782   Val loss: 0.3489   Val accuracy: 0.402    weighted Val loss: 0.337\n",
      "0.402 ----------saved-----------\n",
      "Epoch: 8   Train loss: 0.0767   Train accuracy: 0.841   Val loss: 0.3807   Val accuracy: 0.398    weighted Val loss: 0.3372\n",
      "Epoch: 9   Train loss: 0.0698   Train accuracy: 0.872   Val loss: 0.392   Val accuracy: 0.398    weighted Val loss: 0.3375\n",
      "Epoch: 10   Train loss: 0.0656   Train accuracy: 0.871   Val loss: 0.3734   Val accuracy: 0.408    weighted Val loss: 0.3377\n",
      "0.408 ----------saved-----------\n",
      "Epoch: 11   Train loss: 0.0625   Train accuracy: 0.893   Val loss: 0.3819   Val accuracy: 0.427    weighted Val loss: 0.3379\n",
      "0.427 ----------saved-----------\n",
      "Epoch: 12   Train loss: 0.0594   Train accuracy: 0.899   Val loss: 0.3777   Val accuracy: 0.403    weighted Val loss: 0.3381\n",
      "Epoch: 13   Train loss: 0.0574   Train accuracy: 0.872   Val loss: 0.4001   Val accuracy: 0.403    weighted Val loss: 0.3384\n",
      "Epoch: 14   Train loss: 0.0524   Train accuracy: 0.905   Val loss: 0.4006   Val accuracy: 0.412    weighted Val loss: 0.3387\n",
      "Epoch: 15   Train loss: 0.0502   Train accuracy: 0.903   Val loss: 0.4044   Val accuracy: 0.416    weighted Val loss: 0.339\n",
      "Epoch: 16   Train loss: 0.0465   Train accuracy: 0.919   Val loss: 0.3967   Val accuracy: 0.422    weighted Val loss: 0.3393\n",
      "Epoch: 17   Train loss: 0.0444   Train accuracy: 0.944   Val loss: 0.4492   Val accuracy: 0.392    weighted Val loss: 0.3399\n",
      "Epoch: 18   Train loss: 0.0438   Train accuracy: 0.93   Val loss: 0.4044   Val accuracy: 0.425    weighted Val loss: 0.3402\n",
      "Epoch: 19   Train loss: 0.0419   Train accuracy: 0.923   Val loss: 0.4046   Val accuracy: 0.424    weighted Val loss: 0.3405\n",
      "Epoch: 20   Train loss: 0.0398   Train accuracy: 0.938   Val loss: 0.4242   Val accuracy: 0.429    weighted Val loss: 0.3409\n",
      "0.429 ----------saved-----------\n",
      "Epoch: 21   Train loss: 0.0397   Train accuracy: 0.943   Val loss: 0.42   Val accuracy: 0.416    weighted Val loss: 0.3413\n",
      "Epoch: 22   Train loss: 0.0377   Train accuracy: 0.943   Val loss: 0.4117   Val accuracy: 0.418    weighted Val loss: 0.3417\n",
      "Epoch: 23   Train loss: 0.036   Train accuracy: 0.948   Val loss: 0.4436   Val accuracy: 0.404    weighted Val loss: 0.3422\n",
      "Epoch: 24   Train loss: 0.0351   Train accuracy: 0.946   Val loss: 0.418   Val accuracy: 0.412    weighted Val loss: 0.3426\n",
      "Epoch: 25   Train loss: 0.0387   Train accuracy: 0.941   Val loss: 0.4301   Val accuracy: 0.414    weighted Val loss: 0.343\n",
      "Epoch: 26   Train loss: 0.0343   Train accuracy: 0.953   Val loss: 0.4285   Val accuracy: 0.41    weighted Val loss: 0.3434\n",
      "Epoch: 27   Train loss: 0.0343   Train accuracy: 0.942   Val loss: 0.4854   Val accuracy: 0.407    weighted Val loss: 0.3441\n",
      "Epoch: 28   Train loss: 0.0357   Train accuracy: 0.948   Val loss: 0.5377   Val accuracy: 0.4    weighted Val loss: 0.3451\n",
      "Epoch: 29   Train loss: 0.0379   Train accuracy: 0.936   Val loss: 0.4567   Val accuracy: 0.4    weighted Val loss: 0.3457\n",
      "Epoch: 30   Train loss: 0.0368   Train accuracy: 0.917   Val loss: 0.4485   Val accuracy: 0.427    weighted Val loss: 0.3462\n",
      "Epoch: 31   Train loss: 0.0297   Train accuracy: 0.967   Val loss: 0.458   Val accuracy: 0.403    weighted Val loss: 0.3467\n",
      "Epoch: 32   Train loss: 0.027   Train accuracy: 0.973   Val loss: 0.4415   Val accuracy: 0.415    weighted Val loss: 0.3472\n",
      "Epoch: 33   Train loss: 0.0302   Train accuracy: 0.966   Val loss: 0.4759   Val accuracy: 0.394    weighted Val loss: 0.3479\n",
      "Epoch: 34   Train loss: 0.0298   Train accuracy: 0.957   Val loss: 0.4482   Val accuracy: 0.412    weighted Val loss: 0.3484\n",
      "Epoch: 35   Train loss: 0.0308   Train accuracy: 0.957   Val loss: 0.4441   Val accuracy: 0.417    weighted Val loss: 0.3488\n",
      "Epoch: 36   Train loss: 0.0291   Train accuracy: 0.966   Val loss: 0.4347   Val accuracy: 0.432    weighted Val loss: 0.3493\n",
      "0.432 ----------saved-----------\n",
      "Epoch: 37   Train loss: 0.0309   Train accuracy: 0.958   Val loss: 0.4691   Val accuracy: 0.405    weighted Val loss: 0.3499\n",
      "Epoch: 38   Train loss: 0.0275   Train accuracy: 0.969   Val loss: 0.55   Val accuracy: 0.378    weighted Val loss: 0.3509\n",
      "Epoch: 39   Train loss: 0.0275   Train accuracy: 0.967   Val loss: 0.449   Val accuracy: 0.417    weighted Val loss: 0.3514\n",
      "Epoch: 40   Train loss: 0.026   Train accuracy: 0.975   Val loss: 0.5382   Val accuracy: 0.407    weighted Val loss: 0.3523\n",
      "Epoch: 41   Train loss: 0.0315   Train accuracy: 0.97   Val loss: 0.4381   Val accuracy: 0.43    weighted Val loss: 0.3527\n",
      "Epoch: 42   Train loss: 0.0271   Train accuracy: 0.97   Val loss: 0.4785   Val accuracy: 0.402    weighted Val loss: 0.3534\n",
      "Epoch: 43   Train loss: 0.023   Train accuracy: 0.985   Val loss: 0.4742   Val accuracy: 0.411    weighted Val loss: 0.354\n",
      "Epoch: 44   Train loss: 0.0259   Train accuracy: 0.972   Val loss: 0.458   Val accuracy: 0.41    weighted Val loss: 0.3545\n",
      "Epoch: 45   Train loss: 0.0244   Train accuracy: 0.978   Val loss: 0.4639   Val accuracy: 0.424    weighted Val loss: 0.355\n",
      "Epoch: 46   Train loss: 0.0236   Train accuracy: 0.968   Val loss: 0.4951   Val accuracy: 0.397    weighted Val loss: 0.3557\n",
      "Epoch: 47   Train loss: 0.0226   Train accuracy: 0.981   Val loss: 0.4928   Val accuracy: 0.4    weighted Val loss: 0.3564\n",
      "Epoch: 48   Train loss: 0.0212   Train accuracy: 0.982   Val loss: 0.4629   Val accuracy: 0.415    weighted Val loss: 0.3569\n",
      "Epoch: 49   Train loss: 0.0206   Train accuracy: 0.988   Val loss: 0.4958   Val accuracy: 0.406    weighted Val loss: 0.3576\n",
      "Epoch: 50   Train loss: 0.0216   Train accuracy: 0.986   Val loss: 0.4928   Val accuracy: 0.413    weighted Val loss: 0.3583\n",
      "Epoch: 51   Train loss: 0.0205   Train accuracy: 0.983   Val loss: 0.4458   Val accuracy: 0.427    weighted Val loss: 0.3588\n",
      "Epoch: 52   Train loss: 0.0246   Train accuracy: 0.97   Val loss: 0.4649   Val accuracy: 0.413    weighted Val loss: 0.3593\n",
      "Epoch: 53   Train loss: 0.0243   Train accuracy: 0.966   Val loss: 0.4972   Val accuracy: 0.397    weighted Val loss: 0.36\n",
      "Epoch: 54   Train loss: 0.0232   Train accuracy: 0.963   Val loss: 0.448   Val accuracy: 0.425    weighted Val loss: 0.3604\n",
      "Epoch: 55   Train loss: 0.0254   Train accuracy: 0.957   Val loss: 0.4838   Val accuracy: 0.409    weighted Val loss: 0.361\n",
      "Epoch: 56   Train loss: 0.0235   Train accuracy: 0.98   Val loss: 0.5017   Val accuracy: 0.403    weighted Val loss: 0.3617\n",
      "Epoch: 57   Train loss: 0.0234   Train accuracy: 0.973   Val loss: 0.4593   Val accuracy: 0.425    weighted Val loss: 0.3622\n",
      "Epoch: 58   Train loss: 0.0217   Train accuracy: 0.989   Val loss: 0.4935   Val accuracy: 0.394    weighted Val loss: 0.3629\n",
      "Epoch: 59   Train loss: 0.0213   Train accuracy: 0.972   Val loss: 0.4785   Val accuracy: 0.414    weighted Val loss: 0.3635\n",
      "Epoch: 60   Train loss: 0.0205   Train accuracy: 0.983   Val loss: 0.4748   Val accuracy: 0.402    weighted Val loss: 0.364\n",
      "Epoch: 61   Train loss: 0.0201   Train accuracy: 0.98   Val loss: 0.4919   Val accuracy: 0.395    weighted Val loss: 0.3647\n"
     ]
    }
   ],
   "source": [
    "MLPparametersGCN = {\n",
    "    'n_layers':2,\n",
    "    'layer_size_factor':[1, 1], \n",
    "    'dropout':[-1, -1],\n",
    "    'batch_size': 128,\n",
    "    'num_epochs': 900,\n",
    "    'learning_rate': 6e-4,\n",
    "    'weight_decay': 5e-3,\n",
    "    'betas': (0.9, 0.999), \n",
    "    'eps': 1e-08\n",
    "}\n",
    "MLPmodelGCN, _,_, MLPcheckpointGCN = MLP.train_MLP(dm, sim_all[\"GCN_train\"], sim_all[\"GCN_test\"], MLPparametersGCN, acc_fn=MLP.F1, autostop_decay = 0.995, print_summary = True)"
   ]
  },
  {
   "cell_type": "code",
   "execution_count": 35,
   "metadata": {},
   "outputs": [
    {
     "name": "stdout",
     "output_type": "stream",
     "text": [
      "model saved\n"
     ]
    }
   ],
   "source": [
    "#optional: save the model\n",
    "MLP.save_ckp(MLPcheckpointGCN, \"models/MLPGCN253_1.pt\")"
   ]
  },
  {
   "cell_type": "markdown",
   "metadata": {},
   "source": [
    "###### Result"
   ]
  },
  {
   "cell_type": "code",
   "execution_count": 77,
   "metadata": {},
   "outputs": [
    {
     "name": "stdout",
     "output_type": "stream",
     "text": [
      "device set to cuda\n",
      "threshold: 0.05  validation loss: 0.4347 F1 accuracy 0.363 Precision accuracy 0.245 Recall accuracy 0.702 AUC accuracy: 0.767\n",
      "device set to cuda\n",
      "threshold: 0.1  validation loss: 0.4347 F1 accuracy 0.396 Precision accuracy 0.286 Recall accuracy 0.644 AUC accuracy: 0.767\n",
      "device set to cuda\n",
      "threshold: 0.15  validation loss: 0.4347 F1 accuracy 0.421 Precision accuracy 0.32 Recall accuracy 0.612 AUC accuracy: 0.767\n",
      "device set to cuda\n",
      "threshold: 0.2  validation loss: 0.4347 F1 accuracy 0.432 Precision accuracy 0.341 Recall accuracy 0.59 AUC accuracy: 0.767\n",
      "device set to cuda\n",
      "threshold: 0.25  validation loss: 0.4347 F1 accuracy 0.423 Precision accuracy 0.35 Recall accuracy 0.535 AUC accuracy: 0.767\n",
      "device set to cuda\n",
      "threshold: 0.3  validation loss: 0.4347 F1 accuracy 0.415 Precision accuracy 0.358 Recall accuracy 0.494 AUC accuracy: 0.767\n",
      "device set to cuda\n",
      "threshold: 0.35  validation loss: 0.4347 F1 accuracy 0.422 Precision accuracy 0.379 Recall accuracy 0.474 AUC accuracy: 0.767\n",
      "device set to cuda\n",
      "threshold: 0.4  validation loss: 0.4347 F1 accuracy 0.409 Precision accuracy 0.385 Recall accuracy 0.436 AUC accuracy: 0.767\n",
      "device set to cuda\n",
      "threshold: 0.45  validation loss: 0.4347 F1 accuracy 0.404 Precision accuracy 0.398 Recall accuracy 0.41 AUC accuracy: 0.767\n",
      "device set to cuda\n",
      "threshold: 0.5  validation loss: 0.4347 F1 accuracy 0.395 Precision accuracy 0.41 Recall accuracy 0.381 AUC accuracy: 0.767\n",
      "device set to cuda\n",
      "threshold: 0.55  validation loss: 0.4347 F1 accuracy 0.39 Precision accuracy 0.432 Recall accuracy 0.356 AUC accuracy: 0.767\n",
      "device set to cuda\n",
      "threshold: 0.6  validation loss: 0.4347 F1 accuracy 0.386 Precision accuracy 0.453 Recall accuracy 0.337 AUC accuracy: 0.767\n",
      "device set to cuda\n",
      "threshold: 0.65  validation loss: 0.4347 F1 accuracy 0.36 Precision accuracy 0.456 Recall accuracy 0.298 AUC accuracy: 0.767\n",
      "device set to cuda\n",
      "threshold: 0.7  validation loss: 0.4347 F1 accuracy 0.348 Precision accuracy 0.473 Recall accuracy 0.276 AUC accuracy: 0.767\n",
      "device set to cuda\n",
      "threshold: 0.75  validation loss: 0.4347 F1 accuracy 0.331 Precision accuracy 0.487 Recall accuracy 0.25 AUC accuracy: 0.767\n",
      "device set to cuda\n",
      "threshold: 0.8  validation loss: 0.4347 F1 accuracy 0.31 Precision accuracy 0.5 Recall accuracy 0.224 AUC accuracy: 0.767\n",
      "device set to cuda\n",
      "threshold: 0.85  validation loss: 0.4347 F1 accuracy 0.264 Precision accuracy 0.496 Recall accuracy 0.179 AUC accuracy: 0.767\n",
      "device set to cuda\n",
      "threshold: 0.9  validation loss: 0.4347 F1 accuracy 0.191 Precision accuracy 0.447 Recall accuracy 0.122 AUC accuracy: 0.767\n",
      "device set to cuda\n",
      "threshold: 0.95  validation loss: 0.4347 F1 accuracy 0.133 Precision accuracy 0.48 Recall accuracy 0.077 AUC accuracy: 0.767\n"
     ]
    }
   ],
   "source": [
    "for i in range(5,100, 5):\n",
    "    t = i/100;\n",
    "    MLP.eval_mlp(MLPmodelGCN, sim_all[\"GCN_test\"], dm, device_name = 'cuda', threshold = t)"
   ]
  },
  {
   "cell_type": "markdown",
   "metadata": {},
   "source": [
    "##### 3.1.2 MLP for GDE"
   ]
  },
  {
   "cell_type": "markdown",
   "metadata": {},
   "source": [
    "###### Training"
   ]
  },
  {
   "cell_type": "code",
   "execution_count": 66,
   "metadata": {},
   "outputs": [
    {
     "name": "stdout",
     "output_type": "stream",
     "text": [
      "MLP(\n",
      "  (layers): ModuleList(\n",
      "    (0): Dropout(p=0.5, inplace=False)\n",
      "    (1): Linear(in_features=276, out_features=276, bias=True)\n",
      "    (2): ReLU()\n",
      "    (3): Dropout(p=0.3, inplace=False)\n",
      "    (4): Linear(in_features=276, out_features=1, bias=True)\n",
      "    (5): Sigmoid()\n",
      "  )\n",
      ")\n",
      "----------------------------------------------------------------\n",
      "        Layer (type)               Output Shape         Param #\n",
      "================================================================\n",
      "           Dropout-1                  [-1, 276]               0\n",
      "            Linear-2                  [-1, 276]          76,452\n",
      "              ReLU-3                  [-1, 276]               0\n",
      "           Dropout-4                  [-1, 276]               0\n",
      "            Linear-5                    [-1, 1]             277\n",
      "           Sigmoid-6                    [-1, 1]               0\n",
      "================================================================\n",
      "Total params: 76,729\n",
      "Trainable params: 76,729\n",
      "Non-trainable params: 0\n",
      "----------------------------------------------------------------\n",
      "Input size (MB): 0.00\n",
      "Forward/backward pass size (MB): 0.01\n",
      "Params size (MB): 0.29\n",
      "Estimated Total Size (MB): 0.30\n",
      "----------------------------------------------------------------\n",
      "Epoch: 1   Train loss: 0.3552   Train accuracy: 0.036   Val loss: 0.3464   Val accuracy: 0.452    weighted Val loss: 0.3464\n",
      "0.452 ----------saved-----------\n",
      "Epoch: 2   Train loss: 0.2431   Train accuracy: 0.0   Val loss: 0.3134   Val accuracy: 0.476    weighted Val loss: 0.3462\n",
      "0.476 ----------saved-----------\n",
      "Epoch: 3   Train loss: 0.2124   Train accuracy: 0.0   Val loss: 0.3073   Val accuracy: 0.475    weighted Val loss: 0.346\n",
      "Epoch: 4   Train loss: 0.195   Train accuracy: 0.062   Val loss: 0.306   Val accuracy: 0.466    weighted Val loss: 0.3458\n",
      "Epoch: 5   Train loss: 0.1757   Train accuracy: 0.256   Val loss: 0.3072   Val accuracy: 0.461    weighted Val loss: 0.3456\n",
      "Epoch: 6   Train loss: 0.1567   Train accuracy: 0.464   Val loss: 0.3137   Val accuracy: 0.455    weighted Val loss: 0.3455\n",
      "Epoch: 7   Train loss: 0.148   Train accuracy: 0.531   Val loss: 0.3235   Val accuracy: 0.45    weighted Val loss: 0.3454\n",
      "Epoch: 8   Train loss: 0.132   Train accuracy: 0.591   Val loss: 0.3263   Val accuracy: 0.454    weighted Val loss: 0.3453\n",
      "Epoch: 9   Train loss: 0.1312   Train accuracy: 0.638   Val loss: 0.327   Val accuracy: 0.459    weighted Val loss: 0.3452\n",
      "Epoch: 10   Train loss: 0.1354   Train accuracy: 0.596   Val loss: 0.3435   Val accuracy: 0.456    weighted Val loss: 0.3452\n",
      "Epoch: 11   Train loss: 0.1239   Train accuracy: 0.676   Val loss: 0.333   Val accuracy: 0.462    weighted Val loss: 0.3451\n",
      "Epoch: 12   Train loss: 0.1343   Train accuracy: 0.673   Val loss: 0.3461   Val accuracy: 0.458    weighted Val loss: 0.3451\n",
      "Epoch: 13   Train loss: 0.1328   Train accuracy: 0.654   Val loss: 0.3451   Val accuracy: 0.452    weighted Val loss: 0.3451\n",
      "Epoch: 14   Train loss: 0.1341   Train accuracy: 0.647   Val loss: 0.3438   Val accuracy: 0.456    weighted Val loss: 0.3451\n",
      "Epoch: 15   Train loss: 0.1309   Train accuracy: 0.676   Val loss: 0.3425   Val accuracy: 0.451    weighted Val loss: 0.3451\n",
      "Epoch: 16   Train loss: 0.1344   Train accuracy: 0.634   Val loss: 0.3446   Val accuracy: 0.446    weighted Val loss: 0.3451\n",
      "Epoch: 17   Train loss: 0.1245   Train accuracy: 0.682   Val loss: 0.348   Val accuracy: 0.445    weighted Val loss: 0.3451\n",
      "Epoch: 18   Train loss: 0.1273   Train accuracy: 0.672   Val loss: 0.3395   Val accuracy: 0.454    weighted Val loss: 0.3451\n",
      "Epoch: 19   Train loss: 0.1367   Train accuracy: 0.633   Val loss: 0.3391   Val accuracy: 0.464    weighted Val loss: 0.345\n",
      "Epoch: 20   Train loss: 0.1244   Train accuracy: 0.644   Val loss: 0.3421   Val accuracy: 0.457    weighted Val loss: 0.345\n",
      "Epoch: 21   Train loss: 0.1416   Train accuracy: 0.701   Val loss: 0.3438   Val accuracy: 0.465    weighted Val loss: 0.345\n",
      "Epoch: 22   Train loss: 0.1327   Train accuracy: 0.685   Val loss: 0.3472   Val accuracy: 0.455    weighted Val loss: 0.345\n",
      "Epoch: 23   Train loss: 0.1235   Train accuracy: 0.656   Val loss: 0.3533   Val accuracy: 0.449    weighted Val loss: 0.3451\n",
      "Epoch: 24   Train loss: 0.1302   Train accuracy: 0.626   Val loss: 0.3719   Val accuracy: 0.456    weighted Val loss: 0.3452\n",
      "Epoch: 25   Train loss: 0.1282   Train accuracy: 0.694   Val loss: 0.3466   Val accuracy: 0.447    weighted Val loss: 0.3452\n",
      "Epoch: 26   Train loss: 0.1324   Train accuracy: 0.676   Val loss: 0.3435   Val accuracy: 0.45    weighted Val loss: 0.3452\n",
      "Epoch: 27   Train loss: 0.1112   Train accuracy: 0.757   Val loss: 0.3419   Val accuracy: 0.456    weighted Val loss: 0.3452\n",
      "Epoch: 28   Train loss: 0.1187   Train accuracy: 0.653   Val loss: 0.3503   Val accuracy: 0.455    weighted Val loss: 0.3452\n",
      "Epoch: 29   Train loss: 0.1276   Train accuracy: 0.667   Val loss: 0.3397   Val accuracy: 0.469    weighted Val loss: 0.3452\n",
      "Epoch: 30   Train loss: 0.1189   Train accuracy: 0.705   Val loss: 0.3407   Val accuracy: 0.462    weighted Val loss: 0.3452\n",
      "Epoch: 31   Train loss: 0.1187   Train accuracy: 0.718   Val loss: 0.3526   Val accuracy: 0.448    weighted Val loss: 0.3452\n",
      "Epoch: 32   Train loss: 0.1231   Train accuracy: 0.651   Val loss: 0.3447   Val accuracy: 0.458    weighted Val loss: 0.3452\n",
      "Epoch: 33   Train loss: 0.1089   Train accuracy: 0.691   Val loss: 0.3467   Val accuracy: 0.473    weighted Val loss: 0.3452\n",
      "Epoch: 34   Train loss: 0.132   Train accuracy: 0.696   Val loss: 0.3414   Val accuracy: 0.461    weighted Val loss: 0.3452\n",
      "Epoch: 35   Train loss: 0.1187   Train accuracy: 0.721   Val loss: 0.342   Val accuracy: 0.461    weighted Val loss: 0.3452\n",
      "Epoch: 36   Train loss: 0.1182   Train accuracy: 0.71   Val loss: 0.3464   Val accuracy: 0.461    weighted Val loss: 0.3452\n",
      "Epoch: 37   Train loss: 0.1118   Train accuracy: 0.704   Val loss: 0.3534   Val accuracy: 0.458    weighted Val loss: 0.3452\n",
      "Epoch: 38   Train loss: 0.1164   Train accuracy: 0.689   Val loss: 0.3433   Val accuracy: 0.461    weighted Val loss: 0.3452\n",
      "Epoch: 39   Train loss: 0.1166   Train accuracy: 0.723   Val loss: 0.3454   Val accuracy: 0.46    weighted Val loss: 0.3452\n",
      "Epoch: 40   Train loss: 0.1115   Train accuracy: 0.716   Val loss: 0.3539   Val accuracy: 0.457    weighted Val loss: 0.3453\n",
      "Epoch: 41   Train loss: 0.1124   Train accuracy: 0.741   Val loss: 0.3498   Val accuracy: 0.447    weighted Val loss: 0.3453\n",
      "Epoch: 42   Train loss: 0.1156   Train accuracy: 0.669   Val loss: 0.3459   Val accuracy: 0.46    weighted Val loss: 0.3453\n",
      "Epoch: 43   Train loss: 0.1155   Train accuracy: 0.692   Val loss: 0.3363   Val accuracy: 0.471    weighted Val loss: 0.3452\n",
      "Epoch: 44   Train loss: 0.1134   Train accuracy: 0.684   Val loss: 0.3485   Val accuracy: 0.467    weighted Val loss: 0.3453\n",
      "Epoch: 45   Train loss: 0.1086   Train accuracy: 0.715   Val loss: 0.3472   Val accuracy: 0.461    weighted Val loss: 0.3453\n",
      "Epoch: 46   Train loss: 0.1092   Train accuracy: 0.718   Val loss: 0.3497   Val accuracy: 0.456    weighted Val loss: 0.3453\n",
      "Epoch: 47   Train loss: 0.1128   Train accuracy: 0.769   Val loss: 0.3555   Val accuracy: 0.444    weighted Val loss: 0.3453\n",
      "Epoch: 48   Train loss: 0.1052   Train accuracy: 0.737   Val loss: 0.3352   Val accuracy: 0.468    weighted Val loss: 0.3453\n",
      "Epoch: 49   Train loss: 0.1128   Train accuracy: 0.719   Val loss: 0.3343   Val accuracy: 0.479    weighted Val loss: 0.3452\n",
      "0.479 ----------saved-----------\n",
      "Epoch: 50   Train loss: 0.1091   Train accuracy: 0.728   Val loss: 0.345   Val accuracy: 0.464    weighted Val loss: 0.3452\n",
      "Epoch: 51   Train loss: 0.1059   Train accuracy: 0.733   Val loss: 0.3525   Val accuracy: 0.467    weighted Val loss: 0.3453\n",
      "Epoch: 52   Train loss: 0.1071   Train accuracy: 0.745   Val loss: 0.353   Val accuracy: 0.455    weighted Val loss: 0.3453\n",
      "Epoch: 53   Train loss: 0.1014   Train accuracy: 0.77   Val loss: 0.3503   Val accuracy: 0.458    weighted Val loss: 0.3453\n",
      "Epoch: 54   Train loss: 0.1039   Train accuracy: 0.746   Val loss: 0.3442   Val accuracy: 0.462    weighted Val loss: 0.3453\n",
      "Epoch: 55   Train loss: 0.1006   Train accuracy: 0.766   Val loss: 0.349   Val accuracy: 0.456    weighted Val loss: 0.3453\n",
      "Epoch: 56   Train loss: 0.1033   Train accuracy: 0.731   Val loss: 0.3458   Val accuracy: 0.477    weighted Val loss: 0.3453\n",
      "Epoch: 57   Train loss: 0.1054   Train accuracy: 0.745   Val loss: 0.3322   Val accuracy: 0.472    weighted Val loss: 0.3453\n",
      "Epoch: 58   Train loss: 0.0956   Train accuracy: 0.798   Val loss: 0.3439   Val accuracy: 0.469    weighted Val loss: 0.3453\n",
      "Epoch: 59   Train loss: 0.1019   Train accuracy: 0.769   Val loss: 0.3478   Val accuracy: 0.471    weighted Val loss: 0.3453\n",
      "Epoch: 60   Train loss: 0.1046   Train accuracy: 0.745   Val loss: 0.3179   Val accuracy: 0.499    weighted Val loss: 0.3451\n",
      "0.499 ----------saved-----------\n",
      "Epoch: 61   Train loss: 0.1007   Train accuracy: 0.742   Val loss: 0.3355   Val accuracy: 0.484    weighted Val loss: 0.3451\n",
      "Epoch: 62   Train loss: 0.1047   Train accuracy: 0.728   Val loss: 0.3384   Val accuracy: 0.482    weighted Val loss: 0.3451\n",
      "Epoch: 63   Train loss: 0.0999   Train accuracy: 0.755   Val loss: 0.3381   Val accuracy: 0.471    weighted Val loss: 0.345\n",
      "Epoch: 64   Train loss: 0.0932   Train accuracy: 0.704   Val loss: 0.3332   Val accuracy: 0.483    weighted Val loss: 0.345\n",
      "Epoch: 65   Train loss: 0.1008   Train accuracy: 0.715   Val loss: 0.3294   Val accuracy: 0.485    weighted Val loss: 0.3449\n",
      "Epoch: 66   Train loss: 0.0926   Train accuracy: 0.762   Val loss: 0.3338   Val accuracy: 0.486    weighted Val loss: 0.3448\n",
      "Epoch: 67   Train loss: 0.1022   Train accuracy: 0.778   Val loss: 0.3408   Val accuracy: 0.471    weighted Val loss: 0.3448\n",
      "Epoch: 68   Train loss: 0.0839   Train accuracy: 0.817   Val loss: 0.3339   Val accuracy: 0.473    weighted Val loss: 0.3448\n",
      "Epoch: 69   Train loss: 0.0907   Train accuracy: 0.788   Val loss: 0.3495   Val accuracy: 0.47    weighted Val loss: 0.3448\n"
     ]
    }
   ],
   "source": [
    "MLPparametersGDE = {\n",
    "    'n_layers':2,\n",
    "    'layer_size_factor':[1, 1], \n",
    "    'dropout':[0.5, 0.3],\n",
    "    'batch_size': 128,\n",
    "    'num_epochs': 900,\n",
    "    'learning_rate': 6e-4,\n",
    "    'weight_decay': 5e-3,\n",
    "    'betas': (0.9, 0.999), \n",
    "    'eps': 1e-08\n",
    "}\n",
    "MLPmodelGDE, _,_, MLPcheckpointGDE = MLP.train_MLP(dm, sim_all[\"GDE_train\"], sim_all[\"GDE_test\"], MLPparametersGDE, acc_fn=MLP.F1, autostop_decay = 0.995, print_summary = True)"
   ]
  },
  {
   "cell_type": "code",
   "execution_count": 38,
   "metadata": {},
   "outputs": [
    {
     "name": "stdout",
     "output_type": "stream",
     "text": [
      "model saved\n"
     ]
    }
   ],
   "source": [
    "#optional: save the model\n",
    "MLP.save_ckp(MLPcheckpointGDE, \"models/MLPGDE253_1.pt\")"
   ]
  },
  {
   "cell_type": "markdown",
   "metadata": {},
   "source": [
    "###### Result"
   ]
  },
  {
   "cell_type": "code",
   "execution_count": 78,
   "metadata": {},
   "outputs": [
    {
     "name": "stdout",
     "output_type": "stream",
     "text": [
      "device set to cuda\n",
      "threshold: 0.05  validation loss: 0.3179 F1 accuracy 0.344 Precision accuracy 0.217 Recall accuracy 0.827 AUC accuracy: 0.796\n",
      "device set to cuda\n",
      "threshold: 0.1  validation loss: 0.3179 F1 accuracy 0.413 Precision accuracy 0.286 Recall accuracy 0.74 AUC accuracy: 0.796\n",
      "device set to cuda\n",
      "threshold: 0.15  validation loss: 0.3179 F1 accuracy 0.45 Precision accuracy 0.337 Recall accuracy 0.676 AUC accuracy: 0.796\n",
      "device set to cuda\n",
      "threshold: 0.2  validation loss: 0.3179 F1 accuracy 0.481 Precision accuracy 0.387 Recall accuracy 0.635 AUC accuracy: 0.796\n",
      "device set to cuda\n",
      "threshold: 0.25  validation loss: 0.3179 F1 accuracy 0.486 Precision accuracy 0.421 Recall accuracy 0.574 AUC accuracy: 0.796\n",
      "device set to cuda\n",
      "threshold: 0.3  validation loss: 0.3179 F1 accuracy 0.499 Precision accuracy 0.456 Recall accuracy 0.551 AUC accuracy: 0.796\n",
      "device set to cuda\n",
      "threshold: 0.35  validation loss: 0.3179 F1 accuracy 0.491 Precision accuracy 0.471 Recall accuracy 0.513 AUC accuracy: 0.796\n",
      "device set to cuda\n",
      "threshold: 0.4  validation loss: 0.3179 F1 accuracy 0.486 Precision accuracy 0.502 Recall accuracy 0.471 AUC accuracy: 0.796\n",
      "device set to cuda\n",
      "threshold: 0.45  validation loss: 0.3179 F1 accuracy 0.476 Precision accuracy 0.529 Recall accuracy 0.433 AUC accuracy: 0.796\n",
      "device set to cuda\n",
      "threshold: 0.5  validation loss: 0.3179 F1 accuracy 0.459 Precision accuracy 0.544 Recall accuracy 0.397 AUC accuracy: 0.796\n",
      "device set to cuda\n",
      "threshold: 0.55  validation loss: 0.3179 F1 accuracy 0.45 Precision accuracy 0.585 Recall accuracy 0.365 AUC accuracy: 0.796\n",
      "device set to cuda\n",
      "threshold: 0.6  validation loss: 0.3179 F1 accuracy 0.42 Precision accuracy 0.579 Recall accuracy 0.33 AUC accuracy: 0.796\n",
      "device set to cuda\n",
      "threshold: 0.65  validation loss: 0.3179 F1 accuracy 0.36 Precision accuracy 0.569 Recall accuracy 0.263 AUC accuracy: 0.796\n",
      "device set to cuda\n",
      "threshold: 0.7  validation loss: 0.3179 F1 accuracy 0.332 Precision accuracy 0.59 Recall accuracy 0.231 AUC accuracy: 0.796\n",
      "device set to cuda\n",
      "threshold: 0.75  validation loss: 0.3179 F1 accuracy 0.276 Precision accuracy 0.596 Recall accuracy 0.179 AUC accuracy: 0.796\n",
      "device set to cuda\n",
      "threshold: 0.8  validation loss: 0.3179 F1 accuracy 0.182 Precision accuracy 0.557 Recall accuracy 0.109 AUC accuracy: 0.796\n",
      "device set to cuda\n",
      "threshold: 0.85  validation loss: 0.3179 F1 accuracy 0.103 Precision accuracy 0.5 Recall accuracy 0.058 AUC accuracy: 0.796\n",
      "device set to cuda\n",
      "threshold: 0.9  validation loss: 0.3179 F1 accuracy 0.049 Precision accuracy 0.471 Recall accuracy 0.026 AUC accuracy: 0.796\n",
      "device set to cuda\n",
      "threshold: 0.95  validation loss: 0.3179 F1 accuracy 0.0 Precision accuracy 0.0 Recall accuracy 0.0 AUC accuracy: 0.796\n"
     ]
    }
   ],
   "source": [
    "for i in range(5,100, 5):\n",
    "    t = i/100;\n",
    "    MLP.eval_mlp(MLPmodelGDE, sim_all[\"GDE_test\"], dm, device_name = 'cuda', threshold = t)"
   ]
  },
  {
   "cell_type": "code",
   "execution_count": null,
   "metadata": {},
   "outputs": [],
   "source": []
  },
  {
   "cell_type": "code",
   "execution_count": null,
   "metadata": {},
   "outputs": [],
   "source": []
  }
 ],
 "metadata": {
  "kernelspec": {
   "display_name": "Python 3",
   "language": "python",
   "name": "python3"
  },
  "language_info": {
   "codemirror_mode": {
    "name": "ipython",
    "version": 3
   },
   "file_extension": ".py",
   "mimetype": "text/x-python",
   "name": "python",
   "nbconvert_exporter": "python",
   "pygments_lexer": "ipython3",
   "version": "3.8.5"
  }
 },
 "nbformat": 4,
 "nbformat_minor": 4
}
