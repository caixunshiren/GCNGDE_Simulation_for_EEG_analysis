{
 "cells": [
  {
   "cell_type": "markdown",
   "metadata": {},
   "source": [
    "# High Level Pipline for GCN and GNODE for Brain State Identification"
   ]
  },
  {
   "cell_type": "markdown",
   "metadata": {},
   "source": [
    "## Pipeline Overview"
   ]
  },
  {
   "cell_type": "markdown",
   "metadata": {},
   "source": [
    "### 1.1 Adjacency Matrix Generation ---> **2.1 Unsupervised GCN** ---> 3.1 Supervised MLP"
   ]
  },
  {
   "cell_type": "markdown",
   "metadata": {},
   "source": [
    "### 1.1 Adjacency Matrix Generation ---> **2.2 Unsupervised GNODE** ---> 3.1 Supervised MLP"
   ]
  },
  {
   "cell_type": "markdown",
   "metadata": {},
   "source": [
    "[Introduction and overview should be written here]"
   ]
  },
  {
   "cell_type": "markdown",
   "metadata": {},
   "source": [
    "#### High Level Classes imported:"
   ]
  },
  {
   "cell_type": "markdown",
   "metadata": {},
   "source": [
    "DataManager.py DataManagerUtil.py : [insert description here]"
   ]
  },
  {
   "cell_type": "markdown",
   "metadata": {},
   "source": [
    "GCN.py GCNutil.py : [insert description here]"
   ]
  },
  {
   "cell_type": "markdown",
   "metadata": {},
   "source": [
    "GDE.py GDEutil.py GDEsolvers.py : [insert description here]"
   ]
  },
  {
   "cell_type": "markdown",
   "metadata": {},
   "source": [
    "MLP.py : [insert description here]"
   ]
  },
  {
   "cell_type": "code",
   "execution_count": 1,
   "metadata": {},
   "outputs": [],
   "source": [
    "%reload_ext autoreload\n",
    "%autoreload 2\n",
    "#Custom Files\n",
    "from DataManager import dataManager\n",
    "from DataManagerUtil import *\n",
    "import GCN as GCN\n",
    "import GCNutil as GCNutil\n",
    "import GDE as GDE\n",
    "import GDEutil as GDEutil\n",
    "import GDEsolvers as GDEsolvers\n",
    "import MLP as MLP\n",
    "\n",
    "#Standard Libraries\n",
    "# Torch\n",
    "import torch\n",
    "import torch.autograd\n",
    "import torch.nn as nn\n",
    "import torch.nn.functional as F\n",
    "#Numpy\n",
    "import numpy as np"
   ]
  },
  {
   "cell_type": "markdown",
   "metadata": {},
   "source": [
    "#### Dataset:"
   ]
  },
  {
   "cell_type": "markdown",
   "metadata": {},
   "source": [
    "[A short description here]"
   ]
  },
  {
   "cell_type": "code",
   "execution_count": 2,
   "metadata": {
    "collapsed": true,
    "jupyter": {
     "outputs_hidden": true
    }
   },
   "outputs": [
    {
     "name": "stdout",
     "output_type": "stream",
     "text": [
      "name: X_test\n",
      "shape: (640, 23, 2625)\n",
      "-----------------------\n",
      "name: X_train\n",
      "shape: (640, 23, 2473)\n",
      "-----------------------\n",
      "name: clip_sizes_test\n",
      "shape: (2, 135)\n",
      "-----------------------\n",
      "name: clip_sizes_train\n",
      "shape: (2, 133)\n",
      "-----------------------\n",
      "name: conv_sizes\n",
      "shape: (1, 1)\n",
      "-----------------------\n",
      "name: n_pre_szr\n",
      "shape: (1, 1)\n",
      "-----------------------\n",
      "name: sel_win_nums_test\n",
      "shape: (1, 2625)\n",
      "-----------------------\n",
      "name: sel_win_nums_train\n",
      "shape: (1, 2473)\n",
      "-----------------------\n",
      "name: soz_ch_ids\n",
      "shape: (5, 1)\n",
      "-----------------------\n",
      "name: stride_sec\n",
      "shape: (1, 1)\n",
      "-----------------------\n",
      "name: window_size_sec\n",
      "shape: (1, 1)\n",
      "-----------------------\n",
      "name: y_test\n",
      "shape: (1, 2625)\n",
      "-----------------------\n",
      "name: y_train\n",
      "shape: (1, 2473)\n",
      "-----------------------\n",
      "print sample EGG signal from one node:\n"
     ]
    },
    {
     "data": {
      "image/png": "[encoded data removed]",
      "text/plain": [
       "<Figure size 432x288 with 1 Axes>"
      ]
     },
     "metadata": {
      "needs_background": "light"
     },
     "output_type": "display_data"
    }
   ],
   "source": [
    "#Loading everything from the dataset\n",
    "filepath = 'datasets\\pat_FR_253.mat' #264 253 620\n",
    "variables = load_patient_data(filepath, verbose = True)"
   ]
  },
  {
   "cell_type": "code",
   "execution_count": 3,
   "metadata": {},
   "outputs": [
    {
     "name": "stdout",
     "output_type": "stream",
     "text": [
      "X_train: (640, 23, 2549)\n",
      "X_test: (640, 23, 2549)\n",
      "y_train: (1, 2549) Positive labes: 261.0\n",
      "y_test: (1, 2549) Positive labes: 260.0\n"
     ]
    }
   ],
   "source": [
    "#OPTIONAL: Shuffle the dataset\n",
    "variables, indices = shuffle_train_test(variables, train_ratio = 0.5, print_summary = True)"
   ]
  },
  {
   "cell_type": "code",
   "execution_count": 4,
   "metadata": {},
   "outputs": [],
   "source": [
    "#OPTIONAL: Remove Overlapping Parts\n",
    "variables = remove_overlap(variables)"
   ]
  },
  {
   "cell_type": "code",
   "execution_count": 5,
   "metadata": {},
   "outputs": [],
   "source": [
    "#save the shuffled indices\n",
    "np.save(\"datasets/indices_253.npy\",indices)"
   ]
  },
  {
   "cell_type": "markdown",
   "metadata": {},
   "source": [
    "$\\;\\;\\;\\;\\;\\;\\;\\;\\;\\;\\;\\;\\;\\;$"
   ]
  },
  {
   "cell_type": "markdown",
   "metadata": {},
   "source": [
    "## 1.1 Adjacency Matrix Generation"
   ]
  },
  {
   "cell_type": "markdown",
   "metadata": {},
   "source": [
    "[short description here]"
   ]
  },
  {
   "cell_type": "markdown",
   "metadata": {},
   "source": [
    "##### 1.1.1 Create the datamanager object that computes the covariance matrix for you."
   ]
  },
  {
   "cell_type": "code",
   "execution_count": 6,
   "metadata": {},
   "outputs": [
    {
     "name": "stdout",
     "output_type": "stream",
     "text": [
      "--------data manager successfully initialized--------\n"
     ]
    }
   ],
   "source": [
    "dm = dataManager(variables[\"X_train\"],variables[\"X_test\"],variables[\"y_train\"],variables[\"y_test\"],10**(-4))"
   ]
  },
  {
   "cell_type": "markdown",
   "metadata": {},
   "source": [
    "##### 1.1.2 Visualize the mean covariance matrix across all training samples"
   ]
  },
  {
   "cell_type": "code",
   "execution_count": 7,
   "metadata": {},
   "outputs": [
    {
     "data": {
      "image/png": "[encoded data removed]",
      "text/plain": [
       "<Figure size 432x288 with 2 Axes>"
      ]
     },
     "metadata": {
      "needs_background": "light"
     },
     "output_type": "display_data"
    }
   ],
   "source": [
    "show_heat_map(dm.P_avg_train)"
   ]
  },
  {
   "cell_type": "markdown",
   "metadata": {},
   "source": [
    "##### 1.1.3 Create DAD from dm by setting the threshold n. repeating this untill a desireble \"n\" value is found."
   ]
  },
  {
   "cell_type": "code",
   "execution_count": 8,
   "metadata": {},
   "outputs": [
    {
     "data": {
      "image/png": "[encoded data removed]",
      "text/plain": [
       "<Figure size 432x288 with 2 Axes>"
      ]
     },
     "metadata": {
      "needs_background": "light"
     },
     "output_type": "display_data"
    },
    {
     "data": {
      "image/png": "[encoded data removed]",
      "text/plain": [
       "<Figure size 432x288 with 2 Axes>"
      ]
     },
     "metadata": {
      "needs_background": "light"
     },
     "output_type": "display_data"
    }
   ],
   "source": [
    "n = 3.5*10**-3\n",
    "dm.re_threshold(n)\n",
    "show_heat_map(dm.A_train)\n",
    "show_heat_map(create_DAD(dm.A_train))\n",
    "Araw = dm.A_train"
   ]
  },
  {
   "cell_type": "markdown",
   "metadata": {},
   "source": [
    "$\\;\\;\\;\\;\\;\\;\\;\\;\\;\\;\\;\\;\\;\\;$"
   ]
  },
  {
   "cell_type": "markdown",
   "metadata": {},
   "source": [
    "## 2.1 Unsupervised Graph Convolutional Neural Network (GCN)"
   ]
  },
  {
   "cell_type": "markdown",
   "metadata": {},
   "source": [
    "[short description here]"
   ]
  },
  {
   "cell_type": "markdown",
   "metadata": {},
   "source": [
    "##### 2.1.1 Declare Parameters for GCN"
   ]
  },
  {
   "cell_type": "code",
   "execution_count": 9,
   "metadata": {},
   "outputs": [
    {
     "name": "stdout",
     "output_type": "stream",
     "text": [
      "{'body': 257, 'M': 2548, 'batch_size': 128, 'n_layers': 2, 'num_epochs': 1, 'learning_rate': 0.001, 'weight_decay': 0.005}\n"
     ]
    }
   ],
   "source": [
    "#create new model\n",
    "A = create_DAD(Araw)\n",
    "X_train = dm.X_train\n",
    "X_test = dm.X_test\n",
    "GCNparameters = {\n",
    "    'body': dm.X_train.shape[2],\n",
    "    'M': dm.X_train.shape[0],\n",
    "    'batch_size': 128,\n",
    "    'n_layers': 2,\n",
    "    'num_epochs': 1,\n",
    "    'learning_rate': 1e-3,\n",
    "    'weight_decay': 5e-3\n",
    "}\n",
    "print(GCNparameters)\n",
    "GCNcheckpoint = {'parameters': GCNparameters}"
   ]
  },
  {
   "cell_type": "markdown",
   "metadata": {},
   "source": [
    "##### 2.1.2 Train GCN"
   ]
  },
  {
   "cell_type": "code",
   "execution_count": 10,
   "metadata": {},
   "outputs": [
    {
     "name": "stderr",
     "output_type": "stream",
     "text": [
      "  5%|▌         | 1/20 [00:00<00:02,  8.64it/s]"
     ]
    },
    {
     "name": "stdout",
     "output_type": "stream",
     "text": [
      "device set to cpu\n",
      "Epoch: 1   Batch: 2 of size 128   Train loss: 141.2787322998047   Valid loss: 137.34365844726562\r"
     ]
    },
    {
     "name": "stderr",
     "output_type": "stream",
     "text": [
      " 20%|██        | 4/20 [00:00<00:01,  9.31it/s]"
     ]
    },
    {
     "name": "stdout",
     "output_type": "stream",
     "text": [
      "Epoch: 1   Batch: 5 of size 128   Train loss: 135.92926025390625   Valid loss: 137.24743652343756\r"
     ]
    },
    {
     "name": "stderr",
     "output_type": "stream",
     "text": [
      " 35%|███▌      | 7/20 [00:00<00:01,  9.58it/s]"
     ]
    },
    {
     "name": "stdout",
     "output_type": "stream",
     "text": [
      "Epoch: 1   Batch: 7 of size 128   Train loss: 136.19561767578125   Valid loss: 135.48777770996094\r"
     ]
    },
    {
     "name": "stderr",
     "output_type": "stream",
     "text": [
      " 45%|████▌     | 9/20 [00:00<00:01,  9.08it/s]"
     ]
    },
    {
     "name": "stdout",
     "output_type": "stream",
     "text": [
      "Epoch: 1   Batch: 9 of size 128   Train loss: 136.51995849609375   Valid loss: 135.21868896484375\r"
     ]
    },
    {
     "name": "stderr",
     "output_type": "stream",
     "text": [
      " 50%|█████     | 10/20 [00:01<00:01,  9.23it/s]"
     ]
    },
    {
     "name": "stdout",
     "output_type": "stream",
     "text": [
      "Epoch: 1   Batch: 11 of size 128   Train loss: 135.0307159423828   Valid loss: 134.79870605468755"
     ]
    },
    {
     "name": "stderr",
     "output_type": "stream",
     "text": [
      " 65%|██████▌   | 13/20 [00:01<00:00,  9.42it/s]"
     ]
    },
    {
     "name": "stdout",
     "output_type": "stream",
     "text": [
      "Epoch: 1   Batch: 13 of size 128   Train loss: 133.3765869140625   Valid loss: 132.9769744873047\r"
     ]
    },
    {
     "name": "stderr",
     "output_type": "stream",
     "text": [
      " 70%|███████   | 14/20 [00:01<00:00,  9.46it/s]"
     ]
    },
    {
     "name": "stdout",
     "output_type": "stream",
     "text": [
      "Epoch: 1   Batch: 15 of size 128   Train loss: 131.86453247070312   Valid loss: 131.71539306640625"
     ]
    },
    {
     "name": "stderr",
     "output_type": "stream",
     "text": [
      " 85%|████████▌ | 17/20 [00:01<00:00,  9.77it/s]"
     ]
    },
    {
     "name": "stdout",
     "output_type": "stream",
     "text": [
      "Epoch: 1   Batch: 18 of size 128   Train loss: 130.2315216064453   Valid loss: 129.4441375732422\r"
     ]
    },
    {
     "name": "stderr",
     "output_type": "stream",
     "text": [
      "100%|██████████| 20/20 [00:02<00:00,  9.86it/s]"
     ]
    },
    {
     "name": "stdout",
     "output_type": "stream",
     "text": [
      "Epoch: 1   Batch: 20 of size 128   Train loss: 128.66539001464844   Valid loss: 129.30528259277344\n"
     ]
    },
    {
     "name": "stderr",
     "output_type": "stream",
     "text": [
      "\n"
     ]
    }
   ],
   "source": [
    "#strongly recommand cpu because it's only one epoch training time and CUDA some times run out of memory if you retrain multiple times\n",
    "device_name = 'cpu'\n",
    "GCNmodel, GCNcheckpoint = GCNutil.train_GCN(A, X_train, X_test, GCNcheckpoint, device_name = device_name, load = False, print_summary = False)"
   ]
  },
  {
   "cell_type": "code",
   "execution_count": 11,
   "metadata": {},
   "outputs": [
    {
     "name": "stdout",
     "output_type": "stream",
     "text": [
      "model saved\n"
     ]
    }
   ],
   "source": [
    "#optional: saving the model\n",
    "GCNutil.save_ckp(GCNcheckpoint, \"models/GCN253_1.pt\")"
   ]
  },
  {
   "cell_type": "markdown",
   "metadata": {},
   "source": [
    "##### 2.1.3 Visualize some simularity matrices generated by GCN (a visual evaluation and sanity check)"
   ]
  },
  {
   "cell_type": "code",
   "execution_count": 12,
   "metadata": {},
   "outputs": [],
   "source": [
    "GCNmodel.eval()\n",
    "test_pred = GCNmodel(torch.from_numpy(X_train[:128, :,:]).float().to(device_name), torch.from_numpy(A).float().to(device_name)).cpu().detach().numpy()"
   ]
  },
  {
   "cell_type": "code",
   "execution_count": 13,
   "metadata": {
    "collapsed": true,
    "jupyter": {
     "outputs_hidden": true
    }
   },
   "outputs": [
    {
     "name": "stdout",
     "output_type": "stream",
     "text": [
      "sample 0   label, 0.0\n"
     ]
    },
    {
     "data": {
      "image/png": "[encoded data removed]",
      "text/plain": [
       "<Figure size 432x288 with 2 Axes>"
      ]
     },
     "metadata": {
      "needs_background": "light"
     },
     "output_type": "display_data"
    },
    {
     "name": "stdout",
     "output_type": "stream",
     "text": [
      "sample 1   label, 1.0\n"
     ]
    },
    {
     "data": {
      "image/png": "[encoded data removed]",
      "text/plain": [
       "<Figure size 432x288 with 2 Axes>"
      ]
     },
     "metadata": {
      "needs_background": "light"
     },
     "output_type": "display_data"
    },
    {
     "name": "stdout",
     "output_type": "stream",
     "text": [
      "sample 2   label, 0.0\n"
     ]
    },
    {
     "data": {
      "image/png": "[encoded data removed]",
      "text/plain": [
       "<Figure size 432x288 with 2 Axes>"
      ]
     },
     "metadata": {
      "needs_background": "light"
     },
     "output_type": "display_data"
    },
    {
     "name": "stdout",
     "output_type": "stream",
     "text": [
      "sample 3   label, 0.0\n"
     ]
    },
    {
     "data": {
      "image/png": "[encoded data removed]",
      "text/plain": [
       "<Figure size 432x288 with 2 Axes>"
      ]
     },
     "metadata": {
      "needs_background": "light"
     },
     "output_type": "display_data"
    },
    {
     "name": "stdout",
     "output_type": "stream",
     "text": [
      "sample 4   label, 0.0\n"
     ]
    },
    {
     "data": {
      "image/png": "[encoded data removed]",
      "text/plain": [
       "<Figure size 432x288 with 2 Axes>"
      ]
     },
     "metadata": {
      "needs_background": "light"
     },
     "output_type": "display_data"
    },
    {
     "name": "stdout",
     "output_type": "stream",
     "text": [
      "sample 5   label, 0.0\n"
     ]
    },
    {
     "data": {
      "image/png": "[encoded data removed]",
      "text/plain": [
       "<Figure size 432x288 with 2 Axes>"
      ]
     },
     "metadata": {
      "needs_background": "light"
     },
     "output_type": "display_data"
    },
    {
     "name": "stdout",
     "output_type": "stream",
     "text": [
      "sample 6   label, 0.0\n"
     ]
    },
    {
     "data": {
      "image/png": "[encoded data removed]",
      "text/plain": [
       "<Figure size 432x288 with 2 Axes>"
      ]
     },
     "metadata": {
      "needs_background": "light"
     },
     "output_type": "display_data"
    },
    {
     "name": "stdout",
     "output_type": "stream",
     "text": [
      "sample 7   label, 0.0\n"
     ]
    },
    {
     "data": {
      "image/png": "[encoded data removed]",
      "text/plain": [
       "<Figure size 432x288 with 2 Axes>"
      ]
     },
     "metadata": {
      "needs_background": "light"
     },
     "output_type": "display_data"
    },
    {
     "name": "stdout",
     "output_type": "stream",
     "text": [
      "sample 8   label, 0.0\n"
     ]
    },
    {
     "data": {
      "image/png": "[encoded data removed]",
      "text/plain": [
       "<Figure size 432x288 with 2 Axes>"
      ]
     },
     "metadata": {
      "needs_background": "light"
     },
     "output_type": "display_data"
    },
    {
     "name": "stdout",
     "output_type": "stream",
     "text": [
      "sample 9   label, 1.0\n"
     ]
    },
    {
     "data": {
      "image/png": "[encoded data removed]",
      "text/plain": [
       "<Figure size 432x288 with 2 Axes>"
      ]
     },
     "metadata": {
      "needs_background": "light"
     },
     "output_type": "display_data"
    }
   ],
   "source": [
    "for i in range(10):\n",
    "    print(\"sample\", i, \"  label,\", dm.Y_train[i,0])\n",
    "    show_heat_map(test_pred[i,:,:])"
   ]
  },
  {
   "cell_type": "markdown",
   "metadata": {},
   "source": [
    "$\\;\\;\\;\\;\\;\\;\\;\\;\\;\\;\\;\\;\\;\\;$"
   ]
  },
  {
   "cell_type": "markdown",
   "metadata": {},
   "source": [
    "## 2.1 Unsupervised Graph Neural Ordinary Differential Equations (GNODE)"
   ]
  },
  {
   "cell_type": "markdown",
   "metadata": {},
   "source": [
    "[short description here]"
   ]
  },
  {
   "cell_type": "markdown",
   "metadata": {},
   "source": [
    "##### 2.2.1 Declare Parameters for GNODE"
   ]
  },
  {
   "cell_type": "code",
   "execution_count": 14,
   "metadata": {},
   "outputs": [],
   "source": [
    "A = create_DAD(Araw)\n",
    "X_train = dm.X_train\n",
    "X_test = dm.X_test\n",
    "GDEparameters = {\n",
    "    'body': dm.X_train.shape[2],\n",
    "    'solver': GDEsolvers.explicit_RK,\n",
    "    'solver_params': {\n",
    "    \"t0\": 0,\n",
    "    \"t1\": 0.25,\n",
    "    \"N\": 5,\n",
    "    \"b_tableau\": GDEsolvers.EF\n",
    "     },\n",
    "    'hidden_layers': 1,\n",
    "    'M': dm.X_train.shape[0],\n",
    "    'batch_size': 128,\n",
    "    'num_epochs': 1,\n",
    "    'learning_rate': 1e-3,\n",
    "    'weight_decay': 5e-3\n",
    "}\n",
    "GDEcheckpoint = {'parameters': GDEparameters}"
   ]
  },
  {
   "cell_type": "markdown",
   "metadata": {},
   "source": [
    "##### 2.2.2 Train GNODE"
   ]
  },
  {
   "cell_type": "code",
   "execution_count": 15,
   "metadata": {
    "collapsed": true,
    "jupyter": {
     "outputs_hidden": true
    }
   },
   "outputs": [
    {
     "name": "stderr",
     "output_type": "stream",
     "text": [
      "  0%|          | 0/20 [00:00<?, ?it/s]"
     ]
    },
    {
     "name": "stdout",
     "output_type": "stream",
     "text": [
      "device set to cpu\n"
     ]
    },
    {
     "name": "stderr",
     "output_type": "stream",
     "text": [
      "  5%|▌         | 1/20 [00:00<00:10,  1.81it/s]"
     ]
    },
    {
     "name": "stdout",
     "output_type": "stream",
     "text": [
      "Epoch: 1   Batch: 1 of size 128   Train loss: 147.58323669433594   Valid loss: 140.64732360839844\r"
     ]
    },
    {
     "name": "stderr",
     "output_type": "stream",
     "text": [
      " 10%|█         | 2/20 [00:01<00:10,  1.78it/s]"
     ]
    },
    {
     "name": "stdout",
     "output_type": "stream",
     "text": [
      "Epoch: 1   Batch: 2 of size 128   Train loss: 140.6942901611328   Valid loss: 135.7228240966797\r"
     ]
    },
    {
     "name": "stderr",
     "output_type": "stream",
     "text": [
      " 15%|█▌        | 3/20 [00:01<00:09,  1.80it/s]"
     ]
    },
    {
     "name": "stdout",
     "output_type": "stream",
     "text": [
      "Epoch: 1   Batch: 3 of size 128   Train loss: 135.8430938720703   Valid loss: 132.39602661132812\r"
     ]
    },
    {
     "name": "stderr",
     "output_type": "stream",
     "text": [
      " 20%|██        | 4/20 [00:02<00:09,  1.77it/s]"
     ]
    },
    {
     "name": "stdout",
     "output_type": "stream",
     "text": [
      "Epoch: 1   Batch: 4 of size 128   Train loss: 133.11099243164062   Valid loss: 130.0465087890625\r"
     ]
    },
    {
     "name": "stderr",
     "output_type": "stream",
     "text": [
      " 25%|██▌       | 5/20 [00:02<00:08,  1.83it/s]"
     ]
    },
    {
     "name": "stdout",
     "output_type": "stream",
     "text": [
      "Epoch: 1   Batch: 5 of size 128   Train loss: 132.1949462890625   Valid loss: 131.25897216796875\r"
     ]
    },
    {
     "name": "stderr",
     "output_type": "stream",
     "text": [
      " 30%|███       | 6/20 [00:03<00:07,  1.83it/s]"
     ]
    },
    {
     "name": "stdout",
     "output_type": "stream",
     "text": [
      "Epoch: 1   Batch: 6 of size 128   Train loss: 131.31976318359375   Valid loss: 132.2095184326172\r"
     ]
    },
    {
     "name": "stderr",
     "output_type": "stream",
     "text": [
      " 35%|███▌      | 7/20 [00:03<00:07,  1.78it/s]"
     ]
    },
    {
     "name": "stdout",
     "output_type": "stream",
     "text": [
      "Epoch: 1   Batch: 7 of size 128   Train loss: 131.8255615234375   Valid loss: 133.45675659179688\r"
     ]
    },
    {
     "name": "stderr",
     "output_type": "stream",
     "text": [
      " 40%|████      | 8/20 [00:04<00:06,  1.83it/s]"
     ]
    },
    {
     "name": "stdout",
     "output_type": "stream",
     "text": [
      "Epoch: 1   Batch: 8 of size 128   Train loss: 132.4717254638672   Valid loss: 133.48728942871094\r"
     ]
    },
    {
     "name": "stderr",
     "output_type": "stream",
     "text": [
      " 45%|████▌     | 9/20 [00:05<00:06,  1.79it/s]"
     ]
    },
    {
     "name": "stdout",
     "output_type": "stream",
     "text": [
      "Epoch: 1   Batch: 9 of size 128   Train loss: 133.0678253173828   Valid loss: 131.1241455078125\r"
     ]
    },
    {
     "name": "stderr",
     "output_type": "stream",
     "text": [
      " 50%|█████     | 10/20 [00:05<00:05,  1.82it/s]"
     ]
    },
    {
     "name": "stdout",
     "output_type": "stream",
     "text": [
      "Epoch: 1   Batch: 10 of size 128   Train loss: 131.6707305908203   Valid loss: 133.06056213378906\r"
     ]
    },
    {
     "name": "stderr",
     "output_type": "stream",
     "text": [
      " 55%|█████▌    | 11/20 [00:06<00:05,  1.80it/s]"
     ]
    },
    {
     "name": "stdout",
     "output_type": "stream",
     "text": [
      "Epoch: 1   Batch: 11 of size 128   Train loss: 131.84222412109375   Valid loss: 130.519775390625\r"
     ]
    },
    {
     "name": "stderr",
     "output_type": "stream",
     "text": [
      " 60%|██████    | 12/20 [00:06<00:04,  1.79it/s]"
     ]
    },
    {
     "name": "stdout",
     "output_type": "stream",
     "text": [
      "Epoch: 1   Batch: 12 of size 128   Train loss: 130.7286834716797   Valid loss: 128.23178100585938\r"
     ]
    },
    {
     "name": "stderr",
     "output_type": "stream",
     "text": [
      " 65%|██████▌   | 13/20 [00:07<00:03,  1.80it/s]"
     ]
    },
    {
     "name": "stdout",
     "output_type": "stream",
     "text": [
      "Epoch: 1   Batch: 13 of size 128   Train loss: 128.4960479736328   Valid loss: 128.3351593017578\r"
     ]
    },
    {
     "name": "stderr",
     "output_type": "stream",
     "text": [
      " 70%|███████   | 14/20 [00:07<00:03,  1.79it/s]"
     ]
    },
    {
     "name": "stdout",
     "output_type": "stream",
     "text": [
      "Epoch: 1   Batch: 14 of size 128   Train loss: 127.66949462890625   Valid loss: 125.86688232421875\r"
     ]
    },
    {
     "name": "stderr",
     "output_type": "stream",
     "text": [
      " 75%|███████▌  | 15/20 [00:08<00:02,  1.82it/s]"
     ]
    },
    {
     "name": "stdout",
     "output_type": "stream",
     "text": [
      "Epoch: 1   Batch: 15 of size 128   Train loss: 126.73189544677734   Valid loss: 126.97703552246094\r"
     ]
    },
    {
     "name": "stderr",
     "output_type": "stream",
     "text": [
      " 80%|████████  | 16/20 [00:08<00:02,  1.78it/s]"
     ]
    },
    {
     "name": "stdout",
     "output_type": "stream",
     "text": [
      "Epoch: 1   Batch: 16 of size 128   Train loss: 127.2513198852539   Valid loss: 126.94862365722656\r"
     ]
    },
    {
     "name": "stderr",
     "output_type": "stream",
     "text": [
      " 85%|████████▌ | 17/20 [00:09<00:01,  1.81it/s]"
     ]
    },
    {
     "name": "stdout",
     "output_type": "stream",
     "text": [
      "Epoch: 1   Batch: 17 of size 128   Train loss: 126.5853500366211   Valid loss: 126.28581237792969\r"
     ]
    },
    {
     "name": "stderr",
     "output_type": "stream",
     "text": [
      " 90%|█████████ | 18/20 [00:10<00:01,  1.77it/s]"
     ]
    },
    {
     "name": "stdout",
     "output_type": "stream",
     "text": [
      "Epoch: 1   Batch: 18 of size 128   Train loss: 126.70665740966797   Valid loss: 125.527099609375\r"
     ]
    },
    {
     "name": "stderr",
     "output_type": "stream",
     "text": [
      " 95%|█████████▌| 19/20 [00:10<00:00,  1.78it/s]"
     ]
    },
    {
     "name": "stdout",
     "output_type": "stream",
     "text": [
      "Epoch: 1   Batch: 19 of size 128   Train loss: 125.93408203125   Valid loss: 125.16766357421875\r"
     ]
    },
    {
     "name": "stderr",
     "output_type": "stream",
     "text": [
      "100%|██████████| 20/20 [00:11<00:00,  1.80it/s]"
     ]
    },
    {
     "name": "stdout",
     "output_type": "stream",
     "text": [
      "Epoch: 1   Batch: 20 of size 128   Train loss: 125.71546936035156   Valid loss: 125.08547973632812\n"
     ]
    },
    {
     "name": "stderr",
     "output_type": "stream",
     "text": [
      "\n"
     ]
    }
   ],
   "source": [
    "#strongly recommand cpu because it's only one epoch training time and CUDA some times run out of memory if you retrain multiple times\n",
    "device_name = 'cpu'\n",
    "GDEmodel, GDEcheckpoint = GDEutil.train_GDE(A, X_train, X_test, GDEcheckpoint, device_name = device_name, load = False, print_summary = False)"
   ]
  },
  {
   "cell_type": "code",
   "execution_count": 16,
   "metadata": {},
   "outputs": [
    {
     "name": "stdout",
     "output_type": "stream",
     "text": [
      "model saved\n"
     ]
    }
   ],
   "source": [
    "#optional: saving the model\n",
    "GDEutil.save_ckp(GDEcheckpoint, \"models/GDE253_1.pt\")"
   ]
  },
  {
   "cell_type": "markdown",
   "metadata": {},
   "source": [
    "##### 2.2.3 Visualize some simularity matrices generated by GNODE (a visual evaluation and sanity check)"
   ]
  },
  {
   "cell_type": "code",
   "execution_count": 17,
   "metadata": {},
   "outputs": [],
   "source": [
    "GDEmodel.eval()\n",
    "test_pred = GDEmodel(torch.from_numpy(X_train[:128, :,:]).float().to(device_name)).cpu().detach().numpy()"
   ]
  },
  {
   "cell_type": "code",
   "execution_count": 18,
   "metadata": {
    "collapsed": true,
    "jupyter": {
     "outputs_hidden": true
    }
   },
   "outputs": [
    {
     "name": "stdout",
     "output_type": "stream",
     "text": [
      "sample 0   label, 0.0\n"
     ]
    },
    {
     "data": {
      "image/png": "[encoded data removed]",
      "text/plain": [
       "<Figure size 432x288 with 2 Axes>"
      ]
     },
     "metadata": {
      "needs_background": "light"
     },
     "output_type": "display_data"
    },
    {
     "name": "stdout",
     "output_type": "stream",
     "text": [
      "sample 1   label, 1.0\n"
     ]
    },
    {
     "data": {
      "image/png": "[encoded data removed]",
      "text/plain": [
       "<Figure size 432x288 with 2 Axes>"
      ]
     },
     "metadata": {
      "needs_background": "light"
     },
     "output_type": "display_data"
    },
    {
     "name": "stdout",
     "output_type": "stream",
     "text": [
      "sample 2   label, 0.0\n"
     ]
    },
    {
     "data": {
      "image/png": "[encoded data removed]",
      "text/plain": [
       "<Figure size 432x288 with 2 Axes>"
      ]
     },
     "metadata": {
      "needs_background": "light"
     },
     "output_type": "display_data"
    },
    {
     "name": "stdout",
     "output_type": "stream",
     "text": [
      "sample 3   label, 0.0\n"
     ]
    },
    {
     "data": {
      "image/png": "[encoded data removed]",
      "text/plain": [
       "<Figure size 432x288 with 2 Axes>"
      ]
     },
     "metadata": {
      "needs_background": "light"
     },
     "output_type": "display_data"
    },
    {
     "name": "stdout",
     "output_type": "stream",
     "text": [
      "sample 4   label, 0.0\n"
     ]
    },
    {
     "data": {
      "image/png": "[encoded data removed]",
      "text/plain": [
       "<Figure size 432x288 with 2 Axes>"
      ]
     },
     "metadata": {
      "needs_background": "light"
     },
     "output_type": "display_data"
    },
    {
     "name": "stdout",
     "output_type": "stream",
     "text": [
      "sample 5   label, 0.0\n"
     ]
    },
    {
     "data": {
      "image/png": "[encoded data removed]",
      "text/plain": [
       "<Figure size 432x288 with 2 Axes>"
      ]
     },
     "metadata": {
      "needs_background": "light"
     },
     "output_type": "display_data"
    },
    {
     "name": "stdout",
     "output_type": "stream",
     "text": [
      "sample 6   label, 0.0\n"
     ]
    },
    {
     "data": {
      "image/png": "[encoded data removed]",
      "text/plain": [
       "<Figure size 432x288 with 2 Axes>"
      ]
     },
     "metadata": {
      "needs_background": "light"
     },
     "output_type": "display_data"
    },
    {
     "name": "stdout",
     "output_type": "stream",
     "text": [
      "sample 7   label, 0.0\n"
     ]
    },
    {
     "data": {
      "image/png": "[encoded data removed]",
      "text/plain": [
       "<Figure size 432x288 with 2 Axes>"
      ]
     },
     "metadata": {
      "needs_background": "light"
     },
     "output_type": "display_data"
    },
    {
     "name": "stdout",
     "output_type": "stream",
     "text": [
      "sample 8   label, 0.0\n"
     ]
    },
    {
     "data": {
      "image/png": "[encoded data removed]",
      "text/plain": [
       "<Figure size 432x288 with 2 Axes>"
      ]
     },
     "metadata": {
      "needs_background": "light"
     },
     "output_type": "display_data"
    },
    {
     "name": "stdout",
     "output_type": "stream",
     "text": [
      "sample 9   label, 1.0\n"
     ]
    },
    {
     "data": {
      "image/png": "[encoded data removed]",
      "text/plain": [
       "<Figure size 432x288 with 2 Axes>"
      ]
     },
     "metadata": {
      "needs_background": "light"
     },
     "output_type": "display_data"
    }
   ],
   "source": [
    "for i in range(10):\n",
    "    print(\"sample\", i, \"  label,\", dm.Y_train[i,0])\n",
    "    show_heat_map(test_pred[i,:,:])"
   ]
  },
  {
   "cell_type": "markdown",
   "metadata": {},
   "source": [
    "$\\;\\;\\;\\;\\;\\;\\;\\;\\;\\;\\;\\;\\;\\;$"
   ]
  },
  {
   "cell_type": "markdown",
   "metadata": {},
   "source": [
    "## 3.1 Supervised Multi-Layer Perceptron (MLP)"
   ]
  },
  {
   "cell_type": "markdown",
   "metadata": {},
   "source": [
    "[short description here]"
   ]
  },
  {
   "cell_type": "markdown",
   "metadata": {},
   "source": [
    "##### 3.1.1 Get simularity matrix from GCN and GNODE models"
   ]
  },
  {
   "cell_type": "code",
   "execution_count": 19,
   "metadata": {},
   "outputs": [],
   "source": [
    "sim_all = {}\n",
    "A = create_DAD(Araw)\n",
    "X_train = dm.X_train\n",
    "X_test = dm.X_test\n",
    "device_name = 'cpu'"
   ]
  },
  {
   "cell_type": "code",
   "execution_count": 20,
   "metadata": {},
   "outputs": [],
   "source": [
    "#Get simularity matrix from GCN\n",
    "GCNmodel.eval()\n",
    "sim_all[\"GCN_train\"] = GCNmodel(torch.from_numpy(X_train).float().to(device_name), torch.from_numpy(A).float().to(device_name)).cpu().detach().numpy()\n",
    "sim_all[\"GCN_test\"] = GCNmodel(torch.from_numpy(X_test).float().to(device_name), torch.from_numpy(A).float().to(device_name)).cpu().detach().numpy()"
   ]
  },
  {
   "cell_type": "code",
   "execution_count": 21,
   "metadata": {},
   "outputs": [],
   "source": [
    "#Get simularity matrix from GNODE\n",
    "GDEmodel.eval()\n",
    "sim_all[\"GDE_train\"] = GDEmodel(torch.from_numpy(X_train).float().to(device_name)).cpu().detach().numpy()\n",
    "sim_all[\"GDE_test\"] = GDEmodel(torch.from_numpy(X_test).float().to(device_name)).cpu().detach().numpy()"
   ]
  },
  {
   "cell_type": "markdown",
   "metadata": {},
   "source": [
    "##### 3.1.2 Visualize the averaged ictal and non-ictal states for the two models"
   ]
  },
  {
   "cell_type": "code",
   "execution_count": 22,
   "metadata": {},
   "outputs": [
    {
     "name": "stdout",
     "output_type": "stream",
     "text": [
      "Average Ictal and Non-Ictal Simularity Matrix for GCN\n",
      "Average ictal\n"
     ]
    },
    {
     "data": {
      "image/png": "[encoded data removed]",
      "text/plain": [
       "<Figure size 432x288 with 2 Axes>"
      ]
     },
     "metadata": {
      "needs_background": "light"
     },
     "output_type": "display_data"
    },
    {
     "name": "stdout",
     "output_type": "stream",
     "text": [
      "Average Non-Ictal\n"
     ]
    },
    {
     "data": {
      "image/png": "[encoded data removed]",
      "text/plain": [
       "<Figure size 432x288 with 2 Axes>"
      ]
     },
     "metadata": {
      "needs_background": "light"
     },
     "output_type": "display_data"
    }
   ],
   "source": [
    "print(\"Average Ictal and Non-Ictal Simularity Matrix for GCN\")\n",
    "visualize_avg_sim_matrix(dm, sim_all[\"GCN_train\"], sim_all[\"GCN_test\"])"
   ]
  },
  {
   "cell_type": "code",
   "execution_count": 23,
   "metadata": {},
   "outputs": [
    {
     "name": "stdout",
     "output_type": "stream",
     "text": [
      "Average Ictal and Non-Ictal Simularity Matrix for GDE\n",
      "Average ictal\n"
     ]
    },
    {
     "data": {
      "image/png": "[encoded data removed]",
      "text/plain": [
       "<Figure size 432x288 with 2 Axes>"
      ]
     },
     "metadata": {
      "needs_background": "light"
     },
     "output_type": "display_data"
    },
    {
     "name": "stdout",
     "output_type": "stream",
     "text": [
      "Average Non-Ictal\n"
     ]
    },
    {
     "data": {
      "image/png": "[encoded data removed]",
      "text/plain": [
       "<Figure size 432x288 with 2 Axes>"
      ]
     },
     "metadata": {
      "needs_background": "light"
     },
     "output_type": "display_data"
    }
   ],
   "source": [
    "print(\"Average Ictal and Non-Ictal Simularity Matrix for GDE\")\n",
    "visualize_avg_sim_matrix(dm, sim_all[\"GDE_train\"], sim_all[\"GDE_test\"])"
   ]
  },
  {
   "cell_type": "markdown",
   "metadata": {},
   "source": [
    "##### 3.1.3 MLP for GCN  "
   ]
  },
  {
   "cell_type": "markdown",
   "metadata": {},
   "source": [
    "###### Training"
   ]
  },
  {
   "cell_type": "code",
   "execution_count": 31,
   "metadata": {
    "collapsed": true,
    "jupyter": {
     "outputs_hidden": true
    }
   },
   "outputs": [
    {
     "name": "stdout",
     "output_type": "stream",
     "text": [
      "MLP(\n",
      "  (layers): ModuleList(\n",
      "    (0): Linear(in_features=276, out_features=138, bias=True)\n",
      "    (1): ReLU()\n",
      "    (2): Linear(in_features=138, out_features=1, bias=True)\n",
      "    (3): Sigmoid()\n",
      "  )\n",
      ")\n",
      "----------------------------------------------------------------\n",
      "        Layer (type)               Output Shape         Param #\n",
      "================================================================\n",
      "            Linear-1                  [-1, 138]          38,226\n",
      "              ReLU-2                  [-1, 138]               0\n",
      "            Linear-3                    [-1, 1]             139\n",
      "           Sigmoid-4                    [-1, 1]               0\n",
      "================================================================\n",
      "Total params: 38,365\n",
      "Trainable params: 38,365\n",
      "Non-trainable params: 0\n",
      "----------------------------------------------------------------\n",
      "Input size (MB): 0.00\n",
      "Forward/backward pass size (MB): 0.00\n",
      "Params size (MB): 0.15\n",
      "Estimated Total Size (MB): 0.15\n",
      "----------------------------------------------------------------\n",
      "Epoch: 1   Train loss: 0.3737   Train accuracy: 0.005   Val loss: 0.309   Val accuracy: 0.29    weighted Val loss: 0.309\n",
      "0.29 ----------saved-----------\n",
      "Epoch: 2   Train loss: 0.2835   Train accuracy: 0.0   Val loss: 0.2665   Val accuracy: 0.462    weighted Val loss: 0.3088\n",
      "0.462 ----------saved-----------\n",
      "Epoch: 3   Train loss: 0.2406   Train accuracy: 0.008   Val loss: 0.2407   Val accuracy: 0.525    weighted Val loss: 0.3084\n",
      "0.525 ----------saved-----------\n",
      "Epoch: 4   Train loss: 0.213   Train accuracy: 0.177   Val loss: 0.2183   Val accuracy: 0.576    weighted Val loss: 0.308\n",
      "0.576 ----------saved-----------\n",
      "Epoch: 5   Train loss: 0.1891   Train accuracy: 0.438   Val loss: 0.2024   Val accuracy: 0.6    weighted Val loss: 0.3074\n",
      "0.6 ----------saved-----------\n",
      "Epoch: 6   Train loss: 0.1696   Train accuracy: 0.559   Val loss: 0.1879   Val accuracy: 0.628    weighted Val loss: 0.3069\n",
      "0.628 ----------saved-----------\n",
      "Epoch: 7   Train loss: 0.1556   Train accuracy: 0.618   Val loss: 0.1793   Val accuracy: 0.641    weighted Val loss: 0.3062\n",
      "0.641 ----------saved-----------\n",
      "Epoch: 8   Train loss: 0.1438   Train accuracy: 0.691   Val loss: 0.1717   Val accuracy: 0.656    weighted Val loss: 0.3055\n",
      "0.656 ----------saved-----------\n",
      "Epoch: 9   Train loss: 0.1346   Train accuracy: 0.714   Val loss: 0.1665   Val accuracy: 0.679    weighted Val loss: 0.3048\n",
      "0.679 ----------saved-----------\n",
      "Epoch: 10   Train loss: 0.1285   Train accuracy: 0.72   Val loss: 0.1629   Val accuracy: 0.689    weighted Val loss: 0.3041\n",
      "0.689 ----------saved-----------\n",
      "Epoch: 11   Train loss: 0.1192   Train accuracy: 0.773   Val loss: 0.1595   Val accuracy: 0.685    weighted Val loss: 0.3034\n",
      "Epoch: 12   Train loss: 0.1128   Train accuracy: 0.791   Val loss: 0.1574   Val accuracy: 0.692    weighted Val loss: 0.3027\n",
      "0.692 ----------saved-----------\n",
      "Epoch: 13   Train loss: 0.1077   Train accuracy: 0.791   Val loss: 0.155   Val accuracy: 0.696    weighted Val loss: 0.3019\n",
      "0.696 ----------saved-----------\n",
      "Epoch: 14   Train loss: 0.1035   Train accuracy: 0.792   Val loss: 0.1546   Val accuracy: 0.692    weighted Val loss: 0.3012\n",
      "Epoch: 15   Train loss: 0.0986   Train accuracy: 0.823   Val loss: 0.1515   Val accuracy: 0.702    weighted Val loss: 0.3005\n",
      "0.702 ----------saved-----------\n",
      "Epoch: 16   Train loss: 0.0953   Train accuracy: 0.849   Val loss: 0.1509   Val accuracy: 0.699    weighted Val loss: 0.2997\n",
      "Epoch: 17   Train loss: 0.0918   Train accuracy: 0.813   Val loss: 0.1503   Val accuracy: 0.7    weighted Val loss: 0.299\n",
      "Epoch: 18   Train loss: 0.0886   Train accuracy: 0.84   Val loss: 0.1506   Val accuracy: 0.713    weighted Val loss: 0.2982\n",
      "0.713 ----------saved-----------\n",
      "Epoch: 19   Train loss: 0.0839   Train accuracy: 0.869   Val loss: 0.1484   Val accuracy: 0.706    weighted Val loss: 0.2975\n",
      "Epoch: 20   Train loss: 0.0807   Train accuracy: 0.863   Val loss: 0.146   Val accuracy: 0.706    weighted Val loss: 0.2967\n",
      "Epoch: 21   Train loss: 0.0775   Train accuracy: 0.886   Val loss: 0.1464   Val accuracy: 0.712    weighted Val loss: 0.296\n",
      "Epoch: 22   Train loss: 0.0748   Train accuracy: 0.891   Val loss: 0.1471   Val accuracy: 0.713    weighted Val loss: 0.2952\n",
      "0.713 ----------saved-----------\n",
      "Epoch: 23   Train loss: 0.0728   Train accuracy: 0.88   Val loss: 0.1449   Val accuracy: 0.716    weighted Val loss: 0.2945\n",
      "0.716 ----------saved-----------\n",
      "Epoch: 24   Train loss: 0.07   Train accuracy: 0.895   Val loss: 0.1439   Val accuracy: 0.718    weighted Val loss: 0.2937\n",
      "0.718 ----------saved-----------\n",
      "Epoch: 25   Train loss: 0.0674   Train accuracy: 0.91   Val loss: 0.1446   Val accuracy: 0.726    weighted Val loss: 0.293\n",
      "0.726 ----------saved-----------\n",
      "Epoch: 26   Train loss: 0.0664   Train accuracy: 0.905   Val loss: 0.1445   Val accuracy: 0.711    weighted Val loss: 0.2922\n",
      "Epoch: 27   Train loss: 0.0642   Train accuracy: 0.92   Val loss: 0.1446   Val accuracy: 0.724    weighted Val loss: 0.2915\n",
      "Epoch: 28   Train loss: 0.0625   Train accuracy: 0.929   Val loss: 0.1475   Val accuracy: 0.717    weighted Val loss: 0.2908\n",
      "Epoch: 29   Train loss: 0.0612   Train accuracy: 0.909   Val loss: 0.1426   Val accuracy: 0.72    weighted Val loss: 0.29\n",
      "Epoch: 30   Train loss: 0.0625   Train accuracy: 0.921   Val loss: 0.1461   Val accuracy: 0.732    weighted Val loss: 0.2893\n",
      "0.732 ----------saved-----------\n",
      "Epoch: 31   Train loss: 0.0599   Train accuracy: 0.904   Val loss: 0.1427   Val accuracy: 0.71    weighted Val loss: 0.2886\n",
      "Epoch: 32   Train loss: 0.0579   Train accuracy: 0.924   Val loss: 0.1465   Val accuracy: 0.727    weighted Val loss: 0.2879\n",
      "Epoch: 33   Train loss: 0.0551   Train accuracy: 0.925   Val loss: 0.1438   Val accuracy: 0.717    weighted Val loss: 0.2871\n",
      "Epoch: 34   Train loss: 0.0536   Train accuracy: 0.927   Val loss: 0.142   Val accuracy: 0.727    weighted Val loss: 0.2864\n",
      "Epoch: 35   Train loss: 0.0505   Train accuracy: 0.949   Val loss: 0.1417   Val accuracy: 0.723    weighted Val loss: 0.2857\n",
      "Epoch: 36   Train loss: 0.0496   Train accuracy: 0.945   Val loss: 0.1417   Val accuracy: 0.728    weighted Val loss: 0.285\n",
      "Epoch: 37   Train loss: 0.047   Train accuracy: 0.955   Val loss: 0.1455   Val accuracy: 0.74    weighted Val loss: 0.2843\n",
      "0.74 ----------saved-----------\n",
      "Epoch: 38   Train loss: 0.0497   Train accuracy: 0.948   Val loss: 0.1422   Val accuracy: 0.728    weighted Val loss: 0.2836\n",
      "Epoch: 39   Train loss: 0.048   Train accuracy: 0.951   Val loss: 0.1435   Val accuracy: 0.723    weighted Val loss: 0.2829\n",
      "Epoch: 40   Train loss: 0.0453   Train accuracy: 0.941   Val loss: 0.1406   Val accuracy: 0.741    weighted Val loss: 0.2822\n",
      "0.741 ----------saved-----------\n",
      "Epoch: 41   Train loss: 0.0435   Train accuracy: 0.958   Val loss: 0.1432   Val accuracy: 0.738    weighted Val loss: 0.2815\n",
      "Epoch: 42   Train loss: 0.0441   Train accuracy: 0.959   Val loss: 0.1435   Val accuracy: 0.733    weighted Val loss: 0.2808\n",
      "Epoch: 43   Train loss: 0.0431   Train accuracy: 0.968   Val loss: 0.146   Val accuracy: 0.743    weighted Val loss: 0.2801\n",
      "0.743 ----------saved-----------\n",
      "Epoch: 44   Train loss: 0.0434   Train accuracy: 0.959   Val loss: 0.1461   Val accuracy: 0.716    weighted Val loss: 0.2794\n",
      "Epoch: 45   Train loss: 0.0434   Train accuracy: 0.964   Val loss: 0.1428   Val accuracy: 0.726    weighted Val loss: 0.2787\n",
      "Epoch: 46   Train loss: 0.0414   Train accuracy: 0.962   Val loss: 0.1419   Val accuracy: 0.745    weighted Val loss: 0.2781\n",
      "0.745 ----------saved-----------\n",
      "Epoch: 47   Train loss: 0.0387   Train accuracy: 0.964   Val loss: 0.1405   Val accuracy: 0.741    weighted Val loss: 0.2774\n",
      "Epoch: 48   Train loss: 0.0383   Train accuracy: 0.969   Val loss: 0.1425   Val accuracy: 0.74    weighted Val loss: 0.2767\n",
      "Epoch: 49   Train loss: 0.0376   Train accuracy: 0.984   Val loss: 0.1421   Val accuracy: 0.741    weighted Val loss: 0.276\n",
      "Epoch: 50   Train loss: 0.0373   Train accuracy: 0.966   Val loss: 0.1425   Val accuracy: 0.74    weighted Val loss: 0.2754\n",
      "Epoch: 51   Train loss: 0.0367   Train accuracy: 0.977   Val loss: 0.1422   Val accuracy: 0.744    weighted Val loss: 0.2747\n",
      "Epoch: 52   Train loss: 0.0361   Train accuracy: 0.976   Val loss: 0.1448   Val accuracy: 0.732    weighted Val loss: 0.274\n",
      "Epoch: 53   Train loss: 0.0345   Train accuracy: 0.975   Val loss: 0.1427   Val accuracy: 0.731    weighted Val loss: 0.2734\n",
      "Epoch: 54   Train loss: 0.0355   Train accuracy: 0.981   Val loss: 0.145   Val accuracy: 0.728    weighted Val loss: 0.2727\n",
      "Epoch: 55   Train loss: 0.0362   Train accuracy: 0.976   Val loss: 0.1418   Val accuracy: 0.749    weighted Val loss: 0.2721\n",
      "0.749 ----------saved-----------\n",
      "Epoch: 56   Train loss: 0.0365   Train accuracy: 0.977   Val loss: 0.143   Val accuracy: 0.735    weighted Val loss: 0.2714\n",
      "Epoch: 57   Train loss: 0.0339   Train accuracy: 0.977   Val loss: 0.1437   Val accuracy: 0.74    weighted Val loss: 0.2708\n",
      "Epoch: 58   Train loss: 0.0363   Train accuracy: 0.974   Val loss: 0.1441   Val accuracy: 0.738    weighted Val loss: 0.2702\n",
      "Epoch: 59   Train loss: 0.034   Train accuracy: 0.978   Val loss: 0.1443   Val accuracy: 0.729    weighted Val loss: 0.2695\n",
      "Epoch: 60   Train loss: 0.0337   Train accuracy: 0.981   Val loss: 0.141   Val accuracy: 0.731    weighted Val loss: 0.2689\n",
      "Epoch: 61   Train loss: 0.0329   Train accuracy: 0.975   Val loss: 0.141   Val accuracy: 0.743    weighted Val loss: 0.2683\n",
      "Epoch: 62   Train loss: 0.0305   Train accuracy: 0.988   Val loss: 0.1409   Val accuracy: 0.744    weighted Val loss: 0.2676\n",
      "Epoch: 63   Train loss: 0.0306   Train accuracy: 0.989   Val loss: 0.1413   Val accuracy: 0.747    weighted Val loss: 0.267\n",
      "Epoch: 64   Train loss: 0.0303   Train accuracy: 0.984   Val loss: 0.1435   Val accuracy: 0.737    weighted Val loss: 0.2664\n",
      "Epoch: 65   Train loss: 0.0311   Train accuracy: 0.985   Val loss: 0.1431   Val accuracy: 0.739    weighted Val loss: 0.2658\n",
      "Epoch: 66   Train loss: 0.0312   Train accuracy: 0.983   Val loss: 0.1415   Val accuracy: 0.738    weighted Val loss: 0.2651\n",
      "Epoch: 67   Train loss: 0.0324   Train accuracy: 0.979   Val loss: 0.1478   Val accuracy: 0.74    weighted Val loss: 0.2646\n",
      "Epoch: 68   Train loss: 0.0299   Train accuracy: 0.986   Val loss: 0.1418   Val accuracy: 0.757    weighted Val loss: 0.2639\n",
      "0.757 ----------saved-----------\n",
      "Epoch: 69   Train loss: 0.0291   Train accuracy: 0.985   Val loss: 0.1407   Val accuracy: 0.746    weighted Val loss: 0.2633\n",
      "Epoch: 70   Train loss: 0.0282   Train accuracy: 0.993   Val loss: 0.1421   Val accuracy: 0.748    weighted Val loss: 0.2627\n",
      "Epoch: 71   Train loss: 0.0294   Train accuracy: 0.981   Val loss: 0.1407   Val accuracy: 0.742    weighted Val loss: 0.2621\n",
      "Epoch: 72   Train loss: 0.0286   Train accuracy: 0.988   Val loss: 0.1459   Val accuracy: 0.738    weighted Val loss: 0.2615\n",
      "Epoch: 73   Train loss: 0.0292   Train accuracy: 0.989   Val loss: 0.1419   Val accuracy: 0.735    weighted Val loss: 0.2609\n",
      "Epoch: 74   Train loss: 0.0281   Train accuracy: 0.991   Val loss: 0.1446   Val accuracy: 0.743    weighted Val loss: 0.2603\n",
      "Epoch: 75   Train loss: 0.029   Train accuracy: 0.986   Val loss: 0.1429   Val accuracy: 0.737    weighted Val loss: 0.2598\n",
      "Epoch: 76   Train loss: 0.0293   Train accuracy: 0.988   Val loss: 0.1414   Val accuracy: 0.741    weighted Val loss: 0.2592\n",
      "Epoch: 77   Train loss: 0.028   Train accuracy: 0.989   Val loss: 0.1446   Val accuracy: 0.729    weighted Val loss: 0.2586\n",
      "Epoch: 78   Train loss: 0.028   Train accuracy: 0.993   Val loss: 0.1408   Val accuracy: 0.741    weighted Val loss: 0.258\n",
      "Epoch: 79   Train loss: 0.0276   Train accuracy: 0.991   Val loss: 0.1471   Val accuracy: 0.744    weighted Val loss: 0.2574\n",
      "Epoch: 80   Train loss: 0.0309   Train accuracy: 0.986   Val loss: 0.1406   Val accuracy: 0.763    weighted Val loss: 0.2569\n",
      "0.763 ----------saved-----------\n",
      "Epoch: 81   Train loss: 0.0277   Train accuracy: 0.987   Val loss: 0.1455   Val accuracy: 0.727    weighted Val loss: 0.2563\n",
      "Epoch: 82   Train loss: 0.0273   Train accuracy: 0.989   Val loss: 0.1432   Val accuracy: 0.75    weighted Val loss: 0.2557\n",
      "Epoch: 83   Train loss: 0.028   Train accuracy: 0.979   Val loss: 0.145   Val accuracy: 0.744    weighted Val loss: 0.2552\n",
      "Epoch: 84   Train loss: 0.0269   Train accuracy: 0.987   Val loss: 0.1399   Val accuracy: 0.749    weighted Val loss: 0.2546\n",
      "Epoch: 85   Train loss: 0.0277   Train accuracy: 0.988   Val loss: 0.148   Val accuracy: 0.748    weighted Val loss: 0.2541\n",
      "Epoch: 86   Train loss: 0.0293   Train accuracy: 0.974   Val loss: 0.143   Val accuracy: 0.745    weighted Val loss: 0.2535\n",
      "Epoch: 87   Train loss: 0.0277   Train accuracy: 0.992   Val loss: 0.1439   Val accuracy: 0.745    weighted Val loss: 0.253\n",
      "Epoch: 88   Train loss: 0.0252   Train accuracy: 0.99   Val loss: 0.141   Val accuracy: 0.74    weighted Val loss: 0.2524\n",
      "Epoch: 89   Train loss: 0.0251   Train accuracy: 0.994   Val loss: 0.1384   Val accuracy: 0.75    weighted Val loss: 0.2518\n",
      "Epoch: 90   Train loss: 0.0252   Train accuracy: 0.996   Val loss: 0.1409   Val accuracy: 0.739    weighted Val loss: 0.2513\n",
      "Epoch: 91   Train loss: 0.025   Train accuracy: 0.997   Val loss: 0.1398   Val accuracy: 0.75    weighted Val loss: 0.2507\n",
      "Epoch: 92   Train loss: 0.0273   Train accuracy: 0.991   Val loss: 0.1433   Val accuracy: 0.75    weighted Val loss: 0.2502\n",
      "Epoch: 93   Train loss: 0.0254   Train accuracy: 0.992   Val loss: 0.1415   Val accuracy: 0.751    weighted Val loss: 0.2497\n",
      "Epoch: 94   Train loss: 0.0261   Train accuracy: 0.992   Val loss: 0.1428   Val accuracy: 0.745    weighted Val loss: 0.2491\n",
      "Epoch: 95   Train loss: 0.0252   Train accuracy: 0.991   Val loss: 0.1384   Val accuracy: 0.749    weighted Val loss: 0.2486\n",
      "Epoch: 96   Train loss: 0.0245   Train accuracy: 0.994   Val loss: 0.1455   Val accuracy: 0.741    weighted Val loss: 0.248\n",
      "Epoch: 97   Train loss: 0.0247   Train accuracy: 0.99   Val loss: 0.1414   Val accuracy: 0.758    weighted Val loss: 0.2475\n",
      "Epoch: 98   Train loss: 0.0238   Train accuracy: 0.994   Val loss: 0.1436   Val accuracy: 0.736    weighted Val loss: 0.247\n",
      "Epoch: 99   Train loss: 0.025   Train accuracy: 0.994   Val loss: 0.1392   Val accuracy: 0.748    weighted Val loss: 0.2465\n",
      "Epoch: 100   Train loss: 0.0254   Train accuracy: 0.989   Val loss: 0.1384   Val accuracy: 0.74    weighted Val loss: 0.2459\n",
      "Epoch: 101   Train loss: 0.0255   Train accuracy: 0.986   Val loss: 0.1411   Val accuracy: 0.742    weighted Val loss: 0.2454\n",
      "Epoch: 102   Train loss: 0.0254   Train accuracy: 0.991   Val loss: 0.1445   Val accuracy: 0.746    weighted Val loss: 0.2449\n",
      "Epoch: 103   Train loss: 0.0249   Train accuracy: 0.995   Val loss: 0.1401   Val accuracy: 0.753    weighted Val loss: 0.2444\n",
      "Epoch: 104   Train loss: 0.0248   Train accuracy: 0.99   Val loss: 0.1448   Val accuracy: 0.745    weighted Val loss: 0.2439\n",
      "Epoch: 105   Train loss: 0.0257   Train accuracy: 0.989   Val loss: 0.142   Val accuracy: 0.749    weighted Val loss: 0.2434\n",
      "Epoch: 106   Train loss: 0.0251   Train accuracy: 0.992   Val loss: 0.1393   Val accuracy: 0.748    weighted Val loss: 0.2428\n",
      "Epoch: 107   Train loss: 0.0235   Train accuracy: 0.991   Val loss: 0.1411   Val accuracy: 0.751    weighted Val loss: 0.2423\n",
      "Epoch: 108   Train loss: 0.0254   Train accuracy: 0.995   Val loss: 0.1437   Val accuracy: 0.747    weighted Val loss: 0.2418\n",
      "Epoch: 109   Train loss: 0.0231   Train accuracy: 0.996   Val loss: 0.1384   Val accuracy: 0.753    weighted Val loss: 0.2413\n",
      "Epoch: 110   Train loss: 0.0233   Train accuracy: 0.995   Val loss: 0.1409   Val accuracy: 0.747    weighted Val loss: 0.2408\n",
      "Epoch: 111   Train loss: 0.0242   Train accuracy: 0.993   Val loss: 0.144   Val accuracy: 0.747    weighted Val loss: 0.2403\n",
      "Epoch: 112   Train loss: 0.0241   Train accuracy: 0.993   Val loss: 0.1427   Val accuracy: 0.751    weighted Val loss: 0.2398\n",
      "Epoch: 113   Train loss: 0.0246   Train accuracy: 0.994   Val loss: 0.1408   Val accuracy: 0.746    weighted Val loss: 0.2393\n",
      "Epoch: 114   Train loss: 0.0233   Train accuracy: 0.998   Val loss: 0.1433   Val accuracy: 0.744    weighted Val loss: 0.2389\n",
      "Epoch: 115   Train loss: 0.0231   Train accuracy: 0.994   Val loss: 0.1429   Val accuracy: 0.753    weighted Val loss: 0.2384\n",
      "Epoch: 116   Train loss: 0.023   Train accuracy: 0.994   Val loss: 0.1425   Val accuracy: 0.742    weighted Val loss: 0.2379\n",
      "Epoch: 117   Train loss: 0.0234   Train accuracy: 0.991   Val loss: 0.1405   Val accuracy: 0.754    weighted Val loss: 0.2374\n",
      "Epoch: 118   Train loss: 0.0243   Train accuracy: 0.996   Val loss: 0.1463   Val accuracy: 0.743    weighted Val loss: 0.237\n",
      "Epoch: 119   Train loss: 0.0237   Train accuracy: 0.991   Val loss: 0.1402   Val accuracy: 0.747    weighted Val loss: 0.2365\n",
      "Epoch: 120   Train loss: 0.0237   Train accuracy: 0.994   Val loss: 0.14   Val accuracy: 0.754    weighted Val loss: 0.236\n",
      "Epoch: 121   Train loss: 0.024   Train accuracy: 0.997   Val loss: 0.1401   Val accuracy: 0.744    weighted Val loss: 0.2355\n",
      "Epoch: 122   Train loss: 0.0229   Train accuracy: 0.996   Val loss: 0.1404   Val accuracy: 0.756    weighted Val loss: 0.235\n",
      "Epoch: 123   Train loss: 0.0222   Train accuracy: 0.994   Val loss: 0.1389   Val accuracy: 0.751    weighted Val loss: 0.2346\n",
      "Epoch: 124   Train loss: 0.022   Train accuracy: 0.995   Val loss: 0.1372   Val accuracy: 0.746    weighted Val loss: 0.2341\n",
      "Epoch: 125   Train loss: 0.0223   Train accuracy: 0.998   Val loss: 0.1392   Val accuracy: 0.754    weighted Val loss: 0.2336\n",
      "Epoch: 126   Train loss: 0.0228   Train accuracy: 0.997   Val loss: 0.1384   Val accuracy: 0.747    weighted Val loss: 0.2331\n",
      "Epoch: 127   Train loss: 0.0222   Train accuracy: 0.998   Val loss: 0.1391   Val accuracy: 0.752    weighted Val loss: 0.2327\n",
      "Epoch: 128   Train loss: 0.0238   Train accuracy: 0.993   Val loss: 0.1508   Val accuracy: 0.749    weighted Val loss: 0.2322\n",
      "Epoch: 129   Train loss: 0.0272   Train accuracy: 0.985   Val loss: 0.1438   Val accuracy: 0.749    weighted Val loss: 0.2318\n",
      "Epoch: 130   Train loss: 0.0259   Train accuracy: 0.988   Val loss: 0.1453   Val accuracy: 0.739    weighted Val loss: 0.2314\n",
      "Epoch: 131   Train loss: 0.023   Train accuracy: 0.995   Val loss: 0.1444   Val accuracy: 0.751    weighted Val loss: 0.2309\n",
      "Epoch: 132   Train loss: 0.0234   Train accuracy: 0.996   Val loss: 0.1429   Val accuracy: 0.739    weighted Val loss: 0.2305\n",
      "Epoch: 133   Train loss: 0.0234   Train accuracy: 0.99   Val loss: 0.1391   Val accuracy: 0.753    weighted Val loss: 0.23\n",
      "Epoch: 134   Train loss: 0.0238   Train accuracy: 0.989   Val loss: 0.1423   Val accuracy: 0.754    weighted Val loss: 0.2296\n",
      "Epoch: 135   Train loss: 0.0229   Train accuracy: 0.993   Val loss: 0.1395   Val accuracy: 0.752    weighted Val loss: 0.2292\n",
      "Epoch: 136   Train loss: 0.0221   Train accuracy: 0.993   Val loss: 0.1391   Val accuracy: 0.748    weighted Val loss: 0.2287\n",
      "Epoch: 137   Train loss: 0.0228   Train accuracy: 0.992   Val loss: 0.1414   Val accuracy: 0.743    weighted Val loss: 0.2283\n",
      "Epoch: 138   Train loss: 0.023   Train accuracy: 0.992   Val loss: 0.1416   Val accuracy: 0.753    weighted Val loss: 0.2278\n",
      "Epoch: 139   Train loss: 0.0225   Train accuracy: 0.996   Val loss: 0.1394   Val accuracy: 0.755    weighted Val loss: 0.2274\n",
      "Epoch: 140   Train loss: 0.0217   Train accuracy: 0.992   Val loss: 0.1429   Val accuracy: 0.746    weighted Val loss: 0.227\n",
      "Epoch: 141   Train loss: 0.024   Train accuracy: 0.984   Val loss: 0.1437   Val accuracy: 0.751    weighted Val loss: 0.2265\n",
      "Epoch: 142   Train loss: 0.0232   Train accuracy: 0.994   Val loss: 0.1392   Val accuracy: 0.756    weighted Val loss: 0.2261\n",
      "Epoch: 143   Train loss: 0.0219   Train accuracy: 0.998   Val loss: 0.1393   Val accuracy: 0.75    weighted Val loss: 0.2257\n",
      "Epoch: 144   Train loss: 0.0215   Train accuracy: 0.993   Val loss: 0.1367   Val accuracy: 0.753    weighted Val loss: 0.2252\n",
      "Epoch: 145   Train loss: 0.0216   Train accuracy: 0.997   Val loss: 0.1413   Val accuracy: 0.755    weighted Val loss: 0.2248\n",
      "Epoch: 146   Train loss: 0.0218   Train accuracy: 0.996   Val loss: 0.1387   Val accuracy: 0.745    weighted Val loss: 0.2244\n",
      "Epoch: 147   Train loss: 0.0224   Train accuracy: 0.993   Val loss: 0.1441   Val accuracy: 0.743    weighted Val loss: 0.224\n",
      "Epoch: 148   Train loss: 0.0256   Train accuracy: 0.99   Val loss: 0.1436   Val accuracy: 0.75    weighted Val loss: 0.2236\n",
      "Epoch: 149   Train loss: 0.0234   Train accuracy: 0.994   Val loss: 0.1407   Val accuracy: 0.754    weighted Val loss: 0.2232\n",
      "Epoch: 150   Train loss: 0.0222   Train accuracy: 0.992   Val loss: 0.1416   Val accuracy: 0.757    weighted Val loss: 0.2228\n",
      "Epoch: 151   Train loss: 0.022   Train accuracy: 0.998   Val loss: 0.14   Val accuracy: 0.744    weighted Val loss: 0.2223\n",
      "Epoch: 152   Train loss: 0.0221   Train accuracy: 0.993   Val loss: 0.1392   Val accuracy: 0.746    weighted Val loss: 0.2219\n",
      "Epoch: 153   Train loss: 0.0217   Train accuracy: 0.996   Val loss: 0.1409   Val accuracy: 0.748    weighted Val loss: 0.2215\n",
      "Epoch: 154   Train loss: 0.022   Train accuracy: 0.994   Val loss: 0.14   Val accuracy: 0.746    weighted Val loss: 0.2211\n",
      "Epoch: 155   Train loss: 0.0209   Train accuracy: 0.997   Val loss: 0.1389   Val accuracy: 0.75    weighted Val loss: 0.2207\n",
      "Epoch: 156   Train loss: 0.023   Train accuracy: 0.994   Val loss: 0.1428   Val accuracy: 0.748    weighted Val loss: 0.2203\n",
      "Epoch: 157   Train loss: 0.0262   Train accuracy: 0.988   Val loss: 0.1401   Val accuracy: 0.74    weighted Val loss: 0.2199\n",
      "Epoch: 158   Train loss: 0.0224   Train accuracy: 0.994   Val loss: 0.1438   Val accuracy: 0.752    weighted Val loss: 0.2195\n",
      "Epoch: 159   Train loss: 0.0225   Train accuracy: 0.996   Val loss: 0.1401   Val accuracy: 0.755    weighted Val loss: 0.2191\n",
      "Epoch: 160   Train loss: 0.0216   Train accuracy: 0.996   Val loss: 0.1393   Val accuracy: 0.748    weighted Val loss: 0.2187\n",
      "Epoch: 161   Train loss: 0.0223   Train accuracy: 0.99   Val loss: 0.1407   Val accuracy: 0.751    weighted Val loss: 0.2183\n",
      "Epoch: 162   Train loss: 0.0212   Train accuracy: 0.998   Val loss: 0.1386   Val accuracy: 0.749    weighted Val loss: 0.2179\n",
      "Epoch: 163   Train loss: 0.0219   Train accuracy: 0.996   Val loss: 0.1415   Val accuracy: 0.749    weighted Val loss: 0.2176\n",
      "Epoch: 164   Train loss: 0.0223   Train accuracy: 0.989   Val loss: 0.1394   Val accuracy: 0.756    weighted Val loss: 0.2172\n",
      "Epoch: 165   Train loss: 0.0218   Train accuracy: 0.996   Val loss: 0.1414   Val accuracy: 0.742    weighted Val loss: 0.2168\n",
      "Epoch: 166   Train loss: 0.0223   Train accuracy: 0.988   Val loss: 0.1393   Val accuracy: 0.753    weighted Val loss: 0.2164\n",
      "Epoch: 167   Train loss: 0.0233   Train accuracy: 0.993   Val loss: 0.1425   Val accuracy: 0.762    weighted Val loss: 0.216\n",
      "Epoch: 168   Train loss: 0.0233   Train accuracy: 0.994   Val loss: 0.1406   Val accuracy: 0.753    weighted Val loss: 0.2157\n",
      "Epoch: 169   Train loss: 0.0224   Train accuracy: 0.997   Val loss: 0.1405   Val accuracy: 0.754    weighted Val loss: 0.2153\n",
      "Epoch: 170   Train loss: 0.0213   Train accuracy: 0.998   Val loss: 0.1427   Val accuracy: 0.743    weighted Val loss: 0.2149\n",
      "Epoch: 171   Train loss: 0.0224   Train accuracy: 0.998   Val loss: 0.1389   Val accuracy: 0.752    weighted Val loss: 0.2145\n",
      "Epoch: 172   Train loss: 0.024   Train accuracy: 0.991   Val loss: 0.1461   Val accuracy: 0.738    weighted Val loss: 0.2142\n",
      "Epoch: 173   Train loss: 0.0238   Train accuracy: 0.995   Val loss: 0.1403   Val accuracy: 0.758    weighted Val loss: 0.2138\n",
      "Epoch: 174   Train loss: 0.0212   Train accuracy: 0.995   Val loss: 0.1422   Val accuracy: 0.75    weighted Val loss: 0.2135\n",
      "Epoch: 175   Train loss: 0.0219   Train accuracy: 0.995   Val loss: 0.1395   Val accuracy: 0.746    weighted Val loss: 0.2131\n",
      "Epoch: 176   Train loss: 0.0225   Train accuracy: 0.995   Val loss: 0.1399   Val accuracy: 0.751    weighted Val loss: 0.2127\n",
      "Epoch: 177   Train loss: 0.0219   Train accuracy: 0.994   Val loss: 0.1394   Val accuracy: 0.757    weighted Val loss: 0.2124\n",
      "Epoch: 178   Train loss: 0.0216   Train accuracy: 0.994   Val loss: 0.1411   Val accuracy: 0.752    weighted Val loss: 0.212\n",
      "Epoch: 179   Train loss: 0.0216   Train accuracy: 0.997   Val loss: 0.1444   Val accuracy: 0.744    weighted Val loss: 0.2117\n",
      "Epoch: 180   Train loss: 0.0235   Train accuracy: 0.995   Val loss: 0.1445   Val accuracy: 0.757    weighted Val loss: 0.2113\n",
      "Epoch: 181   Train loss: 0.0251   Train accuracy: 0.991   Val loss: 0.148   Val accuracy: 0.742    weighted Val loss: 0.211\n",
      "Epoch: 182   Train loss: 0.0224   Train accuracy: 0.995   Val loss: 0.1386   Val accuracy: 0.758    weighted Val loss: 0.2107\n",
      "Epoch: 183   Train loss: 0.0219   Train accuracy: 0.993   Val loss: 0.1424   Val accuracy: 0.745    weighted Val loss: 0.2103\n",
      "Epoch: 184   Train loss: 0.0228   Train accuracy: 0.991   Val loss: 0.1437   Val accuracy: 0.752    weighted Val loss: 0.21\n",
      "Epoch: 185   Train loss: 0.0216   Train accuracy: 0.994   Val loss: 0.1416   Val accuracy: 0.758    weighted Val loss: 0.2096\n",
      "Epoch: 186   Train loss: 0.0226   Train accuracy: 0.994   Val loss: 0.1398   Val accuracy: 0.756    weighted Val loss: 0.2093\n",
      "Epoch: 187   Train loss: 0.0211   Train accuracy: 0.998   Val loss: 0.144   Val accuracy: 0.74    weighted Val loss: 0.209\n",
      "Epoch: 188   Train loss: 0.0222   Train accuracy: 0.999   Val loss: 0.14   Val accuracy: 0.758    weighted Val loss: 0.2086\n",
      "Epoch: 189   Train loss: 0.0221   Train accuracy: 0.994   Val loss: 0.1404   Val accuracy: 0.745    weighted Val loss: 0.2083\n",
      "Epoch: 190   Train loss: 0.0209   Train accuracy: 0.996   Val loss: 0.143   Val accuracy: 0.757    weighted Val loss: 0.208\n",
      "Epoch: 191   Train loss: 0.0217   Train accuracy: 0.997   Val loss: 0.1399   Val accuracy: 0.753    weighted Val loss: 0.2076\n",
      "Epoch: 192   Train loss: 0.022   Train accuracy: 0.997   Val loss: 0.1398   Val accuracy: 0.754    weighted Val loss: 0.2073\n",
      "Epoch: 193   Train loss: 0.0215   Train accuracy: 0.994   Val loss: 0.1393   Val accuracy: 0.752    weighted Val loss: 0.2069\n",
      "Epoch: 194   Train loss: 0.0216   Train accuracy: 0.995   Val loss: 0.1395   Val accuracy: 0.753    weighted Val loss: 0.2066\n",
      "Epoch: 195   Train loss: 0.0219   Train accuracy: 0.996   Val loss: 0.1398   Val accuracy: 0.747    weighted Val loss: 0.2063\n",
      "Epoch: 196   Train loss: 0.0248   Train accuracy: 0.991   Val loss: 0.141   Val accuracy: 0.745    weighted Val loss: 0.2059\n",
      "Epoch: 197   Train loss: 0.0243   Train accuracy: 0.992   Val loss: 0.1466   Val accuracy: 0.743    weighted Val loss: 0.2056\n",
      "Epoch: 198   Train loss: 0.0225   Train accuracy: 0.993   Val loss: 0.1421   Val accuracy: 0.744    weighted Val loss: 0.2053\n",
      "Epoch: 199   Train loss: 0.0232   Train accuracy: 0.995   Val loss: 0.145   Val accuracy: 0.747    weighted Val loss: 0.205\n",
      "Epoch: 200   Train loss: 0.0216   Train accuracy: 0.994   Val loss: 0.1394   Val accuracy: 0.754    weighted Val loss: 0.2047\n",
      "Epoch: 201   Train loss: 0.022   Train accuracy: 0.996   Val loss: 0.1387   Val accuracy: 0.738    weighted Val loss: 0.2044\n",
      "Epoch: 202   Train loss: 0.0209   Train accuracy: 0.997   Val loss: 0.1395   Val accuracy: 0.755    weighted Val loss: 0.204\n",
      "Epoch: 203   Train loss: 0.0225   Train accuracy: 0.995   Val loss: 0.1405   Val accuracy: 0.751    weighted Val loss: 0.2037\n",
      "Epoch: 204   Train loss: 0.0231   Train accuracy: 0.997   Val loss: 0.1401   Val accuracy: 0.741    weighted Val loss: 0.2034\n",
      "Epoch: 205   Train loss: 0.0214   Train accuracy: 0.995   Val loss: 0.1382   Val accuracy: 0.753    weighted Val loss: 0.2031\n",
      "Epoch: 206   Train loss: 0.0209   Train accuracy: 0.994   Val loss: 0.1417   Val accuracy: 0.746    weighted Val loss: 0.2028\n",
      "Epoch: 207   Train loss: 0.0223   Train accuracy: 0.996   Val loss: 0.1389   Val accuracy: 0.754    weighted Val loss: 0.2025\n",
      "Epoch: 208   Train loss: 0.0215   Train accuracy: 0.996   Val loss: 0.1406   Val accuracy: 0.749    weighted Val loss: 0.2021\n",
      "Epoch: 209   Train loss: 0.0222   Train accuracy: 0.99   Val loss: 0.139   Val accuracy: 0.753    weighted Val loss: 0.2018\n",
      "Epoch: 210   Train loss: 0.0233   Train accuracy: 0.996   Val loss: 0.1398   Val accuracy: 0.746    weighted Val loss: 0.2015\n",
      "Epoch: 211   Train loss: 0.0217   Train accuracy: 0.993   Val loss: 0.139   Val accuracy: 0.752    weighted Val loss: 0.2012\n",
      "Epoch: 212   Train loss: 0.0213   Train accuracy: 0.996   Val loss: 0.1379   Val accuracy: 0.756    weighted Val loss: 0.2009\n",
      "Epoch: 213   Train loss: 0.0211   Train accuracy: 0.993   Val loss: 0.1422   Val accuracy: 0.742    weighted Val loss: 0.2006\n",
      "Epoch: 214   Train loss: 0.0217   Train accuracy: 0.998   Val loss: 0.1385   Val accuracy: 0.759    weighted Val loss: 0.2003\n",
      "Epoch: 215   Train loss: 0.0231   Train accuracy: 0.996   Val loss: 0.1398   Val accuracy: 0.749    weighted Val loss: 0.2\n",
      "Epoch: 216   Train loss: 0.0214   Train accuracy: 0.995   Val loss: 0.1431   Val accuracy: 0.737    weighted Val loss: 0.1997\n",
      "Epoch: 217   Train loss: 0.0218   Train accuracy: 0.996   Val loss: 0.139   Val accuracy: 0.748    weighted Val loss: 0.1994\n",
      "Epoch: 218   Train loss: 0.0228   Train accuracy: 0.993   Val loss: 0.1432   Val accuracy: 0.74    weighted Val loss: 0.1991\n",
      "Epoch: 219   Train loss: 0.0229   Train accuracy: 0.989   Val loss: 0.1399   Val accuracy: 0.748    weighted Val loss: 0.1988\n",
      "Epoch: 220   Train loss: 0.0216   Train accuracy: 0.995   Val loss: 0.1387   Val accuracy: 0.763    weighted Val loss: 0.1985\n",
      "Epoch: 221   Train loss: 0.0212   Train accuracy: 0.993   Val loss: 0.1395   Val accuracy: 0.747    weighted Val loss: 0.1982\n",
      "Epoch: 222   Train loss: 0.0227   Train accuracy: 0.995   Val loss: 0.1412   Val accuracy: 0.75    weighted Val loss: 0.1979\n",
      "Epoch: 223   Train loss: 0.0218   Train accuracy: 0.996   Val loss: 0.1396   Val accuracy: 0.754    weighted Val loss: 0.1976\n",
      "Epoch: 224   Train loss: 0.0217   Train accuracy: 0.996   Val loss: 0.1413   Val accuracy: 0.756    weighted Val loss: 0.1974\n",
      "Epoch: 225   Train loss: 0.0212   Train accuracy: 0.994   Val loss: 0.139   Val accuracy: 0.746    weighted Val loss: 0.1971\n",
      "Epoch: 226   Train loss: 0.021   Train accuracy: 0.996   Val loss: 0.1383   Val accuracy: 0.751    weighted Val loss: 0.1968\n",
      "Epoch: 227   Train loss: 0.0213   Train accuracy: 0.997   Val loss: 0.1387   Val accuracy: 0.755    weighted Val loss: 0.1965\n",
      "Epoch: 228   Train loss: 0.0211   Train accuracy: 0.998   Val loss: 0.1385   Val accuracy: 0.76    weighted Val loss: 0.1962\n",
      "Epoch: 229   Train loss: 0.0212   Train accuracy: 0.995   Val loss: 0.138   Val accuracy: 0.761    weighted Val loss: 0.1959\n",
      "Epoch: 230   Train loss: 0.021   Train accuracy: 0.999   Val loss: 0.1383   Val accuracy: 0.75    weighted Val loss: 0.1956\n",
      "Epoch: 231   Train loss: 0.0212   Train accuracy: 0.996   Val loss: 0.1356   Val accuracy: 0.754    weighted Val loss: 0.1953\n",
      "Epoch: 232   Train loss: 0.0211   Train accuracy: 0.998   Val loss: 0.1416   Val accuracy: 0.755    weighted Val loss: 0.195\n",
      "Epoch: 233   Train loss: 0.0214   Train accuracy: 0.998   Val loss: 0.1373   Val accuracy: 0.755    weighted Val loss: 0.1948\n",
      "Epoch: 234   Train loss: 0.0223   Train accuracy: 0.996   Val loss: 0.1428   Val accuracy: 0.751    weighted Val loss: 0.1945\n",
      "Epoch: 235   Train loss: 0.0228   Train accuracy: 0.994   Val loss: 0.1397   Val accuracy: 0.76    weighted Val loss: 0.1942\n",
      "Epoch: 236   Train loss: 0.0225   Train accuracy: 0.996   Val loss: 0.1437   Val accuracy: 0.758    weighted Val loss: 0.194\n",
      "Epoch: 237   Train loss: 0.0224   Train accuracy: 0.995   Val loss: 0.1379   Val accuracy: 0.759    weighted Val loss: 0.1937\n",
      "Epoch: 238   Train loss: 0.0212   Train accuracy: 0.998   Val loss: 0.1416   Val accuracy: 0.768    weighted Val loss: 0.1934\n",
      "0.768 ----------saved-----------\n",
      "Epoch: 239   Train loss: 0.0224   Train accuracy: 0.99   Val loss: 0.1392   Val accuracy: 0.751    weighted Val loss: 0.1932\n",
      "Epoch: 240   Train loss: 0.0215   Train accuracy: 0.994   Val loss: 0.1383   Val accuracy: 0.762    weighted Val loss: 0.1929\n",
      "Epoch: 241   Train loss: 0.0217   Train accuracy: 0.998   Val loss: 0.1399   Val accuracy: 0.757    weighted Val loss: 0.1926\n",
      "Epoch: 242   Train loss: 0.0214   Train accuracy: 0.998   Val loss: 0.1374   Val accuracy: 0.748    weighted Val loss: 0.1923\n",
      "Epoch: 243   Train loss: 0.0216   Train accuracy: 0.996   Val loss: 0.1361   Val accuracy: 0.757    weighted Val loss: 0.1921\n",
      "Epoch: 244   Train loss: 0.0212   Train accuracy: 0.996   Val loss: 0.14   Val accuracy: 0.752    weighted Val loss: 0.1918\n",
      "Epoch: 245   Train loss: 0.0205   Train accuracy: 0.996   Val loss: 0.1382   Val accuracy: 0.768    weighted Val loss: 0.1915\n",
      "Epoch: 246   Train loss: 0.0204   Train accuracy: 0.998   Val loss: 0.1382   Val accuracy: 0.749    weighted Val loss: 0.1913\n",
      "Epoch: 247   Train loss: 0.0211   Train accuracy: 0.994   Val loss: 0.1361   Val accuracy: 0.751    weighted Val loss: 0.191\n",
      "Epoch: 248   Train loss: 0.023   Train accuracy: 0.993   Val loss: 0.142   Val accuracy: 0.757    weighted Val loss: 0.1907\n",
      "Epoch: 249   Train loss: 0.0218   Train accuracy: 0.999   Val loss: 0.1388   Val accuracy: 0.758    weighted Val loss: 0.1905\n",
      "Epoch: 250   Train loss: 0.0222   Train accuracy: 0.995   Val loss: 0.1381   Val accuracy: 0.752    weighted Val loss: 0.1902\n",
      "Epoch: 251   Train loss: 0.0228   Train accuracy: 0.993   Val loss: 0.141   Val accuracy: 0.75    weighted Val loss: 0.19\n",
      "Epoch: 252   Train loss: 0.0235   Train accuracy: 0.99   Val loss: 0.1428   Val accuracy: 0.743    weighted Val loss: 0.1897\n",
      "Epoch: 253   Train loss: 0.0222   Train accuracy: 0.996   Val loss: 0.1394   Val accuracy: 0.744    weighted Val loss: 0.1895\n",
      "Epoch: 254   Train loss: 0.0214   Train accuracy: 0.996   Val loss: 0.1417   Val accuracy: 0.742    weighted Val loss: 0.1893\n",
      "Epoch: 255   Train loss: 0.0215   Train accuracy: 0.995   Val loss: 0.1358   Val accuracy: 0.755    weighted Val loss: 0.189\n",
      "Epoch: 256   Train loss: 0.0227   Train accuracy: 0.995   Val loss: 0.1442   Val accuracy: 0.745    weighted Val loss: 0.1888\n",
      "Epoch: 257   Train loss: 0.024   Train accuracy: 0.986   Val loss: 0.1539   Val accuracy: 0.749    weighted Val loss: 0.1886\n",
      "Epoch: 258   Train loss: 0.023   Train accuracy: 0.989   Val loss: 0.1442   Val accuracy: 0.745    weighted Val loss: 0.1884\n",
      "Epoch: 259   Train loss: 0.0219   Train accuracy: 0.997   Val loss: 0.1385   Val accuracy: 0.751    weighted Val loss: 0.1881\n",
      "Epoch: 260   Train loss: 0.0214   Train accuracy: 0.996   Val loss: 0.1368   Val accuracy: 0.765    weighted Val loss: 0.1879\n",
      "Epoch: 261   Train loss: 0.0206   Train accuracy: 0.997   Val loss: 0.1424   Val accuracy: 0.752    weighted Val loss: 0.1876\n",
      "Epoch: 262   Train loss: 0.0211   Train accuracy: 0.999   Val loss: 0.1359   Val accuracy: 0.755    weighted Val loss: 0.1874\n",
      "Epoch: 263   Train loss: 0.0213   Train accuracy: 0.998   Val loss: 0.1399   Val accuracy: 0.751    weighted Val loss: 0.1871\n",
      "Epoch: 264   Train loss: 0.0205   Train accuracy: 0.998   Val loss: 0.1381   Val accuracy: 0.75    weighted Val loss: 0.1869\n",
      "Epoch: 265   Train loss: 0.0208   Train accuracy: 0.997   Val loss: 0.1385   Val accuracy: 0.763    weighted Val loss: 0.1867\n",
      "Epoch: 266   Train loss: 0.0214   Train accuracy: 0.997   Val loss: 0.1379   Val accuracy: 0.754    weighted Val loss: 0.1864\n",
      "Epoch: 267   Train loss: 0.0212   Train accuracy: 0.996   Val loss: 0.1371   Val accuracy: 0.751    weighted Val loss: 0.1862\n",
      "Epoch: 268   Train loss: 0.0216   Train accuracy: 0.994   Val loss: 0.1383   Val accuracy: 0.75    weighted Val loss: 0.1859\n",
      "Epoch: 269   Train loss: 0.0232   Train accuracy: 0.994   Val loss: 0.1391   Val accuracy: 0.764    weighted Val loss: 0.1857\n",
      "Epoch: 270   Train loss: 0.0214   Train accuracy: 0.996   Val loss: 0.1409   Val accuracy: 0.759    weighted Val loss: 0.1855\n",
      "Epoch: 271   Train loss: 0.0212   Train accuracy: 0.998   Val loss: 0.139   Val accuracy: 0.75    weighted Val loss: 0.1852\n",
      "Epoch: 272   Train loss: 0.0207   Train accuracy: 0.994   Val loss: 0.1388   Val accuracy: 0.751    weighted Val loss: 0.185\n",
      "Epoch: 273   Train loss: 0.0212   Train accuracy: 0.998   Val loss: 0.1372   Val accuracy: 0.76    weighted Val loss: 0.1848\n",
      "Epoch: 274   Train loss: 0.0208   Train accuracy: 0.998   Val loss: 0.1367   Val accuracy: 0.75    weighted Val loss: 0.1845\n",
      "Epoch: 275   Train loss: 0.0212   Train accuracy: 0.994   Val loss: 0.1407   Val accuracy: 0.765    weighted Val loss: 0.1843\n",
      "Epoch: 276   Train loss: 0.0216   Train accuracy: 0.995   Val loss: 0.1428   Val accuracy: 0.75    weighted Val loss: 0.1841\n",
      "Epoch: 277   Train loss: 0.0217   Train accuracy: 0.99   Val loss: 0.1397   Val accuracy: 0.751    weighted Val loss: 0.1839\n",
      "Epoch: 278   Train loss: 0.0231   Train accuracy: 0.998   Val loss: 0.147   Val accuracy: 0.752    weighted Val loss: 0.1837\n",
      "Epoch: 279   Train loss: 0.0225   Train accuracy: 0.994   Val loss: 0.1428   Val accuracy: 0.754    weighted Val loss: 0.1835\n",
      "Epoch: 280   Train loss: 0.0237   Train accuracy: 0.994   Val loss: 0.1418   Val accuracy: 0.75    weighted Val loss: 0.1833\n",
      "Epoch: 281   Train loss: 0.0231   Train accuracy: 0.997   Val loss: 0.141   Val accuracy: 0.76    weighted Val loss: 0.1831\n",
      "Epoch: 282   Train loss: 0.0216   Train accuracy: 0.998   Val loss: 0.1405   Val accuracy: 0.748    weighted Val loss: 0.1828\n",
      "Epoch: 283   Train loss: 0.0212   Train accuracy: 0.994   Val loss: 0.1405   Val accuracy: 0.751    weighted Val loss: 0.1826\n",
      "Epoch: 284   Train loss: 0.0219   Train accuracy: 0.989   Val loss: 0.1416   Val accuracy: 0.75    weighted Val loss: 0.1824\n",
      "Epoch: 285   Train loss: 0.0218   Train accuracy: 0.998   Val loss: 0.1398   Val accuracy: 0.751    weighted Val loss: 0.1822\n",
      "Epoch: 286   Train loss: 0.0211   Train accuracy: 0.994   Val loss: 0.1382   Val accuracy: 0.75    weighted Val loss: 0.182\n",
      "Epoch: 287   Train loss: 0.0211   Train accuracy: 0.996   Val loss: 0.1422   Val accuracy: 0.75    weighted Val loss: 0.1818\n",
      "Epoch: 288   Train loss: 0.0206   Train accuracy: 0.996   Val loss: 0.1399   Val accuracy: 0.756    weighted Val loss: 0.1816\n",
      "Epoch: 289   Train loss: 0.0226   Train accuracy: 0.991   Val loss: 0.1423   Val accuracy: 0.749    weighted Val loss: 0.1814\n",
      "Epoch: 290   Train loss: 0.0225   Train accuracy: 1.0   Val loss: 0.1372   Val accuracy: 0.765    weighted Val loss: 0.1812\n",
      "Epoch: 291   Train loss: 0.0235   Train accuracy: 0.99   Val loss: 0.1368   Val accuracy: 0.753    weighted Val loss: 0.181\n",
      "Epoch: 292   Train loss: 0.0226   Train accuracy: 0.995   Val loss: 0.1397   Val accuracy: 0.749    weighted Val loss: 0.1807\n",
      "Epoch: 293   Train loss: 0.0217   Train accuracy: 0.992   Val loss: 0.141   Val accuracy: 0.747    weighted Val loss: 0.1805\n",
      "Epoch: 294   Train loss: 0.0199   Train accuracy: 0.998   Val loss: 0.1386   Val accuracy: 0.755    weighted Val loss: 0.1803\n",
      "Epoch: 295   Train loss: 0.0218   Train accuracy: 0.996   Val loss: 0.1384   Val accuracy: 0.751    weighted Val loss: 0.1801\n",
      "Epoch: 296   Train loss: 0.0219   Train accuracy: 0.996   Val loss: 0.144   Val accuracy: 0.747    weighted Val loss: 0.1799\n",
      "Epoch: 297   Train loss: 0.0221   Train accuracy: 0.994   Val loss: 0.1406   Val accuracy: 0.758    weighted Val loss: 0.1798\n",
      "Epoch: 298   Train loss: 0.0213   Train accuracy: 0.996   Val loss: 0.1399   Val accuracy: 0.746    weighted Val loss: 0.1796\n",
      "Epoch: 299   Train loss: 0.0206   Train accuracy: 0.998   Val loss: 0.138   Val accuracy: 0.752    weighted Val loss: 0.1793\n",
      "Epoch: 300   Train loss: 0.0222   Train accuracy: 0.998   Val loss: 0.1401   Val accuracy: 0.759    weighted Val loss: 0.1791\n",
      "Epoch: 301   Train loss: 0.0209   Train accuracy: 0.997   Val loss: 0.1383   Val accuracy: 0.754    weighted Val loss: 0.1789\n",
      "Epoch: 302   Train loss: 0.0209   Train accuracy: 0.992   Val loss: 0.1373   Val accuracy: 0.751    weighted Val loss: 0.1787\n",
      "Epoch: 303   Train loss: 0.0232   Train accuracy: 0.997   Val loss: 0.1463   Val accuracy: 0.745    weighted Val loss: 0.1786\n",
      "Epoch: 304   Train loss: 0.022   Train accuracy: 0.995   Val loss: 0.1376   Val accuracy: 0.751    weighted Val loss: 0.1784\n",
      "Epoch: 305   Train loss: 0.021   Train accuracy: 0.995   Val loss: 0.1387   Val accuracy: 0.752    weighted Val loss: 0.1782\n",
      "Epoch: 306   Train loss: 0.0211   Train accuracy: 0.998   Val loss: 0.1528   Val accuracy: 0.737    weighted Val loss: 0.178\n",
      "Epoch: 307   Train loss: 0.0231   Train accuracy: 0.991   Val loss: 0.1388   Val accuracy: 0.753    weighted Val loss: 0.1778\n",
      "Epoch: 308   Train loss: 0.0215   Train accuracy: 0.996   Val loss: 0.1407   Val accuracy: 0.755    weighted Val loss: 0.1777\n",
      "Epoch: 309   Train loss: 0.0207   Train accuracy: 1.0   Val loss: 0.1391   Val accuracy: 0.76    weighted Val loss: 0.1775\n",
      "Epoch: 310   Train loss: 0.0203   Train accuracy: 0.993   Val loss: 0.1396   Val accuracy: 0.75    weighted Val loss: 0.1773\n",
      "Epoch: 311   Train loss: 0.0211   Train accuracy: 0.998   Val loss: 0.1384   Val accuracy: 0.753    weighted Val loss: 0.1771\n",
      "Epoch: 312   Train loss: 0.0214   Train accuracy: 0.995   Val loss: 0.1385   Val accuracy: 0.758    weighted Val loss: 0.1769\n",
      "Epoch: 313   Train loss: 0.0214   Train accuracy: 0.995   Val loss: 0.139   Val accuracy: 0.755    weighted Val loss: 0.1767\n",
      "Epoch: 314   Train loss: 0.0212   Train accuracy: 0.993   Val loss: 0.1386   Val accuracy: 0.753    weighted Val loss: 0.1765\n",
      "Epoch: 315   Train loss: 0.0212   Train accuracy: 0.993   Val loss: 0.1377   Val accuracy: 0.757    weighted Val loss: 0.1763\n",
      "Epoch: 316   Train loss: 0.0214   Train accuracy: 0.998   Val loss: 0.1368   Val accuracy: 0.757    weighted Val loss: 0.1761\n",
      "Epoch: 317   Train loss: 0.0211   Train accuracy: 0.997   Val loss: 0.1389   Val accuracy: 0.754    weighted Val loss: 0.1759\n",
      "Epoch: 318   Train loss: 0.0206   Train accuracy: 0.996   Val loss: 0.1376   Val accuracy: 0.754    weighted Val loss: 0.1757\n",
      "Epoch: 319   Train loss: 0.0208   Train accuracy: 0.997   Val loss: 0.1386   Val accuracy: 0.752    weighted Val loss: 0.1756\n",
      "Epoch: 320   Train loss: 0.0218   Train accuracy: 0.996   Val loss: 0.1371   Val accuracy: 0.754    weighted Val loss: 0.1754\n",
      "Epoch: 321   Train loss: 0.0214   Train accuracy: 0.997   Val loss: 0.1419   Val accuracy: 0.755    weighted Val loss: 0.1752\n",
      "Epoch: 322   Train loss: 0.0211   Train accuracy: 0.996   Val loss: 0.1394   Val accuracy: 0.745    weighted Val loss: 0.175\n",
      "Epoch: 323   Train loss: 0.0209   Train accuracy: 0.995   Val loss: 0.1396   Val accuracy: 0.759    weighted Val loss: 0.1748\n",
      "Epoch: 324   Train loss: 0.0207   Train accuracy: 0.998   Val loss: 0.1367   Val accuracy: 0.758    weighted Val loss: 0.1746\n",
      "Epoch: 325   Train loss: 0.0216   Train accuracy: 0.995   Val loss: 0.1445   Val accuracy: 0.754    weighted Val loss: 0.1745\n",
      "Epoch: 326   Train loss: 0.0226   Train accuracy: 0.995   Val loss: 0.1397   Val accuracy: 0.743    weighted Val loss: 0.1743\n",
      "Epoch: 327   Train loss: 0.0206   Train accuracy: 0.995   Val loss: 0.1392   Val accuracy: 0.747    weighted Val loss: 0.1741\n",
      "Epoch: 328   Train loss: 0.0217   Train accuracy: 0.998   Val loss: 0.142   Val accuracy: 0.759    weighted Val loss: 0.174\n",
      "Epoch: 329   Train loss: 0.0248   Train accuracy: 0.996   Val loss: 0.1393   Val accuracy: 0.746    weighted Val loss: 0.1738\n",
      "Epoch: 330   Train loss: 0.0218   Train accuracy: 0.996   Val loss: 0.1387   Val accuracy: 0.758    weighted Val loss: 0.1736\n",
      "Epoch: 331   Train loss: 0.0207   Train accuracy: 0.998   Val loss: 0.138   Val accuracy: 0.751    weighted Val loss: 0.1735\n",
      "Epoch: 332   Train loss: 0.0215   Train accuracy: 0.993   Val loss: 0.1406   Val accuracy: 0.753    weighted Val loss: 0.1733\n",
      "Epoch: 333   Train loss: 0.0207   Train accuracy: 0.997   Val loss: 0.1403   Val accuracy: 0.757    weighted Val loss: 0.1731\n",
      "Epoch: 334   Train loss: 0.0222   Train accuracy: 0.999   Val loss: 0.1398   Val accuracy: 0.752    weighted Val loss: 0.173\n",
      "Epoch: 335   Train loss: 0.0247   Train accuracy: 0.992   Val loss: 0.1445   Val accuracy: 0.768    weighted Val loss: 0.1728\n",
      "0.768 ----------saved-----------\n",
      "Epoch: 336   Train loss: 0.0223   Train accuracy: 0.996   Val loss: 0.1456   Val accuracy: 0.752    weighted Val loss: 0.1727\n",
      "Epoch: 337   Train loss: 0.0219   Train accuracy: 0.992   Val loss: 0.1378   Val accuracy: 0.756    weighted Val loss: 0.1725\n",
      "Epoch: 338   Train loss: 0.0201   Train accuracy: 0.99   Val loss: 0.1409   Val accuracy: 0.766    weighted Val loss: 0.1724\n",
      "Epoch: 339   Train loss: 0.0208   Train accuracy: 0.998   Val loss: 0.1395   Val accuracy: 0.747    weighted Val loss: 0.1722\n",
      "Epoch: 340   Train loss: 0.0209   Train accuracy: 0.997   Val loss: 0.1383   Val accuracy: 0.758    weighted Val loss: 0.172\n",
      "Epoch: 341   Train loss: 0.021   Train accuracy: 0.995   Val loss: 0.1371   Val accuracy: 0.754    weighted Val loss: 0.1718\n",
      "Epoch: 342   Train loss: 0.0208   Train accuracy: 1.0   Val loss: 0.1432   Val accuracy: 0.747    weighted Val loss: 0.1717\n",
      "Epoch: 343   Train loss: 0.0221   Train accuracy: 0.997   Val loss: 0.1386   Val accuracy: 0.755    weighted Val loss: 0.1715\n",
      "Epoch: 344   Train loss: 0.0203   Train accuracy: 0.998   Val loss: 0.1399   Val accuracy: 0.749    weighted Val loss: 0.1714\n",
      "Epoch: 345   Train loss: 0.0208   Train accuracy: 0.996   Val loss: 0.1366   Val accuracy: 0.758    weighted Val loss: 0.1712\n",
      "Epoch: 346   Train loss: 0.0207   Train accuracy: 0.998   Val loss: 0.14   Val accuracy: 0.763    weighted Val loss: 0.171\n",
      "Epoch: 347   Train loss: 0.0211   Train accuracy: 0.995   Val loss: 0.1445   Val accuracy: 0.745    weighted Val loss: 0.1709\n",
      "Epoch: 348   Train loss: 0.021   Train accuracy: 0.998   Val loss: 0.1391   Val accuracy: 0.764    weighted Val loss: 0.1708\n",
      "Epoch: 349   Train loss: 0.0214   Train accuracy: 0.995   Val loss: 0.138   Val accuracy: 0.753    weighted Val loss: 0.1706\n",
      "Epoch: 350   Train loss: 0.0217   Train accuracy: 0.995   Val loss: 0.1379   Val accuracy: 0.757    weighted Val loss: 0.1704\n",
      "Epoch: 351   Train loss: 0.0228   Train accuracy: 0.989   Val loss: 0.1405   Val accuracy: 0.757    weighted Val loss: 0.1703\n",
      "Epoch: 352   Train loss: 0.0222   Train accuracy: 0.993   Val loss: 0.1368   Val accuracy: 0.756    weighted Val loss: 0.1701\n",
      "Epoch: 353   Train loss: 0.0217   Train accuracy: 0.995   Val loss: 0.1397   Val accuracy: 0.758    weighted Val loss: 0.17\n",
      "Epoch: 354   Train loss: 0.0224   Train accuracy: 0.999   Val loss: 0.142   Val accuracy: 0.746    weighted Val loss: 0.1698\n",
      "Epoch: 355   Train loss: 0.0221   Train accuracy: 0.992   Val loss: 0.1353   Val accuracy: 0.761    weighted Val loss: 0.1696\n",
      "Epoch: 356   Train loss: 0.0205   Train accuracy: 0.998   Val loss: 0.1408   Val accuracy: 0.756    weighted Val loss: 0.1695\n",
      "Epoch: 357   Train loss: 0.0211   Train accuracy: 0.998   Val loss: 0.1358   Val accuracy: 0.764    weighted Val loss: 0.1693\n",
      "Epoch: 358   Train loss: 0.0206   Train accuracy: 0.997   Val loss: 0.1403   Val accuracy: 0.756    weighted Val loss: 0.1692\n",
      "Epoch: 359   Train loss: 0.0203   Train accuracy: 0.996   Val loss: 0.1384   Val accuracy: 0.762    weighted Val loss: 0.169\n",
      "Epoch: 360   Train loss: 0.0204   Train accuracy: 0.997   Val loss: 0.1389   Val accuracy: 0.76    weighted Val loss: 0.1689\n",
      "Epoch: 361   Train loss: 0.0203   Train accuracy: 0.996   Val loss: 0.1367   Val accuracy: 0.756    weighted Val loss: 0.1687\n",
      "Epoch: 362   Train loss: 0.0205   Train accuracy: 0.998   Val loss: 0.1368   Val accuracy: 0.763    weighted Val loss: 0.1686\n",
      "Epoch: 363   Train loss: 0.0209   Train accuracy: 0.997   Val loss: 0.1394   Val accuracy: 0.744    weighted Val loss: 0.1684\n",
      "Epoch: 364   Train loss: 0.0215   Train accuracy: 0.997   Val loss: 0.1371   Val accuracy: 0.77    weighted Val loss: 0.1683\n",
      "0.77 ----------saved-----------\n",
      "Epoch: 365   Train loss: 0.0216   Train accuracy: 0.996   Val loss: 0.138   Val accuracy: 0.75    weighted Val loss: 0.1681\n",
      "Epoch: 366   Train loss: 0.0219   Train accuracy: 0.994   Val loss: 0.14   Val accuracy: 0.757    weighted Val loss: 0.168\n",
      "Epoch: 367   Train loss: 0.0215   Train accuracy: 0.998   Val loss: 0.1397   Val accuracy: 0.746    weighted Val loss: 0.1678\n",
      "Epoch: 368   Train loss: 0.0212   Train accuracy: 0.998   Val loss: 0.1396   Val accuracy: 0.746    weighted Val loss: 0.1677\n",
      "Epoch: 369   Train loss: 0.0204   Train accuracy: 0.997   Val loss: 0.1398   Val accuracy: 0.751    weighted Val loss: 0.1675\n",
      "Epoch: 370   Train loss: 0.0221   Train accuracy: 0.996   Val loss: 0.1397   Val accuracy: 0.763    weighted Val loss: 0.1674\n",
      "Epoch: 371   Train loss: 0.023   Train accuracy: 0.995   Val loss: 0.1411   Val accuracy: 0.75    weighted Val loss: 0.1673\n",
      "Epoch: 372   Train loss: 0.0239   Train accuracy: 0.987   Val loss: 0.139   Val accuracy: 0.752    weighted Val loss: 0.1671\n",
      "Epoch: 373   Train loss: 0.0205   Train accuracy: 0.999   Val loss: 0.1389   Val accuracy: 0.755    weighted Val loss: 0.167\n",
      "Epoch: 374   Train loss: 0.0204   Train accuracy: 0.996   Val loss: 0.1373   Val accuracy: 0.757    weighted Val loss: 0.1668\n",
      "Epoch: 375   Train loss: 0.0203   Train accuracy: 0.996   Val loss: 0.1449   Val accuracy: 0.75    weighted Val loss: 0.1667\n",
      "Epoch: 376   Train loss: 0.0218   Train accuracy: 0.996   Val loss: 0.1444   Val accuracy: 0.752    weighted Val loss: 0.1666\n",
      "Epoch: 377   Train loss: 0.023   Train accuracy: 0.997   Val loss: 0.1446   Val accuracy: 0.753    weighted Val loss: 0.1665\n",
      "Epoch: 378   Train loss: 0.021   Train accuracy: 0.994   Val loss: 0.1393   Val accuracy: 0.754    weighted Val loss: 0.1664\n",
      "Epoch: 379   Train loss: 0.0217   Train accuracy: 0.994   Val loss: 0.1387   Val accuracy: 0.755    weighted Val loss: 0.1662\n",
      "Epoch: 380   Train loss: 0.0213   Train accuracy: 0.996   Val loss: 0.1379   Val accuracy: 0.763    weighted Val loss: 0.1661\n",
      "Epoch: 381   Train loss: 0.0209   Train accuracy: 0.997   Val loss: 0.1402   Val accuracy: 0.749    weighted Val loss: 0.166\n",
      "Epoch: 382   Train loss: 0.0225   Train accuracy: 0.996   Val loss: 0.1503   Val accuracy: 0.744    weighted Val loss: 0.1659\n",
      "Epoch: 383   Train loss: 0.0229   Train accuracy: 0.995   Val loss: 0.1367   Val accuracy: 0.749    weighted Val loss: 0.1657\n",
      "Epoch: 384   Train loss: 0.0217   Train accuracy: 0.996   Val loss: 0.1418   Val accuracy: 0.757    weighted Val loss: 0.1656\n",
      "Epoch: 385   Train loss: 0.0238   Train accuracy: 0.994   Val loss: 0.1417   Val accuracy: 0.761    weighted Val loss: 0.1655\n",
      "Epoch: 386   Train loss: 0.0212   Train accuracy: 0.998   Val loss: 0.1412   Val accuracy: 0.74    weighted Val loss: 0.1654\n",
      "Epoch: 387   Train loss: 0.0215   Train accuracy: 0.994   Val loss: 0.1368   Val accuracy: 0.747    weighted Val loss: 0.1652\n",
      "Epoch: 388   Train loss: 0.022   Train accuracy: 0.994   Val loss: 0.147   Val accuracy: 0.765    weighted Val loss: 0.1652\n",
      "Epoch: 389   Train loss: 0.0227   Train accuracy: 0.996   Val loss: 0.147   Val accuracy: 0.749    weighted Val loss: 0.1651\n",
      "Epoch: 390   Train loss: 0.0212   Train accuracy: 0.997   Val loss: 0.1385   Val accuracy: 0.764    weighted Val loss: 0.1649\n",
      "Epoch: 391   Train loss: 0.0208   Train accuracy: 0.994   Val loss: 0.147   Val accuracy: 0.747    weighted Val loss: 0.1648\n",
      "Epoch: 392   Train loss: 0.0226   Train accuracy: 0.995   Val loss: 0.145   Val accuracy: 0.748    weighted Val loss: 0.1647\n",
      "Epoch: 393   Train loss: 0.0212   Train accuracy: 0.997   Val loss: 0.1387   Val accuracy: 0.754    weighted Val loss: 0.1646\n",
      "Epoch: 394   Train loss: 0.0204   Train accuracy: 0.998   Val loss: 0.1414   Val accuracy: 0.762    weighted Val loss: 0.1645\n",
      "Epoch: 395   Train loss: 0.0217   Train accuracy: 0.992   Val loss: 0.1393   Val accuracy: 0.756    weighted Val loss: 0.1644\n",
      "Epoch: 396   Train loss: 0.0221   Train accuracy: 0.996   Val loss: 0.1377   Val accuracy: 0.747    weighted Val loss: 0.1642\n",
      "Epoch: 397   Train loss: 0.0211   Train accuracy: 0.997   Val loss: 0.1431   Val accuracy: 0.758    weighted Val loss: 0.1641\n",
      "Epoch: 398   Train loss: 0.0206   Train accuracy: 0.995   Val loss: 0.1394   Val accuracy: 0.756    weighted Val loss: 0.164\n",
      "Epoch: 399   Train loss: 0.0205   Train accuracy: 0.998   Val loss: 0.1395   Val accuracy: 0.749    weighted Val loss: 0.1639\n",
      "Epoch: 400   Train loss: 0.0204   Train accuracy: 0.997   Val loss: 0.1382   Val accuracy: 0.759    weighted Val loss: 0.1638\n",
      "Epoch: 401   Train loss: 0.02   Train accuracy: 0.995   Val loss: 0.1385   Val accuracy: 0.754    weighted Val loss: 0.1636\n",
      "Epoch: 402   Train loss: 0.021   Train accuracy: 0.995   Val loss: 0.1432   Val accuracy: 0.748    weighted Val loss: 0.1635\n",
      "Epoch: 403   Train loss: 0.0213   Train accuracy: 1.0   Val loss: 0.1401   Val accuracy: 0.746    weighted Val loss: 0.1634\n",
      "Epoch: 404   Train loss: 0.0214   Train accuracy: 0.996   Val loss: 0.1372   Val accuracy: 0.76    weighted Val loss: 0.1633\n",
      "Epoch: 405   Train loss: 0.0214   Train accuracy: 0.995   Val loss: 0.1418   Val accuracy: 0.744    weighted Val loss: 0.1632\n",
      "Epoch: 406   Train loss: 0.0209   Train accuracy: 0.998   Val loss: 0.1367   Val accuracy: 0.76    weighted Val loss: 0.163\n",
      "Epoch: 407   Train loss: 0.0208   Train accuracy: 0.995   Val loss: 0.1387   Val accuracy: 0.759    weighted Val loss: 0.1629\n",
      "Epoch: 408   Train loss: 0.0206   Train accuracy: 0.996   Val loss: 0.1405   Val accuracy: 0.748    weighted Val loss: 0.1628\n",
      "Epoch: 409   Train loss: 0.0217   Train accuracy: 0.994   Val loss: 0.1399   Val accuracy: 0.749    weighted Val loss: 0.1627\n",
      "Epoch: 410   Train loss: 0.0208   Train accuracy: 0.998   Val loss: 0.1399   Val accuracy: 0.753    weighted Val loss: 0.1626\n",
      "Epoch: 411   Train loss: 0.0208   Train accuracy: 0.996   Val loss: 0.1405   Val accuracy: 0.757    weighted Val loss: 0.1625\n",
      "Epoch: 412   Train loss: 0.0204   Train accuracy: 0.998   Val loss: 0.1362   Val accuracy: 0.748    weighted Val loss: 0.1623\n",
      "Epoch: 413   Train loss: 0.0213   Train accuracy: 0.994   Val loss: 0.1357   Val accuracy: 0.759    weighted Val loss: 0.1622\n",
      "Epoch: 414   Train loss: 0.0212   Train accuracy: 0.995   Val loss: 0.1387   Val accuracy: 0.754    weighted Val loss: 0.1621\n",
      "Epoch: 415   Train loss: 0.0201   Train accuracy: 0.998   Val loss: 0.1395   Val accuracy: 0.74    weighted Val loss: 0.162\n",
      "Epoch: 416   Train loss: 0.0218   Train accuracy: 0.996   Val loss: 0.1393   Val accuracy: 0.75    weighted Val loss: 0.1619\n",
      "Epoch: 417   Train loss: 0.0213   Train accuracy: 0.991   Val loss: 0.1435   Val accuracy: 0.76    weighted Val loss: 0.1618\n",
      "Epoch: 418   Train loss: 0.022   Train accuracy: 0.998   Val loss: 0.146   Val accuracy: 0.766    weighted Val loss: 0.1617\n",
      "Epoch: 419   Train loss: 0.0218   Train accuracy: 0.997   Val loss: 0.1382   Val accuracy: 0.749    weighted Val loss: 0.1616\n",
      "Epoch: 420   Train loss: 0.0214   Train accuracy: 0.991   Val loss: 0.1385   Val accuracy: 0.761    weighted Val loss: 0.1615\n",
      "Epoch: 421   Train loss: 0.0209   Train accuracy: 0.995   Val loss: 0.1405   Val accuracy: 0.738    weighted Val loss: 0.1613\n",
      "Epoch: 422   Train loss: 0.0209   Train accuracy: 0.996   Val loss: 0.1383   Val accuracy: 0.749    weighted Val loss: 0.1612\n",
      "Epoch: 423   Train loss: 0.0218   Train accuracy: 0.994   Val loss: 0.1394   Val accuracy: 0.749    weighted Val loss: 0.1611\n",
      "Epoch: 424   Train loss: 0.0209   Train accuracy: 0.996   Val loss: 0.139   Val accuracy: 0.758    weighted Val loss: 0.161\n",
      "Epoch: 425   Train loss: 0.0204   Train accuracy: 0.998   Val loss: 0.138   Val accuracy: 0.761    weighted Val loss: 0.1609\n",
      "Epoch: 426   Train loss: 0.021   Train accuracy: 0.999   Val loss: 0.1414   Val accuracy: 0.757    weighted Val loss: 0.1608\n",
      "Epoch: 427   Train loss: 0.0223   Train accuracy: 0.997   Val loss: 0.1395   Val accuracy: 0.755    weighted Val loss: 0.1607\n",
      "Epoch: 428   Train loss: 0.0208   Train accuracy: 0.998   Val loss: 0.1387   Val accuracy: 0.754    weighted Val loss: 0.1606\n",
      "Epoch: 429   Train loss: 0.0201   Train accuracy: 0.997   Val loss: 0.1398   Val accuracy: 0.758    weighted Val loss: 0.1605\n",
      "Epoch: 430   Train loss: 0.0231   Train accuracy: 0.994   Val loss: 0.1422   Val accuracy: 0.75    weighted Val loss: 0.1604\n",
      "Epoch: 431   Train loss: 0.021   Train accuracy: 0.996   Val loss: 0.1392   Val accuracy: 0.758    weighted Val loss: 0.1603\n",
      "Epoch: 432   Train loss: 0.0209   Train accuracy: 0.998   Val loss: 0.138   Val accuracy: 0.754    weighted Val loss: 0.1602\n",
      "Epoch: 433   Train loss: 0.0204   Train accuracy: 0.998   Val loss: 0.1393   Val accuracy: 0.744    weighted Val loss: 0.1601\n",
      "Epoch: 434   Train loss: 0.021   Train accuracy: 0.992   Val loss: 0.1396   Val accuracy: 0.758    weighted Val loss: 0.16\n",
      "Epoch: 435   Train loss: 0.0202   Train accuracy: 0.998   Val loss: 0.1373   Val accuracy: 0.756    weighted Val loss: 0.1598\n",
      "Epoch: 436   Train loss: 0.0206   Train accuracy: 0.996   Val loss: 0.1364   Val accuracy: 0.75    weighted Val loss: 0.1597\n",
      "Epoch: 437   Train loss: 0.0207   Train accuracy: 0.998   Val loss: 0.1379   Val accuracy: 0.763    weighted Val loss: 0.1596\n",
      "Epoch: 438   Train loss: 0.0216   Train accuracy: 0.996   Val loss: 0.1448   Val accuracy: 0.751    weighted Val loss: 0.1595\n",
      "Epoch: 439   Train loss: 0.022   Train accuracy: 0.995   Val loss: 0.1429   Val accuracy: 0.753    weighted Val loss: 0.1595\n",
      "Epoch: 440   Train loss: 0.0214   Train accuracy: 0.995   Val loss: 0.1389   Val accuracy: 0.747    weighted Val loss: 0.1594\n",
      "Epoch: 441   Train loss: 0.0205   Train accuracy: 0.996   Val loss: 0.1399   Val accuracy: 0.761    weighted Val loss: 0.1593\n",
      "Epoch: 442   Train loss: 0.0225   Train accuracy: 0.998   Val loss: 0.1444   Val accuracy: 0.741    weighted Val loss: 0.1592\n",
      "Epoch: 443   Train loss: 0.022   Train accuracy: 0.998   Val loss: 0.1385   Val accuracy: 0.745    weighted Val loss: 0.1591\n",
      "Epoch: 444   Train loss: 0.0214   Train accuracy: 0.997   Val loss: 0.1385   Val accuracy: 0.76    weighted Val loss: 0.159\n",
      "Epoch: 445   Train loss: 0.0204   Train accuracy: 0.998   Val loss: 0.1389   Val accuracy: 0.752    weighted Val loss: 0.1589\n",
      "Epoch: 446   Train loss: 0.0208   Train accuracy: 0.998   Val loss: 0.1377   Val accuracy: 0.753    weighted Val loss: 0.1588\n",
      "Epoch: 447   Train loss: 0.0203   Train accuracy: 0.997   Val loss: 0.1391   Val accuracy: 0.766    weighted Val loss: 0.1587\n",
      "Epoch: 448   Train loss: 0.0207   Train accuracy: 0.997   Val loss: 0.1382   Val accuracy: 0.754    weighted Val loss: 0.1586\n",
      "Epoch: 449   Train loss: 0.0214   Train accuracy: 0.992   Val loss: 0.1366   Val accuracy: 0.759    weighted Val loss: 0.1585\n",
      "Epoch: 450   Train loss: 0.0215   Train accuracy: 0.994   Val loss: 0.1387   Val accuracy: 0.754    weighted Val loss: 0.1584\n",
      "Epoch: 451   Train loss: 0.0206   Train accuracy: 0.996   Val loss: 0.1436   Val accuracy: 0.748    weighted Val loss: 0.1583\n",
      "Epoch: 452   Train loss: 0.0213   Train accuracy: 0.997   Val loss: 0.1378   Val accuracy: 0.763    weighted Val loss: 0.1582\n",
      "Epoch: 453   Train loss: 0.0212   Train accuracy: 0.998   Val loss: 0.1385   Val accuracy: 0.749    weighted Val loss: 0.1581\n",
      "Epoch: 454   Train loss: 0.0221   Train accuracy: 0.996   Val loss: 0.144   Val accuracy: 0.742    weighted Val loss: 0.158\n",
      "Epoch: 455   Train loss: 0.0219   Train accuracy: 0.997   Val loss: 0.137   Val accuracy: 0.753    weighted Val loss: 0.1579\n",
      "Epoch: 456   Train loss: 0.0222   Train accuracy: 0.996   Val loss: 0.1413   Val accuracy: 0.757    weighted Val loss: 0.1578\n",
      "Epoch: 457   Train loss: 0.0209   Train accuracy: 0.996   Val loss: 0.1377   Val accuracy: 0.759    weighted Val loss: 0.1577\n",
      "Epoch: 458   Train loss: 0.0209   Train accuracy: 0.995   Val loss: 0.1382   Val accuracy: 0.748    weighted Val loss: 0.1576\n",
      "Epoch: 459   Train loss: 0.0202   Train accuracy: 0.998   Val loss: 0.1398   Val accuracy: 0.746    weighted Val loss: 0.1575\n",
      "Epoch: 460   Train loss: 0.0207   Train accuracy: 0.996   Val loss: 0.1374   Val accuracy: 0.752    weighted Val loss: 0.1574\n",
      "Epoch: 461   Train loss: 0.0205   Train accuracy: 0.997   Val loss: 0.1467   Val accuracy: 0.746    weighted Val loss: 0.1574\n",
      "Epoch: 462   Train loss: 0.0223   Train accuracy: 0.997   Val loss: 0.1405   Val accuracy: 0.759    weighted Val loss: 0.1573\n",
      "Epoch: 463   Train loss: 0.0212   Train accuracy: 0.998   Val loss: 0.1386   Val accuracy: 0.754    weighted Val loss: 0.1572\n",
      "Epoch: 464   Train loss: 0.0205   Train accuracy: 0.998   Val loss: 0.1393   Val accuracy: 0.748    weighted Val loss: 0.1571\n",
      "Epoch: 465   Train loss: 0.0205   Train accuracy: 0.998   Val loss: 0.1403   Val accuracy: 0.754    weighted Val loss: 0.157\n",
      "Epoch: 466   Train loss: 0.0206   Train accuracy: 0.997   Val loss: 0.1406   Val accuracy: 0.747    weighted Val loss: 0.157\n",
      "Epoch: 467   Train loss: 0.0214   Train accuracy: 0.999   Val loss: 0.1383   Val accuracy: 0.759    weighted Val loss: 0.1569\n",
      "Epoch: 468   Train loss: 0.0206   Train accuracy: 0.995   Val loss: 0.1384   Val accuracy: 0.769    weighted Val loss: 0.1568\n",
      "Epoch: 469   Train loss: 0.0214   Train accuracy: 0.996   Val loss: 0.1461   Val accuracy: 0.738    weighted Val loss: 0.1567\n",
      "Epoch: 470   Train loss: 0.0224   Train accuracy: 0.997   Val loss: 0.1385   Val accuracy: 0.758    weighted Val loss: 0.1566\n",
      "Epoch: 471   Train loss: 0.0225   Train accuracy: 0.997   Val loss: 0.1394   Val accuracy: 0.753    weighted Val loss: 0.1565\n",
      "Epoch: 472   Train loss: 0.0205   Train accuracy: 0.996   Val loss: 0.1375   Val accuracy: 0.749    weighted Val loss: 0.1564\n",
      "Epoch: 473   Train loss: 0.0208   Train accuracy: 0.996   Val loss: 0.1378   Val accuracy: 0.754    weighted Val loss: 0.1564\n",
      "Epoch: 474   Train loss: 0.0204   Train accuracy: 0.994   Val loss: 0.1392   Val accuracy: 0.749    weighted Val loss: 0.1563\n",
      "Epoch: 475   Train loss: 0.0199   Train accuracy: 0.998   Val loss: 0.1387   Val accuracy: 0.753    weighted Val loss: 0.1562\n",
      "Epoch: 476   Train loss: 0.0204   Train accuracy: 0.998   Val loss: 0.1388   Val accuracy: 0.757    weighted Val loss: 0.1561\n",
      "Epoch: 477   Train loss: 0.0211   Train accuracy: 0.995   Val loss: 0.1393   Val accuracy: 0.754    weighted Val loss: 0.156\n",
      "Epoch: 478   Train loss: 0.0205   Train accuracy: 0.998   Val loss: 0.1388   Val accuracy: 0.755    weighted Val loss: 0.1559\n",
      "Epoch: 479   Train loss: 0.0203   Train accuracy: 0.999   Val loss: 0.1367   Val accuracy: 0.758    weighted Val loss: 0.1558\n",
      "Epoch: 480   Train loss: 0.0207   Train accuracy: 0.993   Val loss: 0.1451   Val accuracy: 0.751    weighted Val loss: 0.1558\n",
      "Epoch: 481   Train loss: 0.0214   Train accuracy: 0.998   Val loss: 0.1384   Val accuracy: 0.749    weighted Val loss: 0.1557\n",
      "Epoch: 482   Train loss: 0.0213   Train accuracy: 0.996   Val loss: 0.1448   Val accuracy: 0.751    weighted Val loss: 0.1556\n",
      "Epoch: 483   Train loss: 0.0221   Train accuracy: 0.997   Val loss: 0.1383   Val accuracy: 0.753    weighted Val loss: 0.1555\n",
      "Epoch: 484   Train loss: 0.0202   Train accuracy: 0.998   Val loss: 0.1363   Val accuracy: 0.761    weighted Val loss: 0.1555\n",
      "Epoch: 485   Train loss: 0.0206   Train accuracy: 0.997   Val loss: 0.1383   Val accuracy: 0.755    weighted Val loss: 0.1554\n",
      "Epoch: 486   Train loss: 0.0211   Train accuracy: 0.998   Val loss: 0.1397   Val accuracy: 0.755    weighted Val loss: 0.1553\n",
      "Epoch: 487   Train loss: 0.0208   Train accuracy: 0.994   Val loss: 0.1392   Val accuracy: 0.754    weighted Val loss: 0.1552\n",
      "Epoch: 488   Train loss: 0.0207   Train accuracy: 0.997   Val loss: 0.1379   Val accuracy: 0.755    weighted Val loss: 0.1551\n",
      "Epoch: 489   Train loss: 0.0204   Train accuracy: 0.998   Val loss: 0.1371   Val accuracy: 0.757    weighted Val loss: 0.155\n",
      "Epoch: 490   Train loss: 0.021   Train accuracy: 0.996   Val loss: 0.1412   Val accuracy: 0.766    weighted Val loss: 0.155\n",
      "Epoch: 491   Train loss: 0.0214   Train accuracy: 0.994   Val loss: 0.1373   Val accuracy: 0.754    weighted Val loss: 0.1549\n",
      "Epoch: 492   Train loss: 0.0217   Train accuracy: 0.993   Val loss: 0.1396   Val accuracy: 0.757    weighted Val loss: 0.1548\n",
      "Epoch: 493   Train loss: 0.0215   Train accuracy: 0.996   Val loss: 0.1389   Val accuracy: 0.751    weighted Val loss: 0.1547\n",
      "Epoch: 494   Train loss: 0.0209   Train accuracy: 0.998   Val loss: 0.1372   Val accuracy: 0.758    weighted Val loss: 0.1546\n",
      "Epoch: 495   Train loss: 0.0213   Train accuracy: 0.995   Val loss: 0.1384   Val accuracy: 0.748    weighted Val loss: 0.1545\n",
      "Epoch: 496   Train loss: 0.0209   Train accuracy: 1.0   Val loss: 0.1388   Val accuracy: 0.752    weighted Val loss: 0.1545\n",
      "Epoch: 497   Train loss: 0.0207   Train accuracy: 0.998   Val loss: 0.1373   Val accuracy: 0.76    weighted Val loss: 0.1544\n",
      "Epoch: 498   Train loss: 0.0209   Train accuracy: 0.996   Val loss: 0.1409   Val accuracy: 0.749    weighted Val loss: 0.1543\n",
      "Epoch: 499   Train loss: 0.0206   Train accuracy: 1.0   Val loss: 0.1413   Val accuracy: 0.751    weighted Val loss: 0.1543\n",
      "Epoch: 500   Train loss: 0.0211   Train accuracy: 0.997   Val loss: 0.1392   Val accuracy: 0.755    weighted Val loss: 0.1542\n",
      "Epoch: 501   Train loss: 0.0205   Train accuracy: 0.996   Val loss: 0.1376   Val accuracy: 0.759    weighted Val loss: 0.1541\n",
      "Epoch: 502   Train loss: 0.0205   Train accuracy: 0.996   Val loss: 0.1393   Val accuracy: 0.749    weighted Val loss: 0.154\n",
      "Epoch: 503   Train loss: 0.0203   Train accuracy: 0.996   Val loss: 0.1394   Val accuracy: 0.76    weighted Val loss: 0.1539\n",
      "Epoch: 504   Train loss: 0.0209   Train accuracy: 0.995   Val loss: 0.14   Val accuracy: 0.748    weighted Val loss: 0.1539\n",
      "Epoch: 505   Train loss: 0.021   Train accuracy: 0.995   Val loss: 0.1375   Val accuracy: 0.748    weighted Val loss: 0.1538\n",
      "Epoch: 506   Train loss: 0.0213   Train accuracy: 0.997   Val loss: 0.1393   Val accuracy: 0.757    weighted Val loss: 0.1537\n",
      "Epoch: 507   Train loss: 0.0206   Train accuracy: 0.996   Val loss: 0.1384   Val accuracy: 0.754    weighted Val loss: 0.1536\n",
      "Epoch: 508   Train loss: 0.0205   Train accuracy: 0.998   Val loss: 0.1374   Val accuracy: 0.754    weighted Val loss: 0.1536\n",
      "Epoch: 509   Train loss: 0.0202   Train accuracy: 0.996   Val loss: 0.1373   Val accuracy: 0.755    weighted Val loss: 0.1535\n",
      "Epoch: 510   Train loss: 0.0205   Train accuracy: 0.998   Val loss: 0.1384   Val accuracy: 0.749    weighted Val loss: 0.1534\n",
      "Epoch: 511   Train loss: 0.0209   Train accuracy: 0.995   Val loss: 0.1379   Val accuracy: 0.762    weighted Val loss: 0.1533\n",
      "Epoch: 512   Train loss: 0.0228   Train accuracy: 0.997   Val loss: 0.1387   Val accuracy: 0.762    weighted Val loss: 0.1533\n",
      "Epoch: 513   Train loss: 0.0209   Train accuracy: 0.997   Val loss: 0.1389   Val accuracy: 0.749    weighted Val loss: 0.1532\n",
      "Epoch: 514   Train loss: 0.021   Train accuracy: 0.995   Val loss: 0.1391   Val accuracy: 0.756    weighted Val loss: 0.1531\n",
      "Epoch: 515   Train loss: 0.0213   Train accuracy: 0.994   Val loss: 0.1384   Val accuracy: 0.761    weighted Val loss: 0.153\n",
      "Epoch: 516   Train loss: 0.0209   Train accuracy: 0.997   Val loss: 0.1387   Val accuracy: 0.759    weighted Val loss: 0.153\n",
      "Epoch: 517   Train loss: 0.0212   Train accuracy: 0.995   Val loss: 0.1373   Val accuracy: 0.754    weighted Val loss: 0.1529\n",
      "Epoch: 518   Train loss: 0.0214   Train accuracy: 0.999   Val loss: 0.136   Val accuracy: 0.752    weighted Val loss: 0.1528\n",
      "Epoch: 519   Train loss: 0.0216   Train accuracy: 0.995   Val loss: 0.1378   Val accuracy: 0.757    weighted Val loss: 0.1527\n",
      "Epoch: 520   Train loss: 0.0208   Train accuracy: 0.998   Val loss: 0.1398   Val accuracy: 0.75    weighted Val loss: 0.1527\n",
      "Epoch: 521   Train loss: 0.0204   Train accuracy: 0.994   Val loss: 0.1374   Val accuracy: 0.756    weighted Val loss: 0.1526\n",
      "Epoch: 522   Train loss: 0.021   Train accuracy: 0.998   Val loss: 0.1388   Val accuracy: 0.762    weighted Val loss: 0.1525\n",
      "Epoch: 523   Train loss: 0.0208   Train accuracy: 0.999   Val loss: 0.1374   Val accuracy: 0.762    weighted Val loss: 0.1524\n",
      "Epoch: 524   Train loss: 0.0213   Train accuracy: 0.995   Val loss: 0.1453   Val accuracy: 0.742    weighted Val loss: 0.1524\n",
      "Epoch: 525   Train loss: 0.0229   Train accuracy: 0.994   Val loss: 0.1361   Val accuracy: 0.767    weighted Val loss: 0.1523\n",
      "Epoch: 526   Train loss: 0.0208   Train accuracy: 0.998   Val loss: 0.1405   Val accuracy: 0.749    weighted Val loss: 0.1523\n",
      "Epoch: 527   Train loss: 0.0211   Train accuracy: 0.996   Val loss: 0.1388   Val accuracy: 0.746    weighted Val loss: 0.1522\n",
      "Epoch: 528   Train loss: 0.0209   Train accuracy: 0.998   Val loss: 0.1403   Val accuracy: 0.752    weighted Val loss: 0.1521\n",
      "Epoch: 529   Train loss: 0.0209   Train accuracy: 0.996   Val loss: 0.1418   Val accuracy: 0.742    weighted Val loss: 0.1521\n",
      "Epoch: 530   Train loss: 0.021   Train accuracy: 0.999   Val loss: 0.1376   Val accuracy: 0.752    weighted Val loss: 0.152\n",
      "Epoch: 531   Train loss: 0.02   Train accuracy: 0.999   Val loss: 0.1388   Val accuracy: 0.754    weighted Val loss: 0.152\n",
      "Epoch: 532   Train loss: 0.0212   Train accuracy: 0.998   Val loss: 0.1388   Val accuracy: 0.759    weighted Val loss: 0.1519\n",
      "Epoch: 533   Train loss: 0.0205   Train accuracy: 0.998   Val loss: 0.1378   Val accuracy: 0.754    weighted Val loss: 0.1518\n",
      "Epoch: 534   Train loss: 0.0207   Train accuracy: 0.997   Val loss: 0.1394   Val accuracy: 0.756    weighted Val loss: 0.1518\n",
      "Epoch: 535   Train loss: 0.0215   Train accuracy: 0.996   Val loss: 0.139   Val accuracy: 0.751    weighted Val loss: 0.1517\n",
      "Epoch: 536   Train loss: 0.0205   Train accuracy: 0.996   Val loss: 0.1389   Val accuracy: 0.754    weighted Val loss: 0.1516\n",
      "Epoch: 537   Train loss: 0.0199   Train accuracy: 0.996   Val loss: 0.1419   Val accuracy: 0.755    weighted Val loss: 0.1516\n",
      "Epoch: 538   Train loss: 0.0205   Train accuracy: 0.998   Val loss: 0.1369   Val accuracy: 0.754    weighted Val loss: 0.1515\n",
      "Epoch: 539   Train loss: 0.0214   Train accuracy: 0.997   Val loss: 0.1418   Val accuracy: 0.752    weighted Val loss: 0.1515\n",
      "Epoch: 540   Train loss: 0.0206   Train accuracy: 0.998   Val loss: 0.1379   Val accuracy: 0.752    weighted Val loss: 0.1514\n",
      "Epoch: 541   Train loss: 0.0213   Train accuracy: 0.995   Val loss: 0.1377   Val accuracy: 0.764    weighted Val loss: 0.1513\n",
      "Epoch: 542   Train loss: 0.0217   Train accuracy: 0.993   Val loss: 0.1392   Val accuracy: 0.755    weighted Val loss: 0.1513\n",
      "Epoch: 543   Train loss: 0.021   Train accuracy: 0.997   Val loss: 0.142   Val accuracy: 0.761    weighted Val loss: 0.1512\n",
      "Epoch: 544   Train loss: 0.021   Train accuracy: 0.998   Val loss: 0.1403   Val accuracy: 0.753    weighted Val loss: 0.1512\n",
      "Epoch: 545   Train loss: 0.0212   Train accuracy: 0.996   Val loss: 0.1372   Val accuracy: 0.759    weighted Val loss: 0.1511\n",
      "Epoch: 546   Train loss: 0.02   Train accuracy: 0.995   Val loss: 0.1399   Val accuracy: 0.752    weighted Val loss: 0.151\n",
      "Epoch: 547   Train loss: 0.02   Train accuracy: 0.998   Val loss: 0.1393   Val accuracy: 0.755    weighted Val loss: 0.151\n",
      "Epoch: 548   Train loss: 0.02   Train accuracy: 0.997   Val loss: 0.137   Val accuracy: 0.755    weighted Val loss: 0.1509\n",
      "Epoch: 549   Train loss: 0.021   Train accuracy: 0.997   Val loss: 0.1388   Val accuracy: 0.754    weighted Val loss: 0.1508\n",
      "Epoch: 550   Train loss: 0.0213   Train accuracy: 0.996   Val loss: 0.1399   Val accuracy: 0.747    weighted Val loss: 0.1508\n",
      "Epoch: 551   Train loss: 0.0204   Train accuracy: 0.998   Val loss: 0.1374   Val accuracy: 0.76    weighted Val loss: 0.1507\n",
      "Epoch: 552   Train loss: 0.0204   Train accuracy: 0.998   Val loss: 0.141   Val accuracy: 0.758    weighted Val loss: 0.1507\n",
      "Epoch: 553   Train loss: 0.0203   Train accuracy: 0.996   Val loss: 0.1373   Val accuracy: 0.76    weighted Val loss: 0.1506\n",
      "Epoch: 554   Train loss: 0.0205   Train accuracy: 0.997   Val loss: 0.1381   Val accuracy: 0.756    weighted Val loss: 0.1505\n",
      "Epoch: 555   Train loss: 0.0204   Train accuracy: 0.999   Val loss: 0.1376   Val accuracy: 0.765    weighted Val loss: 0.1505\n",
      "Epoch: 556   Train loss: 0.0202   Train accuracy: 0.998   Val loss: 0.1379   Val accuracy: 0.757    weighted Val loss: 0.1504\n",
      "Epoch: 557   Train loss: 0.0204   Train accuracy: 0.997   Val loss: 0.1375   Val accuracy: 0.75    weighted Val loss: 0.1504\n",
      "Epoch: 558   Train loss: 0.0206   Train accuracy: 0.996   Val loss: 0.1436   Val accuracy: 0.764    weighted Val loss: 0.1503\n",
      "Epoch: 559   Train loss: 0.0231   Train accuracy: 0.999   Val loss: 0.1495   Val accuracy: 0.745    weighted Val loss: 0.1503\n",
      "Epoch: 560   Train loss: 0.0228   Train accuracy: 0.993   Val loss: 0.1369   Val accuracy: 0.75    weighted Val loss: 0.1502\n",
      "Epoch: 561   Train loss: 0.0211   Train accuracy: 0.995   Val loss: 0.1393   Val accuracy: 0.754    weighted Val loss: 0.1502\n",
      "Epoch: 562   Train loss: 0.0204   Train accuracy: 0.998   Val loss: 0.139   Val accuracy: 0.764    weighted Val loss: 0.1501\n",
      "Epoch: 563   Train loss: 0.0213   Train accuracy: 0.993   Val loss: 0.1412   Val accuracy: 0.751    weighted Val loss: 0.1501\n",
      "Epoch: 564   Train loss: 0.0213   Train accuracy: 0.996   Val loss: 0.1376   Val accuracy: 0.756    weighted Val loss: 0.15\n",
      "Epoch: 565   Train loss: 0.0204   Train accuracy: 0.998   Val loss: 0.1391   Val accuracy: 0.75    weighted Val loss: 0.15\n",
      "Epoch: 566   Train loss: 0.0212   Train accuracy: 0.996   Val loss: 0.1395   Val accuracy: 0.756    weighted Val loss: 0.1499\n",
      "Epoch: 567   Train loss: 0.0214   Train accuracy: 0.998   Val loss: 0.1396   Val accuracy: 0.743    weighted Val loss: 0.1499\n",
      "Epoch: 568   Train loss: 0.0204   Train accuracy: 0.999   Val loss: 0.1392   Val accuracy: 0.75    weighted Val loss: 0.1498\n",
      "Epoch: 569   Train loss: 0.0206   Train accuracy: 0.994   Val loss: 0.1383   Val accuracy: 0.763    weighted Val loss: 0.1498\n",
      "Epoch: 570   Train loss: 0.0206   Train accuracy: 0.998   Val loss: 0.1391   Val accuracy: 0.75    weighted Val loss: 0.1497\n",
      "Epoch: 571   Train loss: 0.0213   Train accuracy: 0.999   Val loss: 0.1423   Val accuracy: 0.74    weighted Val loss: 0.1497\n",
      "Epoch: 572   Train loss: 0.022   Train accuracy: 0.998   Val loss: 0.1417   Val accuracy: 0.759    weighted Val loss: 0.1496\n",
      "Epoch: 573   Train loss: 0.022   Train accuracy: 0.998   Val loss: 0.1432   Val accuracy: 0.767    weighted Val loss: 0.1496\n",
      "Epoch: 574   Train loss: 0.0203   Train accuracy: 0.998   Val loss: 0.143   Val accuracy: 0.746    weighted Val loss: 0.1496\n",
      "Epoch: 575   Train loss: 0.0207   Train accuracy: 0.996   Val loss: 0.1385   Val accuracy: 0.749    weighted Val loss: 0.1495\n",
      "Epoch: 576   Train loss: 0.0198   Train accuracy: 1.0   Val loss: 0.1381   Val accuracy: 0.759    weighted Val loss: 0.1495\n",
      "Epoch: 577   Train loss: 0.0209   Train accuracy: 0.998   Val loss: 0.1378   Val accuracy: 0.752    weighted Val loss: 0.1494\n",
      "Epoch: 578   Train loss: 0.0207   Train accuracy: 0.998   Val loss: 0.1392   Val accuracy: 0.75    weighted Val loss: 0.1493\n",
      "Epoch: 579   Train loss: 0.0211   Train accuracy: 0.999   Val loss: 0.1369   Val accuracy: 0.752    weighted Val loss: 0.1493\n",
      "Epoch: 580   Train loss: 0.021   Train accuracy: 0.998   Val loss: 0.1388   Val accuracy: 0.764    weighted Val loss: 0.1492\n",
      "Epoch: 581   Train loss: 0.0211   Train accuracy: 0.996   Val loss: 0.1456   Val accuracy: 0.748    weighted Val loss: 0.1492\n",
      "Epoch: 582   Train loss: 0.0233   Train accuracy: 0.995   Val loss: 0.1449   Val accuracy: 0.751    weighted Val loss: 0.1492\n",
      "Epoch: 583   Train loss: 0.0219   Train accuracy: 0.999   Val loss: 0.1385   Val accuracy: 0.758    weighted Val loss: 0.1491\n",
      "Epoch: 584   Train loss: 0.0204   Train accuracy: 0.996   Val loss: 0.1382   Val accuracy: 0.754    weighted Val loss: 0.1491\n",
      "Epoch: 585   Train loss: 0.0199   Train accuracy: 1.0   Val loss: 0.1394   Val accuracy: 0.758    weighted Val loss: 0.149\n",
      "Epoch: 586   Train loss: 0.0205   Train accuracy: 0.997   Val loss: 0.1377   Val accuracy: 0.752    weighted Val loss: 0.149\n",
      "Epoch: 587   Train loss: 0.0209   Train accuracy: 0.995   Val loss: 0.1397   Val accuracy: 0.756    weighted Val loss: 0.1489\n",
      "Epoch: 588   Train loss: 0.0202   Train accuracy: 0.998   Val loss: 0.1383   Val accuracy: 0.762    weighted Val loss: 0.1489\n",
      "Epoch: 589   Train loss: 0.0208   Train accuracy: 1.0   Val loss: 0.138   Val accuracy: 0.755    weighted Val loss: 0.1488\n",
      "Epoch: 590   Train loss: 0.0211   Train accuracy: 0.994   Val loss: 0.1376   Val accuracy: 0.754    weighted Val loss: 0.1488\n",
      "Epoch: 591   Train loss: 0.0207   Train accuracy: 0.996   Val loss: 0.1385   Val accuracy: 0.76    weighted Val loss: 0.1487\n",
      "Epoch: 592   Train loss: 0.0215   Train accuracy: 0.996   Val loss: 0.1393   Val accuracy: 0.76    weighted Val loss: 0.1487\n",
      "Epoch: 593   Train loss: 0.0218   Train accuracy: 0.996   Val loss: 0.1435   Val accuracy: 0.761    weighted Val loss: 0.1486\n",
      "Epoch: 594   Train loss: 0.0215   Train accuracy: 0.998   Val loss: 0.1393   Val accuracy: 0.743    weighted Val loss: 0.1486\n",
      "Epoch: 595   Train loss: 0.02   Train accuracy: 0.993   Val loss: 0.1405   Val accuracy: 0.756    weighted Val loss: 0.1486\n",
      "Epoch: 596   Train loss: 0.0228   Train accuracy: 0.988   Val loss: 0.1443   Val accuracy: 0.756    weighted Val loss: 0.1485\n",
      "Epoch: 597   Train loss: 0.0248   Train accuracy: 0.989   Val loss: 0.1455   Val accuracy: 0.755    weighted Val loss: 0.1485\n",
      "Epoch: 598   Train loss: 0.0224   Train accuracy: 0.996   Val loss: 0.1391   Val accuracy: 0.75    weighted Val loss: 0.1485\n",
      "Epoch: 599   Train loss: 0.0207   Train accuracy: 0.996   Val loss: 0.1367   Val accuracy: 0.754    weighted Val loss: 0.1484\n",
      "Epoch: 600   Train loss: 0.0197   Train accuracy: 0.999   Val loss: 0.1376   Val accuracy: 0.758    weighted Val loss: 0.1484\n",
      "Epoch: 601   Train loss: 0.0201   Train accuracy: 0.997   Val loss: 0.141   Val accuracy: 0.751    weighted Val loss: 0.1483\n",
      "Epoch: 602   Train loss: 0.0208   Train accuracy: 0.998   Val loss: 0.1376   Val accuracy: 0.762    weighted Val loss: 0.1483\n",
      "Epoch: 603   Train loss: 0.0201   Train accuracy: 0.998   Val loss: 0.1372   Val accuracy: 0.759    weighted Val loss: 0.1482\n",
      "Epoch: 604   Train loss: 0.0202   Train accuracy: 0.996   Val loss: 0.1429   Val accuracy: 0.745    weighted Val loss: 0.1482\n",
      "Epoch: 605   Train loss: 0.0202   Train accuracy: 0.998   Val loss: 0.1371   Val accuracy: 0.755    weighted Val loss: 0.1481\n",
      "Epoch: 606   Train loss: 0.0203   Train accuracy: 0.996   Val loss: 0.1389   Val accuracy: 0.751    weighted Val loss: 0.1481\n",
      "Epoch: 607   Train loss: 0.0206   Train accuracy: 0.997   Val loss: 0.1386   Val accuracy: 0.752    weighted Val loss: 0.148\n",
      "Epoch: 608   Train loss: 0.0205   Train accuracy: 0.997   Val loss: 0.1379   Val accuracy: 0.757    weighted Val loss: 0.148\n",
      "Epoch: 609   Train loss: 0.0207   Train accuracy: 0.997   Val loss: 0.139   Val accuracy: 0.753    weighted Val loss: 0.1479\n",
      "Epoch: 610   Train loss: 0.0208   Train accuracy: 0.996   Val loss: 0.1376   Val accuracy: 0.752    weighted Val loss: 0.1479\n",
      "Epoch: 611   Train loss: 0.0205   Train accuracy: 0.998   Val loss: 0.1361   Val accuracy: 0.756    weighted Val loss: 0.1478\n",
      "Epoch: 612   Train loss: 0.0215   Train accuracy: 0.995   Val loss: 0.1391   Val accuracy: 0.76    weighted Val loss: 0.1478\n",
      "Epoch: 613   Train loss: 0.0211   Train accuracy: 0.996   Val loss: 0.1389   Val accuracy: 0.755    weighted Val loss: 0.1477\n",
      "Epoch: 614   Train loss: 0.0207   Train accuracy: 0.996   Val loss: 0.1391   Val accuracy: 0.749    weighted Val loss: 0.1477\n",
      "Epoch: 615   Train loss: 0.0203   Train accuracy: 0.998   Val loss: 0.1394   Val accuracy: 0.753    weighted Val loss: 0.1477\n",
      "Epoch: 616   Train loss: 0.0208   Train accuracy: 0.998   Val loss: 0.1395   Val accuracy: 0.754    weighted Val loss: 0.1476\n",
      "Epoch: 617   Train loss: 0.021   Train accuracy: 0.996   Val loss: 0.1373   Val accuracy: 0.753    weighted Val loss: 0.1476\n",
      "Epoch: 618   Train loss: 0.0211   Train accuracy: 0.995   Val loss: 0.1372   Val accuracy: 0.751    weighted Val loss: 0.1475\n",
      "Epoch: 619   Train loss: 0.0207   Train accuracy: 0.998   Val loss: 0.1402   Val accuracy: 0.759    weighted Val loss: 0.1475\n",
      "Epoch: 620   Train loss: 0.0204   Train accuracy: 0.996   Val loss: 0.1378   Val accuracy: 0.757    weighted Val loss: 0.1474\n",
      "Epoch: 621   Train loss: 0.0203   Train accuracy: 1.0   Val loss: 0.1367   Val accuracy: 0.748    weighted Val loss: 0.1474\n",
      "Epoch: 622   Train loss: 0.021   Train accuracy: 0.997   Val loss: 0.1407   Val accuracy: 0.748    weighted Val loss: 0.1473\n",
      "Epoch: 623   Train loss: 0.021   Train accuracy: 0.994   Val loss: 0.1381   Val accuracy: 0.755    weighted Val loss: 0.1473\n",
      "Epoch: 624   Train loss: 0.0232   Train accuracy: 0.994   Val loss: 0.1462   Val accuracy: 0.754    weighted Val loss: 0.1473\n",
      "Epoch: 625   Train loss: 0.0209   Train accuracy: 0.998   Val loss: 0.1411   Val accuracy: 0.748    weighted Val loss: 0.1473\n",
      "Epoch: 626   Train loss: 0.0205   Train accuracy: 0.997   Val loss: 0.1374   Val accuracy: 0.766    weighted Val loss: 0.1472\n",
      "Epoch: 627   Train loss: 0.0203   Train accuracy: 0.998   Val loss: 0.1385   Val accuracy: 0.743    weighted Val loss: 0.1472\n",
      "Epoch: 628   Train loss: 0.021   Train accuracy: 0.998   Val loss: 0.1379   Val accuracy: 0.756    weighted Val loss: 0.1471\n",
      "Epoch: 629   Train loss: 0.0211   Train accuracy: 0.995   Val loss: 0.138   Val accuracy: 0.752    weighted Val loss: 0.1471\n",
      "Epoch: 630   Train loss: 0.0211   Train accuracy: 1.0   Val loss: 0.1421   Val accuracy: 0.763    weighted Val loss: 0.147\n",
      "Epoch: 631   Train loss: 0.0215   Train accuracy: 0.996   Val loss: 0.138   Val accuracy: 0.753    weighted Val loss: 0.147\n",
      "Epoch: 632   Train loss: 0.0203   Train accuracy: 0.997   Val loss: 0.1413   Val accuracy: 0.748    weighted Val loss: 0.147\n",
      "Epoch: 633   Train loss: 0.0206   Train accuracy: 0.998   Val loss: 0.1374   Val accuracy: 0.752    weighted Val loss: 0.1469\n",
      "Epoch: 634   Train loss: 0.0206   Train accuracy: 0.997   Val loss: 0.1381   Val accuracy: 0.746    weighted Val loss: 0.1469\n",
      "Epoch: 635   Train loss: 0.021   Train accuracy: 0.995   Val loss: 0.1386   Val accuracy: 0.762    weighted Val loss: 0.1468\n",
      "Epoch: 636   Train loss: 0.0201   Train accuracy: 0.996   Val loss: 0.1407   Val accuracy: 0.751    weighted Val loss: 0.1468\n",
      "Epoch: 637   Train loss: 0.0214   Train accuracy: 0.994   Val loss: 0.139   Val accuracy: 0.757    weighted Val loss: 0.1468\n",
      "Epoch: 638   Train loss: 0.0214   Train accuracy: 0.996   Val loss: 0.1396   Val accuracy: 0.754    weighted Val loss: 0.1467\n",
      "Epoch: 639   Train loss: 0.0214   Train accuracy: 0.996   Val loss: 0.1381   Val accuracy: 0.753    weighted Val loss: 0.1467\n",
      "Epoch: 640   Train loss: 0.0209   Train accuracy: 0.995   Val loss: 0.1387   Val accuracy: 0.752    weighted Val loss: 0.1467\n",
      "Epoch: 641   Train loss: 0.0205   Train accuracy: 0.997   Val loss: 0.1389   Val accuracy: 0.761    weighted Val loss: 0.1466\n",
      "Epoch: 642   Train loss: 0.0225   Train accuracy: 0.996   Val loss: 0.1429   Val accuracy: 0.764    weighted Val loss: 0.1466\n",
      "Epoch: 643   Train loss: 0.0225   Train accuracy: 0.996   Val loss: 0.1431   Val accuracy: 0.753    weighted Val loss: 0.1466\n",
      "Epoch: 644   Train loss: 0.0209   Train accuracy: 0.994   Val loss: 0.1397   Val accuracy: 0.752    weighted Val loss: 0.1465\n",
      "Epoch: 645   Train loss: 0.0213   Train accuracy: 0.997   Val loss: 0.1389   Val accuracy: 0.754    weighted Val loss: 0.1465\n",
      "Epoch: 646   Train loss: 0.0202   Train accuracy: 0.998   Val loss: 0.14   Val accuracy: 0.763    weighted Val loss: 0.1465\n",
      "Epoch: 647   Train loss: 0.02   Train accuracy: 0.998   Val loss: 0.1381   Val accuracy: 0.747    weighted Val loss: 0.1464\n",
      "Epoch: 648   Train loss: 0.0213   Train accuracy: 0.998   Val loss: 0.1386   Val accuracy: 0.755    weighted Val loss: 0.1464\n",
      "Epoch: 649   Train loss: 0.0207   Train accuracy: 0.998   Val loss: 0.144   Val accuracy: 0.748    weighted Val loss: 0.1464\n",
      "Epoch: 650   Train loss: 0.0217   Train accuracy: 0.994   Val loss: 0.1385   Val accuracy: 0.755    weighted Val loss: 0.1463\n",
      "Epoch: 651   Train loss: 0.0244   Train accuracy: 0.995   Val loss: 0.1418   Val accuracy: 0.757    weighted Val loss: 0.1463\n",
      "Epoch: 652   Train loss: 0.022   Train accuracy: 0.991   Val loss: 0.1396   Val accuracy: 0.749    weighted Val loss: 0.1463\n",
      "Epoch: 653   Train loss: 0.0208   Train accuracy: 0.995   Val loss: 0.1379   Val accuracy: 0.747    weighted Val loss: 0.1462\n",
      "Epoch: 654   Train loss: 0.0212   Train accuracy: 0.994   Val loss: 0.1381   Val accuracy: 0.755    weighted Val loss: 0.1462\n",
      "Epoch: 655   Train loss: 0.0197   Train accuracy: 0.998   Val loss: 0.1397   Val accuracy: 0.755    weighted Val loss: 0.1462\n",
      "Epoch: 656   Train loss: 0.0201   Train accuracy: 0.996   Val loss: 0.1397   Val accuracy: 0.747    weighted Val loss: 0.1461\n",
      "Epoch: 657   Train loss: 0.021   Train accuracy: 0.997   Val loss: 0.1385   Val accuracy: 0.766    weighted Val loss: 0.1461\n",
      "Epoch: 658   Train loss: 0.0208   Train accuracy: 1.0   Val loss: 0.1399   Val accuracy: 0.743    weighted Val loss: 0.1461\n",
      "Epoch: 659   Train loss: 0.02   Train accuracy: 0.996   Val loss: 0.1381   Val accuracy: 0.758    weighted Val loss: 0.146\n",
      "Epoch: 660   Train loss: 0.0207   Train accuracy: 0.995   Val loss: 0.1419   Val accuracy: 0.762    weighted Val loss: 0.146\n",
      "Epoch: 661   Train loss: 0.0211   Train accuracy: 0.996   Val loss: 0.1387   Val accuracy: 0.744    weighted Val loss: 0.146\n",
      "Epoch: 662   Train loss: 0.0204   Train accuracy: 1.0   Val loss: 0.1368   Val accuracy: 0.757    weighted Val loss: 0.1459\n",
      "Epoch: 663   Train loss: 0.0207   Train accuracy: 0.998   Val loss: 0.1399   Val accuracy: 0.759    weighted Val loss: 0.1459\n",
      "Epoch: 664   Train loss: 0.0201   Train accuracy: 0.998   Val loss: 0.1386   Val accuracy: 0.748    weighted Val loss: 0.1459\n",
      "Epoch: 665   Train loss: 0.0205   Train accuracy: 0.998   Val loss: 0.1427   Val accuracy: 0.768    weighted Val loss: 0.1458\n",
      "Epoch: 666   Train loss: 0.0211   Train accuracy: 0.998   Val loss: 0.14   Val accuracy: 0.746    weighted Val loss: 0.1458\n",
      "Epoch: 667   Train loss: 0.0214   Train accuracy: 0.998   Val loss: 0.1433   Val accuracy: 0.739    weighted Val loss: 0.1458\n",
      "Epoch: 668   Train loss: 0.0222   Train accuracy: 0.997   Val loss: 0.1372   Val accuracy: 0.752    weighted Val loss: 0.1458\n",
      "Epoch: 669   Train loss: 0.0196   Train accuracy: 0.998   Val loss: 0.1423   Val accuracy: 0.744    weighted Val loss: 0.1457\n",
      "Epoch: 670   Train loss: 0.0207   Train accuracy: 0.996   Val loss: 0.1371   Val accuracy: 0.765    weighted Val loss: 0.1457\n",
      "Epoch: 671   Train loss: 0.0208   Train accuracy: 0.998   Val loss: 0.1399   Val accuracy: 0.758    weighted Val loss: 0.1457\n",
      "Epoch: 672   Train loss: 0.0207   Train accuracy: 0.997   Val loss: 0.1409   Val accuracy: 0.755    weighted Val loss: 0.1456\n",
      "Epoch: 673   Train loss: 0.0204   Train accuracy: 0.996   Val loss: 0.1388   Val accuracy: 0.751    weighted Val loss: 0.1456\n",
      "Epoch: 674   Train loss: 0.0201   Train accuracy: 0.998   Val loss: 0.137   Val accuracy: 0.754    weighted Val loss: 0.1456\n",
      "Epoch: 675   Train loss: 0.0202   Train accuracy: 0.996   Val loss: 0.1387   Val accuracy: 0.755    weighted Val loss: 0.1455\n",
      "Epoch: 676   Train loss: 0.0211   Train accuracy: 0.996   Val loss: 0.1361   Val accuracy: 0.752    weighted Val loss: 0.1455\n",
      "Epoch: 677   Train loss: 0.0205   Train accuracy: 0.997   Val loss: 0.1396   Val accuracy: 0.753    weighted Val loss: 0.1455\n",
      "Epoch: 678   Train loss: 0.0202   Train accuracy: 0.993   Val loss: 0.1377   Val accuracy: 0.76    weighted Val loss: 0.1454\n",
      "Epoch: 679   Train loss: 0.0204   Train accuracy: 0.998   Val loss: 0.1418   Val accuracy: 0.747    weighted Val loss: 0.1454\n",
      "Epoch: 680   Train loss: 0.0205   Train accuracy: 0.997   Val loss: 0.1377   Val accuracy: 0.759    weighted Val loss: 0.1454\n",
      "Epoch: 681   Train loss: 0.0209   Train accuracy: 0.998   Val loss: 0.1405   Val accuracy: 0.745    weighted Val loss: 0.1453\n",
      "Epoch: 682   Train loss: 0.021   Train accuracy: 0.997   Val loss: 0.1382   Val accuracy: 0.747    weighted Val loss: 0.1453\n",
      "Epoch: 683   Train loss: 0.0213   Train accuracy: 0.998   Val loss: 0.1387   Val accuracy: 0.763    weighted Val loss: 0.1453\n",
      "Epoch: 684   Train loss: 0.0211   Train accuracy: 0.994   Val loss: 0.1398   Val accuracy: 0.747    weighted Val loss: 0.1452\n",
      "Epoch: 685   Train loss: 0.0204   Train accuracy: 0.998   Val loss: 0.1368   Val accuracy: 0.758    weighted Val loss: 0.1452\n",
      "Epoch: 686   Train loss: 0.0207   Train accuracy: 0.996   Val loss: 0.1383   Val accuracy: 0.751    weighted Val loss: 0.1452\n",
      "Epoch: 687   Train loss: 0.021   Train accuracy: 0.995   Val loss: 0.1385   Val accuracy: 0.747    weighted Val loss: 0.1451\n",
      "Epoch: 688   Train loss: 0.0202   Train accuracy: 0.999   Val loss: 0.1396   Val accuracy: 0.746    weighted Val loss: 0.1451\n",
      "Epoch: 689   Train loss: 0.0199   Train accuracy: 0.998   Val loss: 0.1392   Val accuracy: 0.748    weighted Val loss: 0.1451\n",
      "Epoch: 690   Train loss: 0.0209   Train accuracy: 0.996   Val loss: 0.1369   Val accuracy: 0.762    weighted Val loss: 0.145\n",
      "Epoch: 691   Train loss: 0.0208   Train accuracy: 0.998   Val loss: 0.1398   Val accuracy: 0.766    weighted Val loss: 0.145\n",
      "Epoch: 692   Train loss: 0.0212   Train accuracy: 0.997   Val loss: 0.1374   Val accuracy: 0.762    weighted Val loss: 0.145\n",
      "Epoch: 693   Train loss: 0.0208   Train accuracy: 0.998   Val loss: 0.1416   Val accuracy: 0.748    weighted Val loss: 0.145\n",
      "Epoch: 694   Train loss: 0.0211   Train accuracy: 0.998   Val loss: 0.1396   Val accuracy: 0.761    weighted Val loss: 0.1449\n",
      "Epoch: 695   Train loss: 0.0202   Train accuracy: 1.0   Val loss: 0.1391   Val accuracy: 0.761    weighted Val loss: 0.1449\n",
      "Epoch: 696   Train loss: 0.0209   Train accuracy: 0.994   Val loss: 0.1406   Val accuracy: 0.744    weighted Val loss: 0.1449\n",
      "Epoch: 697   Train loss: 0.0205   Train accuracy: 0.998   Val loss: 0.1377   Val accuracy: 0.764    weighted Val loss: 0.1448\n",
      "Epoch: 698   Train loss: 0.0205   Train accuracy: 0.998   Val loss: 0.1385   Val accuracy: 0.746    weighted Val loss: 0.1448\n",
      "Epoch: 699   Train loss: 0.0204   Train accuracy: 0.995   Val loss: 0.1404   Val accuracy: 0.745    weighted Val loss: 0.1448\n",
      "Epoch: 700   Train loss: 0.0205   Train accuracy: 0.997   Val loss: 0.1372   Val accuracy: 0.762    weighted Val loss: 0.1447\n",
      "Epoch: 701   Train loss: 0.0205   Train accuracy: 0.996   Val loss: 0.1399   Val accuracy: 0.74    weighted Val loss: 0.1447\n",
      "Epoch: 702   Train loss: 0.0207   Train accuracy: 0.998   Val loss: 0.1369   Val accuracy: 0.767    weighted Val loss: 0.1447\n",
      "Epoch: 703   Train loss: 0.0201   Train accuracy: 0.996   Val loss: 0.1375   Val accuracy: 0.746    weighted Val loss: 0.1446\n",
      "Epoch: 704   Train loss: 0.021   Train accuracy: 0.999   Val loss: 0.14   Val accuracy: 0.751    weighted Val loss: 0.1446\n",
      "Epoch: 705   Train loss: 0.0211   Train accuracy: 0.993   Val loss: 0.1385   Val accuracy: 0.764    weighted Val loss: 0.1446\n",
      "Epoch: 706   Train loss: 0.0216   Train accuracy: 0.997   Val loss: 0.139   Val accuracy: 0.76    weighted Val loss: 0.1446\n",
      "Epoch: 707   Train loss: 0.0212   Train accuracy: 0.997   Val loss: 0.1373   Val accuracy: 0.752    weighted Val loss: 0.1445\n",
      "Epoch: 708   Train loss: 0.0204   Train accuracy: 0.998   Val loss: 0.1393   Val accuracy: 0.749    weighted Val loss: 0.1445\n",
      "Epoch: 709   Train loss: 0.0205   Train accuracy: 0.997   Val loss: 0.1398   Val accuracy: 0.748    weighted Val loss: 0.1445\n",
      "Epoch: 710   Train loss: 0.0213   Train accuracy: 0.998   Val loss: 0.1423   Val accuracy: 0.759    weighted Val loss: 0.1445\n",
      "Epoch: 711   Train loss: 0.0231   Train accuracy: 0.996   Val loss: 0.1452   Val accuracy: 0.751    weighted Val loss: 0.1445\n"
     ]
    }
   ],
   "source": [
    "MLPparametersGCN = {\n",
    "    'n_layers':2,\n",
    "    'layer_size_factor':[1, 2], \n",
    "    'dropout':[-1, -1],\n",
    "    'batch_size': 128,\n",
    "    'num_epochs': 900,\n",
    "    'learning_rate': 6e-4,\n",
    "    'weight_decay': 5e-3,\n",
    "    'betas': (0.9, 0.999), \n",
    "    'eps': 1e-08\n",
    "}\n",
    "MLPmodelGCN, _,_, MLPcheckpointGCN = MLP.train_MLP(dm, sim_all[\"GCN_train\"], sim_all[\"GCN_test\"], MLPparametersGCN, acc_fn=MLP.F1, autostop_decay = 0.995, print_summary = True)"
   ]
  },
  {
   "cell_type": "code",
   "execution_count": 32,
   "metadata": {},
   "outputs": [
    {
     "name": "stdout",
     "output_type": "stream",
     "text": [
      "model saved\n"
     ]
    }
   ],
   "source": [
    "#optional: save the model\n",
    "MLP.save_ckp(MLPcheckpointGCN, \"models/MLPGCN253_2.pt\")"
   ]
  },
  {
   "cell_type": "markdown",
   "metadata": {},
   "source": [
    "###### Result"
   ]
  },
  {
   "cell_type": "code",
   "execution_count": 33,
   "metadata": {},
   "outputs": [
    {
     "name": "stdout",
     "output_type": "stream",
     "text": [
      "device set to cuda\n",
      "threshold: 0.05  validation loss: 0.1371 F1 accuracy 0.596 Precision accuracy 0.442 Recall accuracy 0.915 AUC accuracy: 0.959\n",
      "device set to cuda\n",
      "threshold: 0.1  validation loss: 0.1371 F1 accuracy 0.653 Precision accuracy 0.517 Recall accuracy 0.888 AUC accuracy: 0.959\n",
      "device set to cuda\n",
      "threshold: 0.15  validation loss: 0.1371 F1 accuracy 0.702 Precision accuracy 0.591 Recall accuracy 0.865 AUC accuracy: 0.959\n",
      "device set to cuda\n",
      "threshold: 0.2  validation loss: 0.1371 F1 accuracy 0.72 Precision accuracy 0.633 Recall accuracy 0.835 AUC accuracy: 0.959\n",
      "device set to cuda\n",
      "threshold: 0.25  validation loss: 0.1371 F1 accuracy 0.732 Precision accuracy 0.665 Recall accuracy 0.815 AUC accuracy: 0.959\n",
      "device set to cuda\n",
      "threshold: 0.3  validation loss: 0.1371 F1 accuracy 0.739 Precision accuracy 0.699 Recall accuracy 0.785 AUC accuracy: 0.959\n",
      "device set to cuda\n",
      "threshold: 0.35  validation loss: 0.1371 F1 accuracy 0.751 Precision accuracy 0.727 Recall accuracy 0.777 AUC accuracy: 0.959\n",
      "device set to cuda\n",
      "threshold: 0.4  validation loss: 0.1371 F1 accuracy 0.767 Precision accuracy 0.773 Recall accuracy 0.762 AUC accuracy: 0.959\n",
      "device set to cuda\n",
      "threshold: 0.45  validation loss: 0.1371 F1 accuracy 0.77 Precision accuracy 0.809 Recall accuracy 0.735 AUC accuracy: 0.959\n",
      "device set to cuda\n",
      "threshold: 0.5  validation loss: 0.1371 F1 accuracy 0.767 Precision accuracy 0.817 Recall accuracy 0.723 AUC accuracy: 0.959\n",
      "device set to cuda\n",
      "threshold: 0.55  validation loss: 0.1371 F1 accuracy 0.752 Precision accuracy 0.822 Recall accuracy 0.692 AUC accuracy: 0.959\n",
      "device set to cuda\n",
      "threshold: 0.6  validation loss: 0.1371 F1 accuracy 0.726 Precision accuracy 0.828 Recall accuracy 0.646 AUC accuracy: 0.959\n",
      "device set to cuda\n",
      "threshold: 0.65  validation loss: 0.1371 F1 accuracy 0.705 Precision accuracy 0.832 Recall accuracy 0.612 AUC accuracy: 0.959\n",
      "device set to cuda\n",
      "threshold: 0.7  validation loss: 0.1371 F1 accuracy 0.682 Precision accuracy 0.869 Recall accuracy 0.562 AUC accuracy: 0.959\n",
      "device set to cuda\n",
      "threshold: 0.75  validation loss: 0.1371 F1 accuracy 0.671 Precision accuracy 0.871 Recall accuracy 0.546 AUC accuracy: 0.959\n",
      "device set to cuda\n",
      "threshold: 0.8  validation loss: 0.1371 F1 accuracy 0.64 Precision accuracy 0.89 Recall accuracy 0.5 AUC accuracy: 0.959\n",
      "device set to cuda\n",
      "threshold: 0.85  validation loss: 0.1371 F1 accuracy 0.603 Precision accuracy 0.928 Recall accuracy 0.446 AUC accuracy: 0.959\n",
      "device set to cuda\n",
      "threshold: 0.9  validation loss: 0.1371 F1 accuracy 0.525 Precision accuracy 0.931 Recall accuracy 0.365 AUC accuracy: 0.959\n",
      "device set to cuda\n",
      "threshold: 0.95  validation loss: 0.1371 F1 accuracy 0.437 Precision accuracy 0.986 Recall accuracy 0.281 AUC accuracy: 0.959\n"
     ]
    }
   ],
   "source": [
    "for i in range(5,100, 5):\n",
    "    t = i/100;\n",
    "    MLP.eval_mlp(MLPmodelGCN, sim_all[\"GCN_test\"], dm, device_name = 'cuda', threshold = t)"
   ]
  },
  {
   "cell_type": "markdown",
   "metadata": {},
   "source": [
    "##### 3.1.2 MLP for GDE"
   ]
  },
  {
   "cell_type": "markdown",
   "metadata": {},
   "source": [
    "###### Training"
   ]
  },
  {
   "cell_type": "code",
   "execution_count": 27,
   "metadata": {
    "collapsed": true,
    "jupyter": {
     "outputs_hidden": true
    }
   },
   "outputs": [
    {
     "name": "stdout",
     "output_type": "stream",
     "text": [
      "MLP(\n",
      "  (layers): ModuleList(\n",
      "    (0): Dropout(p=0.5, inplace=False)\n",
      "    (1): Linear(in_features=276, out_features=276, bias=True)\n",
      "    (2): ReLU()\n",
      "    (3): Dropout(p=0.3, inplace=False)\n",
      "    (4): Linear(in_features=276, out_features=1, bias=True)\n",
      "    (5): Sigmoid()\n",
      "  )\n",
      ")\n",
      "----------------------------------------------------------------\n",
      "        Layer (type)               Output Shape         Param #\n",
      "================================================================\n",
      "           Dropout-1                  [-1, 276]               0\n",
      "            Linear-2                  [-1, 276]          76,452\n",
      "              ReLU-3                  [-1, 276]               0\n",
      "           Dropout-4                  [-1, 276]               0\n",
      "            Linear-5                    [-1, 1]             277\n",
      "           Sigmoid-6                    [-1, 1]               0\n",
      "================================================================\n",
      "Total params: 76,729\n",
      "Trainable params: 76,729\n",
      "Non-trainable params: 0\n",
      "----------------------------------------------------------------\n",
      "Input size (MB): 0.00\n",
      "Forward/backward pass size (MB): 0.01\n",
      "Params size (MB): 0.29\n",
      "Estimated Total Size (MB): 0.30\n",
      "----------------------------------------------------------------\n",
      "Epoch: 1   Train loss: 0.3988   Train accuracy: 0.02   Val loss: 0.301   Val accuracy: 0.412    weighted Val loss: 0.301\n",
      "0.412 ----------saved-----------\n",
      "Epoch: 2   Train loss: 0.2985   Train accuracy: 0.0   Val loss: 0.2606   Val accuracy: 0.512    weighted Val loss: 0.3008\n",
      "0.512 ----------saved-----------\n",
      "Epoch: 3   Train loss: 0.2626   Train accuracy: 0.009   Val loss: 0.2384   Val accuracy: 0.574    weighted Val loss: 0.3005\n",
      "0.574 ----------saved-----------\n",
      "Epoch: 4   Train loss: 0.2466   Train accuracy: 0.049   Val loss: 0.2203   Val accuracy: 0.597    weighted Val loss: 0.3001\n",
      "0.597 ----------saved-----------\n",
      "Epoch: 5   Train loss: 0.227   Train accuracy: 0.201   Val loss: 0.2058   Val accuracy: 0.63    weighted Val loss: 0.2996\n",
      "0.63 ----------saved-----------\n",
      "Epoch: 6   Train loss: 0.2219   Train accuracy: 0.315   Val loss: 0.1966   Val accuracy: 0.64    weighted Val loss: 0.2991\n",
      "0.64 ----------saved-----------\n",
      "Epoch: 7   Train loss: 0.213   Train accuracy: 0.396   Val loss: 0.1898   Val accuracy: 0.647    weighted Val loss: 0.2985\n",
      "0.647 ----------saved-----------\n",
      "Epoch: 8   Train loss: 0.2093   Train accuracy: 0.411   Val loss: 0.1866   Val accuracy: 0.662    weighted Val loss: 0.298\n",
      "0.662 ----------saved-----------\n",
      "Epoch: 9   Train loss: 0.2111   Train accuracy: 0.488   Val loss: 0.1826   Val accuracy: 0.664    weighted Val loss: 0.2974\n",
      "0.664 ----------saved-----------\n",
      "Epoch: 10   Train loss: 0.1999   Train accuracy: 0.468   Val loss: 0.1832   Val accuracy: 0.657    weighted Val loss: 0.2968\n",
      "Epoch: 11   Train loss: 0.21   Train accuracy: 0.471   Val loss: 0.1843   Val accuracy: 0.659    weighted Val loss: 0.2963\n",
      "Epoch: 12   Train loss: 0.2015   Train accuracy: 0.478   Val loss: 0.1763   Val accuracy: 0.663    weighted Val loss: 0.2957\n",
      "Epoch: 13   Train loss: 0.2086   Train accuracy: 0.474   Val loss: 0.1759   Val accuracy: 0.668    weighted Val loss: 0.2951\n",
      "0.668 ----------saved-----------\n",
      "Epoch: 14   Train loss: 0.2001   Train accuracy: 0.502   Val loss: 0.1755   Val accuracy: 0.67    weighted Val loss: 0.2945\n",
      "0.67 ----------saved-----------\n",
      "Epoch: 15   Train loss: 0.1961   Train accuracy: 0.471   Val loss: 0.1729   Val accuracy: 0.664    weighted Val loss: 0.2939\n",
      "Epoch: 16   Train loss: 0.1997   Train accuracy: 0.543   Val loss: 0.1714   Val accuracy: 0.669    weighted Val loss: 0.2932\n",
      "Epoch: 17   Train loss: 0.1993   Train accuracy: 0.513   Val loss: 0.17   Val accuracy: 0.685    weighted Val loss: 0.2926\n",
      "0.685 ----------saved-----------\n",
      "Epoch: 18   Train loss: 0.1907   Train accuracy: 0.543   Val loss: 0.1739   Val accuracy: 0.68    weighted Val loss: 0.292\n",
      "Epoch: 19   Train loss: 0.1965   Train accuracy: 0.522   Val loss: 0.1731   Val accuracy: 0.673    weighted Val loss: 0.2914\n",
      "Epoch: 20   Train loss: 0.1918   Train accuracy: 0.578   Val loss: 0.1786   Val accuracy: 0.677    weighted Val loss: 0.2909\n",
      "Epoch: 21   Train loss: 0.1965   Train accuracy: 0.475   Val loss: 0.1713   Val accuracy: 0.679    weighted Val loss: 0.2903\n",
      "Epoch: 22   Train loss: 0.1846   Train accuracy: 0.542   Val loss: 0.167   Val accuracy: 0.677    weighted Val loss: 0.2897\n",
      "Epoch: 23   Train loss: 0.1911   Train accuracy: 0.568   Val loss: 0.1701   Val accuracy: 0.676    weighted Val loss: 0.2891\n",
      "Epoch: 24   Train loss: 0.1876   Train accuracy: 0.565   Val loss: 0.1678   Val accuracy: 0.684    weighted Val loss: 0.2885\n",
      "Epoch: 25   Train loss: 0.1825   Train accuracy: 0.561   Val loss: 0.1668   Val accuracy: 0.687    weighted Val loss: 0.2878\n",
      "0.687 ----------saved-----------\n",
      "Epoch: 26   Train loss: 0.1783   Train accuracy: 0.561   Val loss: 0.1667   Val accuracy: 0.697    weighted Val loss: 0.2872\n",
      "0.697 ----------saved-----------\n",
      "Epoch: 27   Train loss: 0.1929   Train accuracy: 0.534   Val loss: 0.1675   Val accuracy: 0.698    weighted Val loss: 0.2866\n",
      "0.698 ----------saved-----------\n",
      "Epoch: 28   Train loss: 0.1787   Train accuracy: 0.628   Val loss: 0.1689   Val accuracy: 0.699    weighted Val loss: 0.2861\n",
      "0.699 ----------saved-----------\n",
      "Epoch: 29   Train loss: 0.1916   Train accuracy: 0.548   Val loss: 0.1662   Val accuracy: 0.704    weighted Val loss: 0.2855\n",
      "0.704 ----------saved-----------\n",
      "Epoch: 30   Train loss: 0.1869   Train accuracy: 0.557   Val loss: 0.1644   Val accuracy: 0.699    weighted Val loss: 0.2848\n",
      "Epoch: 31   Train loss: 0.1807   Train accuracy: 0.571   Val loss: 0.1755   Val accuracy: 0.691    weighted Val loss: 0.2843\n",
      "Epoch: 32   Train loss: 0.1827   Train accuracy: 0.579   Val loss: 0.1665   Val accuracy: 0.699    weighted Val loss: 0.2837\n",
      "Epoch: 33   Train loss: 0.1825   Train accuracy: 0.558   Val loss: 0.1646   Val accuracy: 0.703    weighted Val loss: 0.2831\n",
      "Epoch: 34   Train loss: 0.1833   Train accuracy: 0.578   Val loss: 0.1777   Val accuracy: 0.697    weighted Val loss: 0.2826\n",
      "Epoch: 35   Train loss: 0.1838   Train accuracy: 0.579   Val loss: 0.1623   Val accuracy: 0.711    weighted Val loss: 0.282\n",
      "0.711 ----------saved-----------\n",
      "Epoch: 36   Train loss: 0.1785   Train accuracy: 0.594   Val loss: 0.1585   Val accuracy: 0.706    weighted Val loss: 0.2814\n",
      "Epoch: 37   Train loss: 0.1788   Train accuracy: 0.615   Val loss: 0.1602   Val accuracy: 0.705    weighted Val loss: 0.2808\n",
      "Epoch: 38   Train loss: 0.1768   Train accuracy: 0.548   Val loss: 0.1588   Val accuracy: 0.715    weighted Val loss: 0.2802\n",
      "0.715 ----------saved-----------\n",
      "Epoch: 39   Train loss: 0.1795   Train accuracy: 0.56   Val loss: 0.1587   Val accuracy: 0.724    weighted Val loss: 0.2795\n",
      "0.724 ----------saved-----------\n",
      "Epoch: 40   Train loss: 0.1829   Train accuracy: 0.596   Val loss: 0.1595   Val accuracy: 0.715    weighted Val loss: 0.2789\n",
      "Epoch: 41   Train loss: 0.1703   Train accuracy: 0.613   Val loss: 0.1583   Val accuracy: 0.732    weighted Val loss: 0.2783\n",
      "0.732 ----------saved-----------\n",
      "Epoch: 42   Train loss: 0.1682   Train accuracy: 0.598   Val loss: 0.1542   Val accuracy: 0.732    weighted Val loss: 0.2777\n",
      "Epoch: 43   Train loss: 0.1667   Train accuracy: 0.639   Val loss: 0.1588   Val accuracy: 0.716    weighted Val loss: 0.2771\n",
      "Epoch: 44   Train loss: 0.1734   Train accuracy: 0.589   Val loss: 0.1542   Val accuracy: 0.716    weighted Val loss: 0.2765\n",
      "Epoch: 45   Train loss: 0.1747   Train accuracy: 0.542   Val loss: 0.1526   Val accuracy: 0.728    weighted Val loss: 0.2759\n",
      "Epoch: 46   Train loss: 0.1658   Train accuracy: 0.626   Val loss: 0.1544   Val accuracy: 0.731    weighted Val loss: 0.2753\n",
      "Epoch: 47   Train loss: 0.1677   Train accuracy: 0.615   Val loss: 0.153   Val accuracy: 0.743    weighted Val loss: 0.2747\n",
      "0.743 ----------saved-----------\n",
      "Epoch: 48   Train loss: 0.1572   Train accuracy: 0.629   Val loss: 0.1486   Val accuracy: 0.737    weighted Val loss: 0.274\n",
      "Epoch: 49   Train loss: 0.1691   Train accuracy: 0.616   Val loss: 0.1499   Val accuracy: 0.729    weighted Val loss: 0.2734\n",
      "Epoch: 50   Train loss: 0.1637   Train accuracy: 0.621   Val loss: 0.1526   Val accuracy: 0.743    weighted Val loss: 0.2728\n",
      "0.743 ----------saved-----------\n",
      "Epoch: 51   Train loss: 0.1603   Train accuracy: 0.644   Val loss: 0.1503   Val accuracy: 0.74    weighted Val loss: 0.2722\n",
      "Epoch: 52   Train loss: 0.1578   Train accuracy: 0.673   Val loss: 0.1568   Val accuracy: 0.739    weighted Val loss: 0.2716\n",
      "Epoch: 53   Train loss: 0.1607   Train accuracy: 0.634   Val loss: 0.1499   Val accuracy: 0.74    weighted Val loss: 0.271\n",
      "Epoch: 54   Train loss: 0.1653   Train accuracy: 0.633   Val loss: 0.1597   Val accuracy: 0.75    weighted Val loss: 0.2705\n",
      "0.75 ----------saved-----------\n",
      "Epoch: 55   Train loss: 0.1654   Train accuracy: 0.616   Val loss: 0.1512   Val accuracy: 0.754    weighted Val loss: 0.2699\n",
      "0.754 ----------saved-----------\n",
      "Epoch: 56   Train loss: 0.1678   Train accuracy: 0.637   Val loss: 0.148   Val accuracy: 0.747    weighted Val loss: 0.2693\n",
      "Epoch: 57   Train loss: 0.1486   Train accuracy: 0.699   Val loss: 0.1461   Val accuracy: 0.751    weighted Val loss: 0.2686\n",
      "Epoch: 58   Train loss: 0.1592   Train accuracy: 0.636   Val loss: 0.1436   Val accuracy: 0.751    weighted Val loss: 0.268\n",
      "Epoch: 59   Train loss: 0.1522   Train accuracy: 0.68   Val loss: 0.1442   Val accuracy: 0.74    weighted Val loss: 0.2674\n",
      "Epoch: 60   Train loss: 0.145   Train accuracy: 0.708   Val loss: 0.1474   Val accuracy: 0.744    weighted Val loss: 0.2668\n",
      "Epoch: 61   Train loss: 0.1503   Train accuracy: 0.696   Val loss: 0.1453   Val accuracy: 0.75    weighted Val loss: 0.2662\n",
      "Epoch: 62   Train loss: 0.1543   Train accuracy: 0.662   Val loss: 0.1471   Val accuracy: 0.747    weighted Val loss: 0.2656\n",
      "Epoch: 63   Train loss: 0.1595   Train accuracy: 0.636   Val loss: 0.1455   Val accuracy: 0.743    weighted Val loss: 0.265\n",
      "Epoch: 64   Train loss: 0.1596   Train accuracy: 0.66   Val loss: 0.1478   Val accuracy: 0.744    weighted Val loss: 0.2644\n",
      "Epoch: 65   Train loss: 0.1518   Train accuracy: 0.705   Val loss: 0.144   Val accuracy: 0.735    weighted Val loss: 0.2638\n",
      "Epoch: 66   Train loss: 0.1475   Train accuracy: 0.669   Val loss: 0.1423   Val accuracy: 0.75    weighted Val loss: 0.2632\n",
      "Epoch: 67   Train loss: 0.1527   Train accuracy: 0.697   Val loss: 0.1423   Val accuracy: 0.744    weighted Val loss: 0.2626\n",
      "Epoch: 68   Train loss: 0.156   Train accuracy: 0.632   Val loss: 0.1426   Val accuracy: 0.761    weighted Val loss: 0.262\n",
      "0.761 ----------saved-----------\n",
      "Epoch: 69   Train loss: 0.1508   Train accuracy: 0.686   Val loss: 0.1411   Val accuracy: 0.756    weighted Val loss: 0.2614\n",
      "Epoch: 70   Train loss: 0.151   Train accuracy: 0.621   Val loss: 0.1404   Val accuracy: 0.762    weighted Val loss: 0.2608\n",
      "0.762 ----------saved-----------\n",
      "Epoch: 71   Train loss: 0.1401   Train accuracy: 0.685   Val loss: 0.1391   Val accuracy: 0.757    weighted Val loss: 0.2602\n",
      "Epoch: 72   Train loss: 0.1474   Train accuracy: 0.682   Val loss: 0.1393   Val accuracy: 0.752    weighted Val loss: 0.2596\n",
      "Epoch: 73   Train loss: 0.1553   Train accuracy: 0.643   Val loss: 0.1435   Val accuracy: 0.758    weighted Val loss: 0.259\n",
      "Epoch: 74   Train loss: 0.1502   Train accuracy: 0.684   Val loss: 0.1398   Val accuracy: 0.762    weighted Val loss: 0.2584\n",
      "0.762 ----------saved-----------\n",
      "Epoch: 75   Train loss: 0.1413   Train accuracy: 0.703   Val loss: 0.1388   Val accuracy: 0.754    weighted Val loss: 0.2578\n",
      "Epoch: 76   Train loss: 0.1526   Train accuracy: 0.703   Val loss: 0.1466   Val accuracy: 0.746    weighted Val loss: 0.2572\n",
      "Epoch: 77   Train loss: 0.1474   Train accuracy: 0.654   Val loss: 0.14   Val accuracy: 0.749    weighted Val loss: 0.2567\n",
      "Epoch: 78   Train loss: 0.1503   Train accuracy: 0.666   Val loss: 0.1398   Val accuracy: 0.758    weighted Val loss: 0.2561\n",
      "Epoch: 79   Train loss: 0.1506   Train accuracy: 0.683   Val loss: 0.1393   Val accuracy: 0.768    weighted Val loss: 0.2555\n",
      "0.768 ----------saved-----------\n",
      "Epoch: 80   Train loss: 0.1458   Train accuracy: 0.677   Val loss: 0.1399   Val accuracy: 0.764    weighted Val loss: 0.2549\n",
      "Epoch: 81   Train loss: 0.1448   Train accuracy: 0.692   Val loss: 0.1556   Val accuracy: 0.748    weighted Val loss: 0.2544\n",
      "Epoch: 82   Train loss: 0.1441   Train accuracy: 0.684   Val loss: 0.1401   Val accuracy: 0.767    weighted Val loss: 0.2538\n",
      "Epoch: 83   Train loss: 0.1486   Train accuracy: 0.677   Val loss: 0.1388   Val accuracy: 0.778    weighted Val loss: 0.2533\n",
      "0.778 ----------saved-----------\n",
      "Epoch: 84   Train loss: 0.1414   Train accuracy: 0.693   Val loss: 0.137   Val accuracy: 0.761    weighted Val loss: 0.2527\n",
      "Epoch: 85   Train loss: 0.1361   Train accuracy: 0.672   Val loss: 0.137   Val accuracy: 0.759    weighted Val loss: 0.2521\n",
      "Epoch: 86   Train loss: 0.1357   Train accuracy: 0.703   Val loss: 0.1367   Val accuracy: 0.764    weighted Val loss: 0.2515\n",
      "Epoch: 87   Train loss: 0.1416   Train accuracy: 0.67   Val loss: 0.1395   Val accuracy: 0.76    weighted Val loss: 0.251\n",
      "Epoch: 88   Train loss: 0.1375   Train accuracy: 0.702   Val loss: 0.1356   Val accuracy: 0.763    weighted Val loss: 0.2504\n",
      "Epoch: 89   Train loss: 0.1399   Train accuracy: 0.716   Val loss: 0.1358   Val accuracy: 0.754    weighted Val loss: 0.2498\n",
      "Epoch: 90   Train loss: 0.1331   Train accuracy: 0.709   Val loss: 0.1395   Val accuracy: 0.752    weighted Val loss: 0.2493\n",
      "Epoch: 91   Train loss: 0.1304   Train accuracy: 0.719   Val loss: 0.1353   Val accuracy: 0.759    weighted Val loss: 0.2487\n",
      "Epoch: 92   Train loss: 0.1395   Train accuracy: 0.706   Val loss: 0.1372   Val accuracy: 0.749    weighted Val loss: 0.2481\n",
      "Epoch: 93   Train loss: 0.1388   Train accuracy: 0.696   Val loss: 0.1379   Val accuracy: 0.75    weighted Val loss: 0.2476\n",
      "Epoch: 94   Train loss: 0.1358   Train accuracy: 0.698   Val loss: 0.1419   Val accuracy: 0.752    weighted Val loss: 0.2471\n",
      "Epoch: 95   Train loss: 0.1328   Train accuracy: 0.738   Val loss: 0.1336   Val accuracy: 0.757    weighted Val loss: 0.2465\n",
      "Epoch: 96   Train loss: 0.1327   Train accuracy: 0.717   Val loss: 0.132   Val accuracy: 0.76    weighted Val loss: 0.2459\n",
      "Epoch: 97   Train loss: 0.1403   Train accuracy: 0.692   Val loss: 0.1337   Val accuracy: 0.758    weighted Val loss: 0.2454\n",
      "Epoch: 98   Train loss: 0.1326   Train accuracy: 0.714   Val loss: 0.134   Val accuracy: 0.75    weighted Val loss: 0.2448\n",
      "Epoch: 99   Train loss: 0.1277   Train accuracy: 0.717   Val loss: 0.139   Val accuracy: 0.757    weighted Val loss: 0.2443\n",
      "Epoch: 100   Train loss: 0.1229   Train accuracy: 0.768   Val loss: 0.1323   Val accuracy: 0.759    weighted Val loss: 0.2437\n",
      "Epoch: 101   Train loss: 0.1319   Train accuracy: 0.729   Val loss: 0.1333   Val accuracy: 0.768    weighted Val loss: 0.2432\n",
      "Epoch: 102   Train loss: 0.1283   Train accuracy: 0.703   Val loss: 0.1381   Val accuracy: 0.77    weighted Val loss: 0.2426\n",
      "Epoch: 103   Train loss: 0.1351   Train accuracy: 0.691   Val loss: 0.1423   Val accuracy: 0.756    weighted Val loss: 0.2421\n",
      "Epoch: 104   Train loss: 0.1291   Train accuracy: 0.73   Val loss: 0.1345   Val accuracy: 0.755    weighted Val loss: 0.2416\n",
      "Epoch: 105   Train loss: 0.1267   Train accuracy: 0.723   Val loss: 0.1322   Val accuracy: 0.749    weighted Val loss: 0.2411\n",
      "Epoch: 106   Train loss: 0.1272   Train accuracy: 0.721   Val loss: 0.1344   Val accuracy: 0.755    weighted Val loss: 0.2405\n",
      "Epoch: 107   Train loss: 0.1332   Train accuracy: 0.697   Val loss: 0.1441   Val accuracy: 0.758    weighted Val loss: 0.24\n",
      "Epoch: 108   Train loss: 0.1305   Train accuracy: 0.72   Val loss: 0.1313   Val accuracy: 0.753    weighted Val loss: 0.2395\n",
      "Epoch: 109   Train loss: 0.1275   Train accuracy: 0.727   Val loss: 0.133   Val accuracy: 0.759    weighted Val loss: 0.239\n",
      "Epoch: 110   Train loss: 0.125   Train accuracy: 0.739   Val loss: 0.1322   Val accuracy: 0.766    weighted Val loss: 0.2384\n",
      "Epoch: 111   Train loss: 0.1252   Train accuracy: 0.726   Val loss: 0.1292   Val accuracy: 0.764    weighted Val loss: 0.2379\n",
      "Epoch: 112   Train loss: 0.1299   Train accuracy: 0.739   Val loss: 0.134   Val accuracy: 0.774    weighted Val loss: 0.2374\n",
      "Epoch: 113   Train loss: 0.1254   Train accuracy: 0.702   Val loss: 0.1299   Val accuracy: 0.763    weighted Val loss: 0.2368\n",
      "Epoch: 114   Train loss: 0.1237   Train accuracy: 0.742   Val loss: 0.1322   Val accuracy: 0.76    weighted Val loss: 0.2363\n",
      "Epoch: 115   Train loss: 0.125   Train accuracy: 0.75   Val loss: 0.1321   Val accuracy: 0.762    weighted Val loss: 0.2358\n",
      "Epoch: 116   Train loss: 0.1325   Train accuracy: 0.717   Val loss: 0.1344   Val accuracy: 0.761    weighted Val loss: 0.2353\n",
      "Epoch: 117   Train loss: 0.132   Train accuracy: 0.726   Val loss: 0.134   Val accuracy: 0.768    weighted Val loss: 0.2348\n",
      "Epoch: 118   Train loss: 0.1253   Train accuracy: 0.716   Val loss: 0.1352   Val accuracy: 0.769    weighted Val loss: 0.2343\n",
      "Epoch: 119   Train loss: 0.1314   Train accuracy: 0.704   Val loss: 0.1373   Val accuracy: 0.782    weighted Val loss: 0.2338\n",
      "0.782 ----------saved-----------\n",
      "Epoch: 120   Train loss: 0.1326   Train accuracy: 0.714   Val loss: 0.1356   Val accuracy: 0.784    weighted Val loss: 0.2333\n",
      "0.784 ----------saved-----------\n",
      "Epoch: 121   Train loss: 0.1297   Train accuracy: 0.733   Val loss: 0.1324   Val accuracy: 0.777    weighted Val loss: 0.2328\n",
      "Epoch: 122   Train loss: 0.119   Train accuracy: 0.747   Val loss: 0.138   Val accuracy: 0.772    weighted Val loss: 0.2323\n",
      "Epoch: 123   Train loss: 0.1323   Train accuracy: 0.733   Val loss: 0.1413   Val accuracy: 0.773    weighted Val loss: 0.2319\n",
      "Epoch: 124   Train loss: 0.1196   Train accuracy: 0.752   Val loss: 0.1347   Val accuracy: 0.769    weighted Val loss: 0.2314\n",
      "Epoch: 125   Train loss: 0.1239   Train accuracy: 0.736   Val loss: 0.1269   Val accuracy: 0.776    weighted Val loss: 0.2309\n",
      "Epoch: 126   Train loss: 0.1234   Train accuracy: 0.743   Val loss: 0.129   Val accuracy: 0.763    weighted Val loss: 0.2303\n",
      "Epoch: 127   Train loss: 0.1228   Train accuracy: 0.782   Val loss: 0.132   Val accuracy: 0.786    weighted Val loss: 0.2298\n",
      "0.786 ----------saved-----------\n",
      "Epoch: 128   Train loss: 0.1271   Train accuracy: 0.726   Val loss: 0.1425   Val accuracy: 0.783    weighted Val loss: 0.2294\n",
      "Epoch: 129   Train loss: 0.1264   Train accuracy: 0.723   Val loss: 0.1317   Val accuracy: 0.785    weighted Val loss: 0.2289\n",
      "Epoch: 130   Train loss: 0.1307   Train accuracy: 0.727   Val loss: 0.1267   Val accuracy: 0.771    weighted Val loss: 0.2284\n",
      "Epoch: 131   Train loss: 0.1275   Train accuracy: 0.744   Val loss: 0.129   Val accuracy: 0.782    weighted Val loss: 0.2279\n",
      "Epoch: 132   Train loss: 0.125   Train accuracy: 0.753   Val loss: 0.136   Val accuracy: 0.778    weighted Val loss: 0.2275\n",
      "Epoch: 133   Train loss: 0.1201   Train accuracy: 0.749   Val loss: 0.1397   Val accuracy: 0.765    weighted Val loss: 0.227\n",
      "Epoch: 134   Train loss: 0.1282   Train accuracy: 0.729   Val loss: 0.1374   Val accuracy: 0.772    weighted Val loss: 0.2266\n",
      "Epoch: 135   Train loss: 0.126   Train accuracy: 0.712   Val loss: 0.1342   Val accuracy: 0.769    weighted Val loss: 0.2261\n",
      "Epoch: 136   Train loss: 0.1177   Train accuracy: 0.779   Val loss: 0.1332   Val accuracy: 0.775    weighted Val loss: 0.2256\n",
      "Epoch: 137   Train loss: 0.1199   Train accuracy: 0.777   Val loss: 0.1295   Val accuracy: 0.773    weighted Val loss: 0.2252\n",
      "Epoch: 138   Train loss: 0.1211   Train accuracy: 0.755   Val loss: 0.1286   Val accuracy: 0.771    weighted Val loss: 0.2247\n",
      "Epoch: 139   Train loss: 0.1264   Train accuracy: 0.717   Val loss: 0.1325   Val accuracy: 0.78    weighted Val loss: 0.2242\n",
      "Epoch: 140   Train loss: 0.1211   Train accuracy: 0.713   Val loss: 0.1285   Val accuracy: 0.778    weighted Val loss: 0.2237\n",
      "Epoch: 141   Train loss: 0.1227   Train accuracy: 0.736   Val loss: 0.1278   Val accuracy: 0.774    weighted Val loss: 0.2233\n",
      "Epoch: 142   Train loss: 0.1186   Train accuracy: 0.756   Val loss: 0.1282   Val accuracy: 0.766    weighted Val loss: 0.2228\n",
      "Epoch: 143   Train loss: 0.1232   Train accuracy: 0.714   Val loss: 0.1283   Val accuracy: 0.78    weighted Val loss: 0.2223\n",
      "Epoch: 144   Train loss: 0.1165   Train accuracy: 0.758   Val loss: 0.1273   Val accuracy: 0.776    weighted Val loss: 0.2218\n",
      "Epoch: 145   Train loss: 0.1174   Train accuracy: 0.766   Val loss: 0.1272   Val accuracy: 0.784    weighted Val loss: 0.2214\n",
      "Epoch: 146   Train loss: 0.1257   Train accuracy: 0.738   Val loss: 0.1302   Val accuracy: 0.777    weighted Val loss: 0.2209\n",
      "Epoch: 147   Train loss: 0.1177   Train accuracy: 0.775   Val loss: 0.1302   Val accuracy: 0.785    weighted Val loss: 0.2205\n",
      "Epoch: 148   Train loss: 0.126   Train accuracy: 0.731   Val loss: 0.1295   Val accuracy: 0.78    weighted Val loss: 0.22\n",
      "Epoch: 149   Train loss: 0.1118   Train accuracy: 0.748   Val loss: 0.1323   Val accuracy: 0.773    weighted Val loss: 0.2196\n",
      "Epoch: 150   Train loss: 0.1212   Train accuracy: 0.761   Val loss: 0.1331   Val accuracy: 0.773    weighted Val loss: 0.2191\n",
      "Epoch: 151   Train loss: 0.1085   Train accuracy: 0.791   Val loss: 0.1341   Val accuracy: 0.77    weighted Val loss: 0.2187\n",
      "Epoch: 152   Train loss: 0.1172   Train accuracy: 0.742   Val loss: 0.1337   Val accuracy: 0.766    weighted Val loss: 0.2183\n",
      "Epoch: 153   Train loss: 0.1269   Train accuracy: 0.744   Val loss: 0.1297   Val accuracy: 0.766    weighted Val loss: 0.2178\n",
      "Epoch: 154   Train loss: 0.1156   Train accuracy: 0.78   Val loss: 0.1352   Val accuracy: 0.766    weighted Val loss: 0.2174\n",
      "Epoch: 155   Train loss: 0.1157   Train accuracy: 0.762   Val loss: 0.1358   Val accuracy: 0.769    weighted Val loss: 0.217\n",
      "Epoch: 156   Train loss: 0.1119   Train accuracy: 0.776   Val loss: 0.1265   Val accuracy: 0.77    weighted Val loss: 0.2166\n",
      "Epoch: 157   Train loss: 0.1109   Train accuracy: 0.754   Val loss: 0.1248   Val accuracy: 0.776    weighted Val loss: 0.2161\n",
      "Epoch: 158   Train loss: 0.1193   Train accuracy: 0.73   Val loss: 0.1291   Val accuracy: 0.776    weighted Val loss: 0.2157\n",
      "Epoch: 159   Train loss: 0.12   Train accuracy: 0.764   Val loss: 0.1393   Val accuracy: 0.781    weighted Val loss: 0.2153\n",
      "Epoch: 160   Train loss: 0.11   Train accuracy: 0.76   Val loss: 0.1313   Val accuracy: 0.767    weighted Val loss: 0.2149\n",
      "Epoch: 161   Train loss: 0.1158   Train accuracy: 0.76   Val loss: 0.1287   Val accuracy: 0.773    weighted Val loss: 0.2144\n",
      "Epoch: 162   Train loss: 0.1139   Train accuracy: 0.774   Val loss: 0.1318   Val accuracy: 0.775    weighted Val loss: 0.214\n",
      "Epoch: 163   Train loss: 0.117   Train accuracy: 0.757   Val loss: 0.1279   Val accuracy: 0.78    weighted Val loss: 0.2136\n",
      "Epoch: 164   Train loss: 0.113   Train accuracy: 0.79   Val loss: 0.1274   Val accuracy: 0.773    weighted Val loss: 0.2132\n",
      "Epoch: 165   Train loss: 0.1148   Train accuracy: 0.743   Val loss: 0.1253   Val accuracy: 0.785    weighted Val loss: 0.2127\n",
      "Epoch: 166   Train loss: 0.1065   Train accuracy: 0.802   Val loss: 0.1246   Val accuracy: 0.787    weighted Val loss: 0.2123\n",
      "0.787 ----------saved-----------\n",
      "Epoch: 167   Train loss: 0.1067   Train accuracy: 0.817   Val loss: 0.1232   Val accuracy: 0.797    weighted Val loss: 0.2118\n",
      "0.797 ----------saved-----------\n",
      "Epoch: 168   Train loss: 0.1117   Train accuracy: 0.771   Val loss: 0.1248   Val accuracy: 0.786    weighted Val loss: 0.2114\n",
      "Epoch: 169   Train loss: 0.1032   Train accuracy: 0.799   Val loss: 0.1284   Val accuracy: 0.775    weighted Val loss: 0.211\n",
      "Epoch: 170   Train loss: 0.1164   Train accuracy: 0.78   Val loss: 0.1245   Val accuracy: 0.791    weighted Val loss: 0.2106\n",
      "Epoch: 171   Train loss: 0.1225   Train accuracy: 0.728   Val loss: 0.1295   Val accuracy: 0.789    weighted Val loss: 0.2101\n",
      "Epoch: 172   Train loss: 0.1229   Train accuracy: 0.752   Val loss: 0.1335   Val accuracy: 0.775    weighted Val loss: 0.2098\n",
      "Epoch: 173   Train loss: 0.1247   Train accuracy: 0.763   Val loss: 0.1314   Val accuracy: 0.782    weighted Val loss: 0.2094\n",
      "Epoch: 174   Train loss: 0.1125   Train accuracy: 0.763   Val loss: 0.1352   Val accuracy: 0.791    weighted Val loss: 0.209\n",
      "Epoch: 175   Train loss: 0.1144   Train accuracy: 0.78   Val loss: 0.1528   Val accuracy: 0.775    weighted Val loss: 0.2087\n",
      "Epoch: 176   Train loss: 0.1208   Train accuracy: 0.736   Val loss: 0.1373   Val accuracy: 0.782    weighted Val loss: 0.2084\n",
      "Epoch: 177   Train loss: 0.1116   Train accuracy: 0.771   Val loss: 0.1285   Val accuracy: 0.775    weighted Val loss: 0.208\n",
      "Epoch: 178   Train loss: 0.11   Train accuracy: 0.767   Val loss: 0.1261   Val accuracy: 0.773    weighted Val loss: 0.2076\n",
      "Epoch: 179   Train loss: 0.1118   Train accuracy: 0.799   Val loss: 0.1304   Val accuracy: 0.766    weighted Val loss: 0.2072\n",
      "Epoch: 180   Train loss: 0.1083   Train accuracy: 0.8   Val loss: 0.1333   Val accuracy: 0.765    weighted Val loss: 0.2068\n",
      "Epoch: 181   Train loss: 0.1159   Train accuracy: 0.769   Val loss: 0.1247   Val accuracy: 0.77    weighted Val loss: 0.2064\n",
      "Epoch: 182   Train loss: 0.1157   Train accuracy: 0.757   Val loss: 0.1245   Val accuracy: 0.787    weighted Val loss: 0.206\n",
      "Epoch: 183   Train loss: 0.1173   Train accuracy: 0.752   Val loss: 0.1328   Val accuracy: 0.775    weighted Val loss: 0.2056\n",
      "Epoch: 184   Train loss: 0.1148   Train accuracy: 0.788   Val loss: 0.129   Val accuracy: 0.791    weighted Val loss: 0.2052\n",
      "Epoch: 185   Train loss: 0.11   Train accuracy: 0.769   Val loss: 0.1257   Val accuracy: 0.784    weighted Val loss: 0.2048\n",
      "Epoch: 186   Train loss: 0.1112   Train accuracy: 0.78   Val loss: 0.1283   Val accuracy: 0.786    weighted Val loss: 0.2045\n",
      "Epoch: 187   Train loss: 0.1163   Train accuracy: 0.744   Val loss: 0.1243   Val accuracy: 0.785    weighted Val loss: 0.2041\n",
      "Epoch: 188   Train loss: 0.1131   Train accuracy: 0.769   Val loss: 0.1233   Val accuracy: 0.781    weighted Val loss: 0.2036\n",
      "Epoch: 189   Train loss: 0.1095   Train accuracy: 0.782   Val loss: 0.127   Val accuracy: 0.786    weighted Val loss: 0.2033\n",
      "Epoch: 190   Train loss: 0.1117   Train accuracy: 0.766   Val loss: 0.1246   Val accuracy: 0.767    weighted Val loss: 0.2029\n",
      "Epoch: 191   Train loss: 0.1153   Train accuracy: 0.772   Val loss: 0.1283   Val accuracy: 0.778    weighted Val loss: 0.2025\n",
      "Epoch: 192   Train loss: 0.1127   Train accuracy: 0.806   Val loss: 0.1293   Val accuracy: 0.781    weighted Val loss: 0.2021\n",
      "Epoch: 193   Train loss: 0.1086   Train accuracy: 0.789   Val loss: 0.1269   Val accuracy: 0.769    weighted Val loss: 0.2018\n",
      "Epoch: 194   Train loss: 0.1068   Train accuracy: 0.802   Val loss: 0.127   Val accuracy: 0.768    weighted Val loss: 0.2014\n",
      "Epoch: 195   Train loss: 0.1079   Train accuracy: 0.776   Val loss: 0.1424   Val accuracy: 0.772    weighted Val loss: 0.2011\n",
      "Epoch: 196   Train loss: 0.1109   Train accuracy: 0.76   Val loss: 0.1281   Val accuracy: 0.778    weighted Val loss: 0.2007\n",
      "Epoch: 197   Train loss: 0.1076   Train accuracy: 0.806   Val loss: 0.1242   Val accuracy: 0.774    weighted Val loss: 0.2003\n",
      "Epoch: 198   Train loss: 0.1065   Train accuracy: 0.79   Val loss: 0.1259   Val accuracy: 0.765    weighted Val loss: 0.2\n",
      "Epoch: 199   Train loss: 0.1114   Train accuracy: 0.777   Val loss: 0.1269   Val accuracy: 0.779    weighted Val loss: 0.1996\n",
      "Epoch: 200   Train loss: 0.1051   Train accuracy: 0.783   Val loss: 0.1263   Val accuracy: 0.771    weighted Val loss: 0.1992\n",
      "Epoch: 201   Train loss: 0.1118   Train accuracy: 0.758   Val loss: 0.1259   Val accuracy: 0.772    weighted Val loss: 0.1989\n",
      "Epoch: 202   Train loss: 0.1056   Train accuracy: 0.801   Val loss: 0.1293   Val accuracy: 0.773    weighted Val loss: 0.1985\n",
      "Epoch: 203   Train loss: 0.112   Train accuracy: 0.746   Val loss: 0.1259   Val accuracy: 0.779    weighted Val loss: 0.1982\n",
      "Epoch: 204   Train loss: 0.109   Train accuracy: 0.759   Val loss: 0.1307   Val accuracy: 0.769    weighted Val loss: 0.1978\n",
      "Epoch: 205   Train loss: 0.1093   Train accuracy: 0.763   Val loss: 0.1248   Val accuracy: 0.782    weighted Val loss: 0.1975\n",
      "Epoch: 206   Train loss: 0.1105   Train accuracy: 0.783   Val loss: 0.13   Val accuracy: 0.775    weighted Val loss: 0.1971\n",
      "Epoch: 207   Train loss: 0.1128   Train accuracy: 0.767   Val loss: 0.1306   Val accuracy: 0.783    weighted Val loss: 0.1968\n",
      "Epoch: 208   Train loss: 0.1139   Train accuracy: 0.765   Val loss: 0.1275   Val accuracy: 0.785    weighted Val loss: 0.1964\n",
      "Epoch: 209   Train loss: 0.1094   Train accuracy: 0.779   Val loss: 0.1305   Val accuracy: 0.786    weighted Val loss: 0.1961\n",
      "Epoch: 210   Train loss: 0.1022   Train accuracy: 0.793   Val loss: 0.1237   Val accuracy: 0.783    weighted Val loss: 0.1957\n",
      "Epoch: 211   Train loss: 0.1052   Train accuracy: 0.743   Val loss: 0.1235   Val accuracy: 0.796    weighted Val loss: 0.1954\n",
      "Epoch: 212   Train loss: 0.1113   Train accuracy: 0.766   Val loss: 0.1261   Val accuracy: 0.791    weighted Val loss: 0.195\n",
      "Epoch: 213   Train loss: 0.0968   Train accuracy: 0.815   Val loss: 0.1223   Val accuracy: 0.789    weighted Val loss: 0.1947\n",
      "Epoch: 214   Train loss: 0.1174   Train accuracy: 0.765   Val loss: 0.1251   Val accuracy: 0.781    weighted Val loss: 0.1943\n",
      "Epoch: 215   Train loss: 0.1052   Train accuracy: 0.778   Val loss: 0.1276   Val accuracy: 0.789    weighted Val loss: 0.194\n",
      "Epoch: 216   Train loss: 0.1034   Train accuracy: 0.781   Val loss: 0.127   Val accuracy: 0.77    weighted Val loss: 0.1937\n",
      "Epoch: 217   Train loss: 0.1093   Train accuracy: 0.775   Val loss: 0.1275   Val accuracy: 0.772    weighted Val loss: 0.1933\n",
      "Epoch: 218   Train loss: 0.1083   Train accuracy: 0.78   Val loss: 0.1382   Val accuracy: 0.792    weighted Val loss: 0.1931\n",
      "Epoch: 219   Train loss: 0.1103   Train accuracy: 0.776   Val loss: 0.1341   Val accuracy: 0.782    weighted Val loss: 0.1928\n",
      "Epoch: 220   Train loss: 0.1106   Train accuracy: 0.778   Val loss: 0.129   Val accuracy: 0.796    weighted Val loss: 0.1924\n",
      "Epoch: 221   Train loss: 0.1104   Train accuracy: 0.765   Val loss: 0.1256   Val accuracy: 0.778    weighted Val loss: 0.1921\n",
      "Epoch: 222   Train loss: 0.1095   Train accuracy: 0.768   Val loss: 0.1278   Val accuracy: 0.778    weighted Val loss: 0.1918\n",
      "Epoch: 223   Train loss: 0.1019   Train accuracy: 0.823   Val loss: 0.1292   Val accuracy: 0.771    weighted Val loss: 0.1915\n",
      "Epoch: 224   Train loss: 0.1071   Train accuracy: 0.791   Val loss: 0.1322   Val accuracy: 0.775    weighted Val loss: 0.1912\n",
      "Epoch: 225   Train loss: 0.1059   Train accuracy: 0.78   Val loss: 0.1291   Val accuracy: 0.781    weighted Val loss: 0.1909\n",
      "Epoch: 226   Train loss: 0.105   Train accuracy: 0.788   Val loss: 0.1231   Val accuracy: 0.781    weighted Val loss: 0.1905\n",
      "Epoch: 227   Train loss: 0.1079   Train accuracy: 0.77   Val loss: 0.1249   Val accuracy: 0.791    weighted Val loss: 0.1902\n",
      "Epoch: 228   Train loss: 0.1045   Train accuracy: 0.783   Val loss: 0.1225   Val accuracy: 0.781    weighted Val loss: 0.1899\n",
      "Epoch: 229   Train loss: 0.1119   Train accuracy: 0.76   Val loss: 0.124   Val accuracy: 0.796    weighted Val loss: 0.1895\n",
      "Epoch: 230   Train loss: 0.1028   Train accuracy: 0.801   Val loss: 0.1258   Val accuracy: 0.79    weighted Val loss: 0.1892\n",
      "Epoch: 231   Train loss: 0.1173   Train accuracy: 0.765   Val loss: 0.1272   Val accuracy: 0.788    weighted Val loss: 0.1889\n",
      "Epoch: 232   Train loss: 0.1079   Train accuracy: 0.768   Val loss: 0.1284   Val accuracy: 0.798    weighted Val loss: 0.1886\n",
      "0.798 ----------saved-----------\n",
      "Epoch: 233   Train loss: 0.1045   Train accuracy: 0.794   Val loss: 0.1277   Val accuracy: 0.796    weighted Val loss: 0.1883\n",
      "Epoch: 234   Train loss: 0.0959   Train accuracy: 0.812   Val loss: 0.126   Val accuracy: 0.78    weighted Val loss: 0.188\n",
      "Epoch: 235   Train loss: 0.1071   Train accuracy: 0.738   Val loss: 0.1234   Val accuracy: 0.791    weighted Val loss: 0.1877\n",
      "Epoch: 236   Train loss: 0.1058   Train accuracy: 0.805   Val loss: 0.1295   Val accuracy: 0.775    weighted Val loss: 0.1874\n",
      "Epoch: 237   Train loss: 0.1005   Train accuracy: 0.828   Val loss: 0.1379   Val accuracy: 0.778    weighted Val loss: 0.1871\n",
      "Epoch: 238   Train loss: 0.1126   Train accuracy: 0.788   Val loss: 0.1286   Val accuracy: 0.785    weighted Val loss: 0.1868\n",
      "Epoch: 239   Train loss: 0.1089   Train accuracy: 0.781   Val loss: 0.1393   Val accuracy: 0.776    weighted Val loss: 0.1866\n",
      "Epoch: 240   Train loss: 0.1046   Train accuracy: 0.781   Val loss: 0.1317   Val accuracy: 0.792    weighted Val loss: 0.1863\n",
      "Epoch: 241   Train loss: 0.1051   Train accuracy: 0.794   Val loss: 0.127   Val accuracy: 0.779    weighted Val loss: 0.186\n",
      "Epoch: 242   Train loss: 0.1027   Train accuracy: 0.798   Val loss: 0.1257   Val accuracy: 0.775    weighted Val loss: 0.1857\n",
      "Epoch: 243   Train loss: 0.1133   Train accuracy: 0.782   Val loss: 0.1269   Val accuracy: 0.778    weighted Val loss: 0.1854\n",
      "Epoch: 244   Train loss: 0.1119   Train accuracy: 0.769   Val loss: 0.1272   Val accuracy: 0.777    weighted Val loss: 0.1851\n",
      "Epoch: 245   Train loss: 0.1046   Train accuracy: 0.811   Val loss: 0.1271   Val accuracy: 0.792    weighted Val loss: 0.1848\n",
      "Epoch: 246   Train loss: 0.1073   Train accuracy: 0.789   Val loss: 0.1237   Val accuracy: 0.791    weighted Val loss: 0.1845\n",
      "Epoch: 247   Train loss: 0.1108   Train accuracy: 0.749   Val loss: 0.1272   Val accuracy: 0.778    weighted Val loss: 0.1843\n",
      "Epoch: 248   Train loss: 0.1059   Train accuracy: 0.798   Val loss: 0.1269   Val accuracy: 0.779    weighted Val loss: 0.184\n",
      "Epoch: 249   Train loss: 0.1084   Train accuracy: 0.789   Val loss: 0.1288   Val accuracy: 0.794    weighted Val loss: 0.1837\n",
      "Epoch: 250   Train loss: 0.102   Train accuracy: 0.782   Val loss: 0.1251   Val accuracy: 0.775    weighted Val loss: 0.1834\n",
      "Epoch: 251   Train loss: 0.1038   Train accuracy: 0.805   Val loss: 0.1267   Val accuracy: 0.789    weighted Val loss: 0.1831\n",
      "Epoch: 252   Train loss: 0.1075   Train accuracy: 0.791   Val loss: 0.1229   Val accuracy: 0.788    weighted Val loss: 0.1828\n",
      "Epoch: 253   Train loss: 0.1055   Train accuracy: 0.808   Val loss: 0.1263   Val accuracy: 0.79    weighted Val loss: 0.1825\n",
      "Epoch: 254   Train loss: 0.1002   Train accuracy: 0.811   Val loss: 0.1318   Val accuracy: 0.767    weighted Val loss: 0.1823\n",
      "Epoch: 255   Train loss: 0.1067   Train accuracy: 0.784   Val loss: 0.1326   Val accuracy: 0.783    weighted Val loss: 0.182\n",
      "Epoch: 256   Train loss: 0.1042   Train accuracy: 0.794   Val loss: 0.1265   Val accuracy: 0.775    weighted Val loss: 0.1817\n",
      "Epoch: 257   Train loss: 0.111   Train accuracy: 0.777   Val loss: 0.1257   Val accuracy: 0.785    weighted Val loss: 0.1815\n",
      "Epoch: 258   Train loss: 0.1088   Train accuracy: 0.787   Val loss: 0.1269   Val accuracy: 0.779    weighted Val loss: 0.1812\n",
      "Epoch: 259   Train loss: 0.1017   Train accuracy: 0.783   Val loss: 0.1338   Val accuracy: 0.782    weighted Val loss: 0.181\n",
      "Epoch: 260   Train loss: 0.1055   Train accuracy: 0.796   Val loss: 0.1248   Val accuracy: 0.786    weighted Val loss: 0.1807\n",
      "Epoch: 261   Train loss: 0.1064   Train accuracy: 0.761   Val loss: 0.1251   Val accuracy: 0.776    weighted Val loss: 0.1804\n",
      "Epoch: 262   Train loss: 0.1066   Train accuracy: 0.786   Val loss: 0.1231   Val accuracy: 0.796    weighted Val loss: 0.1801\n",
      "Epoch: 263   Train loss: 0.1011   Train accuracy: 0.807   Val loss: 0.1242   Val accuracy: 0.79    weighted Val loss: 0.1798\n",
      "Epoch: 264   Train loss: 0.1063   Train accuracy: 0.804   Val loss: 0.1234   Val accuracy: 0.777    weighted Val loss: 0.1796\n",
      "Epoch: 265   Train loss: 0.1083   Train accuracy: 0.749   Val loss: 0.1229   Val accuracy: 0.784    weighted Val loss: 0.1793\n",
      "Epoch: 266   Train loss: 0.1038   Train accuracy: 0.805   Val loss: 0.129   Val accuracy: 0.78    weighted Val loss: 0.179\n",
      "Epoch: 267   Train loss: 0.1037   Train accuracy: 0.791   Val loss: 0.1272   Val accuracy: 0.78    weighted Val loss: 0.1788\n",
      "Epoch: 268   Train loss: 0.1034   Train accuracy: 0.793   Val loss: 0.1238   Val accuracy: 0.782    weighted Val loss: 0.1785\n",
      "Epoch: 269   Train loss: 0.0976   Train accuracy: 0.832   Val loss: 0.123   Val accuracy: 0.772    weighted Val loss: 0.1782\n",
      "Epoch: 270   Train loss: 0.1015   Train accuracy: 0.807   Val loss: 0.1252   Val accuracy: 0.767    weighted Val loss: 0.1779\n",
      "Epoch: 271   Train loss: 0.1011   Train accuracy: 0.802   Val loss: 0.1242   Val accuracy: 0.781    weighted Val loss: 0.1777\n",
      "Epoch: 272   Train loss: 0.1093   Train accuracy: 0.782   Val loss: 0.1307   Val accuracy: 0.787    weighted Val loss: 0.1774\n",
      "Epoch: 273   Train loss: 0.1079   Train accuracy: 0.791   Val loss: 0.126   Val accuracy: 0.781    weighted Val loss: 0.1772\n",
      "Epoch: 274   Train loss: 0.105   Train accuracy: 0.796   Val loss: 0.1275   Val accuracy: 0.781    weighted Val loss: 0.1769\n",
      "Epoch: 275   Train loss: 0.1026   Train accuracy: 0.815   Val loss: 0.1343   Val accuracy: 0.774    weighted Val loss: 0.1767\n",
      "Epoch: 276   Train loss: 0.1101   Train accuracy: 0.791   Val loss: 0.1338   Val accuracy: 0.788    weighted Val loss: 0.1765\n",
      "Epoch: 277   Train loss: 0.11   Train accuracy: 0.749   Val loss: 0.1294   Val accuracy: 0.784    weighted Val loss: 0.1763\n",
      "Epoch: 278   Train loss: 0.1037   Train accuracy: 0.813   Val loss: 0.1252   Val accuracy: 0.784    weighted Val loss: 0.176\n",
      "Epoch: 279   Train loss: 0.1073   Train accuracy: 0.789   Val loss: 0.1262   Val accuracy: 0.777    weighted Val loss: 0.1758\n",
      "Epoch: 280   Train loss: 0.107   Train accuracy: 0.772   Val loss: 0.1258   Val accuracy: 0.779    weighted Val loss: 0.1755\n",
      "Epoch: 281   Train loss: 0.1076   Train accuracy: 0.833   Val loss: 0.1265   Val accuracy: 0.774    weighted Val loss: 0.1753\n",
      "Epoch: 282   Train loss: 0.1049   Train accuracy: 0.79   Val loss: 0.1239   Val accuracy: 0.776    weighted Val loss: 0.175\n",
      "Epoch: 283   Train loss: 0.1017   Train accuracy: 0.803   Val loss: 0.1249   Val accuracy: 0.787    weighted Val loss: 0.1748\n",
      "Epoch: 284   Train loss: 0.0968   Train accuracy: 0.808   Val loss: 0.128   Val accuracy: 0.789    weighted Val loss: 0.1745\n",
      "Epoch: 285   Train loss: 0.1061   Train accuracy: 0.802   Val loss: 0.1224   Val accuracy: 0.78    weighted Val loss: 0.1743\n",
      "Epoch: 286   Train loss: 0.1114   Train accuracy: 0.779   Val loss: 0.1241   Val accuracy: 0.79    weighted Val loss: 0.174\n",
      "Epoch: 287   Train loss: 0.1008   Train accuracy: 0.791   Val loss: 0.124   Val accuracy: 0.778    weighted Val loss: 0.1738\n",
      "Epoch: 288   Train loss: 0.103   Train accuracy: 0.81   Val loss: 0.1252   Val accuracy: 0.79    weighted Val loss: 0.1735\n",
      "Epoch: 289   Train loss: 0.1092   Train accuracy: 0.795   Val loss: 0.1245   Val accuracy: 0.778    weighted Val loss: 0.1733\n",
      "Epoch: 290   Train loss: 0.1027   Train accuracy: 0.793   Val loss: 0.1234   Val accuracy: 0.784    weighted Val loss: 0.173\n",
      "Epoch: 291   Train loss: 0.0991   Train accuracy: 0.845   Val loss: 0.1234   Val accuracy: 0.788    weighted Val loss: 0.1728\n",
      "Epoch: 292   Train loss: 0.1021   Train accuracy: 0.811   Val loss: 0.1216   Val accuracy: 0.793    weighted Val loss: 0.1725\n",
      "Epoch: 293   Train loss: 0.1055   Train accuracy: 0.777   Val loss: 0.1233   Val accuracy: 0.792    weighted Val loss: 0.1723\n",
      "Epoch: 294   Train loss: 0.0933   Train accuracy: 0.834   Val loss: 0.1307   Val accuracy: 0.782    weighted Val loss: 0.1721\n",
      "Epoch: 295   Train loss: 0.1061   Train accuracy: 0.782   Val loss: 0.1265   Val accuracy: 0.776    weighted Val loss: 0.1718\n",
      "Epoch: 296   Train loss: 0.1038   Train accuracy: 0.799   Val loss: 0.1262   Val accuracy: 0.771    weighted Val loss: 0.1716\n",
      "Epoch: 297   Train loss: 0.1131   Train accuracy: 0.761   Val loss: 0.1247   Val accuracy: 0.787    weighted Val loss: 0.1714\n",
      "Epoch: 298   Train loss: 0.1077   Train accuracy: 0.778   Val loss: 0.1249   Val accuracy: 0.773    weighted Val loss: 0.1711\n",
      "Epoch: 299   Train loss: 0.104   Train accuracy: 0.788   Val loss: 0.1282   Val accuracy: 0.781    weighted Val loss: 0.1709\n",
      "Epoch: 300   Train loss: 0.1076   Train accuracy: 0.79   Val loss: 0.1247   Val accuracy: 0.787    weighted Val loss: 0.1707\n",
      "Epoch: 301   Train loss: 0.1066   Train accuracy: 0.777   Val loss: 0.1234   Val accuracy: 0.788    weighted Val loss: 0.1705\n",
      "Epoch: 302   Train loss: 0.1031   Train accuracy: 0.798   Val loss: 0.1243   Val accuracy: 0.783    weighted Val loss: 0.1702\n",
      "Epoch: 303   Train loss: 0.1142   Train accuracy: 0.764   Val loss: 0.121   Val accuracy: 0.794    weighted Val loss: 0.17\n",
      "Epoch: 304   Train loss: 0.099   Train accuracy: 0.802   Val loss: 0.1216   Val accuracy: 0.805    weighted Val loss: 0.1697\n",
      "0.805 ----------saved-----------\n",
      "Epoch: 305   Train loss: 0.0972   Train accuracy: 0.813   Val loss: 0.1272   Val accuracy: 0.783    weighted Val loss: 0.1695\n",
      "Epoch: 306   Train loss: 0.108   Train accuracy: 0.791   Val loss: 0.1219   Val accuracy: 0.793    weighted Val loss: 0.1693\n",
      "Epoch: 307   Train loss: 0.1015   Train accuracy: 0.764   Val loss: 0.1232   Val accuracy: 0.784    weighted Val loss: 0.1691\n",
      "Epoch: 308   Train loss: 0.0963   Train accuracy: 0.803   Val loss: 0.1284   Val accuracy: 0.784    weighted Val loss: 0.1689\n",
      "Epoch: 309   Train loss: 0.105   Train accuracy: 0.767   Val loss: 0.1287   Val accuracy: 0.782    weighted Val loss: 0.1687\n",
      "Epoch: 310   Train loss: 0.1016   Train accuracy: 0.795   Val loss: 0.1271   Val accuracy: 0.773    weighted Val loss: 0.1685\n",
      "Epoch: 311   Train loss: 0.1028   Train accuracy: 0.787   Val loss: 0.1304   Val accuracy: 0.782    weighted Val loss: 0.1683\n",
      "Epoch: 312   Train loss: 0.1089   Train accuracy: 0.774   Val loss: 0.1265   Val accuracy: 0.788    weighted Val loss: 0.1681\n",
      "Epoch: 313   Train loss: 0.1   Train accuracy: 0.815   Val loss: 0.1297   Val accuracy: 0.797    weighted Val loss: 0.1679\n",
      "Epoch: 314   Train loss: 0.103   Train accuracy: 0.79   Val loss: 0.138   Val accuracy: 0.783    weighted Val loss: 0.1677\n",
      "Epoch: 315   Train loss: 0.1021   Train accuracy: 0.787   Val loss: 0.1299   Val accuracy: 0.788    weighted Val loss: 0.1675\n",
      "Epoch: 316   Train loss: 0.1043   Train accuracy: 0.799   Val loss: 0.126   Val accuracy: 0.804    weighted Val loss: 0.1673\n",
      "Epoch: 317   Train loss: 0.1019   Train accuracy: 0.81   Val loss: 0.132   Val accuracy: 0.787    weighted Val loss: 0.1671\n",
      "Epoch: 318   Train loss: 0.0994   Train accuracy: 0.813   Val loss: 0.1234   Val accuracy: 0.79    weighted Val loss: 0.1669\n",
      "Epoch: 319   Train loss: 0.103   Train accuracy: 0.794   Val loss: 0.1303   Val accuracy: 0.784    weighted Val loss: 0.1667\n",
      "Epoch: 320   Train loss: 0.104   Train accuracy: 0.794   Val loss: 0.1284   Val accuracy: 0.786    weighted Val loss: 0.1665\n",
      "Epoch: 321   Train loss: 0.1063   Train accuracy: 0.788   Val loss: 0.13   Val accuracy: 0.803    weighted Val loss: 0.1664\n",
      "Epoch: 322   Train loss: 0.0992   Train accuracy: 0.798   Val loss: 0.1302   Val accuracy: 0.8    weighted Val loss: 0.1662\n",
      "Epoch: 323   Train loss: 0.1028   Train accuracy: 0.798   Val loss: 0.1266   Val accuracy: 0.782    weighted Val loss: 0.166\n",
      "Epoch: 324   Train loss: 0.0957   Train accuracy: 0.817   Val loss: 0.1229   Val accuracy: 0.783    weighted Val loss: 0.1658\n",
      "Epoch: 325   Train loss: 0.114   Train accuracy: 0.763   Val loss: 0.1231   Val accuracy: 0.789    weighted Val loss: 0.1656\n",
      "Epoch: 326   Train loss: 0.1065   Train accuracy: 0.784   Val loss: 0.1231   Val accuracy: 0.798    weighted Val loss: 0.1653\n",
      "Epoch: 327   Train loss: 0.1075   Train accuracy: 0.791   Val loss: 0.1226   Val accuracy: 0.794    weighted Val loss: 0.1651\n",
      "Epoch: 328   Train loss: 0.1055   Train accuracy: 0.778   Val loss: 0.1276   Val accuracy: 0.79    weighted Val loss: 0.1649\n",
      "Epoch: 329   Train loss: 0.0982   Train accuracy: 0.782   Val loss: 0.1278   Val accuracy: 0.8    weighted Val loss: 0.1648\n",
      "Epoch: 330   Train loss: 0.1102   Train accuracy: 0.786   Val loss: 0.1329   Val accuracy: 0.795    weighted Val loss: 0.1646\n",
      "Epoch: 331   Train loss: 0.0982   Train accuracy: 0.795   Val loss: 0.1255   Val accuracy: 0.783    weighted Val loss: 0.1644\n",
      "Epoch: 332   Train loss: 0.1088   Train accuracy: 0.752   Val loss: 0.1273   Val accuracy: 0.782    weighted Val loss: 0.1642\n",
      "Epoch: 333   Train loss: 0.1029   Train accuracy: 0.791   Val loss: 0.1259   Val accuracy: 0.787    weighted Val loss: 0.164\n",
      "Epoch: 334   Train loss: 0.1055   Train accuracy: 0.784   Val loss: 0.1257   Val accuracy: 0.784    weighted Val loss: 0.1638\n",
      "Epoch: 335   Train loss: 0.1046   Train accuracy: 0.796   Val loss: 0.1261   Val accuracy: 0.791    weighted Val loss: 0.1636\n",
      "Epoch: 336   Train loss: 0.0998   Train accuracy: 0.824   Val loss: 0.1264   Val accuracy: 0.783    weighted Val loss: 0.1635\n",
      "Epoch: 337   Train loss: 0.091   Train accuracy: 0.829   Val loss: 0.1286   Val accuracy: 0.77    weighted Val loss: 0.1633\n",
      "Epoch: 338   Train loss: 0.1072   Train accuracy: 0.749   Val loss: 0.13   Val accuracy: 0.78    weighted Val loss: 0.1631\n",
      "Epoch: 339   Train loss: 0.111   Train accuracy: 0.793   Val loss: 0.1308   Val accuracy: 0.791    weighted Val loss: 0.163\n",
      "Epoch: 340   Train loss: 0.1116   Train accuracy: 0.752   Val loss: 0.1258   Val accuracy: 0.792    weighted Val loss: 0.1628\n",
      "Epoch: 341   Train loss: 0.1081   Train accuracy: 0.798   Val loss: 0.1243   Val accuracy: 0.796    weighted Val loss: 0.1626\n",
      "Epoch: 342   Train loss: 0.0985   Train accuracy: 0.828   Val loss: 0.1254   Val accuracy: 0.785    weighted Val loss: 0.1624\n",
      "Epoch: 343   Train loss: 0.1022   Train accuracy: 0.8   Val loss: 0.1216   Val accuracy: 0.786    weighted Val loss: 0.1622\n",
      "Epoch: 344   Train loss: 0.1004   Train accuracy: 0.775   Val loss: 0.1277   Val accuracy: 0.786    weighted Val loss: 0.162\n",
      "Epoch: 345   Train loss: 0.1009   Train accuracy: 0.802   Val loss: 0.1278   Val accuracy: 0.791    weighted Val loss: 0.1618\n",
      "Epoch: 346   Train loss: 0.1161   Train accuracy: 0.763   Val loss: 0.1289   Val accuracy: 0.799    weighted Val loss: 0.1617\n",
      "Epoch: 347   Train loss: 0.1038   Train accuracy: 0.78   Val loss: 0.1258   Val accuracy: 0.781    weighted Val loss: 0.1615\n",
      "Epoch: 348   Train loss: 0.1024   Train accuracy: 0.782   Val loss: 0.1255   Val accuracy: 0.789    weighted Val loss: 0.1613\n",
      "Epoch: 349   Train loss: 0.1001   Train accuracy: 0.802   Val loss: 0.1285   Val accuracy: 0.785    weighted Val loss: 0.1612\n",
      "Epoch: 350   Train loss: 0.1106   Train accuracy: 0.735   Val loss: 0.1255   Val accuracy: 0.795    weighted Val loss: 0.161\n",
      "Epoch: 351   Train loss: 0.1047   Train accuracy: 0.809   Val loss: 0.1294   Val accuracy: 0.791    weighted Val loss: 0.1608\n",
      "Epoch: 352   Train loss: 0.0972   Train accuracy: 0.821   Val loss: 0.132   Val accuracy: 0.783    weighted Val loss: 0.1607\n",
      "Epoch: 353   Train loss: 0.114   Train accuracy: 0.759   Val loss: 0.1276   Val accuracy: 0.793    weighted Val loss: 0.1605\n",
      "Epoch: 354   Train loss: 0.1098   Train accuracy: 0.777   Val loss: 0.1262   Val accuracy: 0.796    weighted Val loss: 0.1603\n",
      "Epoch: 355   Train loss: 0.1088   Train accuracy: 0.786   Val loss: 0.1242   Val accuracy: 0.799    weighted Val loss: 0.1602\n",
      "Epoch: 356   Train loss: 0.1058   Train accuracy: 0.78   Val loss: 0.1215   Val accuracy: 0.793    weighted Val loss: 0.16\n",
      "Epoch: 357   Train loss: 0.1039   Train accuracy: 0.795   Val loss: 0.1242   Val accuracy: 0.79    weighted Val loss: 0.1598\n",
      "Epoch: 358   Train loss: 0.1108   Train accuracy: 0.778   Val loss: 0.1275   Val accuracy: 0.782    weighted Val loss: 0.1596\n",
      "Epoch: 359   Train loss: 0.1032   Train accuracy: 0.81   Val loss: 0.1339   Val accuracy: 0.786    weighted Val loss: 0.1595\n",
      "Epoch: 360   Train loss: 0.1062   Train accuracy: 0.797   Val loss: 0.1317   Val accuracy: 0.792    weighted Val loss: 0.1594\n",
      "Epoch: 361   Train loss: 0.101   Train accuracy: 0.824   Val loss: 0.1223   Val accuracy: 0.791    weighted Val loss: 0.1592\n",
      "Epoch: 362   Train loss: 0.1017   Train accuracy: 0.784   Val loss: 0.1247   Val accuracy: 0.779    weighted Val loss: 0.159\n",
      "Epoch: 363   Train loss: 0.1015   Train accuracy: 0.809   Val loss: 0.1313   Val accuracy: 0.79    weighted Val loss: 0.1589\n",
      "Epoch: 364   Train loss: 0.1011   Train accuracy: 0.785   Val loss: 0.1248   Val accuracy: 0.777    weighted Val loss: 0.1587\n",
      "Epoch: 365   Train loss: 0.093   Train accuracy: 0.811   Val loss: 0.1289   Val accuracy: 0.772    weighted Val loss: 0.1585\n",
      "Epoch: 366   Train loss: 0.1023   Train accuracy: 0.801   Val loss: 0.1385   Val accuracy: 0.775    weighted Val loss: 0.1584\n",
      "Epoch: 367   Train loss: 0.0999   Train accuracy: 0.787   Val loss: 0.1241   Val accuracy: 0.787    weighted Val loss: 0.1583\n",
      "Epoch: 368   Train loss: 0.0919   Train accuracy: 0.823   Val loss: 0.1262   Val accuracy: 0.78    weighted Val loss: 0.1581\n",
      "Epoch: 369   Train loss: 0.1022   Train accuracy: 0.78   Val loss: 0.1223   Val accuracy: 0.791    weighted Val loss: 0.1579\n",
      "Epoch: 370   Train loss: 0.0985   Train accuracy: 0.796   Val loss: 0.1252   Val accuracy: 0.785    weighted Val loss: 0.1578\n",
      "Epoch: 371   Train loss: 0.0943   Train accuracy: 0.802   Val loss: 0.1258   Val accuracy: 0.779    weighted Val loss: 0.1576\n",
      "Epoch: 372   Train loss: 0.1016   Train accuracy: 0.8   Val loss: 0.1246   Val accuracy: 0.795    weighted Val loss: 0.1574\n",
      "Epoch: 373   Train loss: 0.1023   Train accuracy: 0.786   Val loss: 0.1246   Val accuracy: 0.788    weighted Val loss: 0.1573\n",
      "Epoch: 374   Train loss: 0.1063   Train accuracy: 0.785   Val loss: 0.13   Val accuracy: 0.774    weighted Val loss: 0.1571\n",
      "Epoch: 375   Train loss: 0.1059   Train accuracy: 0.777   Val loss: 0.1314   Val accuracy: 0.783    weighted Val loss: 0.157\n",
      "Epoch: 376   Train loss: 0.1087   Train accuracy: 0.795   Val loss: 0.1259   Val accuracy: 0.776    weighted Val loss: 0.1569\n",
      "Epoch: 377   Train loss: 0.1074   Train accuracy: 0.784   Val loss: 0.1299   Val accuracy: 0.783    weighted Val loss: 0.1567\n",
      "Epoch: 378   Train loss: 0.1043   Train accuracy: 0.794   Val loss: 0.1273   Val accuracy: 0.779    weighted Val loss: 0.1566\n",
      "Epoch: 379   Train loss: 0.1   Train accuracy: 0.814   Val loss: 0.1339   Val accuracy: 0.78    weighted Val loss: 0.1565\n",
      "Epoch: 380   Train loss: 0.1076   Train accuracy: 0.802   Val loss: 0.1259   Val accuracy: 0.789    weighted Val loss: 0.1563\n",
      "Epoch: 381   Train loss: 0.1029   Train accuracy: 0.78   Val loss: 0.1243   Val accuracy: 0.777    weighted Val loss: 0.1561\n",
      "Epoch: 382   Train loss: 0.0968   Train accuracy: 0.816   Val loss: 0.1231   Val accuracy: 0.779    weighted Val loss: 0.156\n",
      "Epoch: 383   Train loss: 0.1067   Train accuracy: 0.794   Val loss: 0.1312   Val accuracy: 0.788    weighted Val loss: 0.1559\n",
      "Epoch: 384   Train loss: 0.1031   Train accuracy: 0.813   Val loss: 0.1282   Val accuracy: 0.782    weighted Val loss: 0.1557\n",
      "Epoch: 385   Train loss: 0.1032   Train accuracy: 0.803   Val loss: 0.1262   Val accuracy: 0.798    weighted Val loss: 0.1556\n",
      "Epoch: 386   Train loss: 0.0994   Train accuracy: 0.809   Val loss: 0.1259   Val accuracy: 0.783    weighted Val loss: 0.1554\n",
      "Epoch: 387   Train loss: 0.0964   Train accuracy: 0.823   Val loss: 0.1289   Val accuracy: 0.78    weighted Val loss: 0.1553\n",
      "Epoch: 388   Train loss: 0.0926   Train accuracy: 0.813   Val loss: 0.1207   Val accuracy: 0.803    weighted Val loss: 0.1551\n",
      "Epoch: 389   Train loss: 0.1064   Train accuracy: 0.792   Val loss: 0.1241   Val accuracy: 0.794    weighted Val loss: 0.155\n",
      "Epoch: 390   Train loss: 0.1094   Train accuracy: 0.788   Val loss: 0.132   Val accuracy: 0.791    weighted Val loss: 0.1548\n",
      "Epoch: 391   Train loss: 0.1118   Train accuracy: 0.768   Val loss: 0.1292   Val accuracy: 0.789    weighted Val loss: 0.1547\n",
      "Epoch: 392   Train loss: 0.0936   Train accuracy: 0.832   Val loss: 0.1217   Val accuracy: 0.783    weighted Val loss: 0.1546\n",
      "Epoch: 393   Train loss: 0.1012   Train accuracy: 0.776   Val loss: 0.1234   Val accuracy: 0.789    weighted Val loss: 0.1544\n",
      "Epoch: 394   Train loss: 0.107   Train accuracy: 0.791   Val loss: 0.1279   Val accuracy: 0.781    weighted Val loss: 0.1543\n",
      "Epoch: 395   Train loss: 0.1   Train accuracy: 0.795   Val loss: 0.1314   Val accuracy: 0.777    weighted Val loss: 0.1542\n",
      "Epoch: 396   Train loss: 0.1   Train accuracy: 0.782   Val loss: 0.1265   Val accuracy: 0.793    weighted Val loss: 0.154\n",
      "Epoch: 397   Train loss: 0.0919   Train accuracy: 0.837   Val loss: 0.124   Val accuracy: 0.795    weighted Val loss: 0.1539\n",
      "Epoch: 398   Train loss: 0.1045   Train accuracy: 0.788   Val loss: 0.1314   Val accuracy: 0.785    weighted Val loss: 0.1538\n",
      "Epoch: 399   Train loss: 0.1058   Train accuracy: 0.815   Val loss: 0.1293   Val accuracy: 0.788    weighted Val loss: 0.1536\n",
      "Epoch: 400   Train loss: 0.0997   Train accuracy: 0.811   Val loss: 0.128   Val accuracy: 0.781    weighted Val loss: 0.1535\n",
      "Epoch: 401   Train loss: 0.1116   Train accuracy: 0.774   Val loss: 0.1251   Val accuracy: 0.799    weighted Val loss: 0.1534\n",
      "Epoch: 402   Train loss: 0.1012   Train accuracy: 0.794   Val loss: 0.1229   Val accuracy: 0.802    weighted Val loss: 0.1532\n",
      "Epoch: 403   Train loss: 0.0969   Train accuracy: 0.826   Val loss: 0.1273   Val accuracy: 0.776    weighted Val loss: 0.1531\n",
      "Epoch: 404   Train loss: 0.1027   Train accuracy: 0.787   Val loss: 0.1243   Val accuracy: 0.782    weighted Val loss: 0.1529\n",
      "Epoch: 405   Train loss: 0.1025   Train accuracy: 0.804   Val loss: 0.1259   Val accuracy: 0.779    weighted Val loss: 0.1528\n",
      "Epoch: 406   Train loss: 0.1023   Train accuracy: 0.776   Val loss: 0.1271   Val accuracy: 0.777    weighted Val loss: 0.1527\n",
      "Epoch: 407   Train loss: 0.1006   Train accuracy: 0.794   Val loss: 0.1293   Val accuracy: 0.798    weighted Val loss: 0.1526\n",
      "Epoch: 408   Train loss: 0.104   Train accuracy: 0.8   Val loss: 0.1249   Val accuracy: 0.781    weighted Val loss: 0.1524\n",
      "Epoch: 409   Train loss: 0.1066   Train accuracy: 0.778   Val loss: 0.125   Val accuracy: 0.778    weighted Val loss: 0.1523\n",
      "Epoch: 410   Train loss: 0.1058   Train accuracy: 0.797   Val loss: 0.1242   Val accuracy: 0.788    weighted Val loss: 0.1521\n",
      "Epoch: 411   Train loss: 0.0998   Train accuracy: 0.819   Val loss: 0.1233   Val accuracy: 0.784    weighted Val loss: 0.152\n",
      "Epoch: 412   Train loss: 0.1018   Train accuracy: 0.806   Val loss: 0.1248   Val accuracy: 0.79    weighted Val loss: 0.1519\n",
      "Epoch: 413   Train loss: 0.1002   Train accuracy: 0.806   Val loss: 0.1257   Val accuracy: 0.795    weighted Val loss: 0.1517\n",
      "Epoch: 414   Train loss: 0.0969   Train accuracy: 0.816   Val loss: 0.1249   Val accuracy: 0.782    weighted Val loss: 0.1516\n",
      "Epoch: 415   Train loss: 0.1012   Train accuracy: 0.813   Val loss: 0.1244   Val accuracy: 0.786    weighted Val loss: 0.1515\n",
      "Epoch: 416   Train loss: 0.0975   Train accuracy: 0.813   Val loss: 0.1248   Val accuracy: 0.785    weighted Val loss: 0.1513\n",
      "Epoch: 417   Train loss: 0.1093   Train accuracy: 0.77   Val loss: 0.1282   Val accuracy: 0.785    weighted Val loss: 0.1512\n",
      "Epoch: 418   Train loss: 0.0973   Train accuracy: 0.829   Val loss: 0.1261   Val accuracy: 0.778    weighted Val loss: 0.1511\n",
      "Epoch: 419   Train loss: 0.104   Train accuracy: 0.774   Val loss: 0.1248   Val accuracy: 0.78    weighted Val loss: 0.151\n",
      "Epoch: 420   Train loss: 0.1075   Train accuracy: 0.789   Val loss: 0.1246   Val accuracy: 0.788    weighted Val loss: 0.1508\n",
      "Epoch: 421   Train loss: 0.0988   Train accuracy: 0.786   Val loss: 0.1243   Val accuracy: 0.779    weighted Val loss: 0.1507\n",
      "Epoch: 422   Train loss: 0.0985   Train accuracy: 0.812   Val loss: 0.1254   Val accuracy: 0.779    weighted Val loss: 0.1506\n",
      "Epoch: 423   Train loss: 0.101   Train accuracy: 0.803   Val loss: 0.1313   Val accuracy: 0.768    weighted Val loss: 0.1505\n",
      "Epoch: 424   Train loss: 0.0943   Train accuracy: 0.833   Val loss: 0.1278   Val accuracy: 0.774    weighted Val loss: 0.1504\n",
      "Epoch: 425   Train loss: 0.1064   Train accuracy: 0.781   Val loss: 0.128   Val accuracy: 0.77    weighted Val loss: 0.1502\n",
      "Epoch: 426   Train loss: 0.1024   Train accuracy: 0.779   Val loss: 0.1256   Val accuracy: 0.788    weighted Val loss: 0.1501\n",
      "Epoch: 427   Train loss: 0.0968   Train accuracy: 0.836   Val loss: 0.1235   Val accuracy: 0.778    weighted Val loss: 0.15\n",
      "Epoch: 428   Train loss: 0.0974   Train accuracy: 0.824   Val loss: 0.1306   Val accuracy: 0.784    weighted Val loss: 0.1499\n",
      "Epoch: 429   Train loss: 0.1027   Train accuracy: 0.798   Val loss: 0.1226   Val accuracy: 0.788    weighted Val loss: 0.1497\n",
      "Epoch: 430   Train loss: 0.0991   Train accuracy: 0.802   Val loss: 0.123   Val accuracy: 0.784    weighted Val loss: 0.1496\n",
      "Epoch: 431   Train loss: 0.0993   Train accuracy: 0.817   Val loss: 0.125   Val accuracy: 0.791    weighted Val loss: 0.1495\n",
      "Epoch: 432   Train loss: 0.1003   Train accuracy: 0.799   Val loss: 0.125   Val accuracy: 0.789    weighted Val loss: 0.1494\n",
      "Epoch: 433   Train loss: 0.1032   Train accuracy: 0.82   Val loss: 0.1209   Val accuracy: 0.804    weighted Val loss: 0.1492\n",
      "Epoch: 434   Train loss: 0.1004   Train accuracy: 0.792   Val loss: 0.1227   Val accuracy: 0.787    weighted Val loss: 0.1491\n",
      "Epoch: 435   Train loss: 0.0957   Train accuracy: 0.834   Val loss: 0.1296   Val accuracy: 0.787    weighted Val loss: 0.149\n",
      "Epoch: 436   Train loss: 0.1007   Train accuracy: 0.79   Val loss: 0.1229   Val accuracy: 0.784    weighted Val loss: 0.1489\n",
      "Epoch: 437   Train loss: 0.0978   Train accuracy: 0.8   Val loss: 0.1216   Val accuracy: 0.789    weighted Val loss: 0.1487\n",
      "Epoch: 438   Train loss: 0.0985   Train accuracy: 0.797   Val loss: 0.1287   Val accuracy: 0.793    weighted Val loss: 0.1486\n",
      "Epoch: 439   Train loss: 0.1022   Train accuracy: 0.789   Val loss: 0.1222   Val accuracy: 0.782    weighted Val loss: 0.1485\n",
      "Epoch: 440   Train loss: 0.0991   Train accuracy: 0.821   Val loss: 0.1269   Val accuracy: 0.776    weighted Val loss: 0.1484\n",
      "Epoch: 441   Train loss: 0.096   Train accuracy: 0.844   Val loss: 0.1246   Val accuracy: 0.792    weighted Val loss: 0.1483\n",
      "Epoch: 442   Train loss: 0.1032   Train accuracy: 0.809   Val loss: 0.1219   Val accuracy: 0.792    weighted Val loss: 0.1481\n",
      "Epoch: 443   Train loss: 0.1042   Train accuracy: 0.794   Val loss: 0.1201   Val accuracy: 0.797    weighted Val loss: 0.148\n",
      "Epoch: 444   Train loss: 0.1046   Train accuracy: 0.796   Val loss: 0.1207   Val accuracy: 0.795    weighted Val loss: 0.1479\n",
      "Epoch: 445   Train loss: 0.1066   Train accuracy: 0.787   Val loss: 0.1257   Val accuracy: 0.793    weighted Val loss: 0.1478\n",
      "Epoch: 446   Train loss: 0.1016   Train accuracy: 0.8   Val loss: 0.1313   Val accuracy: 0.781    weighted Val loss: 0.1477\n",
      "Epoch: 447   Train loss: 0.1036   Train accuracy: 0.806   Val loss: 0.1252   Val accuracy: 0.773    weighted Val loss: 0.1476\n",
      "Epoch: 448   Train loss: 0.0994   Train accuracy: 0.801   Val loss: 0.1265   Val accuracy: 0.768    weighted Val loss: 0.1475\n",
      "Epoch: 449   Train loss: 0.0987   Train accuracy: 0.807   Val loss: 0.1226   Val accuracy: 0.78    weighted Val loss: 0.1473\n",
      "Epoch: 450   Train loss: 0.1026   Train accuracy: 0.793   Val loss: 0.1232   Val accuracy: 0.79    weighted Val loss: 0.1472\n",
      "Epoch: 451   Train loss: 0.0963   Train accuracy: 0.838   Val loss: 0.1232   Val accuracy: 0.786    weighted Val loss: 0.1471\n",
      "Epoch: 452   Train loss: 0.0926   Train accuracy: 0.829   Val loss: 0.1223   Val accuracy: 0.783    weighted Val loss: 0.147\n",
      "Epoch: 453   Train loss: 0.1084   Train accuracy: 0.777   Val loss: 0.1233   Val accuracy: 0.786    weighted Val loss: 0.1468\n",
      "Epoch: 454   Train loss: 0.1042   Train accuracy: 0.815   Val loss: 0.124   Val accuracy: 0.792    weighted Val loss: 0.1467\n",
      "Epoch: 455   Train loss: 0.1031   Train accuracy: 0.791   Val loss: 0.123   Val accuracy: 0.787    weighted Val loss: 0.1466\n",
      "Epoch: 456   Train loss: 0.0993   Train accuracy: 0.821   Val loss: 0.1221   Val accuracy: 0.799    weighted Val loss: 0.1465\n",
      "Epoch: 457   Train loss: 0.0973   Train accuracy: 0.805   Val loss: 0.1232   Val accuracy: 0.795    weighted Val loss: 0.1464\n",
      "Epoch: 458   Train loss: 0.0999   Train accuracy: 0.81   Val loss: 0.1257   Val accuracy: 0.796    weighted Val loss: 0.1463\n",
      "Epoch: 459   Train loss: 0.0979   Train accuracy: 0.817   Val loss: 0.1224   Val accuracy: 0.782    weighted Val loss: 0.1462\n",
      "Epoch: 460   Train loss: 0.1025   Train accuracy: 0.795   Val loss: 0.1293   Val accuracy: 0.78    weighted Val loss: 0.1461\n",
      "Epoch: 461   Train loss: 0.1082   Train accuracy: 0.783   Val loss: 0.1244   Val accuracy: 0.775    weighted Val loss: 0.146\n",
      "Epoch: 462   Train loss: 0.1036   Train accuracy: 0.803   Val loss: 0.1245   Val accuracy: 0.77    weighted Val loss: 0.1459\n",
      "Epoch: 463   Train loss: 0.1022   Train accuracy: 0.822   Val loss: 0.1276   Val accuracy: 0.78    weighted Val loss: 0.1458\n",
      "Epoch: 464   Train loss: 0.1024   Train accuracy: 0.787   Val loss: 0.1207   Val accuracy: 0.8    weighted Val loss: 0.1456\n",
      "Epoch: 465   Train loss: 0.1016   Train accuracy: 0.798   Val loss: 0.1278   Val accuracy: 0.785    weighted Val loss: 0.1455\n",
      "Epoch: 466   Train loss: 0.0978   Train accuracy: 0.819   Val loss: 0.1281   Val accuracy: 0.784    weighted Val loss: 0.1455\n",
      "Epoch: 467   Train loss: 0.0994   Train accuracy: 0.822   Val loss: 0.1318   Val accuracy: 0.776    weighted Val loss: 0.1454\n",
      "Epoch: 468   Train loss: 0.1016   Train accuracy: 0.8   Val loss: 0.1323   Val accuracy: 0.77    weighted Val loss: 0.1453\n",
      "Epoch: 469   Train loss: 0.0941   Train accuracy: 0.813   Val loss: 0.1291   Val accuracy: 0.766    weighted Val loss: 0.1452\n",
      "Epoch: 470   Train loss: 0.1016   Train accuracy: 0.786   Val loss: 0.1247   Val accuracy: 0.775    weighted Val loss: 0.1451\n",
      "Epoch: 471   Train loss: 0.0975   Train accuracy: 0.823   Val loss: 0.1217   Val accuracy: 0.8    weighted Val loss: 0.145\n",
      "Epoch: 472   Train loss: 0.0951   Train accuracy: 0.817   Val loss: 0.1225   Val accuracy: 0.798    weighted Val loss: 0.1449\n",
      "Epoch: 473   Train loss: 0.1033   Train accuracy: 0.819   Val loss: 0.1268   Val accuracy: 0.773    weighted Val loss: 0.1448\n",
      "Epoch: 474   Train loss: 0.0942   Train accuracy: 0.826   Val loss: 0.1267   Val accuracy: 0.769    weighted Val loss: 0.1447\n",
      "Epoch: 475   Train loss: 0.0987   Train accuracy: 0.814   Val loss: 0.126   Val accuracy: 0.792    weighted Val loss: 0.1446\n",
      "Epoch: 476   Train loss: 0.1009   Train accuracy: 0.824   Val loss: 0.1303   Val accuracy: 0.776    weighted Val loss: 0.1446\n",
      "Epoch: 477   Train loss: 0.108   Train accuracy: 0.777   Val loss: 0.1236   Val accuracy: 0.787    weighted Val loss: 0.1445\n",
      "Epoch: 478   Train loss: 0.0977   Train accuracy: 0.817   Val loss: 0.1222   Val accuracy: 0.781    weighted Val loss: 0.1443\n",
      "Epoch: 479   Train loss: 0.1028   Train accuracy: 0.799   Val loss: 0.1256   Val accuracy: 0.778    weighted Val loss: 0.1443\n",
      "Epoch: 480   Train loss: 0.0966   Train accuracy: 0.79   Val loss: 0.124   Val accuracy: 0.779    weighted Val loss: 0.1442\n",
      "Epoch: 481   Train loss: 0.0999   Train accuracy: 0.812   Val loss: 0.1228   Val accuracy: 0.783    weighted Val loss: 0.144\n",
      "Epoch: 482   Train loss: 0.1011   Train accuracy: 0.798   Val loss: 0.1236   Val accuracy: 0.798    weighted Val loss: 0.1439\n",
      "Epoch: 483   Train loss: 0.0994   Train accuracy: 0.792   Val loss: 0.1259   Val accuracy: 0.786    weighted Val loss: 0.1439\n",
      "Epoch: 484   Train loss: 0.0994   Train accuracy: 0.782   Val loss: 0.1235   Val accuracy: 0.776    weighted Val loss: 0.1438\n",
      "Epoch: 485   Train loss: 0.0973   Train accuracy: 0.82   Val loss: 0.1294   Val accuracy: 0.786    weighted Val loss: 0.1437\n",
      "Epoch: 486   Train loss: 0.0987   Train accuracy: 0.795   Val loss: 0.1235   Val accuracy: 0.793    weighted Val loss: 0.1436\n",
      "Epoch: 487   Train loss: 0.0973   Train accuracy: 0.804   Val loss: 0.1239   Val accuracy: 0.789    weighted Val loss: 0.1435\n",
      "Epoch: 488   Train loss: 0.1102   Train accuracy: 0.786   Val loss: 0.1254   Val accuracy: 0.783    weighted Val loss: 0.1434\n",
      "Epoch: 489   Train loss: 0.1088   Train accuracy: 0.797   Val loss: 0.1257   Val accuracy: 0.784    weighted Val loss: 0.1433\n",
      "Epoch: 490   Train loss: 0.1024   Train accuracy: 0.802   Val loss: 0.1242   Val accuracy: 0.778    weighted Val loss: 0.1432\n",
      "Epoch: 491   Train loss: 0.099   Train accuracy: 0.787   Val loss: 0.1267   Val accuracy: 0.796    weighted Val loss: 0.1431\n",
      "Epoch: 492   Train loss: 0.1053   Train accuracy: 0.78   Val loss: 0.1239   Val accuracy: 0.801    weighted Val loss: 0.143\n",
      "Epoch: 493   Train loss: 0.1041   Train accuracy: 0.78   Val loss: 0.1286   Val accuracy: 0.792    weighted Val loss: 0.143\n",
      "Epoch: 494   Train loss: 0.1065   Train accuracy: 0.797   Val loss: 0.1265   Val accuracy: 0.788    weighted Val loss: 0.1429\n",
      "Epoch: 495   Train loss: 0.1048   Train accuracy: 0.792   Val loss: 0.1248   Val accuracy: 0.786    weighted Val loss: 0.1428\n",
      "Epoch: 496   Train loss: 0.1061   Train accuracy: 0.787   Val loss: 0.1267   Val accuracy: 0.79    weighted Val loss: 0.1427\n",
      "Epoch: 497   Train loss: 0.1022   Train accuracy: 0.77   Val loss: 0.1306   Val accuracy: 0.791    weighted Val loss: 0.1426\n",
      "Epoch: 498   Train loss: 0.0947   Train accuracy: 0.834   Val loss: 0.1268   Val accuracy: 0.791    weighted Val loss: 0.1426\n",
      "Epoch: 499   Train loss: 0.1053   Train accuracy: 0.787   Val loss: 0.1281   Val accuracy: 0.792    weighted Val loss: 0.1425\n",
      "Epoch: 500   Train loss: 0.0951   Train accuracy: 0.818   Val loss: 0.1247   Val accuracy: 0.791    weighted Val loss: 0.1424\n",
      "Epoch: 501   Train loss: 0.0984   Train accuracy: 0.813   Val loss: 0.123   Val accuracy: 0.798    weighted Val loss: 0.1423\n",
      "Epoch: 502   Train loss: 0.0917   Train accuracy: 0.837   Val loss: 0.1223   Val accuracy: 0.788    weighted Val loss: 0.1422\n",
      "Epoch: 503   Train loss: 0.1055   Train accuracy: 0.782   Val loss: 0.1229   Val accuracy: 0.791    weighted Val loss: 0.1421\n",
      "Epoch: 504   Train loss: 0.0997   Train accuracy: 0.791   Val loss: 0.1236   Val accuracy: 0.794    weighted Val loss: 0.142\n",
      "Epoch: 505   Train loss: 0.0978   Train accuracy: 0.804   Val loss: 0.1254   Val accuracy: 0.8    weighted Val loss: 0.1419\n",
      "Epoch: 506   Train loss: 0.1024   Train accuracy: 0.822   Val loss: 0.1249   Val accuracy: 0.787    weighted Val loss: 0.1418\n",
      "Epoch: 507   Train loss: 0.0923   Train accuracy: 0.817   Val loss: 0.1231   Val accuracy: 0.787    weighted Val loss: 0.1418\n",
      "Epoch: 508   Train loss: 0.0961   Train accuracy: 0.827   Val loss: 0.1251   Val accuracy: 0.783    weighted Val loss: 0.1417\n",
      "Epoch: 509   Train loss: 0.1006   Train accuracy: 0.806   Val loss: 0.1206   Val accuracy: 0.789    weighted Val loss: 0.1416\n",
      "Epoch: 510   Train loss: 0.1028   Train accuracy: 0.821   Val loss: 0.1217   Val accuracy: 0.8    weighted Val loss: 0.1415\n",
      "Epoch: 511   Train loss: 0.1013   Train accuracy: 0.8   Val loss: 0.1251   Val accuracy: 0.781    weighted Val loss: 0.1414\n",
      "Epoch: 512   Train loss: 0.1004   Train accuracy: 0.813   Val loss: 0.1294   Val accuracy: 0.801    weighted Val loss: 0.1413\n",
      "Epoch: 513   Train loss: 0.1019   Train accuracy: 0.808   Val loss: 0.1219   Val accuracy: 0.798    weighted Val loss: 0.1412\n",
      "Epoch: 514   Train loss: 0.1079   Train accuracy: 0.766   Val loss: 0.122   Val accuracy: 0.779    weighted Val loss: 0.1411\n",
      "Epoch: 515   Train loss: 0.099   Train accuracy: 0.828   Val loss: 0.1228   Val accuracy: 0.784    weighted Val loss: 0.141\n",
      "Epoch: 516   Train loss: 0.1001   Train accuracy: 0.827   Val loss: 0.1213   Val accuracy: 0.785    weighted Val loss: 0.1409\n",
      "Epoch: 517   Train loss: 0.0986   Train accuracy: 0.805   Val loss: 0.1227   Val accuracy: 0.783    weighted Val loss: 0.1409\n",
      "Epoch: 518   Train loss: 0.1029   Train accuracy: 0.797   Val loss: 0.1239   Val accuracy: 0.786    weighted Val loss: 0.1408\n",
      "Epoch: 519   Train loss: 0.1044   Train accuracy: 0.77   Val loss: 0.1245   Val accuracy: 0.791    weighted Val loss: 0.1407\n",
      "Epoch: 520   Train loss: 0.0984   Train accuracy: 0.817   Val loss: 0.1237   Val accuracy: 0.784    weighted Val loss: 0.1406\n",
      "Epoch: 521   Train loss: 0.1024   Train accuracy: 0.784   Val loss: 0.1312   Val accuracy: 0.78    weighted Val loss: 0.1406\n",
      "Epoch: 522   Train loss: 0.0981   Train accuracy: 0.837   Val loss: 0.1334   Val accuracy: 0.785    weighted Val loss: 0.1405\n",
      "Epoch: 523   Train loss: 0.0963   Train accuracy: 0.834   Val loss: 0.134   Val accuracy: 0.779    weighted Val loss: 0.1405\n",
      "Epoch: 524   Train loss: 0.1028   Train accuracy: 0.789   Val loss: 0.1281   Val accuracy: 0.79    weighted Val loss: 0.1404\n",
      "Epoch: 525   Train loss: 0.1001   Train accuracy: 0.815   Val loss: 0.1259   Val accuracy: 0.789    weighted Val loss: 0.1403\n",
      "Epoch: 526   Train loss: 0.0948   Train accuracy: 0.811   Val loss: 0.1229   Val accuracy: 0.79    weighted Val loss: 0.1403\n",
      "Epoch: 527   Train loss: 0.0968   Train accuracy: 0.802   Val loss: 0.1217   Val accuracy: 0.781    weighted Val loss: 0.1402\n",
      "Epoch: 528   Train loss: 0.1005   Train accuracy: 0.817   Val loss: 0.1235   Val accuracy: 0.788    weighted Val loss: 0.1401\n",
      "Epoch: 529   Train loss: 0.0946   Train accuracy: 0.825   Val loss: 0.1294   Val accuracy: 0.78    weighted Val loss: 0.14\n",
      "Epoch: 530   Train loss: 0.0967   Train accuracy: 0.817   Val loss: 0.1235   Val accuracy: 0.789    weighted Val loss: 0.1399\n",
      "Epoch: 531   Train loss: 0.0955   Train accuracy: 0.837   Val loss: 0.124   Val accuracy: 0.786    weighted Val loss: 0.1399\n",
      "Epoch: 532   Train loss: 0.1012   Train accuracy: 0.814   Val loss: 0.1256   Val accuracy: 0.769    weighted Val loss: 0.1398\n",
      "Epoch: 533   Train loss: 0.1044   Train accuracy: 0.769   Val loss: 0.1235   Val accuracy: 0.783    weighted Val loss: 0.1397\n",
      "Epoch: 534   Train loss: 0.1008   Train accuracy: 0.768   Val loss: 0.1261   Val accuracy: 0.787    weighted Val loss: 0.1396\n",
      "Epoch: 535   Train loss: 0.1051   Train accuracy: 0.781   Val loss: 0.1266   Val accuracy: 0.781    weighted Val loss: 0.1396\n",
      "Epoch: 536   Train loss: 0.0965   Train accuracy: 0.827   Val loss: 0.1223   Val accuracy: 0.788    weighted Val loss: 0.1395\n",
      "Epoch: 537   Train loss: 0.0964   Train accuracy: 0.809   Val loss: 0.1247   Val accuracy: 0.779    weighted Val loss: 0.1394\n",
      "Epoch: 538   Train loss: 0.1016   Train accuracy: 0.787   Val loss: 0.1223   Val accuracy: 0.784    weighted Val loss: 0.1393\n",
      "Epoch: 539   Train loss: 0.1053   Train accuracy: 0.783   Val loss: 0.1239   Val accuracy: 0.779    weighted Val loss: 0.1393\n",
      "Epoch: 540   Train loss: 0.1028   Train accuracy: 0.8   Val loss: 0.1247   Val accuracy: 0.792    weighted Val loss: 0.1392\n",
      "Epoch: 541   Train loss: 0.0951   Train accuracy: 0.822   Val loss: 0.1238   Val accuracy: 0.782    weighted Val loss: 0.1391\n",
      "Epoch: 542   Train loss: 0.098   Train accuracy: 0.816   Val loss: 0.1235   Val accuracy: 0.793    weighted Val loss: 0.139\n",
      "Epoch: 543   Train loss: 0.1058   Train accuracy: 0.809   Val loss: 0.1259   Val accuracy: 0.783    weighted Val loss: 0.139\n",
      "Epoch: 544   Train loss: 0.1016   Train accuracy: 0.828   Val loss: 0.1265   Val accuracy: 0.777    weighted Val loss: 0.1389\n",
      "Epoch: 545   Train loss: 0.0951   Train accuracy: 0.815   Val loss: 0.1223   Val accuracy: 0.792    weighted Val loss: 0.1388\n",
      "Epoch: 546   Train loss: 0.0948   Train accuracy: 0.807   Val loss: 0.1234   Val accuracy: 0.792    weighted Val loss: 0.1387\n",
      "Epoch: 547   Train loss: 0.0968   Train accuracy: 0.812   Val loss: 0.1265   Val accuracy: 0.78    weighted Val loss: 0.1387\n",
      "Epoch: 548   Train loss: 0.1009   Train accuracy: 0.787   Val loss: 0.1281   Val accuracy: 0.771    weighted Val loss: 0.1386\n",
      "Epoch: 549   Train loss: 0.0994   Train accuracy: 0.805   Val loss: 0.1311   Val accuracy: 0.766    weighted Val loss: 0.1386\n",
      "Epoch: 550   Train loss: 0.0996   Train accuracy: 0.813   Val loss: 0.128   Val accuracy: 0.786    weighted Val loss: 0.1385\n",
      "Epoch: 551   Train loss: 0.103   Train accuracy: 0.806   Val loss: 0.1308   Val accuracy: 0.778    weighted Val loss: 0.1385\n",
      "Epoch: 552   Train loss: 0.0942   Train accuracy: 0.817   Val loss: 0.1246   Val accuracy: 0.775    weighted Val loss: 0.1384\n",
      "Epoch: 553   Train loss: 0.1032   Train accuracy: 0.776   Val loss: 0.1267   Val accuracy: 0.774    weighted Val loss: 0.1384\n",
      "Epoch: 554   Train loss: 0.107   Train accuracy: 0.787   Val loss: 0.1285   Val accuracy: 0.778    weighted Val loss: 0.1383\n",
      "Epoch: 555   Train loss: 0.1003   Train accuracy: 0.808   Val loss: 0.1251   Val accuracy: 0.773    weighted Val loss: 0.1383\n",
      "Epoch: 556   Train loss: 0.1019   Train accuracy: 0.818   Val loss: 0.1268   Val accuracy: 0.78    weighted Val loss: 0.1382\n",
      "Epoch: 557   Train loss: 0.1023   Train accuracy: 0.812   Val loss: 0.1316   Val accuracy: 0.775    weighted Val loss: 0.1382\n",
      "Epoch: 558   Train loss: 0.0994   Train accuracy: 0.812   Val loss: 0.1249   Val accuracy: 0.785    weighted Val loss: 0.1381\n",
      "Epoch: 559   Train loss: 0.103   Train accuracy: 0.79   Val loss: 0.1256   Val accuracy: 0.779    weighted Val loss: 0.138\n",
      "Epoch: 560   Train loss: 0.0935   Train accuracy: 0.801   Val loss: 0.1208   Val accuracy: 0.78    weighted Val loss: 0.138\n",
      "Epoch: 561   Train loss: 0.0992   Train accuracy: 0.815   Val loss: 0.125   Val accuracy: 0.775    weighted Val loss: 0.1379\n",
      "Epoch: 562   Train loss: 0.0915   Train accuracy: 0.836   Val loss: 0.1279   Val accuracy: 0.789    weighted Val loss: 0.1378\n",
      "Epoch: 563   Train loss: 0.1077   Train accuracy: 0.801   Val loss: 0.1241   Val accuracy: 0.79    weighted Val loss: 0.1378\n",
      "Epoch: 564   Train loss: 0.1002   Train accuracy: 0.788   Val loss: 0.1277   Val accuracy: 0.789    weighted Val loss: 0.1377\n",
      "Epoch: 565   Train loss: 0.1016   Train accuracy: 0.817   Val loss: 0.1253   Val accuracy: 0.794    weighted Val loss: 0.1377\n",
      "Epoch: 566   Train loss: 0.0977   Train accuracy: 0.791   Val loss: 0.1257   Val accuracy: 0.772    weighted Val loss: 0.1376\n",
      "Epoch: 567   Train loss: 0.1055   Train accuracy: 0.777   Val loss: 0.125   Val accuracy: 0.773    weighted Val loss: 0.1375\n",
      "Epoch: 568   Train loss: 0.1057   Train accuracy: 0.803   Val loss: 0.1253   Val accuracy: 0.793    weighted Val loss: 0.1375\n",
      "Epoch: 569   Train loss: 0.1039   Train accuracy: 0.815   Val loss: 0.1232   Val accuracy: 0.781    weighted Val loss: 0.1374\n",
      "Epoch: 570   Train loss: 0.091   Train accuracy: 0.82   Val loss: 0.1239   Val accuracy: 0.776    weighted Val loss: 0.1373\n",
      "Epoch: 571   Train loss: 0.1026   Train accuracy: 0.807   Val loss: 0.1224   Val accuracy: 0.784    weighted Val loss: 0.1373\n",
      "Epoch: 572   Train loss: 0.0992   Train accuracy: 0.818   Val loss: 0.1258   Val accuracy: 0.781    weighted Val loss: 0.1372\n",
      "Epoch: 573   Train loss: 0.0941   Train accuracy: 0.839   Val loss: 0.135   Val accuracy: 0.776    weighted Val loss: 0.1372\n",
      "Epoch: 574   Train loss: 0.1079   Train accuracy: 0.77   Val loss: 0.1359   Val accuracy: 0.771    weighted Val loss: 0.1372\n",
      "Epoch: 575   Train loss: 0.0961   Train accuracy: 0.824   Val loss: 0.1247   Val accuracy: 0.783    weighted Val loss: 0.1371\n",
      "Epoch: 576   Train loss: 0.1085   Train accuracy: 0.78   Val loss: 0.1273   Val accuracy: 0.788    weighted Val loss: 0.1371\n",
      "Epoch: 577   Train loss: 0.1002   Train accuracy: 0.781   Val loss: 0.1239   Val accuracy: 0.781    weighted Val loss: 0.137\n",
      "Epoch: 578   Train loss: 0.1029   Train accuracy: 0.795   Val loss: 0.1245   Val accuracy: 0.797    weighted Val loss: 0.1369\n",
      "Epoch: 579   Train loss: 0.1012   Train accuracy: 0.82   Val loss: 0.1254   Val accuracy: 0.787    weighted Val loss: 0.1369\n",
      "Epoch: 580   Train loss: 0.1011   Train accuracy: 0.799   Val loss: 0.1235   Val accuracy: 0.79    weighted Val loss: 0.1368\n",
      "Epoch: 581   Train loss: 0.1025   Train accuracy: 0.843   Val loss: 0.1319   Val accuracy: 0.79    weighted Val loss: 0.1368\n",
      "Epoch: 582   Train loss: 0.0969   Train accuracy: 0.783   Val loss: 0.1233   Val accuracy: 0.792    weighted Val loss: 0.1367\n",
      "Epoch: 583   Train loss: 0.0973   Train accuracy: 0.818   Val loss: 0.1333   Val accuracy: 0.781    weighted Val loss: 0.1367\n",
      "Epoch: 584   Train loss: 0.1032   Train accuracy: 0.791   Val loss: 0.129   Val accuracy: 0.777    weighted Val loss: 0.1367\n",
      "Epoch: 585   Train loss: 0.1065   Train accuracy: 0.808   Val loss: 0.1288   Val accuracy: 0.778    weighted Val loss: 0.1366\n",
      "Epoch: 586   Train loss: 0.0992   Train accuracy: 0.794   Val loss: 0.1239   Val accuracy: 0.772    weighted Val loss: 0.1366\n",
      "Epoch: 587   Train loss: 0.0949   Train accuracy: 0.801   Val loss: 0.126   Val accuracy: 0.785    weighted Val loss: 0.1365\n",
      "Epoch: 588   Train loss: 0.0973   Train accuracy: 0.802   Val loss: 0.1217   Val accuracy: 0.773    weighted Val loss: 0.1364\n",
      "Epoch: 589   Train loss: 0.1027   Train accuracy: 0.79   Val loss: 0.1332   Val accuracy: 0.779    weighted Val loss: 0.1364\n",
      "Epoch: 590   Train loss: 0.1036   Train accuracy: 0.788   Val loss: 0.1283   Val accuracy: 0.772    weighted Val loss: 0.1364\n",
      "Epoch: 591   Train loss: 0.0988   Train accuracy: 0.797   Val loss: 0.1231   Val accuracy: 0.772    weighted Val loss: 0.1363\n",
      "Epoch: 592   Train loss: 0.0997   Train accuracy: 0.81   Val loss: 0.1237   Val accuracy: 0.777    weighted Val loss: 0.1363\n",
      "Epoch: 593   Train loss: 0.0947   Train accuracy: 0.825   Val loss: 0.1234   Val accuracy: 0.783    weighted Val loss: 0.1362\n",
      "Epoch: 594   Train loss: 0.1092   Train accuracy: 0.78   Val loss: 0.1261   Val accuracy: 0.776    weighted Val loss: 0.1361\n",
      "Epoch: 595   Train loss: 0.1014   Train accuracy: 0.812   Val loss: 0.1267   Val accuracy: 0.769    weighted Val loss: 0.1361\n",
      "Epoch: 596   Train loss: 0.1036   Train accuracy: 0.777   Val loss: 0.1257   Val accuracy: 0.771    weighted Val loss: 0.136\n",
      "Epoch: 597   Train loss: 0.102   Train accuracy: 0.794   Val loss: 0.1236   Val accuracy: 0.77    weighted Val loss: 0.136\n",
      "Epoch: 598   Train loss: 0.1029   Train accuracy: 0.798   Val loss: 0.1285   Val accuracy: 0.775    weighted Val loss: 0.1359\n",
      "Epoch: 599   Train loss: 0.1049   Train accuracy: 0.788   Val loss: 0.1309   Val accuracy: 0.764    weighted Val loss: 0.1359\n",
      "Epoch: 600   Train loss: 0.1035   Train accuracy: 0.781   Val loss: 0.1266   Val accuracy: 0.767    weighted Val loss: 0.1359\n",
      "Epoch: 601   Train loss: 0.105   Train accuracy: 0.796   Val loss: 0.1258   Val accuracy: 0.767    weighted Val loss: 0.1358\n",
      "Epoch: 602   Train loss: 0.0979   Train accuracy: 0.817   Val loss: 0.1275   Val accuracy: 0.759    weighted Val loss: 0.1358\n",
      "Epoch: 603   Train loss: 0.1023   Train accuracy: 0.797   Val loss: 0.1284   Val accuracy: 0.772    weighted Val loss: 0.1357\n",
      "Epoch: 604   Train loss: 0.0961   Train accuracy: 0.82   Val loss: 0.1332   Val accuracy: 0.773    weighted Val loss: 0.1357\n",
      "Epoch: 605   Train loss: 0.1084   Train accuracy: 0.792   Val loss: 0.1265   Val accuracy: 0.78    weighted Val loss: 0.1357\n",
      "Epoch: 606   Train loss: 0.0937   Train accuracy: 0.811   Val loss: 0.1268   Val accuracy: 0.769    weighted Val loss: 0.1356\n",
      "Epoch: 607   Train loss: 0.1031   Train accuracy: 0.795   Val loss: 0.1263   Val accuracy: 0.772    weighted Val loss: 0.1356\n",
      "Epoch: 608   Train loss: 0.1012   Train accuracy: 0.815   Val loss: 0.1263   Val accuracy: 0.775    weighted Val loss: 0.1355\n",
      "Epoch: 609   Train loss: 0.1085   Train accuracy: 0.804   Val loss: 0.1261   Val accuracy: 0.779    weighted Val loss: 0.1355\n",
      "Epoch: 610   Train loss: 0.1032   Train accuracy: 0.78   Val loss: 0.1247   Val accuracy: 0.772    weighted Val loss: 0.1354\n",
      "Epoch: 611   Train loss: 0.0978   Train accuracy: 0.823   Val loss: 0.1258   Val accuracy: 0.771    weighted Val loss: 0.1354\n",
      "Epoch: 612   Train loss: 0.0972   Train accuracy: 0.802   Val loss: 0.1226   Val accuracy: 0.781    weighted Val loss: 0.1353\n",
      "Epoch: 613   Train loss: 0.1001   Train accuracy: 0.782   Val loss: 0.1235   Val accuracy: 0.788    weighted Val loss: 0.1353\n",
      "Epoch: 614   Train loss: 0.1002   Train accuracy: 0.823   Val loss: 0.1278   Val accuracy: 0.779    weighted Val loss: 0.1352\n",
      "Epoch: 615   Train loss: 0.0974   Train accuracy: 0.821   Val loss: 0.1265   Val accuracy: 0.783    weighted Val loss: 0.1352\n",
      "Epoch: 616   Train loss: 0.0974   Train accuracy: 0.791   Val loss: 0.1296   Val accuracy: 0.78    weighted Val loss: 0.1352\n",
      "Epoch: 617   Train loss: 0.1032   Train accuracy: 0.773   Val loss: 0.1251   Val accuracy: 0.769    weighted Val loss: 0.1351\n",
      "Epoch: 618   Train loss: 0.1013   Train accuracy: 0.813   Val loss: 0.126   Val accuracy: 0.774    weighted Val loss: 0.1351\n",
      "Epoch: 619   Train loss: 0.0952   Train accuracy: 0.815   Val loss: 0.1242   Val accuracy: 0.775    weighted Val loss: 0.135\n",
      "Epoch: 620   Train loss: 0.1026   Train accuracy: 0.782   Val loss: 0.125   Val accuracy: 0.768    weighted Val loss: 0.135\n",
      "Epoch: 621   Train loss: 0.0991   Train accuracy: 0.792   Val loss: 0.1246   Val accuracy: 0.771    weighted Val loss: 0.1349\n",
      "Epoch: 622   Train loss: 0.0976   Train accuracy: 0.828   Val loss: 0.1272   Val accuracy: 0.778    weighted Val loss: 0.1349\n",
      "Epoch: 623   Train loss: 0.0947   Train accuracy: 0.822   Val loss: 0.1289   Val accuracy: 0.762    weighted Val loss: 0.1348\n",
      "Epoch: 624   Train loss: 0.0952   Train accuracy: 0.809   Val loss: 0.132   Val accuracy: 0.765    weighted Val loss: 0.1348\n",
      "Epoch: 625   Train loss: 0.1007   Train accuracy: 0.795   Val loss: 0.1243   Val accuracy: 0.778    weighted Val loss: 0.1348\n",
      "Epoch: 626   Train loss: 0.1085   Train accuracy: 0.774   Val loss: 0.1258   Val accuracy: 0.77    weighted Val loss: 0.1347\n",
      "Epoch: 627   Train loss: 0.1049   Train accuracy: 0.797   Val loss: 0.1259   Val accuracy: 0.778    weighted Val loss: 0.1347\n",
      "Epoch: 628   Train loss: 0.1043   Train accuracy: 0.821   Val loss: 0.131   Val accuracy: 0.765    weighted Val loss: 0.1347\n",
      "Epoch: 629   Train loss: 0.1077   Train accuracy: 0.808   Val loss: 0.1293   Val accuracy: 0.777    weighted Val loss: 0.1346\n",
      "Epoch: 630   Train loss: 0.0907   Train accuracy: 0.839   Val loss: 0.1249   Val accuracy: 0.775    weighted Val loss: 0.1346\n",
      "Epoch: 631   Train loss: 0.1002   Train accuracy: 0.804   Val loss: 0.1255   Val accuracy: 0.78    weighted Val loss: 0.1345\n",
      "Epoch: 632   Train loss: 0.1032   Train accuracy: 0.802   Val loss: 0.1318   Val accuracy: 0.782    weighted Val loss: 0.1345\n",
      "Epoch: 633   Train loss: 0.1004   Train accuracy: 0.805   Val loss: 0.1262   Val accuracy: 0.771    weighted Val loss: 0.1345\n",
      "Epoch: 634   Train loss: 0.1   Train accuracy: 0.819   Val loss: 0.1241   Val accuracy: 0.77    weighted Val loss: 0.1344\n",
      "Epoch: 635   Train loss: 0.0954   Train accuracy: 0.818   Val loss: 0.1255   Val accuracy: 0.781    weighted Val loss: 0.1344\n",
      "Epoch: 636   Train loss: 0.0978   Train accuracy: 0.808   Val loss: 0.1241   Val accuracy: 0.784    weighted Val loss: 0.1343\n",
      "Epoch: 637   Train loss: 0.0888   Train accuracy: 0.855   Val loss: 0.1243   Val accuracy: 0.776    weighted Val loss: 0.1343\n",
      "Epoch: 638   Train loss: 0.094   Train accuracy: 0.847   Val loss: 0.1242   Val accuracy: 0.784    weighted Val loss: 0.1342\n",
      "Epoch: 639   Train loss: 0.1022   Train accuracy: 0.789   Val loss: 0.1242   Val accuracy: 0.784    weighted Val loss: 0.1342\n",
      "Epoch: 640   Train loss: 0.0956   Train accuracy: 0.817   Val loss: 0.1244   Val accuracy: 0.785    weighted Val loss: 0.1341\n",
      "Epoch: 641   Train loss: 0.1049   Train accuracy: 0.778   Val loss: 0.1252   Val accuracy: 0.79    weighted Val loss: 0.1341\n",
      "Epoch: 642   Train loss: 0.0966   Train accuracy: 0.817   Val loss: 0.1278   Val accuracy: 0.79    weighted Val loss: 0.1341\n",
      "Epoch: 643   Train loss: 0.0959   Train accuracy: 0.807   Val loss: 0.1266   Val accuracy: 0.798    weighted Val loss: 0.134\n",
      "Epoch: 644   Train loss: 0.1014   Train accuracy: 0.797   Val loss: 0.128   Val accuracy: 0.803    weighted Val loss: 0.134\n",
      "Epoch: 645   Train loss: 0.0981   Train accuracy: 0.801   Val loss: 0.1247   Val accuracy: 0.788    weighted Val loss: 0.134\n",
      "Epoch: 646   Train loss: 0.0947   Train accuracy: 0.787   Val loss: 0.1249   Val accuracy: 0.781    weighted Val loss: 0.1339\n",
      "Epoch: 647   Train loss: 0.0981   Train accuracy: 0.8   Val loss: 0.1243   Val accuracy: 0.778    weighted Val loss: 0.1339\n",
      "Epoch: 648   Train loss: 0.106   Train accuracy: 0.794   Val loss: 0.1295   Val accuracy: 0.768    weighted Val loss: 0.1338\n",
      "Epoch: 649   Train loss: 0.1009   Train accuracy: 0.818   Val loss: 0.1314   Val accuracy: 0.768    weighted Val loss: 0.1338\n",
      "Epoch: 650   Train loss: 0.096   Train accuracy: 0.798   Val loss: 0.13   Val accuracy: 0.781    weighted Val loss: 0.1338\n",
      "Epoch: 651   Train loss: 0.1022   Train accuracy: 0.808   Val loss: 0.1256   Val accuracy: 0.777    weighted Val loss: 0.1338\n",
      "Epoch: 652   Train loss: 0.103   Train accuracy: 0.787   Val loss: 0.1282   Val accuracy: 0.783    weighted Val loss: 0.1337\n",
      "Epoch: 653   Train loss: 0.1049   Train accuracy: 0.812   Val loss: 0.1298   Val accuracy: 0.788    weighted Val loss: 0.1337\n",
      "Epoch: 654   Train loss: 0.0986   Train accuracy: 0.818   Val loss: 0.127   Val accuracy: 0.792    weighted Val loss: 0.1337\n",
      "Epoch: 655   Train loss: 0.1051   Train accuracy: 0.8   Val loss: 0.1329   Val accuracy: 0.785    weighted Val loss: 0.1337\n",
      "Epoch: 656   Train loss: 0.1024   Train accuracy: 0.795   Val loss: 0.1265   Val accuracy: 0.783    weighted Val loss: 0.1336\n",
      "Epoch: 657   Train loss: 0.0955   Train accuracy: 0.829   Val loss: 0.1254   Val accuracy: 0.786    weighted Val loss: 0.1336\n",
      "Epoch: 658   Train loss: 0.0971   Train accuracy: 0.813   Val loss: 0.1313   Val accuracy: 0.789    weighted Val loss: 0.1336\n",
      "Epoch: 659   Train loss: 0.1043   Train accuracy: 0.81   Val loss: 0.1277   Val accuracy: 0.779    weighted Val loss: 0.1336\n",
      "Epoch: 660   Train loss: 0.0973   Train accuracy: 0.801   Val loss: 0.1238   Val accuracy: 0.781    weighted Val loss: 0.1335\n",
      "Epoch: 661   Train loss: 0.0976   Train accuracy: 0.798   Val loss: 0.1222   Val accuracy: 0.796    weighted Val loss: 0.1335\n",
      "Epoch: 662   Train loss: 0.0995   Train accuracy: 0.788   Val loss: 0.1237   Val accuracy: 0.792    weighted Val loss: 0.1334\n",
      "Epoch: 663   Train loss: 0.1026   Train accuracy: 0.823   Val loss: 0.1253   Val accuracy: 0.789    weighted Val loss: 0.1334\n",
      "Epoch: 664   Train loss: 0.1   Train accuracy: 0.805   Val loss: 0.1232   Val accuracy: 0.783    weighted Val loss: 0.1333\n",
      "Epoch: 665   Train loss: 0.0996   Train accuracy: 0.805   Val loss: 0.1262   Val accuracy: 0.776    weighted Val loss: 0.1333\n",
      "Epoch: 666   Train loss: 0.0999   Train accuracy: 0.803   Val loss: 0.1249   Val accuracy: 0.782    weighted Val loss: 0.1332\n",
      "Epoch: 667   Train loss: 0.0976   Train accuracy: 0.792   Val loss: 0.1278   Val accuracy: 0.775    weighted Val loss: 0.1332\n",
      "Epoch: 668   Train loss: 0.1037   Train accuracy: 0.779   Val loss: 0.126   Val accuracy: 0.787    weighted Val loss: 0.1332\n",
      "Epoch: 669   Train loss: 0.0964   Train accuracy: 0.829   Val loss: 0.1287   Val accuracy: 0.781    weighted Val loss: 0.1332\n",
      "Epoch: 670   Train loss: 0.0955   Train accuracy: 0.805   Val loss: 0.1279   Val accuracy: 0.784    weighted Val loss: 0.1331\n",
      "Epoch: 671   Train loss: 0.1013   Train accuracy: 0.803   Val loss: 0.1277   Val accuracy: 0.779    weighted Val loss: 0.1331\n",
      "Epoch: 672   Train loss: 0.0968   Train accuracy: 0.833   Val loss: 0.1296   Val accuracy: 0.774    weighted Val loss: 0.1331\n",
      "Epoch: 673   Train loss: 0.1012   Train accuracy: 0.807   Val loss: 0.1266   Val accuracy: 0.785    weighted Val loss: 0.1331\n",
      "Epoch: 674   Train loss: 0.0942   Train accuracy: 0.834   Val loss: 0.1298   Val accuracy: 0.783    weighted Val loss: 0.133\n",
      "Epoch: 675   Train loss: 0.0951   Train accuracy: 0.84   Val loss: 0.1249   Val accuracy: 0.78    weighted Val loss: 0.133\n",
      "Epoch: 676   Train loss: 0.0991   Train accuracy: 0.81   Val loss: 0.1225   Val accuracy: 0.778    weighted Val loss: 0.1329\n",
      "Epoch: 677   Train loss: 0.1046   Train accuracy: 0.793   Val loss: 0.1251   Val accuracy: 0.788    weighted Val loss: 0.1329\n",
      "Epoch: 678   Train loss: 0.1043   Train accuracy: 0.792   Val loss: 0.1239   Val accuracy: 0.784    weighted Val loss: 0.1329\n",
      "Epoch: 679   Train loss: 0.092   Train accuracy: 0.818   Val loss: 0.1215   Val accuracy: 0.791    weighted Val loss: 0.1328\n",
      "Epoch: 680   Train loss: 0.1001   Train accuracy: 0.809   Val loss: 0.1286   Val accuracy: 0.784    weighted Val loss: 0.1328\n",
      "Epoch: 681   Train loss: 0.0933   Train accuracy: 0.802   Val loss: 0.1217   Val accuracy: 0.785    weighted Val loss: 0.1327\n",
      "Epoch: 682   Train loss: 0.1066   Train accuracy: 0.797   Val loss: 0.1244   Val accuracy: 0.782    weighted Val loss: 0.1327\n",
      "Epoch: 683   Train loss: 0.0984   Train accuracy: 0.782   Val loss: 0.1251   Val accuracy: 0.781    weighted Val loss: 0.1326\n",
      "Epoch: 684   Train loss: 0.1036   Train accuracy: 0.824   Val loss: 0.1288   Val accuracy: 0.779    weighted Val loss: 0.1326\n",
      "Epoch: 685   Train loss: 0.0956   Train accuracy: 0.817   Val loss: 0.124   Val accuracy: 0.786    weighted Val loss: 0.1326\n",
      "Epoch: 686   Train loss: 0.1034   Train accuracy: 0.814   Val loss: 0.1263   Val accuracy: 0.786    weighted Val loss: 0.1326\n",
      "Epoch: 687   Train loss: 0.0972   Train accuracy: 0.807   Val loss: 0.1254   Val accuracy: 0.78    weighted Val loss: 0.1325\n",
      "Epoch: 688   Train loss: 0.0994   Train accuracy: 0.831   Val loss: 0.1229   Val accuracy: 0.784    weighted Val loss: 0.1325\n",
      "Epoch: 689   Train loss: 0.0966   Train accuracy: 0.816   Val loss: 0.1265   Val accuracy: 0.778    weighted Val loss: 0.1324\n",
      "Epoch: 690   Train loss: 0.1004   Train accuracy: 0.777   Val loss: 0.1309   Val accuracy: 0.785    weighted Val loss: 0.1324\n",
      "Epoch: 691   Train loss: 0.1019   Train accuracy: 0.769   Val loss: 0.123   Val accuracy: 0.799    weighted Val loss: 0.1324\n",
      "Epoch: 692   Train loss: 0.0995   Train accuracy: 0.782   Val loss: 0.1232   Val accuracy: 0.786    weighted Val loss: 0.1323\n",
      "Epoch: 693   Train loss: 0.0988   Train accuracy: 0.81   Val loss: 0.1264   Val accuracy: 0.797    weighted Val loss: 0.1323\n",
      "Epoch: 694   Train loss: 0.1033   Train accuracy: 0.8   Val loss: 0.1373   Val accuracy: 0.784    weighted Val loss: 0.1323\n"
     ]
    }
   ],
   "source": [
    "MLPparametersGDE = {\n",
    "    'n_layers':2,\n",
    "    'layer_size_factor':[1, 1], \n",
    "    'dropout':[0.5, 0.3],\n",
    "    'batch_size': 128,\n",
    "    'num_epochs': 900,\n",
    "    'learning_rate': 6e-4,\n",
    "    'weight_decay': 5e-3,\n",
    "    'betas': (0.9, 0.999), \n",
    "    'eps': 1e-08\n",
    "}\n",
    "MLPmodelGDE, _,_, MLPcheckpointGDE = MLP.train_MLP(dm, sim_all[\"GDE_train\"], sim_all[\"GDE_test\"], MLPparametersGDE, acc_fn=MLP.F1, autostop_decay = 0.995, print_summary = True)"
   ]
  },
  {
   "cell_type": "code",
   "execution_count": 28,
   "metadata": {},
   "outputs": [
    {
     "name": "stdout",
     "output_type": "stream",
     "text": [
      "model saved\n"
     ]
    }
   ],
   "source": [
    "#optional: save the model\n",
    "MLP.save_ckp(MLPcheckpointGDE, \"models/MLPGDE253_1.pt\")"
   ]
  },
  {
   "cell_type": "markdown",
   "metadata": {},
   "source": [
    "###### Result"
   ]
  },
  {
   "cell_type": "code",
   "execution_count": 29,
   "metadata": {},
   "outputs": [
    {
     "name": "stdout",
     "output_type": "stream",
     "text": [
      "device set to cuda\n",
      "threshold: 0.05  validation loss: 0.1216 F1 accuracy 0.514 Precision accuracy 0.349 Recall accuracy 0.977 AUC accuracy: 0.971\n",
      "device set to cuda\n",
      "threshold: 0.1  validation loss: 0.1216 F1 accuracy 0.657 Precision accuracy 0.503 Recall accuracy 0.946 AUC accuracy: 0.971\n",
      "device set to cuda\n",
      "threshold: 0.15  validation loss: 0.1216 F1 accuracy 0.736 Precision accuracy 0.612 Recall accuracy 0.923 AUC accuracy: 0.971\n",
      "device set to cuda\n",
      "threshold: 0.2  validation loss: 0.1216 F1 accuracy 0.788 Precision accuracy 0.715 Recall accuracy 0.877 AUC accuracy: 0.971\n",
      "device set to cuda\n",
      "threshold: 0.25  validation loss: 0.1216 F1 accuracy 0.783 Precision accuracy 0.75 Recall accuracy 0.819 AUC accuracy: 0.971\n",
      "device set to cuda\n",
      "threshold: 0.3  validation loss: 0.1216 F1 accuracy 0.805 Precision accuracy 0.815 Recall accuracy 0.796 AUC accuracy: 0.971\n",
      "device set to cuda\n",
      "threshold: 0.35  validation loss: 0.1216 F1 accuracy 0.785 Precision accuracy 0.838 Recall accuracy 0.738 AUC accuracy: 0.971\n",
      "device set to cuda\n",
      "threshold: 0.4  validation loss: 0.1216 F1 accuracy 0.786 Precision accuracy 0.885 Recall accuracy 0.708 AUC accuracy: 0.971\n",
      "device set to cuda\n",
      "threshold: 0.45  validation loss: 0.1216 F1 accuracy 0.754 Precision accuracy 0.899 Recall accuracy 0.65 AUC accuracy: 0.971\n",
      "device set to cuda\n",
      "threshold: 0.5  validation loss: 0.1216 F1 accuracy 0.736 Precision accuracy 0.914 Recall accuracy 0.615 AUC accuracy: 0.971\n",
      "device set to cuda\n",
      "threshold: 0.55  validation loss: 0.1216 F1 accuracy 0.702 Precision accuracy 0.936 Recall accuracy 0.562 AUC accuracy: 0.971\n",
      "device set to cuda\n",
      "threshold: 0.6  validation loss: 0.1216 F1 accuracy 0.677 Precision accuracy 0.958 Recall accuracy 0.523 AUC accuracy: 0.971\n",
      "device set to cuda\n",
      "threshold: 0.65  validation loss: 0.1216 F1 accuracy 0.636 Precision accuracy 0.954 Recall accuracy 0.477 AUC accuracy: 0.971\n",
      "device set to cuda\n",
      "threshold: 0.7  validation loss: 0.1216 F1 accuracy 0.603 Precision accuracy 0.983 Recall accuracy 0.435 AUC accuracy: 0.971\n",
      "device set to cuda\n",
      "threshold: 0.75  validation loss: 0.1216 F1 accuracy 0.538 Precision accuracy 0.99 Recall accuracy 0.369 AUC accuracy: 0.971\n",
      "device set to cuda\n",
      "threshold: 0.8  validation loss: 0.1216 F1 accuracy 0.475 Precision accuracy 1.0 Recall accuracy 0.312 AUC accuracy: 0.971\n",
      "device set to cuda\n",
      "threshold: 0.85  validation loss: 0.1216 F1 accuracy 0.365 Precision accuracy 1.0 Recall accuracy 0.223 AUC accuracy: 0.971\n",
      "device set to cuda\n",
      "threshold: 0.9  validation loss: 0.1216 F1 accuracy 0.278 Precision accuracy 1.0 Recall accuracy 0.162 AUC accuracy: 0.971\n",
      "device set to cuda\n",
      "threshold: 0.95  validation loss: 0.1216 F1 accuracy 0.163 Precision accuracy 1.0 Recall accuracy 0.088 AUC accuracy: 0.971\n"
     ]
    }
   ],
   "source": [
    "for i in range(5,100, 5):\n",
    "    t = i/100;\n",
    "    MLP.eval_mlp(MLPmodelGDE, sim_all[\"GDE_test\"], dm, device_name = 'cuda', threshold = t)"
   ]
  },
  {
   "cell_type": "code",
   "execution_count": null,
   "metadata": {},
   "outputs": [],
   "source": []
  },
  {
   "cell_type": "code",
   "execution_count": null,
   "metadata": {},
   "outputs": [],
   "source": []
  }
 ],
 "metadata": {
  "kernelspec": {
   "display_name": "Python 3",
   "language": "python",
   "name": "python3"
  },
  "language_info": {
   "codemirror_mode": {
    "name": "ipython",
    "version": 3
   },
   "file_extension": ".py",
   "mimetype": "text/x-python",
   "name": "python",
   "nbconvert_exporter": "python",
   "pygments_lexer": "ipython3",
   "version": "3.8.5"
  }
 },
 "nbformat": 4,
 "nbformat_minor": 4
}
