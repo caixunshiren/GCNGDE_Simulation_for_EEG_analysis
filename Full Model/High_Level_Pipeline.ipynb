{
 "cells": [
  {
   "cell_type": "markdown",
   "metadata": {},
   "source": [
    "# High Level Pipline for GCN and GNODE for Brain State Identification"
   ]
  },
  {
   "cell_type": "markdown",
   "metadata": {},
   "source": [
    "## Pipeline Overview"
   ]
  },
  {
   "cell_type": "markdown",
   "metadata": {},
   "source": [
    "### 1.1 Adjacency Matrix Generation ---> **2.1 Unsupervised GCN** ---> 3.1 Supervised MLP"
   ]
  },
  {
   "cell_type": "markdown",
   "metadata": {},
   "source": [
    "### 1.1 Adjacency Matrix Generation ---> **2.2 Unsupervised GNODE** ---> 3.1 Supervised MLP"
   ]
  },
  {
   "cell_type": "markdown",
   "metadata": {},
   "source": [
    "[Introduction and overview should be written here]"
   ]
  },
  {
   "cell_type": "markdown",
   "metadata": {},
   "source": [
    "#### High Level Classes imported:"
   ]
  },
  {
   "cell_type": "markdown",
   "metadata": {},
   "source": [
    "DataManager.py DataManagerUtil.py : [insert description here]"
   ]
  },
  {
   "cell_type": "markdown",
   "metadata": {},
   "source": [
    "GCN.py GCNutil.py : [insert description here]"
   ]
  },
  {
   "cell_type": "markdown",
   "metadata": {},
   "source": [
    "GDE.py GDEutil.py GDEsolvers.py : [insert description here]"
   ]
  },
  {
   "cell_type": "markdown",
   "metadata": {},
   "source": [
    "MLP.py : [insert description here]"
   ]
  },
  {
   "cell_type": "code",
   "execution_count": 1,
   "metadata": {},
   "outputs": [],
   "source": [
    "%reload_ext autoreload\n",
    "%autoreload 2\n",
    "#Custom Files\n",
    "from DataManager import dataManager\n",
    "from DataManagerUtil import *\n",
    "import GCN as GCN\n",
    "import GCNutil as GCNutil\n",
    "import GDE as GDE\n",
    "import GDEutil as GDEutil\n",
    "import GDEsolvers as GDEsolvers\n",
    "import MLP as MLP\n",
    "\n",
    "#Standard Libraries\n",
    "# Torch\n",
    "import torch\n",
    "import torch.autograd\n",
    "import torch.nn as nn\n",
    "import torch.nn.functional as F\n",
    "#Numpy\n",
    "import numpy as np"
   ]
  },
  {
   "cell_type": "markdown",
   "metadata": {},
   "source": [
    "#### Dataset:"
   ]
  },
  {
   "cell_type": "markdown",
   "metadata": {},
   "source": [
    "[A short description here]"
   ]
  },
  {
   "cell_type": "code",
   "execution_count": 85,
   "metadata": {},
   "outputs": [
    {
     "name": "stdout",
     "output_type": "stream",
     "text": [
      "name: X_test\n",
      "shape: (640, 23, 2625)\n",
      "-----------------------\n",
      "name: X_train\n",
      "shape: (640, 23, 2473)\n",
      "-----------------------\n",
      "name: clip_sizes_test\n",
      "shape: (2, 135)\n",
      "-----------------------\n",
      "name: clip_sizes_train\n",
      "shape: (2, 133)\n",
      "-----------------------\n",
      "name: conv_sizes\n",
      "shape: (1, 1)\n",
      "-----------------------\n",
      "name: n_pre_szr\n",
      "shape: (1, 1)\n",
      "-----------------------\n",
      "name: sel_win_nums_test\n",
      "shape: (1, 2625)\n",
      "-----------------------\n",
      "name: sel_win_nums_train\n",
      "shape: (1, 2473)\n",
      "-----------------------\n",
      "name: soz_ch_ids\n",
      "shape: (5, 1)\n",
      "-----------------------\n",
      "name: stride_sec\n",
      "shape: (1, 1)\n",
      "-----------------------\n",
      "name: window_size_sec\n",
      "shape: (1, 1)\n",
      "-----------------------\n",
      "name: y_test\n",
      "shape: (1, 2625)\n",
      "-----------------------\n",
      "name: y_train\n",
      "shape: (1, 2473)\n",
      "-----------------------\n",
      "print sample EGG signal from one node:\n"
     ]
    },
    {
     "data": {
      "image/png": "[encoded data removed]",
      "text/plain": [
       "<Figure size 432x288 with 1 Axes>"
      ]
     },
     "metadata": {
      "needs_background": "light"
     },
     "output_type": "display_data"
    }
   ],
   "source": [
    "#Loading everything from the dataset\n",
    "filepath = 'datasets\\pat_FR_253.mat' #264 253 620\n",
    "variables = load_patient_data(filepath, verbose = True)"
   ]
  },
  {
   "cell_type": "code",
   "execution_count": 86,
   "metadata": {},
   "outputs": [
    {
     "name": "stdout",
     "output_type": "stream",
     "text": [
      "X_train: (640, 23, 2549)\n",
      "X_test: (640, 23, 2549)\n",
      "y_train: (1, 2549) Positive labes: 256.0\n",
      "y_test: (1, 2549) Positive labes: 265.0\n"
     ]
    }
   ],
   "source": [
    "#OPTIONAL: Shuffle the dataset\n",
    "variables, indices = shuffle_train_test(variables, train_ratio = 0.5, print_summary = True)"
   ]
  },
  {
   "cell_type": "code",
   "execution_count": 87,
   "metadata": {},
   "outputs": [],
   "source": [
    "#OPTIONAL: Remove Overlapping Parts\n",
    "variables = remove_overlap(variables)"
   ]
  },
  {
   "cell_type": "markdown",
   "metadata": {},
   "source": [
    "$\\;\\;\\;\\;\\;\\;\\;\\;\\;\\;\\;\\;\\;\\;$"
   ]
  },
  {
   "cell_type": "markdown",
   "metadata": {},
   "source": [
    "## 1.1 Adjacency Matrix Generation"
   ]
  },
  {
   "cell_type": "markdown",
   "metadata": {},
   "source": [
    "[short description here]"
   ]
  },
  {
   "cell_type": "markdown",
   "metadata": {},
   "source": [
    "##### 1.1.1 Create the datamanager object that computes the covariance matrix for you."
   ]
  },
  {
   "cell_type": "code",
   "execution_count": 88,
   "metadata": {},
   "outputs": [
    {
     "name": "stdout",
     "output_type": "stream",
     "text": [
      "--------data manager successfully initialized--------\n"
     ]
    }
   ],
   "source": [
    "dm = dataManager(variables[\"X_train\"],variables[\"X_test\"],variables[\"y_train\"],variables[\"y_test\"],10**(-4))"
   ]
  },
  {
   "cell_type": "markdown",
   "metadata": {},
   "source": [
    "##### 1.1.2 Visualize the mean covariance matrix across all training samples"
   ]
  },
  {
   "cell_type": "code",
   "execution_count": 89,
   "metadata": {},
   "outputs": [
    {
     "data": {
      "image/png": "[encoded data removed]",
      "text/plain": [
       "<Figure size 432x288 with 2 Axes>"
      ]
     },
     "metadata": {
      "needs_background": "light"
     },
     "output_type": "display_data"
    }
   ],
   "source": [
    "show_heat_map(dm.P_avg_train)"
   ]
  },
  {
   "cell_type": "markdown",
   "metadata": {},
   "source": [
    "##### 1.1.3 Create DAD from dm by setting the threshold n. repeating this untill a desireble \"n\" value is found."
   ]
  },
  {
   "cell_type": "code",
   "execution_count": 90,
   "metadata": {},
   "outputs": [
    {
     "data": {
      "image/png": "[encoded data removed]",
      "text/plain": [
       "<Figure size 432x288 with 2 Axes>"
      ]
     },
     "metadata": {
      "needs_background": "light"
     },
     "output_type": "display_data"
    },
    {
     "data": {
      "image/png": "[encoded data removed]",
      "text/plain": [
       "<Figure size 432x288 with 2 Axes>"
      ]
     },
     "metadata": {
      "needs_background": "light"
     },
     "output_type": "display_data"
    }
   ],
   "source": [
    "n = 0.7*10**-3\n",
    "dm.re_threshold(n)\n",
    "show_heat_map(dm.A_train)\n",
    "show_heat_map(create_DAD(dm.A_train))\n",
    "Araw = dm.A_train"
   ]
  },
  {
   "cell_type": "markdown",
   "metadata": {},
   "source": [
    "$\\;\\;\\;\\;\\;\\;\\;\\;\\;\\;\\;\\;\\;\\;$"
   ]
  },
  {
   "cell_type": "markdown",
   "metadata": {},
   "source": [
    "## 2.1 Unsupervised Graph Convolutional Neural Network (GCN)"
   ]
  },
  {
   "cell_type": "markdown",
   "metadata": {},
   "source": [
    "[short description here]"
   ]
  },
  {
   "cell_type": "markdown",
   "metadata": {},
   "source": [
    "##### 2.1.1 Declare Parameters for GCN"
   ]
  },
  {
   "cell_type": "code",
   "execution_count": 91,
   "metadata": {},
   "outputs": [
    {
     "name": "stdout",
     "output_type": "stream",
     "text": [
      "{'body': 257, 'M': 2549, 'batch_size': 128, 'n_layers': 2, 'num_epochs': 1, 'learning_rate': 0.001, 'weight_decay': 0.005}\n"
     ]
    }
   ],
   "source": [
    "#create new model\n",
    "A = create_DAD(Araw)\n",
    "X_train = dm.X_train\n",
    "X_test = dm.X_test\n",
    "GCNparameters = {\n",
    "    'body': dm.X_train.shape[2],\n",
    "    'M': dm.X_train.shape[0],\n",
    "    'batch_size': 128,\n",
    "    'n_layers': 2,\n",
    "    'num_epochs': 1,\n",
    "    'learning_rate': 1e-3,\n",
    "    'weight_decay': 5e-3\n",
    "}\n",
    "print(GCNparameters)\n",
    "GCNcheckpoint = {'parameters': GCNparameters}"
   ]
  },
  {
   "cell_type": "markdown",
   "metadata": {},
   "source": [
    "##### 2.1.2 Train GCN"
   ]
  },
  {
   "cell_type": "code",
   "execution_count": 94,
   "metadata": {},
   "outputs": [
    {
     "name": "stderr",
     "output_type": "stream",
     "text": [
      "  5%|▌         | 1/20 [00:00<00:02,  8.57it/s]"
     ]
    },
    {
     "name": "stdout",
     "output_type": "stream",
     "text": [
      "device set to cpu\n",
      "Epoch: 1   Batch: 1 of size 128   Train loss: 279.1590270996094   Valid loss: 276.37078857421875\r"
     ]
    },
    {
     "name": "stderr",
     "output_type": "stream",
     "text": [
      " 15%|█▌        | 3/20 [00:00<00:01,  9.31it/s]"
     ]
    },
    {
     "name": "stdout",
     "output_type": "stream",
     "text": [
      "Epoch: 1   Batch: 4 of size 128   Train loss: 276.1919860839844   Valid loss: 275.67111206054695\r"
     ]
    },
    {
     "name": "stderr",
     "output_type": "stream",
     "text": [
      " 25%|██▌       | 5/20 [00:00<00:01,  9.82it/s]"
     ]
    },
    {
     "name": "stdout",
     "output_type": "stream",
     "text": [
      "Epoch: 1   Batch: 6 of size 128   Train loss: 275.1151428222656   Valid loss: 275.32159423828125"
     ]
    },
    {
     "name": "stderr",
     "output_type": "stream",
     "text": [
      " 45%|████▌     | 9/20 [00:00<00:01, 10.54it/s]"
     ]
    },
    {
     "name": "stdout",
     "output_type": "stream",
     "text": [
      "Epoch: 1   Batch: 9 of size 128   Train loss: 275.4870910644531   Valid loss: 274.8325500488281\r"
     ]
    },
    {
     "name": "stderr",
     "output_type": "stream",
     "text": [
      " 55%|█████▌    | 11/20 [00:01<00:00, 10.58it/s]"
     ]
    },
    {
     "name": "stdout",
     "output_type": "stream",
     "text": [
      "Epoch: 1   Batch: 11 of size 128   Train loss: 274.0447082519531   Valid loss: 272.8052978515625"
     ]
    },
    {
     "name": "stderr",
     "output_type": "stream",
     "text": [
      " 65%|██████▌   | 13/20 [00:01<00:00, 10.66it/s]"
     ]
    },
    {
     "name": "stdout",
     "output_type": "stream",
     "text": [
      "Epoch: 1   Batch: 14 of size 128   Train loss: 270.7632751464844   Valid loss: 269.2350158691406\r"
     ]
    },
    {
     "name": "stderr",
     "output_type": "stream",
     "text": [
      " 85%|████████▌ | 17/20 [00:01<00:00, 11.11it/s]"
     ]
    },
    {
     "name": "stdout",
     "output_type": "stream",
     "text": [
      "Epoch: 1   Batch: 17 of size 128   Train loss: 266.00189208984375   Valid loss: 266.87994384765625\r"
     ]
    },
    {
     "name": "stderr",
     "output_type": "stream",
     "text": [
      "100%|██████████| 20/20 [00:01<00:00, 11.06it/s]"
     ]
    },
    {
     "name": "stdout",
     "output_type": "stream",
     "text": [
      "Epoch: 1   Batch: 20 of size 128   Train loss: 265.8990173339844   Valid loss: 265.26351928710949\n"
     ]
    },
    {
     "name": "stderr",
     "output_type": "stream",
     "text": [
      "\n"
     ]
    }
   ],
   "source": [
    "#strongly recommand cpu because it's only one epoch training time and CUDA some times run out of memory if you retrain multiple times\n",
    "device_name = 'cpu'\n",
    "GCNmodel, GCNcheckpoint = GCNutil.train_GCN(A, X_train, X_test, GCNcheckpoint, device_name = device_name, load = False, print_summary = False)"
   ]
  },
  {
   "cell_type": "code",
   "execution_count": 95,
   "metadata": {},
   "outputs": [
    {
     "name": "stdout",
     "output_type": "stream",
     "text": [
      "model saved\n"
     ]
    }
   ],
   "source": [
    "#optional: saving the model\n",
    "GCNutil.save_ckp(GCNcheckpoint, \"models/GCNtest1.pt\")"
   ]
  },
  {
   "cell_type": "markdown",
   "metadata": {},
   "source": [
    "##### 2.1.3 Visualize some simularity matrices generated by GCN (a visual evaluation and sanity check)"
   ]
  },
  {
   "cell_type": "code",
   "execution_count": 96,
   "metadata": {},
   "outputs": [],
   "source": [
    "GCNmodel.eval()\n",
    "test_pred = GCNmodel(torch.from_numpy(X_train[:128, :,:]).float().to(device_name), torch.from_numpy(A).float().to(device_name)).cpu().detach().numpy()"
   ]
  },
  {
   "cell_type": "code",
   "execution_count": 97,
   "metadata": {},
   "outputs": [
    {
     "name": "stdout",
     "output_type": "stream",
     "text": [
      "sample 0   label, 0.0\n"
     ]
    },
    {
     "data": {
      "image/png": "[encoded data removed]",
      "text/plain": [
       "<Figure size 432x288 with 2 Axes>"
      ]
     },
     "metadata": {
      "needs_background": "light"
     },
     "output_type": "display_data"
    },
    {
     "name": "stdout",
     "output_type": "stream",
     "text": [
      "sample 1   label, 0.0\n"
     ]
    },
    {
     "data": {
      "image/png": "[encoded data removed]",
      "text/plain": [
       "<Figure size 432x288 with 2 Axes>"
      ]
     },
     "metadata": {
      "needs_background": "light"
     },
     "output_type": "display_data"
    },
    {
     "name": "stdout",
     "output_type": "stream",
     "text": [
      "sample 2   label, 0.0\n"
     ]
    },
    {
     "data": {
      "image/png": "[encoded data removed]",
      "text/plain": [
       "<Figure size 432x288 with 2 Axes>"
      ]
     },
     "metadata": {
      "needs_background": "light"
     },
     "output_type": "display_data"
    },
    {
     "name": "stdout",
     "output_type": "stream",
     "text": [
      "sample 3   label, 0.0\n"
     ]
    },
    {
     "data": {
      "image/png": "[encoded data removed]",
      "text/plain": [
       "<Figure size 432x288 with 2 Axes>"
      ]
     },
     "metadata": {
      "needs_background": "light"
     },
     "output_type": "display_data"
    },
    {
     "name": "stdout",
     "output_type": "stream",
     "text": [
      "sample 4   label, 0.0\n"
     ]
    },
    {
     "data": {
      "image/png": "[encoded data removed]",
      "text/plain": [
       "<Figure size 432x288 with 2 Axes>"
      ]
     },
     "metadata": {
      "needs_background": "light"
     },
     "output_type": "display_data"
    },
    {
     "name": "stdout",
     "output_type": "stream",
     "text": [
      "sample 5   label, 1.0\n"
     ]
    },
    {
     "data": {
      "image/png": "[encoded data removed]",
      "text/plain": [
       "<Figure size 432x288 with 2 Axes>"
      ]
     },
     "metadata": {
      "needs_background": "light"
     },
     "output_type": "display_data"
    },
    {
     "name": "stdout",
     "output_type": "stream",
     "text": [
      "sample 6   label, 0.0\n"
     ]
    },
    {
     "data": {
      "image/png": "[encoded data removed]",
      "text/plain": [
       "<Figure size 432x288 with 2 Axes>"
      ]
     },
     "metadata": {
      "needs_background": "light"
     },
     "output_type": "display_data"
    },
    {
     "name": "stdout",
     "output_type": "stream",
     "text": [
      "sample 7   label, 0.0\n"
     ]
    },
    {
     "data": {
      "image/png": "[encoded data removed]",
      "text/plain": [
       "<Figure size 432x288 with 2 Axes>"
      ]
     },
     "metadata": {
      "needs_background": "light"
     },
     "output_type": "display_data"
    },
    {
     "name": "stdout",
     "output_type": "stream",
     "text": [
      "sample 8   label, 0.0\n"
     ]
    },
    {
     "data": {
      "image/png": "[encoded data removed]",
      "text/plain": [
       "<Figure size 432x288 with 2 Axes>"
      ]
     },
     "metadata": {
      "needs_background": "light"
     },
     "output_type": "display_data"
    },
    {
     "name": "stdout",
     "output_type": "stream",
     "text": [
      "sample 9   label, 0.0\n"
     ]
    },
    {
     "data": {
      "image/png": "[encoded data removed]",
      "text/plain": [
       "<Figure size 432x288 with 2 Axes>"
      ]
     },
     "metadata": {
      "needs_background": "light"
     },
     "output_type": "display_data"
    }
   ],
   "source": [
    "for i in range(10):\n",
    "    print(\"sample\", i, \"  label,\", dm.Y_train[i,0])\n",
    "    show_heat_map(test_pred[i,:,:])"
   ]
  },
  {
   "cell_type": "markdown",
   "metadata": {},
   "source": [
    "$\\;\\;\\;\\;\\;\\;\\;\\;\\;\\;\\;\\;\\;\\;$"
   ]
  },
  {
   "cell_type": "markdown",
   "metadata": {},
   "source": [
    "## 2.1 Unsupervised Graph Neural Ordinary Differential Equations (GNODE)"
   ]
  },
  {
   "cell_type": "markdown",
   "metadata": {},
   "source": [
    "[short description here]"
   ]
  },
  {
   "cell_type": "markdown",
   "metadata": {},
   "source": [
    "##### 2.2.1 Declare Parameters for GNODE"
   ]
  },
  {
   "cell_type": "code",
   "execution_count": 98,
   "metadata": {},
   "outputs": [],
   "source": [
    "A = create_DAD(Araw)\n",
    "X_train = dm.X_train\n",
    "X_test = dm.X_test\n",
    "GDEparameters = {\n",
    "    'body': dm.X_train.shape[2],\n",
    "    'solver': GDEsolvers.explicit_RK,\n",
    "    'solver_params': {\n",
    "    \"t0\": 0,\n",
    "    \"t1\": 0.25,\n",
    "    \"N\": 5,\n",
    "    \"b_tableau\": GDEsolvers.EF\n",
    "     },\n",
    "    'hidden_layers': 1,\n",
    "    'M': dm.X_train.shape[0],\n",
    "    'batch_size': 128,\n",
    "    'num_epochs': 1,\n",
    "    'learning_rate': 1e-3,\n",
    "    'weight_decay': 5e-3\n",
    "}\n",
    "GDEcheckpoint = {'parameters': GDEparameters}"
   ]
  },
  {
   "cell_type": "markdown",
   "metadata": {},
   "source": [
    "##### 2.2.2 Train GNODE"
   ]
  },
  {
   "cell_type": "code",
   "execution_count": 99,
   "metadata": {},
   "outputs": [
    {
     "name": "stderr",
     "output_type": "stream",
     "text": [
      "  0%|          | 0/20 [00:00<?, ?it/s]"
     ]
    },
    {
     "name": "stdout",
     "output_type": "stream",
     "text": [
      "device set to cpu\n"
     ]
    },
    {
     "name": "stderr",
     "output_type": "stream",
     "text": [
      "  5%|▌         | 1/20 [00:00<00:09,  1.97it/s]"
     ]
    },
    {
     "name": "stdout",
     "output_type": "stream",
     "text": [
      "Epoch: 1   Batch: 1 of size 128   Train loss: 279.1405944824219   Valid loss: 274.9389343261719\r"
     ]
    },
    {
     "name": "stderr",
     "output_type": "stream",
     "text": [
      " 10%|█         | 2/20 [00:01<00:09,  1.93it/s]"
     ]
    },
    {
     "name": "stdout",
     "output_type": "stream",
     "text": [
      "Epoch: 1   Batch: 2 of size 128   Train loss: 275.3367004394531   Valid loss: 274.54046630859375\r"
     ]
    },
    {
     "name": "stderr",
     "output_type": "stream",
     "text": [
      " 15%|█▌        | 3/20 [00:01<00:08,  1.92it/s]"
     ]
    },
    {
     "name": "stdout",
     "output_type": "stream",
     "text": [
      "Epoch: 1   Batch: 3 of size 128   Train loss: 274.5494079589844   Valid loss: 275.3486633300781\r"
     ]
    },
    {
     "name": "stderr",
     "output_type": "stream",
     "text": [
      " 20%|██        | 4/20 [00:02<00:08,  1.90it/s]"
     ]
    },
    {
     "name": "stdout",
     "output_type": "stream",
     "text": [
      "Epoch: 1   Batch: 4 of size 128   Train loss: 275.43609619140625   Valid loss: 274.17156982421875\r"
     ]
    },
    {
     "name": "stderr",
     "output_type": "stream",
     "text": [
      " 25%|██▌       | 5/20 [00:02<00:08,  1.86it/s]"
     ]
    },
    {
     "name": "stdout",
     "output_type": "stream",
     "text": [
      "Epoch: 1   Batch: 5 of size 128   Train loss: 275.0357971191406   Valid loss: 274.1197509765625\r"
     ]
    },
    {
     "name": "stderr",
     "output_type": "stream",
     "text": [
      " 30%|███       | 6/20 [00:03<00:07,  1.86it/s]"
     ]
    },
    {
     "name": "stdout",
     "output_type": "stream",
     "text": [
      "Epoch: 1   Batch: 6 of size 128   Train loss: 273.9751281738281   Valid loss: 273.05316162109375\r"
     ]
    },
    {
     "name": "stderr",
     "output_type": "stream",
     "text": [
      " 35%|███▌      | 7/20 [00:03<00:06,  1.86it/s]"
     ]
    },
    {
     "name": "stdout",
     "output_type": "stream",
     "text": [
      "Epoch: 1   Batch: 7 of size 128   Train loss: 272.8974914550781   Valid loss: 271.049560546875\r"
     ]
    },
    {
     "name": "stderr",
     "output_type": "stream",
     "text": [
      " 40%|████      | 8/20 [00:04<00:06,  1.85it/s]"
     ]
    },
    {
     "name": "stdout",
     "output_type": "stream",
     "text": [
      "Epoch: 1   Batch: 8 of size 128   Train loss: 271.9320983886719   Valid loss: 270.92169189453125\r"
     ]
    },
    {
     "name": "stderr",
     "output_type": "stream",
     "text": [
      " 45%|████▌     | 9/20 [00:04<00:05,  1.87it/s]"
     ]
    },
    {
     "name": "stdout",
     "output_type": "stream",
     "text": [
      "Epoch: 1   Batch: 9 of size 128   Train loss: 271.0677185058594   Valid loss: 270.6943359375\r"
     ]
    },
    {
     "name": "stderr",
     "output_type": "stream",
     "text": [
      " 50%|█████     | 10/20 [00:05<00:05,  1.88it/s]"
     ]
    },
    {
     "name": "stdout",
     "output_type": "stream",
     "text": [
      "Epoch: 1   Batch: 10 of size 128   Train loss: 270.4962158203125   Valid loss: 270.0299072265625\r"
     ]
    },
    {
     "name": "stderr",
     "output_type": "stream",
     "text": [
      " 55%|█████▌    | 11/20 [00:05<00:04,  1.84it/s]"
     ]
    },
    {
     "name": "stdout",
     "output_type": "stream",
     "text": [
      "Epoch: 1   Batch: 11 of size 128   Train loss: 269.77838134765625   Valid loss: 269.6723327636719\r"
     ]
    },
    {
     "name": "stderr",
     "output_type": "stream",
     "text": [
      " 60%|██████    | 12/20 [00:06<00:04,  1.83it/s]"
     ]
    },
    {
     "name": "stdout",
     "output_type": "stream",
     "text": [
      "Epoch: 1   Batch: 12 of size 128   Train loss: 268.8448791503906   Valid loss: 267.75390625\r"
     ]
    },
    {
     "name": "stderr",
     "output_type": "stream",
     "text": [
      " 65%|██████▌   | 13/20 [00:07<00:03,  1.80it/s]"
     ]
    },
    {
     "name": "stdout",
     "output_type": "stream",
     "text": [
      "Epoch: 1   Batch: 13 of size 128   Train loss: 268.69482421875   Valid loss: 267.0030822753906\r"
     ]
    },
    {
     "name": "stderr",
     "output_type": "stream",
     "text": [
      " 70%|███████   | 14/20 [00:07<00:03,  1.81it/s]"
     ]
    },
    {
     "name": "stdout",
     "output_type": "stream",
     "text": [
      "Epoch: 1   Batch: 14 of size 128   Train loss: 266.9250183105469   Valid loss: 266.21575927734375\r"
     ]
    },
    {
     "name": "stderr",
     "output_type": "stream",
     "text": [
      " 75%|███████▌  | 15/20 [00:08<00:02,  1.76it/s]"
     ]
    },
    {
     "name": "stdout",
     "output_type": "stream",
     "text": [
      "Epoch: 1   Batch: 15 of size 128   Train loss: 266.2450256347656   Valid loss: 265.366455078125\r"
     ]
    },
    {
     "name": "stderr",
     "output_type": "stream",
     "text": [
      " 80%|████████  | 16/20 [00:08<00:02,  1.79it/s]"
     ]
    },
    {
     "name": "stdout",
     "output_type": "stream",
     "text": [
      "Epoch: 1   Batch: 16 of size 128   Train loss: 264.8114929199219   Valid loss: 263.7367858886719\r"
     ]
    },
    {
     "name": "stderr",
     "output_type": "stream",
     "text": [
      " 85%|████████▌ | 17/20 [00:09<00:01,  1.78it/s]"
     ]
    },
    {
     "name": "stdout",
     "output_type": "stream",
     "text": [
      "Epoch: 1   Batch: 17 of size 128   Train loss: 263.739501953125   Valid loss: 263.7749938964844\r"
     ]
    },
    {
     "name": "stderr",
     "output_type": "stream",
     "text": [
      " 90%|█████████ | 18/20 [00:09<00:01,  1.78it/s]"
     ]
    },
    {
     "name": "stdout",
     "output_type": "stream",
     "text": [
      "Epoch: 1   Batch: 18 of size 128   Train loss: 263.8746643066406   Valid loss: 262.24127197265625\r"
     ]
    },
    {
     "name": "stderr",
     "output_type": "stream",
     "text": [
      " 95%|█████████▌| 19/20 [00:10<00:00,  1.82it/s]"
     ]
    },
    {
     "name": "stdout",
     "output_type": "stream",
     "text": [
      "Epoch: 1   Batch: 19 of size 128   Train loss: 263.0826416015625   Valid loss: 261.23309326171875\r"
     ]
    },
    {
     "name": "stderr",
     "output_type": "stream",
     "text": [
      "100%|██████████| 20/20 [00:10<00:00,  1.83it/s]"
     ]
    },
    {
     "name": "stdout",
     "output_type": "stream",
     "text": [
      "Epoch: 1   Batch: 20 of size 128   Train loss: 262.5039978027344   Valid loss: 261.4676818847656\n"
     ]
    },
    {
     "name": "stderr",
     "output_type": "stream",
     "text": [
      "\n"
     ]
    }
   ],
   "source": [
    "#strongly recommand cpu because it's only one epoch training time and CUDA some times run out of memory if you retrain multiple times\n",
    "device_name = 'cpu'\n",
    "GDEmodel, GDEcheckpoint = GDEutil.train_GDE(A, X_train, X_test, GDEcheckpoint, device_name = device_name, load = False, print_summary = False)"
   ]
  },
  {
   "cell_type": "code",
   "execution_count": 100,
   "metadata": {},
   "outputs": [
    {
     "name": "stdout",
     "output_type": "stream",
     "text": [
      "model saved\n"
     ]
    }
   ],
   "source": [
    "#optional: saving the model\n",
    "GDEutil.save_ckp(GDEcheckpoint, \"models/GDEtest1.pt\")"
   ]
  },
  {
   "cell_type": "markdown",
   "metadata": {},
   "source": [
    "##### 2.2.3 Visualize some simularity matrices generated by GNODE (a visual evaluation and sanity check)"
   ]
  },
  {
   "cell_type": "code",
   "execution_count": 101,
   "metadata": {},
   "outputs": [],
   "source": [
    "GDEmodel.eval()\n",
    "test_pred = GDEmodel(torch.from_numpy(X_train[:128, :,:]).float().to(device_name)).cpu().detach().numpy()"
   ]
  },
  {
   "cell_type": "code",
   "execution_count": 102,
   "metadata": {},
   "outputs": [
    {
     "name": "stdout",
     "output_type": "stream",
     "text": [
      "sample 0   label, 0.0\n"
     ]
    },
    {
     "data": {
      "image/png": "[encoded data removed]",
      "text/plain": [
       "<Figure size 432x288 with 2 Axes>"
      ]
     },
     "metadata": {
      "needs_background": "light"
     },
     "output_type": "display_data"
    },
    {
     "name": "stdout",
     "output_type": "stream",
     "text": [
      "sample 1   label, 0.0\n"
     ]
    },
    {
     "data": {
      "image/png": "[encoded data removed]",
      "text/plain": [
       "<Figure size 432x288 with 2 Axes>"
      ]
     },
     "metadata": {
      "needs_background": "light"
     },
     "output_type": "display_data"
    },
    {
     "name": "stdout",
     "output_type": "stream",
     "text": [
      "sample 2   label, 0.0\n"
     ]
    },
    {
     "data": {
      "image/png": "[encoded data removed]",
      "text/plain": [
       "<Figure size 432x288 with 2 Axes>"
      ]
     },
     "metadata": {
      "needs_background": "light"
     },
     "output_type": "display_data"
    },
    {
     "name": "stdout",
     "output_type": "stream",
     "text": [
      "sample 3   label, 0.0\n"
     ]
    },
    {
     "data": {
      "image/png": "[encoded data removed]",
      "text/plain": [
       "<Figure size 432x288 with 2 Axes>"
      ]
     },
     "metadata": {
      "needs_background": "light"
     },
     "output_type": "display_data"
    },
    {
     "name": "stdout",
     "output_type": "stream",
     "text": [
      "sample 4   label, 0.0\n"
     ]
    },
    {
     "data": {
      "image/png": "[encoded data removed]",
      "text/plain": [
       "<Figure size 432x288 with 2 Axes>"
      ]
     },
     "metadata": {
      "needs_background": "light"
     },
     "output_type": "display_data"
    },
    {
     "name": "stdout",
     "output_type": "stream",
     "text": [
      "sample 5   label, 1.0\n"
     ]
    },
    {
     "data": {
      "image/png": "[encoded data removed]",
      "text/plain": [
       "<Figure size 432x288 with 2 Axes>"
      ]
     },
     "metadata": {
      "needs_background": "light"
     },
     "output_type": "display_data"
    },
    {
     "name": "stdout",
     "output_type": "stream",
     "text": [
      "sample 6   label, 0.0\n"
     ]
    },
    {
     "data": {
      "image/png": "[encoded data removed]",
      "text/plain": [
       "<Figure size 432x288 with 2 Axes>"
      ]
     },
     "metadata": {
      "needs_background": "light"
     },
     "output_type": "display_data"
    },
    {
     "name": "stdout",
     "output_type": "stream",
     "text": [
      "sample 7   label, 0.0\n"
     ]
    },
    {
     "data": {
      "image/png": "[encoded data removed]",
      "text/plain": [
       "<Figure size 432x288 with 2 Axes>"
      ]
     },
     "metadata": {
      "needs_background": "light"
     },
     "output_type": "display_data"
    },
    {
     "name": "stdout",
     "output_type": "stream",
     "text": [
      "sample 8   label, 0.0\n"
     ]
    },
    {
     "data": {
      "image/png": "[encoded data removed]",
      "text/plain": [
       "<Figure size 432x288 with 2 Axes>"
      ]
     },
     "metadata": {
      "needs_background": "light"
     },
     "output_type": "display_data"
    },
    {
     "name": "stdout",
     "output_type": "stream",
     "text": [
      "sample 9   label, 0.0\n"
     ]
    },
    {
     "data": {
      "image/png": "[encoded data removed]",
      "text/plain": [
       "<Figure size 432x288 with 2 Axes>"
      ]
     },
     "metadata": {
      "needs_background": "light"
     },
     "output_type": "display_data"
    }
   ],
   "source": [
    "for i in range(10):\n",
    "    print(\"sample\", i, \"  label,\", dm.Y_train[i,0])\n",
    "    show_heat_map(test_pred[i,:,:])"
   ]
  },
  {
   "cell_type": "markdown",
   "metadata": {},
   "source": [
    "$\\;\\;\\;\\;\\;\\;\\;\\;\\;\\;\\;\\;\\;\\;$"
   ]
  },
  {
   "cell_type": "markdown",
   "metadata": {},
   "source": [
    "## 3.1 Supervised Multi-Layer Perceptron (MLP)"
   ]
  },
  {
   "cell_type": "markdown",
   "metadata": {},
   "source": [
    "[short description here]"
   ]
  },
  {
   "cell_type": "markdown",
   "metadata": {},
   "source": [
    "##### 3.1.1 Get simularity matrix from GCN and GNODE models"
   ]
  },
  {
   "cell_type": "code",
   "execution_count": 103,
   "metadata": {},
   "outputs": [],
   "source": [
    "sim_all = {}\n",
    "A = create_DAD(Araw)\n",
    "X_train = dm.X_train\n",
    "X_test = dm.X_test\n",
    "device_name = 'cpu'"
   ]
  },
  {
   "cell_type": "code",
   "execution_count": 104,
   "metadata": {},
   "outputs": [],
   "source": [
    "#Get simularity matrix from GCN\n",
    "GCNmodel.eval()\n",
    "sim_all[\"GCN_train\"] = GCNmodel(torch.from_numpy(X_train).float().to(device_name), torch.from_numpy(A).float().to(device_name)).cpu().detach().numpy()\n",
    "sim_all[\"GCN_test\"] = GCNmodel(torch.from_numpy(X_test).float().to(device_name), torch.from_numpy(A).float().to(device_name)).cpu().detach().numpy()"
   ]
  },
  {
   "cell_type": "code",
   "execution_count": 105,
   "metadata": {},
   "outputs": [],
   "source": [
    "#Get simularity matrix from GNODE\n",
    "GDEmodel.eval()\n",
    "sim_all[\"GDE_train\"] = GDEmodel(torch.from_numpy(X_train).float().to(device_name)).cpu().detach().numpy()\n",
    "sim_all[\"GDE_test\"] = GDEmodel(torch.from_numpy(X_test).float().to(device_name)).cpu().detach().numpy()"
   ]
  },
  {
   "cell_type": "markdown",
   "metadata": {},
   "source": [
    "##### 3.1.2 Visualize the averaged ictal and non-ictal states for the two models"
   ]
  },
  {
   "cell_type": "code",
   "execution_count": 106,
   "metadata": {},
   "outputs": [
    {
     "name": "stdout",
     "output_type": "stream",
     "text": [
      "Average Ictal and Non-Ictal Simularity Matrix for GCN\n",
      "Average ictal\n"
     ]
    },
    {
     "data": {
      "image/png": "[encoded data removed]",
      "text/plain": [
       "<Figure size 432x288 with 2 Axes>"
      ]
     },
     "metadata": {
      "needs_background": "light"
     },
     "output_type": "display_data"
    },
    {
     "name": "stdout",
     "output_type": "stream",
     "text": [
      "Average Non-Ictal\n"
     ]
    },
    {
     "data": {
      "image/png": "[encoded data removed]",
      "text/plain": [
       "<Figure size 432x288 with 2 Axes>"
      ]
     },
     "metadata": {
      "needs_background": "light"
     },
     "output_type": "display_data"
    }
   ],
   "source": [
    "print(\"Average Ictal and Non-Ictal Simularity Matrix for GCN\")\n",
    "visualize_avg_sim_matrix(dm, sim_all[\"GCN_train\"], sim_all[\"GCN_test\"])"
   ]
  },
  {
   "cell_type": "code",
   "execution_count": 107,
   "metadata": {},
   "outputs": [
    {
     "name": "stdout",
     "output_type": "stream",
     "text": [
      "Average Ictal and Non-Ictal Simularity Matrix for GDE\n",
      "Average ictal\n"
     ]
    },
    {
     "data": {
      "image/png": "[encoded data removed]",
      "text/plain": [
       "<Figure size 432x288 with 2 Axes>"
      ]
     },
     "metadata": {
      "needs_background": "light"
     },
     "output_type": "display_data"
    },
    {
     "name": "stdout",
     "output_type": "stream",
     "text": [
      "Average Non-Ictal\n"
     ]
    },
    {
     "data": {
      "image/png": "[encoded data removed]",
      "text/plain": [
       "<Figure size 432x288 with 2 Axes>"
      ]
     },
     "metadata": {
      "needs_background": "light"
     },
     "output_type": "display_data"
    }
   ],
   "source": [
    "print(\"Average Ictal and Non-Ictal Simularity Matrix for GDE\")\n",
    "visualize_avg_sim_matrix(dm, sim_all[\"GDE_train\"], sim_all[\"GDE_test\"])"
   ]
  },
  {
   "cell_type": "markdown",
   "metadata": {},
   "source": [
    "##### 3.1.3 MLP for GCN  "
   ]
  },
  {
   "cell_type": "markdown",
   "metadata": {},
   "source": [
    "###### Training"
   ]
  },
  {
   "cell_type": "code",
   "execution_count": 108,
   "metadata": {},
   "outputs": [
    {
     "name": "stdout",
     "output_type": "stream",
     "text": [
      "MLP(\n",
      "  (layers): ModuleList(\n",
      "    (0): Linear(in_features=276, out_features=276, bias=True)\n",
      "    (1): ReLU()\n",
      "    (2): Linear(in_features=276, out_features=1, bias=True)\n",
      "    (3): Sigmoid()\n",
      "  )\n",
      ")\n",
      "----------------------------------------------------------------\n",
      "        Layer (type)               Output Shape         Param #\n",
      "================================================================\n",
      "            Linear-1                  [-1, 276]          76,452\n",
      "              ReLU-2                  [-1, 276]               0\n",
      "            Linear-3                    [-1, 1]             277\n",
      "           Sigmoid-4                    [-1, 1]               0\n",
      "================================================================\n",
      "Total params: 76,729\n",
      "Trainable params: 76,729\n",
      "Non-trainable params: 0\n",
      "----------------------------------------------------------------\n",
      "Input size (MB): 0.00\n",
      "Forward/backward pass size (MB): 0.00\n",
      "Params size (MB): 0.29\n",
      "Estimated Total Size (MB): 0.30\n",
      "----------------------------------------------------------------\n",
      "Epoch: 1   Train loss: 0.4324   Train accuracy: 0.047   Val loss: 0.352   Val accuracy: 0.227    weighted Val loss: 0.352\n",
      "0.227 ----------saved-----------\n",
      "Epoch: 2   Train loss: 0.3016   Train accuracy: 0.0   Val loss: 0.2999   Val accuracy: 0.318    weighted Val loss: 0.3518\n",
      "0.318 ----------saved-----------\n",
      "Epoch: 3   Train loss: 0.2671   Train accuracy: 0.0   Val loss: 0.2825   Val accuracy: 0.373    weighted Val loss: 0.3514\n",
      "0.373 ----------saved-----------\n",
      "Epoch: 4   Train loss: 0.2494   Train accuracy: 0.0   Val loss: 0.275   Val accuracy: 0.393    weighted Val loss: 0.351\n",
      "0.393 ----------saved-----------\n",
      "Epoch: 5   Train loss: 0.2353   Train accuracy: 0.076   Val loss: 0.2644   Val accuracy: 0.436    weighted Val loss: 0.3506\n",
      "0.436 ----------saved-----------\n",
      "Epoch: 6   Train loss: 0.2219   Train accuracy: 0.134   Val loss: 0.2535   Val accuracy: 0.469    weighted Val loss: 0.3501\n",
      "0.469 ----------saved-----------\n",
      "Epoch: 7   Train loss: 0.2105   Train accuracy: 0.267   Val loss: 0.2502   Val accuracy: 0.484    weighted Val loss: 0.3496\n",
      "0.484 ----------saved-----------\n",
      "Epoch: 8   Train loss: 0.2008   Train accuracy: 0.319   Val loss: 0.2417   Val accuracy: 0.508    weighted Val loss: 0.3491\n",
      "0.508 ----------saved-----------\n",
      "Epoch: 9   Train loss: 0.192   Train accuracy: 0.417   Val loss: 0.2365   Val accuracy: 0.529    weighted Val loss: 0.3485\n",
      "0.529 ----------saved-----------\n",
      "Epoch: 10   Train loss: 0.1838   Train accuracy: 0.463   Val loss: 0.2312   Val accuracy: 0.544    weighted Val loss: 0.3479\n",
      "0.544 ----------saved-----------\n",
      "Epoch: 11   Train loss: 0.175   Train accuracy: 0.525   Val loss: 0.2267   Val accuracy: 0.548    weighted Val loss: 0.3473\n",
      "0.548 ----------saved-----------\n",
      "Epoch: 12   Train loss: 0.169   Train accuracy: 0.541   Val loss: 0.2263   Val accuracy: 0.553    weighted Val loss: 0.3467\n",
      "0.553 ----------saved-----------\n",
      "Epoch: 13   Train loss: 0.1612   Train accuracy: 0.569   Val loss: 0.2178   Val accuracy: 0.587    weighted Val loss: 0.3461\n",
      "0.587 ----------saved-----------\n",
      "Epoch: 14   Train loss: 0.1567   Train accuracy: 0.591   Val loss: 0.2213   Val accuracy: 0.582    weighted Val loss: 0.3454\n",
      "Epoch: 15   Train loss: 0.1565   Train accuracy: 0.656   Val loss: 0.2246   Val accuracy: 0.573    weighted Val loss: 0.3448\n",
      "Epoch: 16   Train loss: 0.1498   Train accuracy: 0.645   Val loss: 0.2127   Val accuracy: 0.588    weighted Val loss: 0.3442\n",
      "0.588 ----------saved-----------\n",
      "Epoch: 17   Train loss: 0.145   Train accuracy: 0.644   Val loss: 0.2144   Val accuracy: 0.584    weighted Val loss: 0.3435\n",
      "Epoch: 18   Train loss: 0.1416   Train accuracy: 0.68   Val loss: 0.2146   Val accuracy: 0.583    weighted Val loss: 0.3429\n",
      "Epoch: 19   Train loss: 0.1337   Train accuracy: 0.692   Val loss: 0.2165   Val accuracy: 0.58    weighted Val loss: 0.3422\n",
      "Epoch: 20   Train loss: 0.1294   Train accuracy: 0.686   Val loss: 0.2127   Val accuracy: 0.591    weighted Val loss: 0.3416\n",
      "0.591 ----------saved-----------\n",
      "Epoch: 21   Train loss: 0.1296   Train accuracy: 0.713   Val loss: 0.2074   Val accuracy: 0.612    weighted Val loss: 0.3409\n",
      "0.612 ----------saved-----------\n",
      "Epoch: 22   Train loss: 0.1235   Train accuracy: 0.752   Val loss: 0.2069   Val accuracy: 0.609    weighted Val loss: 0.3403\n",
      "Epoch: 23   Train loss: 0.1196   Train accuracy: 0.752   Val loss: 0.2066   Val accuracy: 0.6    weighted Val loss: 0.3396\n",
      "Epoch: 24   Train loss: 0.1199   Train accuracy: 0.754   Val loss: 0.202   Val accuracy: 0.619    weighted Val loss: 0.3389\n",
      "0.619 ----------saved-----------\n",
      "Epoch: 25   Train loss: 0.1177   Train accuracy: 0.754   Val loss: 0.2071   Val accuracy: 0.603    weighted Val loss: 0.3382\n",
      "Epoch: 26   Train loss: 0.113   Train accuracy: 0.793   Val loss: 0.2007   Val accuracy: 0.631    weighted Val loss: 0.3376\n",
      "0.631 ----------saved-----------\n",
      "Epoch: 27   Train loss: 0.1098   Train accuracy: 0.796   Val loss: 0.207   Val accuracy: 0.613    weighted Val loss: 0.3369\n",
      "Epoch: 28   Train loss: 0.1084   Train accuracy: 0.802   Val loss: 0.2061   Val accuracy: 0.623    weighted Val loss: 0.3362\n",
      "Epoch: 29   Train loss: 0.108   Train accuracy: 0.778   Val loss: 0.1987   Val accuracy: 0.628    weighted Val loss: 0.3356\n",
      "Epoch: 30   Train loss: 0.1086   Train accuracy: 0.793   Val loss: 0.2127   Val accuracy: 0.612    weighted Val loss: 0.3349\n",
      "Epoch: 31   Train loss: 0.1029   Train accuracy: 0.815   Val loss: 0.205   Val accuracy: 0.621    weighted Val loss: 0.3343\n",
      "Epoch: 32   Train loss: 0.1003   Train accuracy: 0.814   Val loss: 0.2047   Val accuracy: 0.615    weighted Val loss: 0.3336\n",
      "Epoch: 33   Train loss: 0.1009   Train accuracy: 0.822   Val loss: 0.2042   Val accuracy: 0.615    weighted Val loss: 0.333\n",
      "Epoch: 34   Train loss: 0.0944   Train accuracy: 0.832   Val loss: 0.2046   Val accuracy: 0.63    weighted Val loss: 0.3324\n",
      "Epoch: 35   Train loss: 0.1035   Train accuracy: 0.797   Val loss: 0.1992   Val accuracy: 0.629    weighted Val loss: 0.3317\n",
      "Epoch: 36   Train loss: 0.0968   Train accuracy: 0.782   Val loss: 0.2016   Val accuracy: 0.615    weighted Val loss: 0.331\n",
      "Epoch: 37   Train loss: 0.0909   Train accuracy: 0.863   Val loss: 0.2013   Val accuracy: 0.632    weighted Val loss: 0.3304\n",
      "0.632 ----------saved-----------\n",
      "Epoch: 38   Train loss: 0.0901   Train accuracy: 0.845   Val loss: 0.2011   Val accuracy: 0.632    weighted Val loss: 0.3297\n",
      "Epoch: 39   Train loss: 0.092   Train accuracy: 0.841   Val loss: 0.2071   Val accuracy: 0.616    weighted Val loss: 0.3291\n",
      "Epoch: 40   Train loss: 0.0883   Train accuracy: 0.872   Val loss: 0.2089   Val accuracy: 0.604    weighted Val loss: 0.3285\n",
      "Epoch: 41   Train loss: 0.0872   Train accuracy: 0.855   Val loss: 0.2012   Val accuracy: 0.633    weighted Val loss: 0.3279\n",
      "0.633 ----------saved-----------\n",
      "Epoch: 42   Train loss: 0.0873   Train accuracy: 0.831   Val loss: 0.2108   Val accuracy: 0.609    weighted Val loss: 0.3273\n",
      "Epoch: 43   Train loss: 0.0877   Train accuracy: 0.857   Val loss: 0.2022   Val accuracy: 0.638    weighted Val loss: 0.3267\n",
      "0.638 ----------saved-----------\n",
      "Epoch: 44   Train loss: 0.0845   Train accuracy: 0.856   Val loss: 0.2021   Val accuracy: 0.621    weighted Val loss: 0.3261\n",
      "Epoch: 45   Train loss: 0.0858   Train accuracy: 0.85   Val loss: 0.2025   Val accuracy: 0.627    weighted Val loss: 0.3254\n",
      "Epoch: 46   Train loss: 0.0825   Train accuracy: 0.861   Val loss: 0.2002   Val accuracy: 0.636    weighted Val loss: 0.3248\n",
      "Epoch: 47   Train loss: 0.0808   Train accuracy: 0.864   Val loss: 0.1991   Val accuracy: 0.648    weighted Val loss: 0.3242\n",
      "0.648 ----------saved-----------\n",
      "Epoch: 48   Train loss: 0.0809   Train accuracy: 0.883   Val loss: 0.203   Val accuracy: 0.615    weighted Val loss: 0.3236\n",
      "Epoch: 49   Train loss: 0.0795   Train accuracy: 0.877   Val loss: 0.2041   Val accuracy: 0.633    weighted Val loss: 0.323\n",
      "Epoch: 50   Train loss: 0.0776   Train accuracy: 0.875   Val loss: 0.2007   Val accuracy: 0.634    weighted Val loss: 0.3224\n",
      "Epoch: 51   Train loss: 0.0772   Train accuracy: 0.868   Val loss: 0.2117   Val accuracy: 0.622    weighted Val loss: 0.3218\n",
      "Epoch: 52   Train loss: 0.0747   Train accuracy: 0.901   Val loss: 0.2009   Val accuracy: 0.638    weighted Val loss: 0.3212\n",
      "Epoch: 53   Train loss: 0.0736   Train accuracy: 0.867   Val loss: 0.2116   Val accuracy: 0.632    weighted Val loss: 0.3207\n",
      "Epoch: 54   Train loss: 0.0791   Train accuracy: 0.872   Val loss: 0.2202   Val accuracy: 0.606    weighted Val loss: 0.3202\n",
      "Epoch: 55   Train loss: 0.0803   Train accuracy: 0.863   Val loss: 0.1971   Val accuracy: 0.642    weighted Val loss: 0.3196\n",
      "Epoch: 56   Train loss: 0.0721   Train accuracy: 0.909   Val loss: 0.2073   Val accuracy: 0.618    weighted Val loss: 0.319\n",
      "Epoch: 57   Train loss: 0.0714   Train accuracy: 0.887   Val loss: 0.2097   Val accuracy: 0.623    weighted Val loss: 0.3184\n",
      "Epoch: 58   Train loss: 0.0712   Train accuracy: 0.892   Val loss: 0.2014   Val accuracy: 0.637    weighted Val loss: 0.3179\n",
      "Epoch: 59   Train loss: 0.0705   Train accuracy: 0.9   Val loss: 0.1996   Val accuracy: 0.635    weighted Val loss: 0.3173\n",
      "Epoch: 60   Train loss: 0.0709   Train accuracy: 0.89   Val loss: 0.2052   Val accuracy: 0.643    weighted Val loss: 0.3167\n",
      "Epoch: 61   Train loss: 0.0708   Train accuracy: 0.906   Val loss: 0.1999   Val accuracy: 0.642    weighted Val loss: 0.3161\n",
      "Epoch: 62   Train loss: 0.0687   Train accuracy: 0.893   Val loss: 0.2045   Val accuracy: 0.633    weighted Val loss: 0.3156\n",
      "Epoch: 63   Train loss: 0.066   Train accuracy: 0.925   Val loss: 0.2026   Val accuracy: 0.648    weighted Val loss: 0.315\n",
      "Epoch: 64   Train loss: 0.066   Train accuracy: 0.892   Val loss: 0.2026   Val accuracy: 0.639    weighted Val loss: 0.3144\n",
      "Epoch: 65   Train loss: 0.0664   Train accuracy: 0.905   Val loss: 0.2143   Val accuracy: 0.614    weighted Val loss: 0.3139\n",
      "Epoch: 66   Train loss: 0.066   Train accuracy: 0.898   Val loss: 0.2156   Val accuracy: 0.62    weighted Val loss: 0.3134\n",
      "Epoch: 67   Train loss: 0.0712   Train accuracy: 0.897   Val loss: 0.2094   Val accuracy: 0.626    weighted Val loss: 0.3129\n",
      "Epoch: 68   Train loss: 0.0637   Train accuracy: 0.919   Val loss: 0.2117   Val accuracy: 0.621    weighted Val loss: 0.3124\n",
      "Epoch: 69   Train loss: 0.0632   Train accuracy: 0.918   Val loss: 0.2103   Val accuracy: 0.623    weighted Val loss: 0.3119\n",
      "Epoch: 70   Train loss: 0.072   Train accuracy: 0.874   Val loss: 0.2402   Val accuracy: 0.592    weighted Val loss: 0.3116\n",
      "Epoch: 71   Train loss: 0.0709   Train accuracy: 0.906   Val loss: 0.2068   Val accuracy: 0.642    weighted Val loss: 0.311\n",
      "Epoch: 72   Train loss: 0.0634   Train accuracy: 0.912   Val loss: 0.2052   Val accuracy: 0.639    weighted Val loss: 0.3105\n",
      "Epoch: 73   Train loss: 0.0645   Train accuracy: 0.894   Val loss: 0.2259   Val accuracy: 0.617    weighted Val loss: 0.3101\n",
      "Epoch: 74   Train loss: 0.0682   Train accuracy: 0.889   Val loss: 0.207   Val accuracy: 0.63    weighted Val loss: 0.3096\n",
      "Epoch: 75   Train loss: 0.0679   Train accuracy: 0.891   Val loss: 0.2191   Val accuracy: 0.608    weighted Val loss: 0.3091\n",
      "Epoch: 76   Train loss: 0.0772   Train accuracy: 0.857   Val loss: 0.2286   Val accuracy: 0.615    weighted Val loss: 0.3087\n",
      "Epoch: 77   Train loss: 0.0663   Train accuracy: 0.901   Val loss: 0.204   Val accuracy: 0.636    weighted Val loss: 0.3082\n",
      "Epoch: 78   Train loss: 0.0589   Train accuracy: 0.927   Val loss: 0.2056   Val accuracy: 0.64    weighted Val loss: 0.3077\n",
      "Epoch: 79   Train loss: 0.0592   Train accuracy: 0.934   Val loss: 0.2179   Val accuracy: 0.625    weighted Val loss: 0.3072\n",
      "Epoch: 80   Train loss: 0.0586   Train accuracy: 0.935   Val loss: 0.2086   Val accuracy: 0.644    weighted Val loss: 0.3067\n",
      "Epoch: 81   Train loss: 0.0588   Train accuracy: 0.926   Val loss: 0.207   Val accuracy: 0.65    weighted Val loss: 0.3062\n",
      "0.65 ----------saved-----------\n",
      "Epoch: 82   Train loss: 0.0603   Train accuracy: 0.909   Val loss: 0.2113   Val accuracy: 0.627    weighted Val loss: 0.3058\n",
      "Epoch: 83   Train loss: 0.0668   Train accuracy: 0.905   Val loss: 0.208   Val accuracy: 0.637    weighted Val loss: 0.3053\n",
      "Epoch: 84   Train loss: 0.0657   Train accuracy: 0.917   Val loss: 0.2365   Val accuracy: 0.606    weighted Val loss: 0.3049\n",
      "Epoch: 85   Train loss: 0.0694   Train accuracy: 0.888   Val loss: 0.2168   Val accuracy: 0.631    weighted Val loss: 0.3045\n",
      "Epoch: 86   Train loss: 0.0656   Train accuracy: 0.902   Val loss: 0.2365   Val accuracy: 0.607    weighted Val loss: 0.3041\n",
      "Epoch: 87   Train loss: 0.0641   Train accuracy: 0.899   Val loss: 0.2037   Val accuracy: 0.629    weighted Val loss: 0.3036\n",
      "Epoch: 88   Train loss: 0.0611   Train accuracy: 0.923   Val loss: 0.2099   Val accuracy: 0.629    weighted Val loss: 0.3032\n",
      "Epoch: 89   Train loss: 0.0546   Train accuracy: 0.939   Val loss: 0.2051   Val accuracy: 0.637    weighted Val loss: 0.3027\n",
      "Epoch: 90   Train loss: 0.0536   Train accuracy: 0.942   Val loss: 0.2062   Val accuracy: 0.641    weighted Val loss: 0.3022\n",
      "Epoch: 91   Train loss: 0.0528   Train accuracy: 0.933   Val loss: 0.2059   Val accuracy: 0.639    weighted Val loss: 0.3017\n",
      "Epoch: 92   Train loss: 0.0554   Train accuracy: 0.934   Val loss: 0.2063   Val accuracy: 0.651    weighted Val loss: 0.3012\n",
      "0.651 ----------saved-----------\n",
      "Epoch: 93   Train loss: 0.0538   Train accuracy: 0.942   Val loss: 0.2093   Val accuracy: 0.638    weighted Val loss: 0.3008\n",
      "Epoch: 94   Train loss: 0.0557   Train accuracy: 0.944   Val loss: 0.2008   Val accuracy: 0.642    weighted Val loss: 0.3003\n",
      "Epoch: 95   Train loss: 0.0546   Train accuracy: 0.934   Val loss: 0.2154   Val accuracy: 0.625    weighted Val loss: 0.2999\n",
      "Epoch: 96   Train loss: 0.055   Train accuracy: 0.94   Val loss: 0.2031   Val accuracy: 0.641    weighted Val loss: 0.2994\n",
      "Epoch: 97   Train loss: 0.0522   Train accuracy: 0.938   Val loss: 0.206   Val accuracy: 0.643    weighted Val loss: 0.2989\n",
      "Epoch: 98   Train loss: 0.0563   Train accuracy: 0.925   Val loss: 0.213   Val accuracy: 0.639    weighted Val loss: 0.2985\n",
      "Epoch: 99   Train loss: 0.0558   Train accuracy: 0.918   Val loss: 0.2109   Val accuracy: 0.631    weighted Val loss: 0.298\n",
      "Epoch: 100   Train loss: 0.0532   Train accuracy: 0.947   Val loss: 0.203   Val accuracy: 0.656    weighted Val loss: 0.2976\n",
      "0.656 ----------saved-----------\n",
      "Epoch: 101   Train loss: 0.0548   Train accuracy: 0.922   Val loss: 0.211   Val accuracy: 0.63    weighted Val loss: 0.2971\n",
      "Epoch: 102   Train loss: 0.0549   Train accuracy: 0.935   Val loss: 0.2137   Val accuracy: 0.641    weighted Val loss: 0.2967\n",
      "Epoch: 103   Train loss: 0.0579   Train accuracy: 0.917   Val loss: 0.2086   Val accuracy: 0.643    weighted Val loss: 0.2963\n",
      "Epoch: 104   Train loss: 0.0641   Train accuracy: 0.892   Val loss: 0.2133   Val accuracy: 0.637    weighted Val loss: 0.2959\n",
      "Epoch: 105   Train loss: 0.0569   Train accuracy: 0.914   Val loss: 0.2042   Val accuracy: 0.646    weighted Val loss: 0.2954\n",
      "Epoch: 106   Train loss: 0.0554   Train accuracy: 0.916   Val loss: 0.2049   Val accuracy: 0.649    weighted Val loss: 0.2949\n",
      "Epoch: 107   Train loss: 0.0537   Train accuracy: 0.917   Val loss: 0.2072   Val accuracy: 0.644    weighted Val loss: 0.2945\n",
      "Epoch: 108   Train loss: 0.0521   Train accuracy: 0.936   Val loss: 0.202   Val accuracy: 0.641    weighted Val loss: 0.294\n",
      "Epoch: 109   Train loss: 0.0499   Train accuracy: 0.946   Val loss: 0.2046   Val accuracy: 0.635    weighted Val loss: 0.2936\n",
      "Epoch: 110   Train loss: 0.0521   Train accuracy: 0.943   Val loss: 0.2077   Val accuracy: 0.637    weighted Val loss: 0.2932\n",
      "Epoch: 111   Train loss: 0.0527   Train accuracy: 0.943   Val loss: 0.2076   Val accuracy: 0.638    weighted Val loss: 0.2927\n",
      "Epoch: 112   Train loss: 0.0523   Train accuracy: 0.933   Val loss: 0.2037   Val accuracy: 0.658    weighted Val loss: 0.2923\n",
      "0.658 ----------saved-----------\n",
      "Epoch: 113   Train loss: 0.0506   Train accuracy: 0.95   Val loss: 0.2043   Val accuracy: 0.646    weighted Val loss: 0.2919\n",
      "Epoch: 114   Train loss: 0.0478   Train accuracy: 0.947   Val loss: 0.2079   Val accuracy: 0.645    weighted Val loss: 0.2914\n",
      "Epoch: 115   Train loss: 0.05   Train accuracy: 0.947   Val loss: 0.2031   Val accuracy: 0.65    weighted Val loss: 0.291\n",
      "Epoch: 116   Train loss: 0.0506   Train accuracy: 0.936   Val loss: 0.2086   Val accuracy: 0.651    weighted Val loss: 0.2906\n",
      "Epoch: 117   Train loss: 0.0502   Train accuracy: 0.952   Val loss: 0.2043   Val accuracy: 0.649    weighted Val loss: 0.2901\n",
      "Epoch: 118   Train loss: 0.0543   Train accuracy: 0.936   Val loss: 0.2077   Val accuracy: 0.654    weighted Val loss: 0.2897\n",
      "Epoch: 119   Train loss: 0.0534   Train accuracy: 0.925   Val loss: 0.2036   Val accuracy: 0.65    weighted Val loss: 0.2893\n",
      "Epoch: 120   Train loss: 0.0496   Train accuracy: 0.941   Val loss: 0.2077   Val accuracy: 0.642    weighted Val loss: 0.2889\n",
      "Epoch: 121   Train loss: 0.0499   Train accuracy: 0.945   Val loss: 0.2099   Val accuracy: 0.638    weighted Val loss: 0.2885\n",
      "Epoch: 122   Train loss: 0.0484   Train accuracy: 0.953   Val loss: 0.2073   Val accuracy: 0.637    weighted Val loss: 0.2881\n",
      "Epoch: 123   Train loss: 0.0488   Train accuracy: 0.949   Val loss: 0.2092   Val accuracy: 0.649    weighted Val loss: 0.2877\n",
      "Epoch: 124   Train loss: 0.0512   Train accuracy: 0.93   Val loss: 0.2063   Val accuracy: 0.65    weighted Val loss: 0.2873\n",
      "Epoch: 125   Train loss: 0.0547   Train accuracy: 0.925   Val loss: 0.2476   Val accuracy: 0.606    weighted Val loss: 0.2871\n",
      "Epoch: 126   Train loss: 0.0601   Train accuracy: 0.907   Val loss: 0.219   Val accuracy: 0.621    weighted Val loss: 0.2868\n",
      "Epoch: 127   Train loss: 0.0543   Train accuracy: 0.925   Val loss: 0.2023   Val accuracy: 0.651    weighted Val loss: 0.2863\n",
      "Epoch: 128   Train loss: 0.0517   Train accuracy: 0.921   Val loss: 0.2049   Val accuracy: 0.65    weighted Val loss: 0.2859\n",
      "Epoch: 129   Train loss: 0.0505   Train accuracy: 0.947   Val loss: 0.2038   Val accuracy: 0.642    weighted Val loss: 0.2855\n",
      "Epoch: 130   Train loss: 0.0483   Train accuracy: 0.925   Val loss: 0.2016   Val accuracy: 0.654    weighted Val loss: 0.2851\n",
      "Epoch: 131   Train loss: 0.0481   Train accuracy: 0.951   Val loss: 0.2127   Val accuracy: 0.63    weighted Val loss: 0.2847\n",
      "Epoch: 132   Train loss: 0.0484   Train accuracy: 0.953   Val loss: 0.2017   Val accuracy: 0.652    weighted Val loss: 0.2843\n",
      "Epoch: 133   Train loss: 0.0482   Train accuracy: 0.945   Val loss: 0.1999   Val accuracy: 0.658    weighted Val loss: 0.2839\n",
      "0.658 ----------saved-----------\n",
      "Epoch: 134   Train loss: 0.0473   Train accuracy: 0.954   Val loss: 0.2032   Val accuracy: 0.651    weighted Val loss: 0.2835\n",
      "Epoch: 135   Train loss: 0.0465   Train accuracy: 0.954   Val loss: 0.213   Val accuracy: 0.641    weighted Val loss: 0.2831\n",
      "Epoch: 136   Train loss: 0.0468   Train accuracy: 0.954   Val loss: 0.2015   Val accuracy: 0.66    weighted Val loss: 0.2827\n",
      "0.66 ----------saved-----------\n",
      "Epoch: 137   Train loss: 0.0472   Train accuracy: 0.951   Val loss: 0.2044   Val accuracy: 0.651    weighted Val loss: 0.2823\n",
      "Epoch: 138   Train loss: 0.049   Train accuracy: 0.95   Val loss: 0.2182   Val accuracy: 0.639    weighted Val loss: 0.282\n",
      "Epoch: 139   Train loss: 0.051   Train accuracy: 0.931   Val loss: 0.2009   Val accuracy: 0.654    weighted Val loss: 0.2816\n",
      "Epoch: 140   Train loss: 0.0489   Train accuracy: 0.948   Val loss: 0.2048   Val accuracy: 0.654    weighted Val loss: 0.2812\n",
      "Epoch: 141   Train loss: 0.0479   Train accuracy: 0.951   Val loss: 0.2153   Val accuracy: 0.652    weighted Val loss: 0.2809\n",
      "Epoch: 142   Train loss: 0.0499   Train accuracy: 0.932   Val loss: 0.2063   Val accuracy: 0.661    weighted Val loss: 0.2805\n",
      "0.661 ----------saved-----------\n",
      "Epoch: 143   Train loss: 0.0478   Train accuracy: 0.95   Val loss: 0.2155   Val accuracy: 0.638    weighted Val loss: 0.2802\n",
      "Epoch: 144   Train loss: 0.0457   Train accuracy: 0.962   Val loss: 0.2025   Val accuracy: 0.649    weighted Val loss: 0.2798\n",
      "Epoch: 145   Train loss: 0.047   Train accuracy: 0.956   Val loss: 0.2023   Val accuracy: 0.644    weighted Val loss: 0.2794\n",
      "Epoch: 146   Train loss: 0.0466   Train accuracy: 0.95   Val loss: 0.2156   Val accuracy: 0.629    weighted Val loss: 0.2791\n",
      "Epoch: 147   Train loss: 0.0502   Train accuracy: 0.928   Val loss: 0.2028   Val accuracy: 0.649    weighted Val loss: 0.2787\n",
      "Epoch: 148   Train loss: 0.0522   Train accuracy: 0.938   Val loss: 0.216   Val accuracy: 0.647    weighted Val loss: 0.2784\n",
      "Epoch: 149   Train loss: 0.0543   Train accuracy: 0.931   Val loss: 0.2042   Val accuracy: 0.658    weighted Val loss: 0.278\n",
      "Epoch: 150   Train loss: 0.0488   Train accuracy: 0.951   Val loss: 0.2064   Val accuracy: 0.64    weighted Val loss: 0.2777\n",
      "Epoch: 151   Train loss: 0.0462   Train accuracy: 0.956   Val loss: 0.2055   Val accuracy: 0.641    weighted Val loss: 0.2773\n",
      "Epoch: 152   Train loss: 0.0455   Train accuracy: 0.955   Val loss: 0.1993   Val accuracy: 0.65    weighted Val loss: 0.2769\n",
      "Epoch: 153   Train loss: 0.0445   Train accuracy: 0.957   Val loss: 0.2075   Val accuracy: 0.651    weighted Val loss: 0.2766\n",
      "Epoch: 154   Train loss: 0.0468   Train accuracy: 0.926   Val loss: 0.2021   Val accuracy: 0.663    weighted Val loss: 0.2762\n",
      "0.663 ----------saved-----------\n",
      "Epoch: 155   Train loss: 0.048   Train accuracy: 0.95   Val loss: 0.2136   Val accuracy: 0.634    weighted Val loss: 0.2759\n",
      "Epoch: 156   Train loss: 0.0493   Train accuracy: 0.924   Val loss: 0.2067   Val accuracy: 0.663    weighted Val loss: 0.2756\n",
      "Epoch: 157   Train loss: 0.0492   Train accuracy: 0.948   Val loss: 0.2363   Val accuracy: 0.611    weighted Val loss: 0.2754\n",
      "Epoch: 158   Train loss: 0.051   Train accuracy: 0.934   Val loss: 0.2022   Val accuracy: 0.653    weighted Val loss: 0.275\n",
      "Epoch: 159   Train loss: 0.0469   Train accuracy: 0.942   Val loss: 0.2089   Val accuracy: 0.647    weighted Val loss: 0.2747\n",
      "Epoch: 160   Train loss: 0.0462   Train accuracy: 0.956   Val loss: 0.203   Val accuracy: 0.654    weighted Val loss: 0.2743\n",
      "Epoch: 161   Train loss: 0.0453   Train accuracy: 0.948   Val loss: 0.2038   Val accuracy: 0.653    weighted Val loss: 0.274\n",
      "Epoch: 162   Train loss: 0.0452   Train accuracy: 0.956   Val loss: 0.209   Val accuracy: 0.657    weighted Val loss: 0.2736\n",
      "Epoch: 163   Train loss: 0.0471   Train accuracy: 0.953   Val loss: 0.1993   Val accuracy: 0.65    weighted Val loss: 0.2733\n",
      "Epoch: 164   Train loss: 0.0494   Train accuracy: 0.944   Val loss: 0.2141   Val accuracy: 0.634    weighted Val loss: 0.273\n",
      "Epoch: 165   Train loss: 0.0459   Train accuracy: 0.962   Val loss: 0.2022   Val accuracy: 0.655    weighted Val loss: 0.2726\n",
      "Epoch: 166   Train loss: 0.0481   Train accuracy: 0.947   Val loss: 0.2124   Val accuracy: 0.632    weighted Val loss: 0.2723\n",
      "Epoch: 167   Train loss: 0.0491   Train accuracy: 0.946   Val loss: 0.2   Val accuracy: 0.654    weighted Val loss: 0.2719\n",
      "Epoch: 168   Train loss: 0.0482   Train accuracy: 0.958   Val loss: 0.2038   Val accuracy: 0.644    weighted Val loss: 0.2716\n",
      "Epoch: 169   Train loss: 0.0443   Train accuracy: 0.962   Val loss: 0.2117   Val accuracy: 0.652    weighted Val loss: 0.2713\n",
      "Epoch: 170   Train loss: 0.0463   Train accuracy: 0.95   Val loss: 0.2134   Val accuracy: 0.644    weighted Val loss: 0.271\n",
      "Epoch: 171   Train loss: 0.0472   Train accuracy: 0.945   Val loss: 0.2097   Val accuracy: 0.66    weighted Val loss: 0.2707\n",
      "Epoch: 172   Train loss: 0.0506   Train accuracy: 0.95   Val loss: 0.2029   Val accuracy: 0.651    weighted Val loss: 0.2704\n",
      "Epoch: 173   Train loss: 0.0481   Train accuracy: 0.958   Val loss: 0.2087   Val accuracy: 0.644    weighted Val loss: 0.2701\n",
      "Epoch: 174   Train loss: 0.0457   Train accuracy: 0.944   Val loss: 0.2089   Val accuracy: 0.639    weighted Val loss: 0.2698\n",
      "Epoch: 175   Train loss: 0.0453   Train accuracy: 0.959   Val loss: 0.2037   Val accuracy: 0.645    weighted Val loss: 0.2694\n",
      "Epoch: 176   Train loss: 0.0474   Train accuracy: 0.953   Val loss: 0.2091   Val accuracy: 0.635    weighted Val loss: 0.2691\n",
      "Epoch: 177   Train loss: 0.0525   Train accuracy: 0.941   Val loss: 0.2247   Val accuracy: 0.624    weighted Val loss: 0.2689\n",
      "Epoch: 178   Train loss: 0.0505   Train accuracy: 0.944   Val loss: 0.2151   Val accuracy: 0.634    weighted Val loss: 0.2686\n",
      "Epoch: 179   Train loss: 0.0483   Train accuracy: 0.934   Val loss: 0.2092   Val accuracy: 0.648    weighted Val loss: 0.2683\n",
      "Epoch: 180   Train loss: 0.0468   Train accuracy: 0.953   Val loss: 0.2166   Val accuracy: 0.641    weighted Val loss: 0.2681\n",
      "Epoch: 181   Train loss: 0.0498   Train accuracy: 0.945   Val loss: 0.2032   Val accuracy: 0.656    weighted Val loss: 0.2678\n",
      "Epoch: 182   Train loss: 0.0445   Train accuracy: 0.965   Val loss: 0.2134   Val accuracy: 0.648    weighted Val loss: 0.2675\n",
      "Epoch: 183   Train loss: 0.0434   Train accuracy: 0.956   Val loss: 0.2108   Val accuracy: 0.647    weighted Val loss: 0.2672\n",
      "Epoch: 184   Train loss: 0.0439   Train accuracy: 0.959   Val loss: 0.2071   Val accuracy: 0.651    weighted Val loss: 0.2669\n",
      "Epoch: 185   Train loss: 0.044   Train accuracy: 0.96   Val loss: 0.2097   Val accuracy: 0.642    weighted Val loss: 0.2666\n",
      "Epoch: 186   Train loss: 0.0428   Train accuracy: 0.959   Val loss: 0.1981   Val accuracy: 0.651    weighted Val loss: 0.2663\n",
      "Epoch: 187   Train loss: 0.0453   Train accuracy: 0.947   Val loss: 0.1987   Val accuracy: 0.654    weighted Val loss: 0.2659\n",
      "Epoch: 188   Train loss: 0.0523   Train accuracy: 0.936   Val loss: 0.2031   Val accuracy: 0.65    weighted Val loss: 0.2656\n",
      "Epoch: 189   Train loss: 0.0469   Train accuracy: 0.954   Val loss: 0.2051   Val accuracy: 0.649    weighted Val loss: 0.2653\n",
      "Epoch: 190   Train loss: 0.0452   Train accuracy: 0.967   Val loss: 0.2011   Val accuracy: 0.65    weighted Val loss: 0.265\n",
      "Epoch: 191   Train loss: 0.0478   Train accuracy: 0.953   Val loss: 0.2109   Val accuracy: 0.641    weighted Val loss: 0.2647\n",
      "Epoch: 192   Train loss: 0.046   Train accuracy: 0.957   Val loss: 0.211   Val accuracy: 0.647    weighted Val loss: 0.2645\n",
      "Epoch: 193   Train loss: 0.0492   Train accuracy: 0.938   Val loss: 0.2009   Val accuracy: 0.661    weighted Val loss: 0.2641\n",
      "Epoch: 194   Train loss: 0.0489   Train accuracy: 0.939   Val loss: 0.2168   Val accuracy: 0.642    weighted Val loss: 0.2639\n",
      "Epoch: 195   Train loss: 0.0443   Train accuracy: 0.95   Val loss: 0.2014   Val accuracy: 0.665    weighted Val loss: 0.2636\n",
      "0.665 ----------saved-----------\n",
      "Epoch: 196   Train loss: 0.0449   Train accuracy: 0.962   Val loss: 0.2038   Val accuracy: 0.669    weighted Val loss: 0.2633\n",
      "0.669 ----------saved-----------\n",
      "Epoch: 197   Train loss: 0.0445   Train accuracy: 0.958   Val loss: 0.2114   Val accuracy: 0.649    weighted Val loss: 0.263\n",
      "Epoch: 198   Train loss: 0.0464   Train accuracy: 0.948   Val loss: 0.2067   Val accuracy: 0.64    weighted Val loss: 0.2627\n",
      "Epoch: 199   Train loss: 0.044   Train accuracy: 0.955   Val loss: 0.2047   Val accuracy: 0.637    weighted Val loss: 0.2625\n",
      "Epoch: 200   Train loss: 0.0478   Train accuracy: 0.949   Val loss: 0.2032   Val accuracy: 0.651    weighted Val loss: 0.2622\n",
      "Epoch: 201   Train loss: 0.0457   Train accuracy: 0.959   Val loss: 0.2055   Val accuracy: 0.655    weighted Val loss: 0.2619\n",
      "Epoch: 202   Train loss: 0.0452   Train accuracy: 0.951   Val loss: 0.2028   Val accuracy: 0.663    weighted Val loss: 0.2616\n",
      "Epoch: 203   Train loss: 0.0468   Train accuracy: 0.96   Val loss: 0.2159   Val accuracy: 0.641    weighted Val loss: 0.2614\n",
      "Epoch: 204   Train loss: 0.0457   Train accuracy: 0.952   Val loss: 0.2033   Val accuracy: 0.651    weighted Val loss: 0.2611\n",
      "Epoch: 205   Train loss: 0.0426   Train accuracy: 0.964   Val loss: 0.2122   Val accuracy: 0.648    weighted Val loss: 0.2608\n",
      "Epoch: 206   Train loss: 0.0463   Train accuracy: 0.941   Val loss: 0.2007   Val accuracy: 0.653    weighted Val loss: 0.2605\n",
      "Epoch: 207   Train loss: 0.0457   Train accuracy: 0.963   Val loss: 0.2024   Val accuracy: 0.646    weighted Val loss: 0.2602\n",
      "Epoch: 208   Train loss: 0.0468   Train accuracy: 0.942   Val loss: 0.2107   Val accuracy: 0.647    weighted Val loss: 0.26\n",
      "Epoch: 209   Train loss: 0.0463   Train accuracy: 0.951   Val loss: 0.1995   Val accuracy: 0.656    weighted Val loss: 0.2597\n",
      "Epoch: 210   Train loss: 0.0442   Train accuracy: 0.958   Val loss: 0.2051   Val accuracy: 0.648    weighted Val loss: 0.2594\n",
      "Epoch: 211   Train loss: 0.0433   Train accuracy: 0.959   Val loss: 0.198   Val accuracy: 0.657    weighted Val loss: 0.2591\n",
      "Epoch: 212   Train loss: 0.0451   Train accuracy: 0.965   Val loss: 0.2039   Val accuracy: 0.652    weighted Val loss: 0.2588\n",
      "Epoch: 213   Train loss: 0.0448   Train accuracy: 0.95   Val loss: 0.2035   Val accuracy: 0.652    weighted Val loss: 0.2585\n",
      "Epoch: 214   Train loss: 0.0431   Train accuracy: 0.967   Val loss: 0.2067   Val accuracy: 0.643    weighted Val loss: 0.2583\n",
      "Epoch: 215   Train loss: 0.0457   Train accuracy: 0.955   Val loss: 0.2057   Val accuracy: 0.635    weighted Val loss: 0.258\n",
      "Epoch: 216   Train loss: 0.0451   Train accuracy: 0.954   Val loss: 0.2103   Val accuracy: 0.634    weighted Val loss: 0.2578\n",
      "Epoch: 217   Train loss: 0.0491   Train accuracy: 0.947   Val loss: 0.2248   Val accuracy: 0.622    weighted Val loss: 0.2576\n",
      "Epoch: 218   Train loss: 0.0485   Train accuracy: 0.943   Val loss: 0.2021   Val accuracy: 0.658    weighted Val loss: 0.2573\n",
      "Epoch: 219   Train loss: 0.0456   Train accuracy: 0.948   Val loss: 0.2154   Val accuracy: 0.633    weighted Val loss: 0.2571\n",
      "Epoch: 220   Train loss: 0.0453   Train accuracy: 0.955   Val loss: 0.2139   Val accuracy: 0.636    weighted Val loss: 0.2569\n",
      "Epoch: 221   Train loss: 0.0447   Train accuracy: 0.952   Val loss: 0.2091   Val accuracy: 0.648    weighted Val loss: 0.2567\n",
      "Epoch: 222   Train loss: 0.0459   Train accuracy: 0.957   Val loss: 0.2015   Val accuracy: 0.648    weighted Val loss: 0.2564\n",
      "Epoch: 223   Train loss: 0.046   Train accuracy: 0.954   Val loss: 0.2097   Val accuracy: 0.639    weighted Val loss: 0.2562\n",
      "Epoch: 224   Train loss: 0.0439   Train accuracy: 0.955   Val loss: 0.2033   Val accuracy: 0.652    weighted Val loss: 0.2559\n",
      "Epoch: 225   Train loss: 0.043   Train accuracy: 0.96   Val loss: 0.2057   Val accuracy: 0.643    weighted Val loss: 0.2557\n",
      "Epoch: 226   Train loss: 0.0459   Train accuracy: 0.961   Val loss: 0.2014   Val accuracy: 0.659    weighted Val loss: 0.2554\n",
      "Epoch: 227   Train loss: 0.048   Train accuracy: 0.95   Val loss: 0.2152   Val accuracy: 0.642    weighted Val loss: 0.2552\n",
      "Epoch: 228   Train loss: 0.0452   Train accuracy: 0.957   Val loss: 0.2027   Val accuracy: 0.653    weighted Val loss: 0.2549\n",
      "Epoch: 229   Train loss: 0.0457   Train accuracy: 0.957   Val loss: 0.2163   Val accuracy: 0.642    weighted Val loss: 0.2547\n",
      "Epoch: 230   Train loss: 0.0456   Train accuracy: 0.96   Val loss: 0.2075   Val accuracy: 0.645    weighted Val loss: 0.2545\n",
      "Epoch: 231   Train loss: 0.0448   Train accuracy: 0.958   Val loss: 0.199   Val accuracy: 0.679    weighted Val loss: 0.2542\n",
      "0.679 ----------saved-----------\n",
      "Epoch: 232   Train loss: 0.044   Train accuracy: 0.954   Val loss: 0.2001   Val accuracy: 0.651    weighted Val loss: 0.2539\n",
      "Epoch: 233   Train loss: 0.044   Train accuracy: 0.959   Val loss: 0.2007   Val accuracy: 0.679    weighted Val loss: 0.2537\n",
      "Epoch: 234   Train loss: 0.0429   Train accuracy: 0.961   Val loss: 0.2132   Val accuracy: 0.644    weighted Val loss: 0.2535\n",
      "Epoch: 235   Train loss: 0.0438   Train accuracy: 0.963   Val loss: 0.2061   Val accuracy: 0.657    weighted Val loss: 0.2532\n",
      "Epoch: 236   Train loss: 0.0432   Train accuracy: 0.948   Val loss: 0.2061   Val accuracy: 0.654    weighted Val loss: 0.253\n",
      "Epoch: 237   Train loss: 0.0451   Train accuracy: 0.962   Val loss: 0.2044   Val accuracy: 0.653    weighted Val loss: 0.2528\n",
      "Epoch: 238   Train loss: 0.0431   Train accuracy: 0.954   Val loss: 0.2014   Val accuracy: 0.671    weighted Val loss: 0.2525\n",
      "Epoch: 239   Train loss: 0.045   Train accuracy: 0.953   Val loss: 0.2003   Val accuracy: 0.662    weighted Val loss: 0.2522\n",
      "Epoch: 240   Train loss: 0.0497   Train accuracy: 0.945   Val loss: 0.2015   Val accuracy: 0.652    weighted Val loss: 0.252\n",
      "Epoch: 241   Train loss: 0.0452   Train accuracy: 0.956   Val loss: 0.1982   Val accuracy: 0.659    weighted Val loss: 0.2517\n",
      "Epoch: 242   Train loss: 0.0456   Train accuracy: 0.96   Val loss: 0.2006   Val accuracy: 0.658    weighted Val loss: 0.2515\n",
      "Epoch: 243   Train loss: 0.0445   Train accuracy: 0.941   Val loss: 0.2045   Val accuracy: 0.665    weighted Val loss: 0.2512\n",
      "Epoch: 244   Train loss: 0.0476   Train accuracy: 0.936   Val loss: 0.2066   Val accuracy: 0.649    weighted Val loss: 0.251\n",
      "Epoch: 245   Train loss: 0.0449   Train accuracy: 0.963   Val loss: 0.2221   Val accuracy: 0.624    weighted Val loss: 0.2509\n",
      "Epoch: 246   Train loss: 0.045   Train accuracy: 0.955   Val loss: 0.2008   Val accuracy: 0.667    weighted Val loss: 0.2506\n",
      "Epoch: 247   Train loss: 0.0426   Train accuracy: 0.964   Val loss: 0.2003   Val accuracy: 0.66    weighted Val loss: 0.2504\n",
      "Epoch: 248   Train loss: 0.0423   Train accuracy: 0.969   Val loss: 0.2075   Val accuracy: 0.654    weighted Val loss: 0.2501\n",
      "Epoch: 249   Train loss: 0.0433   Train accuracy: 0.958   Val loss: 0.2036   Val accuracy: 0.657    weighted Val loss: 0.2499\n",
      "Epoch: 250   Train loss: 0.0439   Train accuracy: 0.961   Val loss: 0.2007   Val accuracy: 0.664    weighted Val loss: 0.2497\n",
      "Epoch: 251   Train loss: 0.0439   Train accuracy: 0.966   Val loss: 0.2064   Val accuracy: 0.65    weighted Val loss: 0.2494\n",
      "Epoch: 252   Train loss: 0.0423   Train accuracy: 0.963   Val loss: 0.2025   Val accuracy: 0.656    weighted Val loss: 0.2492\n",
      "Epoch: 253   Train loss: 0.0442   Train accuracy: 0.957   Val loss: 0.2265   Val accuracy: 0.633    weighted Val loss: 0.2491\n",
      "Epoch: 254   Train loss: 0.047   Train accuracy: 0.948   Val loss: 0.2049   Val accuracy: 0.65    weighted Val loss: 0.2489\n",
      "Epoch: 255   Train loss: 0.0447   Train accuracy: 0.948   Val loss: 0.2088   Val accuracy: 0.645    weighted Val loss: 0.2487\n",
      "Epoch: 256   Train loss: 0.0436   Train accuracy: 0.96   Val loss: 0.2017   Val accuracy: 0.649    weighted Val loss: 0.2484\n",
      "Epoch: 257   Train loss: 0.0445   Train accuracy: 0.955   Val loss: 0.1978   Val accuracy: 0.665    weighted Val loss: 0.2482\n",
      "Epoch: 258   Train loss: 0.0439   Train accuracy: 0.958   Val loss: 0.2167   Val accuracy: 0.64    weighted Val loss: 0.248\n",
      "Epoch: 259   Train loss: 0.0432   Train accuracy: 0.96   Val loss: 0.208   Val accuracy: 0.65    weighted Val loss: 0.2478\n",
      "Epoch: 260   Train loss: 0.0456   Train accuracy: 0.948   Val loss: 0.2035   Val accuracy: 0.651    weighted Val loss: 0.2476\n",
      "Epoch: 261   Train loss: 0.0511   Train accuracy: 0.936   Val loss: 0.2036   Val accuracy: 0.654    weighted Val loss: 0.2474\n",
      "Epoch: 262   Train loss: 0.0445   Train accuracy: 0.954   Val loss: 0.2121   Val accuracy: 0.65    weighted Val loss: 0.2472\n",
      "Epoch: 263   Train loss: 0.0423   Train accuracy: 0.964   Val loss: 0.2013   Val accuracy: 0.657    weighted Val loss: 0.247\n",
      "Epoch: 264   Train loss: 0.0423   Train accuracy: 0.953   Val loss: 0.2068   Val accuracy: 0.663    weighted Val loss: 0.2468\n",
      "Epoch: 265   Train loss: 0.0419   Train accuracy: 0.969   Val loss: 0.2045   Val accuracy: 0.646    weighted Val loss: 0.2466\n",
      "Epoch: 266   Train loss: 0.0425   Train accuracy: 0.957   Val loss: 0.2076   Val accuracy: 0.654    weighted Val loss: 0.2464\n",
      "Epoch: 267   Train loss: 0.0416   Train accuracy: 0.961   Val loss: 0.2019   Val accuracy: 0.647    weighted Val loss: 0.2462\n",
      "Epoch: 268   Train loss: 0.0422   Train accuracy: 0.968   Val loss: 0.2127   Val accuracy: 0.646    weighted Val loss: 0.246\n",
      "Epoch: 269   Train loss: 0.0437   Train accuracy: 0.96   Val loss: 0.2032   Val accuracy: 0.656    weighted Val loss: 0.2458\n",
      "Epoch: 270   Train loss: 0.0421   Train accuracy: 0.965   Val loss: 0.2017   Val accuracy: 0.657    weighted Val loss: 0.2456\n",
      "Epoch: 271   Train loss: 0.0435   Train accuracy: 0.963   Val loss: 0.1972   Val accuracy: 0.656    weighted Val loss: 0.2453\n",
      "Epoch: 272   Train loss: 0.0455   Train accuracy: 0.961   Val loss: 0.2111   Val accuracy: 0.645    weighted Val loss: 0.2451\n",
      "Epoch: 273   Train loss: 0.0425   Train accuracy: 0.967   Val loss: 0.2141   Val accuracy: 0.64    weighted Val loss: 0.245\n",
      "Epoch: 274   Train loss: 0.0468   Train accuracy: 0.942   Val loss: 0.1947   Val accuracy: 0.66    weighted Val loss: 0.2447\n",
      "Epoch: 275   Train loss: 0.0425   Train accuracy: 0.96   Val loss: 0.2131   Val accuracy: 0.641    weighted Val loss: 0.2446\n",
      "Epoch: 276   Train loss: 0.043   Train accuracy: 0.95   Val loss: 0.2014   Val accuracy: 0.655    weighted Val loss: 0.2444\n",
      "Epoch: 277   Train loss: 0.0453   Train accuracy: 0.957   Val loss: 0.2104   Val accuracy: 0.634    weighted Val loss: 0.2442\n",
      "Epoch: 278   Train loss: 0.0482   Train accuracy: 0.939   Val loss: 0.2082   Val accuracy: 0.657    weighted Val loss: 0.244\n",
      "Epoch: 279   Train loss: 0.0469   Train accuracy: 0.947   Val loss: 0.2075   Val accuracy: 0.644    weighted Val loss: 0.2438\n",
      "Epoch: 280   Train loss: 0.047   Train accuracy: 0.948   Val loss: 0.2076   Val accuracy: 0.641    weighted Val loss: 0.2436\n",
      "Epoch: 281   Train loss: 0.0451   Train accuracy: 0.949   Val loss: 0.2061   Val accuracy: 0.649    weighted Val loss: 0.2435\n",
      "Epoch: 282   Train loss: 0.0428   Train accuracy: 0.972   Val loss: 0.2076   Val accuracy: 0.659    weighted Val loss: 0.2433\n",
      "Epoch: 283   Train loss: 0.0416   Train accuracy: 0.959   Val loss: 0.2094   Val accuracy: 0.641    weighted Val loss: 0.2431\n",
      "Epoch: 284   Train loss: 0.0422   Train accuracy: 0.965   Val loss: 0.2075   Val accuracy: 0.644    weighted Val loss: 0.2429\n",
      "Epoch: 285   Train loss: 0.042   Train accuracy: 0.962   Val loss: 0.2032   Val accuracy: 0.651    weighted Val loss: 0.2427\n",
      "Epoch: 286   Train loss: 0.045   Train accuracy: 0.961   Val loss: 0.201   Val accuracy: 0.649    weighted Val loss: 0.2425\n",
      "Epoch: 287   Train loss: 0.0437   Train accuracy: 0.959   Val loss: 0.2037   Val accuracy: 0.653    weighted Val loss: 0.2423\n",
      "Epoch: 288   Train loss: 0.0417   Train accuracy: 0.973   Val loss: 0.2065   Val accuracy: 0.657    weighted Val loss: 0.2421\n",
      "Epoch: 289   Train loss: 0.0416   Train accuracy: 0.953   Val loss: 0.2069   Val accuracy: 0.652    weighted Val loss: 0.242\n",
      "Epoch: 290   Train loss: 0.0442   Train accuracy: 0.946   Val loss: 0.1987   Val accuracy: 0.662    weighted Val loss: 0.2418\n",
      "Epoch: 291   Train loss: 0.0439   Train accuracy: 0.967   Val loss: 0.2076   Val accuracy: 0.665    weighted Val loss: 0.2416\n",
      "Epoch: 292   Train loss: 0.0421   Train accuracy: 0.959   Val loss: 0.2002   Val accuracy: 0.669    weighted Val loss: 0.2414\n",
      "Epoch: 293   Train loss: 0.0418   Train accuracy: 0.971   Val loss: 0.2152   Val accuracy: 0.642    weighted Val loss: 0.2412\n",
      "Epoch: 294   Train loss: 0.0492   Train accuracy: 0.94   Val loss: 0.1926   Val accuracy: 0.662    weighted Val loss: 0.241\n",
      "Epoch: 295   Train loss: 0.0467   Train accuracy: 0.937   Val loss: 0.2061   Val accuracy: 0.663    weighted Val loss: 0.2408\n",
      "Epoch: 296   Train loss: 0.0452   Train accuracy: 0.952   Val loss: 0.2038   Val accuracy: 0.646    weighted Val loss: 0.2406\n",
      "Epoch: 297   Train loss: 0.0419   Train accuracy: 0.965   Val loss: 0.2045   Val accuracy: 0.645    weighted Val loss: 0.2405\n",
      "Epoch: 298   Train loss: 0.0433   Train accuracy: 0.953   Val loss: 0.2002   Val accuracy: 0.65    weighted Val loss: 0.2403\n",
      "Epoch: 299   Train loss: 0.047   Train accuracy: 0.947   Val loss: 0.2019   Val accuracy: 0.651    weighted Val loss: 0.2401\n",
      "Epoch: 300   Train loss: 0.0449   Train accuracy: 0.964   Val loss: 0.2223   Val accuracy: 0.637    weighted Val loss: 0.24\n",
      "Epoch: 301   Train loss: 0.0466   Train accuracy: 0.952   Val loss: 0.2063   Val accuracy: 0.642    weighted Val loss: 0.2398\n",
      "Epoch: 302   Train loss: 0.0502   Train accuracy: 0.943   Val loss: 0.2221   Val accuracy: 0.622    weighted Val loss: 0.2397\n",
      "Epoch: 303   Train loss: 0.0472   Train accuracy: 0.953   Val loss: 0.2029   Val accuracy: 0.658    weighted Val loss: 0.2395\n",
      "Epoch: 304   Train loss: 0.0475   Train accuracy: 0.951   Val loss: 0.2103   Val accuracy: 0.644    weighted Val loss: 0.2394\n",
      "Epoch: 305   Train loss: 0.0452   Train accuracy: 0.958   Val loss: 0.211   Val accuracy: 0.643    weighted Val loss: 0.2393\n",
      "Epoch: 306   Train loss: 0.0446   Train accuracy: 0.945   Val loss: 0.204   Val accuracy: 0.648    weighted Val loss: 0.2391\n",
      "Epoch: 307   Train loss: 0.0429   Train accuracy: 0.964   Val loss: 0.2032   Val accuracy: 0.657    weighted Val loss: 0.2389\n",
      "Epoch: 308   Train loss: 0.0411   Train accuracy: 0.964   Val loss: 0.2105   Val accuracy: 0.645    weighted Val loss: 0.2388\n",
      "Epoch: 309   Train loss: 0.0409   Train accuracy: 0.966   Val loss: 0.2046   Val accuracy: 0.649    weighted Val loss: 0.2386\n",
      "Epoch: 310   Train loss: 0.0422   Train accuracy: 0.955   Val loss: 0.2016   Val accuracy: 0.656    weighted Val loss: 0.2384\n",
      "Epoch: 311   Train loss: 0.0433   Train accuracy: 0.965   Val loss: 0.2021   Val accuracy: 0.659    weighted Val loss: 0.2382\n",
      "Epoch: 312   Train loss: 0.0425   Train accuracy: 0.961   Val loss: 0.2119   Val accuracy: 0.641    weighted Val loss: 0.2381\n",
      "Epoch: 313   Train loss: 0.042   Train accuracy: 0.963   Val loss: 0.1998   Val accuracy: 0.655    weighted Val loss: 0.2379\n",
      "Epoch: 314   Train loss: 0.0418   Train accuracy: 0.958   Val loss: 0.2061   Val accuracy: 0.657    weighted Val loss: 0.2377\n",
      "Epoch: 315   Train loss: 0.0441   Train accuracy: 0.957   Val loss: 0.1995   Val accuracy: 0.673    weighted Val loss: 0.2375\n",
      "Epoch: 316   Train loss: 0.0454   Train accuracy: 0.957   Val loss: 0.2022   Val accuracy: 0.659    weighted Val loss: 0.2374\n",
      "Epoch: 317   Train loss: 0.0466   Train accuracy: 0.953   Val loss: 0.2124   Val accuracy: 0.644    weighted Val loss: 0.2372\n",
      "Epoch: 318   Train loss: 0.0443   Train accuracy: 0.956   Val loss: 0.2061   Val accuracy: 0.653    weighted Val loss: 0.2371\n",
      "Epoch: 319   Train loss: 0.0431   Train accuracy: 0.957   Val loss: 0.2127   Val accuracy: 0.65    weighted Val loss: 0.237\n",
      "Epoch: 320   Train loss: 0.045   Train accuracy: 0.955   Val loss: 0.2018   Val accuracy: 0.647    weighted Val loss: 0.2368\n",
      "Epoch: 321   Train loss: 0.0447   Train accuracy: 0.958   Val loss: 0.2127   Val accuracy: 0.642    weighted Val loss: 0.2367\n",
      "Epoch: 322   Train loss: 0.0433   Train accuracy: 0.96   Val loss: 0.1987   Val accuracy: 0.657    weighted Val loss: 0.2365\n",
      "Epoch: 323   Train loss: 0.041   Train accuracy: 0.958   Val loss: 0.1991   Val accuracy: 0.664    weighted Val loss: 0.2363\n",
      "Epoch: 324   Train loss: 0.0456   Train accuracy: 0.957   Val loss: 0.2034   Val accuracy: 0.653    weighted Val loss: 0.2361\n",
      "Epoch: 325   Train loss: 0.0496   Train accuracy: 0.943   Val loss: 0.1931   Val accuracy: 0.662    weighted Val loss: 0.2359\n",
      "Epoch: 326   Train loss: 0.0463   Train accuracy: 0.949   Val loss: 0.2062   Val accuracy: 0.646    weighted Val loss: 0.2358\n",
      "Epoch: 327   Train loss: 0.0454   Train accuracy: 0.963   Val loss: 0.2063   Val accuracy: 0.648    weighted Val loss: 0.2356\n",
      "Epoch: 328   Train loss: 0.0436   Train accuracy: 0.969   Val loss: 0.1992   Val accuracy: 0.661    weighted Val loss: 0.2354\n",
      "Epoch: 329   Train loss: 0.0414   Train accuracy: 0.967   Val loss: 0.2032   Val accuracy: 0.656    weighted Val loss: 0.2353\n",
      "Epoch: 330   Train loss: 0.0455   Train accuracy: 0.954   Val loss: 0.2131   Val accuracy: 0.646    weighted Val loss: 0.2352\n",
      "Epoch: 331   Train loss: 0.044   Train accuracy: 0.955   Val loss: 0.2013   Val accuracy: 0.665    weighted Val loss: 0.235\n",
      "Epoch: 332   Train loss: 0.0433   Train accuracy: 0.961   Val loss: 0.2125   Val accuracy: 0.644    weighted Val loss: 0.2349\n",
      "Epoch: 333   Train loss: 0.0429   Train accuracy: 0.962   Val loss: 0.2046   Val accuracy: 0.651    weighted Val loss: 0.2347\n",
      "Epoch: 334   Train loss: 0.0409   Train accuracy: 0.957   Val loss: 0.1966   Val accuracy: 0.665    weighted Val loss: 0.2345\n",
      "Epoch: 335   Train loss: 0.0413   Train accuracy: 0.965   Val loss: 0.2028   Val accuracy: 0.651    weighted Val loss: 0.2344\n",
      "Epoch: 336   Train loss: 0.0404   Train accuracy: 0.978   Val loss: 0.2017   Val accuracy: 0.656    weighted Val loss: 0.2342\n",
      "Epoch: 337   Train loss: 0.0411   Train accuracy: 0.962   Val loss: 0.197   Val accuracy: 0.657    weighted Val loss: 0.234\n",
      "Epoch: 338   Train loss: 0.0466   Train accuracy: 0.955   Val loss: 0.2174   Val accuracy: 0.635    weighted Val loss: 0.2339\n",
      "Epoch: 339   Train loss: 0.0452   Train accuracy: 0.954   Val loss: 0.2027   Val accuracy: 0.66    weighted Val loss: 0.2338\n",
      "Epoch: 340   Train loss: 0.0457   Train accuracy: 0.953   Val loss: 0.2025   Val accuracy: 0.656    weighted Val loss: 0.2336\n",
      "Epoch: 341   Train loss: 0.0443   Train accuracy: 0.958   Val loss: 0.1998   Val accuracy: 0.658    weighted Val loss: 0.2335\n",
      "Epoch: 342   Train loss: 0.0454   Train accuracy: 0.958   Val loss: 0.2016   Val accuracy: 0.663    weighted Val loss: 0.2333\n",
      "Epoch: 343   Train loss: 0.0431   Train accuracy: 0.959   Val loss: 0.2002   Val accuracy: 0.66    weighted Val loss: 0.2331\n",
      "Epoch: 344   Train loss: 0.0421   Train accuracy: 0.967   Val loss: 0.2   Val accuracy: 0.659    weighted Val loss: 0.233\n",
      "Epoch: 345   Train loss: 0.0421   Train accuracy: 0.959   Val loss: 0.2113   Val accuracy: 0.642    weighted Val loss: 0.2329\n",
      "Epoch: 346   Train loss: 0.0417   Train accuracy: 0.959   Val loss: 0.2017   Val accuracy: 0.657    weighted Val loss: 0.2327\n",
      "Epoch: 347   Train loss: 0.0411   Train accuracy: 0.964   Val loss: 0.202   Val accuracy: 0.656    weighted Val loss: 0.2326\n",
      "Epoch: 348   Train loss: 0.041   Train accuracy: 0.971   Val loss: 0.2004   Val accuracy: 0.652    weighted Val loss: 0.2324\n",
      "Epoch: 349   Train loss: 0.0418   Train accuracy: 0.959   Val loss: 0.2007   Val accuracy: 0.654    weighted Val loss: 0.2322\n",
      "Epoch: 350   Train loss: 0.0416   Train accuracy: 0.965   Val loss: 0.1996   Val accuracy: 0.669    weighted Val loss: 0.2321\n",
      "Epoch: 351   Train loss: 0.0415   Train accuracy: 0.966   Val loss: 0.2   Val accuracy: 0.665    weighted Val loss: 0.2319\n",
      "Epoch: 352   Train loss: 0.041   Train accuracy: 0.974   Val loss: 0.1968   Val accuracy: 0.672    weighted Val loss: 0.2317\n",
      "Epoch: 353   Train loss: 0.0424   Train accuracy: 0.966   Val loss: 0.1989   Val accuracy: 0.656    weighted Val loss: 0.2316\n",
      "Epoch: 354   Train loss: 0.0417   Train accuracy: 0.966   Val loss: 0.1977   Val accuracy: 0.659    weighted Val loss: 0.2314\n",
      "Epoch: 355   Train loss: 0.0416   Train accuracy: 0.97   Val loss: 0.2007   Val accuracy: 0.651    weighted Val loss: 0.2313\n",
      "Epoch: 356   Train loss: 0.0451   Train accuracy: 0.955   Val loss: 0.2071   Val accuracy: 0.65    weighted Val loss: 0.2311\n",
      "Epoch: 357   Train loss: 0.0448   Train accuracy: 0.967   Val loss: 0.1992   Val accuracy: 0.657    weighted Val loss: 0.231\n",
      "Epoch: 358   Train loss: 0.0461   Train accuracy: 0.964   Val loss: 0.1987   Val accuracy: 0.658    weighted Val loss: 0.2308\n",
      "Epoch: 359   Train loss: 0.0437   Train accuracy: 0.959   Val loss: 0.2044   Val accuracy: 0.649    weighted Val loss: 0.2307\n",
      "Epoch: 360   Train loss: 0.0418   Train accuracy: 0.967   Val loss: 0.2022   Val accuracy: 0.658    weighted Val loss: 0.2305\n",
      "Epoch: 361   Train loss: 0.0413   Train accuracy: 0.972   Val loss: 0.2021   Val accuracy: 0.662    weighted Val loss: 0.2304\n",
      "Epoch: 362   Train loss: 0.0408   Train accuracy: 0.978   Val loss: 0.2017   Val accuracy: 0.665    weighted Val loss: 0.2303\n",
      "Epoch: 363   Train loss: 0.0413   Train accuracy: 0.965   Val loss: 0.2036   Val accuracy: 0.656    weighted Val loss: 0.2301\n",
      "Epoch: 364   Train loss: 0.0414   Train accuracy: 0.968   Val loss: 0.2019   Val accuracy: 0.658    weighted Val loss: 0.23\n",
      "Epoch: 365   Train loss: 0.0409   Train accuracy: 0.96   Val loss: 0.2035   Val accuracy: 0.658    weighted Val loss: 0.2298\n",
      "Epoch: 366   Train loss: 0.0433   Train accuracy: 0.965   Val loss: 0.2006   Val accuracy: 0.658    weighted Val loss: 0.2297\n",
      "Epoch: 367   Train loss: 0.0431   Train accuracy: 0.965   Val loss: 0.2043   Val accuracy: 0.66    weighted Val loss: 0.2296\n",
      "Epoch: 368   Train loss: 0.0414   Train accuracy: 0.958   Val loss: 0.2033   Val accuracy: 0.66    weighted Val loss: 0.2294\n",
      "Epoch: 369   Train loss: 0.0425   Train accuracy: 0.956   Val loss: 0.2099   Val accuracy: 0.647    weighted Val loss: 0.2293\n",
      "Epoch: 370   Train loss: 0.0454   Train accuracy: 0.963   Val loss: 0.1947   Val accuracy: 0.661    weighted Val loss: 0.2292\n",
      "Epoch: 371   Train loss: 0.0422   Train accuracy: 0.963   Val loss: 0.2021   Val accuracy: 0.656    weighted Val loss: 0.229\n",
      "Epoch: 372   Train loss: 0.0417   Train accuracy: 0.968   Val loss: 0.2006   Val accuracy: 0.649    weighted Val loss: 0.2289\n",
      "Epoch: 373   Train loss: 0.0411   Train accuracy: 0.955   Val loss: 0.2034   Val accuracy: 0.655    weighted Val loss: 0.2288\n",
      "Epoch: 374   Train loss: 0.0418   Train accuracy: 0.967   Val loss: 0.2162   Val accuracy: 0.652    weighted Val loss: 0.2287\n",
      "Epoch: 375   Train loss: 0.0447   Train accuracy: 0.944   Val loss: 0.2142   Val accuracy: 0.627    weighted Val loss: 0.2286\n",
      "Epoch: 376   Train loss: 0.0457   Train accuracy: 0.962   Val loss: 0.2085   Val accuracy: 0.643    weighted Val loss: 0.2285\n",
      "Epoch: 377   Train loss: 0.0427   Train accuracy: 0.958   Val loss: 0.1954   Val accuracy: 0.667    weighted Val loss: 0.2284\n",
      "Epoch: 378   Train loss: 0.0422   Train accuracy: 0.968   Val loss: 0.2095   Val accuracy: 0.643    weighted Val loss: 0.2283\n",
      "Epoch: 379   Train loss: 0.0414   Train accuracy: 0.975   Val loss: 0.1996   Val accuracy: 0.664    weighted Val loss: 0.2281\n",
      "Epoch: 380   Train loss: 0.0415   Train accuracy: 0.964   Val loss: 0.1984   Val accuracy: 0.655    weighted Val loss: 0.228\n",
      "Epoch: 381   Train loss: 0.0447   Train accuracy: 0.954   Val loss: 0.1963   Val accuracy: 0.671    weighted Val loss: 0.2278\n",
      "Epoch: 382   Train loss: 0.043   Train accuracy: 0.964   Val loss: 0.2   Val accuracy: 0.659    weighted Val loss: 0.2277\n",
      "Epoch: 383   Train loss: 0.0409   Train accuracy: 0.97   Val loss: 0.2043   Val accuracy: 0.651    weighted Val loss: 0.2276\n",
      "Epoch: 384   Train loss: 0.0409   Train accuracy: 0.964   Val loss: 0.2026   Val accuracy: 0.662    weighted Val loss: 0.2274\n",
      "Epoch: 385   Train loss: 0.0432   Train accuracy: 0.939   Val loss: 0.1941   Val accuracy: 0.662    weighted Val loss: 0.2273\n",
      "Epoch: 386   Train loss: 0.0481   Train accuracy: 0.947   Val loss: 0.2084   Val accuracy: 0.658    weighted Val loss: 0.2272\n",
      "Epoch: 387   Train loss: 0.0481   Train accuracy: 0.945   Val loss: 0.2026   Val accuracy: 0.647    weighted Val loss: 0.2271\n",
      "Epoch: 388   Train loss: 0.0434   Train accuracy: 0.97   Val loss: 0.2063   Val accuracy: 0.647    weighted Val loss: 0.2269\n",
      "Epoch: 389   Train loss: 0.0469   Train accuracy: 0.94   Val loss: 0.1983   Val accuracy: 0.649    weighted Val loss: 0.2268\n",
      "Epoch: 390   Train loss: 0.0434   Train accuracy: 0.963   Val loss: 0.2075   Val accuracy: 0.64    weighted Val loss: 0.2267\n",
      "Epoch: 391   Train loss: 0.0411   Train accuracy: 0.962   Val loss: 0.1973   Val accuracy: 0.657    weighted Val loss: 0.2266\n",
      "Epoch: 392   Train loss: 0.041   Train accuracy: 0.969   Val loss: 0.2059   Val accuracy: 0.661    weighted Val loss: 0.2265\n",
      "Epoch: 393   Train loss: 0.0415   Train accuracy: 0.976   Val loss: 0.2021   Val accuracy: 0.655    weighted Val loss: 0.2263\n",
      "Epoch: 394   Train loss: 0.0422   Train accuracy: 0.968   Val loss: 0.1942   Val accuracy: 0.659    weighted Val loss: 0.2262\n",
      "Epoch: 395   Train loss: 0.0413   Train accuracy: 0.956   Val loss: 0.2073   Val accuracy: 0.657    weighted Val loss: 0.2261\n",
      "Epoch: 396   Train loss: 0.0458   Train accuracy: 0.944   Val loss: 0.2099   Val accuracy: 0.655    weighted Val loss: 0.226\n",
      "Epoch: 397   Train loss: 0.0432   Train accuracy: 0.954   Val loss: 0.1991   Val accuracy: 0.663    weighted Val loss: 0.2259\n",
      "Epoch: 398   Train loss: 0.043   Train accuracy: 0.973   Val loss: 0.2048   Val accuracy: 0.65    weighted Val loss: 0.2258\n",
      "Epoch: 399   Train loss: 0.0408   Train accuracy: 0.972   Val loss: 0.2159   Val accuracy: 0.637    weighted Val loss: 0.2257\n",
      "Epoch: 400   Train loss: 0.0408   Train accuracy: 0.967   Val loss: 0.2002   Val accuracy: 0.659    weighted Val loss: 0.2256\n",
      "Epoch: 401   Train loss: 0.0425   Train accuracy: 0.959   Val loss: 0.2125   Val accuracy: 0.64    weighted Val loss: 0.2255\n",
      "Epoch: 402   Train loss: 0.043   Train accuracy: 0.961   Val loss: 0.2045   Val accuracy: 0.668    weighted Val loss: 0.2254\n",
      "Epoch: 403   Train loss: 0.0422   Train accuracy: 0.955   Val loss: 0.1979   Val accuracy: 0.663    weighted Val loss: 0.2253\n",
      "Epoch: 404   Train loss: 0.0405   Train accuracy: 0.972   Val loss: 0.1979   Val accuracy: 0.671    weighted Val loss: 0.2251\n",
      "Epoch: 405   Train loss: 0.0402   Train accuracy: 0.969   Val loss: 0.1989   Val accuracy: 0.667    weighted Val loss: 0.225\n",
      "Epoch: 406   Train loss: 0.0399   Train accuracy: 0.962   Val loss: 0.2026   Val accuracy: 0.654    weighted Val loss: 0.2249\n",
      "Epoch: 407   Train loss: 0.0418   Train accuracy: 0.969   Val loss: 0.2038   Val accuracy: 0.655    weighted Val loss: 0.2248\n",
      "Epoch: 408   Train loss: 0.042   Train accuracy: 0.965   Val loss: 0.2035   Val accuracy: 0.652    weighted Val loss: 0.2247\n",
      "Epoch: 409   Train loss: 0.0427   Train accuracy: 0.969   Val loss: 0.1989   Val accuracy: 0.653    weighted Val loss: 0.2246\n",
      "Epoch: 410   Train loss: 0.0446   Train accuracy: 0.962   Val loss: 0.2185   Val accuracy: 0.65    weighted Val loss: 0.2245\n",
      "Epoch: 411   Train loss: 0.0451   Train accuracy: 0.947   Val loss: 0.1986   Val accuracy: 0.654    weighted Val loss: 0.2244\n",
      "Epoch: 412   Train loss: 0.045   Train accuracy: 0.956   Val loss: 0.2071   Val accuracy: 0.657    weighted Val loss: 0.2243\n",
      "Epoch: 413   Train loss: 0.0411   Train accuracy: 0.967   Val loss: 0.2017   Val accuracy: 0.657    weighted Val loss: 0.2242\n",
      "Epoch: 414   Train loss: 0.0432   Train accuracy: 0.968   Val loss: 0.1975   Val accuracy: 0.663    weighted Val loss: 0.2241\n",
      "Epoch: 415   Train loss: 0.0421   Train accuracy: 0.963   Val loss: 0.1961   Val accuracy: 0.663    weighted Val loss: 0.2239\n",
      "Epoch: 416   Train loss: 0.0405   Train accuracy: 0.971   Val loss: 0.2034   Val accuracy: 0.659    weighted Val loss: 0.2238\n",
      "Epoch: 417   Train loss: 0.0404   Train accuracy: 0.96   Val loss: 0.2036   Val accuracy: 0.652    weighted Val loss: 0.2237\n",
      "Epoch: 418   Train loss: 0.0415   Train accuracy: 0.972   Val loss: 0.1958   Val accuracy: 0.661    weighted Val loss: 0.2236\n",
      "Epoch: 419   Train loss: 0.0425   Train accuracy: 0.962   Val loss: 0.2036   Val accuracy: 0.645    weighted Val loss: 0.2235\n",
      "Epoch: 420   Train loss: 0.0408   Train accuracy: 0.97   Val loss: 0.1998   Val accuracy: 0.663    weighted Val loss: 0.2234\n",
      "Epoch: 421   Train loss: 0.0403   Train accuracy: 0.979   Val loss: 0.2018   Val accuracy: 0.653    weighted Val loss: 0.2233\n",
      "Epoch: 422   Train loss: 0.042   Train accuracy: 0.951   Val loss: 0.1944   Val accuracy: 0.661    weighted Val loss: 0.2231\n",
      "Epoch: 423   Train loss: 0.0441   Train accuracy: 0.961   Val loss: 0.2073   Val accuracy: 0.661    weighted Val loss: 0.223\n",
      "Epoch: 424   Train loss: 0.0441   Train accuracy: 0.961   Val loss: 0.2021   Val accuracy: 0.659    weighted Val loss: 0.2229\n",
      "Epoch: 425   Train loss: 0.0437   Train accuracy: 0.955   Val loss: 0.2016   Val accuracy: 0.665    weighted Val loss: 0.2228\n",
      "Epoch: 426   Train loss: 0.0411   Train accuracy: 0.964   Val loss: 0.2031   Val accuracy: 0.653    weighted Val loss: 0.2227\n",
      "Epoch: 427   Train loss: 0.0413   Train accuracy: 0.967   Val loss: 0.1945   Val accuracy: 0.667    weighted Val loss: 0.2226\n",
      "Epoch: 428   Train loss: 0.0434   Train accuracy: 0.956   Val loss: 0.2114   Val accuracy: 0.647    weighted Val loss: 0.2225\n",
      "Epoch: 429   Train loss: 0.0435   Train accuracy: 0.967   Val loss: 0.2022   Val accuracy: 0.654    weighted Val loss: 0.2224\n",
      "Epoch: 430   Train loss: 0.0438   Train accuracy: 0.967   Val loss: 0.2049   Val accuracy: 0.647    weighted Val loss: 0.2223\n",
      "Epoch: 431   Train loss: 0.0464   Train accuracy: 0.949   Val loss: 0.1973   Val accuracy: 0.653    weighted Val loss: 0.2222\n",
      "Epoch: 432   Train loss: 0.0436   Train accuracy: 0.961   Val loss: 0.1984   Val accuracy: 0.661    weighted Val loss: 0.2221\n",
      "Epoch: 433   Train loss: 0.0502   Train accuracy: 0.952   Val loss: 0.2348   Val accuracy: 0.635    weighted Val loss: 0.2222\n"
     ]
    }
   ],
   "source": [
    "MLPparametersGCN = {\n",
    "    'n_layers':2,\n",
    "    'layer_size_factor':[1, 1], \n",
    "    'dropout':[-1, -1],\n",
    "    'batch_size': 128,\n",
    "    'num_epochs': 900,\n",
    "    'learning_rate': 6e-4,\n",
    "    'weight_decay': 5e-3,\n",
    "    'betas': (0.9, 0.999), \n",
    "    'eps': 1e-08\n",
    "}\n",
    "MLPmodelGCN, _,_ = MLP.train_MLP(dm, sim_all[\"GCN_train\"], sim_all[\"GCN_test\"], MLPparametersGCN, acc_fn=MLP.F1, autostop_decay = 0.995, print_summary = True)"
   ]
  },
  {
   "cell_type": "markdown",
   "metadata": {},
   "source": [
    "###### Result"
   ]
  },
  {
   "cell_type": "code",
   "execution_count": 109,
   "metadata": {},
   "outputs": [
    {
     "name": "stdout",
     "output_type": "stream",
     "text": [
      "threshold: 0.05  validation loss: 0.199 F1 accuracy 0.493 Precision accuracy 0.343 Recall accuracy 0.875 AUC accuracy: 0.84\n",
      "threshold: 0.1  validation loss: 0.199 F1 accuracy 0.552 Precision accuracy 0.418 Recall accuracy 0.811 AUC accuracy: 0.84\n",
      "threshold: 0.15  validation loss: 0.199 F1 accuracy 0.595 Precision accuracy 0.482 Recall accuracy 0.777 AUC accuracy: 0.84\n",
      "threshold: 0.2  validation loss: 0.199 F1 accuracy 0.625 Precision accuracy 0.53 Recall accuracy 0.762 AUC accuracy: 0.842\n",
      "threshold: 0.25  validation loss: 0.199 F1 accuracy 0.63 Precision accuracy 0.56 Recall accuracy 0.721 AUC accuracy: 0.828\n",
      "threshold: 0.3  validation loss: 0.199 F1 accuracy 0.647 Precision accuracy 0.6 Recall accuracy 0.702 AUC accuracy: 0.824\n",
      "threshold: 0.35  validation loss: 0.199 F1 accuracy 0.653 Precision accuracy 0.629 Recall accuracy 0.679 AUC accuracy: 0.816\n",
      "threshold: 0.4  validation loss: 0.199 F1 accuracy 0.658 Precision accuracy 0.655 Recall accuracy 0.66 AUC accuracy: 0.81\n",
      "threshold: 0.45  validation loss: 0.199 F1 accuracy 0.665 Precision accuracy 0.691 Recall accuracy 0.642 AUC accuracy: 0.804\n",
      "threshold: 0.5  validation loss: 0.199 F1 accuracy 0.679 Precision accuracy 0.747 Recall accuracy 0.623 AUC accuracy: 0.799\n",
      "threshold: 0.55  validation loss: 0.199 F1 accuracy 0.647 Precision accuracy 0.748 Recall accuracy 0.57 AUC accuracy: 0.774\n",
      "threshold: 0.6  validation loss: 0.199 F1 accuracy 0.643 Precision accuracy 0.78 Recall accuracy 0.547 AUC accuracy: 0.765\n",
      "threshold: 0.65  validation loss: 0.199 F1 accuracy 0.606 Precision accuracy 0.793 Recall accuracy 0.491 AUC accuracy: 0.738\n",
      "threshold: 0.7  validation loss: 0.199 F1 accuracy 0.585 Precision accuracy 0.803 Recall accuracy 0.46 AUC accuracy: 0.724\n",
      "threshold: 0.75  validation loss: 0.199 F1 accuracy 0.571 Precision accuracy 0.823 Recall accuracy 0.438 AUC accuracy: 0.713\n",
      "threshold: 0.8  validation loss: 0.199 F1 accuracy 0.501 Precision accuracy 0.833 Recall accuracy 0.358 AUC accuracy: 0.675\n",
      "threshold: 0.85  validation loss: 0.199 F1 accuracy 0.467 Precision accuracy 0.859 Recall accuracy 0.321 AUC accuracy: 0.657\n",
      "threshold: 0.9  validation loss: 0.199 F1 accuracy 0.375 Precision accuracy 0.939 Recall accuracy 0.234 AUC accuracy: 0.616\n",
      "threshold: 0.95  validation loss: 0.199 F1 accuracy 0.266 Precision accuracy 0.953 Recall accuracy 0.155 AUC accuracy: 0.577\n"
     ]
    }
   ],
   "source": [
    "for i in range(5,100, 5):\n",
    "    t = i/100;\n",
    "    MLP.eval_mlp(MLPmodelGCN, sim_all[\"GCN_test\"], dm, threshold = t)"
   ]
  },
  {
   "cell_type": "markdown",
   "metadata": {},
   "source": [
    "##### 3.1.2 MLP for GDE"
   ]
  },
  {
   "cell_type": "markdown",
   "metadata": {},
   "source": [
    "###### Training"
   ]
  },
  {
   "cell_type": "code",
   "execution_count": 110,
   "metadata": {},
   "outputs": [
    {
     "name": "stdout",
     "output_type": "stream",
     "text": [
      "MLP(\n",
      "  (layers): ModuleList(\n",
      "    (0): Linear(in_features=276, out_features=276, bias=True)\n",
      "    (1): ReLU()\n",
      "    (2): Linear(in_features=276, out_features=1, bias=True)\n",
      "    (3): Sigmoid()\n",
      "  )\n",
      ")\n",
      "----------------------------------------------------------------\n",
      "        Layer (type)               Output Shape         Param #\n",
      "================================================================\n",
      "            Linear-1                  [-1, 276]          76,452\n",
      "              ReLU-2                  [-1, 276]               0\n",
      "            Linear-3                    [-1, 1]             277\n",
      "           Sigmoid-4                    [-1, 1]               0\n",
      "================================================================\n",
      "Total params: 76,729\n",
      "Trainable params: 76,729\n",
      "Non-trainable params: 0\n",
      "----------------------------------------------------------------\n",
      "Input size (MB): 0.00\n",
      "Forward/backward pass size (MB): 0.00\n",
      "Params size (MB): 0.29\n",
      "Estimated Total Size (MB): 0.30\n",
      "----------------------------------------------------------------\n",
      "Epoch: 1   Train loss: 0.378   Train accuracy: 0.009   Val loss: 0.318   Val accuracy: 0.329    weighted Val loss: 0.318\n",
      "0.329 ----------saved-----------\n",
      "Epoch: 2   Train loss: 0.2821   Train accuracy: 0.0   Val loss: 0.2755   Val accuracy: 0.51    weighted Val loss: 0.3178\n",
      "0.51 ----------saved-----------\n",
      "Epoch: 3   Train loss: 0.2455   Train accuracy: 0.0   Val loss: 0.2478   Val accuracy: 0.567    weighted Val loss: 0.3174\n",
      "0.567 ----------saved-----------\n",
      "Epoch: 4   Train loss: 0.2198   Train accuracy: 0.093   Val loss: 0.2277   Val accuracy: 0.606    weighted Val loss: 0.317\n",
      "0.606 ----------saved-----------\n",
      "Epoch: 5   Train loss: 0.2006   Train accuracy: 0.221   Val loss: 0.2148   Val accuracy: 0.603    weighted Val loss: 0.3165\n",
      "Epoch: 6   Train loss: 0.1847   Train accuracy: 0.419   Val loss: 0.2061   Val accuracy: 0.622    weighted Val loss: 0.3159\n",
      "0.622 ----------saved-----------\n",
      "Epoch: 7   Train loss: 0.1757   Train accuracy: 0.488   Val loss: 0.1972   Val accuracy: 0.625    weighted Val loss: 0.3153\n",
      "0.625 ----------saved-----------\n",
      "Epoch: 8   Train loss: 0.1638   Train accuracy: 0.582   Val loss: 0.202   Val accuracy: 0.625    weighted Val loss: 0.3148\n",
      "Epoch: 9   Train loss: 0.1583   Train accuracy: 0.616   Val loss: 0.1936   Val accuracy: 0.632    weighted Val loss: 0.3141\n",
      "0.632 ----------saved-----------\n",
      "Epoch: 10   Train loss: 0.1484   Train accuracy: 0.667   Val loss: 0.185   Val accuracy: 0.643    weighted Val loss: 0.3135\n",
      "0.643 ----------saved-----------\n",
      "Epoch: 11   Train loss: 0.1418   Train accuracy: 0.688   Val loss: 0.1865   Val accuracy: 0.648    weighted Val loss: 0.3129\n",
      "0.648 ----------saved-----------\n",
      "Epoch: 12   Train loss: 0.1374   Train accuracy: 0.704   Val loss: 0.1855   Val accuracy: 0.648    weighted Val loss: 0.3122\n",
      "Epoch: 13   Train loss: 0.1321   Train accuracy: 0.716   Val loss: 0.1756   Val accuracy: 0.656    weighted Val loss: 0.3115\n",
      "0.656 ----------saved-----------\n",
      "Epoch: 14   Train loss: 0.1288   Train accuracy: 0.717   Val loss: 0.1797   Val accuracy: 0.652    weighted Val loss: 0.3109\n",
      "Epoch: 15   Train loss: 0.1251   Train accuracy: 0.711   Val loss: 0.1745   Val accuracy: 0.652    weighted Val loss: 0.3102\n",
      "Epoch: 16   Train loss: 0.1213   Train accuracy: 0.756   Val loss: 0.1735   Val accuracy: 0.651    weighted Val loss: 0.3095\n",
      "Epoch: 17   Train loss: 0.1196   Train accuracy: 0.742   Val loss: 0.1791   Val accuracy: 0.641    weighted Val loss: 0.3089\n",
      "Epoch: 18   Train loss: 0.1139   Train accuracy: 0.774   Val loss: 0.1733   Val accuracy: 0.654    weighted Val loss: 0.3082\n",
      "Epoch: 19   Train loss: 0.1146   Train accuracy: 0.758   Val loss: 0.1707   Val accuracy: 0.654    weighted Val loss: 0.3075\n",
      "Epoch: 20   Train loss: 0.1092   Train accuracy: 0.789   Val loss: 0.1699   Val accuracy: 0.656    weighted Val loss: 0.3068\n",
      "Epoch: 21   Train loss: 0.1054   Train accuracy: 0.789   Val loss: 0.1682   Val accuracy: 0.663    weighted Val loss: 0.3061\n",
      "0.663 ----------saved-----------\n",
      "Epoch: 22   Train loss: 0.1032   Train accuracy: 0.8   Val loss: 0.1674   Val accuracy: 0.657    weighted Val loss: 0.3054\n",
      "Epoch: 23   Train loss: 0.101   Train accuracy: 0.82   Val loss: 0.1696   Val accuracy: 0.661    weighted Val loss: 0.3048\n",
      "Epoch: 24   Train loss: 0.0993   Train accuracy: 0.8   Val loss: 0.1721   Val accuracy: 0.653    weighted Val loss: 0.3041\n",
      "Epoch: 25   Train loss: 0.0981   Train accuracy: 0.799   Val loss: 0.169   Val accuracy: 0.658    weighted Val loss: 0.3034\n",
      "Epoch: 26   Train loss: 0.0943   Train accuracy: 0.828   Val loss: 0.1683   Val accuracy: 0.664    weighted Val loss: 0.3027\n",
      "0.664 ----------saved-----------\n",
      "Epoch: 27   Train loss: 0.0924   Train accuracy: 0.838   Val loss: 0.1652   Val accuracy: 0.663    weighted Val loss: 0.302\n",
      "Epoch: 28   Train loss: 0.0916   Train accuracy: 0.825   Val loss: 0.1679   Val accuracy: 0.657    weighted Val loss: 0.3014\n",
      "Epoch: 29   Train loss: 0.09   Train accuracy: 0.841   Val loss: 0.1703   Val accuracy: 0.662    weighted Val loss: 0.3007\n",
      "Epoch: 30   Train loss: 0.0873   Train accuracy: 0.843   Val loss: 0.1657   Val accuracy: 0.667    weighted Val loss: 0.3\n",
      "0.667 ----------saved-----------\n",
      "Epoch: 31   Train loss: 0.0885   Train accuracy: 0.854   Val loss: 0.1674   Val accuracy: 0.658    weighted Val loss: 0.2994\n",
      "Epoch: 32   Train loss: 0.086   Train accuracy: 0.832   Val loss: 0.165   Val accuracy: 0.668    weighted Val loss: 0.2987\n",
      "0.668 ----------saved-----------\n",
      "Epoch: 33   Train loss: 0.0823   Train accuracy: 0.871   Val loss: 0.1629   Val accuracy: 0.665    weighted Val loss: 0.298\n",
      "Epoch: 34   Train loss: 0.0804   Train accuracy: 0.862   Val loss: 0.1653   Val accuracy: 0.661    weighted Val loss: 0.2974\n",
      "Epoch: 35   Train loss: 0.079   Train accuracy: 0.861   Val loss: 0.1633   Val accuracy: 0.664    weighted Val loss: 0.2967\n",
      "Epoch: 36   Train loss: 0.0771   Train accuracy: 0.849   Val loss: 0.1774   Val accuracy: 0.653    weighted Val loss: 0.2961\n",
      "Epoch: 37   Train loss: 0.0778   Train accuracy: 0.86   Val loss: 0.1622   Val accuracy: 0.679    weighted Val loss: 0.2954\n",
      "0.679 ----------saved-----------\n",
      "Epoch: 38   Train loss: 0.0772   Train accuracy: 0.875   Val loss: 0.1663   Val accuracy: 0.662    weighted Val loss: 0.2948\n",
      "Epoch: 39   Train loss: 0.0769   Train accuracy: 0.864   Val loss: 0.1589   Val accuracy: 0.676    weighted Val loss: 0.2941\n",
      "Epoch: 40   Train loss: 0.0723   Train accuracy: 0.881   Val loss: 0.1664   Val accuracy: 0.677    weighted Val loss: 0.2935\n",
      "Epoch: 41   Train loss: 0.0747   Train accuracy: 0.883   Val loss: 0.1729   Val accuracy: 0.658    weighted Val loss: 0.2929\n",
      "Epoch: 42   Train loss: 0.0757   Train accuracy: 0.871   Val loss: 0.1629   Val accuracy: 0.676    weighted Val loss: 0.2922\n",
      "Epoch: 43   Train loss: 0.073   Train accuracy: 0.88   Val loss: 0.1848   Val accuracy: 0.653    weighted Val loss: 0.2917\n",
      "Epoch: 44   Train loss: 0.0705   Train accuracy: 0.863   Val loss: 0.1632   Val accuracy: 0.668    weighted Val loss: 0.291\n",
      "Epoch: 45   Train loss: 0.0687   Train accuracy: 0.898   Val loss: 0.1669   Val accuracy: 0.677    weighted Val loss: 0.2904\n",
      "Epoch: 46   Train loss: 0.0673   Train accuracy: 0.894   Val loss: 0.1621   Val accuracy: 0.669    weighted Val loss: 0.2898\n",
      "Epoch: 47   Train loss: 0.0641   Train accuracy: 0.911   Val loss: 0.1744   Val accuracy: 0.659    weighted Val loss: 0.2892\n",
      "Epoch: 48   Train loss: 0.0663   Train accuracy: 0.891   Val loss: 0.1611   Val accuracy: 0.68    weighted Val loss: 0.2886\n",
      "0.68 ----------saved-----------\n",
      "Epoch: 49   Train loss: 0.0699   Train accuracy: 0.899   Val loss: 0.1657   Val accuracy: 0.67    weighted Val loss: 0.2879\n",
      "Epoch: 50   Train loss: 0.0654   Train accuracy: 0.904   Val loss: 0.1612   Val accuracy: 0.679    weighted Val loss: 0.2873\n",
      "Epoch: 51   Train loss: 0.062   Train accuracy: 0.91   Val loss: 0.1686   Val accuracy: 0.675    weighted Val loss: 0.2867\n",
      "Epoch: 52   Train loss: 0.0624   Train accuracy: 0.922   Val loss: 0.1558   Val accuracy: 0.686    weighted Val loss: 0.2861\n",
      "0.686 ----------saved-----------\n",
      "Epoch: 53   Train loss: 0.0617   Train accuracy: 0.918   Val loss: 0.1824   Val accuracy: 0.655    weighted Val loss: 0.2855\n",
      "Epoch: 54   Train loss: 0.065   Train accuracy: 0.897   Val loss: 0.1591   Val accuracy: 0.693    weighted Val loss: 0.2849\n",
      "0.693 ----------saved-----------\n",
      "Epoch: 55   Train loss: 0.0637   Train accuracy: 0.908   Val loss: 0.1587   Val accuracy: 0.684    weighted Val loss: 0.2843\n",
      "Epoch: 56   Train loss: 0.059   Train accuracy: 0.929   Val loss: 0.1742   Val accuracy: 0.668    weighted Val loss: 0.2837\n",
      "Epoch: 57   Train loss: 0.0627   Train accuracy: 0.916   Val loss: 0.1551   Val accuracy: 0.68    weighted Val loss: 0.2831\n",
      "Epoch: 58   Train loss: 0.0588   Train accuracy: 0.912   Val loss: 0.1635   Val accuracy: 0.676    weighted Val loss: 0.2825\n",
      "Epoch: 59   Train loss: 0.0575   Train accuracy: 0.932   Val loss: 0.1668   Val accuracy: 0.671    weighted Val loss: 0.2819\n",
      "Epoch: 60   Train loss: 0.0569   Train accuracy: 0.923   Val loss: 0.1589   Val accuracy: 0.681    weighted Val loss: 0.2813\n",
      "Epoch: 61   Train loss: 0.0578   Train accuracy: 0.937   Val loss: 0.1581   Val accuracy: 0.673    weighted Val loss: 0.2807\n",
      "Epoch: 62   Train loss: 0.0589   Train accuracy: 0.913   Val loss: 0.1731   Val accuracy: 0.659    weighted Val loss: 0.2801\n",
      "Epoch: 63   Train loss: 0.057   Train accuracy: 0.935   Val loss: 0.1609   Val accuracy: 0.68    weighted Val loss: 0.2795\n",
      "Epoch: 64   Train loss: 0.0554   Train accuracy: 0.935   Val loss: 0.1764   Val accuracy: 0.657    weighted Val loss: 0.279\n",
      "Epoch: 65   Train loss: 0.0549   Train accuracy: 0.931   Val loss: 0.1635   Val accuracy: 0.677    weighted Val loss: 0.2785\n",
      "Epoch: 66   Train loss: 0.0547   Train accuracy: 0.934   Val loss: 0.1618   Val accuracy: 0.681    weighted Val loss: 0.2779\n",
      "Epoch: 67   Train loss: 0.0561   Train accuracy: 0.915   Val loss: 0.1615   Val accuracy: 0.683    weighted Val loss: 0.2773\n",
      "Epoch: 68   Train loss: 0.0555   Train accuracy: 0.923   Val loss: 0.1602   Val accuracy: 0.686    weighted Val loss: 0.2767\n",
      "Epoch: 69   Train loss: 0.0523   Train accuracy: 0.946   Val loss: 0.1645   Val accuracy: 0.678    weighted Val loss: 0.2761\n",
      "Epoch: 70   Train loss: 0.0523   Train accuracy: 0.933   Val loss: 0.1664   Val accuracy: 0.676    weighted Val loss: 0.2756\n",
      "Epoch: 71   Train loss: 0.0523   Train accuracy: 0.926   Val loss: 0.1567   Val accuracy: 0.689    weighted Val loss: 0.275\n",
      "Epoch: 72   Train loss: 0.0518   Train accuracy: 0.934   Val loss: 0.1609   Val accuracy: 0.676    weighted Val loss: 0.2744\n",
      "Epoch: 73   Train loss: 0.0514   Train accuracy: 0.951   Val loss: 0.1705   Val accuracy: 0.677    weighted Val loss: 0.2739\n",
      "Epoch: 74   Train loss: 0.0535   Train accuracy: 0.924   Val loss: 0.1595   Val accuracy: 0.675    weighted Val loss: 0.2733\n",
      "Epoch: 75   Train loss: 0.0519   Train accuracy: 0.939   Val loss: 0.1689   Val accuracy: 0.673    weighted Val loss: 0.2728\n",
      "Epoch: 76   Train loss: 0.0507   Train accuracy: 0.929   Val loss: 0.1609   Val accuracy: 0.688    weighted Val loss: 0.2723\n",
      "Epoch: 77   Train loss: 0.0516   Train accuracy: 0.939   Val loss: 0.1751   Val accuracy: 0.682    weighted Val loss: 0.2718\n",
      "Epoch: 78   Train loss: 0.0514   Train accuracy: 0.914   Val loss: 0.1613   Val accuracy: 0.682    weighted Val loss: 0.2712\n",
      "Epoch: 79   Train loss: 0.0503   Train accuracy: 0.943   Val loss: 0.1638   Val accuracy: 0.677    weighted Val loss: 0.2707\n",
      "Epoch: 80   Train loss: 0.0515   Train accuracy: 0.941   Val loss: 0.1735   Val accuracy: 0.662    weighted Val loss: 0.2702\n",
      "Epoch: 81   Train loss: 0.0534   Train accuracy: 0.92   Val loss: 0.168   Val accuracy: 0.677    weighted Val loss: 0.2697\n",
      "Epoch: 82   Train loss: 0.0537   Train accuracy: 0.929   Val loss: 0.1672   Val accuracy: 0.687    weighted Val loss: 0.2692\n",
      "Epoch: 83   Train loss: 0.049   Train accuracy: 0.95   Val loss: 0.1582   Val accuracy: 0.686    weighted Val loss: 0.2686\n",
      "Epoch: 84   Train loss: 0.0486   Train accuracy: 0.949   Val loss: 0.1653   Val accuracy: 0.683    weighted Val loss: 0.2681\n",
      "Epoch: 85   Train loss: 0.0471   Train accuracy: 0.937   Val loss: 0.1681   Val accuracy: 0.674    weighted Val loss: 0.2676\n",
      "Epoch: 86   Train loss: 0.0485   Train accuracy: 0.956   Val loss: 0.1624   Val accuracy: 0.678    weighted Val loss: 0.2671\n",
      "Epoch: 87   Train loss: 0.0496   Train accuracy: 0.942   Val loss: 0.1585   Val accuracy: 0.69    weighted Val loss: 0.2665\n",
      "Epoch: 88   Train loss: 0.0479   Train accuracy: 0.948   Val loss: 0.1603   Val accuracy: 0.686    weighted Val loss: 0.266\n",
      "Epoch: 89   Train loss: 0.05   Train accuracy: 0.934   Val loss: 0.1577   Val accuracy: 0.682    weighted Val loss: 0.2655\n",
      "Epoch: 90   Train loss: 0.0473   Train accuracy: 0.943   Val loss: 0.1637   Val accuracy: 0.678    weighted Val loss: 0.2649\n",
      "Epoch: 91   Train loss: 0.0475   Train accuracy: 0.943   Val loss: 0.1609   Val accuracy: 0.679    weighted Val loss: 0.2644\n",
      "Epoch: 92   Train loss: 0.0473   Train accuracy: 0.949   Val loss: 0.1645   Val accuracy: 0.687    weighted Val loss: 0.2639\n",
      "Epoch: 93   Train loss: 0.0477   Train accuracy: 0.958   Val loss: 0.1648   Val accuracy: 0.684    weighted Val loss: 0.2634\n",
      "Epoch: 94   Train loss: 0.0478   Train accuracy: 0.942   Val loss: 0.1599   Val accuracy: 0.683    weighted Val loss: 0.2629\n",
      "Epoch: 95   Train loss: 0.0484   Train accuracy: 0.94   Val loss: 0.1643   Val accuracy: 0.668    weighted Val loss: 0.2624\n",
      "Epoch: 96   Train loss: 0.0475   Train accuracy: 0.939   Val loss: 0.1603   Val accuracy: 0.685    weighted Val loss: 0.2619\n",
      "Epoch: 97   Train loss: 0.0475   Train accuracy: 0.966   Val loss: 0.159   Val accuracy: 0.675    weighted Val loss: 0.2614\n",
      "Epoch: 98   Train loss: 0.0488   Train accuracy: 0.942   Val loss: 0.174   Val accuracy: 0.676    weighted Val loss: 0.261\n",
      "Epoch: 99   Train loss: 0.0517   Train accuracy: 0.946   Val loss: 0.1673   Val accuracy: 0.667    weighted Val loss: 0.2605\n",
      "Epoch: 100   Train loss: 0.0478   Train accuracy: 0.947   Val loss: 0.1608   Val accuracy: 0.689    weighted Val loss: 0.26\n",
      "Epoch: 101   Train loss: 0.0458   Train accuracy: 0.953   Val loss: 0.163   Val accuracy: 0.689    weighted Val loss: 0.2595\n",
      "Epoch: 102   Train loss: 0.0459   Train accuracy: 0.961   Val loss: 0.156   Val accuracy: 0.685    weighted Val loss: 0.259\n",
      "Epoch: 103   Train loss: 0.0459   Train accuracy: 0.951   Val loss: 0.1646   Val accuracy: 0.678    weighted Val loss: 0.2585\n",
      "Epoch: 104   Train loss: 0.0455   Train accuracy: 0.952   Val loss: 0.1618   Val accuracy: 0.681    weighted Val loss: 0.258\n",
      "Epoch: 105   Train loss: 0.0457   Train accuracy: 0.948   Val loss: 0.1672   Val accuracy: 0.669    weighted Val loss: 0.2576\n",
      "Epoch: 106   Train loss: 0.0471   Train accuracy: 0.949   Val loss: 0.1813   Val accuracy: 0.665    weighted Val loss: 0.2572\n",
      "Epoch: 107   Train loss: 0.0492   Train accuracy: 0.928   Val loss: 0.1603   Val accuracy: 0.695    weighted Val loss: 0.2567\n",
      "0.695 ----------saved-----------\n",
      "Epoch: 108   Train loss: 0.0493   Train accuracy: 0.945   Val loss: 0.1721   Val accuracy: 0.672    weighted Val loss: 0.2563\n",
      "Epoch: 109   Train loss: 0.0457   Train accuracy: 0.954   Val loss: 0.1581   Val accuracy: 0.693    weighted Val loss: 0.2558\n",
      "Epoch: 110   Train loss: 0.0478   Train accuracy: 0.943   Val loss: 0.1642   Val accuracy: 0.681    weighted Val loss: 0.2553\n",
      "Epoch: 111   Train loss: 0.0471   Train accuracy: 0.933   Val loss: 0.1617   Val accuracy: 0.676    weighted Val loss: 0.2549\n",
      "Epoch: 112   Train loss: 0.0467   Train accuracy: 0.956   Val loss: 0.1599   Val accuracy: 0.694    weighted Val loss: 0.2544\n",
      "Epoch: 113   Train loss: 0.0463   Train accuracy: 0.947   Val loss: 0.1667   Val accuracy: 0.666    weighted Val loss: 0.254\n",
      "Epoch: 114   Train loss: 0.0441   Train accuracy: 0.955   Val loss: 0.1653   Val accuracy: 0.668    weighted Val loss: 0.2535\n",
      "Epoch: 115   Train loss: 0.044   Train accuracy: 0.954   Val loss: 0.164   Val accuracy: 0.682    weighted Val loss: 0.2531\n",
      "Epoch: 116   Train loss: 0.0438   Train accuracy: 0.945   Val loss: 0.1673   Val accuracy: 0.677    weighted Val loss: 0.2526\n",
      "Epoch: 117   Train loss: 0.045   Train accuracy: 0.964   Val loss: 0.1574   Val accuracy: 0.689    weighted Val loss: 0.2522\n",
      "Epoch: 118   Train loss: 0.0448   Train accuracy: 0.949   Val loss: 0.1645   Val accuracy: 0.687    weighted Val loss: 0.2517\n",
      "Epoch: 119   Train loss: 0.0449   Train accuracy: 0.966   Val loss: 0.1543   Val accuracy: 0.699    weighted Val loss: 0.2512\n",
      "0.699 ----------saved-----------\n",
      "Epoch: 120   Train loss: 0.049   Train accuracy: 0.922   Val loss: 0.176   Val accuracy: 0.667    weighted Val loss: 0.2509\n",
      "Epoch: 121   Train loss: 0.0483   Train accuracy: 0.951   Val loss: 0.1682   Val accuracy: 0.675    weighted Val loss: 0.2504\n",
      "Epoch: 122   Train loss: 0.0473   Train accuracy: 0.932   Val loss: 0.1537   Val accuracy: 0.691    weighted Val loss: 0.25\n",
      "Epoch: 123   Train loss: 0.0448   Train accuracy: 0.957   Val loss: 0.1615   Val accuracy: 0.687    weighted Val loss: 0.2495\n",
      "Epoch: 124   Train loss: 0.0435   Train accuracy: 0.956   Val loss: 0.174   Val accuracy: 0.678    weighted Val loss: 0.2491\n",
      "Epoch: 125   Train loss: 0.0447   Train accuracy: 0.955   Val loss: 0.1592   Val accuracy: 0.69    weighted Val loss: 0.2487\n",
      "Epoch: 126   Train loss: 0.0452   Train accuracy: 0.95   Val loss: 0.1624   Val accuracy: 0.674    weighted Val loss: 0.2483\n",
      "Epoch: 127   Train loss: 0.0438   Train accuracy: 0.963   Val loss: 0.174   Val accuracy: 0.663    weighted Val loss: 0.2479\n",
      "Epoch: 128   Train loss: 0.0469   Train accuracy: 0.944   Val loss: 0.1597   Val accuracy: 0.682    weighted Val loss: 0.2475\n",
      "Epoch: 129   Train loss: 0.0442   Train accuracy: 0.948   Val loss: 0.1596   Val accuracy: 0.689    weighted Val loss: 0.247\n",
      "Epoch: 130   Train loss: 0.0444   Train accuracy: 0.963   Val loss: 0.1591   Val accuracy: 0.685    weighted Val loss: 0.2466\n",
      "Epoch: 131   Train loss: 0.0447   Train accuracy: 0.951   Val loss: 0.1588   Val accuracy: 0.686    weighted Val loss: 0.2461\n",
      "Epoch: 132   Train loss: 0.0435   Train accuracy: 0.957   Val loss: 0.1545   Val accuracy: 0.693    weighted Val loss: 0.2457\n",
      "Epoch: 133   Train loss: 0.0426   Train accuracy: 0.969   Val loss: 0.1755   Val accuracy: 0.668    weighted Val loss: 0.2453\n",
      "Epoch: 134   Train loss: 0.0455   Train accuracy: 0.937   Val loss: 0.1649   Val accuracy: 0.678    weighted Val loss: 0.2449\n",
      "Epoch: 135   Train loss: 0.0453   Train accuracy: 0.961   Val loss: 0.1614   Val accuracy: 0.702    weighted Val loss: 0.2445\n",
      "0.702 ----------saved-----------\n",
      "Epoch: 136   Train loss: 0.0427   Train accuracy: 0.964   Val loss: 0.1635   Val accuracy: 0.678    weighted Val loss: 0.2441\n",
      "Epoch: 137   Train loss: 0.0455   Train accuracy: 0.959   Val loss: 0.1831   Val accuracy: 0.664    weighted Val loss: 0.2438\n",
      "Epoch: 138   Train loss: 0.049   Train accuracy: 0.918   Val loss: 0.1628   Val accuracy: 0.695    weighted Val loss: 0.2434\n",
      "Epoch: 139   Train loss: 0.047   Train accuracy: 0.951   Val loss: 0.1688   Val accuracy: 0.676    weighted Val loss: 0.243\n",
      "Epoch: 140   Train loss: 0.0433   Train accuracy: 0.956   Val loss: 0.1606   Val accuracy: 0.691    weighted Val loss: 0.2426\n",
      "Epoch: 141   Train loss: 0.0442   Train accuracy: 0.961   Val loss: 0.1597   Val accuracy: 0.673    weighted Val loss: 0.2422\n",
      "Epoch: 142   Train loss: 0.0442   Train accuracy: 0.958   Val loss: 0.1657   Val accuracy: 0.673    weighted Val loss: 0.2418\n",
      "Epoch: 143   Train loss: 0.0426   Train accuracy: 0.963   Val loss: 0.1635   Val accuracy: 0.679    weighted Val loss: 0.2414\n",
      "Epoch: 144   Train loss: 0.0427   Train accuracy: 0.967   Val loss: 0.1661   Val accuracy: 0.672    weighted Val loss: 0.241\n",
      "Epoch: 145   Train loss: 0.0427   Train accuracy: 0.953   Val loss: 0.1572   Val accuracy: 0.69    weighted Val loss: 0.2406\n",
      "Epoch: 146   Train loss: 0.0426   Train accuracy: 0.968   Val loss: 0.1616   Val accuracy: 0.68    weighted Val loss: 0.2402\n",
      "Epoch: 147   Train loss: 0.0434   Train accuracy: 0.94   Val loss: 0.1764   Val accuracy: 0.665    weighted Val loss: 0.2399\n",
      "Epoch: 148   Train loss: 0.0451   Train accuracy: 0.959   Val loss: 0.1558   Val accuracy: 0.688    weighted Val loss: 0.2395\n",
      "Epoch: 149   Train loss: 0.0469   Train accuracy: 0.939   Val loss: 0.1647   Val accuracy: 0.671    weighted Val loss: 0.2391\n",
      "Epoch: 150   Train loss: 0.0439   Train accuracy: 0.969   Val loss: 0.1589   Val accuracy: 0.683    weighted Val loss: 0.2387\n",
      "Epoch: 151   Train loss: 0.0419   Train accuracy: 0.965   Val loss: 0.1611   Val accuracy: 0.679    weighted Val loss: 0.2383\n",
      "Epoch: 152   Train loss: 0.0417   Train accuracy: 0.97   Val loss: 0.1598   Val accuracy: 0.681    weighted Val loss: 0.2379\n",
      "Epoch: 153   Train loss: 0.0428   Train accuracy: 0.964   Val loss: 0.1652   Val accuracy: 0.672    weighted Val loss: 0.2376\n",
      "Epoch: 154   Train loss: 0.0432   Train accuracy: 0.946   Val loss: 0.1552   Val accuracy: 0.694    weighted Val loss: 0.2372\n",
      "Epoch: 155   Train loss: 0.0427   Train accuracy: 0.971   Val loss: 0.1611   Val accuracy: 0.68    weighted Val loss: 0.2368\n",
      "Epoch: 156   Train loss: 0.0431   Train accuracy: 0.957   Val loss: 0.1649   Val accuracy: 0.677    weighted Val loss: 0.2364\n",
      "Epoch: 157   Train loss: 0.0431   Train accuracy: 0.959   Val loss: 0.1565   Val accuracy: 0.685    weighted Val loss: 0.236\n",
      "Epoch: 158   Train loss: 0.042   Train accuracy: 0.96   Val loss: 0.1594   Val accuracy: 0.679    weighted Val loss: 0.2356\n",
      "Epoch: 159   Train loss: 0.0444   Train accuracy: 0.959   Val loss: 0.177   Val accuracy: 0.674    weighted Val loss: 0.2353\n",
      "Epoch: 160   Train loss: 0.0465   Train accuracy: 0.934   Val loss: 0.1569   Val accuracy: 0.694    weighted Val loss: 0.2349\n",
      "Epoch: 161   Train loss: 0.0451   Train accuracy: 0.961   Val loss: 0.1635   Val accuracy: 0.676    weighted Val loss: 0.2346\n",
      "Epoch: 162   Train loss: 0.043   Train accuracy: 0.957   Val loss: 0.1571   Val accuracy: 0.684    weighted Val loss: 0.2342\n",
      "Epoch: 163   Train loss: 0.0435   Train accuracy: 0.964   Val loss: 0.1587   Val accuracy: 0.696    weighted Val loss: 0.2338\n",
      "Epoch: 164   Train loss: 0.0422   Train accuracy: 0.964   Val loss: 0.1649   Val accuracy: 0.678    weighted Val loss: 0.2335\n",
      "Epoch: 165   Train loss: 0.0421   Train accuracy: 0.97   Val loss: 0.1675   Val accuracy: 0.676    weighted Val loss: 0.2331\n",
      "Epoch: 166   Train loss: 0.0427   Train accuracy: 0.961   Val loss: 0.1631   Val accuracy: 0.675    weighted Val loss: 0.2328\n",
      "Epoch: 167   Train loss: 0.0429   Train accuracy: 0.966   Val loss: 0.1668   Val accuracy: 0.684    weighted Val loss: 0.2325\n",
      "Epoch: 168   Train loss: 0.0439   Train accuracy: 0.947   Val loss: 0.1618   Val accuracy: 0.676    weighted Val loss: 0.2321\n",
      "Epoch: 169   Train loss: 0.0429   Train accuracy: 0.966   Val loss: 0.1612   Val accuracy: 0.684    weighted Val loss: 0.2318\n",
      "Epoch: 170   Train loss: 0.0418   Train accuracy: 0.969   Val loss: 0.1659   Val accuracy: 0.67    weighted Val loss: 0.2314\n",
      "Epoch: 171   Train loss: 0.0426   Train accuracy: 0.971   Val loss: 0.1597   Val accuracy: 0.677    weighted Val loss: 0.2311\n",
      "Epoch: 172   Train loss: 0.0431   Train accuracy: 0.965   Val loss: 0.1593   Val accuracy: 0.684    weighted Val loss: 0.2307\n",
      "Epoch: 173   Train loss: 0.0441   Train accuracy: 0.953   Val loss: 0.1636   Val accuracy: 0.675    weighted Val loss: 0.2304\n",
      "Epoch: 174   Train loss: 0.0436   Train accuracy: 0.962   Val loss: 0.1556   Val accuracy: 0.689    weighted Val loss: 0.23\n",
      "Epoch: 175   Train loss: 0.0446   Train accuracy: 0.952   Val loss: 0.1604   Val accuracy: 0.686    weighted Val loss: 0.2297\n",
      "Epoch: 176   Train loss: 0.041   Train accuracy: 0.971   Val loss: 0.1574   Val accuracy: 0.681    weighted Val loss: 0.2293\n",
      "Epoch: 177   Train loss: 0.0434   Train accuracy: 0.959   Val loss: 0.1657   Val accuracy: 0.675    weighted Val loss: 0.229\n",
      "Epoch: 178   Train loss: 0.0425   Train accuracy: 0.966   Val loss: 0.1602   Val accuracy: 0.684    weighted Val loss: 0.2286\n",
      "Epoch: 179   Train loss: 0.0414   Train accuracy: 0.959   Val loss: 0.1729   Val accuracy: 0.668    weighted Val loss: 0.2284\n",
      "Epoch: 180   Train loss: 0.042   Train accuracy: 0.963   Val loss: 0.1597   Val accuracy: 0.687    weighted Val loss: 0.228\n",
      "Epoch: 181   Train loss: 0.0415   Train accuracy: 0.972   Val loss: 0.1612   Val accuracy: 0.683    weighted Val loss: 0.2277\n",
      "Epoch: 182   Train loss: 0.0431   Train accuracy: 0.965   Val loss: 0.1649   Val accuracy: 0.68    weighted Val loss: 0.2274\n",
      "Epoch: 183   Train loss: 0.043   Train accuracy: 0.962   Val loss: 0.1575   Val accuracy: 0.688    weighted Val loss: 0.227\n",
      "Epoch: 184   Train loss: 0.0437   Train accuracy: 0.96   Val loss: 0.1763   Val accuracy: 0.663    weighted Val loss: 0.2268\n",
      "Epoch: 185   Train loss: 0.0476   Train accuracy: 0.962   Val loss: 0.1515   Val accuracy: 0.692    weighted Val loss: 0.2264\n",
      "Epoch: 186   Train loss: 0.0455   Train accuracy: 0.945   Val loss: 0.1656   Val accuracy: 0.682    weighted Val loss: 0.2261\n",
      "Epoch: 187   Train loss: 0.0427   Train accuracy: 0.968   Val loss: 0.1629   Val accuracy: 0.683    weighted Val loss: 0.2258\n",
      "Epoch: 188   Train loss: 0.0434   Train accuracy: 0.956   Val loss: 0.1651   Val accuracy: 0.675    weighted Val loss: 0.2255\n",
      "Epoch: 189   Train loss: 0.045   Train accuracy: 0.964   Val loss: 0.1573   Val accuracy: 0.688    weighted Val loss: 0.2251\n",
      "Epoch: 190   Train loss: 0.042   Train accuracy: 0.959   Val loss: 0.1604   Val accuracy: 0.69    weighted Val loss: 0.2248\n",
      "Epoch: 191   Train loss: 0.0412   Train accuracy: 0.967   Val loss: 0.1577   Val accuracy: 0.684    weighted Val loss: 0.2245\n",
      "Epoch: 192   Train loss: 0.0417   Train accuracy: 0.973   Val loss: 0.1586   Val accuracy: 0.684    weighted Val loss: 0.2241\n",
      "Epoch: 193   Train loss: 0.0409   Train accuracy: 0.964   Val loss: 0.1686   Val accuracy: 0.676    weighted Val loss: 0.2239\n",
      "Epoch: 194   Train loss: 0.0418   Train accuracy: 0.967   Val loss: 0.1554   Val accuracy: 0.691    weighted Val loss: 0.2235\n",
      "Epoch: 195   Train loss: 0.0407   Train accuracy: 0.971   Val loss: 0.1719   Val accuracy: 0.661    weighted Val loss: 0.2233\n",
      "Epoch: 196   Train loss: 0.0418   Train accuracy: 0.963   Val loss: 0.1621   Val accuracy: 0.682    weighted Val loss: 0.2229\n",
      "Epoch: 197   Train loss: 0.0412   Train accuracy: 0.965   Val loss: 0.1593   Val accuracy: 0.697    weighted Val loss: 0.2226\n",
      "Epoch: 198   Train loss: 0.042   Train accuracy: 0.965   Val loss: 0.1564   Val accuracy: 0.681    weighted Val loss: 0.2223\n",
      "Epoch: 199   Train loss: 0.0421   Train accuracy: 0.967   Val loss: 0.166   Val accuracy: 0.676    weighted Val loss: 0.222\n",
      "Epoch: 200   Train loss: 0.0418   Train accuracy: 0.955   Val loss: 0.1608   Val accuracy: 0.676    weighted Val loss: 0.2217\n",
      "Epoch: 201   Train loss: 0.0418   Train accuracy: 0.969   Val loss: 0.1578   Val accuracy: 0.677    weighted Val loss: 0.2214\n",
      "Epoch: 202   Train loss: 0.0427   Train accuracy: 0.953   Val loss: 0.17   Val accuracy: 0.681    weighted Val loss: 0.2211\n",
      "Epoch: 203   Train loss: 0.0443   Train accuracy: 0.921   Val loss: 0.1647   Val accuracy: 0.678    weighted Val loss: 0.2209\n",
      "Epoch: 204   Train loss: 0.0416   Train accuracy: 0.966   Val loss: 0.1568   Val accuracy: 0.687    weighted Val loss: 0.2205\n",
      "Epoch: 205   Train loss: 0.0417   Train accuracy: 0.972   Val loss: 0.1566   Val accuracy: 0.689    weighted Val loss: 0.2202\n",
      "Epoch: 206   Train loss: 0.0435   Train accuracy: 0.952   Val loss: 0.1575   Val accuracy: 0.683    weighted Val loss: 0.2199\n",
      "Epoch: 207   Train loss: 0.0433   Train accuracy: 0.966   Val loss: 0.1584   Val accuracy: 0.697    weighted Val loss: 0.2196\n",
      "Epoch: 208   Train loss: 0.0428   Train accuracy: 0.957   Val loss: 0.1641   Val accuracy: 0.677    weighted Val loss: 0.2193\n",
      "Epoch: 209   Train loss: 0.0444   Train accuracy: 0.966   Val loss: 0.1584   Val accuracy: 0.696    weighted Val loss: 0.219\n",
      "Epoch: 210   Train loss: 0.0427   Train accuracy: 0.961   Val loss: 0.1623   Val accuracy: 0.691    weighted Val loss: 0.2187\n",
      "Epoch: 211   Train loss: 0.0415   Train accuracy: 0.963   Val loss: 0.1574   Val accuracy: 0.682    weighted Val loss: 0.2184\n",
      "Epoch: 212   Train loss: 0.0421   Train accuracy: 0.957   Val loss: 0.1576   Val accuracy: 0.692    weighted Val loss: 0.2181\n",
      "Epoch: 213   Train loss: 0.0418   Train accuracy: 0.966   Val loss: 0.1613   Val accuracy: 0.692    weighted Val loss: 0.2178\n",
      "Epoch: 214   Train loss: 0.0418   Train accuracy: 0.961   Val loss: 0.1632   Val accuracy: 0.68    weighted Val loss: 0.2176\n",
      "Epoch: 215   Train loss: 0.0416   Train accuracy: 0.963   Val loss: 0.1588   Val accuracy: 0.68    weighted Val loss: 0.2173\n",
      "Epoch: 216   Train loss: 0.0424   Train accuracy: 0.974   Val loss: 0.1667   Val accuracy: 0.679    weighted Val loss: 0.217\n",
      "Epoch: 217   Train loss: 0.0421   Train accuracy: 0.966   Val loss: 0.1598   Val accuracy: 0.684    weighted Val loss: 0.2167\n",
      "Epoch: 218   Train loss: 0.0409   Train accuracy: 0.973   Val loss: 0.1706   Val accuracy: 0.661    weighted Val loss: 0.2165\n",
      "Epoch: 219   Train loss: 0.0428   Train accuracy: 0.956   Val loss: 0.1553   Val accuracy: 0.689    weighted Val loss: 0.2162\n",
      "Epoch: 220   Train loss: 0.0417   Train accuracy: 0.972   Val loss: 0.1707   Val accuracy: 0.677    weighted Val loss: 0.216\n",
      "Epoch: 221   Train loss: 0.0423   Train accuracy: 0.962   Val loss: 0.1662   Val accuracy: 0.684    weighted Val loss: 0.2157\n",
      "Epoch: 222   Train loss: 0.0421   Train accuracy: 0.957   Val loss: 0.1676   Val accuracy: 0.678    weighted Val loss: 0.2155\n",
      "Epoch: 223   Train loss: 0.0414   Train accuracy: 0.962   Val loss: 0.1583   Val accuracy: 0.688    weighted Val loss: 0.2152\n",
      "Epoch: 224   Train loss: 0.0425   Train accuracy: 0.97   Val loss: 0.1687   Val accuracy: 0.673    weighted Val loss: 0.215\n",
      "Epoch: 225   Train loss: 0.0424   Train accuracy: 0.956   Val loss: 0.1545   Val accuracy: 0.69    weighted Val loss: 0.2147\n",
      "Epoch: 226   Train loss: 0.0436   Train accuracy: 0.967   Val loss: 0.1568   Val accuracy: 0.69    weighted Val loss: 0.2144\n",
      "Epoch: 227   Train loss: 0.0409   Train accuracy: 0.962   Val loss: 0.1631   Val accuracy: 0.677    weighted Val loss: 0.2141\n",
      "Epoch: 228   Train loss: 0.0425   Train accuracy: 0.975   Val loss: 0.1633   Val accuracy: 0.684    weighted Val loss: 0.2139\n",
      "Epoch: 229   Train loss: 0.0411   Train accuracy: 0.962   Val loss: 0.158   Val accuracy: 0.686    weighted Val loss: 0.2136\n",
      "Epoch: 230   Train loss: 0.042   Train accuracy: 0.959   Val loss: 0.17   Val accuracy: 0.669    weighted Val loss: 0.2134\n",
      "Epoch: 231   Train loss: 0.0414   Train accuracy: 0.968   Val loss: 0.1621   Val accuracy: 0.675    weighted Val loss: 0.2131\n",
      "Epoch: 232   Train loss: 0.0408   Train accuracy: 0.97   Val loss: 0.1613   Val accuracy: 0.681    weighted Val loss: 0.2128\n",
      "Epoch: 233   Train loss: 0.0404   Train accuracy: 0.967   Val loss: 0.1645   Val accuracy: 0.675    weighted Val loss: 0.2126\n",
      "Epoch: 234   Train loss: 0.0403   Train accuracy: 0.97   Val loss: 0.1605   Val accuracy: 0.686    weighted Val loss: 0.2123\n",
      "Epoch: 235   Train loss: 0.041   Train accuracy: 0.973   Val loss: 0.1595   Val accuracy: 0.692    weighted Val loss: 0.2121\n",
      "Epoch: 236   Train loss: 0.0412   Train accuracy: 0.962   Val loss: 0.158   Val accuracy: 0.693    weighted Val loss: 0.2118\n",
      "Epoch: 237   Train loss: 0.0414   Train accuracy: 0.98   Val loss: 0.1566   Val accuracy: 0.688    weighted Val loss: 0.2115\n",
      "Epoch: 238   Train loss: 0.0415   Train accuracy: 0.964   Val loss: 0.1583   Val accuracy: 0.679    weighted Val loss: 0.2113\n",
      "Epoch: 239   Train loss: 0.0422   Train accuracy: 0.966   Val loss: 0.1687   Val accuracy: 0.662    weighted Val loss: 0.211\n",
      "Epoch: 240   Train loss: 0.0411   Train accuracy: 0.962   Val loss: 0.1602   Val accuracy: 0.678    weighted Val loss: 0.2108\n",
      "Epoch: 241   Train loss: 0.0415   Train accuracy: 0.974   Val loss: 0.1702   Val accuracy: 0.667    weighted Val loss: 0.2106\n",
      "Epoch: 242   Train loss: 0.0418   Train accuracy: 0.955   Val loss: 0.1564   Val accuracy: 0.696    weighted Val loss: 0.2103\n",
      "Epoch: 243   Train loss: 0.0412   Train accuracy: 0.96   Val loss: 0.1623   Val accuracy: 0.682    weighted Val loss: 0.2101\n",
      "Epoch: 244   Train loss: 0.0415   Train accuracy: 0.963   Val loss: 0.1581   Val accuracy: 0.687    weighted Val loss: 0.2098\n",
      "Epoch: 245   Train loss: 0.0419   Train accuracy: 0.945   Val loss: 0.1701   Val accuracy: 0.678    weighted Val loss: 0.2096\n",
      "Epoch: 246   Train loss: 0.0419   Train accuracy: 0.951   Val loss: 0.1623   Val accuracy: 0.679    weighted Val loss: 0.2094\n",
      "Epoch: 247   Train loss: 0.0409   Train accuracy: 0.97   Val loss: 0.1648   Val accuracy: 0.685    weighted Val loss: 0.2092\n",
      "Epoch: 248   Train loss: 0.0408   Train accuracy: 0.965   Val loss: 0.155   Val accuracy: 0.686    weighted Val loss: 0.2089\n",
      "Epoch: 249   Train loss: 0.0416   Train accuracy: 0.963   Val loss: 0.1636   Val accuracy: 0.683    weighted Val loss: 0.2087\n",
      "Epoch: 250   Train loss: 0.0421   Train accuracy: 0.946   Val loss: 0.159   Val accuracy: 0.686    weighted Val loss: 0.2084\n",
      "Epoch: 251   Train loss: 0.0429   Train accuracy: 0.966   Val loss: 0.1754   Val accuracy: 0.664    weighted Val loss: 0.2083\n",
      "Epoch: 252   Train loss: 0.0463   Train accuracy: 0.951   Val loss: 0.1582   Val accuracy: 0.692    weighted Val loss: 0.208\n",
      "Epoch: 253   Train loss: 0.0446   Train accuracy: 0.95   Val loss: 0.1547   Val accuracy: 0.69    weighted Val loss: 0.2077\n",
      "Epoch: 254   Train loss: 0.0424   Train accuracy: 0.96   Val loss: 0.1648   Val accuracy: 0.676    weighted Val loss: 0.2075\n",
      "Epoch: 255   Train loss: 0.0418   Train accuracy: 0.976   Val loss: 0.1573   Val accuracy: 0.691    weighted Val loss: 0.2073\n",
      "Epoch: 256   Train loss: 0.0416   Train accuracy: 0.969   Val loss: 0.1646   Val accuracy: 0.672    weighted Val loss: 0.2071\n",
      "Epoch: 257   Train loss: 0.0419   Train accuracy: 0.968   Val loss: 0.1607   Val accuracy: 0.68    weighted Val loss: 0.2068\n",
      "Epoch: 258   Train loss: 0.0408   Train accuracy: 0.975   Val loss: 0.1799   Val accuracy: 0.669    weighted Val loss: 0.2067\n",
      "Epoch: 259   Train loss: 0.0428   Train accuracy: 0.958   Val loss: 0.1602   Val accuracy: 0.68    weighted Val loss: 0.2065\n",
      "Epoch: 260   Train loss: 0.0415   Train accuracy: 0.974   Val loss: 0.161   Val accuracy: 0.677    weighted Val loss: 0.2062\n",
      "Epoch: 261   Train loss: 0.0419   Train accuracy: 0.959   Val loss: 0.1631   Val accuracy: 0.682    weighted Val loss: 0.206\n",
      "Epoch: 262   Train loss: 0.0405   Train accuracy: 0.964   Val loss: 0.1569   Val accuracy: 0.694    weighted Val loss: 0.2058\n",
      "Epoch: 263   Train loss: 0.0418   Train accuracy: 0.969   Val loss: 0.1691   Val accuracy: 0.671    weighted Val loss: 0.2056\n",
      "Epoch: 264   Train loss: 0.042   Train accuracy: 0.969   Val loss: 0.1601   Val accuracy: 0.68    weighted Val loss: 0.2054\n",
      "Epoch: 265   Train loss: 0.0416   Train accuracy: 0.967   Val loss: 0.164   Val accuracy: 0.673    weighted Val loss: 0.2052\n",
      "Epoch: 266   Train loss: 0.0407   Train accuracy: 0.966   Val loss: 0.1575   Val accuracy: 0.692    weighted Val loss: 0.2049\n",
      "Epoch: 267   Train loss: 0.0416   Train accuracy: 0.967   Val loss: 0.161   Val accuracy: 0.68    weighted Val loss: 0.2047\n",
      "Epoch: 268   Train loss: 0.0412   Train accuracy: 0.963   Val loss: 0.1602   Val accuracy: 0.68    weighted Val loss: 0.2045\n",
      "Epoch: 269   Train loss: 0.0409   Train accuracy: 0.968   Val loss: 0.161   Val accuracy: 0.679    weighted Val loss: 0.2043\n",
      "Epoch: 270   Train loss: 0.0416   Train accuracy: 0.968   Val loss: 0.159   Val accuracy: 0.685    weighted Val loss: 0.204\n",
      "Epoch: 271   Train loss: 0.0408   Train accuracy: 0.967   Val loss: 0.1613   Val accuracy: 0.681    weighted Val loss: 0.2038\n",
      "Epoch: 272   Train loss: 0.041   Train accuracy: 0.973   Val loss: 0.1679   Val accuracy: 0.676    weighted Val loss: 0.2036\n",
      "Epoch: 273   Train loss: 0.041   Train accuracy: 0.972   Val loss: 0.1576   Val accuracy: 0.686    weighted Val loss: 0.2034\n",
      "Epoch: 274   Train loss: 0.0405   Train accuracy: 0.974   Val loss: 0.158   Val accuracy: 0.682    weighted Val loss: 0.2032\n",
      "Epoch: 275   Train loss: 0.0401   Train accuracy: 0.962   Val loss: 0.1627   Val accuracy: 0.682    weighted Val loss: 0.203\n",
      "Epoch: 276   Train loss: 0.0413   Train accuracy: 0.956   Val loss: 0.1606   Val accuracy: 0.678    weighted Val loss: 0.2028\n",
      "Epoch: 277   Train loss: 0.0419   Train accuracy: 0.967   Val loss: 0.168   Val accuracy: 0.675    weighted Val loss: 0.2026\n",
      "Epoch: 278   Train loss: 0.0411   Train accuracy: 0.974   Val loss: 0.1591   Val accuracy: 0.694    weighted Val loss: 0.2024\n",
      "Epoch: 279   Train loss: 0.0406   Train accuracy: 0.971   Val loss: 0.1683   Val accuracy: 0.674    weighted Val loss: 0.2022\n",
      "Epoch: 280   Train loss: 0.0408   Train accuracy: 0.967   Val loss: 0.1818   Val accuracy: 0.669    weighted Val loss: 0.2021\n",
      "Epoch: 281   Train loss: 0.0431   Train accuracy: 0.965   Val loss: 0.1587   Val accuracy: 0.684    weighted Val loss: 0.2019\n",
      "Epoch: 282   Train loss: 0.0427   Train accuracy: 0.949   Val loss: 0.168   Val accuracy: 0.675    weighted Val loss: 0.2017\n",
      "Epoch: 283   Train loss: 0.0425   Train accuracy: 0.968   Val loss: 0.1604   Val accuracy: 0.687    weighted Val loss: 0.2015\n",
      "Epoch: 284   Train loss: 0.0406   Train accuracy: 0.964   Val loss: 0.1586   Val accuracy: 0.692    weighted Val loss: 0.2013\n",
      "Epoch: 285   Train loss: 0.0417   Train accuracy: 0.962   Val loss: 0.1666   Val accuracy: 0.693    weighted Val loss: 0.2011\n",
      "Epoch: 286   Train loss: 0.0408   Train accuracy: 0.964   Val loss: 0.1621   Val accuracy: 0.675    weighted Val loss: 0.2009\n",
      "Epoch: 287   Train loss: 0.0412   Train accuracy: 0.96   Val loss: 0.1536   Val accuracy: 0.688    weighted Val loss: 0.2007\n",
      "Epoch: 288   Train loss: 0.0443   Train accuracy: 0.959   Val loss: 0.1776   Val accuracy: 0.668    weighted Val loss: 0.2006\n",
      "Epoch: 289   Train loss: 0.043   Train accuracy: 0.952   Val loss: 0.1674   Val accuracy: 0.685    weighted Val loss: 0.2004\n",
      "Epoch: 290   Train loss: 0.0431   Train accuracy: 0.96   Val loss: 0.1553   Val accuracy: 0.694    weighted Val loss: 0.2002\n",
      "Epoch: 291   Train loss: 0.0457   Train accuracy: 0.945   Val loss: 0.1827   Val accuracy: 0.663    weighted Val loss: 0.2001\n",
      "Epoch: 292   Train loss: 0.0426   Train accuracy: 0.967   Val loss: 0.1574   Val accuracy: 0.681    weighted Val loss: 0.1999\n",
      "Epoch: 293   Train loss: 0.0417   Train accuracy: 0.959   Val loss: 0.1539   Val accuracy: 0.691    weighted Val loss: 0.1996\n",
      "Epoch: 294   Train loss: 0.0418   Train accuracy: 0.973   Val loss: 0.1687   Val accuracy: 0.678    weighted Val loss: 0.1995\n",
      "Epoch: 295   Train loss: 0.0415   Train accuracy: 0.964   Val loss: 0.1603   Val accuracy: 0.692    weighted Val loss: 0.1993\n",
      "Epoch: 296   Train loss: 0.0402   Train accuracy: 0.953   Val loss: 0.1581   Val accuracy: 0.679    weighted Val loss: 0.1991\n",
      "Epoch: 297   Train loss: 0.0404   Train accuracy: 0.971   Val loss: 0.1663   Val accuracy: 0.677    weighted Val loss: 0.1989\n",
      "Epoch: 298   Train loss: 0.0421   Train accuracy: 0.948   Val loss: 0.1555   Val accuracy: 0.698    weighted Val loss: 0.1987\n",
      "Epoch: 299   Train loss: 0.0416   Train accuracy: 0.965   Val loss: 0.1593   Val accuracy: 0.688    weighted Val loss: 0.1985\n",
      "Epoch: 300   Train loss: 0.0426   Train accuracy: 0.959   Val loss: 0.1612   Val accuracy: 0.68    weighted Val loss: 0.1983\n",
      "Epoch: 301   Train loss: 0.0428   Train accuracy: 0.957   Val loss: 0.1685   Val accuracy: 0.672    weighted Val loss: 0.1982\n",
      "Epoch: 302   Train loss: 0.0423   Train accuracy: 0.953   Val loss: 0.1576   Val accuracy: 0.687    weighted Val loss: 0.198\n",
      "Epoch: 303   Train loss: 0.0422   Train accuracy: 0.957   Val loss: 0.1552   Val accuracy: 0.698    weighted Val loss: 0.1978\n",
      "Epoch: 304   Train loss: 0.0411   Train accuracy: 0.976   Val loss: 0.168   Val accuracy: 0.68    weighted Val loss: 0.1976\n",
      "Epoch: 305   Train loss: 0.0415   Train accuracy: 0.961   Val loss: 0.16   Val accuracy: 0.685    weighted Val loss: 0.1974\n",
      "Epoch: 306   Train loss: 0.0412   Train accuracy: 0.962   Val loss: 0.1717   Val accuracy: 0.669    weighted Val loss: 0.1973\n",
      "Epoch: 307   Train loss: 0.042   Train accuracy: 0.949   Val loss: 0.1559   Val accuracy: 0.684    weighted Val loss: 0.1971\n",
      "Epoch: 308   Train loss: 0.0418   Train accuracy: 0.971   Val loss: 0.1585   Val accuracy: 0.682    weighted Val loss: 0.1969\n",
      "Epoch: 309   Train loss: 0.0405   Train accuracy: 0.962   Val loss: 0.1589   Val accuracy: 0.689    weighted Val loss: 0.1967\n",
      "Epoch: 310   Train loss: 0.0412   Train accuracy: 0.969   Val loss: 0.1665   Val accuracy: 0.684    weighted Val loss: 0.1966\n",
      "Epoch: 311   Train loss: 0.042   Train accuracy: 0.954   Val loss: 0.1564   Val accuracy: 0.686    weighted Val loss: 0.1964\n",
      "Epoch: 312   Train loss: 0.0406   Train accuracy: 0.966   Val loss: 0.1617   Val accuracy: 0.681    weighted Val loss: 0.1962\n",
      "Epoch: 313   Train loss: 0.0418   Train accuracy: 0.967   Val loss: 0.1609   Val accuracy: 0.685    weighted Val loss: 0.196\n",
      "Epoch: 314   Train loss: 0.0405   Train accuracy: 0.975   Val loss: 0.1539   Val accuracy: 0.69    weighted Val loss: 0.1958\n",
      "Epoch: 315   Train loss: 0.0425   Train accuracy: 0.952   Val loss: 0.1628   Val accuracy: 0.687    weighted Val loss: 0.1956\n",
      "Epoch: 316   Train loss: 0.0415   Train accuracy: 0.966   Val loss: 0.155   Val accuracy: 0.688    weighted Val loss: 0.1954\n",
      "Epoch: 317   Train loss: 0.0413   Train accuracy: 0.969   Val loss: 0.158   Val accuracy: 0.68    weighted Val loss: 0.1952\n",
      "Epoch: 318   Train loss: 0.041   Train accuracy: 0.97   Val loss: 0.1612   Val accuracy: 0.685    weighted Val loss: 0.1951\n",
      "Epoch: 319   Train loss: 0.0408   Train accuracy: 0.969   Val loss: 0.1566   Val accuracy: 0.687    weighted Val loss: 0.1949\n",
      "Epoch: 320   Train loss: 0.0405   Train accuracy: 0.974   Val loss: 0.1552   Val accuracy: 0.695    weighted Val loss: 0.1947\n",
      "Epoch: 321   Train loss: 0.0409   Train accuracy: 0.976   Val loss: 0.1583   Val accuracy: 0.682    weighted Val loss: 0.1945\n",
      "Epoch: 322   Train loss: 0.0404   Train accuracy: 0.963   Val loss: 0.1611   Val accuracy: 0.679    weighted Val loss: 0.1943\n",
      "Epoch: 323   Train loss: 0.0409   Train accuracy: 0.967   Val loss: 0.1559   Val accuracy: 0.698    weighted Val loss: 0.1941\n",
      "Epoch: 324   Train loss: 0.0404   Train accuracy: 0.97   Val loss: 0.1593   Val accuracy: 0.69    weighted Val loss: 0.194\n",
      "Epoch: 325   Train loss: 0.0415   Train accuracy: 0.972   Val loss: 0.1557   Val accuracy: 0.694    weighted Val loss: 0.1938\n",
      "Epoch: 326   Train loss: 0.042   Train accuracy: 0.964   Val loss: 0.1627   Val accuracy: 0.673    weighted Val loss: 0.1936\n",
      "Epoch: 327   Train loss: 0.0444   Train accuracy: 0.944   Val loss: 0.1627   Val accuracy: 0.684    weighted Val loss: 0.1935\n",
      "Epoch: 328   Train loss: 0.0421   Train accuracy: 0.961   Val loss: 0.1693   Val accuracy: 0.665    weighted Val loss: 0.1933\n",
      "Epoch: 329   Train loss: 0.0461   Train accuracy: 0.946   Val loss: 0.1618   Val accuracy: 0.671    weighted Val loss: 0.1932\n",
      "Epoch: 330   Train loss: 0.0419   Train accuracy: 0.959   Val loss: 0.1747   Val accuracy: 0.669    weighted Val loss: 0.1931\n",
      "Epoch: 331   Train loss: 0.0415   Train accuracy: 0.962   Val loss: 0.1633   Val accuracy: 0.681    weighted Val loss: 0.1929\n",
      "Epoch: 332   Train loss: 0.0401   Train accuracy: 0.968   Val loss: 0.1583   Val accuracy: 0.685    weighted Val loss: 0.1928\n",
      "Epoch: 333   Train loss: 0.0404   Train accuracy: 0.965   Val loss: 0.1558   Val accuracy: 0.692    weighted Val loss: 0.1926\n",
      "Epoch: 334   Train loss: 0.0409   Train accuracy: 0.974   Val loss: 0.1653   Val accuracy: 0.686    weighted Val loss: 0.1924\n",
      "Epoch: 335   Train loss: 0.0404   Train accuracy: 0.973   Val loss: 0.1681   Val accuracy: 0.67    weighted Val loss: 0.1923\n",
      "Epoch: 336   Train loss: 0.0416   Train accuracy: 0.958   Val loss: 0.1646   Val accuracy: 0.68    weighted Val loss: 0.1922\n",
      "Epoch: 337   Train loss: 0.041   Train accuracy: 0.968   Val loss: 0.1539   Val accuracy: 0.693    weighted Val loss: 0.192\n",
      "Epoch: 338   Train loss: 0.0419   Train accuracy: 0.968   Val loss: 0.1627   Val accuracy: 0.678    weighted Val loss: 0.1918\n",
      "Epoch: 339   Train loss: 0.0408   Train accuracy: 0.973   Val loss: 0.1714   Val accuracy: 0.67    weighted Val loss: 0.1917\n",
      "Epoch: 340   Train loss: 0.0429   Train accuracy: 0.948   Val loss: 0.1624   Val accuracy: 0.679    weighted Val loss: 0.1916\n",
      "Epoch: 341   Train loss: 0.0407   Train accuracy: 0.97   Val loss: 0.1637   Val accuracy: 0.675    weighted Val loss: 0.1915\n",
      "Epoch: 342   Train loss: 0.0408   Train accuracy: 0.972   Val loss: 0.1563   Val accuracy: 0.693    weighted Val loss: 0.1913\n",
      "Epoch: 343   Train loss: 0.0404   Train accuracy: 0.964   Val loss: 0.1613   Val accuracy: 0.688    weighted Val loss: 0.1911\n",
      "Epoch: 344   Train loss: 0.0398   Train accuracy: 0.972   Val loss: 0.1555   Val accuracy: 0.688    weighted Val loss: 0.191\n",
      "Epoch: 345   Train loss: 0.0408   Train accuracy: 0.968   Val loss: 0.1577   Val accuracy: 0.678    weighted Val loss: 0.1908\n",
      "Epoch: 346   Train loss: 0.0409   Train accuracy: 0.973   Val loss: 0.1661   Val accuracy: 0.684    weighted Val loss: 0.1907\n",
      "Epoch: 347   Train loss: 0.0405   Train accuracy: 0.961   Val loss: 0.1649   Val accuracy: 0.683    weighted Val loss: 0.1905\n",
      "Epoch: 348   Train loss: 0.0412   Train accuracy: 0.958   Val loss: 0.1592   Val accuracy: 0.682    weighted Val loss: 0.1904\n",
      "Epoch: 349   Train loss: 0.0405   Train accuracy: 0.975   Val loss: 0.1611   Val accuracy: 0.676    weighted Val loss: 0.1902\n",
      "Epoch: 350   Train loss: 0.0403   Train accuracy: 0.97   Val loss: 0.1636   Val accuracy: 0.686    weighted Val loss: 0.1901\n",
      "Epoch: 351   Train loss: 0.0408   Train accuracy: 0.958   Val loss: 0.1688   Val accuracy: 0.681    weighted Val loss: 0.19\n",
      "Epoch: 352   Train loss: 0.0414   Train accuracy: 0.964   Val loss: 0.1568   Val accuracy: 0.683    weighted Val loss: 0.1898\n",
      "Epoch: 353   Train loss: 0.041   Train accuracy: 0.975   Val loss: 0.158   Val accuracy: 0.683    weighted Val loss: 0.1897\n",
      "Epoch: 354   Train loss: 0.0418   Train accuracy: 0.963   Val loss: 0.1684   Val accuracy: 0.669    weighted Val loss: 0.1896\n",
      "Epoch: 355   Train loss: 0.0429   Train accuracy: 0.963   Val loss: 0.1558   Val accuracy: 0.692    weighted Val loss: 0.1894\n",
      "Epoch: 356   Train loss: 0.0433   Train accuracy: 0.968   Val loss: 0.1619   Val accuracy: 0.682    weighted Val loss: 0.1893\n",
      "Epoch: 357   Train loss: 0.0403   Train accuracy: 0.971   Val loss: 0.1657   Val accuracy: 0.675    weighted Val loss: 0.1891\n",
      "Epoch: 358   Train loss: 0.042   Train accuracy: 0.967   Val loss: 0.157   Val accuracy: 0.692    weighted Val loss: 0.189\n",
      "Epoch: 359   Train loss: 0.041   Train accuracy: 0.969   Val loss: 0.1622   Val accuracy: 0.674    weighted Val loss: 0.1888\n",
      "Epoch: 360   Train loss: 0.0414   Train accuracy: 0.962   Val loss: 0.1701   Val accuracy: 0.671    weighted Val loss: 0.1888\n",
      "Epoch: 361   Train loss: 0.0413   Train accuracy: 0.958   Val loss: 0.1536   Val accuracy: 0.695    weighted Val loss: 0.1886\n",
      "Epoch: 362   Train loss: 0.0417   Train accuracy: 0.969   Val loss: 0.1614   Val accuracy: 0.681    weighted Val loss: 0.1884\n",
      "Epoch: 363   Train loss: 0.04   Train accuracy: 0.975   Val loss: 0.1614   Val accuracy: 0.688    weighted Val loss: 0.1883\n",
      "Epoch: 364   Train loss: 0.0411   Train accuracy: 0.971   Val loss: 0.1568   Val accuracy: 0.689    weighted Val loss: 0.1881\n",
      "Epoch: 365   Train loss: 0.0431   Train accuracy: 0.953   Val loss: 0.1617   Val accuracy: 0.687    weighted Val loss: 0.188\n",
      "Epoch: 366   Train loss: 0.0403   Train accuracy: 0.967   Val loss: 0.1614   Val accuracy: 0.676    weighted Val loss: 0.1879\n",
      "Epoch: 367   Train loss: 0.0401   Train accuracy: 0.966   Val loss: 0.1594   Val accuracy: 0.68    weighted Val loss: 0.1877\n",
      "Epoch: 368   Train loss: 0.041   Train accuracy: 0.97   Val loss: 0.176   Val accuracy: 0.673    weighted Val loss: 0.1877\n",
      "Epoch: 369   Train loss: 0.043   Train accuracy: 0.963   Val loss: 0.1589   Val accuracy: 0.683    weighted Val loss: 0.1875\n",
      "Epoch: 370   Train loss: 0.0404   Train accuracy: 0.966   Val loss: 0.1609   Val accuracy: 0.681    weighted Val loss: 0.1874\n",
      "Epoch: 371   Train loss: 0.0411   Train accuracy: 0.977   Val loss: 0.1693   Val accuracy: 0.687    weighted Val loss: 0.1873\n",
      "Epoch: 372   Train loss: 0.0442   Train accuracy: 0.951   Val loss: 0.1595   Val accuracy: 0.686    weighted Val loss: 0.1872\n",
      "Epoch: 373   Train loss: 0.041   Train accuracy: 0.97   Val loss: 0.1606   Val accuracy: 0.68    weighted Val loss: 0.187\n",
      "Epoch: 374   Train loss: 0.0402   Train accuracy: 0.977   Val loss: 0.1783   Val accuracy: 0.669    weighted Val loss: 0.187\n",
      "Epoch: 375   Train loss: 0.0422   Train accuracy: 0.959   Val loss: 0.1531   Val accuracy: 0.693    weighted Val loss: 0.1868\n",
      "Epoch: 376   Train loss: 0.0405   Train accuracy: 0.969   Val loss: 0.1653   Val accuracy: 0.682    weighted Val loss: 0.1867\n",
      "Epoch: 377   Train loss: 0.0402   Train accuracy: 0.964   Val loss: 0.1614   Val accuracy: 0.679    weighted Val loss: 0.1866\n",
      "Epoch: 378   Train loss: 0.0408   Train accuracy: 0.966   Val loss: 0.1607   Val accuracy: 0.68    weighted Val loss: 0.1865\n",
      "Epoch: 379   Train loss: 0.0404   Train accuracy: 0.973   Val loss: 0.159   Val accuracy: 0.69    weighted Val loss: 0.1863\n",
      "Epoch: 380   Train loss: 0.04   Train accuracy: 0.973   Val loss: 0.1551   Val accuracy: 0.692    weighted Val loss: 0.1862\n",
      "Epoch: 381   Train loss: 0.041   Train accuracy: 0.963   Val loss: 0.169   Val accuracy: 0.68    weighted Val loss: 0.1861\n",
      "Epoch: 382   Train loss: 0.0396   Train accuracy: 0.979   Val loss: 0.1593   Val accuracy: 0.688    weighted Val loss: 0.1859\n",
      "Epoch: 383   Train loss: 0.0406   Train accuracy: 0.969   Val loss: 0.1564   Val accuracy: 0.693    weighted Val loss: 0.1858\n",
      "Epoch: 384   Train loss: 0.0402   Train accuracy: 0.974   Val loss: 0.1632   Val accuracy: 0.677    weighted Val loss: 0.1857\n",
      "Epoch: 385   Train loss: 0.0409   Train accuracy: 0.962   Val loss: 0.1629   Val accuracy: 0.68    weighted Val loss: 0.1856\n",
      "Epoch: 386   Train loss: 0.0405   Train accuracy: 0.965   Val loss: 0.1653   Val accuracy: 0.683    weighted Val loss: 0.1855\n",
      "Epoch: 387   Train loss: 0.0416   Train accuracy: 0.959   Val loss: 0.1575   Val accuracy: 0.702    weighted Val loss: 0.1853\n",
      "Epoch: 388   Train loss: 0.0421   Train accuracy: 0.959   Val loss: 0.1662   Val accuracy: 0.67    weighted Val loss: 0.1852\n",
      "Epoch: 389   Train loss: 0.0418   Train accuracy: 0.966   Val loss: 0.1573   Val accuracy: 0.69    weighted Val loss: 0.1851\n",
      "Epoch: 390   Train loss: 0.041   Train accuracy: 0.974   Val loss: 0.1587   Val accuracy: 0.685    weighted Val loss: 0.185\n",
      "Epoch: 391   Train loss: 0.0404   Train accuracy: 0.964   Val loss: 0.1627   Val accuracy: 0.677    weighted Val loss: 0.1849\n",
      "Epoch: 392   Train loss: 0.04   Train accuracy: 0.977   Val loss: 0.1627   Val accuracy: 0.67    weighted Val loss: 0.1847\n",
      "Epoch: 393   Train loss: 0.0404   Train accuracy: 0.967   Val loss: 0.1552   Val accuracy: 0.687    weighted Val loss: 0.1846\n",
      "Epoch: 394   Train loss: 0.041   Train accuracy: 0.968   Val loss: 0.1568   Val accuracy: 0.691    weighted Val loss: 0.1845\n",
      "Epoch: 395   Train loss: 0.0406   Train accuracy: 0.97   Val loss: 0.1622   Val accuracy: 0.679    weighted Val loss: 0.1843\n",
      "Epoch: 396   Train loss: 0.0407   Train accuracy: 0.965   Val loss: 0.1596   Val accuracy: 0.681    weighted Val loss: 0.1842\n",
      "Epoch: 397   Train loss: 0.0406   Train accuracy: 0.963   Val loss: 0.1588   Val accuracy: 0.692    weighted Val loss: 0.1841\n",
      "Epoch: 398   Train loss: 0.0398   Train accuracy: 0.959   Val loss: 0.1583   Val accuracy: 0.685    weighted Val loss: 0.184\n",
      "Epoch: 399   Train loss: 0.0404   Train accuracy: 0.97   Val loss: 0.1577   Val accuracy: 0.698    weighted Val loss: 0.1838\n",
      "Epoch: 400   Train loss: 0.0398   Train accuracy: 0.973   Val loss: 0.1611   Val accuracy: 0.688    weighted Val loss: 0.1837\n",
      "Epoch: 401   Train loss: 0.0399   Train accuracy: 0.965   Val loss: 0.1635   Val accuracy: 0.673    weighted Val loss: 0.1836\n",
      "Epoch: 402   Train loss: 0.0415   Train accuracy: 0.968   Val loss: 0.1615   Val accuracy: 0.676    weighted Val loss: 0.1835\n",
      "Epoch: 403   Train loss: 0.0406   Train accuracy: 0.974   Val loss: 0.1652   Val accuracy: 0.678    weighted Val loss: 0.1834\n",
      "Epoch: 404   Train loss: 0.0404   Train accuracy: 0.972   Val loss: 0.1576   Val accuracy: 0.69    weighted Val loss: 0.1833\n",
      "Epoch: 405   Train loss: 0.0401   Train accuracy: 0.969   Val loss: 0.1644   Val accuracy: 0.687    weighted Val loss: 0.1832\n",
      "Epoch: 406   Train loss: 0.0416   Train accuracy: 0.953   Val loss: 0.1521   Val accuracy: 0.688    weighted Val loss: 0.183\n",
      "Epoch: 407   Train loss: 0.0414   Train accuracy: 0.974   Val loss: 0.1883   Val accuracy: 0.668    weighted Val loss: 0.1831\n"
     ]
    }
   ],
   "source": [
    "MLPparametersGDE = {\n",
    "    'n_layers':2,\n",
    "    'layer_size_factor':[1, 1], \n",
    "    'dropout':[-1, -1],\n",
    "    'batch_size': 128,\n",
    "    'num_epochs': 900,\n",
    "    'learning_rate': 6e-4,\n",
    "    'weight_decay': 5e-3,\n",
    "    'betas': (0.9, 0.999), \n",
    "    'eps': 1e-08\n",
    "}\n",
    "MLPmodelGDE, _,_ = MLP.train_MLP(dm, sim_all[\"GDE_train\"], sim_all[\"GDE_test\"], MLPparametersGDE, acc_fn=MLP.F1, autostop_decay = 0.995, print_summary = True)"
   ]
  },
  {
   "cell_type": "markdown",
   "metadata": {},
   "source": [
    "###### Result"
   ]
  },
  {
   "cell_type": "code",
   "execution_count": 111,
   "metadata": {},
   "outputs": [
    {
     "name": "stdout",
     "output_type": "stream",
     "text": [
      "threshold: 0.05  validation loss: 0.1614 F1 accuracy 0.589 Precision accuracy 0.445 Recall accuracy 0.872 AUC accuracy: 0.873\n",
      "threshold: 0.1  validation loss: 0.1614 F1 accuracy 0.653 Precision accuracy 0.546 Recall accuracy 0.811 AUC accuracy: 0.866\n",
      "threshold: 0.15  validation loss: 0.1614 F1 accuracy 0.684 Precision accuracy 0.611 Recall accuracy 0.777 AUC accuracy: 0.86\n",
      "threshold: 0.2  validation loss: 0.1614 F1 accuracy 0.702 Precision accuracy 0.656 Recall accuracy 0.755 AUC accuracy: 0.854\n",
      "threshold: 0.25  validation loss: 0.1614 F1 accuracy 0.679 Precision accuracy 0.664 Recall accuracy 0.694 AUC accuracy: 0.827\n",
      "threshold: 0.3  validation loss: 0.1614 F1 accuracy 0.681 Precision accuracy 0.698 Recall accuracy 0.664 AUC accuracy: 0.815\n",
      "threshold: 0.35  validation loss: 0.1614 F1 accuracy 0.665 Precision accuracy 0.724 Recall accuracy 0.615 AUC accuracy: 0.794\n",
      "threshold: 0.4  validation loss: 0.1614 F1 accuracy 0.657 Precision accuracy 0.761 Recall accuracy 0.577 AUC accuracy: 0.778\n",
      "threshold: 0.45  validation loss: 0.1614 F1 accuracy 0.652 Precision accuracy 0.798 Recall accuracy 0.551 AUC accuracy: 0.767\n",
      "threshold: 0.5  validation loss: 0.1614 F1 accuracy 0.656 Precision accuracy 0.836 Recall accuracy 0.54 AUC accuracy: 0.764\n",
      "threshold: 0.55  validation loss: 0.1614 F1 accuracy 0.65 Precision accuracy 0.853 Recall accuracy 0.525 AUC accuracy: 0.757\n",
      "threshold: 0.6  validation loss: 0.1614 F1 accuracy 0.635 Precision accuracy 0.864 Recall accuracy 0.502 AUC accuracy: 0.746\n",
      "threshold: 0.65  validation loss: 0.1614 F1 accuracy 0.623 Precision accuracy 0.888 Recall accuracy 0.479 AUC accuracy: 0.736\n",
      "threshold: 0.7  validation loss: 0.1614 F1 accuracy 0.608 Precision accuracy 0.91 Recall accuracy 0.457 AUC accuracy: 0.726\n",
      "threshold: 0.75  validation loss: 0.1614 F1 accuracy 0.596 Precision accuracy 0.935 Recall accuracy 0.438 AUC accuracy: 0.717\n",
      "threshold: 0.8  validation loss: 0.1614 F1 accuracy 0.571 Precision accuracy 0.973 Recall accuracy 0.404 AUC accuracy: 0.701\n",
      "threshold: 0.85  validation loss: 0.1614 F1 accuracy 0.507 Precision accuracy 0.968 Recall accuracy 0.343 AUC accuracy: 0.671\n",
      "threshold: 0.9  validation loss: 0.1614 F1 accuracy 0.435 Precision accuracy 0.987 Recall accuracy 0.279 AUC accuracy: 0.639\n",
      "threshold: 0.95  validation loss: 0.1614 F1 accuracy 0.296 Precision accuracy 1.0 Recall accuracy 0.174 AUC accuracy: 0.587\n"
     ]
    }
   ],
   "source": [
    "for i in range(5,100, 5):\n",
    "    t = i/100;\n",
    "    MLP.eval_mlp(MLPmodelGDE, sim_all[\"GDE_test\"], dm, threshold = t)"
   ]
  },
  {
   "cell_type": "code",
   "execution_count": null,
   "metadata": {},
   "outputs": [],
   "source": []
  },
  {
   "cell_type": "code",
   "execution_count": null,
   "metadata": {},
   "outputs": [],
   "source": []
  }
 ],
 "metadata": {
  "kernelspec": {
   "display_name": "Python 3",
   "language": "python",
   "name": "python3"
  },
  "language_info": {
   "codemirror_mode": {
    "name": "ipython",
    "version": 3
   },
   "file_extension": ".py",
   "mimetype": "text/x-python",
   "name": "python",
   "nbconvert_exporter": "python",
   "pygments_lexer": "ipython3",
   "version": "3.8.5"
  }
 },
 "nbformat": 4,
 "nbformat_minor": 4
}
