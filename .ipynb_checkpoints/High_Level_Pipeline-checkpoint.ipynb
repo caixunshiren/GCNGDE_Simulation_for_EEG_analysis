{
 "cells": [
  {
   "cell_type": "markdown",
   "metadata": {},
   "source": [
    "# High Level Pipline for GCN and GNODE for Brain State Identification"
   ]
  },
  {
   "cell_type": "markdown",
   "metadata": {},
   "source": [
    "## Pipeline Overview"
   ]
  },
  {
   "cell_type": "markdown",
   "metadata": {},
   "source": [
    "### 1.1 Adjacency Matrix Generation ---> **2.1 Unsupervised GCN** ---> 3.1 Supervised MLP"
   ]
  },
  {
   "cell_type": "markdown",
   "metadata": {},
   "source": [
    "### 1.1 Adjacency Matrix Generation ---> **2.2 Unsupervised GNODE** ---> 3.1 Supervised MLP"
   ]
  },
  {
   "cell_type": "markdown",
   "metadata": {},
   "source": [
    "[Introduction and overview should be written here]"
   ]
  },
  {
   "cell_type": "markdown",
   "metadata": {},
   "source": [
    "#### High Level Classes imported:"
   ]
  },
  {
   "cell_type": "markdown",
   "metadata": {},
   "source": [
    "DataManager.py DataManagerUtil.py : [insert description here]"
   ]
  },
  {
   "cell_type": "markdown",
   "metadata": {},
   "source": [
    "GCN.py GCNutil.py : [insert description here]"
   ]
  },
  {
   "cell_type": "markdown",
   "metadata": {},
   "source": [
    "GDE.py GDEutil.py GDEsolvers.py : [insert description here]"
   ]
  },
  {
   "cell_type": "markdown",
   "metadata": {},
   "source": [
    "MLP.py : [insert description here]"
   ]
  },
  {
   "cell_type": "code",
   "execution_count": 1,
   "metadata": {},
   "outputs": [],
   "source": [
    "%reload_ext autoreload\n",
    "%autoreload 2\n",
    "#Custom Files\n",
    "from DataManager import dataManager\n",
    "from DataManagerUtil import *\n",
    "import GCN as GCN\n",
    "import GCNutil as GCNutil\n",
    "import GDE as GDE\n",
    "import GDEutil as GDEutil\n",
    "import GDEsolvers as GDEsolvers\n",
    "import MLP as MLP\n",
    "\n",
    "#Standard Libraries\n",
    "# Torch\n",
    "import torch\n",
    "import torch.autograd\n",
    "import torch.nn as nn\n",
    "import torch.nn.functional as F\n",
    "#Numpy\n",
    "import numpy as np"
   ]
  },
  {
   "cell_type": "markdown",
   "metadata": {},
   "source": [
    "#### Dataset:"
   ]
  },
  {
   "cell_type": "markdown",
   "metadata": {},
   "source": [
    "[A short description here]"
   ]
  },
  {
   "cell_type": "code",
   "execution_count": 26,
   "metadata": {},
   "outputs": [
    {
     "name": "stdout",
     "output_type": "stream",
     "text": [
      "name: X_test\n",
      "shape: (640, 35, 2649)\n",
      "-----------------------\n",
      "name: X_train\n",
      "shape: (640, 35, 2564)\n",
      "-----------------------\n",
      "name: clip_sizes_test\n",
      "shape: (2, 102)\n",
      "-----------------------\n",
      "name: clip_sizes_train\n",
      "shape: (2, 101)\n",
      "-----------------------\n",
      "name: conv_sizes\n",
      "shape: (1, 1)\n",
      "-----------------------\n",
      "name: n_pre_szr\n",
      "shape: (1, 1)\n",
      "-----------------------\n",
      "name: sel_win_nums_test\n",
      "shape: (1, 2649)\n",
      "-----------------------\n",
      "name: sel_win_nums_train\n",
      "shape: (1, 2564)\n",
      "-----------------------\n",
      "name: soz_ch_ids\n",
      "shape: (7, 1)\n",
      "-----------------------\n",
      "name: stride_sec\n",
      "shape: (1, 1)\n",
      "-----------------------\n",
      "name: window_size_sec\n",
      "shape: (1, 1)\n",
      "-----------------------\n",
      "name: y_test\n",
      "shape: (1, 2649)\n",
      "-----------------------\n",
      "name: y_train\n",
      "shape: (1, 2564)\n",
      "-----------------------\n",
      "print sample EGG signal from one node:\n"
     ]
    },
    {
     "data": {
      "image/png": "[encoded data removed]",
      "text/plain": [
       "<Figure size 432x288 with 1 Axes>"
      ]
     },
     "metadata": {
      "needs_background": "light"
     },
     "output_type": "display_data"
    }
   ],
   "source": [
    "#Loading everything from the dataset\n",
    "filepath = 'datasets\\pat_FR_273.mat' #264 253 620 273\n",
    "variables = load_patient_data(filepath, verbose = True)"
   ]
  },
  {
   "cell_type": "code",
   "execution_count": 32,
   "metadata": {
    "collapsed": true,
    "jupyter": {
     "outputs_hidden": true
    }
   },
   "outputs": [
    {
     "ename": "KeyboardInterrupt",
     "evalue": "",
     "output_type": "error",
     "traceback": [
      "\u001b[1;31m---------------------------------------------------------------------------\u001b[0m",
      "\u001b[1;31mKeyboardInterrupt\u001b[0m                         Traceback (most recent call last)",
      "\u001b[1;32m<ipython-input-32-ecfec4f0bfb7>\u001b[0m in \u001b[0;36m<module>\u001b[1;34m\u001b[0m\n\u001b[0;32m      1\u001b[0m \u001b[1;31m#OPTIONAL: Shuffle the dataset\u001b[0m\u001b[1;33m\u001b[0m\u001b[1;33m\u001b[0m\u001b[1;33m\u001b[0m\u001b[0m\n\u001b[1;32m----> 2\u001b[1;33m \u001b[0mvariables\u001b[0m\u001b[1;33m,\u001b[0m \u001b[0mindices\u001b[0m \u001b[1;33m=\u001b[0m \u001b[0mshuffle_train_test\u001b[0m\u001b[1;33m(\u001b[0m\u001b[0mvariables\u001b[0m\u001b[1;33m,\u001b[0m \u001b[0mtrain_ratio\u001b[0m \u001b[1;33m=\u001b[0m \u001b[1;36m0.5\u001b[0m\u001b[1;33m,\u001b[0m \u001b[0mprint_summary\u001b[0m \u001b[1;33m=\u001b[0m \u001b[1;32mTrue\u001b[0m\u001b[1;33m)\u001b[0m\u001b[1;33m\u001b[0m\u001b[1;33m\u001b[0m\u001b[0m\n\u001b[0m",
      "\u001b[1;32m~\\Documents\\GitHub\\GCNGDE_Simulation_for_EGG_analysis\\Full Model\\DataManagerUtil.py\u001b[0m in \u001b[0;36mshuffle_train_test\u001b[1;34m(variables, train_ratio, indices, print_summary)\u001b[0m\n\u001b[0;32m     31\u001b[0m     \u001b[0mtraining_idx\u001b[0m\u001b[1;33m,\u001b[0m \u001b[0mtest_idx\u001b[0m \u001b[1;33m=\u001b[0m \u001b[0mindices\u001b[0m\u001b[1;33m[\u001b[0m\u001b[1;33m:\u001b[0m\u001b[0msplit_ind\u001b[0m\u001b[1;33m]\u001b[0m\u001b[1;33m,\u001b[0m \u001b[0mindices\u001b[0m\u001b[1;33m[\u001b[0m\u001b[0msplit_ind\u001b[0m\u001b[1;33m:\u001b[0m\u001b[1;33m]\u001b[0m\u001b[1;33m\u001b[0m\u001b[1;33m\u001b[0m\u001b[0m\n\u001b[0;32m     32\u001b[0m     \u001b[1;31m#print(split_ind, training_idx.shape)\u001b[0m\u001b[1;33m\u001b[0m\u001b[1;33m\u001b[0m\u001b[1;33m\u001b[0m\u001b[0m\n\u001b[1;32m---> 33\u001b[1;33m     \u001b[0mvariables\u001b[0m\u001b[1;33m[\u001b[0m\u001b[1;34m\"X_train\"\u001b[0m\u001b[1;33m]\u001b[0m\u001b[1;33m,\u001b[0m \u001b[0mvariables\u001b[0m\u001b[1;33m[\u001b[0m\u001b[1;34m\"X_test\"\u001b[0m\u001b[1;33m]\u001b[0m \u001b[1;33m=\u001b[0m \u001b[0mdata_all\u001b[0m\u001b[1;33m[\u001b[0m\u001b[1;33m:\u001b[0m\u001b[1;33m,\u001b[0m\u001b[1;33m:\u001b[0m\u001b[1;33m,\u001b[0m\u001b[0mtraining_idx\u001b[0m\u001b[1;33m]\u001b[0m\u001b[1;33m,\u001b[0m \u001b[0mdata_all\u001b[0m\u001b[1;33m[\u001b[0m\u001b[1;33m:\u001b[0m\u001b[1;33m,\u001b[0m\u001b[1;33m:\u001b[0m\u001b[1;33m,\u001b[0m\u001b[0mtest_idx\u001b[0m\u001b[1;33m]\u001b[0m\u001b[1;33m\u001b[0m\u001b[1;33m\u001b[0m\u001b[0m\n\u001b[0m\u001b[0;32m     34\u001b[0m     \u001b[0mvariables\u001b[0m\u001b[1;33m[\u001b[0m\u001b[1;34m\"y_train\"\u001b[0m\u001b[1;33m]\u001b[0m\u001b[1;33m,\u001b[0m \u001b[0mvariables\u001b[0m\u001b[1;33m[\u001b[0m\u001b[1;34m\"y_test\"\u001b[0m\u001b[1;33m]\u001b[0m \u001b[1;33m=\u001b[0m \u001b[0mlabels_all\u001b[0m\u001b[1;33m[\u001b[0m\u001b[1;33m:\u001b[0m\u001b[1;33m,\u001b[0m\u001b[0mtraining_idx\u001b[0m\u001b[1;33m]\u001b[0m\u001b[1;33m,\u001b[0m \u001b[0mlabels_all\u001b[0m\u001b[1;33m[\u001b[0m\u001b[1;33m:\u001b[0m\u001b[1;33m,\u001b[0m\u001b[0mtest_idx\u001b[0m\u001b[1;33m]\u001b[0m\u001b[1;33m\u001b[0m\u001b[1;33m\u001b[0m\u001b[0m\n\u001b[0;32m     35\u001b[0m     \u001b[1;32mif\u001b[0m \u001b[0mprint_summary\u001b[0m\u001b[1;33m:\u001b[0m\u001b[1;33m\u001b[0m\u001b[1;33m\u001b[0m\u001b[0m\n",
      "\u001b[1;31mKeyboardInterrupt\u001b[0m: "
     ]
    }
   ],
   "source": [
    "#OPTIONAL: Shuffle the dataset\n",
    "variables, indices = shuffle_train_test(variables, train_ratio = 0.5, print_summary = True)"
   ]
  },
  {
   "cell_type": "code",
   "execution_count": 101,
   "metadata": {},
   "outputs": [],
   "source": [
    "#OPTIONAL: Remove Overlapping Parts\n",
    "variables = remove_overlap(variables)"
   ]
  },
  {
   "cell_type": "code",
   "execution_count": 5,
   "metadata": {},
   "outputs": [],
   "source": [
    "#save the shuffled indices\n",
    "np.save(\"datasets/indices_253.npy\",indices)"
   ]
  },
  {
   "cell_type": "markdown",
   "metadata": {},
   "source": [
    "$\\;\\;\\;\\;\\;\\;\\;\\;\\;\\;\\;\\;\\;\\;$"
   ]
  },
  {
   "cell_type": "markdown",
   "metadata": {},
   "source": [
    "## 1.1 Adjacency Matrix Generation"
   ]
  },
  {
   "cell_type": "markdown",
   "metadata": {},
   "source": [
    "[short description here]"
   ]
  },
  {
   "cell_type": "markdown",
   "metadata": {},
   "source": [
    "##### 1.1.1 Create the datamanager object that computes the covariance matrix for you."
   ]
  },
  {
   "cell_type": "code",
   "execution_count": 27,
   "metadata": {},
   "outputs": [
    {
     "name": "stdout",
     "output_type": "stream",
     "text": [
      "--------data manager successfully initialized--------\n"
     ]
    }
   ],
   "source": [
    "dm = dataManager(variables[\"X_train\"],variables[\"X_test\"],variables[\"y_train\"],variables[\"y_test\"],10**(-4))"
   ]
  },
  {
   "cell_type": "code",
   "execution_count": 4,
   "metadata": {},
   "outputs": [
    {
     "name": "stdout",
     "output_type": "stream",
     "text": [
      "X_train: shape of(2562, 35, 640)\n",
      "X_test: shape of(2649, 35, 640)\n",
      "Y_train: shape of(2562, 1)\n",
      "Y_test: shape of(2649, 1)\n",
      "A_train: shape of(35, 35)\n",
      "A_test: shape of(35, 35)\n",
      "P_avg_train: shape of(35, 35)\n",
      "P_avg_test: shape of(35, 35)\n",
      "X_train: shape of(2562, 35, 640)\n",
      "X_test: shape of(2649, 35, 640)\n",
      "Y_train: shape of(2562, 1)\n",
      "Y_test: shape of(2649, 1)\n",
      "A_train: shape of(35, 35)\n",
      "A_test: shape of(35, 35)\n",
      "P_avg_train: shape of(35, 35)\n",
      "P_avg_test: shape of(35, 35)\n"
     ]
    }
   ],
   "source": [
    "#reduce redundant nodes\n",
    "#from DataManager import get_label_variance as glv\n",
    "#print(glv(dm.X_train, dm.Y_train))\n",
    "#print(np.argsort(glv(dm.X_train, dm.Y_train)))\n",
    "print(dm)\n",
    "#dm.apply_dvariance_filter(30)\n",
    "print(dm)"
   ]
  },
  {
   "cell_type": "code",
   "execution_count": 5,
   "metadata": {},
   "outputs": [
    {
     "name": "stdout",
     "output_type": "stream",
     "text": [
      "X_train: shape of(2562, 35, 640)\n",
      "X_test: shape of(2649, 35, 640)\n",
      "Y_train: shape of(2562, 1)\n",
      "Y_test: shape of(2649, 1)\n",
      "A_train: shape of(35, 35)\n",
      "A_test: shape of(35, 35)\n",
      "P_avg_train: shape of(35, 35)\n",
      "P_avg_test: shape of(35, 35)\n",
      "X_train: shape of(2562, 35, 640)\n",
      "X_test: shape of(2649, 35, 640)\n",
      "Y_train: shape of(2562, 1)\n",
      "Y_test: shape of(2649, 1)\n",
      "A_train: shape of(35, 35)\n",
      "A_test: shape of(35, 35)\n",
      "P_avg_train: shape of(35, 35)\n",
      "P_avg_test: shape of(35, 35)\n"
     ]
    }
   ],
   "source": [
    "#from DataManager import extend_identity as extend_identity\n",
    "#print(extend_identity(2500,16), extend_identity(2500,16).shape)\n",
    "print(dm)\n",
    "#dm.resize_clip(64)\n",
    "print(dm)"
   ]
  },
  {
   "cell_type": "markdown",
   "metadata": {},
   "source": [
    "##### 1.1.2 Visualize the mean covariance matrix across all training samples"
   ]
  },
  {
   "cell_type": "code",
   "execution_count": 44,
   "metadata": {},
   "outputs": [
    {
     "data": {
      "image/png": "[encoded data removed]",
      "text/plain": [
       "<Figure size 432x288 with 2 Axes>"
      ]
     },
     "metadata": {
      "needs_background": "light"
     },
     "output_type": "display_data"
    }
   ],
   "source": [
    "show_heat_map(dm.P_avg_train)"
   ]
  },
  {
   "cell_type": "markdown",
   "metadata": {},
   "source": [
    "##### 1.1.3 Create DAD from dm by setting the threshold n. repeating this untill a desireble \"n\" value is found."
   ]
  },
  {
   "cell_type": "code",
   "execution_count": 46,
   "metadata": {},
   "outputs": [
    {
     "data": {
      "image/png": "[encoded data removed]",
      "text/plain": [
       "<Figure size 432x288 with 2 Axes>"
      ]
     },
     "metadata": {
      "needs_background": "light"
     },
     "output_type": "display_data"
    },
    {
     "data": {
      "image/png": "[encoded data removed]",
      "text/plain": [
       "<Figure size 432x288 with 2 Axes>"
      ]
     },
     "metadata": {
      "needs_background": "light"
     },
     "output_type": "display_data"
    }
   ],
   "source": [
    "n = 8.5*10**-4\n",
    "dm.re_threshold(n)\n",
    "show_heat_map(dm.A_train)\n",
    "show_heat_map(create_DAD(dm.A_train))\n",
    "Araw = dm.A_train"
   ]
  },
  {
   "cell_type": "markdown",
   "metadata": {},
   "source": [
    "$\\;\\;\\;\\;\\;\\;\\;\\;\\;\\;\\;\\;\\;\\;$"
   ]
  },
  {
   "cell_type": "markdown",
   "metadata": {},
   "source": [
    "## 2.1 Unsupervised Graph Convolutional Neural Network (GCN)"
   ]
  },
  {
   "cell_type": "markdown",
   "metadata": {},
   "source": [
    "[short description here]"
   ]
  },
  {
   "cell_type": "markdown",
   "metadata": {},
   "source": [
    "##### 2.1.1 Declare Parameters for GCN"
   ]
  },
  {
   "cell_type": "code",
   "execution_count": 47,
   "metadata": {},
   "outputs": [
    {
     "name": "stdout",
     "output_type": "stream",
     "text": [
      "{'body': 640, 'M': 2472, 'batch_size': 512, 'n_layers': 2, 'num_epochs': 1, 'learning_rate': 0.001, 'weight_decay': 0.005}\n"
     ]
    }
   ],
   "source": [
    "#create new model\n",
    "A = create_DAD(Araw)\n",
    "X_train = dm.X_train\n",
    "X_test = dm.X_test\n",
    "GCNparameters = {\n",
    "    'body': dm.X_train.shape[2],\n",
    "    'M': dm.X_train.shape[0],\n",
    "    'batch_size': 512,\n",
    "    'n_layers': 2,\n",
    "    'num_epochs': 1,\n",
    "    'learning_rate': 1e-3,\n",
    "    'weight_decay': 5e-3\n",
    "}\n",
    "print(GCNparameters)\n",
    "GCNcheckpoint = {'parameters': GCNparameters}"
   ]
  },
  {
   "cell_type": "markdown",
   "metadata": {},
   "source": [
    "##### 2.1.2 Train GCN"
   ]
  },
  {
   "cell_type": "code",
   "execution_count": 48,
   "metadata": {},
   "outputs": [
    {
     "name": "stderr",
     "output_type": "stream",
     "text": [
      "  0%|          | 0/5 [00:00<?, ?it/s]"
     ]
    },
    {
     "name": "stdout",
     "output_type": "stream",
     "text": [
      "device set to cpu\n"
     ]
    },
    {
     "name": "stderr",
     "output_type": "stream",
     "text": [
      " 20%|██        | 1/5 [00:00<00:03,  1.15it/s]"
     ]
    },
    {
     "name": "stdout",
     "output_type": "stream",
     "text": [
      "Epoch: 1   Batch: 1 of size 512   Train loss: 203.72802734375   Valid loss: 198.31553649902344\r"
     ]
    },
    {
     "name": "stderr",
     "output_type": "stream",
     "text": [
      " 40%|████      | 2/5 [00:01<00:02,  1.14it/s]"
     ]
    },
    {
     "name": "stdout",
     "output_type": "stream",
     "text": [
      "Epoch: 1   Batch: 2 of size 512   Train loss: 198.7748260498047   Valid loss: 200.36178588867188\r"
     ]
    },
    {
     "name": "stderr",
     "output_type": "stream",
     "text": [
      " 60%|██████    | 3/5 [00:02<00:01,  1.14it/s]"
     ]
    },
    {
     "name": "stdout",
     "output_type": "stream",
     "text": [
      "Epoch: 1   Batch: 3 of size 512   Train loss: 200.83544921875   Valid loss: 198.2169189453125\r"
     ]
    },
    {
     "name": "stderr",
     "output_type": "stream",
     "text": [
      " 80%|████████  | 4/5 [00:03<00:00,  1.12it/s]"
     ]
    },
    {
     "name": "stdout",
     "output_type": "stream",
     "text": [
      "Epoch: 1   Batch: 4 of size 512   Train loss: 197.80517578125   Valid loss: 196.1832275390625\r"
     ]
    },
    {
     "name": "stderr",
     "output_type": "stream",
     "text": [
      "100%|██████████| 5/5 [00:04<00:00,  1.13it/s]"
     ]
    },
    {
     "name": "stdout",
     "output_type": "stream",
     "text": [
      "Epoch: 1   Batch: 5 of size 512   Train loss: 195.67898559570312   Valid loss: 196.40139770507812\n"
     ]
    },
    {
     "name": "stderr",
     "output_type": "stream",
     "text": [
      "\n"
     ]
    }
   ],
   "source": [
    "#strongly recommand cpu because it's only one epoch training time and CUDA some times run out of memory if you retrain multiple times\n",
    "device_name = 'cpu'\n",
    "GCNmodel, GCNcheckpoint = GCNutil.train_GCN(A, X_train, X_test, GCNcheckpoint, device_name = device_name, load = False, print_summary = False)"
   ]
  },
  {
   "cell_type": "code",
   "execution_count": 49,
   "metadata": {},
   "outputs": [
    {
     "name": "stdout",
     "output_type": "stream",
     "text": [
      "model saved\n"
     ]
    }
   ],
   "source": [
    "#optional: saving the model\n",
    "GCNutil.save_ckp(GCNcheckpoint, \"models/GCN253_1.pt\")"
   ]
  },
  {
   "cell_type": "markdown",
   "metadata": {},
   "source": [
    "##### 2.1.3 Visualize some simularity matrices generated by GCN (a visual evaluation and sanity check)"
   ]
  },
  {
   "cell_type": "code",
   "execution_count": 50,
   "metadata": {},
   "outputs": [],
   "source": [
    "GCNmodel.eval()\n",
    "test_pred = GCNmodel(torch.from_numpy(X_train[:128, :,:]).float().to(device_name), torch.from_numpy(A).float().to(device_name)).cpu().detach().numpy()"
   ]
  },
  {
   "cell_type": "code",
   "execution_count": 51,
   "metadata": {
    "collapsed": true,
    "jupyter": {
     "outputs_hidden": true
    }
   },
   "outputs": [
    {
     "name": "stdout",
     "output_type": "stream",
     "text": [
      "sample 0   label, 0.0\n"
     ]
    },
    {
     "data": {
      "image/png": "[encoded data removed]",
      "text/plain": [
       "<Figure size 432x288 with 2 Axes>"
      ]
     },
     "metadata": {
      "needs_background": "light"
     },
     "output_type": "display_data"
    },
    {
     "name": "stdout",
     "output_type": "stream",
     "text": [
      "sample 1   label, 0.0\n"
     ]
    },
    {
     "data": {
      "image/png": "[encoded data removed]",
      "text/plain": [
       "<Figure size 432x288 with 2 Axes>"
      ]
     },
     "metadata": {
      "needs_background": "light"
     },
     "output_type": "display_data"
    },
    {
     "name": "stdout",
     "output_type": "stream",
     "text": [
      "sample 2   label, 0.0\n"
     ]
    },
    {
     "data": {
      "image/png": "[encoded data removed]",
      "text/plain": [
       "<Figure size 432x288 with 2 Axes>"
      ]
     },
     "metadata": {
      "needs_background": "light"
     },
     "output_type": "display_data"
    },
    {
     "name": "stdout",
     "output_type": "stream",
     "text": [
      "sample 3   label, 0.0\n"
     ]
    },
    {
     "data": {
      "image/png": "[encoded data removed]",
      "text/plain": [
       "<Figure size 432x288 with 2 Axes>"
      ]
     },
     "metadata": {
      "needs_background": "light"
     },
     "output_type": "display_data"
    },
    {
     "name": "stdout",
     "output_type": "stream",
     "text": [
      "sample 4   label, 1.0\n"
     ]
    },
    {
     "data": {
      "image/png": "[encoded data removed]",
      "text/plain": [
       "<Figure size 432x288 with 2 Axes>"
      ]
     },
     "metadata": {
      "needs_background": "light"
     },
     "output_type": "display_data"
    },
    {
     "name": "stdout",
     "output_type": "stream",
     "text": [
      "sample 5   label, 1.0\n"
     ]
    },
    {
     "data": {
      "image/png": "[encoded data removed]",
      "text/plain": [
       "<Figure size 432x288 with 2 Axes>"
      ]
     },
     "metadata": {
      "needs_background": "light"
     },
     "output_type": "display_data"
    },
    {
     "name": "stdout",
     "output_type": "stream",
     "text": [
      "sample 6   label, 1.0\n"
     ]
    },
    {
     "data": {
      "image/png": "[encoded data removed]",
      "text/plain": [
       "<Figure size 432x288 with 2 Axes>"
      ]
     },
     "metadata": {
      "needs_background": "light"
     },
     "output_type": "display_data"
    },
    {
     "name": "stdout",
     "output_type": "stream",
     "text": [
      "sample 7   label, 1.0\n"
     ]
    },
    {
     "data": {
      "image/png": "[encoded data removed]",
      "text/plain": [
       "<Figure size 432x288 with 2 Axes>"
      ]
     },
     "metadata": {
      "needs_background": "light"
     },
     "output_type": "display_data"
    },
    {
     "name": "stdout",
     "output_type": "stream",
     "text": [
      "sample 8   label, 1.0\n"
     ]
    },
    {
     "data": {
      "image/png": "[encoded data removed]",
      "text/plain": [
       "<Figure size 432x288 with 2 Axes>"
      ]
     },
     "metadata": {
      "needs_background": "light"
     },
     "output_type": "display_data"
    },
    {
     "name": "stdout",
     "output_type": "stream",
     "text": [
      "sample 9   label, 1.0\n"
     ]
    },
    {
     "data": {
      "image/png": "[encoded data removed]",
      "text/plain": [
       "<Figure size 432x288 with 2 Axes>"
      ]
     },
     "metadata": {
      "needs_background": "light"
     },
     "output_type": "display_data"
    }
   ],
   "source": [
    "for i in range(10):\n",
    "    print(\"sample\", i, \"  label,\", dm.Y_train[i,0])\n",
    "    show_heat_map(test_pred[i,:,:])"
   ]
  },
  {
   "cell_type": "markdown",
   "metadata": {},
   "source": [
    "$\\;\\;\\;\\;\\;\\;\\;\\;\\;\\;\\;\\;\\;\\;$"
   ]
  },
  {
   "cell_type": "markdown",
   "metadata": {},
   "source": [
    "## 2.1 Unsupervised Graph Neural Ordinary Differential Equations (GNODE)"
   ]
  },
  {
   "cell_type": "markdown",
   "metadata": {},
   "source": [
    "[short description here]"
   ]
  },
  {
   "cell_type": "markdown",
   "metadata": {},
   "source": [
    "##### 2.2.1 Declare Parameters for GNODE"
   ]
  },
  {
   "cell_type": "code",
   "execution_count": 52,
   "metadata": {},
   "outputs": [],
   "source": [
    "A = create_DAD(Araw)\n",
    "X_train = dm.X_train\n",
    "X_test = dm.X_test\n",
    "GDEparameters = {\n",
    "    'body': dm.X_train.shape[2],\n",
    "    'solver': GDEsolvers.explicit_RK,\n",
    "    'solver_params': {\n",
    "    \"t0\": 0,\n",
    "    \"t1\": 0.25,\n",
    "    \"N\": 5,\n",
    "    \"b_tableau\": GDEsolvers.EF\n",
    "     },\n",
    "    'hidden_layers': 1,\n",
    "    'M': dm.X_train.shape[0],\n",
    "    'batch_size': 128,\n",
    "    'num_epochs': 1,\n",
    "    'learning_rate': 1e-3,\n",
    "    'weight_decay': 5e-3\n",
    "}\n",
    "GDEcheckpoint = {'parameters': GDEparameters}"
   ]
  },
  {
   "cell_type": "markdown",
   "metadata": {},
   "source": [
    "##### 2.2.2 Train GNODE"
   ]
  },
  {
   "cell_type": "code",
   "execution_count": 53,
   "metadata": {},
   "outputs": [
    {
     "name": "stderr",
     "output_type": "stream",
     "text": [
      "  0%|          | 0/20 [00:00<?, ?it/s]"
     ]
    },
    {
     "name": "stdout",
     "output_type": "stream",
     "text": [
      "device set to cpu\n"
     ]
    },
    {
     "name": "stderr",
     "output_type": "stream",
     "text": [
      "  5%|▌         | 1/20 [00:01<00:32,  1.72s/it]"
     ]
    },
    {
     "name": "stdout",
     "output_type": "stream",
     "text": [
      "Epoch: 1   Batch: 1 of size 128   Train loss: 203.7893829345703   Valid loss: 193.70809936523438\r"
     ]
    },
    {
     "name": "stderr",
     "output_type": "stream",
     "text": [
      " 10%|█         | 2/20 [00:03<00:31,  1.73s/it]"
     ]
    },
    {
     "name": "stdout",
     "output_type": "stream",
     "text": [
      "Epoch: 1   Batch: 2 of size 128   Train loss: 193.18740844726562   Valid loss: 196.3955841064453\r"
     ]
    },
    {
     "name": "stderr",
     "output_type": "stream",
     "text": [
      " 15%|█▌        | 3/20 [00:05<00:29,  1.74s/it]"
     ]
    },
    {
     "name": "stdout",
     "output_type": "stream",
     "text": [
      "Epoch: 1   Batch: 3 of size 128   Train loss: 194.20655822753906   Valid loss: 196.39324951171875\r"
     ]
    },
    {
     "name": "stderr",
     "output_type": "stream",
     "text": [
      " 20%|██        | 4/20 [00:07<00:28,  1.75s/it]"
     ]
    },
    {
     "name": "stdout",
     "output_type": "stream",
     "text": [
      "Epoch: 1   Batch: 4 of size 128   Train loss: 195.5555877685547   Valid loss: 191.90066528320312\r"
     ]
    },
    {
     "name": "stderr",
     "output_type": "stream",
     "text": [
      " 25%|██▌       | 5/20 [00:08<00:26,  1.78s/it]"
     ]
    },
    {
     "name": "stdout",
     "output_type": "stream",
     "text": [
      "Epoch: 1   Batch: 5 of size 128   Train loss: 191.4988250732422   Valid loss: 188.414306640625\r"
     ]
    },
    {
     "name": "stderr",
     "output_type": "stream",
     "text": [
      " 30%|███       | 6/20 [00:10<00:24,  1.78s/it]"
     ]
    },
    {
     "name": "stdout",
     "output_type": "stream",
     "text": [
      "Epoch: 1   Batch: 6 of size 128   Train loss: 187.36997985839844   Valid loss: 186.2585906982422\r"
     ]
    },
    {
     "name": "stderr",
     "output_type": "stream",
     "text": [
      " 35%|███▌      | 7/20 [00:12<00:23,  1.80s/it]"
     ]
    },
    {
     "name": "stdout",
     "output_type": "stream",
     "text": [
      "Epoch: 1   Batch: 7 of size 128   Train loss: 186.48330688476562   Valid loss: 186.1141357421875\r"
     ]
    },
    {
     "name": "stderr",
     "output_type": "stream",
     "text": [
      " 40%|████      | 8/20 [00:14<00:21,  1.80s/it]"
     ]
    },
    {
     "name": "stdout",
     "output_type": "stream",
     "text": [
      "Epoch: 1   Batch: 8 of size 128   Train loss: 185.41958618164062   Valid loss: 184.55322265625\r"
     ]
    },
    {
     "name": "stderr",
     "output_type": "stream",
     "text": [
      " 45%|████▌     | 9/20 [00:16<00:19,  1.79s/it]"
     ]
    },
    {
     "name": "stdout",
     "output_type": "stream",
     "text": [
      "Epoch: 1   Batch: 9 of size 128   Train loss: 184.3260955810547   Valid loss: 183.19419860839844\r"
     ]
    },
    {
     "name": "stderr",
     "output_type": "stream",
     "text": [
      " 50%|█████     | 10/20 [00:17<00:17,  1.79s/it]"
     ]
    },
    {
     "name": "stdout",
     "output_type": "stream",
     "text": [
      "Epoch: 1   Batch: 10 of size 128   Train loss: 182.6306915283203   Valid loss: 181.2425537109375\r"
     ]
    },
    {
     "name": "stderr",
     "output_type": "stream",
     "text": [
      " 55%|█████▌    | 11/20 [00:19<00:15,  1.78s/it]"
     ]
    },
    {
     "name": "stdout",
     "output_type": "stream",
     "text": [
      "Epoch: 1   Batch: 11 of size 128   Train loss: 181.911376953125   Valid loss: 179.1485595703125\r"
     ]
    },
    {
     "name": "stderr",
     "output_type": "stream",
     "text": [
      " 60%|██████    | 12/20 [00:21<00:14,  1.78s/it]"
     ]
    },
    {
     "name": "stdout",
     "output_type": "stream",
     "text": [
      "Epoch: 1   Batch: 12 of size 128   Train loss: 180.304931640625   Valid loss: 178.3046417236328\r"
     ]
    },
    {
     "name": "stderr",
     "output_type": "stream",
     "text": [
      " 65%|██████▌   | 13/20 [00:23<00:12,  1.77s/it]"
     ]
    },
    {
     "name": "stdout",
     "output_type": "stream",
     "text": [
      "Epoch: 1   Batch: 13 of size 128   Train loss: 178.60121154785156   Valid loss: 178.28518676757812\r"
     ]
    },
    {
     "name": "stderr",
     "output_type": "stream",
     "text": [
      " 70%|███████   | 14/20 [00:24<00:10,  1.76s/it]"
     ]
    },
    {
     "name": "stdout",
     "output_type": "stream",
     "text": [
      "Epoch: 1   Batch: 14 of size 128   Train loss: 178.5934295654297   Valid loss: 177.3511199951172\r"
     ]
    },
    {
     "name": "stderr",
     "output_type": "stream",
     "text": [
      " 75%|███████▌  | 15/20 [00:26<00:08,  1.76s/it]"
     ]
    },
    {
     "name": "stdout",
     "output_type": "stream",
     "text": [
      "Epoch: 1   Batch: 15 of size 128   Train loss: 178.7059783935547   Valid loss: 177.02560424804688\r"
     ]
    },
    {
     "name": "stderr",
     "output_type": "stream",
     "text": [
      " 80%|████████  | 16/20 [00:28<00:07,  1.77s/it]"
     ]
    },
    {
     "name": "stdout",
     "output_type": "stream",
     "text": [
      "Epoch: 1   Batch: 16 of size 128   Train loss: 177.4247283935547   Valid loss: 175.4449005126953\r"
     ]
    },
    {
     "name": "stderr",
     "output_type": "stream",
     "text": [
      " 85%|████████▌ | 17/20 [00:30<00:05,  1.78s/it]"
     ]
    },
    {
     "name": "stdout",
     "output_type": "stream",
     "text": [
      "Epoch: 1   Batch: 17 of size 128   Train loss: 177.6677703857422   Valid loss: 175.21910095214844\r"
     ]
    },
    {
     "name": "stderr",
     "output_type": "stream",
     "text": [
      " 90%|█████████ | 18/20 [00:31<00:03,  1.78s/it]"
     ]
    },
    {
     "name": "stdout",
     "output_type": "stream",
     "text": [
      "Epoch: 1   Batch: 18 of size 128   Train loss: 176.7770538330078   Valid loss: 172.29702758789062\r"
     ]
    },
    {
     "name": "stderr",
     "output_type": "stream",
     "text": [
      " 95%|█████████▌| 19/20 [00:33<00:01,  1.78s/it]"
     ]
    },
    {
     "name": "stdout",
     "output_type": "stream",
     "text": [
      "Epoch: 1   Batch: 19 of size 128   Train loss: 176.2852325439453   Valid loss: 171.49195861816406\r"
     ]
    },
    {
     "name": "stderr",
     "output_type": "stream",
     "text": [
      "100%|██████████| 20/20 [00:34<00:00,  1.72s/it]"
     ]
    },
    {
     "name": "stdout",
     "output_type": "stream",
     "text": [
      "Epoch: 1   Batch: 20 of size 128   Train loss: 175.7789764404297   Valid loss: 171.45391845703125\n"
     ]
    },
    {
     "name": "stderr",
     "output_type": "stream",
     "text": [
      "\n"
     ]
    }
   ],
   "source": [
    "#strongly recommand cpu because it's only one epoch training time and CUDA some times run out of memory if you retrain multiple times\n",
    "device_name = 'cpu'\n",
    "GDEmodel, GDEcheckpoint = GDEutil.train_GDE(A, X_train, X_test, GDEcheckpoint, device_name = device_name, load = False, print_summary = False)"
   ]
  },
  {
   "cell_type": "code",
   "execution_count": 54,
   "metadata": {},
   "outputs": [
    {
     "name": "stdout",
     "output_type": "stream",
     "text": [
      "model saved\n"
     ]
    }
   ],
   "source": [
    "#optional: saving the model\n",
    "GDEutil.save_ckp(GDEcheckpoint, \"models/GDE253_1.pt\")"
   ]
  },
  {
   "cell_type": "markdown",
   "metadata": {},
   "source": [
    "##### 2.2.3 Visualize some simularity matrices generated by GNODE (a visual evaluation and sanity check)"
   ]
  },
  {
   "cell_type": "code",
   "execution_count": 55,
   "metadata": {},
   "outputs": [],
   "source": [
    "GDEmodel.eval()\n",
    "test_pred = GDEmodel(torch.from_numpy(X_train[:128, :,:]).float().to(device_name)).cpu().detach().numpy()"
   ]
  },
  {
   "cell_type": "code",
   "execution_count": 56,
   "metadata": {
    "collapsed": true,
    "jupyter": {
     "outputs_hidden": true
    }
   },
   "outputs": [
    {
     "name": "stdout",
     "output_type": "stream",
     "text": [
      "sample 0   label, 0.0\n"
     ]
    },
    {
     "data": {
      "image/png": "[encoded data removed]",
      "text/plain": [
       "<Figure size 432x288 with 2 Axes>"
      ]
     },
     "metadata": {
      "needs_background": "light"
     },
     "output_type": "display_data"
    },
    {
     "name": "stdout",
     "output_type": "stream",
     "text": [
      "sample 1   label, 0.0\n"
     ]
    },
    {
     "data": {
      "image/png": "[encoded data removed]",
      "text/plain": [
       "<Figure size 432x288 with 2 Axes>"
      ]
     },
     "metadata": {
      "needs_background": "light"
     },
     "output_type": "display_data"
    },
    {
     "name": "stdout",
     "output_type": "stream",
     "text": [
      "sample 2   label, 0.0\n"
     ]
    },
    {
     "data": {
      "image/png": "[encoded data removed]",
      "text/plain": [
       "<Figure size 432x288 with 2 Axes>"
      ]
     },
     "metadata": {
      "needs_background": "light"
     },
     "output_type": "display_data"
    },
    {
     "name": "stdout",
     "output_type": "stream",
     "text": [
      "sample 3   label, 0.0\n"
     ]
    },
    {
     "data": {
      "image/png": "[encoded data removed]",
      "text/plain": [
       "<Figure size 432x288 with 2 Axes>"
      ]
     },
     "metadata": {
      "needs_background": "light"
     },
     "output_type": "display_data"
    },
    {
     "name": "stdout",
     "output_type": "stream",
     "text": [
      "sample 4   label, 1.0\n"
     ]
    },
    {
     "data": {
      "image/png": "[encoded data removed]",
      "text/plain": [
       "<Figure size 432x288 with 2 Axes>"
      ]
     },
     "metadata": {
      "needs_background": "light"
     },
     "output_type": "display_data"
    },
    {
     "name": "stdout",
     "output_type": "stream",
     "text": [
      "sample 5   label, 1.0\n"
     ]
    },
    {
     "data": {
      "image/png": "[encoded data removed]",
      "text/plain": [
       "<Figure size 432x288 with 2 Axes>"
      ]
     },
     "metadata": {
      "needs_background": "light"
     },
     "output_type": "display_data"
    },
    {
     "name": "stdout",
     "output_type": "stream",
     "text": [
      "sample 6   label, 1.0\n"
     ]
    },
    {
     "data": {
      "image/png": "[encoded data removed]",
      "text/plain": [
       "<Figure size 432x288 with 2 Axes>"
      ]
     },
     "metadata": {
      "needs_background": "light"
     },
     "output_type": "display_data"
    },
    {
     "name": "stdout",
     "output_type": "stream",
     "text": [
      "sample 7   label, 1.0\n"
     ]
    },
    {
     "data": {
      "image/png": "[encoded data removed]",
      "text/plain": [
       "<Figure size 432x288 with 2 Axes>"
      ]
     },
     "metadata": {
      "needs_background": "light"
     },
     "output_type": "display_data"
    },
    {
     "name": "stdout",
     "output_type": "stream",
     "text": [
      "sample 8   label, 1.0\n"
     ]
    },
    {
     "data": {
      "image/png": "[encoded data removed]",
      "text/plain": [
       "<Figure size 432x288 with 2 Axes>"
      ]
     },
     "metadata": {
      "needs_background": "light"
     },
     "output_type": "display_data"
    },
    {
     "name": "stdout",
     "output_type": "stream",
     "text": [
      "sample 9   label, 1.0\n"
     ]
    },
    {
     "data": {
      "image/png": "[encoded data removed]",
      "text/plain": [
       "<Figure size 432x288 with 2 Axes>"
      ]
     },
     "metadata": {
      "needs_background": "light"
     },
     "output_type": "display_data"
    }
   ],
   "source": [
    "for i in range(10):\n",
    "    print(\"sample\", i, \"  label,\", dm.Y_train[i,0])\n",
    "    show_heat_map(test_pred[i,:,:])"
   ]
  },
  {
   "cell_type": "markdown",
   "metadata": {},
   "source": [
    "$\\;\\;\\;\\;\\;\\;\\;\\;\\;\\;\\;\\;\\;\\;$"
   ]
  },
  {
   "cell_type": "markdown",
   "metadata": {},
   "source": [
    "## 3.1 Supervised Multi-Layer Perceptron (MLP)"
   ]
  },
  {
   "cell_type": "markdown",
   "metadata": {},
   "source": [
    "[short description here]"
   ]
  },
  {
   "cell_type": "markdown",
   "metadata": {},
   "source": [
    "##### 3.1.1 Get simularity matrix from GCN and GNODE models"
   ]
  },
  {
   "cell_type": "code",
   "execution_count": 57,
   "metadata": {},
   "outputs": [],
   "source": [
    "sim_all = {}\n",
    "A = create_DAD(Araw)\n",
    "X_train = dm.X_train\n",
    "X_test = dm.X_test\n",
    "device_name = 'cpu'"
   ]
  },
  {
   "cell_type": "code",
   "execution_count": 29,
   "metadata": {},
   "outputs": [],
   "source": [
    "#Get simularity matrix from GCN\n",
    "GCNmodel.eval()\n",
    "sim_all[\"GCN_train\"] = GCNmodel(torch.from_numpy(X_train).float().to(device_name), torch.from_numpy(A).float().to(device_name)).cpu().detach().numpy()\n",
    "sim_all[\"GCN_test\"] = GCNmodel(torch.from_numpy(X_test).float().to(device_name), torch.from_numpy(A).float().to(device_name)).cpu().detach().numpy()"
   ]
  },
  {
   "cell_type": "code",
   "execution_count": 59,
   "metadata": {},
   "outputs": [],
   "source": [
    "#Get simularity matrix from GNODE\n",
    "GDEmodel.eval()\n",
    "sim_all[\"GDE_train\"] = GDEmodel(torch.from_numpy(X_train).float().to(device_name)).cpu().detach().numpy()\n",
    "sim_all[\"GDE_test\"] = GDEmodel(torch.from_numpy(X_test).float().to(device_name)).cpu().detach().numpy()"
   ]
  },
  {
   "cell_type": "markdown",
   "metadata": {},
   "source": [
    "##### 3.1.2 Visualize the averaged ictal and non-ictal states for the two models"
   ]
  },
  {
   "cell_type": "code",
   "execution_count": 30,
   "metadata": {},
   "outputs": [
    {
     "name": "stdout",
     "output_type": "stream",
     "text": [
      "Average Ictal and Non-Ictal Simularity Matrix for GCN\n",
      "Average ictal\n"
     ]
    },
    {
     "data": {
      "image/png": "[encoded data removed]",
      "text/plain": [
       "<Figure size 432x288 with 2 Axes>"
      ]
     },
     "metadata": {
      "needs_background": "light"
     },
     "output_type": "display_data"
    },
    {
     "name": "stdout",
     "output_type": "stream",
     "text": [
      "Average Non-Ictal\n"
     ]
    },
    {
     "data": {
      "image/png": "[encoded data removed]",
      "text/plain": [
       "<Figure size 432x288 with 2 Axes>"
      ]
     },
     "metadata": {
      "needs_background": "light"
     },
     "output_type": "display_data"
    }
   ],
   "source": [
    "print(\"Average Ictal and Non-Ictal Simularity Matrix for GCN\")\n",
    "visualize_avg_sim_matrix(dm, sim_all[\"GCN_train\"], sim_all[\"GCN_test\"])"
   ]
  },
  {
   "cell_type": "code",
   "execution_count": 61,
   "metadata": {},
   "outputs": [
    {
     "name": "stdout",
     "output_type": "stream",
     "text": [
      "Average Ictal and Non-Ictal Simularity Matrix for GDE\n",
      "Average ictal\n"
     ]
    },
    {
     "data": {
      "image/png": "[encoded data removed]",
      "text/plain": [
       "<Figure size 432x288 with 2 Axes>"
      ]
     },
     "metadata": {
      "needs_background": "light"
     },
     "output_type": "display_data"
    },
    {
     "name": "stdout",
     "output_type": "stream",
     "text": [
      "Average Non-Ictal\n"
     ]
    },
    {
     "data": {
      "image/png": "[encoded data removed]",
      "text/plain": [
       "<Figure size 432x288 with 2 Axes>"
      ]
     },
     "metadata": {
      "needs_background": "light"
     },
     "output_type": "display_data"
    }
   ],
   "source": [
    "print(\"Average Ictal and Non-Ictal Simularity Matrix for GDE\")\n",
    "visualize_avg_sim_matrix(dm, sim_all[\"GDE_train\"], sim_all[\"GDE_test\"])"
   ]
  },
  {
   "cell_type": "markdown",
   "metadata": {},
   "source": [
    "##### 3.1.3 MLP for GCN  "
   ]
  },
  {
   "cell_type": "markdown",
   "metadata": {},
   "source": [
    "###### Training"
   ]
  },
  {
   "cell_type": "code",
   "execution_count": 31,
   "metadata": {},
   "outputs": [
    {
     "name": "stdout",
     "output_type": "stream",
     "text": [
      "MLP(\n",
      "  (layers): ModuleList(\n",
      "    (0): Dropout(p=0.3, inplace=False)\n",
      "    (1): Linear(in_features=630, out_features=630, bias=True)\n",
      "    (2): ReLU()\n",
      "    (3): Dropout(p=0.3, inplace=False)\n",
      "    (4): Linear(in_features=630, out_features=1, bias=True)\n",
      "    (5): Sigmoid()\n",
      "  )\n",
      ")\n",
      "----------------------------------------------------------------\n",
      "        Layer (type)               Output Shape         Param #\n",
      "================================================================\n",
      "           Dropout-1                  [-1, 630]               0\n",
      "            Linear-2                  [-1, 630]         397,530\n",
      "              ReLU-3                  [-1, 630]               0\n",
      "           Dropout-4                  [-1, 630]               0\n",
      "            Linear-5                    [-1, 1]             631\n",
      "           Sigmoid-6                    [-1, 1]               0\n",
      "================================================================\n",
      "Total params: 398,161\n",
      "Trainable params: 398,161\n",
      "Non-trainable params: 0\n",
      "----------------------------------------------------------------\n",
      "Input size (MB): 0.00\n",
      "Forward/backward pass size (MB): 0.02\n",
      "Params size (MB): 1.52\n",
      "Estimated Total Size (MB): 1.54\n",
      "----------------------------------------------------------------\n",
      "Epoch: 1   Train loss: 20.618   Train accuracy: 0.053   Val loss: 11.1363   Val accuracy: 0.0    weighted Val loss: 11.1363\n",
      "Epoch:"
     ]
    },
    {
     "name": "stderr",
     "output_type": "stream",
     "text": [
      "C:\\Users\\caixu\\anaconda3\\lib\\site-packages\\sklearn\\metrics\\_classification.py:1464: UndefinedMetricWarning: F-score is ill-defined and being set to 0.0 due to no true nor predicted samples. Use `zero_division` parameter to control this behavior.\n",
      "  _warn_prf(\n"
     ]
    },
    {
     "name": "stdout",
     "output_type": "stream",
     "text": [
      " 2   Train loss: 8.7798   Train accuracy: 0.0   Val loss: 11.1363   Val accuracy: 0.0    weighted Val loss: 11.1363\n",
      "Epoch: 3   Train loss: 11.1235   Train accuracy: 0.0   Val loss: 11.1363   Val accuracy: 0.0    weighted Val loss: 11.1363\n",
      "Epoch: 4   Train loss: 11.0863   Train accuracy: 0.008   Val loss: 11.1363   Val accuracy: 0.0    weighted Val loss: 11.1363\n",
      "Epoch: 5   Train loss: 8.7798   Train accuracy: 0.0   Val loss: 11.1363   Val accuracy: 0.0    weighted Val loss: 11.1363\n",
      "Epoch: 6   Train loss: 8.7798   Train accuracy: 0.0   Val loss: 11.1363   Val accuracy: 0.0    weighted Val loss: 11.1363\n",
      "Epoch: 7   Train loss: 8.817   Train accuracy: 0.0   Val loss: 11.1363   Val accuracy: 0.0    weighted Val loss: 11.1363\n",
      "Epoch: 8   Train loss: 8.7798   Train accuracy: 0.0   Val loss: 11.1363   Val accuracy: 0.0    weighted Val loss: 11.1363\n",
      "Epoch: 9   Train loss: 8.7798   Train accuracy: 0.0   Val loss: 11.1363   Val accuracy: 0.0    weighted Val loss: 11.1363\n",
      "Epoch: 10   Train loss: 8.7798   Train accuracy: 0.0   Val loss: 11.1363   Val accuracy: 0.0    weighted Val loss: 11.1363\n",
      "Epoch: 11   Train loss: 8.7798   Train accuracy: 0.0   Val loss: 11.1363   Val accuracy: 0.0    weighted Val loss: 11.1363\n",
      "Epoch: 12   Train loss: 8.7798   Train accuracy: 0.0   Val loss: 11.1363   Val accuracy: 0.0    weighted Val loss: 11.1363\n",
      "Epoch: 13   Train loss: 8.7798   Train accuracy: 0.0   Val loss: 11.1363   Val accuracy: 0.0    weighted Val loss: 11.1363\n",
      "Epoch: 14   Train loss: 8.7798   Train accuracy: 0.0   Val loss: 11.1363   Val accuracy: 0.0    weighted Val loss: 11.1363\n",
      "Epoch: 15   Train loss: 8.7798   Train accuracy: 0.0   Val loss: 11.1363   Val accuracy: 0.0    weighted Val loss: 11.1363\n",
      "Epoch: 16   Train loss: 8.7798   Train accuracy: 0.0   Val loss: 11.1363   Val accuracy: 0.0    weighted Val loss: 11.1363\n",
      "Epoch: 17   Train loss: 8.7798   Train accuracy: 0.0   Val loss: 11.1363   Val accuracy: 0.0    weighted Val loss: 11.1363\n",
      "Epoch: 18   Train loss: 11.1235   Train accuracy: 0.0   Val loss: 11.1363   Val accuracy: 0.0    weighted Val loss: 11.1363\n",
      "Epoch: 19   Train loss: 8.7798   Train accuracy: 0.0   Val loss: 11.1363   Val accuracy: 0.0    weighted Val loss: 11.1363\n",
      "Epoch: 20   Train loss: 8.7798   Train accuracy: 0.0   Val loss: 11.1363   Val accuracy: 0.0    weighted Val loss: 11.1363\n",
      "Epoch: 21   Train loss: 11.1235   Train accuracy: 0.0   Val loss: 11.1363   Val accuracy: 0.0    weighted Val loss: 11.1363\n",
      "Epoch: 22   Train loss: 8.7798   Train accuracy: 0.0   Val loss: 11.1363   Val accuracy: 0.0    weighted Val loss: 11.1363\n",
      "Epoch: 23   Train loss: 8.7798   Train accuracy: 0.0   Val loss: 11.1363   Val accuracy: 0.0    weighted Val loss: 11.1363\n",
      "Epoch: 24   Train loss: 11.1235   Train accuracy: 0.0   Val loss: 11.1363   Val accuracy: 0.0    weighted Val loss: 11.1363\n",
      "Epoch: 25   Train loss: 8.7798   Train accuracy: 0.0   Val loss: 11.1363   Val accuracy: 0.0    weighted Val loss: 11.1363\n",
      "Epoch: 26   Train loss: 8.7798   Train accuracy: 0.0   Val loss: 11.1363   Val accuracy: 0.0    weighted Val loss: 11.1363\n",
      "Epoch: 27   Train loss: 8.7798   Train accuracy: 0.0   Val loss: 11.1363   Val accuracy: 0.0    weighted Val loss: 11.1363\n",
      "Epoch: 28   Train loss: 8.7798   Train accuracy: 0.0   Val loss: 11.1363   Val accuracy: 0.0    weighted Val loss: 11.1363\n",
      "Epoch: 29   Train loss: 8.7798   Train accuracy: 0.0   Val loss: 11.1363   Val accuracy: 0.0    weighted Val loss: 11.1363\n",
      "Epoch: 30   Train loss: 8.7798   Train accuracy: 0.0   Val loss: 11.1363   Val accuracy: 0.0    weighted Val loss: 11.1363\n",
      "Epoch: 31   Train loss: 8.7798   Train accuracy: 0.0   Val loss: 11.1363   Val accuracy: 0.0    weighted Val loss: 11.1363\n",
      "Epoch: 32   Train loss: 8.7798   Train accuracy: 0.0   Val loss: 11.1363   Val accuracy: 0.0    weighted Val loss: 11.1363\n",
      "Epoch: 33   Train loss: 8.7798   Train accuracy: 0.0   Val loss: 11.1363   Val accuracy: 0.0    weighted Val loss: 11.1363\n",
      "Epoch: 34   Train loss: 11.1235   Train accuracy: 0.0   Val loss: 11.1363   Val accuracy: 0.0    weighted Val loss: 11.1363\n",
      "Epoch: 35   Train loss: 8.7798   Train accuracy: 0.0   Val loss: 11.1363   Val accuracy: 0.0    weighted Val loss: 11.1363\n",
      "Epoch: 36   Train loss: 8.7798   Train accuracy: 0.0   Val loss: 11.1363   Val accuracy: 0.0    weighted Val loss: 11.1363\n",
      "Epoch: 37   Train loss: 8.7798   Train accuracy: 0.0   Val loss: 11.1363   Val accuracy: 0.0    weighted Val loss: 11.1363\n",
      "Epoch: 38   Train loss: 11.1235   Train accuracy: 0.0   Val loss: 11.1363   Val accuracy: 0.0    weighted Val loss: 11.1363\n",
      "Epoch: 39   Train loss: 11.1235   Train accuracy: 0.0   Val loss: 11.1363   Val accuracy: 0.0    weighted Val loss: 11.1363\n",
      "Epoch: 40   Train loss: 11.1235   Train accuracy: 0.0   Val loss: 11.1363   Val accuracy: 0.0    weighted Val loss: 11.1363\n",
      "Epoch: 41   Train loss: 11.1235   Train accuracy: 0.0   Val loss: 11.1363   Val accuracy: 0.0    weighted Val loss: 11.1363\n",
      "Epoch: 42   Train loss: 8.7798   Train accuracy: 0.0   Val loss: 11.1363   Val accuracy: 0.0    weighted Val loss: 11.1363\n",
      "Epoch: 43   Train loss: 11.1235   Train accuracy: 0.0   Val loss: 11.1363   Val accuracy: 0.0    weighted Val loss: 11.1363\n",
      "Epoch: 44   Train loss: 11.1235   Train accuracy: 0.0   Val loss: 11.1363   Val accuracy: 0.0    weighted Val loss: 11.1363\n",
      "Epoch: 45   Train loss: 8.7798   Train accuracy: 0.0   Val loss: 11.1363   Val accuracy: 0.0    weighted Val loss: 11.1363\n",
      "Epoch: 46   Train loss: 8.7798   Train accuracy: 0.0   Val loss: 11.1363   Val accuracy: 0.0    weighted Val loss: 11.1363\n",
      "Epoch: 47   Train loss: 8.7798   Train accuracy: 0.0   Val loss: 11.1363   Val accuracy: 0.0    weighted Val loss: 11.1363\n",
      "Epoch: 48   Train loss: 8.7798   Train accuracy: 0.0   Val loss: 11.1363   Val accuracy: 0.0    weighted Val loss: 11.1363\n",
      "Epoch: 49   Train loss: 8.7798   Train accuracy: 0.0   Val loss: 11.1363   Val accuracy: 0.0    weighted Val loss: 11.1363\n",
      "Epoch: 50   Train loss: 11.1235   Train accuracy: 0.0   Val loss: 11.1363   Val accuracy: 0.0    weighted Val loss: 11.1363\n",
      "Epoch: 51   Train loss: 8.7798   Train accuracy: 0.0   Val loss: 11.1363   Val accuracy: 0.0    weighted Val loss: 11.1363\n",
      "Epoch: 52   Train loss: 8.7798   Train accuracy: 0.0   Val loss: 11.1363   Val accuracy: 0.0    weighted Val loss: 11.1363\n",
      "Epoch: 53   Train loss: 8.7798   Train accuracy: 0.0   Val loss: 11.1363   Val accuracy: 0.0    weighted Val loss: 11.1363\n",
      "Epoch: 54   Train loss: 11.1235   Train accuracy: 0.0   Val loss: 11.1363   Val accuracy: 0.0    weighted Val loss: 11.1363\n",
      "Epoch: 55   Train loss: 8.7798   Train accuracy: 0.0   Val loss: 11.1363   Val accuracy: 0.0    weighted Val loss: 11.1363\n",
      "Epoch: 56   Train loss: 8.7798   Train accuracy: 0.0   Val loss: 11.1363   Val accuracy: 0.0    weighted Val loss: 11.1363\n",
      "Epoch: 57   Train loss: 8.7798   Train accuracy: 0.0   Val loss: 11.1363   Val accuracy: 0.0    weighted Val loss: 11.1363\n",
      "Epoch: 58   Train loss: 11.1235   Train accuracy: 0.0   Val loss: 11.1363   Val accuracy: 0.0    weighted Val loss: 11.1363\n",
      "Epoch: 59   Train loss: 8.7798   Train accuracy: 0.0   Val loss: 11.1363   Val accuracy: 0.0    weighted Val loss: 11.1363\n",
      "Epoch: 60   Train loss: 8.7798   Train accuracy: 0.0   Val loss: 11.1363   Val accuracy: 0.0    weighted Val loss: 11.1363\n",
      "Epoch: 61   Train loss: 8.7798   Train accuracy: 0.0   Val loss: 11.1363   Val accuracy: 0.0    weighted Val loss: 11.1363\n",
      "Epoch: 62   Train loss: 8.7798   Train accuracy: 0.0   Val loss: 11.1363   Val accuracy: 0.0    weighted Val loss: 11.1363\n",
      "Epoch: 63   Train loss: 8.7798   Train accuracy: 0.0   Val loss: 11.1363   Val accuracy: 0.0    weighted Val loss: 11.1363\n",
      "Epoch: 64   Train loss: 11.1235   Train accuracy: 0.0   Val loss: 11.1363   Val accuracy: 0.0    weighted Val loss: 11.1363\n",
      "Epoch: 65   Train loss: 11.1235   Train accuracy: 0.0   Val loss: 11.1363   Val accuracy: 0.0    weighted Val loss: 11.1363\n",
      "Epoch: 66   Train loss: 8.7798   Train accuracy: 0.0   Val loss: 11.1363   Val accuracy: 0.0    weighted Val loss: 11.1363\n",
      "Epoch: 67   Train loss: 8.7798   Train accuracy: 0.0   Val loss: 11.1363   Val accuracy: 0.0    weighted Val loss: 11.1363\n",
      "Epoch: 68   Train loss: 8.7798   Train accuracy: 0.0   Val loss: 11.1363   Val accuracy: 0.0    weighted Val loss: 11.1363\n",
      "Epoch: 69   Train loss: 11.1235   Train accuracy: 0.0   Val loss: 11.1363   Val accuracy: 0.0    weighted Val loss: 11.1363\n",
      "Epoch: 70   Train loss: 8.7798   Train accuracy: 0.0   Val loss: 11.1363   Val accuracy: 0.0    weighted Val loss: 11.1363\n",
      "Epoch: 71   Train loss: 8.7798   Train accuracy: 0.0   Val loss: 11.1363   Val accuracy: 0.0    weighted Val loss: 11.1363\n",
      "Epoch: 72   Train loss: 8.7798   Train accuracy: 0.0   Val loss: 11.1363   Val accuracy: 0.0    weighted Val loss: 11.1363\n",
      "Epoch: 73   Train loss: 11.1235   Train accuracy: 0.0   Val loss: 11.1363   Val accuracy: 0.0    weighted Val loss: 11.1363\n",
      "Epoch: 74   Train loss: 8.7798   Train accuracy: 0.0   Val loss: 11.1363   Val accuracy: 0.0    weighted Val loss: 11.1363\n",
      "Epoch: 75   Train loss: 8.7798   Train accuracy: 0.0   Val loss: 11.1363   Val accuracy: 0.0    weighted Val loss: 11.1363\n",
      "Epoch: 76   Train loss: 11.1235   Train accuracy: 0.0   Val loss: 11.1363   Val accuracy: 0.0    weighted Val loss: 11.1363\n",
      "Epoch: 77   Train loss: 8.7798   Train accuracy: 0.0   Val loss: 11.1363   Val accuracy: 0.0    weighted Val loss: 11.1363\n",
      "Epoch: 78   Train loss: 11.1235   Train accuracy: 0.0   Val loss: 11.1363   Val accuracy: 0.0    weighted Val loss: 11.1363\n",
      "Epoch: 79   Train loss: 8.7798   Train accuracy: 0.0   Val loss: 11.1363   Val accuracy: 0.0    weighted Val loss: 11.1363\n",
      "Epoch: 80   Train loss: 8.7798   Train accuracy: 0.0   Val loss: 11.1363   Val accuracy: 0.0    weighted Val loss: 11.1363\n",
      "Epoch: 81   Train loss: 8.7798   Train accuracy: 0.0   Val loss: 11.1363   Val accuracy: 0.0    weighted Val loss: 11.1363\n",
      "Epoch: 82   Train loss: 8.7798   Train accuracy: 0.0   Val loss: 11.1363   Val accuracy: 0.0    weighted Val loss: 11.1363\n",
      "Epoch: 83   Train loss: 8.7798   Train accuracy: 0.0   Val loss: 11.1363   Val accuracy: 0.0    weighted Val loss: 11.1363\n",
      "Epoch: 84   Train loss: 8.7798   Train accuracy: 0.0   Val loss: 11.1363   Val accuracy: 0.0    weighted Val loss: 11.1363\n",
      "Epoch: 85   Train loss: 8.7798   Train accuracy: 0.0   Val loss: 11.1363   Val accuracy: 0.0    weighted Val loss: 11.1363\n",
      "Epoch: 86   Train loss: 8.7798   Train accuracy: 0.0   Val loss: 11.1363   Val accuracy: 0.0    weighted Val loss: 11.1363\n",
      "Epoch: 87   Train loss: 8.7798   Train accuracy: 0.0   Val loss: 11.1363   Val accuracy: 0.0    weighted Val loss: 11.1363\n"
     ]
    },
    {
     "ename": "KeyboardInterrupt",
     "evalue": "",
     "output_type": "error",
     "traceback": [
      "\u001b[1;31m---------------------------------------------------------------------------\u001b[0m",
      "\u001b[1;31mKeyboardInterrupt\u001b[0m                         Traceback (most recent call last)",
      "\u001b[1;32m<ipython-input-31-7f3857a92fae>\u001b[0m in \u001b[0;36m<module>\u001b[1;34m\u001b[0m\n\u001b[0;32m     10\u001b[0m     \u001b[1;34m'eps'\u001b[0m\u001b[1;33m:\u001b[0m \u001b[1;36m1e-08\u001b[0m\u001b[1;33m\u001b[0m\u001b[1;33m\u001b[0m\u001b[0m\n\u001b[0;32m     11\u001b[0m }\n\u001b[1;32m---> 12\u001b[1;33m \u001b[0mMLPmodelGCN\u001b[0m\u001b[1;33m,\u001b[0m \u001b[0m_\u001b[0m\u001b[1;33m,\u001b[0m\u001b[0m_\u001b[0m\u001b[1;33m,\u001b[0m \u001b[0mMLPcheckpointGCN\u001b[0m \u001b[1;33m=\u001b[0m \u001b[0mMLP\u001b[0m\u001b[1;33m.\u001b[0m\u001b[0mtrain_MLP\u001b[0m\u001b[1;33m(\u001b[0m\u001b[0mdm\u001b[0m\u001b[1;33m,\u001b[0m \u001b[0msim_all\u001b[0m\u001b[1;33m[\u001b[0m\u001b[1;34m\"GCN_train\"\u001b[0m\u001b[1;33m]\u001b[0m\u001b[1;33m,\u001b[0m \u001b[0msim_all\u001b[0m\u001b[1;33m[\u001b[0m\u001b[1;34m\"GCN_test\"\u001b[0m\u001b[1;33m]\u001b[0m\u001b[1;33m,\u001b[0m \u001b[0mMLPparametersGCN\u001b[0m\u001b[1;33m,\u001b[0m \u001b[0macc_fn\u001b[0m\u001b[1;33m=\u001b[0m\u001b[0mMLP\u001b[0m\u001b[1;33m.\u001b[0m\u001b[0mF1\u001b[0m\u001b[1;33m,\u001b[0m \u001b[0mautostop_decay\u001b[0m \u001b[1;33m=\u001b[0m \u001b[1;36m0.995\u001b[0m\u001b[1;33m,\u001b[0m \u001b[0mprint_summary\u001b[0m \u001b[1;33m=\u001b[0m \u001b[1;32mTrue\u001b[0m\u001b[1;33m)\u001b[0m\u001b[1;33m\u001b[0m\u001b[1;33m\u001b[0m\u001b[0m\n\u001b[0m",
      "\u001b[1;32m~\\Documents\\GitHub\\GCNGDE_Simulation_for_EGG_analysis\\Full Model\\MLP.py\u001b[0m in \u001b[0;36mtrain_MLP\u001b[1;34m(dm, sim_train, sim_test, parameters, acc_fn, autostop_decay, print_summary, verbose)\u001b[0m\n\u001b[0;32m    306\u001b[0m             \u001b[0mval_pred\u001b[0m \u001b[1;33m=\u001b[0m \u001b[0mMLPmodel\u001b[0m\u001b[1;33m(\u001b[0m\u001b[0mX_test\u001b[0m\u001b[1;33m)\u001b[0m\u001b[1;33m\u001b[0m\u001b[1;33m\u001b[0m\u001b[0m\n\u001b[0;32m    307\u001b[0m             \u001b[0mval_loss\u001b[0m \u001b[1;33m=\u001b[0m \u001b[0mcriterion\u001b[0m\u001b[1;33m(\u001b[0m\u001b[0mval_pred\u001b[0m\u001b[1;33m,\u001b[0m \u001b[0mY_test\u001b[0m\u001b[1;33m)\u001b[0m\u001b[1;33m\u001b[0m\u001b[1;33m\u001b[0m\u001b[0m\n\u001b[1;32m--> 308\u001b[1;33m             \u001b[0mtva\u001b[0m \u001b[1;33m=\u001b[0m \u001b[0macc_fn\u001b[0m\u001b[1;33m(\u001b[0m\u001b[0mval_pred\u001b[0m\u001b[1;33m,\u001b[0m \u001b[0mY_test\u001b[0m\u001b[1;33m,\u001b[0m \u001b[0mthreshold\u001b[0m\u001b[1;33m=\u001b[0m\u001b[0mt\u001b[0m\u001b[1;33m)\u001b[0m\u001b[1;33m\u001b[0m\u001b[1;33m\u001b[0m\u001b[0m\n\u001b[0m\u001b[0;32m    309\u001b[0m             \u001b[1;32mif\u001b[0m \u001b[0mtva\u001b[0m \u001b[1;33m>\u001b[0m \u001b[0mval_acc\u001b[0m\u001b[1;33m:\u001b[0m\u001b[1;33m\u001b[0m\u001b[1;33m\u001b[0m\u001b[0m\n\u001b[0;32m    310\u001b[0m                 \u001b[0mval_acc\u001b[0m \u001b[1;33m=\u001b[0m \u001b[0mtva\u001b[0m\u001b[1;33m\u001b[0m\u001b[1;33m\u001b[0m\u001b[0m\n",
      "\u001b[1;32m~\\Documents\\GitHub\\GCNGDE_Simulation_for_EGG_analysis\\Full Model\\MLP.py\u001b[0m in \u001b[0;36mF1\u001b[1;34m(y_pred, y_true, threshold)\u001b[0m\n\u001b[0;32m    204\u001b[0m \u001b[1;32mdef\u001b[0m \u001b[0mF1\u001b[0m\u001b[1;33m(\u001b[0m\u001b[0my_pred\u001b[0m\u001b[1;33m,\u001b[0m \u001b[0my_true\u001b[0m\u001b[1;33m,\u001b[0m \u001b[0mthreshold\u001b[0m\u001b[1;33m=\u001b[0m\u001b[1;36m0.5\u001b[0m\u001b[1;33m)\u001b[0m\u001b[1;33m:\u001b[0m\u001b[1;33m\u001b[0m\u001b[1;33m\u001b[0m\u001b[0m\n\u001b[0;32m    205\u001b[0m     \u001b[0my_pred\u001b[0m \u001b[1;33m=\u001b[0m \u001b[0my_pred\u001b[0m \u001b[1;33m>\u001b[0m \u001b[0mthreshold\u001b[0m\u001b[1;33m\u001b[0m\u001b[1;33m\u001b[0m\u001b[0m\n\u001b[1;32m--> 206\u001b[1;33m     \u001b[0mf1\u001b[0m \u001b[1;33m=\u001b[0m \u001b[0mF1_score\u001b[0m\u001b[1;33m(\u001b[0m\u001b[0my_true\u001b[0m\u001b[1;33m.\u001b[0m\u001b[0mcpu\u001b[0m\u001b[1;33m(\u001b[0m\u001b[1;33m)\u001b[0m\u001b[1;33m.\u001b[0m\u001b[0mdetach\u001b[0m\u001b[1;33m(\u001b[0m\u001b[1;33m)\u001b[0m\u001b[1;33m.\u001b[0m\u001b[0mnumpy\u001b[0m\u001b[1;33m(\u001b[0m\u001b[1;33m)\u001b[0m\u001b[1;33m,\u001b[0m \u001b[0my_pred\u001b[0m\u001b[1;33m.\u001b[0m\u001b[0mcpu\u001b[0m\u001b[1;33m(\u001b[0m\u001b[1;33m)\u001b[0m\u001b[1;33m.\u001b[0m\u001b[0mdetach\u001b[0m\u001b[1;33m(\u001b[0m\u001b[1;33m)\u001b[0m\u001b[1;33m.\u001b[0m\u001b[0mnumpy\u001b[0m\u001b[1;33m(\u001b[0m\u001b[1;33m)\u001b[0m\u001b[1;33m)\u001b[0m\u001b[1;33m\u001b[0m\u001b[1;33m\u001b[0m\u001b[0m\n\u001b[0m\u001b[0;32m    207\u001b[0m \u001b[1;33m\u001b[0m\u001b[0m\n\u001b[0;32m    208\u001b[0m     \u001b[1;32mreturn\u001b[0m \u001b[0mf1\u001b[0m\u001b[1;33m\u001b[0m\u001b[1;33m\u001b[0m\u001b[0m\n",
      "\u001b[1;32m~\\anaconda3\\lib\\site-packages\\sklearn\\utils\\validation.py\u001b[0m in \u001b[0;36minner_f\u001b[1;34m(*args, **kwargs)\u001b[0m\n\u001b[0;32m     70\u001b[0m                           FutureWarning)\n\u001b[0;32m     71\u001b[0m         \u001b[0mkwargs\u001b[0m\u001b[1;33m.\u001b[0m\u001b[0mupdate\u001b[0m\u001b[1;33m(\u001b[0m\u001b[1;33m{\u001b[0m\u001b[0mk\u001b[0m\u001b[1;33m:\u001b[0m \u001b[0marg\u001b[0m \u001b[1;32mfor\u001b[0m \u001b[0mk\u001b[0m\u001b[1;33m,\u001b[0m \u001b[0marg\u001b[0m \u001b[1;32min\u001b[0m \u001b[0mzip\u001b[0m\u001b[1;33m(\u001b[0m\u001b[0msig\u001b[0m\u001b[1;33m.\u001b[0m\u001b[0mparameters\u001b[0m\u001b[1;33m,\u001b[0m \u001b[0margs\u001b[0m\u001b[1;33m)\u001b[0m\u001b[1;33m}\u001b[0m\u001b[1;33m)\u001b[0m\u001b[1;33m\u001b[0m\u001b[1;33m\u001b[0m\u001b[0m\n\u001b[1;32m---> 72\u001b[1;33m         \u001b[1;32mreturn\u001b[0m \u001b[0mf\u001b[0m\u001b[1;33m(\u001b[0m\u001b[1;33m**\u001b[0m\u001b[0mkwargs\u001b[0m\u001b[1;33m)\u001b[0m\u001b[1;33m\u001b[0m\u001b[1;33m\u001b[0m\u001b[0m\n\u001b[0m\u001b[0;32m     73\u001b[0m     \u001b[1;32mreturn\u001b[0m \u001b[0minner_f\u001b[0m\u001b[1;33m\u001b[0m\u001b[1;33m\u001b[0m\u001b[0m\n\u001b[0;32m     74\u001b[0m \u001b[1;33m\u001b[0m\u001b[0m\n",
      "\u001b[1;32m~\\anaconda3\\lib\\site-packages\\sklearn\\metrics\\_classification.py\u001b[0m in \u001b[0;36mf1_score\u001b[1;34m(y_true, y_pred, labels, pos_label, average, sample_weight, zero_division)\u001b[0m\n\u001b[0;32m   1042\u001b[0m     \u001b[0mmodified\u001b[0m \u001b[1;32mwith\u001b[0m\u001b[0;31m \u001b[0m\u001b[0;31m`\u001b[0m\u001b[0;31m`\u001b[0m\u001b[0mzero_division\u001b[0m\u001b[0;31m`\u001b[0m\u001b[0;31m`\u001b[0m\u001b[1;33m.\u001b[0m\u001b[1;33m\u001b[0m\u001b[1;33m\u001b[0m\u001b[0m\n\u001b[0;32m   1043\u001b[0m     \"\"\"\n\u001b[1;32m-> 1044\u001b[1;33m     return fbeta_score(y_true, y_pred, beta=1, labels=labels,\n\u001b[0m\u001b[0;32m   1045\u001b[0m                        \u001b[0mpos_label\u001b[0m\u001b[1;33m=\u001b[0m\u001b[0mpos_label\u001b[0m\u001b[1;33m,\u001b[0m \u001b[0maverage\u001b[0m\u001b[1;33m=\u001b[0m\u001b[0maverage\u001b[0m\u001b[1;33m,\u001b[0m\u001b[1;33m\u001b[0m\u001b[1;33m\u001b[0m\u001b[0m\n\u001b[0;32m   1046\u001b[0m                        \u001b[0msample_weight\u001b[0m\u001b[1;33m=\u001b[0m\u001b[0msample_weight\u001b[0m\u001b[1;33m,\u001b[0m\u001b[1;33m\u001b[0m\u001b[1;33m\u001b[0m\u001b[0m\n",
      "\u001b[1;32m~\\anaconda3\\lib\\site-packages\\sklearn\\utils\\validation.py\u001b[0m in \u001b[0;36minner_f\u001b[1;34m(*args, **kwargs)\u001b[0m\n\u001b[0;32m     70\u001b[0m                           FutureWarning)\n\u001b[0;32m     71\u001b[0m         \u001b[0mkwargs\u001b[0m\u001b[1;33m.\u001b[0m\u001b[0mupdate\u001b[0m\u001b[1;33m(\u001b[0m\u001b[1;33m{\u001b[0m\u001b[0mk\u001b[0m\u001b[1;33m:\u001b[0m \u001b[0marg\u001b[0m \u001b[1;32mfor\u001b[0m \u001b[0mk\u001b[0m\u001b[1;33m,\u001b[0m \u001b[0marg\u001b[0m \u001b[1;32min\u001b[0m \u001b[0mzip\u001b[0m\u001b[1;33m(\u001b[0m\u001b[0msig\u001b[0m\u001b[1;33m.\u001b[0m\u001b[0mparameters\u001b[0m\u001b[1;33m,\u001b[0m \u001b[0margs\u001b[0m\u001b[1;33m)\u001b[0m\u001b[1;33m}\u001b[0m\u001b[1;33m)\u001b[0m\u001b[1;33m\u001b[0m\u001b[1;33m\u001b[0m\u001b[0m\n\u001b[1;32m---> 72\u001b[1;33m         \u001b[1;32mreturn\u001b[0m \u001b[0mf\u001b[0m\u001b[1;33m(\u001b[0m\u001b[1;33m**\u001b[0m\u001b[0mkwargs\u001b[0m\u001b[1;33m)\u001b[0m\u001b[1;33m\u001b[0m\u001b[1;33m\u001b[0m\u001b[0m\n\u001b[0m\u001b[0;32m     73\u001b[0m     \u001b[1;32mreturn\u001b[0m \u001b[0minner_f\u001b[0m\u001b[1;33m\u001b[0m\u001b[1;33m\u001b[0m\u001b[0m\n\u001b[0;32m     74\u001b[0m \u001b[1;33m\u001b[0m\u001b[0m\n",
      "\u001b[1;32m~\\anaconda3\\lib\\site-packages\\sklearn\\metrics\\_classification.py\u001b[0m in \u001b[0;36mfbeta_score\u001b[1;34m(y_true, y_pred, beta, labels, pos_label, average, sample_weight, zero_division)\u001b[0m\n\u001b[0;32m   1166\u001b[0m     \"\"\"\n\u001b[0;32m   1167\u001b[0m \u001b[1;33m\u001b[0m\u001b[0m\n\u001b[1;32m-> 1168\u001b[1;33m     _, _, f, _ = precision_recall_fscore_support(y_true, y_pred,\n\u001b[0m\u001b[0;32m   1169\u001b[0m                                                  \u001b[0mbeta\u001b[0m\u001b[1;33m=\u001b[0m\u001b[0mbeta\u001b[0m\u001b[1;33m,\u001b[0m\u001b[1;33m\u001b[0m\u001b[1;33m\u001b[0m\u001b[0m\n\u001b[0;32m   1170\u001b[0m                                                  \u001b[0mlabels\u001b[0m\u001b[1;33m=\u001b[0m\u001b[0mlabels\u001b[0m\u001b[1;33m,\u001b[0m\u001b[1;33m\u001b[0m\u001b[1;33m\u001b[0m\u001b[0m\n",
      "\u001b[1;32m~\\anaconda3\\lib\\site-packages\\sklearn\\utils\\validation.py\u001b[0m in \u001b[0;36minner_f\u001b[1;34m(*args, **kwargs)\u001b[0m\n\u001b[0;32m     70\u001b[0m                           FutureWarning)\n\u001b[0;32m     71\u001b[0m         \u001b[0mkwargs\u001b[0m\u001b[1;33m.\u001b[0m\u001b[0mupdate\u001b[0m\u001b[1;33m(\u001b[0m\u001b[1;33m{\u001b[0m\u001b[0mk\u001b[0m\u001b[1;33m:\u001b[0m \u001b[0marg\u001b[0m \u001b[1;32mfor\u001b[0m \u001b[0mk\u001b[0m\u001b[1;33m,\u001b[0m \u001b[0marg\u001b[0m \u001b[1;32min\u001b[0m \u001b[0mzip\u001b[0m\u001b[1;33m(\u001b[0m\u001b[0msig\u001b[0m\u001b[1;33m.\u001b[0m\u001b[0mparameters\u001b[0m\u001b[1;33m,\u001b[0m \u001b[0margs\u001b[0m\u001b[1;33m)\u001b[0m\u001b[1;33m}\u001b[0m\u001b[1;33m)\u001b[0m\u001b[1;33m\u001b[0m\u001b[1;33m\u001b[0m\u001b[0m\n\u001b[1;32m---> 72\u001b[1;33m         \u001b[1;32mreturn\u001b[0m \u001b[0mf\u001b[0m\u001b[1;33m(\u001b[0m\u001b[1;33m**\u001b[0m\u001b[0mkwargs\u001b[0m\u001b[1;33m)\u001b[0m\u001b[1;33m\u001b[0m\u001b[1;33m\u001b[0m\u001b[0m\n\u001b[0m\u001b[0;32m     73\u001b[0m     \u001b[1;32mreturn\u001b[0m \u001b[0minner_f\u001b[0m\u001b[1;33m\u001b[0m\u001b[1;33m\u001b[0m\u001b[0m\n\u001b[0;32m     74\u001b[0m \u001b[1;33m\u001b[0m\u001b[0m\n",
      "\u001b[1;32m~\\anaconda3\\lib\\site-packages\\sklearn\\metrics\\_classification.py\u001b[0m in \u001b[0;36mprecision_recall_fscore_support\u001b[1;34m(y_true, y_pred, beta, labels, pos_label, average, warn_for, sample_weight, zero_division)\u001b[0m\n\u001b[0;32m   1436\u001b[0m     \u001b[1;31m# Calculate tp_sum, pred_sum, true_sum ###\u001b[0m\u001b[1;33m\u001b[0m\u001b[1;33m\u001b[0m\u001b[1;33m\u001b[0m\u001b[0m\n\u001b[0;32m   1437\u001b[0m     \u001b[0msamplewise\u001b[0m \u001b[1;33m=\u001b[0m \u001b[0maverage\u001b[0m \u001b[1;33m==\u001b[0m \u001b[1;34m'samples'\u001b[0m\u001b[1;33m\u001b[0m\u001b[1;33m\u001b[0m\u001b[0m\n\u001b[1;32m-> 1438\u001b[1;33m     MCM = multilabel_confusion_matrix(y_true, y_pred,\n\u001b[0m\u001b[0;32m   1439\u001b[0m                                       \u001b[0msample_weight\u001b[0m\u001b[1;33m=\u001b[0m\u001b[0msample_weight\u001b[0m\u001b[1;33m,\u001b[0m\u001b[1;33m\u001b[0m\u001b[1;33m\u001b[0m\u001b[0m\n\u001b[0;32m   1440\u001b[0m                                       labels=labels, samplewise=samplewise)\n",
      "\u001b[1;32m~\\anaconda3\\lib\\site-packages\\sklearn\\utils\\validation.py\u001b[0m in \u001b[0;36minner_f\u001b[1;34m(*args, **kwargs)\u001b[0m\n\u001b[0;32m     70\u001b[0m                           FutureWarning)\n\u001b[0;32m     71\u001b[0m         \u001b[0mkwargs\u001b[0m\u001b[1;33m.\u001b[0m\u001b[0mupdate\u001b[0m\u001b[1;33m(\u001b[0m\u001b[1;33m{\u001b[0m\u001b[0mk\u001b[0m\u001b[1;33m:\u001b[0m \u001b[0marg\u001b[0m \u001b[1;32mfor\u001b[0m \u001b[0mk\u001b[0m\u001b[1;33m,\u001b[0m \u001b[0marg\u001b[0m \u001b[1;32min\u001b[0m \u001b[0mzip\u001b[0m\u001b[1;33m(\u001b[0m\u001b[0msig\u001b[0m\u001b[1;33m.\u001b[0m\u001b[0mparameters\u001b[0m\u001b[1;33m,\u001b[0m \u001b[0margs\u001b[0m\u001b[1;33m)\u001b[0m\u001b[1;33m}\u001b[0m\u001b[1;33m)\u001b[0m\u001b[1;33m\u001b[0m\u001b[1;33m\u001b[0m\u001b[0m\n\u001b[1;32m---> 72\u001b[1;33m         \u001b[1;32mreturn\u001b[0m \u001b[0mf\u001b[0m\u001b[1;33m(\u001b[0m\u001b[1;33m**\u001b[0m\u001b[0mkwargs\u001b[0m\u001b[1;33m)\u001b[0m\u001b[1;33m\u001b[0m\u001b[1;33m\u001b[0m\u001b[0m\n\u001b[0m\u001b[0;32m     73\u001b[0m     \u001b[1;32mreturn\u001b[0m \u001b[0minner_f\u001b[0m\u001b[1;33m\u001b[0m\u001b[1;33m\u001b[0m\u001b[0m\n\u001b[0;32m     74\u001b[0m \u001b[1;33m\u001b[0m\u001b[0m\n",
      "\u001b[1;32m~\\anaconda3\\lib\\site-packages\\sklearn\\metrics\\_classification.py\u001b[0m in \u001b[0;36mmultilabel_confusion_matrix\u001b[1;34m(y_true, y_pred, sample_weight, labels, samplewise)\u001b[0m\n\u001b[0;32m    461\u001b[0m         \u001b[0mle\u001b[0m\u001b[1;33m.\u001b[0m\u001b[0mfit\u001b[0m\u001b[1;33m(\u001b[0m\u001b[0mlabels\u001b[0m\u001b[1;33m)\u001b[0m\u001b[1;33m\u001b[0m\u001b[1;33m\u001b[0m\u001b[0m\n\u001b[0;32m    462\u001b[0m         \u001b[0my_true\u001b[0m \u001b[1;33m=\u001b[0m \u001b[0mle\u001b[0m\u001b[1;33m.\u001b[0m\u001b[0mtransform\u001b[0m\u001b[1;33m(\u001b[0m\u001b[0my_true\u001b[0m\u001b[1;33m)\u001b[0m\u001b[1;33m\u001b[0m\u001b[1;33m\u001b[0m\u001b[0m\n\u001b[1;32m--> 463\u001b[1;33m         \u001b[0my_pred\u001b[0m \u001b[1;33m=\u001b[0m \u001b[0mle\u001b[0m\u001b[1;33m.\u001b[0m\u001b[0mtransform\u001b[0m\u001b[1;33m(\u001b[0m\u001b[0my_pred\u001b[0m\u001b[1;33m)\u001b[0m\u001b[1;33m\u001b[0m\u001b[1;33m\u001b[0m\u001b[0m\n\u001b[0m\u001b[0;32m    464\u001b[0m         \u001b[0msorted_labels\u001b[0m \u001b[1;33m=\u001b[0m \u001b[0mle\u001b[0m\u001b[1;33m.\u001b[0m\u001b[0mclasses_\u001b[0m\u001b[1;33m\u001b[0m\u001b[1;33m\u001b[0m\u001b[0m\n\u001b[0;32m    465\u001b[0m \u001b[1;33m\u001b[0m\u001b[0m\n",
      "\u001b[1;32m~\\anaconda3\\lib\\site-packages\\sklearn\\preprocessing\\_label.py\u001b[0m in \u001b[0;36mtransform\u001b[1;34m(self, y)\u001b[0m\n\u001b[0;32m    275\u001b[0m             \u001b[1;32mreturn\u001b[0m \u001b[0mnp\u001b[0m\u001b[1;33m.\u001b[0m\u001b[0marray\u001b[0m\u001b[1;33m(\u001b[0m\u001b[1;33m[\u001b[0m\u001b[1;33m]\u001b[0m\u001b[1;33m)\u001b[0m\u001b[1;33m\u001b[0m\u001b[1;33m\u001b[0m\u001b[0m\n\u001b[0;32m    276\u001b[0m \u001b[1;33m\u001b[0m\u001b[0m\n\u001b[1;32m--> 277\u001b[1;33m         \u001b[0m_\u001b[0m\u001b[1;33m,\u001b[0m \u001b[0my\u001b[0m \u001b[1;33m=\u001b[0m \u001b[0m_encode\u001b[0m\u001b[1;33m(\u001b[0m\u001b[0my\u001b[0m\u001b[1;33m,\u001b[0m \u001b[0muniques\u001b[0m\u001b[1;33m=\u001b[0m\u001b[0mself\u001b[0m\u001b[1;33m.\u001b[0m\u001b[0mclasses_\u001b[0m\u001b[1;33m,\u001b[0m \u001b[0mencode\u001b[0m\u001b[1;33m=\u001b[0m\u001b[1;32mTrue\u001b[0m\u001b[1;33m)\u001b[0m\u001b[1;33m\u001b[0m\u001b[1;33m\u001b[0m\u001b[0m\n\u001b[0m\u001b[0;32m    278\u001b[0m         \u001b[1;32mreturn\u001b[0m \u001b[0my\u001b[0m\u001b[1;33m\u001b[0m\u001b[1;33m\u001b[0m\u001b[0m\n\u001b[0;32m    279\u001b[0m \u001b[1;33m\u001b[0m\u001b[0m\n",
      "\u001b[1;32m~\\anaconda3\\lib\\site-packages\\sklearn\\preprocessing\\_label.py\u001b[0m in \u001b[0;36m_encode\u001b[1;34m(values, uniques, encode, check_unknown)\u001b[0m\n\u001b[0;32m    119\u001b[0m         \u001b[1;32mreturn\u001b[0m \u001b[0mres\u001b[0m\u001b[1;33m\u001b[0m\u001b[1;33m\u001b[0m\u001b[0m\n\u001b[0;32m    120\u001b[0m     \u001b[1;32melse\u001b[0m\u001b[1;33m:\u001b[0m\u001b[1;33m\u001b[0m\u001b[1;33m\u001b[0m\u001b[0m\n\u001b[1;32m--> 121\u001b[1;33m         return _encode_numpy(values, uniques, encode,\n\u001b[0m\u001b[0;32m    122\u001b[0m                              check_unknown=check_unknown)\n\u001b[0;32m    123\u001b[0m \u001b[1;33m\u001b[0m\u001b[0m\n",
      "\u001b[1;32m~\\anaconda3\\lib\\site-packages\\sklearn\\preprocessing\\_label.py\u001b[0m in \u001b[0;36m_encode_numpy\u001b[1;34m(values, uniques, encode, check_unknown)\u001b[0m\n\u001b[0;32m     46\u001b[0m     \u001b[1;32mif\u001b[0m \u001b[0mencode\u001b[0m\u001b[1;33m:\u001b[0m\u001b[1;33m\u001b[0m\u001b[1;33m\u001b[0m\u001b[0m\n\u001b[0;32m     47\u001b[0m         \u001b[1;32mif\u001b[0m \u001b[0mcheck_unknown\u001b[0m\u001b[1;33m:\u001b[0m\u001b[1;33m\u001b[0m\u001b[1;33m\u001b[0m\u001b[0m\n\u001b[1;32m---> 48\u001b[1;33m             \u001b[0mdiff\u001b[0m \u001b[1;33m=\u001b[0m \u001b[0m_encode_check_unknown\u001b[0m\u001b[1;33m(\u001b[0m\u001b[0mvalues\u001b[0m\u001b[1;33m,\u001b[0m \u001b[0muniques\u001b[0m\u001b[1;33m)\u001b[0m\u001b[1;33m\u001b[0m\u001b[1;33m\u001b[0m\u001b[0m\n\u001b[0m\u001b[0;32m     49\u001b[0m             \u001b[1;32mif\u001b[0m \u001b[0mdiff\u001b[0m\u001b[1;33m:\u001b[0m\u001b[1;33m\u001b[0m\u001b[1;33m\u001b[0m\u001b[0m\n\u001b[0;32m     50\u001b[0m                 raise ValueError(\"y contains previously unseen labels: %s\"\n",
      "\u001b[1;32m~\\anaconda3\\lib\\site-packages\\sklearn\\preprocessing\\_label.py\u001b[0m in \u001b[0;36m_encode_check_unknown\u001b[1;34m(values, uniques, return_mask)\u001b[0m\n\u001b[0;32m    161\u001b[0m             \u001b[1;32mreturn\u001b[0m \u001b[0mdiff\u001b[0m\u001b[1;33m\u001b[0m\u001b[1;33m\u001b[0m\u001b[0m\n\u001b[0;32m    162\u001b[0m     \u001b[1;32melse\u001b[0m\u001b[1;33m:\u001b[0m\u001b[1;33m\u001b[0m\u001b[1;33m\u001b[0m\u001b[0m\n\u001b[1;32m--> 163\u001b[1;33m         \u001b[0munique_values\u001b[0m \u001b[1;33m=\u001b[0m \u001b[0mnp\u001b[0m\u001b[1;33m.\u001b[0m\u001b[0munique\u001b[0m\u001b[1;33m(\u001b[0m\u001b[0mvalues\u001b[0m\u001b[1;33m)\u001b[0m\u001b[1;33m\u001b[0m\u001b[1;33m\u001b[0m\u001b[0m\n\u001b[0m\u001b[0;32m    164\u001b[0m         \u001b[0mdiff\u001b[0m \u001b[1;33m=\u001b[0m \u001b[0mlist\u001b[0m\u001b[1;33m(\u001b[0m\u001b[0mnp\u001b[0m\u001b[1;33m.\u001b[0m\u001b[0msetdiff1d\u001b[0m\u001b[1;33m(\u001b[0m\u001b[0munique_values\u001b[0m\u001b[1;33m,\u001b[0m \u001b[0muniques\u001b[0m\u001b[1;33m,\u001b[0m \u001b[0massume_unique\u001b[0m\u001b[1;33m=\u001b[0m\u001b[1;32mTrue\u001b[0m\u001b[1;33m)\u001b[0m\u001b[1;33m)\u001b[0m\u001b[1;33m\u001b[0m\u001b[1;33m\u001b[0m\u001b[0m\n\u001b[0;32m    165\u001b[0m         \u001b[1;32mif\u001b[0m \u001b[0mreturn_mask\u001b[0m\u001b[1;33m:\u001b[0m\u001b[1;33m\u001b[0m\u001b[1;33m\u001b[0m\u001b[0m\n",
      "\u001b[1;32m<__array_function__ internals>\u001b[0m in \u001b[0;36munique\u001b[1;34m(*args, **kwargs)\u001b[0m\n",
      "\u001b[1;32m~\\anaconda3\\lib\\site-packages\\numpy\\lib\\arraysetops.py\u001b[0m in \u001b[0;36munique\u001b[1;34m(ar, return_index, return_inverse, return_counts, axis)\u001b[0m\n\u001b[0;32m    259\u001b[0m     \u001b[0mar\u001b[0m \u001b[1;33m=\u001b[0m \u001b[0mnp\u001b[0m\u001b[1;33m.\u001b[0m\u001b[0masanyarray\u001b[0m\u001b[1;33m(\u001b[0m\u001b[0mar\u001b[0m\u001b[1;33m)\u001b[0m\u001b[1;33m\u001b[0m\u001b[1;33m\u001b[0m\u001b[0m\n\u001b[0;32m    260\u001b[0m     \u001b[1;32mif\u001b[0m \u001b[0maxis\u001b[0m \u001b[1;32mis\u001b[0m \u001b[1;32mNone\u001b[0m\u001b[1;33m:\u001b[0m\u001b[1;33m\u001b[0m\u001b[1;33m\u001b[0m\u001b[0m\n\u001b[1;32m--> 261\u001b[1;33m         \u001b[0mret\u001b[0m \u001b[1;33m=\u001b[0m \u001b[0m_unique1d\u001b[0m\u001b[1;33m(\u001b[0m\u001b[0mar\u001b[0m\u001b[1;33m,\u001b[0m \u001b[0mreturn_index\u001b[0m\u001b[1;33m,\u001b[0m \u001b[0mreturn_inverse\u001b[0m\u001b[1;33m,\u001b[0m \u001b[0mreturn_counts\u001b[0m\u001b[1;33m)\u001b[0m\u001b[1;33m\u001b[0m\u001b[1;33m\u001b[0m\u001b[0m\n\u001b[0m\u001b[0;32m    262\u001b[0m         \u001b[1;32mreturn\u001b[0m \u001b[0m_unpack_tuple\u001b[0m\u001b[1;33m(\u001b[0m\u001b[0mret\u001b[0m\u001b[1;33m)\u001b[0m\u001b[1;33m\u001b[0m\u001b[1;33m\u001b[0m\u001b[0m\n\u001b[0;32m    263\u001b[0m \u001b[1;33m\u001b[0m\u001b[0m\n",
      "\u001b[1;32m~\\anaconda3\\lib\\site-packages\\numpy\\lib\\arraysetops.py\u001b[0m in \u001b[0;36m_unique1d\u001b[1;34m(ar, return_index, return_inverse, return_counts)\u001b[0m\n\u001b[0;32m    320\u001b[0m         \u001b[0maux\u001b[0m \u001b[1;33m=\u001b[0m \u001b[0mar\u001b[0m\u001b[1;33m[\u001b[0m\u001b[0mperm\u001b[0m\u001b[1;33m]\u001b[0m\u001b[1;33m\u001b[0m\u001b[1;33m\u001b[0m\u001b[0m\n\u001b[0;32m    321\u001b[0m     \u001b[1;32melse\u001b[0m\u001b[1;33m:\u001b[0m\u001b[1;33m\u001b[0m\u001b[1;33m\u001b[0m\u001b[0m\n\u001b[1;32m--> 322\u001b[1;33m         \u001b[0mar\u001b[0m\u001b[1;33m.\u001b[0m\u001b[0msort\u001b[0m\u001b[1;33m(\u001b[0m\u001b[1;33m)\u001b[0m\u001b[1;33m\u001b[0m\u001b[1;33m\u001b[0m\u001b[0m\n\u001b[0m\u001b[0;32m    323\u001b[0m         \u001b[0maux\u001b[0m \u001b[1;33m=\u001b[0m \u001b[0mar\u001b[0m\u001b[1;33m\u001b[0m\u001b[1;33m\u001b[0m\u001b[0m\n\u001b[0;32m    324\u001b[0m     \u001b[0mmask\u001b[0m \u001b[1;33m=\u001b[0m \u001b[0mnp\u001b[0m\u001b[1;33m.\u001b[0m\u001b[0mempty\u001b[0m\u001b[1;33m(\u001b[0m\u001b[0maux\u001b[0m\u001b[1;33m.\u001b[0m\u001b[0mshape\u001b[0m\u001b[1;33m,\u001b[0m \u001b[0mdtype\u001b[0m\u001b[1;33m=\u001b[0m\u001b[0mnp\u001b[0m\u001b[1;33m.\u001b[0m\u001b[0mbool_\u001b[0m\u001b[1;33m)\u001b[0m\u001b[1;33m\u001b[0m\u001b[1;33m\u001b[0m\u001b[0m\n",
      "\u001b[1;31mKeyboardInterrupt\u001b[0m: "
     ]
    }
   ],
   "source": [
    "MLPparametersGCN = {\n",
    "    'n_layers':2,\n",
    "    'layer_size_factor':[1,1], \n",
    "    'dropout':[0.3, 0.3],\n",
    "    'batch_size': 128,\n",
    "    'num_epochs': 900,\n",
    "    'learning_rate': 6e-4,\n",
    "    'weight_decay': 5e-3,\n",
    "    'betas': (0.9, 0.999), \n",
    "    'eps': 1e-08\n",
    "}\n",
    "MLPmodelGCN, _,_, MLPcheckpointGCN = MLP.train_MLP(dm, sim_all[\"GCN_train\"], sim_all[\"GCN_test\"], MLPparametersGCN, acc_fn=MLP.F1, autostop_decay = 0.995, print_summary = True)"
   ]
  },
  {
   "cell_type": "code",
   "execution_count": 63,
   "metadata": {},
   "outputs": [
    {
     "name": "stdout",
     "output_type": "stream",
     "text": [
      "model saved\n"
     ]
    }
   ],
   "source": [
    "#optional: save the model\n",
    "MLP.save_ckp(MLPcheckpointGCN, \"models/MLPGCN253_2.pt\")"
   ]
  },
  {
   "cell_type": "markdown",
   "metadata": {},
   "source": [
    "###### Result"
   ]
  },
  {
   "cell_type": "code",
   "execution_count": 71,
   "metadata": {},
   "outputs": [
    {
     "name": "stdout",
     "output_type": "stream",
     "text": [
      "device set to cuda\n",
      "threshold: 0.05  validation loss: 0.3613 F1 accuracy 0.338 Precision accuracy 0.21 Recall accuracy 0.865 AUC accuracy: 0.807\n",
      "device set to cuda\n",
      "threshold: 0.1  validation loss: 0.3613 F1 accuracy 0.388 Precision accuracy 0.256 Recall accuracy 0.798 AUC accuracy: 0.807\n",
      "device set to cuda\n",
      "threshold: 0.15  validation loss: 0.3613 F1 accuracy 0.407 Precision accuracy 0.285 Recall accuracy 0.708 AUC accuracy: 0.807\n",
      "device set to cuda\n",
      "threshold: 0.2  validation loss: 0.3613 F1 accuracy 0.428 Precision accuracy 0.315 Recall accuracy 0.67 AUC accuracy: 0.807\n",
      "device set to cuda\n",
      "threshold: 0.25  validation loss: 0.3613 F1 accuracy 0.44 Precision accuracy 0.337 Recall accuracy 0.635 AUC accuracy: 0.807\n",
      "device set to cuda\n",
      "threshold: 0.3  validation loss: 0.3613 F1 accuracy 0.444 Precision accuracy 0.356 Recall accuracy 0.59 AUC accuracy: 0.807\n",
      "device set to cuda\n",
      "threshold: 0.35  validation loss: 0.3613 F1 accuracy 0.443 Precision accuracy 0.375 Recall accuracy 0.542 AUC accuracy: 0.807\n",
      "device set to cuda\n",
      "threshold: 0.4  validation loss: 0.3613 F1 accuracy 0.447 Precision accuracy 0.394 Recall accuracy 0.516 AUC accuracy: 0.807\n",
      "device set to cuda\n",
      "threshold: 0.45  validation loss: 0.3613 F1 accuracy 0.46 Precision accuracy 0.421 Recall accuracy 0.506 AUC accuracy: 0.807\n",
      "device set to cuda\n",
      "threshold: 0.5  validation loss: 0.3613 F1 accuracy 0.44 Precision accuracy 0.423 Recall accuracy 0.458 AUC accuracy: 0.807\n",
      "device set to cuda\n",
      "threshold: 0.55  validation loss: 0.3613 F1 accuracy 0.432 Precision accuracy 0.438 Recall accuracy 0.426 AUC accuracy: 0.807\n",
      "device set to cuda\n",
      "threshold: 0.6  validation loss: 0.3613 F1 accuracy 0.424 Precision accuracy 0.45 Recall accuracy 0.401 AUC accuracy: 0.807\n",
      "device set to cuda\n",
      "threshold: 0.65  validation loss: 0.3613 F1 accuracy 0.395 Precision accuracy 0.454 Recall accuracy 0.349 AUC accuracy: 0.807\n",
      "device set to cuda\n",
      "threshold: 0.7  validation loss: 0.3613 F1 accuracy 0.369 Precision accuracy 0.468 Recall accuracy 0.304 AUC accuracy: 0.807\n",
      "device set to cuda\n",
      "threshold: 0.75  validation loss: 0.3613 F1 accuracy 0.355 Precision accuracy 0.471 Recall accuracy 0.285 AUC accuracy: 0.807\n",
      "device set to cuda\n",
      "threshold: 0.8  validation loss: 0.3613 F1 accuracy 0.314 Precision accuracy 0.477 Recall accuracy 0.234 AUC accuracy: 0.807\n",
      "device set to cuda\n",
      "threshold: 0.85  validation loss: 0.3613 F1 accuracy 0.242 Precision accuracy 0.441 Recall accuracy 0.167 AUC accuracy: 0.807\n",
      "device set to cuda\n",
      "threshold: 0.9  validation loss: 0.3613 F1 accuracy 0.141 Precision accuracy 0.375 Recall accuracy 0.087 AUC accuracy: 0.807\n",
      "device set to cuda\n",
      "threshold: 0.95  validation loss: 0.3613 F1 accuracy 0.052 Precision accuracy 0.25 Recall accuracy 0.029 AUC accuracy: 0.807\n",
      "device set to cuda\n"
     ]
    },
    {
     "data": {
      "image/png": "[encoded data removed]",
      "text/plain": [
       "<Figure size 720x720 with 1 Axes>"
      ]
     },
     "metadata": {},
     "output_type": "display_data"
    }
   ],
   "source": [
    "for i in range(5,100, 5):\n",
    "    t = i/100;\n",
    "    MLP.eval_mlp(MLPmodelGCN, sim_all[\"GCN_test\"], dm, device_name = 'cuda', threshold = t)\n",
    "MLP.eval_plot_MLP(MLPmodelGCN, sim_all[\"GCN_test\"], dm, device_name = 'cuda')"
   ]
  },
  {
   "cell_type": "markdown",
   "metadata": {},
   "source": [
    "##### 3.1.2 MLP for GDE"
   ]
  },
  {
   "cell_type": "markdown",
   "metadata": {},
   "source": [
    "###### Training"
   ]
  },
  {
   "cell_type": "code",
   "execution_count": 65,
   "metadata": {
    "collapsed": true,
    "jupyter": {
     "outputs_hidden": true
    }
   },
   "outputs": [
    {
     "name": "stdout",
     "output_type": "stream",
     "text": [
      "MLP(\n",
      "  (layers): ModuleList(\n",
      "    (0): Dropout(p=0.3, inplace=False)\n",
      "    (1): Linear(in_features=276, out_features=4, bias=True)\n",
      "    (2): ReLU()\n",
      "    (3): Dropout(p=0.3, inplace=False)\n",
      "    (4): Linear(in_features=4, out_features=1, bias=True)\n",
      "    (5): Sigmoid()\n",
      "  )\n",
      ")\n",
      "----------------------------------------------------------------\n",
      "        Layer (type)               Output Shape         Param #\n",
      "================================================================\n",
      "           Dropout-1                  [-1, 276]               0\n",
      "            Linear-2                    [-1, 4]           1,108\n",
      "              ReLU-3                    [-1, 4]               0\n",
      "           Dropout-4                    [-1, 4]               0\n",
      "            Linear-5                    [-1, 1]               5\n",
      "           Sigmoid-6                    [-1, 1]               0\n",
      "================================================================\n",
      "Total params: 1,113\n",
      "Trainable params: 1,113\n",
      "Non-trainable params: 0\n",
      "----------------------------------------------------------------\n",
      "Input size (MB): 0.00\n",
      "Forward/backward pass size (MB): 0.00\n",
      "Params size (MB): 0.00\n",
      "Estimated Total Size (MB): 0.01\n",
      "----------------------------------------------------------------\n",
      "Epoch: 1   Train loss: 0.9775   Train accuracy: 0.153   Val loss: 0.8261   Val accuracy: 0.288    weighted Val loss: 0.8261\n",
      "0.288 ----------saved-----------\n",
      "Epoch: 2   Train loss: 0.7871   Train accuracy: 0.172   Val loss: 0.7115   Val accuracy: 0.37    weighted Val loss: 0.8255\n",
      "0.37 ----------saved-----------\n",
      "Epoch: 3   Train loss: 0.6835   Train accuracy: 0.163   Val loss: 0.6077   Val accuracy: 0.368    weighted Val loss: 0.8244\n",
      "Epoch: 4   Train loss: 0.5844   Train accuracy: 0.187   Val loss: 0.5206   Val accuracy: 0.375    weighted Val loss: 0.8229\n",
      "0.375 ----------saved-----------\n",
      "Epoch: 5   Train loss: 0.535   Train accuracy: 0.142   Val loss: 0.4594   Val accuracy: 0.374    weighted Val loss: 0.8211\n",
      "Epoch: 6   Train loss: 0.5179   Train accuracy: 0.148   Val loss: 0.4192   Val accuracy: 0.388    weighted Val loss: 0.8191\n",
      "0.388 ----------saved-----------\n",
      "Epoch: 7   Train loss: 0.4819   Train accuracy: 0.134   Val loss: 0.3954   Val accuracy: 0.388    weighted Val loss: 0.8169\n",
      "0.388 ----------saved-----------\n",
      "Epoch: 8   Train loss: 0.4742   Train accuracy: 0.134   Val loss: 0.3769   Val accuracy: 0.408    weighted Val loss: 0.8147\n",
      "0.408 ----------saved-----------\n",
      "Epoch: 9   Train loss: 0.4668   Train accuracy: 0.141   Val loss: 0.366   Val accuracy: 0.406    weighted Val loss: 0.8125\n",
      "Epoch: 10   Train loss: 0.4572   Train accuracy: 0.115   Val loss: 0.3611   Val accuracy: 0.41    weighted Val loss: 0.8102\n",
      "0.41 ----------saved-----------\n",
      "Epoch: 11   Train loss: 0.4506   Train accuracy: 0.107   Val loss: 0.3577   Val accuracy: 0.412    weighted Val loss: 0.808\n",
      "0.412 ----------saved-----------\n",
      "Epoch: 12   Train loss: 0.4367   Train accuracy: 0.135   Val loss: 0.3539   Val accuracy: 0.419    weighted Val loss: 0.8057\n",
      "0.419 ----------saved-----------\n",
      "Epoch: 13   Train loss: 0.4464   Train accuracy: 0.109   Val loss: 0.3533   Val accuracy: 0.427    weighted Val loss: 0.8035\n",
      "0.427 ----------saved-----------\n",
      "Epoch: 14   Train loss: 0.4231   Train accuracy: 0.149   Val loss: 0.3508   Val accuracy: 0.431    weighted Val loss: 0.8012\n",
      "0.431 ----------saved-----------\n",
      "Epoch: 15   Train loss: 0.4257   Train accuracy: 0.122   Val loss: 0.3503   Val accuracy: 0.439    weighted Val loss: 0.7989\n",
      "0.439 ----------saved-----------\n",
      "Epoch: 16   Train loss: 0.41   Train accuracy: 0.13   Val loss: 0.3493   Val accuracy: 0.438    weighted Val loss: 0.7967\n",
      "Epoch: 17   Train loss: 0.412   Train accuracy: 0.148   Val loss: 0.3489   Val accuracy: 0.432    weighted Val loss: 0.7944\n",
      "Epoch: 18   Train loss: 0.4206   Train accuracy: 0.127   Val loss: 0.3503   Val accuracy: 0.428    weighted Val loss: 0.7922\n",
      "Epoch: 19   Train loss: 0.4082   Train accuracy: 0.123   Val loss: 0.3543   Val accuracy: 0.418    weighted Val loss: 0.79\n",
      "Epoch: 20   Train loss: 0.3994   Train accuracy: 0.141   Val loss: 0.3546   Val accuracy: 0.412    weighted Val loss: 0.7879\n",
      "Epoch: 21   Train loss: 0.4116   Train accuracy: 0.112   Val loss: 0.3573   Val accuracy: 0.404    weighted Val loss: 0.7857\n",
      "Epoch: 22   Train loss: 0.3985   Train accuracy: 0.143   Val loss: 0.3599   Val accuracy: 0.402    weighted Val loss: 0.7836\n",
      "Epoch: 23   Train loss: 0.3926   Train accuracy: 0.162   Val loss: 0.3586   Val accuracy: 0.402    weighted Val loss: 0.7815\n",
      "Epoch: 24   Train loss: 0.3904   Train accuracy: 0.172   Val loss: 0.3568   Val accuracy: 0.403    weighted Val loss: 0.7793\n",
      "Epoch: 25   Train loss: 0.3904   Train accuracy: 0.139   Val loss: 0.3558   Val accuracy: 0.403    weighted Val loss: 0.7772\n",
      "Epoch: 26   Train loss: 0.382   Train accuracy: 0.158   Val loss: 0.3572   Val accuracy: 0.397    weighted Val loss: 0.7751\n",
      "Epoch: 27   Train loss: 0.3806   Train accuracy: 0.172   Val loss: 0.3572   Val accuracy: 0.396    weighted Val loss: 0.773\n",
      "Epoch: 28   Train loss: 0.3884   Train accuracy: 0.146   Val loss: 0.3621   Val accuracy: 0.386    weighted Val loss: 0.771\n",
      "Epoch: 29   Train loss: 0.3839   Train accuracy: 0.169   Val loss: 0.3606   Val accuracy: 0.387    weighted Val loss: 0.7689\n",
      "Epoch: 30   Train loss: 0.367   Train accuracy: 0.158   Val loss: 0.36   Val accuracy: 0.383    weighted Val loss: 0.7669\n",
      "Epoch: 31   Train loss: 0.3803   Train accuracy: 0.169   Val loss: 0.3591   Val accuracy: 0.385    weighted Val loss: 0.7648\n",
      "Epoch: 32   Train loss: 0.3581   Train accuracy: 0.182   Val loss: 0.3582   Val accuracy: 0.386    weighted Val loss: 0.7628\n",
      "Epoch: 33   Train loss: 0.357   Train accuracy: 0.173   Val loss: 0.3576   Val accuracy: 0.384    weighted Val loss: 0.7608\n",
      "Epoch: 34   Train loss: 0.3613   Train accuracy: 0.175   Val loss: 0.3582   Val accuracy: 0.378    weighted Val loss: 0.7588\n",
      "Epoch: 35   Train loss: 0.3694   Train accuracy: 0.161   Val loss: 0.3602   Val accuracy: 0.375    weighted Val loss: 0.7568\n",
      "Epoch: 36   Train loss: 0.3504   Train accuracy: 0.178   Val loss: 0.3617   Val accuracy: 0.377    weighted Val loss: 0.7548\n",
      "Epoch: 37   Train loss: 0.3466   Train accuracy: 0.197   Val loss: 0.3595   Val accuracy: 0.376    weighted Val loss: 0.7528\n",
      "Epoch: 38   Train loss: 0.3492   Train accuracy: 0.191   Val loss: 0.3572   Val accuracy: 0.376    weighted Val loss: 0.7508\n",
      "Epoch: 39   Train loss: 0.3598   Train accuracy: 0.153   Val loss: 0.3577   Val accuracy: 0.374    weighted Val loss: 0.7489\n",
      "Epoch: 40   Train loss: 0.3513   Train accuracy: 0.179   Val loss: 0.3604   Val accuracy: 0.374    weighted Val loss: 0.7469\n",
      "Epoch: 41   Train loss: 0.3343   Train accuracy: 0.212   Val loss: 0.3571   Val accuracy: 0.377    weighted Val loss: 0.745\n",
      "Epoch: 42   Train loss: 0.3351   Train accuracy: 0.197   Val loss: 0.3515   Val accuracy: 0.379    weighted Val loss: 0.743\n",
      "Epoch: 43   Train loss: 0.3277   Train accuracy: 0.212   Val loss: 0.3501   Val accuracy: 0.375    weighted Val loss: 0.741\n",
      "Epoch: 44   Train loss: 0.3264   Train accuracy: 0.218   Val loss: 0.3543   Val accuracy: 0.377    weighted Val loss: 0.7391\n",
      "Epoch: 45   Train loss: 0.3316   Train accuracy: 0.193   Val loss: 0.3525   Val accuracy: 0.375    weighted Val loss: 0.7372\n",
      "Epoch: 46   Train loss: 0.3201   Train accuracy: 0.2   Val loss: 0.3536   Val accuracy: 0.373    weighted Val loss: 0.7353\n",
      "Epoch: 47   Train loss: 0.3256   Train accuracy: 0.204   Val loss: 0.3509   Val accuracy: 0.373    weighted Val loss: 0.7333\n",
      "Epoch: 48   Train loss: 0.3327   Train accuracy: 0.202   Val loss: 0.3504   Val accuracy: 0.379    weighted Val loss: 0.7314\n",
      "Epoch: 49   Train loss: 0.3279   Train accuracy: 0.221   Val loss: 0.3506   Val accuracy: 0.381    weighted Val loss: 0.7295\n",
      "Epoch: 50   Train loss: 0.3248   Train accuracy: 0.215   Val loss: 0.3496   Val accuracy: 0.375    weighted Val loss: 0.7276\n",
      "Epoch: 51   Train loss: 0.3231   Train accuracy: 0.211   Val loss: 0.3526   Val accuracy: 0.375    weighted Val loss: 0.7257\n",
      "Epoch: 52   Train loss: 0.3262   Train accuracy: 0.217   Val loss: 0.3526   Val accuracy: 0.369    weighted Val loss: 0.7239\n",
      "Epoch: 53   Train loss: 0.3145   Train accuracy: 0.234   Val loss: 0.3483   Val accuracy: 0.369    weighted Val loss: 0.722\n",
      "Epoch: 54   Train loss: 0.3131   Train accuracy: 0.205   Val loss: 0.3474   Val accuracy: 0.368    weighted Val loss: 0.7201\n",
      "Epoch: 55   Train loss: 0.319   Train accuracy: 0.221   Val loss: 0.3517   Val accuracy: 0.373    weighted Val loss: 0.7183\n",
      "Epoch: 56   Train loss: 0.3174   Train accuracy: 0.234   Val loss: 0.3469   Val accuracy: 0.372    weighted Val loss: 0.7164\n",
      "Epoch: 57   Train loss: 0.2967   Train accuracy: 0.226   Val loss: 0.3447   Val accuracy: 0.37    weighted Val loss: 0.7146\n",
      "Epoch: 58   Train loss: 0.3104   Train accuracy: 0.221   Val loss: 0.3431   Val accuracy: 0.37    weighted Val loss: 0.7127\n",
      "Epoch: 59   Train loss: 0.2997   Train accuracy: 0.008   Val loss: 0.3433   Val accuracy: 0.372    weighted Val loss: 0.7109\n",
      "Epoch: 60   Train loss: 0.309   Train accuracy: 0.008   Val loss: 0.3414   Val accuracy: 0.377    weighted Val loss: 0.709\n",
      "Epoch: 61   Train loss: 0.2967   Train accuracy: 0.031   Val loss: 0.3422   Val accuracy: 0.373    weighted Val loss: 0.7072\n",
      "Epoch: 62   Train loss: 0.3064   Train accuracy: 0.022   Val loss: 0.3427   Val accuracy: 0.371    weighted Val loss: 0.7054\n",
      "Epoch: 63   Train loss: 0.2977   Train accuracy: 0.008   Val loss: 0.3429   Val accuracy: 0.371    weighted Val loss: 0.7036\n",
      "Epoch: 64   Train loss: 0.3006   Train accuracy: 0.02   Val loss: 0.3418   Val accuracy: 0.372    weighted Val loss: 0.7017\n",
      "Epoch: 65   Train loss: 0.2885   Train accuracy: 0.056   Val loss: 0.3365   Val accuracy: 0.378    weighted Val loss: 0.6999\n",
      "Epoch: 66   Train loss: 0.2826   Train accuracy: 0.013   Val loss: 0.3367   Val accuracy: 0.38    weighted Val loss: 0.6981\n",
      "Epoch: 67   Train loss: 0.2989   Train accuracy: 0.046   Val loss: 0.3424   Val accuracy: 0.369    weighted Val loss: 0.6963\n",
      "Epoch: 68   Train loss: 0.2968   Train accuracy: 0.089   Val loss: 0.339   Val accuracy: 0.371    weighted Val loss: 0.6945\n",
      "Epoch: 69   Train loss: 0.2997   Train accuracy: 0.089   Val loss: 0.3379   Val accuracy: 0.376    weighted Val loss: 0.6928\n",
      "Epoch: 70   Train loss: 0.2999   Train accuracy: 0.201   Val loss: 0.3398   Val accuracy: 0.371    weighted Val loss: 0.691\n",
      "Epoch: 71   Train loss: 0.2832   Train accuracy: 0.193   Val loss: 0.3452   Val accuracy: 0.368    weighted Val loss: 0.6893\n",
      "Epoch: 72   Train loss: 0.2806   Train accuracy: 0.349   Val loss: 0.3432   Val accuracy: 0.367    weighted Val loss: 0.6875\n",
      "Epoch: 73   Train loss: 0.2958   Train accuracy: 0.411   Val loss: 0.3395   Val accuracy: 0.379    weighted Val loss: 0.6858\n",
      "Epoch: 74   Train loss: 0.29   Train accuracy: 0.494   Val loss: 0.3467   Val accuracy: 0.375    weighted Val loss: 0.6841\n",
      "Epoch: 75   Train loss: 0.2768   Train accuracy: 0.511   Val loss: 0.3443   Val accuracy: 0.38    weighted Val loss: 0.6824\n",
      "Epoch: 76   Train loss: 0.2748   Train accuracy: 0.511   Val loss: 0.3454   Val accuracy: 0.374    weighted Val loss: 0.6807\n",
      "Epoch: 77   Train loss: 0.2926   Train accuracy: 0.478   Val loss: 0.3462   Val accuracy: 0.378    weighted Val loss: 0.679\n",
      "Epoch: 78   Train loss: 0.2869   Train accuracy: 0.506   Val loss: 0.3487   Val accuracy: 0.375    weighted Val loss: 0.6774\n",
      "Epoch: 79   Train loss: 0.2645   Train accuracy: 0.536   Val loss: 0.3437   Val accuracy: 0.383    weighted Val loss: 0.6757\n",
      "Epoch: 80   Train loss: 0.266   Train accuracy: 0.582   Val loss: 0.349   Val accuracy: 0.379    weighted Val loss: 0.6741\n",
      "Epoch: 81   Train loss: 0.2758   Train accuracy: 0.528   Val loss: 0.3517   Val accuracy: 0.378    weighted Val loss: 0.6725\n",
      "Epoch: 82   Train loss: 0.2637   Train accuracy: 0.601   Val loss: 0.3494   Val accuracy: 0.383    weighted Val loss: 0.6709\n",
      "Epoch: 83   Train loss: 0.2653   Train accuracy: 0.606   Val loss: 0.3521   Val accuracy: 0.382    weighted Val loss: 0.6693\n",
      "Epoch: 84   Train loss: 0.2591   Train accuracy: 0.567   Val loss: 0.3514   Val accuracy: 0.383    weighted Val loss: 0.6677\n",
      "Epoch: 85   Train loss: 0.2676   Train accuracy: 0.565   Val loss: 0.3463   Val accuracy: 0.388    weighted Val loss: 0.6661\n",
      "Epoch: 86   Train loss: 0.2617   Train accuracy: 0.546   Val loss: 0.3472   Val accuracy: 0.389    weighted Val loss: 0.6645\n",
      "Epoch: 87   Train loss: 0.2518   Train accuracy: 0.615   Val loss: 0.3511   Val accuracy: 0.389    weighted Val loss: 0.6629\n",
      "Epoch: 88   Train loss: 0.2633   Train accuracy: 0.606   Val loss: 0.3503   Val accuracy: 0.389    weighted Val loss: 0.6613\n",
      "Epoch: 89   Train loss: 0.2572   Train accuracy: 0.614   Val loss: 0.3498   Val accuracy: 0.391    weighted Val loss: 0.6598\n",
      "Epoch: 90   Train loss: 0.2503   Train accuracy: 0.622   Val loss: 0.3485   Val accuracy: 0.385    weighted Val loss: 0.6582\n",
      "Epoch: 91   Train loss: 0.2537   Train accuracy: 0.602   Val loss: 0.3431   Val accuracy: 0.386    weighted Val loss: 0.6567\n",
      "Epoch: 92   Train loss: 0.2439   Train accuracy: 0.619   Val loss: 0.3459   Val accuracy: 0.383    weighted Val loss: 0.6551\n",
      "Epoch: 93   Train loss: 0.2462   Train accuracy: 0.59   Val loss: 0.3386   Val accuracy: 0.39    weighted Val loss: 0.6535\n",
      "Epoch: 94   Train loss: 0.244   Train accuracy: 0.638   Val loss: 0.3428   Val accuracy: 0.385    weighted Val loss: 0.652\n",
      "Epoch: 95   Train loss: 0.2411   Train accuracy: 0.635   Val loss: 0.3453   Val accuracy: 0.388    weighted Val loss: 0.6504\n",
      "Epoch: 96   Train loss: 0.234   Train accuracy: 0.648   Val loss: 0.3449   Val accuracy: 0.387    weighted Val loss: 0.6489\n",
      "Epoch: 97   Train loss: 0.2386   Train accuracy: 0.602   Val loss: 0.3465   Val accuracy: 0.389    weighted Val loss: 0.6474\n",
      "Epoch: 98   Train loss: 0.2423   Train accuracy: 0.617   Val loss: 0.3487   Val accuracy: 0.387    weighted Val loss: 0.6459\n",
      "Epoch: 99   Train loss: 0.2342   Train accuracy: 0.57   Val loss: 0.3465   Val accuracy: 0.388    weighted Val loss: 0.6444\n",
      "Epoch: 100   Train loss: 0.2483   Train accuracy: 0.616   Val loss: 0.3422   Val accuracy: 0.389    weighted Val loss: 0.6429\n",
      "Epoch: 101   Train loss: 0.2439   Train accuracy: 0.619   Val loss: 0.3428   Val accuracy: 0.393    weighted Val loss: 0.6414\n",
      "Epoch: 102   Train loss: 0.2311   Train accuracy: 0.632   Val loss: 0.3421   Val accuracy: 0.395    weighted Val loss: 0.6399\n",
      "Epoch: 103   Train loss: 0.2431   Train accuracy: 0.601   Val loss: 0.3418   Val accuracy: 0.398    weighted Val loss: 0.6384\n",
      "Epoch: 104   Train loss: 0.2304   Train accuracy: 0.615   Val loss: 0.344   Val accuracy: 0.392    weighted Val loss: 0.6369\n",
      "Epoch: 105   Train loss: 0.2311   Train accuracy: 0.687   Val loss: 0.3477   Val accuracy: 0.404    weighted Val loss: 0.6355\n",
      "Epoch: 106   Train loss: 0.2261   Train accuracy: 0.667   Val loss: 0.345   Val accuracy: 0.4    weighted Val loss: 0.634\n",
      "Epoch: 107   Train loss: 0.2369   Train accuracy: 0.648   Val loss: 0.3438   Val accuracy: 0.4    weighted Val loss: 0.6326\n",
      "Epoch: 108   Train loss: 0.2305   Train accuracy: 0.588   Val loss: 0.3432   Val accuracy: 0.397    weighted Val loss: 0.6311\n",
      "Epoch: 109   Train loss: 0.2302   Train accuracy: 0.599   Val loss: 0.3447   Val accuracy: 0.395    weighted Val loss: 0.6297\n",
      "Epoch: 110   Train loss: 0.2258   Train accuracy: 0.656   Val loss: 0.3402   Val accuracy: 0.402    weighted Val loss: 0.6283\n",
      "Epoch: 111   Train loss: 0.2272   Train accuracy: 0.615   Val loss: 0.3386   Val accuracy: 0.409    weighted Val loss: 0.6268\n",
      "Epoch: 112   Train loss: 0.2334   Train accuracy: 0.56   Val loss: 0.3396   Val accuracy: 0.401    weighted Val loss: 0.6254\n",
      "Epoch: 113   Train loss: 0.2177   Train accuracy: 0.656   Val loss: 0.3493   Val accuracy: 0.394    weighted Val loss: 0.624\n",
      "Epoch: 114   Train loss: 0.2225   Train accuracy: 0.643   Val loss: 0.3454   Val accuracy: 0.395    weighted Val loss: 0.6226\n",
      "Epoch: 115   Train loss: 0.2125   Train accuracy: 0.671   Val loss: 0.3397   Val accuracy: 0.403    weighted Val loss: 0.6212\n",
      "Epoch: 116   Train loss: 0.2205   Train accuracy: 0.623   Val loss: 0.3435   Val accuracy: 0.4    weighted Val loss: 0.6198\n",
      "Epoch: 117   Train loss: 0.2235   Train accuracy: 0.63   Val loss: 0.3401   Val accuracy: 0.402    weighted Val loss: 0.6184\n",
      "Epoch: 118   Train loss: 0.2233   Train accuracy: 0.638   Val loss: 0.3436   Val accuracy: 0.403    weighted Val loss: 0.617\n",
      "Epoch: 119   Train loss: 0.2219   Train accuracy: 0.613   Val loss: 0.3361   Val accuracy: 0.411    weighted Val loss: 0.6156\n",
      "Epoch: 120   Train loss: 0.2193   Train accuracy: 0.618   Val loss: 0.3374   Val accuracy: 0.403    weighted Val loss: 0.6142\n",
      "Epoch: 121   Train loss: 0.2153   Train accuracy: 0.666   Val loss: 0.34   Val accuracy: 0.398    weighted Val loss: 0.6129\n",
      "Epoch: 122   Train loss: 0.2082   Train accuracy: 0.646   Val loss: 0.3486   Val accuracy: 0.395    weighted Val loss: 0.6115\n",
      "Epoch: 123   Train loss: 0.2211   Train accuracy: 0.672   Val loss: 0.3442   Val accuracy: 0.397    weighted Val loss: 0.6102\n",
      "Epoch: 124   Train loss: 0.222   Train accuracy: 0.619   Val loss: 0.347   Val accuracy: 0.392    weighted Val loss: 0.6089\n",
      "Epoch: 125   Train loss: 0.2125   Train accuracy: 0.687   Val loss: 0.3448   Val accuracy: 0.398    weighted Val loss: 0.6076\n",
      "Epoch: 126   Train loss: 0.205   Train accuracy: 0.67   Val loss: 0.3426   Val accuracy: 0.402    weighted Val loss: 0.6062\n",
      "Epoch: 127   Train loss: 0.215   Train accuracy: 0.643   Val loss: 0.339   Val accuracy: 0.405    weighted Val loss: 0.6049\n",
      "Epoch: 128   Train loss: 0.2129   Train accuracy: 0.606   Val loss: 0.3407   Val accuracy: 0.405    weighted Val loss: 0.6036\n",
      "Epoch: 129   Train loss: 0.2097   Train accuracy: 0.654   Val loss: 0.3407   Val accuracy: 0.408    weighted Val loss: 0.6023\n",
      "Epoch: 130   Train loss: 0.1993   Train accuracy: 0.697   Val loss: 0.3492   Val accuracy: 0.407    weighted Val loss: 0.601\n",
      "Epoch: 131   Train loss: 0.1988   Train accuracy: 0.657   Val loss: 0.3447   Val accuracy: 0.402    weighted Val loss: 0.5997\n",
      "Epoch: 132   Train loss: 0.2005   Train accuracy: 0.644   Val loss: 0.3421   Val accuracy: 0.402    weighted Val loss: 0.5984\n",
      "Epoch: 133   Train loss: 0.2098   Train accuracy: 0.65   Val loss: 0.3448   Val accuracy: 0.398    weighted Val loss: 0.5972\n",
      "Epoch: 134   Train loss: 0.2079   Train accuracy: 0.642   Val loss: 0.3492   Val accuracy: 0.404    weighted Val loss: 0.5959\n",
      "Epoch: 135   Train loss: 0.2094   Train accuracy: 0.668   Val loss: 0.3418   Val accuracy: 0.403    weighted Val loss: 0.5946\n",
      "Epoch: 136   Train loss: 0.2038   Train accuracy: 0.659   Val loss: 0.3372   Val accuracy: 0.406    weighted Val loss: 0.5934\n",
      "Epoch: 137   Train loss: 0.2023   Train accuracy: 0.657   Val loss: 0.3422   Val accuracy: 0.413    weighted Val loss: 0.5921\n",
      "Epoch: 138   Train loss: 0.2104   Train accuracy: 0.682   Val loss: 0.3371   Val accuracy: 0.414    weighted Val loss: 0.5908\n",
      "Epoch: 139   Train loss: 0.2002   Train accuracy: 0.656   Val loss: 0.3386   Val accuracy: 0.406    weighted Val loss: 0.5896\n",
      "Epoch: 140   Train loss: 0.1989   Train accuracy: 0.612   Val loss: 0.3426   Val accuracy: 0.407    weighted Val loss: 0.5883\n",
      "Epoch: 141   Train loss: 0.2102   Train accuracy: 0.626   Val loss: 0.3405   Val accuracy: 0.406    weighted Val loss: 0.5871\n",
      "Epoch: 142   Train loss: 0.1987   Train accuracy: 0.657   Val loss: 0.3437   Val accuracy: 0.41    weighted Val loss: 0.5859\n",
      "Epoch: 143   Train loss: 0.1963   Train accuracy: 0.657   Val loss: 0.3393   Val accuracy: 0.411    weighted Val loss: 0.5846\n",
      "Epoch: 144   Train loss: 0.2047   Train accuracy: 0.643   Val loss: 0.3377   Val accuracy: 0.415    weighted Val loss: 0.5834\n",
      "Epoch: 145   Train loss: 0.1856   Train accuracy: 0.642   Val loss: 0.339   Val accuracy: 0.416    weighted Val loss: 0.5822\n",
      "Epoch: 146   Train loss: 0.1925   Train accuracy: 0.687   Val loss: 0.3454   Val accuracy: 0.414    weighted Val loss: 0.581\n",
      "Epoch: 147   Train loss: 0.1949   Train accuracy: 0.647   Val loss: 0.3361   Val accuracy: 0.417    weighted Val loss: 0.5798\n",
      "Epoch: 148   Train loss: 0.1917   Train accuracy: 0.678   Val loss: 0.3339   Val accuracy: 0.425    weighted Val loss: 0.5786\n",
      "Epoch: 149   Train loss: 0.1933   Train accuracy: 0.704   Val loss: 0.3485   Val accuracy: 0.4    weighted Val loss: 0.5774\n",
      "Epoch: 150   Train loss: 0.2004   Train accuracy: 0.687   Val loss: 0.3443   Val accuracy: 0.405    weighted Val loss: 0.5762\n",
      "Epoch: 151   Train loss: 0.1891   Train accuracy: 0.68   Val loss: 0.3442   Val accuracy: 0.403    weighted Val loss: 0.5751\n",
      "Epoch: 152   Train loss: 0.1937   Train accuracy: 0.639   Val loss: 0.3418   Val accuracy: 0.405    weighted Val loss: 0.5739\n",
      "Epoch: 153   Train loss: 0.1919   Train accuracy: 0.651   Val loss: 0.3498   Val accuracy: 0.411    weighted Val loss: 0.5728\n",
      "Epoch: 154   Train loss: 0.1978   Train accuracy: 0.615   Val loss: 0.3444   Val accuracy: 0.397    weighted Val loss: 0.5716\n",
      "Epoch: 155   Train loss: 0.1842   Train accuracy: 0.665   Val loss: 0.3512   Val accuracy: 0.392    weighted Val loss: 0.5705\n",
      "Epoch: 156   Train loss: 0.1917   Train accuracy: 0.662   Val loss: 0.3491   Val accuracy: 0.396    weighted Val loss: 0.5694\n",
      "Epoch: 157   Train loss: 0.1893   Train accuracy: 0.651   Val loss: 0.3545   Val accuracy: 0.392    weighted Val loss: 0.5684\n",
      "Epoch: 158   Train loss: 0.1938   Train accuracy: 0.694   Val loss: 0.3478   Val accuracy: 0.392    weighted Val loss: 0.5673\n",
      "Epoch: 159   Train loss: 0.1783   Train accuracy: 0.681   Val loss: 0.3556   Val accuracy: 0.388    weighted Val loss: 0.5662\n",
      "Epoch: 160   Train loss: 0.1901   Train accuracy: 0.646   Val loss: 0.343   Val accuracy: 0.402    weighted Val loss: 0.5651\n",
      "Epoch: 161   Train loss: 0.1799   Train accuracy: 0.671   Val loss: 0.3569   Val accuracy: 0.394    weighted Val loss: 0.564\n",
      "Epoch: 162   Train loss: 0.1733   Train accuracy: 0.735   Val loss: 0.355   Val accuracy: 0.395    weighted Val loss: 0.563\n",
      "Epoch: 163   Train loss: 0.1849   Train accuracy: 0.689   Val loss: 0.3448   Val accuracy: 0.408    weighted Val loss: 0.5619\n",
      "Epoch: 164   Train loss: 0.1811   Train accuracy: 0.687   Val loss: 0.3487   Val accuracy: 0.415    weighted Val loss: 0.5608\n",
      "Epoch: 165   Train loss: 0.175   Train accuracy: 0.705   Val loss: 0.3442   Val accuracy: 0.414    weighted Val loss: 0.5598\n",
      "Epoch: 166   Train loss: 0.1676   Train accuracy: 0.759   Val loss: 0.3567   Val accuracy: 0.409    weighted Val loss: 0.5587\n",
      "Epoch: 167   Train loss: 0.1648   Train accuracy: 0.752   Val loss: 0.3462   Val accuracy: 0.416    weighted Val loss: 0.5577\n",
      "Epoch: 168   Train loss: 0.1779   Train accuracy: 0.662   Val loss: 0.346   Val accuracy: 0.416    weighted Val loss: 0.5566\n",
      "Epoch: 169   Train loss: 0.1726   Train accuracy: 0.716   Val loss: 0.3593   Val accuracy: 0.401    weighted Val loss: 0.5556\n",
      "Epoch: 170   Train loss: 0.1779   Train accuracy: 0.675   Val loss: 0.3546   Val accuracy: 0.409    weighted Val loss: 0.5546\n",
      "Epoch: 171   Train loss: 0.1777   Train accuracy: 0.694   Val loss: 0.3535   Val accuracy: 0.409    weighted Val loss: 0.5536\n",
      "Epoch: 172   Train loss: 0.1694   Train accuracy: 0.724   Val loss: 0.3501   Val accuracy: 0.408    weighted Val loss: 0.5526\n",
      "Epoch: 173   Train loss: 0.1774   Train accuracy: 0.724   Val loss: 0.355   Val accuracy: 0.396    weighted Val loss: 0.5516\n",
      "Epoch: 174   Train loss: 0.1764   Train accuracy: 0.692   Val loss: 0.3557   Val accuracy: 0.401    weighted Val loss: 0.5506\n",
      "Epoch: 175   Train loss: 0.1693   Train accuracy: 0.75   Val loss: 0.3483   Val accuracy: 0.404    weighted Val loss: 0.5496\n",
      "Epoch: 176   Train loss: 0.1794   Train accuracy: 0.695   Val loss: 0.3563   Val accuracy: 0.402    weighted Val loss: 0.5487\n",
      "Epoch: 177   Train loss: 0.1677   Train accuracy: 0.76   Val loss: 0.3537   Val accuracy: 0.401    weighted Val loss: 0.5477\n",
      "Epoch: 178   Train loss: 0.1732   Train accuracy: 0.722   Val loss: 0.3588   Val accuracy: 0.4    weighted Val loss: 0.5467\n",
      "Epoch: 179   Train loss: 0.1703   Train accuracy: 0.708   Val loss: 0.3497   Val accuracy: 0.418    weighted Val loss: 0.5458\n",
      "Epoch: 180   Train loss: 0.1669   Train accuracy: 0.705   Val loss: 0.354   Val accuracy: 0.416    weighted Val loss: 0.5448\n",
      "Epoch: 181   Train loss: 0.1689   Train accuracy: 0.756   Val loss: 0.3504   Val accuracy: 0.42    weighted Val loss: 0.5438\n",
      "Epoch: 182   Train loss: 0.168   Train accuracy: 0.704   Val loss: 0.347   Val accuracy: 0.421    weighted Val loss: 0.5428\n",
      "Epoch: 183   Train loss: 0.1643   Train accuracy: 0.754   Val loss: 0.3495   Val accuracy: 0.41    weighted Val loss: 0.5419\n",
      "Epoch: 184   Train loss: 0.1637   Train accuracy: 0.738   Val loss: 0.3535   Val accuracy: 0.411    weighted Val loss: 0.5409\n",
      "Epoch: 185   Train loss: 0.1577   Train accuracy: 0.759   Val loss: 0.3513   Val accuracy: 0.414    weighted Val loss: 0.54\n",
      "Epoch: 186   Train loss: 0.1724   Train accuracy: 0.683   Val loss: 0.3507   Val accuracy: 0.41    weighted Val loss: 0.539\n",
      "Epoch: 187   Train loss: 0.163   Train accuracy: 0.73   Val loss: 0.3534   Val accuracy: 0.411    weighted Val loss: 0.5381\n",
      "Epoch: 188   Train loss: 0.1556   Train accuracy: 0.742   Val loss: 0.3502   Val accuracy: 0.414    weighted Val loss: 0.5372\n",
      "Epoch: 189   Train loss: 0.156   Train accuracy: 0.758   Val loss: 0.3569   Val accuracy: 0.413    weighted Val loss: 0.5363\n",
      "Epoch: 190   Train loss: 0.1562   Train accuracy: 0.759   Val loss: 0.3496   Val accuracy: 0.42    weighted Val loss: 0.5353\n",
      "Epoch: 191   Train loss: 0.1563   Train accuracy: 0.717   Val loss: 0.3455   Val accuracy: 0.428    weighted Val loss: 0.5344\n",
      "Epoch: 192   Train loss: 0.1685   Train accuracy: 0.764   Val loss: 0.3505   Val accuracy: 0.415    weighted Val loss: 0.5335\n",
      "Epoch: 193   Train loss: 0.1636   Train accuracy: 0.733   Val loss: 0.3536   Val accuracy: 0.415    weighted Val loss: 0.5326\n",
      "Epoch: 194   Train loss: 0.1682   Train accuracy: 0.732   Val loss: 0.3463   Val accuracy: 0.403    weighted Val loss: 0.5316\n",
      "Epoch: 195   Train loss: 0.1579   Train accuracy: 0.73   Val loss: 0.3542   Val accuracy: 0.418    weighted Val loss: 0.5308\n",
      "Epoch: 196   Train loss: 0.1645   Train accuracy: 0.741   Val loss: 0.3489   Val accuracy: 0.415    weighted Val loss: 0.5298\n",
      "Epoch: 197   Train loss: 0.1621   Train accuracy: 0.739   Val loss: 0.3444   Val accuracy: 0.415    weighted Val loss: 0.5289\n",
      "Epoch: 198   Train loss: 0.1587   Train accuracy: 0.703   Val loss: 0.3436   Val accuracy: 0.415    weighted Val loss: 0.528\n",
      "Epoch: 199   Train loss: 0.1618   Train accuracy: 0.721   Val loss: 0.3459   Val accuracy: 0.412    weighted Val loss: 0.5271\n",
      "Epoch: 200   Train loss: 0.1555   Train accuracy: 0.725   Val loss: 0.3442   Val accuracy: 0.414    weighted Val loss: 0.5262\n",
      "Epoch: 201   Train loss: 0.1486   Train accuracy: 0.742   Val loss: 0.3533   Val accuracy: 0.422    weighted Val loss: 0.5253\n",
      "Epoch: 202   Train loss: 0.1533   Train accuracy: 0.746   Val loss: 0.3512   Val accuracy: 0.418    weighted Val loss: 0.5244\n",
      "Epoch: 203   Train loss: 0.1548   Train accuracy: 0.741   Val loss: 0.3538   Val accuracy: 0.41    weighted Val loss: 0.5236\n",
      "Epoch: 204   Train loss: 0.1427   Train accuracy: 0.789   Val loss: 0.3511   Val accuracy: 0.414    weighted Val loss: 0.5227\n",
      "Epoch: 205   Train loss: 0.1493   Train accuracy: 0.705   Val loss: 0.3628   Val accuracy: 0.408    weighted Val loss: 0.5219\n",
      "Epoch: 206   Train loss: 0.1469   Train accuracy: 0.745   Val loss: 0.3535   Val accuracy: 0.413    weighted Val loss: 0.5211\n",
      "Epoch: 207   Train loss: 0.1475   Train accuracy: 0.763   Val loss: 0.3484   Val accuracy: 0.416    weighted Val loss: 0.5202\n",
      "Epoch: 208   Train loss: 0.1616   Train accuracy: 0.664   Val loss: 0.3469   Val accuracy: 0.41    weighted Val loss: 0.5193\n",
      "Epoch: 209   Train loss: 0.1508   Train accuracy: 0.759   Val loss: 0.3474   Val accuracy: 0.416    weighted Val loss: 0.5185\n",
      "Epoch: 210   Train loss: 0.1479   Train accuracy: 0.738   Val loss: 0.3464   Val accuracy: 0.419    weighted Val loss: 0.5176\n",
      "Epoch: 211   Train loss: 0.1603   Train accuracy: 0.738   Val loss: 0.3393   Val accuracy: 0.417    weighted Val loss: 0.5167\n",
      "Epoch: 212   Train loss: 0.1497   Train accuracy: 0.713   Val loss: 0.3428   Val accuracy: 0.417    weighted Val loss: 0.5159\n",
      "Epoch: 213   Train loss: 0.148   Train accuracy: 0.727   Val loss: 0.3411   Val accuracy: 0.426    weighted Val loss: 0.515\n",
      "Epoch: 214   Train loss: 0.1535   Train accuracy: 0.772   Val loss: 0.3497   Val accuracy: 0.416    weighted Val loss: 0.5142\n",
      "Epoch: 215   Train loss: 0.1529   Train accuracy: 0.737   Val loss: 0.3506   Val accuracy: 0.419    weighted Val loss: 0.5133\n",
      "Epoch: 216   Train loss: 0.1542   Train accuracy: 0.753   Val loss: 0.3491   Val accuracy: 0.421    weighted Val loss: 0.5125\n",
      "Epoch: 217   Train loss: 0.147   Train accuracy: 0.78   Val loss: 0.3546   Val accuracy: 0.413    weighted Val loss: 0.5117\n",
      "Epoch: 218   Train loss: 0.1484   Train accuracy: 0.76   Val loss: 0.3565   Val accuracy: 0.409    weighted Val loss: 0.511\n",
      "Epoch: 219   Train loss: 0.1492   Train accuracy: 0.767   Val loss: 0.3556   Val accuracy: 0.404    weighted Val loss: 0.5102\n",
      "Epoch: 220   Train loss: 0.143   Train accuracy: 0.787   Val loss: 0.3539   Val accuracy: 0.413    weighted Val loss: 0.5094\n",
      "Epoch: 221   Train loss: 0.1478   Train accuracy: 0.751   Val loss: 0.3439   Val accuracy: 0.426    weighted Val loss: 0.5086\n",
      "Epoch: 222   Train loss: 0.1455   Train accuracy: 0.764   Val loss: 0.3425   Val accuracy: 0.424    weighted Val loss: 0.5077\n",
      "Epoch: 223   Train loss: 0.1464   Train accuracy: 0.762   Val loss: 0.3429   Val accuracy: 0.42    weighted Val loss: 0.5069\n",
      "Epoch: 224   Train loss: 0.1423   Train accuracy: 0.723   Val loss: 0.3555   Val accuracy: 0.416    weighted Val loss: 0.5062\n",
      "Epoch: 225   Train loss: 0.1461   Train accuracy: 0.783   Val loss: 0.3483   Val accuracy: 0.416    weighted Val loss: 0.5054\n",
      "Epoch: 226   Train loss: 0.1463   Train accuracy: 0.75   Val loss: 0.3433   Val accuracy: 0.417    weighted Val loss: 0.5046\n",
      "Epoch: 227   Train loss: 0.1382   Train accuracy: 0.762   Val loss: 0.3506   Val accuracy: 0.413    weighted Val loss: 0.5038\n",
      "Epoch: 228   Train loss: 0.1402   Train accuracy: 0.774   Val loss: 0.3505   Val accuracy: 0.419    weighted Val loss: 0.503\n",
      "Epoch: 229   Train loss: 0.1465   Train accuracy: 0.755   Val loss: 0.346   Val accuracy: 0.419    weighted Val loss: 0.5022\n",
      "Epoch: 230   Train loss: 0.1457   Train accuracy: 0.762   Val loss: 0.3429   Val accuracy: 0.419    weighted Val loss: 0.5014\n",
      "Epoch: 231   Train loss: 0.1428   Train accuracy: 0.78   Val loss: 0.3442   Val accuracy: 0.429    weighted Val loss: 0.5007\n",
      "Epoch: 232   Train loss: 0.1406   Train accuracy: 0.759   Val loss: 0.3398   Val accuracy: 0.425    weighted Val loss: 0.4998\n",
      "Epoch: 233   Train loss: 0.1411   Train accuracy: 0.775   Val loss: 0.3528   Val accuracy: 0.421    weighted Val loss: 0.4991\n",
      "Epoch: 234   Train loss: 0.138   Train accuracy: 0.787   Val loss: 0.3545   Val accuracy: 0.416    weighted Val loss: 0.4984\n",
      "Epoch: 235   Train loss: 0.1435   Train accuracy: 0.75   Val loss: 0.3498   Val accuracy: 0.425    weighted Val loss: 0.4976\n",
      "Epoch: 236   Train loss: 0.1463   Train accuracy: 0.773   Val loss: 0.341   Val accuracy: 0.425    weighted Val loss: 0.4969\n",
      "Epoch: 237   Train loss: 0.1384   Train accuracy: 0.738   Val loss: 0.3418   Val accuracy: 0.426    weighted Val loss: 0.4961\n",
      "Epoch: 238   Train loss: 0.1323   Train accuracy: 0.806   Val loss: 0.358   Val accuracy: 0.421    weighted Val loss: 0.4954\n",
      "Epoch: 239   Train loss: 0.1432   Train accuracy: 0.757   Val loss: 0.3639   Val accuracy: 0.415    weighted Val loss: 0.4947\n",
      "Epoch: 240   Train loss: 0.131   Train accuracy: 0.783   Val loss: 0.3526   Val accuracy: 0.426    weighted Val loss: 0.494\n",
      "Epoch: 241   Train loss: 0.1332   Train accuracy: 0.761   Val loss: 0.3575   Val accuracy: 0.42    weighted Val loss: 0.4933\n",
      "Epoch: 242   Train loss: 0.1364   Train accuracy: 0.769   Val loss: 0.3612   Val accuracy: 0.413    weighted Val loss: 0.4927\n",
      "Epoch: 243   Train loss: 0.1305   Train accuracy: 0.802   Val loss: 0.3469   Val accuracy: 0.427    weighted Val loss: 0.492\n",
      "Epoch: 244   Train loss: 0.141   Train accuracy: 0.741   Val loss: 0.3441   Val accuracy: 0.44    weighted Val loss: 0.4912\n",
      "0.44 ----------saved-----------\n",
      "Epoch: 245   Train loss: 0.1342   Train accuracy: 0.776   Val loss: 0.3532   Val accuracy: 0.433    weighted Val loss: 0.4905\n",
      "Epoch: 246   Train loss: 0.1416   Train accuracy: 0.738   Val loss: 0.3491   Val accuracy: 0.431    weighted Val loss: 0.4898\n",
      "Epoch: 247   Train loss: 0.1488   Train accuracy: 0.681   Val loss: 0.3427   Val accuracy: 0.432    weighted Val loss: 0.4891\n",
      "Epoch: 248   Train loss: 0.1183   Train accuracy: 0.82   Val loss: 0.3564   Val accuracy: 0.426    weighted Val loss: 0.4884\n",
      "Epoch: 249   Train loss: 0.1409   Train accuracy: 0.73   Val loss: 0.3489   Val accuracy: 0.421    weighted Val loss: 0.4877\n",
      "Epoch: 250   Train loss: 0.1377   Train accuracy: 0.789   Val loss: 0.3523   Val accuracy: 0.416    weighted Val loss: 0.487\n",
      "Epoch: 251   Train loss: 0.1398   Train accuracy: 0.76   Val loss: 0.3385   Val accuracy: 0.436    weighted Val loss: 0.4863\n",
      "Epoch: 252   Train loss: 0.1301   Train accuracy: 0.795   Val loss: 0.3421   Val accuracy: 0.434    weighted Val loss: 0.4856\n",
      "Epoch: 253   Train loss: 0.1355   Train accuracy: 0.762   Val loss: 0.347   Val accuracy: 0.433    weighted Val loss: 0.4849\n",
      "Epoch: 254   Train loss: 0.1359   Train accuracy: 0.771   Val loss: 0.3554   Val accuracy: 0.419    weighted Val loss: 0.4842\n",
      "Epoch: 255   Train loss: 0.1378   Train accuracy: 0.758   Val loss: 0.3532   Val accuracy: 0.416    weighted Val loss: 0.4836\n",
      "Epoch: 256   Train loss: 0.1356   Train accuracy: 0.756   Val loss: 0.3435   Val accuracy: 0.436    weighted Val loss: 0.4829\n",
      "Epoch: 257   Train loss: 0.1325   Train accuracy: 0.775   Val loss: 0.3529   Val accuracy: 0.422    weighted Val loss: 0.4822\n",
      "Epoch: 258   Train loss: 0.1307   Train accuracy: 0.796   Val loss: 0.3529   Val accuracy: 0.424    weighted Val loss: 0.4816\n",
      "Epoch: 259   Train loss: 0.1336   Train accuracy: 0.759   Val loss: 0.3608   Val accuracy: 0.411    weighted Val loss: 0.481\n",
      "Epoch: 260   Train loss: 0.1348   Train accuracy: 0.751   Val loss: 0.3542   Val accuracy: 0.415    weighted Val loss: 0.4804\n",
      "Epoch: 261   Train loss: 0.1311   Train accuracy: 0.789   Val loss: 0.345   Val accuracy: 0.426    weighted Val loss: 0.4797\n",
      "Epoch: 262   Train loss: 0.1377   Train accuracy: 0.743   Val loss: 0.3419   Val accuracy: 0.435    weighted Val loss: 0.479\n",
      "Epoch: 263   Train loss: 0.1343   Train accuracy: 0.774   Val loss: 0.3487   Val accuracy: 0.432    weighted Val loss: 0.4783\n",
      "Epoch: 264   Train loss: 0.1285   Train accuracy: 0.787   Val loss: 0.3537   Val accuracy: 0.426    weighted Val loss: 0.4777\n",
      "Epoch: 265   Train loss: 0.1336   Train accuracy: 0.776   Val loss: 0.3479   Val accuracy: 0.434    weighted Val loss: 0.4771\n",
      "Epoch: 266   Train loss: 0.1412   Train accuracy: 0.739   Val loss: 0.3434   Val accuracy: 0.435    weighted Val loss: 0.4764\n",
      "Epoch: 267   Train loss: 0.1365   Train accuracy: 0.728   Val loss: 0.343   Val accuracy: 0.433    weighted Val loss: 0.4757\n",
      "Epoch: 268   Train loss: 0.1306   Train accuracy: 0.731   Val loss: 0.3416   Val accuracy: 0.435    weighted Val loss: 0.4751\n",
      "Epoch: 269   Train loss: 0.1314   Train accuracy: 0.776   Val loss: 0.3481   Val accuracy: 0.421    weighted Val loss: 0.4744\n",
      "Epoch: 270   Train loss: 0.1393   Train accuracy: 0.744   Val loss: 0.3491   Val accuracy: 0.425    weighted Val loss: 0.4738\n",
      "Epoch: 271   Train loss: 0.1304   Train accuracy: 0.768   Val loss: 0.357   Val accuracy: 0.416    weighted Val loss: 0.4732\n",
      "Epoch: 272   Train loss: 0.1383   Train accuracy: 0.751   Val loss: 0.3434   Val accuracy: 0.425    weighted Val loss: 0.4726\n",
      "Epoch: 273   Train loss: 0.1268   Train accuracy: 0.769   Val loss: 0.3572   Val accuracy: 0.424    weighted Val loss: 0.472\n",
      "Epoch: 274   Train loss: 0.1222   Train accuracy: 0.775   Val loss: 0.3707   Val accuracy: 0.411    weighted Val loss: 0.4715\n",
      "Epoch: 275   Train loss: 0.1331   Train accuracy: 0.753   Val loss: 0.3629   Val accuracy: 0.421    weighted Val loss: 0.4709\n",
      "Epoch: 276   Train loss: 0.127   Train accuracy: 0.789   Val loss: 0.3506   Val accuracy: 0.425    weighted Val loss: 0.4703\n",
      "Epoch: 277   Train loss: 0.1331   Train accuracy: 0.723   Val loss: 0.3569   Val accuracy: 0.417    weighted Val loss: 0.4698\n",
      "Epoch: 278   Train loss: 0.1241   Train accuracy: 0.76   Val loss: 0.3572   Val accuracy: 0.428    weighted Val loss: 0.4692\n",
      "Epoch: 279   Train loss: 0.1232   Train accuracy: 0.751   Val loss: 0.3585   Val accuracy: 0.422    weighted Val loss: 0.4687\n",
      "Epoch: 280   Train loss: 0.131   Train accuracy: 0.766   Val loss: 0.361   Val accuracy: 0.419    weighted Val loss: 0.4681\n",
      "Epoch: 281   Train loss: 0.1264   Train accuracy: 0.805   Val loss: 0.3646   Val accuracy: 0.409    weighted Val loss: 0.4676\n",
      "Epoch: 282   Train loss: 0.1366   Train accuracy: 0.707   Val loss: 0.356   Val accuracy: 0.422    weighted Val loss: 0.467\n",
      "Epoch: 283   Train loss: 0.1304   Train accuracy: 0.757   Val loss: 0.366   Val accuracy: 0.409    weighted Val loss: 0.4665\n",
      "Epoch: 284   Train loss: 0.1271   Train accuracy: 0.762   Val loss: 0.357   Val accuracy: 0.429    weighted Val loss: 0.466\n",
      "Epoch: 285   Train loss: 0.1191   Train accuracy: 0.789   Val loss: 0.3592   Val accuracy: 0.414    weighted Val loss: 0.4655\n",
      "Epoch: 286   Train loss: 0.1269   Train accuracy: 0.767   Val loss: 0.3555   Val accuracy: 0.42    weighted Val loss: 0.4649\n",
      "Epoch: 287   Train loss: 0.1227   Train accuracy: 0.798   Val loss: 0.3535   Val accuracy: 0.421    weighted Val loss: 0.4643\n",
      "Epoch: 288   Train loss: 0.1307   Train accuracy: 0.749   Val loss: 0.3543   Val accuracy: 0.418    weighted Val loss: 0.4638\n",
      "Epoch: 289   Train loss: 0.1217   Train accuracy: 0.762   Val loss: 0.3605   Val accuracy: 0.414    weighted Val loss: 0.4633\n",
      "Epoch: 290   Train loss: 0.1218   Train accuracy: 0.764   Val loss: 0.3562   Val accuracy: 0.416    weighted Val loss: 0.4627\n",
      "Epoch: 291   Train loss: 0.1154   Train accuracy: 0.83   Val loss: 0.3731   Val accuracy: 0.407    weighted Val loss: 0.4623\n",
      "Epoch: 292   Train loss: 0.1205   Train accuracy: 0.784   Val loss: 0.3592   Val accuracy: 0.414    weighted Val loss: 0.4618\n",
      "Epoch: 293   Train loss: 0.1178   Train accuracy: 0.772   Val loss: 0.3635   Val accuracy: 0.415    weighted Val loss: 0.4613\n",
      "Epoch: 294   Train loss: 0.1268   Train accuracy: 0.725   Val loss: 0.3589   Val accuracy: 0.425    weighted Val loss: 0.4608\n",
      "Epoch: 295   Train loss: 0.1235   Train accuracy: 0.781   Val loss: 0.3666   Val accuracy: 0.409    weighted Val loss: 0.4603\n",
      "Epoch: 296   Train loss: 0.1245   Train accuracy: 0.761   Val loss: 0.3568   Val accuracy: 0.418    weighted Val loss: 0.4598\n",
      "Epoch: 297   Train loss: 0.1352   Train accuracy: 0.708   Val loss: 0.3521   Val accuracy: 0.43    weighted Val loss: 0.4593\n",
      "Epoch: 298   Train loss: 0.1246   Train accuracy: 0.765   Val loss: 0.3489   Val accuracy: 0.422    weighted Val loss: 0.4587\n",
      "Epoch: 299   Train loss: 0.1155   Train accuracy: 0.784   Val loss: 0.3569   Val accuracy: 0.417    weighted Val loss: 0.4582\n",
      "Epoch: 300   Train loss: 0.1291   Train accuracy: 0.775   Val loss: 0.3598   Val accuracy: 0.416    weighted Val loss: 0.4577\n",
      "Epoch: 301   Train loss: 0.1265   Train accuracy: 0.746   Val loss: 0.348   Val accuracy: 0.432    weighted Val loss: 0.4571\n",
      "Epoch: 302   Train loss: 0.1208   Train accuracy: 0.783   Val loss: 0.3544   Val accuracy: 0.421    weighted Val loss: 0.4566\n",
      "Epoch: 303   Train loss: 0.1184   Train accuracy: 0.794   Val loss: 0.3499   Val accuracy: 0.418    weighted Val loss: 0.4561\n",
      "Epoch: 304   Train loss: 0.1168   Train accuracy: 0.765   Val loss: 0.362   Val accuracy: 0.413    weighted Val loss: 0.4556\n",
      "Epoch: 305   Train loss: 0.1254   Train accuracy: 0.777   Val loss: 0.3529   Val accuracy: 0.42    weighted Val loss: 0.4551\n",
      "Epoch: 306   Train loss: 0.126   Train accuracy: 0.741   Val loss: 0.3616   Val accuracy: 0.412    weighted Val loss: 0.4547\n",
      "Epoch: 307   Train loss: 0.1202   Train accuracy: 0.764   Val loss: 0.3569   Val accuracy: 0.416    weighted Val loss: 0.4542\n",
      "Epoch: 308   Train loss: 0.1172   Train accuracy: 0.776   Val loss: 0.3643   Val accuracy: 0.408    weighted Val loss: 0.4537\n",
      "Epoch: 309   Train loss: 0.1236   Train accuracy: 0.745   Val loss: 0.3544   Val accuracy: 0.421    weighted Val loss: 0.4532\n",
      "Epoch: 310   Train loss: 0.1207   Train accuracy: 0.792   Val loss: 0.3547   Val accuracy: 0.432    weighted Val loss: 0.4527\n",
      "Epoch: 311   Train loss: 0.1325   Train accuracy: 0.732   Val loss: 0.3537   Val accuracy: 0.431    weighted Val loss: 0.4522\n",
      "Epoch: 312   Train loss: 0.1149   Train accuracy: 0.763   Val loss: 0.3669   Val accuracy: 0.42    weighted Val loss: 0.4518\n",
      "Epoch: 313   Train loss: 0.1225   Train accuracy: 0.776   Val loss: 0.3555   Val accuracy: 0.418    weighted Val loss: 0.4513\n",
      "Epoch: 314   Train loss: 0.1175   Train accuracy: 0.784   Val loss: 0.3491   Val accuracy: 0.435    weighted Val loss: 0.4508\n",
      "Epoch: 315   Train loss: 0.1227   Train accuracy: 0.769   Val loss: 0.3476   Val accuracy: 0.435    weighted Val loss: 0.4503\n",
      "Epoch: 316   Train loss: 0.1246   Train accuracy: 0.769   Val loss: 0.3488   Val accuracy: 0.432    weighted Val loss: 0.4498\n",
      "Epoch: 317   Train loss: 0.129   Train accuracy: 0.75   Val loss: 0.3491   Val accuracy: 0.426    weighted Val loss: 0.4493\n",
      "Epoch: 318   Train loss: 0.1189   Train accuracy: 0.748   Val loss: 0.357   Val accuracy: 0.425    weighted Val loss: 0.4488\n",
      "Epoch: 319   Train loss: 0.119   Train accuracy: 0.759   Val loss: 0.3601   Val accuracy: 0.418    weighted Val loss: 0.4484\n",
      "Epoch: 320   Train loss: 0.1242   Train accuracy: 0.78   Val loss: 0.3633   Val accuracy: 0.409    weighted Val loss: 0.448\n",
      "Epoch: 321   Train loss: 0.1171   Train accuracy: 0.785   Val loss: 0.3666   Val accuracy: 0.41    weighted Val loss: 0.4475\n",
      "Epoch: 322   Train loss: 0.1292   Train accuracy: 0.739   Val loss: 0.3607   Val accuracy: 0.409    weighted Val loss: 0.4471\n",
      "Epoch: 323   Train loss: 0.1273   Train accuracy: 0.752   Val loss: 0.3523   Val accuracy: 0.422    weighted Val loss: 0.4466\n",
      "Epoch: 324   Train loss: 0.1266   Train accuracy: 0.722   Val loss: 0.3574   Val accuracy: 0.414    weighted Val loss: 0.4462\n",
      "Epoch: 325   Train loss: 0.1142   Train accuracy: 0.777   Val loss: 0.3581   Val accuracy: 0.433    weighted Val loss: 0.4457\n",
      "Epoch: 326   Train loss: 0.1197   Train accuracy: 0.752   Val loss: 0.3617   Val accuracy: 0.419    weighted Val loss: 0.4453\n",
      "Epoch: 327   Train loss: 0.1177   Train accuracy: 0.736   Val loss: 0.3611   Val accuracy: 0.416    weighted Val loss: 0.4449\n",
      "Epoch: 328   Train loss: 0.1167   Train accuracy: 0.766   Val loss: 0.3499   Val accuracy: 0.422    weighted Val loss: 0.4444\n",
      "Epoch: 329   Train loss: 0.1161   Train accuracy: 0.774   Val loss: 0.3606   Val accuracy: 0.422    weighted Val loss: 0.444\n",
      "Epoch: 330   Train loss: 0.1267   Train accuracy: 0.772   Val loss: 0.3525   Val accuracy: 0.422    weighted Val loss: 0.4436\n",
      "Epoch: 331   Train loss: 0.1276   Train accuracy: 0.717   Val loss: 0.3514   Val accuracy: 0.423    weighted Val loss: 0.4431\n",
      "Epoch: 332   Train loss: 0.1228   Train accuracy: 0.78   Val loss: 0.3483   Val accuracy: 0.429    weighted Val loss: 0.4426\n",
      "Epoch: 333   Train loss: 0.1298   Train accuracy: 0.711   Val loss: 0.3485   Val accuracy: 0.441    weighted Val loss: 0.4422\n",
      "0.441 ----------saved-----------\n",
      "Epoch: 334   Train loss: 0.1098   Train accuracy: 0.803   Val loss: 0.362   Val accuracy: 0.419    weighted Val loss: 0.4418\n",
      "Epoch: 335   Train loss: 0.1183   Train accuracy: 0.757   Val loss: 0.3576   Val accuracy: 0.429    weighted Val loss: 0.4413\n",
      "Epoch: 336   Train loss: 0.1234   Train accuracy: 0.732   Val loss: 0.3536   Val accuracy: 0.42    weighted Val loss: 0.4409\n",
      "Epoch: 337   Train loss: 0.131   Train accuracy: 0.741   Val loss: 0.3557   Val accuracy: 0.413    weighted Val loss: 0.4405\n",
      "Epoch: 338   Train loss: 0.1148   Train accuracy: 0.781   Val loss: 0.3653   Val accuracy: 0.404    weighted Val loss: 0.4401\n",
      "Epoch: 339   Train loss: 0.1166   Train accuracy: 0.771   Val loss: 0.3685   Val accuracy: 0.411    weighted Val loss: 0.4397\n",
      "Epoch: 340   Train loss: 0.1152   Train accuracy: 0.767   Val loss: 0.3571   Val accuracy: 0.413    weighted Val loss: 0.4393\n",
      "Epoch: 341   Train loss: 0.1284   Train accuracy: 0.692   Val loss: 0.3649   Val accuracy: 0.407    weighted Val loss: 0.4389\n",
      "Epoch: 342   Train loss: 0.1135   Train accuracy: 0.779   Val loss: 0.3644   Val accuracy: 0.407    weighted Val loss: 0.4386\n",
      "Epoch: 343   Train loss: 0.1217   Train accuracy: 0.75   Val loss: 0.3667   Val accuracy: 0.412    weighted Val loss: 0.4382\n",
      "Epoch: 344   Train loss: 0.1355   Train accuracy: 0.706   Val loss: 0.3634   Val accuracy: 0.407    weighted Val loss: 0.4378\n",
      "Epoch: 345   Train loss: 0.1251   Train accuracy: 0.721   Val loss: 0.3519   Val accuracy: 0.426    weighted Val loss: 0.4374\n",
      "Epoch: 346   Train loss: 0.1273   Train accuracy: 0.712   Val loss: 0.3479   Val accuracy: 0.423    weighted Val loss: 0.437\n",
      "Epoch: 347   Train loss: 0.1241   Train accuracy: 0.745   Val loss: 0.3631   Val accuracy: 0.416    weighted Val loss: 0.4366\n",
      "Epoch: 348   Train loss: 0.1115   Train accuracy: 0.798   Val loss: 0.3689   Val accuracy: 0.405    weighted Val loss: 0.4363\n",
      "Epoch: 349   Train loss: 0.1102   Train accuracy: 0.772   Val loss: 0.3736   Val accuracy: 0.404    weighted Val loss: 0.4359\n",
      "Epoch: 350   Train loss: 0.118   Train accuracy: 0.76   Val loss: 0.3615   Val accuracy: 0.411    weighted Val loss: 0.4356\n",
      "Epoch: 351   Train loss: 0.1234   Train accuracy: 0.709   Val loss: 0.3601   Val accuracy: 0.413    weighted Val loss: 0.4352\n",
      "Epoch: 352   Train loss: 0.12   Train accuracy: 0.77   Val loss: 0.3582   Val accuracy: 0.423    weighted Val loss: 0.4348\n",
      "Epoch: 353   Train loss: 0.1166   Train accuracy: 0.739   Val loss: 0.3585   Val accuracy: 0.42    weighted Val loss: 0.4344\n",
      "Epoch: 354   Train loss: 0.125   Train accuracy: 0.767   Val loss: 0.3705   Val accuracy: 0.408    weighted Val loss: 0.4341\n",
      "Epoch: 355   Train loss: 0.1188   Train accuracy: 0.741   Val loss: 0.3648   Val accuracy: 0.417    weighted Val loss: 0.4338\n",
      "Epoch: 356   Train loss: 0.1122   Train accuracy: 0.772   Val loss: 0.3555   Val accuracy: 0.43    weighted Val loss: 0.4334\n",
      "Epoch: 357   Train loss: 0.1129   Train accuracy: 0.786   Val loss: 0.371   Val accuracy: 0.41    weighted Val loss: 0.4331\n",
      "Epoch: 358   Train loss: 0.1283   Train accuracy: 0.747   Val loss: 0.3668   Val accuracy: 0.409    weighted Val loss: 0.4327\n",
      "Epoch: 359   Train loss: 0.1198   Train accuracy: 0.734   Val loss: 0.3641   Val accuracy: 0.414    weighted Val loss: 0.4324\n",
      "Epoch: 360   Train loss: 0.1244   Train accuracy: 0.724   Val loss: 0.3659   Val accuracy: 0.404    weighted Val loss: 0.4321\n",
      "Epoch: 361   Train loss: 0.1175   Train accuracy: 0.758   Val loss: 0.355   Val accuracy: 0.42    weighted Val loss: 0.4317\n",
      "Epoch: 362   Train loss: 0.1192   Train accuracy: 0.77   Val loss: 0.3586   Val accuracy: 0.409    weighted Val loss: 0.4313\n",
      "Epoch: 363   Train loss: 0.0997   Train accuracy: 0.811   Val loss: 0.3672   Val accuracy: 0.403    weighted Val loss: 0.431\n",
      "Epoch: 364   Train loss: 0.1194   Train accuracy: 0.772   Val loss: 0.3586   Val accuracy: 0.416    weighted Val loss: 0.4306\n",
      "Epoch: 365   Train loss: 0.116   Train accuracy: 0.752   Val loss: 0.3721   Val accuracy: 0.407    weighted Val loss: 0.4303\n",
      "Epoch: 366   Train loss: 0.1185   Train accuracy: 0.745   Val loss: 0.3727   Val accuracy: 0.405    weighted Val loss: 0.43\n",
      "Epoch: 367   Train loss: 0.1174   Train accuracy: 0.771   Val loss: 0.3674   Val accuracy: 0.408    weighted Val loss: 0.4297\n",
      "Epoch: 368   Train loss: 0.1212   Train accuracy: 0.753   Val loss: 0.3656   Val accuracy: 0.412    weighted Val loss: 0.4294\n",
      "Epoch: 369   Train loss: 0.1122   Train accuracy: 0.781   Val loss: 0.3571   Val accuracy: 0.425    weighted Val loss: 0.429\n",
      "Epoch: 370   Train loss: 0.1111   Train accuracy: 0.762   Val loss: 0.361   Val accuracy: 0.422    weighted Val loss: 0.4287\n",
      "Epoch: 371   Train loss: 0.1156   Train accuracy: 0.752   Val loss: 0.3659   Val accuracy: 0.421    weighted Val loss: 0.4284\n",
      "Epoch: 372   Train loss: 0.1194   Train accuracy: 0.742   Val loss: 0.3641   Val accuracy: 0.419    weighted Val loss: 0.4281\n",
      "Epoch: 373   Train loss: 0.1081   Train accuracy: 0.795   Val loss: 0.3608   Val accuracy: 0.419    weighted Val loss: 0.4277\n",
      "Epoch: 374   Train loss: 0.1156   Train accuracy: 0.766   Val loss: 0.3624   Val accuracy: 0.416    weighted Val loss: 0.4274\n",
      "Epoch: 375   Train loss: 0.1119   Train accuracy: 0.789   Val loss: 0.3674   Val accuracy: 0.411    weighted Val loss: 0.4271\n",
      "Epoch: 376   Train loss: 0.1102   Train accuracy: 0.794   Val loss: 0.3595   Val accuracy: 0.418    weighted Val loss: 0.4268\n",
      "Epoch: 377   Train loss: 0.12   Train accuracy: 0.728   Val loss: 0.3511   Val accuracy: 0.426    weighted Val loss: 0.4264\n",
      "Epoch: 378   Train loss: 0.1169   Train accuracy: 0.742   Val loss: 0.3498   Val accuracy: 0.423    weighted Val loss: 0.426\n",
      "Epoch: 379   Train loss: 0.1034   Train accuracy: 0.807   Val loss: 0.3552   Val accuracy: 0.427    weighted Val loss: 0.4257\n",
      "Epoch: 380   Train loss: 0.1279   Train accuracy: 0.711   Val loss: 0.3516   Val accuracy: 0.424    weighted Val loss: 0.4253\n",
      "Epoch: 381   Train loss: 0.105   Train accuracy: 0.782   Val loss: 0.3566   Val accuracy: 0.422    weighted Val loss: 0.4249\n",
      "Epoch: 382   Train loss: 0.1158   Train accuracy: 0.731   Val loss: 0.3627   Val accuracy: 0.416    weighted Val loss: 0.4246\n",
      "Epoch: 383   Train loss: 0.1232   Train accuracy: 0.73   Val loss: 0.3607   Val accuracy: 0.42    weighted Val loss: 0.4243\n",
      "Epoch: 384   Train loss: 0.1209   Train accuracy: 0.764   Val loss: 0.3569   Val accuracy: 0.424    weighted Val loss: 0.424\n",
      "Epoch: 385   Train loss: 0.1136   Train accuracy: 0.778   Val loss: 0.3579   Val accuracy: 0.428    weighted Val loss: 0.4236\n",
      "Epoch: 386   Train loss: 0.1139   Train accuracy: 0.777   Val loss: 0.3651   Val accuracy: 0.42    weighted Val loss: 0.4233\n",
      "Epoch: 387   Train loss: 0.1131   Train accuracy: 0.773   Val loss: 0.3561   Val accuracy: 0.423    weighted Val loss: 0.423\n",
      "Epoch: 388   Train loss: 0.1149   Train accuracy: 0.76   Val loss: 0.3565   Val accuracy: 0.424    weighted Val loss: 0.4227\n",
      "Epoch: 389   Train loss: 0.1281   Train accuracy: 0.714   Val loss: 0.3502   Val accuracy: 0.43    weighted Val loss: 0.4223\n",
      "Epoch: 390   Train loss: 0.1205   Train accuracy: 0.737   Val loss: 0.3463   Val accuracy: 0.426    weighted Val loss: 0.4219\n",
      "Epoch: 391   Train loss: 0.1154   Train accuracy: 0.784   Val loss: 0.3562   Val accuracy: 0.419    weighted Val loss: 0.4216\n",
      "Epoch: 392   Train loss: 0.1208   Train accuracy: 0.738   Val loss: 0.3599   Val accuracy: 0.412    weighted Val loss: 0.4213\n",
      "Epoch: 393   Train loss: 0.1168   Train accuracy: 0.738   Val loss: 0.3617   Val accuracy: 0.409    weighted Val loss: 0.421\n",
      "Epoch: 394   Train loss: 0.1234   Train accuracy: 0.735   Val loss: 0.3639   Val accuracy: 0.416    weighted Val loss: 0.4207\n",
      "Epoch: 395   Train loss: 0.1142   Train accuracy: 0.753   Val loss: 0.3606   Val accuracy: 0.424    weighted Val loss: 0.4204\n",
      "Epoch: 396   Train loss: 0.1114   Train accuracy: 0.734   Val loss: 0.3697   Val accuracy: 0.407    weighted Val loss: 0.4202\n",
      "Epoch: 397   Train loss: 0.1283   Train accuracy: 0.731   Val loss: 0.3433   Val accuracy: 0.443    weighted Val loss: 0.4198\n",
      "0.443 ----------saved-----------\n",
      "Epoch: 398   Train loss: 0.103   Train accuracy: 0.777   Val loss: 0.3509   Val accuracy: 0.437    weighted Val loss: 0.4194\n",
      "Epoch: 399   Train loss: 0.1166   Train accuracy: 0.746   Val loss: 0.3567   Val accuracy: 0.423    weighted Val loss: 0.4191\n",
      "Epoch: 400   Train loss: 0.1212   Train accuracy: 0.771   Val loss: 0.3512   Val accuracy: 0.426    weighted Val loss: 0.4188\n",
      "Epoch: 401   Train loss: 0.12   Train accuracy: 0.732   Val loss: 0.3558   Val accuracy: 0.42    weighted Val loss: 0.4185\n",
      "Epoch: 402   Train loss: 0.1095   Train accuracy: 0.772   Val loss: 0.3582   Val accuracy: 0.422    weighted Val loss: 0.4182\n",
      "Epoch: 403   Train loss: 0.1138   Train accuracy: 0.701   Val loss: 0.3541   Val accuracy: 0.427    weighted Val loss: 0.4178\n",
      "Epoch: 404   Train loss: 0.1255   Train accuracy: 0.742   Val loss: 0.3673   Val accuracy: 0.415    weighted Val loss: 0.4176\n",
      "Epoch: 405   Train loss: 0.116   Train accuracy: 0.781   Val loss: 0.3613   Val accuracy: 0.411    weighted Val loss: 0.4173\n",
      "Epoch: 406   Train loss: 0.1189   Train accuracy: 0.719   Val loss: 0.3635   Val accuracy: 0.415    weighted Val loss: 0.417\n",
      "Epoch: 407   Train loss: 0.1295   Train accuracy: 0.723   Val loss: 0.3671   Val accuracy: 0.414    weighted Val loss: 0.4168\n",
      "Epoch: 408   Train loss: 0.1095   Train accuracy: 0.761   Val loss: 0.3866   Val accuracy: 0.403    weighted Val loss: 0.4166\n",
      "Epoch: 409   Train loss: 0.1123   Train accuracy: 0.795   Val loss: 0.3651   Val accuracy: 0.413    weighted Val loss: 0.4164\n",
      "Epoch: 410   Train loss: 0.1084   Train accuracy: 0.739   Val loss: 0.373   Val accuracy: 0.413    weighted Val loss: 0.4162\n",
      "Epoch: 411   Train loss: 0.1086   Train accuracy: 0.737   Val loss: 0.361   Val accuracy: 0.427    weighted Val loss: 0.4159\n",
      "Epoch: 412   Train loss: 0.1194   Train accuracy: 0.751   Val loss: 0.3617   Val accuracy: 0.418    weighted Val loss: 0.4156\n",
      "Epoch: 413   Train loss: 0.124   Train accuracy: 0.717   Val loss: 0.3526   Val accuracy: 0.425    weighted Val loss: 0.4153\n",
      "Epoch: 414   Train loss: 0.1093   Train accuracy: 0.803   Val loss: 0.3569   Val accuracy: 0.425    weighted Val loss: 0.415\n",
      "Epoch: 415   Train loss: 0.1136   Train accuracy: 0.773   Val loss: 0.3576   Val accuracy: 0.423    weighted Val loss: 0.4147\n",
      "Epoch: 416   Train loss: 0.1201   Train accuracy: 0.768   Val loss: 0.3556   Val accuracy: 0.425    weighted Val loss: 0.4144\n",
      "Epoch: 417   Train loss: 0.1158   Train accuracy: 0.772   Val loss: 0.3623   Val accuracy: 0.425    weighted Val loss: 0.4142\n",
      "Epoch: 418   Train loss: 0.1151   Train accuracy: 0.775   Val loss: 0.3644   Val accuracy: 0.419    weighted Val loss: 0.4139\n",
      "Epoch: 419   Train loss: 0.1103   Train accuracy: 0.767   Val loss: 0.3701   Val accuracy: 0.417    weighted Val loss: 0.4137\n",
      "Epoch: 420   Train loss: 0.1214   Train accuracy: 0.699   Val loss: 0.3656   Val accuracy: 0.418    weighted Val loss: 0.4135\n",
      "Epoch: 421   Train loss: 0.1107   Train accuracy: 0.769   Val loss: 0.3678   Val accuracy: 0.42    weighted Val loss: 0.4132\n",
      "Epoch: 422   Train loss: 0.1151   Train accuracy: 0.73   Val loss: 0.3832   Val accuracy: 0.41    weighted Val loss: 0.4131\n",
      "Epoch: 423   Train loss: 0.112   Train accuracy: 0.722   Val loss: 0.3693   Val accuracy: 0.42    weighted Val loss: 0.4129\n",
      "Epoch: 424   Train loss: 0.1132   Train accuracy: 0.763   Val loss: 0.3583   Val accuracy: 0.429    weighted Val loss: 0.4126\n",
      "Epoch: 425   Train loss: 0.1145   Train accuracy: 0.728   Val loss: 0.3637   Val accuracy: 0.425    weighted Val loss: 0.4123\n",
      "Epoch: 426   Train loss: 0.1113   Train accuracy: 0.77   Val loss: 0.3646   Val accuracy: 0.421    weighted Val loss: 0.4121\n",
      "Epoch: 427   Train loss: 0.106   Train accuracy: 0.797   Val loss: 0.3697   Val accuracy: 0.415    weighted Val loss: 0.4119\n",
      "Epoch: 428   Train loss: 0.121   Train accuracy: 0.727   Val loss: 0.3678   Val accuracy: 0.416    weighted Val loss: 0.4117\n",
      "Epoch: 429   Train loss: 0.1198   Train accuracy: 0.755   Val loss: 0.3778   Val accuracy: 0.408    weighted Val loss: 0.4115\n",
      "Epoch: 430   Train loss: 0.1134   Train accuracy: 0.773   Val loss: 0.3667   Val accuracy: 0.41    weighted Val loss: 0.4113\n",
      "Epoch: 431   Train loss: 0.1077   Train accuracy: 0.804   Val loss: 0.364   Val accuracy: 0.416    weighted Val loss: 0.411\n",
      "Epoch: 432   Train loss: 0.105   Train accuracy: 0.794   Val loss: 0.3587   Val accuracy: 0.419    weighted Val loss: 0.4108\n",
      "Epoch: 433   Train loss: 0.1063   Train accuracy: 0.778   Val loss: 0.362   Val accuracy: 0.426    weighted Val loss: 0.4105\n",
      "Epoch: 434   Train loss: 0.1154   Train accuracy: 0.777   Val loss: 0.3705   Val accuracy: 0.423    weighted Val loss: 0.4103\n",
      "Epoch: 435   Train loss: 0.1184   Train accuracy: 0.741   Val loss: 0.3646   Val accuracy: 0.425    weighted Val loss: 0.4101\n",
      "Epoch: 436   Train loss: 0.1095   Train accuracy: 0.727   Val loss: 0.3644   Val accuracy: 0.416    weighted Val loss: 0.4099\n",
      "Epoch: 437   Train loss: 0.1202   Train accuracy: 0.745   Val loss: 0.3528   Val accuracy: 0.427    weighted Val loss: 0.4096\n",
      "Epoch: 438   Train loss: 0.1182   Train accuracy: 0.722   Val loss: 0.3563   Val accuracy: 0.423    weighted Val loss: 0.4093\n",
      "Epoch: 439   Train loss: 0.1219   Train accuracy: 0.764   Val loss: 0.359   Val accuracy: 0.417    weighted Val loss: 0.4091\n",
      "Epoch: 440   Train loss: 0.1082   Train accuracy: 0.76   Val loss: 0.3623   Val accuracy: 0.417    weighted Val loss: 0.4088\n",
      "Epoch: 441   Train loss: 0.1106   Train accuracy: 0.745   Val loss: 0.3624   Val accuracy: 0.415    weighted Val loss: 0.4086\n",
      "Epoch: 442   Train loss: 0.1114   Train accuracy: 0.786   Val loss: 0.3664   Val accuracy: 0.417    weighted Val loss: 0.4084\n",
      "Epoch: 443   Train loss: 0.1071   Train accuracy: 0.76   Val loss: 0.3692   Val accuracy: 0.423    weighted Val loss: 0.4082\n",
      "Epoch: 444   Train loss: 0.1189   Train accuracy: 0.739   Val loss: 0.3738   Val accuracy: 0.414    weighted Val loss: 0.408\n",
      "Epoch: 445   Train loss: 0.1144   Train accuracy: 0.757   Val loss: 0.3602   Val accuracy: 0.427    weighted Val loss: 0.4078\n",
      "Epoch: 446   Train loss: 0.1137   Train accuracy: 0.767   Val loss: 0.3657   Val accuracy: 0.42    weighted Val loss: 0.4076\n",
      "Epoch: 447   Train loss: 0.1087   Train accuracy: 0.764   Val loss: 0.3718   Val accuracy: 0.417    weighted Val loss: 0.4074\n",
      "Epoch: 448   Train loss: 0.114   Train accuracy: 0.72   Val loss: 0.3607   Val accuracy: 0.418    weighted Val loss: 0.4072\n",
      "Epoch: 449   Train loss: 0.1125   Train accuracy: 0.727   Val loss: 0.3633   Val accuracy: 0.42    weighted Val loss: 0.4069\n",
      "Epoch: 450   Train loss: 0.1037   Train accuracy: 0.801   Val loss: 0.3677   Val accuracy: 0.415    weighted Val loss: 0.4068\n",
      "Epoch: 451   Train loss: 0.1025   Train accuracy: 0.756   Val loss: 0.3767   Val accuracy: 0.412    weighted Val loss: 0.4066\n",
      "Epoch: 452   Train loss: 0.1156   Train accuracy: 0.719   Val loss: 0.3775   Val accuracy: 0.409    weighted Val loss: 0.4065\n",
      "Epoch: 453   Train loss: 0.106   Train accuracy: 0.764   Val loss: 0.379   Val accuracy: 0.411    weighted Val loss: 0.4063\n",
      "Epoch: 454   Train loss: 0.1031   Train accuracy: 0.78   Val loss: 0.3758   Val accuracy: 0.413    weighted Val loss: 0.4062\n",
      "Epoch: 455   Train loss: 0.1111   Train accuracy: 0.731   Val loss: 0.3719   Val accuracy: 0.411    weighted Val loss: 0.406\n",
      "Epoch: 456   Train loss: 0.0961   Train accuracy: 0.762   Val loss: 0.3695   Val accuracy: 0.421    weighted Val loss: 0.4058\n",
      "Epoch: 457   Train loss: 0.0947   Train accuracy: 0.793   Val loss: 0.377   Val accuracy: 0.42    weighted Val loss: 0.4057\n",
      "Epoch: 458   Train loss: 0.0993   Train accuracy: 0.763   Val loss: 0.3804   Val accuracy: 0.414    weighted Val loss: 0.4055\n",
      "Epoch: 459   Train loss: 0.1117   Train accuracy: 0.744   Val loss: 0.3791   Val accuracy: 0.42    weighted Val loss: 0.4054\n",
      "Epoch: 460   Train loss: 0.0968   Train accuracy: 0.821   Val loss: 0.3666   Val accuracy: 0.42    weighted Val loss: 0.4052\n",
      "Epoch: 461   Train loss: 0.0983   Train accuracy: 0.786   Val loss: 0.3739   Val accuracy: 0.416    weighted Val loss: 0.4051\n",
      "Epoch: 462   Train loss: 0.1007   Train accuracy: 0.77   Val loss: 0.3859   Val accuracy: 0.422    weighted Val loss: 0.405\n",
      "Epoch: 463   Train loss: 0.0952   Train accuracy: 0.79   Val loss: 0.3815   Val accuracy: 0.422    weighted Val loss: 0.4048\n",
      "Epoch: 464   Train loss: 0.0922   Train accuracy: 0.794   Val loss: 0.3923   Val accuracy: 0.415    weighted Val loss: 0.4048\n",
      "Epoch: 465   Train loss: 0.1005   Train accuracy: 0.755   Val loss: 0.3854   Val accuracy: 0.419    weighted Val loss: 0.4047\n",
      "Epoch: 466   Train loss: 0.0948   Train accuracy: 0.783   Val loss: 0.3803   Val accuracy: 0.41    weighted Val loss: 0.4046\n",
      "Epoch: 467   Train loss: 0.0915   Train accuracy: 0.755   Val loss: 0.3816   Val accuracy: 0.419    weighted Val loss: 0.4045\n",
      "Epoch: 468   Train loss: 0.0982   Train accuracy: 0.752   Val loss: 0.3811   Val accuracy: 0.432    weighted Val loss: 0.4043\n",
      "Epoch: 469   Train loss: 0.0949   Train accuracy: 0.789   Val loss: 0.3789   Val accuracy: 0.419    weighted Val loss: 0.4042\n",
      "Epoch: 470   Train loss: 0.0958   Train accuracy: 0.77   Val loss: 0.3752   Val accuracy: 0.417    weighted Val loss: 0.4041\n",
      "Epoch: 471   Train loss: 0.1024   Train accuracy: 0.757   Val loss: 0.3743   Val accuracy: 0.417    weighted Val loss: 0.4039\n",
      "Epoch: 472   Train loss: 0.0924   Train accuracy: 0.811   Val loss: 0.3819   Val accuracy: 0.411    weighted Val loss: 0.4038\n",
      "Epoch: 473   Train loss: 0.0915   Train accuracy: 0.788   Val loss: 0.3879   Val accuracy: 0.409    weighted Val loss: 0.4037\n",
      "Epoch: 474   Train loss: 0.0983   Train accuracy: 0.811   Val loss: 0.373   Val accuracy: 0.415    weighted Val loss: 0.4036\n",
      "Epoch: 475   Train loss: 0.096   Train accuracy: 0.775   Val loss: 0.3743   Val accuracy: 0.413    weighted Val loss: 0.4034\n",
      "Epoch: 476   Train loss: 0.1166   Train accuracy: 0.73   Val loss: 0.3728   Val accuracy: 0.422    weighted Val loss: 0.4033\n",
      "Epoch: 477   Train loss: 0.0981   Train accuracy: 0.743   Val loss: 0.3745   Val accuracy: 0.424    weighted Val loss: 0.4031\n",
      "Epoch: 478   Train loss: 0.1002   Train accuracy: 0.777   Val loss: 0.3804   Val accuracy: 0.427    weighted Val loss: 0.403\n",
      "Epoch: 479   Train loss: 0.1   Train accuracy: 0.754   Val loss: 0.3844   Val accuracy: 0.424    weighted Val loss: 0.4029\n",
      "Epoch: 480   Train loss: 0.1024   Train accuracy: 0.774   Val loss: 0.3877   Val accuracy: 0.419    weighted Val loss: 0.4028\n",
      "Epoch: 481   Train loss: 0.1035   Train accuracy: 0.727   Val loss: 0.3768   Val accuracy: 0.426    weighted Val loss: 0.4027\n",
      "Epoch: 482   Train loss: 0.0989   Train accuracy: 0.767   Val loss: 0.3885   Val accuracy: 0.416    weighted Val loss: 0.4026\n",
      "Epoch: 483   Train loss: 0.0988   Train accuracy: 0.727   Val loss: 0.3867   Val accuracy: 0.415    weighted Val loss: 0.4026\n",
      "Epoch: 484   Train loss: 0.0997   Train accuracy: 0.738   Val loss: 0.3847   Val accuracy: 0.424    weighted Val loss: 0.4025\n",
      "Epoch: 485   Train loss: 0.1074   Train accuracy: 0.746   Val loss: 0.3755   Val accuracy: 0.43    weighted Val loss: 0.4023\n",
      "Epoch: 486   Train loss: 0.1034   Train accuracy: 0.787   Val loss: 0.3788   Val accuracy: 0.425    weighted Val loss: 0.4022\n",
      "Epoch: 487   Train loss: 0.0936   Train accuracy: 0.795   Val loss: 0.3785   Val accuracy: 0.423    weighted Val loss: 0.4021\n",
      "Epoch: 488   Train loss: 0.1044   Train accuracy: 0.749   Val loss: 0.3769   Val accuracy: 0.43    weighted Val loss: 0.402\n",
      "Epoch: 489   Train loss: 0.0957   Train accuracy: 0.773   Val loss: 0.3804   Val accuracy: 0.424    weighted Val loss: 0.4019\n",
      "Epoch: 490   Train loss: 0.0999   Train accuracy: 0.759   Val loss: 0.3816   Val accuracy: 0.419    weighted Val loss: 0.4018\n",
      "Epoch: 491   Train loss: 0.1083   Train accuracy: 0.747   Val loss: 0.3839   Val accuracy: 0.423    weighted Val loss: 0.4017\n",
      "Epoch: 492   Train loss: 0.1056   Train accuracy: 0.742   Val loss: 0.3751   Val accuracy: 0.426    weighted Val loss: 0.4015\n",
      "Epoch: 493   Train loss: 0.0991   Train accuracy: 0.747   Val loss: 0.3804   Val accuracy: 0.426    weighted Val loss: 0.4014\n",
      "Epoch: 494   Train loss: 0.1005   Train accuracy: 0.77   Val loss: 0.3921   Val accuracy: 0.411    weighted Val loss: 0.4014\n",
      "Epoch: 495   Train loss: 0.0896   Train accuracy: 0.769   Val loss: 0.3967   Val accuracy: 0.416    weighted Val loss: 0.4014\n",
      "Epoch: 496   Train loss: 0.093   Train accuracy: 0.746   Val loss: 0.3926   Val accuracy: 0.418    weighted Val loss: 0.4013\n",
      "Epoch: 497   Train loss: 0.0975   Train accuracy: 0.78   Val loss: 0.3884   Val accuracy: 0.415    weighted Val loss: 0.4013\n",
      "Epoch: 498   Train loss: 0.1016   Train accuracy: 0.769   Val loss: 0.3823   Val accuracy: 0.418    weighted Val loss: 0.4012\n",
      "Epoch: 499   Train loss: 0.1013   Train accuracy: 0.773   Val loss: 0.3881   Val accuracy: 0.419    weighted Val loss: 0.4011\n",
      "Epoch: 500   Train loss: 0.0953   Train accuracy: 0.786   Val loss: 0.3904   Val accuracy: 0.421    weighted Val loss: 0.401\n",
      "Epoch: 501   Train loss: 0.1014   Train accuracy: 0.764   Val loss: 0.384   Val accuracy: 0.417    weighted Val loss: 0.401\n",
      "Epoch: 502   Train loss: 0.0946   Train accuracy: 0.774   Val loss: 0.3904   Val accuracy: 0.413    weighted Val loss: 0.4009\n",
      "Epoch: 503   Train loss: 0.1026   Train accuracy: 0.779   Val loss: 0.3877   Val accuracy: 0.414    weighted Val loss: 0.4008\n",
      "Epoch: 504   Train loss: 0.0985   Train accuracy: 0.747   Val loss: 0.3809   Val accuracy: 0.419    weighted Val loss: 0.4007\n",
      "Epoch: 505   Train loss: 0.096   Train accuracy: 0.769   Val loss: 0.3852   Val accuracy: 0.418    weighted Val loss: 0.4007\n",
      "Epoch: 506   Train loss: 0.0918   Train accuracy: 0.777   Val loss: 0.3888   Val accuracy: 0.422    weighted Val loss: 0.4006\n",
      "Epoch: 507   Train loss: 0.099   Train accuracy: 0.771   Val loss: 0.3874   Val accuracy: 0.422    weighted Val loss: 0.4005\n",
      "Epoch: 508   Train loss: 0.1075   Train accuracy: 0.724   Val loss: 0.3898   Val accuracy: 0.415    weighted Val loss: 0.4005\n",
      "Epoch: 509   Train loss: 0.102   Train accuracy: 0.72   Val loss: 0.3868   Val accuracy: 0.415    weighted Val loss: 0.4004\n",
      "Epoch: 510   Train loss: 0.0996   Train accuracy: 0.734   Val loss: 0.3953   Val accuracy: 0.407    weighted Val loss: 0.4004\n",
      "Epoch: 511   Train loss: 0.1031   Train accuracy: 0.747   Val loss: 0.3905   Val accuracy: 0.411    weighted Val loss: 0.4003\n",
      "Epoch: 512   Train loss: 0.1061   Train accuracy: 0.752   Val loss: 0.3773   Val accuracy: 0.421    weighted Val loss: 0.4002\n",
      "Epoch: 513   Train loss: 0.1093   Train accuracy: 0.686   Val loss: 0.3723   Val accuracy: 0.433    weighted Val loss: 0.4001\n",
      "Epoch: 514   Train loss: 0.0948   Train accuracy: 0.761   Val loss: 0.3877   Val accuracy: 0.416    weighted Val loss: 0.4\n",
      "Epoch: 515   Train loss: 0.1002   Train accuracy: 0.808   Val loss: 0.3898   Val accuracy: 0.413    weighted Val loss: 0.4\n",
      "Epoch: 516   Train loss: 0.0987   Train accuracy: 0.77   Val loss: 0.3888   Val accuracy: 0.409    weighted Val loss: 0.3999\n",
      "Epoch: 517   Train loss: 0.0979   Train accuracy: 0.757   Val loss: 0.3756   Val accuracy: 0.417    weighted Val loss: 0.3998\n",
      "Epoch: 518   Train loss: 0.0954   Train accuracy: 0.771   Val loss: 0.3808   Val accuracy: 0.415    weighted Val loss: 0.3997\n",
      "Epoch: 519   Train loss: 0.0927   Train accuracy: 0.798   Val loss: 0.3903   Val accuracy: 0.407    weighted Val loss: 0.3997\n",
      "Epoch: 520   Train loss: 0.1015   Train accuracy: 0.788   Val loss: 0.3934   Val accuracy: 0.405    weighted Val loss: 0.3996\n",
      "Epoch: 521   Train loss: 0.0993   Train accuracy: 0.752   Val loss: 0.3893   Val accuracy: 0.409    weighted Val loss: 0.3996\n",
      "Epoch: 522   Train loss: 0.1051   Train accuracy: 0.759   Val loss: 0.3963   Val accuracy: 0.408    weighted Val loss: 0.3996\n",
      "Epoch: 523   Train loss: 0.0988   Train accuracy: 0.737   Val loss: 0.3889   Val accuracy: 0.414    weighted Val loss: 0.3995\n",
      "Epoch: 524   Train loss: 0.0947   Train accuracy: 0.786   Val loss: 0.3883   Val accuracy: 0.421    weighted Val loss: 0.3994\n",
      "Epoch: 525   Train loss: 0.0986   Train accuracy: 0.781   Val loss: 0.3891   Val accuracy: 0.423    weighted Val loss: 0.3994\n",
      "Epoch: 526   Train loss: 0.0906   Train accuracy: 0.775   Val loss: 0.3934   Val accuracy: 0.418    weighted Val loss: 0.3994\n",
      "Epoch: 527   Train loss: 0.0985   Train accuracy: 0.768   Val loss: 0.3966   Val accuracy: 0.413    weighted Val loss: 0.3994\n",
      "Epoch: 528   Train loss: 0.0971   Train accuracy: 0.754   Val loss: 0.3902   Val accuracy: 0.427    weighted Val loss: 0.3993\n",
      "Epoch: 529   Train loss: 0.1055   Train accuracy: 0.71   Val loss: 0.3794   Val accuracy: 0.431    weighted Val loss: 0.3992\n",
      "Epoch: 530   Train loss: 0.099   Train accuracy: 0.797   Val loss: 0.3803   Val accuracy: 0.42    weighted Val loss: 0.3991\n",
      "Epoch: 531   Train loss: 0.1034   Train accuracy: 0.749   Val loss: 0.3811   Val accuracy: 0.422    weighted Val loss: 0.399\n",
      "Epoch: 532   Train loss: 0.1064   Train accuracy: 0.752   Val loss: 0.3872   Val accuracy: 0.42    weighted Val loss: 0.399\n",
      "Epoch: 533   Train loss: 0.0998   Train accuracy: 0.78   Val loss: 0.3805   Val accuracy: 0.431    weighted Val loss: 0.3989\n",
      "Epoch: 534   Train loss: 0.1015   Train accuracy: 0.736   Val loss: 0.3821   Val accuracy: 0.416    weighted Val loss: 0.3988\n",
      "Epoch: 535   Train loss: 0.101   Train accuracy: 0.748   Val loss: 0.3891   Val accuracy: 0.415    weighted Val loss: 0.3987\n",
      "Epoch: 536   Train loss: 0.1108   Train accuracy: 0.747   Val loss: 0.381   Val accuracy: 0.416    weighted Val loss: 0.3986\n",
      "Epoch: 537   Train loss: 0.0959   Train accuracy: 0.793   Val loss: 0.3931   Val accuracy: 0.413    weighted Val loss: 0.3986\n",
      "Epoch: 538   Train loss: 0.094   Train accuracy: 0.789   Val loss: 0.4017   Val accuracy: 0.409    weighted Val loss: 0.3986\n"
     ]
    }
   ],
   "source": [
    "MLPparametersGDE = {\n",
    "    'n_layers':2,\n",
    "    'layer_size_factor':[1, 64], \n",
    "    'dropout':[0.3, 0.3],\n",
    "    'batch_size': 128,\n",
    "    'num_epochs': 900,\n",
    "    'learning_rate': 6e-4,\n",
    "    'weight_decay': 5e-3,\n",
    "    'betas': (0.9, 0.999), \n",
    "    'eps': 1e-08\n",
    "}\n",
    "MLPmodelGDE, _,_, MLPcheckpointGDE = MLP.train_MLP(dm, sim_all[\"GDE_train\"], sim_all[\"GDE_test\"], MLPparametersGDE, acc_fn=MLP.F1, autostop_decay = 0.995, print_summary = True)"
   ]
  },
  {
   "cell_type": "code",
   "execution_count": 66,
   "metadata": {},
   "outputs": [
    {
     "name": "stdout",
     "output_type": "stream",
     "text": [
      "model saved\n"
     ]
    }
   ],
   "source": [
    "#optional: save the model\n",
    "MLP.save_ckp(MLPcheckpointGDE, \"models/MLPGDE253_1.pt\")"
   ]
  },
  {
   "cell_type": "markdown",
   "metadata": {},
   "source": [
    "###### Result"
   ]
  },
  {
   "cell_type": "code",
   "execution_count": 69,
   "metadata": {},
   "outputs": [
    {
     "name": "stdout",
     "output_type": "stream",
     "text": [
      "device set to cuda\n",
      "threshold: 0.05  validation loss: 0.3433 F1 accuracy 0.326 Precision accuracy 0.21 Recall accuracy 0.728 AUC accuracy: 0.759\n",
      "device set to cuda\n",
      "threshold: 0.1  validation loss: 0.3433 F1 accuracy 0.378 Precision accuracy 0.272 Recall accuracy 0.619 AUC accuracy: 0.759\n",
      "device set to cuda\n",
      "threshold: 0.15  validation loss: 0.3433 F1 accuracy 0.424 Precision accuracy 0.356 Recall accuracy 0.526 AUC accuracy: 0.759\n",
      "device set to cuda\n",
      "threshold: 0.2  validation loss: 0.3433 F1 accuracy 0.443 Precision accuracy 0.401 Recall accuracy 0.494 AUC accuracy: 0.759\n",
      "device set to cuda\n",
      "threshold: 0.25  validation loss: 0.3433 F1 accuracy 0.416 Precision accuracy 0.421 Recall accuracy 0.41 AUC accuracy: 0.759\n",
      "device set to cuda\n",
      "threshold: 0.3  validation loss: 0.3433 F1 accuracy 0.385 Precision accuracy 0.429 Recall accuracy 0.349 AUC accuracy: 0.759\n",
      "device set to cuda\n",
      "threshold: 0.35  validation loss: 0.3433 F1 accuracy 0.362 Precision accuracy 0.433 Recall accuracy 0.311 AUC accuracy: 0.759\n",
      "device set to cuda\n",
      "threshold: 0.4  validation loss: 0.3433 F1 accuracy 0.352 Precision accuracy 0.452 Recall accuracy 0.288 AUC accuracy: 0.759\n",
      "device set to cuda\n",
      "threshold: 0.45  validation loss: 0.3433 F1 accuracy 0.332 Precision accuracy 0.482 Recall accuracy 0.253 AUC accuracy: 0.759\n",
      "device set to cuda\n",
      "threshold: 0.5  validation loss: 0.3433 F1 accuracy 0.33 Precision accuracy 0.514 Recall accuracy 0.244 AUC accuracy: 0.759\n",
      "device set to cuda\n",
      "threshold: 0.55  validation loss: 0.3433 F1 accuracy 0.296 Precision accuracy 0.512 Recall accuracy 0.208 AUC accuracy: 0.759\n",
      "device set to cuda\n",
      "threshold: 0.6  validation loss: 0.3433 F1 accuracy 0.275 Precision accuracy 0.527 Recall accuracy 0.186 AUC accuracy: 0.759\n",
      "device set to cuda\n",
      "threshold: 0.65  validation loss: 0.3433 F1 accuracy 0.249 Precision accuracy 0.52 Recall accuracy 0.163 AUC accuracy: 0.759\n",
      "device set to cuda\n",
      "threshold: 0.7  validation loss: 0.3433 F1 accuracy 0.208 Precision accuracy 0.494 Recall accuracy 0.131 AUC accuracy: 0.759\n",
      "device set to cuda\n",
      "threshold: 0.75  validation loss: 0.3433 F1 accuracy 0.175 Precision accuracy 0.5 Recall accuracy 0.106 AUC accuracy: 0.759\n",
      "device set to cuda\n",
      "threshold: 0.8  validation loss: 0.3433 F1 accuracy 0.144 Precision accuracy 0.52 Recall accuracy 0.083 AUC accuracy: 0.759\n",
      "device set to cuda\n",
      "threshold: 0.85  validation loss: 0.3433 F1 accuracy 0.12 Precision accuracy 0.568 Recall accuracy 0.067 AUC accuracy: 0.759\n",
      "device set to cuda\n",
      "threshold: 0.9  validation loss: 0.3433 F1 accuracy 0.066 Precision accuracy 0.478 Recall accuracy 0.035 AUC accuracy: 0.759\n",
      "device set to cuda\n",
      "threshold: 0.95  validation loss: 0.3433 F1 accuracy 0.025 Precision accuracy 0.571 Recall accuracy 0.013 AUC accuracy: 0.759\n",
      "device set to cuda\n"
     ]
    },
    {
     "data": {
      "image/png": "[encoded data removed]",
      "text/plain": [
       "<Figure size 720x720 with 1 Axes>"
      ]
     },
     "metadata": {},
     "output_type": "display_data"
    }
   ],
   "source": [
    "for i in range(5,100, 5):\n",
    "    t = i/100;\n",
    "    MLP.eval_mlp(MLPmodelGDE, sim_all[\"GDE_test\"], dm, device_name = 'cuda', threshold = t)\n",
    "MLP.eval_plot_MLP(MLPmodelGDE, sim_all[\"GDE_test\"], dm, device_name = 'cuda')"
   ]
  },
  {
   "cell_type": "markdown",
   "metadata": {},
   "source": [
    "Questions for Nafiseh:\n",
    "1. Shuffling the dataset greatly reduces overfitting and improves the accuracy. Can we shuffle the dataset? Is removing the overlapping signals a valid way to shuffle the dataset?\n",
    "2. Even without shuffling the dataset, removing overlapping signals still greatly improves the validation accuracy. Should we remove the overlapping signal?\n",
    "3. The built-in AUC metric in Scikit-learn yields a lot higher accuracy than the maximum F-score obatined. Is it normal? What is your AUC accuracy implementation?"
   ]
  },
  {
   "cell_type": "code",
   "execution_count": null,
   "metadata": {},
   "outputs": [],
   "source": []
  },
  {
   "cell_type": "code",
   "execution_count": null,
   "metadata": {},
   "outputs": [],
   "source": []
  },
  {
   "cell_type": "code",
   "execution_count": null,
   "metadata": {},
   "outputs": [],
   "source": []
  },
  {
   "cell_type": "code",
   "execution_count": null,
   "metadata": {},
   "outputs": [],
   "source": []
  },
  {
   "cell_type": "code",
   "execution_count": null,
   "metadata": {},
   "outputs": [],
   "source": []
  },
  {
   "cell_type": "code",
   "execution_count": 28,
   "metadata": {},
   "outputs": [],
   "source": [
    "def create_adjacency_matrix(X):\n",
    "        '''\n",
    "        Input types:\n",
    "        X: MxNxD Numpy Tensor\n",
    "        n: float threshold for adjacency matrix\n",
    "\n",
    "        Returns:\n",
    "        A: sparse NxN adjacency matrix with thresholding\n",
    "        P_avg: raw NxN covariance matrix before thresholding\n",
    "        remove_indices: indices of bad samples that should be removed\n",
    "        '''\n",
    "        D_0 = X.shape[2]\n",
    "        M = X.shape[0]\n",
    "        # X_bar is the average of each row (hence dimension M x N x 1)\n",
    "        X_bar = np.mean(X, axis=2, keepdims=True)\n",
    "        # buid P matrix (tensor since there are M examples) shape: MxNxN\n",
    "        P = 1 / (D_0 - 1) * np.matmul((X - X_bar), np.transpose((X - X_bar), (0, 2, 1)))\n",
    "        return P"
   ]
  }
 ],
 "metadata": {
  "kernelspec": {
   "display_name": "Python 3",
   "language": "python",
   "name": "python3"
  },
  "language_info": {
   "codemirror_mode": {
    "name": "ipython",
    "version": 3
   },
   "file_extension": ".py",
   "mimetype": "text/x-python",
   "name": "python",
   "nbconvert_exporter": "python",
   "pygments_lexer": "ipython3",
   "version": "3.8.5"
  }
 },
 "nbformat": 4,
 "nbformat_minor": 4
}
