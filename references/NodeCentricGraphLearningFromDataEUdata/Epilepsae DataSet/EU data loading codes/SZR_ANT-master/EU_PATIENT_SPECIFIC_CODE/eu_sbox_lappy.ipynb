{
 "cells": [
  {
   "cell_type": "code",
   "execution_count": 1,
   "metadata": {
    "collapsed": true
   },
   "outputs": [],
   "source": [
    "import numpy as np\n",
    "import numpy.matlib\n",
    "import pandas as pd\n",
    "import os\n",
    "import pickle\n",
    "import scipy.io as sio\n",
    "import ieeg_funcs as ief\n",
    "import dgFuncs as dg\n",
    "from scipy import stats\n",
    "from mpl_toolkits.axes_grid1 import make_axes_locatable\n",
    "import matplotlib.pyplot as plt\n",
    "%matplotlib inline"
   ]
  },
  {
   "cell_type": "code",
   "execution_count": 5,
   "metadata": {},
   "outputs": [
    {
     "name": "stdout",
     "output_type": "stream",
     "text": [
      "[   0.1           0.18738174    0.35111917    0.65793322    1.23284674\n",
      "    2.3101297     4.32876128    8.11130831   15.19911083   28.48035868\n",
      "   53.36699231  100.        ]\n"
     ]
    }
   ],
   "source": [
    "try_C=np.logspace(-1,2,10)\n",
    "print(try_C)"
   ]
  },
  {
   "cell_type": "code",
   "execution_count": 64,
   "metadata": {},
   "outputs": [
    {
     "name": "stdout",
     "output_type": "stream",
     "text": [
      "[ 1.  1.  1.  1.  1.  0.  0.  0.  0.  0.]\n",
      "[0 1 2 3 4]\n",
      "[2 3 4]\n",
      "[2 3 4]\n"
     ]
    }
   ],
   "source": [
    "bro=np.zeros(10)\n",
    "bro[:5]=1\n",
    "print(bro)\n",
    "bro_id=np.where(bro==1)[0]\n",
    "print(bro_id)\n",
    "bro_id=np.setdiff1d(np.where(bro==1)[0],np.arange(0,2))\n",
    "print(bro_id)\n",
    "bro_id=np.where(bro[2:]==1)[0]+2\n",
    "print(bro_id)"
   ]
  },
  {
   "cell_type": "code",
   "execution_count": 5,
   "metadata": {
    "collapsed": true
   },
   "outputs": [],
   "source": [
    "# Get key directories\n",
    "dir_dict=ief.get_path_dict()\n",
    "# print(dir_dict.keys())\n",
    "ftrs_root=dir_dict['ftrs_root']\n",
    "# print(ftrs_root)\n",
    "meta_dir=dir_dict['eu_meta']"
   ]
  },
  {
   "cell_type": "code",
   "execution_count": 6,
   "metadata": {},
   "outputs": [
    {
     "name": "stdout",
     "output_type": "stream",
     "text": [
      "Loading /Users/davidgroppe/Dropbox/TWH_INFO/EU_METADATA/data_splits_FR_1096.pkl\n",
      "dict_keys(['valid_szr_files', 'train_files', 'train_szr_files', 'test_files', 'test_szr_files', 'valid_files'])\n",
      "101 training files (22 contain szrs)\n",
      "21 validation files\n"
     ]
    }
   ],
   "source": [
    "# Get list of training and validation files\n",
    "sub='1096'\n",
    "split_fname=os.path.join(meta_dir,'data_splits_FR_'+sub+'.pkl')\n",
    "print('Loading %s' % split_fname)\n",
    "split_dict=pickle.load(open(split_fname,'rb'))\n",
    "print(split_dict.keys())\n",
    "test_files=split_dict['test_files']\n",
    "train_files=split_dict['train_files']\n",
    "train_szr_files=split_dict['train_szr_files']\n",
    "valid_files=split_dict['valid_files']\n",
    "n_train_file=len(train_files)\n",
    "n_train_szr_file=len(train_szr_files)\n",
    "print('%d training files (%d contain szrs)' % (n_train_file, n_train_szr_file))\n",
    "n_valid_file=len(valid_files)\n",
    "print('%d validation files' % n_valid_file)"
   ]
  },
  {
   "cell_type": "code",
   "execution_count": 7,
   "metadata": {},
   "outputs": [
    {
     "data": {
      "text/plain": [
       "'109600102_0001'"
      ]
     },
     "execution_count": 7,
     "metadata": {},
     "output_type": "execute_result"
    }
   ],
   "source": [
    "train_szr_files[0]"
   ]
  },
  {
   "cell_type": "code",
   "execution_count": null,
   "metadata": {
    "collapsed": true
   },
   "outputs": [],
   "source": []
  },
  {
   "cell_type": "code",
   "execution_count": null,
   "metadata": {
    "collapsed": true
   },
   "outputs": [],
   "source": [
    "valid_bal_acc, valid_sens, valid_spec, valid_acc=ief.apply_model_2_file_list(\n",
    "    model, ftr_fname_list, ftr_names, ftr_nrm_dicts, sub, n_ftr_dim, ext_list, edge_pts)"
   ]
  },
  {
   "cell_type": "code",
   "execution_count": 57,
   "metadata": {},
   "outputs": [
    {
     "name": "stdout",
     "output_type": "stream",
     "text": [
      "# of extra szr windows=39\n",
      "That is 3.900000 seconds \n"
     ]
    },
    {
     "data": {
      "image/png": "[encoded data removed]",
      "text/plain": [
       "<matplotlib.figure.Figure at 0x11dcb75f8>"
      ]
     },
     "metadata": {},
     "output_type": "display_data"
    }
   ],
   "source": [
    "infname=train_szr_files[21]\n",
    "orig_dict=np.load('/Users/davidgroppe/PycharmProjects/SZR_ANT/FTRS/EU_SZR_CLASS/1096_ORIG/'+infname+'_szr_class.npz')\n",
    "neo_dict=np.load('/Users/davidgroppe/PycharmProjects/SZR_ANT/FTRS/EU_SZR_CLASS/1096/'+infname+'_szr_class.npz')\n",
    "\n",
    "orig_class=orig_dict['szr_class']\n",
    "neo_class=neo_dict['szr_class']\n",
    "# xlim=[5000, 5800]\n",
    "xlim=[0, len(orig_class)]\n",
    "plt.figure(1)\n",
    "plt.clf()\n",
    "plt.subplot(2,1,1)\n",
    "plt.plot(orig_class,'b')\n",
    "plt.plot(neo_class,'r--');\n",
    "plt.xlim(xlim)\n",
    "\n",
    "plt.subplot(2,1,2)\n",
    "plt.plot(neo_class-orig_class,'m')\n",
    "plt.xlim(xlim)\n",
    "\n",
    "n_dif=np.sum(neo_class-orig_class)\n",
    "print('# of extra szr windows=%d' % n_dif)\n",
    "print('That is %f seconds ' % (n_dif/10))"
   ]
  },
  {
   "cell_type": "code",
   "execution_count": 2,
   "metadata": {},
   "outputs": [
    {
     "name": "stdout",
     "output_type": "stream",
     "text": [
      "dict_keys(['stop_ts', 'ieeg256', '__version__', 'start_ts', 'chan_labels', 'szr_type', 'Fs', 'tpts_sec', '__header__', 'just_ieeg_fname', '__globals__', 'is_szr'])\n"
     ]
    }
   ],
   "source": [
    "in_file='/Users/davidgroppe/ONGOING/EU_EEG/FR_1096/109600102_0001.mat'\n",
    "in_dict=sio.loadmat(in_file)\n",
    "print(in_dict.keys())"
   ]
  },
  {
   "cell_type": "code",
   "execution_count": 5,
   "metadata": {},
   "outputs": [
    {
     "data": {
      "image/png": "[encoded data removed]",
      "text/plain": [
       "<matplotlib.figure.Figure at 0x10b2a4748>"
      ]
     },
     "metadata": {},
     "output_type": "display_data"
    }
   ],
   "source": [
    "is_szr=in_dict['is_szr']\n",
    "plt.figure(1)"
   ]
  },
  {
   "cell_type": "code",
   "execution_count": 8,
   "metadata": {},
   "outputs": [
    {
     "data": {
      "image/png": "[encoded data removed]",
      "text/plain": [
       "<matplotlib.figure.Figure at 0x1235e3320>"
      ]
     },
     "metadata": {},
     "output_type": "display_data"
    }
   ],
   "source": [
    "df_szr=np.diff(is_szr.T)\n",
    "plt.figure(2)\n",
    "plt.clf()\n",
    "plt.plot(df_szr.T);"
   ]
  },
  {
   "cell_type": "code",
   "execution_count": 6,
   "metadata": {},
   "outputs": [
    {
     "name": "stdout",
     "output_type": "stream",
     "text": [
      "(1, 921599)\n",
      "(921600, 1)\n"
     ]
    }
   ],
   "source": [
    "print(df_szr.shape)\n",
    "print(is_szr.shape)\n"
   ]
  },
  {
   "cell_type": "code",
   "execution_count": 9,
   "metadata": {
    "collapsed": true
   },
   "outputs": [],
   "source": [
    "onset_ids=np.where?"
   ]
  },
  {
   "cell_type": "code",
   "execution_count": 20,
   "metadata": {},
   "outputs": [
    {
     "name": "stdout",
     "output_type": "stream",
     "text": [
      "[135168]\n",
      "[144896]\n"
     ]
    }
   ],
   "source": [
    "onset_ids=np.where(df_szr.T == 1)[0]+1\n",
    "print(onset_ids)\n",
    "offset_ids=np.where(df_szr.T == -1)[0]\n",
    "print(offset_ids)"
   ]
  },
  {
   "cell_type": "code",
   "execution_count": 23,
   "metadata": {},
   "outputs": [
    {
     "data": {
      "text/plain": [
       "(144796, 144996)"
      ]
     },
     "execution_count": 23,
     "metadata": {},
     "output_type": "execute_result"
    },
    {
     "data": {
      "image/png": "[encoded data removed]",
      "text/plain": [
       "<matplotlib.figure.Figure at 0x12b963208>"
      ]
     },
     "metadata": {},
     "output_type": "display_data"
    },
    {
     "data": {
      "image/png": "[encoded data removed]",
      "text/plain": [
       "<matplotlib.figure.Figure at 0x12b960da0>"
      ]
     },
     "metadata": {},
     "output_type": "display_data"
    }
   ],
   "source": [
    "is_szr=in_dict['is_szr']\n",
    "plt.figure(1)\n",
    "plt.clf()\n",
    "plt.plot(is_szr,'k-')\n",
    "for t in onset_ids:\n",
    "    plt.plot(t,1,'r.')\n",
    "plt.xlim([np.min(onset_ids)-100, np.min(onset_ids)+100])\n",
    "\n",
    "plt.figure(2)\n",
    "plt.clf()\n",
    "plt.plot(is_szr,'k-')\n",
    "for t in offset_ids:\n",
    "    plt.plot(t,1,'b.')\n",
    "plt.xlim([np.min(offset_ids)-100, np.max(offset_ids)+100])"
   ]
  },
  {
   "cell_type": "code",
   "execution_count": 24,
   "metadata": {
    "collapsed": true
   },
   "outputs": [],
   "source": [
    "html_fname='/Users/davidgroppe/GIT/OCSVM_EDMSE/matlab/EU/metadata/all_szrs_FR_888.html'\n",
    "htable=pd.read_html(html_fname)"
   ]
  },
  {
   "cell_type": "code",
   "execution_count": 25,
   "metadata": {},
   "outputs": [
    {
     "data": {
      "text/html": [
       "<div>\n",
       "<style>\n",
       "    .dataframe thead tr:only-child th {\n",
       "        text-align: right;\n",
       "    }\n",
       "\n",
       "    .dataframe thead th {\n",
       "        text-align: left;\n",
       "    }\n",
       "\n",
       "    .dataframe tbody tr th {\n",
       "        vertical-align: top;\n",
       "    }\n",
       "</style>\n",
       "<table border=\"1\" class=\"dataframe\">\n",
       "  <thead>\n",
       "    <tr style=\"text-align: right;\">\n",
       "      <th></th>\n",
       "      <th>#</th>\n",
       "      <th>classif.</th>\n",
       "      <th>onset</th>\n",
       "      <th>offset</th>\n",
       "      <th>p.</th>\n",
       "      <th>vig.</th>\n",
       "      <th>origin</th>\n",
       "      <th>semiology</th>\n",
       "    </tr>\n",
       "  </thead>\n",
       "  <tbody>\n",
       "    <tr>\n",
       "      <th>5</th>\n",
       "      <td>6:</td>\n",
       "      <td>CP</td>\n",
       "      <td>eeg: 23.06.'09 11:45:01.008789</td>\n",
       "      <td>eeg: 23.06.'09 11:47:03.908203</td>\n",
       "      <td>b</td>\n",
       "      <td>awake</td>\n",
       "      <td>origin: HL4,HL5,HL6,HL7,HL8  early: GA1, GA2, ...</td>\n",
       "      <td>NaN</td>\n",
       "    </tr>\n",
       "    <tr>\n",
       "      <th>6</th>\n",
       "      <td>7:</td>\n",
       "      <td>CP</td>\n",
       "      <td>eeg: 23.06.'09 14:25:52.366211</td>\n",
       "      <td>eeg: 23.06.'09 14:27:52.616211</td>\n",
       "      <td>b</td>\n",
       "      <td>awake</td>\n",
       "      <td>origin: HL2,HL3,HL4,HL5,HL6,HL7,HL8  early: HL...</td>\n",
       "      <td>NaN</td>\n",
       "    </tr>\n",
       "    <tr>\n",
       "      <th>7</th>\n",
       "      <td>8:</td>\n",
       "      <td>CP</td>\n",
       "      <td>eeg: 23.06.'09 16:09:33.741211</td>\n",
       "      <td>eeg: 23.06.'09 16:11:57.724609</td>\n",
       "      <td>r</td>\n",
       "      <td>awake</td>\n",
       "      <td>origin: HL3,HL4  early: HL2, HL3, HL4, HL5, HL...</td>\n",
       "      <td>NaN</td>\n",
       "    </tr>\n",
       "    <tr>\n",
       "      <th>8</th>\n",
       "      <td>9:</td>\n",
       "      <td>UC</td>\n",
       "      <td>eeg: 24.06.'09 14:00:30.941406</td>\n",
       "      <td>eeg: 24.06.'09 14:01:43.983398</td>\n",
       "      <td>b</td>\n",
       "      <td>awake</td>\n",
       "      <td>origin: HL3,HL4  early: late: GA1, GA2, GA3, G...</td>\n",
       "      <td>NaN</td>\n",
       "    </tr>\n",
       "    <tr>\n",
       "      <th>9</th>\n",
       "      <td>total:</td>\n",
       "      <td>total:</td>\n",
       "      <td>NaN</td>\n",
       "      <td>NaN</td>\n",
       "      <td>NaN</td>\n",
       "      <td>NaN</td>\n",
       "      <td>NaN</td>\n",
       "      <td>NaN</td>\n",
       "    </tr>\n",
       "  </tbody>\n",
       "</table>\n",
       "</div>"
      ],
      "text/plain": [
       "        # classif.                           onset  \\\n",
       "5      6:       CP  eeg: 23.06.'09 11:45:01.008789   \n",
       "6      7:       CP  eeg: 23.06.'09 14:25:52.366211   \n",
       "7      8:       CP  eeg: 23.06.'09 16:09:33.741211   \n",
       "8      9:       UC  eeg: 24.06.'09 14:00:30.941406   \n",
       "9  total:   total:                             NaN   \n",
       "\n",
       "                           offset   p.   vig.  \\\n",
       "5  eeg: 23.06.'09 11:47:03.908203    b  awake   \n",
       "6  eeg: 23.06.'09 14:27:52.616211    b  awake   \n",
       "7  eeg: 23.06.'09 16:11:57.724609    r  awake   \n",
       "8  eeg: 24.06.'09 14:01:43.983398    b  awake   \n",
       "9                             NaN  NaN    NaN   \n",
       "\n",
       "                                              origin  semiology  \n",
       "5  origin: HL4,HL5,HL6,HL7,HL8  early: GA1, GA2, ...        NaN  \n",
       "6  origin: HL2,HL3,HL4,HL5,HL6,HL7,HL8  early: HL...        NaN  \n",
       "7  origin: HL3,HL4  early: HL2, HL3, HL4, HL5, HL...        NaN  \n",
       "8  origin: HL3,HL4  early: late: GA1, GA2, GA3, G...        NaN  \n",
       "9                                                NaN        NaN  "
      ]
     },
     "execution_count": 25,
     "metadata": {},
     "output_type": "execute_result"
    }
   ],
   "source": [
    "htable[0].tail()"
   ]
  },
  {
   "cell_type": "code",
   "execution_count": 49,
   "metadata": {},
   "outputs": [
    {
     "name": "stdout",
     "output_type": "stream",
     "text": [
      "nan\n"
     ]
    },
    {
     "data": {
      "text/plain": [
       "False"
      ]
     },
     "execution_count": 49,
     "metadata": {},
     "output_type": "execute_result"
    }
   ],
   "source": [
    "bro=htable[0].iloc[-1,2]\n",
    "print(bro)\n",
    "bro=np.nan\n",
    "~np.isnan(bro)\n",
    "# bro=htable[0].drop(htable[0].index[9])"
   ]
  },
  {
   "cell_type": "code",
   "execution_count": 48,
   "metadata": {},
   "outputs": [
    {
     "name": "stdout",
     "output_type": "stream",
     "text": [
      "total:\n",
      "6\n"
     ]
    }
   ],
   "source": [
    "bro=htable[0].iloc[-1,1]\n",
    "print(bro)\n",
    "print(len(bro))"
   ]
  },
  {
   "cell_type": "code",
   "execution_count": null,
   "metadata": {
    "collapsed": true
   },
   "outputs": [],
   "source": []
  }
 ],
 "metadata": {
  "anaconda-cloud": {},
  "kernelspec": {
   "display_name": "Python [conda root]",
   "language": "python",
   "name": "conda-root-py"
  },
  "language_info": {
   "codemirror_mode": {
    "name": "ipython",
    "version": 3
   },
   "file_extension": ".py",
   "mimetype": "text/x-python",
   "name": "python",
   "nbconvert_exporter": "python",
   "pygments_lexer": "ipython3",
   "version": "3.5.3"
  }
 },
 "nbformat": 4,
 "nbformat_minor": 2
}
