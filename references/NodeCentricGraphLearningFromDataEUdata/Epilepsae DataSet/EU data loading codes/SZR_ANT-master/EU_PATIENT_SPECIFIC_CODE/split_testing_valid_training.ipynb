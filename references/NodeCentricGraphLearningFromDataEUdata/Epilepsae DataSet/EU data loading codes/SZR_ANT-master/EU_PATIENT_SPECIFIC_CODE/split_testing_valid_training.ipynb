{
 "cells": [
  {
   "cell_type": "code",
   "execution_count": 22,
   "metadata": {
    "collapsed": true
   },
   "outputs": [],
   "source": [
    "import numpy as np\n",
    "import pandas as pd\n",
    "import os\n",
    "import pickle"
   ]
  },
  {
   "cell_type": "code",
   "execution_count": null,
   "metadata": {
    "collapsed": true
   },
   "outputs": [],
   "source": [
    "# Sketch of code for splitting data into training, validation, & test\n",
    "# This was turned into the script split_testing_valid_training.py"
   ]
  },
  {
   "cell_type": "code",
   "execution_count": 11,
   "metadata": {
    "collapsed": false
   },
   "outputs": [
    {
     "data": {
      "text/html": [
       "<div>\n",
       "<table border=\"1\" class=\"dataframe\">\n",
       "  <thead>\n",
       "    <tr style=\"text-align: right;\">\n",
       "      <th></th>\n",
       "      <th>SzrOffsetSec</th>\n",
       "      <th>SzrOffsetStr</th>\n",
       "      <th>SzrOnsetSec</th>\n",
       "      <th>SzrOnsetStr</th>\n",
       "      <th>SzrType</th>\n",
       "    </tr>\n",
       "  </thead>\n",
       "  <tbody>\n",
       "    <tr>\n",
       "      <th>4</th>\n",
       "      <td>2.990674e+08</td>\n",
       "      <td>23.06.2009 10:16:13.383789</td>\n",
       "      <td>2.990672e+08</td>\n",
       "      <td>23.06.2009 10:13:36.033203</td>\n",
       "      <td>Clinical</td>\n",
       "    </tr>\n",
       "    <tr>\n",
       "      <th>5</th>\n",
       "      <td>2.990728e+08</td>\n",
       "      <td>23.06.2009 11:47:03.908203</td>\n",
       "      <td>2.990727e+08</td>\n",
       "      <td>23.06.2009 11:45:01.008789</td>\n",
       "      <td>Clinical</td>\n",
       "    </tr>\n",
       "    <tr>\n",
       "      <th>6</th>\n",
       "      <td>2.990825e+08</td>\n",
       "      <td>23.06.2009 14:27:52.616211</td>\n",
       "      <td>2.990824e+08</td>\n",
       "      <td>23.06.2009 14:25:52.366211</td>\n",
       "      <td>Clinical</td>\n",
       "    </tr>\n",
       "    <tr>\n",
       "      <th>7</th>\n",
       "      <td>2.990887e+08</td>\n",
       "      <td>23.06.2009 16:11:57.724609</td>\n",
       "      <td>2.990886e+08</td>\n",
       "      <td>23.06.2009 16:09:33.741211</td>\n",
       "      <td>Clinical</td>\n",
       "    </tr>\n",
       "    <tr>\n",
       "      <th>8</th>\n",
       "      <td>2.991673e+08</td>\n",
       "      <td>24.06.2009 14:01:43.983398</td>\n",
       "      <td>2.991672e+08</td>\n",
       "      <td>24.06.2009 14:00:30.941406</td>\n",
       "      <td>Clinical</td>\n",
       "    </tr>\n",
       "  </tbody>\n",
       "</table>\n",
       "</div>"
      ],
      "text/plain": [
       "   SzrOffsetSec                SzrOffsetStr   SzrOnsetSec  \\\n",
       "4  2.990674e+08  23.06.2009 10:16:13.383789  2.990672e+08   \n",
       "5  2.990728e+08  23.06.2009 11:47:03.908203  2.990727e+08   \n",
       "6  2.990825e+08  23.06.2009 14:27:52.616211  2.990824e+08   \n",
       "7  2.990887e+08  23.06.2009 16:11:57.724609  2.990886e+08   \n",
       "8  2.991673e+08  24.06.2009 14:01:43.983398  2.991672e+08   \n",
       "\n",
       "                  SzrOnsetStr   SzrType  \n",
       "4  23.06.2009 10:13:36.033203  Clinical  \n",
       "5  23.06.2009 11:45:01.008789  Clinical  \n",
       "6  23.06.2009 14:25:52.366211  Clinical  \n",
       "7  23.06.2009 16:09:33.741211  Clinical  \n",
       "8  24.06.2009 14:00:30.941406  Clinical  "
      ]
     },
     "execution_count": 11,
     "metadata": {},
     "output_type": "execute_result"
    }
   ],
   "source": [
    "# Import list of seizure times\n",
    "sub='1096'\n",
    "\n",
    "# First 3 clinical srs, are training, next 2 clinical szrs validation, everything else is testing\n",
    "df_fname='/Users/davidgroppe/Dropbox/TWH_INFO/EU_METADATA/szr_on_off_FR_'+sub+'.pkl'\n",
    "szr_times_df=pickle.load(open(df_fname,'rb'))\n",
    "szr_times_df.tail()"
   ]
  },
  {
   "cell_type": "code",
   "execution_count": 9,
   "metadata": {
    "collapsed": false
   },
   "outputs": [],
   "source": [
    "clin_ids=szr_times_df[szr_times_df['SzrType']=='Clinical'].index.tolist()\n",
    "#df[df['BoolCol'] == True].index.tolist()"
   ]
  },
  {
   "cell_type": "code",
   "execution_count": 10,
   "metadata": {
    "collapsed": false
   },
   "outputs": [
    {
     "name": "stdout",
     "output_type": "stream",
     "text": [
      "[0, 1, 2, 3, 4, 5, 6, 7, 8]\n"
     ]
    }
   ],
   "source": [
    "print(clin_ids)"
   ]
  },
  {
   "cell_type": "code",
   "execution_count": 47,
   "metadata": {
    "collapsed": false
   },
   "outputs": [
    {
     "name": "stdout",
     "output_type": "stream",
     "text": [
      "Train-Valid border 298990031 sec\n",
      "Valid-Test border 299035376 sec\n"
     ]
    }
   ],
   "source": [
    "# Get border between training-validation data and validation-testing data\n",
    "# Training data contain the first 3 clinical szrs\n",
    "# Validation data contain the next 2 clinical szrs\n",
    "# Testing data consists of the rest\n",
    "train_szr_offset=szr_times_df.loc[2].SzrOffsetSec\n",
    "valid_szr_offset=szr_times_df.loc[3].SzrOffsetSec\n",
    "valid_szr_onset=szr_times_df.loc[3].SzrOnsetSec\n",
    "test_szr_onset=szr_times_df.loc[5].SzrOnsetSec\n",
    "\n",
    "train_valid_border=int(np.round( (train_szr_offset+valid_szr_onset)/2 ))\n",
    "print('Train-Valid border %d sec' % train_valid_border)\n",
    "valid_test_border=int(np.round( (valid_szr_offset+test_szr_onset)/2 ))\n",
    "print('Valid-Test border %d sec' % valid_test_border)"
   ]
  },
  {
   "cell_type": "code",
   "execution_count": 28,
   "metadata": {
    "collapsed": false
   },
   "outputs": [
    {
     "data": {
      "text/html": [
       "<div>\n",
       "<table border=\"1\" class=\"dataframe\">\n",
       "  <thead>\n",
       "    <tr style=\"text-align: right;\">\n",
       "      <th></th>\n",
       "      <th>DurationSec</th>\n",
       "      <th>HeaderFname</th>\n",
       "      <th>StartSec</th>\n",
       "      <th>StartStr</th>\n",
       "      <th>StopSec</th>\n",
       "    </tr>\n",
       "  </thead>\n",
       "  <tbody>\n",
       "    <tr>\n",
       "      <th>0</th>\n",
       "      <td>3600.0</td>\n",
       "      <td>109600102_0000.head</td>\n",
       "      <td>298641241.0</td>\n",
       "      <td>2009-06-18 11:54:01.000</td>\n",
       "      <td>298644841.0</td>\n",
       "    </tr>\n",
       "    <tr>\n",
       "      <th>1</th>\n",
       "      <td>3600.0</td>\n",
       "      <td>109600102_0001.head</td>\n",
       "      <td>298644842.0</td>\n",
       "      <td>2009-06-18 12:54:02.000</td>\n",
       "      <td>298648442.0</td>\n",
       "    </tr>\n",
       "    <tr>\n",
       "      <th>2</th>\n",
       "      <td>3600.0</td>\n",
       "      <td>109600102_0002.head</td>\n",
       "      <td>298648443.0</td>\n",
       "      <td>2009-06-18 13:54:03.000</td>\n",
       "      <td>298652043.0</td>\n",
       "    </tr>\n",
       "    <tr>\n",
       "      <th>3</th>\n",
       "      <td>3600.0</td>\n",
       "      <td>109600102_0003.head</td>\n",
       "      <td>298652045.0</td>\n",
       "      <td>2009-06-18 14:54:05.000</td>\n",
       "      <td>298655645.0</td>\n",
       "    </tr>\n",
       "    <tr>\n",
       "      <th>4</th>\n",
       "      <td>3600.0</td>\n",
       "      <td>109600102_0004.head</td>\n",
       "      <td>298655646.0</td>\n",
       "      <td>2009-06-18 15:54:06.000</td>\n",
       "      <td>298659246.0</td>\n",
       "    </tr>\n",
       "  </tbody>\n",
       "</table>\n",
       "</div>"
      ],
      "text/plain": [
       "   DurationSec          HeaderFname     StartSec                 StartStr  \\\n",
       "0       3600.0  109600102_0000.head  298641241.0  2009-06-18 11:54:01.000   \n",
       "1       3600.0  109600102_0001.head  298644842.0  2009-06-18 12:54:02.000   \n",
       "2       3600.0  109600102_0002.head  298648443.0  2009-06-18 13:54:03.000   \n",
       "3       3600.0  109600102_0003.head  298652045.0  2009-06-18 14:54:05.000   \n",
       "4       3600.0  109600102_0004.head  298655646.0  2009-06-18 15:54:06.000   \n",
       "\n",
       "       StopSec  \n",
       "0  298644841.0  \n",
       "1  298648442.0  \n",
       "2  298652043.0  \n",
       "3  298655645.0  \n",
       "4  298659246.0  "
      ]
     },
     "execution_count": 28,
     "metadata": {},
     "output_type": "execute_result"
    }
   ],
   "source": [
    "# Import mat file files to figure out which ones should be used in which data split\n",
    "# Also keep track of which ones contain seizures (clinical or subclinical)\n",
    "csv_fname='/Users/davidgroppe/Dropbox/TWH_INFO/EU_METADATA/data_on_off_FR_'+sub+'.csv'\n",
    "mat_df=pd.read_csv(csv_fname)\n",
    "mat_df=mat_df.drop('Unnamed: 0',1)\n",
    "mat_df.head()"
   ]
  },
  {
   "cell_type": "code",
   "execution_count": 34,
   "metadata": {
    "collapsed": false
   },
   "outputs": [
    {
     "data": {
      "text/html": [
       "<div>\n",
       "<table border=\"1\" class=\"dataframe\">\n",
       "  <thead>\n",
       "    <tr style=\"text-align: right;\">\n",
       "      <th></th>\n",
       "      <th>DurationSec</th>\n",
       "      <th>HeaderFname</th>\n",
       "      <th>StartSec</th>\n",
       "      <th>StartStr</th>\n",
       "      <th>StopSec</th>\n",
       "    </tr>\n",
       "  </thead>\n",
       "  <tbody>\n",
       "    <tr>\n",
       "      <th>160</th>\n",
       "      <td>3600.0</td>\n",
       "      <td>109600102_0160.head</td>\n",
       "      <td>299213094.0</td>\n",
       "      <td>2009-06-25 02:44:54.000</td>\n",
       "      <td>299216694.0</td>\n",
       "    </tr>\n",
       "    <tr>\n",
       "      <th>161</th>\n",
       "      <td>3600.0</td>\n",
       "      <td>109600102_0161.head</td>\n",
       "      <td>299216695.0</td>\n",
       "      <td>2009-06-25 03:44:55.000</td>\n",
       "      <td>299220295.0</td>\n",
       "    </tr>\n",
       "    <tr>\n",
       "      <th>162</th>\n",
       "      <td>3600.0</td>\n",
       "      <td>109600102_0162.head</td>\n",
       "      <td>299220297.0</td>\n",
       "      <td>2009-06-25 04:44:57.000</td>\n",
       "      <td>299223897.0</td>\n",
       "    </tr>\n",
       "    <tr>\n",
       "      <th>163</th>\n",
       "      <td>3600.0</td>\n",
       "      <td>109600102_0163.head</td>\n",
       "      <td>299223898.0</td>\n",
       "      <td>2009-06-25 05:44:58.000</td>\n",
       "      <td>299227498.0</td>\n",
       "    </tr>\n",
       "    <tr>\n",
       "      <th>164</th>\n",
       "      <td>385.0</td>\n",
       "      <td>109600102_0164.head</td>\n",
       "      <td>299227503.0</td>\n",
       "      <td>2009-06-25 06:45:03.000</td>\n",
       "      <td>299227888.0</td>\n",
       "    </tr>\n",
       "  </tbody>\n",
       "</table>\n",
       "</div>"
      ],
      "text/plain": [
       "     DurationSec          HeaderFname     StartSec                 StartStr  \\\n",
       "160       3600.0  109600102_0160.head  299213094.0  2009-06-25 02:44:54.000   \n",
       "161       3600.0  109600102_0161.head  299216695.0  2009-06-25 03:44:55.000   \n",
       "162       3600.0  109600102_0162.head  299220297.0  2009-06-25 04:44:57.000   \n",
       "163       3600.0  109600102_0163.head  299223898.0  2009-06-25 05:44:58.000   \n",
       "164        385.0  109600102_0164.head  299227503.0  2009-06-25 06:45:03.000   \n",
       "\n",
       "         StopSec  \n",
       "160  299216694.0  \n",
       "161  299220295.0  \n",
       "162  299223897.0  \n",
       "163  299227498.0  \n",
       "164  299227888.0  "
      ]
     },
     "execution_count": 34,
     "metadata": {},
     "output_type": "execute_result"
    }
   ],
   "source": [
    "mat_df.tail()"
   ]
  },
  {
   "cell_type": "code",
   "execution_count": 48,
   "metadata": {
    "collapsed": false
   },
   "outputs": [
    {
     "name": "stdout",
     "output_type": "stream",
     "text": [
      "101 training files\n",
      "21 validation files\n",
      "43 testing files\n",
      "31 total szrs found\n",
      "There should be 31 total szrs\n"
     ]
    }
   ],
   "source": [
    "train_files=list()\n",
    "train_szr_files=list()\n",
    "valid_files=list()\n",
    "valid_szr_files=list()\n",
    "test_files=list()\n",
    "test_szr_files=list()\n",
    "total_szrs=0\n",
    "for row_id in range(mat_df.shape[0]):\n",
    "    # See if the file contains szrs\n",
    "    # Szrs with onsets after file onset\n",
    "    post_ids=szr_times_df[szr_times_df['SzrOnsetSec']>=mat_df.iloc[row_id,2]].index.tolist()\n",
    "    # Szrs with onsets before file offset\n",
    "    pre_ids=szr_times_df[szr_times_df['SzrOnsetSec']<=mat_df.iloc[row_id,4]].index.tolist()\n",
    "    n_szrs_in_file=len(np.intersect1d(post_ids,pre_ids))\n",
    "    total_szrs+=n_szrs_in_file\n",
    "    \n",
    "    if mat_df.iloc[row_id,2]>test_szr_onset:\n",
    "        # If file onset is after the valid-test border, make it test data\n",
    "        test_files.append(mat_df.iloc[row_id,1].split('.')[0])\n",
    "        if n_szrs_in_file>0:\n",
    "            test_szr_files.append(test_files[-1])\n",
    "    elif mat_df.iloc[row_id,2]>valid_szr_onset:\n",
    "        # If file onset is after the train-valid border, make it validation data\n",
    "        valid_files.append(mat_df.iloc[row_id,1].split('.')[0])\n",
    "        if n_szrs_in_file>0:\n",
    "            valid_szr_files.append(valid_files[-1])\n",
    "    else:\n",
    "        # Otherwise, make it training data\n",
    "        train_files.append(mat_df.iloc[row_id,1].split('.')[0])\n",
    "        if n_szrs_in_file>0:\n",
    "            train_szr_files.append(train_files[-1])\n",
    "\n",
    "print('%d training files' % (len(train_files)))\n",
    "print('%d validation files' % (len(valid_files)))\n",
    "print('%d testing files' % (len(test_files)))\n",
    "print('%d total szrs found' % total_szrs)\n",
    "print('There should be %d total szrs' % szr_times_df.shape[0])"
   ]
  },
  {
   "cell_type": "code",
   "execution_count": 49,
   "metadata": {
    "collapsed": false
   },
   "outputs": [
    {
     "name": "stdout",
     "output_type": "stream",
     "text": [
      "['109600102_0001', '109600102_0002', '109600102_0004', '109600102_0007', '109600102_0011', '109600102_0019', '109600102_0036', '109600102_0059', '109600102_0063', '109600102_0065', '109600102_0069', '109600102_0072', '109600102_0074', '109600102_0079', '109600102_0080', '109600102_0081', '109600102_0084', '109600102_0087', '109600102_0090', '109600102_0092', '109600102_0095', '109600102_0100']\n",
      "['109600102_0119', '109600102_0121']\n",
      "['109600102_0123', '109600102_0125', '109600102_0147']\n"
     ]
    }
   ],
   "source": [
    "print(train_szr_files)\n",
    "print(valid_szr_files)\n",
    "print(test_szr_files)"
   ]
  },
  {
   "cell_type": "code",
   "execution_count": 54,
   "metadata": {
    "collapsed": false
   },
   "outputs": [
    {
     "name": "stdout",
     "output_type": "stream",
     "text": [
      "Saving lists of training, testing, & validation files to /Users/davidgroppe/Dropbox/TWH_INFO/EU_METADATA/data_splits_FR_1096.pkl\n"
     ]
    }
   ],
   "source": [
    "out_fname='/Users/davidgroppe/Dropbox/TWH_INFO/EU_METADATA/data_splits_FR_'+sub+'.pkl'\n",
    "split_dict={'train_szr_files': train_szr_files,'test_szr_files': test_szr_files,\n",
    "            'valid_szr_files': valid_szr_files,'train_files': train_files,\n",
    "            'test_files': test_files, 'valid_files': valid_files}\n",
    "print('Saving lists of training, testing, & validation files to %s' % out_fname)\n",
    "pickle.dump(split_dict,open(out_fname,'wb'))"
   ]
  },
  {
   "cell_type": "code",
   "execution_count": null,
   "metadata": {
    "collapsed": true
   },
   "outputs": [],
   "source": []
  }
 ],
 "metadata": {
  "anaconda-cloud": {},
  "kernelspec": {
   "display_name": "Python [default]",
   "language": "python",
   "name": "python3"
  },
  "language_info": {
   "codemirror_mode": {
    "name": "ipython",
    "version": 3
   },
   "file_extension": ".py",
   "mimetype": "text/x-python",
   "name": "python",
   "nbconvert_exporter": "python",
   "pygments_lexer": "ipython3",
   "version": "3.5.3"
  }
 },
 "nbformat": 4,
 "nbformat_minor": 2
}
