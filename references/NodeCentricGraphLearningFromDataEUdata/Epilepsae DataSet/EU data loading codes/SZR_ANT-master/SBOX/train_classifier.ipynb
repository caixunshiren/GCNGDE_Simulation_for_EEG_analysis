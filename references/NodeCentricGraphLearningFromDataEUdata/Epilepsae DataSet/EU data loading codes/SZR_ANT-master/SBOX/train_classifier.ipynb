{
 "cells": [
  {
   "cell_type": "markdown",
   "metadata": {},
   "source": [
    "# Draft of classification module"
   ]
  },
  {
   "cell_type": "code",
   "execution_count": 1,
   "metadata": {
    "collapsed": true
   },
   "outputs": [],
   "source": [
    "import numpy as np\n",
    "import matplotlib.pyplot as plt\n",
    "%matplotlib inline\n",
    "import pandas as pd\n",
    "import scipy.io as sio\n",
    "import os\n",
    "import ieeg_funcs as ief\n",
    "import dgFuncs as dg\n",
    "from sklearn import svm\n",
    "from sklearn.externals import joblib"
   ]
  },
  {
   "cell_type": "code",
   "execution_count": 43,
   "metadata": {},
   "outputs": [
    {
     "data": {
      "text/plain": [
       "<module 'dgFuncs' from '/Users/davidgroppe/PycharmProjects/DG_LIBRARY/dgFuncs.py'>"
      ]
     },
     "execution_count": 43,
     "metadata": {},
     "output_type": "execute_result"
    }
   ],
   "source": [
    "# Block for re-loading my libraries if I make updates\n",
    "import imp \n",
    "imp.reload(ief) \n",
    "imp.reload(dg) "
   ]
  },
  {
   "cell_type": "code",
   "execution_count": 2,
   "metadata": {},
   "outputs": [
    {
     "name": "stdout",
     "output_type": "stream",
     "text": [
      "Training subs: ['CC', 'CJ', 'CO', 'CT', 'IB', 'JW', 'RB', 'TF']\n"
     ]
    }
   ],
   "source": [
    "# Import list of subjects to use\n",
    "path_dict=ief.get_path_dict()\n",
    "use_subs_df=pd.read_csv(os.path.join(path_dict['szr_ant_root'],'use_subs.txt'),header=None,na_filter=False)\n",
    "test_sub_list=['NA']\n",
    "train_subs_list=[]\n",
    "for sub in use_subs_df.iloc[:,0]:\n",
    "    if not sub in test_sub_list:\n",
    "        train_subs_list.append(sub)\n",
    "        \n",
    "print('Training subs: {}'.format(train_subs_list))"
   ]
  },
  {
   "cell_type": "code",
   "execution_count": 3,
   "metadata": {},
   "outputs": [
    {
     "name": "stdout",
     "output_type": "stream",
     "text": [
      "n_ftrs=6\n",
      "n_wind=95615\n"
     ]
    }
   ],
   "source": [
    "# Figure out how much data there is to preallocate mem\n",
    "n_ftrs=0\n",
    "n_wind=0\n",
    "for sub in train_subs_list:\n",
    "    ftr_path=os.path.join(path_dict['ftrs_root'],'PWR',sub)\n",
    "    for f in os.listdir(ftr_path):\n",
    "        ftr_dict=np.load(os.path.join(ftr_path,f))\n",
    "        if n_ftrs==0:\n",
    "            n_ftrs=ftr_dict['db_pwr'].shape[0]\n",
    "        n_wind+=np.sum(ftr_dict['peri_ictal']>=0)\n",
    "print('n_ftrs=%d' % n_ftrs)\n",
    "print('n_wind=%d' % n_wind)"
   ]
  },
  {
   "cell_type": "code",
   "execution_count": 4,
   "metadata": {},
   "outputs": [
    {
     "data": {
      "text/plain": [
       "['time_wind_sec', 'db_pwr', 'peri_ictal']"
      ]
     },
     "execution_count": 4,
     "metadata": {},
     "output_type": "execute_result"
    }
   ],
   "source": [
    "ftr_dict.keys()"
   ]
  },
  {
   "cell_type": "code",
   "execution_count": 5,
   "metadata": {},
   "outputs": [],
   "source": [
    "# Load all data into a giant matrix\n",
    "ftrs=np.zeros((n_wind,n_ftrs))\n",
    "szr_class=np.zeros(n_wind)\n",
    "sub_id=np.zeros(n_wind)\n",
    "wind_ct=0\n",
    "sub_ct=0\n",
    "for sub in train_subs_list:\n",
    "    ftr_path=os.path.join(path_dict['ftrs_root'],'PWR',sub)\n",
    "    for f in os.listdir(ftr_path):\n",
    "        ftr_dict=np.load(os.path.join(ftr_path,f))\n",
    "        neo_wind=np.sum(ftr_dict['peri_ictal']>=0)\n",
    "        ftrs[wind_ct:wind_ct+neo_wind,:]=ftr_dict['db_pwr'][:,:neo_wind].T\n",
    "        szr_class[wind_ct:wind_ct+neo_wind]=ftr_dict['peri_ictal'][:neo_wind]\n",
    "        sub_id[wind_ct:wind_ct+neo_wind]=np.ones(neo_wind)*sub_ct\n",
    "        wind_ct+=neo_wind\n",
    "    sub_ct+=1"
   ]
  },
  {
   "cell_type": "code",
   "execution_count": 6,
   "metadata": {},
   "outputs": [
    {
     "name": "stdout",
     "output_type": "stream",
     "text": [
      "(95615,)\n",
      "(95615, 6)\n"
     ]
    }
   ],
   "source": [
    "print(szr_class.shape)\n",
    "print(ftrs.shape)"
   ]
  },
  {
   "cell_type": "code",
   "execution_count": 7,
   "metadata": {},
   "outputs": [
    {
     "data": {
      "text/plain": [
       "(90170,)"
      ]
     },
     "execution_count": 7,
     "metadata": {},
     "output_type": "execute_result"
    }
   ],
   "source": [
    "bro=szr_class[sub_id!=0]\n",
    "bro.shape"
   ]
  },
  {
   "cell_type": "code",
   "execution_count": null,
   "metadata": {
    "collapsed": true
   },
   "outputs": [],
   "source": [
    "# need to scale data\n",
    "#class_weight='balanced' and/o\n",
    "\n",
    "#gamma defines how much influence a single training example has. The larger gamma is, the closer other examples must be to be affected.\n",
    "# Proper choice of C and gamma is critical to the SVM’s performance. One is advised to \n",
    "# use sklearn.model_selection.GridSearchCV with C and gamma spaced exponentially far apart \n",
    "# to choose good values."
   ]
  },
  {
   "cell_type": "code",
   "execution_count": 8,
   "metadata": {},
   "outputs": [
    {
     "data": {
      "text/plain": [
       "SVC(C=1.0, cache_size=200, class_weight='balanced', coef0=0.0,\n",
       "  decision_function_shape=None, degree=3, gamma='auto', kernel='rbf',\n",
       "  max_iter=-1, probability=False, random_state=None, shrinking=True,\n",
       "  tol=0.001, verbose=False)"
      ]
     },
     "execution_count": 8,
     "metadata": {},
     "output_type": "execute_result"
    }
   ],
   "source": [
    "# LOOCV on training data\n",
    "left_out_id=0\n",
    "C = 1.0  # SVM regularization parameter, the smaller it is, the stronger the regularization\n",
    "#rbf_svc = svm.SVC(kernel='rbf', gamma=0.7, C=C).fit(ftrs.T, szr_class)\n",
    "rbf_svc = svm.SVC(class_weight='balanced')\n",
    "# rbf_svc.fit? # could add sample weight to weight each subject equally\n",
    "rbf_svc.fit(ftrs[sub_id!=left_out_id,:], szr_class[sub_id!=left_out_id])\n",
    "#clf = svm.SVC()\n",
    "# >>> clf.fit(X, y)  \n"
   ]
  },
  {
   "cell_type": "code",
   "execution_count": 52,
   "metadata": {
    "collapsed": true
   },
   "outputs": [],
   "source": [
    "train_bool=sub_id!=left_out_id\n",
    "valid_bool=sub_id==left_out_id"
   ]
  },
  {
   "cell_type": "code",
   "execution_count": 63,
   "metadata": {
    "collapsed": true
   },
   "outputs": [],
   "source": [
    "#training_class_hat=rbf_svc.predict(ftrs)\n",
    "# training_class_hat=rbf_svc.predict(ftrs[sub_id!=left_out_id,:])\n",
    "training_class_hat=rbf_svc.predict(ftrs)"
   ]
  },
  {
   "cell_type": "code",
   "execution_count": 14,
   "metadata": {},
   "outputs": [
    {
     "data": {
      "text/plain": [
       "(95615, 6)"
      ]
     },
     "execution_count": 14,
     "metadata": {},
     "output_type": "execute_result"
    }
   ],
   "source": [
    "ftrs.shape"
   ]
  },
  {
   "cell_type": "code",
   "execution_count": 64,
   "metadata": {
    "collapsed": true
   },
   "outputs": [],
   "source": [
    "train_bool=sub_id!=left_out_id\n",
    "valid_bool=sub_id==left_out_id\n",
    "ictal_bool=szr_class==1\n",
    "preictal_bool=szr_class==0\n",
    "jive=training_class_hat==szr_class"
   ]
  },
  {
   "cell_type": "code",
   "execution_count": 68,
   "metadata": {},
   "outputs": [
    {
     "name": "stdout",
     "output_type": "stream",
     "text": [
      "Training accuracy: 0.975491\n",
      "Training sensitivity: 0.974138\n",
      "Training specificity: 0.975614\n"
     ]
    }
   ],
   "source": [
    "# Training Data Results\n",
    "train_acc=np.mean(jive[train_bool])\n",
    "print('Training accuracy: %f' % train_acc)\n",
    "use_ids=np.multiply(train_bool,ictal_bool)\n",
    "train_sens=np.mean(jive[use_ids])\n",
    "print('Training sensitivity: %f' % train_sens)\n",
    "use_ids=np.multiply(train_bool,preictal_bool)\n",
    "train_spec=np.mean(jive[use_ids])\n",
    "print('Training specificity: %f' % train_spec)"
   ]
  },
  {
   "cell_type": "code",
   "execution_count": 69,
   "metadata": {},
   "outputs": [
    {
     "name": "stdout",
     "output_type": "stream",
     "text": [
      "Validation accuracy: 0.882645\n",
      "Validation sensitivity: 0.017949\n",
      "Validation specificity: 0.949357\n"
     ]
    }
   ],
   "source": [
    "# Validation Data Results\n",
    "valid_acc=np.mean(jive[valid_bool])\n",
    "print('Validation accuracy: %f' % valid_acc)\n",
    "use_ids=np.multiply(valid_bool,ictal_bool)\n",
    "valid_sens=np.mean(jive[use_ids])\n",
    "print('Validation sensitivity: %f' % valid_sens)\n",
    "use_ids=np.multiply(valid_bool,preictal_bool)\n",
    "valid_spec=np.mean(jive[use_ids])\n",
    "print('Validation specificity: %f' % valid_spec)"
   ]
  },
  {
   "cell_type": "code",
   "execution_count": 57,
   "metadata": {},
   "outputs": [
    {
     "name": "stdout",
     "output_type": "stream",
     "text": [
      "Training accuracy: 0.975491\n"
     ]
    }
   ],
   "source": [
    "train_acc=np.mean(training_class_hat==szr_class[train_bool])\n",
    "perionset_bool=szr_class==1\n",
    "use_ids=np.multiply(perionset_bool,train_bool)\n",
    "train_sens=np.mean(training_class_hat[np.multiply(perionset_bool,train_bool)]==szr_class[train_bool])\n",
    "print('Training accuracy: %f' % train_acc) #0.975892903833 acc all training"
   ]
  },
  {
   "cell_type": "code",
   "execution_count": 59,
   "metadata": {},
   "outputs": [
    {
     "name": "stdout",
     "output_type": "stream",
     "text": [
      "CC_d6_sz1\n"
     ]
    }
   ],
   "source": [
    "temp_fname='CC_d6_sz1_bppwr.npz'\n",
    "stem=temp_fname.split('_bppwr.npz')[0]\n",
    "print(stem)"
   ]
  },
  {
   "cell_type": "code",
   "execution_count": 10,
   "metadata": {},
   "outputs": [
    {
     "name": "stdout",
     "output_type": "stream",
     "text": [
      "Loading file CC_d6_sz1_bppwr.npz\n",
      "Loading file CC_d7_sz1_bppwr.npz\n",
      "Loading file CC_d9_sz1_bppwr.npz\n"
     ]
    }
   ],
   "source": [
    "# Load validation data and calculate false positive rate, and peri-onset latency\n",
    "sub=train_subs_list[left_out_id]\n",
    "ftr_path=os.path.join(path_dict['ftrs_root'],'PWR',sub)\n",
    "for f in os.listdir(ftr_path):\n",
    "    print('Loading file %s' % f)\n",
    "    ftr_dict=np.load(os.path.join(ftr_path,f))"
   ]
  },
  {
   "cell_type": "code",
   "execution_count": 60,
   "metadata": {
    "collapsed": true
   },
   "outputs": [],
   "source": [
    "temp_dict=np.load('/Users/davidgroppe/PycharmProjects/SZR_ANT/FTRS/VLTG/NA/NA_d1_sz2_vltg.npz')"
   ]
  },
  {
   "cell_type": "code",
   "execution_count": 61,
   "metadata": {},
   "outputs": [
    {
     "data": {
      "text/plain": [
       "['peri_ictal', 'vltg_ftrs', 'time_wind_sec', 'ftr_list']"
      ]
     },
     "execution_count": 61,
     "metadata": {},
     "output_type": "execute_result"
    }
   ],
   "source": [
    "temp_dict.keys()"
   ]
  },
  {
   "cell_type": "code",
   "execution_count": 62,
   "metadata": {},
   "outputs": [
    {
     "data": {
      "text/plain": [
       "(5, 1860)"
      ]
     },
     "execution_count": 62,
     "metadata": {},
     "output_type": "execute_result"
    }
   ],
   "source": [
    "temp_dict['vltg_ftrs'].shape"
   ]
  },
  {
   "cell_type": "code",
   "execution_count": 11,
   "metadata": {},
   "outputs": [
    {
     "data": {
      "text/plain": [
       "['time_wind_sec', 'db_pwr', 'peri_ictal']"
      ]
     },
     "execution_count": 11,
     "metadata": {},
     "output_type": "execute_result"
    }
   ],
   "source": [
    "ftr_dict.keys()"
   ]
  },
  {
   "cell_type": "code",
   "execution_count": 13,
   "metadata": {},
   "outputs": [
    {
     "data": {
      "text/plain": [
       "(6, 2170)"
      ]
     },
     "execution_count": 13,
     "metadata": {},
     "output_type": "execute_result"
    }
   ],
   "source": [
    "ftr_dict['db_pwr'].shape"
   ]
  },
  {
   "cell_type": "code",
   "execution_count": 15,
   "metadata": {
    "collapsed": true
   },
   "outputs": [],
   "source": [
    "szr_class_hat=rbf_svc.predict(ftr_dict['db_pwr'].T)"
   ]
  },
  {
   "cell_type": "code",
   "execution_count": null,
   "metadata": {
    "collapsed": true
   },
   "outputs": [],
   "source": [
    "# Earliest hit\n",
    "szr_class_hat"
   ]
  },
  {
   "cell_type": "code",
   "execution_count": 36,
   "metadata": {},
   "outputs": [],
   "source": [
    "blah= np.where(szr_class_hat==2)"
   ]
  },
  {
   "cell_type": "code",
   "execution_count": 38,
   "metadata": {},
   "outputs": [
    {
     "data": {
      "text/plain": [
       "0"
      ]
     },
     "execution_count": 38,
     "metadata": {},
     "output_type": "execute_result"
    }
   ],
   "source": [
    "len(blah[0])"
   ]
  },
  {
   "cell_type": "code",
   "execution_count": 63,
   "metadata": {
    "collapsed": true
   },
   "outputs": [],
   "source": [
    "txt_fname='/Users/davidgroppe/Downloads/EpilepsyCenters.html'\n",
    "stuff = open(txt_fname).read()"
   ]
  },
  {
   "cell_type": "code",
   "execution_count": 69,
   "metadata": {},
   "outputs": [
    {
     "name": "stdout",
     "output_type": "stream",
     "text": [
      "389\n"
     ]
    }
   ],
   "source": [
    "import re\n",
    "dir_ids=[m.start() for m in re.finditer('Med Dir:', stuff)]\n",
    "print(len(dir_ids))"
   ]
  },
  {
   "cell_type": "code",
   "execution_count": 41,
   "metadata": {},
   "outputs": [
    {
     "name": "stdout",
     "output_type": "stream",
     "text": [
      "-179.7\n"
     ]
    }
   ],
   "source": [
    "# itemindex = numpy.where(array==item)\n",
    "pos_ids = np.where(szr_class_hat==1)\n",
    "ictal_ids = np.where(ftr_dict['peri_ictal']==1)\n",
    "missed_szr_ct=0\n",
    "if len(pos_ids[0])>0:\n",
    "    onset_dif_sec=(pos_ids[0][0]-ictal_ids[0][0])/10\n",
    "else:\n",
    "    missed_szr_ct+=1\n",
    "print(onset_dif_sec)"
   ]
  },
  {
   "cell_type": "code",
   "execution_count": 70,
   "metadata": {},
   "outputs": [
    {
     "name": "stdout",
     "output_type": "stream",
     "text": [
      "-179.7\n"
     ]
    }
   ],
   "source": [
    "import imp \n",
    "imp.reload(ief) \n",
    "# imp.reload(dg) \n",
    "onset_dif_sec=ief.cmpt_stim_latency(szr_class_hat,ftr_dict['peri_ictal'],1/10)\n",
    "print(onset_dif_sec)"
   ]
  },
  {
   "cell_type": "code",
   "execution_count": 75,
   "metadata": {},
   "outputs": [
    {
     "name": "stdout",
     "output_type": "stream",
     "text": [
      "2.0\n"
     ]
    }
   ],
   "source": [
    "import imp \n",
    "imp.reload(ief) \n",
    "# imp.reload(dg) \n",
    "onset_dif_sec=ief.cmpt_postonset_stim_latency(szr_class_hat,ftr_dict['peri_ictal'],1/10)\n",
    "print(onset_dif_sec)"
   ]
  },
  {
   "cell_type": "code",
   "execution_count": 76,
   "metadata": {},
   "outputs": [
    {
     "data": {
      "image/png": "[encoded data removed]",
      "text/plain": [
       "<matplotlib.figure.Figure at 0x121465a90>"
      ]
     },
     "metadata": {},
     "output_type": "display_data"
    }
   ],
   "source": [
    "_=plt.plot(szr_class_hat,label='class hat')\n",
    "_=plt.plot(ftr_dict['peri_ictal'],label='class')"
   ]
  },
  {
   "cell_type": "code",
   "execution_count": 54,
   "metadata": {},
   "outputs": [
    {
     "name": "stdout",
     "output_type": "stream",
     "text": [
      "[1 1 1 1 1 1 1 1 1 1 1 1 2 1 2 1 2 1 1 1 3 1 1 1 1 1 1 1 1 1 1 1 1 2 1 1 1\n",
      " 2 1 1 1 1 2 1 2]\n",
      "[0 0 0 0 0 0 0 0 0 0 0 0 0 0 0 0 0 0 0 0 0 0 0 0 0 0 0 0 0 0 0 0 0 0 0 0 0\n",
      " 0 0 0 0 0 0 0 1]\n"
     ]
    }
   ],
   "source": [
    "# Find clusters of contiguous ictal predictions\n",
    "clust_mass_list=list()\n",
    "clust_class_list=list()\n",
    "\n",
    "in_clust=0\n",
    "clust_class=0\n",
    "for ct, a in enumerate(szr_class_hat):\n",
    "    if a==1 and in_clust>0:\n",
    "        # increment cluster size\n",
    "        in_clust+=1\n",
    "    elif a==1 and in_clust==0:\n",
    "        # increment cluster size\n",
    "        in_clust+=1\n",
    "        clust_class=ftr_dict['peri_ictal'][ct]\n",
    "    elif a==0 and in_clust>0:\n",
    "        # end of cluster\n",
    "        clust_mass_list.append(in_clust)\n",
    "        clust_class_list.append(clust_class)\n",
    "        in_clust=0\n",
    "        \n",
    "if a==1 and in_clust>0:\n",
    "    # end of time series forces end of cluster\n",
    "    clust_mass_list.append(in_clust)\n",
    "    clust_class_list.append(clust_class)\n",
    "\n",
    "clust_mass=np.asarray(clust_mass_list)\n",
    "clust_class=np.asarray(clust_class_list)\n",
    "print(clust_mass)\n",
    "print(clust_class)\n",
    "# pre_clusters=np.asarray(preictal_clust_list)\n",
    "# ictal_clusters=np.asarray(ictal_clust_list)\n",
    "# # print(preictal_clust)\n",
    "# print(pre_clusters)\n",
    "# print(ictal_clusters)\n",
    "    "
   ]
  },
  {
   "cell_type": "code",
   "execution_count": 55,
   "metadata": {},
   "outputs": [
    {
     "name": "stdout",
     "output_type": "stream",
     "text": [
      "0.909090909091\n"
     ]
    }
   ],
   "source": [
    "from sklearn import metrics\n",
    "#fpr, tpr, thresholds = metrics.roc_curve(y, pred, pos_label=1)\n",
    "fpr, tpr, thresholds = metrics.roc_curve(clust_class, clust_mass, pos_label=1)\n",
    "auc=metrics.auc(fpr, tpr)\n",
    "print(auc)"
   ]
  },
  {
   "cell_type": "code",
   "execution_count": 58,
   "metadata": {},
   "outputs": [
    {
     "data": {
      "image/png": "[encoded data removed]",
      "text/plain": [
       "<matplotlib.figure.Figure at 0x121442438>"
      ]
     },
     "metadata": {},
     "output_type": "display_data"
    }
   ],
   "source": [
    "_=plt.plot(thresholds,fpr,'-o',label='FPR')\n",
    "_=plt.plot(thresholds,tpr,'-o',label='TPR')\n",
    "_=plt.legend()"
   ]
  },
  {
   "cell_type": "code",
   "execution_count": 45,
   "metadata": {},
   "outputs": [
    {
     "ename": "ImportError",
     "evalue": "No module named 'keras'",
     "output_type": "error",
     "traceback": [
      "\u001b[0;31m---------------------------------------------------------------------------\u001b[0m",
      "\u001b[0;31mImportError\u001b[0m                               Traceback (most recent call last)",
      "\u001b[0;32m<ipython-input-45-fa69eacdcb02>\u001b[0m in \u001b[0;36m<module>\u001b[0;34m()\u001b[0m\n\u001b[1;32m      1\u001b[0m \u001b[0;32mimport\u001b[0m \u001b[0mtensorflow\u001b[0m \u001b[0;32mas\u001b[0m \u001b[0mtf\u001b[0m\u001b[0;34m\u001b[0m\u001b[0m\n\u001b[0;32m----> 2\u001b[0;31m \u001b[0;32mimport\u001b[0m \u001b[0mkeras\u001b[0m\u001b[0;34m\u001b[0m\u001b[0m\n\u001b[0m",
      "\u001b[0;31mImportError\u001b[0m: No module named 'keras'"
     ]
    }
   ],
   "source": [
    "import tensorflow as tf\n",
    "import keras"
   ]
  },
  {
   "cell_type": "code",
   "execution_count": 20,
   "metadata": {},
   "outputs": [
    {
     "data": {
      "text/plain": [
       "(array([  58,   77,  160,  298,  323,  342,  414,  434,  441,  562,  567,\n",
       "         572,  575,  576,  609,  621,  622,  629,  677,  678,  755,  767,\n",
       "         815,  846,  847,  848,  879,  894,  913,  989, 1000, 1005, 1064,\n",
       "        1076, 1105, 1169, 1174, 1176, 1243, 1244, 1416, 1422, 1437, 1474,\n",
       "        1475, 1595, 1644, 1704, 1743, 1745, 1746, 1779, 1875, 1876]),)"
      ]
     },
     "execution_count": 20,
     "metadata": {},
     "output_type": "execute_result"
    }
   ],
   "source": [
    "itemindex[:4]"
   ]
  },
  {
   "cell_type": "code",
   "execution_count": 21,
   "metadata": {},
   "outputs": [
    {
     "data": {
      "image/png": "[encoded data removed]",
      "text/plain": [
       "<matplotlib.figure.Figure at 0x11d7cb9e8>"
      ]
     },
     "metadata": {},
     "output_type": "display_data"
    }
   ],
   "source": [
    "_=plt.plot(szr_class_hat)\n",
    "_=plt.plot(ftr_dict['peri_ictal'],'-o')\n",
    "_=plt.plot(itemindex,np.zeros(len(itemindex)),'ro')"
   ]
  },
  {
   "cell_type": "code",
   "execution_count": null,
   "metadata": {
    "collapsed": true
   },
   "outputs": [],
   "source": [
    "ftrs=np.zeros((n_wind,n_ftrs))\n",
    "szr_class=np.zeros(n_wind)\n",
    "sub_id=np.zeros(n_wind)\n",
    "wind_ct=0\n",
    "sub_ct=0\n",
    "for sub in train_subs_list:\n",
    "    ftr_path=os.path.join(path_dict['ftrs_root'],'PWR',sub)\n",
    "    for f in os.listdir(ftr_path):\n",
    "        ftr_dict=np.load(os.path.join(ftr_path,f))\n",
    "        neo_wind=np.sum(ftr_dict['peri_ictal']>=0)\n",
    "        ftrs[wind_ct:wind_ct+neo_wind,:]=ftr_dict['db_pwr'][:,:neo_wind].T\n",
    "        szr_class[wind_ct:wind_ct+neo_wind]=ftr_dict['peri_ictal'][:neo_wind]\n",
    "        sub_id[wind_ct:wind_ct+neo_wind]=np.ones(neo_wind)*sub_ct\n",
    "        wind_ct+=neo_wind\n",
    "    sub_ct+=1"
   ]
  },
  {
   "cell_type": "code",
   "execution_count": null,
   "metadata": {
    "collapsed": true
   },
   "outputs": [],
   "source": [
    "# clf = svm.SVC()\n",
    "# >>> clf.fit(X, y)  \n",
    "# SVC(C=1.0, cache_size=200, class_weight=None, coef0=0.0,\n",
    "#     decision_function_shape=None, degree=3, gamma='auto', kernel='rbf',\n",
    "#     max_iter=-1, probability=False, random_state=None, shrinking=True,\n",
    "#     tol=0.001, verbose=False)\n",
    "# >>> clf.predict([[2., 2.]])\n",
    "# array([1])"
   ]
  },
  {
   "cell_type": "code",
   "execution_count": 72,
   "metadata": {
    "collapsed": true
   },
   "outputs": [],
   "source": [
    "np.savez('classification_metrics.npz',\n",
    "         valid_sens=valid_sens,\n",
    "         valid_spec=valid_spec,\n",
    "         train_sens=train_sens,\n",
    "         train_spec=train_spec,\n",
    "         train_subs_list=train_subs_list,\n",
    "         left_out_id=left_out_id)"
   ]
  },
  {
   "cell_type": "code",
   "execution_count": null,
   "metadata": {
    "collapsed": true
   },
   "outputs": [],
   "source": []
  }
 ],
 "metadata": {
  "anaconda-cloud": {},
  "kernelspec": {
   "display_name": "Python [default]",
   "language": "python",
   "name": "python3"
  },
  "language_info": {
   "codemirror_mode": {
    "name": "ipython",
    "version": 3
   },
   "file_extension": ".py",
   "mimetype": "text/x-python",
   "name": "python",
   "nbconvert_exporter": "python",
   "pygments_lexer": "ipython3",
   "version": "3.5.3"
  }
 },
 "nbformat": 4,
 "nbformat_minor": 1
}
