{
 "cells": [
  {
   "cell_type": "code",
   "execution_count": 1,
   "metadata": {
    "collapsed": true
   },
   "outputs": [],
   "source": [
    "import numpy as np\n",
    "import matplotlib.pyplot as plt\n",
    "%matplotlib inline\n",
    "import pandas as pd\n",
    "import scipy.io as sio\n",
    "import os\n",
    "import ieeg_funcs as ief\n",
    "import dgFuncs as dg\n",
    "from sklearn import svm\n",
    "from sklearn.externals import joblib"
   ]
  },
  {
   "cell_type": "code",
   "execution_count": 6,
   "metadata": {
    "collapsed": false
   },
   "outputs": [
    {
     "name": "stdout",
     "output_type": "stream",
     "text": [
      "Total Szrs 68\n"
     ]
    }
   ],
   "source": [
    "n_test_szr=[3,3,16,5,7]\n",
    "print('Total Szrs %d' % np.sum(n_test_szr*2))"
   ]
  },
  {
   "cell_type": "code",
   "execution_count": 3,
   "metadata": {
    "collapsed": true
   },
   "outputs": [],
   "source": [
    "bands=np.arange(5,35,5)"
   ]
  },
  {
   "cell_type": "code",
   "execution_count": 5,
   "metadata": {
    "collapsed": false
   },
   "outputs": [
    {
     "name": "stdout",
     "output_type": "stream",
     "text": [
      "[ 5 10 15 20 25 30]\n",
      "6\n"
     ]
    }
   ],
   "source": [
    "print(bands)\n",
    "print(len(bands))"
   ]
  },
  {
   "cell_type": "code",
   "execution_count": 20,
   "metadata": {
    "collapsed": false
   },
   "outputs": [
    {
     "name": "stdout",
     "output_type": "stream",
     "text": [
      "[ 0.66666667  1.          0.8125      1.          1.        ]\n",
      "Mean [SD] sensitivity: 0.895833 [0.135657]\n",
      "Mean, low-hi sens: 0.895833 0.727393-1.064274\n"
     ]
    }
   ],
   "source": [
    "ictal_err=np.array([1/3, 0, 3/16, 0/5, 0/7])\n",
    "sens=1-ictal_err\n",
    "print(sens)\n",
    "print('Mean [SD] sensitivity: %f [%f]' % (np.mean(sens),np.std(sens)))\n",
    "mn, lo, hi=dg.mean_and_cis(sens)\n",
    "print('Mean, low-hi sens: %f %f-%f' % (mn,lo,hi))"
   ]
  },
  {
   "cell_type": "code",
   "execution_count": 21,
   "metadata": {
    "collapsed": false
   },
   "outputs": [
    {
     "name": "stdout",
     "output_type": "stream",
     "text": [
      "[ 1.     1.     0.625  0.875  1.   ]\n",
      "Mean [SD] specificity: 0.900000 [0.145774]\n",
      "Mean, low-hi spec: 0.900000 0.718998-1.081002\n"
     ]
    }
   ],
   "source": [
    "interictal_err=np.array([0/3, 0, 6/16, 1/8, 0/7])\n",
    "spec=1-interictal_err\n",
    "print(spec)\n",
    "print('Mean [SD] specificity: %f [%f]' % (np.mean(spec),np.std(spec)))\n",
    "mn, lo, hi=dg.mean_and_cis(spec)\n",
    "print('Mean, low-hi spec: %f %f-%f' % (mn,lo,hi))"
   ]
  },
  {
   "cell_type": "code",
   "execution_count": null,
   "metadata": {
    "collapsed": true
   },
   "outputs": [],
   "source": [
    "delta, theta, alpha, beta, gamma, high gamma"
   ]
  },
  {
   "cell_type": "code",
   "execution_count": 14,
   "metadata": {
    "collapsed": false
   },
   "outputs": [
    {
     "data": {
      "text/plain": [
       "['ftrs', 'ftr_list', 'time_wind_sec', 'peri_ictal']"
      ]
     },
     "execution_count": 14,
     "metadata": {},
     "output_type": "execute_result"
    }
   ],
   "source": [
    "bro=np.load('/Users/davidgroppe/PycharmProjects/SZR_ANT/FTRS/VLTG/NA/NA_d2_sz1_vltg.npz')\n",
    "bro.keys()"
   ]
  },
  {
   "cell_type": "code",
   "execution_count": 15,
   "metadata": {
    "collapsed": false
   },
   "outputs": [
    {
     "data": {
      "text/plain": [
       "array(['rms', 'std', 'kurtosis', 'skew', 'line_len'], \n",
       "      dtype='<U8')"
      ]
     },
     "execution_count": 15,
     "metadata": {},
     "output_type": "execute_result"
    }
   ],
   "source": [
    "bro['ftr_list']"
   ]
  },
  {
   "cell_type": "code",
   "execution_count": 16,
   "metadata": {
    "collapsed": true
   },
   "outputs": [],
   "source": [
    "NA, CC, CJ, CO, CT, IB, JW, RB, TF"
   ]
  },
  {
   "cell_type": "code",
   "execution_count": 19,
   "metadata": {
    "collapsed": false
   },
   "outputs": [
    {
     "name": "stdout",
     "output_type": "stream",
     "text": [
      "3.31166666667\n",
      "2.06545110402\n",
      "4.55788222931\n"
     ]
    }
   ],
   "source": [
    "stim_delay=[3.74, 2.13, 4.86, 3.47, 1.42, 4.25]\n",
    "mn, lo, hi=dg.mean_and_cis(stim_delay)\n",
    "print(mn)\n",
    "print(lo)\n",
    "print(hi)"
   ]
  },
  {
   "cell_type": "code",
   "execution_count": null,
   "metadata": {
    "collapsed": true
   },
   "outputs": [],
   "source": []
  }
 ],
 "metadata": {
  "anaconda-cloud": {},
  "kernelspec": {
   "display_name": "Python [default]",
   "language": "python",
   "name": "python3"
  },
  "language_info": {
   "codemirror_mode": {
    "name": "ipython",
    "version": 3
   },
   "file_extension": ".py",
   "mimetype": "text/x-python",
   "name": "python",
   "nbconvert_exporter": "python",
   "pygments_lexer": "ipython3",
   "version": "3.5.2"
  }
 },
 "nbformat": 4,
 "nbformat_minor": 1
}
