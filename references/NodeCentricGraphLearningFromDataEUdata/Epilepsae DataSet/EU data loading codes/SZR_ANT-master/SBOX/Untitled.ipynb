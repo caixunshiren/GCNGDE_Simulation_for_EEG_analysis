{
 "cells": [
  {
   "cell_type": "code",
   "execution_count": 1,
   "metadata": {
    "collapsed": true
   },
   "outputs": [],
   "source": [
    "import numpy as np"
   ]
  },
  {
   "cell_type": "code",
   "execution_count": 3,
   "metadata": {
    "collapsed": false
   },
   "outputs": [],
   "source": [
    "bro=np.load('/home/dgroppe/GIT/SZR_ANT/MODELS/smart_srch_pwr_hilb3/classify_metrics_srch.npz')"
   ]
  },
  {
   "cell_type": "code",
   "execution_count": 4,
   "metadata": {
    "collapsed": false
   },
   "outputs": [
    {
     "data": {
      "text/plain": [
       "['valid_sens',\n",
       " 'valid_spec',\n",
       " 'valid_bal_acc',\n",
       " 'train_sens',\n",
       " 'train_spec',\n",
       " 'train_bal_acc',\n",
       " 'train_subs_list',\n",
       " 'mn_stim_latency',\n",
       " 'pptn_missed_szrs',\n",
       " 'pptn_preonset_stim',\n",
       " 'n_train_steps',\n",
       " 'rand_ct',\n",
       " 'C_vals',\n",
       " 'gamma_vals',\n",
       " 'best_valid_bal_acc',\n",
       " 'best_C',\n",
       " 'best_gam',\n",
       " 'best_models',\n",
       " 'ftr_types',\n",
       " 'left_out_id']"
      ]
     },
     "execution_count": 4,
     "metadata": {},
     "output_type": "execute_result"
    }
   ],
   "source": [
    "bro.keys()"
   ]
  },
  {
   "cell_type": "code",
   "execution_count": 5,
   "metadata": {
    "collapsed": false
   },
   "outputs": [
    {
     "data": {
      "text/plain": [
       "array(['MAG', 'MAG_LAG2', 'MAG_LAG4', 'MAG_LAG6', 'MAG_LAG8'], \n",
       "      dtype='<U8')"
      ]
     },
     "execution_count": 5,
     "metadata": {},
     "output_type": "execute_result"
    }
   ],
   "source": [
    "bro['ftr_types']"
   ]
  },
  {
   "cell_type": "code",
   "execution_count": 6,
   "metadata": {
    "collapsed": false
   },
   "outputs": [
    {
     "data": {
      "text/plain": [
       "array(['SV', 'BH', 'IM', 'LM', 'CV', 'CC', 'CJ', 'CO', 'CT', 'IB', 'JW',\n",
       "       'RB', 'TF'], \n",
       "      dtype='<U2')"
      ]
     },
     "execution_count": 6,
     "metadata": {},
     "output_type": "execute_result"
    }
   ],
   "source": [
    "bro['train_subs_list']"
   ]
  },
  {
   "cell_type": "code",
   "execution_count": 7,
   "metadata": {
    "collapsed": false
   },
   "outputs": [
    {
     "data": {
      "text/plain": [
       "array([[ 0.5       ,  0.67760592,  0.70634818],\n",
       "       [ 0.5       ,  0.66091771,  0.70435506],\n",
       "       [ 0.5       ,  0.97861991,  0.98642534],\n",
       "       [ 0.5       ,  0.61923077,  0.62884615],\n",
       "       [ 0.5       ,  0.84002756,  0.86949632],\n",
       "       [ 0.5       ,  0.88887775,  0.90067427],\n",
       "       [ 0.5       ,  0.67542834,  0.68186245],\n",
       "       [ 0.5       ,  0.81489138,  0.89601392],\n",
       "       [ 0.5       ,  0.78642601,  0.78986068],\n",
       "       [ 0.5       ,  0.69581297,  0.72547599],\n",
       "       [ 0.5       ,  0.71895125,  0.75127916],\n",
       "       [ 0.5       ,  0.82111046,  0.83188018],\n",
       "       [ 0.5       ,  0.5455735 ,  0.59007344]])"
      ]
     },
     "execution_count": 7,
     "metadata": {},
     "output_type": "execute_result"
    }
   ],
   "source": [
    "bro['valid_bal_acc']"
   ]
  },
  {
   "cell_type": "code",
   "execution_count": null,
   "metadata": {
    "collapsed": true
   },
   "outputs": [],
   "source": []
  }
 ],
 "metadata": {
  "kernelspec": {
   "display_name": "Python 3",
   "language": "python",
   "name": "python3"
  },
  "language_info": {
   "codemirror_mode": {
    "name": "ipython",
    "version": 3
   },
   "file_extension": ".py",
   "mimetype": "text/x-python",
   "name": "python",
   "nbconvert_exporter": "python",
   "pygments_lexer": "ipython3",
   "version": "3.6.0"
  }
 },
 "nbformat": 4,
 "nbformat_minor": 2
}
