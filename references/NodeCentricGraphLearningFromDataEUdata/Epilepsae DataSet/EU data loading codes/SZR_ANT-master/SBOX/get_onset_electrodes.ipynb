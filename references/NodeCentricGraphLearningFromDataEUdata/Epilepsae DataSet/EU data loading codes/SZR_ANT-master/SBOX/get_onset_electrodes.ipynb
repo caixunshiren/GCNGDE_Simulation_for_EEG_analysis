{
 "cells": [
  {
   "cell_type": "markdown",
   "metadata": {
    "deletable": true,
    "editable": true
   },
   "source": [
    "# Find best subset of electrodes for detecting onset\n",
    "work in progress"
   ]
  },
  {
   "cell_type": "code",
   "execution_count": 35,
   "metadata": {
    "collapsed": true,
    "deletable": true,
    "editable": true
   },
   "outputs": [],
   "source": [
    "import pandas as pd\n",
    "import os\n",
    "import numpy as np"
   ]
  },
  {
   "cell_type": "code",
   "execution_count": 36,
   "metadata": {
    "collapsed": false,
    "deletable": true,
    "editable": true
   },
   "outputs": [
    {
     "name": "stdout",
     "output_type": "stream",
     "text": [
      "4 tables read\n"
     ]
    }
   ],
   "source": [
    "# Import table from html file which lists onset channels and subclinical seizures\n",
    "sub='253'\n",
    "sub='264'\n",
    "sub='1146'\n",
    "sub='1096'\n",
    "#metadata_dir='/Users/davidgroppe/PycharmProjects/SZR_ANT/EU_METADATA'\n",
    "metadata_dir='/Users/davidgroppe/GIT/OCSVM_EDMSE/matlab/EU/metadata'\n",
    "htable=pd.read_html(os.path.join(metadata_dir,'all_szrs_FR_'+sub+'.html'))\n",
    "print('%d tables read' % len(htable))"
   ]
  },
  {
   "cell_type": "code",
   "execution_count": 33,
   "metadata": {
    "collapsed": false,
    "deletable": true,
    "editable": true
   },
   "outputs": [
    {
     "name": "stdout",
     "output_type": "stream",
     "text": [
      "HL2,HL3,HL4\n",
      "HL4\n",
      "HL2,HL2,HL3,HL3,HL4,HL4,HL5,HL6,HL7,HL8,HL9\n",
      "HL4,HL5,HL6\n",
      "HL4\n",
      "HL4,HL5,HL6,HL7,HL8\n",
      "HL2,HL3,HL4,HL5,HL6,HL7,HL8\n",
      "HL3,HL4\n",
      "HL3,HL4\n",
      "\n",
      "9 total clinical szrs\n",
      "8 unique onset chans\n",
      "9: HL4\n",
      "5: HL3\n",
      "4: HL6\n",
      "4: HL5\n",
      "3: HL8\n",
      "3: HL7\n",
      "3: HL2\n",
      "1: HL9\n"
     ]
    }
   ],
   "source": [
    "# EXTRACT ONSET ELECTRODES\n",
    "\n",
    "# Second table is CLINICAL SEIZURES with slightly different info\n",
    "# Extract origin electrodes from it\n",
    "htable[1].head()\n",
    "onset_chans=list()\n",
    "szr_ct=0\n",
    "for org in htable[1]['origin']:\n",
    "    print(org)\n",
    "    szr_ct+=1\n",
    "    temp_uni=np.unique(org.split(','))\n",
    "    for chan in temp_uni:\n",
    "        onset_chans.append(chan)\n",
    "\n",
    "uniq_onset_chans, uniq_cts=np.unique(onset_chans, return_counts=True)\n",
    "print()\n",
    "print('%d total clinical szrs' % szr_ct)\n",
    "print('%d unique onset chans' % len(uniq_onset_chans))\n",
    "sort_ids=np.argsort(uniq_cts)\n",
    "sort_ids=np.flip(sort_ids,axis=0)\n",
    "uniq_onset_chans=uniq_onset_chans[sort_ids]\n",
    "uniq_cts=uniq_cts[sort_ids]\n",
    "for chan_ct, chan in enumerate(uniq_onset_chans):\n",
    "    print('%d: %s' % (uniq_cts[chan_ct], chan))"
   ]
  },
  {
   "cell_type": "code",
   "execution_count": 34,
   "metadata": {
    "collapsed": false
   },
   "outputs": [
    {
     "data": {
      "text/html": [
       "<div>\n",
       "<table border=\"1\" class=\"dataframe\">\n",
       "  <thead>\n",
       "    <tr style=\"text-align: right;\">\n",
       "      <th></th>\n",
       "      <th>#</th>\n",
       "      <th>classif.</th>\n",
       "      <th>onset</th>\n",
       "      <th>offset</th>\n",
       "      <th>p.</th>\n",
       "      <th>vig.</th>\n",
       "      <th>origin</th>\n",
       "      <th>semiology</th>\n",
       "    </tr>\n",
       "  </thead>\n",
       "  <tbody>\n",
       "    <tr>\n",
       "      <th>0</th>\n",
       "      <td>1:</td>\n",
       "      <td>CP</td>\n",
       "      <td>eeg: 21.06.'09 11:52:24.783203</td>\n",
       "      <td>eeg: 21.06.'09 11:54:26.308594</td>\n",
       "      <td>b</td>\n",
       "      <td>awake</td>\n",
       "      <td>origin: HL2,HL3,HL4  early: HL1, HL2, HL3, HL4...</td>\n",
       "      <td>NaN</td>\n",
       "    </tr>\n",
       "    <tr>\n",
       "      <th>1</th>\n",
       "      <td>2:</td>\n",
       "      <td>CP</td>\n",
       "      <td>eeg: 21.06.'09 13:56:49.808594</td>\n",
       "      <td>eeg: 21.06.'09 13:58:43.708008</td>\n",
       "      <td>b</td>\n",
       "      <td>awake</td>\n",
       "      <td>origin: HL4  early: HL2, HL3, HL4, HL5, HL6  l...</td>\n",
       "      <td>NaN</td>\n",
       "    </tr>\n",
       "    <tr>\n",
       "      <th>2</th>\n",
       "      <td>3:</td>\n",
       "      <td>CP</td>\n",
       "      <td>eeg: 22.06.'09 10:33:35.216797</td>\n",
       "      <td>eeg: 22.06.'09 10:35:32.900391</td>\n",
       "      <td>r</td>\n",
       "      <td>awake</td>\n",
       "      <td>origin: HL2,HL2,HL3,HL3,HL4,HL4,HL5,HL6,HL7,HL...</td>\n",
       "      <td>NaN</td>\n",
       "    </tr>\n",
       "    <tr>\n",
       "      <th>3</th>\n",
       "      <td>4:</td>\n",
       "      <td>CP</td>\n",
       "      <td>eeg: 22.06.'09 14:58:49.866211</td>\n",
       "      <td>eeg: 22.06.'09 15:00:51.375000</td>\n",
       "      <td>b</td>\n",
       "      <td>awake</td>\n",
       "      <td>origin: HL4,HL5,HL6  early: HL1, HL2, HL3, HL4...</td>\n",
       "      <td>NaN</td>\n",
       "    </tr>\n",
       "    <tr>\n",
       "      <th>4</th>\n",
       "      <td>5:</td>\n",
       "      <td>CP</td>\n",
       "      <td>eeg: 23.06.'09 10:13:36.033203</td>\n",
       "      <td>eeg: 23.06.'09 10:16:13.383789</td>\n",
       "      <td>b</td>\n",
       "      <td>awake</td>\n",
       "      <td>origin: HL4  early: HL1, HL2, HL3, HL4, HL5, H...</td>\n",
       "      <td>NaN</td>\n",
       "    </tr>\n",
       "  </tbody>\n",
       "</table>\n",
       "</div>"
      ],
      "text/plain": [
       "    # classif.                           onset  \\\n",
       "0  1:       CP  eeg: 21.06.'09 11:52:24.783203   \n",
       "1  2:       CP  eeg: 21.06.'09 13:56:49.808594   \n",
       "2  3:       CP  eeg: 22.06.'09 10:33:35.216797   \n",
       "3  4:       CP  eeg: 22.06.'09 14:58:49.866211   \n",
       "4  5:       CP  eeg: 23.06.'09 10:13:36.033203   \n",
       "\n",
       "                           offset p.   vig.  \\\n",
       "0  eeg: 21.06.'09 11:54:26.308594  b  awake   \n",
       "1  eeg: 21.06.'09 13:58:43.708008  b  awake   \n",
       "2  eeg: 22.06.'09 10:35:32.900391  r  awake   \n",
       "3  eeg: 22.06.'09 15:00:51.375000  b  awake   \n",
       "4  eeg: 23.06.'09 10:16:13.383789  b  awake   \n",
       "\n",
       "                                              origin  semiology  \n",
       "0  origin: HL2,HL3,HL4  early: HL1, HL2, HL3, HL4...        NaN  \n",
       "1  origin: HL4  early: HL2, HL3, HL4, HL5, HL6  l...        NaN  \n",
       "2  origin: HL2,HL2,HL3,HL3,HL4,HL4,HL5,HL6,HL7,HL...        NaN  \n",
       "3  origin: HL4,HL5,HL6  early: HL1, HL2, HL3, HL4...        NaN  \n",
       "4  origin: HL4  early: HL1, HL2, HL3, HL4, HL5, H...        NaN  "
      ]
     },
     "execution_count": 34,
     "metadata": {},
     "output_type": "execute_result"
    }
   ],
   "source": [
    "#EXTRACT EARLY SPREAD ELECTRODES\n",
    "\n",
    "# Second table is CLINICAL SEIZURES with slightly different info\n",
    "# Extract origin electrodes from it\n",
    "htable[0].head()"
   ]
  },
  {
   "cell_type": "code",
   "execution_count": 13,
   "metadata": {
    "collapsed": false
   },
   "outputs": [
    {
     "name": "stdout",
     "output_type": "stream",
     "text": [
      "['HL2' 'HL3' 'HL4' 'HL5' 'HL6' 'HL7' 'HL8' 'HL9']\n"
     ]
    }
   ],
   "source": [
    "bro=np.unique(onset_chans)\n",
    "len(bro)\n",
    "print(bro)"
   ]
  },
  {
   "cell_type": "code",
   "execution_count": 3,
   "metadata": {
    "collapsed": false,
    "deletable": true,
    "editable": true
   },
   "outputs": [
    {
     "data": {
      "text/html": [
       "<div>\n",
       "<table border=\"1\" class=\"dataframe\">\n",
       "  <thead>\n",
       "    <tr style=\"text-align: right;\">\n",
       "      <th></th>\n",
       "      <th>#</th>\n",
       "      <th>classif.</th>\n",
       "      <th>onset</th>\n",
       "      <th>offset</th>\n",
       "      <th>p.</th>\n",
       "      <th>vig.</th>\n",
       "      <th>origin</th>\n",
       "      <th>semiology</th>\n",
       "    </tr>\n",
       "  </thead>\n",
       "  <tbody>\n",
       "    <tr>\n",
       "      <th>0</th>\n",
       "      <td>1:</td>\n",
       "      <td>CP</td>\n",
       "      <td>eeg: 21.06.'09 11:52:24.783203</td>\n",
       "      <td>eeg: 21.06.'09 11:54:26.308594</td>\n",
       "      <td>b</td>\n",
       "      <td>awake</td>\n",
       "      <td>origin: HL2,HL3,HL4  early: HL1, HL2, HL3, HL4...</td>\n",
       "      <td>NaN</td>\n",
       "    </tr>\n",
       "    <tr>\n",
       "      <th>1</th>\n",
       "      <td>2:</td>\n",
       "      <td>CP</td>\n",
       "      <td>eeg: 21.06.'09 13:56:49.808594</td>\n",
       "      <td>eeg: 21.06.'09 13:58:43.708008</td>\n",
       "      <td>b</td>\n",
       "      <td>awake</td>\n",
       "      <td>origin: HL4  early: HL2, HL3, HL4, HL5, HL6  l...</td>\n",
       "      <td>NaN</td>\n",
       "    </tr>\n",
       "    <tr>\n",
       "      <th>2</th>\n",
       "      <td>3:</td>\n",
       "      <td>CP</td>\n",
       "      <td>eeg: 22.06.'09 10:33:35.216797</td>\n",
       "      <td>eeg: 22.06.'09 10:35:32.900391</td>\n",
       "      <td>r</td>\n",
       "      <td>awake</td>\n",
       "      <td>origin: HL2,HL2,HL3,HL3,HL4,HL4,HL5,HL6,HL7,HL...</td>\n",
       "      <td>NaN</td>\n",
       "    </tr>\n",
       "    <tr>\n",
       "      <th>3</th>\n",
       "      <td>4:</td>\n",
       "      <td>CP</td>\n",
       "      <td>eeg: 22.06.'09 14:58:49.866211</td>\n",
       "      <td>eeg: 22.06.'09 15:00:51.375000</td>\n",
       "      <td>b</td>\n",
       "      <td>awake</td>\n",
       "      <td>origin: HL4,HL5,HL6  early: HL1, HL2, HL3, HL4...</td>\n",
       "      <td>NaN</td>\n",
       "    </tr>\n",
       "    <tr>\n",
       "      <th>4</th>\n",
       "      <td>5:</td>\n",
       "      <td>CP</td>\n",
       "      <td>eeg: 23.06.'09 10:13:36.033203</td>\n",
       "      <td>eeg: 23.06.'09 10:16:13.383789</td>\n",
       "      <td>b</td>\n",
       "      <td>awake</td>\n",
       "      <td>origin: HL4  early: HL1, HL2, HL3, HL4, HL5, H...</td>\n",
       "      <td>NaN</td>\n",
       "    </tr>\n",
       "  </tbody>\n",
       "</table>\n",
       "</div>"
      ],
      "text/plain": [
       "    # classif.                           onset  \\\n",
       "0  1:       CP  eeg: 21.06.'09 11:52:24.783203   \n",
       "1  2:       CP  eeg: 21.06.'09 13:56:49.808594   \n",
       "2  3:       CP  eeg: 22.06.'09 10:33:35.216797   \n",
       "3  4:       CP  eeg: 22.06.'09 14:58:49.866211   \n",
       "4  5:       CP  eeg: 23.06.'09 10:13:36.033203   \n",
       "\n",
       "                           offset p.   vig.  \\\n",
       "0  eeg: 21.06.'09 11:54:26.308594  b  awake   \n",
       "1  eeg: 21.06.'09 13:58:43.708008  b  awake   \n",
       "2  eeg: 22.06.'09 10:35:32.900391  r  awake   \n",
       "3  eeg: 22.06.'09 15:00:51.375000  b  awake   \n",
       "4  eeg: 23.06.'09 10:16:13.383789  b  awake   \n",
       "\n",
       "                                              origin  semiology  \n",
       "0  origin: HL2,HL3,HL4  early: HL1, HL2, HL3, HL4...        NaN  \n",
       "1  origin: HL4  early: HL2, HL3, HL4, HL5, HL6  l...        NaN  \n",
       "2  origin: HL2,HL2,HL3,HL3,HL4,HL4,HL5,HL6,HL7,HL...        NaN  \n",
       "3  origin: HL4,HL5,HL6  early: HL1, HL2, HL3, HL4...        NaN  \n",
       "4  origin: HL4  early: HL1, HL2, HL3, HL4, HL5, H...        NaN  "
      ]
     },
     "execution_count": 3,
     "metadata": {},
     "output_type": "execute_result"
    }
   ],
   "source": [
    "# First table is CLINICAL SEIZURES<---USE ME!!!!\n",
    "htable[0].head()"
   ]
  },
  {
   "cell_type": "code",
   "execution_count": 8,
   "metadata": {
    "collapsed": false,
    "deletable": true,
    "editable": true
   },
   "outputs": [
    {
     "data": {
      "text/html": [
       "<div>\n",
       "<table border=\"1\" class=\"dataframe\">\n",
       "  <thead>\n",
       "    <tr style=\"text-align: right;\">\n",
       "      <th></th>\n",
       "      <th>#</th>\n",
       "      <th>onset</th>\n",
       "      <th>offset</th>\n",
       "    </tr>\n",
       "  </thead>\n",
       "  <tbody>\n",
       "    <tr>\n",
       "      <th>0</th>\n",
       "      <td>1:</td>\n",
       "      <td>18.06.'09 13:02:50</td>\n",
       "      <td>13:03:28</td>\n",
       "    </tr>\n",
       "    <tr>\n",
       "      <th>1</th>\n",
       "      <td>2:</td>\n",
       "      <td>18.06.'09 14:22:46</td>\n",
       "      <td>14:23:19</td>\n",
       "    </tr>\n",
       "    <tr>\n",
       "      <th>2</th>\n",
       "      <td>3:</td>\n",
       "      <td>18.06.'09 16:12:08</td>\n",
       "      <td>16:12:49</td>\n",
       "    </tr>\n",
       "    <tr>\n",
       "      <th>3</th>\n",
       "      <td>4:</td>\n",
       "      <td>18.06.'09 16:31:51</td>\n",
       "      <td>16:32:21</td>\n",
       "    </tr>\n",
       "    <tr>\n",
       "      <th>4</th>\n",
       "      <td>5:</td>\n",
       "      <td>18.06.'09 19:12:12</td>\n",
       "      <td>19:12:49</td>\n",
       "    </tr>\n",
       "  </tbody>\n",
       "</table>\n",
       "</div>"
      ],
      "text/plain": [
       "    #               onset    offset\n",
       "0  1:  18.06.'09 13:02:50  13:03:28\n",
       "1  2:  18.06.'09 14:22:46  14:23:19\n",
       "2  3:  18.06.'09 16:12:08  16:12:49\n",
       "3  4:  18.06.'09 16:31:51  16:32:21\n",
       "4  5:  18.06.'09 19:12:12  19:12:49"
      ]
     },
     "execution_count": 8,
     "metadata": {},
     "output_type": "execute_result"
    }
   ],
   "source": [
    "# 3rd table is SUBclinical SEIZURES\n",
    "htable[2].head()"
   ]
  },
  {
   "cell_type": "code",
   "execution_count": 9,
   "metadata": {
    "collapsed": false,
    "deletable": true,
    "editable": true
   },
   "outputs": [
    {
     "data": {
      "text/html": [
       "<div>\n",
       "<table border=\"1\" class=\"dataframe\">\n",
       "  <thead>\n",
       "    <tr style=\"text-align: right;\">\n",
       "      <th></th>\n",
       "      <th>type</th>\n",
       "      <th>pattern</th>\n",
       "      <th>electrode</th>\n",
       "    </tr>\n",
       "  </thead>\n",
       "  <tbody>\n",
       "    <tr>\n",
       "      <th>0</th>\n",
       "      <td>1</td>\n",
       "      <td>sharp waves</td>\n",
       "      <td>HL3</td>\n",
       "    </tr>\n",
       "    <tr>\n",
       "      <th>1</th>\n",
       "      <td>2</td>\n",
       "      <td>sharp waves</td>\n",
       "      <td>TBA3</td>\n",
       "    </tr>\n",
       "    <tr>\n",
       "      <th>2</th>\n",
       "      <td>3</td>\n",
       "      <td>lafa</td>\n",
       "      <td>TBC3</td>\n",
       "    </tr>\n",
       "    <tr>\n",
       "      <th>3</th>\n",
       "      <td>4</td>\n",
       "      <td>lafa</td>\n",
       "      <td>GC6</td>\n",
       "    </tr>\n",
       "    <tr>\n",
       "      <th>4</th>\n",
       "      <td>5</td>\n",
       "      <td>sharp waves</td>\n",
       "      <td>HL7</td>\n",
       "    </tr>\n",
       "  </tbody>\n",
       "</table>\n",
       "</div>"
      ],
      "text/plain": [
       "  type      pattern electrode\n",
       "0    1  sharp waves       HL3\n",
       "1    2  sharp waves      TBA3\n",
       "2    3         lafa      TBC3\n",
       "3    4         lafa       GC6\n",
       "4    5  sharp waves       HL7"
      ]
     },
     "execution_count": 9,
     "metadata": {},
     "output_type": "execute_result"
    }
   ],
   "source": [
    "# 4th table is IIDs\n",
    "htable[3].head()"
   ]
  },
  {
   "cell_type": "code",
   "execution_count": null,
   "metadata": {
    "collapsed": false,
    "deletable": true,
    "editable": true
   },
   "outputs": [],
   "source": [
    "import pickle\n",
    "bro=pickle.load(open('/Users/davidgroppe/PycharmProjects/SZR_ANT/EU_METADATA/szr_on_off_FR_1146.pkl','rb'))"
   ]
  },
  {
   "cell_type": "code",
   "execution_count": null,
   "metadata": {
    "collapsed": true
   },
   "outputs": [],
   "source": [
    "type(bro)"
   ]
  }
 ],
 "metadata": {
  "anaconda-cloud": {},
  "kernelspec": {
   "display_name": "Python [conda root]",
   "language": "python",
   "name": "conda-root-py"
  },
  "language_info": {
   "codemirror_mode": {
    "name": "ipython",
    "version": 3
   },
   "file_extension": ".py",
   "mimetype": "text/x-python",
   "name": "python",
   "nbconvert_exporter": "python",
   "pygments_lexer": "ipython3",
   "version": "3.5.3"
  }
 },
 "nbformat": 4,
 "nbformat_minor": 2
}
