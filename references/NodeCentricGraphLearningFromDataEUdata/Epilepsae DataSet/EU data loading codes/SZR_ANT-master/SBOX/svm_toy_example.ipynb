{
 "cells": [
  {
   "cell_type": "markdown",
   "metadata": {},
   "source": [
    "# Draft of classification module"
   ]
  },
  {
   "cell_type": "code",
   "execution_count": 6,
   "metadata": {
    "collapsed": true
   },
   "outputs": [],
   "source": [
    "import numpy as np\n",
    "import matplotlib.pyplot as plt\n",
    "%matplotlib inline\n",
    "# import pandas as pd\n",
    "# import scipy.io as sio\n",
    "# import os\n",
    "# import ieeg_funcs as ief\n",
    "from sklearn import svm, linear_model\n",
    "# from sklearn.externals import joblib"
   ]
  },
  {
   "cell_type": "code",
   "execution_count": 21,
   "metadata": {},
   "outputs": [
    {
     "name": "stdout",
     "output_type": "stream",
     "text": [
      "Accuracy: 0.600000\n",
      "Accuracy appears low. However, the true onset is still detected.\n"
     ]
    },
    {
     "data": {
      "image/png": "[encoded data removed]",
      "text/plain": [
       "<matplotlib.figure.Figure at 0x1175a0630>"
      ]
     },
     "metadata": {},
     "output_type": "display_data"
    }
   ],
   "source": [
    "# Create toy data set\n",
    "n=10\n",
    "y=np.zeros(n*2) # human labels \n",
    "y[n+1:]=1 # Humans label the first n observations as szr onset even \n",
    "# though only the last observation is ictal\n",
    "x=np.zeros((n*2,1)) # Sensor data\n",
    "x[n*2-1,0]=1 # All sensor readings are equal except for the last observation, \n",
    "# which is the true szr onset\n",
    "\n",
    "# Train SVM classifier\n",
    "svm_model = svm.SVC(kernel='rbf')\n",
    "svm_model.fit(x, y)\n",
    "y_hat=svm_model.predict(x)\n",
    "acc=np.mean(y_hat==y)\n",
    "print('Accuracy: %f' % acc)\n",
    "print('Accuracy appears low. However, the true onset is still detected.')\n",
    "\n",
    "plt.figure(1)\n",
    "plt.clf()\n",
    "ax=plt.subplot(3,1,1)\n",
    "plt.plot(x,'-o',label='Sensor Data')\n",
    "ax.tick_params(labelbottom='off')\n",
    "plt.ylabel('EEG Data')\n",
    "\n",
    "plt.subplot(3,1,2)\n",
    "plt.plot(y,'r-o',label='Human Labels')\n",
    "ax.tick_params(labelbottom='off')\n",
    "plt.ylabel('Human Labels')\n",
    "\n",
    "plt.subplot(3,1,3)\n",
    "plt.plot(y_hat,'m-o')\n",
    "plt.ylabel('Predictions')\n",
    "plt.xlabel('Time->');\n",
    "# plt.title('Predictions')"
   ]
  },
  {
   "cell_type": "code",
   "execution_count": null,
   "metadata": {
    "collapsed": true
   },
   "outputs": [],
   "source": []
  }
 ],
 "metadata": {
  "anaconda-cloud": {},
  "kernelspec": {
   "display_name": "Python [default]",
   "language": "python",
   "name": "python3"
  },
  "language_info": {
   "codemirror_mode": {
    "name": "ipython",
    "version": 3
   },
   "file_extension": ".py",
   "mimetype": "text/x-python",
   "name": "python",
   "nbconvert_exporter": "python",
   "pygments_lexer": "ipython3",
   "version": "3.5.3"
  }
 },
 "nbformat": 4,
 "nbformat_minor": 1
}
