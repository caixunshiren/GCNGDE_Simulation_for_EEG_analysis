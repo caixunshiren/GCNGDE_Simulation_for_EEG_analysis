{
 "cells": [
  {
   "cell_type": "markdown",
   "metadata": {
    "deletable": true,
    "editable": true
   },
   "source": [
    "# Computes spectral power features for later classification"
   ]
  },
  {
   "cell_type": "code",
   "execution_count": 107,
   "metadata": {
    "collapsed": true,
    "deletable": true,
    "editable": true
   },
   "outputs": [],
   "source": [
    "import numpy as np\n",
    "import matplotlib.pyplot as plt\n",
    "%matplotlib inline\n",
    "import pandas as pd\n",
    "import scipy.io as sio\n",
    "import os\n",
    "import ieeg_funcs as ief\n",
    "import dgFuncs as dg\n",
    "import pickle"
   ]
  },
  {
   "cell_type": "code",
   "execution_count": 126,
   "metadata": {
    "collapsed": false,
    "deletable": true,
    "editable": true
   },
   "outputs": [
    {
     "data": {
      "text/plain": [
       "<module 'dgFuncs' from '/Users/davidgroppe/PycharmProjects/DG_LIBRARY/dgFuncs.py'>"
      ]
     },
     "execution_count": 126,
     "metadata": {},
     "output_type": "execute_result"
    }
   ],
   "source": [
    "# Block for re-loading my libraries if I make updates\n",
    "import imp \n",
    "imp.reload(ief) \n",
    "imp.reload(dg) "
   ]
  },
  {
   "cell_type": "code",
   "execution_count": 138,
   "metadata": {
    "collapsed": false,
    "deletable": true,
    "editable": true
   },
   "outputs": [],
   "source": [
    "path_dict=ief.get_path_dict()\n",
    "# path_dict.keys()\n",
    "use_subs_df=pd.read_csv(os.path.join(path_dict['szr_ant_root'],'use_subs.txt'),header=None,na_filter=False)"
   ]
  },
  {
   "cell_type": "code",
   "execution_count": 139,
   "metadata": {
    "collapsed": false,
    "deletable": true,
    "editable": true
   },
   "outputs": [
    {
     "name": "stdout",
     "output_type": "stream",
     "text": [
      "    0\n",
      "0  CC\n",
      "1  CJ\n",
      "2  CO\n",
      "3  CT\n",
      "4  IB\n",
      "5  JW\n",
      "6  NA\n",
      "7  RB\n",
      "8  TF\n"
     ]
    }
   ],
   "source": [
    "print(use_subs_df)"
   ]
  },
  {
   "cell_type": "code",
   "execution_count": 140,
   "metadata": {
    "collapsed": false,
    "deletable": true,
    "editable": true
   },
   "outputs": [
    {
     "name": "stdout",
     "output_type": "stream",
     "text": [
      "CC\n",
      "CJ\n",
      "CO\n",
      "CT\n",
      "IB\n",
      "JW\n",
      "NA\n",
      "RB\n",
      "TF\n"
     ]
    }
   ],
   "source": [
    "for sub in use_subs_df.iloc[:,0]:\n",
    "    print(sub)"
   ]
  },
  {
   "cell_type": "code",
   "execution_count": 130,
   "metadata": {
    "collapsed": true,
    "deletable": true,
    "editable": true
   },
   "outputs": [],
   "source": [
    "pd.read_csv?"
   ]
  },
  {
   "cell_type": "code",
   "execution_count": null,
   "metadata": {
    "collapsed": true,
    "deletable": true,
    "editable": true
   },
   "outputs": [],
   "source": [
    "# Features:\n",
    "# central window\n",
    "# 1 second window, ends 1 sec previous\n",
    "# mean of 10 second window, ends 1 sec previous\n",
    "\n",
    "wind_len=1\n",
    "\n",
    "# 1 second window, ends 1 sec previous\n",
    "prev_wind_width=(1, 1, 10) # two 1 second windows and a 10 second window) \n",
    "prev_wind_delay=(0, 1, 1) # centered window, and two 1 sec before center windows \n",
    "\n",
    "# 10 second window, ends 1 sec previous\n",
    "\n",
    "# Time to use:\n",
    "# -all preictal data\n",
    "# -10 seconds past onset window"
   ]
  },
  {
   "cell_type": "code",
   "execution_count": 33,
   "metadata": {
    "collapsed": true,
    "deletable": true,
    "editable": true
   },
   "outputs": [],
   "source": [
    "# Load list of subs to use\n",
    "#use_subs.txt TODO use this text file\n",
    "#sub_list=['NA']\n",
    "sub_list=['CO']\n",
    "# TODO loop over subs\n",
    "sub=sub_list[0]"
   ]
  },
  {
   "cell_type": "code",
   "execution_count": 116,
   "metadata": {
    "collapsed": false,
    "deletable": true,
    "editable": true
   },
   "outputs": [
    {
     "name": "stdout",
     "output_type": "stream",
     "text": [
      "Importing file /Users/davidgroppe/Dropbox/TWH_INFO/CLINICIAN_ONSET_TIMES/CO_clinician_onset_offset.csv\n"
     ]
    }
   ],
   "source": [
    "path_dict = ief.get_path_dict()\n",
    "ieeg_root = path_dict['ieeg_root']\n",
    "\n",
    "# Get list of files to use from clinician onset csv file\n",
    "onset_csv_dir=path_dict['onset_csv']\n",
    "onset_csv_fname=os.path.join(onset_csv_dir,sub+'_clinician_onset_offset.csv')\n",
    "print('Importing file %s' % onset_csv_fname)\n",
    "onset_df=pd.read_csv(onset_csv_fname)"
   ]
  },
  {
   "cell_type": "code",
   "execution_count": 35,
   "metadata": {
    "collapsed": false,
    "deletable": true,
    "editable": true
   },
   "outputs": [
    {
     "data": {
      "text/html": [
       "<div>\n",
       "<table border=\"1\" class=\"dataframe\">\n",
       "  <thead>\n",
       "    <tr style=\"text-align: right;\">\n",
       "      <th></th>\n",
       "      <th>DAY</th>\n",
       "      <th>SZR#</th>\n",
       "      <th>ONSET</th>\n",
       "      <th>OFFSET</th>\n",
       "      <th>SOZ_CHAN</th>\n",
       "      <th>FILE_ONSET</th>\n",
       "      <th>DDMMYR</th>\n",
       "      <th>SRATE_HZ</th>\n",
       "      <th>NOTES</th>\n",
       "      <th>ONSET_SEC</th>\n",
       "      <th>FILE_ONSET_SEC</th>\n",
       "      <th>ONSET_TPT</th>\n",
       "      <th>DG_ONSET_CHAN</th>\n",
       "      <th>USE4CLASSIFIER</th>\n",
       "      <th>DAY.1</th>\n",
       "      <th>SZR#.1</th>\n",
       "    </tr>\n",
       "  </thead>\n",
       "  <tbody>\n",
       "    <tr>\n",
       "      <th>0</th>\n",
       "      <td>11</td>\n",
       "      <td>1</td>\n",
       "      <td>10:11:29 AM</td>\n",
       "      <td>10:14:08 AM</td>\n",
       "      <td>RHD1-2</td>\n",
       "      <td>10:08:12</td>\n",
       "      <td>10/01/2010</td>\n",
       "      <td>250</td>\n",
       "      <td>?</td>\n",
       "      <td>36689</td>\n",
       "      <td>36492</td>\n",
       "      <td>49250</td>\n",
       "      <td>RHD1-2</td>\n",
       "      <td>clinicianOnsetTooEarly</td>\n",
       "      <td>11</td>\n",
       "      <td>1</td>\n",
       "    </tr>\n",
       "    <tr>\n",
       "      <th>1</th>\n",
       "      <td>11</td>\n",
       "      <td>2</td>\n",
       "      <td>2:36:00 PM</td>\n",
       "      <td>2:27:46 PM</td>\n",
       "      <td>NaN</td>\n",
       "      <td>14:32:42</td>\n",
       "      <td>10/01/2010</td>\n",
       "      <td>250</td>\n",
       "      <td>?</td>\n",
       "      <td>52560</td>\n",
       "      <td>52362</td>\n",
       "      <td>49500</td>\n",
       "      <td>LHD1-2</td>\n",
       "      <td>use</td>\n",
       "      <td>11</td>\n",
       "      <td>2</td>\n",
       "    </tr>\n",
       "    <tr>\n",
       "      <th>2</th>\n",
       "      <td>12</td>\n",
       "      <td>1</td>\n",
       "      <td>4:21:38 AM</td>\n",
       "      <td>4:22:08 AM</td>\n",
       "      <td>?</td>\n",
       "      <td>13:22:04</td>\n",
       "      <td>10/02/2010</td>\n",
       "      <td>250</td>\n",
       "      <td>?</td>\n",
       "      <td>15698</td>\n",
       "      <td>48124</td>\n",
       "      <td>-8106500</td>\n",
       "      <td>?</td>\n",
       "      <td>clinicianOnsetIncorrect</td>\n",
       "      <td>12</td>\n",
       "      <td>1</td>\n",
       "    </tr>\n",
       "    <tr>\n",
       "      <th>3</th>\n",
       "      <td>12</td>\n",
       "      <td>2</td>\n",
       "      <td>3:40:30 AM</td>\n",
       "      <td>3:40:55 AM</td>\n",
       "      <td>?</td>\n",
       "      <td>20:26:52</td>\n",
       "      <td>10/02/2010</td>\n",
       "      <td>250</td>\n",
       "      <td>?</td>\n",
       "      <td>13230</td>\n",
       "      <td>73612</td>\n",
       "      <td>-15095500</td>\n",
       "      <td>?</td>\n",
       "      <td>clinicianOnsetIncorrect</td>\n",
       "      <td>12</td>\n",
       "      <td>2</td>\n",
       "    </tr>\n",
       "    <tr>\n",
       "      <th>4</th>\n",
       "      <td>12</td>\n",
       "      <td>3</td>\n",
       "      <td>1:24:41 PM</td>\n",
       "      <td>1:26:18 PM</td>\n",
       "      <td>?</td>\n",
       "      <td>04:20:07</td>\n",
       "      <td>10/03/2010</td>\n",
       "      <td>250</td>\n",
       "      <td>?</td>\n",
       "      <td>48281</td>\n",
       "      <td>15607</td>\n",
       "      <td>8168500</td>\n",
       "      <td>?</td>\n",
       "      <td>clinicianOnsetIncorrect</td>\n",
       "      <td>12</td>\n",
       "      <td>3</td>\n",
       "    </tr>\n",
       "  </tbody>\n",
       "</table>\n",
       "</div>"
      ],
      "text/plain": [
       "   DAY  SZR#        ONSET       OFFSET SOZ_CHAN FILE_ONSET      DDMMYR  \\\n",
       "0   11     1  10:11:29 AM  10:14:08 AM   RHD1-2   10:08:12  10/01/2010   \n",
       "1   11     2   2:36:00 PM   2:27:46 PM      NaN   14:32:42  10/01/2010   \n",
       "2   12     1   4:21:38 AM   4:22:08 AM        ?   13:22:04  10/02/2010   \n",
       "3   12     2   3:40:30 AM   3:40:55 AM        ?   20:26:52  10/02/2010   \n",
       "4   12     3   1:24:41 PM   1:26:18 PM        ?   04:20:07  10/03/2010   \n",
       "\n",
       "   SRATE_HZ NOTES  ONSET_SEC  FILE_ONSET_SEC  ONSET_TPT DG_ONSET_CHAN  \\\n",
       "0       250     ?      36689           36492      49250        RHD1-2   \n",
       "1       250     ?      52560           52362      49500        LHD1-2   \n",
       "2       250     ?      15698           48124   -8106500             ?   \n",
       "3       250     ?      13230           73612  -15095500             ?   \n",
       "4       250     ?      48281           15607    8168500             ?   \n",
       "\n",
       "            USE4CLASSIFIER  DAY.1  SZR#.1  \n",
       "0   clinicianOnsetTooEarly     11       1  \n",
       "1                      use     11       2  \n",
       "2  clinicianOnsetIncorrect     12       1  \n",
       "3  clinicianOnsetIncorrect     12       2  \n",
       "4  clinicianOnsetIncorrect     12       3  "
      ]
     },
     "execution_count": 35,
     "metadata": {},
     "output_type": "execute_result"
    }
   ],
   "source": [
    "onset_df.head()"
   ]
  },
  {
   "cell_type": "code",
   "execution_count": 45,
   "metadata": {
    "collapsed": false,
    "deletable": true,
    "editable": true
   },
   "outputs": [
    {
     "data": {
      "text/plain": [
       "(20, 16)"
      ]
     },
     "execution_count": 45,
     "metadata": {},
     "output_type": "execute_result"
    }
   ],
   "source": [
    "onset_df.shape"
   ]
  },
  {
   "cell_type": "code",
   "execution_count": 81,
   "metadata": {
    "collapsed": false,
    "deletable": true,
    "editable": true
   },
   "outputs": [
    {
     "name": "stdout",
     "output_type": "stream",
     "text": [
      "3 usable szrs:\n",
      "['CO_d11_sz2', 'CO_d8_sz3', 'CO_d9_sz1']\n"
     ]
    }
   ],
   "source": [
    "use_ser=onset_df['USE4CLASSIFIER']\n",
    "use_szrs=list()\n",
    "# onset_chans=list()\n",
    "for row_id, quality in enumerate(use_ser):\n",
    "    if quality=='use':\n",
    "        szr_name=sub+'_d'+str(onset_df.iloc[row_id,0])+'_sz'+str(onset_df.iloc[row_id,1])\n",
    "        use_szrs.append(szr_name)\n",
    "#         onset_chans.append(onset_df.iloc[row_id,12])\n",
    "n_use_szrs=len(use_szrs)\n",
    "print('%d usable szrs:' % n_use_szrs)\n",
    "print(use_szrs)\n",
    "# print(onset_chans)"
   ]
  },
  {
   "cell_type": "code",
   "execution_count": 28,
   "metadata": {
    "collapsed": false,
    "deletable": true,
    "editable": true
   },
   "outputs": [
    {
     "data": {
      "text/plain": [
       "'/Users/davidgroppe/ONGOING/TWH_EEG/'"
      ]
     },
     "execution_count": 28,
     "metadata": {},
     "output_type": "execute_result"
    }
   ],
   "source": [
    "# Figure out how many time windows of data we'll have so we can preallocate memory?\n",
    "ieeg_root"
   ]
  },
  {
   "cell_type": "code",
   "execution_count": 54,
   "metadata": {
    "collapsed": false,
    "deletable": true,
    "editable": true
   },
   "outputs": [
    {
     "data": {
      "text/plain": [
       "5"
      ]
     },
     "execution_count": 54,
     "metadata": {},
     "output_type": "execute_result"
    }
   ],
   "source": [
    "len(bands)"
   ]
  },
  {
   "cell_type": "code",
   "execution_count": 59,
   "metadata": {
    "collapsed": false,
    "deletable": true,
    "editable": true
   },
   "outputs": [],
   "source": [
    "# Define frequency bands\n",
    "bands=list()\n",
    "bands.append((1,4)) # Delta\n",
    "bands.append((4,8)) # Theta\n",
    "bands.append((8,13)) # Alpha\n",
    "bands.append((13,30)) # Beta\n",
    "bands.append((30,50)) # Gamma\n",
    "bands.append((70,100)) # High Gamma"
   ]
  },
  {
   "cell_type": "code",
   "execution_count": 60,
   "metadata": {
    "collapsed": false,
    "deletable": true,
    "editable": true
   },
   "outputs": [
    {
     "data": {
      "text/plain": [
       "200.0"
      ]
     },
     "execution_count": 60,
     "metadata": {},
     "output_type": "execute_result"
    }
   ],
   "source": [
    "# Block for re-loading my libraries if I make updates\n",
    "import imp \n",
    "imp.reload(ief) \n",
    "imp.reload(dg) "
   ]
  },
  {
   "cell_type": "code",
   "execution_count": 71,
   "metadata": {
    "collapsed": false,
    "deletable": true,
    "editable": true
   },
   "outputs": [
    {
     "data": {
      "text/plain": [
       "(23, 76250)"
      ]
     },
     "execution_count": 71,
     "metadata": {},
     "output_type": "execute_result"
    }
   ],
   "source": [
    "ieeg.shape"
   ]
  },
  {
   "cell_type": "code",
   "execution_count": 72,
   "metadata": {
    "collapsed": false,
    "deletable": true,
    "editable": true
   },
   "outputs": [
    {
     "data": {
      "text/plain": [
       "(1, 76250)"
      ]
     },
     "execution_count": 72,
     "metadata": {},
     "output_type": "execute_result"
    }
   ],
   "source": [
    "#bro=ieeg[onset_chan_id:onset_chan_id+1,:]\n",
    "bro=ieeg[22:23,:]\n",
    "bro.shape"
   ]
  },
  {
   "cell_type": "code",
   "execution_count": 86,
   "metadata": {
    "collapsed": false,
    "deletable": true,
    "editable": true
   },
   "outputs": [
    {
     "name": "stdout",
     "output_type": "stream",
     "text": [
      "['CO_d11_sz2']\n"
     ]
    },
    {
     "ename": "NameError",
     "evalue": "name 'szr' is not defined",
     "output_type": "error",
     "traceback": [
      "\u001b[0;31m---------------------------------------------------------------------------\u001b[0m",
      "\u001b[0;31mNameError\u001b[0m                                 Traceback (most recent call last)",
      "\u001b[0;32m<ipython-input-86-86008a1bb66d>\u001b[0m in \u001b[0;36m<module>\u001b[0;34m()\u001b[0m\n\u001b[1;32m      1\u001b[0m \u001b[0mprint\u001b[0m\u001b[0;34m(\u001b[0m\u001b[0muse_szrs\u001b[0m\u001b[0;34m[\u001b[0m\u001b[0;36m0\u001b[0m\u001b[0;34m:\u001b[0m\u001b[0;36m1\u001b[0m\u001b[0;34m]\u001b[0m\u001b[0;34m)\u001b[0m\u001b[0;34m\u001b[0m\u001b[0m\n\u001b[0;32m----> 2\u001b[0;31m \u001b[0mprint\u001b[0m\u001b[0;34m(\u001b[0m\u001b[0mszr\u001b[0m\u001b[0;34m)\u001b[0m\u001b[0;34m\u001b[0m\u001b[0m\n\u001b[0m",
      "\u001b[0;31mNameError\u001b[0m: name 'szr' is not defined"
     ]
    }
   ],
   "source": [
    "print(use_szrs[0:1])\n",
    "print(szr)"
   ]
  },
  {
   "cell_type": "code",
   "execution_count": 121,
   "metadata": {
    "collapsed": false,
    "deletable": true,
    "editable": true
   },
   "outputs": [
    {
     "name": "stdout",
     "output_type": "stream",
     "text": [
      "Loading /Users/davidgroppe/ONGOING/TWH_EEG/CO/CO_channel_info.csv\n",
      "Loading /Users/davidgroppe/ONGOING/TWH_EEG/CO/EEG_MAT/CO_d11_sz2.mat\n",
      "[(1, 4), (4, 8), (8, 13), (13, 30), (30, 50), (70, 100.0)]\n",
      "Getting clinical onset time for CO: Day 11, Szr 2\n",
      "198.0\n",
      "49500\n",
      "LHD1-2\n",
      "chans 1\n",
      "tpts 76250\n",
      "6 dimensions\n",
      "3040 observations\n",
      "Saving features to file /Users/davidgroppe/PycharmProjects/SZR_ANT/FTRS/PWR/CO/CO_d11_sz2_bppwr.npz\n",
      "Loading /Users/davidgroppe/ONGOING/TWH_EEG/CO/EEG_MAT/CO_d8_sz3_sc.mat\n",
      "[(1, 4), (4, 8), (8, 13), (13, 30), (30, 50), (70, 100.0)]\n",
      "Getting clinical onset time for CO: Day 8, Szr 3\n",
      "48.0\n",
      "12000\n",
      "LHD1-2\n",
      "chans 1\n",
      "tpts 14750\n",
      "6 dimensions\n",
      "580 observations\n",
      "Saving features to file /Users/davidgroppe/PycharmProjects/SZR_ANT/FTRS/PWR/CO/CO_d8_sz3_bppwr.npz\n",
      "Loading /Users/davidgroppe/ONGOING/TWH_EEG/CO/EEG_MAT/CO_d9_sz1.mat\n",
      "[(1, 4), (4, 8), (8, 13), (13, 30), (30, 50), (70, 100.0)]\n",
      "Getting clinical onset time for CO: Day 9, Szr 1\n",
      "134.0\n",
      "33500\n",
      "LHD1-2\n",
      "chans 1\n",
      "tpts 48750\n",
      "6 dimensions\n",
      "1940 observations\n",
      "Saving features to file /Users/davidgroppe/PycharmProjects/SZR_ANT/FTRS/PWR/CO/CO_d9_sz1_bppwr.npz\n",
      "Done!\n"
     ]
    }
   ],
   "source": [
    "# Import channel names\n",
    "chan_labels=ief.import_chan_labels(sub)\n",
    "ftr_list=list()\n",
    "ftr_class_list=list()\n",
    "\n",
    "# Loop over usable files\n",
    "#for szr_ct, szr_name in enumerate(use_szrs[0:1]): # ?? REVERT\n",
    "for szr_ct, szr_name in enumerate(use_szrs):\n",
    "    # Load data\n",
    "    in_fname=os.path.join(ieeg_root,sub,'EEG_MAT',szr_name+'.mat')\n",
    "    if not os.path.isfile(in_fname):\n",
    "        # Must be a subclinical seizure\n",
    "        in_fname=os.path.join(ieeg_root,sub,'EEG_MAT',szr_name+'_sc.mat')\n",
    "    szr_name_full=in_fname.split('/')[-1]\n",
    "    ieeg, Sf, tpts_sec=ief.import_ieeg(szr_name_full)\n",
    "\n",
    "    # Adjust upper frequency band based on sampling rate\n",
    "    bands[5]=(70,Sf*.4)\n",
    "    print(bands)\n",
    "    \n",
    "    # Get time point and channel of szr onset\n",
    "    onset_tpt, onset_chan=ief.clin_onset_tpt_and_chan(szr_name, onset_df)\n",
    "    onset_chan_id = chan_labels.index(onset_chan)\n",
    "    onset_sec=tpts_sec[onset_tpt]\n",
    "    print(onset_sec)\n",
    "    print(onset_tpt)\n",
    "    print(onset_chan)\n",
    "    \n",
    "    # Run DFT \n",
    "    wind_len=Sf\n",
    "    wind_step=Sf/10\n",
    "    n_tapers=4\n",
    "    db_pwr, sgram_sec=ief.bp_pwr(ieeg[onset_chan_id:onset_chan_id+1,:], Sf, wind_len, wind_step,\n",
    "                                 n_tapers, tpts_sec, bands, taper='slepian')\n",
    "    db_pwr=np.squeeze(db_pwr)\n",
    "    # Trim norm\n",
    "    dg.trimmed_normalize(db_pwr,.4)\n",
    "    \n",
    "    # Record class of each time point\n",
    "    n_wind=len(sgram_sec)\n",
    "    sgram_onset_id=dg.find_nearest(sgram_sec,onset_sec-4)\n",
    "    sgram_term_id=dg.find_nearest(sgram_sec,onset_sec+9)\n",
    "    peri_ictal=np.ones(n_wind,dtype=np.int8)\n",
    "    peri_ictal[:sgram_onset_id]=0\n",
    "    peri_ictal[sgram_term_id:]=-1 # ictal (and potentially post-ictal data) that should \n",
    "    # not be used for classification\n",
    "    \n",
    "    # output data\n",
    "    ftrs_root=path_dict['ftrs_root']\n",
    "    ftr_path=os.path.join(ftrs_root,'PWR',sub)\n",
    "    if not os.path.isdir(ftr_path):\n",
    "        os.mkdir(ftr_path)\n",
    "    ftr_fname=os.path.join(ftr_path,szr_name+'_bppwr.npz')\n",
    "    print('Saving features to file %s' % ftr_fname)\n",
    "    np.savez(ftr_fname,peri_ictal=peri_ictal,time_wind_sec=sgram_sec,db_pwr=db_pwr)\n",
    "#     ftr_fname=os.path.join(ftrs_root,'PWR',szr_name+'_bppwr.pkl')\n",
    "#     pkl_handle=open(ftr_fname,'wb')\n",
    "#     pickle.dump(ftr_fname,pkl_handle)\n",
    "#     close(pkl_handle)\n",
    "\n",
    "print('Done!')"
   ]
  },
  {
   "cell_type": "code",
   "execution_count": 122,
   "metadata": {
    "collapsed": false,
    "deletable": true,
    "editable": true,
    "scrolled": true
   },
   "outputs": [
    {
     "data": {
      "image/png": "[encoded data removed]",
      "text/plain": [
       "<matplotlib.figure.Figure at 0x122df5278>"
      ]
     },
     "metadata": {},
     "output_type": "display_data"
    }
   ],
   "source": [
    "# db_pwr=np.squeeze(db_pwr)\n",
    "# dg.trimmed_normalize(db_pwr,.4)\n",
    "_=plt.plot(db_pwr.T)\n",
    "_=plt.plot(peri_ictal*20,'k-')\n",
    "# _=plt.plot(db_pwr[0,:,:].T)\n",
    "# db_pwr.shape"
   ]
  },
  {
   "cell_type": "code",
   "execution_count": 90,
   "metadata": {
    "collapsed": false,
    "deletable": true,
    "editable": true
   },
   "outputs": [
    {
     "data": {
      "text/plain": [
       "(6, 3040)"
      ]
     },
     "execution_count": 90,
     "metadata": {},
     "output_type": "execute_result"
    }
   ],
   "source": [
    "bro=np.squeeze(db_pwr)\n",
    "bro.shape"
   ]
  },
  {
   "cell_type": "code",
   "execution_count": null,
   "metadata": {
    "collapsed": true,
    "deletable": true,
    "editable": true
   },
   "outputs": [],
   "source": [
    "os.ex"
   ]
  }
 ],
 "metadata": {
  "anaconda-cloud": {},
  "kernelspec": {
   "display_name": "Python [default]",
   "language": "python",
   "name": "python3"
  },
  "language_info": {
   "codemirror_mode": {
    "name": "ipython",
    "version": 3
   },
   "file_extension": ".py",
   "mimetype": "text/x-python",
   "name": "python",
   "nbconvert_exporter": "python",
   "pygments_lexer": "ipython3",
   "version": "3.5.3"
  }
 },
 "nbformat": 4,
 "nbformat_minor": 1
}
