{
 "cells": [
  {
   "cell_type": "markdown",
   "metadata": {},
   "source": [
    "# Computes spectral power features for later classification"
   ]
  },
  {
   "cell_type": "code",
   "execution_count": 2,
   "metadata": {
    "collapsed": true
   },
   "outputs": [],
   "source": [
    "import numpy as np\n",
    "import matplotlib.pyplot as plt\n",
    "%matplotlib inline\n",
    "import pandas as pd\n",
    "import scipy.io as sio\n",
    "import os\n",
    "import ieeg_funcs as ief\n",
    "import dgFuncs as dg\n",
    "import pickle"
   ]
  },
  {
   "cell_type": "code",
   "execution_count": 5,
   "metadata": {
    "collapsed": false
   },
   "outputs": [
    {
     "data": {
      "text/plain": [
       "<module 'dgFuncs' from '/Users/davidgroppe/PycharmProjects/DG_LIBRARY/dgFuncs.py'>"
      ]
     },
     "execution_count": 5,
     "metadata": {},
     "output_type": "execute_result"
    }
   ],
   "source": [
    "# Block for re-loading my libraries if I make updates\n",
    "import imp \n",
    "imp.reload(ief) \n",
    "imp.reload(dg) "
   ]
  },
  {
   "cell_type": "code",
   "execution_count": 138,
   "metadata": {
    "collapsed": false
   },
   "outputs": [],
   "source": [
    "path_dict=ief.get_path_dict()\n",
    "# path_dict.keys()\n",
    "use_subs_df=pd.read_csv(os.path.join(path_dict['szr_ant_root'],'use_subs.txt'),header=None,na_filter=False)"
   ]
  },
  {
   "cell_type": "code",
   "execution_count": 139,
   "metadata": {
    "collapsed": false
   },
   "outputs": [
    {
     "name": "stdout",
     "output_type": "stream",
     "text": [
      "    0\n",
      "0  CC\n",
      "1  CJ\n",
      "2  CO\n",
      "3  CT\n",
      "4  IB\n",
      "5  JW\n",
      "6  NA\n",
      "7  RB\n",
      "8  TF\n"
     ]
    }
   ],
   "source": [
    "print(use_subs_df)"
   ]
  },
  {
   "cell_type": "code",
   "execution_count": 140,
   "metadata": {
    "collapsed": false
   },
   "outputs": [
    {
     "name": "stdout",
     "output_type": "stream",
     "text": [
      "CC\n",
      "CJ\n",
      "CO\n",
      "CT\n",
      "IB\n",
      "JW\n",
      "NA\n",
      "RB\n",
      "TF\n"
     ]
    }
   ],
   "source": [
    "for sub in use_subs_df.iloc[:,0]:\n",
    "    print(sub)"
   ]
  },
  {
   "cell_type": "code",
   "execution_count": 116,
   "metadata": {
    "collapsed": false
   },
   "outputs": [
    {
     "name": "stdout",
     "output_type": "stream",
     "text": [
      "Importing file /Users/davidgroppe/Dropbox/TWH_INFO/CLINICIAN_ONSET_TIMES/CO_clinician_onset_offset.csv\n"
     ]
    }
   ],
   "source": [
    "path_dict = ief.get_path_dict()\n",
    "ieeg_root = path_dict['ieeg_root']\n",
    "\n",
    "# Get list of files to use from clinician onset csv file\n",
    "onset_csv_dir=path_dict['onset_csv']\n",
    "onset_csv_fname=os.path.join(onset_csv_dir,sub+'_clinician_onset_offset.csv')\n",
    "print('Importing file %s' % onset_csv_fname)\n",
    "onset_df=pd.read_csv(onset_csv_fname)"
   ]
  },
  {
   "cell_type": "code",
   "execution_count": 35,
   "metadata": {
    "collapsed": false
   },
   "outputs": [
    {
     "data": {
      "text/html": [
       "<div>\n",
       "<table border=\"1\" class=\"dataframe\">\n",
       "  <thead>\n",
       "    <tr style=\"text-align: right;\">\n",
       "      <th></th>\n",
       "      <th>DAY</th>\n",
       "      <th>SZR#</th>\n",
       "      <th>ONSET</th>\n",
       "      <th>OFFSET</th>\n",
       "      <th>SOZ_CHAN</th>\n",
       "      <th>FILE_ONSET</th>\n",
       "      <th>DDMMYR</th>\n",
       "      <th>SRATE_HZ</th>\n",
       "      <th>NOTES</th>\n",
       "      <th>ONSET_SEC</th>\n",
       "      <th>FILE_ONSET_SEC</th>\n",
       "      <th>ONSET_TPT</th>\n",
       "      <th>DG_ONSET_CHAN</th>\n",
       "      <th>USE4CLASSIFIER</th>\n",
       "      <th>DAY.1</th>\n",
       "      <th>SZR#.1</th>\n",
       "    </tr>\n",
       "  </thead>\n",
       "  <tbody>\n",
       "    <tr>\n",
       "      <th>0</th>\n",
       "      <td>11</td>\n",
       "      <td>1</td>\n",
       "      <td>10:11:29 AM</td>\n",
       "      <td>10:14:08 AM</td>\n",
       "      <td>RHD1-2</td>\n",
       "      <td>10:08:12</td>\n",
       "      <td>10/01/2010</td>\n",
       "      <td>250</td>\n",
       "      <td>?</td>\n",
       "      <td>36689</td>\n",
       "      <td>36492</td>\n",
       "      <td>49250</td>\n",
       "      <td>RHD1-2</td>\n",
       "      <td>clinicianOnsetTooEarly</td>\n",
       "      <td>11</td>\n",
       "      <td>1</td>\n",
       "    </tr>\n",
       "    <tr>\n",
       "      <th>1</th>\n",
       "      <td>11</td>\n",
       "      <td>2</td>\n",
       "      <td>2:36:00 PM</td>\n",
       "      <td>2:27:46 PM</td>\n",
       "      <td>NaN</td>\n",
       "      <td>14:32:42</td>\n",
       "      <td>10/01/2010</td>\n",
       "      <td>250</td>\n",
       "      <td>?</td>\n",
       "      <td>52560</td>\n",
       "      <td>52362</td>\n",
       "      <td>49500</td>\n",
       "      <td>LHD1-2</td>\n",
       "      <td>use</td>\n",
       "      <td>11</td>\n",
       "      <td>2</td>\n",
       "    </tr>\n",
       "    <tr>\n",
       "      <th>2</th>\n",
       "      <td>12</td>\n",
       "      <td>1</td>\n",
       "      <td>4:21:38 AM</td>\n",
       "      <td>4:22:08 AM</td>\n",
       "      <td>?</td>\n",
       "      <td>13:22:04</td>\n",
       "      <td>10/02/2010</td>\n",
       "      <td>250</td>\n",
       "      <td>?</td>\n",
       "      <td>15698</td>\n",
       "      <td>48124</td>\n",
       "      <td>-8106500</td>\n",
       "      <td>?</td>\n",
       "      <td>clinicianOnsetIncorrect</td>\n",
       "      <td>12</td>\n",
       "      <td>1</td>\n",
       "    </tr>\n",
       "    <tr>\n",
       "      <th>3</th>\n",
       "      <td>12</td>\n",
       "      <td>2</td>\n",
       "      <td>3:40:30 AM</td>\n",
       "      <td>3:40:55 AM</td>\n",
       "      <td>?</td>\n",
       "      <td>20:26:52</td>\n",
       "      <td>10/02/2010</td>\n",
       "      <td>250</td>\n",
       "      <td>?</td>\n",
       "      <td>13230</td>\n",
       "      <td>73612</td>\n",
       "      <td>-15095500</td>\n",
       "      <td>?</td>\n",
       "      <td>clinicianOnsetIncorrect</td>\n",
       "      <td>12</td>\n",
       "      <td>2</td>\n",
       "    </tr>\n",
       "    <tr>\n",
       "      <th>4</th>\n",
       "      <td>12</td>\n",
       "      <td>3</td>\n",
       "      <td>1:24:41 PM</td>\n",
       "      <td>1:26:18 PM</td>\n",
       "      <td>?</td>\n",
       "      <td>04:20:07</td>\n",
       "      <td>10/03/2010</td>\n",
       "      <td>250</td>\n",
       "      <td>?</td>\n",
       "      <td>48281</td>\n",
       "      <td>15607</td>\n",
       "      <td>8168500</td>\n",
       "      <td>?</td>\n",
       "      <td>clinicianOnsetIncorrect</td>\n",
       "      <td>12</td>\n",
       "      <td>3</td>\n",
       "    </tr>\n",
       "  </tbody>\n",
       "</table>\n",
       "</div>"
      ],
      "text/plain": [
       "   DAY  SZR#        ONSET       OFFSET SOZ_CHAN FILE_ONSET      DDMMYR  \\\n",
       "0   11     1  10:11:29 AM  10:14:08 AM   RHD1-2   10:08:12  10/01/2010   \n",
       "1   11     2   2:36:00 PM   2:27:46 PM      NaN   14:32:42  10/01/2010   \n",
       "2   12     1   4:21:38 AM   4:22:08 AM        ?   13:22:04  10/02/2010   \n",
       "3   12     2   3:40:30 AM   3:40:55 AM        ?   20:26:52  10/02/2010   \n",
       "4   12     3   1:24:41 PM   1:26:18 PM        ?   04:20:07  10/03/2010   \n",
       "\n",
       "   SRATE_HZ NOTES  ONSET_SEC  FILE_ONSET_SEC  ONSET_TPT DG_ONSET_CHAN  \\\n",
       "0       250     ?      36689           36492      49250        RHD1-2   \n",
       "1       250     ?      52560           52362      49500        LHD1-2   \n",
       "2       250     ?      15698           48124   -8106500             ?   \n",
       "3       250     ?      13230           73612  -15095500             ?   \n",
       "4       250     ?      48281           15607    8168500             ?   \n",
       "\n",
       "            USE4CLASSIFIER  DAY.1  SZR#.1  \n",
       "0   clinicianOnsetTooEarly     11       1  \n",
       "1                      use     11       2  \n",
       "2  clinicianOnsetIncorrect     12       1  \n",
       "3  clinicianOnsetIncorrect     12       2  \n",
       "4  clinicianOnsetIncorrect     12       3  "
      ]
     },
     "execution_count": 35,
     "metadata": {},
     "output_type": "execute_result"
    }
   ],
   "source": [
    "onset_df.head()"
   ]
  },
  {
   "cell_type": "code",
   "execution_count": 81,
   "metadata": {
    "collapsed": false
   },
   "outputs": [
    {
     "name": "stdout",
     "output_type": "stream",
     "text": [
      "3 usable szrs:\n",
      "['CO_d11_sz2', 'CO_d8_sz3', 'CO_d9_sz1']\n"
     ]
    }
   ],
   "source": [
    "use_ser=onset_df['USE4CLASSIFIER']\n",
    "use_szrs=list()\n",
    "# onset_chans=list()\n",
    "for row_id, quality in enumerate(use_ser):\n",
    "    if quality=='use':\n",
    "        szr_name=sub+'_d'+str(onset_df.iloc[row_id,0])+'_sz'+str(onset_df.iloc[row_id,1])\n",
    "        use_szrs.append(szr_name)\n",
    "#         onset_chans.append(onset_df.iloc[row_id,12])\n",
    "n_use_szrs=len(use_szrs)\n",
    "print('%d usable szrs:' % n_use_szrs)\n",
    "print(use_szrs)\n",
    "# print(onset_chans)"
   ]
  },
  {
   "cell_type": "code",
   "execution_count": 28,
   "metadata": {
    "collapsed": false
   },
   "outputs": [
    {
     "data": {
      "text/plain": [
       "'/Users/davidgroppe/ONGOING/TWH_EEG/'"
      ]
     },
     "execution_count": 28,
     "metadata": {},
     "output_type": "execute_result"
    }
   ],
   "source": [
    "# Figure out how many time windows of data we'll have so we can preallocate memory?\n",
    "ieeg_root"
   ]
  },
  {
   "cell_type": "code",
   "execution_count": 3,
   "metadata": {
    "collapsed": false
   },
   "outputs": [
    {
     "name": "stdout",
     "output_type": "stream",
     "text": [
      "Loading /Users/davidgroppe/ONGOING/TWH_EEG/NA/EEG_MAT/NA_d1_sz2.mat\n"
     ]
    }
   ],
   "source": [
    "szr_name_full='NA_d1_sz2.mat'\n",
    "ieeg, Sf, tpts_sec=ief.import_ieeg(szr_name_full)"
   ]
  },
  {
   "cell_type": "code",
   "execution_count": 31,
   "metadata": {
    "collapsed": false
   },
   "outputs": [
    {
     "name": "stdout",
     "output_type": "stream",
     "text": [
      "chans 31\n",
      "tpts 93500\n"
     ]
    }
   ],
   "source": [
    "imp.reload(ief)\n",
    "wind_len=Sf\n",
    "wind_step=Sf/10\n",
    "vltg_ftrs, moving_wind_sec, ftr_list=ief.cmpt_vltg_ftrs(ieeg, wind_len, wind_step, tpts_sec)"
   ]
  },
  {
   "cell_type": "code",
   "execution_count": 9,
   "metadata": {
    "collapsed": false
   },
   "outputs": [
    {
     "data": {
      "text/plain": [
       "(31, 5, 1860)"
      ]
     },
     "execution_count": 9,
     "metadata": {},
     "output_type": "execute_result"
    }
   ],
   "source": [
    "vltg_ftrs.shape"
   ]
  },
  {
   "cell_type": "code",
   "execution_count": 32,
   "metadata": {
    "collapsed": false
   },
   "outputs": [
    {
     "data": {
      "image/png": "[encoded data removed]",
      "text/plain": [
       "<matplotlib.figure.Figure at 0x1273b44e0>"
      ]
     },
     "metadata": {},
     "output_type": "display_data"
    }
   ],
   "source": [
    "# Not Log scaled\n",
    "_=plt.hist(np.squeeze(vltg_ftrs[12,4,:]),bins=100)"
   ]
  },
  {
   "cell_type": "code",
   "execution_count": 30,
   "metadata": {
    "collapsed": false
   },
   "outputs": [
    {
     "data": {
      "image/png": "[encoded data removed]",
      "text/plain": [
       "<matplotlib.figure.Figure at 0x127825860>"
      ]
     },
     "metadata": {},
     "output_type": "display_data"
    }
   ],
   "source": [
    "# Log scaled\n",
    "_=plt.hist(np.squeeze(vltg_ftrs[12,4,:]),bins=100)"
   ]
  },
  {
   "cell_type": "code",
   "execution_count": 43,
   "metadata": {
    "collapsed": false
   },
   "outputs": [
    {
     "data": {
      "text/plain": [
       "(5, 1860)"
      ]
     },
     "execution_count": 43,
     "metadata": {},
     "output_type": "execute_result"
    }
   ],
   "source": [
    "bro.shape"
   ]
  },
  {
   "cell_type": "code",
   "execution_count": 47,
   "metadata": {
    "collapsed": false,
    "scrolled": true
   },
   "outputs": [
    {
     "data": {
      "image/png": "[encoded data removed]",
      "text/plain": [
       "<matplotlib.figure.Figure at 0x126ff0f98>"
      ]
     },
     "metadata": {},
     "output_type": "display_data"
    }
   ],
   "source": [
    "# db_pwr=np.squeeze(db_pwr)\n",
    "bro=np.squeeze(vltg_ftrs[12,:,:])\n",
    "for a in range(bro.shape[0]):\n",
    "    _=plt.plot(bro[a,:].T,label=ftr_list[a])\n",
    "_=plt.legend(loc='upper left')\n",
    "# _=plt.plot(peri_ictal*20,'k-')\n",
    "# _=plt.plot(db_pwr[0,:,:].T)\n",
    "# db_pwr.shape"
   ]
  },
  {
   "cell_type": "code",
   "execution_count": 90,
   "metadata": {
    "collapsed": false
   },
   "outputs": [
    {
     "data": {
      "text/plain": [
       "(6, 3040)"
      ]
     },
     "execution_count": 90,
     "metadata": {},
     "output_type": "execute_result"
    }
   ],
   "source": [
    "bro=np.squeeze(db_pwr)\n",
    "bro.shape"
   ]
  },
  {
   "cell_type": "code",
   "execution_count": null,
   "metadata": {
    "collapsed": true
   },
   "outputs": [],
   "source": [
    "os.ex"
   ]
  }
 ],
 "metadata": {
  "anaconda-cloud": {},
  "kernelspec": {
   "display_name": "Python 3",
   "language": "python",
   "name": "python3"
  },
  "language_info": {
   "codemirror_mode": {
    "name": "ipython",
    "version": 3
   },
   "file_extension": ".py",
   "mimetype": "text/x-python",
   "name": "python",
   "nbconvert_exporter": "python",
   "pygments_lexer": "ipython3",
   "version": "3.5.2"
  }
 },
 "nbformat": 4,
 "nbformat_minor": 1
}
