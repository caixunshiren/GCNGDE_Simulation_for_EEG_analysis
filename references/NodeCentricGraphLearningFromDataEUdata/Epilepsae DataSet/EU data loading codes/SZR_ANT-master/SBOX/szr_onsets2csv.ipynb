{
 "cells": [
  {
   "cell_type": "markdown",
   "metadata": {
    "deletable": true,
    "editable": true
   },
   "source": [
    "# Read seizure onsets from \"all szrs\" html file and output them to a csv file"
   ]
  },
  {
   "cell_type": "code",
   "execution_count": 16,
   "metadata": {
    "collapsed": true,
    "deletable": true,
    "editable": true
   },
   "outputs": [],
   "source": [
    "import pandas as pd\n",
    "import os\n",
    "import numpy as np\n",
    "from datetime import datetime\n",
    "import pickle"
   ]
  },
  {
   "cell_type": "code",
   "execution_count": 3,
   "metadata": {
    "collapsed": false,
    "deletable": true,
    "editable": true
   },
   "outputs": [
    {
     "name": "stdout",
     "output_type": "stream",
     "text": [
      "4 tables read\n",
      "This code expects 4 tables.\n"
     ]
    }
   ],
   "source": [
    "sub='1146'\n",
    "#metadata_dir='/Users/davidgroppe/PycharmProjects/SZR_ANT/EU_METADATA'\n",
    "metadata_dir='/Users/davidgroppe/GIT/OCSVM_EDMSE/matlab/EU/metadata'\n",
    "htable=pd.read_html(os.path.join(metadata_dir,'all_szrs_FR_'+sub+'.html'))\n",
    "print('%d tables read' % len(htable))\n",
    "print('This code expects 4 tables.')"
   ]
  },
  {
   "cell_type": "code",
   "execution_count": 6,
   "metadata": {
    "collapsed": false,
    "deletable": true,
    "editable": true
   },
   "outputs": [
    {
     "name": "stdout",
     "output_type": "stream",
     "text": [
      "9 clinical szrs\n",
      "\n",
      "Onset: 21.06.2009 11:52:24.783203\n",
      "Offset: 21.06.2009 11:54:26.308594\n",
      "Duration: 2 minute(s) 1.525391 sec\n",
      "\n",
      "Onset: 21.06.2009 13:56:49.808594\n",
      "Offset: 21.06.2009 13:58:43.708008\n",
      "Duration: 1 minute(s) 53.899414 sec\n",
      "\n",
      "Onset: 22.06.2009 10:33:35.216797\n",
      "Offset: 22.06.2009 10:35:32.900391\n",
      "Duration: 1 minute(s) 57.683594 sec\n",
      "\n",
      "Onset: 22.06.2009 14:58:49.866211\n",
      "Offset: 22.06.2009 15:00:51.375000\n",
      "Duration: 2 minute(s) 1.508789 sec\n",
      "\n",
      "Onset: 23.06.2009 10:13:36.033203\n",
      "Offset: 23.06.2009 10:16:13.383789\n",
      "Duration: 2 minute(s) 37.350586 sec\n",
      "\n",
      "Onset: 23.06.2009 11:45:01.008789\n",
      "Offset: 23.06.2009 11:47:03.908203\n",
      "Duration: 2 minute(s) 2.899414 sec\n",
      "\n",
      "Onset: 23.06.2009 14:25:52.366211\n",
      "Offset: 23.06.2009 14:27:52.616211\n",
      "Duration: 2 minute(s) 0.250000 sec\n",
      "\n",
      "Onset: 23.06.2009 16:09:33.741211\n",
      "Offset: 23.06.2009 16:11:57.724609\n",
      "Duration: 2 minute(s) 23.983398 sec\n",
      "\n",
      "Onset: 24.06.2009 14:00:30.941406\n",
      "Offset: 24.06.2009 14:01:43.983398\n",
      "Duration: 1 minute(s) 13.041992 sec\n",
      "22 subclinical szrs\n",
      "\n",
      "Onset: 18.06.2009 13:02:50\n",
      "Offset: 18.06.2009 13:03:28\n",
      "Duration: 2 minute(s) 1.525391 sec\n",
      "\n",
      "Onset: 18.06.2009 14:22:46\n",
      "Offset: 18.06.2009 14:23:19\n",
      "Duration: 1 minute(s) 53.899414 sec\n",
      "\n",
      "Onset: 18.06.2009 16:12:08\n",
      "Offset: 18.06.2009 16:12:49\n",
      "Duration: 1 minute(s) 57.683594 sec\n",
      "\n",
      "Onset: 18.06.2009 16:31:51\n",
      "Offset: 18.06.2009 16:32:21\n",
      "Duration: 2 minute(s) 1.508789 sec\n",
      "\n",
      "Onset: 18.06.2009 19:12:12\n",
      "Offset: 18.06.2009 19:12:49\n",
      "Duration: 2 minute(s) 37.350586 sec\n",
      "\n",
      "Onset: 18.06.2009 23:36:24\n",
      "Offset: 18.06.2009 23:36:33\n",
      "Duration: 2 minute(s) 2.899414 sec\n",
      "\n",
      "Onset: 19.06.2009 07:19:24\n",
      "Offset: 19.06.2009 07:19:55\n",
      "Duration: 2 minute(s) 0.250000 sec\n",
      "\n",
      "Onset: 20.06.2009 00:11:15\n",
      "Offset: 20.06.2009 00:11:27\n",
      "Duration: 2 minute(s) 23.983398 sec\n",
      "\n",
      "Onset: 20.06.2009 00:15:18\n",
      "Offset: 20.06.2009 00:15:56\n",
      "Duration: 1 minute(s) 13.041992 sec\n",
      "\n",
      "Onset: 20.06.2009 23:16:52\n",
      "Offset: 20.06.2009 23:17:05\n",
      "Duration: 0 minute(s) 38.000000 sec\n",
      "\n",
      "Onset: 21.06.2009 03:45:44\n",
      "Offset: 21.06.2009 03:46:19\n",
      "Duration: 0 minute(s) 33.000000 sec\n",
      "\n",
      "Onset: 21.06.2009 05:07:26\n",
      "Offset: 21.06.2009 05:07:49\n",
      "Duration: 0 minute(s) 41.000000 sec\n",
      "\n",
      "Onset: 21.06.2009 08:07:39\n",
      "Offset: 21.06.2009 08:08:07\n",
      "Duration: 0 minute(s) 30.000000 sec\n",
      "\n",
      "Onset: 21.06.2009 18:05:31\n",
      "Offset: 21.06.2009 18:06:05\n",
      "Duration: 0 minute(s) 37.000000 sec\n",
      "\n",
      "Onset: 21.06.2009 18:41:45\n",
      "Offset: 21.06.2009 18:42:09\n",
      "Duration: 0 minute(s) 9.000000 sec\n",
      "\n",
      "Onset: 21.06.2009 19:24:54\n",
      "Offset: 21.06.2009 19:27:07\n",
      "Duration: 0 minute(s) 31.000000 sec\n",
      "\n",
      "Onset: 21.06.2009 20:18:00\n",
      "Offset: 21.06.2009 20:18:35\n",
      "Duration: 0 minute(s) 12.000000 sec\n",
      "\n",
      "Onset: 21.06.2009 20:25:39\n",
      "Offset: 21.06.2009 20:26:20\n",
      "Duration: 0 minute(s) 38.000000 sec\n",
      "\n",
      "Onset: 21.06.2009 23:52:53\n",
      "Offset: 21.06.2009 23:53:05\n",
      "Duration: 0 minute(s) 13.000000 sec\n",
      "\n",
      "Onset: 22.06.2009 02:19:46\n",
      "Offset: 22.06.2009 02:19:58\n",
      "Duration: 0 minute(s) 35.000000 sec\n",
      "\n",
      "Onset: 22.06.2009 05:29:42\n",
      "Offset: 22.06.2009 05:30:28\n",
      "Duration: 0 minute(s) 23.000000 sec\n",
      "\n",
      "Onset: 22.06.2009 06:54:53\n",
      "Offset: 22.06.2009 06:55:04\n",
      "Duration: 0 minute(s) 28.000000 sec\n"
     ]
    }
   ],
   "source": [
    "# FIRST TABLE IS CLINICAL SZRS\n",
    "# Convert clinical onset/offsets to datetime\n",
    "n_clinical_szr=htable[0].shape[0]\n",
    "print('%d clinical szrs' % n_clinical_szr)\n",
    "szr_onset_sec=list()\n",
    "szr_offset_sec=list()\n",
    "szr_onset_str=list()\n",
    "szr_offset_str=list()\n",
    "szr_type=list()\n",
    "\n",
    "#milestone=datetime(1970,1,1)\n",
    "milestone=datetime(2000,1,1) # Arbirary date via which to convert times into seconds\n",
    "#milestone=datetime(2009,6,21)\n",
    "\n",
    "for a in range(n_clinical_szr):\n",
    "    szr_type.append('Clinical')\n",
    "    \n",
    "    print()\n",
    "    # Convert onset to seconds since milestone\n",
    "    temp_lst=htable[0].iloc[a,2].split(' ')\n",
    "    temp_lst[1]=temp_lst[1].replace(\"'\",\"20\")\n",
    "    print('Onset: '+temp_lst[1]+' '+temp_lst[2])\n",
    "    hr_splt=temp_lst[2].split(':')\n",
    "    temp_dt=datetime.strptime(temp_lst[1],'%d.%m.%Y')\n",
    "    ttl_sec=(temp_dt-milestone).total_seconds()\n",
    "    ttl_sec+=int(hr_splt[0])*3600+int(hr_splt[1])*60+float(hr_splt[2])\n",
    "    szr_onset_sec.append(ttl_sec)\n",
    "    szr_onset_str.append(temp_lst[1]+' '+temp_lst[2])\n",
    "    \n",
    "    # Convert offset to seconds since milestone\n",
    "    temp_lst=htable[0].iloc[a,3].split(' ')\n",
    "    temp_lst[1]=temp_lst[1].replace(\"'\",\"20\")\n",
    "    print('Offset: '+temp_lst[1]+' '+temp_lst[2])\n",
    "    hr_splt=temp_lst[2].split(':')\n",
    "    temp_dt=datetime.strptime(temp_lst[1],'%d.%m.%Y')\n",
    "    ttl_sec=(temp_dt-milestone).total_seconds()\n",
    "    ttl_sec+=int(hr_splt[0])*3600+int(hr_splt[1])*60+float(hr_splt[2])\n",
    "    szr_offset_sec.append(ttl_sec)\n",
    "    szr_offset_str.append(temp_lst[1]+' '+temp_lst[2])\n",
    "\n",
    "    df=szr_offset_sec[a]-szr_onset_sec[a]\n",
    "    mnts=np.floor(df/60)\n",
    "    scs=df-mnts*60\n",
    "    print('Duration: %d minute(s) %f sec' % (mnts,scs))\n",
    "    \n",
    "    \n",
    "# THIRD TABLE IS CLINICAL SZRS\n",
    "# Convert SUBclinical onset/offsets to datetime\n",
    "n_subclinical_szr=htable[2].shape[0]-1 # subtract 1 because last row is a total\n",
    "print('%d subclinical szrs' % n_subclinical_szr)\n",
    "\n",
    "for a in range(n_subclinical_szr):\n",
    "    szr_type.append('Subclinical')\n",
    "        \n",
    "    print()\n",
    "    # Convert onset to seconds since milestone\n",
    "    temp_lst=htable[2].iloc[a,1].split(' ')\n",
    "    temp_lst[0]=temp_lst[0].replace(\"'\",\"20\")\n",
    "    print('Onset: '+temp_lst[0]+' '+temp_lst[1])\n",
    "    hr_splt=temp_lst[1].split(':')\n",
    "    temp_dt=datetime.strptime(temp_lst[0],'%d.%m.%Y')\n",
    "    ttl_sec=(temp_dt-milestone).total_seconds()\n",
    "    ttl_sec+=int(hr_splt[0])*3600+int(hr_splt[1])*60+float(hr_splt[2])\n",
    "    #print(ttl_sec)\n",
    "    szr_onset_sec.append(ttl_sec)\n",
    "    szr_onset_str.append(temp_lst[0]+' '+temp_lst[1])\n",
    "    \n",
    "    # Convert offset to seconds since milestone\n",
    "    temp_hr=htable[2].iloc[a,2]\n",
    "    print('Offset: '+temp_lst[0]+' '+temp_hr)\n",
    "    hr_splt=temp_hr.split(':')\n",
    "    ttl_sec=(temp_dt-milestone).total_seconds()\n",
    "    ttl_sec+=int(hr_splt[0])*3600+int(hr_splt[1])*60+float(hr_splt[2])\n",
    "    szr_offset_sec.append(ttl_sec)\n",
    "    szr_offset_str.append(temp_lst[0]+' '+temp_hr)\n",
    "\n",
    "    df=szr_offset_sec[a]-szr_onset_sec[a]\n",
    "    mnts=np.floor(df/60)\n",
    "    scs=df-mnts*60\n",
    "    print('Duration: %d minute(s) %f sec' % (mnts,scs))\n"
   ]
  },
  {
   "cell_type": "code",
   "execution_count": 7,
   "metadata": {
    "collapsed": true,
    "deletable": true,
    "editable": true
   },
   "outputs": [],
   "source": [
    "# Create DataFrame\n",
    "szr_on_off_df=pd.DataFrame({'SzrType': szr_type,\n",
    "                           'SzrOnsetSec': szr_onset_sec,\n",
    "                           'SzrOffsetSec': szr_offset_sec,\n",
    "                           'SzrOnsetStr': szr_onset_str,\n",
    "                           'SzrOffsetStr': szr_offset_str})"
   ]
  },
  {
   "cell_type": "code",
   "execution_count": 12,
   "metadata": {
    "collapsed": false,
    "deletable": true,
    "editable": true
   },
   "outputs": [],
   "source": [
    "#szr_on_off_df.sort('SzrOnsetSec');\n",
    "#szr_on_off_df.sort_values(by, axis=0, ascending=True, inplace=False, kind='quicksort', na_position='last')\n",
    "szr_on_off_df.sort_values('SzrOnsetSec',inplace=True)"
   ]
  },
  {
   "cell_type": "code",
   "execution_count": 13,
   "metadata": {
    "collapsed": false,
    "deletable": true,
    "editable": true
   },
   "outputs": [
    {
     "data": {
      "text/html": [
       "<div>\n",
       "<table border=\"1\" class=\"dataframe\">\n",
       "  <thead>\n",
       "    <tr style=\"text-align: right;\">\n",
       "      <th></th>\n",
       "      <th>SzrOffsetSec</th>\n",
       "      <th>SzrOffsetStr</th>\n",
       "      <th>SzrOnsetSec</th>\n",
       "      <th>SzrOnsetStr</th>\n",
       "      <th>SzrType</th>\n",
       "    </tr>\n",
       "  </thead>\n",
       "  <tbody>\n",
       "    <tr>\n",
       "      <th>9</th>\n",
       "      <td>298645408.0</td>\n",
       "      <td>18.06.2009 13:03:28</td>\n",
       "      <td>298645370.0</td>\n",
       "      <td>18.06.2009 13:02:50</td>\n",
       "      <td>Subclinical</td>\n",
       "    </tr>\n",
       "    <tr>\n",
       "      <th>10</th>\n",
       "      <td>298650199.0</td>\n",
       "      <td>18.06.2009 14:23:19</td>\n",
       "      <td>298650166.0</td>\n",
       "      <td>18.06.2009 14:22:46</td>\n",
       "      <td>Subclinical</td>\n",
       "    </tr>\n",
       "    <tr>\n",
       "      <th>11</th>\n",
       "      <td>298656769.0</td>\n",
       "      <td>18.06.2009 16:12:49</td>\n",
       "      <td>298656728.0</td>\n",
       "      <td>18.06.2009 16:12:08</td>\n",
       "      <td>Subclinical</td>\n",
       "    </tr>\n",
       "    <tr>\n",
       "      <th>12</th>\n",
       "      <td>298657941.0</td>\n",
       "      <td>18.06.2009 16:32:21</td>\n",
       "      <td>298657911.0</td>\n",
       "      <td>18.06.2009 16:31:51</td>\n",
       "      <td>Subclinical</td>\n",
       "    </tr>\n",
       "    <tr>\n",
       "      <th>13</th>\n",
       "      <td>298667569.0</td>\n",
       "      <td>18.06.2009 19:12:49</td>\n",
       "      <td>298667532.0</td>\n",
       "      <td>18.06.2009 19:12:12</td>\n",
       "      <td>Subclinical</td>\n",
       "    </tr>\n",
       "  </tbody>\n",
       "</table>\n",
       "</div>"
      ],
      "text/plain": [
       "    SzrOffsetSec         SzrOffsetStr  SzrOnsetSec          SzrOnsetStr  \\\n",
       "9    298645408.0  18.06.2009 13:03:28  298645370.0  18.06.2009 13:02:50   \n",
       "10   298650199.0  18.06.2009 14:23:19  298650166.0  18.06.2009 14:22:46   \n",
       "11   298656769.0  18.06.2009 16:12:49  298656728.0  18.06.2009 16:12:08   \n",
       "12   298657941.0  18.06.2009 16:32:21  298657911.0  18.06.2009 16:31:51   \n",
       "13   298667569.0  18.06.2009 19:12:49  298667532.0  18.06.2009 19:12:12   \n",
       "\n",
       "        SzrType  \n",
       "9   Subclinical  \n",
       "10  Subclinical  \n",
       "11  Subclinical  \n",
       "12  Subclinical  \n",
       "13  Subclinical  "
      ]
     },
     "execution_count": 13,
     "metadata": {},
     "output_type": "execute_result"
    }
   ],
   "source": [
    "szr_on_off_df.head()"
   ]
  },
  {
   "cell_type": "code",
   "execution_count": 15,
   "metadata": {
    "collapsed": false,
    "deletable": true,
    "editable": true
   },
   "outputs": [
    {
     "name": "stdout",
     "output_type": "stream",
     "text": [
      "Saving file to:\n",
      "/Users/davidgroppe/PycharmProjects/SZR_ANT/EU_METADATA/szr_on_off_FR_1146.csv\n"
     ]
    }
   ],
   "source": [
    "# Output to csv\n",
    "# out_path='/Users/davidgroppe/PycharmProjects/SZR_ANT/EU_METADATA'\n",
    "# out_fname=os.path.join(out_path,'szr_on_off_FR_'+str(sub)+'.csv')\n",
    "# print('Saving file to:')\n",
    "# print(out_fname)\n",
    "# szr_on_off_df.to_csv(out_fname)"
   ]
  },
  {
   "cell_type": "code",
   "execution_count": 19,
   "metadata": {
    "collapsed": false,
    "deletable": true,
    "editable": true
   },
   "outputs": [
    {
     "name": "stdout",
     "output_type": "stream",
     "text": [
      "Saving file to:\n",
      "/Users/davidgroppe/PycharmProjects/SZR_ANT/EU_METADATA/szr_on_off_FR_1146.pkl\n"
     ]
    }
   ],
   "source": [
    "# Output to pkl\n",
    "out_path='/Users/davidgroppe/PycharmProjects/SZR_ANT/EU_METADATA'\n",
    "out_fname=os.path.join(out_path,'szr_on_off_FR_'+str(sub)+'.pkl')\n",
    "print('Saving file to:')\n",
    "print(out_fname)\n",
    "#pickle.dump(args,open('args.pickle','wb'))\n",
    "pickle.dump(szr_on_off_df,open(out_fname,'wb'))"
   ]
  },
  {
   "cell_type": "code",
   "execution_count": null,
   "metadata": {
    "collapsed": true,
    "deletable": true,
    "editable": true
   },
   "outputs": [],
   "source": []
  }
 ],
 "metadata": {
  "anaconda-cloud": {},
  "kernelspec": {
   "display_name": "Python [conda root]",
   "language": "python",
   "name": "conda-root-py"
  },
  "language_info": {
   "codemirror_mode": {
    "name": "ipython",
    "version": 3
   },
   "file_extension": ".py",
   "mimetype": "text/x-python",
   "name": "python",
   "nbconvert_exporter": "python",
   "pygments_lexer": "ipython3",
   "version": "3.5.3"
  }
 },
 "nbformat": 4,
 "nbformat_minor": 2
}
