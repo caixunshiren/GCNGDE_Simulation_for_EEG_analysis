{
 "cells": [
  {
   "cell_type": "code",
   "execution_count": 2,
   "metadata": {
    "collapsed": true
   },
   "outputs": [],
   "source": [
    "import numpy as np\n",
    "import pandas as pd\n",
    "import scipy.io\n",
    "import os\n",
    "import ieeg_funcs as ief\n",
    "import dgFuncs as dg\n",
    "from sklearn import preprocessing\n",
    "import sys\n",
    "import pickle\n",
    "from scipy import stats\n",
    "import matplotlib.pyplot as plt\n",
    "from sklearn.externals import joblib\n",
    "from sklearn import metrics\n",
    "%matplotlib inline"
   ]
  },
  {
   "cell_type": "code",
   "execution_count": 3,
   "metadata": {
    "collapsed": false
   },
   "outputs": [
    {
     "name": "stdout",
     "output_type": "stream",
     "text": [
      "10 models found\n",
      "['model0.pkl', 'model1.pkl', 'model2.pkl', 'model3.pkl', 'model4.pkl', 'model5.pkl', 'model6.pkl', 'model7.pkl', 'model8.pkl', 'model9.pkl']\n",
      "['valid_sens', 'C_ct', 'valid_bal_acc', 'train_subs_list', 'valid_spec', 'try_C', 'train_sens', 'pptn_missed_szrs', 'ftr_types', 'left_out_id', 'train_spec', 'mn_stim_latency', 'train_bal_acc']\n",
      "10 training patients\n",
      "5 feature types\n"
     ]
    }
   ],
   "source": [
    "# Get list of models\n",
    "model_name='code_testing_svm'\n",
    "#model_name='code_testing'\n",
    "path_dict=ief.get_path_dict()\n",
    "model_path=os.path.join(path_dict['szr_ant_root'],'MODELS',model_name)\n",
    "model_list=[]\n",
    "for f in os.listdir(model_path):\n",
    "    if f.endswith('.pkl'):\n",
    "        model_list.append(f)\n",
    "n_models=len(model_list)\n",
    "print('%d models found' % n_models)\n",
    "print(model_list)\n",
    "\n",
    "metrics_fname=os.path.join(model_path,'classification_metrics.npz')\n",
    "metrics_dict=np.load(metrics_fname)\n",
    "print(metrics_dict.keys())\n",
    "train_subs=metrics_dict['train_subs_list']\n",
    "n_subs=len(train_subs)\n",
    "print('%d training patients' % n_subs)\n",
    "ftr_types=metrics_dict['ftr_types']\n",
    "n_ftrs=len(ftr_types)\n",
    "print('%d feature types' % n_ftrs)"
   ]
  },
  {
   "cell_type": "code",
   "execution_count": 4,
   "metadata": {
    "collapsed": false
   },
   "outputs": [
    {
     "name": "stdout",
     "output_type": "stream",
     "text": [
      "/Users/davidgroppe/PycharmProjects/SZR_ANT/MODELS/code_testing_svm/model0.pkl\n"
     ]
    }
   ],
   "source": [
    "model_list[0]\n",
    "in_fname=os.path.join(path_dict['szr_ant_root'],'MODELS',model_name,model_list[0])\n",
    "print(in_fname)\n",
    "temp_model=joblib.load(in_fname)\n",
    "#temp_model=pickle.load(open(in_fname,'rb'))\n",
    "#args=pickle.load(open('args.pickle','rb'))\n",
    "bro=temp_model.get_params()"
   ]
  },
  {
   "cell_type": "code",
   "execution_count": 5,
   "metadata": {
    "collapsed": true
   },
   "outputs": [],
   "source": [
    "def n_clust(binary_ts):\n",
    "    \"\"\" binary_ts is a boolean one dimensional time series. \n",
    "    This function returns the number of contiguous clusters of True values in the time series\"\"\"\n",
    "    n_true_clust=0\n",
    "    in_clust=False\n",
    "    clust_onset_ids=list()\n",
    "    clust_offset_ids=list()\n",
    "    for t_ct, t in enumerate(binary_ts):\n",
    "        if t==True and in_clust==False:\n",
    "            # new cluster started\n",
    "            in_clust=True\n",
    "            n_true_clust+=1\n",
    "            clust_onset_ids.append(t_ct)\n",
    "        elif t==False and in_clust==True:\n",
    "            # cluster just finished\n",
    "            in_clust=False\n",
    "            clust_offset_ids.append(t_ct)\n",
    "    return n_true_clust, clust_onset_ids, clust_offset_ids"
   ]
  },
  {
   "cell_type": "code",
   "execution_count": 6,
   "metadata": {
    "collapsed": false,
    "scrolled": true
   },
   "outputs": [
    {
     "name": "stdout",
     "output_type": "stream",
     "text": [
      "Trying these smoothing factors: [ 0.1   0.15  0.2   0.25  0.3   0.35  0.4   0.45  0.5   0.55  0.6   0.65\n",
      "  0.7   0.75  0.8   0.85  0.9   0.95  1.  ]\n",
      "Importing data for BH\n",
      "Importing data for IM\n",
      "Importing data for LM\n",
      "Importing data for CV\n",
      "Importing data for CJ\n",
      "Importing data for CO\n",
      "Importing data for IB\n",
      "Importing data for JW\n",
      "Importing data for RB\n",
      "Importing data for TF\n"
     ]
    }
   ],
   "source": [
    "smooth_fact=np.arange(0.1,1.05,.05)\n",
    "#smooth_fact=np.arange(0,8)\n",
    "n_fact=len(smooth_fact)\n",
    "group_auc=np.zeros((n_subs,n_fact))\n",
    "group_detect=np.zeros((n_subs,n_fact)) # Mean # of seizures that were correctly detected\n",
    "group_fp_clust=np.zeros((n_subs,n_fact)) # Mean # of false positive clusters\n",
    "print('Trying these smoothing factors: {}'.format(smooth_fact))\n",
    "bal_acc=np.zeros(n_subs) # GET RID OF THIS LATER\n",
    "\n",
    "# Loop over subs\n",
    "for sub_ct, lo_sub in enumerate(train_subs):\n",
    "    # Import data for left out subject\n",
    "    print('Importing data for %s' % lo_sub)\n",
    "    \n",
    "    # Get input data dimensions to pre-allocate memory\n",
    "    n_szrs=np.nan\n",
    "    ftr_dim=0 # the same for all szrs\n",
    "    szr_n_tpts=list() # varies across szrs\n",
    "    ftr_fnames=dict()\n",
    "    for ftr_ct, ftr in enumerate(ftr_types):\n",
    "        ftr_dir=os.path.join(path_dict['szr_ant_root'],'FTRS',ftr,lo_sub)\n",
    "        ffile_list=[]\n",
    "        for fname in os.listdir(ftr_dir):\n",
    "            if fname.endswith('.npz'):\n",
    "                ffile_list.append(fname)\n",
    "        if np.isnan(n_szrs):\n",
    "            # How many seizures does patient have?\n",
    "            n_szrs=len(ffile_list)\n",
    "        ftr_fnames[ftr_ct]=ffile_list\n",
    "        in_file=os.path.join(ftr_dir,ffile_list[0])\n",
    "        temp_ftrs=np.load(in_file)\n",
    "        ftr_dim+=temp_ftrs['ftrs'].shape[0]\n",
    "        if ftr_ct==0:\n",
    "            # figure out the # of time points in each szr\n",
    "            for szr_ct in range(n_szrs):\n",
    "                in_file=os.path.join(ftr_dir,ffile_list[szr_ct])\n",
    "                temp_ftrs=np.load(in_file)\n",
    "                szr_n_tpts.append(temp_ftrs['ftrs'].shape[1])\n",
    "    #print('%d szrs for %s' % (n_szrs,lo_sub))\n",
    "    \n",
    "    # Loop over szrs\n",
    "    auc_this_sub=np.zeros((n_szrs,n_fact))\n",
    "    for szr_ct in range(n_szrs):\n",
    "        # Load input features\n",
    "        in_ftrs=np.zeros((ftr_dim,szr_n_tpts[szr_ct]))\n",
    "        ftr_ct=0\n",
    "        for ftr_loop, ftr in enumerate(ftr_types):\n",
    "            ftr_fname=os.path.join(path_dict['szr_ant_root'],'FTRS',ftr,lo_sub,ftr_fnames[ftr_loop][szr_ct])\n",
    "            in_dict=np.load(ftr_fname)\n",
    "            temp_n_ftrs=in_dict['ftrs'].shape[0]\n",
    "            in_ftrs[ftr_ct:ftr_ct+temp_n_ftrs,:]=in_dict['ftrs']\n",
    "            ftr_ct+=temp_n_ftrs\n",
    "        y=in_dict['peri_ictal']\n",
    "        \n",
    "        # Apply classifiers\n",
    "        #for class_ct, model in enumerate(model_list):\n",
    "        # Load model that was trained WITHOUT the data from this subject\n",
    "        model_fname=os.path.join(model_path,model_list[sub_ct])\n",
    "        #print('Loading %s' % model_fname)\n",
    "        temp_model=joblib.load(model_fname)\n",
    "        y_hat=temp_model.predict(in_ftrs.T)\n",
    "        \n",
    "        # Compute balance accuracy to verify with existing code\n",
    "        onset_tpts=(y==1)\n",
    "        tpr=np.mean(y_hat[onset_tpts])\n",
    "        preonset_tpts=(y==0)\n",
    "        fpr=np.mean(y_hat[preonset_tpts])\n",
    "        bal_acc[sub_ct]+=(tpr+(1-fpr))/(2*n_szrs) #balanced accuracy\n",
    "        \n",
    "        # Try various degrees of causal smoothing\n",
    "        for fact_ct, try_fact in enumerate(smooth_fact):\n",
    "            #smooth data\n",
    "            y_hat_smooth=np.copy(y_hat)\n",
    "            alph=try_fact\n",
    "            #alph=1/(2**try_fact)\n",
    "            for t in range(1,len(y_hat)):\n",
    "                y_hat_smooth[t]=y_hat_smooth[t]*alph+y_hat_smooth[t-1]*(1-alph)\n",
    "            # Was there at least one correct detection?\n",
    "            group_detect[sub_ct,fact_ct]+=(np.sum(y_hat_smooth[onset_tpts]>=0.5)>0)/n_szrs\n",
    "            n_contig_fp, _, _=n_clust(y_hat_smooth[preonset_tpts]>=0.5)\n",
    "            group_fp_clust[sub_ct,fact_ct]+=n_contig_fp/n_szrs\n",
    "            #print(np.sum(y_hat_smooth[onset_tpts]))\n",
    "                \n",
    "            # Compute AUC\n",
    "            fpr, tpr, thresholds = metrics.roc_curve(y, y_hat_smooth, pos_label=1)\n",
    "            auc_this_sub[szr_ct,fact_ct]=metrics.auc(fpr, tpr)\n",
    "        group_auc[sub_ct,:]=np.mean(auc_this_sub,axis=0) #average across szrs\n",
    "            "
   ]
  },
  {
   "cell_type": "code",
   "execution_count": 7,
   "metadata": {
    "collapsed": false
   },
   "outputs": [
    {
     "name": "stdout",
     "output_type": "stream",
     "text": [
      "Smooth factor 0.100000 AUC=0.611441, detect=0.900000, # of fp clust=5.410588\n",
      "Smooth factor 0.150000 AUC=0.613477, detect=0.916667, # of fp clust=6.109412\n",
      "Smooth factor 0.200000 AUC=0.616943, detect=0.916667, # of fp clust=6.450392\n",
      "Smooth factor 0.250000 AUC=0.623049, detect=0.916667, # of fp clust=6.891373\n",
      "Smooth factor 0.300000 AUC=0.629879, detect=0.925000, # of fp clust=7.463235\n",
      "Smooth factor 0.350000 AUC=0.637256, detect=0.925000, # of fp clust=7.463235\n",
      "Smooth factor 0.400000 AUC=0.645787, detect=0.925000, # of fp clust=7.535784\n",
      "Smooth factor 0.450000 AUC=0.652280, detect=0.925000, # of fp clust=7.561667\n",
      "Smooth factor 0.500000 AUC=0.660179, detect=0.975000, # of fp clust=8.094706\n",
      "Smooth factor 0.550000 AUC=0.666414, detect=0.975000, # of fp clust=8.094706\n",
      "Smooth factor 0.600000 AUC=0.671386, detect=0.975000, # of fp clust=8.094706\n",
      "Smooth factor 0.650000 AUC=0.675920, detect=0.975000, # of fp clust=8.094706\n",
      "Smooth factor 0.700000 AUC=0.680769, detect=0.975000, # of fp clust=8.094706\n",
      "Smooth factor 0.750000 AUC=0.684690, detect=0.975000, # of fp clust=8.094706\n",
      "Smooth factor 0.800000 AUC=0.688018, detect=0.975000, # of fp clust=8.094706\n",
      "Smooth factor 0.850000 AUC=0.691209, detect=0.975000, # of fp clust=8.094706\n",
      "Smooth factor 0.900000 AUC=0.692743, detect=0.975000, # of fp clust=8.094706\n",
      "Smooth factor 0.950000 AUC=0.695842, detect=0.975000, # of fp clust=8.094706\n",
      "Smooth factor 1.000000 AUC=0.688609, detect=0.975000, # of fp clust=8.094706\n",
      "smooth factor of 1=NO smoothing\n"
     ]
    }
   ],
   "source": [
    "for fact_ct in range(n_fact):\n",
    "    print('Smooth factor %f AUC=%f, detect=%f, # of fp clust=%f' % \n",
    "          (smooth_fact[fact_ct],\n",
    "           np.mean(group_auc[:,fact_ct]),\n",
    "           np.mean(group_detect[:,fact_ct]),\n",
    "           np.mean(group_fp_clust[:,fact_ct])))\n",
    "print('smooth factor of 1=NO smoothing')    \n",
    "# print(np.mean(group_detect,axis=0))\n",
    "# print(np.mean(group_fp_clust,axis=0))"
   ]
  },
  {
   "cell_type": "code",
   "execution_count": 18,
   "metadata": {
    "collapsed": false
   },
   "outputs": [
    {
     "name": "stdout",
     "output_type": "stream",
     "text": [
      "BH: bal_acc=0.761439, auc=0.607479\n",
      "IM: bal_acc=0.979201, auc=0.837067\n",
      "LM: bal_acc=0.665323, auc=0.508389\n",
      "CV: bal_acc=0.883356, auc=0.801623\n",
      "CJ: bal_acc=0.880667, auc=0.760292\n",
      "CO: bal_acc=0.902508, auc=0.796285\n",
      "IB: bal_acc=0.729636, auc=0.662739\n",
      "JW: bal_acc=0.769836, auc=0.648049\n",
      "RB: bal_acc=0.840380, auc=0.747048\n",
      "TF: bal_acc=0.657150, auc=0.517117\n",
      "0.806949425546\n"
     ]
    },
    {
     "data": {
      "image/png": "[encoded data removed]",
      "text/plain": [
       "<matplotlib.figure.Figure at 0x120383ef0>"
      ]
     },
     "metadata": {},
     "output_type": "display_data"
    }
   ],
   "source": [
    "for sub_ct, sub in enumerate(train_subs):\n",
    "    print('%s: bal_acc=%f, auc=%f' % (sub,bal_acc[sub_ct],group_auc[sub_ct,-1]))\n",
    "print(np.mean(bal_acc))\n",
    "\n",
    "plt.figure(2)\n",
    "plt.clf()\n",
    "plt.stem(bal_acc,'b');\n",
    "plt.stem(group_auc[:,-1],'g')\n",
    "xlim=plt.xlim()\n",
    "plt.plot(xlim,[0.5, 0.5],'k--')\n",
    "plt.xticks(np.arange(0,n_subs),train_subs);"
   ]
  },
  {
   "cell_type": "code",
   "execution_count": 9,
   "metadata": {
    "collapsed": false
   },
   "outputs": [
    {
     "data": {
      "text/plain": [
       "[<matplotlib.lines.Line2D at 0x11a3e0cc0>]"
      ]
     },
     "execution_count": 9,
     "metadata": {},
     "output_type": "execute_result"
    },
    {
     "data": {
      "image/png": "[encoded data removed]",
      "text/plain": [
       "<matplotlib.figure.Figure at 0x1192698d0>"
      ]
     },
     "metadata": {},
     "output_type": "display_data"
    }
   ],
   "source": [
    "plt.figure(1)\n",
    "plt.clf()\n",
    "plt.plot(in_ftrs[:6,:].T);\n",
    "#plt.plot(in_dict['peri_ictal']*20,'k-')\n",
    "plt.plot(y*20,'k-')\n",
    "plt.plot(y_hat*20,'r-o')\n",
    "#plt.plot(y_hat_smooth*20,'g-o')"
   ]
  },
  {
   "cell_type": "code",
   "execution_count": null,
   "metadata": {
    "collapsed": false
   },
   "outputs": [],
   "source": [
    "n_bro, onset_ids, offset_ids=n_clust(y_hat)\n",
    "n_bro, onset_ids, offset_ids=n_clust(y_hat[y==0])\n",
    "print(n_bro)\n",
    "print(onset_ids)\n",
    "print(offset_ids)"
   ]
  },
  {
   "cell_type": "code",
   "execution_count": null,
   "metadata": {
    "collapsed": false
   },
   "outputs": [],
   "source": [
    "plt.figure(1)\n",
    "plt.clf()\n",
    "plt.plot(in_ftrs);"
   ]
  },
  {
   "cell_type": "code",
   "execution_count": 28,
   "metadata": {
    "collapsed": false
   },
   "outputs": [
    {
     "name": "stdout",
     "output_type": "stream",
     "text": [
      "['ftrs', 'time_wind_sec', 'peri_ictal', 'onset_chan_id', 'onset_chan', 'ftr_list']\n",
      "0\n",
      "LHD1-2\n"
     ]
    }
   ],
   "source": [
    "bro=np.load('/Users/davidgroppe/PycharmProjects/SZR_ANT/FTRS/MAG_LAG8/BH/BH_d10_sz1_bpmag_lag8.npz')\n",
    "print(bro.keys())\n",
    "print(bro['onset_chan_id'])\n",
    "print(bro['onset_chan'])"
   ]
  },
  {
   "cell_type": "code",
   "execution_count": 20,
   "metadata": {
    "collapsed": false
   },
   "outputs": [],
   "source": [
    "bro=np.load('/Users/davidgroppe/PycharmProjects/SZR_ANT/FTRS/MAG_LAG8/BH/BH_d10_sz1_bpmag_lag8.npz')"
   ]
  },
  {
   "cell_type": "code",
   "execution_count": 21,
   "metadata": {
    "collapsed": false
   },
   "outputs": [
    {
     "data": {
      "text/plain": [
       "['ftr_list', 'ftrs', 'peri_ictal', 'time_wind_sec']"
      ]
     },
     "execution_count": 21,
     "metadata": {},
     "output_type": "execute_result"
    }
   ],
   "source": [
    "bro.keys()"
   ]
  },
  {
   "cell_type": "code",
   "execution_count": null,
   "metadata": {
    "collapsed": false
   },
   "outputs": [],
   "source": [
    "n_ftrs\n"
   ]
  },
  {
   "cell_type": "code",
   "execution_count": null,
   "metadata": {
    "collapsed": false
   },
   "outputs": [],
   "source": [
    "temp_ftrs.keys()\n",
    "temp_ftrs['ftrs'].shape"
   ]
  },
  {
   "cell_type": "code",
   "execution_count": null,
   "metadata": {
    "collapsed": true
   },
   "outputs": [],
   "source": []
  },
  {
   "cell_type": "code",
   "execution_count": null,
   "metadata": {
    "collapsed": true
   },
   "outputs": [],
   "source": []
  },
  {
   "cell_type": "code",
   "execution_count": null,
   "metadata": {
    "collapsed": true
   },
   "outputs": [],
   "source": []
  },
  {
   "cell_type": "code",
   "execution_count": null,
   "metadata": {
    "collapsed": true
   },
   "outputs": [],
   "source": []
  }
 ],
 "metadata": {
  "anaconda-cloud": {},
  "kernelspec": {
   "display_name": "Python [conda root]",
   "language": "python",
   "name": "conda-root-py"
  },
  "language_info": {
   "codemirror_mode": {
    "name": "ipython",
    "version": 3
   },
   "file_extension": ".py",
   "mimetype": "text/x-python",
   "name": "python",
   "nbconvert_exporter": "python",
   "pygments_lexer": "ipython3",
   "version": "3.5.3"
  }
 },
 "nbformat": 4,
 "nbformat_minor": 2
}
