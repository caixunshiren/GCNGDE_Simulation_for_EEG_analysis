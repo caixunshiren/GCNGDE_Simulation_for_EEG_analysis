{
 "cells": [
  {
   "cell_type": "markdown",
   "metadata": {
    "deletable": true,
    "editable": true
   },
   "source": [
    "# This script imports the start and stop times for all patient data files so that you can see what breaks there are in the data\n",
    "(out of date; now done with script export_EU_data_times.py)"
   ]
  },
  {
   "cell_type": "code",
   "execution_count": 11,
   "metadata": {
    "collapsed": true,
    "deletable": true,
    "editable": true
   },
   "outputs": [],
   "source": [
    "import pandas as pd\n",
    "import os\n",
    "import numpy as np\n",
    "from datetime import datetime\n",
    "import matplotlib.pyplot as plt\n",
    "%matplotlib inline"
   ]
  },
  {
   "cell_type": "code",
   "execution_count": 47,
   "metadata": {
    "collapsed": false,
    "deletable": true,
    "editable": true
   },
   "outputs": [
    {
     "name": "stdout",
     "output_type": "stream",
     "text": [
      "165 header files found\n"
     ]
    }
   ],
   "source": [
    "# Get list of header files\n",
    "sub='1096'\n",
    "header_dir='/Users/davidgroppe/PycharmProjects/SZR_ANT/EU_METADATA/'+sub+'_headers/'\n",
    "temp_files=os.listdir(header_dir)\n",
    "hdr_files=list()\n",
    "for a in temp_files:\n",
    "    if a.endswith('.head'):\n",
    "        hdr_files.append(a)\n",
    "n_hdr=len(hdr_files)\n",
    "print('%d header files found' % n_hdr)"
   ]
  },
  {
   "cell_type": "code",
   "execution_count": 50,
   "metadata": {
    "collapsed": false
   },
   "outputs": [],
   "source": [
    "start_sec=list()\n",
    "stop_sec=list()\n",
    "start_str=list()\n",
    "stop_str=list()\n",
    "file_dur=list()\n",
    "file_gaps=np.zeros(n_hdr)\n",
    "\n",
    "#milestone=datetime(1970,1,1)\n",
    "milestone=datetime(2000,1,1) # Arbirary date via which to convert times into seconds\n",
    "#milestone=datetime(2009,6,21)\n",
    "gap_ct=0\n",
    "for hdr_fname in hdr_files:\n",
    "    in_fname=os.path.join(header_dir,hdr_fname)\n",
    "    hdr_df=pd.read_csv(in_fname,sep='=',header=None,names=['Type','Value'])\n",
    "    start_str.append(hdr_df.iloc[0,1])\n",
    "    dat_splt=start_str[-1].split(' ')\n",
    "    \n",
    "    temp_dt=datetime.strptime(dat_splt[0],'%Y-%m-%d')\n",
    "    ttl_sec=(temp_dt-milestone).total_seconds() # # of seconds since Jan. 1 2000 since the day started\n",
    "    hr_splt=dat_splt[1].split(':')\n",
    "    ttl_sec+=int(hr_splt[0])*3600+int(hr_splt[1])*60+float(hr_splt[2])\n",
    "    start_sec.append(ttl_sec)\n",
    "    n_samp=int(hdr_df.iloc[1,1]) # of time points in the file\n",
    "    Fs=int(hdr_df.iloc[2,1]) #sampling rate\n",
    "    stop_sec.append(ttl_sec+n_samp/Fs) # offset of file in seconds\n",
    "    file_dur.append(stop_sec[-1]-start_sec[-1]) #duration of file in seconds\n",
    "    \n",
    "    if len(stop_sec)>1:\n",
    "        file_gaps[gap_ct]=start_sec[-1]-stop_sec[-2]\n",
    "        gap_ct+=1"
   ]
  },
  {
   "cell_type": "code",
   "execution_count": 32,
   "metadata": {
    "collapsed": false
   },
   "outputs": [
    {
     "name": "stdout",
     "output_type": "stream",
     "text": [
      "Gap=0.000000, occurences=1\n",
      "Gap=1.000000, occurences=111\n",
      "Gap=2.000000, occurences=43\n",
      "Gap=3.000000, occurences=2\n",
      "Gap=5.000000, occurences=3\n",
      "Gap=23.000000, occurences=1\n",
      "Gap=221.000000, occurences=1\n",
      "Gap=228.000000, occurences=1\n",
      "Gap=266.000000, occurences=1\n",
      "Gap=296.000000, occurences=1\n"
     ]
    }
   ],
   "source": [
    "uni_gaps, uni_ct=np.unique(file_gaps,return_counts=True)\n",
    "for loopy in range(len(uni_gaps)):\n",
    "    print('Gap=%f, occurences=%d' % (uni_gaps[loopy],uni_ct[loopy]))"
   ]
  },
  {
   "cell_type": "code",
   "execution_count": 43,
   "metadata": {
    "collapsed": false
   },
   "outputs": [
    {
     "data": {
      "image/png": "[encoded data removed]",
      "text/plain": [
       "<matplotlib.figure.Figure at 0x11a2055c0>"
      ]
     },
     "metadata": {},
     "output_type": "display_data"
    }
   ],
   "source": [
    "# Plot start and stop of each file to look for really big gaps\n",
    "plt.figure(1)\n",
    "plt.clf()\n",
    "# plt.plot([start_sec[0], stop_sec[-1]],[0, 0],'r-')\n",
    "for hdr_ct in range(n_hdr):\n",
    "    plt.plot([start_sec[hdr_ct], stop_sec[hdr_ct]],[1, 1],'b-')\n",
    "plt.xlim([start_sec[0], stop_sec[-1]]);"
   ]
  },
  {
   "cell_type": "code",
   "execution_count": 52,
   "metadata": {
    "collapsed": false
   },
   "outputs": [
    {
     "data": {
      "text/html": [
       "<div>\n",
       "<table border=\"1\" class=\"dataframe\">\n",
       "  <thead>\n",
       "    <tr style=\"text-align: right;\">\n",
       "      <th></th>\n",
       "      <th>DurationSec</th>\n",
       "      <th>HeaderFname</th>\n",
       "      <th>StartSec</th>\n",
       "      <th>StartStr</th>\n",
       "      <th>StopSec</th>\n",
       "    </tr>\n",
       "  </thead>\n",
       "  <tbody>\n",
       "    <tr>\n",
       "      <th>0</th>\n",
       "      <td>3600.0</td>\n",
       "      <td>109600102_0000.head</td>\n",
       "      <td>298641241.0</td>\n",
       "      <td>2009-06-18 11:54:01.000</td>\n",
       "      <td>298644841.0</td>\n",
       "    </tr>\n",
       "    <tr>\n",
       "      <th>1</th>\n",
       "      <td>3600.0</td>\n",
       "      <td>109600102_0001.head</td>\n",
       "      <td>298644842.0</td>\n",
       "      <td>2009-06-18 12:54:02.000</td>\n",
       "      <td>298648442.0</td>\n",
       "    </tr>\n",
       "    <tr>\n",
       "      <th>2</th>\n",
       "      <td>3600.0</td>\n",
       "      <td>109600102_0002.head</td>\n",
       "      <td>298648443.0</td>\n",
       "      <td>2009-06-18 13:54:03.000</td>\n",
       "      <td>298652043.0</td>\n",
       "    </tr>\n",
       "    <tr>\n",
       "      <th>3</th>\n",
       "      <td>3600.0</td>\n",
       "      <td>109600102_0003.head</td>\n",
       "      <td>298652045.0</td>\n",
       "      <td>2009-06-18 14:54:05.000</td>\n",
       "      <td>298655645.0</td>\n",
       "    </tr>\n",
       "    <tr>\n",
       "      <th>4</th>\n",
       "      <td>3600.0</td>\n",
       "      <td>109600102_0004.head</td>\n",
       "      <td>298655646.0</td>\n",
       "      <td>2009-06-18 15:54:06.000</td>\n",
       "      <td>298659246.0</td>\n",
       "    </tr>\n",
       "  </tbody>\n",
       "</table>\n",
       "</div>"
      ],
      "text/plain": [
       "   DurationSec          HeaderFname     StartSec                 StartStr  \\\n",
       "0       3600.0  109600102_0000.head  298641241.0  2009-06-18 11:54:01.000   \n",
       "1       3600.0  109600102_0001.head  298644842.0  2009-06-18 12:54:02.000   \n",
       "2       3600.0  109600102_0002.head  298648443.0  2009-06-18 13:54:03.000   \n",
       "3       3600.0  109600102_0003.head  298652045.0  2009-06-18 14:54:05.000   \n",
       "4       3600.0  109600102_0004.head  298655646.0  2009-06-18 15:54:06.000   \n",
       "\n",
       "       StopSec  \n",
       "0  298644841.0  \n",
       "1  298648442.0  \n",
       "2  298652043.0  \n",
       "3  298655645.0  \n",
       "4  298659246.0  "
      ]
     },
     "execution_count": 52,
     "metadata": {},
     "output_type": "execute_result"
    }
   ],
   "source": [
    "# Create datafram\n",
    "file_times=pd.DataFrame({'HeaderFname': hdr_files,\n",
    "                        'StartSec': start_sec,\n",
    "                        'StopSec': stop_sec,\n",
    "                        'DurationSec':file_dur,\n",
    "                        'StartStr': start_str})\n",
    "file_times.head()"
   ]
  },
  {
   "cell_type": "code",
   "execution_count": 53,
   "metadata": {
    "collapsed": false
   },
   "outputs": [
    {
     "name": "stdout",
     "output_type": "stream",
     "text": [
      "Saving file to:\n",
      "/Users/davidgroppe/PycharmProjects/SZR_ANT/EU_METADATA/data_on_off_FR_1096.csv\n"
     ]
    }
   ],
   "source": [
    "# Output to csv so MATLAB can read it\n",
    "out_path='/Users/davidgroppe/PycharmProjects/SZR_ANT/EU_METADATA'\n",
    "out_fname=os.path.join(out_path,'data_on_off_FR_'+str(sub)+'.csv')\n",
    "print('Saving file to:')\n",
    "print(out_fname)\n",
    "file_times.to_csv(out_fname)"
   ]
  },
  {
   "cell_type": "code",
   "execution_count": null,
   "metadata": {
    "collapsed": true
   },
   "outputs": [],
   "source": []
  }
 ],
 "metadata": {
  "anaconda-cloud": {},
  "kernelspec": {
   "display_name": "Python [conda root]",
   "language": "python",
   "name": "conda-root-py"
  },
  "language_info": {
   "codemirror_mode": {
    "name": "ipython",
    "version": 3
   },
   "file_extension": ".py",
   "mimetype": "text/x-python",
   "name": "python",
   "nbconvert_exporter": "python",
   "pygments_lexer": "ipython3",
   "version": "3.5.3"
  }
 },
 "nbformat": 4,
 "nbformat_minor": 2
}
