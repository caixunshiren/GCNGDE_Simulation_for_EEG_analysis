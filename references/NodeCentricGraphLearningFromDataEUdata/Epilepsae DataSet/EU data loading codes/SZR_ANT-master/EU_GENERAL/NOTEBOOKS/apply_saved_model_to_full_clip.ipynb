{
 "cells": [
  {
   "cell_type": "markdown",
   "metadata": {},
   "source": [
    "# Loads an ensemble of models, applies it to all of the data in a patient's clip (usually an hour), and outputs the classifier results to disk"
   ]
  },
  {
   "cell_type": "code",
   "execution_count": 1,
   "metadata": {
    "collapsed": true
   },
   "outputs": [],
   "source": [
    "# Libraries\n",
    "import numpy as np\n",
    "import scipy.io as sio\n",
    "import os\n",
    "import pickle\n",
    "# import re\n",
    "import ieeg_funcs as ief\n",
    "import dgFuncs as dg\n",
    "from sklearn import preprocessing\n",
    "# from scipy import stats\n",
    "# from mpl_toolkits.axes_grid1 import make_axes_locatable\n",
    "from sklearn import svm, linear_model\n",
    "from sklearn.metrics import roc_auc_score\n",
    "from sklearn.externals import joblib\n",
    "import matplotlib.pyplot as plt\n",
    "%matplotlib inline\n"
   ]
  },
  {
   "cell_type": "code",
   "execution_count": 2,
   "metadata": {},
   "outputs": [
    {
     "data": {
      "text/plain": [
       "<module 'dgFuncs' from '/Users/davidgroppe/PycharmProjects/DG_LIBRARY/dgFuncs.py'>"
      ]
     },
     "execution_count": 2,
     "metadata": {},
     "output_type": "execute_result"
    }
   ],
   "source": [
    "import imp \n",
    "imp.reload(dg) "
   ]
  },
  {
   "cell_type": "code",
   "execution_count": 3,
   "metadata": {
    "collapsed": true
   },
   "outputs": [],
   "source": [
    "# Function for extracting channel names from filename\n",
    "def chan_labels_from_fname(in_file):\n",
    "    just_fname=in_file.split('/')[-1]\n",
    "    jf_splt=just_fname.split('_')\n",
    "    chan_label=jf_splt[1]+'-'+jf_splt[2]\n",
    "    return chan_label"
   ]
  },
  {
   "cell_type": "code",
   "execution_count": 4,
   "metadata": {
    "collapsed": true
   },
   "outputs": [],
   "source": [
    "# Get list of electrodes for the subject\n",
    "def sub_soz_elec_names(sub,ftr_root):\n",
    "    soz_elec_names=list()\n",
    "    szr_fname_dict=dict()\n",
    "    non_elec_names=list()\n",
    "    \n",
    "    ftr_path=os.path.join(ftr_root,str(sub))\n",
    "    for f in os.listdir(ftr_path):\n",
    "            if f.endswith('non.mat'):\n",
    "                non_elec_names.append(chan_labels_from_fname(f))\n",
    "            elif f.endswith('.mat') and f.startswith(str(sub)+'_'):\n",
    "                temp_label=chan_labels_from_fname(f)\n",
    "                if temp_label in soz_elec_names:\n",
    "                    szr_fname_dict[soz_elec_names[-1]].append(f)\n",
    "                else:\n",
    "                    soz_elec_names.append(temp_label)\n",
    "                    szr_fname_dict[temp_label]=[f]\n",
    "                    \n",
    "    soz_elec_names=np.unique(soz_elec_names)\n",
    "    non_elec_names=np.unique(non_elec_names)\n",
    "    print('%d total # of SOZ electrodes for this sub' % len(soz_elec_names))\n",
    "        \n",
    "    return soz_elec_names, szr_fname_dict"
   ]
  },
  {
   "cell_type": "code",
   "execution_count": 5,
   "metadata": {
    "collapsed": true
   },
   "outputs": [],
   "source": [
    "# sub=1096\n",
    "# szr_ftr_root='/home/dgroppe/GIT/SZR_ANT/EU_GENERAL/EU_GENERAL_FTRS/SE/'\n",
    "# soz_elec_list, _=sub_soz_elec_names(sub,szr_ftr_root)\n",
    "# print(soz_elec_names)"
   ]
  },
  {
   "cell_type": "code",
   "execution_count": 17,
   "metadata": {
    "collapsed": true
   },
   "outputs": [],
   "source": [
    "# Get filenames grouped by time chunk\n",
    "def continuous_fnames(sub, cont_ftr_root, szr_ftr_root):\n",
    "    #/home/dgroppe/EU_SE_FTRS/1096_all\n",
    "\n",
    "    # Get list of SOZ electrodes\n",
    "    soz_elec_names, _=sub_soz_elec_names(sub,szr_ftr_root)\n",
    "    first_chans=soz_elec_names[0].split('-')\n",
    "#     print(first_chans)\n",
    "    \n",
    "    # Get list of all time clips\n",
    "    ftr_path=os.path.join(cont_ftr_root,str(sub)+'_all')\n",
    "    clip_list=list()\n",
    "#     print(ftr_path)\n",
    "#     print(str(sub)+'_'+first_chans[0]+'_'+first_chans[1])\n",
    "    for f in os.listdir(ftr_path):\n",
    "        if f.startswith(str(sub)+'_'+first_chans[0]+'_'+first_chans[1]):\n",
    "            stem=f.split('.')[0]\n",
    "            splt_stem=stem.split('_')\n",
    "            clip_list.append(splt_stem[3]+'_'+splt_stem[4])\n",
    "            \n",
    "    # Loop over soz electrodes and make sure time chunk exists for each electrode\n",
    "    flag=False\n",
    "    for chan in soz_elec_names[1:]: #skip first electrode because we know files exist\n",
    "        mono_chans=chan.split('-')\n",
    "        for clip in clip_list:\n",
    "            fname=str(sub)+'_'+mono_chans[0]+'_'+mono_chans[1]+'_'+clip+'.mat'\n",
    "            f=os.path.join(ftr_path,fname)\n",
    "            if os.path.isfile(f)==False:\n",
    "                print('Error: missing file %s' % f)\n",
    "                flag=True\n",
    "    if flag==False:\n",
    "        print('All files accounted for. Proceed.')\n",
    "        \n",
    "    return clip_list, soz_elec_names"
   ]
  },
  {
   "cell_type": "code",
   "execution_count": 106,
   "metadata": {},
   "outputs": [
    {
     "name": "stdout",
     "output_type": "stream",
     "text": [
      "8 total # of SOZ electrodes for this sub\n",
      "All files accounted for. Proceed.\n",
      "# of clips 4\n"
     ]
    }
   ],
   "source": [
    "# Get list of files\n",
    "sub=1096\n",
    "# cont_ftr_root='/home/dgroppe/EU_SE_FTRS/'\n",
    "# szr_ftr_root='/home/dgroppe/GIT/SZR_ANT/EU_GENERAL/EU_GENERAL_FTRS/SE/'\n",
    "cont_ftr_root='/Users/davidgroppe/ONGOING/EU_SE_FTRS/'\n",
    "szr_ftr_root='/Users/davidgroppe/PycharmProjects/SZR_ANT/EU_GENERAL/EU_GENERAL_FTRS/SE/'\n",
    "clip_list, soz_elec_names=continuous_fnames(sub, cont_ftr_root, szr_ftr_root)\n",
    "n_chan=len(soz_elec_names)\n",
    "print('# of clips %d' % len(clip_list))"
   ]
  },
  {
   "cell_type": "code",
   "execution_count": 107,
   "metadata": {},
   "outputs": [
    {
     "name": "stdout",
     "output_type": "stream",
     "text": [
      "# of models= 5\n",
      "Working on clip 109600102_0000\n",
      "Saving yhat to /Users/davidgroppe/ONGOING/EU_YHAT/1096_genLogregSe_3/109600102_0000_yhat\n",
      "Working on clip 109600102_0001\n",
      "Saving yhat to /Users/davidgroppe/ONGOING/EU_YHAT/1096_genLogregSe_3/109600102_0001_yhat\n",
      "Working on clip 109600102_0002\n",
      "Saving yhat to /Users/davidgroppe/ONGOING/EU_YHAT/1096_genLogregSe_3/109600102_0002_yhat\n",
      "Working on clip 109600102_0072\n",
      "Saving yhat to /Users/davidgroppe/ONGOING/EU_YHAT/1096_genLogregSe_3/109600102_0072_yhat\n",
      "Done\n"
     ]
    }
   ],
   "source": [
    "# Load models\n",
    "#model_name='genSvmSe_3'\n",
    "model_name='genLogregSe_3'\n",
    "#model_type='svm'\n",
    "model_type='logreg'\n",
    "#model_fname=os.path.join('/home/dgroppe/GIT/SZR_ANT/MODELS/',model_name,'classify_models_srch.pkl')\n",
    "model_fname=os.path.join('/Users/davidgroppe/PycharmProjects/SZR_ANT/MODELS/',model_name,'classify_models_srch.pkl')\n",
    "models=pickle.load(open(model_fname,'rb'))\n",
    "n_models=len(models)\n",
    "print('# of models= %d' % n_models)\n",
    "\n",
    "# tpt span of moving windo via which to smooth p(stim)\n",
    "mv_wind_len=20 # Sampling rate should 10 Hz\n",
    "\n",
    "# Outpath\n",
    "out_root='/Users/davidgroppe/ONGOING/EU_YHAT/'\n",
    "out_path=os.path.join(out_root,str(sub)+'_'+model_name)\n",
    "if os.path.exists(out_path)==False:\n",
    "    os.mkdir(out_path)\n",
    "\n",
    "# Load params for normalization\n",
    "subsamp_ftr_root='/Users/davidgroppe/PycharmProjects/SZR_ANT/EU_GENERAL/EU_GENERAL_FTRS/SE/'\n",
    "#subsamp_ftr_root='/home/dgroppe/GIT/SZR_ANT/EU_GENERAL/EU_GENERAL_FTRS/SE/'\n",
    "subsamp_ftr_path=os.path.join(subsamp_ftr_root,str(sub))\n",
    "mns_dict=dict()\n",
    "sds_dict=dict()\n",
    "for chan in soz_elec_names:\n",
    "    mono_chans=chan.split('-')\n",
    "    nonszr_fname=str(sub)+'_'+mono_chans[0]+'_'+mono_chans[1]+'_non.mat'\n",
    "    #print('Loading %s' % \n",
    "    temp_ftrs=sio.loadmat(os.path.join(subsamp_ftr_path,nonszr_fname))\n",
    "    # Z-score features\n",
    "    temp_mns, temp_sds=dg.trimmed_normalize(temp_ftrs['nonszr_se_ftrs'],0,\n",
    "                                            zero_nans=False,verbose=False)\n",
    "    mns_dict[chan]=temp_mns\n",
    "    sds_dict[chan]=temp_sds\n",
    "\n",
    "# plt.figure(1)\n",
    "# plt.clf()\n",
    "    \n",
    "# Loop over clips\n",
    "#for clip in clip_list[:1]:\n",
    "for clip in clip_list:\n",
    "    print('Working on clip %s' % clip)\n",
    "    # Loop over SOZ electrodes\n",
    "    for chan_ct, chan in enumerate(soz_elec_names):\n",
    "        mono_chans=chan.split('-')\n",
    "        # Load features\n",
    "        fname=str(sub)+'_'+mono_chans[0]+'_'+mono_chans[1]+'_'+clip+'.mat'\n",
    "        f=os.path.join(cont_ftr_root,str(sub)+'_all',fname)\n",
    "        temp_mat=sio.loadmat(f)\n",
    "\n",
    "        # Estimate p(szr)\n",
    "        raw_ftrs=temp_mat['se_ftrs']\n",
    "        # Z-score based on non-ictal means, SDs\n",
    "        dg.applyNormalize(raw_ftrs,mns_dict[chan],sds_dict[chan])\n",
    "        # Apply classifiers\n",
    "        for model_ct in range(n_models):\n",
    "            if model_type=='svm':\n",
    "                tmp_yhat_va = models[model_ct].predict(raw_ftrs.T)[:,1]\n",
    "            else:\n",
    "                tmp_yhat_va = models[model_ct].predict_proba(raw_ftrs.T)[:,1]\n",
    "            if model_ct==0:\n",
    "                yhat=np.zeros(tmp_yhat_va.shape)\n",
    "            yhat+=tmp_yhat_va/n_models\n",
    "        \n",
    "        # Smooth p(szr)\n",
    "        yhat_smooth=np.zeros(yhat.shape)\n",
    "        yhat_smooth[mv_wind_len-1:]=dg.running_mean(yhat,mv_wind_len)\n",
    "#         plt.plot(yhat_smooth,label=chan)\n",
    "        \n",
    "#         if chan=='HL6-HL7':\n",
    "#         #if chan=='HL5-HL6':\n",
    "#             yhat_check=np.copy(yhat_smooth)\n",
    "#             yhat_sec=temp_mat['se_time_sec']\n",
    "#             ieeg_check=temp_mat['ieeg']\n",
    "#             ieeg_sec=temp_mat['time_dec']\n",
    "        \n",
    "        # Collect max(p(szr)) for each time window\n",
    "        if chan_ct==0:\n",
    "            # first channel\n",
    "            max_yhat=np.copy(yhat_smooth)\n",
    "            yhat_soz_chans=np.zeros((n_chan,len(yhat_smooth)))\n",
    "        else:\n",
    "            max_yhat=np.maximum(max_yhat,yhat_smooth)\n",
    "        yhat_soz_chans[chan_ct,:]=yhat_smooth\n",
    "    \n",
    "    # Write to disk\n",
    "    out_fname=clip+'_yhat'\n",
    "    print('Saving yhat to %s' % os.path.join(out_path,out_fname))\n",
    "    np.savez(os.path.join(out_path,out_fname),\n",
    "                 max_yhat=max_yhat,\n",
    "                 yhat_soz_chans=yhat_soz_chans,\n",
    "                 yhat_sec=temp_mat['se_time_sec']) #note that time is relative to start of file (i.e., 0=first file tpt)\n",
    "    \n",
    "# plt.legend()\n",
    "print('Done')"
   ]
  },
  {
   "cell_type": "code",
   "execution_count": 109,
   "metadata": {},
   "outputs": [
    {
     "data": {
      "text/plain": [
       "[<matplotlib.lines.Line2D at 0x115445588>]"
      ]
     },
     "execution_count": 109,
     "metadata": {},
     "output_type": "execute_result"
    },
    {
     "data": {
      "image/png": "[encoded data removed]",
      "text/plain": [
       "<matplotlib.figure.Figure at 0x113865278>"
      ]
     },
     "metadata": {},
     "output_type": "display_data"
    }
   ],
   "source": [
    "temp_f='/Volumes/SgateOSExJnld/EU_TEMP/1096_all_labels/1096_y_109600102_0072.mat';\n",
    "bro=sio.loadmat(temp_f)\n",
    "bro.keys()\n",
    "\n",
    "plt.figure(1)\n",
    "plt.clf()\n",
    "plt.plot(np.squeeze(bro['se_szr_class']))"
   ]
  },
  {
   "cell_type": "code",
   "execution_count": 111,
   "metadata": {},
   "outputs": [
    {
     "data": {
      "text/plain": [
       "<matplotlib.text.Text at 0x1161b8748>"
      ]
     },
     "execution_count": 111,
     "metadata": {},
     "output_type": "execute_result"
    },
    {
     "data": {
      "image/png": "[encoded data removed]",
      "text/plain": [
       "<matplotlib.figure.Figure at 0x1159bba58>"
      ]
     },
     "metadata": {},
     "output_type": "display_data"
    }
   ],
   "source": [
    "xlim=[ieeg_sec[0,0], ieeg_sec[0,-1]]\n",
    "# xlim=[1100, 1250]\n",
    "# xlim=[600, 1200]\n",
    "# plt.figure(2)\n",
    "fig, ax = plt.subplots(2, 1, sharex=True, sharey=False)\n",
    "ax[0].plot(np.squeeze(ieeg_sec),np.squeeze(ieeg_check))\n",
    "ax[0].set_xlim(xlim)\n",
    "ax[0].set_ylabel('Voltage')\n",
    "\n",
    "ax[1].plot(np.squeeze(yhat_sec),np.squeeze(yhat_check))\n",
    "ax[1].set_xlabel('Sec')\n",
    "ax[1].set_ylabel('p(stim)')"
   ]
  },
  {
   "cell_type": "code",
   "execution_count": 63,
   "metadata": {},
   "outputs": [
    {
     "data": {
      "text/plain": [
       "3599.99755859375"
      ]
     },
     "execution_count": 63,
     "metadata": {},
     "output_type": "execute_result"
    }
   ],
   "source": [
    "ieeg_sec.shape\n",
    "ieeg_sec[0,-1]"
   ]
  },
  {
   "cell_type": "code",
   "execution_count": 52,
   "metadata": {},
   "outputs": [
    {
     "data": {
      "text/plain": [
       "(1, 921600)"
      ]
     },
     "execution_count": 52,
     "metadata": {},
     "output_type": "execute_result"
    }
   ],
   "source": [
    "ieeg_check.shape"
   ]
  },
  {
   "cell_type": "code",
   "execution_count": 48,
   "metadata": {},
   "outputs": [
    {
     "name": "stdout",
     "output_type": "stream",
     "text": [
      "dict_keys(['__version__', 'se_ftrs', 'se_szr_class', '__globals__', 'se_class', '__header__', 'ftr_labels', 'se_time_sec', 'time_dec', 'ieeg'])\n"
     ]
    },
    {
     "data": {
      "text/plain": [
       "array([ 0.1015625])"
      ]
     },
     "execution_count": 48,
     "metadata": {},
     "output_type": "execute_result"
    }
   ],
   "source": [
    "print(temp_mat.keys())\n",
    "temp_mat['se_time_sec'][:,1]-temp_mat['se_time_sec'][:,0]"
   ]
  },
  {
   "cell_type": "code",
   "execution_count": 27,
   "metadata": {
    "collapsed": true
   },
   "outputs": [],
   "source": [
    "bro=np.zeros(yhat.shape)\n",
    "sis=np.maximum(max_yhat,bro)"
   ]
  },
  {
   "cell_type": "code",
   "execution_count": 36,
   "metadata": {},
   "outputs": [
    {
     "data": {
      "text/plain": [
       "[<matplotlib.lines.Line2D at 0x118929160>]"
      ]
     },
     "execution_count": 36,
     "metadata": {},
     "output_type": "execute_result"
    },
    {
     "data": {
      "image/png": "[encoded data removed]",
      "text/plain": [
       "<matplotlib.figure.Figure at 0x116d75a90>"
      ]
     },
     "metadata": {},
     "output_type": "display_data"
    }
   ],
   "source": [
    "plt.figure(1)\n",
    "plt.clf()\n",
    "plt.plot(yhat)\n",
    "plt.plot(max_yhat,'r-')"
   ]
  },
  {
   "cell_type": "code",
   "execution_count": null,
   "metadata": {
    "collapsed": true
   },
   "outputs": [],
   "source": [
    "temp_flist=['/Volumes/SgateOSExJnld/EU_TEMP/1096_all/1096_HL2_HL3_109600102_0002.mat']"
   ]
  },
  {
   "cell_type": "code",
   "execution_count": null,
   "metadata": {
    "collapsed": true
   },
   "outputs": [],
   "source": [
    "# Load saved models\n",
    "model_fname='/Users/davidgroppe/PycharmProjects/SZR_ANT/MODELS/genLogregSe_3/classify_models_srch.pkl'\n",
    "models=pickle.load(open(model_fname,'rb'))\n",
    "n_models=len(models)\n",
    "print('# of models= %d' % n_models)"
   ]
  },
  {
   "cell_type": "code",
   "execution_count": null,
   "metadata": {
    "collapsed": true
   },
   "outputs": [],
   "source": [
    "sub=1096\n",
    "model_name='genLogregSe'\n",
    "yhat_dir=os.path.join('/Users/davidgroppe/PycharmProjects/SZR_ANT/MODELS/',model_name+'_yhat')\n",
    "ftr_root='/Users/davidgroppe/PycharmProjects/SZR_ANT/EU_GENERAL/EU_GENERAL_FTRS/SE/'\n",
    "# Get list of electrodes\n",
    "soz_elec_names, szr_fname_dict=sub_soz_elec_names(sub,ftr_root)\n",
    "ftr_path=os.path.join(ftr_root,str(sub))\n",
    "for elec in soz_elec_names[:1]:\n",
    "    # load non szr file\n",
    "    uni_chans=elec.split('-')\n",
    "    nonszr_fname=str(sub)+'_'+uni_chans[0]+'_'+uni_chans[1]+'_non.mat'\n",
    "    #print('Loading %s' % nonszr_fname)\n",
    "    temp_ftrs=sio.loadmat(os.path.join(ftr_path,nonszr_fname))\n",
    "    # Z-score features\n",
    "    temp_mns, temp_sds=dg.trimmed_normalize(temp_ftrs['nonszr_se_ftrs'],0,zero_nans=False,verbose=False)\n",
    "    \n",
    "    # get list of szr files\n",
    "    for szr_f in temp_flist:\n",
    "    #for szr_f in szr_fname_dict[elec]:\n",
    "        #load file\n",
    "#         print('Loading %s' % szr_f)\n",
    "        #temp_ftrs=sio.loadmat(os.path.join(ftr_path,szr_f))\n",
    "        temp_ftrs=sio.loadmat(szr_f)\n",
    "        raw_ftrs=temp_ftrs['se_ftrs']\n",
    "        # Z-score based on non-ictal means, SDs\n",
    "        dg.applyNormalize(raw_ftrs,temp_mns,temp_sds)\n",
    "        \n",
    "        # Apply classifiers\n",
    "        for model_ct in range(n_models):\n",
    "            tmp_yhat_va = models[model_ct].predict_proba(raw_ftrs.T)[:,1]\n",
    "            if model_ct==0:\n",
    "                yhat=np.zeros(tmp_yhat_va.shape)\n",
    "            yhat+=tmp_yhat_va/n_models\n",
    "#         out_fname=str(sub)+'_'+uni_chans[0]+'_'+uni_chans[1]+'_phat_'+szr_f.split('_')[-1]\n",
    "#         print('Saving file as %s' % out_fname)\n",
    "#         sio.savemat(os.path.join(yhat_dir,out_fname), mdict={'yhat': yhat,\n",
    "#                                                              'model_name': model_name,\n",
    "#                                                              'ftr_fname': szr_f})\n",
    "\n",
    "print('done')"
   ]
  },
  {
   "cell_type": "code",
   "execution_count": null,
   "metadata": {
    "collapsed": true
   },
   "outputs": [],
   "source": [
    "print(temp_ftrs.keys())\n",
    "print(temp_ftrs['se_time_sec'].shape)\n",
    "print(temp_ftrs['se_ftrs'].shape)\n",
    "print(tmp_yhat_va.shape)\n",
    "yhat.shape"
   ]
  },
  {
   "cell_type": "code",
   "execution_count": null,
   "metadata": {
    "collapsed": true
   },
   "outputs": [],
   "source": [
    "plt.figure(1)\n",
    "plt.plot(np.squeeze(temp_ftrs['se_time_sec']),yhat)\n",
    "plt.plot(np.squeeze(temp_ftrs['se_time_sec']),np.squeeze(temp_ftrs['se_szr_class']),'r-')\n",
    "\n",
    "plt.figure(2)\n",
    "plt.plot(np.squeeze(np.squeeze(temp_ftrs['time_dec'])),np.squeeze(temp_ftrs['ieeg']))"
   ]
  },
  {
   "cell_type": "code",
   "execution_count": null,
   "metadata": {
    "collapsed": true
   },
   "outputs": [],
   "source": [
    "temp_ftrs.keys()"
   ]
  },
  {
   "cell_type": "code",
   "execution_count": null,
   "metadata": {
    "collapsed": true
   },
   "outputs": [],
   "source": []
  }
 ],
 "metadata": {
  "anaconda-cloud": {},
  "kernelspec": {
   "display_name": "Python [default]",
   "language": "python",
   "name": "python3"
  },
  "language_info": {
   "codemirror_mode": {
    "name": "ipython",
    "version": 3
   },
   "file_extension": ".py",
   "mimetype": "text/x-python",
   "name": "python",
   "nbconvert_exporter": "python",
   "pygments_lexer": "ipython3",
   "version": "3.5.3"
  }
 },
 "nbformat": 4,
 "nbformat_minor": 2
}
