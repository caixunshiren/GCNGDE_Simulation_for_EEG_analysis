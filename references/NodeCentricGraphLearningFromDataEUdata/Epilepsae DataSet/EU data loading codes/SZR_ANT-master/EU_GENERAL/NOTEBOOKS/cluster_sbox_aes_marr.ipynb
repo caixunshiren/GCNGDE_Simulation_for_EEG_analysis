{
 "cells": [
  {
   "cell_type": "code",
   "execution_count": 1,
   "metadata": {},
   "outputs": [],
   "source": [
    "# Libraries\n",
    "import numpy as np\n",
    "import scipy.io as sio\n",
    "import os\n",
    "# import pickle\n",
    "# import ieeg_funcs as ief\n",
    "# import re\n",
    "import dgFuncs as dg\n",
    "from sklearn import preprocessing\n",
    "# from scipy import stats\n",
    "# from mpl_toolkits.axes_grid1 import make_axes_locatable\n",
    "#rom sklearn import svm, linear_model\n",
    "from sklearn.cluster import KMeans\n",
    "from sklearn.externals import joblib\n",
    "import matplotlib.pyplot as plt\n",
    "%matplotlib inline"
   ]
  },
  {
   "cell_type": "code",
   "execution_count": 2,
   "metadata": {},
   "outputs": [],
   "source": [
    "def kmeans_downsample(ftrs,downsample_fact):\n",
    "    \"\"\" ftrs = observations x ftr \"\"\"\n",
    "    n_obs=ftrs.shape[0]\n",
    "    print('%d observations, %d ftrs' % (n_obs,ftrs.shape[1]))\n",
    "    k=int(np.round(n_obs/downsample_fact))\n",
    "    print('Trying %d clusters' % k)\n",
    "    kclusters = KMeans(n_clusters=k).fit(ftrs)\n",
    "    return kclusters, k"
   ]
  },
  {
   "cell_type": "code",
   "execution_count": 3,
   "metadata": {},
   "outputs": [
    {
     "name": "stdout",
     "output_type": "stream",
     "text": [
      "['ftrs', 'szr_class', 'sub_id', 'train_subs_list']\n"
     ]
    }
   ],
   "source": [
    "# Load raw ftrs\n",
    "ftr_fname='train_ftrs_aes.npz'\n",
    "npz=np.load(ftr_fname)\n",
    "print(npz.keys())"
   ]
  },
  {
   "cell_type": "code",
   "execution_count": 4,
   "metadata": {},
   "outputs": [
    {
     "name": "stdout",
     "output_type": "stream",
     "text": [
      "Sub 253, n_ictal=27675, n_nonictal=28302\n",
      "Sub 565, n_ictal=116933, n_nonictal=116928\n",
      "Sub 590, n_ictal=31062, n_nonictal=33782\n",
      "Sub 620, n_ictal=8210, n_nonictal=8960\n",
      "Sub 958, n_ictal=28008, n_nonictal=30150\n",
      "Sub 970, n_ictal=94927, n_nonictal=96669\n",
      "Sub 1077, n_ictal=13314, n_nonictal=13651\n",
      "Sub 1096, n_ictal=46818, n_nonictal=47190\n",
      "# of total downsampled windows 74258\n",
      "Working on sub 253\n",
      "Clustering ictal observations\n",
      "27675 observations, 30 ftrs\n",
      "Trying 2768 clusters\n",
      "Clustering NONictal observations\n",
      "28302 observations, 30 ftrs\n",
      "Trying 2830 clusters\n",
      "Working on sub 565\n",
      "Clustering ictal observations\n",
      "116933 observations, 30 ftrs\n",
      "Trying 11693 clusters\n"
     ]
    },
    {
     "ename": "KeyboardInterrupt",
     "evalue": "",
     "output_type": "error",
     "traceback": [
      "\u001b[0;31m---------------------------------------------------------------------------\u001b[0m",
      "\u001b[0;31mKeyboardInterrupt\u001b[0m                         Traceback (most recent call last)",
      "\u001b[0;32m<ipython-input-4-4d6bbf57d1ea>\u001b[0m in \u001b[0;36m<module>\u001b[0;34m()\u001b[0m\n\u001b[1;32m     28\u001b[0m     \u001b[0mprint\u001b[0m\u001b[0;34m(\u001b[0m\u001b[0;34m'Clustering ictal observations'\u001b[0m\u001b[0;34m)\u001b[0m\u001b[0;34m\u001b[0m\u001b[0m\n\u001b[1;32m     29\u001b[0m     \u001b[0mictal_bool\u001b[0m\u001b[0;34m=\u001b[0m\u001b[0mnp\u001b[0m\u001b[0;34m.\u001b[0m\u001b[0mmultiply\u001b[0m\u001b[0;34m(\u001b[0m\u001b[0mnpz\u001b[0m\u001b[0;34m[\u001b[0m\u001b[0;34m'sub_id'\u001b[0m\u001b[0;34m]\u001b[0m\u001b[0;34m==\u001b[0m\u001b[0msub\u001b[0m\u001b[0;34m,\u001b[0m\u001b[0mnpz\u001b[0m\u001b[0;34m[\u001b[0m\u001b[0;34m'szr_class'\u001b[0m\u001b[0;34m]\u001b[0m\u001b[0;34m==\u001b[0m\u001b[0;36m1\u001b[0m\u001b[0;34m)\u001b[0m\u001b[0;34m\u001b[0m\u001b[0m\n\u001b[0;32m---> 30\u001b[0;31m     \u001b[0mictal_kclusters\u001b[0m\u001b[0;34m,\u001b[0m \u001b[0mk\u001b[0m\u001b[0;34m=\u001b[0m\u001b[0mkmeans_downsample\u001b[0m\u001b[0;34m(\u001b[0m\u001b[0mnpz\u001b[0m\u001b[0;34m[\u001b[0m\u001b[0;34m'ftrs'\u001b[0m\u001b[0;34m]\u001b[0m\u001b[0;34m[\u001b[0m\u001b[0mictal_bool\u001b[0m\u001b[0;34m,\u001b[0m\u001b[0;34m:\u001b[0m\u001b[0;34m]\u001b[0m\u001b[0;34m,\u001b[0m\u001b[0mdownsample_fact\u001b[0m\u001b[0;34m)\u001b[0m\u001b[0;34m\u001b[0m\u001b[0m\n\u001b[0m\u001b[1;32m     31\u001b[0m     \u001b[0mobs_ct_stop\u001b[0m\u001b[0;34m=\u001b[0m\u001b[0mobs_ct\u001b[0m\u001b[0;34m+\u001b[0m\u001b[0mk\u001b[0m\u001b[0;34m\u001b[0m\u001b[0m\n\u001b[1;32m     32\u001b[0m     \u001b[0msub_ids_dsamp\u001b[0m\u001b[0;34m[\u001b[0m\u001b[0mobs_ct\u001b[0m\u001b[0;34m:\u001b[0m\u001b[0mobs_ct_stop\u001b[0m\u001b[0;34m]\u001b[0m\u001b[0;34m=\u001b[0m\u001b[0msub\u001b[0m\u001b[0;34m\u001b[0m\u001b[0m\n",
      "\u001b[0;32m<ipython-input-2-16b133018e4f>\u001b[0m in \u001b[0;36mkmeans_downsample\u001b[0;34m(ftrs, downsample_fact)\u001b[0m\n\u001b[1;32m      5\u001b[0m     \u001b[0mk\u001b[0m\u001b[0;34m=\u001b[0m\u001b[0mint\u001b[0m\u001b[0;34m(\u001b[0m\u001b[0mnp\u001b[0m\u001b[0;34m.\u001b[0m\u001b[0mround\u001b[0m\u001b[0;34m(\u001b[0m\u001b[0mn_obs\u001b[0m\u001b[0;34m/\u001b[0m\u001b[0mdownsample_fact\u001b[0m\u001b[0;34m)\u001b[0m\u001b[0;34m)\u001b[0m\u001b[0;34m\u001b[0m\u001b[0m\n\u001b[1;32m      6\u001b[0m     \u001b[0mprint\u001b[0m\u001b[0;34m(\u001b[0m\u001b[0;34m'Trying %d clusters'\u001b[0m \u001b[0;34m%\u001b[0m \u001b[0mk\u001b[0m\u001b[0;34m)\u001b[0m\u001b[0;34m\u001b[0m\u001b[0m\n\u001b[0;32m----> 7\u001b[0;31m     \u001b[0mkclusters\u001b[0m \u001b[0;34m=\u001b[0m \u001b[0mKMeans\u001b[0m\u001b[0;34m(\u001b[0m\u001b[0mn_clusters\u001b[0m\u001b[0;34m=\u001b[0m\u001b[0mk\u001b[0m\u001b[0;34m)\u001b[0m\u001b[0;34m.\u001b[0m\u001b[0mfit\u001b[0m\u001b[0;34m(\u001b[0m\u001b[0mftrs\u001b[0m\u001b[0;34m)\u001b[0m\u001b[0;34m\u001b[0m\u001b[0m\n\u001b[0m\u001b[1;32m      8\u001b[0m     \u001b[0;32mreturn\u001b[0m \u001b[0mkclusters\u001b[0m\u001b[0;34m,\u001b[0m \u001b[0mk\u001b[0m\u001b[0;34m\u001b[0m\u001b[0m\n",
      "\u001b[0;32m~/anaconda3/lib/python3.6/site-packages/sklearn/cluster/k_means_.py\u001b[0m in \u001b[0;36mfit\u001b[0;34m(self, X, y)\u001b[0m\n\u001b[1;32m    891\u001b[0m                 \u001b[0mtol\u001b[0m\u001b[0;34m=\u001b[0m\u001b[0mself\u001b[0m\u001b[0;34m.\u001b[0m\u001b[0mtol\u001b[0m\u001b[0;34m,\u001b[0m \u001b[0mrandom_state\u001b[0m\u001b[0;34m=\u001b[0m\u001b[0mrandom_state\u001b[0m\u001b[0;34m,\u001b[0m \u001b[0mcopy_x\u001b[0m\u001b[0;34m=\u001b[0m\u001b[0mself\u001b[0m\u001b[0;34m.\u001b[0m\u001b[0mcopy_x\u001b[0m\u001b[0;34m,\u001b[0m\u001b[0;34m\u001b[0m\u001b[0m\n\u001b[1;32m    892\u001b[0m                 \u001b[0mn_jobs\u001b[0m\u001b[0;34m=\u001b[0m\u001b[0mself\u001b[0m\u001b[0;34m.\u001b[0m\u001b[0mn_jobs\u001b[0m\u001b[0;34m,\u001b[0m \u001b[0malgorithm\u001b[0m\u001b[0;34m=\u001b[0m\u001b[0mself\u001b[0m\u001b[0;34m.\u001b[0m\u001b[0malgorithm\u001b[0m\u001b[0;34m,\u001b[0m\u001b[0;34m\u001b[0m\u001b[0m\n\u001b[0;32m--> 893\u001b[0;31m                 return_n_iter=True)\n\u001b[0m\u001b[1;32m    894\u001b[0m         \u001b[0;32mreturn\u001b[0m \u001b[0mself\u001b[0m\u001b[0;34m\u001b[0m\u001b[0m\n\u001b[1;32m    895\u001b[0m \u001b[0;34m\u001b[0m\u001b[0m\n",
      "\u001b[0;32m~/anaconda3/lib/python3.6/site-packages/sklearn/cluster/k_means_.py\u001b[0m in \u001b[0;36mk_means\u001b[0;34m(X, n_clusters, init, precompute_distances, n_init, max_iter, verbose, tol, random_state, copy_x, n_jobs, algorithm, return_n_iter)\u001b[0m\n\u001b[1;32m    344\u001b[0m                 \u001b[0mX\u001b[0m\u001b[0;34m,\u001b[0m \u001b[0mn_clusters\u001b[0m\u001b[0;34m,\u001b[0m \u001b[0mmax_iter\u001b[0m\u001b[0;34m=\u001b[0m\u001b[0mmax_iter\u001b[0m\u001b[0;34m,\u001b[0m \u001b[0minit\u001b[0m\u001b[0;34m=\u001b[0m\u001b[0minit\u001b[0m\u001b[0;34m,\u001b[0m \u001b[0mverbose\u001b[0m\u001b[0;34m=\u001b[0m\u001b[0mverbose\u001b[0m\u001b[0;34m,\u001b[0m\u001b[0;34m\u001b[0m\u001b[0m\n\u001b[1;32m    345\u001b[0m                 \u001b[0mprecompute_distances\u001b[0m\u001b[0;34m=\u001b[0m\u001b[0mprecompute_distances\u001b[0m\u001b[0;34m,\u001b[0m \u001b[0mtol\u001b[0m\u001b[0;34m=\u001b[0m\u001b[0mtol\u001b[0m\u001b[0;34m,\u001b[0m\u001b[0;34m\u001b[0m\u001b[0m\n\u001b[0;32m--> 346\u001b[0;31m                 x_squared_norms=x_squared_norms, random_state=random_state)\n\u001b[0m\u001b[1;32m    347\u001b[0m             \u001b[0;31m# determine if these results are the best so far\u001b[0m\u001b[0;34m\u001b[0m\u001b[0;34m\u001b[0m\u001b[0m\n\u001b[1;32m    348\u001b[0m             \u001b[0;32mif\u001b[0m \u001b[0mbest_inertia\u001b[0m \u001b[0;32mis\u001b[0m \u001b[0;32mNone\u001b[0m \u001b[0;32mor\u001b[0m \u001b[0minertia\u001b[0m \u001b[0;34m<\u001b[0m \u001b[0mbest_inertia\u001b[0m\u001b[0;34m:\u001b[0m\u001b[0;34m\u001b[0m\u001b[0m\n",
      "\u001b[0;32m~/anaconda3/lib/python3.6/site-packages/sklearn/cluster/k_means_.py\u001b[0m in \u001b[0;36m_kmeans_single_elkan\u001b[0;34m(X, n_clusters, max_iter, init, verbose, x_squared_norms, random_state, tol, precompute_distances)\u001b[0m\n\u001b[1;32m    393\u001b[0m     \u001b[0;31m# init\u001b[0m\u001b[0;34m\u001b[0m\u001b[0;34m\u001b[0m\u001b[0m\n\u001b[1;32m    394\u001b[0m     centers = _init_centroids(X, n_clusters, init, random_state=random_state,\n\u001b[0;32m--> 395\u001b[0;31m                               x_squared_norms=x_squared_norms)\n\u001b[0m\u001b[1;32m    396\u001b[0m     \u001b[0mcenters\u001b[0m \u001b[0;34m=\u001b[0m \u001b[0mnp\u001b[0m\u001b[0;34m.\u001b[0m\u001b[0mascontiguousarray\u001b[0m\u001b[0;34m(\u001b[0m\u001b[0mcenters\u001b[0m\u001b[0;34m)\u001b[0m\u001b[0;34m\u001b[0m\u001b[0m\n\u001b[1;32m    397\u001b[0m     \u001b[0;32mif\u001b[0m \u001b[0mverbose\u001b[0m\u001b[0;34m:\u001b[0m\u001b[0;34m\u001b[0m\u001b[0m\n",
      "\u001b[0;32m~/anaconda3/lib/python3.6/site-packages/sklearn/cluster/k_means_.py\u001b[0m in \u001b[0;36m_init_centroids\u001b[0;34m(X, k, init, random_state, x_squared_norms, init_size)\u001b[0m\n\u001b[1;32m    682\u001b[0m     \u001b[0;32mif\u001b[0m \u001b[0misinstance\u001b[0m\u001b[0;34m(\u001b[0m\u001b[0minit\u001b[0m\u001b[0;34m,\u001b[0m \u001b[0mstring_types\u001b[0m\u001b[0;34m)\u001b[0m \u001b[0;32mand\u001b[0m \u001b[0minit\u001b[0m \u001b[0;34m==\u001b[0m \u001b[0;34m'k-means++'\u001b[0m\u001b[0;34m:\u001b[0m\u001b[0;34m\u001b[0m\u001b[0m\n\u001b[1;32m    683\u001b[0m         centers = _k_init(X, k, random_state=random_state,\n\u001b[0;32m--> 684\u001b[0;31m                           x_squared_norms=x_squared_norms)\n\u001b[0m\u001b[1;32m    685\u001b[0m     \u001b[0;32melif\u001b[0m \u001b[0misinstance\u001b[0m\u001b[0;34m(\u001b[0m\u001b[0minit\u001b[0m\u001b[0;34m,\u001b[0m \u001b[0mstring_types\u001b[0m\u001b[0;34m)\u001b[0m \u001b[0;32mand\u001b[0m \u001b[0minit\u001b[0m \u001b[0;34m==\u001b[0m \u001b[0;34m'random'\u001b[0m\u001b[0;34m:\u001b[0m\u001b[0;34m\u001b[0m\u001b[0m\n\u001b[1;32m    686\u001b[0m         \u001b[0mseeds\u001b[0m \u001b[0;34m=\u001b[0m \u001b[0mrandom_state\u001b[0m\u001b[0;34m.\u001b[0m\u001b[0mpermutation\u001b[0m\u001b[0;34m(\u001b[0m\u001b[0mn_samples\u001b[0m\u001b[0;34m)\u001b[0m\u001b[0;34m[\u001b[0m\u001b[0;34m:\u001b[0m\u001b[0mk\u001b[0m\u001b[0;34m]\u001b[0m\u001b[0;34m\u001b[0m\u001b[0m\n",
      "\u001b[0;32m~/anaconda3/lib/python3.6/site-packages/sklearn/cluster/k_means_.py\u001b[0m in \u001b[0;36m_k_init\u001b[0;34m(X, n_clusters, x_squared_norms, random_state, n_local_trials)\u001b[0m\n\u001b[1;32m    111\u001b[0m         \u001b[0;31m# Compute distances to center candidates\u001b[0m\u001b[0;34m\u001b[0m\u001b[0;34m\u001b[0m\u001b[0m\n\u001b[1;32m    112\u001b[0m         distance_to_candidates = euclidean_distances(\n\u001b[0;32m--> 113\u001b[0;31m             X[candidate_ids], X, Y_norm_squared=x_squared_norms, squared=True)\n\u001b[0m\u001b[1;32m    114\u001b[0m \u001b[0;34m\u001b[0m\u001b[0m\n\u001b[1;32m    115\u001b[0m         \u001b[0;31m# Decide which candidate is the best\u001b[0m\u001b[0;34m\u001b[0m\u001b[0;34m\u001b[0m\u001b[0m\n",
      "\u001b[0;32m~/anaconda3/lib/python3.6/site-packages/sklearn/metrics/pairwise.py\u001b[0m in \u001b[0;36meuclidean_distances\u001b[0;34m(X, Y, Y_norm_squared, squared, X_norm_squared)\u001b[0m\n\u001b[1;32m    244\u001b[0m         \u001b[0mYY\u001b[0m \u001b[0;34m=\u001b[0m \u001b[0mrow_norms\u001b[0m\u001b[0;34m(\u001b[0m\u001b[0mY\u001b[0m\u001b[0;34m,\u001b[0m \u001b[0msquared\u001b[0m\u001b[0;34m=\u001b[0m\u001b[0;32mTrue\u001b[0m\u001b[0;34m)\u001b[0m\u001b[0;34m[\u001b[0m\u001b[0mnp\u001b[0m\u001b[0;34m.\u001b[0m\u001b[0mnewaxis\u001b[0m\u001b[0;34m,\u001b[0m \u001b[0;34m:\u001b[0m\u001b[0;34m]\u001b[0m\u001b[0;34m\u001b[0m\u001b[0m\n\u001b[1;32m    245\u001b[0m \u001b[0;34m\u001b[0m\u001b[0m\n\u001b[0;32m--> 246\u001b[0;31m     \u001b[0mdistances\u001b[0m \u001b[0;34m=\u001b[0m \u001b[0msafe_sparse_dot\u001b[0m\u001b[0;34m(\u001b[0m\u001b[0mX\u001b[0m\u001b[0;34m,\u001b[0m \u001b[0mY\u001b[0m\u001b[0;34m.\u001b[0m\u001b[0mT\u001b[0m\u001b[0;34m,\u001b[0m \u001b[0mdense_output\u001b[0m\u001b[0;34m=\u001b[0m\u001b[0;32mTrue\u001b[0m\u001b[0;34m)\u001b[0m\u001b[0;34m\u001b[0m\u001b[0m\n\u001b[0m\u001b[1;32m    247\u001b[0m     \u001b[0mdistances\u001b[0m \u001b[0;34m*=\u001b[0m \u001b[0;34m-\u001b[0m\u001b[0;36m2\u001b[0m\u001b[0;34m\u001b[0m\u001b[0m\n\u001b[1;32m    248\u001b[0m     \u001b[0mdistances\u001b[0m \u001b[0;34m+=\u001b[0m \u001b[0mXX\u001b[0m\u001b[0;34m\u001b[0m\u001b[0m\n",
      "\u001b[0;32m~/anaconda3/lib/python3.6/site-packages/sklearn/utils/extmath.py\u001b[0m in \u001b[0;36msafe_sparse_dot\u001b[0;34m(a, b, dense_output)\u001b[0m\n\u001b[1;32m    138\u001b[0m         \u001b[0;32mreturn\u001b[0m \u001b[0mret\u001b[0m\u001b[0;34m\u001b[0m\u001b[0m\n\u001b[1;32m    139\u001b[0m     \u001b[0;32melse\u001b[0m\u001b[0;34m:\u001b[0m\u001b[0;34m\u001b[0m\u001b[0m\n\u001b[0;32m--> 140\u001b[0;31m         \u001b[0;32mreturn\u001b[0m \u001b[0mnp\u001b[0m\u001b[0;34m.\u001b[0m\u001b[0mdot\u001b[0m\u001b[0;34m(\u001b[0m\u001b[0ma\u001b[0m\u001b[0;34m,\u001b[0m \u001b[0mb\u001b[0m\u001b[0;34m)\u001b[0m\u001b[0;34m\u001b[0m\u001b[0m\n\u001b[0m\u001b[1;32m    141\u001b[0m \u001b[0;34m\u001b[0m\u001b[0m\n\u001b[1;32m    142\u001b[0m \u001b[0;34m\u001b[0m\u001b[0m\n",
      "\u001b[0;31mKeyboardInterrupt\u001b[0m: "
     ]
    }
   ],
   "source": [
    "#downsample_fact=1000\n",
    "downsample_fact=10\n",
    "#sub_list=npz['train_subs_list'][:2]\n",
    "sub_list=npz['train_subs_list']\n",
    "\n",
    "# Figure out how much data to preallocate\n",
    "n_downsamp_obs=0\n",
    "n_dim=npz['ftrs'].shape[1]\n",
    "for sub in sub_list:\n",
    "    ictal_bool=np.multiply(npz['sub_id']==sub,npz['szr_class']==1)\n",
    "    nonictal_bool=np.multiply(npz['sub_id']==sub,npz['szr_class']==0)\n",
    "    n_ictal=np.sum(ictal_bool)\n",
    "    n_nonictal=np.sum(nonictal_bool)\n",
    "    print('Sub %d, n_ictal=%d, n_nonictal=%d' % (sub,n_ictal,n_nonictal))\n",
    "    n_downsamp_obs+=int(np.round(n_ictal/downsample_fact))+int(np.round(n_nonictal/downsample_fact))\n",
    "print('# of total downsampled windows %d' % n_downsamp_obs)\n",
    "\n",
    "# Preallocate memory\n",
    "#['ftrs', 'szr_class', 'sub_id', 'train_subs_list']\n",
    "ftrs_dsamp=np.zeros((n_downsamp_obs,n_dim))\n",
    "sub_ids_dsamp=np.zeros(n_downsamp_obs)\n",
    "szr_class_dsamp=np.zeros(n_downsamp_obs)\n",
    "\n",
    "obs_ct=0\n",
    "for sub in sub_list:\n",
    "    print('Working on sub %d' % sub)\n",
    "    # Cluster ictal observations\n",
    "    print('Clustering ictal observations')\n",
    "    ictal_bool=np.multiply(npz['sub_id']==sub,npz['szr_class']==1)\n",
    "    ictal_kclusters, k=kmeans_downsample(npz['ftrs'][ictal_bool,:],downsample_fact)\n",
    "    obs_ct_stop=obs_ct+k\n",
    "    sub_ids_dsamp[obs_ct:obs_ct_stop]=sub\n",
    "    ftrs_dsamp[obs_ct:obs_ct_stop,:]=ictal_kclusters.cluster_centers_\n",
    "    szr_class_dsamp[obs_ct:obs_ct_stop]=1\n",
    "    obs_ct+=k\n",
    "    \n",
    "    # Cluster non-ictal observations\n",
    "    print('Clustering NONictal observations')\n",
    "    nonictal_bool=np.multiply(npz['sub_id']==sub,npz['szr_class']==0)\n",
    "    nonictal_kclusters, k=kmeans_downsample(npz['ftrs'][nonictal_bool,:],downsample_fact)\n",
    "    obs_ct_stop=obs_ct+k\n",
    "    sub_ids_dsamp[obs_ct:obs_ct_stop]=sub\n",
    "    ftrs_dsamp[obs_ct:obs_ct_stop,:]=nonictal_kclusters.cluster_centers_\n",
    "    szr_class_dsamp[obs_ct:obs_ct_stop]=0\n",
    "    obs_ct+=k\n",
    "    \n",
    "print('Done')"
   ]
  },
  {
   "cell_type": "code",
   "execution_count": 9,
   "metadata": {},
   "outputs": [
    {
     "name": "stdout",
     "output_type": "stream",
     "text": [
      "done\n"
     ]
    },
    {
     "data": {
      "image/png": "[encoded data removed]",
      "text/plain": [
       "<matplotlib.figure.Figure at 0x10fcce940>"
      ]
     },
     "metadata": {},
     "output_type": "display_data"
    },
    {
     "data": {
      "image/png": "[encoded data removed]",
      "text/plain": [
       "<matplotlib.figure.Figure at 0x10fddda58>"
      ]
     },
     "metadata": {},
     "output_type": "display_data"
    }
   ],
   "source": [
    "plt.figure(3)\n",
    "plt.clf()\n",
    "plt.subplot(2,1,1)\n",
    "plt.plot(sub_ids_dsamp)\n",
    "# plt.imshow(ftrs_dsamp)\n",
    "\n",
    "plt.subplot(2,1,2)\n",
    "plt.plot(szr_class_dsamp)\n",
    "\n",
    "plt.figure(4)\n",
    "plt.clf()\n",
    "plt.imshow(ftrs_dsamp.T)\n",
    "\n",
    "print('done')"
   ]
  },
  {
   "cell_type": "code",
   "execution_count": null,
   "metadata": {},
   "outputs": [],
   "source": [
    "ftr_fname='/Users/davidgroppe/Desktop/train_ftrs_aes.npz'\n",
    "npz=np.load(ftr_fname)\n",
    "print(npz.keys())\n",
    "subs=npz['train_subs_list']\n",
    "print('Subs: {}'.format(subs))"
   ]
  },
  {
   "cell_type": "code",
   "execution_count": null,
   "metadata": {},
   "outputs": [],
   "source": [
    "for sub in subs:\n",
    "    print('%s: %d windows' % (sub,np.sum(npz['sub_id']==sub)))"
   ]
  },
  {
   "cell_type": "code",
   "execution_count": null,
   "metadata": {},
   "outputs": [],
   "source": [
    "npz['ftrs'].shape"
   ]
  },
  {
   "cell_type": "code",
   "execution_count": null,
   "metadata": {},
   "outputs": [],
   "source": [
    "sub=1077\n",
    "# Get ictal ftrs for this sub\n",
    "use_bool=np.multiply(npz['sub_id']==sub,npz['szr_class']==1)\n",
    "temp_ictal_ftrs=npz['ftrs'][use_bool,:]\n",
    "n_temp_ictal=temp_ictal_ftrs.shape[0]\n",
    "print(temp_ictal_ftrs.shape)"
   ]
  },
  {
   "cell_type": "code",
   "execution_count": null,
   "metadata": {},
   "outputs": [],
   "source": [
    "npz['ftrs'].shape"
   ]
  },
  {
   "cell_type": "code",
   "execution_count": null,
   "metadata": {},
   "outputs": [],
   "source": [
    "ictal_kclusters.cluster_centers_.shape"
   ]
  },
  {
   "cell_type": "code",
   "execution_count": null,
   "metadata": {},
   "outputs": [],
   "source": [
    "temp_sub_list=[1077]\n",
    "#downsample_fact=10\n",
    "downsample_fact=1000\n",
    "for sub in temp_sub_list:\n",
    "    print('Working on sub %d' % sub)\n",
    "    # Cluster ictal observations\n",
    "    print('Clustering ictal observations')\n",
    "    ictal_bool=np.multiply(npz['sub_id']==sub,npz['szr_class']==1)\n",
    "    ictal_kclusters=kmeans_downsample(npz['ftrs'][use_bool,:],downsample_fact)\n",
    "#     temp_ictal_ftrs=npz['ftrs'][use_bool,:]\n",
    "#     n_temp_ictal=temp_ictal_ftrs.shape[0]\n",
    "    \n",
    "    # Cluster non-ictal observations\n",
    "    print('Clustering NONictal observations')\n",
    "    nonictal_bool=np.multiply(npz['sub_id']==sub,npz['szr_class']==0)\n",
    "    nonictal_kclusters=kmeans_downsample(npz['ftrs'][use_bool,:],downsample_fact)"
   ]
  },
  {
   "cell_type": "code",
   "execution_count": null,
   "metadata": {},
   "outputs": [],
   "source": [
    "kclusters.cluster_centers_.shape\n",
    "plt.figure(1)\n",
    "plt.plot(ictal_kclusters.cluster_centers_.T);\n",
    "\n",
    "plt.figure(2)\n",
    "plt.plot(nonictal_kclusters.cluster_centers_.T);"
   ]
  },
  {
   "cell_type": "code",
   "execution_count": null,
   "metadata": {},
   "outputs": [],
   "source": [
    "# Apply kmeans\n",
    "# kmeans = KMeans(n_clusters=2, random_state=0).fit(X)\n",
    "# kmeans.cluster_centers_\n",
    "from datetime import datetime\n",
    "startTime = datetime.now()\n",
    "k=int(np.round(n_temp_ictal/10))\n",
    "# k=3\n",
    "print('Trying %d clusters' % k)\n",
    "kclusters = KMeans(n_clusters=k).fit(temp_ictal_ftrs)\n",
    "stopTime = datetime.now()"
   ]
  },
  {
   "cell_type": "code",
   "execution_count": null,
   "metadata": {},
   "outputs": [],
   "source": [
    "print(stopTime-startTime)"
   ]
  },
  {
   "cell_type": "code",
   "execution_count": null,
   "metadata": {},
   "outputs": [],
   "source": [
    "kclusters.cluster_centers_.shape\n",
    "plt.figure(1)\n",
    "plt.plot(kclusters.cluster_centers_.T);"
   ]
  },
  {
   "cell_type": "code",
   "execution_count": null,
   "metadata": {},
   "outputs": [],
   "source": [
    "# Apply kmeans\n",
    "# kmeans = KMeans(n_clusters=2, random_state=0).fit(X)\n",
    "# kmeans.cluster_centers_\n",
    "k=int(np.round(n_non_wind_tr)/2)\n",
    "print('Trying %d clusters' % k)\n",
    "kclusters2 = KMeans(n_clusters=k,n_jobs=-1).fit(ftrs_tr.T)"
   ]
  },
  {
   "cell_type": "code",
   "execution_count": null,
   "metadata": {},
   "outputs": [],
   "source": [
    "# Measure % variance accounted for\n",
    "print(kclusters.inertia_)\n",
    "sum_dist=np.sum(np.sqrt(np.sum(ftrs_tr**2,axis=0)))\n",
    "print(sum_dist)\n",
    "print('Pptn VA=%f ' % (1-np.divide(kclusters.inertia_,sum_dist)))"
   ]
  },
  {
   "cell_type": "code",
   "execution_count": null,
   "metadata": {},
   "outputs": [],
   "source": [
    "# Measure % variance accounted for 3 factor\n",
    "print(kclusters2.inertia_)\n",
    "sum_dist=np.sum(np.sqrt(np.sum(ftrs_tr**2,axis=0)))\n",
    "print(sum_dist)\n",
    "print('Pptn VA=%f ' % (1-np.divide(kclusters2.inertia_,sum_dist)))"
   ]
  },
  {
   "cell_type": "code",
   "execution_count": null,
   "metadata": {},
   "outputs": [],
   "source": [
    "# Measure % variance accounted for 2 factor\n",
    "print(kclusters2.inertia_)\n",
    "sum_dist=np.sum(np.sqrt(np.sum(ftrs_tr**2,axis=0)))\n",
    "print(sum_dist)\n",
    "print('Pptn VA=%f ' % (1-np.divide(kclusters2.inertia_,sum_dist)))"
   ]
  },
  {
   "cell_type": "code",
   "execution_count": null,
   "metadata": {},
   "outputs": [],
   "source": [
    "# Get Training Data\n",
    "train_subs=[1096, 620, 590, 862, 253, 1125]\n",
    "#train_subs=[565] # Data look mislabelled\n",
    "#train_subs=[264] #KeyError: 'BLA1-BLA2', some non files missing\n",
    "#train_subs=[273] # Data look mislabelled\n",
    "train_subs=[253, 1125]\n",
    "train_subs=[1077] \n",
    "train_subs=[620] \n",
    "#/Users/davidgroppe/PycharmProjects/SZR_ANT/EU_GENERAL/EU_GENERAL_FTRS/SE/1096_HL1_HL2_non.ma\n",
    "ftr_root='/home/dgroppe/SZR_ANT/EU_GENERAL/EU_GENERAL_FTRS/SE/'\n",
    "szr_fnames_tr, non_fnames_tr, n_szr_wind_tr, n_non_wind_tr, ftr_dim=data_size_and_fnames(train_subs, ftr_root)\n",
    "ftrs_tr, targ_labels_tr=import_data(szr_fnames_tr, non_fnames_tr, n_szr_wind_tr, n_non_wind_tr, ftr_dim)"
   ]
  },
  {
   "cell_type": "code",
   "execution_count": null,
   "metadata": {
    "collapsed": true
   },
   "outputs": [],
   "source": [
    "kmeans = KMeans(n_clusters=2, random_state=0).fit(X)\n",
    "kmeans.cluster_centers_"
   ]
  }
 ],
 "metadata": {
  "anaconda-cloud": {},
  "kernelspec": {
   "display_name": "Python 3",
   "language": "python",
   "name": "python3"
  },
  "language_info": {
   "codemirror_mode": {
    "name": "ipython",
    "version": 3
   },
   "file_extension": ".py",
   "mimetype": "text/x-python",
   "name": "python",
   "nbconvert_exporter": "python",
   "pygments_lexer": "ipython3",
   "version": "3.6.0"
  }
 },
 "nbformat": 4,
 "nbformat_minor": 2
}
