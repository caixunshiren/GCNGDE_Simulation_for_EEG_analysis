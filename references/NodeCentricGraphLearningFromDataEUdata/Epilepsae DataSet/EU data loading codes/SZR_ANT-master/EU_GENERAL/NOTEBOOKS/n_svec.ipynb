{
 "cells": [
  {
   "cell_type": "code",
   "execution_count": 1,
   "metadata": {
    "collapsed": true
   },
   "outputs": [],
   "source": [
    "# Libraries\n",
    "import numpy as np\n",
    "import scipy.io as sio\n",
    "import os\n",
    "import pickle\n",
    "# import re\n",
    "import ieeg_funcs as ief\n",
    "import dgFuncs as dg\n",
    "from sklearn import preprocessing\n",
    "# from scipy import stats\n",
    "# from mpl_toolkits.axes_grid1 import make_axes_locatable\n",
    "from sklearn import svm, linear_model\n",
    "from sklearn.metrics import roc_auc_score\n",
    "from sklearn.externals import joblib\n",
    "import matplotlib.pyplot as plt\n",
    "%matplotlib inline"
   ]
  },
  {
   "cell_type": "code",
   "execution_count": 28,
   "metadata": {},
   "outputs": [
    {
     "name": "stdout",
     "output_type": "stream",
     "text": [
      "['valid_sens', 'valid_spec', 'valid_bal_acc', 'best_valid_bal_acc_by_sub', 'train_sens', 'train_spec', 'train_bal_acc', 'train_subs_list', 'n_train_steps', 'C_vals', 'gam', 'tried_C', 'tried_gamma', 'tried_train_acc', 'tried_valid_acc', 'tried_train_nsvec', 'best_valid_bal_acc', 'best_train_bal_acc', 'equal_sub_wts', 'best_C', 'best_gam', 'best_models', 'ftr_types', 'left_out_id']\n",
      "[ 41336.125  37409.125  34993.375  33589.875  32805.875  34197.     36892.5\n",
      "  37926.75   37732.75   37609.125]\n",
      "37609.125\n",
      "0.817598886365\n"
     ]
    }
   ],
   "source": [
    "# Load saved performance metrics\n",
    "met_fname='/Users/davidgroppe/PycharmProjects/SZR_ANT/EU_GENERAL/classify_metrics_srch.npz'\n",
    "met=np.load(met_fname)\n",
    "print(met.keys())\n",
    "best_id=np.argmax(met['tried_valid_acc'])\n",
    "print(met['tried_train_nsvec'])\n",
    "print(met['tried_train_nsvec'][best_id])\n",
    "print(met['tried_valid_acc'][best_id])"
   ]
  },
  {
   "cell_type": "code",
   "execution_count": 2,
   "metadata": {},
   "outputs": [
    {
     "name": "stdout",
     "output_type": "stream",
     "text": [
      "# of models= 8\n",
      "<class 'sklearn.svm.classes.SVC'>\n"
     ]
    }
   ],
   "source": [
    "# Load saved model\n",
    "#model_fname='/Users/davidgroppe/PycharmProjects/SZR_ANT/MODELS/genLogregSe_3/classify_models_srch.pkl'\n",
    "model_fname='/Users/davidgroppe/PycharmProjects/SZR_ANT/MODELS/svmAesFinale_1/classify_models_srch.pkl'\n",
    "model_fname='/Users/davidgroppe/PycharmProjects/SZR_ANT/EU_GENERAL/classify_models_srch.pkl'\n",
    "models=pickle.load(open(model_fname,'rb'))\n",
    "n_models=len(models)\n",
    "print('# of models= %d' % n_models)\n",
    "print(type(models[0]))"
   ]
  },
  {
   "cell_type": "code",
   "execution_count": null,
   "metadata": {
    "collapsed": true
   },
   "outputs": [],
   "source": [
    "# of support vectors:  200 support vectors with 125 dimensions\n",
    "# right now I have 30 dimensions so I can have 295 support vectors"
   ]
  },
  {
   "cell_type": "code",
   "execution_count": 20,
   "metadata": {},
   "outputs": [
    {
     "data": {
      "text/plain": [
       "37609.125"
      ]
     },
     "execution_count": 20,
     "metadata": {},
     "output_type": "execute_result"
    }
   ],
   "source": [
    "#models[0].n_supprt_[0]\n",
    "np.mean(n_svm)"
   ]
  },
  {
   "cell_type": "code",
   "execution_count": 19,
   "metadata": {},
   "outputs": [
    {
     "name": "stdout",
     "output_type": "stream",
     "text": [
      "[ 40907.  28019.  39225.  41986.  40980.  29672.  42320.  37764.]\n"
     ]
    }
   ],
   "source": [
    "n_svm=np.zeros(8)\n",
    "for m_ct in range(len(models)):\n",
    "    n_svm[m_ct]=models[m_ct].support_vectors_.shape[0]\n",
    "print(n_svm)"
   ]
  },
  {
   "cell_type": "code",
   "execution_count": 29,
   "metadata": {},
   "outputs": [
    {
     "data": {
      "text/plain": [
       "array([20565, 20342], dtype=int32)"
      ]
     },
     "execution_count": 29,
     "metadata": {},
     "output_type": "execute_result"
    }
   ],
   "source": [
    "models[0].n_support_"
   ]
  },
  {
   "cell_type": "code",
   "execution_count": null,
   "metadata": {
    "collapsed": true
   },
   "outputs": [],
   "source": [
    "models[0].n_support_"
   ]
  },
  {
   "cell_type": "code",
   "execution_count": 3,
   "metadata": {},
   "outputs": [
    {
     "name": "stdout",
     "output_type": "stream",
     "text": [
      "20565\n",
      "20342\n"
     ]
    },
    {
     "data": {
      "text/plain": [
       "40907"
      ]
     },
     "execution_count": 3,
     "metadata": {},
     "output_type": "execute_result"
    }
   ],
   "source": [
    "# Print number of support vectors if model is indeed an SVM\n",
    "print(models[0].n_support_[0])\n",
    "print(models[0].n_support_[1])\n",
    "np.sum(models[0].n_support_)"
   ]
  },
  {
   "cell_type": "code",
   "execution_count": null,
   "metadata": {
    "collapsed": true
   },
   "outputs": [],
   "source": []
  }
 ],
 "metadata": {
  "anaconda-cloud": {},
  "kernelspec": {
   "display_name": "Python [conda root]",
   "language": "python",
   "name": "conda-root-py"
  },
  "language_info": {
   "codemirror_mode": {
    "name": "ipython",
    "version": 3
   },
   "file_extension": ".py",
   "mimetype": "text/x-python",
   "name": "python",
   "nbconvert_exporter": "python",
   "pygments_lexer": "ipython3",
   "version": "3.5.3"
  }
 },
 "nbformat": 4,
 "nbformat_minor": 2
}
