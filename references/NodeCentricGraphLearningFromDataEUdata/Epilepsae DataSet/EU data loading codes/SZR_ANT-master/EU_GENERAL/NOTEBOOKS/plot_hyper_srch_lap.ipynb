{
 "cells": [
  {
   "cell_type": "code",
   "execution_count": 1,
   "metadata": {
    "collapsed": true
   },
   "outputs": [],
   "source": [
    "import numpy as np\n",
    "import matplotlib.pyplot as plt\n",
    "from matplotlib import cm\n",
    "%matplotlib inline\n",
    "import os"
   ]
  },
  {
   "cell_type": "code",
   "execution_count": 3,
   "metadata": {},
   "outputs": [
    {
     "data": {
      "text/plain": [
       "['train_spec',\n",
       " 'pptn_missed_szrs',\n",
       " 'tried_train_nsvec',\n",
       " 'gamma_vals',\n",
       " 'best_C',\n",
       " 'left_out_id',\n",
       " 'pptn_preonset_stim',\n",
       " 'best_train_bal_acc',\n",
       " 'rand_ct',\n",
       " 'best_valid_bal_acc',\n",
       " 'train_sens',\n",
       " 'C_vals',\n",
       " 'best_gam',\n",
       " 'train_subs_list',\n",
       " 'equal_sub_wts',\n",
       " 'tried_train_acc',\n",
       " 'mn_stim_latency',\n",
       " 'valid_spec',\n",
       " 'tried_C',\n",
       " 'valid_bal_acc',\n",
       " 'train_bal_acc',\n",
       " 'best_valid_bal_acc_by_sub',\n",
       " 'valid_sens',\n",
       " 'n_train_steps',\n",
       " 'ftr_types',\n",
       " 'tried_gamma',\n",
       " 'tried_valid_acc',\n",
       " 'best_models']"
      ]
     },
     "execution_count": 3,
     "metadata": {},
     "output_type": "execute_result"
    }
   ],
   "source": [
    "#model_stem='SeSvm'\n",
    "# model_stem='PlvSeSvm'\n",
    "# model_dir='/home/dgroppe/GIT/ISSCC18_NURIP/python3/EU1096/MODELS/'\n",
    "# model_stem='gen_sbox_se'\n",
    "# model_stem='gen_sbox_svm_se'\n",
    "model_stem='tempEqWtSvm_3'\n",
    "model_dir='/Users/davidgroppe/PycharmProjects/SZR_ANT/MODELS/'\n",
    "in_fname=os.path.join(model_dir,model_stem,'classify_metrics_srch.npz')\n",
    "metrics=np.load(in_fname)\n",
    "metrics.keys()\n",
    "# C_srch=list()\n",
    "# valid_bal_acc_srch=list()\n",
    "# train_bal_acc_srch=list()\n",
    "# model_names_srch=list()\n",
    "# gamma_srch=list()\n",
    "# for f in os.listdir(model_dir):\n",
    "#     f_splt=f.split('_')\n",
    "#     if f_splt[0]==model_stem:\n",
    "#         # model of desired type\n",
    "#         in_fname=os.path.join(model_dir,f,model_stem+'.npz')\n",
    "#         temp=np.load(in_fname)\n",
    "#         C_srch=C_srch+list(temp['C_srch'])\n",
    "#         temp_gamma=[temp['gamma'] for a in range(len(temp['C_srch']))]\n",
    "#         gamma_srch=gamma_srch+temp_gamma\n",
    "#         valid_bal_acc_srch=valid_bal_acc_srch+list(temp['valid_bal_acc_srch'])\n",
    "#         train_bal_acc_srch=train_bal_acc_srch+list(temp['train_bal_acc_srch'])\n",
    "#         model_names_srch=model_names_srch+[f for a in range(len(temp['C_srch']))]"
   ]
  },
  {
   "cell_type": "code",
   "execution_count": 5,
   "metadata": {
    "collapsed": true
   },
   "outputs": [],
   "source": [
    "C_srch=metrics['tried_C']\n",
    "gamma_srch=metrics['tried_gamma']\n",
    "valid_bal_acc_srch=metrics['tried_valid_acc']\n",
    "train_bal_acc_srch=metrics['tried_train_acc']"
   ]
  },
  {
   "cell_type": "code",
   "execution_count": 6,
   "metadata": {},
   "outputs": [
    {
     "name": "stdout",
     "output_type": "stream",
     "text": [
      "Best Validation Accuracy: 0.858361\n",
      "Using C=26203560850150.480469, gam=0.000920\n"
     ]
    },
    {
     "data": {
      "text/plain": [
       "<matplotlib.text.Text at 0x112b020b8>"
      ]
     },
     "execution_count": 6,
     "metadata": {},
     "output_type": "execute_result"
    },
    {
     "data": {
      "image/png": "[encoded data removed]",
      "text/plain": [
       "<matplotlib.figure.Figure at 0x111333588>"
      ]
     },
     "metadata": {},
     "output_type": "display_data"
    },
    {
     "data": {
      "image/png": "[encoded data removed]",
      "text/plain": [
       "<matplotlib.figure.Figure at 0x112abae48>"
      ]
     },
     "metadata": {},
     "output_type": "display_data"
    }
   ],
   "source": [
    "# PLOT ACCURACY\n",
    "mx_id=np.argmax(valid_bal_acc_srch)\n",
    "print('Best Validation Accuracy: %f' % valid_bal_acc_srch[mx_id])\n",
    "print('Using C=%f, gam=%f' % (C_srch[mx_id],gamma_srch[mx_id]))\n",
    "# print('Best model name is %s' % model_names_srch[mx_id])\n",
    "\n",
    "plt.figure(1)\n",
    "plt.clf()\n",
    "#plt.scatter(np.arange(len(vbacc_ray)),vbacc_ray,c=vbacc_ray)\n",
    "plt.scatter(np.log10(C_srch),np.log10(gamma_srch),c=valid_bal_acc_srch,cmap='plasma',s=32)\n",
    "plt.plot(np.log10(C_srch[mx_id]),np.log10(gamma_srch[mx_id]),'k.')\n",
    "plt.xlabel('log10(C)')\n",
    "plt.ylabel('log10(Gamma)')\n",
    "cbar=plt.colorbar()\n",
    "cbar.set_label('Balanced Accuracy', rotation=90)\n",
    "plt.title('Validation Data')\n",
    "\n",
    "plt.figure(2)\n",
    "plt.clf()\n",
    "#plt.scatter(np.arange(len(vbacc_ray)),vbacc_ray,c=vbacc_ray)\n",
    "plt.scatter(np.log10(C_srch),np.log10(gamma_srch),c=train_bal_acc_srch,cmap='plasma',s=32)\n",
    "plt.plot(np.log10(C_srch[mx_id]),np.log10(gamma_srch[mx_id]),'k.')\n",
    "plt.xlabel('log10(C)')\n",
    "plt.ylabel('log10(Gamma)')\n",
    "cbar=plt.colorbar()\n",
    "cbar.set_label('Balanced Accuracy', rotation=90)\n",
    "plt.title('Training Data')"
   ]
  },
  {
   "cell_type": "code",
   "execution_count": 27,
   "metadata": {},
   "outputs": [
    {
     "data": {
      "text/plain": [
       "0.03162277660168379"
      ]
     },
     "execution_count": 27,
     "metadata": {},
     "output_type": "execute_result"
    }
   ],
   "source": [
    "10**(-1.5)"
   ]
  },
  {
   "cell_type": "code",
   "execution_count": null,
   "metadata": {
    "collapsed": true
   },
   "outputs": [],
   "source": [
    "plt.figure(1)\n",
    "plt.clf()\n",
    "plt.scatter(C_srch,gamma_srch)\n",
    "#plt.scatter(C_srch,gamma_srch,c=valid_bal_acc_srch)\n",
    "plt.xlabel('C')\n",
    "plt.ylabel('Gamma')\n",
    "plt.xscale('log')\n",
    "plt.yscale('log')"
   ]
  },
  {
   "cell_type": "code",
   "execution_count": null,
   "metadata": {
    "collapsed": true
   },
   "outputs": [],
   "source": [
    "temp=np.load('/Users/davidgroppe/Desktop/PlvSeSvm.npz')\n",
    "temp.keys()"
   ]
  },
  {
   "cell_type": "code",
   "execution_count": null,
   "metadata": {
    "collapsed": true
   },
   "outputs": [],
   "source": []
  },
  {
   "cell_type": "code",
   "execution_count": null,
   "metadata": {
    "collapsed": true
   },
   "outputs": [],
   "source": [
    "plt.figure(1)\n",
    "plt.plot(temp['C_srch'],temp['valid_bal_acc_srch'],'-o')\n",
    "plt.plot(temp['C_srch'],temp['train_bal_acc_srch'],'r--o')\n",
    "plt.plot(temp['best_C'],temp['test_bal_acc'],'k*')\n",
    "plt.ylabel('Valid Balance Acc')\n",
    "plt.xlabel('C')\n",
    "plt.xscale('log')\n",
    "print('gamma=%f' % temp['gamma'])"
   ]
  },
  {
   "cell_type": "code",
   "execution_count": null,
   "metadata": {
    "collapsed": true
   },
   "outputs": [],
   "source": []
  }
 ],
 "metadata": {
  "anaconda-cloud": {},
  "kernelspec": {
   "display_name": "Python [default]",
   "language": "python",
   "name": "python3"
  },
  "language_info": {
   "codemirror_mode": {
    "name": "ipython",
    "version": 3
   },
   "file_extension": ".py",
   "mimetype": "text/x-python",
   "name": "python",
   "nbconvert_exporter": "python",
   "pygments_lexer": "ipython3",
   "version": "3.5.3"
  }
 },
 "nbformat": 4,
 "nbformat_minor": 2
}
