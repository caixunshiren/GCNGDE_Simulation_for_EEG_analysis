{
 "cells": [
  {
   "cell_type": "markdown",
   "metadata": {},
   "source": [
    "This notebook attempts to figure out how manually change the support vectors of a trained model. It doesn't work for reasons that escape me."
   ]
  },
  {
   "cell_type": "code",
   "execution_count": 1,
   "metadata": {
    "collapsed": true
   },
   "outputs": [],
   "source": [
    "import numpy as np\n",
    "import scipy.io as sio\n",
    "import os\n",
    "import euGenFuncs as eu\n",
    "import numpy as np\n",
    "import pandas as pd\n",
    "import pickle\n",
    "import ieeg_funcs as ief\n",
    "import dgFuncs as dg\n",
    "import matplotlib.pyplot as plt\n",
    "%matplotlib inline\n",
    "import imp \n",
    "import mtspec"
   ]
  },
  {
   "cell_type": "code",
   "execution_count": 2,
   "metadata": {},
   "outputs": [
    {
     "data": {
      "text/plain": [
       "<matplotlib.text.Text at 0x11c516128>"
      ]
     },
     "execution_count": 2,
     "metadata": {},
     "output_type": "execute_result"
    },
    {
     "data": {
      "image/png": "[encoded data removed]",
      "text/plain": [
       "<matplotlib.figure.Figure at 0x11c2b5208>"
      ]
     },
     "metadata": {},
     "output_type": "display_data"
    },
    {
     "data": {
      "image/png": "[encoded data removed]",
      "text/plain": [
       "<matplotlib.figure.Figure at 0x11c4db4e0>"
      ]
     },
     "metadata": {},
     "output_type": "display_data"
    }
   ],
   "source": [
    "from sklearn import svm\n",
    "n=100\n",
    "offset=2\n",
    "x=np.zeros((2,2*n))\n",
    "x[:,:n]=np.random.randn(2,n)\n",
    "x[:,n:]=np.random.randn(2,n)+offset\n",
    "y=np.zeros(2*n)\n",
    "y[100:]=1\n",
    "\n",
    "plt.figure(1)\n",
    "plt.clf()\n",
    "plt.plot(x[0,:n],x[1,:n],'r.')\n",
    "plt.plot(x[0,n:],x[1,n:],'b.')\n",
    "plt.title('Train')\n",
    "\n",
    "xx=np.zeros((2,2*n))\n",
    "xx[:,:n]=np.random.randn(2,n)\n",
    "xx[:,n:]=np.random.randn(2,n)+offset\n",
    "yy=np.zeros(2*n)\n",
    "yy[100:]=1\n",
    "\n",
    "plt.figure(2)\n",
    "plt.clf()\n",
    "plt.plot(xx[0,:n],xx[1,:n],'r.')\n",
    "plt.plot(xx[0,n:],xx[1,n:],'b.')\n",
    "plt.title('Test')"
   ]
  },
  {
   "cell_type": "code",
   "execution_count": 19,
   "metadata": {},
   "outputs": [
    {
     "name": "stdout",
     "output_type": "stream",
     "text": [
      "Accuracy=0.905000\n",
      "# of SVs [27 27]\n"
     ]
    }
   ],
   "source": [
    "clf1 = svm.SVC(C=1)\n",
    "clf1.fit(x.T, y) \n",
    "\n",
    "yy_hat=clf1.predict(xx.T)\n",
    "print('Accuracy=%f' % np.mean(yy_hat==yy))\n",
    "print('# of SVs {}'.format(clf1.n_support_))"
   ]
  },
  {
   "cell_type": "code",
   "execution_count": 20,
   "metadata": {},
   "outputs": [
    {
     "name": "stdout",
     "output_type": "stream",
     "text": [
      "(1, 54)\n",
      "[[-1.         -1.         -1.         -0.36004419 -1.         -1.\n",
      "  -0.6083281  -1.         -0.37793634 -1.         -0.63077963 -1.         -1.\n",
      "  -1.         -0.23934759 -1.         -1.         -0.34993505 -1.         -1.\n",
      "  -0.40229813 -0.27985993 -1.         -0.53905513 -1.         -1.         -1.\n",
      "   1.          1.          1.          0.20149647  1.          1.          1.\n",
      "   1.          0.67183927  1.          1.          0.10123713  1.\n",
      "   0.79943227  0.69969614  0.24943028  0.19223201  1.          1.\n",
      "   0.59792476  1.          1.          1.          0.27429577  1.          1.\n",
      "   1.        ]]\n",
      "27\n",
      "27\n"
     ]
    }
   ],
   "source": [
    "print(clf1.dual_coef_.shape)\n",
    "print(clf1.dual_coef_)\n",
    "print(np.sum(clf1.dual_coef_>=0))\n",
    "print(np.sum(clf1.dual_coef_<0))"
   ]
  },
  {
   "cell_type": "code",
   "execution_count": 21,
   "metadata": {},
   "outputs": [
    {
     "data": {
      "text/plain": [
       "(54, 2)"
      ]
     },
     "execution_count": 21,
     "metadata": {},
     "output_type": "execute_result"
    }
   ],
   "source": [
    "clf1.support_vectors_.shape"
   ]
  },
  {
   "cell_type": "code",
   "execution_count": 27,
   "metadata": {},
   "outputs": [
    {
     "data": {
      "text/plain": [
       "array([], dtype=float64)"
      ]
     },
     "execution_count": 27,
     "metadata": {},
     "output_type": "execute_result"
    }
   ],
   "source": [
    "clf1.probB_"
   ]
  },
  {
   "cell_type": "code",
   "execution_count": 67,
   "metadata": {},
   "outputs": [
    {
     "name": "stdout",
     "output_type": "stream",
     "text": [
      "0.001\n",
      "0.001\n"
     ]
    }
   ],
   "source": [
    "# Compare values of two different models\n",
    "print(clf2.tol)\n",
    "print(clf1.tol)"
   ]
  },
  {
   "cell_type": "code",
   "execution_count": 69,
   "metadata": {},
   "outputs": [
    {
     "name": "stdout",
     "output_type": "stream",
     "text": [
      "(64, 2)\n",
      "CLF2 Accuracy\n",
      "Accuracy=0.915000\n",
      "# of SVs [33 31]\n",
      "CLF1 Accuracy\n",
      "Accuracy=0.905000\n",
      "# of SVs [27 27]\n",
      "CLF1 copied to CLF2 Accuracy\n",
      "Accuracy=0.760000\n",
      "# of SVs [27 27]\n"
     ]
    },
    {
     "data": {
      "text/plain": [
       "<matplotlib.legend.Legend at 0x11cb0c470>"
      ]
     },
     "execution_count": 69,
     "metadata": {},
     "output_type": "execute_result"
    },
    {
     "data": {
      "image/png": "[encoded data removed]",
      "text/plain": [
       "<matplotlib.figure.Figure at 0x11ca69c50>"
      ]
     },
     "metadata": {},
     "output_type": "display_data"
    }
   ],
   "source": [
    "# TRAIN A 2nd SVM and then try to copy over the support vector info from the first SVM to make it act like thw first SVM\n",
    "clf2 = svm.SVC(C=1)\n",
    "clf2.fit(xx.T, yy) \n",
    "print(clf2.support_vectors_.shape)\n",
    "\n",
    "print('CLF2 Accuracy')\n",
    "yy_hat=clf2.predict(xx.T)\n",
    "print('Accuracy=%f' % np.mean(yy_hat==yy))\n",
    "print('# of SVs {}'.format(clf2.n_support_))\n",
    "\n",
    "print('CLF1 Accuracy')\n",
    "yy_hat1=clf1.predict(xx.T)\n",
    "print('Accuracy=%f' % np.mean(yy_hat1==yy))\n",
    "print('# of SVs {}'.format(clf1.n_support_))\n",
    "\n",
    "print('CLF1 copied to CLF2 Accuracy')\n",
    "clf2.dual_coef_=clf1.dual_coef_\n",
    "clf2.intercept_=clf1.intercept_\n",
    "clf2.n_support_=clf1.n_support_\n",
    "clf2.support_=clf1.support_\n",
    "clf2.support_vectors_=clf1.support_vectors_\n",
    "clf2.shape_fit_=clf1.shape_fit_\n",
    "yy_hat12=clf2.predict(xx.T)\n",
    "print('Accuracy=%f' % np.mean(yy_hat12==yy))\n",
    "print('# of SVs {}'.format(clf2.n_support_))\n",
    "\n",
    "# Plot predictions\n",
    "plt.figure(1)\n",
    "plt.clf()\n",
    "plt.plot(yy_hat1,'r-',label='clf1')\n",
    "plt.plot(yy_hat12,'b-',label='clf2')\n",
    "plt.legend()"
   ]
  },
  {
   "cell_type": "code",
   "execution_count": 71,
   "metadata": {},
   "outputs": [
    {
     "data": {
      "text/plain": [
       "<matplotlib.text.Text at 0x11cc61e48>"
      ]
     },
     "execution_count": 71,
     "metadata": {},
     "output_type": "execute_result"
    },
    {
     "data": {
      "image/png": "[encoded data removed]",
      "text/plain": [
       "<matplotlib.figure.Figure at 0x11ca06978>"
      ]
     },
     "metadata": {},
     "output_type": "display_data"
    }
   ],
   "source": [
    "# Plot the support vectors of SVM1\n",
    "plt.figure(1)\n",
    "plt.clf()\n",
    "plt.plot(x[0,:n],x[1,:n],'r.')\n",
    "plt.plot(x[0,n:],x[1,n:],'b.')\n",
    "plt.plot(clf1.support_vectors_[:,0],clf1.support_vectors_[:,1],'xk')\n",
    "plt.title('Train')"
   ]
  },
  {
   "cell_type": "code",
   "execution_count": 28,
   "metadata": {},
   "outputs": [
    {
     "data": {
      "text/plain": [
       "(65, 2)"
      ]
     },
     "execution_count": 28,
     "metadata": {},
     "output_type": "execute_result"
    }
   ],
   "source": [
    "clf.support_vectors_.shape"
   ]
  },
  {
   "cell_type": "code",
   "execution_count": 32,
   "metadata": {},
   "outputs": [
    {
     "data": {
      "text/plain": [
       "(65,)"
      ]
     },
     "execution_count": 32,
     "metadata": {},
     "output_type": "execute_result"
    }
   ],
   "source": [
    "clf.support_.shape"
   ]
  },
  {
   "cell_type": "code",
   "execution_count": 31,
   "metadata": {},
   "outputs": [
    {
     "data": {
      "text/plain": [
       "(1, 65)"
      ]
     },
     "execution_count": 31,
     "metadata": {},
     "output_type": "execute_result"
    }
   ],
   "source": [
    "clf.dual_coef_.shape"
   ]
  },
  {
   "cell_type": "code",
   "execution_count": 34,
   "metadata": {},
   "outputs": [
    {
     "data": {
      "text/plain": [
       "numpy.ndarray"
      ]
     },
     "execution_count": 34,
     "metadata": {},
     "output_type": "execute_result"
    }
   ],
   "source": [
    "type(clf.dual_coef_)"
   ]
  },
  {
   "cell_type": "code",
   "execution_count": 36,
   "metadata": {},
   "outputs": [
    {
     "data": {
      "text/plain": [
       "-1.0"
      ]
     },
     "execution_count": 36,
     "metadata": {},
     "output_type": "execute_result"
    }
   ],
   "source": [
    "np.min(clf.dual_coef_)"
   ]
  },
  {
   "cell_type": "code",
   "execution_count": 21,
   "metadata": {},
   "outputs": [
    {
     "data": {
      "text/plain": [
       "array([ 1.,  1.])"
      ]
     },
     "execution_count": 21,
     "metadata": {},
     "output_type": "execute_result"
    }
   ],
   "source": [
    "clf.class_weight_"
   ]
  },
  {
   "cell_type": "code",
   "execution_count": null,
   "metadata": {
    "collapsed": true
   },
   "outputs": [],
   "source": []
  }
 ],
 "metadata": {
  "anaconda-cloud": {},
  "kernelspec": {
   "display_name": "Python [default]",
   "language": "python",
   "name": "python3"
  },
  "language_info": {
   "codemirror_mode": {
    "name": "ipython",
    "version": 3
   },
   "file_extension": ".py",
   "mimetype": "text/x-python",
   "name": "python",
   "nbconvert_exporter": "python",
   "pygments_lexer": "ipython3",
   "version": "3.5.3"
  }
 },
 "nbformat": 4,
 "nbformat_minor": 2
}
