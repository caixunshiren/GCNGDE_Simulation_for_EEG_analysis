{
 "cells": [
  {
   "cell_type": "markdown",
   "metadata": {},
   "source": [
    "# Sandbox for training a classifier on patient features to help enusre that feature extraction is working"
   ]
  },
  {
   "cell_type": "code",
   "execution_count": 1,
   "metadata": {},
   "outputs": [],
   "source": [
    "# Libraries\n",
    "import numpy as np\n",
    "import scipy.io as sio\n",
    "import os\n",
    "# import pickle\n",
    "# import ieeg_funcs as ief\n",
    "# import re\n",
    "import dgFuncs as dg\n",
    "from sklearn import preprocessing\n",
    "# from scipy import stats\n",
    "# from mpl_toolkits.axes_grid1 import make_axes_locatable\n",
    "from sklearn import svm, linear_model\n",
    "from sklearn.externals import joblib\n",
    "import matplotlib.pyplot as plt\n",
    "%matplotlib inline\n"
   ]
  },
  {
   "cell_type": "code",
   "execution_count": 2,
   "metadata": {},
   "outputs": [
    {
     "data": {
      "text/plain": [
       "<module 'dgFuncs' from '/home/dgroppe/GIT/DG_LIBRARY/dgFuncs.py'>"
      ]
     },
     "execution_count": 2,
     "metadata": {},
     "output_type": "execute_result"
    }
   ],
   "source": [
    "import imp \n",
    "imp.reload(dg) "
   ]
  },
  {
   "cell_type": "code",
   "execution_count": 3,
   "metadata": {},
   "outputs": [],
   "source": [
    "def chan_labels_from_fname(in_file):\n",
    "    just_fname=in_file.split('/')[-1]\n",
    "    jf_splt=just_fname.split('_')\n",
    "    chan_label=jf_splt[1]+'-'+jf_splt[2]\n",
    "    return chan_label"
   ]
  },
  {
   "cell_type": "code",
   "execution_count": 10,
   "metadata": {},
   "outputs": [
    {
     "name": "stdout",
     "output_type": "stream",
     "text": [
      "dict_keys(['__header__', '__version__', '__globals__', 'ftr_labels', 'source_fnames', 'subsamp_se_ftrs', 'subsamp_se_ftrs_time_sec', 'subsamp_szr_class', 'subsamp_targ_class'])\n"
     ]
    },
    {
     "data": {
      "text/plain": [
       "'1096_HL5_HL6_subsamp.mat'"
      ]
     },
     "execution_count": 10,
     "metadata": {},
     "output_type": "execute_result"
    }
   ],
   "source": [
    "print(temp_ftrs.keys())\n",
    "f"
   ]
  },
  {
   "cell_type": "code",
   "execution_count": 12,
   "metadata": {},
   "outputs": [
    {
     "name": "stdout",
     "output_type": "stream",
     "text": [
      "8 non-szr files found\n",
      "38 szr files found\n",
      "47190 total # of NON-szr time windows\n",
      "46818 total # of SZR time windows\n"
     ]
    }
   ],
   "source": [
    "sub='620'\n",
    "sub='1096'\n",
    "# Get size of non-szr data (and filename)\n",
    "# Get filenames \n",
    "#/Users/davidgroppe/PycharmProjects/SZR_ANT/EU_GENERAL/EU_GENERAL_FTRS/SE/1096_HL1_HL2_non.mat\n",
    "#ftr_path='/Users/davidgroppe/PycharmProjects/SZR_ANT/EU_GENERAL/EU_GENERAL_FTRS/SE/'\n",
    "ftr_path=os.path.join('/home/dgroppe/GIT/SZR_ANT/EU_GENERAL/EU_GENERAL_FTRS/SE',sub)\n",
    "non_fnames=list()\n",
    "szr_fnames=list()\n",
    "for f in os.listdir(ftr_path):\n",
    "    if f.endswith('non.mat'):\n",
    "        non_fnames.append(f)\n",
    "    elif f.endswith('subsamp.mat'):\n",
    "        pass\n",
    "    elif f.endswith('.mat') and f.startswith(sub+'_'):\n",
    "        szr_fnames.append(f)\n",
    "        \n",
    "print('%d non-szr files found' % len(non_fnames))\n",
    "print('%d szr files found' % len(szr_fnames))  \n",
    "    \n",
    "# Import NON-szr files to get total # of windows\n",
    "n_non_wind=0\n",
    "ftr_dim=0\n",
    "for f in non_fnames:\n",
    "    in_file=os.path.join(ftr_path,f)\n",
    "    temp_ftrs=sio.loadmat(in_file)\n",
    "    n_non_wind+=temp_ftrs['nonszr_se_ftrs'].shape[1]\n",
    "    if ftr_dim==0:\n",
    "        ftr_dim=temp_ftrs['nonszr_se_ftrs'].shape[0]\n",
    "print('%d total # of NON-szr time windows' % n_non_wind)\n",
    "\n",
    "# Loop over SZR files to get total # of windows\n",
    "n_szr_wind=0\n",
    "for f in szr_fnames:\n",
    "    in_file=os.path.join(ftr_path,f)\n",
    "    temp_ftrs=sio.loadmat(in_file)\n",
    "    #print(temp_ftrs.keys())\n",
    "    n_szr_wind+=temp_ftrs['se_ftrs'].shape[1]\n",
    "print('%d total # of SZR time windows' % n_szr_wind)\n",
    "# print(temp_ftrs.keys())\n",
    "#dict_keys(['__header__', '__version__', '__globals__', 'ftr_labels', 'nonszr_se_ftrs',\n",
    "#           'nonszr_se_ftrs_time_sec', 'source_fnames'])"
   ]
  },
  {
   "cell_type": "code",
   "execution_count": 14,
   "metadata": {},
   "outputs": [
    {
     "name": "stdout",
     "output_type": "stream",
     "text": [
      "/home/dgroppe/GIT/SZR_ANT/EU_GENERAL/EU_GENERAL_FTRS/SE/1096/1096_HL7_HL8_non.mat\n"
     ]
    },
    {
     "data": {
      "text/plain": [
       "dict_keys(['__header__', '__version__', '__globals__', 'ftr_labels', 'nonszr_se_ftrs', 'nonszr_se_ftrs_time_sec', 'source_fnames'])"
      ]
     },
     "execution_count": 14,
     "metadata": {},
     "output_type": "execute_result"
    }
   ],
   "source": [
    "print(in_file)\n",
    "temp_ftrs.keys()"
   ]
  },
  {
   "cell_type": "code",
   "execution_count": 13,
   "metadata": {},
   "outputs": [
    {
     "ename": "KeyError",
     "evalue": "'chan_labels'",
     "output_type": "error",
     "traceback": [
      "\u001b[0;31m---------------------------------------------------------------------------\u001b[0m",
      "\u001b[0;31mKeyError\u001b[0m                                  Traceback (most recent call last)",
      "\u001b[0;32m<ipython-input-13-cb06467e46f0>\u001b[0m in \u001b[0;36m<module>\u001b[0;34m()\u001b[0m\n\u001b[1;32m     13\u001b[0m \u001b[0mtemp_ftrs\u001b[0m\u001b[0;34m=\u001b[0m\u001b[0msio\u001b[0m\u001b[0;34m.\u001b[0m\u001b[0mloadmat\u001b[0m\u001b[0;34m(\u001b[0m\u001b[0min_file\u001b[0m\u001b[0;34m)\u001b[0m\u001b[0;34m\u001b[0m\u001b[0m\n\u001b[1;32m     14\u001b[0m \u001b[0;31m# Get list of channels\u001b[0m\u001b[0;34m\u001b[0m\u001b[0;34m\u001b[0m\u001b[0m\n\u001b[0;32m---> 15\u001b[0;31m \u001b[0mn_chans\u001b[0m\u001b[0;34m=\u001b[0m\u001b[0mtemp_ftrs\u001b[0m\u001b[0;34m[\u001b[0m\u001b[0;34m'chan_labels'\u001b[0m\u001b[0;34m]\u001b[0m\u001b[0;34m.\u001b[0m\u001b[0mshape\u001b[0m\u001b[0;34m[\u001b[0m\u001b[0;36m0\u001b[0m\u001b[0;34m]\u001b[0m\u001b[0;34m\u001b[0m\u001b[0m\n\u001b[0m\u001b[1;32m     16\u001b[0m \u001b[0mchan_labels\u001b[0m\u001b[0;34m=\u001b[0m\u001b[0mlist\u001b[0m\u001b[0;34m(\u001b[0m\u001b[0;34m)\u001b[0m\u001b[0;34m\u001b[0m\u001b[0m\n\u001b[1;32m     17\u001b[0m \u001b[0;32mfor\u001b[0m \u001b[0mtemp_lab\u001b[0m \u001b[0;32min\u001b[0m \u001b[0mtemp_ftrs\u001b[0m\u001b[0;34m[\u001b[0m\u001b[0;34m'chan_labels'\u001b[0m\u001b[0;34m]\u001b[0m\u001b[0;34m:\u001b[0m\u001b[0;34m\u001b[0m\u001b[0m\n",
      "\u001b[0;31mKeyError\u001b[0m: 'chan_labels'"
     ]
    }
   ],
   "source": [
    "# Preallocate memory\n",
    "ftrs=np.zeros((ftr_dim,n_szr_wind+n_non_wind))\n",
    "targ_labels=np.zeros(n_szr_wind+n_non_wind)\n",
    "\n",
    "# Import non-szr data\n",
    "ptr=0\n",
    "mns_dict=dict()\n",
    "sds_dict=dict()\n",
    "\n",
    "in_file=os.path.join(ftr_path,non_fnames[0])\n",
    "# chan_label=chan_labels_from_fname(in_file)\n",
    "    \n",
    "temp_ftrs=sio.loadmat(in_file)\n",
    "# Get list of channels\n",
    "n_chans=temp_ftrs['chan_labels'].shape[0]  \n",
    "chan_labels=list()\n",
    "for temp_lab in temp_ftrs['chan_labels']:\n",
    "    chan_labels.append(temp_lab[0][0])\n",
    "\n",
    "# Import features\n",
    "non_n_wind=temp_ftrs['nonszr_se_ftrs'].shape[1]\n",
    "raw_ftrs=temp_ftrs['nonszr_se_ftrs']    \n",
    "n_ftrs=raw_ftrs.shape[0]\n",
    "chan_mns=np.zeros((n_ftrs,n_chans))\n",
    "chan_sds=np.zeros((n_ftrs,n_chans))\n",
    "# Normalize features on a per-channel basis\n",
    "for chan_id in range(n_chans):\n",
    "#for chan_id in range(1,2):\n",
    "    for ftr_id in range(n_ftrs):\n",
    "        ftrs_for_this_chan=temp_ftrs['ftr_chan_map'][0,:]==(chan_id+1)\n",
    "        chan_mns[ftr_id,chan_id]=np.mean(raw_ftrs[ftr_id,ftrs_for_this_chan])\n",
    "        chan_sds[ftr_id,chan_id]=np.std(raw_ftrs[ftr_id,ftrs_for_this_chan])\n",
    "#         raw_ftrs[ftr_id,ftrs_for_this_chan]=(raw_ftrs[ftr_id,ftrs_for_this_chan]-\n",
    "#                                              chan_mns[ftr_id,chan_id])/chan_sds[ftr_id,chan_id]\n",
    "\n",
    "# for t in range(non_n_wind):\n",
    "#     chan_id=1\n",
    "#     for ftr_id in range(n_ftrs):\n",
    "#         raw_ftrs[ftr_id,t]=(raw_ftrs[ftr_id,t]-chan_mns[ftr_id,chan_id])/chan_sds[ftr_id,chan_id]\n",
    "ftrs[:,:non_n_wind]=raw_ftrs\n",
    "\n",
    "\n",
    "# Import szr data\n",
    "ptr=non_n_wind\n",
    "for f in szr_fnames:\n",
    "    in_file=os.path.join(ftr_path,f)\n",
    "    chan_label=chan_labels_from_fname(in_file)\n",
    "    temp_ftrs=sio.loadmat(in_file)\n",
    "    temp_n_wind=temp_ftrs['se_ftrs'].shape[1]\n",
    "    raw_ftrs=temp_ftrs['se_ftrs']\n",
    "    chan_id=chan_labels.index(chan_label)\n",
    "#     for ftr_id in range(n_ftrs):\n",
    "#         raw_ftrs[ftr_id,:]=(raw_ftrs[ftr_id,:]-chan_mns[ftr_id,chan_id])/chan_sds[ftr_id,chan_id]\n",
    "        \n",
    "    ftrs[:,ptr:ptr+temp_n_wind]=raw_ftrs\n",
    "    targ_labels[ptr:ptr+temp_n_wind]=1;\n",
    "    ptr+=temp_n_wind\n",
    "print('done.')"
   ]
  },
  {
   "cell_type": "code",
   "execution_count": 34,
   "metadata": {},
   "outputs": [
    {
     "data": {
      "image/png": "[encoded data removed]",
      "text/plain": [
       "<matplotlib.figure.Figure at 0x7f51e0e4aeb8>"
      ]
     },
     "metadata": {},
     "output_type": "display_data"
    }
   ],
   "source": [
    "plt.figure(1)\n",
    "plt.clf()\n",
    "plt.plot(ftrs.T);\n",
    "# plt.plot(temp_ftrs['ftr_chan_map'][0,:]*400,'r-')"
   ]
  },
  {
   "cell_type": "code",
   "execution_count": 8,
   "metadata": {},
   "outputs": [
    {
     "data": {
      "text/plain": [
       "[<matplotlib.lines.Line2D at 0x7f51e4e49828>]"
      ]
     },
     "execution_count": 8,
     "metadata": {},
     "output_type": "execute_result"
    },
    {
     "data": {
      "image/png": "[encoded data removed]",
      "text/plain": [
       "<matplotlib.figure.Figure at 0x7f51e4e234a8>"
      ]
     },
     "metadata": {},
     "output_type": "display_data"
    }
   ],
   "source": [
    "plt.figure(1)\n",
    "plt.clf()\n",
    "plt.plot(raw_ftrs.T);\n",
    "plt.plot(temp_ftrs['ftr_chan_map'][0,:]*10,'r-')\n",
    "\n",
    "# plt.figure(2)\n",
    "# plt.clf()\n",
    "# plt.plot(targ_labels);"
   ]
  },
  {
   "cell_type": "code",
   "execution_count": 7,
   "metadata": {},
   "outputs": [
    {
     "data": {
      "text/plain": [
       "(1, 50986)"
      ]
     },
     "execution_count": 7,
     "metadata": {},
     "output_type": "execute_result"
    }
   ],
   "source": [
    "temp_ftrs['ftr_chan_map'].shape"
   ]
  },
  {
   "cell_type": "code",
   "execution_count": null,
   "metadata": {},
   "outputs": [],
   "source": [
    "print(in_file)\n",
    "just_fname=in_file.split('/')[-1]\n",
    "print(just_fname)\n",
    "jf_splt=just_fname.split('_')\n",
    "chan_label=jf_splt[1]+'-'+jf_splt[2]\n",
    "print(chan_label)"
   ]
  },
  {
   "cell_type": "code",
   "execution_count": null,
   "metadata": {},
   "outputs": [],
   "source": [
    "# Train classifier\n",
    "C=1\n",
    "model = linear_model.LogisticRegression(C=C,class_weight='balanced')\n",
    "\n",
    "model.fit(ftrs.T, targ_labels)\n",
    "\n",
    "# "
   ]
  },
  {
   "cell_type": "code",
   "execution_count": null,
   "metadata": {
    "collapsed": true
   },
   "outputs": [],
   "source": [
    "train_class_hat = model.predict_proba(ftrs.T)[:,1]"
   ]
  },
  {
   "cell_type": "code",
   "execution_count": null,
   "metadata": {},
   "outputs": [],
   "source": [
    "from sklearn.metrics import roc_auc_score\n",
    "auc=roc_auc_score(targ_labels, train_class_hat)\n",
    "print('AUC=%.3f' % auc)"
   ]
  },
  {
   "cell_type": "code",
   "execution_count": null,
   "metadata": {},
   "outputs": [],
   "source": [
    "plt.figure(11)\n",
    "plt.clf()\n",
    "plt.plot(ftrs.T);\n",
    "\n",
    "plt.figure(12)\n",
    "plt.clf()\n",
    "plt.plot(targ_labels,'b-');\n",
    "plt.plot(train_class_hat,'r-');"
   ]
  },
  {
   "cell_type": "code",
   "execution_count": null,
   "metadata": {},
   "outputs": [],
   "source": [
    "print(temp_ftrs.keys())"
   ]
  },
  {
   "cell_type": "code",
   "execution_count": null,
   "metadata": {},
   "outputs": [],
   "source": [
    "temp_ftrs['nonszr_se_ftrs'].shape[1]"
   ]
  },
  {
   "cell_type": "code",
   "execution_count": 35,
   "metadata": {},
   "outputs": [],
   "source": [
    "from imblearn.under_sampling import ClusterCentroids"
   ]
  },
  {
   "cell_type": "code",
   "execution_count": 36,
   "metadata": {},
   "outputs": [],
   "source": [
    "ClusterCentroids?"
   ]
  },
  {
   "cell_type": "code",
   "execution_count": null,
   "metadata": {
    "collapsed": true
   },
   "outputs": [],
   "source": [
    "# Train classifier\n"
   ]
  },
  {
   "cell_type": "code",
   "execution_count": null,
   "metadata": {
    "collapsed": true
   },
   "outputs": [],
   "source": [
    "# Predict data"
   ]
  },
  {
   "cell_type": "code",
   "execution_count": null,
   "metadata": {
    "collapsed": true
   },
   "outputs": [],
   "source": [
    "# Plot some szrs along with predictions?"
   ]
  }
 ],
 "metadata": {
  "anaconda-cloud": {},
  "kernelspec": {
   "display_name": "Python 3",
   "language": "python",
   "name": "python3"
  },
  "language_info": {
   "codemirror_mode": {
    "name": "ipython",
    "version": 3
   },
   "file_extension": ".py",
   "mimetype": "text/x-python",
   "name": "python",
   "nbconvert_exporter": "python",
   "pygments_lexer": "ipython3",
   "version": "3.6.0"
  }
 },
 "nbformat": 4,
 "nbformat_minor": 2
}
