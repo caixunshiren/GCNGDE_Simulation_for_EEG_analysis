{
 "cells": [
  {
   "cell_type": "code",
   "execution_count": 38,
   "metadata": {},
   "outputs": [],
   "source": [
    "import numpy as np\n",
    "import scipy.io as sio\n",
    "import os\n",
    "import dgFuncs as dg\n",
    "import matplotlib.pyplot as plt\n",
    "%matplotlib inline"
   ]
  },
  {
   "cell_type": "code",
   "execution_count": 2,
   "metadata": {},
   "outputs": [
    {
     "name": "stdout",
     "output_type": "stream",
     "text": [
      "['valid_sens', 'valid_spec', 'valid_bal_acc', 'best_valid_bal_acc_by_sub', 'train_sens', 'train_spec', 'train_bal_acc', 'train_subs_list', 'mn_stim_latency', 'pptn_missed_szrs', 'pptn_preonset_stim', 'n_train_steps', 'rand_ct', 'C_vals', 'gamma_vals', 'tried_C', 'tried_gamma', 'tried_train_acc', 'tried_valid_acc', 'best_valid_bal_acc', 'best_train_bal_acc', 'best_C', 'best_gam', 'best_models', 'equal_sub_wts', 'ftr_types', 'left_out_id']\n"
     ]
    }
   ],
   "source": [
    "#in_fname='/Users/davidgroppe/PycharmProjects/SZR_ANT/MODELS/genLogregSe_1/classify_metrics_srch.npz'\n",
    "in_fname='/home/dgroppe/GIT/SZR_ANT/MODELS/gen16_logreg_se_ewts_1/classify_metrics_srch.npz'\n",
    "npz=np.load(in_fname)\n",
    "print(npz.keys())"
   ]
  },
  {
   "cell_type": "code",
   "execution_count": 4,
   "metadata": {},
   "outputs": [
    {
     "name": "stdout",
     "output_type": "stream",
     "text": [
      "[ 115  253  264  273  442  565  590  620  862  922  958  970 1077 1096 1125]\n",
      "15\n"
     ]
    }
   ],
   "source": [
    "print(npz['train_subs_list'])\n",
    "#print(npz['uni_subs'])\n",
    "print(len(npz['valid_sens']))"
   ]
  },
  {
   "cell_type": "code",
   "execution_count": 34,
   "metadata": {},
   "outputs": [
    {
     "name": "stdout",
     "output_type": "stream",
     "text": [
      "['max_yhat', 'yhat_soz_chans', 'yhat_sec']\n",
      "1652\n"
     ]
    }
   ],
   "source": [
    "npz=np.load('/home/dgroppe/EU_YHAT/1125_svmAesFinale_1/112500102_0000_yhat.npz')\n",
    "print(npz.keys())\n",
    "print(np.sum(npz['max_yhat']>0.5))\n",
    "sio.savemat('/home/dgroppe/GIT/SZR_ANT/temp_1125_inter.mat',npz)"
   ]
  },
  {
   "cell_type": "code",
   "execution_count": 35,
   "metadata": {},
   "outputs": [
    {
     "name": "stdout",
     "output_type": "stream",
     "text": [
      "['valid_sens', 'valid_spec', 'valid_bal_acc', 'best_valid_bal_acc_by_sub', 'train_sens', 'train_spec', 'train_bal_acc', 'train_subs_list', 'n_train_steps', 'C_vals', 'gam', 'tried_C', 'tried_gamma', 'tried_train_acc', 'tried_valid_acc', 'best_valid_bal_acc', 'best_train_bal_acc', 'equal_sub_wts', 'best_C', 'best_gam', 'best_models', 'ftr_types', 'left_out_id']\n"
     ]
    }
   ],
   "source": [
    "in_fname='/home/dgroppe/GIT/SZR_ANT/MODELS/svmKdsampSeAes8_19/classify_metrics_srch.npz'\n",
    "npz=np.load(in_fname)\n",
    "print(npz.keys())"
   ]
  },
  {
   "cell_type": "code",
   "execution_count": 45,
   "metadata": {},
   "outputs": [
    {
     "name": "stdout",
     "output_type": "stream",
     "text": [
      "[ 0.89505134  0.68968614  0.89284057  0.9381464   0.88816864  0.91024476\n",
      "  0.84807369  0.62778511]\n",
      "Validation Data\n",
      "0.836249581547\n",
      "0.747432385681\n",
      "0.925066777413\n",
      "Training Data\n",
      "0.93707112363\n",
      "0.930004703389\n",
      "0.944137543871\n"
     ]
    }
   ],
   "source": [
    "print(npz['valid_bal_acc'])\n",
    "np.mean(npz['valid_bal_acc'])\n",
    "mn, ci_low, ci_hi=dg.mean_and_cis(npz['valid_bal_acc'])\n",
    "print('Validation Data')\n",
    "print(mn)\n",
    "print(ci_low)\n",
    "print(ci_hi)\n",
    "print('Training Data')\n",
    "mn, ci_low, ci_hi=dg.mean_and_cis(npz['train_bal_acc'])\n",
    "print(mn)\n",
    "print(ci_low)\n",
    "print(ci_hi)"
   ]
  },
  {
   "cell_type": "code",
   "execution_count": null,
   "metadata": {},
   "outputs": [],
   "source": [
    "mn, ci=dg.mean_and_cis"
   ]
  },
  {
   "cell_type": "code",
   "execution_count": 5,
   "metadata": {
    "scrolled": true
   },
   "outputs": [
    {
     "name": "stdout",
     "output_type": "stream",
     "text": [
      "done\n"
     ]
    },
    {
     "data": {
      "image/png": "[encoded data removed]",
      "text/plain": [
       "<matplotlib.figure.Figure at 0x7f01d53e6588>"
      ]
     },
     "metadata": {},
     "output_type": "display_data"
    },
    {
     "data": {
      "image/png": "[encoded data removed]",
      "text/plain": [
       "<matplotlib.figure.Figure at 0x7f01d336bda0>"
      ]
     },
     "metadata": {},
     "output_type": "display_data"
    }
   ],
   "source": [
    "# Plot Accuracy\n",
    "plt.figure(1)\n",
    "plt.clf()\n",
    "plt.plot(npz['best_valid_bal_acc_by_sub'],'ro')\n",
    "plt.ylim([0.5, 1])\n",
    "plt.xticks(np.arange(0,len(npz['train_subs_list'])),npz['train_subs_list'].astype('int'),rotation='vertical')\n",
    "plt.ylabel('Accuracy')\n",
    "\n",
    "# Plot Sensitivity & Specificity\n",
    "plt.figure(2)\n",
    "plt.clf()\n",
    "plt.plot(npz['valid_sens'],'mo')\n",
    "plt.plot(npz['valid_spec'],'bo')\n",
    "plt.ylim([0, 1])\n",
    "plt.xticks(np.arange(0,len(npz['train_subs_list'])),npz['train_subs_list'].astype('int'),rotation='vertical')\n",
    "plt.ylabel('m=sens, b=spec')\n",
    "print('done')"
   ]
  },
  {
   "cell_type": "code",
   "execution_count": 25,
   "metadata": {},
   "outputs": [
    {
     "name": "stdout",
     "output_type": "stream",
     "text": [
      "dict_keys(['__header__', '__version__', '__globals__', 'se_szr_class', 'se_time_sec', 'szr_class_dec', 'time_dec'])\n",
      "(1, 35436)\n",
      "(1, 34259)\n",
      "(1, 921600)\n",
      "(1, 921600)\n"
     ]
    }
   ],
   "source": [
    "#y_fname='/home/dgroppe/EU_Y/862_all_labels/862_y_86201102_0140.mat'\n",
    "y_fname='/home/dgroppe/EU_Y/862_all_labels/862_y_86201102_0141.mat'\n",
    "y_dict=sio.loadmat(y_fname)\n",
    "print(y_dict.keys())\n",
    "print(y_dict['se_time_sec'].shape)\n",
    "print(y_dict['se_szr_class'].shape)\n",
    "print(y_dict['time_dec'].shape)\n",
    "print(y_dict['szr_class_dec'].shape)"
   ]
  },
  {
   "cell_type": "code",
   "execution_count": 26,
   "metadata": {},
   "outputs": [
    {
     "name": "stdout",
     "output_type": "stream",
     "text": [
      "['max_yhat', 'yhat_soz_chans', 'yhat_sec']\n",
      "(34259,)\n"
     ]
    }
   ],
   "source": [
    "yhat=np.load('/home/dgroppe/EU_YHAT/862_svmAesFinale_1/86201102_0141_yhat.npz')\n",
    "print(yhat.keys())\n",
    "print(yhat['max_yhat'].shape)"
   ]
  },
  {
   "cell_type": "code",
   "execution_count": 28,
   "metadata": {},
   "outputs": [
    {
     "data": {
      "image/png": "[encoded data removed]",
      "text/plain": [
       "<matplotlib.figure.Figure at 0x7f01bc1cbd68>"
      ]
     },
     "metadata": {},
     "output_type": "display_data"
    },
    {
     "data": {
      "image/png": "[encoded data removed]",
      "text/plain": [
       "<matplotlib.figure.Figure at 0x7f01bc3fbc18>"
      ]
     },
     "metadata": {},
     "output_type": "display_data"
    }
   ],
   "source": [
    "plt.figure(10)\n",
    "plt.clf()\n",
    "plt.plot(y_dict['se_time_sec'][0,1177:].T,y_dict['se_szr_class'].T);\n",
    "plt.plot(yhat['yhat_sec'].T,yhat['max_yhat'],'r-')\n",
    "\n",
    "plt.figure(11)\n",
    "plt.clf()\n",
    "plt.plot(y_dict['time_dec'].T,y_dict['szr_class_dec'].T);"
   ]
  },
  {
   "cell_type": "code",
   "execution_count": null,
   "metadata": {},
   "outputs": [],
   "source": []
  }
 ],
 "metadata": {
  "anaconda-cloud": {},
  "kernelspec": {
   "display_name": "Python 3",
   "language": "python",
   "name": "python3"
  },
  "language_info": {
   "codemirror_mode": {
    "name": "ipython",
    "version": 3
   },
   "file_extension": ".py",
   "mimetype": "text/x-python",
   "name": "python",
   "nbconvert_exporter": "python",
   "pygments_lexer": "ipython3",
   "version": "3.6.0"
  }
 },
 "nbformat": 4,
 "nbformat_minor": 2
}
