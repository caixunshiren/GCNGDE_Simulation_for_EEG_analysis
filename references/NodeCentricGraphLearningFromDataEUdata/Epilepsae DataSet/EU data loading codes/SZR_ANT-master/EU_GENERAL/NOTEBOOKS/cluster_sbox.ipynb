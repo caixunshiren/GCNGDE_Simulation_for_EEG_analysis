{
 "cells": [
  {
   "cell_type": "code",
   "execution_count": 16,
   "metadata": {
    "collapsed": true
   },
   "outputs": [],
   "source": [
    "# Libraries\n",
    "import numpy as np\n",
    "import scipy.io as sio\n",
    "import os\n",
    "# import pickle\n",
    "# import ieeg_funcs as ief\n",
    "# import re\n",
    "import dgFuncs as dg\n",
    "from sklearn import preprocessing\n",
    "# from scipy import stats\n",
    "# from mpl_toolkits.axes_grid1 import make_axes_locatable\n",
    "#rom sklearn import svm, linear_model\n",
    "from sklearn.cluster import KMeans\n",
    "from sklearn.externals import joblib\n",
    "import matplotlib.pyplot as plt\n",
    "%matplotlib inline"
   ]
  },
  {
   "cell_type": "code",
   "execution_count": 3,
   "metadata": {
    "collapsed": true
   },
   "outputs": [],
   "source": [
    "def chan_labels_from_fname(in_file):\n",
    "    just_fname=in_file.split('/')[-1]\n",
    "    jf_splt=just_fname.split('_')\n",
    "    chan_label=jf_splt[1]+'-'+jf_splt[2]\n",
    "    return chan_label"
   ]
  },
  {
   "cell_type": "code",
   "execution_count": 2,
   "metadata": {
    "collapsed": true
   },
   "outputs": [],
   "source": [
    "# Get size of a subject's data (and filenames)\n",
    "def data_size_and_fnames(sub_list,ftr_root):\n",
    "    grand_non_fnames=list()\n",
    "    grand_szr_fnames=list()\n",
    "    grand_n_szr_wind=0\n",
    "    grand_n_non_wind=0\n",
    "    for sub in sub_list:\n",
    "        print('Working on sub %d' % sub)\n",
    "        non_fnames=list()\n",
    "        szr_fnames=list()\n",
    "        \n",
    "        ftr_path=os.path.join(ftr_root,str(sub))\n",
    "        for f in os.listdir(ftr_path):\n",
    "            if f.endswith('non.mat'):\n",
    "                non_fnames.append(os.path.join(ftr_root,str(sub),f))\n",
    "            elif f.endswith('.mat') and f.startswith(str(sub)+'_'):\n",
    "                szr_fnames.append(os.path.join(ftr_root,str(sub),f))\n",
    "\n",
    "        print('%d non-szr files found' % len(non_fnames))\n",
    "        print('%d szr files found' % len(szr_fnames))  \n",
    "\n",
    "        # Loop over NON-szr files to get total # of windows\n",
    "        n_non_wind=0\n",
    "        ftr_dim=0\n",
    "        for f in non_fnames:\n",
    "            temp_ftrs=sio.loadmat(f)\n",
    "            n_non_wind+=temp_ftrs['nonszr_se_ftrs'].shape[1]\n",
    "            if ftr_dim==0:\n",
    "                ftr_dim=temp_ftrs['nonszr_se_ftrs'].shape[0]\n",
    "            elif ftr_dim!=temp_ftrs['nonszr_se_ftrs'].shape[0]:\n",
    "                raise ValueError('# of features in file does match previous files')\n",
    "\n",
    "        print('%d total # of NON-szr time windows for this sub' % n_non_wind)\n",
    "\n",
    "        # Loop over SZR files to get total # of windows\n",
    "        n_szr_wind=0\n",
    "        for f in szr_fnames:\n",
    "            temp_ftrs=sio.loadmat(f)\n",
    "            n_szr_wind+=temp_ftrs['se_ftrs'].shape[1]\n",
    "        print('%d total # of SZR time windows for this sub' % n_szr_wind)\n",
    "        \n",
    "        grand_non_fnames+=non_fnames\n",
    "        grand_szr_fnames+=szr_fnames\n",
    "        grand_n_szr_wind+=n_szr_wind\n",
    "        grand_n_non_wind+=n_non_wind\n",
    "        \n",
    "    return grand_szr_fnames, grand_non_fnames, grand_n_szr_wind, grand_n_non_wind, ftr_dim"
   ]
  },
  {
   "cell_type": "code",
   "execution_count": 10,
   "metadata": {
    "collapsed": true
   },
   "outputs": [],
   "source": [
    "def import_nonszr_data(non_fnames, n_non_wind, ftr_dim):\n",
    "    #ftr_path=os.path.join(ftr_root,str(sub))\n",
    "        \n",
    "    # Preallocate memory\n",
    "    ftrs=np.zeros((ftr_dim,n_non_wind))\n",
    "\n",
    "    # Import non-szr data\n",
    "    ptr=0\n",
    "    mns_dict=dict()\n",
    "    sds_dict=dict()\n",
    "    for f in non_fnames:\n",
    "        chan_label=chan_labels_from_fname(f)\n",
    "\n",
    "        temp_ftrs=sio.loadmat(f)\n",
    "        temp_n_wind=temp_ftrs['nonszr_se_ftrs'].shape[1]\n",
    "        raw_ftrs=temp_ftrs['nonszr_se_ftrs']\n",
    "        # Z-score features\n",
    "        temp_mns, temp_sds=dg.trimmed_normalize(raw_ftrs,0,zero_nans=False,verbose=False)\n",
    "        mns_dict[chan_label]=temp_mns\n",
    "        sds_dict[chan_label]=temp_sds\n",
    "    \n",
    "        ftrs[:,ptr:ptr+temp_n_wind]=raw_ftrs\n",
    "        ptr+=temp_n_wind\n",
    "\n",
    "    return ftrs"
   ]
  },
  {
   "cell_type": "code",
   "execution_count": 11,
   "metadata": {
    "collapsed": false
   },
   "outputs": [
    {
     "name": "stdout",
     "output_type": "stream",
     "text": [
      "Working on sub 620\n",
      "5 non-szr files found\n",
      "14 szr files found\n",
      "8960 total # of NON-szr time windows for this sub\n",
      "8210 total # of SZR time windows for this sub\n"
     ]
    }
   ],
   "source": [
    "train_subs=[620] \n",
    "#/Users/davidgroppe/PycharmProjects/SZR_ANT/EU_GENERAL/EU_GENERAL_FTRS/SE/1096_HL1_HL2_non.ma\n",
    "ftr_root='/home/dgroppe/GIT/SZR_ANT/EU_GENERAL/EU_GENERAL_FTRS/SE/'\n",
    "szr_fnames_tr, non_fnames_tr, n_szr_wind_tr, n_non_wind_tr, ftr_dim=data_size_and_fnames(train_subs, ftr_root)\n",
    "ftrs_tr=import_nonszr_data(non_fnames_tr, n_non_wind_tr, ftr_dim)"
   ]
  },
  {
   "cell_type": "code",
   "execution_count": 19,
   "metadata": {
    "collapsed": false
   },
   "outputs": [
    {
     "data": {
      "text/plain": [
       "(30, 8960)"
      ]
     },
     "execution_count": 19,
     "metadata": {},
     "output_type": "execute_result"
    }
   ],
   "source": [
    "ftrs_tr.shape"
   ]
  },
  {
   "cell_type": "code",
   "execution_count": 20,
   "metadata": {
    "collapsed": false
   },
   "outputs": [
    {
     "name": "stdout",
     "output_type": "stream",
     "text": [
      "Trying 896 clusters\n"
     ]
    }
   ],
   "source": [
    "# Apply kmeans\n",
    "# kmeans = KMeans(n_clusters=2, random_state=0).fit(X)\n",
    "# kmeans.cluster_centers_\n",
    "k=int(np.round(n_non_wind_tr)/10)\n",
    "print('Trying %d clusters' % k)\n",
    "kclusters = KMeans(n_clusters=k).fit(ftrs_tr.T)"
   ]
  },
  {
   "cell_type": "code",
   "execution_count": 40,
   "metadata": {
    "collapsed": false
   },
   "outputs": [
    {
     "name": "stdout",
     "output_type": "stream",
     "text": [
      "Trying 4480 clusters\n"
     ]
    }
   ],
   "source": [
    "# Apply kmeans\n",
    "# kmeans = KMeans(n_clusters=2, random_state=0).fit(X)\n",
    "# kmeans.cluster_centers_\n",
    "k=int(np.round(n_non_wind_tr)/2)\n",
    "print('Trying %d clusters' % k)\n",
    "kclusters2 = KMeans(n_clusters=k,n_jobs=-1).fit(ftrs_tr.T)"
   ]
  },
  {
   "cell_type": "code",
   "execution_count": 33,
   "metadata": {
    "collapsed": false
   },
   "outputs": [
    {
     "name": "stdout",
     "output_type": "stream",
     "text": [
      "24242.4981839\n",
      "42848.8485957\n",
      "VA=0.434232 \n"
     ]
    }
   ],
   "source": [
    "# Measure % variance accounted for\n",
    "print(kclusters.inertia_)\n",
    "sum_dist=np.sum(np.sqrt(np.sum(ftrs_tr**2,axis=0)))\n",
    "print(sum_dist)\n",
    "print('Pptn VA=%f ' % (1-np.divide(kclusters.inertia_,sum_dist)))"
   ]
  },
  {
   "cell_type": "code",
   "execution_count": 39,
   "metadata": {
    "collapsed": false
   },
   "outputs": [
    {
     "name": "stdout",
     "output_type": "stream",
     "text": [
      "10638.6669404\n",
      "42848.8485957\n",
      "Pptn VA=0.751716 \n"
     ]
    }
   ],
   "source": [
    "# Measure % variance accounted for 3 factor\n",
    "print(kclusters2.inertia_)\n",
    "sum_dist=np.sum(np.sqrt(np.sum(ftrs_tr**2,axis=0)))\n",
    "print(sum_dist)\n",
    "print('Pptn VA=%f ' % (1-np.divide(kclusters2.inertia_,sum_dist)))"
   ]
  },
  {
   "cell_type": "code",
   "execution_count": 41,
   "metadata": {
    "collapsed": false
   },
   "outputs": [
    {
     "name": "stdout",
     "output_type": "stream",
     "text": [
      "5898.36392085\n",
      "42848.8485957\n",
      "Pptn VA=0.862345 \n"
     ]
    }
   ],
   "source": [
    "# Measure % variance accounted for 2 factor\n",
    "print(kclusters2.inertia_)\n",
    "sum_dist=np.sum(np.sqrt(np.sum(ftrs_tr**2,axis=0)))\n",
    "print(sum_dist)\n",
    "print('Pptn VA=%f ' % (1-np.divide(kclusters2.inertia_,sum_dist)))"
   ]
  },
  {
   "cell_type": "code",
   "execution_count": 12,
   "metadata": {
    "collapsed": false
   },
   "outputs": [
    {
     "name": "stdout",
     "output_type": "stream",
     "text": [
      "Working on sub 620\n",
      "5 non-szr files found\n",
      "14 szr files found\n",
      "8960 total # of NON-szr time windows for this sub\n",
      "8210 total # of SZR time windows for this sub\n"
     ]
    },
    {
     "ename": "TypeError",
     "evalue": "import_nonszr_data() takes 3 positional arguments but 5 were given",
     "output_type": "error",
     "traceback": [
      "\u001b[0;31m---------------------------------------------------------------------------\u001b[0m",
      "\u001b[0;31mTypeError\u001b[0m                                 Traceback (most recent call last)",
      "\u001b[0;32m<ipython-input-12-b92f1d52c716>\u001b[0m in \u001b[0;36m<module>\u001b[0;34m()\u001b[0m\n\u001b[1;32m     10\u001b[0m \u001b[0mftr_root\u001b[0m\u001b[0;34m=\u001b[0m\u001b[0;34m'/home/dgroppe/GIT/SZR_ANT/EU_GENERAL/EU_GENERAL_FTRS/SE/'\u001b[0m\u001b[0;34m\u001b[0m\u001b[0m\n\u001b[1;32m     11\u001b[0m \u001b[0mszr_fnames_tr\u001b[0m\u001b[0;34m,\u001b[0m \u001b[0mnon_fnames_tr\u001b[0m\u001b[0;34m,\u001b[0m \u001b[0mn_szr_wind_tr\u001b[0m\u001b[0;34m,\u001b[0m \u001b[0mn_non_wind_tr\u001b[0m\u001b[0;34m,\u001b[0m \u001b[0mftr_dim\u001b[0m\u001b[0;34m=\u001b[0m\u001b[0mdata_size_and_fnames\u001b[0m\u001b[0;34m(\u001b[0m\u001b[0mtrain_subs\u001b[0m\u001b[0;34m,\u001b[0m \u001b[0mftr_root\u001b[0m\u001b[0;34m)\u001b[0m\u001b[0;34m\u001b[0m\u001b[0m\n\u001b[0;32m---> 12\u001b[0;31m \u001b[0mnon_szr_ftrs\u001b[0m\u001b[0;34m=\u001b[0m\u001b[0mimport_nonszr_data\u001b[0m\u001b[0;34m(\u001b[0m\u001b[0mszr_fnames_tr\u001b[0m\u001b[0;34m,\u001b[0m \u001b[0mnon_fnames_tr\u001b[0m\u001b[0;34m,\u001b[0m \u001b[0mn_szr_wind_tr\u001b[0m\u001b[0;34m,\u001b[0m \u001b[0mn_non_wind_tr\u001b[0m\u001b[0;34m,\u001b[0m \u001b[0mftr_dim\u001b[0m\u001b[0;34m)\u001b[0m\u001b[0;34m\u001b[0m\u001b[0m\n\u001b[0m",
      "\u001b[0;31mTypeError\u001b[0m: import_nonszr_data() takes 3 positional arguments but 5 were given"
     ]
    }
   ],
   "source": [
    "# Get Training Data\n",
    "train_subs=[1096, 620, 590, 862, 253, 1125]\n",
    "#train_subs=[565] # Data look mislabelled\n",
    "#train_subs=[264] #KeyError: 'BLA1-BLA2', some non files missing\n",
    "#train_subs=[273] # Data look mislabelled\n",
    "train_subs=[253, 1125]\n",
    "train_subs=[1077] \n",
    "train_subs=[620] \n",
    "#/Users/davidgroppe/PycharmProjects/SZR_ANT/EU_GENERAL/EU_GENERAL_FTRS/SE/1096_HL1_HL2_non.ma\n",
    "ftr_root='/home/dgroppe/SZR_ANT/EU_GENERAL/EU_GENERAL_FTRS/SE/'\n",
    "szr_fnames_tr, non_fnames_tr, n_szr_wind_tr, n_non_wind_tr, ftr_dim=data_size_and_fnames(train_subs, ftr_root)\n",
    "ftrs_tr, targ_labels_tr=import_data(szr_fnames_tr, non_fnames_tr, n_szr_wind_tr, n_non_wind_tr, ftr_dim)"
   ]
  },
  {
   "cell_type": "code",
   "execution_count": null,
   "metadata": {
    "collapsed": true
   },
   "outputs": [],
   "source": [
    "kmeans = KMeans(n_clusters=2, random_state=0).fit(X)\n",
    "kmeans.cluster_centers_"
   ]
  }
 ],
 "metadata": {
  "kernelspec": {
   "display_name": "Python 3",
   "language": "python",
   "name": "python3"
  },
  "language_info": {
   "codemirror_mode": {
    "name": "ipython",
    "version": 3
   },
   "file_extension": ".py",
   "mimetype": "text/x-python",
   "name": "python",
   "nbconvert_exporter": "python",
   "pygments_lexer": "ipython3",
   "version": "3.6.0"
  }
 },
 "nbformat": 4,
 "nbformat_minor": 2
}
