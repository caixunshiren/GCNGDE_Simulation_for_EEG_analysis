{
 "cells": [
  {
   "cell_type": "code",
   "execution_count": 5,
   "metadata": {},
   "outputs": [],
   "source": [
    "import numpy as np\n",
    "import scipy.io as sio\n",
    "import os\n",
    "import euGenFuncs as eu\n",
    "import matplotlib.pyplot as plt\n",
    "%matplotlib inline\n",
    "import imp \n",
    "import ieeg_funcs as ief\n",
    "import pickle"
   ]
  },
  {
   "cell_type": "code",
   "execution_count": 9,
   "metadata": {},
   "outputs": [
    {
     "name": "stdout",
     "output_type": "stream",
     "text": [
      "1\n",
      "526\n"
     ]
    },
    {
     "name": "stderr",
     "output_type": "stream",
     "text": [
      "/Users/davidgroppe/anaconda/lib/python3.5/site-packages/sklearn/base.py:311: UserWarning: Trying to unpickle estimator SVC from version 0.19.0 when using version 0.19.1. This might lead to breaking code or invalid results. Use at your own risk.\n",
      "  UserWarning)\n"
     ]
    }
   ],
   "source": [
    "from sklearn import svm\n",
    "path_dict=ief.get_path_dict()\n",
    "model_name='seSvmDsamp500TestFullFinal_2'\n",
    "model_fname = os.path.join(path_dict['szr_ant_root'],'MODELS', model_name, 'classify_models_srch.pkl')\n",
    "model = pickle.load(open(model_fname, 'rb'))\n",
    "print(len(model))\n",
    "print(np.sum(model[0].n_support_))"
   ]
  },
  {
   "cell_type": "code",
   "execution_count": 15,
   "metadata": {},
   "outputs": [
    {
     "name": "stdout",
     "output_type": "stream",
     "text": [
      "dict_keys(['__header__', '__version__', '__globals__', 'stim_lat', 'stim_sec', 'clin_szr', 'szr_hit', 'total_hrs', 'n_false_pos', 'fp_per_hour', 'stim_thresh', 'refract_sec'])\n",
      "Mean SD sensitivity: 0.987500 (0.037500)\n"
     ]
    }
   ],
   "source": [
    "subs=[264, 273, 862, 1125]\n",
    "#pth='/Users/davidgroppe/PycharmProjects/SZR_ANT/MODELS/lregSeAes8_nokdsamp_1'\n",
    "pth='/home/dgroppe/GIT/SZR_ANT/MODELS/svmAesFinale_1'\n",
    "n_subs=len(subs)\n",
    "try_thresh=np.arange(0.2,0.7,0.1)\n",
    "n_thresh=len(try_thresh)\n",
    "\n",
    "#preallocate mem\n",
    "sens=np.zeros((n_subs, n_thresh))\n",
    "total_hrs=np.zeros(n_subs)\n",
    "total_clin_szrs=np.zeros(n_subs)\n",
    "fp_per_day=np.zeros((n_subs, n_thresh))\n",
    "mn_stim_lat=np.zeros((n_subs, n_thresh))\n",
    "\n",
    "# Loop over files\n",
    "for thresh_ct, thresh in enumerate(try_thresh):\n",
    "    for sub_ct, sub in enumerate(subs):\n",
    "        in_fname=str(sub)+'_thresh_0-'+str(int(10*thresh))+'_refract_30_stim_results.mat'\n",
    "        npz=sio.loadmat(os.path.join(pth,in_fname))\n",
    "        #in_fname=str(sub)+'_thresh_0-'+str(int(10*thresh))+'_refract_0-5_stim_results.npz'\n",
    "        #npz=np.load(os.path.join(pth,in_fname))\n",
    "        #sens[sub_ct,thresh_ct]=npz['sens']\n",
    "        clin_szr_bool=npz['clin_szr']==1\n",
    "        sens[sub_ct,thresh_ct]=np.mean(npz['szr_hit'][clin_szr_bool])\n",
    "        fp_per_day[sub_ct,thresh_ct]=npz['fp_per_hour']*24\n",
    "        mn_stim_lat[sub_ct,thresh_ct]=np.mean(npz['stim_lat'][clin_szr_bool])\n",
    "        if thresh_ct==0:\n",
    "            total_hrs[sub_ct]=npz['total_hrs']\n",
    "            total_clin_szrs[sub_ct]=np.sum(clin_szr_bool)\n",
    "            #total_clin_szrs[sub_ct]=npz['n_clin_szr']\n",
    "print(npz.keys())\n",
    "print('Mean SD sensitivity: %f (%f)' % (np.mean(sens),np.std(sens)))"
   ]
  },
  {
   "cell_type": "code",
   "execution_count": 11,
   "metadata": {},
   "outputs": [
    {
     "name": "stdout",
     "output_type": "stream",
     "text": [
      "dict_keys(['__header__', '__version__', '__globals__', 'stim_lat', 'stim_sec', 'clin_szr', 'szr_hit', 'total_hrs', 'n_false_pos', 'fp_per_hour', 'stim_thresh', 'refract_sec'])\n",
      "[[ 1.  1.  1.  1.  0.  1.  1.  1.  1.]]\n",
      "[[ 1.  1.  1.  1.  1.  1.  1.  1.  0.]]\n"
     ]
    }
   ],
   "source": [
    "print(npz.keys())\n",
    "print(npz['szr_hit'])\n",
    "print(npz['clin_szr'])"
   ]
  },
  {
   "cell_type": "code",
   "execution_count": 16,
   "metadata": {},
   "outputs": [
    {
     "name": "stdout",
     "output_type": "stream",
     "text": [
      "Total hours of test data: 689.958524\n",
      "Total days of test data: 28.748272\n",
      "Mean (SD) days of test data: 7.187068 (1.478903)\n",
      "Total # of clinical szrs: 36\n",
      "Mean (SD) # of clinical szrs: 9.000000 (2.915476)\n"
     ]
    }
   ],
   "source": [
    "# Report total hours of EEG & # of clinical szrs\n",
    "print('Total hours of test data: %f' % np.sum(total_hrs))\n",
    "print('Total days of test data: %f' % np.sum(total_hrs/24))\n",
    "print('Mean (SD) days of test data: %f (%f)' % (np.mean(total_hrs/24),np.std(total_hrs/24)))\n",
    "print('Total # of clinical szrs: %d' % np.sum(total_clin_szrs))\n",
    "print('Mean (SD) # of clinical szrs: %f (%f)' % (np.mean(total_clin_szrs),np.std(total_clin_szrs)))"
   ]
  },
  {
   "cell_type": "code",
   "execution_count": 17,
   "metadata": {},
   "outputs": [
    {
     "name": "stdout",
     "output_type": "stream",
     "text": [
      "For Thresh: 0.500000\n",
      "Mean (SD) Sensitivity: 1.000000 (0.000000)\n"
     ]
    },
    {
     "data": {
      "image/png": "[encoded data removed]",
      "text/plain": [
       "<matplotlib.figure.Figure at 0x7f8694256400>"
      ]
     },
     "metadata": {},
     "output_type": "display_data"
    }
   ],
   "source": [
    "# Plot Sensitivity\n",
    "plt.figure(1)\n",
    "plt.clf()\n",
    "for sub_ct in range(n_subs):\n",
    "    plt.plot(try_thresh+(np.random.rand(1)-.5)/50,sens[sub_ct,:],'.',label='Sub'+str(subs[sub_ct]))\n",
    "plt.plot(try_thresh,np.mean(sens,axis=0),'ro-')\n",
    "plt.xlabel('Threshold')\n",
    "plt.ylabel('Pptn of Szrs Stimulated')\n",
    "plt.legend()\n",
    "\n",
    "thresh_id=3\n",
    "print('For Thresh: %f' % try_thresh[thresh_id])\n",
    "print('Mean (SD) Sensitivity: %f (%f)' % (np.mean(sens[:,thresh_id]),np.std(sens[:,thresh_id])))"
   ]
  },
  {
   "cell_type": "code",
   "execution_count": 19,
   "metadata": {},
   "outputs": [
    {
     "name": "stdout",
     "output_type": "stream",
     "text": [
      "For Thresh: 0.500000\n",
      "Mean (SD) False Positive Stim/Day: 774.938479 (359.782483)\n"
     ]
    },
    {
     "data": {
      "image/png": "[encoded data removed]",
      "text/plain": [
       "<matplotlib.figure.Figure at 0x7f8699dc54e0>"
      ]
     },
     "metadata": {},
     "output_type": "display_data"
    }
   ],
   "source": [
    "# Plot False Positive Stimulations/Day\n",
    "plt.figure(2)\n",
    "plt.clf()\n",
    "plt.plot(try_thresh,np.mean(fp_per_day,axis=0),'ro-')\n",
    "for sub_ct in range(n_subs):\n",
    "    plt.plot(try_thresh+(np.random.rand(1)-.5)/50,fp_per_day[sub_ct,:],'.',label='Sub'+str(subs[sub_ct]))\n",
    "plt.xlabel('Threshold')\n",
    "plt.ylabel('False postitive stim/day')\n",
    "plt.legend()\n",
    "print('For Thresh: %f' % try_thresh[thresh_id])\n",
    "print('Mean (SD) False Positive Stim/Day: %f (%f)' % (np.mean(fp_per_day[:,thresh_id]),np.std(fp_per_day[:,thresh_id])))"
   ]
  },
  {
   "cell_type": "code",
   "execution_count": 21,
   "metadata": {},
   "outputs": [
    {
     "name": "stdout",
     "output_type": "stream",
     "text": [
      "For Thresh: 0.500000\n",
      "Mean (SD) Stim Latency: 3.394182 (4.284029) seconds\n"
     ]
    },
    {
     "data": {
      "image/png": "[encoded data removed]",
      "text/plain": [
       "<matplotlib.figure.Figure at 0x7f8694253390>"
      ]
     },
     "metadata": {},
     "output_type": "display_data"
    }
   ],
   "source": [
    "# Plot Mean Stim Latency for each Clinical Szr\n",
    "plt.figure(3)\n",
    "plt.clf()\n",
    "plt.plot(try_thresh,np.mean(mn_stim_lat,axis=0),'ro-')\n",
    "for sub_ct in range(n_subs):\n",
    "    plt.plot(try_thresh+(np.random.rand(1)-.5)/50,mn_stim_lat[sub_ct,:],'.',label='Sub'+str(subs[sub_ct]))\n",
    "plt.xlabel('Threshold')\n",
    "plt.ylabel('Seconds to Onset')\n",
    "plt.legend()\n",
    "print('For Thresh: %f' % try_thresh[thresh_id])\n",
    "print('Mean (SD) Stim Latency: %f (%f) seconds' % (np.mean(mn_stim_lat[:,thresh_id]),\n",
    "                                                      np.std(mn_stim_lat[:,thresh_id])))"
   ]
  },
  {
   "cell_type": "code",
   "execution_count": 23,
   "metadata": {},
   "outputs": [
    {
     "name": "stdout",
     "output_type": "stream",
     "text": [
      "Total hours of test data: 689.958524\n",
      "Total days of test data: 28.748272\n",
      "Mean (SD) days of test data: 7.187068 (1.478903)\n",
      "Total # of clinical szrs: 36\n",
      "Mean (SD) # of clinical szrs: 9.000000 (2.915476)\n",
      "\n",
      "For Thresh: 0.500000\n",
      "Mean (SD) Stim Latency: 3.394182 (4.284029) seconds\n",
      "Mean (SD) False Positive Stim/Day: 774.938479 (359.782483)\n",
      "Mean (SD) Sensitivity: 1.000000 (0.000000)\n"
     ]
    }
   ],
   "source": [
    "# Output key results as text\n",
    "# Report total hours of EEG & # of clinical szrs\n",
    "print('Total hours of test data: %f' % np.sum(total_hrs))\n",
    "print('Total days of test data: %f' % np.sum(total_hrs/24))\n",
    "print('Mean (SD) days of test data: %f (%f)' % (np.mean(total_hrs/24),np.std(total_hrs/24)))\n",
    "print('Total # of clinical szrs: %d' % np.sum(total_clin_szrs))\n",
    "print('Mean (SD) # of clinical szrs: %f (%f)' % (np.mean(total_clin_szrs),np.std(total_clin_szrs)))\n",
    "\n",
    "print()\n",
    "print('For Thresh: %f' % try_thresh[thresh_id])\n",
    "print('Mean (SD) Stim Latency: %f (%f) seconds' % (np.mean(mn_stim_lat[:,thresh_id]),\n",
    "                                                      np.std(mn_stim_lat[:,thresh_id])))\n",
    "print('Mean (SD) False Positive Stim/Day: %f (%f)' % (np.mean(fp_per_day[:,thresh_id]),np.std(fp_per_day[:,thresh_id])))\n",
    "print('Mean (SD) Sensitivity: %f (%f)' % (np.mean(sens[:,thresh_id]),np.std(sens[:,thresh_id])))"
   ]
  },
  {
   "cell_type": "code",
   "execution_count": null,
   "metadata": {},
   "outputs": [],
   "source": []
  }
 ],
 "metadata": {
  "anaconda-cloud": {},
  "kernelspec": {
   "display_name": "Python [default]",
   "language": "python",
   "name": "python3"
  },
  "language_info": {
   "codemirror_mode": {
    "name": "ipython",
    "version": 3
   },
   "file_extension": ".py",
   "mimetype": "text/x-python",
   "name": "python",
   "nbconvert_exporter": "python",
   "pygments_lexer": "ipython3",
   "version": "3.5.3"
  }
 },
 "nbformat": 4,
 "nbformat_minor": 2
}
