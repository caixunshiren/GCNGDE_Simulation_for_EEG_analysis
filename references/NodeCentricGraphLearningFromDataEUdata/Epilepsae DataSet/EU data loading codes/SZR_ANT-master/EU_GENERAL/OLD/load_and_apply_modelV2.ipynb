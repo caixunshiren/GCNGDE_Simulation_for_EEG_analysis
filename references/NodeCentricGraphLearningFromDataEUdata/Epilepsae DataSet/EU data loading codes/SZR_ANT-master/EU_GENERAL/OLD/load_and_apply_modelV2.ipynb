{
 "cells": [
  {
   "cell_type": "code",
   "execution_count": 1,
   "metadata": {
    "collapsed": true
   },
   "outputs": [],
   "source": [
    "# Libraries\n",
    "import numpy as np\n",
    "import scipy.io as sio\n",
    "import os\n",
    "# import pickle\n",
    "# import re\n",
    "import ieeg_funcs as ief\n",
    "import dgFuncs as dg\n",
    "from sklearn import preprocessing\n",
    "# from scipy import stats\n",
    "# from mpl_toolkits.axes_grid1 import make_axes_locatable\n",
    "from sklearn import svm, linear_model\n",
    "from sklearn.metrics import roc_auc_score\n",
    "from sklearn.externals import joblib\n",
    "import matplotlib.pyplot as plt\n",
    "%matplotlib inline\n"
   ]
  },
  {
   "cell_type": "code",
   "execution_count": 2,
   "metadata": {},
   "outputs": [
    {
     "data": {
      "text/plain": [
       "<module 'dgFuncs' from '/Users/davidgroppe/PycharmProjects/DG_LIBRARY/dgFuncs.py'>"
      ]
     },
     "execution_count": 2,
     "metadata": {},
     "output_type": "execute_result"
    }
   ],
   "source": [
    "import imp \n",
    "imp.reload(dg) "
   ]
  },
  {
   "cell_type": "code",
   "execution_count": 3,
   "metadata": {
    "collapsed": true
   },
   "outputs": [],
   "source": [
    "# Function for extracting channel names from filename\n",
    "def chan_labels_from_fname(in_file):\n",
    "    just_fname=in_file.split('/')[-1]\n",
    "    jf_splt=just_fname.split('_')\n",
    "    chan_label=jf_splt[1]+'-'+jf_splt[2]\n",
    "    return chan_label"
   ]
  },
  {
   "cell_type": "code",
   "execution_count": 10,
   "metadata": {
    "collapsed": true
   },
   "outputs": [],
   "source": [
    "def import_data(szr_fnames, non_fnames, szr_subs, non_subs, n_szr_wind, n_non_wind, ftr_dim):\n",
    "    # ftr_path=os.path.join(ftr_root,str(sub))\n",
    "\n",
    "    # Preallocate memory\n",
    "    ftrs = np.zeros((ftr_dim, n_szr_wind + n_non_wind))\n",
    "    targ_labels = np.zeros(n_szr_wind + n_non_wind)\n",
    "    sub_ids=np.zeros(n_szr_wind + n_non_wind)\n",
    "\n",
    "    # Import non-szr data\n",
    "    ptr = 0\n",
    "    mns_dict = dict()\n",
    "    sds_dict = dict()\n",
    "    for f_ct, f in enumerate(non_fnames):\n",
    "        chan_label = chan_labels_from_fname(f)\n",
    "\n",
    "        temp_ftrs = sio.loadmat(f)\n",
    "        temp_n_wind = temp_ftrs['nonszr_se_ftrs'].shape[1]\n",
    "        raw_ftrs = temp_ftrs['nonszr_se_ftrs']\n",
    "        # Z-score features\n",
    "        temp_mns, temp_sds = dg.trimmed_normalize(raw_ftrs, 0, zero_nans=False, verbose=False)\n",
    "        mns_dict[chan_label] = temp_mns\n",
    "        sds_dict[chan_label] = temp_sds\n",
    "\n",
    "        ftrs[:, ptr:ptr + temp_n_wind] = raw_ftrs\n",
    "        targ_labels[ptr:ptr + temp_n_wind] = 0\n",
    "        sub_ids[ptr:ptr + temp_n_wind] = non_subs[f_ct]\n",
    "        ptr += temp_n_wind\n",
    "\n",
    "    # Import szr data\n",
    "    for f_ct, f in enumerate(szr_fnames):\n",
    "        chan_label = chan_labels_from_fname(f)\n",
    "\n",
    "        temp_ftrs = sio.loadmat(f)\n",
    "        temp_n_wind = temp_ftrs['se_ftrs'].shape[1]\n",
    "        raw_ftrs = temp_ftrs['se_ftrs']\n",
    "        # Z-score based on non-ictal means, SDs\n",
    "        dg.applyNormalize(raw_ftrs, mns_dict[chan_label], sds_dict[chan_label])\n",
    "\n",
    "        ftrs[:, ptr:ptr + temp_n_wind] = raw_ftrs\n",
    "        targ_labels[ptr:ptr + temp_n_wind] = 1\n",
    "        sub_ids[ptr:ptr + temp_n_wind] = szr_subs[f_ct]\n",
    "        ptr += temp_n_wind\n",
    "\n",
    "    return ftrs, targ_labels, sub_ids"
   ]
  },
  {
   "cell_type": "code",
   "execution_count": 5,
   "metadata": {
    "collapsed": true
   },
   "outputs": [],
   "source": [
    "# def import_data(szr_fnames, non_fnames, n_szr_wind, n_non_wind, ftr_dim):\n",
    "#     #ftr_path=os.path.join(ftr_root,str(sub))\n",
    "        \n",
    "#     # Preallocate memory\n",
    "#     ftrs=np.zeros((ftr_dim,n_szr_wind+n_non_wind))\n",
    "#     targ_labels=np.zeros(n_szr_wind+n_non_wind)\n",
    "\n",
    "#     # Import non-szr data\n",
    "#     ptr=0\n",
    "#     mns_dict=dict()\n",
    "#     sds_dict=dict()\n",
    "#     for f in non_fnames:\n",
    "#         chan_label=chan_labels_from_fname(f)\n",
    "\n",
    "#         temp_ftrs=sio.loadmat(f)\n",
    "#         temp_n_wind=temp_ftrs['nonszr_se_ftrs'].shape[1]\n",
    "#         raw_ftrs=temp_ftrs['nonszr_se_ftrs']\n",
    "#         # Z-score features\n",
    "#         temp_mns, temp_sds=dg.trimmed_normalize(raw_ftrs,0,zero_nans=False,verbose=False)\n",
    "#         mns_dict[chan_label]=temp_mns\n",
    "#         sds_dict[chan_label]=temp_sds\n",
    "    \n",
    "#         ftrs[:,ptr:ptr+temp_n_wind]=raw_ftrs\n",
    "#         targ_labels[ptr:ptr+temp_n_wind]=0\n",
    "#         ptr+=temp_n_wind\n",
    "\n",
    "#     # Import szr data\n",
    "#     for f in szr_fnames:\n",
    "#         chan_label=chan_labels_from_fname(f)\n",
    "\n",
    "#         temp_ftrs=sio.loadmat(f)\n",
    "#         temp_n_wind=temp_ftrs['se_ftrs'].shape[1]\n",
    "#         raw_ftrs=temp_ftrs['se_ftrs']\n",
    "#         # Z-score based on non-ictal means, SDs\n",
    "#         dg.applyNormalize(raw_ftrs,mns_dict[chan_label],sds_dict[chan_label])\n",
    "\n",
    "#         ftrs[:,ptr:ptr+temp_n_wind]=raw_ftrs\n",
    "#         targ_labels[ptr:ptr+temp_n_wind]=1;\n",
    "#         ptr+=temp_n_wind\n",
    "\n",
    "#     return ftrs, targ_labels"
   ]
  },
  {
   "cell_type": "code",
   "execution_count": 4,
   "metadata": {
    "collapsed": true
   },
   "outputs": [],
   "source": [
    "def data_size_and_fnames(sub_list, ftr_root, ftr):\n",
    "    \"\"\" Get size of data (and filenames) \"\"\"\n",
    "    grand_non_fnames = list()\n",
    "    grand_szr_fnames = list()\n",
    "    grand_n_szr_wind = 0\n",
    "    grand_n_non_wind = 0\n",
    "    non_file_subs=list()\n",
    "    szr_file_subs = list()\n",
    "    non_file_chans=list()\n",
    "    szr_file_chans = list()\n",
    "    # TODO need to record list of subjects and channels to make sure they are the same across features\n",
    "    ftr_path=os.path.join(ftr_root,ftr)\n",
    "    for sub in sub_list:\n",
    "        print('Working on sub %d' % sub)\n",
    "        non_fnames = list()\n",
    "        szr_fnames = list()\n",
    "\n",
    "        # Get filenames (and full path)\n",
    "        sub_ftr_path = os.path.join(ftr_path, str(sub))\n",
    "        for f in os.listdir(sub_ftr_path):\n",
    "            if f.endswith('non.mat'):\n",
    "                non_fnames.append(os.path.join(sub_ftr_path, f))\n",
    "                non_file_subs.append(sub)\n",
    "                non_file_chans.append(chan_labels_from_fname(f))\n",
    "            elif f.endswith('.mat') and f.startswith(str(sub) + '_'):\n",
    "                szr_fnames.append(os.path.join(sub_ftr_path, f))\n",
    "                szr_file_subs.append(sub)\n",
    "                szr_file_chans.append(chan_labels_from_fname(f))\n",
    "\n",
    "        print('%d non-szr files found' % len(non_fnames))\n",
    "        print('%d szr files found' % len(szr_fnames))\n",
    "        \n",
    "                # Loop over NON-szr files to get total # of windows\n",
    "        n_non_wind = 0\n",
    "        ftr_dim = 0\n",
    "        for f in non_fnames:\n",
    "            #             in_file=os.path.join(ftr_path,f)\n",
    "            #             temp_ftrs=sio.loadmat(in_file)\n",
    "            temp_ftrs = sio.loadmat(f)\n",
    "            n_non_wind += temp_ftrs['nonszr_se_ftrs'].shape[1]\n",
    "            if ftr_dim == 0:\n",
    "                ftr_dim = temp_ftrs['nonszr_se_ftrs'].shape[0]\n",
    "            elif ftr_dim != temp_ftrs['nonszr_se_ftrs'].shape[0]:\n",
    "                raise ValueError('# of features in file does match previous files')\n",
    "\n",
    "        print('%d total # of NON-szr time windows for this sub' % n_non_wind)\n",
    "\n",
    "        # Loop over SZR files to get total # of windows\n",
    "        n_szr_wind = 0\n",
    "        for f in szr_fnames:\n",
    "            #             in_file=os.path.join(ftr_path,f)\n",
    "            #             temp_ftrs=sio.loadmat(in_file)\n",
    "            temp_ftrs = sio.loadmat(f)\n",
    "            n_szr_wind += temp_ftrs['se_ftrs'].shape[1]\n",
    "        print('%d total # of SZR time windows for this sub' % n_szr_wind)\n",
    "\n",
    "        grand_non_fnames += non_fnames\n",
    "        grand_szr_fnames += szr_fnames\n",
    "        grand_n_szr_wind += n_szr_wind\n",
    "        grand_n_non_wind += n_non_wind\n",
    "        \n",
    "    ftr_info_dict=dict()\n",
    "    ftr_info_dict['szr_file_chans']=szr_file_chans\n",
    "    ftr_info_dict['non_file_chans'] = non_file_chans\n",
    "    ftr_info_dict['szr_file_subs'] = szr_file_subs\n",
    "    ftr_info_dict['non_file_subs'] = non_file_subs\n",
    "    ftr_info_dict['ftr_dim'] = ftr_dim\n",
    "    ftr_info_dict['grand_n_non_wind']=grand_n_non_wind\n",
    "    ftr_info_dict['grand_n_szr_wind']=grand_n_szr_wind\n",
    "    ftr_info_dict['grand_non_fnames']=grand_non_fnames\n",
    "    ftr_info_dict['grand_szr_fnames']=grand_szr_fnames\n",
    "\n",
    "    return ftr_info_dict"
   ]
  },
  {
   "cell_type": "code",
   "execution_count": 14,
   "metadata": {},
   "outputs": [
    {
     "name": "stdout",
     "output_type": "stream",
     "text": [
      "Working on sub 253\n",
      "5 non-szr files found\n",
      "29 szr files found\n",
      "28302 total # of NON-szr time windows for this sub\n",
      "27675 total # of SZR time windows for this sub\n"
     ]
    }
   ],
   "source": [
    "# Get Training Data\n",
    "train_subs_list=[1096, 620, 590, 862, 253, 1125]\n",
    "#train_subs=[565] # Data look mislabelled\n",
    "#train_subs=[264] #KeyError: 'BLA1-BLA2', some non files missing\n",
    "#train_subs=[273] # Data look mislabelled\n",
    "#train_subs_list=[253, 1125]\n",
    "train_subs_list=[253]\n",
    "#/Users/davidgroppe/PycharmProjects/SZR_ANT/EU_GENERAL/EU_GENERAL_FTRS/SE/1096_HL1_HL2_non.ma\n",
    "ftr_root='/Users/davidgroppe/PycharmProjects/SZR_ANT/EU_GENERAL/EU_GENERAL_FTRS/'\n",
    "ftr='SE'\n",
    "ftr_info_dict=data_size_and_fnames(train_subs_list, ftr_root, ftr)\n",
    "n_dim=ftr_info_dict['ftr_dim']\n",
    "n_non_wind=ftr_info_dict['grand_n_non_wind']\n",
    "n_szr_wind=ftr_info_dict['grand_n_szr_wind']\n",
    "#ftrs_tr, targ_labels_tr, sub_ids=import_data(szr_fnames_tr, non_fnames_tr, n_szr_wind_tr, n_non_wind_tr, ftr_dim)"
   ]
  },
  {
   "cell_type": "code",
   "execution_count": 15,
   "metadata": {},
   "outputs": [],
   "source": [
    "# Load training data\n",
    "ftrs, targ_labels, sub_ids=import_data(ftr_info_dict['grand_szr_fnames'], ftr_info_dict['grand_non_fnames'],\n",
    "                                       ftr_info_dict['szr_file_subs'],ftr_info_dict['non_file_subs'],\n",
    "                                       n_szr_wind, n_non_wind, n_dim)"
   ]
  },
  {
   "cell_type": "code",
   "execution_count": 16,
   "metadata": {},
   "outputs": [
    {
     "data": {
      "text/plain": [
       "[<matplotlib.lines.Line2D at 0x10af8b2e8>]"
      ]
     },
     "execution_count": 16,
     "metadata": {},
     "output_type": "execute_result"
    },
    {
     "data": {
      "image/png": "[encoded data removed]",
      "text/plain": [
       "<matplotlib.figure.Figure at 0x119b11208>"
      ]
     },
     "metadata": {},
     "output_type": "display_data"
    }
   ],
   "source": [
    "plt.figure(1)\n",
    "plt.clf()\n",
    "plt.plot(sub_ids)"
   ]
  },
  {
   "cell_type": "code",
   "execution_count": null,
   "metadata": {},
   "outputs": [],
   "source": [
    "# Train & Evaluate Model on Training Data\n",
    "# Train classifier\n",
    "C=1\n",
    "model = linear_model.LogisticRegression(C=C,class_weight='balanced')\n",
    "model.fit(ftrs_tr.T, targ_labels_tr)\n",
    "class_hat_tr = model.predict_proba(ftrs_tr.T)[:,1]\n",
    "print('Training Data Performance')\n",
    "auc_tr=roc_auc_score(targ_labels_tr, class_hat_tr)\n",
    "print('AUC=%.3f' % auc_tr)\n",
    "bal_acc_tr, sens_tr, spec_tr=ief.perf_msrs(targ_labels_tr, class_hat_tr>=0.5)\n",
    "print('Balanced Accuracy (sens/spec)=%.3f (%f/%f)' % (bal_acc_tr,sens_tr,spec_tr))"
   ]
  },
  {
   "cell_type": "code",
   "execution_count": null,
   "metadata": {},
   "outputs": [],
   "source": [
    "plt.figure(11)\n",
    "plt.clf()\n",
    "plt.plot(ftrs_tr.T);\n",
    "\n",
    "plt.figure(12)\n",
    "plt.clf()\n",
    "plt.plot(targ_labels_tr,'b-');\n",
    "plt.plot(class_hat_tr,'r.');"
   ]
  },
  {
   "cell_type": "code",
   "execution_count": null,
   "metadata": {
    "collapsed": true
   },
   "outputs": [],
   "source": [
    "# Load Validation Data\n",
    "# Get Training Data\n",
    "valid_subs=620 #TODO MAKE THIS A LIST\n",
    "szr_fnames_va, non_fnames_va, n_szr_wind_va, n_non_wind_va, ftr_dim=data_size_and_fnames(valid_subs, ftr_root)\n",
    "ftrs_va, targ_labels_va=import_data(szr_fnames_va, non_fnames_va, n_szr_wind_va, n_non_wind_va, ftr_dim, ftr_root, valid_subs)"
   ]
  },
  {
   "cell_type": "code",
   "execution_count": 21,
   "metadata": {
    "collapsed": true
   },
   "outputs": [],
   "source": [
    "bool?"
   ]
  },
  {
   "cell_type": "code",
   "execution_count": 22,
   "metadata": {},
   "outputs": [
    {
     "name": "stdout",
     "output_type": "stream",
     "text": [
      "<class 'numpy.ndarray'>\n",
      "<class 'numpy.bool_'>\n"
     ]
    },
    {
     "ename": "ValueError",
     "evalue": "The truth value of an array with more than one element is ambiguous. Use a.any() or a.all()",
     "output_type": "error",
     "traceback": [
      "\u001b[0;31m---------------------------------------------------------------------------\u001b[0m",
      "\u001b[0;31mValueError\u001b[0m                                Traceback (most recent call last)",
      "\u001b[0;32m<ipython-input-22-412f1eda0b0d>\u001b[0m in \u001b[0;36m<module>\u001b[0;34m()\u001b[0m\n\u001b[1;32m      5\u001b[0m \u001b[0mprint\u001b[0m\u001b[0;34m(\u001b[0m\u001b[0mtype\u001b[0m\u001b[0;34m(\u001b[0m\u001b[0mdud\u001b[0m\u001b[0;34m)\u001b[0m\u001b[0;34m)\u001b[0m\u001b[0;34m\u001b[0m\u001b[0m\n\u001b[1;32m      6\u001b[0m \u001b[0mprint\u001b[0m\u001b[0;34m(\u001b[0m\u001b[0mtype\u001b[0m\u001b[0;34m(\u001b[0m\u001b[0mdud\u001b[0m\u001b[0;34m[\u001b[0m\u001b[0;36m0\u001b[0m\u001b[0;34m]\u001b[0m\u001b[0;34m)\u001b[0m\u001b[0;34m)\u001b[0m\u001b[0;34m\u001b[0m\u001b[0m\n\u001b[0;32m----> 7\u001b[0;31m \u001b[0mprint\u001b[0m\u001b[0;34m(\u001b[0m\u001b[0mbool\u001b[0m\u001b[0;34m(\u001b[0m\u001b[0mdud\u001b[0m\u001b[0;34m)\u001b[0m\u001b[0;34m)\u001b[0m\u001b[0;34m\u001b[0m\u001b[0m\n\u001b[0m",
      "\u001b[0;31mValueError\u001b[0m: The truth value of an array with more than one element is ambiguous. Use a.any() or a.all()"
     ]
    }
   ],
   "source": [
    "bro=np.ones(5)\n",
    "sis=np.zeros(5)\n",
    "#dud=np.multiply(bro,sis)\n",
    "dud=np.multiply(bro,sis).astype('bool')\n",
    "print(type(dud))\n",
    "print(type(dud[0]))\n",
    "print(bool(dud))"
   ]
  },
  {
   "cell_type": "code",
   "execution_count": null,
   "metadata": {
    "collapsed": true
   },
   "outputs": [],
   "source": [
    "# Evaluate Model on Validation Data\n",
    "class_hat_va = model.predict_proba(ftrs_va.T)[:,1]\n",
    "print('Validation Data Performance')\n",
    "auc_va=roc_auc_score(targ_labels_va, class_hat_va)\n",
    "print('AUC=%.3f' % auc_va)\n",
    "bal_acc_va, sens_va, spec_va=ief.perf_msrs(targ_labels_va, class_hat_va>=0.5)\n",
    "print('Balanced Accuracy (sens/spec)=%.3f (%f/%f)' % (bal_acc_va,sens_va,spec_va))"
   ]
  },
  {
   "cell_type": "code",
   "execution_count": null,
   "metadata": {
    "collapsed": true
   },
   "outputs": [],
   "source": []
  }
 ],
 "metadata": {
  "anaconda-cloud": {},
  "kernelspec": {
   "display_name": "Python [conda root]",
   "language": "python",
   "name": "conda-root-py"
  },
  "language_info": {
   "codemirror_mode": {
    "name": "ipython",
    "version": 3
   },
   "file_extension": ".py",
   "mimetype": "text/x-python",
   "name": "python",
   "nbconvert_exporter": "python",
   "pygments_lexer": "ipython3",
   "version": "3.5.3"
  }
 },
 "nbformat": 4,
 "nbformat_minor": 2
}
