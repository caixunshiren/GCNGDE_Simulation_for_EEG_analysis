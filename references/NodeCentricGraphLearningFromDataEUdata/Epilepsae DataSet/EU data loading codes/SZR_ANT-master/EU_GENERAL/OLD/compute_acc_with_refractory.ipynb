{
 "cells": [
  {
   "cell_type": "code",
   "execution_count": 1,
   "metadata": {
    "collapsed": true
   },
   "outputs": [],
   "source": [
    "# Libraries\n",
    "import numpy as np\n",
    "import scipy.io as sio\n",
    "import os\n",
    "import pickle\n",
    "# import re\n",
    "import ieeg_funcs as ief\n",
    "import dgFuncs as dg\n",
    "from sklearn import preprocessing\n",
    "# from scipy import stats\n",
    "# from mpl_toolkits.axes_grid1 import make_axes_locatable\n",
    "from sklearn import svm, linear_model\n",
    "from sklearn.metrics import roc_auc_score\n",
    "from sklearn.externals import joblib\n",
    "import matplotlib.pyplot as plt\n",
    "%matplotlib inline\n"
   ]
  },
  {
   "cell_type": "code",
   "execution_count": 2,
   "metadata": {},
   "outputs": [
    {
     "name": "stdout",
     "output_type": "stream",
     "text": [
      "3000\n"
     ]
    }
   ],
   "source": [
    "Fs=10 # sampling rate of moving spectral energy window\n",
    "refract_min=5\n",
    "refract_tpt=np.round(Fs*refract_min*60)\n",
    "print(refract_tpt)"
   ]
  },
  {
   "cell_type": "code",
   "execution_count": 3,
   "metadata": {
    "collapsed": true
   },
   "outputs": [],
   "source": [
    "# 1096 files with clinican szrs in them\n",
    "# 109600102_0072.head\n",
    "# 109600102_0074.head\n",
    "# 109600102_0095.head\n",
    "# 109600102_0100.head\n",
    "# 109600102_0119.head\n",
    "# 109600102_0121.head\n",
    "# 109600102_0123.head\n",
    "# 109600102_0125.head\n",
    "# 109600102_0147.head"
   ]
  },
  {
   "cell_type": "code",
   "execution_count": 4,
   "metadata": {},
   "outputs": [
    {
     "name": "stdout",
     "output_type": "stream",
     "text": [
      "total_hrs=0.966508\n",
      "false+ 3\n",
      "total_hrs=1.933016\n",
      "false+ 1\n",
      "total_hrs=2.899525\n",
      "false+ 1\n",
      "total_hrs=3.866033\n",
      "false+ 3\n",
      "Clinical szr present\n",
      "2.069305 of false positives/hr\n",
      "1/1 clinical szrs, Sensitivity=1.000000\n",
      "Mean(SD) latency of stim relative to clinician onset: 38.7 (0.0) seconds\n"
     ]
    }
   ],
   "source": [
    "sub=1096\n",
    "# Get list of yhat files\n",
    "#yhat_path='/Volumes/SgateOSExJnld/EU_TEMP/1096_all_labels'\n",
    "yhat_path='/Users/davidgroppe/ONGOING/EU_YHAT/1096_genLogregSe_3/'\n",
    "label_path='/Volumes/SgateOSExJnld/EU_TEMP/1096_all_labels/'\n",
    "\n",
    "Fs=9.84615384615 # sampling rate of moving spectral energy window\n",
    "refract_min=5\n",
    "refract_tpt=np.round(Fs*refract_min*60)\n",
    "total_hrs=0\n",
    "n_false_pos=0\n",
    "n_clin_szr=0\n",
    "n_true_pos=0\n",
    "stim_latency_sec=list()\n",
    "\n",
    "# Loop over yhat files\n",
    "for f in os.listdir(yhat_path):\n",
    "    if f.endswith('.npz'):\n",
    "        yhat_npz=np.load(os.path.join(yhat_path,f))\n",
    "        n_wind=len(yhat_npz['max_yhat'])\n",
    "        \n",
    "        # Compute # of seconds in file\n",
    "        file_dur_hr=n_wind/(Fs*3600)\n",
    "        total_hrs+=file_dur_hr\n",
    "        print('total_hrs=%f' % total_hrs)\n",
    "        \n",
    "        # Load clinician labels\n",
    "        splt_f=f.split('_')\n",
    "        label_fname=str(sub)+'_y_'+splt_f[0]+'_'+splt_f[1]+'.mat'\n",
    "        label_f=os.path.join(label_path,label_fname)\n",
    "        label_mat=sio.loadmat(label_f)\n",
    "        \n",
    "        # Compute stimulations with refractory periods\n",
    "        stim=np.zeros(n_wind)\n",
    "        stim_ids=list()\n",
    "        last_stim=refract_tpt+1\n",
    "        for wind_ct, yhat in enumerate(yhat_npz['max_yhat']):\n",
    "            if yhat>.5 and last_stim>refract_tpt:\n",
    "                stim[wind_ct]=1\n",
    "                stim_ids.append(wind_ct)\n",
    "                last_stim=0\n",
    "            else:\n",
    "                last_stim+=1\n",
    "\n",
    "        # Compute false positives\n",
    "        se_szr_class=np.squeeze(label_mat['se_szr_class'])\n",
    "        nonszr_bool=se_szr_class==0\n",
    "        print('false+ %d' % np.sum(stim[nonszr_bool]))\n",
    "        n_false_pos+=np.sum(stim[nonszr_bool])\n",
    "        \n",
    "        # Compute sensitivity and latency to clinical szr onset (if any clinical szrs in the file)\n",
    "        if 1 in se_szr_class:\n",
    "            print('Clinical szr present')\n",
    "            onset_id_list=list()\n",
    "            offset_id_list=list()\n",
    "            in_szr=False\n",
    "            for tloop, y in enumerate(se_szr_class):\n",
    "                if in_szr==False:\n",
    "                    if y==1:\n",
    "                        #entered new clinical szr\n",
    "                        onset_id_list.append(tloop)\n",
    "                        n_clin_szr+=1\n",
    "                        in_szr=True\n",
    "                else:\n",
    "                    if y==0:\n",
    "                        #exited clinical szr\n",
    "                        offset_id_list.append(tloop-1)\n",
    "                        in_szr=False\n",
    "            if in_szr==True:\n",
    "                # szr lasts until end of file\n",
    "                offset_id_list.append(tloop-1)\n",
    "            if len(onset_id_list)!=len(offset_id_list):\n",
    "                print('Error: len(onset_id_list)!=len(offset_id_list) in %s!!!!' % f)\n",
    "                break\n",
    "            \n",
    "            # Loop over clinical szrs (may be more than one in the clip)\n",
    "            for temp_ct, onset_id in enumerate(onset_id_list):\n",
    "                if sum(stim[onset_id:offset_id_list[temp_ct]]):\n",
    "                    n_true_pos+=1\n",
    "                # Find closest stimulation to clinician defined onset\n",
    "                temp_id=np.argmin(np.abs(np.asarray(stim_ids)-onset_id))\n",
    "                closest_id=stim_ids[temp_id]\n",
    "                stim_latency_sec.append((closest_id-onset_id)/Fs)\n",
    "        \n",
    "\n",
    "fp_per_hour=n_false_pos/total_hrs\n",
    "print('%f of false positives/hr' % fp_per_hour)\n",
    "if n_clin_szr==0:\n",
    "    print('No clinical szrs captured')\n",
    "    sens=np.nan\n",
    "else:\n",
    "    sens=n_true_pos/n_clin_szr\n",
    "    print('%d/%d clinical szrs, Sensitivity=%f' % (n_true_pos,n_clin_szr,sens))\n",
    "    mn_latency_sec=np.mean(stim_latency_sec)\n",
    "    sd_latency_sec=np.std(stim_latency_sec)\n",
    "    print('Mean(SD) latency of stim relative to clinician onset: %.1f (%.1f) seconds' % (mn_latency_sec, sd_latency_sec))\n"
   ]
  },
  {
   "cell_type": "code",
   "execution_count": 5,
   "metadata": {},
   "outputs": [
    {
     "name": "stdout",
     "output_type": "stream",
     "text": [
      "[9726, 23088, 29775, 33594]\n",
      "[29394]\n",
      "[38.69531250001511]\n",
      "391\n"
     ]
    }
   ],
   "source": [
    "print(stim_ids)\n",
    "print(onset_id_list)\n",
    "print(stim_latency_sec)\n",
    "print(29775-29384)"
   ]
  },
  {
   "cell_type": "code",
   "execution_count": 6,
   "metadata": {},
   "outputs": [
    {
     "data": {
      "text/plain": [
       "8.0"
      ]
     },
     "execution_count": 6,
     "metadata": {},
     "output_type": "execute_result"
    }
   ],
   "source": [
    "label_mat.keys()\n",
    "n_false_pos"
   ]
  },
  {
   "cell_type": "code",
   "execution_count": 7,
   "metadata": {},
   "outputs": [
    {
     "name": "stdout",
     "output_type": "stream",
     "text": [
      "dict_keys(['szr_ant_root', 'eu_meta', 'ftrs_root', 'eu_gen_ftrs', 'onset_csv', 'eu_root', 'pics', 'ieeg_root'])\n"
     ]
    },
    {
     "data": {
      "text/plain": [
       "'/Users/davidgroppe/PycharmProjects/SZR_ANT/'"
      ]
     },
     "execution_count": 7,
     "metadata": {},
     "output_type": "execute_result"
    }
   ],
   "source": [
    "path_dict=ief.get_path_dict()\n",
    "print(path_dict.keys())\n",
    "path_dict['szr_ant_root']"
   ]
  },
  {
   "cell_type": "code",
   "execution_count": 8,
   "metadata": {},
   "outputs": [
    {
     "data": {
      "text/plain": [
       "[<matplotlib.lines.Line2D at 0x10c162fd0>]"
      ]
     },
     "execution_count": 8,
     "metadata": {},
     "output_type": "execute_result"
    },
    {
     "data": {
      "image/png": "[encoded data removed]",
      "text/plain": [
       "<matplotlib.figure.Figure at 0x118fad2e8>"
      ]
     },
     "metadata": {},
     "output_type": "display_data"
    }
   ],
   "source": [
    "plt.figure(1)\n",
    "plt.plot(yhat_npz['max_yhat'],'b-')\n",
    "plt.plot(stim,'r:')\n",
    "plt.plot(np.squeeze(label_mat['se_szr_class']),'m')"
   ]
  },
  {
   "cell_type": "code",
   "execution_count": 6,
   "metadata": {},
   "outputs": [
    {
     "data": {
      "text/plain": [
       "['max_yhat', 'yhat_sec', 'yhat_soz_chans']"
      ]
     },
     "execution_count": 6,
     "metadata": {},
     "output_type": "execute_result"
    }
   ],
   "source": [
    "yhat_npz.keys()"
   ]
  },
  {
   "cell_type": "code",
   "execution_count": 16,
   "metadata": {},
   "outputs": [
    {
     "name": "stdout",
     "output_type": "stream",
     "text": [
      "9.84615384615\n"
     ]
    }
   ],
   "source": [
    "dlt=yhat_npz['yhat_sec'][0,1]-yhat_npz['yhat_sec'][0,0]\n",
    "print(1/dlt)"
   ]
  },
  {
   "cell_type": "code",
   "execution_count": null,
   "metadata": {
    "collapsed": true
   },
   "outputs": [],
   "source": []
  }
 ],
 "metadata": {
  "anaconda-cloud": {},
  "kernelspec": {
   "display_name": "Python [default]",
   "language": "python",
   "name": "python3"
  },
  "language_info": {
   "codemirror_mode": {
    "name": "ipython",
    "version": 3
   },
   "file_extension": ".py",
   "mimetype": "text/x-python",
   "name": "python",
   "nbconvert_exporter": "python",
   "pygments_lexer": "ipython3",
   "version": "3.5.3"
  }
 },
 "nbformat": 4,
 "nbformat_minor": 2
}
