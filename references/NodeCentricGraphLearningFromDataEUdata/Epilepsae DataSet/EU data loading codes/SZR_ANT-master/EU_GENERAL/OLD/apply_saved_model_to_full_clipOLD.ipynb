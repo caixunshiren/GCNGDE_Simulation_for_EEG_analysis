{
 "cells": [
  {
   "cell_type": "markdown",
   "metadata": {},
   "source": [
    "# Loads an ensemble of models, applies it to all of the data in a patient's clip (usually an hour), and outputs the classifier results to disk"
   ]
  },
  {
   "cell_type": "code",
   "execution_count": 1,
   "metadata": {
    "collapsed": true
   },
   "outputs": [],
   "source": [
    "# Libraries\n",
    "import numpy as np\n",
    "import scipy.io as sio\n",
    "import os\n",
    "import pickle\n",
    "# import re\n",
    "import ieeg_funcs as ief\n",
    "import dgFuncs as dg\n",
    "from sklearn import preprocessing\n",
    "# from scipy import stats\n",
    "# from mpl_toolkits.axes_grid1 import make_axes_locatable\n",
    "from sklearn import svm, linear_model\n",
    "from sklearn.metrics import roc_auc_score\n",
    "from sklearn.externals import joblib\n",
    "import matplotlib.pyplot as plt\n",
    "%matplotlib inline\n"
   ]
  },
  {
   "cell_type": "code",
   "execution_count": 2,
   "metadata": {},
   "outputs": [
    {
     "data": {
      "text/plain": [
       "<module 'dgFuncs' from '/Users/davidgroppe/PycharmProjects/DG_LIBRARY/dgFuncs.py'>"
      ]
     },
     "execution_count": 2,
     "metadata": {},
     "output_type": "execute_result"
    }
   ],
   "source": [
    "import imp \n",
    "imp.reload(dg) "
   ]
  },
  {
   "cell_type": "code",
   "execution_count": 2,
   "metadata": {
    "collapsed": true
   },
   "outputs": [],
   "source": [
    "# Function for extracting channel names from filename\n",
    "def chan_labels_from_fname(in_file):\n",
    "    just_fname=in_file.split('/')[-1]\n",
    "    jf_splt=just_fname.split('_')\n",
    "    chan_label=jf_splt[1]+'-'+jf_splt[2]\n",
    "    return chan_label"
   ]
  },
  {
   "cell_type": "code",
   "execution_count": 3,
   "metadata": {
    "collapsed": true
   },
   "outputs": [],
   "source": [
    "# Get list of electrodes for the subject\n",
    "def sub_soz_elec_names(sub,ftr_root):\n",
    "    soz_elec_names=list()\n",
    "    szr_fname_dict=dict()\n",
    "    non_elec_names=list()\n",
    "    \n",
    "    ftr_path=os.path.join(ftr_root,str(sub))\n",
    "    for f in os.listdir(ftr_path):\n",
    "            if f.endswith('non.mat'):\n",
    "                non_elec_names.append(chan_labels_from_fname(f))\n",
    "            elif f.endswith('.mat') and f.startswith(str(sub)+'_'):\n",
    "                temp_label=chan_labels_from_fname(f)\n",
    "                if temp_label in soz_elec_names:\n",
    "                    szr_fname_dict[soz_elec_names[-1]].append(f)\n",
    "                else:\n",
    "                    soz_elec_names.append(temp_label)\n",
    "                    szr_fname_dict[temp_label]=[f]\n",
    "                    \n",
    "    soz_elec_names=np.unique(soz_elec_names)\n",
    "    non_elec_names=np.unique(non_elec_names)\n",
    "    print('%d total # of electrodes for this sub' % len(soz_elec_names))\n",
    "        \n",
    "    return soz_elec_names, szr_fname_dict"
   ]
  },
  {
   "cell_type": "code",
   "execution_count": 15,
   "metadata": {
    "collapsed": true
   },
   "outputs": [],
   "source": [
    "temp_flist=['/Volumes/SgateOSExJnld/EU_TEMP/1096_all/1096_HL2_HL3_109600102_0002.mat']"
   ]
  },
  {
   "cell_type": "code",
   "execution_count": 6,
   "metadata": {},
   "outputs": [
    {
     "name": "stdout",
     "output_type": "stream",
     "text": [
      "# of models= 5\n",
      "<class 'sklearn.linear_model.logistic.LogisticRegression'>\n"
     ]
    }
   ],
   "source": [
    "# Load saved models\n",
    "model_fname='/Users/davidgroppe/PycharmProjects/SZR_ANT/MODELS/genLogregSe_3/classify_models_srch.pkl'\n",
    "models=pickle.load(open(model_fname,'rb'))\n",
    "n_models=len(models)\n",
    "print('# of models= %d' % n_models)"
   ]
  },
  {
   "cell_type": "code",
   "execution_count": 16,
   "metadata": {},
   "outputs": [
    {
     "name": "stdout",
     "output_type": "stream",
     "text": [
      "9 total # of electrodes for this sub\n",
      "done\n"
     ]
    }
   ],
   "source": [
    "sub=1096\n",
    "model_name='genLogregSe'\n",
    "yhat_dir=os.path.join('/Users/davidgroppe/PycharmProjects/SZR_ANT/MODELS/',model_name+'_yhat')\n",
    "ftr_root='/Users/davidgroppe/PycharmProjects/SZR_ANT/EU_GENERAL/EU_GENERAL_FTRS/SE/'\n",
    "# Get list of electrodes\n",
    "soz_elec_names, szr_fname_dict=sub_soz_elec_names(sub,ftr_root)\n",
    "ftr_path=os.path.join(ftr_root,str(sub))\n",
    "for elec in soz_elec_names[:1]:\n",
    "    # load non szr file\n",
    "    uni_chans=elec.split('-')\n",
    "    nonszr_fname=str(sub)+'_'+uni_chans[0]+'_'+uni_chans[1]+'_non.mat'\n",
    "    #print('Loading %s' % nonszr_fname)\n",
    "    temp_ftrs=sio.loadmat(os.path.join(ftr_path,nonszr_fname))\n",
    "    # Z-score features\n",
    "    temp_mns, temp_sds=dg.trimmed_normalize(temp_ftrs['nonszr_se_ftrs'],0,zero_nans=False,verbose=False)\n",
    "    \n",
    "    # get list of szr files\n",
    "    for szr_f in temp_flist:\n",
    "    #for szr_f in szr_fname_dict[elec]:\n",
    "        #load file\n",
    "#         print('Loading %s' % szr_f)\n",
    "        #temp_ftrs=sio.loadmat(os.path.join(ftr_path,szr_f))\n",
    "        temp_ftrs=sio.loadmat(szr_f)\n",
    "        raw_ftrs=temp_ftrs['se_ftrs']\n",
    "        # Z-score based on non-ictal means, SDs\n",
    "        dg.applyNormalize(raw_ftrs,temp_mns,temp_sds)\n",
    "        \n",
    "        # Apply classifiers\n",
    "        for model_ct in range(n_models):\n",
    "            tmp_yhat_va = models[model_ct].predict_proba(raw_ftrs.T)[:,1]\n",
    "            if model_ct==0:\n",
    "                yhat=np.zeros(tmp_yhat_va.shape)\n",
    "            yhat+=tmp_yhat_va/n_models\n",
    "#         out_fname=str(sub)+'_'+uni_chans[0]+'_'+uni_chans[1]+'_phat_'+szr_f.split('_')[-1]\n",
    "#         print('Saving file as %s' % out_fname)\n",
    "#         sio.savemat(os.path.join(yhat_dir,out_fname), mdict={'yhat': yhat,\n",
    "#                                                              'model_name': model_name,\n",
    "#                                                              'ftr_fname': szr_f})\n",
    "\n",
    "print('done')"
   ]
  },
  {
   "cell_type": "code",
   "execution_count": 74,
   "metadata": {},
   "outputs": [
    {
     "name": "stdout",
     "output_type": "stream",
     "text": [
      "dict_keys(['sgram_S', '__globals__', '__version__', 'targ_raw_ieeg', 'sgram_t', 'szr_fname', 'se_time_sec', 'se_ftrs', 'sgram_f', 'targ_raw_ieeg_sec', 'se_szr_class', '__header__', 'ftr_labels'])\n",
      "(1, 1234)\n",
      "(30, 1234)\n",
      "(1234,)\n"
     ]
    },
    {
     "data": {
      "text/plain": [
       "(1234,)"
      ]
     },
     "execution_count": 74,
     "metadata": {},
     "output_type": "execute_result"
    }
   ],
   "source": [
    "print(temp_ftrs.keys())\n",
    "print(temp_ftrs['se_time_sec'].shape)\n",
    "print(temp_ftrs['se_ftrs'].shape)\n",
    "print(tmp_yhat_va.shape)\n",
    "yhat.shape"
   ]
  },
  {
   "cell_type": "code",
   "execution_count": 17,
   "metadata": {},
   "outputs": [
    {
     "data": {
      "text/plain": [
       "[<matplotlib.lines.Line2D at 0x125f8d198>]"
      ]
     },
     "execution_count": 17,
     "metadata": {},
     "output_type": "execute_result"
    },
    {
     "data": {
      "image/png": "[encoded data removed]",
      "text/plain": [
       "<matplotlib.figure.Figure at 0x1209be780>"
      ]
     },
     "metadata": {},
     "output_type": "display_data"
    },
    {
     "data": {
      "image/png": "[encoded data removed]",
      "text/plain": [
       "<matplotlib.figure.Figure at 0x122192908>"
      ]
     },
     "metadata": {},
     "output_type": "display_data"
    }
   ],
   "source": [
    "plt.figure(1)\n",
    "plt.plot(np.squeeze(temp_ftrs['se_time_sec']),yhat)\n",
    "plt.plot(np.squeeze(temp_ftrs['se_time_sec']),np.squeeze(temp_ftrs['se_szr_class']),'r-')\n",
    "\n",
    "plt.figure(2)\n",
    "plt.plot(np.squeeze(np.squeeze(temp_ftrs['time_dec'])),np.squeeze(temp_ftrs['ieeg']))"
   ]
  },
  {
   "cell_type": "code",
   "execution_count": 9,
   "metadata": {},
   "outputs": [
    {
     "data": {
      "text/plain": [
       "dict_keys(['se_ftrs', 'se_szr_class', '__version__', 'ieeg', 'se_class', '__header__', 'ftr_labels', 'time_dec', '__globals__', 'se_time_sec'])"
      ]
     },
     "execution_count": 9,
     "metadata": {},
     "output_type": "execute_result"
    }
   ],
   "source": [
    "temp_ftrs.keys()"
   ]
  },
  {
   "cell_type": "code",
   "execution_count": null,
   "metadata": {
    "collapsed": true
   },
   "outputs": [],
   "source": []
  }
 ],
 "metadata": {
  "anaconda-cloud": {},
  "kernelspec": {
   "display_name": "Python [conda root]",
   "language": "python",
   "name": "conda-root-py"
  },
  "language_info": {
   "codemirror_mode": {
    "name": "ipython",
    "version": 3
   },
   "file_extension": ".py",
   "mimetype": "text/x-python",
   "name": "python",
   "nbconvert_exporter": "python",
   "pygments_lexer": "ipython3",
   "version": "3.5.3"
  }
 },
 "nbformat": 4,
 "nbformat_minor": 2
}
