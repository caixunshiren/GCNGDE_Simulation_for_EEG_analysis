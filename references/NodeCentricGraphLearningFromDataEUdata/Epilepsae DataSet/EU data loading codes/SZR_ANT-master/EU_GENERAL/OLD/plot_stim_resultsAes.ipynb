{
 "cells": [
  {
   "cell_type": "code",
   "execution_count": 1,
   "metadata": {},
   "outputs": [],
   "source": [
    "import numpy as np\n",
    "import scipy.io as sio\n",
    "import os\n",
    "import euGenFuncs as eu\n",
    "import matplotlib.pyplot as plt\n",
    "%matplotlib inline\n",
    "import imp "
   ]
  },
  {
   "cell_type": "code",
   "execution_count": 2,
   "metadata": {},
   "outputs": [
    {
     "ename": "FileNotFoundError",
     "evalue": "[Errno 2] No such file or directory: '/Users/davidgroppe/PycharmProjects/SZR_ANT/MODELS/svmAesFinale_1/264_thresh_0-2_refract_0-5_stim_results.npz'",
     "output_type": "error",
     "traceback": [
      "\u001b[0;31m---------------------------------------------------------------------------\u001b[0m",
      "\u001b[0;31mFileNotFoundError\u001b[0m                         Traceback (most recent call last)",
      "\u001b[0;32m<ipython-input-2-e8b34d5f66ae>\u001b[0m in \u001b[0;36m<module>\u001b[0;34m()\u001b[0m\n\u001b[1;32m     17\u001b[0m     \u001b[0;32mfor\u001b[0m \u001b[0msub_ct\u001b[0m\u001b[0;34m,\u001b[0m \u001b[0msub\u001b[0m \u001b[0;32min\u001b[0m \u001b[0menumerate\u001b[0m\u001b[0;34m(\u001b[0m\u001b[0msubs\u001b[0m\u001b[0;34m)\u001b[0m\u001b[0;34m:\u001b[0m\u001b[0;34m\u001b[0m\u001b[0m\n\u001b[1;32m     18\u001b[0m         \u001b[0min_fname\u001b[0m\u001b[0;34m=\u001b[0m\u001b[0mstr\u001b[0m\u001b[0;34m(\u001b[0m\u001b[0msub\u001b[0m\u001b[0;34m)\u001b[0m\u001b[0;34m+\u001b[0m\u001b[0;34m'_thresh_0-'\u001b[0m\u001b[0;34m+\u001b[0m\u001b[0mstr\u001b[0m\u001b[0;34m(\u001b[0m\u001b[0mint\u001b[0m\u001b[0;34m(\u001b[0m\u001b[0;36m10\u001b[0m\u001b[0;34m*\u001b[0m\u001b[0mthresh\u001b[0m\u001b[0;34m)\u001b[0m\u001b[0;34m)\u001b[0m\u001b[0;34m+\u001b[0m\u001b[0;34m'_refract_0-5_stim_results.npz'\u001b[0m\u001b[0;34m\u001b[0m\u001b[0m\n\u001b[0;32m---> 19\u001b[0;31m         \u001b[0mnpz\u001b[0m\u001b[0;34m=\u001b[0m\u001b[0mnp\u001b[0m\u001b[0;34m.\u001b[0m\u001b[0mload\u001b[0m\u001b[0;34m(\u001b[0m\u001b[0mos\u001b[0m\u001b[0;34m.\u001b[0m\u001b[0mpath\u001b[0m\u001b[0;34m.\u001b[0m\u001b[0mjoin\u001b[0m\u001b[0;34m(\u001b[0m\u001b[0mpth\u001b[0m\u001b[0;34m,\u001b[0m\u001b[0min_fname\u001b[0m\u001b[0;34m)\u001b[0m\u001b[0;34m)\u001b[0m\u001b[0;34m\u001b[0m\u001b[0m\n\u001b[0m\u001b[1;32m     20\u001b[0m         \u001b[0msens\u001b[0m\u001b[0;34m[\u001b[0m\u001b[0msub_ct\u001b[0m\u001b[0;34m,\u001b[0m\u001b[0mthresh_ct\u001b[0m\u001b[0;34m]\u001b[0m\u001b[0;34m=\u001b[0m\u001b[0mnpz\u001b[0m\u001b[0;34m[\u001b[0m\u001b[0;34m'sens'\u001b[0m\u001b[0;34m]\u001b[0m\u001b[0;34m\u001b[0m\u001b[0m\n\u001b[1;32m     21\u001b[0m         \u001b[0mfp_per_day\u001b[0m\u001b[0;34m[\u001b[0m\u001b[0msub_ct\u001b[0m\u001b[0;34m,\u001b[0m\u001b[0mthresh_ct\u001b[0m\u001b[0;34m]\u001b[0m\u001b[0;34m=\u001b[0m\u001b[0mnpz\u001b[0m\u001b[0;34m[\u001b[0m\u001b[0;34m'fp_per_hour'\u001b[0m\u001b[0;34m]\u001b[0m\u001b[0;34m*\u001b[0m\u001b[0;36m24\u001b[0m\u001b[0;34m\u001b[0m\u001b[0m\n",
      "\u001b[0;32m~/anaconda3/lib/python3.6/site-packages/numpy/lib/npyio.py\u001b[0m in \u001b[0;36mload\u001b[0;34m(file, mmap_mode, allow_pickle, fix_imports, encoding)\u001b[0m\n\u001b[1;32m    368\u001b[0m     \u001b[0mown_fid\u001b[0m \u001b[0;34m=\u001b[0m \u001b[0;32mFalse\u001b[0m\u001b[0;34m\u001b[0m\u001b[0m\n\u001b[1;32m    369\u001b[0m     \u001b[0;32mif\u001b[0m \u001b[0misinstance\u001b[0m\u001b[0;34m(\u001b[0m\u001b[0mfile\u001b[0m\u001b[0;34m,\u001b[0m \u001b[0mbasestring\u001b[0m\u001b[0;34m)\u001b[0m\u001b[0;34m:\u001b[0m\u001b[0;34m\u001b[0m\u001b[0m\n\u001b[0;32m--> 370\u001b[0;31m         \u001b[0mfid\u001b[0m \u001b[0;34m=\u001b[0m \u001b[0mopen\u001b[0m\u001b[0;34m(\u001b[0m\u001b[0mfile\u001b[0m\u001b[0;34m,\u001b[0m \u001b[0;34m\"rb\"\u001b[0m\u001b[0;34m)\u001b[0m\u001b[0;34m\u001b[0m\u001b[0m\n\u001b[0m\u001b[1;32m    371\u001b[0m         \u001b[0mown_fid\u001b[0m \u001b[0;34m=\u001b[0m \u001b[0;32mTrue\u001b[0m\u001b[0;34m\u001b[0m\u001b[0m\n\u001b[1;32m    372\u001b[0m     \u001b[0;32melif\u001b[0m \u001b[0mis_pathlib_path\u001b[0m\u001b[0;34m(\u001b[0m\u001b[0mfile\u001b[0m\u001b[0;34m)\u001b[0m\u001b[0;34m:\u001b[0m\u001b[0;34m\u001b[0m\u001b[0m\n",
      "\u001b[0;31mFileNotFoundError\u001b[0m: [Errno 2] No such file or directory: '/Users/davidgroppe/PycharmProjects/SZR_ANT/MODELS/svmAesFinale_1/264_thresh_0-2_refract_0-5_stim_results.npz'"
     ]
    }
   ],
   "source": [
    "subs=[264, 273, 862, 1125]\n",
    "pth='/Users/davidgroppe/PycharmProjects/SZR_ANT/MODELS/svmAesFinale_1'\n",
    "n_subs=len(subs)\n",
    "try_thresh=np.arange(0.2,0.7,0.1)\n",
    "n_thresh=len(try_thresh)\n",
    "\n",
    "#preallocate mem\n",
    "sens=np.zeros((n_subs, n_thresh))\n",
    "total_hrs=np.zeros(n_subs)\n",
    "total_clin_szrs=np.zeros(n_subs)\n",
    "fp_per_day=np.zeros((n_subs, n_thresh))\n",
    "mn_stim_lat=np.zeros((n_subs, n_thresh))\n",
    "stim_lat_list=list()\n",
    "stim_hit_list=list()\n",
    "# Loop over files\n",
    "for thresh_ct, thresh in enumerate(try_thresh):\n",
    "    for sub_ct, sub in enumerate(subs):\n",
    "        in_fname=str(sub)+'_thresh_0-'+str(int(10*thresh))+'_refract_0-5_stim_results.npz'\n",
    "        npz=np.load(os.path.join(pth,in_fname))\n",
    "        sens[sub_ct,thresh_ct]=npz['sens']\n",
    "        fp_per_day[sub_ct,thresh_ct]=npz['fp_per_hour']*24\n",
    "        mn_stim_lat[sub_ct,thresh_ct]=np.mean(npz['stim_latency_sec'])\n",
    "        if thresh_ct==0:\n",
    "            total_hrs[sub_ct]=npz['total_hrs']\n",
    "            total_clin_szrs[sub_ct]=npz['n_clin_szr']\n",
    "        elif thresh_ct==3:\n",
    "            stim_lat_list.append(npz['stim_latency_sec'])\n",
    "            stim_hit_list.append(npz['stim_latency_hit'])\n",
    "            print(sub)\n",
    "            print(npz['stim_latency_sec'])\n",
    "            print(npz['stim_latency_hit'])\n",
    "            print('stim_latency_hit %d' % np.sum(npz['stim_latency_hit']))\n",
    "            print('n_true_pos %d' % npz['n_true_pos'])\n",
    "            print('sens %f' % npz['sens'])\n",
    "print('npz keys are {}'.format(npz.keys()))\n",
    "print('Mean SD sensitivity: %f (%f)' % (np.mean(sens),np.std(sens)))"
   ]
  },
  {
   "cell_type": "code",
   "execution_count": null,
   "metadata": {},
   "outputs": [],
   "source": [
    "print(npz['stim_latency_sec'])\n",
    "print(npz['stim_latency_hit'])\n",
    "print(npz['refract_min'])\n",
    "26555-25378"
   ]
  },
  {
   "cell_type": "code",
   "execution_count": null,
   "metadata": {},
   "outputs": [],
   "source": [
    "temp_fname='/Users/davidgroppe/Desktop/26402102_0036_yhat.npz'\n",
    "sis=np.load(temp_fname)\n",
    "sis.keys()\n",
    "temp_fname='/Users/davidgroppe/PycharmProjects/SZR_ANT/EU_GENERAL/1125_y_112500102_0025.mat'\n",
    "mat=sio.loadmat(temp_fname)\n",
    "print(mat.keys())\n",
    "print(mat['se_szr_class'].shape)\n",
    "print(mat['se_time_sec'].shape)\n",
    "print(mat['szr_class_dec'].shape)\n",
    "print(mat['time_dec'].shape)"
   ]
  },
  {
   "cell_type": "code",
   "execution_count": null,
   "metadata": {},
   "outputs": [],
   "source": [
    "# Report total hours of EEG & # of clinical szrs\n",
    "print('Total hours of test data: %f' % np.sum(total_hrs))\n",
    "print('Total days of test data: %f' % np.sum(total_hrs/24))\n",
    "print('Mean (SD) days of test data: %f (%f)' % (np.mean(total_hrs/24),np.std(total_hrs/24)))\n",
    "print('Total # of clinical szrs: %d' % np.sum(total_clin_szrs))\n",
    "print('Mean (SD) # of clinical szrs: %f (%f)' % (np.mean(total_clin_szrs),np.std(total_clin_szrs)))"
   ]
  },
  {
   "cell_type": "code",
   "execution_count": null,
   "metadata": {},
   "outputs": [],
   "source": [
    "# Plot Sensitivity\n",
    "plt.figure(1)\n",
    "plt.clf()\n",
    "plt.plot(try_thresh,np.mean(sens,axis=0),'ro-')\n",
    "for sub_ct in range(n_subs):\n",
    "    plt.plot(try_thresh+(np.random.rand(1)-.5)/50,sens[sub_ct,:],'.')\n",
    "plt.xlabel('Threshold')\n",
    "plt.ylabel('Pptn of Szrs Stimulated')\n",
    "\n",
    "thresh_id=3\n",
    "print('For Thresh: %f' % try_thresh[thresh_id])\n",
    "print('Mean (SD) Sensitivity: %f (%f)' % (np.mean(sens[:,thresh_id]),np.std(sens[:,thresh_id])))\n",
    "for sub_ct in range(n_subs):\n",
    "    print('%d: %f' % (subs[sub_ct],sens[sub_ct,thresh_id]))"
   ]
  },
  {
   "cell_type": "code",
   "execution_count": null,
   "metadata": {},
   "outputs": [],
   "source": [
    "# Plot False Positive Stimulations/Day\n",
    "plt.figure(2)\n",
    "plt.clf()\n",
    "plt.plot(try_thresh,np.mean(fp_per_day,axis=0),'ro-')\n",
    "for sub_ct in range(n_subs):\n",
    "    plt.plot(try_thresh+(np.random.rand(1)-.5)/50,fp_per_day[sub_ct,:],'.')\n",
    "plt.xlabel('Threshold')\n",
    "plt.ylabel('False postitive stim/day')\n",
    "print('For Thresh: %f' % try_thresh[thresh_id])\n",
    "print('Mean (SD) False Positive Stim/Day: %f (%f)' % (np.mean(fp_per_day[:,thresh_id]),np.std(fp_per_day[:,thresh_id])))"
   ]
  },
  {
   "cell_type": "code",
   "execution_count": null,
   "metadata": {},
   "outputs": [],
   "source": [
    "# Plot Mean Stim Latency for each Clinical Szr\n",
    "plt.figure(3)\n",
    "plt.clf()\n",
    "plt.plot(try_thresh,np.mean(mn_stim_lat,axis=0),'ro-')\n",
    "for sub_ct in range(n_subs):\n",
    "    plt.plot(try_thresh+(np.random.rand(1)-.5)/50,mn_stim_lat[sub_ct,:],'.')\n",
    "plt.xlabel('Threshold')\n",
    "plt.ylabel('Seconds to Onset')\n",
    "print('For Thresh: %f' % try_thresh[thresh_id])\n",
    "print('Mean (SD) False Positive Stim/Day: %f (%f)' % (np.mean(mn_stim_lat[:,thresh_id]),\n",
    "                                                      np.std(mn_stim_lat[:,thresh_id])))"
   ]
  },
  {
   "cell_type": "code",
   "execution_count": null,
   "metadata": {
    "collapsed": true
   },
   "outputs": [],
   "source": [
    "# Boxplot-ish of stimulation latencies\n",
    "len(stim_lat_list)\n",
    "plt.figure(4)\n",
    "for sub_ct in range(n_subs):\n",
    "    stim_lat_temp=stim_lat_list[sub_ct][stim_hit_list[sub_ct]==1]\n",
    "    #stim_lat_temp=stim_lat_list[sub_ct][np.abs(stim_lat_list[sub_ct])<100]\n",
    "    \n",
    "    # Plot individual szr stim latencies\n",
    "    for stim_lat in stim_lat_temp:\n",
    "    #for stim_lat in stim_lat_list[sub_ct]:\n",
    "        plt.plot(1+sub_ct+(np.random.rand(1)-0.5)/3,stim_lat,'b.',markersize=8)\n",
    "    avg_lat=np.mean(stim_lat_temp)\n",
    "    #avg_lat=np.median(stim_lat_temp)\n",
    "    plt.plot(1+np.asarray([-.2, 0.2])+sub_ct,[avg_lat, avg_lat],'r-',linewidth=3)\n",
    "    sd_lat=np.std(stim_lat_temp)\n",
    "    plt.plot([1+sub_ct, 1+sub_ct],[avg_lat-sd_lat, avg_lat+sd_lat],\n",
    "             color=(93/255,49/255,168/255),linewidth=3)\n",
    "    \n",
    "# xlim=plt.xlim()\n",
    "xlim=[0.5, 4.5]\n",
    "plt.ylim([-20, 25])\n",
    "plt.plot(xlim,[0, 0],'k--')\n",
    "plt.xlim(xlim)\n",
    "plt.xticks(np.arange(1,5))\n",
    "plt.tick_params(labelsize=20)\n",
    "# plt.ylabel('Seconds',fontsize=28)\n",
    "# plt.xlabel('Patient',fontsize=28)\n",
    "plt.savefig('aes_stim_latency.pdf')\n",
    "print('done!')"
   ]
  },
  {
   "cell_type": "code",
   "execution_count": null,
   "metadata": {
    "collapsed": true
   },
   "outputs": [],
   "source": [
    "plt.tick_params?"
   ]
  },
  {
   "cell_type": "code",
   "execution_count": null,
   "metadata": {
    "collapsed": true
   },
   "outputs": [],
   "source": [
    "print('Max possible stims/day (given refractory period): %d' % (2*60*24))"
   ]
  },
  {
   "cell_type": "code",
   "execution_count": null,
   "metadata": {
    "collapsed": true
   },
   "outputs": [],
   "source": []
  }
 ],
 "metadata": {
  "anaconda-cloud": {},
  "kernelspec": {
   "display_name": "Python 3",
   "language": "python",
   "name": "python3"
  },
  "language_info": {
   "codemirror_mode": {
    "name": "ipython",
    "version": 3
   },
   "file_extension": ".py",
   "mimetype": "text/x-python",
   "name": "python",
   "nbconvert_exporter": "python",
   "pygments_lexer": "ipython3",
   "version": "3.6.0"
  }
 },
 "nbformat": 4,
 "nbformat_minor": 2
}
