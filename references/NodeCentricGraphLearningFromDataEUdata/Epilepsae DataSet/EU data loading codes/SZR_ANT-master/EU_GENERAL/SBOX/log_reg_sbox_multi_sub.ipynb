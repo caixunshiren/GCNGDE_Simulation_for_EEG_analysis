{
 "cells": [
  {
   "cell_type": "code",
   "execution_count": 1,
   "metadata": {
    "collapsed": true
   },
   "outputs": [],
   "source": [
    "# Libraries\n",
    "import numpy as np\n",
    "import scipy.io as sio\n",
    "import os\n",
    "# import pickle\n",
    "# import re\n",
    "import ieeg_funcs as ief\n",
    "import dgFuncs as dg\n",
    "from sklearn import preprocessing\n",
    "# from scipy import stats\n",
    "# from mpl_toolkits.axes_grid1 import make_axes_locatable\n",
    "from sklearn import svm, linear_model\n",
    "from sklearn.metrics import roc_auc_score\n",
    "from sklearn.externals import joblib\n",
    "import matplotlib.pyplot as plt\n",
    "%matplotlib inline\n"
   ]
  },
  {
   "cell_type": "code",
   "execution_count": 2,
   "metadata": {},
   "outputs": [
    {
     "data": {
      "text/plain": [
       "<module 'dgFuncs' from '/Users/davidgroppe/PycharmProjects/DG_LIBRARY/dgFuncs.py'>"
      ]
     },
     "execution_count": 2,
     "metadata": {},
     "output_type": "execute_result"
    }
   ],
   "source": [
    "import imp \n",
    "imp.reload(dg) "
   ]
  },
  {
   "cell_type": "code",
   "execution_count": 3,
   "metadata": {
    "collapsed": true
   },
   "outputs": [],
   "source": [
    "# Function for extracting channel names from filename\n",
    "def chan_labels_from_fname(in_file):\n",
    "    just_fname=in_file.split('/')[-1]\n",
    "    jf_splt=just_fname.split('_')\n",
    "    chan_label=jf_splt[1]+'-'+jf_splt[2]\n",
    "    return chan_label"
   ]
  },
  {
   "cell_type": "code",
   "execution_count": 4,
   "metadata": {
    "collapsed": true
   },
   "outputs": [],
   "source": [
    "# Get size of a subject's data (and filenames)\n",
    "def data_size_and_fnames(sub_list,ftr_root):\n",
    "    grand_non_fnames=list()\n",
    "    grand_szr_fnames=list()\n",
    "    grand_n_szr_wind=0\n",
    "    grand_n_non_wind=0\n",
    "    for sub in sub_list:\n",
    "        print('Working on sub %d' % sub)\n",
    "        non_fnames=list()\n",
    "        szr_fnames=list()\n",
    "        \n",
    "        ftr_path=os.path.join(ftr_root,str(sub))\n",
    "        for f in os.listdir(ftr_path):\n",
    "            if f.endswith('non.mat'):\n",
    "                non_fnames.append(os.path.join(ftr_root,str(sub),f))\n",
    "            elif f.endswith('.mat') and f.startswith(str(sub)+'_'):\n",
    "                szr_fnames.append(os.path.join(ftr_root,str(sub),f))\n",
    "\n",
    "        print('%d non-szr files found' % len(non_fnames))\n",
    "        print('%d szr files found' % len(szr_fnames))  \n",
    "\n",
    "        # Loop over NON-szr files to get total # of windows\n",
    "        n_non_wind=0\n",
    "        ftr_dim=0\n",
    "        for f in non_fnames:\n",
    "            temp_ftrs=sio.loadmat(f)\n",
    "            n_non_wind+=temp_ftrs['nonszr_se_ftrs'].shape[1]\n",
    "            if ftr_dim==0:\n",
    "                ftr_dim=temp_ftrs['nonszr_se_ftrs'].shape[0]\n",
    "            elif ftr_dim!=temp_ftrs['nonszr_se_ftrs'].shape[0]:\n",
    "                raise ValueError('# of features in file does match previous files')\n",
    "\n",
    "        print('%d total # of NON-szr time windows for this sub' % n_non_wind)\n",
    "\n",
    "        # Loop over SZR files to get total # of windows\n",
    "        n_szr_wind=0\n",
    "        for f in szr_fnames:\n",
    "            temp_ftrs=sio.loadmat(f)\n",
    "            n_szr_wind+=temp_ftrs['se_ftrs'].shape[1]\n",
    "        print('%d total # of SZR time windows for this sub' % n_szr_wind)\n",
    "        \n",
    "        grand_non_fnames+=non_fnames\n",
    "        grand_szr_fnames+=szr_fnames\n",
    "        grand_n_szr_wind+=n_szr_wind\n",
    "        grand_n_non_wind+=n_non_wind\n",
    "        \n",
    "    return grand_szr_fnames, grand_non_fnames, grand_n_szr_wind, grand_n_non_wind, ftr_dim"
   ]
  },
  {
   "cell_type": "code",
   "execution_count": 6,
   "metadata": {
    "collapsed": true
   },
   "outputs": [],
   "source": [
    "def import_data(szr_fnames, non_fnames, n_szr_wind, n_non_wind, ftr_dim):\n",
    "    #ftr_path=os.path.join(ftr_root,str(sub))\n",
    "        \n",
    "    # Preallocate memory\n",
    "    ftrs=np.zeros((ftr_dim,n_szr_wind+n_non_wind))\n",
    "    targ_labels=np.zeros(n_szr_wind+n_non_wind)\n",
    "    sub_ids=np.zeros(n_szr_wind + n_non_wind)\n",
    "    \n",
    "    # Import non-szr data\n",
    "    ptr=0\n",
    "    mns_dict=dict()\n",
    "    sds_dict=dict()\n",
    "    for f in non_fnames:\n",
    "#         print(f)\n",
    "        chan_label=chan_labels_from_fname(f)\n",
    "\n",
    "        temp_ftrs=sio.loadmat(f)\n",
    "        temp_n_wind=temp_ftrs['nonszr_se_ftrs'].shape[1]\n",
    "        raw_ftrs=temp_ftrs['nonszr_se_ftrs']\n",
    "        # Z-score features\n",
    "        temp_mns, temp_sds=dg.trimmed_normalize(raw_ftrs,0,zero_nans=False,verbose=False)\n",
    "        #temp_mns, temp_sds=dg.trimmed_normalize(raw_ftrs,0.3,zero_nans=False,verbose=False)\n",
    "        mns_dict[chan_label]=temp_mns\n",
    "        sds_dict[chan_label]=temp_sds\n",
    "    \n",
    "        ftrs[:,ptr:ptr+temp_n_wind]=raw_ftrs\n",
    "        targ_labels[ptr:ptr+temp_n_wind]=0\n",
    "        tmp=f.split('/')[-1]\n",
    "#         print(tmp)\n",
    "#         print(int(tmp.split('_')[0]))\n",
    "        sub_ids[ptr:ptr + temp_n_wind] = int(tmp.split('_')[0])\n",
    "        ptr+=temp_n_wind\n",
    "\n",
    "    # Import szr data\n",
    "    for f in szr_fnames:\n",
    "        chan_label=chan_labels_from_fname(f)\n",
    "\n",
    "        temp_ftrs=sio.loadmat(f)\n",
    "        temp_n_wind=temp_ftrs['se_ftrs'].shape[1]\n",
    "        raw_ftrs=temp_ftrs['se_ftrs']\n",
    "        # Z-score based on non-ictal means, SDs\n",
    "        dg.applyNormalize(raw_ftrs,mns_dict[chan_label],sds_dict[chan_label])\n",
    "\n",
    "        ftrs[:,ptr:ptr+temp_n_wind]=raw_ftrs\n",
    "        targ_labels[ptr:ptr+temp_n_wind]=1;\n",
    "        tmp=f.split('/')[-1]\n",
    "        sub_ids[ptr:ptr + temp_n_wind] = int(tmp.split('_')[0])\n",
    "        ptr+=temp_n_wind\n",
    "\n",
    "    return ftrs, targ_labels, sub_ids"
   ]
  },
  {
   "cell_type": "code",
   "execution_count": 7,
   "metadata": {
    "collapsed": true
   },
   "outputs": [],
   "source": [
    "#ftrs_tr, targ_labels_tr, sub_ids=import_data(szr_fnames_tr, non_fnames_tr, n_szr_wind_tr, n_non_wind_tr, ftr_dim)"
   ]
  },
  {
   "cell_type": "code",
   "execution_count": 8,
   "metadata": {},
   "outputs": [
    {
     "name": "stdout",
     "output_type": "stream",
     "text": [
      "Working on sub 590\n",
      "17 non-szr files found\n",
      "29 szr files found\n",
      "33782 total # of NON-szr time windows for this sub\n",
      "31062 total # of SZR time windows for this sub\n",
      "Working on sub 620\n",
      "5 non-szr files found\n",
      "14 szr files found\n",
      "8960 total # of NON-szr time windows for this sub\n",
      "8210 total # of SZR time windows for this sub\n",
      "Working on sub 862\n",
      "7 non-szr files found\n",
      "20 szr files found\n",
      "13572 total # of NON-szr time windows for this sub\n",
      "12935 total # of SZR time windows for this sub\n",
      "Working on sub 1077\n",
      "8 non-szr files found\n",
      "27 szr files found\n",
      "21131 total # of NON-szr time windows for this sub\n",
      "20678 total # of SZR time windows for this sub\n"
     ]
    }
   ],
   "source": [
    "# Get Training Data\n",
    "# train_subs=[253, 590, 620, 862, 1077]\n",
    "train_subs=[590, 620, 862, 1077]\n",
    "#train_subs=[565] # Data look mislabelled\n",
    "#train_subs=[264] #KeyError: 'BLA1-BLA2', some non files missing\n",
    "#train_subs=[273] # Data look mislabelled\n",
    "# train_subs=[253, 1125]\n",
    "# train_subs=[1077] \n",
    "# train_subs=[264] \n",
    "# train_subs=[620] \n",
    "# train_subs=[1096] \n",
    "#/Users/davidgroppe/PycharmProjects/SZR_ANT/EU_GENERAL/EU_GENERAL_FTRS/SE/1096_HL1_HL2_non.ma\n",
    "ftr_root='/Users/davidgroppe/PycharmProjects/SZR_ANT/EU_GENERAL/EU_GENERAL_FTRS/SE/'\n",
    "szr_fnames_tr, non_fnames_tr, n_szr_wind_tr, n_non_wind_tr, ftr_dim=data_size_and_fnames(train_subs, ftr_root)\n",
    "ftrs_tr, targ_labels_tr, sub_ids=import_data(szr_fnames_tr, non_fnames_tr, n_szr_wind_tr, n_non_wind_tr, ftr_dim)"
   ]
  },
  {
   "cell_type": "code",
   "execution_count": 9,
   "metadata": {},
   "outputs": [
    {
     "name": "stdout",
     "output_type": "stream",
     "text": [
      "Training Data Performance\n",
      "AUC=0.935\n",
      "Balanced Accuracy (sens/spec)=0.861 (0.792468/0.930441)\n"
     ]
    }
   ],
   "source": [
    "# Train & Evaluate Model on Training Data\n",
    "# Train classifier\n",
    "C=1\n",
    "model = linear_model.LogisticRegression(C=C,class_weight='balanced')\n",
    "model.fit(ftrs_tr.T, targ_labels_tr)\n",
    "class_hat_tr = model.predict_proba(ftrs_tr.T)[:,1]\n",
    "# model.fit(bro['ftrs'], targ_labels_tr)\n",
    "# class_hat_tr = model.predict_proba(bro['ftrs'])[:,1]\n",
    "print('Training Data Performance')\n",
    "auc_tr=roc_auc_score(targ_labels_tr, class_hat_tr)\n",
    "print('AUC=%.3f' % auc_tr)\n",
    "bal_acc_tr, sens_tr, spec_tr=ief.perf_msrs(targ_labels_tr, class_hat_tr>=0.5)\n",
    "print('Balanced Accuracy (sens/spec)=%.3f (%f/%f)' % (bal_acc_tr,sens_tr,spec_tr))"
   ]
  },
  {
   "cell_type": "code",
   "execution_count": 21,
   "metadata": {},
   "outputs": [
    {
     "name": "stdout",
     "output_type": "stream",
     "text": [
      "Ideal threshold=0.425911\n",
      "Corresponding sens/spec=0.823942/0.904371\n",
      "Balanced Accuracy (sens/spec)=0.864 (0.823942/0.904371)\n"
     ]
    },
    {
     "data": {
      "image/png": "[encoded data removed]",
      "text/plain": [
       "<matplotlib.figure.Figure at 0x11e1490f0>"
      ]
     },
     "metadata": {},
     "output_type": "display_data"
    },
    {
     "data": {
      "image/png": "[encoded data removed]",
      "text/plain": [
       "<matplotlib.figure.Figure at 0x11ca5bd68>"
      ]
     },
     "metadata": {},
     "output_type": "display_data"
    }
   ],
   "source": [
    "from sklearn.metrics import roc_curve, auc\n",
    "#fpr[i], tpr[i], _ = roc_curve(y_test[:, i], y_score[:, i])\n",
    "fpr, tpr, thresh = roc_curve(targ_labels_tr, class_hat_tr)\n",
    "plt.figure(3)\n",
    "lw = 2\n",
    "plt.plot(fpr, tpr, 'r-.',\n",
    "         lw=lw, label='ROC curve (area = %0.2f)' % auc_tr)\n",
    "plt.plot([0, 1], [0, 1], color='navy', lw=lw, linestyle='--')\n",
    "plt.xlim([0.0, 1.0])\n",
    "plt.ylim([0.0, 1.05])\n",
    "plt.xlabel('False Positive Rate')\n",
    "plt.ylabel('True Positive Rate')\n",
    "plt.title('Receiver operating characteristic example')\n",
    "plt.legend(loc=\"lower right\")\n",
    "\n",
    "plt.figure(4)\n",
    "mn=(tpr+(1-fpr))/2\n",
    "mx_mn_id=np.argmax(mn)\n",
    "plt.plot(thresh,mn,'.-')\n",
    "plt.plot(thresh[mx_mn_id],mn[mx_mn_id],'ro')\n",
    "print('Ideal threshold=%f' % thresh[mx_mn_id])\n",
    "print('Corresponding sens/spec=%f/%f' % (tpr[mx_mn_id],1-fpr[mx_mn_id]))\n",
    "bal_acc_tr, sens_tr, spec_tr=ief.perf_msrs(targ_labels_tr, class_hat_tr>=thresh[mx_mn_id])\n",
    "print('Balanced Accuracy (sens/spec)=%.3f (%f/%f)' % (bal_acc_tr,sens_tr,spec_tr))\n",
    "# J=sens+spec-1"
   ]
  },
  {
   "cell_type": "code",
   "execution_count": null,
   "metadata": {
    "collapsed": true
   },
   "outputs": [],
   "source": [
    "plt.figure(11)\n",
    "plt.clf()\n",
    "plt.plot(ftrs_tr.T);\n",
    "\n",
    "plt.figure(12)\n",
    "plt.clf()\n",
    "plt.plot(targ_labels_tr,'b-');\n",
    "plt.plot(class_hat_tr,'r.');"
   ]
  },
  {
   "cell_type": "code",
   "execution_count": null,
   "metadata": {
    "collapsed": true
   },
   "outputs": [],
   "source": [
    "# Load Validation Data\n",
    "# Get Training Data\n",
    "#valid_subs=620\n",
    "valid_subs=[264, 1096, 1125]\n",
    "valid_subs=[253]\n",
    "szr_fnames_va, non_fnames_va, n_szr_wind_va, n_non_wind_va, ftr_dim=data_size_and_fnames(valid_subs, ftr_root)\n",
    "ftrs_va, targ_labels_va, sub_id_va=import_data(szr_fnames_va, non_fnames_va, n_szr_wind_va, n_non_wind_va, ftr_dim)"
   ]
  },
  {
   "cell_type": "code",
   "execution_count": null,
   "metadata": {
    "collapsed": true
   },
   "outputs": [],
   "source": [
    "# Evaluate Model on Validation Data\n",
    "class_hat_va = model.predict_proba(ftrs_va.T)[:,1]\n",
    "print('Validation Data Performance')\n",
    "auc_va=roc_auc_score(targ_labels_va, class_hat_va)\n",
    "print('AUC=%.3f' % auc_va)\n",
    "bal_acc_va, sens_va, spec_va=ief.perf_msrs(targ_labels_va, class_hat_va>=0.5)\n",
    "print('Balanced Accuracy (sens/spec)=%.3f (%f/%f)' % (bal_acc_va,sens_va,spec_va))"
   ]
  },
  {
   "cell_type": "code",
   "execution_count": null,
   "metadata": {
    "collapsed": true
   },
   "outputs": [],
   "source": [
    "plt.figure(11)\n",
    "plt.clf()\n",
    "plt.plot(ftrs_va.T);\n",
    "plt.title('Validation Data')\n",
    "\n",
    "plt.figure(12)\n",
    "plt.clf()\n",
    "plt.plot(targ_labels_va,'b-');\n",
    "plt.plot(class_hat_va,'r.');"
   ]
  },
  {
   "cell_type": "code",
   "execution_count": null,
   "metadata": {
    "collapsed": true
   },
   "outputs": [],
   "source": []
  }
 ],
 "metadata": {
  "anaconda-cloud": {},
  "kernelspec": {
   "display_name": "Python [conda root]",
   "language": "python",
   "name": "conda-root-py"
  },
  "language_info": {
   "codemirror_mode": {
    "name": "ipython",
    "version": 3
   },
   "file_extension": ".py",
   "mimetype": "text/x-python",
   "name": "python",
   "nbconvert_exporter": "python",
   "pygments_lexer": "ipython3",
   "version": "3.5.3"
  }
 },
 "nbformat": 4,
 "nbformat_minor": 2
}
