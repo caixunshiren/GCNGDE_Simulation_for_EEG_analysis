{
 "cells": [
  {
   "cell_type": "code",
   "execution_count": 1,
   "metadata": {
    "collapsed": true
   },
   "outputs": [],
   "source": [
    "import numpy as np\n",
    "import matplotlib.pyplot as plt\n",
    "%matplotlib inline"
   ]
  },
  {
   "cell_type": "code",
   "execution_count": 2,
   "metadata": {
    "collapsed": false
   },
   "outputs": [],
   "source": [
    "x1=np.array([3, 5, -6, 2, 4, -1, -4, 1])\n",
    "x2=np.array([1, 1, -4, 5, 1, -5, -1, 4])\n",
    "x3=np.array([-1, 7, -3, 0, 2, 1, -1, -2])\n",
    "\n",
    "y1=np.array([-1, 4, -2, 2, 0, 0, 2, -1])\n",
    "y2=np.array([4, 3, -9, 2, 7, 0, -5, 1])\n",
    "y3=np.array([-1, 9, -4, -1, 2, 4, -1, -5])\n",
    "N=8 # of time points"
   ]
  },
  {
   "cell_type": "code",
   "execution_count": 4,
   "metadata": {
    "collapsed": false
   },
   "outputs": [],
   "source": [
    "fx1=np.fft.rfft(x1)\n",
    "fx2=np.fft.rfft(x2)\n",
    "fx3=np.fft.rfft(x3)\n",
    "\n",
    "Px1x1=np.multiply(fx1,np.conj(fx1))/N\n",
    "Px2x2=np.multiply(fx2,np.conj(fx2))/N\n",
    "Px3x3=np.multiply(fx3,np.conj(fx3))/N\n",
    "MeanPx=(Px1x1+Px2x2+Px3x3)/3"
   ]
  },
  {
   "cell_type": "code",
   "execution_count": 6,
   "metadata": {
    "collapsed": false
   },
   "outputs": [],
   "source": [
    "fy1=np.fft.rfft(y1)\n",
    "fy2=np.fft.rfft(y2)\n",
    "fy3=np.fft.rfft(y3)\n",
    "\n",
    "Py1y1=np.multiply(fy1,np.conj(fy1))/N\n",
    "Py2y2=np.multiply(fy2,np.conj(fy2))/N\n",
    "Py3y3=np.multiply(fy3,np.conj(fy3))/N\n",
    "MeanPy=(Py1y1+Py2y2+Py3y3)/3"
   ]
  },
  {
   "cell_type": "code",
   "execution_count": 7,
   "metadata": {
    "collapsed": true
   },
   "outputs": [],
   "source": [
    "Px1y1=np.multiply(fx1,np.conj(fy1))/N\n",
    "Px2y2=np.multiply(fx2,np.conj(fy2))/N\n",
    "Px3y3=np.multiply(fx3,np.conj(fy3))/N\n",
    "MeanPxy=(Px1y1+Px2y2+Px3y3)/3"
   ]
  },
  {
   "cell_type": "code",
   "execution_count": 8,
   "metadata": {
    "collapsed": false
   },
   "outputs": [
    {
     "name": "stdout",
     "output_type": "stream",
     "text": [
      "[ 0.97464503  0.15358378  0.48205451  0.9472241   0.91512605]\n"
     ]
    }
   ],
   "source": [
    "C=(np.abs(MeanPxy)**2)/(np.multiply(MeanPx,MeanPy))\n",
    "print(np.real(C))"
   ]
  },
  {
   "cell_type": "code",
   "execution_count": 9,
   "metadata": {
    "collapsed": true
   },
   "outputs": [],
   "source": [
    "np.fft.rfft?"
   ]
  },
  {
   "cell_type": "code",
   "execution_count": null,
   "metadata": {
    "collapsed": true
   },
   "outputs": [],
   "source": []
  }
 ],
 "metadata": {
  "anaconda-cloud": {},
  "kernelspec": {
   "display_name": "Python [default]",
   "language": "python",
   "name": "python3"
  },
  "language_info": {
   "codemirror_mode": {
    "name": "ipython",
    "version": 3
   },
   "file_extension": ".py",
   "mimetype": "text/x-python",
   "name": "python",
   "nbconvert_exporter": "python",
   "pygments_lexer": "ipython3",
   "version": "3.5.2"
  }
 },
 "nbformat": 4,
 "nbformat_minor": 1
}
