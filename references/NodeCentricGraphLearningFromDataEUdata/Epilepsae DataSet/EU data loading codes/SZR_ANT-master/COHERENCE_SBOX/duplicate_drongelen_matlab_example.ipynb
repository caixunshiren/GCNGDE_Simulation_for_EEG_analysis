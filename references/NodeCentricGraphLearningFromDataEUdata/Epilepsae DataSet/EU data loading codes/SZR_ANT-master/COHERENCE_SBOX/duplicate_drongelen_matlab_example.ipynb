{
 "cells": [
  {
   "cell_type": "code",
   "execution_count": 1,
   "metadata": {
    "collapsed": true
   },
   "outputs": [],
   "source": [
    "import numpy as np\n",
    "import matplotlib.pyplot as plt\n",
    "%matplotlib inline"
   ]
  },
  {
   "cell_type": "code",
   "execution_count": 19,
   "metadata": {
    "collapsed": false
   },
   "outputs": [],
   "source": [
    "x1=np.array([3, 5, -6, 2, 4, -1, -4, 1])\n",
    "x2=np.array([1, 1, -4, 5, 1, -5, -1, 4])\n",
    "x3=np.array([-1, 7, -3, 0, 2, 1, -1, -2])\n",
    "\n",
    "y1=np.array([-1, 4, -2, 2, 0, 0, 2, -1])\n",
    "y2=np.array([4, 3, -9, 2, 7, 0, -5, 1])\n",
    "y3=np.array([-1, 9, -4, -1, 2, 4, -1, -5])\n",
    "N=8 # of time points"
   ]
  },
  {
   "cell_type": "code",
   "execution_count": 26,
   "metadata": {
    "collapsed": false
   },
   "outputs": [],
   "source": [
    "fx1=np.fft.fft(x1)\n",
    "fx2=np.fft.fft(x2)\n",
    "fx3=np.fft.fft(x3)\n",
    "\n",
    "Px1x1=np.multiply(fx1,np.conj(fx1))/N\n",
    "Px2x2=np.multiply(fx2,np.conj(fx2))/N\n",
    "Px3x3=np.multiply(fx3,np.conj(fx3))/N\n",
    "MeanPx=(Px1x1+Px2x2+Px3x3)/3"
   ]
  },
  {
   "cell_type": "code",
   "execution_count": 34,
   "metadata": {
    "collapsed": false
   },
   "outputs": [
    {
     "name": "stdout",
     "output_type": "stream",
     "text": [
      "[  4.00000000+0.j           2.53553391-2.94974747j  17.00000000-1.j\n",
      "  -4.53553391-6.94974747j -10.00000000+0.j          -4.53553391+6.94974747j\n",
      "  17.00000000+1.j           2.53553391+2.94974747j]\n"
     ]
    }
   ],
   "source": [
    "print(fx1)"
   ]
  },
  {
   "cell_type": "code",
   "execution_count": 27,
   "metadata": {
    "collapsed": false
   },
   "outputs": [],
   "source": [
    "fy1=np.fft.fft(y1)\n",
    "fy2=np.fft.fft(y2)\n",
    "fy3=np.fft.fft(y3)\n",
    "\n",
    "Py1y1=np.multiply(fy1,np.conj(fy1))/N\n",
    "Py2y2=np.multiply(fy2,np.conj(fy2))/N\n",
    "Py3y3=np.multiply(fy3,np.conj(fy3))/N\n",
    "MeanPy=(Py1y1+Py2y2+Py3y3)/3"
   ]
  },
  {
   "cell_type": "code",
   "execution_count": 28,
   "metadata": {
    "collapsed": true
   },
   "outputs": [],
   "source": [
    "Px1y1=np.multiply(fx1,np.conj(fy1))/N\n",
    "Px2y2=np.multiply(fx2,np.conj(fy2))/N\n",
    "Px3y3=np.multiply(fx3,np.conj(fy3))/N\n",
    "MeanPxy=(Px1y1+Px2y2+Px3y3)/3"
   ]
  },
  {
   "cell_type": "code",
   "execution_count": 33,
   "metadata": {
    "collapsed": false
   },
   "outputs": [
    {
     "name": "stdout",
     "output_type": "stream",
     "text": [
      "[ 0.97464503  0.15358378  0.48205451  0.9472241   0.91512605  0.9472241\n",
      "  0.48205451  0.15358378]\n"
     ]
    }
   ],
   "source": [
    "C=(np.abs(MeanPxy)**2)/(np.multiply(MeanPx,MeanPy))\n",
    "print(np.real(C))"
   ]
  },
  {
   "cell_type": "code",
   "execution_count": 25,
   "metadata": {
    "collapsed": false
   },
   "outputs": [
    {
     "name": "stdout",
     "output_type": "stream",
     "text": [
      "[  2.           1.89124279  36.25         8.60875721  12.5          8.60875721\n",
      "  36.25         1.89124279]\n",
      "[  2.           0.12347584   1.25        10.37652416   4.5         10.37652416\n",
      "   1.25         0.12347584]\n",
      "[ 2.00000000+0.j          0.25735931+0.40900974j -1.75000000+6.5j\n",
      "  8.74264069-3.59099026j  7.50000000+0.j          8.74264069+3.59099026j\n",
      " -1.75000000-6.5j         0.25735931-0.40900974j]\n"
     ]
    }
   ],
   "source": []
  },
  {
   "cell_type": "code",
   "execution_count": null,
   "metadata": {
    "collapsed": true
   },
   "outputs": [],
   "source": []
  }
 ],
 "metadata": {
  "anaconda-cloud": {},
  "kernelspec": {
   "display_name": "Python [default]",
   "language": "python",
   "name": "python3"
  },
  "language_info": {
   "codemirror_mode": {
    "name": "ipython",
    "version": 3
   },
   "file_extension": ".py",
   "mimetype": "text/x-python",
   "name": "python",
   "nbconvert_exporter": "python",
   "pygments_lexer": "ipython3",
   "version": "3.5.2"
  }
 },
 "nbformat": 4,
 "nbformat_minor": 1
}
