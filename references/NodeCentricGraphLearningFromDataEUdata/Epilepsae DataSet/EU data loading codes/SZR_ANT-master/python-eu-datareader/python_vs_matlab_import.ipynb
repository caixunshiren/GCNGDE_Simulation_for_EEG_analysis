{
 "cells": [
  {
   "cell_type": "code",
   "execution_count": 1,
   "metadata": {
    "collapsed": true
   },
   "outputs": [],
   "source": [
    "import scipy.io as sio\n",
    "import numpy as np\n",
    "import matplotlib.pyplot as plt\n",
    "%matplotlib inline"
   ]
  },
  {
   "cell_type": "code",
   "execution_count": 2,
   "metadata": {},
   "outputs": [
    {
     "data": {
      "text/plain": [
       "dict_keys(['tpts_sec', 'Fs', '__header__', '__version__', 'ieeg256', 'stop_ts', 'is_szr', 'just_ieeg_fname', 'start_ts', 'szr_type', 'chan_labels', '__globals__'])"
      ]
     },
     "execution_count": 2,
     "metadata": {},
     "output_type": "execute_result"
    }
   ],
   "source": [
    "in_file='/Users/davidgroppe/ONGOING/EU_EEG/FR_1096/109600102_0000.mat'\n",
    "mat_contents = sio.loadmat(in_file)\n",
    "mat_contents.keys()"
   ]
  },
  {
   "cell_type": "code",
   "execution_count": 6,
   "metadata": {
    "collapsed": true
   },
   "outputs": [],
   "source": [
    "py_dat=f_LoadI16File('/Volumes/ValianteLabEuData/EU/inv/pat_FR_1096/adm_1096102/rec_109600102/109600102_0000.data')"
   ]
  },
  {
   "cell_type": "code",
   "execution_count": 13,
   "metadata": {},
   "outputs": [],
   "source": [
    "py_dat32=f_LoadI32File('/Volumes/ValianteLabEuData/EU/inv/pat_FR_1096/adm_1096102/rec_109600102/109600102_0000.data')"
   ]
  },
  {
   "cell_type": "code",
   "execution_count": 14,
   "metadata": {},
   "outputs": [
    {
     "name": "stdout",
     "output_type": "stream",
     "text": [
      "(368640000,)\n",
      "(184320000,)\n"
     ]
    }
   ],
   "source": [
    "print(py_dat.shape)\n",
    "print(py_dat32.shape)"
   ]
  },
  {
   "cell_type": "code",
   "execution_count": 4,
   "metadata": {
    "collapsed": true
   },
   "outputs": [],
   "source": [
    "def f_LoadI16File(pstr_FileName, s_FirstIndex=1, s_LastIndex=-1):\n",
    "    \"\"\"\n",
    "    Loads integer signal from a file where each data value is stored in 2 bytes.\n",
    "\n",
    "    Inputs:\n",
    "        pstr_FileName: name of file\n",
    "        ps_FirstIndex: number of the first sample to read from\n",
    "        ps_LastIndex: number of last sample (default end of file)\n",
    "\n",
    "        Outputs:\n",
    "            v_Data: loaded data\n",
    "    \"\"\"\n",
    "\n",
    "    s_Size = (s_LastIndex - s_FirstIndex) + 1\n",
    "    if s_FirstIndex < 1 or (s_LastIndex > 0 and s_Size < 1):\n",
    "        print('ERROR: Problem in f_LoadI16File')\n",
    "        return\n",
    "\n",
    "    try:\n",
    "        s_File = open(pstr_FileName, 'rb')\n",
    "    except:\n",
    "        raise Exception('ERROR: problem opening data file')\n",
    "\n",
    "    if s_FirstIndex > 1:\n",
    "        s_File.seek(2 * (s_FirstIndex - 1), 1)\n",
    "\n",
    "    if s_LastIndex < 0:\n",
    "        v_Data = np.fromfile(s_File, dtype='int16', count=s_LastIndex)\n",
    "    else:\n",
    "        v_Data = np.fromfile(s_File, dtype='int16', count=s_Size)\n",
    "\n",
    "    s_File.close()\n",
    "\n",
    "    return v_Data"
   ]
  },
  {
   "cell_type": "code",
   "execution_count": 12,
   "metadata": {
    "collapsed": true
   },
   "outputs": [],
   "source": [
    "def f_LoadI32File(pstr_FileName, s_FirstIndex=1, s_LastIndex=-1):\n",
    "    \"\"\"\n",
    "    Same as f_LoadI16 but with 32 bit ints (shouldn't have its own function)\n",
    "    \"\"\"\n",
    "\n",
    "    s_Size = (s_LastIndex - s_FirstIndex) + 1\n",
    "\n",
    "    if s_FirstIndex < 1 or (s_LastIndex > 0 and s_Size < 1):\n",
    "        return\n",
    "\n",
    "    try:\n",
    "        s_File = open(pstr_FileName, 'rb')\n",
    "    except:\n",
    "        print('ERROR: Problem in f_LoadI132ile')\n",
    "        return\n",
    "\n",
    "    if s_FirstIndex > 1:\n",
    "        s_File.seek(4 * (s_FirstIndex - 1), 1)\n",
    "\n",
    "    if s_LastIndex < 0:\n",
    "        v_Data = np.fromfile(s_File, dtype='int32', count=s_LastIndex)\n",
    "    else:\n",
    "        v_Data = np.fromfile(s_File, dtype='int32', count=s_Size)\n",
    "        \n",
    "    s_File.close()\n",
    "\n",
    "    return v_Data"
   ]
  },
  {
   "cell_type": "code",
   "execution_count": null,
   "metadata": {
    "collapsed": true
   },
   "outputs": [],
   "source": []
  }
 ],
 "metadata": {
  "anaconda-cloud": {},
  "kernelspec": {
   "display_name": "Python [conda root]",
   "language": "python",
   "name": "conda-root-py"
  },
  "language_info": {
   "codemirror_mode": {
    "name": "ipython",
    "version": 3
   },
   "file_extension": ".py",
   "mimetype": "text/x-python",
   "name": "python",
   "nbconvert_exporter": "python",
   "pygments_lexer": "ipython3",
   "version": "3.5.3"
  }
 },
 "nbformat": 4,
 "nbformat_minor": 2
}
