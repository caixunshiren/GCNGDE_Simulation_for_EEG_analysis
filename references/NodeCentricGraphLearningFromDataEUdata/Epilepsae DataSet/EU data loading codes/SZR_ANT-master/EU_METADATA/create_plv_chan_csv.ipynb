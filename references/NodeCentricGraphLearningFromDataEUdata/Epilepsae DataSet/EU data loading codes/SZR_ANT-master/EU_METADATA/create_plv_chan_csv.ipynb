{
 "cells": [
  {
   "cell_type": "code",
   "execution_count": 1,
   "metadata": {
    "collapsed": true
   },
   "outputs": [],
   "source": [
    "import pandas as pd\n",
    "import os\n",
    "import ieeg_funcs as ief\n",
    "import pickle\n",
    "import numpy as np"
   ]
  },
  {
   "cell_type": "code",
   "execution_count": 2,
   "metadata": {},
   "outputs": [
    {
     "name": "stdout",
     "output_type": "stream",
     "text": [
      "# of soz chans: 4\n"
     ]
    }
   ],
   "source": [
    "# Import list of SOZ chans\n",
    "sub_id=1096\n",
    "sub_id=1077\n",
    "in_fname='/Users/davidgroppe/PycharmProjects/SZR_ANT/EU_METADATA/SOZ_CHANS/'+str(sub_id)+'_bi_soz_chans.txt'\n",
    "\n",
    "soz_chans=pd.read_csv(in_fname)\n",
    "soz_chans.head()\n",
    "n_soz_chans=soz_chans.shape[0]\n",
    "print('# of soz chans: %d' % n_soz_chans)\n",
    "\n",
    "# Note that bad channels listed as part of soz have already been removed"
   ]
  },
  {
   "cell_type": "code",
   "execution_count": 3,
   "metadata": {},
   "outputs": [
    {
     "data": {
      "text/html": [
       "<div>\n",
       "<style>\n",
       "    .dataframe thead tr:only-child th {\n",
       "        text-align: right;\n",
       "    }\n",
       "\n",
       "    .dataframe thead th {\n",
       "        text-align: left;\n",
       "    }\n",
       "\n",
       "    .dataframe tbody tr th {\n",
       "        vertical-align: top;\n",
       "    }\n",
       "</style>\n",
       "<table border=\"1\" class=\"dataframe\">\n",
       "  <thead>\n",
       "    <tr style=\"text-align: right;\">\n",
       "      <th></th>\n",
       "      <th>electrode_array</th>\n",
       "      <th>name</th>\n",
       "      <th>artifact</th>\n",
       "      <th>supplier</th>\n",
       "      <th>x</th>\n",
       "      <th>y</th>\n",
       "      <th>z</th>\n",
       "    </tr>\n",
       "  </thead>\n",
       "  <tbody>\n",
       "    <tr>\n",
       "      <th>0</th>\n",
       "      <td>AMR5</td>\n",
       "      <td>(AMR5)</td>\n",
       "      <td>DG-deleted</td>\n",
       "      <td>AdTech</td>\n",
       "      <td>55</td>\n",
       "      <td>129</td>\n",
       "      <td>43</td>\n",
       "    </tr>\n",
       "    <tr>\n",
       "      <th>1</th>\n",
       "      <td>AMR7</td>\n",
       "      <td>(AMR7)</td>\n",
       "      <td>DG-deleted</td>\n",
       "      <td>AdTech</td>\n",
       "      <td>48</td>\n",
       "      <td>130</td>\n",
       "      <td>44</td>\n",
       "    </tr>\n",
       "    <tr>\n",
       "      <th>2</th>\n",
       "      <td>AMR8</td>\n",
       "      <td>(AMR8)</td>\n",
       "      <td>DG-deleted</td>\n",
       "      <td>AdTech</td>\n",
       "      <td>45</td>\n",
       "      <td>130</td>\n",
       "      <td>44</td>\n",
       "    </tr>\n",
       "    <tr>\n",
       "      <th>3</th>\n",
       "      <td>AMR10</td>\n",
       "      <td>(AMR10)</td>\n",
       "      <td>DG-deleted</td>\n",
       "      <td>AdTech</td>\n",
       "      <td>37</td>\n",
       "      <td>130</td>\n",
       "      <td>46</td>\n",
       "    </tr>\n",
       "    <tr>\n",
       "      <th>4</th>\n",
       "      <td>AMR11</td>\n",
       "      <td>(AMR11)</td>\n",
       "      <td>DG-deleted</td>\n",
       "      <td>AdTech</td>\n",
       "      <td>34</td>\n",
       "      <td>130</td>\n",
       "      <td>46</td>\n",
       "    </tr>\n",
       "  </tbody>\n",
       "</table>\n",
       "</div>"
      ],
      "text/plain": [
       "  electrode_array     name    artifact supplier   x    y   z\n",
       "0            AMR5   (AMR5)  DG-deleted   AdTech  55  129  43\n",
       "1            AMR7   (AMR7)  DG-deleted   AdTech  48  130  44\n",
       "2            AMR8   (AMR8)  DG-deleted   AdTech  45  130  44\n",
       "3           AMR10  (AMR10)  DG-deleted   AdTech  37  130  46\n",
       "4           AMR11  (AMR11)  DG-deleted   AdTech  34  130  46"
      ]
     },
     "execution_count": 3,
     "metadata": {},
     "output_type": "execute_result"
    }
   ],
   "source": [
    "# Import list of electrode locations\n",
    "xyz_fname='/Users/davidgroppe/PycharmProjects/SZR_ANT/EU_METADATA/ELEC_COORD/elec_coord_'+str(sub_id)+'.csv'\n",
    "xyz_df=pd.read_csv(xyz_fname)\n",
    "xyz_df.head()"
   ]
  },
  {
   "cell_type": "code",
   "execution_count": null,
   "metadata": {
    "collapsed": true
   },
   "outputs": [],
   "source": [
    "if n_soz_chans>=8:\n",
    "    # If more than 8 SOZ chans, find the other 7 closest SOZ chans to each SOZ chan\n",
    "    \n",
    "\n",
    "    pass\n",
    "else:\n",
    "    # If less than 8 SOZ chans, find 8-n other chans that are closest to SOZ chans\n",
    "\n",
    "    # Import list of bad channels\n",
    "\n",
    "    # Then make list of 7 closest other chans for each SOZ chan"
   ]
  },
  {
   "cell_type": "code",
   "execution_count": 5,
   "metadata": {},
   "outputs": [
    {
     "name": "stdout",
     "output_type": "stream",
     "text": [
      "# of channels of interest: 8\n"
     ]
    }
   ],
   "source": [
    "# Load list of channels of interest (I limit this to 8 or the # of SOZ chans)\n",
    "sub_id=1096\n",
    "sub_id=1077\n",
    "in_fname='/Users/davidgroppe/PycharmProjects/SZR_ANT/EU_METADATA/ANALYZE_CHANS/'+str(sub_id)+'_bi_use_chans.txt'\n",
    "\n",
    "coi_df=pd.read_csv(in_fname,header=None) #COI=Channels of Interest\n",
    "coi_df.head()\n",
    "n_coi=coi_df.shape[0]\n",
    "\n",
    "out_fname='/Users/davidgroppe/PycharmProjects/SZR_ANT/EU_METADATA/PLV_CHANS/'+str(sub_id)+'_plv.csv'\n",
    "fid = open(out_fname,'w')\n",
    "\n",
    "fid.write('Seed,')\n",
    "for a in range(1,n_coi-1):\n",
    "    fid.write(' Pair%d,' %a)\n",
    "fid.write(' Pair%d\\n' % (n_coi-1))\n",
    "\n",
    "\n",
    "print('# of channels of interest: %d' % n_coi)\n",
    "# If 8, just make table that indicate that all other channels should be used as PLV channels\n",
    "if n_coi==8:\n",
    "    for a in range(n_coi):\n",
    "        fid.write('%s,' % coi_df.iloc[a,0])\n",
    "        ct=0\n",
    "        for b in range(n_coi):\n",
    "            if a!=b:\n",
    "                ct+=1\n",
    "                fid.write(' %s' % coi_df.iloc[b,0])\n",
    "                if ct<7:\n",
    "                    fid.write(',')\n",
    "        fid.write('\\n')\n",
    "    #TODO output this to file\n",
    "    fid.close()\n",
    "else:\n",
    "    pass\n",
    "    # If more than 8, find the closest 8 other channels and use those as plv channels\n"
   ]
  },
  {
   "cell_type": "code",
   "execution_count": 45,
   "metadata": {
    "collapsed": true
   },
   "outputs": [],
   "source": [
    "pd.read_csv?"
   ]
  },
  {
   "cell_type": "code",
   "execution_count": null,
   "metadata": {
    "collapsed": true
   },
   "outputs": [],
   "source": []
  }
 ],
 "metadata": {
  "anaconda-cloud": {},
  "kernelspec": {
   "display_name": "Python [conda root]",
   "language": "python",
   "name": "conda-root-py"
  },
  "language_info": {
   "codemirror_mode": {
    "name": "ipython",
    "version": 3
   },
   "file_extension": ".py",
   "mimetype": "text/x-python",
   "name": "python",
   "nbconvert_exporter": "python",
   "pygments_lexer": "ipython3",
   "version": "3.5.3"
  }
 },
 "nbformat": 4,
 "nbformat_minor": 2
}
